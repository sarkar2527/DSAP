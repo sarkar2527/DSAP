{
  "nbformat": 4,
  "nbformat_minor": 0,
  "metadata": {
    "colab": {
      "name": "GL_ML_Pregnant_US_KNNIMPUTE.ipynb",
      "provenance": [],
      "collapsed_sections": [],
      "authorship_tag": "ABX9TyP82c9zs9VTazW42lRNiPot",
      "include_colab_link": true
    },
    "kernelspec": {
      "name": "python3",
      "display_name": "Python 3"
    },
    "language_info": {
      "name": "python"
    }
  },
  "cells": [
    {
      "cell_type": "markdown",
      "metadata": {
        "id": "view-in-github",
        "colab_type": "text"
      },
      "source": [
        "<a href=\"https://colab.research.google.com/github/sarkar2527/DSAP/blob/main/GL_ML_Pregnant_US_KNNIMPUTE.ipynb\" target=\"_parent\"><img src=\"https://colab.research.google.com/assets/colab-badge.svg\" alt=\"Open In Colab\"/></a>"
      ]
    },
    {
      "cell_type": "code",
      "execution_count": 241,
      "metadata": {
        "colab": {
          "base_uri": "https://localhost:8080/"
        },
        "id": "TeK9sWRpNVGY",
        "outputId": "9af2e25f-9730-4de3-99ca-b66140f8499e"
      },
      "outputs": [
        {
          "output_type": "stream",
          "name": "stdout",
          "text": [
            "Drive already mounted at /content/drive; to attempt to forcibly remount, call drive.mount(\"/content/drive\", force_remount=True).\n"
          ]
        }
      ],
      "source": [
        "from google.colab import drive\n",
        "drive.mount('/content/drive')"
      ]
    },
    {
      "cell_type": "code",
      "source": [
        "#Importing the neccessary Libraries\n",
        "import numpy as np\n",
        "import pandas as pd\n",
        "import matplotlib.pyplot as plt\n",
        "import seaborn as sns\n",
        "sns.set()\n",
        "%matplotlib inline"
      ],
      "metadata": {
        "id": "0brhnDq_N5NW"
      },
      "execution_count": 242,
      "outputs": []
    },
    {
      "cell_type": "code",
      "source": [
        "# Read the Training Data\n",
        "train_data = pd.read_csv(\"/content/drive/MyDrive/GeekLurn_ML_Session/Proj2_Train.csv\")"
      ],
      "metadata": {
        "id": "vwGXsafBN62e"
      },
      "execution_count": 243,
      "outputs": []
    },
    {
      "cell_type": "code",
      "source": [
        "# Read the test Data\n",
        "test_data = pd.read_csv(\"/content/drive/MyDrive/GeekLurn_ML_Session/Proj2_Test.csv\")"
      ],
      "metadata": {
        "id": "mY1-OxpSOXkx"
      },
      "execution_count": 244,
      "outputs": []
    },
    {
      "cell_type": "code",
      "source": [
        "train_data.shape,test_data.shape"
      ],
      "metadata": {
        "colab": {
          "base_uri": "https://localhost:8080/"
        },
        "id": "u4OOnyWKOHJ2",
        "outputId": "7850dd5a-b3a0-47d6-88ec-56fefb903301"
      },
      "execution_count": 245,
      "outputs": [
        {
          "output_type": "execute_result",
          "data": {
            "text/plain": [
              "((1000, 16), (100, 15))"
            ]
          },
          "metadata": {},
          "execution_count": 245
        }
      ]
    },
    {
      "cell_type": "code",
      "source": [
        "df = pd.concat([train_data,test_data],axis = 0)"
      ],
      "metadata": {
        "id": "TesoMBzfPegx"
      },
      "execution_count": 246,
      "outputs": []
    },
    {
      "cell_type": "code",
      "source": [
        "df.shape"
      ],
      "metadata": {
        "colab": {
          "base_uri": "https://localhost:8080/"
        },
        "id": "migRxpJ7OSLd",
        "outputId": "b48ca994-d975-4ba6-8523-b6f57f894eb1"
      },
      "execution_count": 247,
      "outputs": [
        {
          "output_type": "execute_result",
          "data": {
            "text/plain": [
              "(1100, 16)"
            ]
          },
          "metadata": {},
          "execution_count": 247
        }
      ]
    },
    {
      "cell_type": "code",
      "source": [
        "df.head()"
      ],
      "metadata": {
        "colab": {
          "base_uri": "https://localhost:8080/",
          "height": 287
        },
        "id": "1g7pzvIgICKe",
        "outputId": "b8a2dae5-3222-4083-ec2e-1c4a688d29fd"
      },
      "execution_count": 248,
      "outputs": [
        {
          "output_type": "execute_result",
          "data": {
            "text/plain": [
              "   Sl No Sample ID  Age Ob_Score        BMI  Consistency_Score  \\\n",
              "0      1       DT1   20       G1  28.255713                  2   \n",
              "1      2       DT2   21       G1  29.772191                  2   \n",
              "2      3       DT3   21       G1  28.511248                  2   \n",
              "3      4       DT4   22       G1  28.772695                  2   \n",
              "4      5       DT5   22       G1  27.488918                  2   \n",
              "\n",
              "   Position_Score  Effacement_Score  Dialation_Score  Station_Score  \\\n",
              "0               0                 0                1              0   \n",
              "1               0                 1                1              0   \n",
              "2               0                 1                1              0   \n",
              "3               0                 1                1              0   \n",
              "4               0                 0                1              0   \n",
              "\n",
              "   Total_Bishop_Score  Cerv_Len_cms  Cerv_Wid_cms  Induction  Del_mode  \\\n",
              "0                   3           NaN           NaN          1         1   \n",
              "1                   4           NaN           NaN          1         1   \n",
              "2                   4           NaN           NaN          1         1   \n",
              "3                   4           NaN           NaN          1         1   \n",
              "4                   3           NaN           NaN          1         1   \n",
              "\n",
              "   Unnamed: 15  \n",
              "0          NaN  \n",
              "1          NaN  \n",
              "2          NaN  \n",
              "3          NaN  \n",
              "4          NaN  "
            ],
            "text/html": [
              "\n",
              "  <div id=\"df-3d63979f-5b45-4cb0-ae4d-321760ccc5e8\">\n",
              "    <div class=\"colab-df-container\">\n",
              "      <div>\n",
              "<style scoped>\n",
              "    .dataframe tbody tr th:only-of-type {\n",
              "        vertical-align: middle;\n",
              "    }\n",
              "\n",
              "    .dataframe tbody tr th {\n",
              "        vertical-align: top;\n",
              "    }\n",
              "\n",
              "    .dataframe thead th {\n",
              "        text-align: right;\n",
              "    }\n",
              "</style>\n",
              "<table border=\"1\" class=\"dataframe\">\n",
              "  <thead>\n",
              "    <tr style=\"text-align: right;\">\n",
              "      <th></th>\n",
              "      <th>Sl No</th>\n",
              "      <th>Sample ID</th>\n",
              "      <th>Age</th>\n",
              "      <th>Ob_Score</th>\n",
              "      <th>BMI</th>\n",
              "      <th>Consistency_Score</th>\n",
              "      <th>Position_Score</th>\n",
              "      <th>Effacement_Score</th>\n",
              "      <th>Dialation_Score</th>\n",
              "      <th>Station_Score</th>\n",
              "      <th>Total_Bishop_Score</th>\n",
              "      <th>Cerv_Len_cms</th>\n",
              "      <th>Cerv_Wid_cms</th>\n",
              "      <th>Induction</th>\n",
              "      <th>Del_mode</th>\n",
              "      <th>Unnamed: 15</th>\n",
              "    </tr>\n",
              "  </thead>\n",
              "  <tbody>\n",
              "    <tr>\n",
              "      <th>0</th>\n",
              "      <td>1</td>\n",
              "      <td>DT1</td>\n",
              "      <td>20</td>\n",
              "      <td>G1</td>\n",
              "      <td>28.255713</td>\n",
              "      <td>2</td>\n",
              "      <td>0</td>\n",
              "      <td>0</td>\n",
              "      <td>1</td>\n",
              "      <td>0</td>\n",
              "      <td>3</td>\n",
              "      <td>NaN</td>\n",
              "      <td>NaN</td>\n",
              "      <td>1</td>\n",
              "      <td>1</td>\n",
              "      <td>NaN</td>\n",
              "    </tr>\n",
              "    <tr>\n",
              "      <th>1</th>\n",
              "      <td>2</td>\n",
              "      <td>DT2</td>\n",
              "      <td>21</td>\n",
              "      <td>G1</td>\n",
              "      <td>29.772191</td>\n",
              "      <td>2</td>\n",
              "      <td>0</td>\n",
              "      <td>1</td>\n",
              "      <td>1</td>\n",
              "      <td>0</td>\n",
              "      <td>4</td>\n",
              "      <td>NaN</td>\n",
              "      <td>NaN</td>\n",
              "      <td>1</td>\n",
              "      <td>1</td>\n",
              "      <td>NaN</td>\n",
              "    </tr>\n",
              "    <tr>\n",
              "      <th>2</th>\n",
              "      <td>3</td>\n",
              "      <td>DT3</td>\n",
              "      <td>21</td>\n",
              "      <td>G1</td>\n",
              "      <td>28.511248</td>\n",
              "      <td>2</td>\n",
              "      <td>0</td>\n",
              "      <td>1</td>\n",
              "      <td>1</td>\n",
              "      <td>0</td>\n",
              "      <td>4</td>\n",
              "      <td>NaN</td>\n",
              "      <td>NaN</td>\n",
              "      <td>1</td>\n",
              "      <td>1</td>\n",
              "      <td>NaN</td>\n",
              "    </tr>\n",
              "    <tr>\n",
              "      <th>3</th>\n",
              "      <td>4</td>\n",
              "      <td>DT4</td>\n",
              "      <td>22</td>\n",
              "      <td>G1</td>\n",
              "      <td>28.772695</td>\n",
              "      <td>2</td>\n",
              "      <td>0</td>\n",
              "      <td>1</td>\n",
              "      <td>1</td>\n",
              "      <td>0</td>\n",
              "      <td>4</td>\n",
              "      <td>NaN</td>\n",
              "      <td>NaN</td>\n",
              "      <td>1</td>\n",
              "      <td>1</td>\n",
              "      <td>NaN</td>\n",
              "    </tr>\n",
              "    <tr>\n",
              "      <th>4</th>\n",
              "      <td>5</td>\n",
              "      <td>DT5</td>\n",
              "      <td>22</td>\n",
              "      <td>G1</td>\n",
              "      <td>27.488918</td>\n",
              "      <td>2</td>\n",
              "      <td>0</td>\n",
              "      <td>0</td>\n",
              "      <td>1</td>\n",
              "      <td>0</td>\n",
              "      <td>3</td>\n",
              "      <td>NaN</td>\n",
              "      <td>NaN</td>\n",
              "      <td>1</td>\n",
              "      <td>1</td>\n",
              "      <td>NaN</td>\n",
              "    </tr>\n",
              "  </tbody>\n",
              "</table>\n",
              "</div>\n",
              "      <button class=\"colab-df-convert\" onclick=\"convertToInteractive('df-3d63979f-5b45-4cb0-ae4d-321760ccc5e8')\"\n",
              "              title=\"Convert this dataframe to an interactive table.\"\n",
              "              style=\"display:none;\">\n",
              "        \n",
              "  <svg xmlns=\"http://www.w3.org/2000/svg\" height=\"24px\"viewBox=\"0 0 24 24\"\n",
              "       width=\"24px\">\n",
              "    <path d=\"M0 0h24v24H0V0z\" fill=\"none\"/>\n",
              "    <path d=\"M18.56 5.44l.94 2.06.94-2.06 2.06-.94-2.06-.94-.94-2.06-.94 2.06-2.06.94zm-11 1L8.5 8.5l.94-2.06 2.06-.94-2.06-.94L8.5 2.5l-.94 2.06-2.06.94zm10 10l.94 2.06.94-2.06 2.06-.94-2.06-.94-.94-2.06-.94 2.06-2.06.94z\"/><path d=\"M17.41 7.96l-1.37-1.37c-.4-.4-.92-.59-1.43-.59-.52 0-1.04.2-1.43.59L10.3 9.45l-7.72 7.72c-.78.78-.78 2.05 0 2.83L4 21.41c.39.39.9.59 1.41.59.51 0 1.02-.2 1.41-.59l7.78-7.78 2.81-2.81c.8-.78.8-2.07 0-2.86zM5.41 20L4 18.59l7.72-7.72 1.47 1.35L5.41 20z\"/>\n",
              "  </svg>\n",
              "      </button>\n",
              "      \n",
              "  <style>\n",
              "    .colab-df-container {\n",
              "      display:flex;\n",
              "      flex-wrap:wrap;\n",
              "      gap: 12px;\n",
              "    }\n",
              "\n",
              "    .colab-df-convert {\n",
              "      background-color: #E8F0FE;\n",
              "      border: none;\n",
              "      border-radius: 50%;\n",
              "      cursor: pointer;\n",
              "      display: none;\n",
              "      fill: #1967D2;\n",
              "      height: 32px;\n",
              "      padding: 0 0 0 0;\n",
              "      width: 32px;\n",
              "    }\n",
              "\n",
              "    .colab-df-convert:hover {\n",
              "      background-color: #E2EBFA;\n",
              "      box-shadow: 0px 1px 2px rgba(60, 64, 67, 0.3), 0px 1px 3px 1px rgba(60, 64, 67, 0.15);\n",
              "      fill: #174EA6;\n",
              "    }\n",
              "\n",
              "    [theme=dark] .colab-df-convert {\n",
              "      background-color: #3B4455;\n",
              "      fill: #D2E3FC;\n",
              "    }\n",
              "\n",
              "    [theme=dark] .colab-df-convert:hover {\n",
              "      background-color: #434B5C;\n",
              "      box-shadow: 0px 1px 3px 1px rgba(0, 0, 0, 0.15);\n",
              "      filter: drop-shadow(0px 1px 2px rgba(0, 0, 0, 0.3));\n",
              "      fill: #FFFFFF;\n",
              "    }\n",
              "  </style>\n",
              "\n",
              "      <script>\n",
              "        const buttonEl =\n",
              "          document.querySelector('#df-3d63979f-5b45-4cb0-ae4d-321760ccc5e8 button.colab-df-convert');\n",
              "        buttonEl.style.display =\n",
              "          google.colab.kernel.accessAllowed ? 'block' : 'none';\n",
              "\n",
              "        async function convertToInteractive(key) {\n",
              "          const element = document.querySelector('#df-3d63979f-5b45-4cb0-ae4d-321760ccc5e8');\n",
              "          const dataTable =\n",
              "            await google.colab.kernel.invokeFunction('convertToInteractive',\n",
              "                                                     [key], {});\n",
              "          if (!dataTable) return;\n",
              "\n",
              "          const docLinkHtml = 'Like what you see? Visit the ' +\n",
              "            '<a target=\"_blank\" href=https://colab.research.google.com/notebooks/data_table.ipynb>data table notebook</a>'\n",
              "            + ' to learn more about interactive tables.';\n",
              "          element.innerHTML = '';\n",
              "          dataTable['output_type'] = 'display_data';\n",
              "          await google.colab.output.renderOutput(dataTable, element);\n",
              "          const docLink = document.createElement('div');\n",
              "          docLink.innerHTML = docLinkHtml;\n",
              "          element.appendChild(docLink);\n",
              "        }\n",
              "      </script>\n",
              "    </div>\n",
              "  </div>\n",
              "  "
            ]
          },
          "metadata": {},
          "execution_count": 248
        }
      ]
    },
    {
      "cell_type": "code",
      "source": [
        "df.isnull().sum()"
      ],
      "metadata": {
        "colab": {
          "base_uri": "https://localhost:8080/"
        },
        "id": "2OGqd4S1O13D",
        "outputId": "223ccc8f-e67d-4f01-c2c5-76cd141ad77c"
      },
      "execution_count": 249,
      "outputs": [
        {
          "output_type": "execute_result",
          "data": {
            "text/plain": [
              "Sl No                    0\n",
              "Sample ID                0\n",
              "Age                      0\n",
              "Ob_Score                 0\n",
              "BMI                      0\n",
              "Consistency_Score        0\n",
              "Position_Score           0\n",
              "Effacement_Score         0\n",
              "Dialation_Score          0\n",
              "Station_Score            0\n",
              "Total_Bishop_Score       0\n",
              "Cerv_Len_cms           660\n",
              "Cerv_Wid_cms           660\n",
              "Induction                0\n",
              "Del_mode                 0\n",
              "Unnamed: 15           1100\n",
              "dtype: int64"
            ]
          },
          "metadata": {},
          "execution_count": 249
        }
      ]
    },
    {
      "cell_type": "code",
      "source": [
        "#Removing Unnecessary Features\n",
        "df.drop(['Sl No','Sample ID','Unnamed: 15','Consistency_Score'], axis = 1, inplace = True)"
      ],
      "metadata": {
        "id": "GgNwhrhaQWvL"
      },
      "execution_count": 250,
      "outputs": []
    },
    {
      "cell_type": "code",
      "source": [
        "df.head()"
      ],
      "metadata": {
        "colab": {
          "base_uri": "https://localhost:8080/",
          "height": 270
        },
        "id": "qYTIWys4QD9w",
        "outputId": "01e6f565-c6d7-4c01-a11a-b38aa7a4de51"
      },
      "execution_count": 251,
      "outputs": [
        {
          "output_type": "execute_result",
          "data": {
            "text/plain": [
              "   Age Ob_Score        BMI  Position_Score  Effacement_Score  Dialation_Score  \\\n",
              "0   20       G1  28.255713               0                 0                1   \n",
              "1   21       G1  29.772191               0                 1                1   \n",
              "2   21       G1  28.511248               0                 1                1   \n",
              "3   22       G1  28.772695               0                 1                1   \n",
              "4   22       G1  27.488918               0                 0                1   \n",
              "\n",
              "   Station_Score  Total_Bishop_Score  Cerv_Len_cms  Cerv_Wid_cms  Induction  \\\n",
              "0              0                   3           NaN           NaN          1   \n",
              "1              0                   4           NaN           NaN          1   \n",
              "2              0                   4           NaN           NaN          1   \n",
              "3              0                   4           NaN           NaN          1   \n",
              "4              0                   3           NaN           NaN          1   \n",
              "\n",
              "   Del_mode  \n",
              "0         1  \n",
              "1         1  \n",
              "2         1  \n",
              "3         1  \n",
              "4         1  "
            ],
            "text/html": [
              "\n",
              "  <div id=\"df-fa92c1b7-4b4a-4b49-8fa4-08c00af4937d\">\n",
              "    <div class=\"colab-df-container\">\n",
              "      <div>\n",
              "<style scoped>\n",
              "    .dataframe tbody tr th:only-of-type {\n",
              "        vertical-align: middle;\n",
              "    }\n",
              "\n",
              "    .dataframe tbody tr th {\n",
              "        vertical-align: top;\n",
              "    }\n",
              "\n",
              "    .dataframe thead th {\n",
              "        text-align: right;\n",
              "    }\n",
              "</style>\n",
              "<table border=\"1\" class=\"dataframe\">\n",
              "  <thead>\n",
              "    <tr style=\"text-align: right;\">\n",
              "      <th></th>\n",
              "      <th>Age</th>\n",
              "      <th>Ob_Score</th>\n",
              "      <th>BMI</th>\n",
              "      <th>Position_Score</th>\n",
              "      <th>Effacement_Score</th>\n",
              "      <th>Dialation_Score</th>\n",
              "      <th>Station_Score</th>\n",
              "      <th>Total_Bishop_Score</th>\n",
              "      <th>Cerv_Len_cms</th>\n",
              "      <th>Cerv_Wid_cms</th>\n",
              "      <th>Induction</th>\n",
              "      <th>Del_mode</th>\n",
              "    </tr>\n",
              "  </thead>\n",
              "  <tbody>\n",
              "    <tr>\n",
              "      <th>0</th>\n",
              "      <td>20</td>\n",
              "      <td>G1</td>\n",
              "      <td>28.255713</td>\n",
              "      <td>0</td>\n",
              "      <td>0</td>\n",
              "      <td>1</td>\n",
              "      <td>0</td>\n",
              "      <td>3</td>\n",
              "      <td>NaN</td>\n",
              "      <td>NaN</td>\n",
              "      <td>1</td>\n",
              "      <td>1</td>\n",
              "    </tr>\n",
              "    <tr>\n",
              "      <th>1</th>\n",
              "      <td>21</td>\n",
              "      <td>G1</td>\n",
              "      <td>29.772191</td>\n",
              "      <td>0</td>\n",
              "      <td>1</td>\n",
              "      <td>1</td>\n",
              "      <td>0</td>\n",
              "      <td>4</td>\n",
              "      <td>NaN</td>\n",
              "      <td>NaN</td>\n",
              "      <td>1</td>\n",
              "      <td>1</td>\n",
              "    </tr>\n",
              "    <tr>\n",
              "      <th>2</th>\n",
              "      <td>21</td>\n",
              "      <td>G1</td>\n",
              "      <td>28.511248</td>\n",
              "      <td>0</td>\n",
              "      <td>1</td>\n",
              "      <td>1</td>\n",
              "      <td>0</td>\n",
              "      <td>4</td>\n",
              "      <td>NaN</td>\n",
              "      <td>NaN</td>\n",
              "      <td>1</td>\n",
              "      <td>1</td>\n",
              "    </tr>\n",
              "    <tr>\n",
              "      <th>3</th>\n",
              "      <td>22</td>\n",
              "      <td>G1</td>\n",
              "      <td>28.772695</td>\n",
              "      <td>0</td>\n",
              "      <td>1</td>\n",
              "      <td>1</td>\n",
              "      <td>0</td>\n",
              "      <td>4</td>\n",
              "      <td>NaN</td>\n",
              "      <td>NaN</td>\n",
              "      <td>1</td>\n",
              "      <td>1</td>\n",
              "    </tr>\n",
              "    <tr>\n",
              "      <th>4</th>\n",
              "      <td>22</td>\n",
              "      <td>G1</td>\n",
              "      <td>27.488918</td>\n",
              "      <td>0</td>\n",
              "      <td>0</td>\n",
              "      <td>1</td>\n",
              "      <td>0</td>\n",
              "      <td>3</td>\n",
              "      <td>NaN</td>\n",
              "      <td>NaN</td>\n",
              "      <td>1</td>\n",
              "      <td>1</td>\n",
              "    </tr>\n",
              "  </tbody>\n",
              "</table>\n",
              "</div>\n",
              "      <button class=\"colab-df-convert\" onclick=\"convertToInteractive('df-fa92c1b7-4b4a-4b49-8fa4-08c00af4937d')\"\n",
              "              title=\"Convert this dataframe to an interactive table.\"\n",
              "              style=\"display:none;\">\n",
              "        \n",
              "  <svg xmlns=\"http://www.w3.org/2000/svg\" height=\"24px\"viewBox=\"0 0 24 24\"\n",
              "       width=\"24px\">\n",
              "    <path d=\"M0 0h24v24H0V0z\" fill=\"none\"/>\n",
              "    <path d=\"M18.56 5.44l.94 2.06.94-2.06 2.06-.94-2.06-.94-.94-2.06-.94 2.06-2.06.94zm-11 1L8.5 8.5l.94-2.06 2.06-.94-2.06-.94L8.5 2.5l-.94 2.06-2.06.94zm10 10l.94 2.06.94-2.06 2.06-.94-2.06-.94-.94-2.06-.94 2.06-2.06.94z\"/><path d=\"M17.41 7.96l-1.37-1.37c-.4-.4-.92-.59-1.43-.59-.52 0-1.04.2-1.43.59L10.3 9.45l-7.72 7.72c-.78.78-.78 2.05 0 2.83L4 21.41c.39.39.9.59 1.41.59.51 0 1.02-.2 1.41-.59l7.78-7.78 2.81-2.81c.8-.78.8-2.07 0-2.86zM5.41 20L4 18.59l7.72-7.72 1.47 1.35L5.41 20z\"/>\n",
              "  </svg>\n",
              "      </button>\n",
              "      \n",
              "  <style>\n",
              "    .colab-df-container {\n",
              "      display:flex;\n",
              "      flex-wrap:wrap;\n",
              "      gap: 12px;\n",
              "    }\n",
              "\n",
              "    .colab-df-convert {\n",
              "      background-color: #E8F0FE;\n",
              "      border: none;\n",
              "      border-radius: 50%;\n",
              "      cursor: pointer;\n",
              "      display: none;\n",
              "      fill: #1967D2;\n",
              "      height: 32px;\n",
              "      padding: 0 0 0 0;\n",
              "      width: 32px;\n",
              "    }\n",
              "\n",
              "    .colab-df-convert:hover {\n",
              "      background-color: #E2EBFA;\n",
              "      box-shadow: 0px 1px 2px rgba(60, 64, 67, 0.3), 0px 1px 3px 1px rgba(60, 64, 67, 0.15);\n",
              "      fill: #174EA6;\n",
              "    }\n",
              "\n",
              "    [theme=dark] .colab-df-convert {\n",
              "      background-color: #3B4455;\n",
              "      fill: #D2E3FC;\n",
              "    }\n",
              "\n",
              "    [theme=dark] .colab-df-convert:hover {\n",
              "      background-color: #434B5C;\n",
              "      box-shadow: 0px 1px 3px 1px rgba(0, 0, 0, 0.15);\n",
              "      filter: drop-shadow(0px 1px 2px rgba(0, 0, 0, 0.3));\n",
              "      fill: #FFFFFF;\n",
              "    }\n",
              "  </style>\n",
              "\n",
              "      <script>\n",
              "        const buttonEl =\n",
              "          document.querySelector('#df-fa92c1b7-4b4a-4b49-8fa4-08c00af4937d button.colab-df-convert');\n",
              "        buttonEl.style.display =\n",
              "          google.colab.kernel.accessAllowed ? 'block' : 'none';\n",
              "\n",
              "        async function convertToInteractive(key) {\n",
              "          const element = document.querySelector('#df-fa92c1b7-4b4a-4b49-8fa4-08c00af4937d');\n",
              "          const dataTable =\n",
              "            await google.colab.kernel.invokeFunction('convertToInteractive',\n",
              "                                                     [key], {});\n",
              "          if (!dataTable) return;\n",
              "\n",
              "          const docLinkHtml = 'Like what you see? Visit the ' +\n",
              "            '<a target=\"_blank\" href=https://colab.research.google.com/notebooks/data_table.ipynb>data table notebook</a>'\n",
              "            + ' to learn more about interactive tables.';\n",
              "          element.innerHTML = '';\n",
              "          dataTable['output_type'] = 'display_data';\n",
              "          await google.colab.output.renderOutput(dataTable, element);\n",
              "          const docLink = document.createElement('div');\n",
              "          docLink.innerHTML = docLinkHtml;\n",
              "          element.appendChild(docLink);\n",
              "        }\n",
              "      </script>\n",
              "    </div>\n",
              "  </div>\n",
              "  "
            ]
          },
          "metadata": {},
          "execution_count": 251
        }
      ]
    },
    {
      "cell_type": "code",
      "source": [
        "df.isnull().sum()"
      ],
      "metadata": {
        "colab": {
          "base_uri": "https://localhost:8080/"
        },
        "id": "yq8Z5nvmRaKI",
        "outputId": "9da0243d-f318-4d01-b8c6-f283d38c7829"
      },
      "execution_count": 252,
      "outputs": [
        {
          "output_type": "execute_result",
          "data": {
            "text/plain": [
              "Age                     0\n",
              "Ob_Score                0\n",
              "BMI                     0\n",
              "Position_Score          0\n",
              "Effacement_Score        0\n",
              "Dialation_Score         0\n",
              "Station_Score           0\n",
              "Total_Bishop_Score      0\n",
              "Cerv_Len_cms          660\n",
              "Cerv_Wid_cms          660\n",
              "Induction               0\n",
              "Del_mode                0\n",
              "dtype: int64"
            ]
          },
          "metadata": {},
          "execution_count": 252
        }
      ]
    },
    {
      "cell_type": "code",
      "source": [
        "# Finds correlation between Independent and dependent attributes\n",
        "plt.figure(figsize = (18,18))\n",
        "sns.heatmap(df.corr(), annot = True, cmap = \"RdYlGn\")\n",
        "plt.show()"
      ],
      "metadata": {
        "colab": {
          "base_uri": "https://localhost:8080/",
          "height": 909
        },
        "id": "fxG8T0eJXCUZ",
        "outputId": "6ceee1ca-53fc-470f-8ce6-70bad3568d13"
      },
      "execution_count": 253,
      "outputs": [
        {
          "output_type": "display_data",
          "data": {
            "text/plain": [
              "<Figure size 1296x1296 with 2 Axes>"
            ],
            "image/png": "[encoded data removed]"
          },
          "metadata": {
            "needs_background": "light"
          }
        }
      ]
    },
    {
      "cell_type": "code",
      "source": [
        "#median=df.Cerv_Len_cms.median()\n",
        "#print(median)\n",
        "\n",
        "#median=df.Cerv_Wid_cms.median()\n",
        "#print(median)"
      ],
      "metadata": {
        "id": "dgCJAzm97l06"
      },
      "execution_count": 254,
      "outputs": []
    },
    {
      "cell_type": "code",
      "source": [
        "#df['Cerv_Len_cms_median']=df['Cerv_Len_cms'].fillna(median)\n",
        "#df['Cerv_Wid_cms_median']=df['Cerv_Wid_cms'].fillna(median)"
      ],
      "metadata": {
        "id": "-uwgAd4qQzaJ"
      },
      "execution_count": 255,
      "outputs": []
    },
    {
      "cell_type": "code",
      "source": [
        "#fig = plt.figure()\n",
        "#ax = fig.add_subplot(111)\n",
        "#df['Cerv_Len_cms'].plot(kind='kde', ax=ax, color = 'blue')\n",
        "#df.Cerv_Len_cms_median.plot(kind='kde', ax=ax, color='red')\n",
        "#lines, labels = ax.get_legend_handles_labels()\n",
        "#ax.legend(lines, labels, loc='best')"
      ],
      "metadata": {
        "id": "w2-IHjxuVjzC"
      },
      "execution_count": 256,
      "outputs": []
    },
    {
      "cell_type": "code",
      "source": [
        "df.isnull().sum()"
      ],
      "metadata": {
        "colab": {
          "base_uri": "https://localhost:8080/"
        },
        "id": "v7mOal2GZmj3",
        "outputId": "668ee2f6-7297-4611-9fc8-8792f1ab058e"
      },
      "execution_count": 257,
      "outputs": [
        {
          "output_type": "execute_result",
          "data": {
            "text/plain": [
              "Age                     0\n",
              "Ob_Score                0\n",
              "BMI                     0\n",
              "Position_Score          0\n",
              "Effacement_Score        0\n",
              "Dialation_Score         0\n",
              "Station_Score           0\n",
              "Total_Bishop_Score      0\n",
              "Cerv_Len_cms          660\n",
              "Cerv_Wid_cms          660\n",
              "Induction               0\n",
              "Del_mode                0\n",
              "dtype: int64"
            ]
          },
          "metadata": {},
          "execution_count": 257
        }
      ]
    },
    {
      "cell_type": "code",
      "source": [
        "df.info()"
      ],
      "metadata": {
        "colab": {
          "base_uri": "https://localhost:8080/"
        },
        "id": "_ihdFEIbbW2Y",
        "outputId": "56e765c2-0904-4d18-a00a-b75486d12de7"
      },
      "execution_count": 258,
      "outputs": [
        {
          "output_type": "stream",
          "name": "stdout",
          "text": [
            "<class 'pandas.core.frame.DataFrame'>\n",
            "Int64Index: 1100 entries, 0 to 99\n",
            "Data columns (total 12 columns):\n",
            " #   Column              Non-Null Count  Dtype  \n",
            "---  ------              --------------  -----  \n",
            " 0   Age                 1100 non-null   int64  \n",
            " 1   Ob_Score            1100 non-null   object \n",
            " 2   BMI                 1100 non-null   float64\n",
            " 3   Position_Score      1100 non-null   int64  \n",
            " 4   Effacement_Score    1100 non-null   int64  \n",
            " 5   Dialation_Score     1100 non-null   int64  \n",
            " 6   Station_Score       1100 non-null   int64  \n",
            " 7   Total_Bishop_Score  1100 non-null   int64  \n",
            " 8   Cerv_Len_cms        440 non-null    float64\n",
            " 9   Cerv_Wid_cms        440 non-null    float64\n",
            " 10  Induction           1100 non-null   int64  \n",
            " 11  Del_mode            1100 non-null   int64  \n",
            "dtypes: float64(3), int64(8), object(1)\n",
            "memory usage: 111.7+ KB\n"
          ]
        }
      ]
    },
    {
      "cell_type": "code",
      "source": [
        "from sklearn.preprocessing import LabelEncoder\n",
        "le = LabelEncoder()\n",
        "df['Ob_Score'] = le.fit_transform(df['Ob_Score'])"
      ],
      "metadata": {
        "id": "Xsl5CW7sbcQ-"
      },
      "execution_count": 259,
      "outputs": []
    },
    {
      "cell_type": "code",
      "source": [
        "df['Ob_Score'].value_counts()"
      ],
      "metadata": {
        "colab": {
          "base_uri": "https://localhost:8080/"
        },
        "id": "SexKcN44cFTg",
        "outputId": "f45b594a-64b1-4d0e-8956-221f76ac50f8"
      },
      "execution_count": 260,
      "outputs": [
        {
          "output_type": "execute_result",
          "data": {
            "text/plain": [
              "0    1034\n",
              "1      44\n",
              "2      22\n",
              "Name: Ob_Score, dtype: int64"
            ]
          },
          "metadata": {},
          "execution_count": 260
        }
      ]
    },
    {
      "cell_type": "code",
      "source": [
        "from sklearn.impute import KNNImputer\n",
        "imputer = KNNImputer(n_neighbors=5)\n",
        "df = pd.DataFrame(imputer.fit_transform(df),columns = df.columns)"
      ],
      "metadata": {
        "id": "9oi5u5C1cSiB"
      },
      "execution_count": 261,
      "outputs": []
    },
    {
      "cell_type": "code",
      "source": [
        "df.isnull().sum()"
      ],
      "metadata": {
        "colab": {
          "base_uri": "https://localhost:8080/"
        },
        "id": "uXO7edWwccdb",
        "outputId": "ceed3c81-cd3f-466f-f692-583aa0df6a26"
      },
      "execution_count": 262,
      "outputs": [
        {
          "output_type": "execute_result",
          "data": {
            "text/plain": [
              "Age                   0\n",
              "Ob_Score              0\n",
              "BMI                   0\n",
              "Position_Score        0\n",
              "Effacement_Score      0\n",
              "Dialation_Score       0\n",
              "Station_Score         0\n",
              "Total_Bishop_Score    0\n",
              "Cerv_Len_cms          0\n",
              "Cerv_Wid_cms          0\n",
              "Induction             0\n",
              "Del_mode              0\n",
              "dtype: int64"
            ]
          },
          "metadata": {},
          "execution_count": 262
        }
      ]
    },
    {
      "cell_type": "code",
      "source": [
        "fig = plt.figure()\n",
        "ax = fig.add_subplot(111)\n",
        "df['Cerv_Wid_cms'].plot(kind='kde', ax=ax, color = 'blue')\n",
        "df['Cerv_Len_cms'].plot(kind='kde', ax=ax, color = 'red')\n",
        "lines, labels = ax.get_legend_handles_labels()\n",
        "ax.legend(lines, labels, loc='best')"
      ],
      "metadata": {
        "colab": {
          "base_uri": "https://localhost:8080/",
          "height": 285
        },
        "id": "FJn-e6EXdcaA",
        "outputId": "15820b4a-67bf-4d8c-f03a-42de95723ec5"
      },
      "execution_count": 263,
      "outputs": [
        {
          "output_type": "execute_result",
          "data": {
            "text/plain": [
              "<matplotlib.legend.Legend at 0x7f68a82ae590>"
            ]
          },
          "metadata": {},
          "execution_count": 263
        },
        {
          "output_type": "display_data",
          "data": {
            "text/plain": [
              "<Figure size 432x288 with 1 Axes>"
            ],
            "image/png": "[encoded data removed]"
          },
          "metadata": {
            "needs_background": "light"
          }
        }
      ]
    },
    {
      "cell_type": "code",
      "source": [
        "sns.countplot(df['Del_mode'])"
      ],
      "metadata": {
        "colab": {
          "base_uri": "https://localhost:8080/",
          "height": 357
        },
        "id": "RIb_pquxlNVx",
        "outputId": "e956a276-8cc4-4fe0-d6ae-31dcac46e700"
      },
      "execution_count": 264,
      "outputs": [
        {
          "output_type": "stream",
          "name": "stderr",
          "text": [
            "/usr/local/lib/python3.7/dist-packages/seaborn/_decorators.py:43: FutureWarning: Pass the following variable as a keyword arg: x. From version 0.12, the only valid positional argument will be `data`, and passing other arguments without an explicit keyword will result in an error or misinterpretation.\n",
            "  FutureWarning\n"
          ]
        },
        {
          "output_type": "execute_result",
          "data": {
            "text/plain": [
              "<matplotlib.axes._subplots.AxesSubplot at 0x7f68a72092d0>"
            ]
          },
          "metadata": {},
          "execution_count": 264
        },
        {
          "output_type": "display_data",
          "data": {
            "text/plain": [
              "<Figure size 432x288 with 1 Axes>"
            ],
            "image/png": "[encoded data removed]"
          },
          "metadata": {
            "needs_background": "light"
          }
        }
      ]
    },
    {
      "cell_type": "code",
      "source": [
        "fig = plt.figure(figsize =(16, 10))\n",
        "sns.boxplot(data= df, linewidth=1)\n",
        "plt.xticks(rotation='vertical')\n",
        "plt.show()"
      ],
      "metadata": {
        "colab": {
          "base_uri": "https://localhost:8080/",
          "height": 636
        },
        "id": "hBqOsDzVeVM1",
        "outputId": "d5a17004-61d6-4c57-8fd8-7f90fe3aedc6"
      },
      "execution_count": 265,
      "outputs": [
        {
          "output_type": "display_data",
          "data": {
            "text/plain": [
              "<Figure size 1152x720 with 1 Axes>"
            ],
            "image/png": "[encoded data removed]"
          },
          "metadata": {
            "needs_background": "light"
          }
        }
      ]
    },
    {
      "cell_type": "code",
      "source": [
        "def outliers (df , ft) :\n",
        "    Q1= df[ft].quantile(0.25)\n",
        "    Q3= df[ft].quantile(0.75)\n",
        "    \n",
        "    IQR = Q3-Q1\n",
        "    \n",
        "    lower_bound = Q1 - 1.5*IQR\n",
        "    upper_bound = Q3 + 1.5*IQR\n",
        "    \n",
        "    ls = df.index[(df[ft] < lower_bound )| (df[ft] > upper_bound )]\n",
        "    \n",
        "    return ls"
      ],
      "metadata": {
        "id": "I0GZI5gnezX_"
      },
      "execution_count": 266,
      "outputs": []
    },
    {
      "cell_type": "code",
      "source": [
        "def remove (df, ls ):\n",
        "    ls = sorted(set(ls))\n",
        "    df = df.drop(ls)\n",
        "    \n",
        "    return df"
      ],
      "metadata": {
        "id": "VY_hDPIYe8_G"
      },
      "execution_count": 267,
      "outputs": []
    },
    {
      "cell_type": "code",
      "source": [
        "index_list = []\n",
        "for feature in [\n",
        " 'Age',\n",
        " 'Ob_Score',\n",
        " 'BMI',\n",
        " 'Position_Score',\n",
        " 'Dialation_Score',\n",
        " 'Station_Score',\n",
        " 'Total_Bishop_Score',\n",
        " 'Cerv_Len_cms',\n",
        " 'Cerv_Wid_cms',\n",
        " 'Induction',\n",
        " 'Del_mode']:\n",
        "    index_list.extend(outliers(df , feature))"
      ],
      "metadata": {
        "id": "ZMIkJKR3e_0s"
      },
      "execution_count": 268,
      "outputs": []
    },
    {
      "cell_type": "code",
      "source": [
        "df1 = remove(df,index_list)"
      ],
      "metadata": {
        "id": "5jvebD4sfN5P"
      },
      "execution_count": 269,
      "outputs": []
    },
    {
      "cell_type": "code",
      "source": [
        "df1.shape"
      ],
      "metadata": {
        "colab": {
          "base_uri": "https://localhost:8080/"
        },
        "id": "H6NLDEty168a",
        "outputId": "b6194b7c-5593-4ea0-f636-2e3b6eec39ca"
      },
      "execution_count": 270,
      "outputs": [
        {
          "output_type": "execute_result",
          "data": {
            "text/plain": [
              "(732, 12)"
            ]
          },
          "metadata": {},
          "execution_count": 270
        }
      ]
    },
    {
      "cell_type": "code",
      "source": [
        "sns.countplot(df1['Del_mode'])\n"
      ],
      "metadata": {
        "colab": {
          "base_uri": "https://localhost:8080/",
          "height": 357
        },
        "id": "44BLeNKR5Puh",
        "outputId": "d51e7c92-e1c1-4eac-8722-1ca150bfe8ec"
      },
      "execution_count": 271,
      "outputs": [
        {
          "output_type": "stream",
          "name": "stderr",
          "text": [
            "/usr/local/lib/python3.7/dist-packages/seaborn/_decorators.py:43: FutureWarning: Pass the following variable as a keyword arg: x. From version 0.12, the only valid positional argument will be `data`, and passing other arguments without an explicit keyword will result in an error or misinterpretation.\n",
            "  FutureWarning\n"
          ]
        },
        {
          "output_type": "execute_result",
          "data": {
            "text/plain": [
              "<matplotlib.axes._subplots.AxesSubplot at 0x7f689d90d250>"
            ]
          },
          "metadata": {},
          "execution_count": 271
        },
        {
          "output_type": "display_data",
          "data": {
            "text/plain": [
              "<Figure size 432x288 with 1 Axes>"
            ],
            "image/png": "[encoded data removed]"
          },
          "metadata": {
            "needs_background": "light"
          }
        }
      ]
    },
    {
      "cell_type": "code",
      "source": [
        "fig = plt.figure(figsize =(16, 10))\n",
        "sns.boxplot(data= df1, linewidth=1)\n",
        "plt.xticks(rotation='vertical')\n",
        "plt.show()"
      ],
      "metadata": {
        "colab": {
          "base_uri": "https://localhost:8080/",
          "height": 636
        },
        "id": "2YkK45OKfUjN",
        "outputId": "edd4a490-1525-4532-f172-f957f5ad9943"
      },
      "execution_count": 272,
      "outputs": [
        {
          "output_type": "display_data",
          "data": {
            "text/plain": [
              "<Figure size 1152x720 with 1 Axes>"
            ],
            "image/png": "[encoded data removed]"
          },
          "metadata": {
            "needs_background": "light"
          }
        }
      ]
    },
    {
      "cell_type": "code",
      "source": [
        "df1.describe().T"
      ],
      "metadata": {
        "colab": {
          "base_uri": "https://localhost:8080/",
          "height": 425
        },
        "id": "S24RsPd7fvvI",
        "outputId": "eb7877be-2f1d-4589-d57a-8eb731c0d2a7"
      },
      "execution_count": 273,
      "outputs": [
        {
          "output_type": "execute_result",
          "data": {
            "text/plain": [
              "                    count       mean       std        min        25%  \\\n",
              "Age                 732.0  22.965847  2.206862  18.000000  21.000000   \n",
              "Ob_Score            732.0   0.000000  0.000000   0.000000   0.000000   \n",
              "BMI                 732.0  26.605294  2.350415  21.300000  24.769010   \n",
              "Position_Score      732.0   0.517760  0.500026   0.000000   0.000000   \n",
              "Effacement_Score    732.0   0.383880  0.486662   0.000000   0.000000   \n",
              "Dialation_Score     732.0   0.478142  0.499864   0.000000   0.000000   \n",
              "Station_Score       732.0   0.000000  0.000000   0.000000   0.000000   \n",
              "Total_Bishop_Score  732.0   3.438525  0.954673   2.000000   3.000000   \n",
              "Cerv_Len_cms        732.0   2.466463  0.264258   1.870000   2.257082   \n",
              "Cerv_Wid_cms        732.0   1.525365  0.352153   0.493955   1.285786   \n",
              "Induction           732.0   1.000000  0.000000   1.000000   1.000000   \n",
              "Del_mode            732.0   0.288251  0.453258   0.000000   0.000000   \n",
              "\n",
              "                          50%        75%        max  \n",
              "Age                 23.000000  24.000000  30.000000  \n",
              "Ob_Score             0.000000   0.000000   0.000000  \n",
              "BMI                 26.584167  28.602236  31.415765  \n",
              "Position_Score       1.000000   1.000000   1.000000  \n",
              "Effacement_Score     0.000000   1.000000   1.000000  \n",
              "Dialation_Score      0.000000   1.000000   1.000000  \n",
              "Station_Score        0.000000   0.000000   0.000000  \n",
              "Total_Bishop_Score   3.000000   4.000000   5.000000  \n",
              "Cerv_Len_cms         2.462970   2.620523   3.239984  \n",
              "Cerv_Wid_cms         1.565271   1.717773   2.350850  \n",
              "Induction            1.000000   1.000000   1.000000  \n",
              "Del_mode             0.000000   1.000000   1.000000  "
            ],
            "text/html": [
              "\n",
              "  <div id=\"df-55645d52-378c-4089-82b3-220c88443589\">\n",
              "    <div class=\"colab-df-container\">\n",
              "      <div>\n",
              "<style scoped>\n",
              "    .dataframe tbody tr th:only-of-type {\n",
              "        vertical-align: middle;\n",
              "    }\n",
              "\n",
              "    .dataframe tbody tr th {\n",
              "        vertical-align: top;\n",
              "    }\n",
              "\n",
              "    .dataframe thead th {\n",
              "        text-align: right;\n",
              "    }\n",
              "</style>\n",
              "<table border=\"1\" class=\"dataframe\">\n",
              "  <thead>\n",
              "    <tr style=\"text-align: right;\">\n",
              "      <th></th>\n",
              "      <th>count</th>\n",
              "      <th>mean</th>\n",
              "      <th>std</th>\n",
              "      <th>min</th>\n",
              "      <th>25%</th>\n",
              "      <th>50%</th>\n",
              "      <th>75%</th>\n",
              "      <th>max</th>\n",
              "    </tr>\n",
              "  </thead>\n",
              "  <tbody>\n",
              "    <tr>\n",
              "      <th>Age</th>\n",
              "      <td>732.0</td>\n",
              "      <td>22.965847</td>\n",
              "      <td>2.206862</td>\n",
              "      <td>18.000000</td>\n",
              "      <td>21.000000</td>\n",
              "      <td>23.000000</td>\n",
              "      <td>24.000000</td>\n",
              "      <td>30.000000</td>\n",
              "    </tr>\n",
              "    <tr>\n",
              "      <th>Ob_Score</th>\n",
              "      <td>732.0</td>\n",
              "      <td>0.000000</td>\n",
              "      <td>0.000000</td>\n",
              "      <td>0.000000</td>\n",
              "      <td>0.000000</td>\n",
              "      <td>0.000000</td>\n",
              "      <td>0.000000</td>\n",
              "      <td>0.000000</td>\n",
              "    </tr>\n",
              "    <tr>\n",
              "      <th>BMI</th>\n",
              "      <td>732.0</td>\n",
              "      <td>26.605294</td>\n",
              "      <td>2.350415</td>\n",
              "      <td>21.300000</td>\n",
              "      <td>24.769010</td>\n",
              "      <td>26.584167</td>\n",
              "      <td>28.602236</td>\n",
              "      <td>31.415765</td>\n",
              "    </tr>\n",
              "    <tr>\n",
              "      <th>Position_Score</th>\n",
              "      <td>732.0</td>\n",
              "      <td>0.517760</td>\n",
              "      <td>0.500026</td>\n",
              "      <td>0.000000</td>\n",
              "      <td>0.000000</td>\n",
              "      <td>1.000000</td>\n",
              "      <td>1.000000</td>\n",
              "      <td>1.000000</td>\n",
              "    </tr>\n",
              "    <tr>\n",
              "      <th>Effacement_Score</th>\n",
              "      <td>732.0</td>\n",
              "      <td>0.383880</td>\n",
              "      <td>0.486662</td>\n",
              "      <td>0.000000</td>\n",
              "      <td>0.000000</td>\n",
              "      <td>0.000000</td>\n",
              "      <td>1.000000</td>\n",
              "      <td>1.000000</td>\n",
              "    </tr>\n",
              "    <tr>\n",
              "      <th>Dialation_Score</th>\n",
              "      <td>732.0</td>\n",
              "      <td>0.478142</td>\n",
              "      <td>0.499864</td>\n",
              "      <td>0.000000</td>\n",
              "      <td>0.000000</td>\n",
              "      <td>0.000000</td>\n",
              "      <td>1.000000</td>\n",
              "      <td>1.000000</td>\n",
              "    </tr>\n",
              "    <tr>\n",
              "      <th>Station_Score</th>\n",
              "      <td>732.0</td>\n",
              "      <td>0.000000</td>\n",
              "      <td>0.000000</td>\n",
              "      <td>0.000000</td>\n",
              "      <td>0.000000</td>\n",
              "      <td>0.000000</td>\n",
              "      <td>0.000000</td>\n",
              "      <td>0.000000</td>\n",
              "    </tr>\n",
              "    <tr>\n",
              "      <th>Total_Bishop_Score</th>\n",
              "      <td>732.0</td>\n",
              "      <td>3.438525</td>\n",
              "      <td>0.954673</td>\n",
              "      <td>2.000000</td>\n",
              "      <td>3.000000</td>\n",
              "      <td>3.000000</td>\n",
              "      <td>4.000000</td>\n",
              "      <td>5.000000</td>\n",
              "    </tr>\n",
              "    <tr>\n",
              "      <th>Cerv_Len_cms</th>\n",
              "      <td>732.0</td>\n",
              "      <td>2.466463</td>\n",
              "      <td>0.264258</td>\n",
              "      <td>1.870000</td>\n",
              "      <td>2.257082</td>\n",
              "      <td>2.462970</td>\n",
              "      <td>2.620523</td>\n",
              "      <td>3.239984</td>\n",
              "    </tr>\n",
              "    <tr>\n",
              "      <th>Cerv_Wid_cms</th>\n",
              "      <td>732.0</td>\n",
              "      <td>1.525365</td>\n",
              "      <td>0.352153</td>\n",
              "      <td>0.493955</td>\n",
              "      <td>1.285786</td>\n",
              "      <td>1.565271</td>\n",
              "      <td>1.717773</td>\n",
              "      <td>2.350850</td>\n",
              "    </tr>\n",
              "    <tr>\n",
              "      <th>Induction</th>\n",
              "      <td>732.0</td>\n",
              "      <td>1.000000</td>\n",
              "      <td>0.000000</td>\n",
              "      <td>1.000000</td>\n",
              "      <td>1.000000</td>\n",
              "      <td>1.000000</td>\n",
              "      <td>1.000000</td>\n",
              "      <td>1.000000</td>\n",
              "    </tr>\n",
              "    <tr>\n",
              "      <th>Del_mode</th>\n",
              "      <td>732.0</td>\n",
              "      <td>0.288251</td>\n",
              "      <td>0.453258</td>\n",
              "      <td>0.000000</td>\n",
              "      <td>0.000000</td>\n",
              "      <td>0.000000</td>\n",
              "      <td>1.000000</td>\n",
              "      <td>1.000000</td>\n",
              "    </tr>\n",
              "  </tbody>\n",
              "</table>\n",
              "</div>\n",
              "      <button class=\"colab-df-convert\" onclick=\"convertToInteractive('df-55645d52-378c-4089-82b3-220c88443589')\"\n",
              "              title=\"Convert this dataframe to an interactive table.\"\n",
              "              style=\"display:none;\">\n",
              "        \n",
              "  <svg xmlns=\"http://www.w3.org/2000/svg\" height=\"24px\"viewBox=\"0 0 24 24\"\n",
              "       width=\"24px\">\n",
              "    <path d=\"M0 0h24v24H0V0z\" fill=\"none\"/>\n",
              "    <path d=\"M18.56 5.44l.94 2.06.94-2.06 2.06-.94-2.06-.94-.94-2.06-.94 2.06-2.06.94zm-11 1L8.5 8.5l.94-2.06 2.06-.94-2.06-.94L8.5 2.5l-.94 2.06-2.06.94zm10 10l.94 2.06.94-2.06 2.06-.94-2.06-.94-.94-2.06-.94 2.06-2.06.94z\"/><path d=\"M17.41 7.96l-1.37-1.37c-.4-.4-.92-.59-1.43-.59-.52 0-1.04.2-1.43.59L10.3 9.45l-7.72 7.72c-.78.78-.78 2.05 0 2.83L4 21.41c.39.39.9.59 1.41.59.51 0 1.02-.2 1.41-.59l7.78-7.78 2.81-2.81c.8-.78.8-2.07 0-2.86zM5.41 20L4 18.59l7.72-7.72 1.47 1.35L5.41 20z\"/>\n",
              "  </svg>\n",
              "      </button>\n",
              "      \n",
              "  <style>\n",
              "    .colab-df-container {\n",
              "      display:flex;\n",
              "      flex-wrap:wrap;\n",
              "      gap: 12px;\n",
              "    }\n",
              "\n",
              "    .colab-df-convert {\n",
              "      background-color: #E8F0FE;\n",
              "      border: none;\n",
              "      border-radius: 50%;\n",
              "      cursor: pointer;\n",
              "      display: none;\n",
              "      fill: #1967D2;\n",
              "      height: 32px;\n",
              "      padding: 0 0 0 0;\n",
              "      width: 32px;\n",
              "    }\n",
              "\n",
              "    .colab-df-convert:hover {\n",
              "      background-color: #E2EBFA;\n",
              "      box-shadow: 0px 1px 2px rgba(60, 64, 67, 0.3), 0px 1px 3px 1px rgba(60, 64, 67, 0.15);\n",
              "      fill: #174EA6;\n",
              "    }\n",
              "\n",
              "    [theme=dark] .colab-df-convert {\n",
              "      background-color: #3B4455;\n",
              "      fill: #D2E3FC;\n",
              "    }\n",
              "\n",
              "    [theme=dark] .colab-df-convert:hover {\n",
              "      background-color: #434B5C;\n",
              "      box-shadow: 0px 1px 3px 1px rgba(0, 0, 0, 0.15);\n",
              "      filter: drop-shadow(0px 1px 2px rgba(0, 0, 0, 0.3));\n",
              "      fill: #FFFFFF;\n",
              "    }\n",
              "  </style>\n",
              "\n",
              "      <script>\n",
              "        const buttonEl =\n",
              "          document.querySelector('#df-55645d52-378c-4089-82b3-220c88443589 button.colab-df-convert');\n",
              "        buttonEl.style.display =\n",
              "          google.colab.kernel.accessAllowed ? 'block' : 'none';\n",
              "\n",
              "        async function convertToInteractive(key) {\n",
              "          const element = document.querySelector('#df-55645d52-378c-4089-82b3-220c88443589');\n",
              "          const dataTable =\n",
              "            await google.colab.kernel.invokeFunction('convertToInteractive',\n",
              "                                                     [key], {});\n",
              "          if (!dataTable) return;\n",
              "\n",
              "          const docLinkHtml = 'Like what you see? Visit the ' +\n",
              "            '<a target=\"_blank\" href=https://colab.research.google.com/notebooks/data_table.ipynb>data table notebook</a>'\n",
              "            + ' to learn more about interactive tables.';\n",
              "          element.innerHTML = '';\n",
              "          dataTable['output_type'] = 'display_data';\n",
              "          await google.colab.output.renderOutput(dataTable, element);\n",
              "          const docLink = document.createElement('div');\n",
              "          docLink.innerHTML = docLinkHtml;\n",
              "          element.appendChild(docLink);\n",
              "        }\n",
              "      </script>\n",
              "    </div>\n",
              "  </div>\n",
              "  "
            ]
          },
          "metadata": {},
          "execution_count": 273
        }
      ]
    },
    {
      "cell_type": "code",
      "source": [
        "df1['Del_mode'].value_counts()"
      ],
      "metadata": {
        "colab": {
          "base_uri": "https://localhost:8080/"
        },
        "id": "3QxctRMSw-e2",
        "outputId": "e859a221-da2d-423f-f7ac-79af508ec2b0"
      },
      "execution_count": 274,
      "outputs": [
        {
          "output_type": "execute_result",
          "data": {
            "text/plain": [
              "0.0    521\n",
              "1.0    211\n",
              "Name: Del_mode, dtype: int64"
            ]
          },
          "metadata": {},
          "execution_count": 274
        }
      ]
    },
    {
      "cell_type": "code",
      "source": [
        "#### Independent and Dependent Features\n",
        "X=df1.drop(\"Del_mode\",axis=1)\n",
        "Y=df1['Del_mode']"
      ],
      "metadata": {
        "id": "7y96fdsff_W6"
      },
      "execution_count": 275,
      "outputs": []
    },
    {
      "cell_type": "code",
      "source": [
        "# Scaling the data\n",
        "\n",
        "from sklearn.preprocessing import StandardScaler\n",
        "sc = StandardScaler()\n",
        "x_scale = sc.fit_transform(X)"
      ],
      "metadata": {
        "id": "zsNBHuSRln6f"
      },
      "execution_count": 276,
      "outputs": []
    },
    {
      "cell_type": "code",
      "source": [
        "# Train and Test Split\n",
        "from sklearn.model_selection import train_test_split\n",
        "X_train,X_test,Y_train,Y_test = train_test_split(x_scale,Y,test_size = 0.3, random_state=0,stratify=Y)"
      ],
      "metadata": {
        "id": "kcND0q53mMxU"
      },
      "execution_count": 277,
      "outputs": []
    },
    {
      "cell_type": "code",
      "source": [
        "X_train.shape ,X_test.shape ,Y_train.shape,Y_test.shape"
      ],
      "metadata": {
        "colab": {
          "base_uri": "https://localhost:8080/"
        },
        "id": "GE_Yz0Lcvh1R",
        "outputId": "4db28b08-d445-4677-e70d-aa7ec387e2e9"
      },
      "execution_count": 278,
      "outputs": [
        {
          "output_type": "execute_result",
          "data": {
            "text/plain": [
              "((512, 11), (220, 11), (512,), (220,))"
            ]
          },
          "metadata": {},
          "execution_count": 278
        }
      ]
    },
    {
      "cell_type": "markdown",
      "source": [
        "**Logistic Regression with Hyperparameter tuning**\n",
        "\n"
      ],
      "metadata": {
        "id": "QsIbCTGPtNcQ"
      }
    },
    {
      "cell_type": "code",
      "source": [
        "#10.0 **np.arange(-2,3)"
      ],
      "metadata": {
        "id": "jGLb3ZhC-YM5"
      },
      "execution_count": 279,
      "outputs": []
    },
    {
      "cell_type": "code",
      "source": [
        "#log_class=LogisticRegression()\n",
        "#grid={'C':10.0 **np.arange(-2,3),'penalty':['l1','l2']}\n",
        "#cv=KFold(n_splits=5,random_state=None,shuffle=False)"
      ],
      "metadata": {
        "id": "dO5A3giV-iCG"
      },
      "execution_count": 280,
      "outputs": []
    },
    {
      "cell_type": "code",
      "source": [
        "#clf=GridSearchCV(log_class,grid,cv=cv,n_jobs=-1,scoring='f1_macro')\n",
        "#clf.fit(X_train,Y_train)"
      ],
      "metadata": {
        "id": "N2t4ZYYC-wNy"
      },
      "execution_count": 281,
      "outputs": []
    },
    {
      "cell_type": "code",
      "source": [
        "#y_pred_logreg=clf.predict(X_test)\n",
        "#print(confusion_matrix(Y_test,y_pred_logreg))\n",
        "#print(accuracy_score(Y_test,y_pred_logreg))\n",
        "#print(classification_report(Y_test,y_pred_logreg))"
      ],
      "metadata": {
        "id": "lz9LRYXH-1o6"
      },
      "execution_count": 282,
      "outputs": []
    },
    {
      "cell_type": "markdown",
      "source": [
        "No Improvement in accuracy and other metrics after hyperparameter tuning"
      ],
      "metadata": {
        "id": "9WKxMGnGttUD"
      }
    },
    {
      "cell_type": "code",
      "source": [
        "X_train.shape, Y_train.shape"
      ],
      "metadata": {
        "colab": {
          "base_uri": "https://localhost:8080/"
        },
        "id": "jelcCOTzsuPU",
        "outputId": "3946f322-fd16-4f9d-e426-6b019590b5f0"
      },
      "execution_count": 283,
      "outputs": [
        {
          "output_type": "execute_result",
          "data": {
            "text/plain": [
              "((512, 11), (512,))"
            ]
          },
          "metadata": {},
          "execution_count": 283
        }
      ]
    },
    {
      "cell_type": "markdown",
      "source": [
        "**Under Sampling**"
      ],
      "metadata": {
        "id": "S5MBC6shseig"
      }
    },
    {
      "cell_type": "code",
      "source": [
        "from collections import Counter\n",
        "from imblearn.under_sampling import RandomUnderSampler  \n",
        "under_sampler = RandomUnderSampler()\n",
        "X_train_us,Y_train_us = under_sampler.fit_resample(X_train,Y_train)\n",
        "print(\"The number of classes before fit {}\".format(Counter(Y_train)))\n",
        "print(\"The number of classes after fit {}\".format(Counter(Y_train_us)))"
      ],
      "metadata": {
        "colab": {
          "base_uri": "https://localhost:8080/"
        },
        "id": "qHWAzjEVsbDZ",
        "outputId": "d2b5b39c-6603-47c3-ec3d-3747300fc6cb"
      },
      "execution_count": 284,
      "outputs": [
        {
          "output_type": "stream",
          "name": "stdout",
          "text": [
            "The number of classes before fit Counter({0.0: 364, 1.0: 148})\n",
            "The number of classes after fit Counter({0.0: 148, 1.0: 148})\n"
          ]
        }
      ]
    },
    {
      "cell_type": "markdown",
      "source": [
        "**Logistic Regression with UnderSampling**"
      ],
      "metadata": {
        "id": "msRBjCPR_t9y"
      }
    },
    {
      "cell_type": "code",
      "source": [
        "from sklearn.linear_model import LogisticRegression\n",
        "from sklearn.metrics import confusion_matrix,accuracy_score,classification_report\n",
        "logreg = LogisticRegression()\n",
        "logreg.fit(X_train_us,Y_train_us)\n",
        "y_pred_lr_us = logreg.predict(X_test)"
      ],
      "metadata": {
        "id": "qOCM4a2HtINu"
      },
      "execution_count": 285,
      "outputs": []
    },
    {
      "cell_type": "code",
      "source": [
        "print(confusion_matrix(Y_test,y_pred_lr_us))\n",
        "print(accuracy_score(Y_test,y_pred_lr_us))\n",
        "print(classification_report(Y_test,y_pred_lr_us))"
      ],
      "metadata": {
        "colab": {
          "base_uri": "https://localhost:8080/"
        },
        "id": "kkvFp5exuE4P",
        "outputId": "c5c9bd56-18e2-408f-a384-419e4eb91f9b"
      },
      "execution_count": 286,
      "outputs": [
        {
          "output_type": "stream",
          "name": "stdout",
          "text": [
            "[[114  43]\n",
            " [ 12  51]]\n",
            "0.75\n",
            "              precision    recall  f1-score   support\n",
            "\n",
            "         0.0       0.90      0.73      0.81       157\n",
            "         1.0       0.54      0.81      0.65        63\n",
            "\n",
            "    accuracy                           0.75       220\n",
            "   macro avg       0.72      0.77      0.73       220\n",
            "weighted avg       0.80      0.75      0.76       220\n",
            "\n"
          ]
        }
      ]
    },
    {
      "cell_type": "markdown",
      "source": [
        "**KNN with Undersampling**"
      ],
      "metadata": {
        "id": "WwXAZnD__37O"
      }
    },
    {
      "cell_type": "code",
      "source": [
        "from sklearn.neighbors import KNeighborsClassifier\n",
        "knn_clf = KNeighborsClassifier(n_neighbors=1, p=2) \n",
        "knn_clf.fit(X_train_us,Y_train_us)\n",
        "Y_pred_knn_us = knn_clf.predict(X_test)"
      ],
      "metadata": {
        "id": "mz3Q-xeC_3Gx"
      },
      "execution_count": 287,
      "outputs": []
    },
    {
      "cell_type": "code",
      "source": [
        "print(confusion_matrix(Y_test,Y_pred_knn_us))\n",
        "print(accuracy_score(Y_test,Y_pred_knn_us))\n",
        "print(classification_report(Y_test,Y_pred_knn_us))"
      ],
      "metadata": {
        "colab": {
          "base_uri": "https://localhost:8080/"
        },
        "id": "pP55FqC2_3AA",
        "outputId": "b75ea2e2-cde8-437e-8914-5b22de4ea1e4"
      },
      "execution_count": 288,
      "outputs": [
        {
          "output_type": "stream",
          "name": "stdout",
          "text": [
            "[[138  19]\n",
            " [  9  54]]\n",
            "0.8727272727272727\n",
            "              precision    recall  f1-score   support\n",
            "\n",
            "         0.0       0.94      0.88      0.91       157\n",
            "         1.0       0.74      0.86      0.79        63\n",
            "\n",
            "    accuracy                           0.87       220\n",
            "   macro avg       0.84      0.87      0.85       220\n",
            "weighted avg       0.88      0.87      0.88       220\n",
            "\n"
          ]
        }
      ]
    },
    {
      "cell_type": "markdown",
      "source": [
        "With Default Value Acc_score is 0.8590909090909091\n",
        "\n",
        "With n_neigbour=1, Acc_score is 0.9272727272727272\n",
        "\n",
        "With Undersampling technique, acc_score of KNN is 0.8909090909090909\n"
      ],
      "metadata": {
        "id": "wRf04PUhBpvR"
      }
    },
    {
      "cell_type": "code",
      "source": [
        "kn_score1 = []\n",
        "neighbors = range(1,20)\n",
        "\n",
        "for i in neighbors:\n",
        "        knn_clf = KNeighborsClassifier(n_neighbors=i, p=2)\n",
        "        knn_clf.fit(X_train_us,Y_train_us)\n",
        "        Y_pred_knn = knn_clf.predict(X_test)\n",
        "        kn_score1.append(accuracy_score(Y_test,Y_pred_knn))\n",
        "\n",
        "print(kn_score1)"
      ],
      "metadata": {
        "colab": {
          "base_uri": "https://localhost:8080/"
        },
        "id": "BLGY8QuF_osz",
        "outputId": "355db31d-a0bd-4685-f5f3-11162576d2a1"
      },
      "execution_count": 289,
      "outputs": [
        {
          "output_type": "stream",
          "name": "stdout",
          "text": [
            "[0.8727272727272727, 0.8590909090909091, 0.8136363636363636, 0.8045454545454546, 0.7772727272727272, 0.8136363636363636, 0.7545454545454545, 0.7681818181818182, 0.7, 0.7227272727272728, 0.7136363636363636, 0.7272727272727273, 0.6909090909090909, 0.7, 0.6772727272727272, 0.7136363636363636, 0.7181818181818181, 0.740909090909091, 0.7045454545454546]\n"
          ]
        }
      ]
    },
    {
      "cell_type": "code",
      "source": [
        "plt.plot(neighbors,kn_score1, label = \"test error\")\n",
        "plt.ylabel(\"accuracy\")\n",
        "plt.xlabel(\"neighbors\")\n",
        "plt.legend()"
      ],
      "metadata": {
        "colab": {
          "base_uri": "https://localhost:8080/",
          "height": 303
        },
        "id": "ZKpAujz0BRwH",
        "outputId": "64001062-9367-4db1-eaf7-2bf4ff2dfedb"
      },
      "execution_count": 290,
      "outputs": [
        {
          "output_type": "execute_result",
          "data": {
            "text/plain": [
              "<matplotlib.legend.Legend at 0x7f689d8d6d90>"
            ]
          },
          "metadata": {},
          "execution_count": 290
        },
        {
          "output_type": "display_data",
          "data": {
            "text/plain": [
              "<Figure size 432x288 with 1 Axes>"
            ],
            "image/png": "[encoded data removed]"
          },
          "metadata": {
            "needs_background": "light"
          }
        }
      ]
    },
    {
      "cell_type": "markdown",
      "source": [
        "**Support vector machine**"
      ],
      "metadata": {
        "id": "FVVDwoT1DobX"
      }
    },
    {
      "cell_type": "code",
      "source": [
        "from sklearn.svm import SVC\n"
      ],
      "metadata": {
        "id": "n-Hl7jeQDgex"
      },
      "execution_count": 291,
      "outputs": []
    },
    {
      "cell_type": "code",
      "source": [
        "svm = SVC(kernel = \"linear\", gamma = \"auto\")\n",
        "svm.fit(X_train_us,Y_train_us)\n",
        "Y_pred_svm_linear_us = svm.predict(X_test)"
      ],
      "metadata": {
        "id": "hdhDNGVmD3E_"
      },
      "execution_count": 292,
      "outputs": []
    },
    {
      "cell_type": "code",
      "source": [
        "print(confusion_matrix(Y_test,Y_pred_svm_linear_us))\n",
        "print(accuracy_score(Y_test,Y_pred_svm_linear_us))\n",
        "print(classification_report(Y_test,Y_pred_svm_linear_us))"
      ],
      "metadata": {
        "colab": {
          "base_uri": "https://localhost:8080/"
        },
        "id": "7HuxfELF5lmn",
        "outputId": "d442298a-25a1-4cc6-e914-24341625b85f"
      },
      "execution_count": 293,
      "outputs": [
        {
          "output_type": "stream",
          "name": "stdout",
          "text": [
            "[[115  42]\n",
            " [ 10  53]]\n",
            "0.7636363636363637\n",
            "              precision    recall  f1-score   support\n",
            "\n",
            "         0.0       0.92      0.73      0.82       157\n",
            "         1.0       0.56      0.84      0.67        63\n",
            "\n",
            "    accuracy                           0.76       220\n",
            "   macro avg       0.74      0.79      0.74       220\n",
            "weighted avg       0.82      0.76      0.77       220\n",
            "\n"
          ]
        }
      ]
    },
    {
      "cell_type": "code",
      "source": [
        "svm = SVC(kernel = \"rbf\", gamma = \"auto\")\n",
        "svm.fit(X_train_us,Y_train_us)\n",
        "Y_pred_svm_rbf_us = svm.predict(X_test)\n"
      ],
      "metadata": {
        "id": "ARj2EXnmEldH"
      },
      "execution_count": 294,
      "outputs": []
    },
    {
      "cell_type": "code",
      "source": [
        "print(confusion_matrix(Y_test,Y_pred_svm_rbf_us))\n",
        "print(accuracy_score(Y_test,Y_pred_svm_rbf_us))\n",
        "print(classification_report(Y_test,Y_pred_svm_rbf_us))"
      ],
      "metadata": {
        "colab": {
          "base_uri": "https://localhost:8080/"
        },
        "id": "L6o2lj7d5tJ6",
        "outputId": "598be8a0-d320-47cc-fa44-0bec30c60bfa"
      },
      "execution_count": 295,
      "outputs": [
        {
          "output_type": "stream",
          "name": "stdout",
          "text": [
            "[[130  27]\n",
            " [ 13  50]]\n",
            "0.8181818181818182\n",
            "              precision    recall  f1-score   support\n",
            "\n",
            "         0.0       0.91      0.83      0.87       157\n",
            "         1.0       0.65      0.79      0.71        63\n",
            "\n",
            "    accuracy                           0.82       220\n",
            "   macro avg       0.78      0.81      0.79       220\n",
            "weighted avg       0.83      0.82      0.82       220\n",
            "\n"
          ]
        }
      ]
    },
    {
      "cell_type": "code",
      "source": [
        "svm = SVC(kernel = \"poly\", gamma = \"auto\")\n",
        "svm.fit(X_train_us,Y_train_us)\n",
        "Y_pred_svm_poly_us = svm.predict(X_test)"
      ],
      "metadata": {
        "id": "_96BgIeUEzZQ"
      },
      "execution_count": 296,
      "outputs": []
    },
    {
      "cell_type": "code",
      "source": [
        "print(confusion_matrix(Y_test,Y_pred_svm_poly_us))\n",
        "print(accuracy_score(Y_test,Y_pred_svm_poly_us))\n",
        "print(classification_report(Y_test,Y_pred_svm_poly_us))"
      ],
      "metadata": {
        "colab": {
          "base_uri": "https://localhost:8080/"
        },
        "id": "AgzxQgAv542s",
        "outputId": "20848066-19b4-4bb7-a2fa-91924dd89a42"
      },
      "execution_count": 297,
      "outputs": [
        {
          "output_type": "stream",
          "name": "stdout",
          "text": [
            "[[124  33]\n",
            " [ 14  49]]\n",
            "0.7863636363636364\n",
            "              precision    recall  f1-score   support\n",
            "\n",
            "         0.0       0.90      0.79      0.84       157\n",
            "         1.0       0.60      0.78      0.68        63\n",
            "\n",
            "    accuracy                           0.79       220\n",
            "   macro avg       0.75      0.78      0.76       220\n",
            "weighted avg       0.81      0.79      0.79       220\n",
            "\n"
          ]
        }
      ]
    },
    {
      "cell_type": "markdown",
      "source": [
        "In the support vector machine, kernel = \"rbf\" gave better accuracy when compared to linear and rbf.\n"
      ],
      "metadata": {
        "id": "QYnt31wpFKbf"
      }
    },
    {
      "cell_type": "markdown",
      "source": [
        "**Stocastic Gradient Classifier**"
      ],
      "metadata": {
        "id": "Wlzin5LPFT-G"
      }
    },
    {
      "cell_type": "code",
      "source": [
        "from sklearn.linear_model import SGDClassifier"
      ],
      "metadata": {
        "id": "ow-tglq2E7AK"
      },
      "execution_count": 298,
      "outputs": []
    },
    {
      "cell_type": "code",
      "source": [
        "sgd = SGDClassifier(eta0 = 0.1011, max_iter = 50)\n",
        "sgd.fit(X_train_us,Y_train_us)\n",
        "Y_pred_sgd_us = sgd.predict(X_test)"
      ],
      "metadata": {
        "colab": {
          "base_uri": "https://localhost:8080/"
        },
        "id": "RS-Hu8B9FCQu",
        "outputId": "190009e1-3441-4995-e32f-d5eb57333741"
      },
      "execution_count": 299,
      "outputs": [
        {
          "output_type": "stream",
          "name": "stderr",
          "text": [
            "/usr/local/lib/python3.7/dist-packages/sklearn/linear_model/_stochastic_gradient.py:700: ConvergenceWarning: Maximum number of iteration reached before convergence. Consider increasing max_iter to improve the fit.\n",
            "  ConvergenceWarning,\n"
          ]
        }
      ]
    },
    {
      "cell_type": "code",
      "source": [
        "print(confusion_matrix(Y_test,Y_pred_sgd_us))\n",
        "print(accuracy_score(Y_test,Y_pred_sgd_us))\n",
        "print(classification_report(Y_test,Y_pred_sgd_us))"
      ],
      "metadata": {
        "colab": {
          "base_uri": "https://localhost:8080/"
        },
        "id": "Qlcr2aj-FCJ7",
        "outputId": "131835a4-b2ba-4f2d-96a7-d30b3dfd387d"
      },
      "execution_count": 300,
      "outputs": [
        {
          "output_type": "stream",
          "name": "stdout",
          "text": [
            "[[135  22]\n",
            " [ 49  14]]\n",
            "0.6772727272727272\n",
            "              precision    recall  f1-score   support\n",
            "\n",
            "         0.0       0.73      0.86      0.79       157\n",
            "         1.0       0.39      0.22      0.28        63\n",
            "\n",
            "    accuracy                           0.68       220\n",
            "   macro avg       0.56      0.54      0.54       220\n",
            "weighted avg       0.63      0.68      0.65       220\n",
            "\n"
          ]
        }
      ]
    },
    {
      "cell_type": "code",
      "source": [
        "sgd_score = []\n",
        "setting = np.arange(0.101,0.102,0.0001)\n",
        "\n",
        "for i in setting:\n",
        "    sgd = SGDClassifier(eta0 = i, max_iter = 50)\n",
        "    sgd.fit(X_train_us,Y_train_us)\n",
        "    Y_pred_sgd = sgd.predict(X_test)\n",
        "    sgd_score.append(accuracy_score(Y_test,Y_pred_sgd))\n",
        "    \n",
        "print(sgd_score)"
      ],
      "metadata": {
        "colab": {
          "base_uri": "https://localhost:8080/"
        },
        "id": "rBuzavvNGBHB",
        "outputId": "49a0ceaa-b88d-4b52-d412-c7a478ec8d0e"
      },
      "execution_count": 301,
      "outputs": [
        {
          "output_type": "stream",
          "name": "stdout",
          "text": [
            "[0.7318181818181818, 0.7772727272727272, 0.6954545454545454, 0.740909090909091, 0.6727272727272727, 0.7181818181818181, 0.6909090909090909, 0.6590909090909091, 0.6681818181818182, 0.740909090909091]\n"
          ]
        },
        {
          "output_type": "stream",
          "name": "stderr",
          "text": [
            "/usr/local/lib/python3.7/dist-packages/sklearn/linear_model/_stochastic_gradient.py:700: ConvergenceWarning: Maximum number of iteration reached before convergence. Consider increasing max_iter to improve the fit.\n",
            "  ConvergenceWarning,\n",
            "/usr/local/lib/python3.7/dist-packages/sklearn/linear_model/_stochastic_gradient.py:700: ConvergenceWarning: Maximum number of iteration reached before convergence. Consider increasing max_iter to improve the fit.\n",
            "  ConvergenceWarning,\n"
          ]
        }
      ]
    },
    {
      "cell_type": "code",
      "source": [
        "plt.plot(setting,sgd_score, label = \"test accuracy\")\n",
        "plt.ylabel(\"accuracy\")\n",
        "plt.xlabel(\"learning rate\")\n",
        "plt.legend()"
      ],
      "metadata": {
        "colab": {
          "base_uri": "https://localhost:8080/",
          "height": 303
        },
        "id": "iJ0sVqBKGS1E",
        "outputId": "ff799f30-2b8e-4dbe-8c94-7d732d2091cc"
      },
      "execution_count": 302,
      "outputs": [
        {
          "output_type": "execute_result",
          "data": {
            "text/plain": [
              "<matplotlib.legend.Legend at 0x7f689d6d0690>"
            ]
          },
          "metadata": {},
          "execution_count": 302
        },
        {
          "output_type": "display_data",
          "data": {
            "text/plain": [
              "<Figure size 432x288 with 1 Axes>"
            ],
            "image/png": "[encoded data removed]"
          },
          "metadata": {
            "needs_background": "light"
          }
        }
      ]
    },
    {
      "cell_type": "markdown",
      "source": [
        "**Decision Tree classifier**"
      ],
      "metadata": {
        "id": "FCsJY-VJG8ec"
      }
    },
    {
      "cell_type": "code",
      "source": [
        "from sklearn.tree import DecisionTreeClassifier\n",
        "dt = DecisionTreeClassifier(criterion = \"gini\", max_depth = 8)\n",
        "dt.fit(X_train_us,Y_train_us)\n",
        "Y_pred_dt_us = dt.predict(X_test)"
      ],
      "metadata": {
        "id": "AA8OoXqNG7iY"
      },
      "execution_count": 303,
      "outputs": []
    },
    {
      "cell_type": "code",
      "source": [
        "dt.tree_.node_count, dt.tree_.max_depth"
      ],
      "metadata": {
        "colab": {
          "base_uri": "https://localhost:8080/"
        },
        "id": "p-_QAh-zHmar",
        "outputId": "68b21204-996b-4346-9542-6579040dd086"
      },
      "execution_count": 304,
      "outputs": [
        {
          "output_type": "execute_result",
          "data": {
            "text/plain": [
              "(65, 8)"
            ]
          },
          "metadata": {},
          "execution_count": 304
        }
      ]
    },
    {
      "cell_type": "code",
      "source": [
        "print(confusion_matrix(Y_test,Y_pred_dt_us))\n",
        "print(accuracy_score(Y_test,Y_pred_dt_us))\n",
        "print(classification_report(Y_test,Y_pred_dt_us))"
      ],
      "metadata": {
        "colab": {
          "base_uri": "https://localhost:8080/"
        },
        "id": "7MBFhV4KH158",
        "outputId": "66e0d9e2-d776-40b8-e72d-31cc47c55fc3"
      },
      "execution_count": 305,
      "outputs": [
        {
          "output_type": "stream",
          "name": "stdout",
          "text": [
            "[[122  35]\n",
            " [ 11  52]]\n",
            "0.7909090909090909\n",
            "              precision    recall  f1-score   support\n",
            "\n",
            "         0.0       0.92      0.78      0.84       157\n",
            "         1.0       0.60      0.83      0.69        63\n",
            "\n",
            "    accuracy                           0.79       220\n",
            "   macro avg       0.76      0.80      0.77       220\n",
            "weighted avg       0.83      0.79      0.80       220\n",
            "\n"
          ]
        }
      ]
    },
    {
      "cell_type": "code",
      "source": [
        "dt_score = []\n",
        "md = range(1,14)\n",
        "for i in md:\n",
        "    dt = DecisionTreeClassifier(criterion = \"gini\", max_depth = i)\n",
        "    dt.fit(X_train_us,Y_train_us)\n",
        "    Y_pred_dt_us = dt.predict(X_test)\n",
        "    dt_score.append(accuracy_score(Y_test,Y_pred_dt_us))\n",
        "\n",
        "print(dt_score)"
      ],
      "metadata": {
        "colab": {
          "base_uri": "https://localhost:8080/"
        },
        "id": "WerBvbBpICzV",
        "outputId": "209f5079-3e8e-45f7-d615-1ca719ccb564"
      },
      "execution_count": 306,
      "outputs": [
        {
          "output_type": "stream",
          "name": "stdout",
          "text": [
            "[0.7, 0.4772727272727273, 0.7454545454545455, 0.7954545454545454, 0.8227272727272728, 0.8318181818181818, 0.8045454545454546, 0.7681818181818182, 0.7954545454545454, 0.8272727272727273, 0.8227272727272728, 0.8, 0.7954545454545454]\n"
          ]
        }
      ]
    },
    {
      "cell_type": "code",
      "source": [
        "plt.plot(md,dt_score,label = \"test_accuracy\")\n",
        "plt.ylabel(\"accuracy\")\n",
        "plt.xlabel(\"max depth\")\n",
        "plt.legend()"
      ],
      "metadata": {
        "colab": {
          "base_uri": "https://localhost:8080/",
          "height": 303
        },
        "id": "NJezwFp-JwXx",
        "outputId": "420897c1-eda1-41cf-adb3-df16081a8488"
      },
      "execution_count": 307,
      "outputs": [
        {
          "output_type": "execute_result",
          "data": {
            "text/plain": [
              "<matplotlib.legend.Legend at 0x7f689d667850>"
            ]
          },
          "metadata": {},
          "execution_count": 307
        },
        {
          "output_type": "display_data",
          "data": {
            "text/plain": [
              "<Figure size 432x288 with 1 Axes>"
            ],
            "image/png": "[encoded data removed]"
          },
          "metadata": {
            "needs_background": "light"
          }
        }
      ]
    },
    {
      "cell_type": "markdown",
      "source": [
        "**BaggingClassifier**"
      ],
      "metadata": {
        "id": "WFUJFfcjKzYN"
      }
    },
    {
      "cell_type": "code",
      "source": [
        "from sklearn.ensemble import BaggingClassifier\n"
      ],
      "metadata": {
        "id": "LiXAGuNvKt-O"
      },
      "execution_count": 308,
      "outputs": []
    },
    {
      "cell_type": "code",
      "source": [
        "bag = BaggingClassifier(base_estimator = dt, max_samples = 0.6)\n",
        "bag.fit(X_train_us,Y_train_us)\n",
        "Y_pred_bag_us = bag.predict(X_test)"
      ],
      "metadata": {
        "id": "L04rxnzkK_Bk"
      },
      "execution_count": 309,
      "outputs": []
    },
    {
      "cell_type": "code",
      "source": [
        "print(confusion_matrix(Y_test,Y_pred_bag_us))\n",
        "print(accuracy_score(Y_test,Y_pred_bag_us))\n",
        "print(classification_report(Y_test,Y_pred_bag_us))"
      ],
      "metadata": {
        "colab": {
          "base_uri": "https://localhost:8080/"
        },
        "id": "aiz-obs3Lh1p",
        "outputId": "623a4d26-8df4-4534-b56e-362680df3ec3"
      },
      "execution_count": 310,
      "outputs": [
        {
          "output_type": "stream",
          "name": "stdout",
          "text": [
            "[[133  24]\n",
            " [ 10  53]]\n",
            "0.8454545454545455\n",
            "              precision    recall  f1-score   support\n",
            "\n",
            "         0.0       0.93      0.85      0.89       157\n",
            "         1.0       0.69      0.84      0.76        63\n",
            "\n",
            "    accuracy                           0.85       220\n",
            "   macro avg       0.81      0.84      0.82       220\n",
            "weighted avg       0.86      0.85      0.85       220\n",
            "\n"
          ]
        }
      ]
    },
    {
      "cell_type": "code",
      "source": [
        "bag_score = []\n",
        "ms = np.arange(0.1,1,0.1)\n",
        "for i in ms:\n",
        "    bag = BaggingClassifier(base_estimator = dt, max_samples = i)\n",
        "    bag.fit(X_train_us,Y_train_us)\n",
        "    Y_pred_bag_us = bag.predict(X_test)\n",
        "    bag_score.append(accuracy_score(Y_test,Y_pred_bag_us))\n",
        "    \n",
        "print(bag_score)"
      ],
      "metadata": {
        "colab": {
          "base_uri": "https://localhost:8080/"
        },
        "id": "T8Wml4PTMBNZ",
        "outputId": "b149dc4f-9c84-4c4c-9d1c-5479d867c7b1"
      },
      "execution_count": 311,
      "outputs": [
        {
          "output_type": "stream",
          "name": "stdout",
          "text": [
            "[0.7045454545454546, 0.8, 0.8318181818181818, 0.85, 0.8681818181818182, 0.8636363636363636, 0.8454545454545455, 0.8590909090909091, 0.8681818181818182]\n"
          ]
        }
      ]
    },
    {
      "cell_type": "code",
      "source": [
        "plt.plot(ms,bag_score,label = \"accuracy\")\n",
        "plt.legend()"
      ],
      "metadata": {
        "colab": {
          "base_uri": "https://localhost:8080/",
          "height": 285
        },
        "id": "b8b8QLyeMJpz",
        "outputId": "57ebe32a-6de0-4f65-fc23-94ce461331a5"
      },
      "execution_count": 312,
      "outputs": [
        {
          "output_type": "execute_result",
          "data": {
            "text/plain": [
              "<matplotlib.legend.Legend at 0x7f689d5d7810>"
            ]
          },
          "metadata": {},
          "execution_count": 312
        },
        {
          "output_type": "display_data",
          "data": {
            "text/plain": [
              "<Figure size 432x288 with 1 Axes>"
            ],
            "image/png": "[encoded data removed]"
          },
          "metadata": {
            "needs_background": "light"
          }
        }
      ]
    },
    {
      "cell_type": "markdown",
      "source": [
        "From the above the graph the best accuracy is attained at 0.6 max_samples .0.9"
      ],
      "metadata": {
        "id": "x19xMI9gVqZ0"
      }
    },
    {
      "cell_type": "markdown",
      "source": [
        "**Random Forest Classifier**"
      ],
      "metadata": {
        "id": "4jbdnU3jWukW"
      }
    },
    {
      "cell_type": "code",
      "source": [
        "from sklearn.ensemble import RandomForestClassifier\n",
        "RF = RandomForestClassifier(max_features = 0.1, n_estimators = 36)\n",
        "RF.fit(X_train_us,Y_train_us)\n",
        "Y_pred_rf_us = RF.predict(X_test)"
      ],
      "metadata": {
        "id": "dt17zn0EVpgX"
      },
      "execution_count": 313,
      "outputs": []
    },
    {
      "cell_type": "code",
      "source": [
        "print(confusion_matrix(Y_test,Y_pred_rf_us))\n",
        "print(accuracy_score(Y_test,Y_pred_rf_us))\n",
        "print(classification_report(Y_test,Y_pred_rf_us))"
      ],
      "metadata": {
        "colab": {
          "base_uri": "https://localhost:8080/"
        },
        "id": "WFBH8k4UXNpE",
        "outputId": "fcc74a61-9ec6-449e-ea5c-2469d77d2085"
      },
      "execution_count": 314,
      "outputs": [
        {
          "output_type": "stream",
          "name": "stdout",
          "text": [
            "[[140  17]\n",
            " [  8  55]]\n",
            "0.8863636363636364\n",
            "              precision    recall  f1-score   support\n",
            "\n",
            "         0.0       0.95      0.89      0.92       157\n",
            "         1.0       0.76      0.87      0.81        63\n",
            "\n",
            "    accuracy                           0.89       220\n",
            "   macro avg       0.85      0.88      0.87       220\n",
            "weighted avg       0.89      0.89      0.89       220\n",
            "\n"
          ]
        }
      ]
    },
    {
      "cell_type": "code",
      "source": [
        "rf_score = []\n",
        "mf = np.arange(0.1,1,0.1)\n",
        "for i in mf:\n",
        "    RF = RandomForestClassifier(max_features = i, n_estimators = 33)\n",
        "    RF.fit(X_train_us,Y_train_us)\n",
        "    Y_pred_rf_us = RF.predict(X_test)\n",
        "    rf_score.append(accuracy_score(Y_test,Y_pred_rf_us))\n",
        "    \n",
        "print(rf_score)"
      ],
      "metadata": {
        "colab": {
          "base_uri": "https://localhost:8080/"
        },
        "id": "dB1ExetTXZVe",
        "outputId": "92741634-c078-4230-cf70-78f657772a4a"
      },
      "execution_count": 315,
      "outputs": [
        {
          "output_type": "stream",
          "name": "stdout",
          "text": [
            "[0.8909090909090909, 0.8909090909090909, 0.8772727272727273, 0.8727272727272727, 0.8954545454545455, 0.8681818181818182, 0.8909090909090909, 0.8727272727272727, 0.8636363636363636]\n"
          ]
        }
      ]
    },
    {
      "cell_type": "code",
      "source": [
        "plt.plot(mf,rf_score,label = \"test_accuracy\")\n",
        "plt.ylabel(\"accuracy\")\n",
        "plt.xlabel(\"max features\")\n",
        "plt.legend()"
      ],
      "metadata": {
        "colab": {
          "base_uri": "https://localhost:8080/",
          "height": 303
        },
        "id": "CeVpq-GMXg3F",
        "outputId": "58193446-6c78-4ba4-8856-bc63a2f0d583"
      },
      "execution_count": 316,
      "outputs": [
        {
          "output_type": "execute_result",
          "data": {
            "text/plain": [
              "<matplotlib.legend.Legend at 0x7f689d5a9390>"
            ]
          },
          "metadata": {},
          "execution_count": 316
        },
        {
          "output_type": "display_data",
          "data": {
            "text/plain": [
              "<Figure size 432x288 with 1 Axes>"
            ],
            "image/png": "[encoded data removed]"
          },
          "metadata": {
            "needs_background": "light"
          }
        }
      ]
    },
    {
      "cell_type": "code",
      "source": [
        "rf_score1 = []\n",
        "est = range(30,40,1)\n",
        "for i in est:\n",
        "    \n",
        "    RF = RandomForestClassifier(max_features = 0.1, n_estimators = i)\n",
        "    RF.fit(X_train_us,Y_train_us)\n",
        "    Y_pred_rf_us = RF.predict(X_test)\n",
        "    rf_score1.append(accuracy_score(Y_test,Y_pred_rf_us))\n",
        "    \n",
        "print(rf_score1)"
      ],
      "metadata": {
        "colab": {
          "base_uri": "https://localhost:8080/"
        },
        "id": "PjUtQSAxXZPB",
        "outputId": "67ae07a0-473c-4b9a-aeb4-d4aad810d673"
      },
      "execution_count": 317,
      "outputs": [
        {
          "output_type": "stream",
          "name": "stdout",
          "text": [
            "[0.8818181818181818, 0.8863636363636364, 0.8727272727272727, 0.8727272727272727, 0.8863636363636364, 0.8590909090909091, 0.8863636363636364, 0.8772727272727273, 0.8681818181818182, 0.8863636363636364]\n"
          ]
        }
      ]
    },
    {
      "cell_type": "code",
      "source": [
        "plt.plot(est,rf_score1,label = \"test_accuracy\")\n",
        "plt.ylabel(\"accuracy\")\n",
        "plt.xlabel(\"n_estimators\")\n",
        "plt.legend()"
      ],
      "metadata": {
        "colab": {
          "base_uri": "https://localhost:8080/",
          "height": 303
        },
        "id": "5UuhjZ99X9GM",
        "outputId": "6b2648c7-6789-4c63-99b6-d0c67f37ca0e"
      },
      "execution_count": 318,
      "outputs": [
        {
          "output_type": "execute_result",
          "data": {
            "text/plain": [
              "<matplotlib.legend.Legend at 0x7f689d516910>"
            ]
          },
          "metadata": {},
          "execution_count": 318
        },
        {
          "output_type": "display_data",
          "data": {
            "text/plain": [
              "<Figure size 432x288 with 1 Axes>"
            ],
            "image/png": "[encoded data removed]"
          },
          "metadata": {
            "needs_background": "light"
          }
        }
      ]
    },
    {
      "cell_type": "markdown",
      "source": [
        "**Ada Boost Classifier**"
      ],
      "metadata": {
        "id": "uXsxc0E_YzKE"
      }
    },
    {
      "cell_type": "code",
      "source": [
        "from sklearn.ensemble import AdaBoostClassifier"
      ],
      "metadata": {
        "id": "5EoBf8MLY4Gd"
      },
      "execution_count": 319,
      "outputs": []
    },
    {
      "cell_type": "code",
      "source": [
        "adb = AdaBoostClassifier(base_estimator = dt, n_estimators = 30)\n",
        "adb.fit(X_train_us,Y_train_us)\n",
        "Y_pred_adb_us = adb.predict(X_test)"
      ],
      "metadata": {
        "id": "Aya3D-scY8Yt"
      },
      "execution_count": 320,
      "outputs": []
    },
    {
      "cell_type": "code",
      "source": [
        "print(confusion_matrix(Y_test,Y_pred_adb_us))\n",
        "print(accuracy_score(Y_test,Y_pred_adb_us))\n",
        "print(classification_report(Y_test,Y_pred_adb_us))"
      ],
      "metadata": {
        "colab": {
          "base_uri": "https://localhost:8080/"
        },
        "id": "VOiPXZ4hZK91",
        "outputId": "f5c32830-464e-46b7-e7cd-54f41943415f"
      },
      "execution_count": 321,
      "outputs": [
        {
          "output_type": "stream",
          "name": "stdout",
          "text": [
            "[[129  28]\n",
            " [ 11  52]]\n",
            "0.8227272727272728\n",
            "              precision    recall  f1-score   support\n",
            "\n",
            "         0.0       0.92      0.82      0.87       157\n",
            "         1.0       0.65      0.83      0.73        63\n",
            "\n",
            "    accuracy                           0.82       220\n",
            "   macro avg       0.79      0.82      0.80       220\n",
            "weighted avg       0.84      0.82      0.83       220\n",
            "\n"
          ]
        }
      ]
    },
    {
      "cell_type": "code",
      "source": [
        "adb_score = []\n",
        "est = range(1,100,10)\n",
        "for i in est:\n",
        "    adb = AdaBoostClassifier(base_estimator = dt, n_estimators = i)\n",
        "    adb.fit(X_train_us,Y_train_us)\n",
        "    Y_pred_adb_us = adb.predict(X_test)\n",
        "    adb_score.append(accuracy_score(Y_test,Y_pred_adb_us))\n",
        "\n",
        "print(adb_score)"
      ],
      "metadata": {
        "colab": {
          "base_uri": "https://localhost:8080/"
        },
        "id": "6nKzhQURZYTf",
        "outputId": "e3cd2113-8577-43ff-dc80-58b2b02f3e7e"
      },
      "execution_count": 322,
      "outputs": [
        {
          "output_type": "stream",
          "name": "stdout",
          "text": [
            "[0.7954545454545454, 0.8181818181818182, 0.8318181818181818, 0.8227272727272728, 0.8090909090909091, 0.8272727272727273, 0.8090909090909091, 0.8318181818181818, 0.8363636363636363, 0.8227272727272728]\n"
          ]
        }
      ]
    },
    {
      "cell_type": "code",
      "source": [
        "plt.plot(est,adb_score,label = \"test_accuracy\")\n",
        "plt.ylabel(\"accuracy\")\n",
        "plt.xlabel(\"n_estimators\")\n",
        "plt.legend()"
      ],
      "metadata": {
        "colab": {
          "base_uri": "https://localhost:8080/",
          "height": 303
        },
        "id": "JoQPnvYBZnTH",
        "outputId": "a33351f3-5f77-4698-ee67-ac80efdc71eb"
      },
      "execution_count": 323,
      "outputs": [
        {
          "output_type": "execute_result",
          "data": {
            "text/plain": [
              "<matplotlib.legend.Legend at 0x7f689d4bb3d0>"
            ]
          },
          "metadata": {},
          "execution_count": 323
        },
        {
          "output_type": "display_data",
          "data": {
            "text/plain": [
              "<Figure size 432x288 with 1 Axes>"
            ],
            "image/png": "[encoded data removed]"
          },
          "metadata": {
            "needs_background": "light"
          }
        }
      ]
    },
    {
      "cell_type": "markdown",
      "source": [
        "From the above graph, choosing n_estimators = 30 which gave 90 accuracy the best accuracy of 92 is attained "
      ],
      "metadata": {
        "id": "459lDIe3aDm4"
      }
    },
    {
      "cell_type": "markdown",
      "source": [
        "**Gradinet Boosting**\n",
        "\n"
      ],
      "metadata": {
        "id": "fCfmdUKPaVhO"
      }
    },
    {
      "cell_type": "code",
      "source": [
        "from sklearn.ensemble import GradientBoostingClassifier\n",
        "gbr = GradientBoostingClassifier(n_estimators = 100, learning_rate = 0.165)\n",
        "gbr.fit(X_train_us,Y_train_us)\n",
        "Y_pred_gbr_us = gbr.predict(X_test)"
      ],
      "metadata": {
        "id": "K9PAkCuEaa9g"
      },
      "execution_count": 324,
      "outputs": []
    },
    {
      "cell_type": "code",
      "source": [
        "print(confusion_matrix(Y_test,Y_pred_gbr_us))\n",
        "print(accuracy_score(Y_test,Y_pred_gbr_us))\n",
        "print(classification_report(Y_test,Y_pred_gbr_us))"
      ],
      "metadata": {
        "colab": {
          "base_uri": "https://localhost:8080/"
        },
        "id": "4PsNEWEeauaB",
        "outputId": "c5cc3b91-fb10-45e3-e12b-3761469532d7"
      },
      "execution_count": 325,
      "outputs": [
        {
          "output_type": "stream",
          "name": "stdout",
          "text": [
            "[[133  24]\n",
            " [  8  55]]\n",
            "0.8545454545454545\n",
            "              precision    recall  f1-score   support\n",
            "\n",
            "         0.0       0.94      0.85      0.89       157\n",
            "         1.0       0.70      0.87      0.77        63\n",
            "\n",
            "    accuracy                           0.85       220\n",
            "   macro avg       0.82      0.86      0.83       220\n",
            "weighted avg       0.87      0.85      0.86       220\n",
            "\n"
          ]
        }
      ]
    },
    {
      "cell_type": "code",
      "source": [
        "gbr_score = []\n",
        "setting = np.arange(0.01,0.2,0.01)\n",
        "for i in setting:\n",
        "    gbr = GradientBoostingClassifier(n_estimators = 100, learning_rate = i)\n",
        "    gbr.fit(X_train_us,Y_train_us)\n",
        "    Y_pred_gbr_us = gbr.predict(X_test)\n",
        "    gbr_score.append(accuracy_score(Y_test,Y_pred_gbr_us))\n",
        "\n",
        "print(gbr_score)"
      ],
      "metadata": {
        "colab": {
          "base_uri": "https://localhost:8080/"
        },
        "id": "DBEm1c6La3iT",
        "outputId": "8fded599-0c5e-4ac3-c474-72c2791be302"
      },
      "execution_count": 326,
      "outputs": [
        {
          "output_type": "stream",
          "name": "stdout",
          "text": [
            "[0.8181818181818182, 0.8363636363636363, 0.8363636363636363, 0.8409090909090909, 0.8363636363636363, 0.85, 0.8636363636363636, 0.85, 0.85, 0.8545454545454545, 0.8590909090909091, 0.8636363636363636, 0.85, 0.8409090909090909, 0.8545454545454545, 0.8363636363636363, 0.8318181818181818, 0.8545454545454545, 0.8363636363636363]\n"
          ]
        }
      ]
    },
    {
      "cell_type": "code",
      "source": [
        "plt.plot(setting,gbr_score,label = \"test_accuracy\")\n",
        "plt.ylabel(\"accuracy\")\n",
        "plt.xlabel(\"learning rate\")\n",
        "plt.legend()"
      ],
      "metadata": {
        "colab": {
          "base_uri": "https://localhost:8080/",
          "height": 303
        },
        "id": "Qliq1Ni-bCWE",
        "outputId": "9eb7884b-1707-490d-8f89-ec4b4fd5f268"
      },
      "execution_count": 327,
      "outputs": [
        {
          "output_type": "execute_result",
          "data": {
            "text/plain": [
              "<matplotlib.legend.Legend at 0x7f689d41c150>"
            ]
          },
          "metadata": {},
          "execution_count": 327
        },
        {
          "output_type": "display_data",
          "data": {
            "text/plain": [
              "<Figure size 432x288 with 1 Axes>"
            ],
            "image/png": "[encoded data removed]"
          },
          "metadata": {
            "needs_background": "light"
          }
        }
      ]
    },
    {
      "cell_type": "markdown",
      "source": [
        "From the above graph, the best accuracy of 0.89 is attained at learning rate = 0.165and f-score is almost similar for both the classes"
      ],
      "metadata": {
        "id": "mJhVw_DMbPot"
      }
    },
    {
      "cell_type": "markdown",
      "source": [
        "**XG Boost**"
      ],
      "metadata": {
        "id": "1_cBtKtib0f8"
      }
    },
    {
      "cell_type": "code",
      "source": [
        "from xgboost import XGBClassifier\n",
        "XG = XGBClassifier(learning_rate = 0.14, gamma = 0, reg_lambda = 1, n_estimators = 100)\n",
        "XG.fit(X_train_us,Y_train_us)\n",
        "Y_pred_XG_us = XG.predict(X_test)"
      ],
      "metadata": {
        "id": "bQaOLNT8b23f"
      },
      "execution_count": 328,
      "outputs": []
    },
    {
      "cell_type": "code",
      "source": [
        "print(confusion_matrix(Y_test,Y_pred_XG_us))\n",
        "print(accuracy_score(Y_test,Y_pred_XG_us))\n",
        "print(classification_report(Y_test,Y_pred_XG_us))"
      ],
      "metadata": {
        "colab": {
          "base_uri": "https://localhost:8080/"
        },
        "id": "Qcgp5Ul3cQ9y",
        "outputId": "89956dc8-8210-4576-82b0-c44259b743bc"
      },
      "execution_count": 329,
      "outputs": [
        {
          "output_type": "stream",
          "name": "stdout",
          "text": [
            "[[135  22]\n",
            " [  8  55]]\n",
            "0.8636363636363636\n",
            "              precision    recall  f1-score   support\n",
            "\n",
            "         0.0       0.94      0.86      0.90       157\n",
            "         1.0       0.71      0.87      0.79        63\n",
            "\n",
            "    accuracy                           0.86       220\n",
            "   macro avg       0.83      0.87      0.84       220\n",
            "weighted avg       0.88      0.86      0.87       220\n",
            "\n"
          ]
        }
      ]
    },
    {
      "cell_type": "code",
      "source": [
        "XG_score = []\n",
        "est = range(1,100,10)\n",
        "for i in est:\n",
        "    XG = XGBClassifier(learning_rate = 0.14, gamma = 0, reg_lambda = 1, n_estimators = i)\n",
        "    XG.fit(X_train_us,Y_train_us)\n",
        "    Y_pred_XG_us = XG.predict(X_test)\n",
        "    XG_score.append(accuracy_score(Y_test,Y_pred_XG_us))\n",
        "\n",
        "print(XG_score)"
      ],
      "metadata": {
        "colab": {
          "base_uri": "https://localhost:8080/"
        },
        "id": "SDxUS6W0cZbJ",
        "outputId": "09b25285-84e9-41d0-8d92-1653fa5ead91"
      },
      "execution_count": 330,
      "outputs": [
        {
          "output_type": "stream",
          "name": "stdout",
          "text": [
            "[0.740909090909091, 0.8409090909090909, 0.8409090909090909, 0.8454545454545455, 0.8545454545454545, 0.8545454545454545, 0.8727272727272727, 0.8818181818181818, 0.8818181818181818, 0.8636363636363636]\n"
          ]
        }
      ]
    },
    {
      "cell_type": "code",
      "source": [
        "plt.plot(est,XG_score,label = \"test_accuracy\")\n",
        "plt.ylabel(\"accuracy\")\n",
        "plt.xlabel(\"estimators\")\n",
        "plt.legend()"
      ],
      "metadata": {
        "colab": {
          "base_uri": "https://localhost:8080/",
          "height": 303
        },
        "id": "pmqFrKMkcZUS",
        "outputId": "ed9efe69-cc25-49c6-ec87-386b1bc3a65a"
      },
      "execution_count": 331,
      "outputs": [
        {
          "output_type": "execute_result",
          "data": {
            "text/plain": [
              "<matplotlib.legend.Legend at 0x7f689d3a4e10>"
            ]
          },
          "metadata": {},
          "execution_count": 331
        },
        {
          "output_type": "display_data",
          "data": {
            "text/plain": [
              "<Figure size 432x288 with 1 Axes>"
            ],
            "image/png": "[encoded data removed]"
          },
          "metadata": {
            "needs_background": "light"
          }
        }
      ]
    },
    {
      "cell_type": "code",
      "source": [
        "print('Acc_XG_US:', accuracy_score(Y_test,Y_pred_XG_us))\n",
        "print('Acc_GRB_US:', accuracy_score(Y_test,Y_pred_gbr_us))\n",
        "print('Acc_ADB_US:', accuracy_score(Y_test,Y_pred_adb_us))\n",
        "print('Acc_RF_US:', accuracy_score(Y_test,Y_pred_rf_us))\n",
        "print('Acc_BAG_US:', accuracy_score(Y_test,Y_pred_bag_us))\n",
        "print('Acc_DT_US:', accuracy_score(Y_test,Y_pred_dt_us))\n",
        "print('Acc_SGD_US:', accuracy_score(Y_test,Y_pred_sgd_us))\n",
        "print('Acc_SVM_POLY_US:', accuracy_score(Y_test,Y_pred_svm_poly_us))\n",
        "print('Acc_SVM_RBF_US:', accuracy_score(Y_test,Y_pred_svm_rbf_us))\n",
        "print('Acc_SVM_LINEAR_US:', accuracy_score(Y_test,Y_pred_svm_linear_us))\n",
        "print('Acc_KNN_US:', accuracy_score(Y_test,Y_pred_knn_us))\n",
        "print('Acc_LR_US:', accuracy_score(Y_test,y_pred_lr_us))"
      ],
      "metadata": {
        "colab": {
          "base_uri": "https://localhost:8080/"
        },
        "id": "oH_1CwcRlKo2",
        "outputId": "15e62434-3bc3-461f-d2b8-e97da7d8c2fa"
      },
      "execution_count": 332,
      "outputs": [
        {
          "output_type": "stream",
          "name": "stdout",
          "text": [
            "Acc_XG_US: 0.8636363636363636\n",
            "Acc_GRB_US: 0.8363636363636363\n",
            "Acc_ADB_US: 0.8227272727272728\n",
            "Acc_RF_US: 0.8863636363636364\n",
            "Acc_BAG_US: 0.8681818181818182\n",
            "Acc_DT_US: 0.7954545454545454\n",
            "Acc_SGD_US: 0.6772727272727272\n",
            "Acc_SVM_POLY_US: 0.7863636363636364\n",
            "Acc_SVM_RBF_US: 0.8181818181818182\n",
            "Acc_SVM_LINEAR_US: 0.7636363636363637\n",
            "Acc_KNN_US: 0.8727272727272727\n",
            "Acc_LR_US: 0.75\n"
          ]
        }
      ]
    },
    {
      "cell_type": "markdown",
      "source": [
        "Findings:\n",
        "\n",
        "We should avoid undersampling technique as we lose huge amount of data.\n",
        "Oversampling will be better than undersampling."
      ],
      "metadata": {
        "id": "WO53M0NOzfw1"
      }
    }
  ]
}