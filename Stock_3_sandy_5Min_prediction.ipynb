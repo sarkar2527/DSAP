{
  "nbformat": 4,
  "nbformat_minor": 0,
  "metadata": {
    "colab": {
      "provenance": [],
      "collapsed_sections": [],
      "include_colab_link": true
    },
    "kernelspec": {
      "name": "python3",
      "display_name": "Python 3"
    },
    "language_info": {
      "name": "python"
    }
  },
  "cells": [
    {
      "cell_type": "markdown",
      "metadata": {
        "id": "view-in-github",
        "colab_type": "text"
      },
      "source": [
        "<a href=\"https://colab.research.google.com/github/sarkar2527/DSAP/blob/main/Stock_3_sandy_5Min_prediction.ipynb\" target=\"_parent\"><img src=\"https://colab.research.google.com/assets/colab-badge.svg\" alt=\"Open In Colab\"/></a>"
      ]
    },
    {
      "cell_type": "code",
      "execution_count": 16,
      "metadata": {
        "colab": {
          "base_uri": "https://localhost:8080/"
        },
        "id": "w2NjmXRlu6ag",
        "outputId": "b6f8624f-cf2e-468b-8cc2-e84f782ec359"
      },
      "outputs": [
        {
          "output_type": "stream",
          "name": "stdout",
          "text": [
            "Drive already mounted at /content/drive; to attempt to forcibly remount, call drive.mount(\"/content/drive\", force_remount=True).\n"
          ]
        }
      ],
      "source": [
        "from google.colab import drive\n",
        "drive.mount('/content/drive')"
      ]
    },
    {
      "cell_type": "code",
      "source": [
        "#Importing the neccessary Libraries\n",
        "import numpy as np\n",
        "import pandas as pd\n",
        "import matplotlib.pyplot as plt\n",
        "import seaborn as sns\n",
        "sns.set()\n",
        "%matplotlib inline"
      ],
      "metadata": {
        "id": "TVSN0MDavy7h"
      },
      "execution_count": 17,
      "outputs": []
    },
    {
      "cell_type": "code",
      "source": [
        "df = pd.read_csv(\"/content/drive/MyDrive/GL_Project_Sandy/Banknifty_5m_data_1_oct.csv\")"
      ],
      "metadata": {
        "id": "JImu79g5v046"
      },
      "execution_count": 43,
      "outputs": []
    },
    {
      "cell_type": "code",
      "source": [
        "df.shape"
      ],
      "metadata": {
        "colab": {
          "base_uri": "https://localhost:8080/"
        },
        "id": "TbjlzNfbxDtn",
        "outputId": "5571272c-1c9e-4a41-dabc-91b31bf54e03"
      },
      "execution_count": 44,
      "outputs": [
        {
          "output_type": "execute_result",
          "data": {
            "text/plain": [
              "(4499, 7)"
            ]
          },
          "metadata": {},
          "execution_count": 44
        }
      ]
    },
    {
      "cell_type": "code",
      "source": [
        "df.head()"
      ],
      "metadata": {
        "colab": {
          "base_uri": "https://localhost:8080/",
          "height": 206
        },
        "id": "yi6k6BDcU3Ru",
        "outputId": "25916e69-4555-401e-b69f-8daed02dd26e"
      },
      "execution_count": 45,
      "outputs": [
        {
          "output_type": "execute_result",
          "data": {
            "text/plain": [
              "                    Datetime          Open          High           Low  \\\n",
              "0  2022-07-06 09:15:00+05:30  33929.398438  34091.250000  33916.101562   \n",
              "1  2022-07-06 09:20:00+05:30  34022.050781  34132.898438  34022.050781   \n",
              "2  2022-07-06 09:25:00+05:30  34127.601562  34158.000000  34107.148438   \n",
              "3  2022-07-06 09:30:00+05:30  34137.601562  34155.101562  34096.250000   \n",
              "4  2022-07-06 09:35:00+05:30  34119.750000  34135.699219  34092.000000   \n",
              "\n",
              "          Close     Adj Close  Volume  \n",
              "0  34023.648438  34023.648438       0  \n",
              "1  34129.148438  34129.148438       0  \n",
              "2  34143.449219  34143.449219       0  \n",
              "3  34120.199219  34120.199219       0  \n",
              "4  34092.000000  34092.000000       0  "
            ],
            "text/html": [
              "\n",
              "  <div id=\"df-e2d66d18-599e-4eff-9585-d4a3f4c97a7f\">\n",
              "    <div class=\"colab-df-container\">\n",
              "      <div>\n",
              "<style scoped>\n",
              "    .dataframe tbody tr th:only-of-type {\n",
              "        vertical-align: middle;\n",
              "    }\n",
              "\n",
              "    .dataframe tbody tr th {\n",
              "        vertical-align: top;\n",
              "    }\n",
              "\n",
              "    .dataframe thead th {\n",
              "        text-align: right;\n",
              "    }\n",
              "</style>\n",
              "<table border=\"1\" class=\"dataframe\">\n",
              "  <thead>\n",
              "    <tr style=\"text-align: right;\">\n",
              "      <th></th>\n",
              "      <th>Datetime</th>\n",
              "      <th>Open</th>\n",
              "      <th>High</th>\n",
              "      <th>Low</th>\n",
              "      <th>Close</th>\n",
              "      <th>Adj Close</th>\n",
              "      <th>Volume</th>\n",
              "    </tr>\n",
              "  </thead>\n",
              "  <tbody>\n",
              "    <tr>\n",
              "      <th>0</th>\n",
              "      <td>2022-07-06 09:15:00+05:30</td>\n",
              "      <td>33929.398438</td>\n",
              "      <td>34091.250000</td>\n",
              "      <td>33916.101562</td>\n",
              "      <td>34023.648438</td>\n",
              "      <td>34023.648438</td>\n",
              "      <td>0</td>\n",
              "    </tr>\n",
              "    <tr>\n",
              "      <th>1</th>\n",
              "      <td>2022-07-06 09:20:00+05:30</td>\n",
              "      <td>34022.050781</td>\n",
              "      <td>34132.898438</td>\n",
              "      <td>34022.050781</td>\n",
              "      <td>34129.148438</td>\n",
              "      <td>34129.148438</td>\n",
              "      <td>0</td>\n",
              "    </tr>\n",
              "    <tr>\n",
              "      <th>2</th>\n",
              "      <td>2022-07-06 09:25:00+05:30</td>\n",
              "      <td>34127.601562</td>\n",
              "      <td>34158.000000</td>\n",
              "      <td>34107.148438</td>\n",
              "      <td>34143.449219</td>\n",
              "      <td>34143.449219</td>\n",
              "      <td>0</td>\n",
              "    </tr>\n",
              "    <tr>\n",
              "      <th>3</th>\n",
              "      <td>2022-07-06 09:30:00+05:30</td>\n",
              "      <td>34137.601562</td>\n",
              "      <td>34155.101562</td>\n",
              "      <td>34096.250000</td>\n",
              "      <td>34120.199219</td>\n",
              "      <td>34120.199219</td>\n",
              "      <td>0</td>\n",
              "    </tr>\n",
              "    <tr>\n",
              "      <th>4</th>\n",
              "      <td>2022-07-06 09:35:00+05:30</td>\n",
              "      <td>34119.750000</td>\n",
              "      <td>34135.699219</td>\n",
              "      <td>34092.000000</td>\n",
              "      <td>34092.000000</td>\n",
              "      <td>34092.000000</td>\n",
              "      <td>0</td>\n",
              "    </tr>\n",
              "  </tbody>\n",
              "</table>\n",
              "</div>\n",
              "      <button class=\"colab-df-convert\" onclick=\"convertToInteractive('df-e2d66d18-599e-4eff-9585-d4a3f4c97a7f')\"\n",
              "              title=\"Convert this dataframe to an interactive table.\"\n",
              "              style=\"display:none;\">\n",
              "        \n",
              "  <svg xmlns=\"http://www.w3.org/2000/svg\" height=\"24px\"viewBox=\"0 0 24 24\"\n",
              "       width=\"24px\">\n",
              "    <path d=\"M0 0h24v24H0V0z\" fill=\"none\"/>\n",
              "    <path d=\"M18.56 5.44l.94 2.06.94-2.06 2.06-.94-2.06-.94-.94-2.06-.94 2.06-2.06.94zm-11 1L8.5 8.5l.94-2.06 2.06-.94-2.06-.94L8.5 2.5l-.94 2.06-2.06.94zm10 10l.94 2.06.94-2.06 2.06-.94-2.06-.94-.94-2.06-.94 2.06-2.06.94z\"/><path d=\"M17.41 7.96l-1.37-1.37c-.4-.4-.92-.59-1.43-.59-.52 0-1.04.2-1.43.59L10.3 9.45l-7.72 7.72c-.78.78-.78 2.05 0 2.83L4 21.41c.39.39.9.59 1.41.59.51 0 1.02-.2 1.41-.59l7.78-7.78 2.81-2.81c.8-.78.8-2.07 0-2.86zM5.41 20L4 18.59l7.72-7.72 1.47 1.35L5.41 20z\"/>\n",
              "  </svg>\n",
              "      </button>\n",
              "      \n",
              "  <style>\n",
              "    .colab-df-container {\n",
              "      display:flex;\n",
              "      flex-wrap:wrap;\n",
              "      gap: 12px;\n",
              "    }\n",
              "\n",
              "    .colab-df-convert {\n",
              "      background-color: #E8F0FE;\n",
              "      border: none;\n",
              "      border-radius: 50%;\n",
              "      cursor: pointer;\n",
              "      display: none;\n",
              "      fill: #1967D2;\n",
              "      height: 32px;\n",
              "      padding: 0 0 0 0;\n",
              "      width: 32px;\n",
              "    }\n",
              "\n",
              "    .colab-df-convert:hover {\n",
              "      background-color: #E2EBFA;\n",
              "      box-shadow: 0px 1px 2px rgba(60, 64, 67, 0.3), 0px 1px 3px 1px rgba(60, 64, 67, 0.15);\n",
              "      fill: #174EA6;\n",
              "    }\n",
              "\n",
              "    [theme=dark] .colab-df-convert {\n",
              "      background-color: #3B4455;\n",
              "      fill: #D2E3FC;\n",
              "    }\n",
              "\n",
              "    [theme=dark] .colab-df-convert:hover {\n",
              "      background-color: #434B5C;\n",
              "      box-shadow: 0px 1px 3px 1px rgba(0, 0, 0, 0.15);\n",
              "      filter: drop-shadow(0px 1px 2px rgba(0, 0, 0, 0.3));\n",
              "      fill: #FFFFFF;\n",
              "    }\n",
              "  </style>\n",
              "\n",
              "      <script>\n",
              "        const buttonEl =\n",
              "          document.querySelector('#df-e2d66d18-599e-4eff-9585-d4a3f4c97a7f button.colab-df-convert');\n",
              "        buttonEl.style.display =\n",
              "          google.colab.kernel.accessAllowed ? 'block' : 'none';\n",
              "\n",
              "        async function convertToInteractive(key) {\n",
              "          const element = document.querySelector('#df-e2d66d18-599e-4eff-9585-d4a3f4c97a7f');\n",
              "          const dataTable =\n",
              "            await google.colab.kernel.invokeFunction('convertToInteractive',\n",
              "                                                     [key], {});\n",
              "          if (!dataTable) return;\n",
              "\n",
              "          const docLinkHtml = 'Like what you see? Visit the ' +\n",
              "            '<a target=\"_blank\" href=https://colab.research.google.com/notebooks/data_table.ipynb>data table notebook</a>'\n",
              "            + ' to learn more about interactive tables.';\n",
              "          element.innerHTML = '';\n",
              "          dataTable['output_type'] = 'display_data';\n",
              "          await google.colab.output.renderOutput(dataTable, element);\n",
              "          const docLink = document.createElement('div');\n",
              "          docLink.innerHTML = docLinkHtml;\n",
              "          element.appendChild(docLink);\n",
              "        }\n",
              "      </script>\n",
              "    </div>\n",
              "  </div>\n",
              "  "
            ]
          },
          "metadata": {},
          "execution_count": 45
        }
      ]
    },
    {
      "cell_type": "code",
      "source": [
        "#df['Date'] = pd.to_datetime(df['Datetime'], errors='coerce')"
      ],
      "metadata": {
        "id": "zEr1ACPjWJG7"
      },
      "execution_count": null,
      "outputs": []
    },
    {
      "cell_type": "code",
      "source": [
        "df['Date'] = pd.to_datetime(df['Datetime'])"
      ],
      "metadata": {
        "id": "EBhOpFkiW7Vw"
      },
      "execution_count": 46,
      "outputs": []
    },
    {
      "cell_type": "code",
      "source": [
        "df.head()"
      ],
      "metadata": {
        "colab": {
          "base_uri": "https://localhost:8080/",
          "height": 337
        },
        "id": "rQ8SKT-rWQBK",
        "outputId": "e84cd7f0-411c-4c66-aaf3-57b9d30d004b"
      },
      "execution_count": 47,
      "outputs": [
        {
          "output_type": "execute_result",
          "data": {
            "text/plain": [
              "                    Datetime          Open          High           Low  \\\n",
              "0  2022-07-06 09:15:00+05:30  33929.398438  34091.250000  33916.101562   \n",
              "1  2022-07-06 09:20:00+05:30  34022.050781  34132.898438  34022.050781   \n",
              "2  2022-07-06 09:25:00+05:30  34127.601562  34158.000000  34107.148438   \n",
              "3  2022-07-06 09:30:00+05:30  34137.601562  34155.101562  34096.250000   \n",
              "4  2022-07-06 09:35:00+05:30  34119.750000  34135.699219  34092.000000   \n",
              "\n",
              "          Close     Adj Close  Volume                      Date  \n",
              "0  34023.648438  34023.648438       0 2022-07-06 09:15:00+05:30  \n",
              "1  34129.148438  34129.148438       0 2022-07-06 09:20:00+05:30  \n",
              "2  34143.449219  34143.449219       0 2022-07-06 09:25:00+05:30  \n",
              "3  34120.199219  34120.199219       0 2022-07-06 09:30:00+05:30  \n",
              "4  34092.000000  34092.000000       0 2022-07-06 09:35:00+05:30  "
            ],
            "text/html": [
              "\n",
              "  <div id=\"df-cfe83457-c4d3-4f6f-87bb-09bb210f2120\">\n",
              "    <div class=\"colab-df-container\">\n",
              "      <div>\n",
              "<style scoped>\n",
              "    .dataframe tbody tr th:only-of-type {\n",
              "        vertical-align: middle;\n",
              "    }\n",
              "\n",
              "    .dataframe tbody tr th {\n",
              "        vertical-align: top;\n",
              "    }\n",
              "\n",
              "    .dataframe thead th {\n",
              "        text-align: right;\n",
              "    }\n",
              "</style>\n",
              "<table border=\"1\" class=\"dataframe\">\n",
              "  <thead>\n",
              "    <tr style=\"text-align: right;\">\n",
              "      <th></th>\n",
              "      <th>Datetime</th>\n",
              "      <th>Open</th>\n",
              "      <th>High</th>\n",
              "      <th>Low</th>\n",
              "      <th>Close</th>\n",
              "      <th>Adj Close</th>\n",
              "      <th>Volume</th>\n",
              "      <th>Date</th>\n",
              "    </tr>\n",
              "  </thead>\n",
              "  <tbody>\n",
              "    <tr>\n",
              "      <th>0</th>\n",
              "      <td>2022-07-06 09:15:00+05:30</td>\n",
              "      <td>33929.398438</td>\n",
              "      <td>34091.250000</td>\n",
              "      <td>33916.101562</td>\n",
              "      <td>34023.648438</td>\n",
              "      <td>34023.648438</td>\n",
              "      <td>0</td>\n",
              "      <td>2022-07-06 09:15:00+05:30</td>\n",
              "    </tr>\n",
              "    <tr>\n",
              "      <th>1</th>\n",
              "      <td>2022-07-06 09:20:00+05:30</td>\n",
              "      <td>34022.050781</td>\n",
              "      <td>34132.898438</td>\n",
              "      <td>34022.050781</td>\n",
              "      <td>34129.148438</td>\n",
              "      <td>34129.148438</td>\n",
              "      <td>0</td>\n",
              "      <td>2022-07-06 09:20:00+05:30</td>\n",
              "    </tr>\n",
              "    <tr>\n",
              "      <th>2</th>\n",
              "      <td>2022-07-06 09:25:00+05:30</td>\n",
              "      <td>34127.601562</td>\n",
              "      <td>34158.000000</td>\n",
              "      <td>34107.148438</td>\n",
              "      <td>34143.449219</td>\n",
              "      <td>34143.449219</td>\n",
              "      <td>0</td>\n",
              "      <td>2022-07-06 09:25:00+05:30</td>\n",
              "    </tr>\n",
              "    <tr>\n",
              "      <th>3</th>\n",
              "      <td>2022-07-06 09:30:00+05:30</td>\n",
              "      <td>34137.601562</td>\n",
              "      <td>34155.101562</td>\n",
              "      <td>34096.250000</td>\n",
              "      <td>34120.199219</td>\n",
              "      <td>34120.199219</td>\n",
              "      <td>0</td>\n",
              "      <td>2022-07-06 09:30:00+05:30</td>\n",
              "    </tr>\n",
              "    <tr>\n",
              "      <th>4</th>\n",
              "      <td>2022-07-06 09:35:00+05:30</td>\n",
              "      <td>34119.750000</td>\n",
              "      <td>34135.699219</td>\n",
              "      <td>34092.000000</td>\n",
              "      <td>34092.000000</td>\n",
              "      <td>34092.000000</td>\n",
              "      <td>0</td>\n",
              "      <td>2022-07-06 09:35:00+05:30</td>\n",
              "    </tr>\n",
              "  </tbody>\n",
              "</table>\n",
              "</div>\n",
              "      <button class=\"colab-df-convert\" onclick=\"convertToInteractive('df-cfe83457-c4d3-4f6f-87bb-09bb210f2120')\"\n",
              "              title=\"Convert this dataframe to an interactive table.\"\n",
              "              style=\"display:none;\">\n",
              "        \n",
              "  <svg xmlns=\"http://www.w3.org/2000/svg\" height=\"24px\"viewBox=\"0 0 24 24\"\n",
              "       width=\"24px\">\n",
              "    <path d=\"M0 0h24v24H0V0z\" fill=\"none\"/>\n",
              "    <path d=\"M18.56 5.44l.94 2.06.94-2.06 2.06-.94-2.06-.94-.94-2.06-.94 2.06-2.06.94zm-11 1L8.5 8.5l.94-2.06 2.06-.94-2.06-.94L8.5 2.5l-.94 2.06-2.06.94zm10 10l.94 2.06.94-2.06 2.06-.94-2.06-.94-.94-2.06-.94 2.06-2.06.94z\"/><path d=\"M17.41 7.96l-1.37-1.37c-.4-.4-.92-.59-1.43-.59-.52 0-1.04.2-1.43.59L10.3 9.45l-7.72 7.72c-.78.78-.78 2.05 0 2.83L4 21.41c.39.39.9.59 1.41.59.51 0 1.02-.2 1.41-.59l7.78-7.78 2.81-2.81c.8-.78.8-2.07 0-2.86zM5.41 20L4 18.59l7.72-7.72 1.47 1.35L5.41 20z\"/>\n",
              "  </svg>\n",
              "      </button>\n",
              "      \n",
              "  <style>\n",
              "    .colab-df-container {\n",
              "      display:flex;\n",
              "      flex-wrap:wrap;\n",
              "      gap: 12px;\n",
              "    }\n",
              "\n",
              "    .colab-df-convert {\n",
              "      background-color: #E8F0FE;\n",
              "      border: none;\n",
              "      border-radius: 50%;\n",
              "      cursor: pointer;\n",
              "      display: none;\n",
              "      fill: #1967D2;\n",
              "      height: 32px;\n",
              "      padding: 0 0 0 0;\n",
              "      width: 32px;\n",
              "    }\n",
              "\n",
              "    .colab-df-convert:hover {\n",
              "      background-color: #E2EBFA;\n",
              "      box-shadow: 0px 1px 2px rgba(60, 64, 67, 0.3), 0px 1px 3px 1px rgba(60, 64, 67, 0.15);\n",
              "      fill: #174EA6;\n",
              "    }\n",
              "\n",
              "    [theme=dark] .colab-df-convert {\n",
              "      background-color: #3B4455;\n",
              "      fill: #D2E3FC;\n",
              "    }\n",
              "\n",
              "    [theme=dark] .colab-df-convert:hover {\n",
              "      background-color: #434B5C;\n",
              "      box-shadow: 0px 1px 3px 1px rgba(0, 0, 0, 0.15);\n",
              "      filter: drop-shadow(0px 1px 2px rgba(0, 0, 0, 0.3));\n",
              "      fill: #FFFFFF;\n",
              "    }\n",
              "  </style>\n",
              "\n",
              "      <script>\n",
              "        const buttonEl =\n",
              "          document.querySelector('#df-cfe83457-c4d3-4f6f-87bb-09bb210f2120 button.colab-df-convert');\n",
              "        buttonEl.style.display =\n",
              "          google.colab.kernel.accessAllowed ? 'block' : 'none';\n",
              "\n",
              "        async function convertToInteractive(key) {\n",
              "          const element = document.querySelector('#df-cfe83457-c4d3-4f6f-87bb-09bb210f2120');\n",
              "          const dataTable =\n",
              "            await google.colab.kernel.invokeFunction('convertToInteractive',\n",
              "                                                     [key], {});\n",
              "          if (!dataTable) return;\n",
              "\n",
              "          const docLinkHtml = 'Like what you see? Visit the ' +\n",
              "            '<a target=\"_blank\" href=https://colab.research.google.com/notebooks/data_table.ipynb>data table notebook</a>'\n",
              "            + ' to learn more about interactive tables.';\n",
              "          element.innerHTML = '';\n",
              "          dataTable['output_type'] = 'display_data';\n",
              "          await google.colab.output.renderOutput(dataTable, element);\n",
              "          const docLink = document.createElement('div');\n",
              "          docLink.innerHTML = docLinkHtml;\n",
              "          element.appendChild(docLink);\n",
              "        }\n",
              "      </script>\n",
              "    </div>\n",
              "  </div>\n",
              "  "
            ]
          },
          "metadata": {},
          "execution_count": 47
        }
      ]
    },
    {
      "cell_type": "code",
      "source": [
        "df['year'] = df['Date'].dt.year\n",
        "df['month'] = df['Date'].dt.month\n",
        "df['day'] = df['Date'].dt.day\n",
        "df['hour'] = df['Date'].dt.hour\n",
        "df['minute'] = df['Date'].dt.minute"
      ],
      "metadata": {
        "id": "Ko_6fX7j8Mqk"
      },
      "execution_count": 48,
      "outputs": []
    },
    {
      "cell_type": "code",
      "source": [
        "df.head()"
      ],
      "metadata": {
        "colab": {
          "base_uri": "https://localhost:8080/",
          "height": 357
        },
        "id": "wBXP4GrRXUg6",
        "outputId": "4cdd7005-4dd7-400f-8693-e6578a96eca2"
      },
      "execution_count": 49,
      "outputs": [
        {
          "output_type": "execute_result",
          "data": {
            "text/plain": [
              "                    Datetime          Open          High           Low  \\\n",
              "0  2022-07-06 09:15:00+05:30  33929.398438  34091.250000  33916.101562   \n",
              "1  2022-07-06 09:20:00+05:30  34022.050781  34132.898438  34022.050781   \n",
              "2  2022-07-06 09:25:00+05:30  34127.601562  34158.000000  34107.148438   \n",
              "3  2022-07-06 09:30:00+05:30  34137.601562  34155.101562  34096.250000   \n",
              "4  2022-07-06 09:35:00+05:30  34119.750000  34135.699219  34092.000000   \n",
              "\n",
              "          Close     Adj Close  Volume                      Date  year  month  \\\n",
              "0  34023.648438  34023.648438       0 2022-07-06 09:15:00+05:30  2022      7   \n",
              "1  34129.148438  34129.148438       0 2022-07-06 09:20:00+05:30  2022      7   \n",
              "2  34143.449219  34143.449219       0 2022-07-06 09:25:00+05:30  2022      7   \n",
              "3  34120.199219  34120.199219       0 2022-07-06 09:30:00+05:30  2022      7   \n",
              "4  34092.000000  34092.000000       0 2022-07-06 09:35:00+05:30  2022      7   \n",
              "\n",
              "   day  hour  minute  \n",
              "0    6     9      15  \n",
              "1    6     9      20  \n",
              "2    6     9      25  \n",
              "3    6     9      30  \n",
              "4    6     9      35  "
            ],
            "text/html": [
              "\n",
              "  <div id=\"df-fa790e1e-5832-463c-8961-f3be3493390d\">\n",
              "    <div class=\"colab-df-container\">\n",
              "      <div>\n",
              "<style scoped>\n",
              "    .dataframe tbody tr th:only-of-type {\n",
              "        vertical-align: middle;\n",
              "    }\n",
              "\n",
              "    .dataframe tbody tr th {\n",
              "        vertical-align: top;\n",
              "    }\n",
              "\n",
              "    .dataframe thead th {\n",
              "        text-align: right;\n",
              "    }\n",
              "</style>\n",
              "<table border=\"1\" class=\"dataframe\">\n",
              "  <thead>\n",
              "    <tr style=\"text-align: right;\">\n",
              "      <th></th>\n",
              "      <th>Datetime</th>\n",
              "      <th>Open</th>\n",
              "      <th>High</th>\n",
              "      <th>Low</th>\n",
              "      <th>Close</th>\n",
              "      <th>Adj Close</th>\n",
              "      <th>Volume</th>\n",
              "      <th>Date</th>\n",
              "      <th>year</th>\n",
              "      <th>month</th>\n",
              "      <th>day</th>\n",
              "      <th>hour</th>\n",
              "      <th>minute</th>\n",
              "    </tr>\n",
              "  </thead>\n",
              "  <tbody>\n",
              "    <tr>\n",
              "      <th>0</th>\n",
              "      <td>2022-07-06 09:15:00+05:30</td>\n",
              "      <td>33929.398438</td>\n",
              "      <td>34091.250000</td>\n",
              "      <td>33916.101562</td>\n",
              "      <td>34023.648438</td>\n",
              "      <td>34023.648438</td>\n",
              "      <td>0</td>\n",
              "      <td>2022-07-06 09:15:00+05:30</td>\n",
              "      <td>2022</td>\n",
              "      <td>7</td>\n",
              "      <td>6</td>\n",
              "      <td>9</td>\n",
              "      <td>15</td>\n",
              "    </tr>\n",
              "    <tr>\n",
              "      <th>1</th>\n",
              "      <td>2022-07-06 09:20:00+05:30</td>\n",
              "      <td>34022.050781</td>\n",
              "      <td>34132.898438</td>\n",
              "      <td>34022.050781</td>\n",
              "      <td>34129.148438</td>\n",
              "      <td>34129.148438</td>\n",
              "      <td>0</td>\n",
              "      <td>2022-07-06 09:20:00+05:30</td>\n",
              "      <td>2022</td>\n",
              "      <td>7</td>\n",
              "      <td>6</td>\n",
              "      <td>9</td>\n",
              "      <td>20</td>\n",
              "    </tr>\n",
              "    <tr>\n",
              "      <th>2</th>\n",
              "      <td>2022-07-06 09:25:00+05:30</td>\n",
              "      <td>34127.601562</td>\n",
              "      <td>34158.000000</td>\n",
              "      <td>34107.148438</td>\n",
              "      <td>34143.449219</td>\n",
              "      <td>34143.449219</td>\n",
              "      <td>0</td>\n",
              "      <td>2022-07-06 09:25:00+05:30</td>\n",
              "      <td>2022</td>\n",
              "      <td>7</td>\n",
              "      <td>6</td>\n",
              "      <td>9</td>\n",
              "      <td>25</td>\n",
              "    </tr>\n",
              "    <tr>\n",
              "      <th>3</th>\n",
              "      <td>2022-07-06 09:30:00+05:30</td>\n",
              "      <td>34137.601562</td>\n",
              "      <td>34155.101562</td>\n",
              "      <td>34096.250000</td>\n",
              "      <td>34120.199219</td>\n",
              "      <td>34120.199219</td>\n",
              "      <td>0</td>\n",
              "      <td>2022-07-06 09:30:00+05:30</td>\n",
              "      <td>2022</td>\n",
              "      <td>7</td>\n",
              "      <td>6</td>\n",
              "      <td>9</td>\n",
              "      <td>30</td>\n",
              "    </tr>\n",
              "    <tr>\n",
              "      <th>4</th>\n",
              "      <td>2022-07-06 09:35:00+05:30</td>\n",
              "      <td>34119.750000</td>\n",
              "      <td>34135.699219</td>\n",
              "      <td>34092.000000</td>\n",
              "      <td>34092.000000</td>\n",
              "      <td>34092.000000</td>\n",
              "      <td>0</td>\n",
              "      <td>2022-07-06 09:35:00+05:30</td>\n",
              "      <td>2022</td>\n",
              "      <td>7</td>\n",
              "      <td>6</td>\n",
              "      <td>9</td>\n",
              "      <td>35</td>\n",
              "    </tr>\n",
              "  </tbody>\n",
              "</table>\n",
              "</div>\n",
              "      <button class=\"colab-df-convert\" onclick=\"convertToInteractive('df-fa790e1e-5832-463c-8961-f3be3493390d')\"\n",
              "              title=\"Convert this dataframe to an interactive table.\"\n",
              "              style=\"display:none;\">\n",
              "        \n",
              "  <svg xmlns=\"http://www.w3.org/2000/svg\" height=\"24px\"viewBox=\"0 0 24 24\"\n",
              "       width=\"24px\">\n",
              "    <path d=\"M0 0h24v24H0V0z\" fill=\"none\"/>\n",
              "    <path d=\"M18.56 5.44l.94 2.06.94-2.06 2.06-.94-2.06-.94-.94-2.06-.94 2.06-2.06.94zm-11 1L8.5 8.5l.94-2.06 2.06-.94-2.06-.94L8.5 2.5l-.94 2.06-2.06.94zm10 10l.94 2.06.94-2.06 2.06-.94-2.06-.94-.94-2.06-.94 2.06-2.06.94z\"/><path d=\"M17.41 7.96l-1.37-1.37c-.4-.4-.92-.59-1.43-.59-.52 0-1.04.2-1.43.59L10.3 9.45l-7.72 7.72c-.78.78-.78 2.05 0 2.83L4 21.41c.39.39.9.59 1.41.59.51 0 1.02-.2 1.41-.59l7.78-7.78 2.81-2.81c.8-.78.8-2.07 0-2.86zM5.41 20L4 18.59l7.72-7.72 1.47 1.35L5.41 20z\"/>\n",
              "  </svg>\n",
              "      </button>\n",
              "      \n",
              "  <style>\n",
              "    .colab-df-container {\n",
              "      display:flex;\n",
              "      flex-wrap:wrap;\n",
              "      gap: 12px;\n",
              "    }\n",
              "\n",
              "    .colab-df-convert {\n",
              "      background-color: #E8F0FE;\n",
              "      border: none;\n",
              "      border-radius: 50%;\n",
              "      cursor: pointer;\n",
              "      display: none;\n",
              "      fill: #1967D2;\n",
              "      height: 32px;\n",
              "      padding: 0 0 0 0;\n",
              "      width: 32px;\n",
              "    }\n",
              "\n",
              "    .colab-df-convert:hover {\n",
              "      background-color: #E2EBFA;\n",
              "      box-shadow: 0px 1px 2px rgba(60, 64, 67, 0.3), 0px 1px 3px 1px rgba(60, 64, 67, 0.15);\n",
              "      fill: #174EA6;\n",
              "    }\n",
              "\n",
              "    [theme=dark] .colab-df-convert {\n",
              "      background-color: #3B4455;\n",
              "      fill: #D2E3FC;\n",
              "    }\n",
              "\n",
              "    [theme=dark] .colab-df-convert:hover {\n",
              "      background-color: #434B5C;\n",
              "      box-shadow: 0px 1px 3px 1px rgba(0, 0, 0, 0.15);\n",
              "      filter: drop-shadow(0px 1px 2px rgba(0, 0, 0, 0.3));\n",
              "      fill: #FFFFFF;\n",
              "    }\n",
              "  </style>\n",
              "\n",
              "      <script>\n",
              "        const buttonEl =\n",
              "          document.querySelector('#df-fa790e1e-5832-463c-8961-f3be3493390d button.colab-df-convert');\n",
              "        buttonEl.style.display =\n",
              "          google.colab.kernel.accessAllowed ? 'block' : 'none';\n",
              "\n",
              "        async function convertToInteractive(key) {\n",
              "          const element = document.querySelector('#df-fa790e1e-5832-463c-8961-f3be3493390d');\n",
              "          const dataTable =\n",
              "            await google.colab.kernel.invokeFunction('convertToInteractive',\n",
              "                                                     [key], {});\n",
              "          if (!dataTable) return;\n",
              "\n",
              "          const docLinkHtml = 'Like what you see? Visit the ' +\n",
              "            '<a target=\"_blank\" href=https://colab.research.google.com/notebooks/data_table.ipynb>data table notebook</a>'\n",
              "            + ' to learn more about interactive tables.';\n",
              "          element.innerHTML = '';\n",
              "          dataTable['output_type'] = 'display_data';\n",
              "          await google.colab.output.renderOutput(dataTable, element);\n",
              "          const docLink = document.createElement('div');\n",
              "          docLink.innerHTML = docLinkHtml;\n",
              "          element.appendChild(docLink);\n",
              "        }\n",
              "      </script>\n",
              "    </div>\n",
              "  </div>\n",
              "  "
            ]
          },
          "metadata": {},
          "execution_count": 49
        }
      ]
    },
    {
      "cell_type": "markdown",
      "source": [
        "Removing Time string. Take date/month/year alone for analysis"
      ],
      "metadata": {
        "id": "C0Pq7KpUP44h"
      }
    },
    {
      "cell_type": "code",
      "source": [
        "df.info()"
      ],
      "metadata": {
        "id": "v7rFi8qvVZMW",
        "outputId": "2cea0de6-ca31-4877-d995-0c29ff38f0a9",
        "colab": {
          "base_uri": "https://localhost:8080/"
        }
      },
      "execution_count": 25,
      "outputs": [
        {
          "output_type": "stream",
          "name": "stdout",
          "text": [
            "<class 'pandas.core.frame.DataFrame'>\n",
            "RangeIndex: 4499 entries, 0 to 4498\n",
            "Data columns (total 13 columns):\n",
            " #   Column     Non-Null Count  Dtype                                \n",
            "---  ------     --------------  -----                                \n",
            " 0   Datetime   4499 non-null   object                               \n",
            " 1   Open       4499 non-null   float64                              \n",
            " 2   High       4499 non-null   float64                              \n",
            " 3   Low        4499 non-null   float64                              \n",
            " 4   Close      4499 non-null   float64                              \n",
            " 5   Adj Close  4499 non-null   float64                              \n",
            " 6   Volume     4499 non-null   int64                                \n",
            " 7   Date       4499 non-null   datetime64[ns, pytz.FixedOffset(330)]\n",
            " 8   year       4499 non-null   int64                                \n",
            " 9   month      4499 non-null   int64                                \n",
            " 10  day        4499 non-null   int64                                \n",
            " 11  hour       4499 non-null   int64                                \n",
            " 12  minute     4499 non-null   int64                                \n",
            "dtypes: datetime64[ns, pytz.FixedOffset(330)](1), float64(5), int64(6), object(1)\n",
            "memory usage: 457.1+ KB\n"
          ]
        }
      ]
    },
    {
      "cell_type": "code",
      "source": [
        "df.isnull().sum()"
      ],
      "metadata": {
        "colab": {
          "base_uri": "https://localhost:8080/"
        },
        "id": "siT8pzStxK50",
        "outputId": "f6b3d48f-36f5-4225-bc2c-d5a223331ff9"
      },
      "execution_count": null,
      "outputs": [
        {
          "output_type": "execute_result",
          "data": {
            "text/plain": [
              "Datetime     0\n",
              "Open         0\n",
              "High         0\n",
              "Low          0\n",
              "Close        0\n",
              "Adj Close    0\n",
              "Volume       0\n",
              "dtype: int64"
            ]
          },
          "metadata": {},
          "execution_count": 9
        }
      ]
    },
    {
      "cell_type": "markdown",
      "source": [
        "Converting the data type from \"object\" to \"datetime\" for the \"Datetime\""
      ],
      "metadata": {
        "id": "9l0g3bGIQMfT"
      }
    },
    {
      "cell_type": "code",
      "source": [
        "print(f'DataFrame contains stock between {df.Datetime.min()} {df.Datetime.max()}')\n",
        "print(f'Total numner of days = {(df.Datetime.max()- df.Datetime.min()).days} days')"
      ],
      "metadata": {
        "id": "osf54qp4at9J"
      },
      "execution_count": null,
      "outputs": []
    },
    {
      "cell_type": "code",
      "source": [
        "df.describe()"
      ],
      "metadata": {
        "colab": {
          "base_uri": "https://localhost:8080/",
          "height": 364
        },
        "id": "L2CU1VLw1mPc",
        "outputId": "9854f2b8-92b4-497b-afac-ff293c08d59c"
      },
      "execution_count": 27,
      "outputs": [
        {
          "output_type": "execute_result",
          "data": {
            "text/plain": [
              "               Open          High           Low         Close     Adj Close  \\\n",
              "count   4499.000000   4499.000000   4499.000000   4499.000000   4499.000000   \n",
              "mean   38232.863543  38259.840769  38205.939855  38233.823223  38233.823223   \n",
              "std     1964.348261   1965.959555   1962.130293   1963.918792   1963.918792   \n",
              "min    33929.398438  34074.750000  33916.101562  33992.148438  33992.148438   \n",
              "25%    36712.449219  36728.974609  36674.500000  36711.701172  36711.701172   \n",
              "50%    38413.000000  38450.750000  38387.199219  38414.699219  38414.699219   \n",
              "75%    39513.699219  39542.724609  39492.875000  39516.650391  39516.650391   \n",
              "max    41795.851562  41830.351562  41766.300781  41788.199219  41788.199219   \n",
              "\n",
              "       Volume    year        month          day         hour       minute  \n",
              "count  4499.0  4499.0  4499.000000  4499.000000  4499.000000  4499.000000  \n",
              "mean      0.0  2022.0     8.066459    16.319182    11.880196    27.197155  \n",
              "std       0.0     0.0     0.813832     8.601235     1.840845    16.992702  \n",
              "min       0.0  2022.0     7.000000     1.000000     9.000000     0.000000  \n",
              "25%       0.0  2022.0     7.000000     8.500000    10.000000    15.000000  \n",
              "50%       0.0  2022.0     8.000000    17.000000    12.000000    25.000000  \n",
              "75%       0.0  2022.0     9.000000    24.000000    13.000000    40.000000  \n",
              "max       0.0  2022.0     9.000000    30.000000    15.000000    55.000000  "
            ],
            "text/html": [
              "\n",
              "  <div id=\"df-d361c8c6-ed90-49f5-ae54-aca8b5e28198\">\n",
              "    <div class=\"colab-df-container\">\n",
              "      <div>\n",
              "<style scoped>\n",
              "    .dataframe tbody tr th:only-of-type {\n",
              "        vertical-align: middle;\n",
              "    }\n",
              "\n",
              "    .dataframe tbody tr th {\n",
              "        vertical-align: top;\n",
              "    }\n",
              "\n",
              "    .dataframe thead th {\n",
              "        text-align: right;\n",
              "    }\n",
              "</style>\n",
              "<table border=\"1\" class=\"dataframe\">\n",
              "  <thead>\n",
              "    <tr style=\"text-align: right;\">\n",
              "      <th></th>\n",
              "      <th>Open</th>\n",
              "      <th>High</th>\n",
              "      <th>Low</th>\n",
              "      <th>Close</th>\n",
              "      <th>Adj Close</th>\n",
              "      <th>Volume</th>\n",
              "      <th>year</th>\n",
              "      <th>month</th>\n",
              "      <th>day</th>\n",
              "      <th>hour</th>\n",
              "      <th>minute</th>\n",
              "    </tr>\n",
              "  </thead>\n",
              "  <tbody>\n",
              "    <tr>\n",
              "      <th>count</th>\n",
              "      <td>4499.000000</td>\n",
              "      <td>4499.000000</td>\n",
              "      <td>4499.000000</td>\n",
              "      <td>4499.000000</td>\n",
              "      <td>4499.000000</td>\n",
              "      <td>4499.0</td>\n",
              "      <td>4499.0</td>\n",
              "      <td>4499.000000</td>\n",
              "      <td>4499.000000</td>\n",
              "      <td>4499.000000</td>\n",
              "      <td>4499.000000</td>\n",
              "    </tr>\n",
              "    <tr>\n",
              "      <th>mean</th>\n",
              "      <td>38232.863543</td>\n",
              "      <td>38259.840769</td>\n",
              "      <td>38205.939855</td>\n",
              "      <td>38233.823223</td>\n",
              "      <td>38233.823223</td>\n",
              "      <td>0.0</td>\n",
              "      <td>2022.0</td>\n",
              "      <td>8.066459</td>\n",
              "      <td>16.319182</td>\n",
              "      <td>11.880196</td>\n",
              "      <td>27.197155</td>\n",
              "    </tr>\n",
              "    <tr>\n",
              "      <th>std</th>\n",
              "      <td>1964.348261</td>\n",
              "      <td>1965.959555</td>\n",
              "      <td>1962.130293</td>\n",
              "      <td>1963.918792</td>\n",
              "      <td>1963.918792</td>\n",
              "      <td>0.0</td>\n",
              "      <td>0.0</td>\n",
              "      <td>0.813832</td>\n",
              "      <td>8.601235</td>\n",
              "      <td>1.840845</td>\n",
              "      <td>16.992702</td>\n",
              "    </tr>\n",
              "    <tr>\n",
              "      <th>min</th>\n",
              "      <td>33929.398438</td>\n",
              "      <td>34074.750000</td>\n",
              "      <td>33916.101562</td>\n",
              "      <td>33992.148438</td>\n",
              "      <td>33992.148438</td>\n",
              "      <td>0.0</td>\n",
              "      <td>2022.0</td>\n",
              "      <td>7.000000</td>\n",
              "      <td>1.000000</td>\n",
              "      <td>9.000000</td>\n",
              "      <td>0.000000</td>\n",
              "    </tr>\n",
              "    <tr>\n",
              "      <th>25%</th>\n",
              "      <td>36712.449219</td>\n",
              "      <td>36728.974609</td>\n",
              "      <td>36674.500000</td>\n",
              "      <td>36711.701172</td>\n",
              "      <td>36711.701172</td>\n",
              "      <td>0.0</td>\n",
              "      <td>2022.0</td>\n",
              "      <td>7.000000</td>\n",
              "      <td>8.500000</td>\n",
              "      <td>10.000000</td>\n",
              "      <td>15.000000</td>\n",
              "    </tr>\n",
              "    <tr>\n",
              "      <th>50%</th>\n",
              "      <td>38413.000000</td>\n",
              "      <td>38450.750000</td>\n",
              "      <td>38387.199219</td>\n",
              "      <td>38414.699219</td>\n",
              "      <td>38414.699219</td>\n",
              "      <td>0.0</td>\n",
              "      <td>2022.0</td>\n",
              "      <td>8.000000</td>\n",
              "      <td>17.000000</td>\n",
              "      <td>12.000000</td>\n",
              "      <td>25.000000</td>\n",
              "    </tr>\n",
              "    <tr>\n",
              "      <th>75%</th>\n",
              "      <td>39513.699219</td>\n",
              "      <td>39542.724609</td>\n",
              "      <td>39492.875000</td>\n",
              "      <td>39516.650391</td>\n",
              "      <td>39516.650391</td>\n",
              "      <td>0.0</td>\n",
              "      <td>2022.0</td>\n",
              "      <td>9.000000</td>\n",
              "      <td>24.000000</td>\n",
              "      <td>13.000000</td>\n",
              "      <td>40.000000</td>\n",
              "    </tr>\n",
              "    <tr>\n",
              "      <th>max</th>\n",
              "      <td>41795.851562</td>\n",
              "      <td>41830.351562</td>\n",
              "      <td>41766.300781</td>\n",
              "      <td>41788.199219</td>\n",
              "      <td>41788.199219</td>\n",
              "      <td>0.0</td>\n",
              "      <td>2022.0</td>\n",
              "      <td>9.000000</td>\n",
              "      <td>30.000000</td>\n",
              "      <td>15.000000</td>\n",
              "      <td>55.000000</td>\n",
              "    </tr>\n",
              "  </tbody>\n",
              "</table>\n",
              "</div>\n",
              "      <button class=\"colab-df-convert\" onclick=\"convertToInteractive('df-d361c8c6-ed90-49f5-ae54-aca8b5e28198')\"\n",
              "              title=\"Convert this dataframe to an interactive table.\"\n",
              "              style=\"display:none;\">\n",
              "        \n",
              "  <svg xmlns=\"http://www.w3.org/2000/svg\" height=\"24px\"viewBox=\"0 0 24 24\"\n",
              "       width=\"24px\">\n",
              "    <path d=\"M0 0h24v24H0V0z\" fill=\"none\"/>\n",
              "    <path d=\"M18.56 5.44l.94 2.06.94-2.06 2.06-.94-2.06-.94-.94-2.06-.94 2.06-2.06.94zm-11 1L8.5 8.5l.94-2.06 2.06-.94-2.06-.94L8.5 2.5l-.94 2.06-2.06.94zm10 10l.94 2.06.94-2.06 2.06-.94-2.06-.94-.94-2.06-.94 2.06-2.06.94z\"/><path d=\"M17.41 7.96l-1.37-1.37c-.4-.4-.92-.59-1.43-.59-.52 0-1.04.2-1.43.59L10.3 9.45l-7.72 7.72c-.78.78-.78 2.05 0 2.83L4 21.41c.39.39.9.59 1.41.59.51 0 1.02-.2 1.41-.59l7.78-7.78 2.81-2.81c.8-.78.8-2.07 0-2.86zM5.41 20L4 18.59l7.72-7.72 1.47 1.35L5.41 20z\"/>\n",
              "  </svg>\n",
              "      </button>\n",
              "      \n",
              "  <style>\n",
              "    .colab-df-container {\n",
              "      display:flex;\n",
              "      flex-wrap:wrap;\n",
              "      gap: 12px;\n",
              "    }\n",
              "\n",
              "    .colab-df-convert {\n",
              "      background-color: #E8F0FE;\n",
              "      border: none;\n",
              "      border-radius: 50%;\n",
              "      cursor: pointer;\n",
              "      display: none;\n",
              "      fill: #1967D2;\n",
              "      height: 32px;\n",
              "      padding: 0 0 0 0;\n",
              "      width: 32px;\n",
              "    }\n",
              "\n",
              "    .colab-df-convert:hover {\n",
              "      background-color: #E2EBFA;\n",
              "      box-shadow: 0px 1px 2px rgba(60, 64, 67, 0.3), 0px 1px 3px 1px rgba(60, 64, 67, 0.15);\n",
              "      fill: #174EA6;\n",
              "    }\n",
              "\n",
              "    [theme=dark] .colab-df-convert {\n",
              "      background-color: #3B4455;\n",
              "      fill: #D2E3FC;\n",
              "    }\n",
              "\n",
              "    [theme=dark] .colab-df-convert:hover {\n",
              "      background-color: #434B5C;\n",
              "      box-shadow: 0px 1px 3px 1px rgba(0, 0, 0, 0.15);\n",
              "      filter: drop-shadow(0px 1px 2px rgba(0, 0, 0, 0.3));\n",
              "      fill: #FFFFFF;\n",
              "    }\n",
              "  </style>\n",
              "\n",
              "      <script>\n",
              "        const buttonEl =\n",
              "          document.querySelector('#df-d361c8c6-ed90-49f5-ae54-aca8b5e28198 button.colab-df-convert');\n",
              "        buttonEl.style.display =\n",
              "          google.colab.kernel.accessAllowed ? 'block' : 'none';\n",
              "\n",
              "        async function convertToInteractive(key) {\n",
              "          const element = document.querySelector('#df-d361c8c6-ed90-49f5-ae54-aca8b5e28198');\n",
              "          const dataTable =\n",
              "            await google.colab.kernel.invokeFunction('convertToInteractive',\n",
              "                                                     [key], {});\n",
              "          if (!dataTable) return;\n",
              "\n",
              "          const docLinkHtml = 'Like what you see? Visit the ' +\n",
              "            '<a target=\"_blank\" href=https://colab.research.google.com/notebooks/data_table.ipynb>data table notebook</a>'\n",
              "            + ' to learn more about interactive tables.';\n",
              "          element.innerHTML = '';\n",
              "          dataTable['output_type'] = 'display_data';\n",
              "          await google.colab.output.renderOutput(dataTable, element);\n",
              "          const docLink = document.createElement('div');\n",
              "          docLink.innerHTML = docLinkHtml;\n",
              "          element.appendChild(docLink);\n",
              "        }\n",
              "      </script>\n",
              "    </div>\n",
              "  </div>\n",
              "  "
            ]
          },
          "metadata": {},
          "execution_count": 27
        }
      ]
    },
    {
      "cell_type": "code",
      "source": [
        "df[['Low','High','Open','Close']].plot(kind= 'box', figsize=(12,4))"
      ],
      "metadata": {
        "colab": {
          "base_uri": "https://localhost:8080/",
          "height": 285
        },
        "id": "zQ6JYDAHMzqr",
        "outputId": "c889c0b2-d740-4cc5-f456-00d9a7d4d5a6"
      },
      "execution_count": null,
      "outputs": [
        {
          "output_type": "execute_result",
          "data": {
            "text/plain": [
              "<matplotlib.axes._subplots.AxesSubplot at 0x7f6730513790>"
            ]
          },
          "metadata": {},
          "execution_count": 14
        },
        {
          "output_type": "display_data",
          "data": {
            "text/plain": [
              "<Figure size 864x288 with 1 Axes>"
            ],
            "image/png": "[encoded data removed]"
          },
          "metadata": {
            "needs_background": "light"
          }
        }
      ]
    },
    {
      "cell_type": "code",
      "source": [
        "df.columns"
      ],
      "metadata": {
        "colab": {
          "base_uri": "https://localhost:8080/"
        },
        "id": "zChDTCBia6OX",
        "outputId": "83efdc08-0b61-46f2-c53e-a8221e18786d"
      },
      "execution_count": 29,
      "outputs": [
        {
          "output_type": "execute_result",
          "data": {
            "text/plain": [
              "Index(['Datetime', 'Open', 'High', 'Low', 'Close', 'Adj Close', 'Volume',\n",
              "       'Date', 'year', 'month', 'day', 'hour', 'minute'],\n",
              "      dtype='object')"
            ]
          },
          "metadata": {},
          "execution_count": 29
        }
      ]
    },
    {
      "cell_type": "code",
      "source": [
        "df.drop(['Volume','Datetime','Date','year'], axis = 1, inplace = True)"
      ],
      "metadata": {
        "id": "x8CYOWiiQ2gR"
      },
      "execution_count": 50,
      "outputs": []
    },
    {
      "cell_type": "code",
      "source": [
        "df.head()"
      ],
      "metadata": {
        "colab": {
          "base_uri": "https://localhost:8080/",
          "height": 206
        },
        "id": "432uRXGpRCjf",
        "outputId": "c6e503f5-4269-4b90-c71b-0420772d52a0"
      },
      "execution_count": 51,
      "outputs": [
        {
          "output_type": "execute_result",
          "data": {
            "text/plain": [
              "           Open          High           Low         Close     Adj Close  \\\n",
              "0  33929.398438  34091.250000  33916.101562  34023.648438  34023.648438   \n",
              "1  34022.050781  34132.898438  34022.050781  34129.148438  34129.148438   \n",
              "2  34127.601562  34158.000000  34107.148438  34143.449219  34143.449219   \n",
              "3  34137.601562  34155.101562  34096.250000  34120.199219  34120.199219   \n",
              "4  34119.750000  34135.699219  34092.000000  34092.000000  34092.000000   \n",
              "\n",
              "   month  day  hour  minute  \n",
              "0      7    6     9      15  \n",
              "1      7    6     9      20  \n",
              "2      7    6     9      25  \n",
              "3      7    6     9      30  \n",
              "4      7    6     9      35  "
            ],
            "text/html": [
              "\n",
              "  <div id=\"df-bfa0b79d-b092-423b-bea8-187bcd326e1f\">\n",
              "    <div class=\"colab-df-container\">\n",
              "      <div>\n",
              "<style scoped>\n",
              "    .dataframe tbody tr th:only-of-type {\n",
              "        vertical-align: middle;\n",
              "    }\n",
              "\n",
              "    .dataframe tbody tr th {\n",
              "        vertical-align: top;\n",
              "    }\n",
              "\n",
              "    .dataframe thead th {\n",
              "        text-align: right;\n",
              "    }\n",
              "</style>\n",
              "<table border=\"1\" class=\"dataframe\">\n",
              "  <thead>\n",
              "    <tr style=\"text-align: right;\">\n",
              "      <th></th>\n",
              "      <th>Open</th>\n",
              "      <th>High</th>\n",
              "      <th>Low</th>\n",
              "      <th>Close</th>\n",
              "      <th>Adj Close</th>\n",
              "      <th>month</th>\n",
              "      <th>day</th>\n",
              "      <th>hour</th>\n",
              "      <th>minute</th>\n",
              "    </tr>\n",
              "  </thead>\n",
              "  <tbody>\n",
              "    <tr>\n",
              "      <th>0</th>\n",
              "      <td>33929.398438</td>\n",
              "      <td>34091.250000</td>\n",
              "      <td>33916.101562</td>\n",
              "      <td>34023.648438</td>\n",
              "      <td>34023.648438</td>\n",
              "      <td>7</td>\n",
              "      <td>6</td>\n",
              "      <td>9</td>\n",
              "      <td>15</td>\n",
              "    </tr>\n",
              "    <tr>\n",
              "      <th>1</th>\n",
              "      <td>34022.050781</td>\n",
              "      <td>34132.898438</td>\n",
              "      <td>34022.050781</td>\n",
              "      <td>34129.148438</td>\n",
              "      <td>34129.148438</td>\n",
              "      <td>7</td>\n",
              "      <td>6</td>\n",
              "      <td>9</td>\n",
              "      <td>20</td>\n",
              "    </tr>\n",
              "    <tr>\n",
              "      <th>2</th>\n",
              "      <td>34127.601562</td>\n",
              "      <td>34158.000000</td>\n",
              "      <td>34107.148438</td>\n",
              "      <td>34143.449219</td>\n",
              "      <td>34143.449219</td>\n",
              "      <td>7</td>\n",
              "      <td>6</td>\n",
              "      <td>9</td>\n",
              "      <td>25</td>\n",
              "    </tr>\n",
              "    <tr>\n",
              "      <th>3</th>\n",
              "      <td>34137.601562</td>\n",
              "      <td>34155.101562</td>\n",
              "      <td>34096.250000</td>\n",
              "      <td>34120.199219</td>\n",
              "      <td>34120.199219</td>\n",
              "      <td>7</td>\n",
              "      <td>6</td>\n",
              "      <td>9</td>\n",
              "      <td>30</td>\n",
              "    </tr>\n",
              "    <tr>\n",
              "      <th>4</th>\n",
              "      <td>34119.750000</td>\n",
              "      <td>34135.699219</td>\n",
              "      <td>34092.000000</td>\n",
              "      <td>34092.000000</td>\n",
              "      <td>34092.000000</td>\n",
              "      <td>7</td>\n",
              "      <td>6</td>\n",
              "      <td>9</td>\n",
              "      <td>35</td>\n",
              "    </tr>\n",
              "  </tbody>\n",
              "</table>\n",
              "</div>\n",
              "      <button class=\"colab-df-convert\" onclick=\"convertToInteractive('df-bfa0b79d-b092-423b-bea8-187bcd326e1f')\"\n",
              "              title=\"Convert this dataframe to an interactive table.\"\n",
              "              style=\"display:none;\">\n",
              "        \n",
              "  <svg xmlns=\"http://www.w3.org/2000/svg\" height=\"24px\"viewBox=\"0 0 24 24\"\n",
              "       width=\"24px\">\n",
              "    <path d=\"M0 0h24v24H0V0z\" fill=\"none\"/>\n",
              "    <path d=\"M18.56 5.44l.94 2.06.94-2.06 2.06-.94-2.06-.94-.94-2.06-.94 2.06-2.06.94zm-11 1L8.5 8.5l.94-2.06 2.06-.94-2.06-.94L8.5 2.5l-.94 2.06-2.06.94zm10 10l.94 2.06.94-2.06 2.06-.94-2.06-.94-.94-2.06-.94 2.06-2.06.94z\"/><path d=\"M17.41 7.96l-1.37-1.37c-.4-.4-.92-.59-1.43-.59-.52 0-1.04.2-1.43.59L10.3 9.45l-7.72 7.72c-.78.78-.78 2.05 0 2.83L4 21.41c.39.39.9.59 1.41.59.51 0 1.02-.2 1.41-.59l7.78-7.78 2.81-2.81c.8-.78.8-2.07 0-2.86zM5.41 20L4 18.59l7.72-7.72 1.47 1.35L5.41 20z\"/>\n",
              "  </svg>\n",
              "      </button>\n",
              "      \n",
              "  <style>\n",
              "    .colab-df-container {\n",
              "      display:flex;\n",
              "      flex-wrap:wrap;\n",
              "      gap: 12px;\n",
              "    }\n",
              "\n",
              "    .colab-df-convert {\n",
              "      background-color: #E8F0FE;\n",
              "      border: none;\n",
              "      border-radius: 50%;\n",
              "      cursor: pointer;\n",
              "      display: none;\n",
              "      fill: #1967D2;\n",
              "      height: 32px;\n",
              "      padding: 0 0 0 0;\n",
              "      width: 32px;\n",
              "    }\n",
              "\n",
              "    .colab-df-convert:hover {\n",
              "      background-color: #E2EBFA;\n",
              "      box-shadow: 0px 1px 2px rgba(60, 64, 67, 0.3), 0px 1px 3px 1px rgba(60, 64, 67, 0.15);\n",
              "      fill: #174EA6;\n",
              "    }\n",
              "\n",
              "    [theme=dark] .colab-df-convert {\n",
              "      background-color: #3B4455;\n",
              "      fill: #D2E3FC;\n",
              "    }\n",
              "\n",
              "    [theme=dark] .colab-df-convert:hover {\n",
              "      background-color: #434B5C;\n",
              "      box-shadow: 0px 1px 3px 1px rgba(0, 0, 0, 0.15);\n",
              "      filter: drop-shadow(0px 1px 2px rgba(0, 0, 0, 0.3));\n",
              "      fill: #FFFFFF;\n",
              "    }\n",
              "  </style>\n",
              "\n",
              "      <script>\n",
              "        const buttonEl =\n",
              "          document.querySelector('#df-bfa0b79d-b092-423b-bea8-187bcd326e1f button.colab-df-convert');\n",
              "        buttonEl.style.display =\n",
              "          google.colab.kernel.accessAllowed ? 'block' : 'none';\n",
              "\n",
              "        async function convertToInteractive(key) {\n",
              "          const element = document.querySelector('#df-bfa0b79d-b092-423b-bea8-187bcd326e1f');\n",
              "          const dataTable =\n",
              "            await google.colab.kernel.invokeFunction('convertToInteractive',\n",
              "                                                     [key], {});\n",
              "          if (!dataTable) return;\n",
              "\n",
              "          const docLinkHtml = 'Like what you see? Visit the ' +\n",
              "            '<a target=\"_blank\" href=https://colab.research.google.com/notebooks/data_table.ipynb>data table notebook</a>'\n",
              "            + ' to learn more about interactive tables.';\n",
              "          element.innerHTML = '';\n",
              "          dataTable['output_type'] = 'display_data';\n",
              "          await google.colab.output.renderOutput(dataTable, element);\n",
              "          const docLink = document.createElement('div');\n",
              "          docLink.innerHTML = docLinkHtml;\n",
              "          element.appendChild(docLink);\n",
              "        }\n",
              "      </script>\n",
              "    </div>\n",
              "  </div>\n",
              "  "
            ]
          },
          "metadata": {},
          "execution_count": 51
        }
      ]
    },
    {
      "cell_type": "code",
      "source": [
        "df.nunique()"
      ],
      "metadata": {
        "colab": {
          "base_uri": "https://localhost:8080/"
        },
        "id": "coUBJJPDbzpg",
        "outputId": "c67dd4b6-49f6-4003-fa91-327bcb76ac3e"
      },
      "execution_count": 52,
      "outputs": [
        {
          "output_type": "execute_result",
          "data": {
            "text/plain": [
              "Open         4390\n",
              "High         4400\n",
              "Low          4393\n",
              "Close        4405\n",
              "Adj Close    4405\n",
              "month           3\n",
              "day            30\n",
              "hour            7\n",
              "minute         12\n",
              "dtype: int64"
            ]
          },
          "metadata": {},
          "execution_count": 52
        }
      ]
    },
    {
      "cell_type": "code",
      "source": [
        "df['year'].value_counts()"
      ],
      "metadata": {
        "colab": {
          "base_uri": "https://localhost:8080/"
        },
        "id": "jTnEUvVObZPB",
        "outputId": "caea65b6-7524-49da-ac34-bb6f18c6e3b9"
      },
      "execution_count": 37,
      "outputs": [
        {
          "output_type": "execute_result",
          "data": {
            "text/plain": [
              "2022    4499\n",
              "Name: year, dtype: int64"
            ]
          },
          "metadata": {},
          "execution_count": 37
        }
      ]
    },
    {
      "cell_type": "code",
      "source": [
        " df['month'].value_counts()"
      ],
      "metadata": {
        "colab": {
          "base_uri": "https://localhost:8080/"
        },
        "id": "QwgbVeM7cQY_",
        "outputId": "878205cb-d621-4311-b328-cbdb390e45bf"
      },
      "execution_count": 38,
      "outputs": [
        {
          "output_type": "execute_result",
          "data": {
            "text/plain": [
              "9    1649\n",
              "8    1500\n",
              "7    1350\n",
              "Name: month, dtype: int64"
            ]
          },
          "metadata": {},
          "execution_count": 38
        }
      ]
    },
    {
      "cell_type": "code",
      "source": [
        " df['day'].value_counts()"
      ],
      "metadata": {
        "colab": {
          "base_uri": "https://localhost:8080/"
        },
        "id": "kVo21XT2cFzU",
        "outputId": "43e9a1c2-6baa-4214-ebbf-dd6fb1faad16"
      },
      "execution_count": 39,
      "outputs": [
        {
          "output_type": "execute_result",
          "data": {
            "text/plain": [
              "8     225\n",
              "12    225\n",
              "19    225\n",
              "29    225\n",
              "26    225\n",
              "22    224\n",
              "30    151\n",
              "6     150\n",
              "7     150\n",
              "23    150\n",
              "16    150\n",
              "5     150\n",
              "2     150\n",
              "1     150\n",
              "28    150\n",
              "27    150\n",
              "25    150\n",
              "21    150\n",
              "20    150\n",
              "18    150\n",
              "15    150\n",
              "14    150\n",
              "11    150\n",
              "13    149\n",
              "3      75\n",
              "4      75\n",
              "10     75\n",
              "17     75\n",
              "24     75\n",
              "9      75\n",
              "Name: day, dtype: int64"
            ]
          },
          "metadata": {},
          "execution_count": 39
        }
      ]
    },
    {
      "cell_type": "code",
      "source": [
        " df['hour'].value_counts()"
      ],
      "metadata": {
        "colab": {
          "base_uri": "https://localhost:8080/"
        },
        "id": "i1kwPJDocdH9",
        "outputId": "ef483b84-2cf4-4479-90dc-1663ac5a173e"
      },
      "execution_count": 40,
      "outputs": [
        {
          "output_type": "execute_result",
          "data": {
            "text/plain": [
              "10    720\n",
              "11    720\n",
              "12    720\n",
              "14    720\n",
              "13    718\n",
              "9     540\n",
              "15    361\n",
              "Name: hour, dtype: int64"
            ]
          },
          "metadata": {},
          "execution_count": 40
        }
      ]
    },
    {
      "cell_type": "code",
      "source": [
        " df['minute'].value_counts()"
      ],
      "metadata": {
        "colab": {
          "base_uri": "https://localhost:8080/"
        },
        "id": "-hHVdF2tcgxX",
        "outputId": "aab139f5-25b4-412f-c42a-f8444dd2c4c1"
      },
      "execution_count": 41,
      "outputs": [
        {
          "output_type": "execute_result",
          "data": {
            "text/plain": [
              "20    420\n",
              "25    420\n",
              "15    419\n",
              "30    361\n",
              "35    360\n",
              "40    360\n",
              "45    360\n",
              "50    360\n",
              "0     360\n",
              "5     360\n",
              "10    360\n",
              "55    359\n",
              "Name: minute, dtype: int64"
            ]
          },
          "metadata": {},
          "execution_count": 41
        }
      ]
    },
    {
      "cell_type": "code",
      "source": [
        "df.plot()"
      ],
      "metadata": {
        "colab": {
          "base_uri": "https://localhost:8080/",
          "height": 285
        },
        "id": "jQ9HLIRkOuf5",
        "outputId": "26a16af1-a9ea-4a4f-996e-1ee9e1393e94"
      },
      "execution_count": 53,
      "outputs": [
        {
          "output_type": "execute_result",
          "data": {
            "text/plain": [
              "<matplotlib.axes._subplots.AxesSubplot at 0x7fb53ca504d0>"
            ]
          },
          "metadata": {},
          "execution_count": 53
        },
        {
          "output_type": "display_data",
          "data": {
            "text/plain": [
              "<Figure size 432x288 with 1 Axes>"
            ],
            "image/png": "[encoded data removed]"
          },
          "metadata": {
            "needs_background": "light"
          }
        }
      ]
    },
    {
      "cell_type": "code",
      "source": [
        "df['High'].plot(figsize=(12,4))"
      ],
      "metadata": {
        "colab": {
          "base_uri": "https://localhost:8080/",
          "height": 285
        },
        "id": "vMV2o0WQRlEE",
        "outputId": "91c71b39-1b94-4c24-fbab-647ee7e1d346"
      },
      "execution_count": 54,
      "outputs": [
        {
          "output_type": "execute_result",
          "data": {
            "text/plain": [
              "<matplotlib.axes._subplots.AxesSubplot at 0x7fb53c971850>"
            ]
          },
          "metadata": {},
          "execution_count": 54
        },
        {
          "output_type": "display_data",
          "data": {
            "text/plain": [
              "<Figure size 864x288 with 1 Axes>"
            ],
            "image/png": "[encoded data removed]"
          },
          "metadata": {
            "needs_background": "light"
          }
        }
      ]
    },
    {
      "cell_type": "markdown",
      "source": [
        "Adding some other parameter for better visualization"
      ],
      "metadata": {
        "id": "nSLVYb-2yv-S"
      }
    },
    {
      "cell_type": "code",
      "source": [
        "df['High'].plot(xlim=['2022-07-06', '2022-09-30'], figsize=(20,4),ls='--',c='green')"
      ],
      "metadata": {
        "colab": {
          "base_uri": "https://localhost:8080/",
          "height": 237
        },
        "id": "EUQpDosTSveu",
        "outputId": "815af060-ef8b-4d18-ed58-d588eb82b6a9"
      },
      "execution_count": null,
      "outputs": [
        {
          "output_type": "execute_result",
          "data": {
            "text/plain": [
              "<matplotlib.axes._subplots.AxesSubplot at 0x7f672f3f0d10>"
            ]
          },
          "metadata": {},
          "execution_count": 20
        },
        {
          "output_type": "display_data",
          "data": {
            "text/plain": [
              "<Figure size 1440x288 with 1 Axes>"
            ],
            "image/png": "[encoded data removed]"
          },
          "metadata": {
            "needs_background": "light"
          }
        }
      ]
    },
    {
      "cell_type": "code",
      "source": [
        "df[['Low','High','Open','Close']].plot(figsize=(12,4))"
      ],
      "metadata": {
        "colab": {
          "base_uri": "https://localhost:8080/",
          "height": 311
        },
        "id": "GdBxeZa42ViU",
        "outputId": "ebfa7d7f-0505-4651-b910-531f05e788ce"
      },
      "execution_count": null,
      "outputs": [
        {
          "output_type": "execute_result",
          "data": {
            "text/plain": [
              "<matplotlib.axes._subplots.AxesSubplot at 0x7f672f2e1710>"
            ]
          },
          "metadata": {},
          "execution_count": 21
        },
        {
          "output_type": "display_data",
          "data": {
            "text/plain": [
              "<Figure size 864x288 with 1 Axes>"
            ],
            "image/png": "[encoded data removed]"
          },
          "metadata": {
            "needs_background": "light"
          }
        }
      ]
    },
    {
      "cell_type": "markdown",
      "source": [
        "Checking the details of last day or end of the year. Since we have only 3 monts of data, displyed only one record of last day of the year. Suppose If we have 5 years of data, will get the details of end of the year data seperately for 5 years. "
      ],
      "metadata": {
        "id": "NYB_LpukV9Uk"
      }
    },
    {
      "cell_type": "code",
      "source": [
        "df.resample(rule='A').min()"
      ],
      "metadata": {
        "colab": {
          "base_uri": "https://localhost:8080/",
          "height": 112
        },
        "id": "kjMGji7iVZWb",
        "outputId": "ed845129-d9c1-41e7-92d5-9e98cd57ef90"
      },
      "execution_count": null,
      "outputs": [
        {
          "output_type": "execute_result",
          "data": {
            "text/plain": [
              "                    Open      High           Low         Close     Adj Close\n",
              "Datetime                                                                    \n",
              "2022-12-31  33929.398438  34074.75  33916.101562  33992.148438  33992.148438"
            ],
            "text/html": [
              "\n",
              "  <div id=\"df-66e9154e-e953-481b-81d7-ad51e7d487b4\">\n",
              "    <div class=\"colab-df-container\">\n",
              "      <div>\n",
              "<style scoped>\n",
              "    .dataframe tbody tr th:only-of-type {\n",
              "        vertical-align: middle;\n",
              "    }\n",
              "\n",
              "    .dataframe tbody tr th {\n",
              "        vertical-align: top;\n",
              "    }\n",
              "\n",
              "    .dataframe thead th {\n",
              "        text-align: right;\n",
              "    }\n",
              "</style>\n",
              "<table border=\"1\" class=\"dataframe\">\n",
              "  <thead>\n",
              "    <tr style=\"text-align: right;\">\n",
              "      <th></th>\n",
              "      <th>Open</th>\n",
              "      <th>High</th>\n",
              "      <th>Low</th>\n",
              "      <th>Close</th>\n",
              "      <th>Adj Close</th>\n",
              "    </tr>\n",
              "    <tr>\n",
              "      <th>Datetime</th>\n",
              "      <th></th>\n",
              "      <th></th>\n",
              "      <th></th>\n",
              "      <th></th>\n",
              "      <th></th>\n",
              "    </tr>\n",
              "  </thead>\n",
              "  <tbody>\n",
              "    <tr>\n",
              "      <th>2022-12-31</th>\n",
              "      <td>33929.398438</td>\n",
              "      <td>34074.75</td>\n",
              "      <td>33916.101562</td>\n",
              "      <td>33992.148438</td>\n",
              "      <td>33992.148438</td>\n",
              "    </tr>\n",
              "  </tbody>\n",
              "</table>\n",
              "</div>\n",
              "      <button class=\"colab-df-convert\" onclick=\"convertToInteractive('df-66e9154e-e953-481b-81d7-ad51e7d487b4')\"\n",
              "              title=\"Convert this dataframe to an interactive table.\"\n",
              "              style=\"display:none;\">\n",
              "        \n",
              "  <svg xmlns=\"http://www.w3.org/2000/svg\" height=\"24px\"viewBox=\"0 0 24 24\"\n",
              "       width=\"24px\">\n",
              "    <path d=\"M0 0h24v24H0V0z\" fill=\"none\"/>\n",
              "    <path d=\"M18.56 5.44l.94 2.06.94-2.06 2.06-.94-2.06-.94-.94-2.06-.94 2.06-2.06.94zm-11 1L8.5 8.5l.94-2.06 2.06-.94-2.06-.94L8.5 2.5l-.94 2.06-2.06.94zm10 10l.94 2.06.94-2.06 2.06-.94-2.06-.94-.94-2.06-.94 2.06-2.06.94z\"/><path d=\"M17.41 7.96l-1.37-1.37c-.4-.4-.92-.59-1.43-.59-.52 0-1.04.2-1.43.59L10.3 9.45l-7.72 7.72c-.78.78-.78 2.05 0 2.83L4 21.41c.39.39.9.59 1.41.59.51 0 1.02-.2 1.41-.59l7.78-7.78 2.81-2.81c.8-.78.8-2.07 0-2.86zM5.41 20L4 18.59l7.72-7.72 1.47 1.35L5.41 20z\"/>\n",
              "  </svg>\n",
              "      </button>\n",
              "      \n",
              "  <style>\n",
              "    .colab-df-container {\n",
              "      display:flex;\n",
              "      flex-wrap:wrap;\n",
              "      gap: 12px;\n",
              "    }\n",
              "\n",
              "    .colab-df-convert {\n",
              "      background-color: #E8F0FE;\n",
              "      border: none;\n",
              "      border-radius: 50%;\n",
              "      cursor: pointer;\n",
              "      display: none;\n",
              "      fill: #1967D2;\n",
              "      height: 32px;\n",
              "      padding: 0 0 0 0;\n",
              "      width: 32px;\n",
              "    }\n",
              "\n",
              "    .colab-df-convert:hover {\n",
              "      background-color: #E2EBFA;\n",
              "      box-shadow: 0px 1px 2px rgba(60, 64, 67, 0.3), 0px 1px 3px 1px rgba(60, 64, 67, 0.15);\n",
              "      fill: #174EA6;\n",
              "    }\n",
              "\n",
              "    [theme=dark] .colab-df-convert {\n",
              "      background-color: #3B4455;\n",
              "      fill: #D2E3FC;\n",
              "    }\n",
              "\n",
              "    [theme=dark] .colab-df-convert:hover {\n",
              "      background-color: #434B5C;\n",
              "      box-shadow: 0px 1px 3px 1px rgba(0, 0, 0, 0.15);\n",
              "      filter: drop-shadow(0px 1px 2px rgba(0, 0, 0, 0.3));\n",
              "      fill: #FFFFFF;\n",
              "    }\n",
              "  </style>\n",
              "\n",
              "      <script>\n",
              "        const buttonEl =\n",
              "          document.querySelector('#df-66e9154e-e953-481b-81d7-ad51e7d487b4 button.colab-df-convert');\n",
              "        buttonEl.style.display =\n",
              "          google.colab.kernel.accessAllowed ? 'block' : 'none';\n",
              "\n",
              "        async function convertToInteractive(key) {\n",
              "          const element = document.querySelector('#df-66e9154e-e953-481b-81d7-ad51e7d487b4');\n",
              "          const dataTable =\n",
              "            await google.colab.kernel.invokeFunction('convertToInteractive',\n",
              "                                                     [key], {});\n",
              "          if (!dataTable) return;\n",
              "\n",
              "          const docLinkHtml = 'Like what you see? Visit the ' +\n",
              "            '<a target=\"_blank\" href=https://colab.research.google.com/notebooks/data_table.ipynb>data table notebook</a>'\n",
              "            + ' to learn more about interactive tables.';\n",
              "          element.innerHTML = '';\n",
              "          dataTable['output_type'] = 'display_data';\n",
              "          await google.colab.output.renderOutput(dataTable, element);\n",
              "          const docLink = document.createElement('div');\n",
              "          docLink.innerHTML = docLinkHtml;\n",
              "          element.appendChild(docLink);\n",
              "        }\n",
              "      </script>\n",
              "    </div>\n",
              "  </div>\n",
              "  "
            ]
          },
          "metadata": {},
          "execution_count": 22
        }
      ]
    },
    {
      "cell_type": "code",
      "source": [
        "df.resample(rule='A').max()"
      ],
      "metadata": {
        "colab": {
          "base_uri": "https://localhost:8080/",
          "height": 112
        },
        "id": "f74RDyyjXLCa",
        "outputId": "56440a60-fd1a-4ac1-e0e0-9d6277461e4f"
      },
      "execution_count": null,
      "outputs": [
        {
          "output_type": "execute_result",
          "data": {
            "text/plain": [
              "                    Open          High           Low         Close  \\\n",
              "Datetime                                                             \n",
              "2022-12-31  41795.851562  41830.351562  41766.300781  41788.199219   \n",
              "\n",
              "               Adj Close  \n",
              "Datetime                  \n",
              "2022-12-31  41788.199219  "
            ],
            "text/html": [
              "\n",
              "  <div id=\"df-76be8121-987d-4bd2-9018-aa8e9e5d61f0\">\n",
              "    <div class=\"colab-df-container\">\n",
              "      <div>\n",
              "<style scoped>\n",
              "    .dataframe tbody tr th:only-of-type {\n",
              "        vertical-align: middle;\n",
              "    }\n",
              "\n",
              "    .dataframe tbody tr th {\n",
              "        vertical-align: top;\n",
              "    }\n",
              "\n",
              "    .dataframe thead th {\n",
              "        text-align: right;\n",
              "    }\n",
              "</style>\n",
              "<table border=\"1\" class=\"dataframe\">\n",
              "  <thead>\n",
              "    <tr style=\"text-align: right;\">\n",
              "      <th></th>\n",
              "      <th>Open</th>\n",
              "      <th>High</th>\n",
              "      <th>Low</th>\n",
              "      <th>Close</th>\n",
              "      <th>Adj Close</th>\n",
              "    </tr>\n",
              "    <tr>\n",
              "      <th>Datetime</th>\n",
              "      <th></th>\n",
              "      <th></th>\n",
              "      <th></th>\n",
              "      <th></th>\n",
              "      <th></th>\n",
              "    </tr>\n",
              "  </thead>\n",
              "  <tbody>\n",
              "    <tr>\n",
              "      <th>2022-12-31</th>\n",
              "      <td>41795.851562</td>\n",
              "      <td>41830.351562</td>\n",
              "      <td>41766.300781</td>\n",
              "      <td>41788.199219</td>\n",
              "      <td>41788.199219</td>\n",
              "    </tr>\n",
              "  </tbody>\n",
              "</table>\n",
              "</div>\n",
              "      <button class=\"colab-df-convert\" onclick=\"convertToInteractive('df-76be8121-987d-4bd2-9018-aa8e9e5d61f0')\"\n",
              "              title=\"Convert this dataframe to an interactive table.\"\n",
              "              style=\"display:none;\">\n",
              "        \n",
              "  <svg xmlns=\"http://www.w3.org/2000/svg\" height=\"24px\"viewBox=\"0 0 24 24\"\n",
              "       width=\"24px\">\n",
              "    <path d=\"M0 0h24v24H0V0z\" fill=\"none\"/>\n",
              "    <path d=\"M18.56 5.44l.94 2.06.94-2.06 2.06-.94-2.06-.94-.94-2.06-.94 2.06-2.06.94zm-11 1L8.5 8.5l.94-2.06 2.06-.94-2.06-.94L8.5 2.5l-.94 2.06-2.06.94zm10 10l.94 2.06.94-2.06 2.06-.94-2.06-.94-.94-2.06-.94 2.06-2.06.94z\"/><path d=\"M17.41 7.96l-1.37-1.37c-.4-.4-.92-.59-1.43-.59-.52 0-1.04.2-1.43.59L10.3 9.45l-7.72 7.72c-.78.78-.78 2.05 0 2.83L4 21.41c.39.39.9.59 1.41.59.51 0 1.02-.2 1.41-.59l7.78-7.78 2.81-2.81c.8-.78.8-2.07 0-2.86zM5.41 20L4 18.59l7.72-7.72 1.47 1.35L5.41 20z\"/>\n",
              "  </svg>\n",
              "      </button>\n",
              "      \n",
              "  <style>\n",
              "    .colab-df-container {\n",
              "      display:flex;\n",
              "      flex-wrap:wrap;\n",
              "      gap: 12px;\n",
              "    }\n",
              "\n",
              "    .colab-df-convert {\n",
              "      background-color: #E8F0FE;\n",
              "      border: none;\n",
              "      border-radius: 50%;\n",
              "      cursor: pointer;\n",
              "      display: none;\n",
              "      fill: #1967D2;\n",
              "      height: 32px;\n",
              "      padding: 0 0 0 0;\n",
              "      width: 32px;\n",
              "    }\n",
              "\n",
              "    .colab-df-convert:hover {\n",
              "      background-color: #E2EBFA;\n",
              "      box-shadow: 0px 1px 2px rgba(60, 64, 67, 0.3), 0px 1px 3px 1px rgba(60, 64, 67, 0.15);\n",
              "      fill: #174EA6;\n",
              "    }\n",
              "\n",
              "    [theme=dark] .colab-df-convert {\n",
              "      background-color: #3B4455;\n",
              "      fill: #D2E3FC;\n",
              "    }\n",
              "\n",
              "    [theme=dark] .colab-df-convert:hover {\n",
              "      background-color: #434B5C;\n",
              "      box-shadow: 0px 1px 3px 1px rgba(0, 0, 0, 0.15);\n",
              "      filter: drop-shadow(0px 1px 2px rgba(0, 0, 0, 0.3));\n",
              "      fill: #FFFFFF;\n",
              "    }\n",
              "  </style>\n",
              "\n",
              "      <script>\n",
              "        const buttonEl =\n",
              "          document.querySelector('#df-76be8121-987d-4bd2-9018-aa8e9e5d61f0 button.colab-df-convert');\n",
              "        buttonEl.style.display =\n",
              "          google.colab.kernel.accessAllowed ? 'block' : 'none';\n",
              "\n",
              "        async function convertToInteractive(key) {\n",
              "          const element = document.querySelector('#df-76be8121-987d-4bd2-9018-aa8e9e5d61f0');\n",
              "          const dataTable =\n",
              "            await google.colab.kernel.invokeFunction('convertToInteractive',\n",
              "                                                     [key], {});\n",
              "          if (!dataTable) return;\n",
              "\n",
              "          const docLinkHtml = 'Like what you see? Visit the ' +\n",
              "            '<a target=\"_blank\" href=https://colab.research.google.com/notebooks/data_table.ipynb>data table notebook</a>'\n",
              "            + ' to learn more about interactive tables.';\n",
              "          element.innerHTML = '';\n",
              "          dataTable['output_type'] = 'display_data';\n",
              "          await google.colab.output.renderOutput(dataTable, element);\n",
              "          const docLink = document.createElement('div');\n",
              "          docLink.innerHTML = docLinkHtml;\n",
              "          element.appendChild(docLink);\n",
              "        }\n",
              "      </script>\n",
              "    </div>\n",
              "  </div>\n",
              "  "
            ]
          },
          "metadata": {},
          "execution_count": 23
        }
      ]
    },
    {
      "cell_type": "markdown",
      "source": [
        "Checked what is the minimum and maximum prize at the year end."
      ],
      "metadata": {
        "id": "FClNgTagXP4S"
      }
    },
    {
      "cell_type": "markdown",
      "source": [
        "We can check how quartley the price is varying. Since we have only 3 months of data, only one record."
      ],
      "metadata": {
        "id": "QknrGpnbYf8V"
      }
    },
    {
      "cell_type": "code",
      "source": [
        "df.resample(rule='QS').min()['High']"
      ],
      "metadata": {
        "colab": {
          "base_uri": "https://localhost:8080/"
        },
        "id": "T2TqjECAXY5B",
        "outputId": "e2921cf5-9725-426b-cb80-93d81c46f57a"
      },
      "execution_count": null,
      "outputs": [
        {
          "output_type": "execute_result",
          "data": {
            "text/plain": [
              "Datetime\n",
              "2022-07-01    34074.75\n",
              "Freq: QS-JAN, Name: High, dtype: float64"
            ]
          },
          "metadata": {},
          "execution_count": 24
        }
      ]
    },
    {
      "cell_type": "code",
      "source": [
        "df.resample(rule='QS').min()['High'].plot()"
      ],
      "metadata": {
        "colab": {
          "base_uri": "https://localhost:8080/",
          "height": 357
        },
        "id": "kHfZp5zqY3_X",
        "outputId": "d46dbb8c-6ea1-4a21-c2ec-37766338dad0"
      },
      "execution_count": null,
      "outputs": [
        {
          "output_type": "stream",
          "name": "stderr",
          "text": [
            "/usr/local/lib/python3.7/dist-packages/pandas/plotting/_matplotlib/core.py:1200: UserWarning: Attempting to set identical left == right == 210.0 results in singular transformations; automatically expanding.\n",
            "  ax.set_xlim(left, right)\n"
          ]
        },
        {
          "output_type": "execute_result",
          "data": {
            "text/plain": [
              "<matplotlib.axes._subplots.AxesSubplot at 0x7f672f180910>"
            ]
          },
          "metadata": {},
          "execution_count": 25
        },
        {
          "output_type": "display_data",
          "data": {
            "text/plain": [
              "<Figure size 432x288 with 1 Axes>"
            ],
            "image/png": "[encoded data removed]"
          },
          "metadata": {
            "needs_background": "light"
          }
        }
      ]
    },
    {
      "cell_type": "code",
      "source": [
        "df.resample(rule='QS').max()['High']"
      ],
      "metadata": {
        "colab": {
          "base_uri": "https://localhost:8080/"
        },
        "id": "bwA_i-H0Y_Xj",
        "outputId": "5af190ef-8594-4a6b-bb1b-5cb42b8bfbc8"
      },
      "execution_count": null,
      "outputs": [
        {
          "output_type": "execute_result",
          "data": {
            "text/plain": [
              "Datetime\n",
              "2022-07-01    41830.351562\n",
              "Freq: QS-JAN, Name: High, dtype: float64"
            ]
          },
          "metadata": {},
          "execution_count": 26
        }
      ]
    },
    {
      "cell_type": "markdown",
      "source": [
        "Business End Frequency"
      ],
      "metadata": {
        "id": "WSv5epUgZF0O"
      }
    },
    {
      "cell_type": "code",
      "source": [
        "df.resample(rule='BA').max()['High']"
      ],
      "metadata": {
        "colab": {
          "base_uri": "https://localhost:8080/"
        },
        "id": "HcUD-_YAboAS",
        "outputId": "bd15f97c-c635-4bd2-f305-20f7f7328d16"
      },
      "execution_count": null,
      "outputs": [
        {
          "output_type": "execute_result",
          "data": {
            "text/plain": [
              "Datetime\n",
              "2022-12-30    41830.351562\n",
              "Freq: BA-DEC, Name: High, dtype: float64"
            ]
          },
          "metadata": {},
          "execution_count": 27
        }
      ]
    },
    {
      "cell_type": "markdown",
      "source": [
        "Business End Frequency quartley"
      ],
      "metadata": {
        "id": "lkzjxRfKdFAe"
      }
    },
    {
      "cell_type": "code",
      "source": [
        "df.resample(rule='BQS').max()['High']"
      ],
      "metadata": {
        "colab": {
          "base_uri": "https://localhost:8080/"
        },
        "id": "IjxRKqklZDde",
        "outputId": "34ad6667-ee3c-4fbd-d9f0-6aa5da74b70e"
      },
      "execution_count": null,
      "outputs": [
        {
          "output_type": "execute_result",
          "data": {
            "text/plain": [
              "Datetime\n",
              "2022-07-01    41830.351562\n",
              "Freq: BQS-JAN, Name: High, dtype: float64"
            ]
          },
          "metadata": {},
          "execution_count": 28
        }
      ]
    },
    {
      "cell_type": "markdown",
      "source": [
        "**Fetching the maximum price from lastday of Month**"
      ],
      "metadata": {
        "id": "T20LLjnGb-z3"
      }
    },
    {
      "cell_type": "code",
      "source": [
        "df['Open'].resample(rule='M').max()"
      ],
      "metadata": {
        "colab": {
          "base_uri": "https://localhost:8080/"
        },
        "id": "F_IXNzgyabXb",
        "outputId": "a0b567e7-4250-455b-f051-6619bc4bd4b8"
      },
      "execution_count": null,
      "outputs": [
        {
          "output_type": "execute_result",
          "data": {
            "text/plain": [
              "Datetime\n",
              "2022-07-31    37717.300781\n",
              "2022-08-31    39732.648438\n",
              "2022-09-30    41795.851562\n",
              "Freq: M, Name: Open, dtype: float64"
            ]
          },
          "metadata": {},
          "execution_count": 29
        }
      ]
    },
    {
      "cell_type": "code",
      "source": [
        "df.resample(rule='M').max().plot(kind='bar',figsize=(15,6))"
      ],
      "metadata": {
        "colab": {
          "base_uri": "https://localhost:8080/",
          "height": 311
        },
        "id": "3WGUwLVwdlG6",
        "outputId": "dd1ac5ce-f918-4ab8-9db1-159453a1173e"
      },
      "execution_count": 55,
      "outputs": [
        {
          "output_type": "error",
          "ename": "TypeError",
          "evalue": "ignored",
          "traceback": [
            "\u001b[0;31m---------------------------------------------------------------------------\u001b[0m",
            "\u001b[0;31mTypeError\u001b[0m                                 Traceback (most recent call last)",
            "\u001b[0;32m<ipython-input-55-02e24761e813>\u001b[0m in \u001b[0;36m<module>\u001b[0;34m\u001b[0m\n\u001b[0;32m----> 1\u001b[0;31m \u001b[0mdf\u001b[0m\u001b[0;34m.\u001b[0m\u001b[0mresample\u001b[0m\u001b[0;34m(\u001b[0m\u001b[0mrule\u001b[0m\u001b[0;34m=\u001b[0m\u001b[0;34m'M'\u001b[0m\u001b[0;34m)\u001b[0m\u001b[0;34m.\u001b[0m\u001b[0mmax\u001b[0m\u001b[0;34m(\u001b[0m\u001b[0;34m)\u001b[0m\u001b[0;34m.\u001b[0m\u001b[0mplot\u001b[0m\u001b[0;34m(\u001b[0m\u001b[0mkind\u001b[0m\u001b[0;34m=\u001b[0m\u001b[0;34m'bar'\u001b[0m\u001b[0;34m,\u001b[0m\u001b[0mfigsize\u001b[0m\u001b[0;34m=\u001b[0m\u001b[0;34m(\u001b[0m\u001b[0;36m15\u001b[0m\u001b[0;34m,\u001b[0m\u001b[0;36m6\u001b[0m\u001b[0;34m)\u001b[0m\u001b[0;34m)\u001b[0m\u001b[0;34m\u001b[0m\u001b[0;34m\u001b[0m\u001b[0m\n\u001b[0m",
            "\u001b[0;32m/usr/local/lib/python3.7/dist-packages/pandas/core/frame.py\u001b[0m in \u001b[0;36mresample\u001b[0;34m(self, rule, axis, closed, label, convention, kind, loffset, base, on, level, origin, offset)\u001b[0m\n\u001b[1;32m  10360\u001b[0m             \u001b[0mlevel\u001b[0m\u001b[0;34m=\u001b[0m\u001b[0mlevel\u001b[0m\u001b[0;34m,\u001b[0m\u001b[0;34m\u001b[0m\u001b[0;34m\u001b[0m\u001b[0m\n\u001b[1;32m  10361\u001b[0m             \u001b[0morigin\u001b[0m\u001b[0;34m=\u001b[0m\u001b[0morigin\u001b[0m\u001b[0;34m,\u001b[0m\u001b[0;34m\u001b[0m\u001b[0;34m\u001b[0m\u001b[0m\n\u001b[0;32m> 10362\u001b[0;31m             \u001b[0moffset\u001b[0m\u001b[0;34m=\u001b[0m\u001b[0moffset\u001b[0m\u001b[0;34m,\u001b[0m\u001b[0;34m\u001b[0m\u001b[0;34m\u001b[0m\u001b[0m\n\u001b[0m\u001b[1;32m  10363\u001b[0m         )\n\u001b[1;32m  10364\u001b[0m \u001b[0;34m\u001b[0m\u001b[0m\n",
            "\u001b[0;32m/usr/local/lib/python3.7/dist-packages/pandas/core/generic.py\u001b[0m in \u001b[0;36mresample\u001b[0;34m(self, rule, axis, closed, label, convention, kind, loffset, base, on, level, origin, offset)\u001b[0m\n\u001b[1;32m   8137\u001b[0m             \u001b[0mlevel\u001b[0m\u001b[0;34m=\u001b[0m\u001b[0mlevel\u001b[0m\u001b[0;34m,\u001b[0m\u001b[0;34m\u001b[0m\u001b[0;34m\u001b[0m\u001b[0m\n\u001b[1;32m   8138\u001b[0m             \u001b[0morigin\u001b[0m\u001b[0;34m=\u001b[0m\u001b[0morigin\u001b[0m\u001b[0;34m,\u001b[0m\u001b[0;34m\u001b[0m\u001b[0;34m\u001b[0m\u001b[0m\n\u001b[0;32m-> 8139\u001b[0;31m             \u001b[0moffset\u001b[0m\u001b[0;34m=\u001b[0m\u001b[0moffset\u001b[0m\u001b[0;34m,\u001b[0m\u001b[0;34m\u001b[0m\u001b[0;34m\u001b[0m\u001b[0m\n\u001b[0m\u001b[1;32m   8140\u001b[0m         )\n\u001b[1;32m   8141\u001b[0m \u001b[0;34m\u001b[0m\u001b[0m\n",
            "\u001b[0;32m/usr/local/lib/python3.7/dist-packages/pandas/core/resample.py\u001b[0m in \u001b[0;36mget_resampler\u001b[0;34m(obj, kind, **kwds)\u001b[0m\n\u001b[1;32m   1380\u001b[0m     \"\"\"\n\u001b[1;32m   1381\u001b[0m     \u001b[0mtg\u001b[0m \u001b[0;34m=\u001b[0m \u001b[0mTimeGrouper\u001b[0m\u001b[0;34m(\u001b[0m\u001b[0;34m**\u001b[0m\u001b[0mkwds\u001b[0m\u001b[0;34m)\u001b[0m\u001b[0;34m\u001b[0m\u001b[0;34m\u001b[0m\u001b[0m\n\u001b[0;32m-> 1382\u001b[0;31m     \u001b[0;32mreturn\u001b[0m \u001b[0mtg\u001b[0m\u001b[0;34m.\u001b[0m\u001b[0m_get_resampler\u001b[0m\u001b[0;34m(\u001b[0m\u001b[0mobj\u001b[0m\u001b[0;34m,\u001b[0m \u001b[0mkind\u001b[0m\u001b[0;34m=\u001b[0m\u001b[0mkind\u001b[0m\u001b[0;34m)\u001b[0m\u001b[0;34m\u001b[0m\u001b[0;34m\u001b[0m\u001b[0m\n\u001b[0m\u001b[1;32m   1383\u001b[0m \u001b[0;34m\u001b[0m\u001b[0m\n\u001b[1;32m   1384\u001b[0m \u001b[0;34m\u001b[0m\u001b[0m\n",
            "\u001b[0;32m/usr/local/lib/python3.7/dist-packages/pandas/core/resample.py\u001b[0m in \u001b[0;36m_get_resampler\u001b[0;34m(self, obj, kind)\u001b[0m\n\u001b[1;32m   1557\u001b[0m \u001b[0;34m\u001b[0m\u001b[0m\n\u001b[1;32m   1558\u001b[0m         raise TypeError(\n\u001b[0;32m-> 1559\u001b[0;31m             \u001b[0;34m\"Only valid with DatetimeIndex, \"\u001b[0m\u001b[0;34m\u001b[0m\u001b[0;34m\u001b[0m\u001b[0m\n\u001b[0m\u001b[1;32m   1560\u001b[0m             \u001b[0;34m\"TimedeltaIndex or PeriodIndex, \"\u001b[0m\u001b[0;34m\u001b[0m\u001b[0;34m\u001b[0m\u001b[0m\n\u001b[1;32m   1561\u001b[0m             \u001b[0;34mf\"but got an instance of '{type(ax).__name__}'\"\u001b[0m\u001b[0;34m\u001b[0m\u001b[0;34m\u001b[0m\u001b[0m\n",
            "\u001b[0;31mTypeError\u001b[0m: Only valid with DatetimeIndex, TimedeltaIndex or PeriodIndex, but got an instance of 'RangeIndex'"
          ]
        }
      ]
    },
    {
      "cell_type": "code",
      "source": [
        "df['Open'].resample(rule='M').max().plot(kind='bar',figsize=(15,6))"
      ],
      "metadata": {
        "colab": {
          "base_uri": "https://localhost:8080/",
          "height": 497
        },
        "id": "JlPiukuLcSC_",
        "outputId": "c2ddbdf2-b4a5-4a7b-efb6-8c654453a89a"
      },
      "execution_count": null,
      "outputs": [
        {
          "output_type": "execute_result",
          "data": {
            "text/plain": [
              "<matplotlib.axes._subplots.AxesSubplot at 0x7f672f19a8d0>"
            ]
          },
          "metadata": {},
          "execution_count": 31
        },
        {
          "output_type": "display_data",
          "data": {
            "text/plain": [
              "<Figure size 1080x432 with 1 Axes>"
            ],
            "image/png": "[encoded data removed]"
          },
          "metadata": {
            "needs_background": "light"
          }
        }
      ]
    },
    {
      "cell_type": "markdown",
      "source": [
        "**Fetching the minimum price from lastday of Month**"
      ],
      "metadata": {
        "id": "K0P2paCOdK93"
      }
    },
    {
      "cell_type": "code",
      "source": [
        "df['Open'].resample(rule='M').min()"
      ],
      "metadata": {
        "colab": {
          "base_uri": "https://localhost:8080/"
        },
        "id": "LR-_pBmTc0M2",
        "outputId": "a1b4a3f1-a844-45fe-c553-4968e27bd513"
      },
      "execution_count": null,
      "outputs": [
        {
          "output_type": "execute_result",
          "data": {
            "text/plain": [
              "Datetime\n",
              "2022-07-31    33929.398438\n",
              "2022-08-31    37349.550781\n",
              "2022-09-30    37428.148438\n",
              "Freq: M, Name: Open, dtype: float64"
            ]
          },
          "metadata": {},
          "execution_count": 32
        }
      ]
    },
    {
      "cell_type": "code",
      "source": [
        "df.resample(rule='M').max().plot(kind='bar',figsize=(15,6))"
      ],
      "metadata": {
        "colab": {
          "base_uri": "https://localhost:8080/",
          "height": 497
        },
        "id": "HgkZ0wsxc4L0",
        "outputId": "2683bd80-0ff5-4f55-c6d7-cca8dd254650"
      },
      "execution_count": null,
      "outputs": [
        {
          "output_type": "execute_result",
          "data": {
            "text/plain": [
              "<matplotlib.axes._subplots.AxesSubplot at 0x7f672fa74690>"
            ]
          },
          "metadata": {},
          "execution_count": 33
        },
        {
          "output_type": "display_data",
          "data": {
            "text/plain": [
              "<Figure size 1080x432 with 1 Axes>"
            ],
            "image/png": "[encoded data removed]"
          },
          "metadata": {
            "needs_background": "light"
          }
        }
      ]
    },
    {
      "cell_type": "markdown",
      "source": [
        "**Fetching the maximum price from begining of Month**"
      ],
      "metadata": {
        "id": "Suo5AmRHyF-W"
      }
    },
    {
      "cell_type": "code",
      "source": [
        "df.resample(rule='MS').max()"
      ],
      "metadata": {
        "colab": {
          "base_uri": "https://localhost:8080/",
          "height": 175
        },
        "id": "0znkEiokz0kV",
        "outputId": "4085c3cf-0a57-455b-cf5b-f56693417b85"
      },
      "execution_count": null,
      "outputs": [
        {
          "output_type": "execute_result",
          "data": {
            "text/plain": [
              "                    Open          High           Low         Close  \\\n",
              "Datetime                                                             \n",
              "2022-07-01  37717.300781  37737.898438  37665.550781  37696.898438   \n",
              "2022-08-01  39732.648438  39750.898438  39663.398438  39680.199219   \n",
              "2022-09-01  41795.851562  41830.351562  41766.300781  41788.199219   \n",
              "\n",
              "               Adj Close  \n",
              "Datetime                  \n",
              "2022-07-01  37696.898438  \n",
              "2022-08-01  39680.199219  \n",
              "2022-09-01  41788.199219  "
            ],
            "text/html": [
              "\n",
              "  <div id=\"df-8f045cdd-3160-49fd-a4d4-4f0d83cab1f6\">\n",
              "    <div class=\"colab-df-container\">\n",
              "      <div>\n",
              "<style scoped>\n",
              "    .dataframe tbody tr th:only-of-type {\n",
              "        vertical-align: middle;\n",
              "    }\n",
              "\n",
              "    .dataframe tbody tr th {\n",
              "        vertical-align: top;\n",
              "    }\n",
              "\n",
              "    .dataframe thead th {\n",
              "        text-align: right;\n",
              "    }\n",
              "</style>\n",
              "<table border=\"1\" class=\"dataframe\">\n",
              "  <thead>\n",
              "    <tr style=\"text-align: right;\">\n",
              "      <th></th>\n",
              "      <th>Open</th>\n",
              "      <th>High</th>\n",
              "      <th>Low</th>\n",
              "      <th>Close</th>\n",
              "      <th>Adj Close</th>\n",
              "    </tr>\n",
              "    <tr>\n",
              "      <th>Datetime</th>\n",
              "      <th></th>\n",
              "      <th></th>\n",
              "      <th></th>\n",
              "      <th></th>\n",
              "      <th></th>\n",
              "    </tr>\n",
              "  </thead>\n",
              "  <tbody>\n",
              "    <tr>\n",
              "      <th>2022-07-01</th>\n",
              "      <td>37717.300781</td>\n",
              "      <td>37737.898438</td>\n",
              "      <td>37665.550781</td>\n",
              "      <td>37696.898438</td>\n",
              "      <td>37696.898438</td>\n",
              "    </tr>\n",
              "    <tr>\n",
              "      <th>2022-08-01</th>\n",
              "      <td>39732.648438</td>\n",
              "      <td>39750.898438</td>\n",
              "      <td>39663.398438</td>\n",
              "      <td>39680.199219</td>\n",
              "      <td>39680.199219</td>\n",
              "    </tr>\n",
              "    <tr>\n",
              "      <th>2022-09-01</th>\n",
              "      <td>41795.851562</td>\n",
              "      <td>41830.351562</td>\n",
              "      <td>41766.300781</td>\n",
              "      <td>41788.199219</td>\n",
              "      <td>41788.199219</td>\n",
              "    </tr>\n",
              "  </tbody>\n",
              "</table>\n",
              "</div>\n",
              "      <button class=\"colab-df-convert\" onclick=\"convertToInteractive('df-8f045cdd-3160-49fd-a4d4-4f0d83cab1f6')\"\n",
              "              title=\"Convert this dataframe to an interactive table.\"\n",
              "              style=\"display:none;\">\n",
              "        \n",
              "  <svg xmlns=\"http://www.w3.org/2000/svg\" height=\"24px\"viewBox=\"0 0 24 24\"\n",
              "       width=\"24px\">\n",
              "    <path d=\"M0 0h24v24H0V0z\" fill=\"none\"/>\n",
              "    <path d=\"M18.56 5.44l.94 2.06.94-2.06 2.06-.94-2.06-.94-.94-2.06-.94 2.06-2.06.94zm-11 1L8.5 8.5l.94-2.06 2.06-.94-2.06-.94L8.5 2.5l-.94 2.06-2.06.94zm10 10l.94 2.06.94-2.06 2.06-.94-2.06-.94-.94-2.06-.94 2.06-2.06.94z\"/><path d=\"M17.41 7.96l-1.37-1.37c-.4-.4-.92-.59-1.43-.59-.52 0-1.04.2-1.43.59L10.3 9.45l-7.72 7.72c-.78.78-.78 2.05 0 2.83L4 21.41c.39.39.9.59 1.41.59.51 0 1.02-.2 1.41-.59l7.78-7.78 2.81-2.81c.8-.78.8-2.07 0-2.86zM5.41 20L4 18.59l7.72-7.72 1.47 1.35L5.41 20z\"/>\n",
              "  </svg>\n",
              "      </button>\n",
              "      \n",
              "  <style>\n",
              "    .colab-df-container {\n",
              "      display:flex;\n",
              "      flex-wrap:wrap;\n",
              "      gap: 12px;\n",
              "    }\n",
              "\n",
              "    .colab-df-convert {\n",
              "      background-color: #E8F0FE;\n",
              "      border: none;\n",
              "      border-radius: 50%;\n",
              "      cursor: pointer;\n",
              "      display: none;\n",
              "      fill: #1967D2;\n",
              "      height: 32px;\n",
              "      padding: 0 0 0 0;\n",
              "      width: 32px;\n",
              "    }\n",
              "\n",
              "    .colab-df-convert:hover {\n",
              "      background-color: #E2EBFA;\n",
              "      box-shadow: 0px 1px 2px rgba(60, 64, 67, 0.3), 0px 1px 3px 1px rgba(60, 64, 67, 0.15);\n",
              "      fill: #174EA6;\n",
              "    }\n",
              "\n",
              "    [theme=dark] .colab-df-convert {\n",
              "      background-color: #3B4455;\n",
              "      fill: #D2E3FC;\n",
              "    }\n",
              "\n",
              "    [theme=dark] .colab-df-convert:hover {\n",
              "      background-color: #434B5C;\n",
              "      box-shadow: 0px 1px 3px 1px rgba(0, 0, 0, 0.15);\n",
              "      filter: drop-shadow(0px 1px 2px rgba(0, 0, 0, 0.3));\n",
              "      fill: #FFFFFF;\n",
              "    }\n",
              "  </style>\n",
              "\n",
              "      <script>\n",
              "        const buttonEl =\n",
              "          document.querySelector('#df-8f045cdd-3160-49fd-a4d4-4f0d83cab1f6 button.colab-df-convert');\n",
              "        buttonEl.style.display =\n",
              "          google.colab.kernel.accessAllowed ? 'block' : 'none';\n",
              "\n",
              "        async function convertToInteractive(key) {\n",
              "          const element = document.querySelector('#df-8f045cdd-3160-49fd-a4d4-4f0d83cab1f6');\n",
              "          const dataTable =\n",
              "            await google.colab.kernel.invokeFunction('convertToInteractive',\n",
              "                                                     [key], {});\n",
              "          if (!dataTable) return;\n",
              "\n",
              "          const docLinkHtml = 'Like what you see? Visit the ' +\n",
              "            '<a target=\"_blank\" href=https://colab.research.google.com/notebooks/data_table.ipynb>data table notebook</a>'\n",
              "            + ' to learn more about interactive tables.';\n",
              "          element.innerHTML = '';\n",
              "          dataTable['output_type'] = 'display_data';\n",
              "          await google.colab.output.renderOutput(dataTable, element);\n",
              "          const docLink = document.createElement('div');\n",
              "          docLink.innerHTML = docLinkHtml;\n",
              "          element.appendChild(docLink);\n",
              "        }\n",
              "      </script>\n",
              "    </div>\n",
              "  </div>\n",
              "  "
            ]
          },
          "metadata": {},
          "execution_count": 34
        }
      ]
    },
    {
      "cell_type": "code",
      "source": [
        "df.resample(rule='MS').max().plot(kind='bar',figsize=(15,6))"
      ],
      "metadata": {
        "colab": {
          "base_uri": "https://localhost:8080/",
          "height": 497
        },
        "id": "nEfwzgzTyFNV",
        "outputId": "6b89573c-731f-4bfc-f7e7-dc9c5548e58e"
      },
      "execution_count": null,
      "outputs": [
        {
          "output_type": "execute_result",
          "data": {
            "text/plain": [
              "<matplotlib.axes._subplots.AxesSubplot at 0x7f672fbcbed0>"
            ]
          },
          "metadata": {},
          "execution_count": 35
        },
        {
          "output_type": "display_data",
          "data": {
            "text/plain": [
              "<Figure size 1080x432 with 1 Axes>"
            ],
            "image/png": "[encoded data removed]"
          },
          "metadata": {
            "needs_background": "light"
          }
        }
      ]
    },
    {
      "cell_type": "markdown",
      "source": [
        "Reference: https://towardsdatascience.com/resample-function-of-pandas-79b17ec82a78\n"
      ],
      "metadata": {
        "id": "UYdxi-hy0LqS"
      }
    },
    {
      "cell_type": "markdown",
      "source": [
        "**Simple Moving Average**"
      ],
      "metadata": {
        "id": "ug2h_PeuQHFs"
      }
    },
    {
      "cell_type": "code",
      "source": [
        "df['Open:10 days rolling']=df['Open'].rolling(10).mean()"
      ],
      "metadata": {
        "id": "cq1fxaIsM2X_"
      },
      "execution_count": null,
      "outputs": []
    },
    {
      "cell_type": "code",
      "source": [
        "df.head(20)"
      ],
      "metadata": {
        "colab": {
          "base_uri": "https://localhost:8080/",
          "height": 708
        },
        "id": "Zu6KmfFBNE2R",
        "outputId": "cfea38ad-0e36-45d6-8b23-de475e14d51e"
      },
      "execution_count": null,
      "outputs": [
        {
          "output_type": "execute_result",
          "data": {
            "text/plain": [
              "                    Open          High           Low         Close  \\\n",
              "Datetime                                                             \n",
              "2022-07-06  33929.398438  34091.250000  33916.101562  34023.648438   \n",
              "2022-07-06  34022.050781  34132.898438  34022.050781  34129.148438   \n",
              "2022-07-06  34127.601562  34158.000000  34107.148438  34143.449219   \n",
              "2022-07-06  34137.601562  34155.101562  34096.250000  34120.199219   \n",
              "2022-07-06  34119.750000  34135.699219  34092.000000  34092.000000   \n",
              "2022-07-06  34093.550781  34102.050781  33988.800781  33992.148438   \n",
              "2022-07-06  33997.500000  34107.148438  33962.851562  34107.148438   \n",
              "2022-07-06  34108.699219  34138.800781  34098.250000  34117.101562   \n",
              "2022-07-06  34118.300781  34122.648438  34051.000000  34060.300781   \n",
              "2022-07-06  34060.000000  34074.750000  34044.101562  34066.101562   \n",
              "2022-07-06  34065.898438  34101.949219  34037.750000  34086.148438   \n",
              "2022-07-06  34086.949219  34098.601562  34063.250000  34096.449219   \n",
              "2022-07-06  34098.199219  34098.199219  34068.648438  34079.101562   \n",
              "2022-07-06  34079.101562  34088.550781  34061.148438  34082.351562   \n",
              "2022-07-06  34083.148438  34125.601562  34083.148438  34113.300781   \n",
              "2022-07-06  34113.949219  34145.199219  34090.250000  34106.449219   \n",
              "2022-07-06  34107.699219  34141.101562  34095.000000  34130.148438   \n",
              "2022-07-06  34132.101562  34159.648438  34119.250000  34154.949219   \n",
              "2022-07-06  34155.550781  34219.648438  34149.851562  34218.550781   \n",
              "2022-07-06  34218.101562  34253.148438  34203.750000  34225.148438   \n",
              "\n",
              "               Adj Close  Open:10 days rolling  \n",
              "Datetime                                        \n",
              "2022-07-06  34023.648438                   NaN  \n",
              "2022-07-06  34129.148438                   NaN  \n",
              "2022-07-06  34143.449219                   NaN  \n",
              "2022-07-06  34120.199219                   NaN  \n",
              "2022-07-06  34092.000000                   NaN  \n",
              "2022-07-06  33992.148438                   NaN  \n",
              "2022-07-06  34107.148438                   NaN  \n",
              "2022-07-06  34117.101562                   NaN  \n",
              "2022-07-06  34060.300781                   NaN  \n",
              "2022-07-06  34066.101562          34071.445312  \n",
              "2022-07-06  34086.148438          34085.095313  \n",
              "2022-07-06  34096.449219          34091.585156  \n",
              "2022-07-06  34079.101562          34088.644922  \n",
              "2022-07-06  34082.351562          34082.794922  \n",
              "2022-07-06  34113.300781          34079.134766  \n",
              "2022-07-06  34106.449219          34081.174609  \n",
              "2022-07-06  34130.148438          34092.194531  \n",
              "2022-07-06  34154.949219          34094.534766  \n",
              "2022-07-06  34218.550781          34098.259766  \n",
              "2022-07-06  34225.148438          34114.069922  "
            ],
            "text/html": [
              "\n",
              "  <div id=\"df-736a82dc-ae71-49b9-83f8-6c7befced558\">\n",
              "    <div class=\"colab-df-container\">\n",
              "      <div>\n",
              "<style scoped>\n",
              "    .dataframe tbody tr th:only-of-type {\n",
              "        vertical-align: middle;\n",
              "    }\n",
              "\n",
              "    .dataframe tbody tr th {\n",
              "        vertical-align: top;\n",
              "    }\n",
              "\n",
              "    .dataframe thead th {\n",
              "        text-align: right;\n",
              "    }\n",
              "</style>\n",
              "<table border=\"1\" class=\"dataframe\">\n",
              "  <thead>\n",
              "    <tr style=\"text-align: right;\">\n",
              "      <th></th>\n",
              "      <th>Open</th>\n",
              "      <th>High</th>\n",
              "      <th>Low</th>\n",
              "      <th>Close</th>\n",
              "      <th>Adj Close</th>\n",
              "      <th>Open:10 days rolling</th>\n",
              "    </tr>\n",
              "    <tr>\n",
              "      <th>Datetime</th>\n",
              "      <th></th>\n",
              "      <th></th>\n",
              "      <th></th>\n",
              "      <th></th>\n",
              "      <th></th>\n",
              "      <th></th>\n",
              "    </tr>\n",
              "  </thead>\n",
              "  <tbody>\n",
              "    <tr>\n",
              "      <th>2022-07-06</th>\n",
              "      <td>33929.398438</td>\n",
              "      <td>34091.250000</td>\n",
              "      <td>33916.101562</td>\n",
              "      <td>34023.648438</td>\n",
              "      <td>34023.648438</td>\n",
              "      <td>NaN</td>\n",
              "    </tr>\n",
              "    <tr>\n",
              "      <th>2022-07-06</th>\n",
              "      <td>34022.050781</td>\n",
              "      <td>34132.898438</td>\n",
              "      <td>34022.050781</td>\n",
              "      <td>34129.148438</td>\n",
              "      <td>34129.148438</td>\n",
              "      <td>NaN</td>\n",
              "    </tr>\n",
              "    <tr>\n",
              "      <th>2022-07-06</th>\n",
              "      <td>34127.601562</td>\n",
              "      <td>34158.000000</td>\n",
              "      <td>34107.148438</td>\n",
              "      <td>34143.449219</td>\n",
              "      <td>34143.449219</td>\n",
              "      <td>NaN</td>\n",
              "    </tr>\n",
              "    <tr>\n",
              "      <th>2022-07-06</th>\n",
              "      <td>34137.601562</td>\n",
              "      <td>34155.101562</td>\n",
              "      <td>34096.250000</td>\n",
              "      <td>34120.199219</td>\n",
              "      <td>34120.199219</td>\n",
              "      <td>NaN</td>\n",
              "    </tr>\n",
              "    <tr>\n",
              "      <th>2022-07-06</th>\n",
              "      <td>34119.750000</td>\n",
              "      <td>34135.699219</td>\n",
              "      <td>34092.000000</td>\n",
              "      <td>34092.000000</td>\n",
              "      <td>34092.000000</td>\n",
              "      <td>NaN</td>\n",
              "    </tr>\n",
              "    <tr>\n",
              "      <th>2022-07-06</th>\n",
              "      <td>34093.550781</td>\n",
              "      <td>34102.050781</td>\n",
              "      <td>33988.800781</td>\n",
              "      <td>33992.148438</td>\n",
              "      <td>33992.148438</td>\n",
              "      <td>NaN</td>\n",
              "    </tr>\n",
              "    <tr>\n",
              "      <th>2022-07-06</th>\n",
              "      <td>33997.500000</td>\n",
              "      <td>34107.148438</td>\n",
              "      <td>33962.851562</td>\n",
              "      <td>34107.148438</td>\n",
              "      <td>34107.148438</td>\n",
              "      <td>NaN</td>\n",
              "    </tr>\n",
              "    <tr>\n",
              "      <th>2022-07-06</th>\n",
              "      <td>34108.699219</td>\n",
              "      <td>34138.800781</td>\n",
              "      <td>34098.250000</td>\n",
              "      <td>34117.101562</td>\n",
              "      <td>34117.101562</td>\n",
              "      <td>NaN</td>\n",
              "    </tr>\n",
              "    <tr>\n",
              "      <th>2022-07-06</th>\n",
              "      <td>34118.300781</td>\n",
              "      <td>34122.648438</td>\n",
              "      <td>34051.000000</td>\n",
              "      <td>34060.300781</td>\n",
              "      <td>34060.300781</td>\n",
              "      <td>NaN</td>\n",
              "    </tr>\n",
              "    <tr>\n",
              "      <th>2022-07-06</th>\n",
              "      <td>34060.000000</td>\n",
              "      <td>34074.750000</td>\n",
              "      <td>34044.101562</td>\n",
              "      <td>34066.101562</td>\n",
              "      <td>34066.101562</td>\n",
              "      <td>34071.445312</td>\n",
              "    </tr>\n",
              "    <tr>\n",
              "      <th>2022-07-06</th>\n",
              "      <td>34065.898438</td>\n",
              "      <td>34101.949219</td>\n",
              "      <td>34037.750000</td>\n",
              "      <td>34086.148438</td>\n",
              "      <td>34086.148438</td>\n",
              "      <td>34085.095313</td>\n",
              "    </tr>\n",
              "    <tr>\n",
              "      <th>2022-07-06</th>\n",
              "      <td>34086.949219</td>\n",
              "      <td>34098.601562</td>\n",
              "      <td>34063.250000</td>\n",
              "      <td>34096.449219</td>\n",
              "      <td>34096.449219</td>\n",
              "      <td>34091.585156</td>\n",
              "    </tr>\n",
              "    <tr>\n",
              "      <th>2022-07-06</th>\n",
              "      <td>34098.199219</td>\n",
              "      <td>34098.199219</td>\n",
              "      <td>34068.648438</td>\n",
              "      <td>34079.101562</td>\n",
              "      <td>34079.101562</td>\n",
              "      <td>34088.644922</td>\n",
              "    </tr>\n",
              "    <tr>\n",
              "      <th>2022-07-06</th>\n",
              "      <td>34079.101562</td>\n",
              "      <td>34088.550781</td>\n",
              "      <td>34061.148438</td>\n",
              "      <td>34082.351562</td>\n",
              "      <td>34082.351562</td>\n",
              "      <td>34082.794922</td>\n",
              "    </tr>\n",
              "    <tr>\n",
              "      <th>2022-07-06</th>\n",
              "      <td>34083.148438</td>\n",
              "      <td>34125.601562</td>\n",
              "      <td>34083.148438</td>\n",
              "      <td>34113.300781</td>\n",
              "      <td>34113.300781</td>\n",
              "      <td>34079.134766</td>\n",
              "    </tr>\n",
              "    <tr>\n",
              "      <th>2022-07-06</th>\n",
              "      <td>34113.949219</td>\n",
              "      <td>34145.199219</td>\n",
              "      <td>34090.250000</td>\n",
              "      <td>34106.449219</td>\n",
              "      <td>34106.449219</td>\n",
              "      <td>34081.174609</td>\n",
              "    </tr>\n",
              "    <tr>\n",
              "      <th>2022-07-06</th>\n",
              "      <td>34107.699219</td>\n",
              "      <td>34141.101562</td>\n",
              "      <td>34095.000000</td>\n",
              "      <td>34130.148438</td>\n",
              "      <td>34130.148438</td>\n",
              "      <td>34092.194531</td>\n",
              "    </tr>\n",
              "    <tr>\n",
              "      <th>2022-07-06</th>\n",
              "      <td>34132.101562</td>\n",
              "      <td>34159.648438</td>\n",
              "      <td>34119.250000</td>\n",
              "      <td>34154.949219</td>\n",
              "      <td>34154.949219</td>\n",
              "      <td>34094.534766</td>\n",
              "    </tr>\n",
              "    <tr>\n",
              "      <th>2022-07-06</th>\n",
              "      <td>34155.550781</td>\n",
              "      <td>34219.648438</td>\n",
              "      <td>34149.851562</td>\n",
              "      <td>34218.550781</td>\n",
              "      <td>34218.550781</td>\n",
              "      <td>34098.259766</td>\n",
              "    </tr>\n",
              "    <tr>\n",
              "      <th>2022-07-06</th>\n",
              "      <td>34218.101562</td>\n",
              "      <td>34253.148438</td>\n",
              "      <td>34203.750000</td>\n",
              "      <td>34225.148438</td>\n",
              "      <td>34225.148438</td>\n",
              "      <td>34114.069922</td>\n",
              "    </tr>\n",
              "  </tbody>\n",
              "</table>\n",
              "</div>\n",
              "      <button class=\"colab-df-convert\" onclick=\"convertToInteractive('df-736a82dc-ae71-49b9-83f8-6c7befced558')\"\n",
              "              title=\"Convert this dataframe to an interactive table.\"\n",
              "              style=\"display:none;\">\n",
              "        \n",
              "  <svg xmlns=\"http://www.w3.org/2000/svg\" height=\"24px\"viewBox=\"0 0 24 24\"\n",
              "       width=\"24px\">\n",
              "    <path d=\"M0 0h24v24H0V0z\" fill=\"none\"/>\n",
              "    <path d=\"M18.56 5.44l.94 2.06.94-2.06 2.06-.94-2.06-.94-.94-2.06-.94 2.06-2.06.94zm-11 1L8.5 8.5l.94-2.06 2.06-.94-2.06-.94L8.5 2.5l-.94 2.06-2.06.94zm10 10l.94 2.06.94-2.06 2.06-.94-2.06-.94-.94-2.06-.94 2.06-2.06.94z\"/><path d=\"M17.41 7.96l-1.37-1.37c-.4-.4-.92-.59-1.43-.59-.52 0-1.04.2-1.43.59L10.3 9.45l-7.72 7.72c-.78.78-.78 2.05 0 2.83L4 21.41c.39.39.9.59 1.41.59.51 0 1.02-.2 1.41-.59l7.78-7.78 2.81-2.81c.8-.78.8-2.07 0-2.86zM5.41 20L4 18.59l7.72-7.72 1.47 1.35L5.41 20z\"/>\n",
              "  </svg>\n",
              "      </button>\n",
              "      \n",
              "  <style>\n",
              "    .colab-df-container {\n",
              "      display:flex;\n",
              "      flex-wrap:wrap;\n",
              "      gap: 12px;\n",
              "    }\n",
              "\n",
              "    .colab-df-convert {\n",
              "      background-color: #E8F0FE;\n",
              "      border: none;\n",
              "      border-radius: 50%;\n",
              "      cursor: pointer;\n",
              "      display: none;\n",
              "      fill: #1967D2;\n",
              "      height: 32px;\n",
              "      padding: 0 0 0 0;\n",
              "      width: 32px;\n",
              "    }\n",
              "\n",
              "    .colab-df-convert:hover {\n",
              "      background-color: #E2EBFA;\n",
              "      box-shadow: 0px 1px 2px rgba(60, 64, 67, 0.3), 0px 1px 3px 1px rgba(60, 64, 67, 0.15);\n",
              "      fill: #174EA6;\n",
              "    }\n",
              "\n",
              "    [theme=dark] .colab-df-convert {\n",
              "      background-color: #3B4455;\n",
              "      fill: #D2E3FC;\n",
              "    }\n",
              "\n",
              "    [theme=dark] .colab-df-convert:hover {\n",
              "      background-color: #434B5C;\n",
              "      box-shadow: 0px 1px 3px 1px rgba(0, 0, 0, 0.15);\n",
              "      filter: drop-shadow(0px 1px 2px rgba(0, 0, 0, 0.3));\n",
              "      fill: #FFFFFF;\n",
              "    }\n",
              "  </style>\n",
              "\n",
              "      <script>\n",
              "        const buttonEl =\n",
              "          document.querySelector('#df-736a82dc-ae71-49b9-83f8-6c7befced558 button.colab-df-convert');\n",
              "        buttonEl.style.display =\n",
              "          google.colab.kernel.accessAllowed ? 'block' : 'none';\n",
              "\n",
              "        async function convertToInteractive(key) {\n",
              "          const element = document.querySelector('#df-736a82dc-ae71-49b9-83f8-6c7befced558');\n",
              "          const dataTable =\n",
              "            await google.colab.kernel.invokeFunction('convertToInteractive',\n",
              "                                                     [key], {});\n",
              "          if (!dataTable) return;\n",
              "\n",
              "          const docLinkHtml = 'Like what you see? Visit the ' +\n",
              "            '<a target=\"_blank\" href=https://colab.research.google.com/notebooks/data_table.ipynb>data table notebook</a>'\n",
              "            + ' to learn more about interactive tables.';\n",
              "          element.innerHTML = '';\n",
              "          dataTable['output_type'] = 'display_data';\n",
              "          await google.colab.output.renderOutput(dataTable, element);\n",
              "          const docLink = document.createElement('div');\n",
              "          docLink.innerHTML = docLinkHtml;\n",
              "          element.appendChild(docLink);\n",
              "        }\n",
              "      </script>\n",
              "    </div>\n",
              "  </div>\n",
              "  "
            ]
          },
          "metadata": {},
          "execution_count": 37
        }
      ]
    },
    {
      "cell_type": "code",
      "source": [
        "df[['Open','Open:10 days rolling']].plot(figsize=(12,5))"
      ],
      "metadata": {
        "colab": {
          "base_uri": "https://localhost:8080/",
          "height": 360
        },
        "id": "AtqnoKOVNMRY",
        "outputId": "258084d9-4f99-4270-9e6e-b066189edd11"
      },
      "execution_count": null,
      "outputs": [
        {
          "output_type": "execute_result",
          "data": {
            "text/plain": [
              "<matplotlib.axes._subplots.AxesSubplot at 0x7f672ee3c0d0>"
            ]
          },
          "metadata": {},
          "execution_count": 38
        },
        {
          "output_type": "display_data",
          "data": {
            "text/plain": [
              "<Figure size 864x360 with 1 Axes>"
            ],
            "image/png": "[encoded data removed]"
          },
          "metadata": {
            "needs_background": "light"
          }
        }
      ]
    },
    {
      "cell_type": "code",
      "source": [
        "df['Open:30 days rolling']=df['Open'].rolling(30).mean()"
      ],
      "metadata": {
        "id": "SLdCJf61cv7c"
      },
      "execution_count": null,
      "outputs": []
    },
    {
      "cell_type": "code",
      "source": [
        "df.head(33)"
      ],
      "metadata": {
        "colab": {
          "base_uri": "https://localhost:8080/",
          "height": 1000
        },
        "id": "YsY46NCTc2P_",
        "outputId": "a1fb11df-fadc-4cd1-95ba-e42bc10114a9"
      },
      "execution_count": null,
      "outputs": [
        {
          "output_type": "execute_result",
          "data": {
            "text/plain": [
              "                    Open          High           Low         Close  \\\n",
              "Datetime                                                             \n",
              "2022-07-06  33929.398438  34091.250000  33916.101562  34023.648438   \n",
              "2022-07-06  34022.050781  34132.898438  34022.050781  34129.148438   \n",
              "2022-07-06  34127.601562  34158.000000  34107.148438  34143.449219   \n",
              "2022-07-06  34137.601562  34155.101562  34096.250000  34120.199219   \n",
              "2022-07-06  34119.750000  34135.699219  34092.000000  34092.000000   \n",
              "2022-07-06  34093.550781  34102.050781  33988.800781  33992.148438   \n",
              "2022-07-06  33997.500000  34107.148438  33962.851562  34107.148438   \n",
              "2022-07-06  34108.699219  34138.800781  34098.250000  34117.101562   \n",
              "2022-07-06  34118.300781  34122.648438  34051.000000  34060.300781   \n",
              "2022-07-06  34060.000000  34074.750000  34044.101562  34066.101562   \n",
              "2022-07-06  34065.898438  34101.949219  34037.750000  34086.148438   \n",
              "2022-07-06  34086.949219  34098.601562  34063.250000  34096.449219   \n",
              "2022-07-06  34098.199219  34098.199219  34068.648438  34079.101562   \n",
              "2022-07-06  34079.101562  34088.550781  34061.148438  34082.351562   \n",
              "2022-07-06  34083.148438  34125.601562  34083.148438  34113.300781   \n",
              "2022-07-06  34113.949219  34145.199219  34090.250000  34106.449219   \n",
              "2022-07-06  34107.699219  34141.101562  34095.000000  34130.148438   \n",
              "2022-07-06  34132.101562  34159.648438  34119.250000  34154.949219   \n",
              "2022-07-06  34155.550781  34219.648438  34149.851562  34218.550781   \n",
              "2022-07-06  34218.101562  34253.148438  34203.750000  34225.148438   \n",
              "2022-07-06  34226.101562  34232.000000  34190.550781  34205.500000   \n",
              "2022-07-06  34206.800781  34215.148438  34182.699219  34203.050781   \n",
              "2022-07-06  34203.351562  34211.000000  34158.601562  34163.050781   \n",
              "2022-07-06  34159.449219  34190.300781  34149.601562  34177.050781   \n",
              "2022-07-06  34178.550781  34218.101562  34178.550781  34194.949219   \n",
              "2022-07-06  34196.250000  34211.300781  34172.250000  34177.949219   \n",
              "2022-07-06  34179.148438  34188.699219  34150.351562  34153.351562   \n",
              "2022-07-06  34152.000000  34152.898438  34081.550781  34081.550781   \n",
              "2022-07-06  34082.500000  34110.601562  34069.898438  34082.300781   \n",
              "2022-07-06  34082.851562  34131.648438  34079.500000  34113.101562   \n",
              "2022-07-06  34109.750000  34133.949219  34101.898438  34131.449219   \n",
              "2022-07-06  34129.148438  34142.648438  34101.148438  34127.800781   \n",
              "2022-07-06  34125.148438  34139.699219  34115.300781  34137.199219   \n",
              "\n",
              "               Adj Close  Open:10 days rolling  Open:30 days rolling  \n",
              "Datetime                                                              \n",
              "2022-07-06  34023.648438                   NaN                   NaN  \n",
              "2022-07-06  34129.148438                   NaN                   NaN  \n",
              "2022-07-06  34143.449219                   NaN                   NaN  \n",
              "2022-07-06  34120.199219                   NaN                   NaN  \n",
              "2022-07-06  34092.000000                   NaN                   NaN  \n",
              "2022-07-06  33992.148438                   NaN                   NaN  \n",
              "2022-07-06  34107.148438                   NaN                   NaN  \n",
              "2022-07-06  34117.101562                   NaN                   NaN  \n",
              "2022-07-06  34060.300781                   NaN                   NaN  \n",
              "2022-07-06  34066.101562          34071.445312                   NaN  \n",
              "2022-07-06  34086.148438          34085.095313                   NaN  \n",
              "2022-07-06  34096.449219          34091.585156                   NaN  \n",
              "2022-07-06  34079.101562          34088.644922                   NaN  \n",
              "2022-07-06  34082.351562          34082.794922                   NaN  \n",
              "2022-07-06  34113.300781          34079.134766                   NaN  \n",
              "2022-07-06  34106.449219          34081.174609                   NaN  \n",
              "2022-07-06  34130.148438          34092.194531                   NaN  \n",
              "2022-07-06  34154.949219          34094.534766                   NaN  \n",
              "2022-07-06  34218.550781          34098.259766                   NaN  \n",
              "2022-07-06  34225.148438          34114.069922                   NaN  \n",
              "2022-07-06  34205.500000          34130.090234                   NaN  \n",
              "2022-07-06  34203.050781          34142.075391                   NaN  \n",
              "2022-07-06  34163.050781          34152.590625                   NaN  \n",
              "2022-07-06  34177.050781          34160.625391                   NaN  \n",
              "2022-07-06  34194.949219          34170.165625                   NaN  \n",
              "2022-07-06  34177.949219          34178.395703                   NaN  \n",
              "2022-07-06  34153.351562          34185.540625                   NaN  \n",
              "2022-07-06  34081.550781          34187.530469                   NaN  \n",
              "2022-07-06  34082.300781          34180.225391                   NaN  \n",
              "2022-07-06  34113.101562          34166.700391          34117.405208  \n",
              "2022-07-06  34131.449219          34155.065234          34123.416927  \n",
              "2022-07-06  34127.800781          34147.300000          34126.986849  \n",
              "2022-07-06  34137.199219          34139.479688          34126.905078  "
            ],
            "text/html": [
              "\n",
              "  <div id=\"df-644ebce9-ce3e-4cb8-a4d1-780485386825\">\n",
              "    <div class=\"colab-df-container\">\n",
              "      <div>\n",
              "<style scoped>\n",
              "    .dataframe tbody tr th:only-of-type {\n",
              "        vertical-align: middle;\n",
              "    }\n",
              "\n",
              "    .dataframe tbody tr th {\n",
              "        vertical-align: top;\n",
              "    }\n",
              "\n",
              "    .dataframe thead th {\n",
              "        text-align: right;\n",
              "    }\n",
              "</style>\n",
              "<table border=\"1\" class=\"dataframe\">\n",
              "  <thead>\n",
              "    <tr style=\"text-align: right;\">\n",
              "      <th></th>\n",
              "      <th>Open</th>\n",
              "      <th>High</th>\n",
              "      <th>Low</th>\n",
              "      <th>Close</th>\n",
              "      <th>Adj Close</th>\n",
              "      <th>Open:10 days rolling</th>\n",
              "      <th>Open:30 days rolling</th>\n",
              "    </tr>\n",
              "    <tr>\n",
              "      <th>Datetime</th>\n",
              "      <th></th>\n",
              "      <th></th>\n",
              "      <th></th>\n",
              "      <th></th>\n",
              "      <th></th>\n",
              "      <th></th>\n",
              "      <th></th>\n",
              "    </tr>\n",
              "  </thead>\n",
              "  <tbody>\n",
              "    <tr>\n",
              "      <th>2022-07-06</th>\n",
              "      <td>33929.398438</td>\n",
              "      <td>34091.250000</td>\n",
              "      <td>33916.101562</td>\n",
              "      <td>34023.648438</td>\n",
              "      <td>34023.648438</td>\n",
              "      <td>NaN</td>\n",
              "      <td>NaN</td>\n",
              "    </tr>\n",
              "    <tr>\n",
              "      <th>2022-07-06</th>\n",
              "      <td>34022.050781</td>\n",
              "      <td>34132.898438</td>\n",
              "      <td>34022.050781</td>\n",
              "      <td>34129.148438</td>\n",
              "      <td>34129.148438</td>\n",
              "      <td>NaN</td>\n",
              "      <td>NaN</td>\n",
              "    </tr>\n",
              "    <tr>\n",
              "      <th>2022-07-06</th>\n",
              "      <td>34127.601562</td>\n",
              "      <td>34158.000000</td>\n",
              "      <td>34107.148438</td>\n",
              "      <td>34143.449219</td>\n",
              "      <td>34143.449219</td>\n",
              "      <td>NaN</td>\n",
              "      <td>NaN</td>\n",
              "    </tr>\n",
              "    <tr>\n",
              "      <th>2022-07-06</th>\n",
              "      <td>34137.601562</td>\n",
              "      <td>34155.101562</td>\n",
              "      <td>34096.250000</td>\n",
              "      <td>34120.199219</td>\n",
              "      <td>34120.199219</td>\n",
              "      <td>NaN</td>\n",
              "      <td>NaN</td>\n",
              "    </tr>\n",
              "    <tr>\n",
              "      <th>2022-07-06</th>\n",
              "      <td>34119.750000</td>\n",
              "      <td>34135.699219</td>\n",
              "      <td>34092.000000</td>\n",
              "      <td>34092.000000</td>\n",
              "      <td>34092.000000</td>\n",
              "      <td>NaN</td>\n",
              "      <td>NaN</td>\n",
              "    </tr>\n",
              "    <tr>\n",
              "      <th>2022-07-06</th>\n",
              "      <td>34093.550781</td>\n",
              "      <td>34102.050781</td>\n",
              "      <td>33988.800781</td>\n",
              "      <td>33992.148438</td>\n",
              "      <td>33992.148438</td>\n",
              "      <td>NaN</td>\n",
              "      <td>NaN</td>\n",
              "    </tr>\n",
              "    <tr>\n",
              "      <th>2022-07-06</th>\n",
              "      <td>33997.500000</td>\n",
              "      <td>34107.148438</td>\n",
              "      <td>33962.851562</td>\n",
              "      <td>34107.148438</td>\n",
              "      <td>34107.148438</td>\n",
              "      <td>NaN</td>\n",
              "      <td>NaN</td>\n",
              "    </tr>\n",
              "    <tr>\n",
              "      <th>2022-07-06</th>\n",
              "      <td>34108.699219</td>\n",
              "      <td>34138.800781</td>\n",
              "      <td>34098.250000</td>\n",
              "      <td>34117.101562</td>\n",
              "      <td>34117.101562</td>\n",
              "      <td>NaN</td>\n",
              "      <td>NaN</td>\n",
              "    </tr>\n",
              "    <tr>\n",
              "      <th>2022-07-06</th>\n",
              "      <td>34118.300781</td>\n",
              "      <td>34122.648438</td>\n",
              "      <td>34051.000000</td>\n",
              "      <td>34060.300781</td>\n",
              "      <td>34060.300781</td>\n",
              "      <td>NaN</td>\n",
              "      <td>NaN</td>\n",
              "    </tr>\n",
              "    <tr>\n",
              "      <th>2022-07-06</th>\n",
              "      <td>34060.000000</td>\n",
              "      <td>34074.750000</td>\n",
              "      <td>34044.101562</td>\n",
              "      <td>34066.101562</td>\n",
              "      <td>34066.101562</td>\n",
              "      <td>34071.445312</td>\n",
              "      <td>NaN</td>\n",
              "    </tr>\n",
              "    <tr>\n",
              "      <th>2022-07-06</th>\n",
              "      <td>34065.898438</td>\n",
              "      <td>34101.949219</td>\n",
              "      <td>34037.750000</td>\n",
              "      <td>34086.148438</td>\n",
              "      <td>34086.148438</td>\n",
              "      <td>34085.095313</td>\n",
              "      <td>NaN</td>\n",
              "    </tr>\n",
              "    <tr>\n",
              "      <th>2022-07-06</th>\n",
              "      <td>34086.949219</td>\n",
              "      <td>34098.601562</td>\n",
              "      <td>34063.250000</td>\n",
              "      <td>34096.449219</td>\n",
              "      <td>34096.449219</td>\n",
              "      <td>34091.585156</td>\n",
              "      <td>NaN</td>\n",
              "    </tr>\n",
              "    <tr>\n",
              "      <th>2022-07-06</th>\n",
              "      <td>34098.199219</td>\n",
              "      <td>34098.199219</td>\n",
              "      <td>34068.648438</td>\n",
              "      <td>34079.101562</td>\n",
              "      <td>34079.101562</td>\n",
              "      <td>34088.644922</td>\n",
              "      <td>NaN</td>\n",
              "    </tr>\n",
              "    <tr>\n",
              "      <th>2022-07-06</th>\n",
              "      <td>34079.101562</td>\n",
              "      <td>34088.550781</td>\n",
              "      <td>34061.148438</td>\n",
              "      <td>34082.351562</td>\n",
              "      <td>34082.351562</td>\n",
              "      <td>34082.794922</td>\n",
              "      <td>NaN</td>\n",
              "    </tr>\n",
              "    <tr>\n",
              "      <th>2022-07-06</th>\n",
              "      <td>34083.148438</td>\n",
              "      <td>34125.601562</td>\n",
              "      <td>34083.148438</td>\n",
              "      <td>34113.300781</td>\n",
              "      <td>34113.300781</td>\n",
              "      <td>34079.134766</td>\n",
              "      <td>NaN</td>\n",
              "    </tr>\n",
              "    <tr>\n",
              "      <th>2022-07-06</th>\n",
              "      <td>34113.949219</td>\n",
              "      <td>34145.199219</td>\n",
              "      <td>34090.250000</td>\n",
              "      <td>34106.449219</td>\n",
              "      <td>34106.449219</td>\n",
              "      <td>34081.174609</td>\n",
              "      <td>NaN</td>\n",
              "    </tr>\n",
              "    <tr>\n",
              "      <th>2022-07-06</th>\n",
              "      <td>34107.699219</td>\n",
              "      <td>34141.101562</td>\n",
              "      <td>34095.000000</td>\n",
              "      <td>34130.148438</td>\n",
              "      <td>34130.148438</td>\n",
              "      <td>34092.194531</td>\n",
              "      <td>NaN</td>\n",
              "    </tr>\n",
              "    <tr>\n",
              "      <th>2022-07-06</th>\n",
              "      <td>34132.101562</td>\n",
              "      <td>34159.648438</td>\n",
              "      <td>34119.250000</td>\n",
              "      <td>34154.949219</td>\n",
              "      <td>34154.949219</td>\n",
              "      <td>34094.534766</td>\n",
              "      <td>NaN</td>\n",
              "    </tr>\n",
              "    <tr>\n",
              "      <th>2022-07-06</th>\n",
              "      <td>34155.550781</td>\n",
              "      <td>34219.648438</td>\n",
              "      <td>34149.851562</td>\n",
              "      <td>34218.550781</td>\n",
              "      <td>34218.550781</td>\n",
              "      <td>34098.259766</td>\n",
              "      <td>NaN</td>\n",
              "    </tr>\n",
              "    <tr>\n",
              "      <th>2022-07-06</th>\n",
              "      <td>34218.101562</td>\n",
              "      <td>34253.148438</td>\n",
              "      <td>34203.750000</td>\n",
              "      <td>34225.148438</td>\n",
              "      <td>34225.148438</td>\n",
              "      <td>34114.069922</td>\n",
              "      <td>NaN</td>\n",
              "    </tr>\n",
              "    <tr>\n",
              "      <th>2022-07-06</th>\n",
              "      <td>34226.101562</td>\n",
              "      <td>34232.000000</td>\n",
              "      <td>34190.550781</td>\n",
              "      <td>34205.500000</td>\n",
              "      <td>34205.500000</td>\n",
              "      <td>34130.090234</td>\n",
              "      <td>NaN</td>\n",
              "    </tr>\n",
              "    <tr>\n",
              "      <th>2022-07-06</th>\n",
              "      <td>34206.800781</td>\n",
              "      <td>34215.148438</td>\n",
              "      <td>34182.699219</td>\n",
              "      <td>34203.050781</td>\n",
              "      <td>34203.050781</td>\n",
              "      <td>34142.075391</td>\n",
              "      <td>NaN</td>\n",
              "    </tr>\n",
              "    <tr>\n",
              "      <th>2022-07-06</th>\n",
              "      <td>34203.351562</td>\n",
              "      <td>34211.000000</td>\n",
              "      <td>34158.601562</td>\n",
              "      <td>34163.050781</td>\n",
              "      <td>34163.050781</td>\n",
              "      <td>34152.590625</td>\n",
              "      <td>NaN</td>\n",
              "    </tr>\n",
              "    <tr>\n",
              "      <th>2022-07-06</th>\n",
              "      <td>34159.449219</td>\n",
              "      <td>34190.300781</td>\n",
              "      <td>34149.601562</td>\n",
              "      <td>34177.050781</td>\n",
              "      <td>34177.050781</td>\n",
              "      <td>34160.625391</td>\n",
              "      <td>NaN</td>\n",
              "    </tr>\n",
              "    <tr>\n",
              "      <th>2022-07-06</th>\n",
              "      <td>34178.550781</td>\n",
              "      <td>34218.101562</td>\n",
              "      <td>34178.550781</td>\n",
              "      <td>34194.949219</td>\n",
              "      <td>34194.949219</td>\n",
              "      <td>34170.165625</td>\n",
              "      <td>NaN</td>\n",
              "    </tr>\n",
              "    <tr>\n",
              "      <th>2022-07-06</th>\n",
              "      <td>34196.250000</td>\n",
              "      <td>34211.300781</td>\n",
              "      <td>34172.250000</td>\n",
              "      <td>34177.949219</td>\n",
              "      <td>34177.949219</td>\n",
              "      <td>34178.395703</td>\n",
              "      <td>NaN</td>\n",
              "    </tr>\n",
              "    <tr>\n",
              "      <th>2022-07-06</th>\n",
              "      <td>34179.148438</td>\n",
              "      <td>34188.699219</td>\n",
              "      <td>34150.351562</td>\n",
              "      <td>34153.351562</td>\n",
              "      <td>34153.351562</td>\n",
              "      <td>34185.540625</td>\n",
              "      <td>NaN</td>\n",
              "    </tr>\n",
              "    <tr>\n",
              "      <th>2022-07-06</th>\n",
              "      <td>34152.000000</td>\n",
              "      <td>34152.898438</td>\n",
              "      <td>34081.550781</td>\n",
              "      <td>34081.550781</td>\n",
              "      <td>34081.550781</td>\n",
              "      <td>34187.530469</td>\n",
              "      <td>NaN</td>\n",
              "    </tr>\n",
              "    <tr>\n",
              "      <th>2022-07-06</th>\n",
              "      <td>34082.500000</td>\n",
              "      <td>34110.601562</td>\n",
              "      <td>34069.898438</td>\n",
              "      <td>34082.300781</td>\n",
              "      <td>34082.300781</td>\n",
              "      <td>34180.225391</td>\n",
              "      <td>NaN</td>\n",
              "    </tr>\n",
              "    <tr>\n",
              "      <th>2022-07-06</th>\n",
              "      <td>34082.851562</td>\n",
              "      <td>34131.648438</td>\n",
              "      <td>34079.500000</td>\n",
              "      <td>34113.101562</td>\n",
              "      <td>34113.101562</td>\n",
              "      <td>34166.700391</td>\n",
              "      <td>34117.405208</td>\n",
              "    </tr>\n",
              "    <tr>\n",
              "      <th>2022-07-06</th>\n",
              "      <td>34109.750000</td>\n",
              "      <td>34133.949219</td>\n",
              "      <td>34101.898438</td>\n",
              "      <td>34131.449219</td>\n",
              "      <td>34131.449219</td>\n",
              "      <td>34155.065234</td>\n",
              "      <td>34123.416927</td>\n",
              "    </tr>\n",
              "    <tr>\n",
              "      <th>2022-07-06</th>\n",
              "      <td>34129.148438</td>\n",
              "      <td>34142.648438</td>\n",
              "      <td>34101.148438</td>\n",
              "      <td>34127.800781</td>\n",
              "      <td>34127.800781</td>\n",
              "      <td>34147.300000</td>\n",
              "      <td>34126.986849</td>\n",
              "    </tr>\n",
              "    <tr>\n",
              "      <th>2022-07-06</th>\n",
              "      <td>34125.148438</td>\n",
              "      <td>34139.699219</td>\n",
              "      <td>34115.300781</td>\n",
              "      <td>34137.199219</td>\n",
              "      <td>34137.199219</td>\n",
              "      <td>34139.479688</td>\n",
              "      <td>34126.905078</td>\n",
              "    </tr>\n",
              "  </tbody>\n",
              "</table>\n",
              "</div>\n",
              "      <button class=\"colab-df-convert\" onclick=\"convertToInteractive('df-644ebce9-ce3e-4cb8-a4d1-780485386825')\"\n",
              "              title=\"Convert this dataframe to an interactive table.\"\n",
              "              style=\"display:none;\">\n",
              "        \n",
              "  <svg xmlns=\"http://www.w3.org/2000/svg\" height=\"24px\"viewBox=\"0 0 24 24\"\n",
              "       width=\"24px\">\n",
              "    <path d=\"M0 0h24v24H0V0z\" fill=\"none\"/>\n",
              "    <path d=\"M18.56 5.44l.94 2.06.94-2.06 2.06-.94-2.06-.94-.94-2.06-.94 2.06-2.06.94zm-11 1L8.5 8.5l.94-2.06 2.06-.94-2.06-.94L8.5 2.5l-.94 2.06-2.06.94zm10 10l.94 2.06.94-2.06 2.06-.94-2.06-.94-.94-2.06-.94 2.06-2.06.94z\"/><path d=\"M17.41 7.96l-1.37-1.37c-.4-.4-.92-.59-1.43-.59-.52 0-1.04.2-1.43.59L10.3 9.45l-7.72 7.72c-.78.78-.78 2.05 0 2.83L4 21.41c.39.39.9.59 1.41.59.51 0 1.02-.2 1.41-.59l7.78-7.78 2.81-2.81c.8-.78.8-2.07 0-2.86zM5.41 20L4 18.59l7.72-7.72 1.47 1.35L5.41 20z\"/>\n",
              "  </svg>\n",
              "      </button>\n",
              "      \n",
              "  <style>\n",
              "    .colab-df-container {\n",
              "      display:flex;\n",
              "      flex-wrap:wrap;\n",
              "      gap: 12px;\n",
              "    }\n",
              "\n",
              "    .colab-df-convert {\n",
              "      background-color: #E8F0FE;\n",
              "      border: none;\n",
              "      border-radius: 50%;\n",
              "      cursor: pointer;\n",
              "      display: none;\n",
              "      fill: #1967D2;\n",
              "      height: 32px;\n",
              "      padding: 0 0 0 0;\n",
              "      width: 32px;\n",
              "    }\n",
              "\n",
              "    .colab-df-convert:hover {\n",
              "      background-color: #E2EBFA;\n",
              "      box-shadow: 0px 1px 2px rgba(60, 64, 67, 0.3), 0px 1px 3px 1px rgba(60, 64, 67, 0.15);\n",
              "      fill: #174EA6;\n",
              "    }\n",
              "\n",
              "    [theme=dark] .colab-df-convert {\n",
              "      background-color: #3B4455;\n",
              "      fill: #D2E3FC;\n",
              "    }\n",
              "\n",
              "    [theme=dark] .colab-df-convert:hover {\n",
              "      background-color: #434B5C;\n",
              "      box-shadow: 0px 1px 3px 1px rgba(0, 0, 0, 0.15);\n",
              "      filter: drop-shadow(0px 1px 2px rgba(0, 0, 0, 0.3));\n",
              "      fill: #FFFFFF;\n",
              "    }\n",
              "  </style>\n",
              "\n",
              "      <script>\n",
              "        const buttonEl =\n",
              "          document.querySelector('#df-644ebce9-ce3e-4cb8-a4d1-780485386825 button.colab-df-convert');\n",
              "        buttonEl.style.display =\n",
              "          google.colab.kernel.accessAllowed ? 'block' : 'none';\n",
              "\n",
              "        async function convertToInteractive(key) {\n",
              "          const element = document.querySelector('#df-644ebce9-ce3e-4cb8-a4d1-780485386825');\n",
              "          const dataTable =\n",
              "            await google.colab.kernel.invokeFunction('convertToInteractive',\n",
              "                                                     [key], {});\n",
              "          if (!dataTable) return;\n",
              "\n",
              "          const docLinkHtml = 'Like what you see? Visit the ' +\n",
              "            '<a target=\"_blank\" href=https://colab.research.google.com/notebooks/data_table.ipynb>data table notebook</a>'\n",
              "            + ' to learn more about interactive tables.';\n",
              "          element.innerHTML = '';\n",
              "          dataTable['output_type'] = 'display_data';\n",
              "          await google.colab.output.renderOutput(dataTable, element);\n",
              "          const docLink = document.createElement('div');\n",
              "          docLink.innerHTML = docLinkHtml;\n",
              "          element.appendChild(docLink);\n",
              "        }\n",
              "      </script>\n",
              "    </div>\n",
              "  </div>\n",
              "  "
            ]
          },
          "metadata": {},
          "execution_count": 40
        }
      ]
    },
    {
      "cell_type": "code",
      "source": [
        "df[['Open','Open:30 days rolling']].plot(figsize=(12,5))"
      ],
      "metadata": {
        "colab": {
          "base_uri": "https://localhost:8080/",
          "height": 360
        },
        "id": "jC25FBlFcn0Q",
        "outputId": "becf49d8-c526-49da-d45a-8f2b032723b0"
      },
      "execution_count": null,
      "outputs": [
        {
          "output_type": "execute_result",
          "data": {
            "text/plain": [
              "<matplotlib.axes._subplots.AxesSubplot at 0x7f672ed67a50>"
            ]
          },
          "metadata": {},
          "execution_count": 41
        },
        {
          "output_type": "display_data",
          "data": {
            "text/plain": [
              "<Figure size 864x360 with 1 Axes>"
            ],
            "image/png": "[encoded data removed]"
          },
          "metadata": {
            "needs_background": "light"
          }
        }
      ]
    },
    {
      "cell_type": "code",
      "source": [
        "df[['Open','Open:10 days rolling','Open:30 days rolling']].plot(figsize=(12,5))"
      ],
      "metadata": {
        "colab": {
          "base_uri": "https://localhost:8080/",
          "height": 360
        },
        "id": "HJZu28emcQtO",
        "outputId": "2bc23efe-a082-4ce2-8303-0c411805c59f"
      },
      "execution_count": null,
      "outputs": [
        {
          "output_type": "execute_result",
          "data": {
            "text/plain": [
              "<matplotlib.axes._subplots.AxesSubplot at 0x7f672ec523d0>"
            ]
          },
          "metadata": {},
          "execution_count": 42
        },
        {
          "output_type": "display_data",
          "data": {
            "text/plain": [
              "<Figure size 864x360 with 1 Axes>"
            ],
            "image/png": "[encoded data removed]"
          },
          "metadata": {
            "needs_background": "light"
          }
        }
      ]
    },
    {
      "cell_type": "markdown",
      "source": [
        "MITO is one of the widely use Auto EDA tool which will be specificall used for Finacial Data and stock market data.\n",
        "\n",
        "Exception: The mitosheet currently only works in JupyterLab.\n",
        "\n",
        "\n",
        "!pip install mitoinstaller\n",
        "!pip install mitosheet\n",
        "import mitosheet"
      ],
      "metadata": {
        "id": "3f2hoXeH36FG"
      }
    },
    {
      "cell_type": "markdown",
      "source": [
        "Splitting X and Y"
      ],
      "metadata": {
        "id": "dNHCuJopi6mP"
      }
    },
    {
      "cell_type": "code",
      "source": [
        "df.columns"
      ],
      "metadata": {
        "colab": {
          "base_uri": "https://localhost:8080/"
        },
        "id": "5ONzFMe3mTkt",
        "outputId": "270564e7-77f2-4946-b8df-f6c38f019322"
      },
      "execution_count": 56,
      "outputs": [
        {
          "output_type": "execute_result",
          "data": {
            "text/plain": [
              "Index(['Open', 'High', 'Low', 'Close', 'Adj Close', 'month', 'day', 'hour',\n",
              "       'minute'],\n",
              "      dtype='object')"
            ]
          },
          "metadata": {},
          "execution_count": 56
        }
      ]
    },
    {
      "cell_type": "code",
      "source": [
        "df.head()"
      ],
      "metadata": {
        "colab": {
          "base_uri": "https://localhost:8080/",
          "height": 206
        },
        "id": "nzeFuY2New4_",
        "outputId": "dd11c950-062e-44e9-a6ae-bf025486d4ec"
      },
      "execution_count": 60,
      "outputs": [
        {
          "output_type": "execute_result",
          "data": {
            "text/plain": [
              "           Open          High           Low         Close     Adj Close  \\\n",
              "0  33929.398438  34091.250000  33916.101562  34023.648438  34023.648438   \n",
              "1  34022.050781  34132.898438  34022.050781  34129.148438  34129.148438   \n",
              "2  34127.601562  34158.000000  34107.148438  34143.449219  34143.449219   \n",
              "3  34137.601562  34155.101562  34096.250000  34120.199219  34120.199219   \n",
              "4  34119.750000  34135.699219  34092.000000  34092.000000  34092.000000   \n",
              "\n",
              "   month  day  hour  minute  \n",
              "0      7    6     9      15  \n",
              "1      7    6     9      20  \n",
              "2      7    6     9      25  \n",
              "3      7    6     9      30  \n",
              "4      7    6     9      35  "
            ],
            "text/html": [
              "\n",
              "  <div id=\"df-8033e96e-4406-462d-bf3d-cb8d8685caa1\">\n",
              "    <div class=\"colab-df-container\">\n",
              "      <div>\n",
              "<style scoped>\n",
              "    .dataframe tbody tr th:only-of-type {\n",
              "        vertical-align: middle;\n",
              "    }\n",
              "\n",
              "    .dataframe tbody tr th {\n",
              "        vertical-align: top;\n",
              "    }\n",
              "\n",
              "    .dataframe thead th {\n",
              "        text-align: right;\n",
              "    }\n",
              "</style>\n",
              "<table border=\"1\" class=\"dataframe\">\n",
              "  <thead>\n",
              "    <tr style=\"text-align: right;\">\n",
              "      <th></th>\n",
              "      <th>Open</th>\n",
              "      <th>High</th>\n",
              "      <th>Low</th>\n",
              "      <th>Close</th>\n",
              "      <th>Adj Close</th>\n",
              "      <th>month</th>\n",
              "      <th>day</th>\n",
              "      <th>hour</th>\n",
              "      <th>minute</th>\n",
              "    </tr>\n",
              "  </thead>\n",
              "  <tbody>\n",
              "    <tr>\n",
              "      <th>0</th>\n",
              "      <td>33929.398438</td>\n",
              "      <td>34091.250000</td>\n",
              "      <td>33916.101562</td>\n",
              "      <td>34023.648438</td>\n",
              "      <td>34023.648438</td>\n",
              "      <td>7</td>\n",
              "      <td>6</td>\n",
              "      <td>9</td>\n",
              "      <td>15</td>\n",
              "    </tr>\n",
              "    <tr>\n",
              "      <th>1</th>\n",
              "      <td>34022.050781</td>\n",
              "      <td>34132.898438</td>\n",
              "      <td>34022.050781</td>\n",
              "      <td>34129.148438</td>\n",
              "      <td>34129.148438</td>\n",
              "      <td>7</td>\n",
              "      <td>6</td>\n",
              "      <td>9</td>\n",
              "      <td>20</td>\n",
              "    </tr>\n",
              "    <tr>\n",
              "      <th>2</th>\n",
              "      <td>34127.601562</td>\n",
              "      <td>34158.000000</td>\n",
              "      <td>34107.148438</td>\n",
              "      <td>34143.449219</td>\n",
              "      <td>34143.449219</td>\n",
              "      <td>7</td>\n",
              "      <td>6</td>\n",
              "      <td>9</td>\n",
              "      <td>25</td>\n",
              "    </tr>\n",
              "    <tr>\n",
              "      <th>3</th>\n",
              "      <td>34137.601562</td>\n",
              "      <td>34155.101562</td>\n",
              "      <td>34096.250000</td>\n",
              "      <td>34120.199219</td>\n",
              "      <td>34120.199219</td>\n",
              "      <td>7</td>\n",
              "      <td>6</td>\n",
              "      <td>9</td>\n",
              "      <td>30</td>\n",
              "    </tr>\n",
              "    <tr>\n",
              "      <th>4</th>\n",
              "      <td>34119.750000</td>\n",
              "      <td>34135.699219</td>\n",
              "      <td>34092.000000</td>\n",
              "      <td>34092.000000</td>\n",
              "      <td>34092.000000</td>\n",
              "      <td>7</td>\n",
              "      <td>6</td>\n",
              "      <td>9</td>\n",
              "      <td>35</td>\n",
              "    </tr>\n",
              "  </tbody>\n",
              "</table>\n",
              "</div>\n",
              "      <button class=\"colab-df-convert\" onclick=\"convertToInteractive('df-8033e96e-4406-462d-bf3d-cb8d8685caa1')\"\n",
              "              title=\"Convert this dataframe to an interactive table.\"\n",
              "              style=\"display:none;\">\n",
              "        \n",
              "  <svg xmlns=\"http://www.w3.org/2000/svg\" height=\"24px\"viewBox=\"0 0 24 24\"\n",
              "       width=\"24px\">\n",
              "    <path d=\"M0 0h24v24H0V0z\" fill=\"none\"/>\n",
              "    <path d=\"M18.56 5.44l.94 2.06.94-2.06 2.06-.94-2.06-.94-.94-2.06-.94 2.06-2.06.94zm-11 1L8.5 8.5l.94-2.06 2.06-.94-2.06-.94L8.5 2.5l-.94 2.06-2.06.94zm10 10l.94 2.06.94-2.06 2.06-.94-2.06-.94-.94-2.06-.94 2.06-2.06.94z\"/><path d=\"M17.41 7.96l-1.37-1.37c-.4-.4-.92-.59-1.43-.59-.52 0-1.04.2-1.43.59L10.3 9.45l-7.72 7.72c-.78.78-.78 2.05 0 2.83L4 21.41c.39.39.9.59 1.41.59.51 0 1.02-.2 1.41-.59l7.78-7.78 2.81-2.81c.8-.78.8-2.07 0-2.86zM5.41 20L4 18.59l7.72-7.72 1.47 1.35L5.41 20z\"/>\n",
              "  </svg>\n",
              "      </button>\n",
              "      \n",
              "  <style>\n",
              "    .colab-df-container {\n",
              "      display:flex;\n",
              "      flex-wrap:wrap;\n",
              "      gap: 12px;\n",
              "    }\n",
              "\n",
              "    .colab-df-convert {\n",
              "      background-color: #E8F0FE;\n",
              "      border: none;\n",
              "      border-radius: 50%;\n",
              "      cursor: pointer;\n",
              "      display: none;\n",
              "      fill: #1967D2;\n",
              "      height: 32px;\n",
              "      padding: 0 0 0 0;\n",
              "      width: 32px;\n",
              "    }\n",
              "\n",
              "    .colab-df-convert:hover {\n",
              "      background-color: #E2EBFA;\n",
              "      box-shadow: 0px 1px 2px rgba(60, 64, 67, 0.3), 0px 1px 3px 1px rgba(60, 64, 67, 0.15);\n",
              "      fill: #174EA6;\n",
              "    }\n",
              "\n",
              "    [theme=dark] .colab-df-convert {\n",
              "      background-color: #3B4455;\n",
              "      fill: #D2E3FC;\n",
              "    }\n",
              "\n",
              "    [theme=dark] .colab-df-convert:hover {\n",
              "      background-color: #434B5C;\n",
              "      box-shadow: 0px 1px 3px 1px rgba(0, 0, 0, 0.15);\n",
              "      filter: drop-shadow(0px 1px 2px rgba(0, 0, 0, 0.3));\n",
              "      fill: #FFFFFF;\n",
              "    }\n",
              "  </style>\n",
              "\n",
              "      <script>\n",
              "        const buttonEl =\n",
              "          document.querySelector('#df-8033e96e-4406-462d-bf3d-cb8d8685caa1 button.colab-df-convert');\n",
              "        buttonEl.style.display =\n",
              "          google.colab.kernel.accessAllowed ? 'block' : 'none';\n",
              "\n",
              "        async function convertToInteractive(key) {\n",
              "          const element = document.querySelector('#df-8033e96e-4406-462d-bf3d-cb8d8685caa1');\n",
              "          const dataTable =\n",
              "            await google.colab.kernel.invokeFunction('convertToInteractive',\n",
              "                                                     [key], {});\n",
              "          if (!dataTable) return;\n",
              "\n",
              "          const docLinkHtml = 'Like what you see? Visit the ' +\n",
              "            '<a target=\"_blank\" href=https://colab.research.google.com/notebooks/data_table.ipynb>data table notebook</a>'\n",
              "            + ' to learn more about interactive tables.';\n",
              "          element.innerHTML = '';\n",
              "          dataTable['output_type'] = 'display_data';\n",
              "          await google.colab.output.renderOutput(dataTable, element);\n",
              "          const docLink = document.createElement('div');\n",
              "          docLink.innerHTML = docLinkHtml;\n",
              "          element.appendChild(docLink);\n",
              "        }\n",
              "      </script>\n",
              "    </div>\n",
              "  </div>\n",
              "  "
            ]
          },
          "metadata": {},
          "execution_count": 60
        }
      ]
    },
    {
      "cell_type": "code",
      "source": [
        "X = df.loc[:, ['Open', 'High', 'Low', 'Close','month', 'day', 'hour','minute']]\n",
        "Y = df['Adj Close']"
      ],
      "metadata": {
        "id": "Zcb3KHY4i9Sk"
      },
      "execution_count": 58,
      "outputs": []
    },
    {
      "cell_type": "code",
      "source": [
        "from sklearn.preprocessing import MinMaxScaler\n",
        "scaler = MinMaxScaler()\n",
        "X_scale = scaler.fit_transform(X)"
      ],
      "metadata": {
        "id": "w3GF01c5rCJ-"
      },
      "execution_count": 63,
      "outputs": []
    },
    {
      "cell_type": "code",
      "source": [
        "from sklearn.model_selection import train_test_split\n",
        "X_train, X_test, Y_train, Y_test = train_test_split(X_scale, Y, test_size = 0.25, random_state = 42)"
      ],
      "metadata": {
        "id": "lJ0iERcynfbk"
      },
      "execution_count": 64,
      "outputs": []
    },
    {
      "cell_type": "code",
      "source": [
        "print(X_train.shape) \n",
        "print(X_test.shape) \n",
        "print(Y_train.shape) \n",
        "print(Y_test.shape)"
      ],
      "metadata": {
        "colab": {
          "base_uri": "https://localhost:8080/"
        },
        "id": "KeKBQkz-nnSi",
        "outputId": "8314b834-dacb-43fb-c66e-13675f305f43"
      },
      "execution_count": 65,
      "outputs": [
        {
          "output_type": "stream",
          "name": "stdout",
          "text": [
            "(3374, 8)\n",
            "(1125, 8)\n",
            "(3374,)\n",
            "(1125,)\n"
          ]
        }
      ]
    },
    {
      "cell_type": "code",
      "source": [
        "#Try with Linear Regression\n",
        "\n",
        "from sklearn.linear_model import LinearRegression\n",
        "Linear_Reg = LinearRegression()\n",
        "Linear_Reg.fit(X_train, Y_train)"
      ],
      "metadata": {
        "colab": {
          "base_uri": "https://localhost:8080/"
        },
        "id": "QKTqNyqpnuD5",
        "outputId": "4d67b4b6-b2b3-431b-c6d4-fc481418b384"
      },
      "execution_count": 66,
      "outputs": [
        {
          "output_type": "execute_result",
          "data": {
            "text/plain": [
              "LinearRegression()"
            ]
          },
          "metadata": {},
          "execution_count": 66
        }
      ]
    },
    {
      "cell_type": "code",
      "source": [
        "print(Linear_Reg.intercept_)\n",
        "print(Linear_Reg.coef_)"
      ],
      "metadata": {
        "colab": {
          "base_uri": "https://localhost:8080/"
        },
        "id": "chrf5OidryPK",
        "outputId": "87d8651a-d529-4f23-b35f-d543bc9ab3a2"
      },
      "execution_count": 67,
      "outputs": [
        {
          "output_type": "stream",
          "name": "stdout",
          "text": [
            "33992.1484375\n",
            "[ 7.98654778e-11 -1.63709046e-11 -7.41238182e-11  7.79605078e+03\n",
            " -1.36424205e-12 -1.63780101e-12  8.52296012e-12  6.83630930e-12]\n"
          ]
        }
      ]
    },
    {
      "cell_type": "code",
      "source": [
        "y_pred_lr = Linear_Reg.predict(X_test)"
      ],
      "metadata": {
        "id": "esX7ja-fn3f9"
      },
      "execution_count": 68,
      "outputs": []
    },
    {
      "cell_type": "code",
      "source": [
        "from sklearn import metrics"
      ],
      "metadata": {
        "id": "3sN_v3_cn9fg"
      },
      "execution_count": 69,
      "outputs": []
    },
    {
      "cell_type": "code",
      "source": [
        "print('MAE:', metrics.mean_absolute_error(Y_test, y_pred_lr))\n",
        "print('MSE:', metrics.mean_squared_error(Y_test, y_pred_lr))\n",
        "print('RMSE:', np.sqrt(metrics.mean_squared_error(Y_test, y_pred_lr)))"
      ],
      "metadata": {
        "colab": {
          "base_uri": "https://localhost:8080/"
        },
        "id": "4uMC7oS7oBS2",
        "outputId": "da289f96-b022-4059-9f05-e9da54bd9e9f"
      },
      "execution_count": 70,
      "outputs": [
        {
          "output_type": "stream",
          "name": "stdout",
          "text": [
            "MAE: 5.723753323157628e-12\n",
            "MSE: 5.181018194038804e-23\n",
            "RMSE: 7.197929003566792e-12\n"
          ]
        }
      ]
    },
    {
      "cell_type": "code",
      "source": [
        "from sklearn.metrics import mean_squared_error\n",
        "MSE=mean_squared_error(Y_test, y_pred_lr)\n",
        "MSE"
      ],
      "metadata": {
        "colab": {
          "base_uri": "https://localhost:8080/"
        },
        "id": "UwMSeIo6uIvc",
        "outputId": "0b6e23c0-1fdd-4e7a-d2d3-6c9aa6bab670"
      },
      "execution_count": null,
      "outputs": [
        {
          "output_type": "execute_result",
          "data": {
            "text/plain": [
              "2.0705249821771786e-24"
            ]
          },
          "metadata": {},
          "execution_count": 53
        }
      ]
    },
    {
      "cell_type": "code",
      "source": [
        "Lr_results = pd.DataFrame({'Actual_prize':Y_test, 'Predicted_Prize':y_pred_lr})"
      ],
      "metadata": {
        "id": "EwpkUP_-vbu3"
      },
      "execution_count": 71,
      "outputs": []
    },
    {
      "cell_type": "code",
      "source": [
        "print(Lr_results)"
      ],
      "metadata": {
        "colab": {
          "base_uri": "https://localhost:8080/"
        },
        "id": "T4QDkuNrvbop",
        "outputId": "78fdcb22-17a9-4459-a81e-e126f57f28ed"
      },
      "execution_count": 72,
      "outputs": [
        {
          "output_type": "stream",
          "name": "stdout",
          "text": [
            "      Actual_prize  Predicted_Prize\n",
            "1632  37625.000000     37625.000000\n",
            "3685  40869.000000     40869.000000\n",
            "2973  39481.898438     39481.898438\n",
            "2991  39389.550781     39389.550781\n",
            "468   34886.750000     34886.750000\n",
            "...            ...              ...\n",
            "1114  36457.050781     36457.050781\n",
            "63    34225.398438     34225.398438\n",
            "2452  38544.351562     38544.351563\n",
            "2740  38321.449219     38321.449219\n",
            "2251  39579.949219     39579.949219\n",
            "\n",
            "[1125 rows x 2 columns]\n"
          ]
        }
      ]
    },
    {
      "cell_type": "code",
      "source": [
        "graph = Lr_results.head(20)"
      ],
      "metadata": {
        "id": "X6l8i-YowjNy"
      },
      "execution_count": 74,
      "outputs": []
    },
    {
      "cell_type": "code",
      "source": [
        "graph.plot(kind='bar', figsize =(12,5))"
      ],
      "metadata": {
        "colab": {
          "base_uri": "https://localhost:8080/",
          "height": 357
        },
        "id": "Wl5rMNnhw10V",
        "outputId": "fa8843d6-50ef-4aa8-a123-b7abcf3dd7b7"
      },
      "execution_count": 75,
      "outputs": [
        {
          "output_type": "execute_result",
          "data": {
            "text/plain": [
              "<matplotlib.axes._subplots.AxesSubplot at 0x7fb53976f850>"
            ]
          },
          "metadata": {},
          "execution_count": 75
        },
        {
          "output_type": "display_data",
          "data": {
            "text/plain": [
              "<Figure size 864x360 with 1 Axes>"
            ],
            "image/png": "[encoded data removed]"
          },
          "metadata": {
            "needs_background": "light"
          }
        }
      ]
    },
    {
      "cell_type": "markdown",
      "source": [
        "**LSTM**"
      ],
      "metadata": {
        "id": "xVYyf9h03jEO"
      }
    },
    {
      "cell_type": "code",
      "source": [
        "df.head()"
      ],
      "metadata": {
        "colab": {
          "base_uri": "https://localhost:8080/",
          "height": 206
        },
        "id": "D2VquvxN45h7",
        "outputId": "f41a0249-12bb-4fcc-8483-e91b832afcea"
      },
      "execution_count": 76,
      "outputs": [
        {
          "output_type": "execute_result",
          "data": {
            "text/plain": [
              "           Open          High           Low         Close     Adj Close  \\\n",
              "0  33929.398438  34091.250000  33916.101562  34023.648438  34023.648438   \n",
              "1  34022.050781  34132.898438  34022.050781  34129.148438  34129.148438   \n",
              "2  34127.601562  34158.000000  34107.148438  34143.449219  34143.449219   \n",
              "3  34137.601562  34155.101562  34096.250000  34120.199219  34120.199219   \n",
              "4  34119.750000  34135.699219  34092.000000  34092.000000  34092.000000   \n",
              "\n",
              "   month  day  hour  minute  \n",
              "0      7    6     9      15  \n",
              "1      7    6     9      20  \n",
              "2      7    6     9      25  \n",
              "3      7    6     9      30  \n",
              "4      7    6     9      35  "
            ],
            "text/html": [
              "\n",
              "  <div id=\"df-03fd979f-2862-4c93-9289-e2b4579e2c37\">\n",
              "    <div class=\"colab-df-container\">\n",
              "      <div>\n",
              "<style scoped>\n",
              "    .dataframe tbody tr th:only-of-type {\n",
              "        vertical-align: middle;\n",
              "    }\n",
              "\n",
              "    .dataframe tbody tr th {\n",
              "        vertical-align: top;\n",
              "    }\n",
              "\n",
              "    .dataframe thead th {\n",
              "        text-align: right;\n",
              "    }\n",
              "</style>\n",
              "<table border=\"1\" class=\"dataframe\">\n",
              "  <thead>\n",
              "    <tr style=\"text-align: right;\">\n",
              "      <th></th>\n",
              "      <th>Open</th>\n",
              "      <th>High</th>\n",
              "      <th>Low</th>\n",
              "      <th>Close</th>\n",
              "      <th>Adj Close</th>\n",
              "      <th>month</th>\n",
              "      <th>day</th>\n",
              "      <th>hour</th>\n",
              "      <th>minute</th>\n",
              "    </tr>\n",
              "  </thead>\n",
              "  <tbody>\n",
              "    <tr>\n",
              "      <th>0</th>\n",
              "      <td>33929.398438</td>\n",
              "      <td>34091.250000</td>\n",
              "      <td>33916.101562</td>\n",
              "      <td>34023.648438</td>\n",
              "      <td>34023.648438</td>\n",
              "      <td>7</td>\n",
              "      <td>6</td>\n",
              "      <td>9</td>\n",
              "      <td>15</td>\n",
              "    </tr>\n",
              "    <tr>\n",
              "      <th>1</th>\n",
              "      <td>34022.050781</td>\n",
              "      <td>34132.898438</td>\n",
              "      <td>34022.050781</td>\n",
              "      <td>34129.148438</td>\n",
              "      <td>34129.148438</td>\n",
              "      <td>7</td>\n",
              "      <td>6</td>\n",
              "      <td>9</td>\n",
              "      <td>20</td>\n",
              "    </tr>\n",
              "    <tr>\n",
              "      <th>2</th>\n",
              "      <td>34127.601562</td>\n",
              "      <td>34158.000000</td>\n",
              "      <td>34107.148438</td>\n",
              "      <td>34143.449219</td>\n",
              "      <td>34143.449219</td>\n",
              "      <td>7</td>\n",
              "      <td>6</td>\n",
              "      <td>9</td>\n",
              "      <td>25</td>\n",
              "    </tr>\n",
              "    <tr>\n",
              "      <th>3</th>\n",
              "      <td>34137.601562</td>\n",
              "      <td>34155.101562</td>\n",
              "      <td>34096.250000</td>\n",
              "      <td>34120.199219</td>\n",
              "      <td>34120.199219</td>\n",
              "      <td>7</td>\n",
              "      <td>6</td>\n",
              "      <td>9</td>\n",
              "      <td>30</td>\n",
              "    </tr>\n",
              "    <tr>\n",
              "      <th>4</th>\n",
              "      <td>34119.750000</td>\n",
              "      <td>34135.699219</td>\n",
              "      <td>34092.000000</td>\n",
              "      <td>34092.000000</td>\n",
              "      <td>34092.000000</td>\n",
              "      <td>7</td>\n",
              "      <td>6</td>\n",
              "      <td>9</td>\n",
              "      <td>35</td>\n",
              "    </tr>\n",
              "  </tbody>\n",
              "</table>\n",
              "</div>\n",
              "      <button class=\"colab-df-convert\" onclick=\"convertToInteractive('df-03fd979f-2862-4c93-9289-e2b4579e2c37')\"\n",
              "              title=\"Convert this dataframe to an interactive table.\"\n",
              "              style=\"display:none;\">\n",
              "        \n",
              "  <svg xmlns=\"http://www.w3.org/2000/svg\" height=\"24px\"viewBox=\"0 0 24 24\"\n",
              "       width=\"24px\">\n",
              "    <path d=\"M0 0h24v24H0V0z\" fill=\"none\"/>\n",
              "    <path d=\"M18.56 5.44l.94 2.06.94-2.06 2.06-.94-2.06-.94-.94-2.06-.94 2.06-2.06.94zm-11 1L8.5 8.5l.94-2.06 2.06-.94-2.06-.94L8.5 2.5l-.94 2.06-2.06.94zm10 10l.94 2.06.94-2.06 2.06-.94-2.06-.94-.94-2.06-.94 2.06-2.06.94z\"/><path d=\"M17.41 7.96l-1.37-1.37c-.4-.4-.92-.59-1.43-.59-.52 0-1.04.2-1.43.59L10.3 9.45l-7.72 7.72c-.78.78-.78 2.05 0 2.83L4 21.41c.39.39.9.59 1.41.59.51 0 1.02-.2 1.41-.59l7.78-7.78 2.81-2.81c.8-.78.8-2.07 0-2.86zM5.41 20L4 18.59l7.72-7.72 1.47 1.35L5.41 20z\"/>\n",
              "  </svg>\n",
              "      </button>\n",
              "      \n",
              "  <style>\n",
              "    .colab-df-container {\n",
              "      display:flex;\n",
              "      flex-wrap:wrap;\n",
              "      gap: 12px;\n",
              "    }\n",
              "\n",
              "    .colab-df-convert {\n",
              "      background-color: #E8F0FE;\n",
              "      border: none;\n",
              "      border-radius: 50%;\n",
              "      cursor: pointer;\n",
              "      display: none;\n",
              "      fill: #1967D2;\n",
              "      height: 32px;\n",
              "      padding: 0 0 0 0;\n",
              "      width: 32px;\n",
              "    }\n",
              "\n",
              "    .colab-df-convert:hover {\n",
              "      background-color: #E2EBFA;\n",
              "      box-shadow: 0px 1px 2px rgba(60, 64, 67, 0.3), 0px 1px 3px 1px rgba(60, 64, 67, 0.15);\n",
              "      fill: #174EA6;\n",
              "    }\n",
              "\n",
              "    [theme=dark] .colab-df-convert {\n",
              "      background-color: #3B4455;\n",
              "      fill: #D2E3FC;\n",
              "    }\n",
              "\n",
              "    [theme=dark] .colab-df-convert:hover {\n",
              "      background-color: #434B5C;\n",
              "      box-shadow: 0px 1px 3px 1px rgba(0, 0, 0, 0.15);\n",
              "      filter: drop-shadow(0px 1px 2px rgba(0, 0, 0, 0.3));\n",
              "      fill: #FFFFFF;\n",
              "    }\n",
              "  </style>\n",
              "\n",
              "      <script>\n",
              "        const buttonEl =\n",
              "          document.querySelector('#df-03fd979f-2862-4c93-9289-e2b4579e2c37 button.colab-df-convert');\n",
              "        buttonEl.style.display =\n",
              "          google.colab.kernel.accessAllowed ? 'block' : 'none';\n",
              "\n",
              "        async function convertToInteractive(key) {\n",
              "          const element = document.querySelector('#df-03fd979f-2862-4c93-9289-e2b4579e2c37');\n",
              "          const dataTable =\n",
              "            await google.colab.kernel.invokeFunction('convertToInteractive',\n",
              "                                                     [key], {});\n",
              "          if (!dataTable) return;\n",
              "\n",
              "          const docLinkHtml = 'Like what you see? Visit the ' +\n",
              "            '<a target=\"_blank\" href=https://colab.research.google.com/notebooks/data_table.ipynb>data table notebook</a>'\n",
              "            + ' to learn more about interactive tables.';\n",
              "          element.innerHTML = '';\n",
              "          dataTable['output_type'] = 'display_data';\n",
              "          await google.colab.output.renderOutput(dataTable, element);\n",
              "          const docLink = document.createElement('div');\n",
              "          docLink.innerHTML = docLinkHtml;\n",
              "          element.appendChild(docLink);\n",
              "        }\n",
              "      </script>\n",
              "    </div>\n",
              "  </div>\n",
              "  "
            ]
          },
          "metadata": {},
          "execution_count": 76
        }
      ]
    },
    {
      "cell_type": "code",
      "source": [
        "Adj_close = df[['Adj Close','minute']]"
      ],
      "metadata": {
        "id": "WWRHTUESWr9y"
      },
      "execution_count": 80,
      "outputs": []
    },
    {
      "cell_type": "code",
      "source": [
        "Adj_close.plot()"
      ],
      "metadata": {
        "colab": {
          "base_uri": "https://localhost:8080/",
          "height": 285
        },
        "id": "YEhOvLcnXiZe",
        "outputId": "622feb72-1e8e-45cc-d1df-c3b8ea8a0b24"
      },
      "execution_count": 81,
      "outputs": [
        {
          "output_type": "execute_result",
          "data": {
            "text/plain": [
              "<matplotlib.axes._subplots.AxesSubplot at 0x7fb536844310>"
            ]
          },
          "metadata": {},
          "execution_count": 81
        },
        {
          "output_type": "display_data",
          "data": {
            "text/plain": [
              "<Figure size 432x288 with 1 Axes>"
            ],
            "image/png": "[encoded data removed]"
          },
          "metadata": {
            "needs_background": "light"
          }
        }
      ]
    },
    {
      "cell_type": "code",
      "source": [
        "normalizer = MinMaxScaler(feature_range=(0,1))\n",
        "Adj_close_scaled = normalizer.fit_transform(np.array(Adj_close).reshape(-1,1))"
      ],
      "metadata": {
        "id": "XqfHDhyeXoWF"
      },
      "execution_count": 82,
      "outputs": []
    },
    {
      "cell_type": "code",
      "source": [
        "#Defining test and train data sizes\n",
        "train_size = int(len(Adj_close_scaled)*0.70)\n",
        "test_size = len(Adj_close_scaled) - train_size"
      ],
      "metadata": {
        "id": "1dS-PavFYV2N"
      },
      "execution_count": 83,
      "outputs": []
    },
    {
      "cell_type": "code",
      "source": [
        "train_size,test_size"
      ],
      "metadata": {
        "colab": {
          "base_uri": "https://localhost:8080/"
        },
        "id": "EO0VIjKZYhx6",
        "outputId": "2db48433-d040-49db-ac01-bb099c145e9f"
      },
      "execution_count": 84,
      "outputs": [
        {
          "output_type": "execute_result",
          "data": {
            "text/plain": [
              "(6298, 2700)"
            ]
          },
          "metadata": {},
          "execution_count": 84
        }
      ]
    },
    {
      "cell_type": "code",
      "source": [
        "ds_train, ds_test = Adj_close_scaled[0:train_size,:], Adj_close_scaled[train_size:len(Adj_close_scaled),:1]"
      ],
      "metadata": {
        "id": "nX3zLxLfyCt9"
      },
      "execution_count": 85,
      "outputs": []
    },
    {
      "cell_type": "code",
      "source": [
        "len(ds_train),len(ds_test)"
      ],
      "metadata": {
        "colab": {
          "base_uri": "https://localhost:8080/"
        },
        "id": "4YHLg5w8ybxr",
        "outputId": "7f18a26a-32ca-40be-9f1a-71404d957221"
      },
      "execution_count": 86,
      "outputs": [
        {
          "output_type": "execute_result",
          "data": {
            "text/plain": [
              "(6298, 2700)"
            ]
          },
          "metadata": {},
          "execution_count": 86
        }
      ]
    },
    {
      "cell_type": "code",
      "source": [
        "def create_ds(dataset,step):\n",
        "    Xtrain, Ytrain = [], []\n",
        "    for i in range(len(dataset)-step-1):\n",
        "        a = dataset[i:(i+step), 0]\n",
        "        Xtrain.append(a)\n",
        "        Ytrain.append(dataset[i + step, 0])\n",
        "    return np.array(Xtrain), np.array(Ytrain)"
      ],
      "metadata": {
        "id": "vl2Uvgzryn1p"
      },
      "execution_count": 87,
      "outputs": []
    },
    {
      "cell_type": "code",
      "source": [
        "#Taking 100 days price as one record for training\n",
        "time_stamp = 100\n",
        "X_train, y_train = create_ds(ds_train,time_stamp)\n",
        "X_test, y_test = create_ds(ds_test,time_stamp)"
      ],
      "metadata": {
        "id": "YAUnnvZUyw6x"
      },
      "execution_count": 88,
      "outputs": []
    },
    {
      "cell_type": "code",
      "source": [
        "X_train.shape,y_train.shape, X_test.shape, y_test.shape\n"
      ],
      "metadata": {
        "colab": {
          "base_uri": "https://localhost:8080/"
        },
        "id": "xN50ArQJy0Vf",
        "outputId": "177ae54a-59da-4aae-ee2b-1d51a3d4c665"
      },
      "execution_count": 89,
      "outputs": [
        {
          "output_type": "execute_result",
          "data": {
            "text/plain": [
              "((6197, 100), (6197,), (2599, 100), (2599,))"
            ]
          },
          "metadata": {},
          "execution_count": 89
        }
      ]
    },
    {
      "cell_type": "code",
      "source": [
        "#Reshaping data to fit into LSTM model\n",
        "X_train = X_train.reshape(X_train.shape[0],X_train.shape[1] , 1)\n",
        "X_test = X_test.reshape(X_test.shape[0],X_test.shape[1] , 1)"
      ],
      "metadata": {
        "id": "xk6DI1KGy7MG"
      },
      "execution_count": 90,
      "outputs": []
    },
    {
      "cell_type": "code",
      "source": [
        "from keras.models import Sequential\n",
        "from keras.layers import Dense, LSTM"
      ],
      "metadata": {
        "id": "PTkaZ10YzLZ_"
      },
      "execution_count": 91,
      "outputs": []
    },
    {
      "cell_type": "code",
      "source": [
        "#Creating LSTM model using keras\n",
        "model = Sequential()\n",
        "model.add(LSTM(units=50,return_sequences=True,input_shape=(X_train.shape[1],1)))\n",
        "model.add(LSTM(units=50,return_sequences=True))\n",
        "model.add(LSTM(units=50))\n",
        "model.add(Dense(units=1,activation='linear'))\n",
        "model.summary()"
      ],
      "metadata": {
        "colab": {
          "base_uri": "https://localhost:8080/"
        },
        "id": "Q491YGcqzCfL",
        "outputId": "ff69ef2c-f054-4462-ec96-ef3fbf0b8f63"
      },
      "execution_count": 92,
      "outputs": [
        {
          "output_type": "stream",
          "name": "stdout",
          "text": [
            "Model: \"sequential\"\n",
            "_________________________________________________________________\n",
            " Layer (type)                Output Shape              Param #   \n",
            "=================================================================\n",
            " lstm (LSTM)                 (None, 100, 50)           10400     \n",
            "                                                                 \n",
            " lstm_1 (LSTM)               (None, 100, 50)           20200     \n",
            "                                                                 \n",
            " lstm_2 (LSTM)               (None, 50)                20200     \n",
            "                                                                 \n",
            " dense (Dense)               (None, 1)                 51        \n",
            "                                                                 \n",
            "=================================================================\n",
            "Total params: 50,851\n",
            "Trainable params: 50,851\n",
            "Non-trainable params: 0\n",
            "_________________________________________________________________\n"
          ]
        }
      ]
    },
    {
      "cell_type": "code",
      "source": [
        "#Training model with adam optimizer and mean squared error loss function\n",
        "model.compile(loss='mean_squared_error',optimizer='adam')\n",
        "model.fit(X_train,y_train,validation_data=(X_test,y_test),epochs=10,batch_size=100)"
      ],
      "metadata": {
        "colab": {
          "base_uri": "https://localhost:8080/"
        },
        "id": "WjAxXpkTijIK",
        "outputId": "abd599b2-10a7-4a58-ab9d-dab6d5796798"
      },
      "execution_count": 94,
      "outputs": [
        {
          "output_type": "stream",
          "name": "stdout",
          "text": [
            "Epoch 1/10\n",
            "62/62 [==============================] - 24s 274ms/step - loss: 0.2054 - val_loss: 0.2315\n",
            "Epoch 2/10\n",
            "62/62 [==============================] - 17s 281ms/step - loss: 0.2020 - val_loss: 0.2275\n",
            "Epoch 3/10\n",
            "62/62 [==============================] - 15s 248ms/step - loss: 0.1197 - val_loss: 0.0020\n",
            "Epoch 4/10\n",
            "62/62 [==============================] - 17s 282ms/step - loss: 6.3642e-04 - val_loss: 0.0021\n",
            "Epoch 5/10\n",
            "62/62 [==============================] - 16s 251ms/step - loss: 4.9247e-04 - val_loss: 9.7511e-04\n",
            "Epoch 6/10\n",
            "62/62 [==============================] - 15s 250ms/step - loss: 3.3854e-04 - val_loss: 6.6694e-04\n",
            "Epoch 7/10\n",
            "62/62 [==============================] - 16s 253ms/step - loss: 2.5671e-04 - val_loss: 1.5469e-04\n",
            "Epoch 8/10\n",
            "62/62 [==============================] - 16s 251ms/step - loss: 1.6647e-04 - val_loss: 2.6011e-04\n",
            "Epoch 9/10\n",
            "62/62 [==============================] - 16s 254ms/step - loss: 1.2788e-04 - val_loss: 1.5937e-04\n",
            "Epoch 10/10\n",
            "62/62 [==============================] - 16s 253ms/step - loss: 1.6172e-04 - val_loss: 9.8268e-05\n"
          ]
        },
        {
          "output_type": "execute_result",
          "data": {
            "text/plain": [
              "<keras.callbacks.History at 0x7fb5367af2d0>"
            ]
          },
          "metadata": {},
          "execution_count": 94
        }
      ]
    },
    {
      "cell_type": "code",
      "source": [
        "#PLotting loss, it shows that loss has decreased significantly and model trained well\n",
        "loss = model.history.history['loss']\n",
        "plt.plot(loss)"
      ],
      "metadata": {
        "colab": {
          "base_uri": "https://localhost:8080/",
          "height": 285
        },
        "id": "lt_qpoujzgp6",
        "outputId": "5f1a3269-13ef-452c-c432-5ff600eb914f"
      },
      "execution_count": 95,
      "outputs": [
        {
          "output_type": "execute_result",
          "data": {
            "text/plain": [
              "[<matplotlib.lines.Line2D at 0x7fb4d7ebcad0>]"
            ]
          },
          "metadata": {},
          "execution_count": 95
        },
        {
          "output_type": "display_data",
          "data": {
            "text/plain": [
              "<Figure size 432x288 with 1 Axes>"
            ],
            "image/png": "[encoded data removed]"
          },
          "metadata": {
            "needs_background": "light"
          }
        }
      ]
    },
    {
      "cell_type": "code",
      "source": [
        "#Predicitng on train and test data\n",
        "train_predict = model.predict(X_train)\n",
        "test_predict = model.predict(X_test)"
      ],
      "metadata": {
        "id": "QbtC0-Vozy7n",
        "colab": {
          "base_uri": "https://localhost:8080/"
        },
        "outputId": "64954d20-d683-4090-8530-fb48c4a3b333"
      },
      "execution_count": 96,
      "outputs": [
        {
          "output_type": "stream",
          "name": "stdout",
          "text": [
            "194/194 [==============================] - 15s 61ms/step\n",
            "82/82 [==============================] - 3s 37ms/step\n"
          ]
        }
      ]
    },
    {
      "cell_type": "code",
      "source": [
        "#Inverse transform to get actual value\n",
        "train_predict = normalizer.inverse_transform(train_predict)\n",
        "test_predict = normalizer.inverse_transform(test_predict)"
      ],
      "metadata": {
        "id": "FFhy6f9Sz3J3"
      },
      "execution_count": 97,
      "outputs": []
    },
    {
      "cell_type": "code",
      "source": [
        "#Comparing using visuals\n",
        "plt.plot(normalizer.inverse_transform(Adj_close_scaled))\n",
        "plt.plot(train_predict)\n",
        "plt.plot(test_predict)"
      ],
      "metadata": {
        "colab": {
          "base_uri": "https://localhost:8080/",
          "height": 285
        },
        "id": "flyEJjcHz8ph",
        "outputId": "8a535874-e16f-458d-b504-e35453b549e9"
      },
      "execution_count": 98,
      "outputs": [
        {
          "output_type": "execute_result",
          "data": {
            "text/plain": [
              "[<matplotlib.lines.Line2D at 0x7fb4d212b2d0>]"
            ]
          },
          "metadata": {},
          "execution_count": 98
        },
        {
          "output_type": "display_data",
          "data": {
            "text/plain": [
              "<Figure size 432x288 with 1 Axes>"
            ],
            "image/png": "[encoded data removed]"
          },
          "metadata": {
            "needs_background": "light"
          }
        }
      ]
    },
    {
      "cell_type": "code",
      "source": [
        "type(train_predict)"
      ],
      "metadata": {
        "colab": {
          "base_uri": "https://localhost:8080/"
        },
        "id": "Ime4EImJ0FPx",
        "outputId": "206f1e11-cedc-4274-9794-3e7487ec9509"
      },
      "execution_count": null,
      "outputs": [
        {
          "output_type": "execute_result",
          "data": {
            "text/plain": [
              "numpy.ndarray"
            ]
          },
          "metadata": {},
          "execution_count": 83
        }
      ]
    },
    {
      "cell_type": "code",
      "source": [
        "test = np.vstack((train_predict,test_predict))"
      ],
      "metadata": {
        "id": "C2tcgwCa0IwW"
      },
      "execution_count": 99,
      "outputs": []
    },
    {
      "cell_type": "code",
      "source": [
        "#Combining the predited data to create uniform data visualization\n",
        "plt.plot(normalizer.inverse_transform(Adj_close_scaled))\n",
        "plt.plot(test)"
      ],
      "metadata": {
        "colab": {
          "base_uri": "https://localhost:8080/",
          "height": 285
        },
        "id": "a0xzm_Z80LsB",
        "outputId": "c10ff25e-58ca-45db-ca79-90340bde369b"
      },
      "execution_count": 100,
      "outputs": [
        {
          "output_type": "execute_result",
          "data": {
            "text/plain": [
              "[<matplotlib.lines.Line2D at 0x7fb4d20dc5d0>]"
            ]
          },
          "metadata": {},
          "execution_count": 100
        },
        {
          "output_type": "display_data",
          "data": {
            "text/plain": [
              "<Figure size 432x288 with 1 Axes>"
            ],
            "image/png": "[encoded data removed]"
          },
          "metadata": {
            "needs_background": "light"
          }
        }
      ]
    },
    {
      "cell_type": "code",
      "source": [
        "len(ds_test)"
      ],
      "metadata": {
        "colab": {
          "base_uri": "https://localhost:8080/"
        },
        "id": "BBA1pGKC0Uft",
        "outputId": "962b281b-3d86-4cf6-c16e-9a7c99c232a3"
      },
      "execution_count": 101,
      "outputs": [
        {
          "output_type": "execute_result",
          "data": {
            "text/plain": [
              "2700"
            ]
          },
          "metadata": {},
          "execution_count": 101
        }
      ]
    },
    {
      "cell_type": "code",
      "source": [
        "#Getting the last 100 days records\n",
        "fut_inp = ds_test[2600:]"
      ],
      "metadata": {
        "id": "dWyIyEP80UYT"
      },
      "execution_count": 105,
      "outputs": []
    },
    {
      "cell_type": "code",
      "source": [
        "tmp_inp = list(fut_inp)"
      ],
      "metadata": {
        "id": "TUVRy6jN0dvU"
      },
      "execution_count": 106,
      "outputs": []
    },
    {
      "cell_type": "code",
      "source": [
        "fut_inp.shape"
      ],
      "metadata": {
        "colab": {
          "base_uri": "https://localhost:8080/"
        },
        "id": "8vQcz-1n0hoj",
        "outputId": "b858d920-7e12-4ac8-f0b8-5a55d870ca6e"
      },
      "execution_count": 107,
      "outputs": [
        {
          "output_type": "execute_result",
          "data": {
            "text/plain": [
              "(100, 1)"
            ]
          },
          "metadata": {},
          "execution_count": 107
        }
      ]
    },
    {
      "cell_type": "code",
      "source": [
        "#Creating list of the last 100 data\n",
        "tmp_inp = tmp_inp[0].tolist()"
      ],
      "metadata": {
        "id": "9_k8cWeG0lwb"
      },
      "execution_count": 108,
      "outputs": []
    },
    {
      "cell_type": "code",
      "source": [
        "#Predicting next 30 days price suing the current data\n",
        "#It will predict in sliding window manner (algorithm) with stride 1\n",
        "lst_output=[]\n",
        "n_steps=100\n",
        "i=0\n",
        "while(i<30):\n",
        "    \n",
        "    if(len(tmp_inp)>100):\n",
        "        fut_inp = np.array(tmp_inp[1:])\n",
        "        fut_inp=fut_inp.reshape(1,-1)\n",
        "        fut_inp = fut_inp.reshape((1, n_steps, 1))\n",
        "        yhat = model.predict(fut_inp, verbose=0)\n",
        "        tmp_inp.extend(yhat[0].tolist())\n",
        "        tmp_inp = tmp_inp[1:]\n",
        "        lst_output.extend(yhat.tolist())\n",
        "        i=i+1\n",
        "    else:\n",
        "        fut_inp = fut_inp.reshape((1, n_steps,1))\n",
        "        yhat = model.predict(fut_inp, verbose=0)\n",
        "        tmp_inp.extend(yhat[0].tolist())\n",
        "        lst_output.extend(yhat.tolist())\n",
        "        i=i+1\n",
        "    \n",
        "\n",
        "print(lst_output)"
      ],
      "metadata": {
        "colab": {
          "base_uri": "https://localhost:8080/"
        },
        "id": "kz9amZX803Ad",
        "outputId": "980d2dd2-d187-42d0-aa94-7daeb2b25d53"
      },
      "execution_count": 109,
      "outputs": [
        {
          "output_type": "stream",
          "name": "stdout",
          "text": [
            "[[0.923721432685852], [0.923721432685852], [0.923721432685852], [0.923721432685852], [0.923721432685852], [0.923721432685852], [0.923721432685852], [0.923721432685852], [0.923721432685852], [0.923721432685852], [0.923721432685852], [0.923721432685852], [0.923721432685852], [0.923721432685852], [0.923721432685852], [0.923721432685852], [0.923721432685852], [0.923721432685852], [0.923721432685852], [0.923721432685852], [0.923721432685852], [0.923721432685852], [0.923721432685852], [0.923721432685852], [0.923721432685852], [0.923721432685852], [0.923721432685852], [0.923721432685852], [0.923721432685852], [0.923721432685852]]\n"
          ]
        }
      ]
    },
    {
      "cell_type": "code",
      "source": [
        "len(Adj_close_scaled)"
      ],
      "metadata": {
        "colab": {
          "base_uri": "https://localhost:8080/"
        },
        "id": "BKiotOpS09aB",
        "outputId": "dc4649d8-f4bc-4adf-817e-09c1ef47d3cd"
      },
      "execution_count": 110,
      "outputs": [
        {
          "output_type": "execute_result",
          "data": {
            "text/plain": [
              "8998"
            ]
          },
          "metadata": {},
          "execution_count": 110
        }
      ]
    },
    {
      "cell_type": "code",
      "source": [
        "ds_new = Adj_close_scaled.tolist()"
      ],
      "metadata": {
        "id": "IhcipuSK1RCr"
      },
      "execution_count": 111,
      "outputs": []
    },
    {
      "cell_type": "code",
      "source": [
        "#Entends helps us to fill the missing value with approx value\n",
        "ds_new.extend(lst_output)\n",
        "plt.plot(ds_new[1200:])"
      ],
      "metadata": {
        "colab": {
          "base_uri": "https://localhost:8080/",
          "height": 285
        },
        "id": "C9LEI0yo1Uvs",
        "outputId": "a8b77ec0-d4b2-4d22-dbe8-ce83f39b1fad"
      },
      "execution_count": 112,
      "outputs": [
        {
          "output_type": "execute_result",
          "data": {
            "text/plain": [
              "[<matplotlib.lines.Line2D at 0x7fb4d2095950>]"
            ]
          },
          "metadata": {},
          "execution_count": 112
        },
        {
          "output_type": "display_data",
          "data": {
            "text/plain": [
              "<Figure size 432x288 with 1 Axes>"
            ],
            "image/png": "[encoded data removed]"
          },
          "metadata": {
            "needs_background": "light"
          }
        }
      ]
    },
    {
      "cell_type": "code",
      "source": [
        "#Creating final data for plotting\n",
        "final_graph = normalizer.inverse_transform(ds_new).tolist()"
      ],
      "metadata": {
        "id": "wvrdsCZi1ag-"
      },
      "execution_count": 113,
      "outputs": []
    },
    {
      "cell_type": "code",
      "source": [
        "#Plotting final results with predicted value after 30 Days\n",
        "plt.plot(final_graph,)\n",
        "plt.ylabel(\"Price\")\n",
        "plt.xlabel(\"Time\")\n",
        "plt.axhline(y=final_graph[len(final_graph)-1], color = 'red', linestyle = ':', label = 'NEXT 5M: {0}'.format(round(float(*final_graph[len(final_graph)-1]),2)))\n",
        "plt.legend()"
      ],
      "metadata": {
        "colab": {
          "base_uri": "https://localhost:8080/",
          "height": 302
        },
        "id": "834lNs4g1f1y",
        "outputId": "d6e9c7e4-a6ab-4236-f8ad-4e05cbd05f1e"
      },
      "execution_count": 115,
      "outputs": [
        {
          "output_type": "execute_result",
          "data": {
            "text/plain": [
              "<matplotlib.legend.Legend at 0x7fb4d2001fd0>"
            ]
          },
          "metadata": {},
          "execution_count": 115
        },
        {
          "output_type": "display_data",
          "data": {
            "text/plain": [
              "<Figure size 432x288 with 1 Axes>"
            ],
            "image/png": "[encoded data removed]"
          },
          "metadata": {
            "needs_background": "light"
          }
        }
      ]
    }
  ]
}