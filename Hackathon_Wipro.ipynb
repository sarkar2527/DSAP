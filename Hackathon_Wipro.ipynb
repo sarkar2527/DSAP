{
  "nbformat": 4,
  "nbformat_minor": 0,
  "metadata": {
    "colab": {
      "name": "Hackathon_Wipro.ipynb",
      "provenance": [],
      "collapsed_sections": [],
      "mount_file_id": "1zdvbve-lg5KR03uKf-aQ6bwlPane3W4s",
      "authorship_tag": "ABX9TyN2cyltQZy8xd2m8GskXMX1",
      "include_colab_link": true
    },
    "kernelspec": {
      "name": "python3",
      "display_name": "Python 3"
    },
    "language_info": {
      "name": "python"
    }
  },
  "cells": [
    {
      "cell_type": "markdown",
      "metadata": {
        "id": "view-in-github",
        "colab_type": "text"
      },
      "source": [
        "<a href=\"https://colab.research.google.com/github/sarkar2527/DSAP/blob/main/Hackathon_Wipro.ipynb\" target=\"_parent\"><img src=\"https://colab.research.google.com/assets/colab-badge.svg\" alt=\"Open In Colab\"/></a>"
      ]
    },
    {
      "cell_type": "code",
      "execution_count": 174,
      "metadata": {
        "colab": {
          "base_uri": "https://localhost:8080/"
        },
        "id": "2EYuzhiBnG5p",
        "outputId": "71cf96bc-7817-489b-c3a8-6c8b35e813b2"
      },
      "outputs": [
        {
          "output_type": "stream",
          "name": "stdout",
          "text": [
            "Drive already mounted at /content/drive; to attempt to forcibly remount, call drive.mount(\"/content/drive\", force_remount=True).\n"
          ]
        }
      ],
      "source": [
        "from google.colab import drive\n",
        "drive.mount('/content/drive')"
      ]
    },
    {
      "cell_type": "markdown",
      "source": [
        "**Reading the DataSet**"
      ],
      "metadata": {
        "id": "2vtLrY0eVyto"
      }
    },
    {
      "cell_type": "code",
      "source": [
        "import pandas as pd\n",
        "df_raw_train=pd.read_csv(\"/content/drive/MyDrive/Hackathon/Hackathon_Wipro/train (1).csv\")"
      ],
      "metadata": {
        "id": "kJ3JqX9Env-9"
      },
      "execution_count": 175,
      "outputs": []
    },
    {
      "cell_type": "code",
      "source": [
        "df_raw_test=pd.read_csv(\"/content/drive/MyDrive/Hackathon/Hackathon_Wipro/test (1).csv\")"
      ],
      "metadata": {
        "id": "dHwmVMVE0a0W"
      },
      "execution_count": 176,
      "outputs": []
    },
    {
      "cell_type": "code",
      "source": [
        "df_raw_train.shape"
      ],
      "metadata": {
        "colab": {
          "base_uri": "https://localhost:8080/"
        },
        "id": "_u5DAayCn-o0",
        "outputId": "8be336ba-8219-4b5a-e0ba-75c8cd1f5c5f"
      },
      "execution_count": 177,
      "outputs": [
        {
          "output_type": "execute_result",
          "data": {
            "text/plain": [
              "(175296, 18)"
            ]
          },
          "metadata": {},
          "execution_count": 177
        }
      ]
    },
    {
      "cell_type": "code",
      "source": [
        "df_raw_test.shape"
      ],
      "metadata": {
        "colab": {
          "base_uri": "https://localhost:8080/"
        },
        "id": "xA1sqeg40uj7",
        "outputId": "6906261c-be6b-46c9-a930-7eaa0dff0e0a"
      },
      "execution_count": 178,
      "outputs": [
        {
          "output_type": "execute_result",
          "data": {
            "text/plain": [
              "(17520, 18)"
            ]
          },
          "metadata": {},
          "execution_count": 178
        }
      ]
    },
    {
      "cell_type": "code",
      "source": [
        "df_raw_train.head()"
      ],
      "metadata": {
        "colab": {
          "base_uri": "https://localhost:8080/",
          "height": 305
        },
        "id": "DUrQWa-uoDjh",
        "outputId": "4c06e8cd-382d-4e7c-e306-511d8e0e7e0f"
      },
      "execution_count": 111,
      "outputs": [
        {
          "output_type": "execute_result",
          "data": {
            "text/html": [
              "\n",
              "  <div id=\"df-8ddcd53c-9ca6-4f52-9e3f-06d7803c4012\">\n",
              "    <div class=\"colab-df-container\">\n",
              "      <div>\n",
              "<style scoped>\n",
              "    .dataframe tbody tr th:only-of-type {\n",
              "        vertical-align: middle;\n",
              "    }\n",
              "\n",
              "    .dataframe tbody tr th {\n",
              "        vertical-align: top;\n",
              "    }\n",
              "\n",
              "    .dataframe thead th {\n",
              "        text-align: right;\n",
              "    }\n",
              "</style>\n",
              "<table border=\"1\" class=\"dataframe\">\n",
              "  <thead>\n",
              "    <tr style=\"text-align: right;\">\n",
              "      <th></th>\n",
              "      <th>Year</th>\n",
              "      <th>Month</th>\n",
              "      <th>Day</th>\n",
              "      <th>Hour</th>\n",
              "      <th>Minute</th>\n",
              "      <th>Clearsky DHI</th>\n",
              "      <th>Clearsky DNI</th>\n",
              "      <th>Clearsky GHI</th>\n",
              "      <th>Cloud Type</th>\n",
              "      <th>Dew Point</th>\n",
              "      <th>Temperature</th>\n",
              "      <th>Pressure</th>\n",
              "      <th>Relative Humidity</th>\n",
              "      <th>Solar Zenith Angle</th>\n",
              "      <th>Precipitable Water</th>\n",
              "      <th>Wind Direction</th>\n",
              "      <th>Wind Speed</th>\n",
              "      <th>Fill Flag</th>\n",
              "    </tr>\n",
              "  </thead>\n",
              "  <tbody>\n",
              "    <tr>\n",
              "      <th>0</th>\n",
              "      <td>2009</td>\n",
              "      <td>1</td>\n",
              "      <td>1</td>\n",
              "      <td>0</td>\n",
              "      <td>0</td>\n",
              "      <td>0</td>\n",
              "      <td>0</td>\n",
              "      <td>0</td>\n",
              "      <td>0</td>\n",
              "      <td>0.0</td>\n",
              "      <td>5.0</td>\n",
              "      <td>1010</td>\n",
              "      <td>75.34</td>\n",
              "      <td>106.15</td>\n",
              "      <td>0.499</td>\n",
              "      <td>346.1</td>\n",
              "      <td>3.1</td>\n",
              "      <td>0</td>\n",
              "    </tr>\n",
              "    <tr>\n",
              "      <th>1</th>\n",
              "      <td>2009</td>\n",
              "      <td>1</td>\n",
              "      <td>1</td>\n",
              "      <td>0</td>\n",
              "      <td>30</td>\n",
              "      <td>0</td>\n",
              "      <td>0</td>\n",
              "      <td>0</td>\n",
              "      <td>0</td>\n",
              "      <td>1.0</td>\n",
              "      <td>5.0</td>\n",
              "      <td>1010</td>\n",
              "      <td>80.81</td>\n",
              "      <td>112.28</td>\n",
              "      <td>0.490</td>\n",
              "      <td>346.1</td>\n",
              "      <td>3.1</td>\n",
              "      <td>0</td>\n",
              "    </tr>\n",
              "    <tr>\n",
              "      <th>2</th>\n",
              "      <td>2009</td>\n",
              "      <td>1</td>\n",
              "      <td>1</td>\n",
              "      <td>1</td>\n",
              "      <td>0</td>\n",
              "      <td>0</td>\n",
              "      <td>0</td>\n",
              "      <td>0</td>\n",
              "      <td>4</td>\n",
              "      <td>0.0</td>\n",
              "      <td>5.0</td>\n",
              "      <td>1010</td>\n",
              "      <td>78.27</td>\n",
              "      <td>118.50</td>\n",
              "      <td>0.482</td>\n",
              "      <td>347.9</td>\n",
              "      <td>3.2</td>\n",
              "      <td>0</td>\n",
              "    </tr>\n",
              "    <tr>\n",
              "      <th>3</th>\n",
              "      <td>2009</td>\n",
              "      <td>1</td>\n",
              "      <td>1</td>\n",
              "      <td>1</td>\n",
              "      <td>30</td>\n",
              "      <td>0</td>\n",
              "      <td>0</td>\n",
              "      <td>0</td>\n",
              "      <td>4</td>\n",
              "      <td>0.0</td>\n",
              "      <td>4.0</td>\n",
              "      <td>1010</td>\n",
              "      <td>78.27</td>\n",
              "      <td>124.78</td>\n",
              "      <td>0.478</td>\n",
              "      <td>347.9</td>\n",
              "      <td>3.1</td>\n",
              "      <td>0</td>\n",
              "    </tr>\n",
              "    <tr>\n",
              "      <th>4</th>\n",
              "      <td>2009</td>\n",
              "      <td>1</td>\n",
              "      <td>1</td>\n",
              "      <td>2</td>\n",
              "      <td>0</td>\n",
              "      <td>0</td>\n",
              "      <td>0</td>\n",
              "      <td>0</td>\n",
              "      <td>4</td>\n",
              "      <td>0.0</td>\n",
              "      <td>4.0</td>\n",
              "      <td>1010</td>\n",
              "      <td>76.45</td>\n",
              "      <td>131.12</td>\n",
              "      <td>0.475</td>\n",
              "      <td>350.0</td>\n",
              "      <td>3.0</td>\n",
              "      <td>0</td>\n",
              "    </tr>\n",
              "  </tbody>\n",
              "</table>\n",
              "</div>\n",
              "      <button class=\"colab-df-convert\" onclick=\"convertToInteractive('df-8ddcd53c-9ca6-4f52-9e3f-06d7803c4012')\"\n",
              "              title=\"Convert this dataframe to an interactive table.\"\n",
              "              style=\"display:none;\">\n",
              "        \n",
              "  <svg xmlns=\"http://www.w3.org/2000/svg\" height=\"24px\"viewBox=\"0 0 24 24\"\n",
              "       width=\"24px\">\n",
              "    <path d=\"M0 0h24v24H0V0z\" fill=\"none\"/>\n",
              "    <path d=\"M18.56 5.44l.94 2.06.94-2.06 2.06-.94-2.06-.94-.94-2.06-.94 2.06-2.06.94zm-11 1L8.5 8.5l.94-2.06 2.06-.94-2.06-.94L8.5 2.5l-.94 2.06-2.06.94zm10 10l.94 2.06.94-2.06 2.06-.94-2.06-.94-.94-2.06-.94 2.06-2.06.94z\"/><path d=\"M17.41 7.96l-1.37-1.37c-.4-.4-.92-.59-1.43-.59-.52 0-1.04.2-1.43.59L10.3 9.45l-7.72 7.72c-.78.78-.78 2.05 0 2.83L4 21.41c.39.39.9.59 1.41.59.51 0 1.02-.2 1.41-.59l7.78-7.78 2.81-2.81c.8-.78.8-2.07 0-2.86zM5.41 20L4 18.59l7.72-7.72 1.47 1.35L5.41 20z\"/>\n",
              "  </svg>\n",
              "      </button>\n",
              "      \n",
              "  <style>\n",
              "    .colab-df-container {\n",
              "      display:flex;\n",
              "      flex-wrap:wrap;\n",
              "      gap: 12px;\n",
              "    }\n",
              "\n",
              "    .colab-df-convert {\n",
              "      background-color: #E8F0FE;\n",
              "      border: none;\n",
              "      border-radius: 50%;\n",
              "      cursor: pointer;\n",
              "      display: none;\n",
              "      fill: #1967D2;\n",
              "      height: 32px;\n",
              "      padding: 0 0 0 0;\n",
              "      width: 32px;\n",
              "    }\n",
              "\n",
              "    .colab-df-convert:hover {\n",
              "      background-color: #E2EBFA;\n",
              "      box-shadow: 0px 1px 2px rgba(60, 64, 67, 0.3), 0px 1px 3px 1px rgba(60, 64, 67, 0.15);\n",
              "      fill: #174EA6;\n",
              "    }\n",
              "\n",
              "    [theme=dark] .colab-df-convert {\n",
              "      background-color: #3B4455;\n",
              "      fill: #D2E3FC;\n",
              "    }\n",
              "\n",
              "    [theme=dark] .colab-df-convert:hover {\n",
              "      background-color: #434B5C;\n",
              "      box-shadow: 0px 1px 3px 1px rgba(0, 0, 0, 0.15);\n",
              "      filter: drop-shadow(0px 1px 2px rgba(0, 0, 0, 0.3));\n",
              "      fill: #FFFFFF;\n",
              "    }\n",
              "  </style>\n",
              "\n",
              "      <script>\n",
              "        const buttonEl =\n",
              "          document.querySelector('#df-8ddcd53c-9ca6-4f52-9e3f-06d7803c4012 button.colab-df-convert');\n",
              "        buttonEl.style.display =\n",
              "          google.colab.kernel.accessAllowed ? 'block' : 'none';\n",
              "\n",
              "        async function convertToInteractive(key) {\n",
              "          const element = document.querySelector('#df-8ddcd53c-9ca6-4f52-9e3f-06d7803c4012');\n",
              "          const dataTable =\n",
              "            await google.colab.kernel.invokeFunction('convertToInteractive',\n",
              "                                                     [key], {});\n",
              "          if (!dataTable) return;\n",
              "\n",
              "          const docLinkHtml = 'Like what you see? Visit the ' +\n",
              "            '<a target=\"_blank\" href=https://colab.research.google.com/notebooks/data_table.ipynb>data table notebook</a>'\n",
              "            + ' to learn more about interactive tables.';\n",
              "          element.innerHTML = '';\n",
              "          dataTable['output_type'] = 'display_data';\n",
              "          await google.colab.output.renderOutput(dataTable, element);\n",
              "          const docLink = document.createElement('div');\n",
              "          docLink.innerHTML = docLinkHtml;\n",
              "          element.appendChild(docLink);\n",
              "        }\n",
              "      </script>\n",
              "    </div>\n",
              "  </div>\n",
              "  "
            ],
            "text/plain": [
              "   Year  Month  Day  ...  Wind Direction  Wind Speed  Fill Flag\n",
              "0  2009      1    1  ...           346.1         3.1          0\n",
              "1  2009      1    1  ...           346.1         3.1          0\n",
              "2  2009      1    1  ...           347.9         3.2          0\n",
              "3  2009      1    1  ...           347.9         3.1          0\n",
              "4  2009      1    1  ...           350.0         3.0          0\n",
              "\n",
              "[5 rows x 18 columns]"
            ]
          },
          "metadata": {},
          "execution_count": 111
        }
      ]
    },
    {
      "cell_type": "code",
      "source": [
        "df_raw_test.head()"
      ],
      "metadata": {
        "colab": {
          "base_uri": "https://localhost:8080/",
          "height": 305
        },
        "id": "G7pVzPCn04pZ",
        "outputId": "305675ad-181b-4a4b-a974-71895dca5f37"
      },
      "execution_count": 56,
      "outputs": [
        {
          "output_type": "execute_result",
          "data": {
            "text/html": [
              "\n",
              "  <div id=\"df-25027be3-7e4a-4aa9-9108-486af442205b\">\n",
              "    <div class=\"colab-df-container\">\n",
              "      <div>\n",
              "<style scoped>\n",
              "    .dataframe tbody tr th:only-of-type {\n",
              "        vertical-align: middle;\n",
              "    }\n",
              "\n",
              "    .dataframe tbody tr th {\n",
              "        vertical-align: top;\n",
              "    }\n",
              "\n",
              "    .dataframe thead th {\n",
              "        text-align: right;\n",
              "    }\n",
              "</style>\n",
              "<table border=\"1\" class=\"dataframe\">\n",
              "  <thead>\n",
              "    <tr style=\"text-align: right;\">\n",
              "      <th></th>\n",
              "      <th>Year</th>\n",
              "      <th>Month</th>\n",
              "      <th>Day</th>\n",
              "      <th>Hour</th>\n",
              "      <th>Minute</th>\n",
              "      <th>Cloud Type</th>\n",
              "      <th>Dew Point</th>\n",
              "      <th>Temperature</th>\n",
              "      <th>Pressure</th>\n",
              "      <th>Relative Humidity</th>\n",
              "      <th>Solar Zenith Angle</th>\n",
              "      <th>Precipitable Water</th>\n",
              "      <th>Wind Direction</th>\n",
              "      <th>Wind Speed</th>\n",
              "      <th>Fill Flag</th>\n",
              "      <th>Clearsky DHI</th>\n",
              "      <th>Clearsky DNI</th>\n",
              "      <th>Clearsky GHI</th>\n",
              "    </tr>\n",
              "  </thead>\n",
              "  <tbody>\n",
              "    <tr>\n",
              "      <th>0</th>\n",
              "      <td>2019</td>\n",
              "      <td>1</td>\n",
              "      <td>1</td>\n",
              "      <td>0</td>\n",
              "      <td>0</td>\n",
              "      <td>7</td>\n",
              "      <td>18.4</td>\n",
              "      <td>18.8</td>\n",
              "      <td>1008</td>\n",
              "      <td>97.70</td>\n",
              "      <td>106.23</td>\n",
              "      <td>3.5</td>\n",
              "      <td>190</td>\n",
              "      <td>2.3</td>\n",
              "      <td>0</td>\n",
              "      <td>NaN</td>\n",
              "      <td>NaN</td>\n",
              "      <td>NaN</td>\n",
              "    </tr>\n",
              "    <tr>\n",
              "      <th>1</th>\n",
              "      <td>2019</td>\n",
              "      <td>1</td>\n",
              "      <td>1</td>\n",
              "      <td>0</td>\n",
              "      <td>30</td>\n",
              "      <td>3</td>\n",
              "      <td>18.4</td>\n",
              "      <td>18.6</td>\n",
              "      <td>1008</td>\n",
              "      <td>98.92</td>\n",
              "      <td>112.36</td>\n",
              "      <td>3.5</td>\n",
              "      <td>187</td>\n",
              "      <td>2.5</td>\n",
              "      <td>0</td>\n",
              "      <td>NaN</td>\n",
              "      <td>NaN</td>\n",
              "      <td>NaN</td>\n",
              "    </tr>\n",
              "    <tr>\n",
              "      <th>2</th>\n",
              "      <td>2019</td>\n",
              "      <td>1</td>\n",
              "      <td>1</td>\n",
              "      <td>1</td>\n",
              "      <td>0</td>\n",
              "      <td>3</td>\n",
              "      <td>18.2</td>\n",
              "      <td>18.5</td>\n",
              "      <td>1008</td>\n",
              "      <td>98.35</td>\n",
              "      <td>118.58</td>\n",
              "      <td>3.5</td>\n",
              "      <td>184</td>\n",
              "      <td>2.8</td>\n",
              "      <td>0</td>\n",
              "      <td>NaN</td>\n",
              "      <td>NaN</td>\n",
              "      <td>NaN</td>\n",
              "    </tr>\n",
              "    <tr>\n",
              "      <th>3</th>\n",
              "      <td>2019</td>\n",
              "      <td>1</td>\n",
              "      <td>1</td>\n",
              "      <td>1</td>\n",
              "      <td>30</td>\n",
              "      <td>3</td>\n",
              "      <td>18.2</td>\n",
              "      <td>18.3</td>\n",
              "      <td>1008</td>\n",
              "      <td>99.58</td>\n",
              "      <td>124.86</td>\n",
              "      <td>3.5</td>\n",
              "      <td>185</td>\n",
              "      <td>3.0</td>\n",
              "      <td>0</td>\n",
              "      <td>NaN</td>\n",
              "      <td>NaN</td>\n",
              "      <td>NaN</td>\n",
              "    </tr>\n",
              "    <tr>\n",
              "      <th>4</th>\n",
              "      <td>2019</td>\n",
              "      <td>1</td>\n",
              "      <td>1</td>\n",
              "      <td>2</td>\n",
              "      <td>0</td>\n",
              "      <td>0</td>\n",
              "      <td>18.0</td>\n",
              "      <td>18.0</td>\n",
              "      <td>1008</td>\n",
              "      <td>99.71</td>\n",
              "      <td>131.20</td>\n",
              "      <td>3.6</td>\n",
              "      <td>186</td>\n",
              "      <td>3.1</td>\n",
              "      <td>0</td>\n",
              "      <td>NaN</td>\n",
              "      <td>NaN</td>\n",
              "      <td>NaN</td>\n",
              "    </tr>\n",
              "  </tbody>\n",
              "</table>\n",
              "</div>\n",
              "      <button class=\"colab-df-convert\" onclick=\"convertToInteractive('df-25027be3-7e4a-4aa9-9108-486af442205b')\"\n",
              "              title=\"Convert this dataframe to an interactive table.\"\n",
              "              style=\"display:none;\">\n",
              "        \n",
              "  <svg xmlns=\"http://www.w3.org/2000/svg\" height=\"24px\"viewBox=\"0 0 24 24\"\n",
              "       width=\"24px\">\n",
              "    <path d=\"M0 0h24v24H0V0z\" fill=\"none\"/>\n",
              "    <path d=\"M18.56 5.44l.94 2.06.94-2.06 2.06-.94-2.06-.94-.94-2.06-.94 2.06-2.06.94zm-11 1L8.5 8.5l.94-2.06 2.06-.94-2.06-.94L8.5 2.5l-.94 2.06-2.06.94zm10 10l.94 2.06.94-2.06 2.06-.94-2.06-.94-.94-2.06-.94 2.06-2.06.94z\"/><path d=\"M17.41 7.96l-1.37-1.37c-.4-.4-.92-.59-1.43-.59-.52 0-1.04.2-1.43.59L10.3 9.45l-7.72 7.72c-.78.78-.78 2.05 0 2.83L4 21.41c.39.39.9.59 1.41.59.51 0 1.02-.2 1.41-.59l7.78-7.78 2.81-2.81c.8-.78.8-2.07 0-2.86zM5.41 20L4 18.59l7.72-7.72 1.47 1.35L5.41 20z\"/>\n",
              "  </svg>\n",
              "      </button>\n",
              "      \n",
              "  <style>\n",
              "    .colab-df-container {\n",
              "      display:flex;\n",
              "      flex-wrap:wrap;\n",
              "      gap: 12px;\n",
              "    }\n",
              "\n",
              "    .colab-df-convert {\n",
              "      background-color: #E8F0FE;\n",
              "      border: none;\n",
              "      border-radius: 50%;\n",
              "      cursor: pointer;\n",
              "      display: none;\n",
              "      fill: #1967D2;\n",
              "      height: 32px;\n",
              "      padding: 0 0 0 0;\n",
              "      width: 32px;\n",
              "    }\n",
              "\n",
              "    .colab-df-convert:hover {\n",
              "      background-color: #E2EBFA;\n",
              "      box-shadow: 0px 1px 2px rgba(60, 64, 67, 0.3), 0px 1px 3px 1px rgba(60, 64, 67, 0.15);\n",
              "      fill: #174EA6;\n",
              "    }\n",
              "\n",
              "    [theme=dark] .colab-df-convert {\n",
              "      background-color: #3B4455;\n",
              "      fill: #D2E3FC;\n",
              "    }\n",
              "\n",
              "    [theme=dark] .colab-df-convert:hover {\n",
              "      background-color: #434B5C;\n",
              "      box-shadow: 0px 1px 3px 1px rgba(0, 0, 0, 0.15);\n",
              "      filter: drop-shadow(0px 1px 2px rgba(0, 0, 0, 0.3));\n",
              "      fill: #FFFFFF;\n",
              "    }\n",
              "  </style>\n",
              "\n",
              "      <script>\n",
              "        const buttonEl =\n",
              "          document.querySelector('#df-25027be3-7e4a-4aa9-9108-486af442205b button.colab-df-convert');\n",
              "        buttonEl.style.display =\n",
              "          google.colab.kernel.accessAllowed ? 'block' : 'none';\n",
              "\n",
              "        async function convertToInteractive(key) {\n",
              "          const element = document.querySelector('#df-25027be3-7e4a-4aa9-9108-486af442205b');\n",
              "          const dataTable =\n",
              "            await google.colab.kernel.invokeFunction('convertToInteractive',\n",
              "                                                     [key], {});\n",
              "          if (!dataTable) return;\n",
              "\n",
              "          const docLinkHtml = 'Like what you see? Visit the ' +\n",
              "            '<a target=\"_blank\" href=https://colab.research.google.com/notebooks/data_table.ipynb>data table notebook</a>'\n",
              "            + ' to learn more about interactive tables.';\n",
              "          element.innerHTML = '';\n",
              "          dataTable['output_type'] = 'display_data';\n",
              "          await google.colab.output.renderOutput(dataTable, element);\n",
              "          const docLink = document.createElement('div');\n",
              "          docLink.innerHTML = docLinkHtml;\n",
              "          element.appendChild(docLink);\n",
              "        }\n",
              "      </script>\n",
              "    </div>\n",
              "  </div>\n",
              "  "
            ],
            "text/plain": [
              "   Year  Month  Day  Hour  ...  Fill Flag  Clearsky DHI  Clearsky DNI  Clearsky GHI\n",
              "0  2019      1    1     0  ...          0           NaN           NaN           NaN\n",
              "1  2019      1    1     0  ...          0           NaN           NaN           NaN\n",
              "2  2019      1    1     1  ...          0           NaN           NaN           NaN\n",
              "3  2019      1    1     1  ...          0           NaN           NaN           NaN\n",
              "4  2019      1    1     2  ...          0           NaN           NaN           NaN\n",
              "\n",
              "[5 rows x 18 columns]"
            ]
          },
          "metadata": {},
          "execution_count": 56
        }
      ]
    },
    {
      "cell_type": "code",
      "source": [
        "df_raw_train.isna().sum()"
      ],
      "metadata": {
        "colab": {
          "base_uri": "https://localhost:8080/"
        },
        "id": "Rsr14lVooLXx",
        "outputId": "95006bd0-350e-47f8-80b0-889a34349a56"
      },
      "execution_count": 179,
      "outputs": [
        {
          "output_type": "execute_result",
          "data": {
            "text/plain": [
              "Year                  0\n",
              "Month                 0\n",
              "Day                   0\n",
              "Hour                  0\n",
              "Minute                0\n",
              "Clearsky DHI          0\n",
              "Clearsky DNI          0\n",
              "Clearsky GHI          0\n",
              "Cloud Type            0\n",
              "Dew Point             0\n",
              "Temperature           0\n",
              "Pressure              0\n",
              "Relative Humidity     0\n",
              "Solar Zenith Angle    0\n",
              "Precipitable Water    0\n",
              "Wind Direction        0\n",
              "Wind Speed            0\n",
              "Fill Flag             0\n",
              "dtype: int64"
            ]
          },
          "metadata": {},
          "execution_count": 179
        }
      ]
    },
    {
      "cell_type": "code",
      "source": [
        "df_raw_test.isna().sum()"
      ],
      "metadata": {
        "colab": {
          "base_uri": "https://localhost:8080/"
        },
        "id": "Mv92SKy61BF5",
        "outputId": "9b921ec8-2c29-4502-a87c-158d19888882"
      },
      "execution_count": 180,
      "outputs": [
        {
          "output_type": "execute_result",
          "data": {
            "text/plain": [
              "Year                      0\n",
              "Month                     0\n",
              "Day                       0\n",
              "Hour                      0\n",
              "Minute                    0\n",
              "Cloud Type                0\n",
              "Dew Point                 0\n",
              "Temperature               0\n",
              "Pressure                  0\n",
              "Relative Humidity         0\n",
              "Solar Zenith Angle        0\n",
              "Precipitable Water        0\n",
              "Wind Direction            0\n",
              "Wind Speed                0\n",
              "Fill Flag                 0\n",
              "Clearsky DHI          17520\n",
              "Clearsky DNI          17520\n",
              "Clearsky GHI          17520\n",
              "dtype: int64"
            ]
          },
          "metadata": {},
          "execution_count": 180
        }
      ]
    },
    {
      "cell_type": "code",
      "source": [
        "df_raw_test.drop(df_raw_test.columns[[15, 16, 17]], axis = 1, inplace = True)"
      ],
      "metadata": {
        "id": "vf_wykDVkOGV"
      },
      "execution_count": 181,
      "outputs": []
    },
    {
      "cell_type": "code",
      "source": [
        "df_raw_test.isna().sum()"
      ],
      "metadata": {
        "colab": {
          "base_uri": "https://localhost:8080/"
        },
        "id": "Rm24NY84mlMJ",
        "outputId": "3bdb7b05-77d5-4711-e8c5-98c704df6af3"
      },
      "execution_count": 182,
      "outputs": [
        {
          "output_type": "execute_result",
          "data": {
            "text/plain": [
              "Year                  0\n",
              "Month                 0\n",
              "Day                   0\n",
              "Hour                  0\n",
              "Minute                0\n",
              "Cloud Type            0\n",
              "Dew Point             0\n",
              "Temperature           0\n",
              "Pressure              0\n",
              "Relative Humidity     0\n",
              "Solar Zenith Angle    0\n",
              "Precipitable Water    0\n",
              "Wind Direction        0\n",
              "Wind Speed            0\n",
              "Fill Flag             0\n",
              "dtype: int64"
            ]
          },
          "metadata": {},
          "execution_count": 182
        }
      ]
    },
    {
      "cell_type": "code",
      "source": [
        "df_raw_train.corr()"
      ],
      "metadata": {
        "colab": {
          "base_uri": "https://localhost:8080/",
          "height": 973
        },
        "id": "mw3KiDw4gHXa",
        "outputId": "4776d14e-34ff-4567-e22c-ef54d9b59a86"
      },
      "execution_count": 213,
      "outputs": [
        {
          "output_type": "execute_result",
          "data": {
            "text/html": [
              "\n",
              "  <div id=\"df-508195e7-b1a9-4ad9-920b-322c18d14060\">\n",
              "    <div class=\"colab-df-container\">\n",
              "      <div>\n",
              "<style scoped>\n",
              "    .dataframe tbody tr th:only-of-type {\n",
              "        vertical-align: middle;\n",
              "    }\n",
              "\n",
              "    .dataframe tbody tr th {\n",
              "        vertical-align: top;\n",
              "    }\n",
              "\n",
              "    .dataframe thead th {\n",
              "        text-align: right;\n",
              "    }\n",
              "</style>\n",
              "<table border=\"1\" class=\"dataframe\">\n",
              "  <thead>\n",
              "    <tr style=\"text-align: right;\">\n",
              "      <th></th>\n",
              "      <th>Year</th>\n",
              "      <th>Month</th>\n",
              "      <th>Day</th>\n",
              "      <th>Hour</th>\n",
              "      <th>Minute</th>\n",
              "      <th>Clearsky DHI</th>\n",
              "      <th>Clearsky DNI</th>\n",
              "      <th>Clearsky GHI</th>\n",
              "      <th>Cloud Type</th>\n",
              "      <th>Dew Point</th>\n",
              "      <th>Temperature</th>\n",
              "      <th>Pressure</th>\n",
              "      <th>Relative Humidity</th>\n",
              "      <th>Solar Zenith Angle</th>\n",
              "      <th>Precipitable Water</th>\n",
              "      <th>Wind Direction</th>\n",
              "      <th>Wind Speed</th>\n",
              "      <th>Fill Flag</th>\n",
              "    </tr>\n",
              "  </thead>\n",
              "  <tbody>\n",
              "    <tr>\n",
              "      <th>Year</th>\n",
              "      <td>1.000000</td>\n",
              "      <td>-1.250676e-04</td>\n",
              "      <td>1.438112e-04</td>\n",
              "      <td>0.000000e+00</td>\n",
              "      <td>0.000000</td>\n",
              "      <td>-0.027271</td>\n",
              "      <td>0.010488</td>\n",
              "      <td>0.001011</td>\n",
              "      <td>0.059987</td>\n",
              "      <td>0.059990</td>\n",
              "      <td>0.041339</td>\n",
              "      <td>0.170655</td>\n",
              "      <td>0.006729</td>\n",
              "      <td>-0.000043</td>\n",
              "      <td>0.057450</td>\n",
              "      <td>-0.032013</td>\n",
              "      <td>-0.025577</td>\n",
              "      <td>0.132889</td>\n",
              "    </tr>\n",
              "    <tr>\n",
              "      <th>Month</th>\n",
              "      <td>-0.000125</td>\n",
              "      <td>1.000000e+00</td>\n",
              "      <td>1.079604e-02</td>\n",
              "      <td>-2.852658e-19</td>\n",
              "      <td>0.000000</td>\n",
              "      <td>-0.052826</td>\n",
              "      <td>-0.020091</td>\n",
              "      <td>-0.039901</td>\n",
              "      <td>-0.017394</td>\n",
              "      <td>0.146819</td>\n",
              "      <td>0.200660</td>\n",
              "      <td>-0.046228</td>\n",
              "      <td>-0.109397</td>\n",
              "      <td>0.039427</td>\n",
              "      <td>0.180774</td>\n",
              "      <td>-0.132582</td>\n",
              "      <td>-0.097522</td>\n",
              "      <td>0.005900</td>\n",
              "    </tr>\n",
              "    <tr>\n",
              "      <th>Day</th>\n",
              "      <td>0.000144</td>\n",
              "      <td>1.079604e-02</td>\n",
              "      <td>1.000000e+00</td>\n",
              "      <td>-1.030673e-17</td>\n",
              "      <td>0.000000</td>\n",
              "      <td>-0.004006</td>\n",
              "      <td>0.000962</td>\n",
              "      <td>0.000383</td>\n",
              "      <td>0.001174</td>\n",
              "      <td>0.023617</td>\n",
              "      <td>0.022825</td>\n",
              "      <td>-0.040792</td>\n",
              "      <td>0.000032</td>\n",
              "      <td>-0.001020</td>\n",
              "      <td>0.008565</td>\n",
              "      <td>0.006696</td>\n",
              "      <td>-0.006481</td>\n",
              "      <td>-0.001522</td>\n",
              "    </tr>\n",
              "    <tr>\n",
              "      <th>Hour</th>\n",
              "      <td>0.000000</td>\n",
              "      <td>-2.852658e-19</td>\n",
              "      <td>-1.030673e-17</td>\n",
              "      <td>1.000000e+00</td>\n",
              "      <td>0.000000</td>\n",
              "      <td>0.688314</td>\n",
              "      <td>0.738537</td>\n",
              "      <td>0.650697</td>\n",
              "      <td>-0.026036</td>\n",
              "      <td>0.021269</td>\n",
              "      <td>0.281493</td>\n",
              "      <td>-0.027240</td>\n",
              "      <td>-0.496931</td>\n",
              "      <td>-0.732434</td>\n",
              "      <td>0.012487</td>\n",
              "      <td>0.005142</td>\n",
              "      <td>0.247012</td>\n",
              "      <td>0.055630</td>\n",
              "    </tr>\n",
              "    <tr>\n",
              "      <th>Minute</th>\n",
              "      <td>0.000000</td>\n",
              "      <td>0.000000e+00</td>\n",
              "      <td>0.000000e+00</td>\n",
              "      <td>0.000000e+00</td>\n",
              "      <td>1.000000</td>\n",
              "      <td>-0.001514</td>\n",
              "      <td>-0.001348</td>\n",
              "      <td>-0.000164</td>\n",
              "      <td>0.000485</td>\n",
              "      <td>-0.002042</td>\n",
              "      <td>-0.011724</td>\n",
              "      <td>-0.001636</td>\n",
              "      <td>0.018638</td>\n",
              "      <td>-0.000006</td>\n",
              "      <td>-0.000083</td>\n",
              "      <td>0.000011</td>\n",
              "      <td>-0.009258</td>\n",
              "      <td>-0.000929</td>\n",
              "    </tr>\n",
              "    <tr>\n",
              "      <th>Clearsky DHI</th>\n",
              "      <td>-0.027271</td>\n",
              "      <td>-5.282618e-02</td>\n",
              "      <td>-4.005800e-03</td>\n",
              "      <td>6.883137e-01</td>\n",
              "      <td>-0.001514</td>\n",
              "      <td>1.000000</td>\n",
              "      <td>0.860988</td>\n",
              "      <td>0.912991</td>\n",
              "      <td>0.022479</td>\n",
              "      <td>0.222931</td>\n",
              "      <td>0.503409</td>\n",
              "      <td>-0.093766</td>\n",
              "      <td>-0.559766</td>\n",
              "      <td>-0.873421</td>\n",
              "      <td>0.207504</td>\n",
              "      <td>-0.000195</td>\n",
              "      <td>0.315655</td>\n",
              "      <td>0.000740</td>\n",
              "    </tr>\n",
              "    <tr>\n",
              "      <th>Clearsky DNI</th>\n",
              "      <td>0.010488</td>\n",
              "      <td>-2.009111e-02</td>\n",
              "      <td>9.616594e-04</td>\n",
              "      <td>7.385367e-01</td>\n",
              "      <td>-0.001348</td>\n",
              "      <td>0.860988</td>\n",
              "      <td>1.000000</td>\n",
              "      <td>0.927926</td>\n",
              "      <td>-0.073302</td>\n",
              "      <td>0.033601</td>\n",
              "      <td>0.384353</td>\n",
              "      <td>0.007043</td>\n",
              "      <td>-0.680471</td>\n",
              "      <td>-0.886323</td>\n",
              "      <td>-0.002180</td>\n",
              "      <td>0.006256</td>\n",
              "      <td>0.381162</td>\n",
              "      <td>0.006318</td>\n",
              "    </tr>\n",
              "    <tr>\n",
              "      <th>Clearsky GHI</th>\n",
              "      <td>0.001011</td>\n",
              "      <td>-3.990135e-02</td>\n",
              "      <td>3.825070e-04</td>\n",
              "      <td>6.506965e-01</td>\n",
              "      <td>-0.000164</td>\n",
              "      <td>0.912991</td>\n",
              "      <td>0.927926</td>\n",
              "      <td>1.000000</td>\n",
              "      <td>-0.047297</td>\n",
              "      <td>0.140420</td>\n",
              "      <td>0.478273</td>\n",
              "      <td>-0.050556</td>\n",
              "      <td>-0.655765</td>\n",
              "      <td>-0.891033</td>\n",
              "      <td>0.108725</td>\n",
              "      <td>0.004944</td>\n",
              "      <td>0.349180</td>\n",
              "      <td>-0.030297</td>\n",
              "    </tr>\n",
              "    <tr>\n",
              "      <th>Cloud Type</th>\n",
              "      <td>0.059987</td>\n",
              "      <td>-1.739447e-02</td>\n",
              "      <td>1.173973e-03</td>\n",
              "      <td>-2.603568e-02</td>\n",
              "      <td>0.000485</td>\n",
              "      <td>0.022479</td>\n",
              "      <td>-0.073302</td>\n",
              "      <td>-0.047297</td>\n",
              "      <td>1.000000</td>\n",
              "      <td>0.202096</td>\n",
              "      <td>0.066777</td>\n",
              "      <td>-0.137158</td>\n",
              "      <td>0.235374</td>\n",
              "      <td>0.026873</td>\n",
              "      <td>0.326904</td>\n",
              "      <td>-0.081565</td>\n",
              "      <td>0.072632</td>\n",
              "      <td>0.090161</td>\n",
              "    </tr>\n",
              "    <tr>\n",
              "      <th>Dew Point</th>\n",
              "      <td>0.059990</td>\n",
              "      <td>1.468194e-01</td>\n",
              "      <td>2.361671e-02</td>\n",
              "      <td>2.126862e-02</td>\n",
              "      <td>-0.002042</td>\n",
              "      <td>0.222931</td>\n",
              "      <td>0.033601</td>\n",
              "      <td>0.140420</td>\n",
              "      <td>0.202096</td>\n",
              "      <td>1.000000</td>\n",
              "      <td>0.848948</td>\n",
              "      <td>-0.419534</td>\n",
              "      <td>0.193455</td>\n",
              "      <td>-0.222336</td>\n",
              "      <td>0.881881</td>\n",
              "      <td>-0.076357</td>\n",
              "      <td>-0.140699</td>\n",
              "      <td>0.036851</td>\n",
              "    </tr>\n",
              "    <tr>\n",
              "      <th>Temperature</th>\n",
              "      <td>0.041339</td>\n",
              "      <td>2.006604e-01</td>\n",
              "      <td>2.282494e-02</td>\n",
              "      <td>2.814925e-01</td>\n",
              "      <td>-0.011724</td>\n",
              "      <td>0.503409</td>\n",
              "      <td>0.384353</td>\n",
              "      <td>0.478273</td>\n",
              "      <td>0.066777</td>\n",
              "      <td>0.848948</td>\n",
              "      <td>1.000000</td>\n",
              "      <td>-0.371395</td>\n",
              "      <td>-0.341914</td>\n",
              "      <td>-0.526548</td>\n",
              "      <td>0.742449</td>\n",
              "      <td>-0.066673</td>\n",
              "      <td>-0.046694</td>\n",
              "      <td>0.015734</td>\n",
              "    </tr>\n",
              "    <tr>\n",
              "      <th>Pressure</th>\n",
              "      <td>0.170655</td>\n",
              "      <td>-4.622793e-02</td>\n",
              "      <td>-4.079205e-02</td>\n",
              "      <td>-2.724028e-02</td>\n",
              "      <td>-0.001636</td>\n",
              "      <td>-0.093766</td>\n",
              "      <td>0.007043</td>\n",
              "      <td>-0.050556</td>\n",
              "      <td>-0.137158</td>\n",
              "      <td>-0.419534</td>\n",
              "      <td>-0.371395</td>\n",
              "      <td>1.000000</td>\n",
              "      <td>-0.085004</td>\n",
              "      <td>0.078900</td>\n",
              "      <td>-0.365342</td>\n",
              "      <td>-0.182006</td>\n",
              "      <td>-0.122674</td>\n",
              "      <td>0.052521</td>\n",
              "    </tr>\n",
              "    <tr>\n",
              "      <th>Relative Humidity</th>\n",
              "      <td>0.006729</td>\n",
              "      <td>-1.093972e-01</td>\n",
              "      <td>3.241085e-05</td>\n",
              "      <td>-4.969308e-01</td>\n",
              "      <td>0.018638</td>\n",
              "      <td>-0.559766</td>\n",
              "      <td>-0.680471</td>\n",
              "      <td>-0.655765</td>\n",
              "      <td>0.235374</td>\n",
              "      <td>0.193455</td>\n",
              "      <td>-0.341914</td>\n",
              "      <td>-0.085004</td>\n",
              "      <td>1.000000</td>\n",
              "      <td>0.607108</td>\n",
              "      <td>0.182658</td>\n",
              "      <td>-0.019108</td>\n",
              "      <td>-0.172248</td>\n",
              "      <td>0.023674</td>\n",
              "    </tr>\n",
              "    <tr>\n",
              "      <th>Solar Zenith Angle</th>\n",
              "      <td>-0.000043</td>\n",
              "      <td>3.942729e-02</td>\n",
              "      <td>-1.019550e-03</td>\n",
              "      <td>-7.324343e-01</td>\n",
              "      <td>-0.000006</td>\n",
              "      <td>-0.873421</td>\n",
              "      <td>-0.886323</td>\n",
              "      <td>-0.891033</td>\n",
              "      <td>0.026873</td>\n",
              "      <td>-0.222336</td>\n",
              "      <td>-0.526548</td>\n",
              "      <td>0.078900</td>\n",
              "      <td>0.607108</td>\n",
              "      <td>1.000000</td>\n",
              "      <td>-0.182529</td>\n",
              "      <td>0.003802</td>\n",
              "      <td>-0.295927</td>\n",
              "      <td>-0.029150</td>\n",
              "    </tr>\n",
              "    <tr>\n",
              "      <th>Precipitable Water</th>\n",
              "      <td>0.057450</td>\n",
              "      <td>1.807739e-01</td>\n",
              "      <td>8.564690e-03</td>\n",
              "      <td>1.248658e-02</td>\n",
              "      <td>-0.000083</td>\n",
              "      <td>0.207504</td>\n",
              "      <td>-0.002180</td>\n",
              "      <td>0.108725</td>\n",
              "      <td>0.326904</td>\n",
              "      <td>0.881881</td>\n",
              "      <td>0.742449</td>\n",
              "      <td>-0.365342</td>\n",
              "      <td>0.182658</td>\n",
              "      <td>-0.182529</td>\n",
              "      <td>1.000000</td>\n",
              "      <td>-0.105735</td>\n",
              "      <td>-0.106892</td>\n",
              "      <td>0.044106</td>\n",
              "    </tr>\n",
              "    <tr>\n",
              "      <th>Wind Direction</th>\n",
              "      <td>-0.032013</td>\n",
              "      <td>-1.325817e-01</td>\n",
              "      <td>6.696016e-03</td>\n",
              "      <td>5.141698e-03</td>\n",
              "      <td>0.000011</td>\n",
              "      <td>-0.000195</td>\n",
              "      <td>0.006256</td>\n",
              "      <td>0.004944</td>\n",
              "      <td>-0.081565</td>\n",
              "      <td>-0.076357</td>\n",
              "      <td>-0.066673</td>\n",
              "      <td>-0.182006</td>\n",
              "      <td>-0.019108</td>\n",
              "      <td>0.003802</td>\n",
              "      <td>-0.105735</td>\n",
              "      <td>1.000000</td>\n",
              "      <td>0.035634</td>\n",
              "      <td>-0.017124</td>\n",
              "    </tr>\n",
              "    <tr>\n",
              "      <th>Wind Speed</th>\n",
              "      <td>-0.025577</td>\n",
              "      <td>-9.752170e-02</td>\n",
              "      <td>-6.481469e-03</td>\n",
              "      <td>2.470120e-01</td>\n",
              "      <td>-0.009258</td>\n",
              "      <td>0.315655</td>\n",
              "      <td>0.381162</td>\n",
              "      <td>0.349180</td>\n",
              "      <td>0.072632</td>\n",
              "      <td>-0.140699</td>\n",
              "      <td>-0.046694</td>\n",
              "      <td>-0.122674</td>\n",
              "      <td>-0.172248</td>\n",
              "      <td>-0.295927</td>\n",
              "      <td>-0.106892</td>\n",
              "      <td>0.035634</td>\n",
              "      <td>1.000000</td>\n",
              "      <td>0.000447</td>\n",
              "    </tr>\n",
              "    <tr>\n",
              "      <th>Fill Flag</th>\n",
              "      <td>0.132889</td>\n",
              "      <td>5.899776e-03</td>\n",
              "      <td>-1.522006e-03</td>\n",
              "      <td>5.562988e-02</td>\n",
              "      <td>-0.000929</td>\n",
              "      <td>0.000740</td>\n",
              "      <td>0.006318</td>\n",
              "      <td>-0.030297</td>\n",
              "      <td>0.090161</td>\n",
              "      <td>0.036851</td>\n",
              "      <td>0.015734</td>\n",
              "      <td>0.052521</td>\n",
              "      <td>0.023674</td>\n",
              "      <td>-0.029150</td>\n",
              "      <td>0.044106</td>\n",
              "      <td>-0.017124</td>\n",
              "      <td>0.000447</td>\n",
              "      <td>1.000000</td>\n",
              "    </tr>\n",
              "  </tbody>\n",
              "</table>\n",
              "</div>\n",
              "      <button class=\"colab-df-convert\" onclick=\"convertToInteractive('df-508195e7-b1a9-4ad9-920b-322c18d14060')\"\n",
              "              title=\"Convert this dataframe to an interactive table.\"\n",
              "              style=\"display:none;\">\n",
              "        \n",
              "  <svg xmlns=\"http://www.w3.org/2000/svg\" height=\"24px\"viewBox=\"0 0 24 24\"\n",
              "       width=\"24px\">\n",
              "    <path d=\"M0 0h24v24H0V0z\" fill=\"none\"/>\n",
              "    <path d=\"M18.56 5.44l.94 2.06.94-2.06 2.06-.94-2.06-.94-.94-2.06-.94 2.06-2.06.94zm-11 1L8.5 8.5l.94-2.06 2.06-.94-2.06-.94L8.5 2.5l-.94 2.06-2.06.94zm10 10l.94 2.06.94-2.06 2.06-.94-2.06-.94-.94-2.06-.94 2.06-2.06.94z\"/><path d=\"M17.41 7.96l-1.37-1.37c-.4-.4-.92-.59-1.43-.59-.52 0-1.04.2-1.43.59L10.3 9.45l-7.72 7.72c-.78.78-.78 2.05 0 2.83L4 21.41c.39.39.9.59 1.41.59.51 0 1.02-.2 1.41-.59l7.78-7.78 2.81-2.81c.8-.78.8-2.07 0-2.86zM5.41 20L4 18.59l7.72-7.72 1.47 1.35L5.41 20z\"/>\n",
              "  </svg>\n",
              "      </button>\n",
              "      \n",
              "  <style>\n",
              "    .colab-df-container {\n",
              "      display:flex;\n",
              "      flex-wrap:wrap;\n",
              "      gap: 12px;\n",
              "    }\n",
              "\n",
              "    .colab-df-convert {\n",
              "      background-color: #E8F0FE;\n",
              "      border: none;\n",
              "      border-radius: 50%;\n",
              "      cursor: pointer;\n",
              "      display: none;\n",
              "      fill: #1967D2;\n",
              "      height: 32px;\n",
              "      padding: 0 0 0 0;\n",
              "      width: 32px;\n",
              "    }\n",
              "\n",
              "    .colab-df-convert:hover {\n",
              "      background-color: #E2EBFA;\n",
              "      box-shadow: 0px 1px 2px rgba(60, 64, 67, 0.3), 0px 1px 3px 1px rgba(60, 64, 67, 0.15);\n",
              "      fill: #174EA6;\n",
              "    }\n",
              "\n",
              "    [theme=dark] .colab-df-convert {\n",
              "      background-color: #3B4455;\n",
              "      fill: #D2E3FC;\n",
              "    }\n",
              "\n",
              "    [theme=dark] .colab-df-convert:hover {\n",
              "      background-color: #434B5C;\n",
              "      box-shadow: 0px 1px 3px 1px rgba(0, 0, 0, 0.15);\n",
              "      filter: drop-shadow(0px 1px 2px rgba(0, 0, 0, 0.3));\n",
              "      fill: #FFFFFF;\n",
              "    }\n",
              "  </style>\n",
              "\n",
              "      <script>\n",
              "        const buttonEl =\n",
              "          document.querySelector('#df-508195e7-b1a9-4ad9-920b-322c18d14060 button.colab-df-convert');\n",
              "        buttonEl.style.display =\n",
              "          google.colab.kernel.accessAllowed ? 'block' : 'none';\n",
              "\n",
              "        async function convertToInteractive(key) {\n",
              "          const element = document.querySelector('#df-508195e7-b1a9-4ad9-920b-322c18d14060');\n",
              "          const dataTable =\n",
              "            await google.colab.kernel.invokeFunction('convertToInteractive',\n",
              "                                                     [key], {});\n",
              "          if (!dataTable) return;\n",
              "\n",
              "          const docLinkHtml = 'Like what you see? Visit the ' +\n",
              "            '<a target=\"_blank\" href=https://colab.research.google.com/notebooks/data_table.ipynb>data table notebook</a>'\n",
              "            + ' to learn more about interactive tables.';\n",
              "          element.innerHTML = '';\n",
              "          dataTable['output_type'] = 'display_data';\n",
              "          await google.colab.output.renderOutput(dataTable, element);\n",
              "          const docLink = document.createElement('div');\n",
              "          docLink.innerHTML = docLinkHtml;\n",
              "          element.appendChild(docLink);\n",
              "        }\n",
              "      </script>\n",
              "    </div>\n",
              "  </div>\n",
              "  "
            ],
            "text/plain": [
              "                        Year         Month  ...  Wind Speed  Fill Flag\n",
              "Year                1.000000 -1.250676e-04  ...   -0.025577   0.132889\n",
              "Month              -0.000125  1.000000e+00  ...   -0.097522   0.005900\n",
              "Day                 0.000144  1.079604e-02  ...   -0.006481  -0.001522\n",
              "Hour                0.000000 -2.852658e-19  ...    0.247012   0.055630\n",
              "Minute              0.000000  0.000000e+00  ...   -0.009258  -0.000929\n",
              "Clearsky DHI       -0.027271 -5.282618e-02  ...    0.315655   0.000740\n",
              "Clearsky DNI        0.010488 -2.009111e-02  ...    0.381162   0.006318\n",
              "Clearsky GHI        0.001011 -3.990135e-02  ...    0.349180  -0.030297\n",
              "Cloud Type          0.059987 -1.739447e-02  ...    0.072632   0.090161\n",
              "Dew Point           0.059990  1.468194e-01  ...   -0.140699   0.036851\n",
              "Temperature         0.041339  2.006604e-01  ...   -0.046694   0.015734\n",
              "Pressure            0.170655 -4.622793e-02  ...   -0.122674   0.052521\n",
              "Relative Humidity   0.006729 -1.093972e-01  ...   -0.172248   0.023674\n",
              "Solar Zenith Angle -0.000043  3.942729e-02  ...   -0.295927  -0.029150\n",
              "Precipitable Water  0.057450  1.807739e-01  ...   -0.106892   0.044106\n",
              "Wind Direction     -0.032013 -1.325817e-01  ...    0.035634  -0.017124\n",
              "Wind Speed         -0.025577 -9.752170e-02  ...    1.000000   0.000447\n",
              "Fill Flag           0.132889  5.899776e-03  ...    0.000447   1.000000\n",
              "\n",
              "[18 rows x 18 columns]"
            ]
          },
          "metadata": {},
          "execution_count": 213
        }
      ]
    },
    {
      "cell_type": "code",
      "source": [
        "cols = ['Year','Month','Day','Hour','Minute','Cloud Type','Dew Point','Temperature','Pressure','Relative Humidity','Solar Zenith Angle','Precipitable Water','Wind Direction','Wind Speed','Fill Flag'] # one or more\n",
        "\n",
        "Q1 = df_raw_train[cols].quantile(0.25)\n",
        "Q3 = df_raw_train[cols].quantile(0.75)\n",
        "IQR = Q3 - Q1\n",
        "\n",
        "df_new_train = df_raw_train[~((df_raw_train[cols] < (Q1 - 1.5 * IQR)) |(df_raw_train[cols] > (Q3 + 1.5 * IQR))).any(axis=1)]"
      ],
      "metadata": {
        "id": "mGdIH6NBBOAx"
      },
      "execution_count": 183,
      "outputs": []
    },
    {
      "cell_type": "code",
      "source": [
        "df_raw_train.shape"
      ],
      "metadata": {
        "colab": {
          "base_uri": "https://localhost:8080/"
        },
        "id": "_l-jJeumFWBx",
        "outputId": "99a29ede-50cb-4e0c-db6a-0bbc7b29474b"
      },
      "execution_count": 185,
      "outputs": [
        {
          "output_type": "execute_result",
          "data": {
            "text/plain": [
              "(175296, 18)"
            ]
          },
          "metadata": {},
          "execution_count": 185
        }
      ]
    },
    {
      "cell_type": "code",
      "source": [
        "df_new_train.shape"
      ],
      "metadata": {
        "colab": {
          "base_uri": "https://localhost:8080/"
        },
        "id": "lIWpJNGvFc9J",
        "outputId": "fdb51bb0-3e24-43dd-faa9-db2b600051fd"
      },
      "execution_count": 186,
      "outputs": [
        {
          "output_type": "execute_result",
          "data": {
            "text/plain": [
              "(160587, 18)"
            ]
          },
          "metadata": {},
          "execution_count": 186
        }
      ]
    },
    {
      "cell_type": "code",
      "source": [
        "cols = ['Year','Month','Day','Hour','Minute','Cloud Type','Dew Point','Temperature','Pressure','Relative Humidity','Solar Zenith Angle','Precipitable Water','Wind Direction','Wind Speed','Fill Flag'] # one or more\n",
        "\n",
        "Q1 = df_raw_test[cols].quantile(0.25)\n",
        "Q3 = df_raw_test[cols].quantile(0.75)\n",
        "IQR = Q3 - Q1\n",
        "\n",
        "df_new_test = df_raw_test[~((df_raw_test[cols] < (Q1 - 1.5 * IQR)) |(df_raw_test[cols] > (Q3 + 1.5 * IQR))).any(axis=1)]"
      ],
      "metadata": {
        "id": "XXzg6NW3Fjbl"
      },
      "execution_count": 187,
      "outputs": []
    },
    {
      "cell_type": "code",
      "source": [
        "df_raw_test.shape"
      ],
      "metadata": {
        "colab": {
          "base_uri": "https://localhost:8080/"
        },
        "id": "zo2Sfp2fFV-S",
        "outputId": "04aad31f-9b43-4ad5-ffd1-8658bbeb6040"
      },
      "execution_count": 188,
      "outputs": [
        {
          "output_type": "execute_result",
          "data": {
            "text/plain": [
              "(17520, 15)"
            ]
          },
          "metadata": {},
          "execution_count": 188
        }
      ]
    },
    {
      "cell_type": "code",
      "source": [
        "df_new_test.shape"
      ],
      "metadata": {
        "colab": {
          "base_uri": "https://localhost:8080/"
        },
        "id": "S9asF7MhGCKw",
        "outputId": "9db08efb-4e21-4389-fa00-bb0de99d6a08"
      },
      "execution_count": 189,
      "outputs": [
        {
          "output_type": "execute_result",
          "data": {
            "text/plain": [
              "(15379, 15)"
            ]
          },
          "metadata": {},
          "execution_count": 189
        }
      ]
    },
    {
      "cell_type": "code",
      "source": [
        "df_new_train.info()"
      ],
      "metadata": {
        "colab": {
          "base_uri": "https://localhost:8080/"
        },
        "id": "GcYMq7QfVwSb",
        "outputId": "14b54c61-5008-4fd7-d858-a72d20710b8f"
      },
      "execution_count": 214,
      "outputs": [
        {
          "output_type": "stream",
          "name": "stdout",
          "text": [
            "<class 'pandas.core.frame.DataFrame'>\n",
            "Int64Index: 160587 entries, 0 to 175295\n",
            "Data columns (total 18 columns):\n",
            " #   Column              Non-Null Count   Dtype  \n",
            "---  ------              --------------   -----  \n",
            " 0   Year                160587 non-null  int64  \n",
            " 1   Month               160587 non-null  int64  \n",
            " 2   Day                 160587 non-null  int64  \n",
            " 3   Hour                160587 non-null  int64  \n",
            " 4   Minute              160587 non-null  int64  \n",
            " 5   Clearsky DHI        160587 non-null  int64  \n",
            " 6   Clearsky DNI        160587 non-null  int64  \n",
            " 7   Clearsky GHI        160587 non-null  int64  \n",
            " 8   Cloud Type          160587 non-null  int64  \n",
            " 9   Dew Point           160587 non-null  float64\n",
            " 10  Temperature         160587 non-null  float64\n",
            " 11  Pressure            160587 non-null  int64  \n",
            " 12  Relative Humidity   160587 non-null  float64\n",
            " 13  Solar Zenith Angle  160587 non-null  float64\n",
            " 14  Precipitable Water  160587 non-null  float64\n",
            " 15  Wind Direction      160587 non-null  float64\n",
            " 16  Wind Speed          160587 non-null  float64\n",
            " 17  Fill Flag           160587 non-null  int64  \n",
            "dtypes: float64(7), int64(11)\n",
            "memory usage: 23.3 MB\n"
          ]
        }
      ]
    },
    {
      "cell_type": "markdown",
      "source": [
        "**Splitting X and Y**"
      ],
      "metadata": {
        "id": "zvV8PVggZRXy"
      }
    },
    {
      "cell_type": "code",
      "source": [
        "x_train = df_new_train[df_raw_train.columns[[0,1,2,3,4,8,9,10,11,12,13,14,16,17]]]"
      ],
      "metadata": {
        "id": "9vr0x8zFGhMQ"
      },
      "execution_count": 123,
      "outputs": []
    },
    {
      "cell_type": "code",
      "source": [
        "'''x_train = df_new_train[df_raw_train.columns[[1,2,3,4,8,15,16]]] '''  waste"
      ],
      "metadata": {
        "id": "0pzOv6K9z2LJ"
      },
      "execution_count": null,
      "outputs": []
    },
    {
      "cell_type": "code",
      "source": [
        "x_train = df_new_train[df_raw_train.columns[[3,10,11,13,14,15,17]]]"
      ],
      "metadata": {
        "id": "0kHd0ioE3cf8"
      },
      "execution_count": 215,
      "outputs": []
    },
    {
      "cell_type": "code",
      "source": [
        "y = df_new_train[['Clearsky DHI','Clearsky DNI','Clearsky GHI']]"
      ],
      "metadata": {
        "id": "PsC7CXLKATsI"
      },
      "execution_count": 216,
      "outputs": []
    },
    {
      "cell_type": "markdown",
      "source": [
        "**Multicolinearity**"
      ],
      "metadata": {
        "id": "egHleX9oRFa6"
      }
    },
    {
      "cell_type": "code",
      "source": [
        "VIF = []"
      ],
      "metadata": {
        "id": "Bke758usRD1J"
      },
      "execution_count": 217,
      "outputs": []
    },
    {
      "cell_type": "code",
      "source": [
        "from statsmodels.stats.outliers_influence import variance_inflation_factor"
      ],
      "metadata": {
        "id": "3ba3GRXURPwE"
      },
      "execution_count": 218,
      "outputs": []
    },
    {
      "cell_type": "code",
      "source": [
        "for j in range(x_train.shape[1]):\n",
        "    VIF.append(variance_inflation_factor(x_train.values,j))\n",
        "print(VIF)"
      ],
      "metadata": {
        "colab": {
          "base_uri": "https://localhost:8080/"
        },
        "id": "VXgG6wv_Ra64",
        "outputId": "7bcd0079-219c-4335-871c-50a878c851b9"
      },
      "execution_count": 219,
      "outputs": [
        {
          "output_type": "stream",
          "name": "stdout",
          "text": [
            "[8.686313972488671, 18.038299967719915, 57.62032667483062, 18.748623473337737, 11.83207682131678, 4.612058043640489, nan]\n"
          ]
        },
        {
          "output_type": "stream",
          "name": "stderr",
          "text": [
            "/usr/local/lib/python3.7/dist-packages/statsmodels/regression/linear_model.py:1638: RuntimeWarning: invalid value encountered in double_scalars\n",
            "  return 1 - self.ssr/self.uncentered_tss\n"
          ]
        }
      ]
    },
    {
      "cell_type": "code",
      "source": [
        "import numpy as np\n",
        "np.transpose(VIF)\n",
        "pd.DataFrame(x_train.columns)\n",
        "pd.DataFrame(np.transpose(VIF))\n",
        "pd.concat([pd.DataFrame(x_train.columns),pd.DataFrame(np.transpose(VIF))], axis =1)"
      ],
      "metadata": {
        "colab": {
          "base_uri": "https://localhost:8080/",
          "height": 269
        },
        "id": "vxSVxVrmThbF",
        "outputId": "2a92dfbf-87b0-44da-86cd-184cb13d9e8b"
      },
      "execution_count": 220,
      "outputs": [
        {
          "output_type": "execute_result",
          "data": {
            "text/html": [
              "\n",
              "  <div id=\"df-d7f4da3d-7b8a-42c3-924e-5d9ec092c24d\">\n",
              "    <div class=\"colab-df-container\">\n",
              "      <div>\n",
              "<style scoped>\n",
              "    .dataframe tbody tr th:only-of-type {\n",
              "        vertical-align: middle;\n",
              "    }\n",
              "\n",
              "    .dataframe tbody tr th {\n",
              "        vertical-align: top;\n",
              "    }\n",
              "\n",
              "    .dataframe thead th {\n",
              "        text-align: right;\n",
              "    }\n",
              "</style>\n",
              "<table border=\"1\" class=\"dataframe\">\n",
              "  <thead>\n",
              "    <tr style=\"text-align: right;\">\n",
              "      <th></th>\n",
              "      <th>0</th>\n",
              "      <th>0</th>\n",
              "    </tr>\n",
              "  </thead>\n",
              "  <tbody>\n",
              "    <tr>\n",
              "      <th>0</th>\n",
              "      <td>Hour</td>\n",
              "      <td>8.686314</td>\n",
              "    </tr>\n",
              "    <tr>\n",
              "      <th>1</th>\n",
              "      <td>Temperature</td>\n",
              "      <td>18.038300</td>\n",
              "    </tr>\n",
              "    <tr>\n",
              "      <th>2</th>\n",
              "      <td>Pressure</td>\n",
              "      <td>57.620327</td>\n",
              "    </tr>\n",
              "    <tr>\n",
              "      <th>3</th>\n",
              "      <td>Solar Zenith Angle</td>\n",
              "      <td>18.748623</td>\n",
              "    </tr>\n",
              "    <tr>\n",
              "      <th>4</th>\n",
              "      <td>Precipitable Water</td>\n",
              "      <td>11.832077</td>\n",
              "    </tr>\n",
              "    <tr>\n",
              "      <th>5</th>\n",
              "      <td>Wind Direction</td>\n",
              "      <td>4.612058</td>\n",
              "    </tr>\n",
              "    <tr>\n",
              "      <th>6</th>\n",
              "      <td>Fill Flag</td>\n",
              "      <td>NaN</td>\n",
              "    </tr>\n",
              "  </tbody>\n",
              "</table>\n",
              "</div>\n",
              "      <button class=\"colab-df-convert\" onclick=\"convertToInteractive('df-d7f4da3d-7b8a-42c3-924e-5d9ec092c24d')\"\n",
              "              title=\"Convert this dataframe to an interactive table.\"\n",
              "              style=\"display:none;\">\n",
              "        \n",
              "  <svg xmlns=\"http://www.w3.org/2000/svg\" height=\"24px\"viewBox=\"0 0 24 24\"\n",
              "       width=\"24px\">\n",
              "    <path d=\"M0 0h24v24H0V0z\" fill=\"none\"/>\n",
              "    <path d=\"M18.56 5.44l.94 2.06.94-2.06 2.06-.94-2.06-.94-.94-2.06-.94 2.06-2.06.94zm-11 1L8.5 8.5l.94-2.06 2.06-.94-2.06-.94L8.5 2.5l-.94 2.06-2.06.94zm10 10l.94 2.06.94-2.06 2.06-.94-2.06-.94-.94-2.06-.94 2.06-2.06.94z\"/><path d=\"M17.41 7.96l-1.37-1.37c-.4-.4-.92-.59-1.43-.59-.52 0-1.04.2-1.43.59L10.3 9.45l-7.72 7.72c-.78.78-.78 2.05 0 2.83L4 21.41c.39.39.9.59 1.41.59.51 0 1.02-.2 1.41-.59l7.78-7.78 2.81-2.81c.8-.78.8-2.07 0-2.86zM5.41 20L4 18.59l7.72-7.72 1.47 1.35L5.41 20z\"/>\n",
              "  </svg>\n",
              "      </button>\n",
              "      \n",
              "  <style>\n",
              "    .colab-df-container {\n",
              "      display:flex;\n",
              "      flex-wrap:wrap;\n",
              "      gap: 12px;\n",
              "    }\n",
              "\n",
              "    .colab-df-convert {\n",
              "      background-color: #E8F0FE;\n",
              "      border: none;\n",
              "      border-radius: 50%;\n",
              "      cursor: pointer;\n",
              "      display: none;\n",
              "      fill: #1967D2;\n",
              "      height: 32px;\n",
              "      padding: 0 0 0 0;\n",
              "      width: 32px;\n",
              "    }\n",
              "\n",
              "    .colab-df-convert:hover {\n",
              "      background-color: #E2EBFA;\n",
              "      box-shadow: 0px 1px 2px rgba(60, 64, 67, 0.3), 0px 1px 3px 1px rgba(60, 64, 67, 0.15);\n",
              "      fill: #174EA6;\n",
              "    }\n",
              "\n",
              "    [theme=dark] .colab-df-convert {\n",
              "      background-color: #3B4455;\n",
              "      fill: #D2E3FC;\n",
              "    }\n",
              "\n",
              "    [theme=dark] .colab-df-convert:hover {\n",
              "      background-color: #434B5C;\n",
              "      box-shadow: 0px 1px 3px 1px rgba(0, 0, 0, 0.15);\n",
              "      filter: drop-shadow(0px 1px 2px rgba(0, 0, 0, 0.3));\n",
              "      fill: #FFFFFF;\n",
              "    }\n",
              "  </style>\n",
              "\n",
              "      <script>\n",
              "        const buttonEl =\n",
              "          document.querySelector('#df-d7f4da3d-7b8a-42c3-924e-5d9ec092c24d button.colab-df-convert');\n",
              "        buttonEl.style.display =\n",
              "          google.colab.kernel.accessAllowed ? 'block' : 'none';\n",
              "\n",
              "        async function convertToInteractive(key) {\n",
              "          const element = document.querySelector('#df-d7f4da3d-7b8a-42c3-924e-5d9ec092c24d');\n",
              "          const dataTable =\n",
              "            await google.colab.kernel.invokeFunction('convertToInteractive',\n",
              "                                                     [key], {});\n",
              "          if (!dataTable) return;\n",
              "\n",
              "          const docLinkHtml = 'Like what you see? Visit the ' +\n",
              "            '<a target=\"_blank\" href=https://colab.research.google.com/notebooks/data_table.ipynb>data table notebook</a>'\n",
              "            + ' to learn more about interactive tables.';\n",
              "          element.innerHTML = '';\n",
              "          dataTable['output_type'] = 'display_data';\n",
              "          await google.colab.output.renderOutput(dataTable, element);\n",
              "          const docLink = document.createElement('div');\n",
              "          docLink.innerHTML = docLinkHtml;\n",
              "          element.appendChild(docLink);\n",
              "        }\n",
              "      </script>\n",
              "    </div>\n",
              "  </div>\n",
              "  "
            ],
            "text/plain": [
              "                    0          0\n",
              "0                Hour   8.686314\n",
              "1         Temperature  18.038300\n",
              "2            Pressure  57.620327\n",
              "3  Solar Zenith Angle  18.748623\n",
              "4  Precipitable Water  11.832077\n",
              "5      Wind Direction   4.612058\n",
              "6           Fill Flag        NaN"
            ]
          },
          "metadata": {},
          "execution_count": 220
        }
      ]
    },
    {
      "cell_type": "code",
      "source": [
        "x_train.head(2)"
      ],
      "metadata": {
        "colab": {
          "base_uri": "https://localhost:8080/",
          "height": 112
        },
        "id": "XFHzTeu9WOPL",
        "outputId": "87005e30-6425-474f-af65-b58b493a9f1d"
      },
      "execution_count": 221,
      "outputs": [
        {
          "output_type": "execute_result",
          "data": {
            "text/html": [
              "\n",
              "  <div id=\"df-26d7f911-8ed3-40f8-b9d0-a1b6f66188f9\">\n",
              "    <div class=\"colab-df-container\">\n",
              "      <div>\n",
              "<style scoped>\n",
              "    .dataframe tbody tr th:only-of-type {\n",
              "        vertical-align: middle;\n",
              "    }\n",
              "\n",
              "    .dataframe tbody tr th {\n",
              "        vertical-align: top;\n",
              "    }\n",
              "\n",
              "    .dataframe thead th {\n",
              "        text-align: right;\n",
              "    }\n",
              "</style>\n",
              "<table border=\"1\" class=\"dataframe\">\n",
              "  <thead>\n",
              "    <tr style=\"text-align: right;\">\n",
              "      <th></th>\n",
              "      <th>Hour</th>\n",
              "      <th>Temperature</th>\n",
              "      <th>Pressure</th>\n",
              "      <th>Solar Zenith Angle</th>\n",
              "      <th>Precipitable Water</th>\n",
              "      <th>Wind Direction</th>\n",
              "      <th>Fill Flag</th>\n",
              "    </tr>\n",
              "  </thead>\n",
              "  <tbody>\n",
              "    <tr>\n",
              "      <th>0</th>\n",
              "      <td>0</td>\n",
              "      <td>5.0</td>\n",
              "      <td>1010</td>\n",
              "      <td>106.15</td>\n",
              "      <td>0.499</td>\n",
              "      <td>346.1</td>\n",
              "      <td>0</td>\n",
              "    </tr>\n",
              "    <tr>\n",
              "      <th>1</th>\n",
              "      <td>0</td>\n",
              "      <td>5.0</td>\n",
              "      <td>1010</td>\n",
              "      <td>112.28</td>\n",
              "      <td>0.490</td>\n",
              "      <td>346.1</td>\n",
              "      <td>0</td>\n",
              "    </tr>\n",
              "  </tbody>\n",
              "</table>\n",
              "</div>\n",
              "      <button class=\"colab-df-convert\" onclick=\"convertToInteractive('df-26d7f911-8ed3-40f8-b9d0-a1b6f66188f9')\"\n",
              "              title=\"Convert this dataframe to an interactive table.\"\n",
              "              style=\"display:none;\">\n",
              "        \n",
              "  <svg xmlns=\"http://www.w3.org/2000/svg\" height=\"24px\"viewBox=\"0 0 24 24\"\n",
              "       width=\"24px\">\n",
              "    <path d=\"M0 0h24v24H0V0z\" fill=\"none\"/>\n",
              "    <path d=\"M18.56 5.44l.94 2.06.94-2.06 2.06-.94-2.06-.94-.94-2.06-.94 2.06-2.06.94zm-11 1L8.5 8.5l.94-2.06 2.06-.94-2.06-.94L8.5 2.5l-.94 2.06-2.06.94zm10 10l.94 2.06.94-2.06 2.06-.94-2.06-.94-.94-2.06-.94 2.06-2.06.94z\"/><path d=\"M17.41 7.96l-1.37-1.37c-.4-.4-.92-.59-1.43-.59-.52 0-1.04.2-1.43.59L10.3 9.45l-7.72 7.72c-.78.78-.78 2.05 0 2.83L4 21.41c.39.39.9.59 1.41.59.51 0 1.02-.2 1.41-.59l7.78-7.78 2.81-2.81c.8-.78.8-2.07 0-2.86zM5.41 20L4 18.59l7.72-7.72 1.47 1.35L5.41 20z\"/>\n",
              "  </svg>\n",
              "      </button>\n",
              "      \n",
              "  <style>\n",
              "    .colab-df-container {\n",
              "      display:flex;\n",
              "      flex-wrap:wrap;\n",
              "      gap: 12px;\n",
              "    }\n",
              "\n",
              "    .colab-df-convert {\n",
              "      background-color: #E8F0FE;\n",
              "      border: none;\n",
              "      border-radius: 50%;\n",
              "      cursor: pointer;\n",
              "      display: none;\n",
              "      fill: #1967D2;\n",
              "      height: 32px;\n",
              "      padding: 0 0 0 0;\n",
              "      width: 32px;\n",
              "    }\n",
              "\n",
              "    .colab-df-convert:hover {\n",
              "      background-color: #E2EBFA;\n",
              "      box-shadow: 0px 1px 2px rgba(60, 64, 67, 0.3), 0px 1px 3px 1px rgba(60, 64, 67, 0.15);\n",
              "      fill: #174EA6;\n",
              "    }\n",
              "\n",
              "    [theme=dark] .colab-df-convert {\n",
              "      background-color: #3B4455;\n",
              "      fill: #D2E3FC;\n",
              "    }\n",
              "\n",
              "    [theme=dark] .colab-df-convert:hover {\n",
              "      background-color: #434B5C;\n",
              "      box-shadow: 0px 1px 3px 1px rgba(0, 0, 0, 0.15);\n",
              "      filter: drop-shadow(0px 1px 2px rgba(0, 0, 0, 0.3));\n",
              "      fill: #FFFFFF;\n",
              "    }\n",
              "  </style>\n",
              "\n",
              "      <script>\n",
              "        const buttonEl =\n",
              "          document.querySelector('#df-26d7f911-8ed3-40f8-b9d0-a1b6f66188f9 button.colab-df-convert');\n",
              "        buttonEl.style.display =\n",
              "          google.colab.kernel.accessAllowed ? 'block' : 'none';\n",
              "\n",
              "        async function convertToInteractive(key) {\n",
              "          const element = document.querySelector('#df-26d7f911-8ed3-40f8-b9d0-a1b6f66188f9');\n",
              "          const dataTable =\n",
              "            await google.colab.kernel.invokeFunction('convertToInteractive',\n",
              "                                                     [key], {});\n",
              "          if (!dataTable) return;\n",
              "\n",
              "          const docLinkHtml = 'Like what you see? Visit the ' +\n",
              "            '<a target=\"_blank\" href=https://colab.research.google.com/notebooks/data_table.ipynb>data table notebook</a>'\n",
              "            + ' to learn more about interactive tables.';\n",
              "          element.innerHTML = '';\n",
              "          dataTable['output_type'] = 'display_data';\n",
              "          await google.colab.output.renderOutput(dataTable, element);\n",
              "          const docLink = document.createElement('div');\n",
              "          docLink.innerHTML = docLinkHtml;\n",
              "          element.appendChild(docLink);\n",
              "        }\n",
              "      </script>\n",
              "    </div>\n",
              "  </div>\n",
              "  "
            ],
            "text/plain": [
              "   Hour  Temperature  Pressure  ...  Precipitable Water  Wind Direction  Fill Flag\n",
              "0     0          5.0      1010  ...               0.499           346.1          0\n",
              "1     0          5.0      1010  ...               0.490           346.1          0\n",
              "\n",
              "[2 rows x 7 columns]"
            ]
          },
          "metadata": {},
          "execution_count": 221
        }
      ]
    },
    {
      "cell_type": "code",
      "source": [
        "y.head(2)"
      ],
      "metadata": {
        "colab": {
          "base_uri": "https://localhost:8080/",
          "height": 112
        },
        "id": "gQ0VsWUsJLJb",
        "outputId": "47539780-8eb4-4bd5-eb81-3bb3ef84091b"
      },
      "execution_count": 222,
      "outputs": [
        {
          "output_type": "execute_result",
          "data": {
            "text/html": [
              "\n",
              "  <div id=\"df-3c4ee518-dca1-4983-927d-5b28eccb141b\">\n",
              "    <div class=\"colab-df-container\">\n",
              "      <div>\n",
              "<style scoped>\n",
              "    .dataframe tbody tr th:only-of-type {\n",
              "        vertical-align: middle;\n",
              "    }\n",
              "\n",
              "    .dataframe tbody tr th {\n",
              "        vertical-align: top;\n",
              "    }\n",
              "\n",
              "    .dataframe thead th {\n",
              "        text-align: right;\n",
              "    }\n",
              "</style>\n",
              "<table border=\"1\" class=\"dataframe\">\n",
              "  <thead>\n",
              "    <tr style=\"text-align: right;\">\n",
              "      <th></th>\n",
              "      <th>Clearsky DHI</th>\n",
              "      <th>Clearsky DNI</th>\n",
              "      <th>Clearsky GHI</th>\n",
              "    </tr>\n",
              "  </thead>\n",
              "  <tbody>\n",
              "    <tr>\n",
              "      <th>0</th>\n",
              "      <td>0</td>\n",
              "      <td>0</td>\n",
              "      <td>0</td>\n",
              "    </tr>\n",
              "    <tr>\n",
              "      <th>1</th>\n",
              "      <td>0</td>\n",
              "      <td>0</td>\n",
              "      <td>0</td>\n",
              "    </tr>\n",
              "  </tbody>\n",
              "</table>\n",
              "</div>\n",
              "      <button class=\"colab-df-convert\" onclick=\"convertToInteractive('df-3c4ee518-dca1-4983-927d-5b28eccb141b')\"\n",
              "              title=\"Convert this dataframe to an interactive table.\"\n",
              "              style=\"display:none;\">\n",
              "        \n",
              "  <svg xmlns=\"http://www.w3.org/2000/svg\" height=\"24px\"viewBox=\"0 0 24 24\"\n",
              "       width=\"24px\">\n",
              "    <path d=\"M0 0h24v24H0V0z\" fill=\"none\"/>\n",
              "    <path d=\"M18.56 5.44l.94 2.06.94-2.06 2.06-.94-2.06-.94-.94-2.06-.94 2.06-2.06.94zm-11 1L8.5 8.5l.94-2.06 2.06-.94-2.06-.94L8.5 2.5l-.94 2.06-2.06.94zm10 10l.94 2.06.94-2.06 2.06-.94-2.06-.94-.94-2.06-.94 2.06-2.06.94z\"/><path d=\"M17.41 7.96l-1.37-1.37c-.4-.4-.92-.59-1.43-.59-.52 0-1.04.2-1.43.59L10.3 9.45l-7.72 7.72c-.78.78-.78 2.05 0 2.83L4 21.41c.39.39.9.59 1.41.59.51 0 1.02-.2 1.41-.59l7.78-7.78 2.81-2.81c.8-.78.8-2.07 0-2.86zM5.41 20L4 18.59l7.72-7.72 1.47 1.35L5.41 20z\"/>\n",
              "  </svg>\n",
              "      </button>\n",
              "      \n",
              "  <style>\n",
              "    .colab-df-container {\n",
              "      display:flex;\n",
              "      flex-wrap:wrap;\n",
              "      gap: 12px;\n",
              "    }\n",
              "\n",
              "    .colab-df-convert {\n",
              "      background-color: #E8F0FE;\n",
              "      border: none;\n",
              "      border-radius: 50%;\n",
              "      cursor: pointer;\n",
              "      display: none;\n",
              "      fill: #1967D2;\n",
              "      height: 32px;\n",
              "      padding: 0 0 0 0;\n",
              "      width: 32px;\n",
              "    }\n",
              "\n",
              "    .colab-df-convert:hover {\n",
              "      background-color: #E2EBFA;\n",
              "      box-shadow: 0px 1px 2px rgba(60, 64, 67, 0.3), 0px 1px 3px 1px rgba(60, 64, 67, 0.15);\n",
              "      fill: #174EA6;\n",
              "    }\n",
              "\n",
              "    [theme=dark] .colab-df-convert {\n",
              "      background-color: #3B4455;\n",
              "      fill: #D2E3FC;\n",
              "    }\n",
              "\n",
              "    [theme=dark] .colab-df-convert:hover {\n",
              "      background-color: #434B5C;\n",
              "      box-shadow: 0px 1px 3px 1px rgba(0, 0, 0, 0.15);\n",
              "      filter: drop-shadow(0px 1px 2px rgba(0, 0, 0, 0.3));\n",
              "      fill: #FFFFFF;\n",
              "    }\n",
              "  </style>\n",
              "\n",
              "      <script>\n",
              "        const buttonEl =\n",
              "          document.querySelector('#df-3c4ee518-dca1-4983-927d-5b28eccb141b button.colab-df-convert');\n",
              "        buttonEl.style.display =\n",
              "          google.colab.kernel.accessAllowed ? 'block' : 'none';\n",
              "\n",
              "        async function convertToInteractive(key) {\n",
              "          const element = document.querySelector('#df-3c4ee518-dca1-4983-927d-5b28eccb141b');\n",
              "          const dataTable =\n",
              "            await google.colab.kernel.invokeFunction('convertToInteractive',\n",
              "                                                     [key], {});\n",
              "          if (!dataTable) return;\n",
              "\n",
              "          const docLinkHtml = 'Like what you see? Visit the ' +\n",
              "            '<a target=\"_blank\" href=https://colab.research.google.com/notebooks/data_table.ipynb>data table notebook</a>'\n",
              "            + ' to learn more about interactive tables.';\n",
              "          element.innerHTML = '';\n",
              "          dataTable['output_type'] = 'display_data';\n",
              "          await google.colab.output.renderOutput(dataTable, element);\n",
              "          const docLink = document.createElement('div');\n",
              "          docLink.innerHTML = docLinkHtml;\n",
              "          element.appendChild(docLink);\n",
              "        }\n",
              "      </script>\n",
              "    </div>\n",
              "  </div>\n",
              "  "
            ],
            "text/plain": [
              "   Clearsky DHI  Clearsky DNI  Clearsky GHI\n",
              "0             0             0             0\n",
              "1             0             0             0"
            ]
          },
          "metadata": {},
          "execution_count": 222
        }
      ]
    },
    {
      "cell_type": "code",
      "source": [
        "x_test_data = df_new_test[df_raw_train.columns[[0,1,2,3,4,8,9,10,11,12,13,14,15,16,17]]]"
      ],
      "metadata": {
        "id": "JKuIphCzG_Ms"
      },
      "execution_count": 55,
      "outputs": []
    },
    {
      "cell_type": "markdown",
      "source": [
        "**Standardization**"
      ],
      "metadata": {
        "id": "Hriv3p83Zeko"
      }
    },
    {
      "cell_type": "code",
      "source": [
        "from sklearn.preprocessing import StandardScaler\n",
        "x_scale_train = StandardScaler().fit_transform(x_train)"
      ],
      "metadata": {
        "id": "kzXvSGeCpowU"
      },
      "execution_count": 223,
      "outputs": []
    },
    {
      "cell_type": "code",
      "source": [
        "from sklearn.preprocessing import StandardScaler\n",
        "x_scale_test = StandardScaler().fit_transform(x_test_data)"
      ],
      "metadata": {
        "id": "6SOleMZG8SXe"
      },
      "execution_count": 126,
      "outputs": []
    },
    {
      "cell_type": "markdown",
      "source": [
        "**Splitting Train and Test**"
      ],
      "metadata": {
        "id": "qKecbWFwZjm9"
      }
    },
    {
      "cell_type": "code",
      "source": [
        "from sklearn.model_selection import train_test_split\n",
        "x_train,x_test,y_train,y_test = train_test_split(x_scale_train,y,test_size=0.25, random_state=20)"
      ],
      "metadata": {
        "id": "__Px7Jxd8uHU"
      },
      "execution_count": 224,
      "outputs": []
    },
    {
      "cell_type": "markdown",
      "source": [
        "**Train Linear Regression Model with train data Data Set**"
      ],
      "metadata": {
        "id": "HzDiaNgLZqgY"
      }
    },
    {
      "cell_type": "code",
      "source": [
        "from sklearn.linear_model import LinearRegression\n",
        "LR = LinearRegression()\n",
        "LR.fit(x_train,y_train)\n",
        "y_pred_lr = LR.predict(x_test)"
      ],
      "metadata": {
        "id": "hEuALNe5gBbn"
      },
      "execution_count": 225,
      "outputs": []
    },
    {
      "cell_type": "code",
      "source": [
        "y_pred_lr"
      ],
      "metadata": {
        "colab": {
          "base_uri": "https://localhost:8080/"
        },
        "id": "pVIYVBjR4ges",
        "outputId": "9273b3bd-735e-428c-bfeb-94ad0d2d5f07"
      },
      "execution_count": 226,
      "outputs": [
        {
          "output_type": "execute_result",
          "data": {
            "text/plain": [
              "array([[  23.26530172,   64.45670532,   61.36660514],\n",
              "       [  -4.58173225, -119.20830117, -125.04756489],\n",
              "       [ 102.83790663,  498.46049449,  468.02076599],\n",
              "       ...,\n",
              "       [  13.23421875,   71.63310506,   18.94716931],\n",
              "       [  64.95303163,  524.83649616,  364.49811414],\n",
              "       [ -47.22150233, -265.90452954, -310.23183416]])"
            ]
          },
          "metadata": {},
          "execution_count": 226
        }
      ]
    },
    {
      "cell_type": "code",
      "source": [
        "from sklearn.metrics import mean_squared_error\n",
        "lr_mse = mean_squared_error(y_test,y_pred_lr)\n",
        "print(lr_mse)"
      ],
      "metadata": {
        "id": "zA60zrbhhLXB",
        "colab": {
          "base_uri": "https://localhost:8080/"
        },
        "outputId": "d33dbdc6-e90f-4d79-d610-2e85812a1978"
      },
      "execution_count": 227,
      "outputs": [
        {
          "output_type": "stream",
          "name": "stdout",
          "text": [
            "14741.075597041427\n"
          ]
        }
      ]
    },
    {
      "cell_type": "code",
      "source": [
        "sub =pd.DataFrame(y_pred_knn_test)"
      ],
      "metadata": {
        "id": "g04caWlxMHS1"
      },
      "execution_count": null,
      "outputs": []
    },
    {
      "cell_type": "markdown",
      "source": [
        "**Export the Submission**"
      ],
      "metadata": {
        "id": "WOcQYtCKSKXg"
      }
    },
    {
      "cell_type": "code",
      "source": [
        "sub.to_excel(r'/content/drive/MyDrive/Hackathon/submission/Final_sub.xlsx', index = False)"
      ],
      "metadata": {
        "id": "eCf3BpzhJVPg"
      },
      "execution_count": null,
      "outputs": []
    },
    {
      "cell_type": "code",
      "source": [
        "from sklearn.svm import SVR\n",
        "sv_reg = SVR()"
      ],
      "metadata": {
        "id": "voLNrbtJjaMl"
      },
      "execution_count": 73,
      "outputs": []
    },
    {
      "cell_type": "code",
      "source": [
        "sv_reg"
      ],
      "metadata": {
        "colab": {
          "base_uri": "https://localhost:8080/"
        },
        "id": "vy0ZCpImknNg",
        "outputId": "7e976604-006b-4953-9e5c-f0082dd16434"
      },
      "execution_count": 74,
      "outputs": [
        {
          "output_type": "execute_result",
          "data": {
            "text/plain": [
              "SVR()"
            ]
          },
          "metadata": {},
          "execution_count": 74
        }
      ]
    },
    {
      "cell_type": "code",
      "source": [
        "y_train.head(2)"
      ],
      "metadata": {
        "colab": {
          "base_uri": "https://localhost:8080/",
          "height": 112
        },
        "id": "PcgJJ2ZHyOjz",
        "outputId": "a5d864dd-a92a-454c-f749-dea8f15b46b8"
      },
      "execution_count": 161,
      "outputs": [
        {
          "output_type": "execute_result",
          "data": {
            "text/html": [
              "\n",
              "  <div id=\"df-23cffab9-f48b-4c24-8c8a-7bc5c94911b2\">\n",
              "    <div class=\"colab-df-container\">\n",
              "      <div>\n",
              "<style scoped>\n",
              "    .dataframe tbody tr th:only-of-type {\n",
              "        vertical-align: middle;\n",
              "    }\n",
              "\n",
              "    .dataframe tbody tr th {\n",
              "        vertical-align: top;\n",
              "    }\n",
              "\n",
              "    .dataframe thead th {\n",
              "        text-align: right;\n",
              "    }\n",
              "</style>\n",
              "<table border=\"1\" class=\"dataframe\">\n",
              "  <thead>\n",
              "    <tr style=\"text-align: right;\">\n",
              "      <th></th>\n",
              "      <th>Clearsky DHI</th>\n",
              "      <th>Clearsky DNI</th>\n",
              "      <th>Clearsky GHI</th>\n",
              "    </tr>\n",
              "  </thead>\n",
              "  <tbody>\n",
              "    <tr>\n",
              "      <th>133645</th>\n",
              "      <td>0</td>\n",
              "      <td>0</td>\n",
              "      <td>0</td>\n",
              "    </tr>\n",
              "    <tr>\n",
              "      <th>76270</th>\n",
              "      <td>76</td>\n",
              "      <td>487</td>\n",
              "      <td>208</td>\n",
              "    </tr>\n",
              "  </tbody>\n",
              "</table>\n",
              "</div>\n",
              "      <button class=\"colab-df-convert\" onclick=\"convertToInteractive('df-23cffab9-f48b-4c24-8c8a-7bc5c94911b2')\"\n",
              "              title=\"Convert this dataframe to an interactive table.\"\n",
              "              style=\"display:none;\">\n",
              "        \n",
              "  <svg xmlns=\"http://www.w3.org/2000/svg\" height=\"24px\"viewBox=\"0 0 24 24\"\n",
              "       width=\"24px\">\n",
              "    <path d=\"M0 0h24v24H0V0z\" fill=\"none\"/>\n",
              "    <path d=\"M18.56 5.44l.94 2.06.94-2.06 2.06-.94-2.06-.94-.94-2.06-.94 2.06-2.06.94zm-11 1L8.5 8.5l.94-2.06 2.06-.94-2.06-.94L8.5 2.5l-.94 2.06-2.06.94zm10 10l.94 2.06.94-2.06 2.06-.94-2.06-.94-.94-2.06-.94 2.06-2.06.94z\"/><path d=\"M17.41 7.96l-1.37-1.37c-.4-.4-.92-.59-1.43-.59-.52 0-1.04.2-1.43.59L10.3 9.45l-7.72 7.72c-.78.78-.78 2.05 0 2.83L4 21.41c.39.39.9.59 1.41.59.51 0 1.02-.2 1.41-.59l7.78-7.78 2.81-2.81c.8-.78.8-2.07 0-2.86zM5.41 20L4 18.59l7.72-7.72 1.47 1.35L5.41 20z\"/>\n",
              "  </svg>\n",
              "      </button>\n",
              "      \n",
              "  <style>\n",
              "    .colab-df-container {\n",
              "      display:flex;\n",
              "      flex-wrap:wrap;\n",
              "      gap: 12px;\n",
              "    }\n",
              "\n",
              "    .colab-df-convert {\n",
              "      background-color: #E8F0FE;\n",
              "      border: none;\n",
              "      border-radius: 50%;\n",
              "      cursor: pointer;\n",
              "      display: none;\n",
              "      fill: #1967D2;\n",
              "      height: 32px;\n",
              "      padding: 0 0 0 0;\n",
              "      width: 32px;\n",
              "    }\n",
              "\n",
              "    .colab-df-convert:hover {\n",
              "      background-color: #E2EBFA;\n",
              "      box-shadow: 0px 1px 2px rgba(60, 64, 67, 0.3), 0px 1px 3px 1px rgba(60, 64, 67, 0.15);\n",
              "      fill: #174EA6;\n",
              "    }\n",
              "\n",
              "    [theme=dark] .colab-df-convert {\n",
              "      background-color: #3B4455;\n",
              "      fill: #D2E3FC;\n",
              "    }\n",
              "\n",
              "    [theme=dark] .colab-df-convert:hover {\n",
              "      background-color: #434B5C;\n",
              "      box-shadow: 0px 1px 3px 1px rgba(0, 0, 0, 0.15);\n",
              "      filter: drop-shadow(0px 1px 2px rgba(0, 0, 0, 0.3));\n",
              "      fill: #FFFFFF;\n",
              "    }\n",
              "  </style>\n",
              "\n",
              "      <script>\n",
              "        const buttonEl =\n",
              "          document.querySelector('#df-23cffab9-f48b-4c24-8c8a-7bc5c94911b2 button.colab-df-convert');\n",
              "        buttonEl.style.display =\n",
              "          google.colab.kernel.accessAllowed ? 'block' : 'none';\n",
              "\n",
              "        async function convertToInteractive(key) {\n",
              "          const element = document.querySelector('#df-23cffab9-f48b-4c24-8c8a-7bc5c94911b2');\n",
              "          const dataTable =\n",
              "            await google.colab.kernel.invokeFunction('convertToInteractive',\n",
              "                                                     [key], {});\n",
              "          if (!dataTable) return;\n",
              "\n",
              "          const docLinkHtml = 'Like what you see? Visit the ' +\n",
              "            '<a target=\"_blank\" href=https://colab.research.google.com/notebooks/data_table.ipynb>data table notebook</a>'\n",
              "            + ' to learn more about interactive tables.';\n",
              "          element.innerHTML = '';\n",
              "          dataTable['output_type'] = 'display_data';\n",
              "          await google.colab.output.renderOutput(dataTable, element);\n",
              "          const docLink = document.createElement('div');\n",
              "          docLink.innerHTML = docLinkHtml;\n",
              "          element.appendChild(docLink);\n",
              "        }\n",
              "      </script>\n",
              "    </div>\n",
              "  </div>\n",
              "  "
            ],
            "text/plain": [
              "        Clearsky DHI  Clearsky DNI  Clearsky GHI\n",
              "133645             0             0             0\n",
              "76270             76           487           208"
            ]
          },
          "metadata": {},
          "execution_count": 161
        }
      ]
    },
    {
      "cell_type": "code",
      "source": [
        "y_train.head(2)\n",
        "type(y_train)"
      ],
      "metadata": {
        "colab": {
          "base_uri": "https://localhost:8080/"
        },
        "id": "D_nqNLaqyVUJ",
        "outputId": "4ab3d8f3-ce3b-4606-b9c5-813576ff6c64"
      },
      "execution_count": 162,
      "outputs": [
        {
          "output_type": "execute_result",
          "data": {
            "text/plain": [
              "pandas.core.frame.DataFrame"
            ]
          },
          "metadata": {},
          "execution_count": 162
        }
      ]
    },
    {
      "cell_type": "code",
      "source": [
        "sv_reg.fit(x_train,y_train)\n",
        "y_pred_reg = sv_reg.predict(x_test)"
      ],
      "metadata": {
        "colab": {
          "base_uri": "https://localhost:8080/",
          "height": 329
        },
        "id": "XFkmf_RVicey",
        "outputId": "6c7928bb-bd57-4cc4-ab71-7be91245cfec"
      },
      "execution_count": 163,
      "outputs": [
        {
          "output_type": "error",
          "ename": "ValueError",
          "evalue": "ignored",
          "traceback": [
            "\u001b[0;31m---------------------------------------------------------------------------\u001b[0m",
            "\u001b[0;31mValueError\u001b[0m                                Traceback (most recent call last)",
            "\u001b[0;32m<ipython-input-163-1a9d71706b30>\u001b[0m in \u001b[0;36m<module>\u001b[0;34m()\u001b[0m\n\u001b[0;32m----> 1\u001b[0;31m \u001b[0msv_reg\u001b[0m\u001b[0;34m.\u001b[0m\u001b[0mfit\u001b[0m\u001b[0;34m(\u001b[0m\u001b[0mx_train\u001b[0m\u001b[0;34m,\u001b[0m\u001b[0my_train\u001b[0m\u001b[0;34m)\u001b[0m\u001b[0;34m\u001b[0m\u001b[0;34m\u001b[0m\u001b[0m\n\u001b[0m\u001b[1;32m      2\u001b[0m \u001b[0my_pred_reg\u001b[0m \u001b[0;34m=\u001b[0m \u001b[0msv_reg\u001b[0m\u001b[0;34m.\u001b[0m\u001b[0mpredict\u001b[0m\u001b[0;34m(\u001b[0m\u001b[0mx_test\u001b[0m\u001b[0;34m)\u001b[0m\u001b[0;34m\u001b[0m\u001b[0;34m\u001b[0m\u001b[0m\n",
            "\u001b[0;32m/usr/local/lib/python3.7/dist-packages/sklearn/svm/_base.py\u001b[0m in \u001b[0;36mfit\u001b[0;34m(self, X, y, sample_weight)\u001b[0m\n\u001b[1;32m    194\u001b[0m                 \u001b[0morder\u001b[0m\u001b[0;34m=\u001b[0m\u001b[0;34m\"C\"\u001b[0m\u001b[0;34m,\u001b[0m\u001b[0;34m\u001b[0m\u001b[0;34m\u001b[0m\u001b[0m\n\u001b[1;32m    195\u001b[0m                 \u001b[0maccept_sparse\u001b[0m\u001b[0;34m=\u001b[0m\u001b[0;34m\"csr\"\u001b[0m\u001b[0;34m,\u001b[0m\u001b[0;34m\u001b[0m\u001b[0;34m\u001b[0m\u001b[0m\n\u001b[0;32m--> 196\u001b[0;31m                 \u001b[0maccept_large_sparse\u001b[0m\u001b[0;34m=\u001b[0m\u001b[0;32mFalse\u001b[0m\u001b[0;34m,\u001b[0m\u001b[0;34m\u001b[0m\u001b[0;34m\u001b[0m\u001b[0m\n\u001b[0m\u001b[1;32m    197\u001b[0m             )\n\u001b[1;32m    198\u001b[0m \u001b[0;34m\u001b[0m\u001b[0m\n",
            "\u001b[0;32m/usr/local/lib/python3.7/dist-packages/sklearn/base.py\u001b[0m in \u001b[0;36m_validate_data\u001b[0;34m(self, X, y, reset, validate_separately, **check_params)\u001b[0m\n\u001b[1;32m    579\u001b[0m                 \u001b[0my\u001b[0m \u001b[0;34m=\u001b[0m \u001b[0mcheck_array\u001b[0m\u001b[0;34m(\u001b[0m\u001b[0my\u001b[0m\u001b[0;34m,\u001b[0m \u001b[0;34m**\u001b[0m\u001b[0mcheck_y_params\u001b[0m\u001b[0;34m)\u001b[0m\u001b[0;34m\u001b[0m\u001b[0;34m\u001b[0m\u001b[0m\n\u001b[1;32m    580\u001b[0m             \u001b[0;32melse\u001b[0m\u001b[0;34m:\u001b[0m\u001b[0;34m\u001b[0m\u001b[0;34m\u001b[0m\u001b[0m\n\u001b[0;32m--> 581\u001b[0;31m                 \u001b[0mX\u001b[0m\u001b[0;34m,\u001b[0m \u001b[0my\u001b[0m \u001b[0;34m=\u001b[0m \u001b[0mcheck_X_y\u001b[0m\u001b[0;34m(\u001b[0m\u001b[0mX\u001b[0m\u001b[0;34m,\u001b[0m \u001b[0my\u001b[0m\u001b[0;34m,\u001b[0m \u001b[0;34m**\u001b[0m\u001b[0mcheck_params\u001b[0m\u001b[0;34m)\u001b[0m\u001b[0;34m\u001b[0m\u001b[0;34m\u001b[0m\u001b[0m\n\u001b[0m\u001b[1;32m    582\u001b[0m             \u001b[0mout\u001b[0m \u001b[0;34m=\u001b[0m \u001b[0mX\u001b[0m\u001b[0;34m,\u001b[0m \u001b[0my\u001b[0m\u001b[0;34m\u001b[0m\u001b[0;34m\u001b[0m\u001b[0m\n\u001b[1;32m    583\u001b[0m \u001b[0;34m\u001b[0m\u001b[0m\n",
            "\u001b[0;32m/usr/local/lib/python3.7/dist-packages/sklearn/utils/validation.py\u001b[0m in \u001b[0;36mcheck_X_y\u001b[0;34m(X, y, accept_sparse, accept_large_sparse, dtype, order, copy, force_all_finite, ensure_2d, allow_nd, multi_output, ensure_min_samples, ensure_min_features, y_numeric, estimator)\u001b[0m\n\u001b[1;32m    977\u001b[0m     )\n\u001b[1;32m    978\u001b[0m \u001b[0;34m\u001b[0m\u001b[0m\n\u001b[0;32m--> 979\u001b[0;31m     \u001b[0my\u001b[0m \u001b[0;34m=\u001b[0m \u001b[0m_check_y\u001b[0m\u001b[0;34m(\u001b[0m\u001b[0my\u001b[0m\u001b[0;34m,\u001b[0m \u001b[0mmulti_output\u001b[0m\u001b[0;34m=\u001b[0m\u001b[0mmulti_output\u001b[0m\u001b[0;34m,\u001b[0m \u001b[0my_numeric\u001b[0m\u001b[0;34m=\u001b[0m\u001b[0my_numeric\u001b[0m\u001b[0;34m)\u001b[0m\u001b[0;34m\u001b[0m\u001b[0;34m\u001b[0m\u001b[0m\n\u001b[0m\u001b[1;32m    980\u001b[0m \u001b[0;34m\u001b[0m\u001b[0m\n\u001b[1;32m    981\u001b[0m     \u001b[0mcheck_consistent_length\u001b[0m\u001b[0;34m(\u001b[0m\u001b[0mX\u001b[0m\u001b[0;34m,\u001b[0m \u001b[0my\u001b[0m\u001b[0;34m)\u001b[0m\u001b[0;34m\u001b[0m\u001b[0;34m\u001b[0m\u001b[0m\n",
            "\u001b[0;32m/usr/local/lib/python3.7/dist-packages/sklearn/utils/validation.py\u001b[0m in \u001b[0;36m_check_y\u001b[0;34m(y, multi_output, y_numeric)\u001b[0m\n\u001b[1;32m    991\u001b[0m         )\n\u001b[1;32m    992\u001b[0m     \u001b[0;32melse\u001b[0m\u001b[0;34m:\u001b[0m\u001b[0;34m\u001b[0m\u001b[0;34m\u001b[0m\u001b[0m\n\u001b[0;32m--> 993\u001b[0;31m         \u001b[0my\u001b[0m \u001b[0;34m=\u001b[0m \u001b[0mcolumn_or_1d\u001b[0m\u001b[0;34m(\u001b[0m\u001b[0my\u001b[0m\u001b[0;34m,\u001b[0m \u001b[0mwarn\u001b[0m\u001b[0;34m=\u001b[0m\u001b[0;32mTrue\u001b[0m\u001b[0;34m)\u001b[0m\u001b[0;34m\u001b[0m\u001b[0;34m\u001b[0m\u001b[0m\n\u001b[0m\u001b[1;32m    994\u001b[0m         \u001b[0m_assert_all_finite\u001b[0m\u001b[0;34m(\u001b[0m\u001b[0my\u001b[0m\u001b[0;34m)\u001b[0m\u001b[0;34m\u001b[0m\u001b[0;34m\u001b[0m\u001b[0m\n\u001b[1;32m    995\u001b[0m         \u001b[0m_ensure_no_complex_data\u001b[0m\u001b[0;34m(\u001b[0m\u001b[0my\u001b[0m\u001b[0;34m)\u001b[0m\u001b[0;34m\u001b[0m\u001b[0;34m\u001b[0m\u001b[0m\n",
            "\u001b[0;32m/usr/local/lib/python3.7/dist-packages/sklearn/utils/validation.py\u001b[0m in \u001b[0;36mcolumn_or_1d\u001b[0;34m(y, warn)\u001b[0m\n\u001b[1;32m   1037\u001b[0m \u001b[0;34m\u001b[0m\u001b[0m\n\u001b[1;32m   1038\u001b[0m     raise ValueError(\n\u001b[0;32m-> 1039\u001b[0;31m         \u001b[0;34m\"y should be a 1d array, got an array of shape {} instead.\"\u001b[0m\u001b[0;34m.\u001b[0m\u001b[0mformat\u001b[0m\u001b[0;34m(\u001b[0m\u001b[0mshape\u001b[0m\u001b[0;34m)\u001b[0m\u001b[0;34m\u001b[0m\u001b[0;34m\u001b[0m\u001b[0m\n\u001b[0m\u001b[1;32m   1040\u001b[0m     )\n\u001b[1;32m   1041\u001b[0m \u001b[0;34m\u001b[0m\u001b[0m\n",
            "\u001b[0;31mValueError\u001b[0m: y should be a 1d array, got an array of shape (120440, 3) instead."
          ]
        }
      ]
    },
    {
      "cell_type": "code",
      "source": [
        "SVM_acc = accuracy_score(y_test,y_pred_sv)\n",
        "print(SVM_acc)\n",
        "SVM_cm = confusion_matrix(y_test,y_pred_sv)\n",
        "print(SVM_cm)\n",
        "SVM_cr = classification_report(y_test,y_pred_sv)\n",
        "print(SVM_cr)"
      ],
      "metadata": {
        "colab": {
          "base_uri": "https://localhost:8080/"
        },
        "id": "oxW2BCFLko87",
        "outputId": "15f0db9e-7a88-4c14-8eb3-9c8f06e17bb7"
      },
      "execution_count": null,
      "outputs": [
        {
          "output_type": "stream",
          "name": "stdout",
          "text": [
            "0.5277350558802419\n",
            "[[3410   24 1289  146]\n",
            " [ 146  103  134   46]\n",
            " [2064   37 1481   88]\n",
            " [ 497   23  112  153]]\n",
            "              precision    recall  f1-score   support\n",
            "\n",
            "           a       0.56      0.70      0.62      4869\n",
            "           s       0.55      0.24      0.33       429\n",
            "           u       0.49      0.40      0.44      3670\n",
            "           w       0.35      0.19      0.25       785\n",
            "\n",
            "    accuracy                           0.53      9753\n",
            "   macro avg       0.49      0.38      0.41      9753\n",
            "weighted avg       0.52      0.53      0.51      9753\n",
            "\n"
          ]
        }
      ]
    },
    {
      "cell_type": "code",
      "source": [
        "y_pred_sv_test = sv_clf.predict(x_scale_test)"
      ],
      "metadata": {
        "id": "BB559Xwl7ZOk"
      },
      "execution_count": null,
      "outputs": []
    },
    {
      "cell_type": "code",
      "source": [
        "y_pred_sv_test"
      ],
      "metadata": {
        "colab": {
          "base_uri": "https://localhost:8080/"
        },
        "id": "NmZAwF3Y7i33",
        "outputId": "8621ab12-d755-4d4c-e684-0718a331ed42"
      },
      "execution_count": null,
      "outputs": [
        {
          "output_type": "execute_result",
          "data": {
            "text/plain": [
              "array(['u', 'a', 'a', ..., 'a', 'u', 'u'], dtype=object)"
            ]
          },
          "metadata": {},
          "execution_count": 186
        }
      ]
    },
    {
      "cell_type": "markdown",
      "source": [
        "**Model fitting of training Data Set with Decision Tree**"
      ],
      "metadata": {
        "id": "-fBIbx-Oa8ny"
      }
    },
    {
      "cell_type": "code",
      "source": [
        "from sklearn.tree import DecisionTreeRegressor\n",
        "DT = DecisionTreeRegressor()\n"
      ],
      "metadata": {
        "id": "GFeaPfqPCl7x"
      },
      "execution_count": 228,
      "outputs": []
    },
    {
      "cell_type": "code",
      "source": [
        "DT"
      ],
      "metadata": {
        "colab": {
          "base_uri": "https://localhost:8080/"
        },
        "id": "IDU7LEGekE5m",
        "outputId": "a8176dd0-f948-4bd3-8787-ea54baa37d63"
      },
      "execution_count": 229,
      "outputs": [
        {
          "output_type": "execute_result",
          "data": {
            "text/plain": [
              "DecisionTreeRegressor()"
            ]
          },
          "metadata": {},
          "execution_count": 229
        }
      ]
    },
    {
      "cell_type": "code",
      "source": [
        "DT.fit(x_train,y_train)\n",
        "y_pred_dt = DT.predict(x_test)"
      ],
      "metadata": {
        "id": "-BZdKA3Kj5tN"
      },
      "execution_count": 230,
      "outputs": []
    },
    {
      "cell_type": "code",
      "source": [
        "y_pred_dt"
      ],
      "metadata": {
        "colab": {
          "base_uri": "https://localhost:8080/"
        },
        "id": "JUDVUsBdN1Zh",
        "outputId": "a9d548bf-b2c4-4ccd-cfa6-7b2a5548dcba"
      },
      "execution_count": 231,
      "outputs": [
        {
          "output_type": "execute_result",
          "data": {
            "text/plain": [
              "array([[  0.,   0.,   0.],\n",
              "       [  0.,   0.,   0.],\n",
              "       [ 95., 715., 484.],\n",
              "       ...,\n",
              "       [  0.,   0.,   0.],\n",
              "       [ 87., 548., 241.],\n",
              "       [  0.,   0.,   0.]])"
            ]
          },
          "metadata": {},
          "execution_count": 231
        }
      ]
    },
    {
      "cell_type": "code",
      "source": [
        "from sklearn.metrics import mean_squared_error\n",
        "DT_mse = mean_squared_error(y_test,y_pred_dt)\n",
        "print(DT_mse)"
      ],
      "metadata": {
        "id": "Pcr3XqNLOb8O",
        "colab": {
          "base_uri": "https://localhost:8080/"
        },
        "outputId": "beaee21b-a1ae-4fae-8f69-39c0d759137f"
      },
      "execution_count": 232,
      "outputs": [
        {
          "output_type": "stream",
          "name": "stdout",
          "text": [
            "1109.610589417225\n"
          ]
        }
      ]
    },
    {
      "cell_type": "code",
      "source": [
        "DT.tree_.node_count"
      ],
      "metadata": {
        "colab": {
          "base_uri": "https://localhost:8080/"
        },
        "id": "ul3V8VNPadth",
        "outputId": "d0d73363-c56d-4969-9397-01919ce52437"
      },
      "execution_count": 233,
      "outputs": [
        {
          "output_type": "execute_result",
          "data": {
            "text/plain": [
              "112183"
            ]
          },
          "metadata": {},
          "execution_count": 233
        }
      ]
    },
    {
      "cell_type": "code",
      "source": [
        "DT.tree_.max_depth"
      ],
      "metadata": {
        "colab": {
          "base_uri": "https://localhost:8080/"
        },
        "id": "PUg3BJa3aqcp",
        "outputId": "ea7ed57b-62a1-4b7d-8571-f89409bb1b21"
      },
      "execution_count": 234,
      "outputs": [
        {
          "output_type": "execute_result",
          "data": {
            "text/plain": [
              "38"
            ]
          },
          "metadata": {},
          "execution_count": 234
        }
      ]
    },
    {
      "cell_type": "markdown",
      "source": [
        "**Model fitting with Ensemble Methods**"
      ],
      "metadata": {
        "id": "NhbjIHPXbMGb"
      }
    },
    {
      "cell_type": "markdown",
      "source": [
        "**Ada Bosst**"
      ],
      "metadata": {
        "id": "Y3wRkc2Ibq2l"
      }
    },
    {
      "cell_type": "code",
      "source": [
        "from sklearn.ensemble import AdaBoostRegressor\n",
        "ADBR = AdaBoostRegressor(base_estimator=DT, n_estimators=1000)\n"
      ],
      "metadata": {
        "id": "uikal7aBJL1c"
      },
      "execution_count": 132,
      "outputs": []
    },
    {
      "cell_type": "code",
      "source": [
        "ADBR.fit(x_train,y_train)\n",
        "y_pred_adab = ADBR.predict(x_test)"
      ],
      "metadata": {
        "colab": {
          "base_uri": "https://localhost:8080/",
          "height": 329
        },
        "id": "2ZOLH93RpMiW",
        "outputId": "cb37e0b4-41d3-4a01-f34a-b9ced3117051"
      },
      "execution_count": 133,
      "outputs": [
        {
          "output_type": "error",
          "ename": "ValueError",
          "evalue": "ignored",
          "traceback": [
            "\u001b[0;31m---------------------------------------------------------------------------\u001b[0m",
            "\u001b[0;31mValueError\u001b[0m                                Traceback (most recent call last)",
            "\u001b[0;32m<ipython-input-133-0519577fa762>\u001b[0m in \u001b[0;36m<module>\u001b[0;34m()\u001b[0m\n\u001b[0;32m----> 1\u001b[0;31m \u001b[0mADBR\u001b[0m\u001b[0;34m.\u001b[0m\u001b[0mfit\u001b[0m\u001b[0;34m(\u001b[0m\u001b[0mx_train\u001b[0m\u001b[0;34m,\u001b[0m\u001b[0my_train\u001b[0m\u001b[0;34m)\u001b[0m\u001b[0;34m\u001b[0m\u001b[0;34m\u001b[0m\u001b[0m\n\u001b[0m\u001b[1;32m      2\u001b[0m \u001b[0my_pred_adab\u001b[0m \u001b[0;34m=\u001b[0m \u001b[0mADBR\u001b[0m\u001b[0;34m.\u001b[0m\u001b[0mpredict\u001b[0m\u001b[0;34m(\u001b[0m\u001b[0mx_test\u001b[0m\u001b[0;34m)\u001b[0m\u001b[0;34m\u001b[0m\u001b[0;34m\u001b[0m\u001b[0m\n",
            "\u001b[0;32m/usr/local/lib/python3.7/dist-packages/sklearn/ensemble/_weight_boosting.py\u001b[0m in \u001b[0;36mfit\u001b[0;34m(self, X, y, sample_weight)\u001b[0m\n\u001b[1;32m   1063\u001b[0m \u001b[0;34m\u001b[0m\u001b[0m\n\u001b[1;32m   1064\u001b[0m         \u001b[0;31m# Fit\u001b[0m\u001b[0;34m\u001b[0m\u001b[0;34m\u001b[0m\u001b[0;34m\u001b[0m\u001b[0m\n\u001b[0;32m-> 1065\u001b[0;31m         \u001b[0;32mreturn\u001b[0m \u001b[0msuper\u001b[0m\u001b[0;34m(\u001b[0m\u001b[0;34m)\u001b[0m\u001b[0;34m.\u001b[0m\u001b[0mfit\u001b[0m\u001b[0;34m(\u001b[0m\u001b[0mX\u001b[0m\u001b[0;34m,\u001b[0m \u001b[0my\u001b[0m\u001b[0;34m,\u001b[0m \u001b[0msample_weight\u001b[0m\u001b[0;34m)\u001b[0m\u001b[0;34m\u001b[0m\u001b[0;34m\u001b[0m\u001b[0m\n\u001b[0m\u001b[1;32m   1066\u001b[0m \u001b[0;34m\u001b[0m\u001b[0m\n\u001b[1;32m   1067\u001b[0m     \u001b[0;32mdef\u001b[0m \u001b[0m_validate_estimator\u001b[0m\u001b[0;34m(\u001b[0m\u001b[0mself\u001b[0m\u001b[0;34m)\u001b[0m\u001b[0;34m:\u001b[0m\u001b[0;34m\u001b[0m\u001b[0;34m\u001b[0m\u001b[0m\n",
            "\u001b[0;32m/usr/local/lib/python3.7/dist-packages/sklearn/ensemble/_weight_boosting.py\u001b[0m in \u001b[0;36mfit\u001b[0;34m(self, X, y, sample_weight)\u001b[0m\n\u001b[1;32m    121\u001b[0m             \u001b[0mallow_nd\u001b[0m\u001b[0;34m=\u001b[0m\u001b[0;32mTrue\u001b[0m\u001b[0;34m,\u001b[0m\u001b[0;34m\u001b[0m\u001b[0;34m\u001b[0m\u001b[0m\n\u001b[1;32m    122\u001b[0m             \u001b[0mdtype\u001b[0m\u001b[0;34m=\u001b[0m\u001b[0;32mNone\u001b[0m\u001b[0;34m,\u001b[0m\u001b[0;34m\u001b[0m\u001b[0;34m\u001b[0m\u001b[0m\n\u001b[0;32m--> 123\u001b[0;31m             \u001b[0my_numeric\u001b[0m\u001b[0;34m=\u001b[0m\u001b[0mis_regressor\u001b[0m\u001b[0;34m(\u001b[0m\u001b[0mself\u001b[0m\u001b[0;34m)\u001b[0m\u001b[0;34m,\u001b[0m\u001b[0;34m\u001b[0m\u001b[0;34m\u001b[0m\u001b[0m\n\u001b[0m\u001b[1;32m    124\u001b[0m         )\n\u001b[1;32m    125\u001b[0m \u001b[0;34m\u001b[0m\u001b[0m\n",
            "\u001b[0;32m/usr/local/lib/python3.7/dist-packages/sklearn/base.py\u001b[0m in \u001b[0;36m_validate_data\u001b[0;34m(self, X, y, reset, validate_separately, **check_params)\u001b[0m\n\u001b[1;32m    579\u001b[0m                 \u001b[0my\u001b[0m \u001b[0;34m=\u001b[0m \u001b[0mcheck_array\u001b[0m\u001b[0;34m(\u001b[0m\u001b[0my\u001b[0m\u001b[0;34m,\u001b[0m \u001b[0;34m**\u001b[0m\u001b[0mcheck_y_params\u001b[0m\u001b[0;34m)\u001b[0m\u001b[0;34m\u001b[0m\u001b[0;34m\u001b[0m\u001b[0m\n\u001b[1;32m    580\u001b[0m             \u001b[0;32melse\u001b[0m\u001b[0;34m:\u001b[0m\u001b[0;34m\u001b[0m\u001b[0;34m\u001b[0m\u001b[0m\n\u001b[0;32m--> 581\u001b[0;31m                 \u001b[0mX\u001b[0m\u001b[0;34m,\u001b[0m \u001b[0my\u001b[0m \u001b[0;34m=\u001b[0m \u001b[0mcheck_X_y\u001b[0m\u001b[0;34m(\u001b[0m\u001b[0mX\u001b[0m\u001b[0;34m,\u001b[0m \u001b[0my\u001b[0m\u001b[0;34m,\u001b[0m \u001b[0;34m**\u001b[0m\u001b[0mcheck_params\u001b[0m\u001b[0;34m)\u001b[0m\u001b[0;34m\u001b[0m\u001b[0;34m\u001b[0m\u001b[0m\n\u001b[0m\u001b[1;32m    582\u001b[0m             \u001b[0mout\u001b[0m \u001b[0;34m=\u001b[0m \u001b[0mX\u001b[0m\u001b[0;34m,\u001b[0m \u001b[0my\u001b[0m\u001b[0;34m\u001b[0m\u001b[0;34m\u001b[0m\u001b[0m\n\u001b[1;32m    583\u001b[0m \u001b[0;34m\u001b[0m\u001b[0m\n",
            "\u001b[0;32m/usr/local/lib/python3.7/dist-packages/sklearn/utils/validation.py\u001b[0m in \u001b[0;36mcheck_X_y\u001b[0;34m(X, y, accept_sparse, accept_large_sparse, dtype, order, copy, force_all_finite, ensure_2d, allow_nd, multi_output, ensure_min_samples, ensure_min_features, y_numeric, estimator)\u001b[0m\n\u001b[1;32m    977\u001b[0m     )\n\u001b[1;32m    978\u001b[0m \u001b[0;34m\u001b[0m\u001b[0m\n\u001b[0;32m--> 979\u001b[0;31m     \u001b[0my\u001b[0m \u001b[0;34m=\u001b[0m \u001b[0m_check_y\u001b[0m\u001b[0;34m(\u001b[0m\u001b[0my\u001b[0m\u001b[0;34m,\u001b[0m \u001b[0mmulti_output\u001b[0m\u001b[0;34m=\u001b[0m\u001b[0mmulti_output\u001b[0m\u001b[0;34m,\u001b[0m \u001b[0my_numeric\u001b[0m\u001b[0;34m=\u001b[0m\u001b[0my_numeric\u001b[0m\u001b[0;34m)\u001b[0m\u001b[0;34m\u001b[0m\u001b[0;34m\u001b[0m\u001b[0m\n\u001b[0m\u001b[1;32m    980\u001b[0m \u001b[0;34m\u001b[0m\u001b[0m\n\u001b[1;32m    981\u001b[0m     \u001b[0mcheck_consistent_length\u001b[0m\u001b[0;34m(\u001b[0m\u001b[0mX\u001b[0m\u001b[0;34m,\u001b[0m \u001b[0my\u001b[0m\u001b[0;34m)\u001b[0m\u001b[0;34m\u001b[0m\u001b[0;34m\u001b[0m\u001b[0m\n",
            "\u001b[0;32m/usr/local/lib/python3.7/dist-packages/sklearn/utils/validation.py\u001b[0m in \u001b[0;36m_check_y\u001b[0;34m(y, multi_output, y_numeric)\u001b[0m\n\u001b[1;32m    991\u001b[0m         )\n\u001b[1;32m    992\u001b[0m     \u001b[0;32melse\u001b[0m\u001b[0;34m:\u001b[0m\u001b[0;34m\u001b[0m\u001b[0;34m\u001b[0m\u001b[0m\n\u001b[0;32m--> 993\u001b[0;31m         \u001b[0my\u001b[0m \u001b[0;34m=\u001b[0m \u001b[0mcolumn_or_1d\u001b[0m\u001b[0;34m(\u001b[0m\u001b[0my\u001b[0m\u001b[0;34m,\u001b[0m \u001b[0mwarn\u001b[0m\u001b[0;34m=\u001b[0m\u001b[0;32mTrue\u001b[0m\u001b[0;34m)\u001b[0m\u001b[0;34m\u001b[0m\u001b[0;34m\u001b[0m\u001b[0m\n\u001b[0m\u001b[1;32m    994\u001b[0m         \u001b[0m_assert_all_finite\u001b[0m\u001b[0;34m(\u001b[0m\u001b[0my\u001b[0m\u001b[0;34m)\u001b[0m\u001b[0;34m\u001b[0m\u001b[0;34m\u001b[0m\u001b[0m\n\u001b[1;32m    995\u001b[0m         \u001b[0m_ensure_no_complex_data\u001b[0m\u001b[0;34m(\u001b[0m\u001b[0my\u001b[0m\u001b[0;34m)\u001b[0m\u001b[0;34m\u001b[0m\u001b[0;34m\u001b[0m\u001b[0m\n",
            "\u001b[0;32m/usr/local/lib/python3.7/dist-packages/sklearn/utils/validation.py\u001b[0m in \u001b[0;36mcolumn_or_1d\u001b[0;34m(y, warn)\u001b[0m\n\u001b[1;32m   1037\u001b[0m \u001b[0;34m\u001b[0m\u001b[0m\n\u001b[1;32m   1038\u001b[0m     raise ValueError(\n\u001b[0;32m-> 1039\u001b[0;31m         \u001b[0;34m\"y should be a 1d array, got an array of shape {} instead.\"\u001b[0m\u001b[0;34m.\u001b[0m\u001b[0mformat\u001b[0m\u001b[0;34m(\u001b[0m\u001b[0mshape\u001b[0m\u001b[0;34m)\u001b[0m\u001b[0;34m\u001b[0m\u001b[0;34m\u001b[0m\u001b[0m\n\u001b[0m\u001b[1;32m   1040\u001b[0m     )\n\u001b[1;32m   1041\u001b[0m \u001b[0;34m\u001b[0m\u001b[0m\n",
            "\u001b[0;31mValueError\u001b[0m: y should be a 1d array, got an array of shape (120440, 3) instead."
          ]
        }
      ]
    },
    {
      "cell_type": "code",
      "source": [
        "adab_acc = accuracy_score(y_test,y_pred_adab)\n",
        "print(adab_acc)\n",
        "adab_cm = confusion_matrix(y_test,y_pred_adab)\n",
        "print(adab_cm)\n",
        "adab_cr = classification_report(y_test,y_pred_adab)\n",
        "print(adab_cr)"
      ],
      "metadata": {
        "id": "EBAtfcGxKmXk",
        "colab": {
          "base_uri": "https://localhost:8080/"
        },
        "outputId": "bb044c59-376a-4736-a707-96a432db2459"
      },
      "execution_count": null,
      "outputs": [
        {
          "output_type": "stream",
          "name": "stdout",
          "text": [
            "0.5206603096483133\n",
            "[[2816   85 1689  279]\n",
            " [ 103  160  122   44]\n",
            " [1659   92 1831   88]\n",
            " [ 371   32  111  271]]\n",
            "              precision    recall  f1-score   support\n",
            "\n",
            "           a       0.57      0.58      0.57      4869\n",
            "           s       0.43      0.37      0.40       429\n",
            "           u       0.49      0.50      0.49      3670\n",
            "           w       0.40      0.35      0.37       785\n",
            "\n",
            "    accuracy                           0.52      9753\n",
            "   macro avg       0.47      0.45      0.46      9753\n",
            "weighted avg       0.52      0.52      0.52      9753\n",
            "\n"
          ]
        }
      ]
    },
    {
      "cell_type": "markdown",
      "source": [
        "**Gradient Boosting**"
      ],
      "metadata": {
        "id": "qYavOWhibxO2"
      }
    },
    {
      "cell_type": "code",
      "source": [
        "from sklearn.ensemble import GradientBoostingRegressor\n",
        "GRB = GradientBoostingRegressor(loss=\"squared_error\", learning_rate=0.1, n_estimators=100, subsample=1, criterion=\"friedman_mse\", min_samples_split=2, min_samples_leaf=1, min_weight_fraction_leaf=0, max_depth=3, min_impurity_decrease=0, init=None, random_state=None, max_features=None, alpha=0.9, verbose=0, max_leaf_nodes=None, warm_start=False, validation_fraction=0.1, n_iter_no_change=None, tol=0.0001, ccp_alpha=0)\n"
      ],
      "metadata": {
        "id": "p4gF9DRhK2Ht"
      },
      "execution_count": 159,
      "outputs": []
    },
    {
      "cell_type": "code",
      "source": [
        "GradientBoostingRegressor()"
      ],
      "metadata": {
        "colab": {
          "base_uri": "https://localhost:8080/"
        },
        "id": "5Bua9hPVxi2H",
        "outputId": "92f873b0-777c-467d-8886-2f41bf953dbb"
      },
      "execution_count": 158,
      "outputs": [
        {
          "output_type": "execute_result",
          "data": {
            "text/plain": [
              "GradientBoostingRegressor()"
            ]
          },
          "metadata": {},
          "execution_count": 158
        }
      ]
    },
    {
      "cell_type": "code",
      "source": [
        "GRB.fit(x_train,y_train)\n",
        "y_pred_grb= GRB.predict(x_test)"
      ],
      "metadata": {
        "colab": {
          "base_uri": "https://localhost:8080/",
          "height": 329
        },
        "id": "rDMXx8Wnxg3s",
        "outputId": "ceb64f75-32a0-4f85-9cd3-3c6693021299"
      },
      "execution_count": 160,
      "outputs": [
        {
          "output_type": "error",
          "ename": "ValueError",
          "evalue": "ignored",
          "traceback": [
            "\u001b[0;31m---------------------------------------------------------------------------\u001b[0m",
            "\u001b[0;31mValueError\u001b[0m                                Traceback (most recent call last)",
            "\u001b[0;32m<ipython-input-160-0ac712031e2c>\u001b[0m in \u001b[0;36m<module>\u001b[0;34m()\u001b[0m\n\u001b[0;32m----> 1\u001b[0;31m \u001b[0mGRB\u001b[0m\u001b[0;34m.\u001b[0m\u001b[0mfit\u001b[0m\u001b[0;34m(\u001b[0m\u001b[0mx_train\u001b[0m\u001b[0;34m,\u001b[0m\u001b[0my_train\u001b[0m\u001b[0;34m)\u001b[0m\u001b[0;34m\u001b[0m\u001b[0;34m\u001b[0m\u001b[0m\n\u001b[0m\u001b[1;32m      2\u001b[0m \u001b[0my_pred_grb\u001b[0m\u001b[0;34m=\u001b[0m \u001b[0mGRB\u001b[0m\u001b[0;34m.\u001b[0m\u001b[0mpredict\u001b[0m\u001b[0;34m(\u001b[0m\u001b[0mx_test\u001b[0m\u001b[0;34m)\u001b[0m\u001b[0;34m\u001b[0m\u001b[0;34m\u001b[0m\u001b[0m\n",
            "\u001b[0;32m/usr/local/lib/python3.7/dist-packages/sklearn/ensemble/_gb.py\u001b[0m in \u001b[0;36mfit\u001b[0;34m(self, X, y, sample_weight, monitor)\u001b[0m\n\u001b[1;32m    492\u001b[0m         \u001b[0msample_weight\u001b[0m \u001b[0;34m=\u001b[0m \u001b[0m_check_sample_weight\u001b[0m\u001b[0;34m(\u001b[0m\u001b[0msample_weight\u001b[0m\u001b[0;34m,\u001b[0m \u001b[0mX\u001b[0m\u001b[0;34m)\u001b[0m\u001b[0;34m\u001b[0m\u001b[0;34m\u001b[0m\u001b[0m\n\u001b[1;32m    493\u001b[0m \u001b[0;34m\u001b[0m\u001b[0m\n\u001b[0;32m--> 494\u001b[0;31m         \u001b[0my\u001b[0m \u001b[0;34m=\u001b[0m \u001b[0mcolumn_or_1d\u001b[0m\u001b[0;34m(\u001b[0m\u001b[0my\u001b[0m\u001b[0;34m,\u001b[0m \u001b[0mwarn\u001b[0m\u001b[0;34m=\u001b[0m\u001b[0;32mTrue\u001b[0m\u001b[0;34m)\u001b[0m\u001b[0;34m\u001b[0m\u001b[0;34m\u001b[0m\u001b[0m\n\u001b[0m\u001b[1;32m    495\u001b[0m \u001b[0;34m\u001b[0m\u001b[0m\n\u001b[1;32m    496\u001b[0m         \u001b[0;32mif\u001b[0m \u001b[0mis_classifier\u001b[0m\u001b[0;34m(\u001b[0m\u001b[0mself\u001b[0m\u001b[0;34m)\u001b[0m\u001b[0;34m:\u001b[0m\u001b[0;34m\u001b[0m\u001b[0;34m\u001b[0m\u001b[0m\n",
            "\u001b[0;32m/usr/local/lib/python3.7/dist-packages/sklearn/utils/validation.py\u001b[0m in \u001b[0;36mcolumn_or_1d\u001b[0;34m(y, warn)\u001b[0m\n\u001b[1;32m   1037\u001b[0m \u001b[0;34m\u001b[0m\u001b[0m\n\u001b[1;32m   1038\u001b[0m     raise ValueError(\n\u001b[0;32m-> 1039\u001b[0;31m         \u001b[0;34m\"y should be a 1d array, got an array of shape {} instead.\"\u001b[0m\u001b[0;34m.\u001b[0m\u001b[0mformat\u001b[0m\u001b[0;34m(\u001b[0m\u001b[0mshape\u001b[0m\u001b[0;34m)\u001b[0m\u001b[0;34m\u001b[0m\u001b[0;34m\u001b[0m\u001b[0m\n\u001b[0m\u001b[1;32m   1040\u001b[0m     )\n\u001b[1;32m   1041\u001b[0m \u001b[0;34m\u001b[0m\u001b[0m\n",
            "\u001b[0;31mValueError\u001b[0m: y should be a 1d array, got an array of shape (120440, 3) instead."
          ]
        }
      ]
    },
    {
      "cell_type": "code",
      "source": [
        "grb_acc = accuracy_score(y_test,y_pred_grb)\n",
        "print(grb_acc)\n",
        "grb_cm = confusion_matrix(y_test,y_pred_grb)\n",
        "print(grb_cm)\n",
        "grb_cr = classification_report(y_test,y_pred_grb)\n",
        "print(grb_cr)"
      ],
      "metadata": {
        "id": "g2QbKkTNLbPM",
        "colab": {
          "base_uri": "https://localhost:8080/"
        },
        "outputId": "b45e1ca8-f78f-4150-fc5f-89b800414160"
      },
      "execution_count": null,
      "outputs": [
        {
          "output_type": "stream",
          "name": "stdout",
          "text": [
            "0.5166615400389624\n",
            "[[3623   19 1089  138]\n",
            " [ 156  110  148   15]\n",
            " [2393   44 1192   41]\n",
            " [ 560    9  102  114]]\n",
            "              precision    recall  f1-score   support\n",
            "\n",
            "           a       0.54      0.74      0.62      4869\n",
            "           s       0.60      0.26      0.36       429\n",
            "           u       0.47      0.32      0.38      3670\n",
            "           w       0.37      0.15      0.21       785\n",
            "\n",
            "    accuracy                           0.52      9753\n",
            "   macro avg       0.50      0.37      0.39      9753\n",
            "weighted avg       0.50      0.52      0.49      9753\n",
            "\n"
          ]
        }
      ]
    },
    {
      "cell_type": "code",
      "source": [
        "import numpy as np\n",
        "np.arange(0.01,0.2,0.01)\n",
        "range(1,100)"
      ],
      "metadata": {
        "colab": {
          "base_uri": "https://localhost:8080/"
        },
        "id": "G9OS5JVpm7yJ",
        "outputId": "c13e9276-0617-456a-c6a0-6bdb2885f83b"
      },
      "execution_count": null,
      "outputs": [
        {
          "output_type": "execute_result",
          "data": {
            "text/plain": [
              "range(1, 100)"
            ]
          },
          "metadata": {},
          "execution_count": 232
        }
      ]
    },
    {
      "cell_type": "code",
      "source": [
        "np.arange(0.01,0.2,0.01)\n"
      ],
      "metadata": {
        "colab": {
          "base_uri": "https://localhost:8080/"
        },
        "id": "jbff5P_3pwFa",
        "outputId": "176fadd0-5dd1-4601-b54d-f86df57bc003"
      },
      "execution_count": null,
      "outputs": [
        {
          "output_type": "execute_result",
          "data": {
            "text/plain": [
              "array([0.01, 0.02, 0.03, 0.04, 0.05, 0.06, 0.07, 0.08, 0.09, 0.1 , 0.11,\n",
              "       0.12, 0.13, 0.14, 0.15, 0.16, 0.17, 0.18, 0.19])"
            ]
          },
          "metadata": {},
          "execution_count": 233
        }
      ]
    },
    {
      "cell_type": "code",
      "source": [
        "y_test"
      ],
      "metadata": {
        "colab": {
          "base_uri": "https://localhost:8080/"
        },
        "id": "32vC9_D7oo9w",
        "outputId": "998d98ca-3a85-4714-d0b7-874776a030cb"
      },
      "execution_count": null,
      "outputs": [
        {
          "output_type": "execute_result",
          "data": {
            "text/plain": [
              "19893    a\n",
              "32235    a\n",
              "13939    a\n",
              "17470    a\n",
              "22714    u\n",
              "        ..\n",
              "37601    a\n",
              "39691    u\n",
              "640      a\n",
              "32256    u\n",
              "38284    u\n",
              "Name: season, Length: 9753, dtype: object"
            ]
          },
          "metadata": {},
          "execution_count": 226
        }
      ]
    },
    {
      "cell_type": "code",
      "source": [
        "y_pred_grb"
      ],
      "metadata": {
        "colab": {
          "base_uri": "https://localhost:8080/"
        },
        "id": "1H7-paI7ovQB",
        "outputId": "d09bcfd7-3ec3-4147-f5ec-08ca516be8a0"
      },
      "execution_count": null,
      "outputs": [
        {
          "output_type": "execute_result",
          "data": {
            "text/plain": [
              "array(['a', 'a', 'a', ..., 'a', 'a', 'a'], dtype=object)"
            ]
          },
          "metadata": {},
          "execution_count": 227
        }
      ]
    },
    {
      "cell_type": "markdown",
      "source": [
        "**XG Boosting**"
      ],
      "metadata": {
        "id": "lxgS3hdhcEOg"
      }
    },
    {
      "cell_type": "code",
      "source": [
        "from xgboost import XGBClassifier\n",
        "XGB = XGBClassifier()\n",
        "XGB.fit(x_train,y_train)\n",
        "y_pred_xgb= XGB.predict(x_scale_test)"
      ],
      "metadata": {
        "id": "tZtcm_2XMF-_"
      },
      "execution_count": null,
      "outputs": []
    },
    {
      "cell_type": "code",
      "source": [
        "acc_score_xgb = accuracy_score(y_test,y_pred_xgb).round(3)"
      ],
      "metadata": {
        "id": "4yAZ5oXyMphg"
      },
      "execution_count": null,
      "outputs": []
    },
    {
      "cell_type": "code",
      "source": [
        "acc_score_xgb"
      ],
      "metadata": {
        "colab": {
          "base_uri": "https://localhost:8080/"
        },
        "id": "eBiDIUcnM0Ys",
        "outputId": "e1487368-1796-40ae-d913-ff3899072c67"
      },
      "execution_count": null,
      "outputs": [
        {
          "output_type": "execute_result",
          "data": {
            "text/plain": [
              "0.518"
            ]
          },
          "metadata": {},
          "execution_count": 61
        }
      ]
    },
    {
      "cell_type": "markdown",
      "source": [
        "**Model fitting With Bagging**"
      ],
      "metadata": {
        "id": "_quWpRIacYou"
      }
    },
    {
      "cell_type": "code",
      "source": [
        "from sklearn.ensemble import BaggingRegressor\n",
        "Bag= BaggingRegressor(base_estimator=DecisionTreeRegressor(), max_samples=0.9,\n",
        "                  n_estimators=500)"
      ],
      "metadata": {
        "id": "koSENNCBAH9P"
      },
      "execution_count": 235,
      "outputs": []
    },
    {
      "cell_type": "code",
      "source": [
        "Bag.fit(x_train,y_train)"
      ],
      "metadata": {
        "colab": {
          "base_uri": "https://localhost:8080/"
        },
        "id": "lNFuZAr-AP09",
        "outputId": "8f98761f-f8f9-414f-81f0-8940750a8aac"
      },
      "execution_count": 236,
      "outputs": [
        {
          "output_type": "execute_result",
          "data": {
            "text/plain": [
              "BaggingRegressor(base_estimator=DecisionTreeRegressor(), max_samples=0.9,\n",
              "                 n_estimators=500)"
            ]
          },
          "metadata": {},
          "execution_count": 236
        }
      ]
    },
    {
      "cell_type": "code",
      "source": [
        "y_pred_bag= Bag.predict(x_test)"
      ],
      "metadata": {
        "id": "8o7uemiEAlUt"
      },
      "execution_count": 237,
      "outputs": []
    },
    {
      "cell_type": "code",
      "source": [
        "y_pred_bag"
      ],
      "metadata": {
        "colab": {
          "base_uri": "https://localhost:8080/"
        },
        "id": "iJFzVyqWr9aC",
        "outputId": "4c9b7280-d98c-40b1-d40b-702e92ef669a"
      },
      "execution_count": 238,
      "outputs": [
        {
          "output_type": "execute_result",
          "data": {
            "text/plain": [
              "array([[  0.   ,   0.   ,   0.   ],\n",
              "       [  0.   ,   0.   ,   0.   ],\n",
              "       [126.7  , 640.078, 478.716],\n",
              "       ...,\n",
              "       [  0.   ,   0.   ,   0.   ],\n",
              "       [ 58.794, 704.074, 244.488],\n",
              "       [  0.   ,   0.   ,   0.   ]])"
            ]
          },
          "metadata": {},
          "execution_count": 238
        }
      ]
    },
    {
      "cell_type": "code",
      "source": [
        "bag_mse = mean_squared_error(y_test,y_pred_bag)\n",
        "print(bag_mse)"
      ],
      "metadata": {
        "id": "7mjvO2dkA-rz",
        "colab": {
          "base_uri": "https://localhost:8080/"
        },
        "outputId": "4404fcd4-4bec-4b6b-810f-7f64971d6972"
      },
      "execution_count": 239,
      "outputs": [
        {
          "output_type": "stream",
          "name": "stdout",
          "text": [
            "582.502888575783\n"
          ]
        }
      ]
    },
    {
      "cell_type": "code",
      "source": [
        "import numpy as np\n",
        "mse_bag=[]\n",
        "settings = np.arange(0.1,1,0.1)"
      ],
      "metadata": {
        "id": "EKBGIowmBOV3"
      },
      "execution_count": 144,
      "outputs": []
    },
    {
      "cell_type": "markdown",
      "source": [
        "No need to code Random State incase of Bagging. Bagging Will take care of Sample by default."
      ],
      "metadata": {
        "id": "I2PAcbYJj_AO"
      }
    },
    {
      "cell_type": "code",
      "source": [
        "for i in settings:\n",
        "    bag =BaggingRegressor(base_estimator=DT, max_samples=i, n_estimators=10)\n",
        "    bag.fit(x_train,y_train)\n",
        "    y_pred_bg = bag.predict(x_test)\n",
        "    mse_bag.append(mean_squared_error(y_test,y_pred_bag))\n",
        "print(mse_bag)"
      ],
      "metadata": {
        "id": "5Nf4UyidBhSk",
        "colab": {
          "base_uri": "https://localhost:8080/"
        },
        "outputId": "c4072717-42a1-40dc-8c4b-69154c7ac3a1"
      },
      "execution_count": 145,
      "outputs": [
        {
          "output_type": "stream",
          "name": "stdout",
          "text": [
            "[452.4702890628939, 452.4702890628939, 452.4702890628939, 452.4702890628939, 452.4702890628939, 452.4702890628939, 452.4702890628939, 452.4702890628939, 452.4702890628939]\n"
          ]
        }
      ]
    },
    {
      "cell_type": "code",
      "source": [
        "import matplotlib.pyplot as plt\n",
        "plt.plot(settings,mse_bag)\n",
        "plt.legend()\n",
        "plt.show()"
      ],
      "metadata": {
        "colab": {
          "base_uri": "https://localhost:8080/",
          "height": 283
        },
        "id": "DSggoZcctNM6",
        "outputId": "cb4095e3-6477-4d61-d223-50ec11396517"
      },
      "execution_count": 147,
      "outputs": [
        {
          "output_type": "stream",
          "name": "stderr",
          "text": [
            "No handles with labels found to put in legend.\n"
          ]
        },
        {
          "output_type": "display_data",
          "data": {
            "image/png": "[encoded data removed]",
            "text/plain": [
              "<Figure size 432x288 with 1 Axes>"
            ]
          },
          "metadata": {
            "needs_background": "light"
          }
        }
      ]
    },
    {
      "cell_type": "markdown",
      "source": [
        "**Random Forest**"
      ],
      "metadata": {
        "id": "13bZw9p1sYN3"
      }
    },
    {
      "cell_type": "code",
      "source": [
        "from sklearn.ensemble import RandomForestRegressor\n",
        "RF = RandomForestRegressor(max_features=0.6, n_estimators=100)\n",
        "RF.fit(x_train,y_train)\n",
        "y_RF_pred = RF.predict(x_test)"
      ],
      "metadata": {
        "id": "Fn0MyjscsXLX"
      },
      "execution_count": 148,
      "outputs": []
    },
    {
      "cell_type": "code",
      "source": [
        "rf_mse = mean_squared_error(y_test,y_RF_pred)"
      ],
      "metadata": {
        "id": "bQ0ifFB2t8mY"
      },
      "execution_count": 149,
      "outputs": []
    },
    {
      "cell_type": "code",
      "source": [
        "rf_mse"
      ],
      "metadata": {
        "colab": {
          "base_uri": "https://localhost:8080/"
        },
        "id": "ZCPsi8YquPDi",
        "outputId": "09e94987-b35b-42da-e2a8-f6f7de63bb4f"
      },
      "execution_count": 150,
      "outputs": [
        {
          "output_type": "execute_result",
          "data": {
            "text/plain": [
              "442.38205300271534"
            ]
          },
          "metadata": {},
          "execution_count": 150
        }
      ]
    },
    {
      "cell_type": "code",
      "source": [
        "RF_MSE = []\n",
        "setting = np.arange(0.1,1,0.1)\n",
        "for i in setting:\n",
        "    RF = RandomForestRegressor(max_features=i, n_estimators=100)\n",
        "    RF.fit(x_train,y_train)\n",
        "    RF_pred = RF.predict(x_test)\n",
        "    RF_MSE.append(mean_squared_error(y_test,y_RF_pred))\n",
        "print(RF_MSE)"
      ],
      "metadata": {
        "colab": {
          "base_uri": "https://localhost:8080/"
        },
        "id": "UkhNB62-ste7",
        "outputId": "d7094ca9-92a3-478a-deb9-4b1bb7f5571f"
      },
      "execution_count": 152,
      "outputs": [
        {
          "output_type": "stream",
          "name": "stdout",
          "text": [
            "[442.38205300271534, 442.38205300271534, 442.38205300271534, 442.38205300271534, 442.38205300271534, 442.38205300271534, 442.38205300271534, 442.38205300271534, 442.38205300271534]\n"
          ]
        }
      ]
    }
  ]
}