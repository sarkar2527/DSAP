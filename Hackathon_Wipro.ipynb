{
  "nbformat": 4,
  "nbformat_minor": 0,
  "metadata": {
    "colab": {
      "name": "Hackathon_Wipro.ipynb",
      "provenance": [],
      "collapsed_sections": [],
      "mount_file_id": "1zdvbve-lg5KR03uKf-aQ6bwlPane3W4s",
      "authorship_tag": "ABX9TyOxw/DvW59q9n3UwVwpGHnq",
      "include_colab_link": true
    },
    "kernelspec": {
      "name": "python3",
      "display_name": "Python 3"
    },
    "language_info": {
      "name": "python"
    }
  },
  "cells": [
    {
      "cell_type": "markdown",
      "metadata": {
        "id": "view-in-github",
        "colab_type": "text"
      },
      "source": [
        "<a href=\"https://colab.research.google.com/github/sarkar2527/DSAP/blob/main/Hackathon_Wipro.ipynb\" target=\"_parent\"><img src=\"https://colab.research.google.com/assets/colab-badge.svg\" alt=\"Open In Colab\"/></a>"
      ]
    },
    {
      "cell_type": "code",
      "execution_count": 50,
      "metadata": {
        "colab": {
          "base_uri": "https://localhost:8080/"
        },
        "id": "2EYuzhiBnG5p",
        "outputId": "aae316ff-3622-4018-c601-43961a0045c9"
      },
      "outputs": [
        {
          "output_type": "stream",
          "name": "stdout",
          "text": [
            "Drive already mounted at /content/drive; to attempt to forcibly remount, call drive.mount(\"/content/drive\", force_remount=True).\n"
          ]
        }
      ],
      "source": [
        "from google.colab import drive\n",
        "drive.mount('/content/drive')"
      ]
    },
    {
      "cell_type": "markdown",
      "source": [
        "**Reading the DataSet**"
      ],
      "metadata": {
        "id": "2vtLrY0eVyto"
      }
    },
    {
      "cell_type": "code",
      "source": [
        "import pandas as pd\n",
        "df_raw_train=pd.read_csv(\"/content/drive/MyDrive/Hackathon/Hackathon_Wipro/train (1).csv\")"
      ],
      "metadata": {
        "id": "kJ3JqX9Env-9"
      },
      "execution_count": 99,
      "outputs": []
    },
    {
      "cell_type": "code",
      "source": [
        "df_raw_test=pd.read_csv(\"/content/drive/MyDrive/Hackathon/Hackathon_Wipro/test (1).csv\")"
      ],
      "metadata": {
        "id": "dHwmVMVE0a0W"
      },
      "execution_count": 100,
      "outputs": []
    },
    {
      "cell_type": "code",
      "source": [
        "df_raw_train.shape"
      ],
      "metadata": {
        "colab": {
          "base_uri": "https://localhost:8080/"
        },
        "id": "_u5DAayCn-o0",
        "outputId": "590d9b90-8d77-4544-a531-ec989bf36149"
      },
      "execution_count": 101,
      "outputs": [
        {
          "output_type": "execute_result",
          "data": {
            "text/plain": [
              "(175296, 18)"
            ]
          },
          "metadata": {},
          "execution_count": 101
        }
      ]
    },
    {
      "cell_type": "code",
      "source": [
        "df_raw_test.shape"
      ],
      "metadata": {
        "colab": {
          "base_uri": "https://localhost:8080/"
        },
        "id": "xA1sqeg40uj7",
        "outputId": "48dd8ca8-4760-40cc-f92a-bafc1322519c"
      },
      "execution_count": 102,
      "outputs": [
        {
          "output_type": "execute_result",
          "data": {
            "text/plain": [
              "(17520, 18)"
            ]
          },
          "metadata": {},
          "execution_count": 102
        }
      ]
    },
    {
      "cell_type": "code",
      "source": [
        "df_raw_train.head()"
      ],
      "metadata": {
        "colab": {
          "base_uri": "https://localhost:8080/",
          "height": 305
        },
        "id": "DUrQWa-uoDjh",
        "outputId": "36d9e13d-c7d9-4c61-cd1b-10888c0fc803"
      },
      "execution_count": 103,
      "outputs": [
        {
          "output_type": "execute_result",
          "data": {
            "text/html": [
              "\n",
              "  <div id=\"df-94021c02-1ded-48d7-a118-2f1580fcb369\">\n",
              "    <div class=\"colab-df-container\">\n",
              "      <div>\n",
              "<style scoped>\n",
              "    .dataframe tbody tr th:only-of-type {\n",
              "        vertical-align: middle;\n",
              "    }\n",
              "\n",
              "    .dataframe tbody tr th {\n",
              "        vertical-align: top;\n",
              "    }\n",
              "\n",
              "    .dataframe thead th {\n",
              "        text-align: right;\n",
              "    }\n",
              "</style>\n",
              "<table border=\"1\" class=\"dataframe\">\n",
              "  <thead>\n",
              "    <tr style=\"text-align: right;\">\n",
              "      <th></th>\n",
              "      <th>Year</th>\n",
              "      <th>Month</th>\n",
              "      <th>Day</th>\n",
              "      <th>Hour</th>\n",
              "      <th>Minute</th>\n",
              "      <th>Clearsky DHI</th>\n",
              "      <th>Clearsky DNI</th>\n",
              "      <th>Clearsky GHI</th>\n",
              "      <th>Cloud Type</th>\n",
              "      <th>Dew Point</th>\n",
              "      <th>Temperature</th>\n",
              "      <th>Pressure</th>\n",
              "      <th>Relative Humidity</th>\n",
              "      <th>Solar Zenith Angle</th>\n",
              "      <th>Precipitable Water</th>\n",
              "      <th>Wind Direction</th>\n",
              "      <th>Wind Speed</th>\n",
              "      <th>Fill Flag</th>\n",
              "    </tr>\n",
              "  </thead>\n",
              "  <tbody>\n",
              "    <tr>\n",
              "      <th>0</th>\n",
              "      <td>2009</td>\n",
              "      <td>1</td>\n",
              "      <td>1</td>\n",
              "      <td>0</td>\n",
              "      <td>0</td>\n",
              "      <td>0</td>\n",
              "      <td>0</td>\n",
              "      <td>0</td>\n",
              "      <td>0</td>\n",
              "      <td>0.0</td>\n",
              "      <td>5.0</td>\n",
              "      <td>1010</td>\n",
              "      <td>75.34</td>\n",
              "      <td>106.15</td>\n",
              "      <td>0.499</td>\n",
              "      <td>346.1</td>\n",
              "      <td>3.1</td>\n",
              "      <td>0</td>\n",
              "    </tr>\n",
              "    <tr>\n",
              "      <th>1</th>\n",
              "      <td>2009</td>\n",
              "      <td>1</td>\n",
              "      <td>1</td>\n",
              "      <td>0</td>\n",
              "      <td>30</td>\n",
              "      <td>0</td>\n",
              "      <td>0</td>\n",
              "      <td>0</td>\n",
              "      <td>0</td>\n",
              "      <td>1.0</td>\n",
              "      <td>5.0</td>\n",
              "      <td>1010</td>\n",
              "      <td>80.81</td>\n",
              "      <td>112.28</td>\n",
              "      <td>0.490</td>\n",
              "      <td>346.1</td>\n",
              "      <td>3.1</td>\n",
              "      <td>0</td>\n",
              "    </tr>\n",
              "    <tr>\n",
              "      <th>2</th>\n",
              "      <td>2009</td>\n",
              "      <td>1</td>\n",
              "      <td>1</td>\n",
              "      <td>1</td>\n",
              "      <td>0</td>\n",
              "      <td>0</td>\n",
              "      <td>0</td>\n",
              "      <td>0</td>\n",
              "      <td>4</td>\n",
              "      <td>0.0</td>\n",
              "      <td>5.0</td>\n",
              "      <td>1010</td>\n",
              "      <td>78.27</td>\n",
              "      <td>118.50</td>\n",
              "      <td>0.482</td>\n",
              "      <td>347.9</td>\n",
              "      <td>3.2</td>\n",
              "      <td>0</td>\n",
              "    </tr>\n",
              "    <tr>\n",
              "      <th>3</th>\n",
              "      <td>2009</td>\n",
              "      <td>1</td>\n",
              "      <td>1</td>\n",
              "      <td>1</td>\n",
              "      <td>30</td>\n",
              "      <td>0</td>\n",
              "      <td>0</td>\n",
              "      <td>0</td>\n",
              "      <td>4</td>\n",
              "      <td>0.0</td>\n",
              "      <td>4.0</td>\n",
              "      <td>1010</td>\n",
              "      <td>78.27</td>\n",
              "      <td>124.78</td>\n",
              "      <td>0.478</td>\n",
              "      <td>347.9</td>\n",
              "      <td>3.1</td>\n",
              "      <td>0</td>\n",
              "    </tr>\n",
              "    <tr>\n",
              "      <th>4</th>\n",
              "      <td>2009</td>\n",
              "      <td>1</td>\n",
              "      <td>1</td>\n",
              "      <td>2</td>\n",
              "      <td>0</td>\n",
              "      <td>0</td>\n",
              "      <td>0</td>\n",
              "      <td>0</td>\n",
              "      <td>4</td>\n",
              "      <td>0.0</td>\n",
              "      <td>4.0</td>\n",
              "      <td>1010</td>\n",
              "      <td>76.45</td>\n",
              "      <td>131.12</td>\n",
              "      <td>0.475</td>\n",
              "      <td>350.0</td>\n",
              "      <td>3.0</td>\n",
              "      <td>0</td>\n",
              "    </tr>\n",
              "  </tbody>\n",
              "</table>\n",
              "</div>\n",
              "      <button class=\"colab-df-convert\" onclick=\"convertToInteractive('df-94021c02-1ded-48d7-a118-2f1580fcb369')\"\n",
              "              title=\"Convert this dataframe to an interactive table.\"\n",
              "              style=\"display:none;\">\n",
              "        \n",
              "  <svg xmlns=\"http://www.w3.org/2000/svg\" height=\"24px\"viewBox=\"0 0 24 24\"\n",
              "       width=\"24px\">\n",
              "    <path d=\"M0 0h24v24H0V0z\" fill=\"none\"/>\n",
              "    <path d=\"M18.56 5.44l.94 2.06.94-2.06 2.06-.94-2.06-.94-.94-2.06-.94 2.06-2.06.94zm-11 1L8.5 8.5l.94-2.06 2.06-.94-2.06-.94L8.5 2.5l-.94 2.06-2.06.94zm10 10l.94 2.06.94-2.06 2.06-.94-2.06-.94-.94-2.06-.94 2.06-2.06.94z\"/><path d=\"M17.41 7.96l-1.37-1.37c-.4-.4-.92-.59-1.43-.59-.52 0-1.04.2-1.43.59L10.3 9.45l-7.72 7.72c-.78.78-.78 2.05 0 2.83L4 21.41c.39.39.9.59 1.41.59.51 0 1.02-.2 1.41-.59l7.78-7.78 2.81-2.81c.8-.78.8-2.07 0-2.86zM5.41 20L4 18.59l7.72-7.72 1.47 1.35L5.41 20z\"/>\n",
              "  </svg>\n",
              "      </button>\n",
              "      \n",
              "  <style>\n",
              "    .colab-df-container {\n",
              "      display:flex;\n",
              "      flex-wrap:wrap;\n",
              "      gap: 12px;\n",
              "    }\n",
              "\n",
              "    .colab-df-convert {\n",
              "      background-color: #E8F0FE;\n",
              "      border: none;\n",
              "      border-radius: 50%;\n",
              "      cursor: pointer;\n",
              "      display: none;\n",
              "      fill: #1967D2;\n",
              "      height: 32px;\n",
              "      padding: 0 0 0 0;\n",
              "      width: 32px;\n",
              "    }\n",
              "\n",
              "    .colab-df-convert:hover {\n",
              "      background-color: #E2EBFA;\n",
              "      box-shadow: 0px 1px 2px rgba(60, 64, 67, 0.3), 0px 1px 3px 1px rgba(60, 64, 67, 0.15);\n",
              "      fill: #174EA6;\n",
              "    }\n",
              "\n",
              "    [theme=dark] .colab-df-convert {\n",
              "      background-color: #3B4455;\n",
              "      fill: #D2E3FC;\n",
              "    }\n",
              "\n",
              "    [theme=dark] .colab-df-convert:hover {\n",
              "      background-color: #434B5C;\n",
              "      box-shadow: 0px 1px 3px 1px rgba(0, 0, 0, 0.15);\n",
              "      filter: drop-shadow(0px 1px 2px rgba(0, 0, 0, 0.3));\n",
              "      fill: #FFFFFF;\n",
              "    }\n",
              "  </style>\n",
              "\n",
              "      <script>\n",
              "        const buttonEl =\n",
              "          document.querySelector('#df-94021c02-1ded-48d7-a118-2f1580fcb369 button.colab-df-convert');\n",
              "        buttonEl.style.display =\n",
              "          google.colab.kernel.accessAllowed ? 'block' : 'none';\n",
              "\n",
              "        async function convertToInteractive(key) {\n",
              "          const element = document.querySelector('#df-94021c02-1ded-48d7-a118-2f1580fcb369');\n",
              "          const dataTable =\n",
              "            await google.colab.kernel.invokeFunction('convertToInteractive',\n",
              "                                                     [key], {});\n",
              "          if (!dataTable) return;\n",
              "\n",
              "          const docLinkHtml = 'Like what you see? Visit the ' +\n",
              "            '<a target=\"_blank\" href=https://colab.research.google.com/notebooks/data_table.ipynb>data table notebook</a>'\n",
              "            + ' to learn more about interactive tables.';\n",
              "          element.innerHTML = '';\n",
              "          dataTable['output_type'] = 'display_data';\n",
              "          await google.colab.output.renderOutput(dataTable, element);\n",
              "          const docLink = document.createElement('div');\n",
              "          docLink.innerHTML = docLinkHtml;\n",
              "          element.appendChild(docLink);\n",
              "        }\n",
              "      </script>\n",
              "    </div>\n",
              "  </div>\n",
              "  "
            ],
            "text/plain": [
              "   Year  Month  Day  ...  Wind Direction  Wind Speed  Fill Flag\n",
              "0  2009      1    1  ...           346.1         3.1          0\n",
              "1  2009      1    1  ...           346.1         3.1          0\n",
              "2  2009      1    1  ...           347.9         3.2          0\n",
              "3  2009      1    1  ...           347.9         3.1          0\n",
              "4  2009      1    1  ...           350.0         3.0          0\n",
              "\n",
              "[5 rows x 18 columns]"
            ]
          },
          "metadata": {},
          "execution_count": 103
        }
      ]
    },
    {
      "cell_type": "code",
      "source": [
        "df_raw_test.head()"
      ],
      "metadata": {
        "colab": {
          "base_uri": "https://localhost:8080/",
          "height": 305
        },
        "id": "G7pVzPCn04pZ",
        "outputId": "305675ad-181b-4a4b-a974-71895dca5f37"
      },
      "execution_count": 56,
      "outputs": [
        {
          "output_type": "execute_result",
          "data": {
            "text/html": [
              "\n",
              "  <div id=\"df-25027be3-7e4a-4aa9-9108-486af442205b\">\n",
              "    <div class=\"colab-df-container\">\n",
              "      <div>\n",
              "<style scoped>\n",
              "    .dataframe tbody tr th:only-of-type {\n",
              "        vertical-align: middle;\n",
              "    }\n",
              "\n",
              "    .dataframe tbody tr th {\n",
              "        vertical-align: top;\n",
              "    }\n",
              "\n",
              "    .dataframe thead th {\n",
              "        text-align: right;\n",
              "    }\n",
              "</style>\n",
              "<table border=\"1\" class=\"dataframe\">\n",
              "  <thead>\n",
              "    <tr style=\"text-align: right;\">\n",
              "      <th></th>\n",
              "      <th>Year</th>\n",
              "      <th>Month</th>\n",
              "      <th>Day</th>\n",
              "      <th>Hour</th>\n",
              "      <th>Minute</th>\n",
              "      <th>Cloud Type</th>\n",
              "      <th>Dew Point</th>\n",
              "      <th>Temperature</th>\n",
              "      <th>Pressure</th>\n",
              "      <th>Relative Humidity</th>\n",
              "      <th>Solar Zenith Angle</th>\n",
              "      <th>Precipitable Water</th>\n",
              "      <th>Wind Direction</th>\n",
              "      <th>Wind Speed</th>\n",
              "      <th>Fill Flag</th>\n",
              "      <th>Clearsky DHI</th>\n",
              "      <th>Clearsky DNI</th>\n",
              "      <th>Clearsky GHI</th>\n",
              "    </tr>\n",
              "  </thead>\n",
              "  <tbody>\n",
              "    <tr>\n",
              "      <th>0</th>\n",
              "      <td>2019</td>\n",
              "      <td>1</td>\n",
              "      <td>1</td>\n",
              "      <td>0</td>\n",
              "      <td>0</td>\n",
              "      <td>7</td>\n",
              "      <td>18.4</td>\n",
              "      <td>18.8</td>\n",
              "      <td>1008</td>\n",
              "      <td>97.70</td>\n",
              "      <td>106.23</td>\n",
              "      <td>3.5</td>\n",
              "      <td>190</td>\n",
              "      <td>2.3</td>\n",
              "      <td>0</td>\n",
              "      <td>NaN</td>\n",
              "      <td>NaN</td>\n",
              "      <td>NaN</td>\n",
              "    </tr>\n",
              "    <tr>\n",
              "      <th>1</th>\n",
              "      <td>2019</td>\n",
              "      <td>1</td>\n",
              "      <td>1</td>\n",
              "      <td>0</td>\n",
              "      <td>30</td>\n",
              "      <td>3</td>\n",
              "      <td>18.4</td>\n",
              "      <td>18.6</td>\n",
              "      <td>1008</td>\n",
              "      <td>98.92</td>\n",
              "      <td>112.36</td>\n",
              "      <td>3.5</td>\n",
              "      <td>187</td>\n",
              "      <td>2.5</td>\n",
              "      <td>0</td>\n",
              "      <td>NaN</td>\n",
              "      <td>NaN</td>\n",
              "      <td>NaN</td>\n",
              "    </tr>\n",
              "    <tr>\n",
              "      <th>2</th>\n",
              "      <td>2019</td>\n",
              "      <td>1</td>\n",
              "      <td>1</td>\n",
              "      <td>1</td>\n",
              "      <td>0</td>\n",
              "      <td>3</td>\n",
              "      <td>18.2</td>\n",
              "      <td>18.5</td>\n",
              "      <td>1008</td>\n",
              "      <td>98.35</td>\n",
              "      <td>118.58</td>\n",
              "      <td>3.5</td>\n",
              "      <td>184</td>\n",
              "      <td>2.8</td>\n",
              "      <td>0</td>\n",
              "      <td>NaN</td>\n",
              "      <td>NaN</td>\n",
              "      <td>NaN</td>\n",
              "    </tr>\n",
              "    <tr>\n",
              "      <th>3</th>\n",
              "      <td>2019</td>\n",
              "      <td>1</td>\n",
              "      <td>1</td>\n",
              "      <td>1</td>\n",
              "      <td>30</td>\n",
              "      <td>3</td>\n",
              "      <td>18.2</td>\n",
              "      <td>18.3</td>\n",
              "      <td>1008</td>\n",
              "      <td>99.58</td>\n",
              "      <td>124.86</td>\n",
              "      <td>3.5</td>\n",
              "      <td>185</td>\n",
              "      <td>3.0</td>\n",
              "      <td>0</td>\n",
              "      <td>NaN</td>\n",
              "      <td>NaN</td>\n",
              "      <td>NaN</td>\n",
              "    </tr>\n",
              "    <tr>\n",
              "      <th>4</th>\n",
              "      <td>2019</td>\n",
              "      <td>1</td>\n",
              "      <td>1</td>\n",
              "      <td>2</td>\n",
              "      <td>0</td>\n",
              "      <td>0</td>\n",
              "      <td>18.0</td>\n",
              "      <td>18.0</td>\n",
              "      <td>1008</td>\n",
              "      <td>99.71</td>\n",
              "      <td>131.20</td>\n",
              "      <td>3.6</td>\n",
              "      <td>186</td>\n",
              "      <td>3.1</td>\n",
              "      <td>0</td>\n",
              "      <td>NaN</td>\n",
              "      <td>NaN</td>\n",
              "      <td>NaN</td>\n",
              "    </tr>\n",
              "  </tbody>\n",
              "</table>\n",
              "</div>\n",
              "      <button class=\"colab-df-convert\" onclick=\"convertToInteractive('df-25027be3-7e4a-4aa9-9108-486af442205b')\"\n",
              "              title=\"Convert this dataframe to an interactive table.\"\n",
              "              style=\"display:none;\">\n",
              "        \n",
              "  <svg xmlns=\"http://www.w3.org/2000/svg\" height=\"24px\"viewBox=\"0 0 24 24\"\n",
              "       width=\"24px\">\n",
              "    <path d=\"M0 0h24v24H0V0z\" fill=\"none\"/>\n",
              "    <path d=\"M18.56 5.44l.94 2.06.94-2.06 2.06-.94-2.06-.94-.94-2.06-.94 2.06-2.06.94zm-11 1L8.5 8.5l.94-2.06 2.06-.94-2.06-.94L8.5 2.5l-.94 2.06-2.06.94zm10 10l.94 2.06.94-2.06 2.06-.94-2.06-.94-.94-2.06-.94 2.06-2.06.94z\"/><path d=\"M17.41 7.96l-1.37-1.37c-.4-.4-.92-.59-1.43-.59-.52 0-1.04.2-1.43.59L10.3 9.45l-7.72 7.72c-.78.78-.78 2.05 0 2.83L4 21.41c.39.39.9.59 1.41.59.51 0 1.02-.2 1.41-.59l7.78-7.78 2.81-2.81c.8-.78.8-2.07 0-2.86zM5.41 20L4 18.59l7.72-7.72 1.47 1.35L5.41 20z\"/>\n",
              "  </svg>\n",
              "      </button>\n",
              "      \n",
              "  <style>\n",
              "    .colab-df-container {\n",
              "      display:flex;\n",
              "      flex-wrap:wrap;\n",
              "      gap: 12px;\n",
              "    }\n",
              "\n",
              "    .colab-df-convert {\n",
              "      background-color: #E8F0FE;\n",
              "      border: none;\n",
              "      border-radius: 50%;\n",
              "      cursor: pointer;\n",
              "      display: none;\n",
              "      fill: #1967D2;\n",
              "      height: 32px;\n",
              "      padding: 0 0 0 0;\n",
              "      width: 32px;\n",
              "    }\n",
              "\n",
              "    .colab-df-convert:hover {\n",
              "      background-color: #E2EBFA;\n",
              "      box-shadow: 0px 1px 2px rgba(60, 64, 67, 0.3), 0px 1px 3px 1px rgba(60, 64, 67, 0.15);\n",
              "      fill: #174EA6;\n",
              "    }\n",
              "\n",
              "    [theme=dark] .colab-df-convert {\n",
              "      background-color: #3B4455;\n",
              "      fill: #D2E3FC;\n",
              "    }\n",
              "\n",
              "    [theme=dark] .colab-df-convert:hover {\n",
              "      background-color: #434B5C;\n",
              "      box-shadow: 0px 1px 3px 1px rgba(0, 0, 0, 0.15);\n",
              "      filter: drop-shadow(0px 1px 2px rgba(0, 0, 0, 0.3));\n",
              "      fill: #FFFFFF;\n",
              "    }\n",
              "  </style>\n",
              "\n",
              "      <script>\n",
              "        const buttonEl =\n",
              "          document.querySelector('#df-25027be3-7e4a-4aa9-9108-486af442205b button.colab-df-convert');\n",
              "        buttonEl.style.display =\n",
              "          google.colab.kernel.accessAllowed ? 'block' : 'none';\n",
              "\n",
              "        async function convertToInteractive(key) {\n",
              "          const element = document.querySelector('#df-25027be3-7e4a-4aa9-9108-486af442205b');\n",
              "          const dataTable =\n",
              "            await google.colab.kernel.invokeFunction('convertToInteractive',\n",
              "                                                     [key], {});\n",
              "          if (!dataTable) return;\n",
              "\n",
              "          const docLinkHtml = 'Like what you see? Visit the ' +\n",
              "            '<a target=\"_blank\" href=https://colab.research.google.com/notebooks/data_table.ipynb>data table notebook</a>'\n",
              "            + ' to learn more about interactive tables.';\n",
              "          element.innerHTML = '';\n",
              "          dataTable['output_type'] = 'display_data';\n",
              "          await google.colab.output.renderOutput(dataTable, element);\n",
              "          const docLink = document.createElement('div');\n",
              "          docLink.innerHTML = docLinkHtml;\n",
              "          element.appendChild(docLink);\n",
              "        }\n",
              "      </script>\n",
              "    </div>\n",
              "  </div>\n",
              "  "
            ],
            "text/plain": [
              "   Year  Month  Day  Hour  ...  Fill Flag  Clearsky DHI  Clearsky DNI  Clearsky GHI\n",
              "0  2019      1    1     0  ...          0           NaN           NaN           NaN\n",
              "1  2019      1    1     0  ...          0           NaN           NaN           NaN\n",
              "2  2019      1    1     1  ...          0           NaN           NaN           NaN\n",
              "3  2019      1    1     1  ...          0           NaN           NaN           NaN\n",
              "4  2019      1    1     2  ...          0           NaN           NaN           NaN\n",
              "\n",
              "[5 rows x 18 columns]"
            ]
          },
          "metadata": {},
          "execution_count": 56
        }
      ]
    },
    {
      "cell_type": "code",
      "source": [
        "df_raw_train.isna().sum()"
      ],
      "metadata": {
        "colab": {
          "base_uri": "https://localhost:8080/"
        },
        "id": "Rsr14lVooLXx",
        "outputId": "196763e5-e0c1-4087-a40d-00ef50e73f26"
      },
      "execution_count": 104,
      "outputs": [
        {
          "output_type": "execute_result",
          "data": {
            "text/plain": [
              "Year                  0\n",
              "Month                 0\n",
              "Day                   0\n",
              "Hour                  0\n",
              "Minute                0\n",
              "Clearsky DHI          0\n",
              "Clearsky DNI          0\n",
              "Clearsky GHI          0\n",
              "Cloud Type            0\n",
              "Dew Point             0\n",
              "Temperature           0\n",
              "Pressure              0\n",
              "Relative Humidity     0\n",
              "Solar Zenith Angle    0\n",
              "Precipitable Water    0\n",
              "Wind Direction        0\n",
              "Wind Speed            0\n",
              "Fill Flag             0\n",
              "dtype: int64"
            ]
          },
          "metadata": {},
          "execution_count": 104
        }
      ]
    },
    {
      "cell_type": "code",
      "source": [
        "df_raw_test.isna().sum()"
      ],
      "metadata": {
        "colab": {
          "base_uri": "https://localhost:8080/"
        },
        "id": "Mv92SKy61BF5",
        "outputId": "d5f7a181-d83f-49ff-ccce-bffcf4af89e4"
      },
      "execution_count": 105,
      "outputs": [
        {
          "output_type": "execute_result",
          "data": {
            "text/plain": [
              "Year                      0\n",
              "Month                     0\n",
              "Day                       0\n",
              "Hour                      0\n",
              "Minute                    0\n",
              "Cloud Type                0\n",
              "Dew Point                 0\n",
              "Temperature               0\n",
              "Pressure                  0\n",
              "Relative Humidity         0\n",
              "Solar Zenith Angle        0\n",
              "Precipitable Water        0\n",
              "Wind Direction            0\n",
              "Wind Speed                0\n",
              "Fill Flag                 0\n",
              "Clearsky DHI          17520\n",
              "Clearsky DNI          17520\n",
              "Clearsky GHI          17520\n",
              "dtype: int64"
            ]
          },
          "metadata": {},
          "execution_count": 105
        }
      ]
    },
    {
      "cell_type": "code",
      "source": [
        "df_raw_test.drop(df_raw_test.columns[[15, 16, 17]], axis = 1, inplace = True)"
      ],
      "metadata": {
        "id": "vf_wykDVkOGV"
      },
      "execution_count": 106,
      "outputs": []
    },
    {
      "cell_type": "code",
      "source": [
        "df_raw_test.isna().sum()"
      ],
      "metadata": {
        "colab": {
          "base_uri": "https://localhost:8080/"
        },
        "id": "Rm24NY84mlMJ",
        "outputId": "d2e87bf6-f5f0-443d-bfea-fb817e3e9422"
      },
      "execution_count": 107,
      "outputs": [
        {
          "output_type": "execute_result",
          "data": {
            "text/plain": [
              "Year                  0\n",
              "Month                 0\n",
              "Day                   0\n",
              "Hour                  0\n",
              "Minute                0\n",
              "Cloud Type            0\n",
              "Dew Point             0\n",
              "Temperature           0\n",
              "Pressure              0\n",
              "Relative Humidity     0\n",
              "Solar Zenith Angle    0\n",
              "Precipitable Water    0\n",
              "Wind Direction        0\n",
              "Wind Speed            0\n",
              "Fill Flag             0\n",
              "dtype: int64"
            ]
          },
          "metadata": {},
          "execution_count": 107
        }
      ]
    },
    {
      "cell_type": "code",
      "source": [
        "df_raw_train.corr()"
      ],
      "metadata": {
        "colab": {
          "base_uri": "https://localhost:8080/",
          "height": 973
        },
        "id": "mw3KiDw4gHXa",
        "outputId": "9a38f78c-08b0-4a56-b0b3-a184d51d81fc"
      },
      "execution_count": 14,
      "outputs": [
        {
          "output_type": "execute_result",
          "data": {
            "text/html": [
              "\n",
              "  <div id=\"df-25da2343-5ccd-4176-a5ce-d3a1c689df03\">\n",
              "    <div class=\"colab-df-container\">\n",
              "      <div>\n",
              "<style scoped>\n",
              "    .dataframe tbody tr th:only-of-type {\n",
              "        vertical-align: middle;\n",
              "    }\n",
              "\n",
              "    .dataframe tbody tr th {\n",
              "        vertical-align: top;\n",
              "    }\n",
              "\n",
              "    .dataframe thead th {\n",
              "        text-align: right;\n",
              "    }\n",
              "</style>\n",
              "<table border=\"1\" class=\"dataframe\">\n",
              "  <thead>\n",
              "    <tr style=\"text-align: right;\">\n",
              "      <th></th>\n",
              "      <th>Year</th>\n",
              "      <th>Month</th>\n",
              "      <th>Day</th>\n",
              "      <th>Hour</th>\n",
              "      <th>Minute</th>\n",
              "      <th>Clearsky DHI</th>\n",
              "      <th>Clearsky DNI</th>\n",
              "      <th>Clearsky GHI</th>\n",
              "      <th>Cloud Type</th>\n",
              "      <th>Dew Point</th>\n",
              "      <th>Temperature</th>\n",
              "      <th>Pressure</th>\n",
              "      <th>Relative Humidity</th>\n",
              "      <th>Solar Zenith Angle</th>\n",
              "      <th>Precipitable Water</th>\n",
              "      <th>Wind Direction</th>\n",
              "      <th>Wind Speed</th>\n",
              "      <th>Fill Flag</th>\n",
              "    </tr>\n",
              "  </thead>\n",
              "  <tbody>\n",
              "    <tr>\n",
              "      <th>Year</th>\n",
              "      <td>1.000000</td>\n",
              "      <td>-1.250676e-04</td>\n",
              "      <td>1.438112e-04</td>\n",
              "      <td>0.000000e+00</td>\n",
              "      <td>0.000000</td>\n",
              "      <td>-0.027271</td>\n",
              "      <td>0.010488</td>\n",
              "      <td>0.001011</td>\n",
              "      <td>0.059987</td>\n",
              "      <td>0.059990</td>\n",
              "      <td>0.041339</td>\n",
              "      <td>0.170655</td>\n",
              "      <td>0.006729</td>\n",
              "      <td>-0.000043</td>\n",
              "      <td>0.057450</td>\n",
              "      <td>-0.032013</td>\n",
              "      <td>-0.025577</td>\n",
              "      <td>0.132889</td>\n",
              "    </tr>\n",
              "    <tr>\n",
              "      <th>Month</th>\n",
              "      <td>-0.000125</td>\n",
              "      <td>1.000000e+00</td>\n",
              "      <td>1.079604e-02</td>\n",
              "      <td>-2.852658e-19</td>\n",
              "      <td>0.000000</td>\n",
              "      <td>-0.052826</td>\n",
              "      <td>-0.020091</td>\n",
              "      <td>-0.039901</td>\n",
              "      <td>-0.017394</td>\n",
              "      <td>0.146819</td>\n",
              "      <td>0.200660</td>\n",
              "      <td>-0.046228</td>\n",
              "      <td>-0.109397</td>\n",
              "      <td>0.039427</td>\n",
              "      <td>0.180774</td>\n",
              "      <td>-0.132582</td>\n",
              "      <td>-0.097522</td>\n",
              "      <td>0.005900</td>\n",
              "    </tr>\n",
              "    <tr>\n",
              "      <th>Day</th>\n",
              "      <td>0.000144</td>\n",
              "      <td>1.079604e-02</td>\n",
              "      <td>1.000000e+00</td>\n",
              "      <td>-1.030673e-17</td>\n",
              "      <td>0.000000</td>\n",
              "      <td>-0.004006</td>\n",
              "      <td>0.000962</td>\n",
              "      <td>0.000383</td>\n",
              "      <td>0.001174</td>\n",
              "      <td>0.023617</td>\n",
              "      <td>0.022825</td>\n",
              "      <td>-0.040792</td>\n",
              "      <td>0.000032</td>\n",
              "      <td>-0.001020</td>\n",
              "      <td>0.008565</td>\n",
              "      <td>0.006696</td>\n",
              "      <td>-0.006481</td>\n",
              "      <td>-0.001522</td>\n",
              "    </tr>\n",
              "    <tr>\n",
              "      <th>Hour</th>\n",
              "      <td>0.000000</td>\n",
              "      <td>-2.852658e-19</td>\n",
              "      <td>-1.030673e-17</td>\n",
              "      <td>1.000000e+00</td>\n",
              "      <td>0.000000</td>\n",
              "      <td>0.688314</td>\n",
              "      <td>0.738537</td>\n",
              "      <td>0.650697</td>\n",
              "      <td>-0.026036</td>\n",
              "      <td>0.021269</td>\n",
              "      <td>0.281493</td>\n",
              "      <td>-0.027240</td>\n",
              "      <td>-0.496931</td>\n",
              "      <td>-0.732434</td>\n",
              "      <td>0.012487</td>\n",
              "      <td>0.005142</td>\n",
              "      <td>0.247012</td>\n",
              "      <td>0.055630</td>\n",
              "    </tr>\n",
              "    <tr>\n",
              "      <th>Minute</th>\n",
              "      <td>0.000000</td>\n",
              "      <td>0.000000e+00</td>\n",
              "      <td>0.000000e+00</td>\n",
              "      <td>0.000000e+00</td>\n",
              "      <td>1.000000</td>\n",
              "      <td>-0.001514</td>\n",
              "      <td>-0.001348</td>\n",
              "      <td>-0.000164</td>\n",
              "      <td>0.000485</td>\n",
              "      <td>-0.002042</td>\n",
              "      <td>-0.011724</td>\n",
              "      <td>-0.001636</td>\n",
              "      <td>0.018638</td>\n",
              "      <td>-0.000006</td>\n",
              "      <td>-0.000083</td>\n",
              "      <td>0.000011</td>\n",
              "      <td>-0.009258</td>\n",
              "      <td>-0.000929</td>\n",
              "    </tr>\n",
              "    <tr>\n",
              "      <th>Clearsky DHI</th>\n",
              "      <td>-0.027271</td>\n",
              "      <td>-5.282618e-02</td>\n",
              "      <td>-4.005800e-03</td>\n",
              "      <td>6.883137e-01</td>\n",
              "      <td>-0.001514</td>\n",
              "      <td>1.000000</td>\n",
              "      <td>0.860988</td>\n",
              "      <td>0.912991</td>\n",
              "      <td>0.022479</td>\n",
              "      <td>0.222931</td>\n",
              "      <td>0.503409</td>\n",
              "      <td>-0.093766</td>\n",
              "      <td>-0.559766</td>\n",
              "      <td>-0.873421</td>\n",
              "      <td>0.207504</td>\n",
              "      <td>-0.000195</td>\n",
              "      <td>0.315655</td>\n",
              "      <td>0.000740</td>\n",
              "    </tr>\n",
              "    <tr>\n",
              "      <th>Clearsky DNI</th>\n",
              "      <td>0.010488</td>\n",
              "      <td>-2.009111e-02</td>\n",
              "      <td>9.616594e-04</td>\n",
              "      <td>7.385367e-01</td>\n",
              "      <td>-0.001348</td>\n",
              "      <td>0.860988</td>\n",
              "      <td>1.000000</td>\n",
              "      <td>0.927926</td>\n",
              "      <td>-0.073302</td>\n",
              "      <td>0.033601</td>\n",
              "      <td>0.384353</td>\n",
              "      <td>0.007043</td>\n",
              "      <td>-0.680471</td>\n",
              "      <td>-0.886323</td>\n",
              "      <td>-0.002180</td>\n",
              "      <td>0.006256</td>\n",
              "      <td>0.381162</td>\n",
              "      <td>0.006318</td>\n",
              "    </tr>\n",
              "    <tr>\n",
              "      <th>Clearsky GHI</th>\n",
              "      <td>0.001011</td>\n",
              "      <td>-3.990135e-02</td>\n",
              "      <td>3.825070e-04</td>\n",
              "      <td>6.506965e-01</td>\n",
              "      <td>-0.000164</td>\n",
              "      <td>0.912991</td>\n",
              "      <td>0.927926</td>\n",
              "      <td>1.000000</td>\n",
              "      <td>-0.047297</td>\n",
              "      <td>0.140420</td>\n",
              "      <td>0.478273</td>\n",
              "      <td>-0.050556</td>\n",
              "      <td>-0.655765</td>\n",
              "      <td>-0.891033</td>\n",
              "      <td>0.108725</td>\n",
              "      <td>0.004944</td>\n",
              "      <td>0.349180</td>\n",
              "      <td>-0.030297</td>\n",
              "    </tr>\n",
              "    <tr>\n",
              "      <th>Cloud Type</th>\n",
              "      <td>0.059987</td>\n",
              "      <td>-1.739447e-02</td>\n",
              "      <td>1.173973e-03</td>\n",
              "      <td>-2.603568e-02</td>\n",
              "      <td>0.000485</td>\n",
              "      <td>0.022479</td>\n",
              "      <td>-0.073302</td>\n",
              "      <td>-0.047297</td>\n",
              "      <td>1.000000</td>\n",
              "      <td>0.202096</td>\n",
              "      <td>0.066777</td>\n",
              "      <td>-0.137158</td>\n",
              "      <td>0.235374</td>\n",
              "      <td>0.026873</td>\n",
              "      <td>0.326904</td>\n",
              "      <td>-0.081565</td>\n",
              "      <td>0.072632</td>\n",
              "      <td>0.090161</td>\n",
              "    </tr>\n",
              "    <tr>\n",
              "      <th>Dew Point</th>\n",
              "      <td>0.059990</td>\n",
              "      <td>1.468194e-01</td>\n",
              "      <td>2.361671e-02</td>\n",
              "      <td>2.126862e-02</td>\n",
              "      <td>-0.002042</td>\n",
              "      <td>0.222931</td>\n",
              "      <td>0.033601</td>\n",
              "      <td>0.140420</td>\n",
              "      <td>0.202096</td>\n",
              "      <td>1.000000</td>\n",
              "      <td>0.848948</td>\n",
              "      <td>-0.419534</td>\n",
              "      <td>0.193455</td>\n",
              "      <td>-0.222336</td>\n",
              "      <td>0.881881</td>\n",
              "      <td>-0.076357</td>\n",
              "      <td>-0.140699</td>\n",
              "      <td>0.036851</td>\n",
              "    </tr>\n",
              "    <tr>\n",
              "      <th>Temperature</th>\n",
              "      <td>0.041339</td>\n",
              "      <td>2.006604e-01</td>\n",
              "      <td>2.282494e-02</td>\n",
              "      <td>2.814925e-01</td>\n",
              "      <td>-0.011724</td>\n",
              "      <td>0.503409</td>\n",
              "      <td>0.384353</td>\n",
              "      <td>0.478273</td>\n",
              "      <td>0.066777</td>\n",
              "      <td>0.848948</td>\n",
              "      <td>1.000000</td>\n",
              "      <td>-0.371395</td>\n",
              "      <td>-0.341914</td>\n",
              "      <td>-0.526548</td>\n",
              "      <td>0.742449</td>\n",
              "      <td>-0.066673</td>\n",
              "      <td>-0.046694</td>\n",
              "      <td>0.015734</td>\n",
              "    </tr>\n",
              "    <tr>\n",
              "      <th>Pressure</th>\n",
              "      <td>0.170655</td>\n",
              "      <td>-4.622793e-02</td>\n",
              "      <td>-4.079205e-02</td>\n",
              "      <td>-2.724028e-02</td>\n",
              "      <td>-0.001636</td>\n",
              "      <td>-0.093766</td>\n",
              "      <td>0.007043</td>\n",
              "      <td>-0.050556</td>\n",
              "      <td>-0.137158</td>\n",
              "      <td>-0.419534</td>\n",
              "      <td>-0.371395</td>\n",
              "      <td>1.000000</td>\n",
              "      <td>-0.085004</td>\n",
              "      <td>0.078900</td>\n",
              "      <td>-0.365342</td>\n",
              "      <td>-0.182006</td>\n",
              "      <td>-0.122674</td>\n",
              "      <td>0.052521</td>\n",
              "    </tr>\n",
              "    <tr>\n",
              "      <th>Relative Humidity</th>\n",
              "      <td>0.006729</td>\n",
              "      <td>-1.093972e-01</td>\n",
              "      <td>3.241085e-05</td>\n",
              "      <td>-4.969308e-01</td>\n",
              "      <td>0.018638</td>\n",
              "      <td>-0.559766</td>\n",
              "      <td>-0.680471</td>\n",
              "      <td>-0.655765</td>\n",
              "      <td>0.235374</td>\n",
              "      <td>0.193455</td>\n",
              "      <td>-0.341914</td>\n",
              "      <td>-0.085004</td>\n",
              "      <td>1.000000</td>\n",
              "      <td>0.607108</td>\n",
              "      <td>0.182658</td>\n",
              "      <td>-0.019108</td>\n",
              "      <td>-0.172248</td>\n",
              "      <td>0.023674</td>\n",
              "    </tr>\n",
              "    <tr>\n",
              "      <th>Solar Zenith Angle</th>\n",
              "      <td>-0.000043</td>\n",
              "      <td>3.942729e-02</td>\n",
              "      <td>-1.019550e-03</td>\n",
              "      <td>-7.324343e-01</td>\n",
              "      <td>-0.000006</td>\n",
              "      <td>-0.873421</td>\n",
              "      <td>-0.886323</td>\n",
              "      <td>-0.891033</td>\n",
              "      <td>0.026873</td>\n",
              "      <td>-0.222336</td>\n",
              "      <td>-0.526548</td>\n",
              "      <td>0.078900</td>\n",
              "      <td>0.607108</td>\n",
              "      <td>1.000000</td>\n",
              "      <td>-0.182529</td>\n",
              "      <td>0.003802</td>\n",
              "      <td>-0.295927</td>\n",
              "      <td>-0.029150</td>\n",
              "    </tr>\n",
              "    <tr>\n",
              "      <th>Precipitable Water</th>\n",
              "      <td>0.057450</td>\n",
              "      <td>1.807739e-01</td>\n",
              "      <td>8.564690e-03</td>\n",
              "      <td>1.248658e-02</td>\n",
              "      <td>-0.000083</td>\n",
              "      <td>0.207504</td>\n",
              "      <td>-0.002180</td>\n",
              "      <td>0.108725</td>\n",
              "      <td>0.326904</td>\n",
              "      <td>0.881881</td>\n",
              "      <td>0.742449</td>\n",
              "      <td>-0.365342</td>\n",
              "      <td>0.182658</td>\n",
              "      <td>-0.182529</td>\n",
              "      <td>1.000000</td>\n",
              "      <td>-0.105735</td>\n",
              "      <td>-0.106892</td>\n",
              "      <td>0.044106</td>\n",
              "    </tr>\n",
              "    <tr>\n",
              "      <th>Wind Direction</th>\n",
              "      <td>-0.032013</td>\n",
              "      <td>-1.325817e-01</td>\n",
              "      <td>6.696016e-03</td>\n",
              "      <td>5.141698e-03</td>\n",
              "      <td>0.000011</td>\n",
              "      <td>-0.000195</td>\n",
              "      <td>0.006256</td>\n",
              "      <td>0.004944</td>\n",
              "      <td>-0.081565</td>\n",
              "      <td>-0.076357</td>\n",
              "      <td>-0.066673</td>\n",
              "      <td>-0.182006</td>\n",
              "      <td>-0.019108</td>\n",
              "      <td>0.003802</td>\n",
              "      <td>-0.105735</td>\n",
              "      <td>1.000000</td>\n",
              "      <td>0.035634</td>\n",
              "      <td>-0.017124</td>\n",
              "    </tr>\n",
              "    <tr>\n",
              "      <th>Wind Speed</th>\n",
              "      <td>-0.025577</td>\n",
              "      <td>-9.752170e-02</td>\n",
              "      <td>-6.481469e-03</td>\n",
              "      <td>2.470120e-01</td>\n",
              "      <td>-0.009258</td>\n",
              "      <td>0.315655</td>\n",
              "      <td>0.381162</td>\n",
              "      <td>0.349180</td>\n",
              "      <td>0.072632</td>\n",
              "      <td>-0.140699</td>\n",
              "      <td>-0.046694</td>\n",
              "      <td>-0.122674</td>\n",
              "      <td>-0.172248</td>\n",
              "      <td>-0.295927</td>\n",
              "      <td>-0.106892</td>\n",
              "      <td>0.035634</td>\n",
              "      <td>1.000000</td>\n",
              "      <td>0.000447</td>\n",
              "    </tr>\n",
              "    <tr>\n",
              "      <th>Fill Flag</th>\n",
              "      <td>0.132889</td>\n",
              "      <td>5.899776e-03</td>\n",
              "      <td>-1.522006e-03</td>\n",
              "      <td>5.562988e-02</td>\n",
              "      <td>-0.000929</td>\n",
              "      <td>0.000740</td>\n",
              "      <td>0.006318</td>\n",
              "      <td>-0.030297</td>\n",
              "      <td>0.090161</td>\n",
              "      <td>0.036851</td>\n",
              "      <td>0.015734</td>\n",
              "      <td>0.052521</td>\n",
              "      <td>0.023674</td>\n",
              "      <td>-0.029150</td>\n",
              "      <td>0.044106</td>\n",
              "      <td>-0.017124</td>\n",
              "      <td>0.000447</td>\n",
              "      <td>1.000000</td>\n",
              "    </tr>\n",
              "  </tbody>\n",
              "</table>\n",
              "</div>\n",
              "      <button class=\"colab-df-convert\" onclick=\"convertToInteractive('df-25da2343-5ccd-4176-a5ce-d3a1c689df03')\"\n",
              "              title=\"Convert this dataframe to an interactive table.\"\n",
              "              style=\"display:none;\">\n",
              "        \n",
              "  <svg xmlns=\"http://www.w3.org/2000/svg\" height=\"24px\"viewBox=\"0 0 24 24\"\n",
              "       width=\"24px\">\n",
              "    <path d=\"M0 0h24v24H0V0z\" fill=\"none\"/>\n",
              "    <path d=\"M18.56 5.44l.94 2.06.94-2.06 2.06-.94-2.06-.94-.94-2.06-.94 2.06-2.06.94zm-11 1L8.5 8.5l.94-2.06 2.06-.94-2.06-.94L8.5 2.5l-.94 2.06-2.06.94zm10 10l.94 2.06.94-2.06 2.06-.94-2.06-.94-.94-2.06-.94 2.06-2.06.94z\"/><path d=\"M17.41 7.96l-1.37-1.37c-.4-.4-.92-.59-1.43-.59-.52 0-1.04.2-1.43.59L10.3 9.45l-7.72 7.72c-.78.78-.78 2.05 0 2.83L4 21.41c.39.39.9.59 1.41.59.51 0 1.02-.2 1.41-.59l7.78-7.78 2.81-2.81c.8-.78.8-2.07 0-2.86zM5.41 20L4 18.59l7.72-7.72 1.47 1.35L5.41 20z\"/>\n",
              "  </svg>\n",
              "      </button>\n",
              "      \n",
              "  <style>\n",
              "    .colab-df-container {\n",
              "      display:flex;\n",
              "      flex-wrap:wrap;\n",
              "      gap: 12px;\n",
              "    }\n",
              "\n",
              "    .colab-df-convert {\n",
              "      background-color: #E8F0FE;\n",
              "      border: none;\n",
              "      border-radius: 50%;\n",
              "      cursor: pointer;\n",
              "      display: none;\n",
              "      fill: #1967D2;\n",
              "      height: 32px;\n",
              "      padding: 0 0 0 0;\n",
              "      width: 32px;\n",
              "    }\n",
              "\n",
              "    .colab-df-convert:hover {\n",
              "      background-color: #E2EBFA;\n",
              "      box-shadow: 0px 1px 2px rgba(60, 64, 67, 0.3), 0px 1px 3px 1px rgba(60, 64, 67, 0.15);\n",
              "      fill: #174EA6;\n",
              "    }\n",
              "\n",
              "    [theme=dark] .colab-df-convert {\n",
              "      background-color: #3B4455;\n",
              "      fill: #D2E3FC;\n",
              "    }\n",
              "\n",
              "    [theme=dark] .colab-df-convert:hover {\n",
              "      background-color: #434B5C;\n",
              "      box-shadow: 0px 1px 3px 1px rgba(0, 0, 0, 0.15);\n",
              "      filter: drop-shadow(0px 1px 2px rgba(0, 0, 0, 0.3));\n",
              "      fill: #FFFFFF;\n",
              "    }\n",
              "  </style>\n",
              "\n",
              "      <script>\n",
              "        const buttonEl =\n",
              "          document.querySelector('#df-25da2343-5ccd-4176-a5ce-d3a1c689df03 button.colab-df-convert');\n",
              "        buttonEl.style.display =\n",
              "          google.colab.kernel.accessAllowed ? 'block' : 'none';\n",
              "\n",
              "        async function convertToInteractive(key) {\n",
              "          const element = document.querySelector('#df-25da2343-5ccd-4176-a5ce-d3a1c689df03');\n",
              "          const dataTable =\n",
              "            await google.colab.kernel.invokeFunction('convertToInteractive',\n",
              "                                                     [key], {});\n",
              "          if (!dataTable) return;\n",
              "\n",
              "          const docLinkHtml = 'Like what you see? Visit the ' +\n",
              "            '<a target=\"_blank\" href=https://colab.research.google.com/notebooks/data_table.ipynb>data table notebook</a>'\n",
              "            + ' to learn more about interactive tables.';\n",
              "          element.innerHTML = '';\n",
              "          dataTable['output_type'] = 'display_data';\n",
              "          await google.colab.output.renderOutput(dataTable, element);\n",
              "          const docLink = document.createElement('div');\n",
              "          docLink.innerHTML = docLinkHtml;\n",
              "          element.appendChild(docLink);\n",
              "        }\n",
              "      </script>\n",
              "    </div>\n",
              "  </div>\n",
              "  "
            ],
            "text/plain": [
              "                        Year         Month  ...  Wind Speed  Fill Flag\n",
              "Year                1.000000 -1.250676e-04  ...   -0.025577   0.132889\n",
              "Month              -0.000125  1.000000e+00  ...   -0.097522   0.005900\n",
              "Day                 0.000144  1.079604e-02  ...   -0.006481  -0.001522\n",
              "Hour                0.000000 -2.852658e-19  ...    0.247012   0.055630\n",
              "Minute              0.000000  0.000000e+00  ...   -0.009258  -0.000929\n",
              "Clearsky DHI       -0.027271 -5.282618e-02  ...    0.315655   0.000740\n",
              "Clearsky DNI        0.010488 -2.009111e-02  ...    0.381162   0.006318\n",
              "Clearsky GHI        0.001011 -3.990135e-02  ...    0.349180  -0.030297\n",
              "Cloud Type          0.059987 -1.739447e-02  ...    0.072632   0.090161\n",
              "Dew Point           0.059990  1.468194e-01  ...   -0.140699   0.036851\n",
              "Temperature         0.041339  2.006604e-01  ...   -0.046694   0.015734\n",
              "Pressure            0.170655 -4.622793e-02  ...   -0.122674   0.052521\n",
              "Relative Humidity   0.006729 -1.093972e-01  ...   -0.172248   0.023674\n",
              "Solar Zenith Angle -0.000043  3.942729e-02  ...   -0.295927  -0.029150\n",
              "Precipitable Water  0.057450  1.807739e-01  ...   -0.106892   0.044106\n",
              "Wind Direction     -0.032013 -1.325817e-01  ...    0.035634  -0.017124\n",
              "Wind Speed         -0.025577 -9.752170e-02  ...    1.000000   0.000447\n",
              "Fill Flag           0.132889  5.899776e-03  ...    0.000447   1.000000\n",
              "\n",
              "[18 rows x 18 columns]"
            ]
          },
          "metadata": {},
          "execution_count": 14
        }
      ]
    },
    {
      "cell_type": "code",
      "source": [
        "cols = ['Year','Month','Day','Hour','Minute','Cloud Type','Dew Point','Temperature','Pressure','Relative Humidity','Solar Zenith Angle','Precipitable Water','Wind Direction','Wind Speed','Fill Flag'] # one or more\n",
        "\n",
        "Q1 = df_raw_train[cols].quantile(0.25)\n",
        "Q3 = df_raw_train[cols].quantile(0.75)\n",
        "IQR = Q3 - Q1\n",
        "\n",
        "df_new_train = df_raw_train[~((df_raw_train[cols] < (Q1 - 1.5 * IQR)) |(df_raw_train[cols] > (Q3 + 1.5 * IQR))).any(axis=1)]"
      ],
      "metadata": {
        "id": "mGdIH6NBBOAx"
      },
      "execution_count": 128,
      "outputs": []
    },
    {
      "cell_type": "code",
      "source": [
        "df_raw_train.shape"
      ],
      "metadata": {
        "colab": {
          "base_uri": "https://localhost:8080/"
        },
        "id": "_l-jJeumFWBx",
        "outputId": "e6a59385-74fa-4641-bb33-4fbba18bd6a1"
      },
      "execution_count": 129,
      "outputs": [
        {
          "output_type": "execute_result",
          "data": {
            "text/plain": [
              "(175296, 18)"
            ]
          },
          "metadata": {},
          "execution_count": 129
        }
      ]
    },
    {
      "cell_type": "code",
      "source": [
        "df_new_train.shape"
      ],
      "metadata": {
        "colab": {
          "base_uri": "https://localhost:8080/"
        },
        "id": "lIWpJNGvFc9J",
        "outputId": "fbfe98d0-a970-4818-cb00-53869ecbb229"
      },
      "execution_count": 130,
      "outputs": [
        {
          "output_type": "execute_result",
          "data": {
            "text/plain": [
              "(160587, 18)"
            ]
          },
          "metadata": {},
          "execution_count": 130
        }
      ]
    },
    {
      "cell_type": "code",
      "source": [
        "cols = ['Year','Month','Day','Hour','Minute','Cloud Type','Dew Point','Temperature','Pressure','Relative Humidity','Solar Zenith Angle','Precipitable Water','Wind Direction','Wind Speed','Fill Flag'] # one or more\n",
        "\n",
        "Q1 = df_raw_test[cols].quantile(0.25)\n",
        "Q3 = df_raw_test[cols].quantile(0.75)\n",
        "IQR = Q3 - Q1\n",
        "\n",
        "df_new_test = df_raw_test[~((df_raw_test[cols] < (Q1 - 1.5 * IQR)) |(df_raw_test[cols] > (Q3 + 1.5 * IQR))).any(axis=1)]"
      ],
      "metadata": {
        "id": "XXzg6NW3Fjbl"
      },
      "execution_count": 131,
      "outputs": []
    },
    {
      "cell_type": "code",
      "source": [
        "df_raw_test.shape"
      ],
      "metadata": {
        "colab": {
          "base_uri": "https://localhost:8080/"
        },
        "id": "zo2Sfp2fFV-S",
        "outputId": "79345c91-aad9-47fc-dc0f-06a143f60479"
      },
      "execution_count": 132,
      "outputs": [
        {
          "output_type": "execute_result",
          "data": {
            "text/plain": [
              "(17520, 15)"
            ]
          },
          "metadata": {},
          "execution_count": 132
        }
      ]
    },
    {
      "cell_type": "code",
      "source": [
        "df_new_test.shape"
      ],
      "metadata": {
        "colab": {
          "base_uri": "https://localhost:8080/"
        },
        "id": "S9asF7MhGCKw",
        "outputId": "1d2dcb1b-4151-4d52-cac7-658673cdeab6"
      },
      "execution_count": 133,
      "outputs": [
        {
          "output_type": "execute_result",
          "data": {
            "text/plain": [
              "(15379, 15)"
            ]
          },
          "metadata": {},
          "execution_count": 133
        }
      ]
    },
    {
      "cell_type": "code",
      "source": [
        "df_raw_train.info()"
      ],
      "metadata": {
        "colab": {
          "base_uri": "https://localhost:8080/"
        },
        "id": "GcYMq7QfVwSb",
        "outputId": "8afab0a6-e298-4ef1-a9e0-464d46e0eb63"
      },
      "execution_count": 141,
      "outputs": [
        {
          "output_type": "stream",
          "name": "stdout",
          "text": [
            "<class 'pandas.core.frame.DataFrame'>\n",
            "RangeIndex: 175296 entries, 0 to 175295\n",
            "Data columns (total 18 columns):\n",
            " #   Column              Non-Null Count   Dtype  \n",
            "---  ------              --------------   -----  \n",
            " 0   Year                175296 non-null  int64  \n",
            " 1   Month               175296 non-null  int64  \n",
            " 2   Day                 175296 non-null  int64  \n",
            " 3   Hour                175296 non-null  int64  \n",
            " 4   Minute              175296 non-null  int64  \n",
            " 5   Clearsky DHI        175296 non-null  int64  \n",
            " 6   Clearsky DNI        175296 non-null  int64  \n",
            " 7   Clearsky GHI        175296 non-null  int64  \n",
            " 8   Cloud Type          175296 non-null  int64  \n",
            " 9   Dew Point           175296 non-null  float64\n",
            " 10  Temperature         175296 non-null  float64\n",
            " 11  Pressure            175296 non-null  int64  \n",
            " 12  Relative Humidity   175296 non-null  float64\n",
            " 13  Solar Zenith Angle  175296 non-null  float64\n",
            " 14  Precipitable Water  175296 non-null  float64\n",
            " 15  Wind Direction      175296 non-null  float64\n",
            " 16  Wind Speed          175296 non-null  float64\n",
            " 17  Fill Flag           175296 non-null  int64  \n",
            "dtypes: float64(7), int64(11)\n",
            "memory usage: 24.1 MB\n"
          ]
        }
      ]
    },
    {
      "cell_type": "markdown",
      "source": [
        "**Splitting X and Y**"
      ],
      "metadata": {
        "id": "zvV8PVggZRXy"
      }
    },
    {
      "cell_type": "code",
      "source": [
        "x_train = df_new_train[df_raw_train.columns[[0,1,2,3,4,8,9,10,11,12,13,14,15,16,17]]]"
      ],
      "metadata": {
        "id": "9vr0x8zFGhMQ"
      },
      "execution_count": 142,
      "outputs": []
    },
    {
      "cell_type": "code",
      "source": [
        "y = df_new_train[['Clearsky DHI','Clearsky DNI','Clearsky GHI']]"
      ],
      "metadata": {
        "id": "PsC7CXLKATsI"
      },
      "execution_count": 143,
      "outputs": []
    },
    {
      "cell_type": "markdown",
      "source": [
        "**Multicolinearity**"
      ],
      "metadata": {
        "id": "egHleX9oRFa6"
      }
    },
    {
      "cell_type": "code",
      "source": [
        "VIF = []"
      ],
      "metadata": {
        "id": "Bke758usRD1J"
      },
      "execution_count": 116,
      "outputs": []
    },
    {
      "cell_type": "code",
      "source": [
        "from statsmodels.stats.outliers_influence import variance_inflation_factor"
      ],
      "metadata": {
        "id": "3ba3GRXURPwE"
      },
      "execution_count": 117,
      "outputs": []
    },
    {
      "cell_type": "code",
      "source": [
        "for j in range(x_train.shape[1]):\n",
        "    VIF.append(variance_inflation_factor(x_train.values,j))\n",
        "print(VIF)"
      ],
      "metadata": {
        "colab": {
          "base_uri": "https://localhost:8080/"
        },
        "id": "VXgG6wv_Ra64",
        "outputId": "fb2359b7-c77c-4eab-a4dc-5c7dd9fd3aa0"
      },
      "execution_count": 125,
      "outputs": [
        {
          "output_type": "stream",
          "name": "stdout",
          "text": [
            "[46245.974275635475, 5.3059492401225645, 4.207812186287766, 8.913927560888547, 2.009743161582795, 2.0454000079828845, 286.84191861041285, 414.4490697708392, 43239.055524729505, 423.320668754182, 23.501535305124044, 23.42731438479347, 5.028762130248551, 5.6322128943944145, nan]\n"
          ]
        },
        {
          "output_type": "stream",
          "name": "stderr",
          "text": [
            "/usr/local/lib/python3.7/dist-packages/statsmodels/regression/linear_model.py:1638: RuntimeWarning: invalid value encountered in double_scalars\n",
            "  return 1 - self.ssr/self.uncentered_tss\n"
          ]
        }
      ]
    },
    {
      "cell_type": "code",
      "source": [
        "import numpy as np\n",
        "np.transpose(VIF)\n",
        "pd.DataFrame(x_train.columns)\n",
        "pd.DataFrame(np.transpose(VIF))\n",
        "pd.concat([pd.DataFrame(x_train.columns),pd.DataFrame(np.transpose(VIF))], axis =1)"
      ],
      "metadata": {
        "colab": {
          "base_uri": "https://localhost:8080/",
          "height": 520
        },
        "id": "vxSVxVrmThbF",
        "outputId": "397fe06e-4482-4415-8793-92e444da3186"
      },
      "execution_count": 127,
      "outputs": [
        {
          "output_type": "execute_result",
          "data": {
            "text/html": [
              "\n",
              "  <div id=\"df-5ceaa1ad-a7c9-471a-92ef-2615dbedd5d3\">\n",
              "    <div class=\"colab-df-container\">\n",
              "      <div>\n",
              "<style scoped>\n",
              "    .dataframe tbody tr th:only-of-type {\n",
              "        vertical-align: middle;\n",
              "    }\n",
              "\n",
              "    .dataframe tbody tr th {\n",
              "        vertical-align: top;\n",
              "    }\n",
              "\n",
              "    .dataframe thead th {\n",
              "        text-align: right;\n",
              "    }\n",
              "</style>\n",
              "<table border=\"1\" class=\"dataframe\">\n",
              "  <thead>\n",
              "    <tr style=\"text-align: right;\">\n",
              "      <th></th>\n",
              "      <th>0</th>\n",
              "      <th>0</th>\n",
              "    </tr>\n",
              "  </thead>\n",
              "  <tbody>\n",
              "    <tr>\n",
              "      <th>0</th>\n",
              "      <td>Year</td>\n",
              "      <td>46245.974276</td>\n",
              "    </tr>\n",
              "    <tr>\n",
              "      <th>1</th>\n",
              "      <td>Month</td>\n",
              "      <td>5.305949</td>\n",
              "    </tr>\n",
              "    <tr>\n",
              "      <th>2</th>\n",
              "      <td>Day</td>\n",
              "      <td>4.207812</td>\n",
              "    </tr>\n",
              "    <tr>\n",
              "      <th>3</th>\n",
              "      <td>Hour</td>\n",
              "      <td>8.913928</td>\n",
              "    </tr>\n",
              "    <tr>\n",
              "      <th>4</th>\n",
              "      <td>Minute</td>\n",
              "      <td>2.009743</td>\n",
              "    </tr>\n",
              "    <tr>\n",
              "      <th>5</th>\n",
              "      <td>Cloud Type</td>\n",
              "      <td>2.045400</td>\n",
              "    </tr>\n",
              "    <tr>\n",
              "      <th>6</th>\n",
              "      <td>Dew Point</td>\n",
              "      <td>286.841919</td>\n",
              "    </tr>\n",
              "    <tr>\n",
              "      <th>7</th>\n",
              "      <td>Temperature</td>\n",
              "      <td>414.449070</td>\n",
              "    </tr>\n",
              "    <tr>\n",
              "      <th>8</th>\n",
              "      <td>Pressure</td>\n",
              "      <td>43239.055525</td>\n",
              "    </tr>\n",
              "    <tr>\n",
              "      <th>9</th>\n",
              "      <td>Relative Humidity</td>\n",
              "      <td>423.320669</td>\n",
              "    </tr>\n",
              "    <tr>\n",
              "      <th>10</th>\n",
              "      <td>Solar Zenith Angle</td>\n",
              "      <td>23.501535</td>\n",
              "    </tr>\n",
              "    <tr>\n",
              "      <th>11</th>\n",
              "      <td>Precipitable Water</td>\n",
              "      <td>23.427314</td>\n",
              "    </tr>\n",
              "    <tr>\n",
              "      <th>12</th>\n",
              "      <td>Wind Direction</td>\n",
              "      <td>5.028762</td>\n",
              "    </tr>\n",
              "    <tr>\n",
              "      <th>13</th>\n",
              "      <td>Wind Speed</td>\n",
              "      <td>5.632213</td>\n",
              "    </tr>\n",
              "    <tr>\n",
              "      <th>14</th>\n",
              "      <td>Fill Flag</td>\n",
              "      <td>NaN</td>\n",
              "    </tr>\n",
              "  </tbody>\n",
              "</table>\n",
              "</div>\n",
              "      <button class=\"colab-df-convert\" onclick=\"convertToInteractive('df-5ceaa1ad-a7c9-471a-92ef-2615dbedd5d3')\"\n",
              "              title=\"Convert this dataframe to an interactive table.\"\n",
              "              style=\"display:none;\">\n",
              "        \n",
              "  <svg xmlns=\"http://www.w3.org/2000/svg\" height=\"24px\"viewBox=\"0 0 24 24\"\n",
              "       width=\"24px\">\n",
              "    <path d=\"M0 0h24v24H0V0z\" fill=\"none\"/>\n",
              "    <path d=\"M18.56 5.44l.94 2.06.94-2.06 2.06-.94-2.06-.94-.94-2.06-.94 2.06-2.06.94zm-11 1L8.5 8.5l.94-2.06 2.06-.94-2.06-.94L8.5 2.5l-.94 2.06-2.06.94zm10 10l.94 2.06.94-2.06 2.06-.94-2.06-.94-.94-2.06-.94 2.06-2.06.94z\"/><path d=\"M17.41 7.96l-1.37-1.37c-.4-.4-.92-.59-1.43-.59-.52 0-1.04.2-1.43.59L10.3 9.45l-7.72 7.72c-.78.78-.78 2.05 0 2.83L4 21.41c.39.39.9.59 1.41.59.51 0 1.02-.2 1.41-.59l7.78-7.78 2.81-2.81c.8-.78.8-2.07 0-2.86zM5.41 20L4 18.59l7.72-7.72 1.47 1.35L5.41 20z\"/>\n",
              "  </svg>\n",
              "      </button>\n",
              "      \n",
              "  <style>\n",
              "    .colab-df-container {\n",
              "      display:flex;\n",
              "      flex-wrap:wrap;\n",
              "      gap: 12px;\n",
              "    }\n",
              "\n",
              "    .colab-df-convert {\n",
              "      background-color: #E8F0FE;\n",
              "      border: none;\n",
              "      border-radius: 50%;\n",
              "      cursor: pointer;\n",
              "      display: none;\n",
              "      fill: #1967D2;\n",
              "      height: 32px;\n",
              "      padding: 0 0 0 0;\n",
              "      width: 32px;\n",
              "    }\n",
              "\n",
              "    .colab-df-convert:hover {\n",
              "      background-color: #E2EBFA;\n",
              "      box-shadow: 0px 1px 2px rgba(60, 64, 67, 0.3), 0px 1px 3px 1px rgba(60, 64, 67, 0.15);\n",
              "      fill: #174EA6;\n",
              "    }\n",
              "\n",
              "    [theme=dark] .colab-df-convert {\n",
              "      background-color: #3B4455;\n",
              "      fill: #D2E3FC;\n",
              "    }\n",
              "\n",
              "    [theme=dark] .colab-df-convert:hover {\n",
              "      background-color: #434B5C;\n",
              "      box-shadow: 0px 1px 3px 1px rgba(0, 0, 0, 0.15);\n",
              "      filter: drop-shadow(0px 1px 2px rgba(0, 0, 0, 0.3));\n",
              "      fill: #FFFFFF;\n",
              "    }\n",
              "  </style>\n",
              "\n",
              "      <script>\n",
              "        const buttonEl =\n",
              "          document.querySelector('#df-5ceaa1ad-a7c9-471a-92ef-2615dbedd5d3 button.colab-df-convert');\n",
              "        buttonEl.style.display =\n",
              "          google.colab.kernel.accessAllowed ? 'block' : 'none';\n",
              "\n",
              "        async function convertToInteractive(key) {\n",
              "          const element = document.querySelector('#df-5ceaa1ad-a7c9-471a-92ef-2615dbedd5d3');\n",
              "          const dataTable =\n",
              "            await google.colab.kernel.invokeFunction('convertToInteractive',\n",
              "                                                     [key], {});\n",
              "          if (!dataTable) return;\n",
              "\n",
              "          const docLinkHtml = 'Like what you see? Visit the ' +\n",
              "            '<a target=\"_blank\" href=https://colab.research.google.com/notebooks/data_table.ipynb>data table notebook</a>'\n",
              "            + ' to learn more about interactive tables.';\n",
              "          element.innerHTML = '';\n",
              "          dataTable['output_type'] = 'display_data';\n",
              "          await google.colab.output.renderOutput(dataTable, element);\n",
              "          const docLink = document.createElement('div');\n",
              "          docLink.innerHTML = docLinkHtml;\n",
              "          element.appendChild(docLink);\n",
              "        }\n",
              "      </script>\n",
              "    </div>\n",
              "  </div>\n",
              "  "
            ],
            "text/plain": [
              "                     0             0\n",
              "0                 Year  46245.974276\n",
              "1                Month      5.305949\n",
              "2                  Day      4.207812\n",
              "3                 Hour      8.913928\n",
              "4               Minute      2.009743\n",
              "5           Cloud Type      2.045400\n",
              "6            Dew Point    286.841919\n",
              "7          Temperature    414.449070\n",
              "8             Pressure  43239.055525\n",
              "9    Relative Humidity    423.320669\n",
              "10  Solar Zenith Angle     23.501535\n",
              "11  Precipitable Water     23.427314\n",
              "12      Wind Direction      5.028762\n",
              "13          Wind Speed      5.632213\n",
              "14           Fill Flag           NaN"
            ]
          },
          "metadata": {},
          "execution_count": 127
        }
      ]
    },
    {
      "cell_type": "code",
      "source": [
        "x_train.head(2)"
      ],
      "metadata": {
        "colab": {
          "base_uri": "https://localhost:8080/",
          "height": 211
        },
        "id": "XFHzTeu9WOPL",
        "outputId": "f4164a11-420b-40b8-c042-ed21e6298110"
      },
      "execution_count": 145,
      "outputs": [
        {
          "output_type": "execute_result",
          "data": {
            "text/html": [
              "\n",
              "  <div id=\"df-051ccf65-f527-4622-bcd9-e2a70539bed0\">\n",
              "    <div class=\"colab-df-container\">\n",
              "      <div>\n",
              "<style scoped>\n",
              "    .dataframe tbody tr th:only-of-type {\n",
              "        vertical-align: middle;\n",
              "    }\n",
              "\n",
              "    .dataframe tbody tr th {\n",
              "        vertical-align: top;\n",
              "    }\n",
              "\n",
              "    .dataframe thead th {\n",
              "        text-align: right;\n",
              "    }\n",
              "</style>\n",
              "<table border=\"1\" class=\"dataframe\">\n",
              "  <thead>\n",
              "    <tr style=\"text-align: right;\">\n",
              "      <th></th>\n",
              "      <th>Year</th>\n",
              "      <th>Month</th>\n",
              "      <th>Day</th>\n",
              "      <th>Hour</th>\n",
              "      <th>Minute</th>\n",
              "      <th>Cloud Type</th>\n",
              "      <th>Dew Point</th>\n",
              "      <th>Temperature</th>\n",
              "      <th>Pressure</th>\n",
              "      <th>Relative Humidity</th>\n",
              "      <th>Solar Zenith Angle</th>\n",
              "      <th>Precipitable Water</th>\n",
              "      <th>Wind Direction</th>\n",
              "      <th>Wind Speed</th>\n",
              "      <th>Fill Flag</th>\n",
              "    </tr>\n",
              "  </thead>\n",
              "  <tbody>\n",
              "    <tr>\n",
              "      <th>0</th>\n",
              "      <td>2009</td>\n",
              "      <td>1</td>\n",
              "      <td>1</td>\n",
              "      <td>0</td>\n",
              "      <td>0</td>\n",
              "      <td>0</td>\n",
              "      <td>0.0</td>\n",
              "      <td>5.0</td>\n",
              "      <td>1010</td>\n",
              "      <td>75.34</td>\n",
              "      <td>106.15</td>\n",
              "      <td>0.499</td>\n",
              "      <td>346.1</td>\n",
              "      <td>3.1</td>\n",
              "      <td>0</td>\n",
              "    </tr>\n",
              "    <tr>\n",
              "      <th>1</th>\n",
              "      <td>2009</td>\n",
              "      <td>1</td>\n",
              "      <td>1</td>\n",
              "      <td>0</td>\n",
              "      <td>30</td>\n",
              "      <td>0</td>\n",
              "      <td>1.0</td>\n",
              "      <td>5.0</td>\n",
              "      <td>1010</td>\n",
              "      <td>80.81</td>\n",
              "      <td>112.28</td>\n",
              "      <td>0.490</td>\n",
              "      <td>346.1</td>\n",
              "      <td>3.1</td>\n",
              "      <td>0</td>\n",
              "    </tr>\n",
              "  </tbody>\n",
              "</table>\n",
              "</div>\n",
              "      <button class=\"colab-df-convert\" onclick=\"convertToInteractive('df-051ccf65-f527-4622-bcd9-e2a70539bed0')\"\n",
              "              title=\"Convert this dataframe to an interactive table.\"\n",
              "              style=\"display:none;\">\n",
              "        \n",
              "  <svg xmlns=\"http://www.w3.org/2000/svg\" height=\"24px\"viewBox=\"0 0 24 24\"\n",
              "       width=\"24px\">\n",
              "    <path d=\"M0 0h24v24H0V0z\" fill=\"none\"/>\n",
              "    <path d=\"M18.56 5.44l.94 2.06.94-2.06 2.06-.94-2.06-.94-.94-2.06-.94 2.06-2.06.94zm-11 1L8.5 8.5l.94-2.06 2.06-.94-2.06-.94L8.5 2.5l-.94 2.06-2.06.94zm10 10l.94 2.06.94-2.06 2.06-.94-2.06-.94-.94-2.06-.94 2.06-2.06.94z\"/><path d=\"M17.41 7.96l-1.37-1.37c-.4-.4-.92-.59-1.43-.59-.52 0-1.04.2-1.43.59L10.3 9.45l-7.72 7.72c-.78.78-.78 2.05 0 2.83L4 21.41c.39.39.9.59 1.41.59.51 0 1.02-.2 1.41-.59l7.78-7.78 2.81-2.81c.8-.78.8-2.07 0-2.86zM5.41 20L4 18.59l7.72-7.72 1.47 1.35L5.41 20z\"/>\n",
              "  </svg>\n",
              "      </button>\n",
              "      \n",
              "  <style>\n",
              "    .colab-df-container {\n",
              "      display:flex;\n",
              "      flex-wrap:wrap;\n",
              "      gap: 12px;\n",
              "    }\n",
              "\n",
              "    .colab-df-convert {\n",
              "      background-color: #E8F0FE;\n",
              "      border: none;\n",
              "      border-radius: 50%;\n",
              "      cursor: pointer;\n",
              "      display: none;\n",
              "      fill: #1967D2;\n",
              "      height: 32px;\n",
              "      padding: 0 0 0 0;\n",
              "      width: 32px;\n",
              "    }\n",
              "\n",
              "    .colab-df-convert:hover {\n",
              "      background-color: #E2EBFA;\n",
              "      box-shadow: 0px 1px 2px rgba(60, 64, 67, 0.3), 0px 1px 3px 1px rgba(60, 64, 67, 0.15);\n",
              "      fill: #174EA6;\n",
              "    }\n",
              "\n",
              "    [theme=dark] .colab-df-convert {\n",
              "      background-color: #3B4455;\n",
              "      fill: #D2E3FC;\n",
              "    }\n",
              "\n",
              "    [theme=dark] .colab-df-convert:hover {\n",
              "      background-color: #434B5C;\n",
              "      box-shadow: 0px 1px 3px 1px rgba(0, 0, 0, 0.15);\n",
              "      filter: drop-shadow(0px 1px 2px rgba(0, 0, 0, 0.3));\n",
              "      fill: #FFFFFF;\n",
              "    }\n",
              "  </style>\n",
              "\n",
              "      <script>\n",
              "        const buttonEl =\n",
              "          document.querySelector('#df-051ccf65-f527-4622-bcd9-e2a70539bed0 button.colab-df-convert');\n",
              "        buttonEl.style.display =\n",
              "          google.colab.kernel.accessAllowed ? 'block' : 'none';\n",
              "\n",
              "        async function convertToInteractive(key) {\n",
              "          const element = document.querySelector('#df-051ccf65-f527-4622-bcd9-e2a70539bed0');\n",
              "          const dataTable =\n",
              "            await google.colab.kernel.invokeFunction('convertToInteractive',\n",
              "                                                     [key], {});\n",
              "          if (!dataTable) return;\n",
              "\n",
              "          const docLinkHtml = 'Like what you see? Visit the ' +\n",
              "            '<a target=\"_blank\" href=https://colab.research.google.com/notebooks/data_table.ipynb>data table notebook</a>'\n",
              "            + ' to learn more about interactive tables.';\n",
              "          element.innerHTML = '';\n",
              "          dataTable['output_type'] = 'display_data';\n",
              "          await google.colab.output.renderOutput(dataTable, element);\n",
              "          const docLink = document.createElement('div');\n",
              "          docLink.innerHTML = docLinkHtml;\n",
              "          element.appendChild(docLink);\n",
              "        }\n",
              "      </script>\n",
              "    </div>\n",
              "  </div>\n",
              "  "
            ],
            "text/plain": [
              "   Year  Month  Day  ...  Wind Direction  Wind Speed  Fill Flag\n",
              "0  2009      1    1  ...           346.1         3.1          0\n",
              "1  2009      1    1  ...           346.1         3.1          0\n",
              "\n",
              "[2 rows x 15 columns]"
            ]
          },
          "metadata": {},
          "execution_count": 145
        }
      ]
    },
    {
      "cell_type": "code",
      "source": [
        "y.head(2)"
      ],
      "metadata": {
        "colab": {
          "base_uri": "https://localhost:8080/",
          "height": 112
        },
        "id": "gQ0VsWUsJLJb",
        "outputId": "a34c8247-a29f-4302-f7ff-2bb1c47fa093"
      },
      "execution_count": 144,
      "outputs": [
        {
          "output_type": "execute_result",
          "data": {
            "text/html": [
              "\n",
              "  <div id=\"df-ad5165fe-ecc9-46a7-8f74-6e32f7055976\">\n",
              "    <div class=\"colab-df-container\">\n",
              "      <div>\n",
              "<style scoped>\n",
              "    .dataframe tbody tr th:only-of-type {\n",
              "        vertical-align: middle;\n",
              "    }\n",
              "\n",
              "    .dataframe tbody tr th {\n",
              "        vertical-align: top;\n",
              "    }\n",
              "\n",
              "    .dataframe thead th {\n",
              "        text-align: right;\n",
              "    }\n",
              "</style>\n",
              "<table border=\"1\" class=\"dataframe\">\n",
              "  <thead>\n",
              "    <tr style=\"text-align: right;\">\n",
              "      <th></th>\n",
              "      <th>Clearsky DHI</th>\n",
              "      <th>Clearsky DNI</th>\n",
              "      <th>Clearsky GHI</th>\n",
              "    </tr>\n",
              "  </thead>\n",
              "  <tbody>\n",
              "    <tr>\n",
              "      <th>0</th>\n",
              "      <td>0</td>\n",
              "      <td>0</td>\n",
              "      <td>0</td>\n",
              "    </tr>\n",
              "    <tr>\n",
              "      <th>1</th>\n",
              "      <td>0</td>\n",
              "      <td>0</td>\n",
              "      <td>0</td>\n",
              "    </tr>\n",
              "  </tbody>\n",
              "</table>\n",
              "</div>\n",
              "      <button class=\"colab-df-convert\" onclick=\"convertToInteractive('df-ad5165fe-ecc9-46a7-8f74-6e32f7055976')\"\n",
              "              title=\"Convert this dataframe to an interactive table.\"\n",
              "              style=\"display:none;\">\n",
              "        \n",
              "  <svg xmlns=\"http://www.w3.org/2000/svg\" height=\"24px\"viewBox=\"0 0 24 24\"\n",
              "       width=\"24px\">\n",
              "    <path d=\"M0 0h24v24H0V0z\" fill=\"none\"/>\n",
              "    <path d=\"M18.56 5.44l.94 2.06.94-2.06 2.06-.94-2.06-.94-.94-2.06-.94 2.06-2.06.94zm-11 1L8.5 8.5l.94-2.06 2.06-.94-2.06-.94L8.5 2.5l-.94 2.06-2.06.94zm10 10l.94 2.06.94-2.06 2.06-.94-2.06-.94-.94-2.06-.94 2.06-2.06.94z\"/><path d=\"M17.41 7.96l-1.37-1.37c-.4-.4-.92-.59-1.43-.59-.52 0-1.04.2-1.43.59L10.3 9.45l-7.72 7.72c-.78.78-.78 2.05 0 2.83L4 21.41c.39.39.9.59 1.41.59.51 0 1.02-.2 1.41-.59l7.78-7.78 2.81-2.81c.8-.78.8-2.07 0-2.86zM5.41 20L4 18.59l7.72-7.72 1.47 1.35L5.41 20z\"/>\n",
              "  </svg>\n",
              "      </button>\n",
              "      \n",
              "  <style>\n",
              "    .colab-df-container {\n",
              "      display:flex;\n",
              "      flex-wrap:wrap;\n",
              "      gap: 12px;\n",
              "    }\n",
              "\n",
              "    .colab-df-convert {\n",
              "      background-color: #E8F0FE;\n",
              "      border: none;\n",
              "      border-radius: 50%;\n",
              "      cursor: pointer;\n",
              "      display: none;\n",
              "      fill: #1967D2;\n",
              "      height: 32px;\n",
              "      padding: 0 0 0 0;\n",
              "      width: 32px;\n",
              "    }\n",
              "\n",
              "    .colab-df-convert:hover {\n",
              "      background-color: #E2EBFA;\n",
              "      box-shadow: 0px 1px 2px rgba(60, 64, 67, 0.3), 0px 1px 3px 1px rgba(60, 64, 67, 0.15);\n",
              "      fill: #174EA6;\n",
              "    }\n",
              "\n",
              "    [theme=dark] .colab-df-convert {\n",
              "      background-color: #3B4455;\n",
              "      fill: #D2E3FC;\n",
              "    }\n",
              "\n",
              "    [theme=dark] .colab-df-convert:hover {\n",
              "      background-color: #434B5C;\n",
              "      box-shadow: 0px 1px 3px 1px rgba(0, 0, 0, 0.15);\n",
              "      filter: drop-shadow(0px 1px 2px rgba(0, 0, 0, 0.3));\n",
              "      fill: #FFFFFF;\n",
              "    }\n",
              "  </style>\n",
              "\n",
              "      <script>\n",
              "        const buttonEl =\n",
              "          document.querySelector('#df-ad5165fe-ecc9-46a7-8f74-6e32f7055976 button.colab-df-convert');\n",
              "        buttonEl.style.display =\n",
              "          google.colab.kernel.accessAllowed ? 'block' : 'none';\n",
              "\n",
              "        async function convertToInteractive(key) {\n",
              "          const element = document.querySelector('#df-ad5165fe-ecc9-46a7-8f74-6e32f7055976');\n",
              "          const dataTable =\n",
              "            await google.colab.kernel.invokeFunction('convertToInteractive',\n",
              "                                                     [key], {});\n",
              "          if (!dataTable) return;\n",
              "\n",
              "          const docLinkHtml = 'Like what you see? Visit the ' +\n",
              "            '<a target=\"_blank\" href=https://colab.research.google.com/notebooks/data_table.ipynb>data table notebook</a>'\n",
              "            + ' to learn more about interactive tables.';\n",
              "          element.innerHTML = '';\n",
              "          dataTable['output_type'] = 'display_data';\n",
              "          await google.colab.output.renderOutput(dataTable, element);\n",
              "          const docLink = document.createElement('div');\n",
              "          docLink.innerHTML = docLinkHtml;\n",
              "          element.appendChild(docLink);\n",
              "        }\n",
              "      </script>\n",
              "    </div>\n",
              "  </div>\n",
              "  "
            ],
            "text/plain": [
              "   Clearsky DHI  Clearsky DNI  Clearsky GHI\n",
              "0             0             0             0\n",
              "1             0             0             0"
            ]
          },
          "metadata": {},
          "execution_count": 144
        }
      ]
    },
    {
      "cell_type": "code",
      "source": [
        "x_test_data = df_new_test[df_raw_train.columns[[0,1,2,3,4,8,9,10,11,12,13,14,15,16,17]]]"
      ],
      "metadata": {
        "id": "JKuIphCzG_Ms"
      },
      "execution_count": 85,
      "outputs": []
    },
    {
      "cell_type": "markdown",
      "source": [
        "**Standardization**"
      ],
      "metadata": {
        "id": "Hriv3p83Zeko"
      }
    },
    {
      "cell_type": "code",
      "source": [
        "from sklearn.preprocessing import StandardScaler\n",
        "x_scale_train = StandardScaler().fit_transform(x_train)"
      ],
      "metadata": {
        "id": "kzXvSGeCpowU"
      },
      "execution_count": 146,
      "outputs": []
    },
    {
      "cell_type": "code",
      "source": [
        "from sklearn.preprocessing import StandardScaler\n",
        "x_scale_test = StandardScaler().fit_transform(x_test_data)"
      ],
      "metadata": {
        "id": "6SOleMZG8SXe"
      },
      "execution_count": 87,
      "outputs": []
    },
    {
      "cell_type": "markdown",
      "source": [
        "**Splitting Train and Test**"
      ],
      "metadata": {
        "id": "qKecbWFwZjm9"
      }
    },
    {
      "cell_type": "code",
      "source": [
        "from sklearn.model_selection import train_test_split\n",
        "x_train,x_test,y_train,y_test = train_test_split(x_scale_train,y,test_size=0.25, random_state=20)"
      ],
      "metadata": {
        "id": "__Px7Jxd8uHU"
      },
      "execution_count": 147,
      "outputs": []
    },
    {
      "cell_type": "markdown",
      "source": [
        "**Train Linear Regression Model with train data Data Set**"
      ],
      "metadata": {
        "id": "HzDiaNgLZqgY"
      }
    },
    {
      "cell_type": "code",
      "source": [
        "from sklearn.linear_model import LinearRegression\n",
        "LR = LinearRegression()\n",
        "LR.fit(x_train,y_train)\n",
        "y_pred_lr = LR.predict(x_test)"
      ],
      "metadata": {
        "id": "hEuALNe5gBbn"
      },
      "execution_count": 148,
      "outputs": []
    },
    {
      "cell_type": "code",
      "source": [
        "y_pred_lr"
      ],
      "metadata": {
        "colab": {
          "base_uri": "https://localhost:8080/"
        },
        "id": "pVIYVBjR4ges",
        "outputId": "cb756246-6735-4e60-c2f6-0cb304040e06"
      },
      "execution_count": 149,
      "outputs": [
        {
          "output_type": "execute_result",
          "data": {
            "text/plain": [
              "array([[  20.18293309,   55.04419057,   51.34745483],\n",
              "       [   2.54333013,  -57.10053308,  -81.98424594],\n",
              "       [  95.90129038,  495.52637816,  447.49449262],\n",
              "       ...,\n",
              "       [  20.76503398,  109.26549992,   68.10435812],\n",
              "       [  65.44885926,  592.67768721,  383.35209711],\n",
              "       [ -33.14355588, -221.85390815, -240.98210953]])"
            ]
          },
          "metadata": {},
          "execution_count": 149
        }
      ]
    },
    {
      "cell_type": "code",
      "source": [
        "from sklearn.metrics import mean_squared_error\n",
        "lr_mse = mean_squared_error(y_test,y_pred_lr)\n",
        "print(lr_mse)"
      ],
      "metadata": {
        "id": "zA60zrbhhLXB",
        "colab": {
          "base_uri": "https://localhost:8080/"
        },
        "outputId": "eadf64be-ad3b-4695-d547-6ecdc329f37c"
      },
      "execution_count": 150,
      "outputs": [
        {
          "output_type": "stream",
          "name": "stdout",
          "text": [
            "12851.768750713012\n"
          ]
        }
      ]
    },
    {
      "cell_type": "code",
      "source": [
        ""
      ],
      "metadata": {
        "id": "JtXRL9WBQEae"
      },
      "execution_count": null,
      "outputs": []
    },
    {
      "cell_type": "code",
      "source": [
        "KNN_acc = accuracy_score(y_test,y_pred_knn)\n",
        "print(KNN_acc)\n",
        "KNN_cm = confusion_matrix(y_test,y_pred_knn)\n",
        "print(KNN_cm)\n",
        "KNN_cr = classification_report(y_test,y_pred_knn)\n",
        "print(KNN_cr)"
      ],
      "metadata": {
        "id": "Z9G7zgbHBZNx",
        "colab": {
          "base_uri": "https://localhost:8080/"
        },
        "outputId": "19982dc8-af69-4ecf-a8d8-2a7d969825a1"
      },
      "execution_count": null,
      "outputs": [
        {
          "output_type": "stream",
          "name": "stdout",
          "text": [
            "0.51973751666154\n",
            "[[2815  109 1696  249]\n",
            " [ 110  191   87   41]\n",
            " [1678  114 1795   83]\n",
            " [ 376   58   83  268]]\n",
            "              precision    recall  f1-score   support\n",
            "\n",
            "           a       0.57      0.58      0.57      4869\n",
            "           s       0.40      0.45      0.42       429\n",
            "           u       0.49      0.49      0.49      3670\n",
            "           w       0.42      0.34      0.38       785\n",
            "\n",
            "    accuracy                           0.52      9753\n",
            "   macro avg       0.47      0.46      0.47      9753\n",
            "weighted avg       0.52      0.52      0.52      9753\n",
            "\n"
          ]
        }
      ]
    },
    {
      "cell_type": "code",
      "source": [
        "acc_score_knn"
      ],
      "metadata": {
        "colab": {
          "base_uri": "https://localhost:8080/"
        },
        "id": "TBpHTI3GhbrF",
        "outputId": "6dd6d1c2-1e41-493d-af42-e0a231a25dae"
      },
      "execution_count": null,
      "outputs": [
        {
          "output_type": "execute_result",
          "data": {
            "text/plain": [
              "0.51973751666154"
            ]
          },
          "metadata": {},
          "execution_count": 133
        }
      ]
    },
    {
      "cell_type": "markdown",
      "source": [
        "**Applying Test Data on Trained KN N model**"
      ],
      "metadata": {
        "id": "m7VpwX575Xy4"
      }
    },
    {
      "cell_type": "code",
      "source": [
        "y_pred_knn_test = KNN_CLF.predict(x_scale_test)"
      ],
      "metadata": {
        "id": "rXzGXE6T45y5"
      },
      "execution_count": null,
      "outputs": []
    },
    {
      "cell_type": "code",
      "source": [
        "y_pred_knn_test"
      ],
      "metadata": {
        "colab": {
          "base_uri": "https://localhost:8080/"
        },
        "id": "_pDJIEFj4-5I",
        "outputId": "561e8942-bb5c-4423-d7c3-ca8d2ef244bc"
      },
      "execution_count": null,
      "outputs": [
        {
          "output_type": "execute_result",
          "data": {
            "text/plain": [
              "array(['a', 'u', 'u', ..., 'u', 'u', 'a'], dtype=object)"
            ]
          },
          "metadata": {},
          "execution_count": 124
        }
      ]
    },
    {
      "cell_type": "code",
      "source": [
        "type(y_pred_knn_test)"
      ],
      "metadata": {
        "colab": {
          "base_uri": "https://localhost:8080/"
        },
        "id": "MsZ8fSZDL-Ir",
        "outputId": "fb74c5bc-399a-432e-b5cf-46d29e8db95c"
      },
      "execution_count": null,
      "outputs": [
        {
          "output_type": "execute_result",
          "data": {
            "text/plain": [
              "numpy.ndarray"
            ]
          },
          "metadata": {},
          "execution_count": 140
        }
      ]
    },
    {
      "cell_type": "code",
      "source": [
        "sub =pd.DataFrame(y_pred_knn_test)"
      ],
      "metadata": {
        "id": "g04caWlxMHS1"
      },
      "execution_count": null,
      "outputs": []
    },
    {
      "cell_type": "markdown",
      "source": [
        "**Export the Submission**"
      ],
      "metadata": {
        "id": "WOcQYtCKSKXg"
      }
    },
    {
      "cell_type": "code",
      "source": [
        "sub.to_excel(r'/content/drive/MyDrive/Hackathon/submission/Final_sub.xlsx', index = False)"
      ],
      "metadata": {
        "id": "eCf3BpzhJVPg"
      },
      "execution_count": null,
      "outputs": []
    },
    {
      "cell_type": "code",
      "source": [
        "test_accuracy =[]\n",
        "k_values = range(1,16)"
      ],
      "metadata": {
        "id": "1QdgrqJ4hjwB"
      },
      "execution_count": null,
      "outputs": []
    },
    {
      "cell_type": "code",
      "source": [
        "for i in k_values:\n",
        "    knn_clf =KNeighborsClassifier(n_neighbors=i, p=2)\n",
        "    KNN_CLF.fit(x_train,y_train)\n",
        "    y_pred_knn = KNN_CLF.predict(x_test)\n",
        "    test_accuracy.append(accuracy_score(y_pred_knn,y_test).round(2))"
      ],
      "metadata": {
        "id": "vjV7T_7Whs9X"
      },
      "execution_count": null,
      "outputs": []
    },
    {
      "cell_type": "code",
      "source": [
        "print(test_accuracy)"
      ],
      "metadata": {
        "colab": {
          "base_uri": "https://localhost:8080/"
        },
        "id": "Q8_Nt4tHipb2",
        "outputId": "fb1eed0a-06c0-4b80-e077-0b145f16696a"
      },
      "execution_count": null,
      "outputs": [
        {
          "output_type": "stream",
          "name": "stdout",
          "text": [
            "[0.52, 0.52, 0.52, 0.52, 0.52, 0.52, 0.52, 0.52, 0.52, 0.52, 0.52, 0.52, 0.52, 0.52, 0.52]\n"
          ]
        }
      ]
    },
    {
      "cell_type": "code",
      "source": [
        "import matplotlib.pyplot as plt\n",
        "plt.plot(k_values,test_accuracy)\n",
        "plt.legend()\n",
        "plt.show()"
      ],
      "metadata": {
        "colab": {
          "base_uri": "https://localhost:8080/",
          "height": 283
        },
        "id": "vd3ZidCCi4Hl",
        "outputId": "8189b077-9902-48c7-db11-6aaf417750c6"
      },
      "execution_count": null,
      "outputs": [
        {
          "output_type": "stream",
          "name": "stderr",
          "text": [
            "No handles with labels found to put in legend.\n"
          ]
        },
        {
          "output_type": "display_data",
          "data": {
            "image/png": "[encoded data removed]",
            "text/plain": [
              "<Figure size 432x288 with 1 Axes>"
            ]
          },
          "metadata": {
            "needs_background": "light"
          }
        }
      ]
    },
    {
      "cell_type": "markdown",
      "source": [
        "**Model fitting of SVM with training data set**"
      ],
      "metadata": {
        "id": "SBpcvehlaID0"
      }
    },
    {
      "cell_type": "code",
      "source": [
        "from sklearn.svm import SVC\n",
        "sv_clf = SVC(kernel = \"rbf\", gamma = 'auto')\n",
        "sv_clf.fit(x_train,y_train)\n",
        "y_pred_sv = sv_clf.predict(x_test)"
      ],
      "metadata": {
        "id": "voLNrbtJjaMl"
      },
      "execution_count": null,
      "outputs": []
    },
    {
      "cell_type": "code",
      "source": [
        "SVM_acc = accuracy_score(y_test,y_pred_sv)\n",
        "print(SVM_acc)\n",
        "SVM_cm = confusion_matrix(y_test,y_pred_sv)\n",
        "print(SVM_cm)\n",
        "SVM_cr = classification_report(y_test,y_pred_sv)\n",
        "print(SVM_cr)"
      ],
      "metadata": {
        "colab": {
          "base_uri": "https://localhost:8080/"
        },
        "id": "oxW2BCFLko87",
        "outputId": "15f0db9e-7a88-4c14-8eb3-9c8f06e17bb7"
      },
      "execution_count": null,
      "outputs": [
        {
          "output_type": "stream",
          "name": "stdout",
          "text": [
            "0.5277350558802419\n",
            "[[3410   24 1289  146]\n",
            " [ 146  103  134   46]\n",
            " [2064   37 1481   88]\n",
            " [ 497   23  112  153]]\n",
            "              precision    recall  f1-score   support\n",
            "\n",
            "           a       0.56      0.70      0.62      4869\n",
            "           s       0.55      0.24      0.33       429\n",
            "           u       0.49      0.40      0.44      3670\n",
            "           w       0.35      0.19      0.25       785\n",
            "\n",
            "    accuracy                           0.53      9753\n",
            "   macro avg       0.49      0.38      0.41      9753\n",
            "weighted avg       0.52      0.53      0.51      9753\n",
            "\n"
          ]
        }
      ]
    },
    {
      "cell_type": "code",
      "source": [
        "y_pred_sv_test = sv_clf.predict(x_scale_test)"
      ],
      "metadata": {
        "id": "BB559Xwl7ZOk"
      },
      "execution_count": null,
      "outputs": []
    },
    {
      "cell_type": "code",
      "source": [
        "y_pred_sv_test"
      ],
      "metadata": {
        "colab": {
          "base_uri": "https://localhost:8080/"
        },
        "id": "NmZAwF3Y7i33",
        "outputId": "8621ab12-d755-4d4c-e684-0718a331ed42"
      },
      "execution_count": null,
      "outputs": [
        {
          "output_type": "execute_result",
          "data": {
            "text/plain": [
              "array(['u', 'a', 'a', ..., 'a', 'u', 'u'], dtype=object)"
            ]
          },
          "metadata": {},
          "execution_count": 186
        }
      ]
    },
    {
      "cell_type": "markdown",
      "source": [
        "**Model fitting with Logistic Regression**"
      ],
      "metadata": {
        "id": "D5qxFxJjay9U"
      }
    },
    {
      "cell_type": "code",
      "source": [
        "from sklearn.linear_model import LogisticRegression\n",
        "log_reg = LogisticRegression()\n",
        "log_reg.fit(x_train,y_train)\n",
        "y_pred_log = log_reg.predict(x_test)"
      ],
      "metadata": {
        "id": "9EFU5d9KBtM0"
      },
      "execution_count": null,
      "outputs": []
    },
    {
      "cell_type": "code",
      "source": [
        "y_pred_log"
      ],
      "metadata": {
        "colab": {
          "base_uri": "https://localhost:8080/"
        },
        "id": "dugtdYWVEizk",
        "outputId": "5ca15fff-e1dc-4011-bf93-8a8e4b25560d"
      },
      "execution_count": null,
      "outputs": [
        {
          "output_type": "execute_result",
          "data": {
            "text/plain": [
              "array(['a', 'a', 'a', ..., 'a', 'a', 'a'], dtype=object)"
            ]
          },
          "metadata": {},
          "execution_count": 193
        }
      ]
    },
    {
      "cell_type": "code",
      "source": [
        "LR_acc = accuracy_score(y_test,y_pred_log)\n",
        "print(LR_acc)\n",
        "LR_cm = confusion_matrix(y_test,y_pred_log)\n",
        "print(LR_cm)\n",
        "LR_cr = classification_report(y_test,y_pred_log)\n",
        "print(LR_cr)"
      ],
      "metadata": {
        "id": "2_zvim6cEsfd",
        "colab": {
          "base_uri": "https://localhost:8080/"
        },
        "outputId": "71294c03-e3f9-4f5e-b4b5-b48a499a27dc"
      },
      "execution_count": null,
      "outputs": [
        {
          "output_type": "stream",
          "name": "stdout",
          "text": [
            "0.4994360709525274\n",
            "[[4407    0  397   65]\n",
            " [ 355   18   56    0]\n",
            " [3238    0  419   13]\n",
            " [ 727    2   29   27]]\n",
            "              precision    recall  f1-score   support\n",
            "\n",
            "           a       0.50      0.91      0.65      4869\n",
            "           s       0.90      0.04      0.08       429\n",
            "           u       0.47      0.11      0.18      3670\n",
            "           w       0.26      0.03      0.06       785\n",
            "\n",
            "    accuracy                           0.50      9753\n",
            "   macro avg       0.53      0.27      0.24      9753\n",
            "weighted avg       0.49      0.50      0.40      9753\n",
            "\n"
          ]
        }
      ]
    },
    {
      "cell_type": "code",
      "source": [
        "y_pred_log_test = log_reg.predict(x_scale_test)"
      ],
      "metadata": {
        "id": "0Ll6E5ofEsa-"
      },
      "execution_count": null,
      "outputs": []
    },
    {
      "cell_type": "code",
      "source": [
        "y_pred_log_test"
      ],
      "metadata": {
        "colab": {
          "base_uri": "https://localhost:8080/"
        },
        "id": "Ys7iF5cze9q2",
        "outputId": "7b772040-bc41-4610-edc1-58afce4de39e"
      },
      "execution_count": null,
      "outputs": [
        {
          "output_type": "execute_result",
          "data": {
            "text/plain": [
              "array(['u', 'a', 'u', ..., 'a', 'a', 'a'], dtype=object)"
            ]
          },
          "metadata": {},
          "execution_count": 196
        }
      ]
    },
    {
      "cell_type": "markdown",
      "source": [
        "**Model fitting of training Data Set with Decision Tree**"
      ],
      "metadata": {
        "id": "-fBIbx-Oa8ny"
      }
    },
    {
      "cell_type": "code",
      "source": [
        "from sklearn.tree import DecisionTreeClassifier\n",
        "DT = DecisionTreeClassifier(criterion = \"entropy\", max_depth=None)\n",
        "DT.fit(x_train,y_train)\n",
        "y_pred_dt = DT.predict(x_test)"
      ],
      "metadata": {
        "id": "GFeaPfqPCl7x"
      },
      "execution_count": null,
      "outputs": []
    },
    {
      "cell_type": "code",
      "source": [
        "y_pred_dt"
      ],
      "metadata": {
        "colab": {
          "base_uri": "https://localhost:8080/"
        },
        "id": "JUDVUsBdN1Zh",
        "outputId": "5d6897f3-b5cb-4e02-d222-f1126ed570a1"
      },
      "execution_count": null,
      "outputs": [
        {
          "output_type": "execute_result",
          "data": {
            "text/plain": [
              "array(['a', 'a', 'a', ..., 'u', 'a', 'u'], dtype=object)"
            ]
          },
          "metadata": {},
          "execution_count": 171
        }
      ]
    },
    {
      "cell_type": "code",
      "source": [
        "DT_acc = accuracy_score(y_test,y_pred_dt)\n",
        "print(DT_acc)\n",
        "DT_cm = confusion_matrix(y_test,y_pred_dt)\n",
        "print(DT_cm)\n",
        "DT_cr = classification_report(y_test,y_pred_dt)\n",
        "print(DT_cr)"
      ],
      "metadata": {
        "id": "Pcr3XqNLOb8O",
        "colab": {
          "base_uri": "https://localhost:8080/"
        },
        "outputId": "556a9506-0ba9-478e-e61a-e5cfc52406cf"
      },
      "execution_count": null,
      "outputs": [
        {
          "output_type": "stream",
          "name": "stdout",
          "text": [
            "0.5100994565774634\n",
            "[[2738   96 1702  333]\n",
            " [  94  174  105   56]\n",
            " [1697  112 1755  106]\n",
            " [ 317   52  108  308]]\n",
            "              precision    recall  f1-score   support\n",
            "\n",
            "           a       0.57      0.56      0.56      4869\n",
            "           s       0.40      0.41      0.40       429\n",
            "           u       0.48      0.48      0.48      3670\n",
            "           w       0.38      0.39      0.39       785\n",
            "\n",
            "    accuracy                           0.51      9753\n",
            "   macro avg       0.46      0.46      0.46      9753\n",
            "weighted avg       0.51      0.51      0.51      9753\n",
            "\n"
          ]
        }
      ]
    },
    {
      "cell_type": "code",
      "source": [
        "dt_score = []\n",
        "md = range(1,57)\n",
        "for i in md:\n",
        "    dt = DecisionTreeClassifier(criterion = \"entropy\", max_depth=i)\n",
        "    dt.fit(x_train,y_train)\n",
        "    dt_pred = dt.predict(x_test)\n",
        "    dt_score.append(accuracy_score(y_test,dt_pred))\n",
        "print(dt_score)"
      ],
      "metadata": {
        "colab": {
          "base_uri": "https://localhost:8080/"
        },
        "id": "sz-_bXE5aNf7",
        "outputId": "e712e9e7-aa06-45fe-ad4d-c8c09d43885a"
      },
      "execution_count": null,
      "outputs": [
        {
          "output_type": "stream",
          "name": "stdout",
          "text": [
            "[0.4992310058443556, 0.49912847329026966, 0.5002563313852149, 0.5071260125089716, 0.5021019173587614, 0.5178919306879934, 0.5124577053214395, 0.515738747052189, 0.5130729006459551, 0.5177893981339076, 0.5148159540654158, 0.5168666051471342, 0.513175433200041, 0.5180969957961653, 0.5183020609043372, 0.5223008305136881, 0.5133804983082129, 0.5113298472264944, 0.5127653029836973, 0.5125602378755255, 0.5169691377012201, 0.513175433200041, 0.5100994565774634, 0.5167640725930482, 0.5176868655798216, 0.5151235517276735, 0.5155336819440173, 0.5161488772685328, 0.5159438121603609, 0.5153286168358454, 0.5143032912949862, 0.5133804983082129, 0.5119450425510099, 0.5140982261868143, 0.5147134215113298, 0.5133804983082129, 0.5148159540654158, 0.5130729006459551, 0.510509586793807, 0.5137906285245566, 0.5173792679175638, 0.5119450425510099, 0.5112273146724085, 0.5148159540654158, 0.5138931610786425, 0.5135855634163847, 0.5123551727673537, 0.5144058238490721, 0.5143032912949862, 0.5122526402132677, 0.5148159540654158, 0.515738747052189, 0.511842509996924, 0.5098943914692915, 0.5135855634163847, 0.5134830308622987]\n"
          ]
        }
      ]
    },
    {
      "cell_type": "code",
      "source": [
        "import matplotlib.pyplot as plt\n",
        "plt.plot(md,dt_score)\n",
        "plt.legend()"
      ],
      "metadata": {
        "colab": {
          "base_uri": "https://localhost:8080/",
          "height": 300
        },
        "id": "73yjiUBDhUuA",
        "outputId": "f8056c34-26af-40e5-c4a8-ed1a1224c049"
      },
      "execution_count": null,
      "outputs": [
        {
          "output_type": "stream",
          "name": "stderr",
          "text": [
            "No handles with labels found to put in legend.\n"
          ]
        },
        {
          "output_type": "execute_result",
          "data": {
            "text/plain": [
              "<matplotlib.legend.Legend at 0x7f8ebd4bce50>"
            ]
          },
          "metadata": {},
          "execution_count": 200
        },
        {
          "output_type": "display_data",
          "data": {
            "image/png": "[encoded data removed]",
            "text/plain": [
              "<Figure size 432x288 with 1 Axes>"
            ]
          },
          "metadata": {
            "needs_background": "light"
          }
        }
      ]
    },
    {
      "cell_type": "code",
      "source": [
        "y_pred_dt_test = DT.predict(x_scale_test)"
      ],
      "metadata": {
        "id": "6lGZdQfSaA-a"
      },
      "execution_count": null,
      "outputs": []
    },
    {
      "cell_type": "code",
      "source": [
        "y_pred_dt_test"
      ],
      "metadata": {
        "colab": {
          "base_uri": "https://localhost:8080/"
        },
        "id": "kyuQd2HAaTrb",
        "outputId": "f1c0774e-3854-4555-cfe6-637f7562ad9b"
      },
      "execution_count": null,
      "outputs": [
        {
          "output_type": "execute_result",
          "data": {
            "text/plain": [
              "array(['u', 'a', 'u', ..., 'u', 'a', 'a'], dtype=object)"
            ]
          },
          "metadata": {},
          "execution_count": 163
        }
      ]
    },
    {
      "cell_type": "code",
      "source": [
        "DT.tree_.node_count"
      ],
      "metadata": {
        "colab": {
          "base_uri": "https://localhost:8080/"
        },
        "id": "ul3V8VNPadth",
        "outputId": "d0041f70-4c62-46c3-895f-4010069ba514"
      },
      "execution_count": null,
      "outputs": [
        {
          "output_type": "execute_result",
          "data": {
            "text/plain": [
              "18745"
            ]
          },
          "metadata": {},
          "execution_count": 164
        }
      ]
    },
    {
      "cell_type": "code",
      "source": [
        "DT.tree_.max_depth"
      ],
      "metadata": {
        "colab": {
          "base_uri": "https://localhost:8080/"
        },
        "id": "PUg3BJa3aqcp",
        "outputId": "854cebad-4770-4512-d17a-a38ef0b48ed2"
      },
      "execution_count": null,
      "outputs": [
        {
          "output_type": "execute_result",
          "data": {
            "text/plain": [
              "50"
            ]
          },
          "metadata": {},
          "execution_count": 165
        }
      ]
    },
    {
      "cell_type": "markdown",
      "source": [
        "**Model fitting with Ensemble Methods**"
      ],
      "metadata": {
        "id": "NhbjIHPXbMGb"
      }
    },
    {
      "cell_type": "markdown",
      "source": [
        "**Ada Bosst**"
      ],
      "metadata": {
        "id": "Y3wRkc2Ibq2l"
      }
    },
    {
      "cell_type": "code",
      "source": [
        "from sklearn.ensemble import AdaBoostClassifier\n",
        "ADB = AdaBoostClassifier(base_estimator=DT, n_estimators=100)\n",
        "ADB.fit(x_train,y_train)\n",
        "y_pred_adab = ADB.predict(x_test)"
      ],
      "metadata": {
        "id": "uikal7aBJL1c"
      },
      "execution_count": null,
      "outputs": []
    },
    {
      "cell_type": "code",
      "source": [
        "adab_acc = accuracy_score(y_test,y_pred_adab)\n",
        "print(adab_acc)\n",
        "adab_cm = confusion_matrix(y_test,y_pred_adab)\n",
        "print(adab_cm)\n",
        "adab_cr = classification_report(y_test,y_pred_adab)\n",
        "print(adab_cr)"
      ],
      "metadata": {
        "id": "EBAtfcGxKmXk",
        "colab": {
          "base_uri": "https://localhost:8080/"
        },
        "outputId": "bb044c59-376a-4736-a707-96a432db2459"
      },
      "execution_count": null,
      "outputs": [
        {
          "output_type": "stream",
          "name": "stdout",
          "text": [
            "0.5206603096483133\n",
            "[[2816   85 1689  279]\n",
            " [ 103  160  122   44]\n",
            " [1659   92 1831   88]\n",
            " [ 371   32  111  271]]\n",
            "              precision    recall  f1-score   support\n",
            "\n",
            "           a       0.57      0.58      0.57      4869\n",
            "           s       0.43      0.37      0.40       429\n",
            "           u       0.49      0.50      0.49      3670\n",
            "           w       0.40      0.35      0.37       785\n",
            "\n",
            "    accuracy                           0.52      9753\n",
            "   macro avg       0.47      0.45      0.46      9753\n",
            "weighted avg       0.52      0.52      0.52      9753\n",
            "\n"
          ]
        }
      ]
    },
    {
      "cell_type": "markdown",
      "source": [
        "**Gradient Boosting**"
      ],
      "metadata": {
        "id": "qYavOWhibxO2"
      }
    },
    {
      "cell_type": "code",
      "source": [
        "from sklearn.ensemble import GradientBoostingClassifier\n",
        "GRB = GradientBoostingClassifier(n_estimators=100)\n",
        "GRB.fit(x_train,y_train)\n",
        "y_pred_grb= GRB.predict(x_test)"
      ],
      "metadata": {
        "id": "p4gF9DRhK2Ht"
      },
      "execution_count": null,
      "outputs": []
    },
    {
      "cell_type": "code",
      "source": [
        "grb_acc = accuracy_score(y_test,y_pred_grb)\n",
        "print(grb_acc)\n",
        "grb_cm = confusion_matrix(y_test,y_pred_grb)\n",
        "print(grb_cm)\n",
        "grb_cr = classification_report(y_test,y_pred_grb)\n",
        "print(grb_cr)"
      ],
      "metadata": {
        "id": "g2QbKkTNLbPM",
        "colab": {
          "base_uri": "https://localhost:8080/"
        },
        "outputId": "b45e1ca8-f78f-4150-fc5f-89b800414160"
      },
      "execution_count": null,
      "outputs": [
        {
          "output_type": "stream",
          "name": "stdout",
          "text": [
            "0.5166615400389624\n",
            "[[3623   19 1089  138]\n",
            " [ 156  110  148   15]\n",
            " [2393   44 1192   41]\n",
            " [ 560    9  102  114]]\n",
            "              precision    recall  f1-score   support\n",
            "\n",
            "           a       0.54      0.74      0.62      4869\n",
            "           s       0.60      0.26      0.36       429\n",
            "           u       0.47      0.32      0.38      3670\n",
            "           w       0.37      0.15      0.21       785\n",
            "\n",
            "    accuracy                           0.52      9753\n",
            "   macro avg       0.50      0.37      0.39      9753\n",
            "weighted avg       0.50      0.52      0.49      9753\n",
            "\n"
          ]
        }
      ]
    },
    {
      "cell_type": "code",
      "source": [
        "import numpy as np\n",
        "np.arange(0.01,0.2,0.01)\n",
        "range(1,100)"
      ],
      "metadata": {
        "colab": {
          "base_uri": "https://localhost:8080/"
        },
        "id": "G9OS5JVpm7yJ",
        "outputId": "c13e9276-0617-456a-c6a0-6bdb2885f83b"
      },
      "execution_count": null,
      "outputs": [
        {
          "output_type": "execute_result",
          "data": {
            "text/plain": [
              "range(1, 100)"
            ]
          },
          "metadata": {},
          "execution_count": 232
        }
      ]
    },
    {
      "cell_type": "code",
      "source": [
        "np.arange(0.01,0.2,0.01)\n"
      ],
      "metadata": {
        "colab": {
          "base_uri": "https://localhost:8080/"
        },
        "id": "jbff5P_3pwFa",
        "outputId": "176fadd0-5dd1-4601-b54d-f86df57bc003"
      },
      "execution_count": null,
      "outputs": [
        {
          "output_type": "execute_result",
          "data": {
            "text/plain": [
              "array([0.01, 0.02, 0.03, 0.04, 0.05, 0.06, 0.07, 0.08, 0.09, 0.1 , 0.11,\n",
              "       0.12, 0.13, 0.14, 0.15, 0.16, 0.17, 0.18, 0.19])"
            ]
          },
          "metadata": {},
          "execution_count": 233
        }
      ]
    },
    {
      "cell_type": "code",
      "source": [
        "y_test"
      ],
      "metadata": {
        "colab": {
          "base_uri": "https://localhost:8080/"
        },
        "id": "32vC9_D7oo9w",
        "outputId": "998d98ca-3a85-4714-d0b7-874776a030cb"
      },
      "execution_count": null,
      "outputs": [
        {
          "output_type": "execute_result",
          "data": {
            "text/plain": [
              "19893    a\n",
              "32235    a\n",
              "13939    a\n",
              "17470    a\n",
              "22714    u\n",
              "        ..\n",
              "37601    a\n",
              "39691    u\n",
              "640      a\n",
              "32256    u\n",
              "38284    u\n",
              "Name: season, Length: 9753, dtype: object"
            ]
          },
          "metadata": {},
          "execution_count": 226
        }
      ]
    },
    {
      "cell_type": "code",
      "source": [
        "y_pred_grb"
      ],
      "metadata": {
        "colab": {
          "base_uri": "https://localhost:8080/"
        },
        "id": "1H7-paI7ovQB",
        "outputId": "d09bcfd7-3ec3-4147-f5ec-08ca516be8a0"
      },
      "execution_count": null,
      "outputs": [
        {
          "output_type": "execute_result",
          "data": {
            "text/plain": [
              "array(['a', 'a', 'a', ..., 'a', 'a', 'a'], dtype=object)"
            ]
          },
          "metadata": {},
          "execution_count": 227
        }
      ]
    },
    {
      "cell_type": "markdown",
      "source": [
        "**XG Boosting**"
      ],
      "metadata": {
        "id": "lxgS3hdhcEOg"
      }
    },
    {
      "cell_type": "code",
      "source": [
        "from xgboost import XGBClassifier\n",
        "XGB = XGBClassifier()\n",
        "XGB.fit(x_train,y_train)\n",
        "y_pred_xgb= XGB.predict(x_scale_test)"
      ],
      "metadata": {
        "id": "tZtcm_2XMF-_"
      },
      "execution_count": null,
      "outputs": []
    },
    {
      "cell_type": "code",
      "source": [
        "acc_score_xgb = accuracy_score(y_test,y_pred_xgb).round(3)"
      ],
      "metadata": {
        "id": "4yAZ5oXyMphg"
      },
      "execution_count": null,
      "outputs": []
    },
    {
      "cell_type": "code",
      "source": [
        "acc_score_xgb"
      ],
      "metadata": {
        "colab": {
          "base_uri": "https://localhost:8080/"
        },
        "id": "eBiDIUcnM0Ys",
        "outputId": "e1487368-1796-40ae-d913-ff3899072c67"
      },
      "execution_count": null,
      "outputs": [
        {
          "output_type": "execute_result",
          "data": {
            "text/plain": [
              "0.518"
            ]
          },
          "metadata": {},
          "execution_count": 61
        }
      ]
    },
    {
      "cell_type": "markdown",
      "source": [
        "**Model fitting With Bagging**"
      ],
      "metadata": {
        "id": "_quWpRIacYou"
      }
    },
    {
      "cell_type": "code",
      "source": [
        "from sklearn.ensemble import BaggingClassifier\n",
        "Bag= BaggingClassifier(base_estimator=DecisionTreeClassifier(), max_samples=0.9,\n",
        "                  n_estimators=500, random_state=10)"
      ],
      "metadata": {
        "id": "koSENNCBAH9P"
      },
      "execution_count": null,
      "outputs": []
    },
    {
      "cell_type": "code",
      "source": [
        "Bag.fit(x_train,y_train)"
      ],
      "metadata": {
        "colab": {
          "base_uri": "https://localhost:8080/"
        },
        "id": "lNFuZAr-AP09",
        "outputId": "472b93b6-af4b-4c7b-8021-db6e1f4a4441"
      },
      "execution_count": null,
      "outputs": [
        {
          "output_type": "execute_result",
          "data": {
            "text/plain": [
              "BaggingClassifier(base_estimator=DecisionTreeClassifier(), max_samples=0.9,\n",
              "                  n_estimators=500, random_state=10)"
            ]
          },
          "metadata": {},
          "execution_count": 205
        }
      ]
    },
    {
      "cell_type": "code",
      "source": [
        "y_pred_bag= Bag.predict(x_test)"
      ],
      "metadata": {
        "id": "8o7uemiEAlUt"
      },
      "execution_count": null,
      "outputs": []
    },
    {
      "cell_type": "code",
      "source": [
        "bag_acc = accuracy_score(y_test,y_pred_bag)\n",
        "print(bag_acc)\n",
        "bag_cm = confusion_matrix(y_test,y_pred_bag)\n",
        "print(bag_cm)\n",
        "bag_cr = classification_report(y_test,y_pred_bag)\n",
        "print(bag_cr)"
      ],
      "metadata": {
        "id": "7mjvO2dkA-rz",
        "colab": {
          "base_uri": "https://localhost:8080/"
        },
        "outputId": "920e87b9-5d28-433c-90f0-858e1ba383c0"
      },
      "execution_count": null,
      "outputs": [
        {
          "output_type": "stream",
          "name": "stdout",
          "text": [
            "0.5200451143237979\n",
            "[[2790   87 1692  300]\n",
            " [  89  188  105   47]\n",
            " [1653  121 1792  104]\n",
            " [ 344   44   95  302]]\n",
            "              precision    recall  f1-score   support\n",
            "\n",
            "           a       0.57      0.57      0.57      4869\n",
            "           s       0.43      0.44      0.43       429\n",
            "           u       0.49      0.49      0.49      3670\n",
            "           w       0.40      0.38      0.39       785\n",
            "\n",
            "    accuracy                           0.52      9753\n",
            "   macro avg       0.47      0.47      0.47      9753\n",
            "weighted avg       0.52      0.52      0.52      9753\n",
            "\n"
          ]
        }
      ]
    },
    {
      "cell_type": "code",
      "source": [
        "acc_score_bagging=[]\n",
        "settings = np.arange(0.1,1,0.1)"
      ],
      "metadata": {
        "id": "EKBGIowmBOV3"
      },
      "execution_count": null,
      "outputs": []
    },
    {
      "cell_type": "markdown",
      "source": [
        "No need to code Random State incase of Bagging. Bagging Will take care of Sample by default."
      ],
      "metadata": {
        "id": "I2PAcbYJj_AO"
      }
    },
    {
      "cell_type": "code",
      "source": [
        "for i in settings:\n",
        "    bag = BaggingClassifier(base_estimator=DT, max_samples=i, n_estimators=10)\n",
        "    bag.fit(x_train,y_train)\n",
        "    y_pred_bg = bag.predict(x_test)\n",
        "    acc_score_bagging.append(accuracy_score(y_pred_bg,y_test))\n",
        "print(acc_score_bagging)"
      ],
      "metadata": {
        "id": "5Nf4UyidBhSk",
        "colab": {
          "base_uri": "https://localhost:8080/"
        },
        "outputId": "9b20011e-0e1c-4b77-d202-2991bda60785"
      },
      "execution_count": null,
      "outputs": [
        {
          "output_type": "stream",
          "name": "stdout",
          "text": [
            "[0.5112273146724085, 0.5162514098226186, 0.5175843330257357, 0.515738747052189, 0.5159438121603609, 0.5162514098226186, 0.5176868655798216, 0.5215831026350867, 0.515841279606275, 0.523838818824977, 0.5201476468778837, 0.5196349841074541, 0.517276735363478, 0.5169691377012201, 0.5192248538911104, 0.5205577770942275, 0.5168666051471342, 0.5135855634163847]\n"
          ]
        }
      ]
    },
    {
      "cell_type": "markdown",
      "source": [
        "**Random Forest**"
      ],
      "metadata": {
        "id": "13bZw9p1sYN3"
      }
    },
    {
      "cell_type": "code",
      "source": [
        "from sklearn.ensemble import RandomForestClassifier\n",
        "RF = RandomForestClassifier(max_features=0.6, n_estimators=100)\n",
        "RF.fit(x_train,y_train)\n",
        "y_RF_pred = RF.predict(x_test)"
      ],
      "metadata": {
        "id": "Fn0MyjscsXLX"
      },
      "execution_count": null,
      "outputs": []
    },
    {
      "cell_type": "code",
      "source": [
        "RF_acc = accuracy_score(y_test,y_RF_pred)\n",
        "print(RF_acc)\n",
        "RF_cm = confusion_matrix(y_test,y_RF_pred)\n",
        "print(RF_cm)\n",
        "RF_cr = classification_report(y_test,y_RF_pred)\n",
        "print(RF_cr)"
      ],
      "metadata": {
        "colab": {
          "base_uri": "https://localhost:8080/"
        },
        "id": "iDTB2D7gsj5f",
        "outputId": "820e321a-8ad1-4e48-d178-ccf0a3c4d478"
      },
      "execution_count": null,
      "outputs": [
        {
          "output_type": "stream",
          "name": "stdout",
          "text": [
            "0.5190197887829385\n",
            "[[2792   86 1692  299]\n",
            " [  96  190   92   51]\n",
            " [1658  112 1791  109]\n",
            " [ 346   45  105  289]]\n",
            "              precision    recall  f1-score   support\n",
            "\n",
            "           a       0.57      0.57      0.57      4869\n",
            "           s       0.44      0.44      0.44       429\n",
            "           u       0.49      0.49      0.49      3670\n",
            "           w       0.39      0.37      0.38       785\n",
            "\n",
            "    accuracy                           0.52      9753\n",
            "   macro avg       0.47      0.47      0.47      9753\n",
            "weighted avg       0.52      0.52      0.52      9753\n",
            "\n"
          ]
        }
      ]
    },
    {
      "cell_type": "code",
      "source": [
        "RF_score = []\n",
        "setting = np.arange(0.1,1,0.1)\n",
        "for i in setting:\n",
        "    RF = RandomForestClassifier(max_features=i, n_estimators=100)\n",
        "    RF.fit(x_train,y_train)\n",
        "    RF_pred = RF.predict(x_test)\n",
        "    RF_score.append(accuracy_score(y_test,y_RF_pred))\n",
        "\n",
        "print(RF_score)"
      ],
      "metadata": {
        "colab": {
          "base_uri": "https://localhost:8080/"
        },
        "id": "UkhNB62-ste7",
        "outputId": "34122b55-5921-46e4-a6fa-fccd8a924efb"
      },
      "execution_count": null,
      "outputs": [
        {
          "output_type": "stream",
          "name": "stdout",
          "text": [
            "[0.5190197887829385, 0.5190197887829385, 0.5190197887829385, 0.5190197887829385, 0.5190197887829385, 0.5190197887829385, 0.5190197887829385, 0.5190197887829385, 0.5190197887829385]\n"
          ]
        }
      ]
    }
  ]
}