{
  "nbformat": 4,
  "nbformat_minor": 0,
  "metadata": {
    "colab": {
      "name": "Hackathon_Wipro.ipynb",
      "provenance": [],
      "collapsed_sections": [],
      "mount_file_id": "1zdvbve-lg5KR03uKf-aQ6bwlPane3W4s",
      "authorship_tag": "ABX9TyPKZM8ukhLX9fWfqYZdyb+X",
      "include_colab_link": true
    },
    "kernelspec": {
      "name": "python3",
      "display_name": "Python 3"
    },
    "language_info": {
      "name": "python"
    }
  },
  "cells": [
    {
      "cell_type": "markdown",
      "metadata": {
        "id": "view-in-github",
        "colab_type": "text"
      },
      "source": [
        "<a href=\"https://colab.research.google.com/github/sarkar2527/DSAP/blob/main/Hackathon_Wipro.ipynb\" target=\"_parent\"><img src=\"https://colab.research.google.com/assets/colab-badge.svg\" alt=\"Open In Colab\"/></a>"
      ]
    },
    {
      "cell_type": "code",
      "execution_count": 98,
      "metadata": {
        "colab": {
          "base_uri": "https://localhost:8080/"
        },
        "id": "2EYuzhiBnG5p",
        "outputId": "94e1bb90-8d49-472b-e285-8f29b4bea207"
      },
      "outputs": [
        {
          "output_type": "stream",
          "name": "stdout",
          "text": [
            "Drive already mounted at /content/drive; to attempt to forcibly remount, call drive.mount(\"/content/drive\", force_remount=True).\n"
          ]
        }
      ],
      "source": [
        "from google.colab import drive\n",
        "drive.mount('/content/drive')"
      ]
    },
    {
      "cell_type": "markdown",
      "source": [
        "**Reading the DataSet**"
      ],
      "metadata": {
        "id": "2vtLrY0eVyto"
      }
    },
    {
      "cell_type": "code",
      "source": [
        "import pandas as pd\n",
        "df_raw_train=pd.read_csv(\"/content/drive/MyDrive/Hackathon/Hackathon_Wipro/train (1).csv\")"
      ],
      "metadata": {
        "id": "kJ3JqX9Env-9"
      },
      "execution_count": 99,
      "outputs": []
    },
    {
      "cell_type": "code",
      "source": [
        "df_raw_test=pd.read_csv(\"/content/drive/MyDrive/Hackathon/Hackathon_Wipro/test (1).csv\")"
      ],
      "metadata": {
        "id": "dHwmVMVE0a0W"
      },
      "execution_count": 100,
      "outputs": []
    },
    {
      "cell_type": "code",
      "source": [
        "df_raw_train.shape"
      ],
      "metadata": {
        "colab": {
          "base_uri": "https://localhost:8080/"
        },
        "id": "_u5DAayCn-o0",
        "outputId": "b80c0734-4385-4c1e-f116-b6710fd00821"
      },
      "execution_count": 101,
      "outputs": [
        {
          "output_type": "execute_result",
          "data": {
            "text/plain": [
              "(175296, 18)"
            ]
          },
          "metadata": {},
          "execution_count": 101
        }
      ]
    },
    {
      "cell_type": "code",
      "source": [
        "df_raw_test.shape"
      ],
      "metadata": {
        "colab": {
          "base_uri": "https://localhost:8080/"
        },
        "id": "xA1sqeg40uj7",
        "outputId": "eaa0785c-e945-4a85-c517-87b747939830"
      },
      "execution_count": 102,
      "outputs": [
        {
          "output_type": "execute_result",
          "data": {
            "text/plain": [
              "(17520, 18)"
            ]
          },
          "metadata": {},
          "execution_count": 102
        }
      ]
    },
    {
      "cell_type": "code",
      "source": [
        "df_raw_train.head()"
      ],
      "metadata": {
        "colab": {
          "base_uri": "https://localhost:8080/",
          "height": 305
        },
        "id": "DUrQWa-uoDjh",
        "outputId": "461520f6-166c-45bb-fbc3-0e93e338a0ca"
      },
      "execution_count": null,
      "outputs": [
        {
          "output_type": "execute_result",
          "data": {
            "text/html": [
              "\n",
              "  <div id=\"df-cf4eee6b-c12a-44cc-b29b-74a4df84fb24\">\n",
              "    <div class=\"colab-df-container\">\n",
              "      <div>\n",
              "<style scoped>\n",
              "    .dataframe tbody tr th:only-of-type {\n",
              "        vertical-align: middle;\n",
              "    }\n",
              "\n",
              "    .dataframe tbody tr th {\n",
              "        vertical-align: top;\n",
              "    }\n",
              "\n",
              "    .dataframe thead th {\n",
              "        text-align: right;\n",
              "    }\n",
              "</style>\n",
              "<table border=\"1\" class=\"dataframe\">\n",
              "  <thead>\n",
              "    <tr style=\"text-align: right;\">\n",
              "      <th></th>\n",
              "      <th>Year</th>\n",
              "      <th>Month</th>\n",
              "      <th>Day</th>\n",
              "      <th>Hour</th>\n",
              "      <th>Minute</th>\n",
              "      <th>Clearsky DHI</th>\n",
              "      <th>Clearsky DNI</th>\n",
              "      <th>Clearsky GHI</th>\n",
              "      <th>Cloud Type</th>\n",
              "      <th>Dew Point</th>\n",
              "      <th>Temperature</th>\n",
              "      <th>Pressure</th>\n",
              "      <th>Relative Humidity</th>\n",
              "      <th>Solar Zenith Angle</th>\n",
              "      <th>Precipitable Water</th>\n",
              "      <th>Wind Direction</th>\n",
              "      <th>Wind Speed</th>\n",
              "      <th>Fill Flag</th>\n",
              "    </tr>\n",
              "  </thead>\n",
              "  <tbody>\n",
              "    <tr>\n",
              "      <th>0</th>\n",
              "      <td>2009</td>\n",
              "      <td>1</td>\n",
              "      <td>1</td>\n",
              "      <td>0</td>\n",
              "      <td>0</td>\n",
              "      <td>0</td>\n",
              "      <td>0</td>\n",
              "      <td>0</td>\n",
              "      <td>0</td>\n",
              "      <td>0.0</td>\n",
              "      <td>5.0</td>\n",
              "      <td>1010</td>\n",
              "      <td>75.34</td>\n",
              "      <td>106.15</td>\n",
              "      <td>0.499</td>\n",
              "      <td>346.1</td>\n",
              "      <td>3.1</td>\n",
              "      <td>0</td>\n",
              "    </tr>\n",
              "    <tr>\n",
              "      <th>1</th>\n",
              "      <td>2009</td>\n",
              "      <td>1</td>\n",
              "      <td>1</td>\n",
              "      <td>0</td>\n",
              "      <td>30</td>\n",
              "      <td>0</td>\n",
              "      <td>0</td>\n",
              "      <td>0</td>\n",
              "      <td>0</td>\n",
              "      <td>1.0</td>\n",
              "      <td>5.0</td>\n",
              "      <td>1010</td>\n",
              "      <td>80.81</td>\n",
              "      <td>112.28</td>\n",
              "      <td>0.490</td>\n",
              "      <td>346.1</td>\n",
              "      <td>3.1</td>\n",
              "      <td>0</td>\n",
              "    </tr>\n",
              "    <tr>\n",
              "      <th>2</th>\n",
              "      <td>2009</td>\n",
              "      <td>1</td>\n",
              "      <td>1</td>\n",
              "      <td>1</td>\n",
              "      <td>0</td>\n",
              "      <td>0</td>\n",
              "      <td>0</td>\n",
              "      <td>0</td>\n",
              "      <td>4</td>\n",
              "      <td>0.0</td>\n",
              "      <td>5.0</td>\n",
              "      <td>1010</td>\n",
              "      <td>78.27</td>\n",
              "      <td>118.50</td>\n",
              "      <td>0.482</td>\n",
              "      <td>347.9</td>\n",
              "      <td>3.2</td>\n",
              "      <td>0</td>\n",
              "    </tr>\n",
              "    <tr>\n",
              "      <th>3</th>\n",
              "      <td>2009</td>\n",
              "      <td>1</td>\n",
              "      <td>1</td>\n",
              "      <td>1</td>\n",
              "      <td>30</td>\n",
              "      <td>0</td>\n",
              "      <td>0</td>\n",
              "      <td>0</td>\n",
              "      <td>4</td>\n",
              "      <td>0.0</td>\n",
              "      <td>4.0</td>\n",
              "      <td>1010</td>\n",
              "      <td>78.27</td>\n",
              "      <td>124.78</td>\n",
              "      <td>0.478</td>\n",
              "      <td>347.9</td>\n",
              "      <td>3.1</td>\n",
              "      <td>0</td>\n",
              "    </tr>\n",
              "    <tr>\n",
              "      <th>4</th>\n",
              "      <td>2009</td>\n",
              "      <td>1</td>\n",
              "      <td>1</td>\n",
              "      <td>2</td>\n",
              "      <td>0</td>\n",
              "      <td>0</td>\n",
              "      <td>0</td>\n",
              "      <td>0</td>\n",
              "      <td>4</td>\n",
              "      <td>0.0</td>\n",
              "      <td>4.0</td>\n",
              "      <td>1010</td>\n",
              "      <td>76.45</td>\n",
              "      <td>131.12</td>\n",
              "      <td>0.475</td>\n",
              "      <td>350.0</td>\n",
              "      <td>3.0</td>\n",
              "      <td>0</td>\n",
              "    </tr>\n",
              "  </tbody>\n",
              "</table>\n",
              "</div>\n",
              "      <button class=\"colab-df-convert\" onclick=\"convertToInteractive('df-cf4eee6b-c12a-44cc-b29b-74a4df84fb24')\"\n",
              "              title=\"Convert this dataframe to an interactive table.\"\n",
              "              style=\"display:none;\">\n",
              "        \n",
              "  <svg xmlns=\"http://www.w3.org/2000/svg\" height=\"24px\"viewBox=\"0 0 24 24\"\n",
              "       width=\"24px\">\n",
              "    <path d=\"M0 0h24v24H0V0z\" fill=\"none\"/>\n",
              "    <path d=\"M18.56 5.44l.94 2.06.94-2.06 2.06-.94-2.06-.94-.94-2.06-.94 2.06-2.06.94zm-11 1L8.5 8.5l.94-2.06 2.06-.94-2.06-.94L8.5 2.5l-.94 2.06-2.06.94zm10 10l.94 2.06.94-2.06 2.06-.94-2.06-.94-.94-2.06-.94 2.06-2.06.94z\"/><path d=\"M17.41 7.96l-1.37-1.37c-.4-.4-.92-.59-1.43-.59-.52 0-1.04.2-1.43.59L10.3 9.45l-7.72 7.72c-.78.78-.78 2.05 0 2.83L4 21.41c.39.39.9.59 1.41.59.51 0 1.02-.2 1.41-.59l7.78-7.78 2.81-2.81c.8-.78.8-2.07 0-2.86zM5.41 20L4 18.59l7.72-7.72 1.47 1.35L5.41 20z\"/>\n",
              "  </svg>\n",
              "      </button>\n",
              "      \n",
              "  <style>\n",
              "    .colab-df-container {\n",
              "      display:flex;\n",
              "      flex-wrap:wrap;\n",
              "      gap: 12px;\n",
              "    }\n",
              "\n",
              "    .colab-df-convert {\n",
              "      background-color: #E8F0FE;\n",
              "      border: none;\n",
              "      border-radius: 50%;\n",
              "      cursor: pointer;\n",
              "      display: none;\n",
              "      fill: #1967D2;\n",
              "      height: 32px;\n",
              "      padding: 0 0 0 0;\n",
              "      width: 32px;\n",
              "    }\n",
              "\n",
              "    .colab-df-convert:hover {\n",
              "      background-color: #E2EBFA;\n",
              "      box-shadow: 0px 1px 2px rgba(60, 64, 67, 0.3), 0px 1px 3px 1px rgba(60, 64, 67, 0.15);\n",
              "      fill: #174EA6;\n",
              "    }\n",
              "\n",
              "    [theme=dark] .colab-df-convert {\n",
              "      background-color: #3B4455;\n",
              "      fill: #D2E3FC;\n",
              "    }\n",
              "\n",
              "    [theme=dark] .colab-df-convert:hover {\n",
              "      background-color: #434B5C;\n",
              "      box-shadow: 0px 1px 3px 1px rgba(0, 0, 0, 0.15);\n",
              "      filter: drop-shadow(0px 1px 2px rgba(0, 0, 0, 0.3));\n",
              "      fill: #FFFFFF;\n",
              "    }\n",
              "  </style>\n",
              "\n",
              "      <script>\n",
              "        const buttonEl =\n",
              "          document.querySelector('#df-cf4eee6b-c12a-44cc-b29b-74a4df84fb24 button.colab-df-convert');\n",
              "        buttonEl.style.display =\n",
              "          google.colab.kernel.accessAllowed ? 'block' : 'none';\n",
              "\n",
              "        async function convertToInteractive(key) {\n",
              "          const element = document.querySelector('#df-cf4eee6b-c12a-44cc-b29b-74a4df84fb24');\n",
              "          const dataTable =\n",
              "            await google.colab.kernel.invokeFunction('convertToInteractive',\n",
              "                                                     [key], {});\n",
              "          if (!dataTable) return;\n",
              "\n",
              "          const docLinkHtml = 'Like what you see? Visit the ' +\n",
              "            '<a target=\"_blank\" href=https://colab.research.google.com/notebooks/data_table.ipynb>data table notebook</a>'\n",
              "            + ' to learn more about interactive tables.';\n",
              "          element.innerHTML = '';\n",
              "          dataTable['output_type'] = 'display_data';\n",
              "          await google.colab.output.renderOutput(dataTable, element);\n",
              "          const docLink = document.createElement('div');\n",
              "          docLink.innerHTML = docLinkHtml;\n",
              "          element.appendChild(docLink);\n",
              "        }\n",
              "      </script>\n",
              "    </div>\n",
              "  </div>\n",
              "  "
            ],
            "text/plain": [
              "   Year  Month  Day  ...  Wind Direction  Wind Speed  Fill Flag\n",
              "0  2009      1    1  ...           346.1         3.1          0\n",
              "1  2009      1    1  ...           346.1         3.1          0\n",
              "2  2009      1    1  ...           347.9         3.2          0\n",
              "3  2009      1    1  ...           347.9         3.1          0\n",
              "4  2009      1    1  ...           350.0         3.0          0\n",
              "\n",
              "[5 rows x 18 columns]"
            ]
          },
          "metadata": {},
          "execution_count": 44
        }
      ]
    },
    {
      "cell_type": "code",
      "source": [
        "df_raw_test.head()"
      ],
      "metadata": {
        "colab": {
          "base_uri": "https://localhost:8080/",
          "height": 305
        },
        "id": "G7pVzPCn04pZ",
        "outputId": "79a75a78-c0ce-4dae-bc00-3ff7acb2e210"
      },
      "execution_count": null,
      "outputs": [
        {
          "output_type": "execute_result",
          "data": {
            "text/html": [
              "\n",
              "  <div id=\"df-0b9efa1b-b95f-40b2-a0a1-685d8fd5df1e\">\n",
              "    <div class=\"colab-df-container\">\n",
              "      <div>\n",
              "<style scoped>\n",
              "    .dataframe tbody tr th:only-of-type {\n",
              "        vertical-align: middle;\n",
              "    }\n",
              "\n",
              "    .dataframe tbody tr th {\n",
              "        vertical-align: top;\n",
              "    }\n",
              "\n",
              "    .dataframe thead th {\n",
              "        text-align: right;\n",
              "    }\n",
              "</style>\n",
              "<table border=\"1\" class=\"dataframe\">\n",
              "  <thead>\n",
              "    <tr style=\"text-align: right;\">\n",
              "      <th></th>\n",
              "      <th>Year</th>\n",
              "      <th>Month</th>\n",
              "      <th>Day</th>\n",
              "      <th>Hour</th>\n",
              "      <th>Minute</th>\n",
              "      <th>Cloud Type</th>\n",
              "      <th>Dew Point</th>\n",
              "      <th>Temperature</th>\n",
              "      <th>Pressure</th>\n",
              "      <th>Relative Humidity</th>\n",
              "      <th>Solar Zenith Angle</th>\n",
              "      <th>Precipitable Water</th>\n",
              "      <th>Wind Direction</th>\n",
              "      <th>Wind Speed</th>\n",
              "      <th>Fill Flag</th>\n",
              "      <th>Clearsky DHI</th>\n",
              "      <th>Clearsky DNI</th>\n",
              "      <th>Clearsky GHI</th>\n",
              "    </tr>\n",
              "  </thead>\n",
              "  <tbody>\n",
              "    <tr>\n",
              "      <th>0</th>\n",
              "      <td>2019</td>\n",
              "      <td>1</td>\n",
              "      <td>1</td>\n",
              "      <td>0</td>\n",
              "      <td>0</td>\n",
              "      <td>7</td>\n",
              "      <td>18.4</td>\n",
              "      <td>18.8</td>\n",
              "      <td>1008</td>\n",
              "      <td>97.70</td>\n",
              "      <td>106.23</td>\n",
              "      <td>3.5</td>\n",
              "      <td>190</td>\n",
              "      <td>2.3</td>\n",
              "      <td>0</td>\n",
              "      <td>NaN</td>\n",
              "      <td>NaN</td>\n",
              "      <td>NaN</td>\n",
              "    </tr>\n",
              "    <tr>\n",
              "      <th>1</th>\n",
              "      <td>2019</td>\n",
              "      <td>1</td>\n",
              "      <td>1</td>\n",
              "      <td>0</td>\n",
              "      <td>30</td>\n",
              "      <td>3</td>\n",
              "      <td>18.4</td>\n",
              "      <td>18.6</td>\n",
              "      <td>1008</td>\n",
              "      <td>98.92</td>\n",
              "      <td>112.36</td>\n",
              "      <td>3.5</td>\n",
              "      <td>187</td>\n",
              "      <td>2.5</td>\n",
              "      <td>0</td>\n",
              "      <td>NaN</td>\n",
              "      <td>NaN</td>\n",
              "      <td>NaN</td>\n",
              "    </tr>\n",
              "    <tr>\n",
              "      <th>2</th>\n",
              "      <td>2019</td>\n",
              "      <td>1</td>\n",
              "      <td>1</td>\n",
              "      <td>1</td>\n",
              "      <td>0</td>\n",
              "      <td>3</td>\n",
              "      <td>18.2</td>\n",
              "      <td>18.5</td>\n",
              "      <td>1008</td>\n",
              "      <td>98.35</td>\n",
              "      <td>118.58</td>\n",
              "      <td>3.5</td>\n",
              "      <td>184</td>\n",
              "      <td>2.8</td>\n",
              "      <td>0</td>\n",
              "      <td>NaN</td>\n",
              "      <td>NaN</td>\n",
              "      <td>NaN</td>\n",
              "    </tr>\n",
              "    <tr>\n",
              "      <th>3</th>\n",
              "      <td>2019</td>\n",
              "      <td>1</td>\n",
              "      <td>1</td>\n",
              "      <td>1</td>\n",
              "      <td>30</td>\n",
              "      <td>3</td>\n",
              "      <td>18.2</td>\n",
              "      <td>18.3</td>\n",
              "      <td>1008</td>\n",
              "      <td>99.58</td>\n",
              "      <td>124.86</td>\n",
              "      <td>3.5</td>\n",
              "      <td>185</td>\n",
              "      <td>3.0</td>\n",
              "      <td>0</td>\n",
              "      <td>NaN</td>\n",
              "      <td>NaN</td>\n",
              "      <td>NaN</td>\n",
              "    </tr>\n",
              "    <tr>\n",
              "      <th>4</th>\n",
              "      <td>2019</td>\n",
              "      <td>1</td>\n",
              "      <td>1</td>\n",
              "      <td>2</td>\n",
              "      <td>0</td>\n",
              "      <td>0</td>\n",
              "      <td>18.0</td>\n",
              "      <td>18.0</td>\n",
              "      <td>1008</td>\n",
              "      <td>99.71</td>\n",
              "      <td>131.20</td>\n",
              "      <td>3.6</td>\n",
              "      <td>186</td>\n",
              "      <td>3.1</td>\n",
              "      <td>0</td>\n",
              "      <td>NaN</td>\n",
              "      <td>NaN</td>\n",
              "      <td>NaN</td>\n",
              "    </tr>\n",
              "  </tbody>\n",
              "</table>\n",
              "</div>\n",
              "      <button class=\"colab-df-convert\" onclick=\"convertToInteractive('df-0b9efa1b-b95f-40b2-a0a1-685d8fd5df1e')\"\n",
              "              title=\"Convert this dataframe to an interactive table.\"\n",
              "              style=\"display:none;\">\n",
              "        \n",
              "  <svg xmlns=\"http://www.w3.org/2000/svg\" height=\"24px\"viewBox=\"0 0 24 24\"\n",
              "       width=\"24px\">\n",
              "    <path d=\"M0 0h24v24H0V0z\" fill=\"none\"/>\n",
              "    <path d=\"M18.56 5.44l.94 2.06.94-2.06 2.06-.94-2.06-.94-.94-2.06-.94 2.06-2.06.94zm-11 1L8.5 8.5l.94-2.06 2.06-.94-2.06-.94L8.5 2.5l-.94 2.06-2.06.94zm10 10l.94 2.06.94-2.06 2.06-.94-2.06-.94-.94-2.06-.94 2.06-2.06.94z\"/><path d=\"M17.41 7.96l-1.37-1.37c-.4-.4-.92-.59-1.43-.59-.52 0-1.04.2-1.43.59L10.3 9.45l-7.72 7.72c-.78.78-.78 2.05 0 2.83L4 21.41c.39.39.9.59 1.41.59.51 0 1.02-.2 1.41-.59l7.78-7.78 2.81-2.81c.8-.78.8-2.07 0-2.86zM5.41 20L4 18.59l7.72-7.72 1.47 1.35L5.41 20z\"/>\n",
              "  </svg>\n",
              "      </button>\n",
              "      \n",
              "  <style>\n",
              "    .colab-df-container {\n",
              "      display:flex;\n",
              "      flex-wrap:wrap;\n",
              "      gap: 12px;\n",
              "    }\n",
              "\n",
              "    .colab-df-convert {\n",
              "      background-color: #E8F0FE;\n",
              "      border: none;\n",
              "      border-radius: 50%;\n",
              "      cursor: pointer;\n",
              "      display: none;\n",
              "      fill: #1967D2;\n",
              "      height: 32px;\n",
              "      padding: 0 0 0 0;\n",
              "      width: 32px;\n",
              "    }\n",
              "\n",
              "    .colab-df-convert:hover {\n",
              "      background-color: #E2EBFA;\n",
              "      box-shadow: 0px 1px 2px rgba(60, 64, 67, 0.3), 0px 1px 3px 1px rgba(60, 64, 67, 0.15);\n",
              "      fill: #174EA6;\n",
              "    }\n",
              "\n",
              "    [theme=dark] .colab-df-convert {\n",
              "      background-color: #3B4455;\n",
              "      fill: #D2E3FC;\n",
              "    }\n",
              "\n",
              "    [theme=dark] .colab-df-convert:hover {\n",
              "      background-color: #434B5C;\n",
              "      box-shadow: 0px 1px 3px 1px rgba(0, 0, 0, 0.15);\n",
              "      filter: drop-shadow(0px 1px 2px rgba(0, 0, 0, 0.3));\n",
              "      fill: #FFFFFF;\n",
              "    }\n",
              "  </style>\n",
              "\n",
              "      <script>\n",
              "        const buttonEl =\n",
              "          document.querySelector('#df-0b9efa1b-b95f-40b2-a0a1-685d8fd5df1e button.colab-df-convert');\n",
              "        buttonEl.style.display =\n",
              "          google.colab.kernel.accessAllowed ? 'block' : 'none';\n",
              "\n",
              "        async function convertToInteractive(key) {\n",
              "          const element = document.querySelector('#df-0b9efa1b-b95f-40b2-a0a1-685d8fd5df1e');\n",
              "          const dataTable =\n",
              "            await google.colab.kernel.invokeFunction('convertToInteractive',\n",
              "                                                     [key], {});\n",
              "          if (!dataTable) return;\n",
              "\n",
              "          const docLinkHtml = 'Like what you see? Visit the ' +\n",
              "            '<a target=\"_blank\" href=https://colab.research.google.com/notebooks/data_table.ipynb>data table notebook</a>'\n",
              "            + ' to learn more about interactive tables.';\n",
              "          element.innerHTML = '';\n",
              "          dataTable['output_type'] = 'display_data';\n",
              "          await google.colab.output.renderOutput(dataTable, element);\n",
              "          const docLink = document.createElement('div');\n",
              "          docLink.innerHTML = docLinkHtml;\n",
              "          element.appendChild(docLink);\n",
              "        }\n",
              "      </script>\n",
              "    </div>\n",
              "  </div>\n",
              "  "
            ],
            "text/plain": [
              "   Year  Month  Day  Hour  ...  Fill Flag  Clearsky DHI  Clearsky DNI  Clearsky GHI\n",
              "0  2019      1    1     0  ...          0           NaN           NaN           NaN\n",
              "1  2019      1    1     0  ...          0           NaN           NaN           NaN\n",
              "2  2019      1    1     1  ...          0           NaN           NaN           NaN\n",
              "3  2019      1    1     1  ...          0           NaN           NaN           NaN\n",
              "4  2019      1    1     2  ...          0           NaN           NaN           NaN\n",
              "\n",
              "[5 rows x 18 columns]"
            ]
          },
          "metadata": {},
          "execution_count": 45
        }
      ]
    },
    {
      "cell_type": "code",
      "source": [
        "df_raw_train.isna().sum()"
      ],
      "metadata": {
        "colab": {
          "base_uri": "https://localhost:8080/"
        },
        "id": "Rsr14lVooLXx",
        "outputId": "a8286441-3a9d-4b1f-e420-bd57139e3360"
      },
      "execution_count": 103,
      "outputs": [
        {
          "output_type": "execute_result",
          "data": {
            "text/plain": [
              "Year                  0\n",
              "Month                 0\n",
              "Day                   0\n",
              "Hour                  0\n",
              "Minute                0\n",
              "Clearsky DHI          0\n",
              "Clearsky DNI          0\n",
              "Clearsky GHI          0\n",
              "Cloud Type            0\n",
              "Dew Point             0\n",
              "Temperature           0\n",
              "Pressure              0\n",
              "Relative Humidity     0\n",
              "Solar Zenith Angle    0\n",
              "Precipitable Water    0\n",
              "Wind Direction        0\n",
              "Wind Speed            0\n",
              "Fill Flag             0\n",
              "dtype: int64"
            ]
          },
          "metadata": {},
          "execution_count": 103
        }
      ]
    },
    {
      "cell_type": "code",
      "source": [
        "df_raw_test.isna().sum()"
      ],
      "metadata": {
        "colab": {
          "base_uri": "https://localhost:8080/"
        },
        "id": "Mv92SKy61BF5",
        "outputId": "1e70a8d6-87d4-4ae9-dca7-7061aa588e7d"
      },
      "execution_count": 104,
      "outputs": [
        {
          "output_type": "execute_result",
          "data": {
            "text/plain": [
              "Year                      0\n",
              "Month                     0\n",
              "Day                       0\n",
              "Hour                      0\n",
              "Minute                    0\n",
              "Cloud Type                0\n",
              "Dew Point                 0\n",
              "Temperature               0\n",
              "Pressure                  0\n",
              "Relative Humidity         0\n",
              "Solar Zenith Angle        0\n",
              "Precipitable Water        0\n",
              "Wind Direction            0\n",
              "Wind Speed                0\n",
              "Fill Flag                 0\n",
              "Clearsky DHI          17520\n",
              "Clearsky DNI          17520\n",
              "Clearsky GHI          17520\n",
              "dtype: int64"
            ]
          },
          "metadata": {},
          "execution_count": 104
        }
      ]
    },
    {
      "cell_type": "code",
      "source": [
        "df_raw_test.drop(df_raw_test.columns[[15, 16, 17]], axis = 1, inplace = True)"
      ],
      "metadata": {
        "id": "vf_wykDVkOGV"
      },
      "execution_count": 105,
      "outputs": []
    },
    {
      "cell_type": "code",
      "source": [
        "df_raw_test.isna().sum()"
      ],
      "metadata": {
        "colab": {
          "base_uri": "https://localhost:8080/"
        },
        "id": "Rm24NY84mlMJ",
        "outputId": "6673e664-c906-4f8d-dd62-151b1faa0441"
      },
      "execution_count": 106,
      "outputs": [
        {
          "output_type": "execute_result",
          "data": {
            "text/plain": [
              "Year                  0\n",
              "Month                 0\n",
              "Day                   0\n",
              "Hour                  0\n",
              "Minute                0\n",
              "Cloud Type            0\n",
              "Dew Point             0\n",
              "Temperature           0\n",
              "Pressure              0\n",
              "Relative Humidity     0\n",
              "Solar Zenith Angle    0\n",
              "Precipitable Water    0\n",
              "Wind Direction        0\n",
              "Wind Speed            0\n",
              "Fill Flag             0\n",
              "dtype: int64"
            ]
          },
          "metadata": {},
          "execution_count": 106
        }
      ]
    },
    {
      "cell_type": "code",
      "source": [
        "df_raw_train.corr()"
      ],
      "metadata": {
        "colab": {
          "base_uri": "https://localhost:8080/",
          "height": 973
        },
        "id": "mw3KiDw4gHXa",
        "outputId": "4776d14e-34ff-4567-e22c-ef54d9b59a86"
      },
      "execution_count": null,
      "outputs": [
        {
          "output_type": "execute_result",
          "data": {
            "text/html": [
              "\n",
              "  <div id=\"df-508195e7-b1a9-4ad9-920b-322c18d14060\">\n",
              "    <div class=\"colab-df-container\">\n",
              "      <div>\n",
              "<style scoped>\n",
              "    .dataframe tbody tr th:only-of-type {\n",
              "        vertical-align: middle;\n",
              "    }\n",
              "\n",
              "    .dataframe tbody tr th {\n",
              "        vertical-align: top;\n",
              "    }\n",
              "\n",
              "    .dataframe thead th {\n",
              "        text-align: right;\n",
              "    }\n",
              "</style>\n",
              "<table border=\"1\" class=\"dataframe\">\n",
              "  <thead>\n",
              "    <tr style=\"text-align: right;\">\n",
              "      <th></th>\n",
              "      <th>Year</th>\n",
              "      <th>Month</th>\n",
              "      <th>Day</th>\n",
              "      <th>Hour</th>\n",
              "      <th>Minute</th>\n",
              "      <th>Clearsky DHI</th>\n",
              "      <th>Clearsky DNI</th>\n",
              "      <th>Clearsky GHI</th>\n",
              "      <th>Cloud Type</th>\n",
              "      <th>Dew Point</th>\n",
              "      <th>Temperature</th>\n",
              "      <th>Pressure</th>\n",
              "      <th>Relative Humidity</th>\n",
              "      <th>Solar Zenith Angle</th>\n",
              "      <th>Precipitable Water</th>\n",
              "      <th>Wind Direction</th>\n",
              "      <th>Wind Speed</th>\n",
              "      <th>Fill Flag</th>\n",
              "    </tr>\n",
              "  </thead>\n",
              "  <tbody>\n",
              "    <tr>\n",
              "      <th>Year</th>\n",
              "      <td>1.000000</td>\n",
              "      <td>-1.250676e-04</td>\n",
              "      <td>1.438112e-04</td>\n",
              "      <td>0.000000e+00</td>\n",
              "      <td>0.000000</td>\n",
              "      <td>-0.027271</td>\n",
              "      <td>0.010488</td>\n",
              "      <td>0.001011</td>\n",
              "      <td>0.059987</td>\n",
              "      <td>0.059990</td>\n",
              "      <td>0.041339</td>\n",
              "      <td>0.170655</td>\n",
              "      <td>0.006729</td>\n",
              "      <td>-0.000043</td>\n",
              "      <td>0.057450</td>\n",
              "      <td>-0.032013</td>\n",
              "      <td>-0.025577</td>\n",
              "      <td>0.132889</td>\n",
              "    </tr>\n",
              "    <tr>\n",
              "      <th>Month</th>\n",
              "      <td>-0.000125</td>\n",
              "      <td>1.000000e+00</td>\n",
              "      <td>1.079604e-02</td>\n",
              "      <td>-2.852658e-19</td>\n",
              "      <td>0.000000</td>\n",
              "      <td>-0.052826</td>\n",
              "      <td>-0.020091</td>\n",
              "      <td>-0.039901</td>\n",
              "      <td>-0.017394</td>\n",
              "      <td>0.146819</td>\n",
              "      <td>0.200660</td>\n",
              "      <td>-0.046228</td>\n",
              "      <td>-0.109397</td>\n",
              "      <td>0.039427</td>\n",
              "      <td>0.180774</td>\n",
              "      <td>-0.132582</td>\n",
              "      <td>-0.097522</td>\n",
              "      <td>0.005900</td>\n",
              "    </tr>\n",
              "    <tr>\n",
              "      <th>Day</th>\n",
              "      <td>0.000144</td>\n",
              "      <td>1.079604e-02</td>\n",
              "      <td>1.000000e+00</td>\n",
              "      <td>-1.030673e-17</td>\n",
              "      <td>0.000000</td>\n",
              "      <td>-0.004006</td>\n",
              "      <td>0.000962</td>\n",
              "      <td>0.000383</td>\n",
              "      <td>0.001174</td>\n",
              "      <td>0.023617</td>\n",
              "      <td>0.022825</td>\n",
              "      <td>-0.040792</td>\n",
              "      <td>0.000032</td>\n",
              "      <td>-0.001020</td>\n",
              "      <td>0.008565</td>\n",
              "      <td>0.006696</td>\n",
              "      <td>-0.006481</td>\n",
              "      <td>-0.001522</td>\n",
              "    </tr>\n",
              "    <tr>\n",
              "      <th>Hour</th>\n",
              "      <td>0.000000</td>\n",
              "      <td>-2.852658e-19</td>\n",
              "      <td>-1.030673e-17</td>\n",
              "      <td>1.000000e+00</td>\n",
              "      <td>0.000000</td>\n",
              "      <td>0.688314</td>\n",
              "      <td>0.738537</td>\n",
              "      <td>0.650697</td>\n",
              "      <td>-0.026036</td>\n",
              "      <td>0.021269</td>\n",
              "      <td>0.281493</td>\n",
              "      <td>-0.027240</td>\n",
              "      <td>-0.496931</td>\n",
              "      <td>-0.732434</td>\n",
              "      <td>0.012487</td>\n",
              "      <td>0.005142</td>\n",
              "      <td>0.247012</td>\n",
              "      <td>0.055630</td>\n",
              "    </tr>\n",
              "    <tr>\n",
              "      <th>Minute</th>\n",
              "      <td>0.000000</td>\n",
              "      <td>0.000000e+00</td>\n",
              "      <td>0.000000e+00</td>\n",
              "      <td>0.000000e+00</td>\n",
              "      <td>1.000000</td>\n",
              "      <td>-0.001514</td>\n",
              "      <td>-0.001348</td>\n",
              "      <td>-0.000164</td>\n",
              "      <td>0.000485</td>\n",
              "      <td>-0.002042</td>\n",
              "      <td>-0.011724</td>\n",
              "      <td>-0.001636</td>\n",
              "      <td>0.018638</td>\n",
              "      <td>-0.000006</td>\n",
              "      <td>-0.000083</td>\n",
              "      <td>0.000011</td>\n",
              "      <td>-0.009258</td>\n",
              "      <td>-0.000929</td>\n",
              "    </tr>\n",
              "    <tr>\n",
              "      <th>Clearsky DHI</th>\n",
              "      <td>-0.027271</td>\n",
              "      <td>-5.282618e-02</td>\n",
              "      <td>-4.005800e-03</td>\n",
              "      <td>6.883137e-01</td>\n",
              "      <td>-0.001514</td>\n",
              "      <td>1.000000</td>\n",
              "      <td>0.860988</td>\n",
              "      <td>0.912991</td>\n",
              "      <td>0.022479</td>\n",
              "      <td>0.222931</td>\n",
              "      <td>0.503409</td>\n",
              "      <td>-0.093766</td>\n",
              "      <td>-0.559766</td>\n",
              "      <td>-0.873421</td>\n",
              "      <td>0.207504</td>\n",
              "      <td>-0.000195</td>\n",
              "      <td>0.315655</td>\n",
              "      <td>0.000740</td>\n",
              "    </tr>\n",
              "    <tr>\n",
              "      <th>Clearsky DNI</th>\n",
              "      <td>0.010488</td>\n",
              "      <td>-2.009111e-02</td>\n",
              "      <td>9.616594e-04</td>\n",
              "      <td>7.385367e-01</td>\n",
              "      <td>-0.001348</td>\n",
              "      <td>0.860988</td>\n",
              "      <td>1.000000</td>\n",
              "      <td>0.927926</td>\n",
              "      <td>-0.073302</td>\n",
              "      <td>0.033601</td>\n",
              "      <td>0.384353</td>\n",
              "      <td>0.007043</td>\n",
              "      <td>-0.680471</td>\n",
              "      <td>-0.886323</td>\n",
              "      <td>-0.002180</td>\n",
              "      <td>0.006256</td>\n",
              "      <td>0.381162</td>\n",
              "      <td>0.006318</td>\n",
              "    </tr>\n",
              "    <tr>\n",
              "      <th>Clearsky GHI</th>\n",
              "      <td>0.001011</td>\n",
              "      <td>-3.990135e-02</td>\n",
              "      <td>3.825070e-04</td>\n",
              "      <td>6.506965e-01</td>\n",
              "      <td>-0.000164</td>\n",
              "      <td>0.912991</td>\n",
              "      <td>0.927926</td>\n",
              "      <td>1.000000</td>\n",
              "      <td>-0.047297</td>\n",
              "      <td>0.140420</td>\n",
              "      <td>0.478273</td>\n",
              "      <td>-0.050556</td>\n",
              "      <td>-0.655765</td>\n",
              "      <td>-0.891033</td>\n",
              "      <td>0.108725</td>\n",
              "      <td>0.004944</td>\n",
              "      <td>0.349180</td>\n",
              "      <td>-0.030297</td>\n",
              "    </tr>\n",
              "    <tr>\n",
              "      <th>Cloud Type</th>\n",
              "      <td>0.059987</td>\n",
              "      <td>-1.739447e-02</td>\n",
              "      <td>1.173973e-03</td>\n",
              "      <td>-2.603568e-02</td>\n",
              "      <td>0.000485</td>\n",
              "      <td>0.022479</td>\n",
              "      <td>-0.073302</td>\n",
              "      <td>-0.047297</td>\n",
              "      <td>1.000000</td>\n",
              "      <td>0.202096</td>\n",
              "      <td>0.066777</td>\n",
              "      <td>-0.137158</td>\n",
              "      <td>0.235374</td>\n",
              "      <td>0.026873</td>\n",
              "      <td>0.326904</td>\n",
              "      <td>-0.081565</td>\n",
              "      <td>0.072632</td>\n",
              "      <td>0.090161</td>\n",
              "    </tr>\n",
              "    <tr>\n",
              "      <th>Dew Point</th>\n",
              "      <td>0.059990</td>\n",
              "      <td>1.468194e-01</td>\n",
              "      <td>2.361671e-02</td>\n",
              "      <td>2.126862e-02</td>\n",
              "      <td>-0.002042</td>\n",
              "      <td>0.222931</td>\n",
              "      <td>0.033601</td>\n",
              "      <td>0.140420</td>\n",
              "      <td>0.202096</td>\n",
              "      <td>1.000000</td>\n",
              "      <td>0.848948</td>\n",
              "      <td>-0.419534</td>\n",
              "      <td>0.193455</td>\n",
              "      <td>-0.222336</td>\n",
              "      <td>0.881881</td>\n",
              "      <td>-0.076357</td>\n",
              "      <td>-0.140699</td>\n",
              "      <td>0.036851</td>\n",
              "    </tr>\n",
              "    <tr>\n",
              "      <th>Temperature</th>\n",
              "      <td>0.041339</td>\n",
              "      <td>2.006604e-01</td>\n",
              "      <td>2.282494e-02</td>\n",
              "      <td>2.814925e-01</td>\n",
              "      <td>-0.011724</td>\n",
              "      <td>0.503409</td>\n",
              "      <td>0.384353</td>\n",
              "      <td>0.478273</td>\n",
              "      <td>0.066777</td>\n",
              "      <td>0.848948</td>\n",
              "      <td>1.000000</td>\n",
              "      <td>-0.371395</td>\n",
              "      <td>-0.341914</td>\n",
              "      <td>-0.526548</td>\n",
              "      <td>0.742449</td>\n",
              "      <td>-0.066673</td>\n",
              "      <td>-0.046694</td>\n",
              "      <td>0.015734</td>\n",
              "    </tr>\n",
              "    <tr>\n",
              "      <th>Pressure</th>\n",
              "      <td>0.170655</td>\n",
              "      <td>-4.622793e-02</td>\n",
              "      <td>-4.079205e-02</td>\n",
              "      <td>-2.724028e-02</td>\n",
              "      <td>-0.001636</td>\n",
              "      <td>-0.093766</td>\n",
              "      <td>0.007043</td>\n",
              "      <td>-0.050556</td>\n",
              "      <td>-0.137158</td>\n",
              "      <td>-0.419534</td>\n",
              "      <td>-0.371395</td>\n",
              "      <td>1.000000</td>\n",
              "      <td>-0.085004</td>\n",
              "      <td>0.078900</td>\n",
              "      <td>-0.365342</td>\n",
              "      <td>-0.182006</td>\n",
              "      <td>-0.122674</td>\n",
              "      <td>0.052521</td>\n",
              "    </tr>\n",
              "    <tr>\n",
              "      <th>Relative Humidity</th>\n",
              "      <td>0.006729</td>\n",
              "      <td>-1.093972e-01</td>\n",
              "      <td>3.241085e-05</td>\n",
              "      <td>-4.969308e-01</td>\n",
              "      <td>0.018638</td>\n",
              "      <td>-0.559766</td>\n",
              "      <td>-0.680471</td>\n",
              "      <td>-0.655765</td>\n",
              "      <td>0.235374</td>\n",
              "      <td>0.193455</td>\n",
              "      <td>-0.341914</td>\n",
              "      <td>-0.085004</td>\n",
              "      <td>1.000000</td>\n",
              "      <td>0.607108</td>\n",
              "      <td>0.182658</td>\n",
              "      <td>-0.019108</td>\n",
              "      <td>-0.172248</td>\n",
              "      <td>0.023674</td>\n",
              "    </tr>\n",
              "    <tr>\n",
              "      <th>Solar Zenith Angle</th>\n",
              "      <td>-0.000043</td>\n",
              "      <td>3.942729e-02</td>\n",
              "      <td>-1.019550e-03</td>\n",
              "      <td>-7.324343e-01</td>\n",
              "      <td>-0.000006</td>\n",
              "      <td>-0.873421</td>\n",
              "      <td>-0.886323</td>\n",
              "      <td>-0.891033</td>\n",
              "      <td>0.026873</td>\n",
              "      <td>-0.222336</td>\n",
              "      <td>-0.526548</td>\n",
              "      <td>0.078900</td>\n",
              "      <td>0.607108</td>\n",
              "      <td>1.000000</td>\n",
              "      <td>-0.182529</td>\n",
              "      <td>0.003802</td>\n",
              "      <td>-0.295927</td>\n",
              "      <td>-0.029150</td>\n",
              "    </tr>\n",
              "    <tr>\n",
              "      <th>Precipitable Water</th>\n",
              "      <td>0.057450</td>\n",
              "      <td>1.807739e-01</td>\n",
              "      <td>8.564690e-03</td>\n",
              "      <td>1.248658e-02</td>\n",
              "      <td>-0.000083</td>\n",
              "      <td>0.207504</td>\n",
              "      <td>-0.002180</td>\n",
              "      <td>0.108725</td>\n",
              "      <td>0.326904</td>\n",
              "      <td>0.881881</td>\n",
              "      <td>0.742449</td>\n",
              "      <td>-0.365342</td>\n",
              "      <td>0.182658</td>\n",
              "      <td>-0.182529</td>\n",
              "      <td>1.000000</td>\n",
              "      <td>-0.105735</td>\n",
              "      <td>-0.106892</td>\n",
              "      <td>0.044106</td>\n",
              "    </tr>\n",
              "    <tr>\n",
              "      <th>Wind Direction</th>\n",
              "      <td>-0.032013</td>\n",
              "      <td>-1.325817e-01</td>\n",
              "      <td>6.696016e-03</td>\n",
              "      <td>5.141698e-03</td>\n",
              "      <td>0.000011</td>\n",
              "      <td>-0.000195</td>\n",
              "      <td>0.006256</td>\n",
              "      <td>0.004944</td>\n",
              "      <td>-0.081565</td>\n",
              "      <td>-0.076357</td>\n",
              "      <td>-0.066673</td>\n",
              "      <td>-0.182006</td>\n",
              "      <td>-0.019108</td>\n",
              "      <td>0.003802</td>\n",
              "      <td>-0.105735</td>\n",
              "      <td>1.000000</td>\n",
              "      <td>0.035634</td>\n",
              "      <td>-0.017124</td>\n",
              "    </tr>\n",
              "    <tr>\n",
              "      <th>Wind Speed</th>\n",
              "      <td>-0.025577</td>\n",
              "      <td>-9.752170e-02</td>\n",
              "      <td>-6.481469e-03</td>\n",
              "      <td>2.470120e-01</td>\n",
              "      <td>-0.009258</td>\n",
              "      <td>0.315655</td>\n",
              "      <td>0.381162</td>\n",
              "      <td>0.349180</td>\n",
              "      <td>0.072632</td>\n",
              "      <td>-0.140699</td>\n",
              "      <td>-0.046694</td>\n",
              "      <td>-0.122674</td>\n",
              "      <td>-0.172248</td>\n",
              "      <td>-0.295927</td>\n",
              "      <td>-0.106892</td>\n",
              "      <td>0.035634</td>\n",
              "      <td>1.000000</td>\n",
              "      <td>0.000447</td>\n",
              "    </tr>\n",
              "    <tr>\n",
              "      <th>Fill Flag</th>\n",
              "      <td>0.132889</td>\n",
              "      <td>5.899776e-03</td>\n",
              "      <td>-1.522006e-03</td>\n",
              "      <td>5.562988e-02</td>\n",
              "      <td>-0.000929</td>\n",
              "      <td>0.000740</td>\n",
              "      <td>0.006318</td>\n",
              "      <td>-0.030297</td>\n",
              "      <td>0.090161</td>\n",
              "      <td>0.036851</td>\n",
              "      <td>0.015734</td>\n",
              "      <td>0.052521</td>\n",
              "      <td>0.023674</td>\n",
              "      <td>-0.029150</td>\n",
              "      <td>0.044106</td>\n",
              "      <td>-0.017124</td>\n",
              "      <td>0.000447</td>\n",
              "      <td>1.000000</td>\n",
              "    </tr>\n",
              "  </tbody>\n",
              "</table>\n",
              "</div>\n",
              "      <button class=\"colab-df-convert\" onclick=\"convertToInteractive('df-508195e7-b1a9-4ad9-920b-322c18d14060')\"\n",
              "              title=\"Convert this dataframe to an interactive table.\"\n",
              "              style=\"display:none;\">\n",
              "        \n",
              "  <svg xmlns=\"http://www.w3.org/2000/svg\" height=\"24px\"viewBox=\"0 0 24 24\"\n",
              "       width=\"24px\">\n",
              "    <path d=\"M0 0h24v24H0V0z\" fill=\"none\"/>\n",
              "    <path d=\"M18.56 5.44l.94 2.06.94-2.06 2.06-.94-2.06-.94-.94-2.06-.94 2.06-2.06.94zm-11 1L8.5 8.5l.94-2.06 2.06-.94-2.06-.94L8.5 2.5l-.94 2.06-2.06.94zm10 10l.94 2.06.94-2.06 2.06-.94-2.06-.94-.94-2.06-.94 2.06-2.06.94z\"/><path d=\"M17.41 7.96l-1.37-1.37c-.4-.4-.92-.59-1.43-.59-.52 0-1.04.2-1.43.59L10.3 9.45l-7.72 7.72c-.78.78-.78 2.05 0 2.83L4 21.41c.39.39.9.59 1.41.59.51 0 1.02-.2 1.41-.59l7.78-7.78 2.81-2.81c.8-.78.8-2.07 0-2.86zM5.41 20L4 18.59l7.72-7.72 1.47 1.35L5.41 20z\"/>\n",
              "  </svg>\n",
              "      </button>\n",
              "      \n",
              "  <style>\n",
              "    .colab-df-container {\n",
              "      display:flex;\n",
              "      flex-wrap:wrap;\n",
              "      gap: 12px;\n",
              "    }\n",
              "\n",
              "    .colab-df-convert {\n",
              "      background-color: #E8F0FE;\n",
              "      border: none;\n",
              "      border-radius: 50%;\n",
              "      cursor: pointer;\n",
              "      display: none;\n",
              "      fill: #1967D2;\n",
              "      height: 32px;\n",
              "      padding: 0 0 0 0;\n",
              "      width: 32px;\n",
              "    }\n",
              "\n",
              "    .colab-df-convert:hover {\n",
              "      background-color: #E2EBFA;\n",
              "      box-shadow: 0px 1px 2px rgba(60, 64, 67, 0.3), 0px 1px 3px 1px rgba(60, 64, 67, 0.15);\n",
              "      fill: #174EA6;\n",
              "    }\n",
              "\n",
              "    [theme=dark] .colab-df-convert {\n",
              "      background-color: #3B4455;\n",
              "      fill: #D2E3FC;\n",
              "    }\n",
              "\n",
              "    [theme=dark] .colab-df-convert:hover {\n",
              "      background-color: #434B5C;\n",
              "      box-shadow: 0px 1px 3px 1px rgba(0, 0, 0, 0.15);\n",
              "      filter: drop-shadow(0px 1px 2px rgba(0, 0, 0, 0.3));\n",
              "      fill: #FFFFFF;\n",
              "    }\n",
              "  </style>\n",
              "\n",
              "      <script>\n",
              "        const buttonEl =\n",
              "          document.querySelector('#df-508195e7-b1a9-4ad9-920b-322c18d14060 button.colab-df-convert');\n",
              "        buttonEl.style.display =\n",
              "          google.colab.kernel.accessAllowed ? 'block' : 'none';\n",
              "\n",
              "        async function convertToInteractive(key) {\n",
              "          const element = document.querySelector('#df-508195e7-b1a9-4ad9-920b-322c18d14060');\n",
              "          const dataTable =\n",
              "            await google.colab.kernel.invokeFunction('convertToInteractive',\n",
              "                                                     [key], {});\n",
              "          if (!dataTable) return;\n",
              "\n",
              "          const docLinkHtml = 'Like what you see? Visit the ' +\n",
              "            '<a target=\"_blank\" href=https://colab.research.google.com/notebooks/data_table.ipynb>data table notebook</a>'\n",
              "            + ' to learn more about interactive tables.';\n",
              "          element.innerHTML = '';\n",
              "          dataTable['output_type'] = 'display_data';\n",
              "          await google.colab.output.renderOutput(dataTable, element);\n",
              "          const docLink = document.createElement('div');\n",
              "          docLink.innerHTML = docLinkHtml;\n",
              "          element.appendChild(docLink);\n",
              "        }\n",
              "      </script>\n",
              "    </div>\n",
              "  </div>\n",
              "  "
            ],
            "text/plain": [
              "                        Year         Month  ...  Wind Speed  Fill Flag\n",
              "Year                1.000000 -1.250676e-04  ...   -0.025577   0.132889\n",
              "Month              -0.000125  1.000000e+00  ...   -0.097522   0.005900\n",
              "Day                 0.000144  1.079604e-02  ...   -0.006481  -0.001522\n",
              "Hour                0.000000 -2.852658e-19  ...    0.247012   0.055630\n",
              "Minute              0.000000  0.000000e+00  ...   -0.009258  -0.000929\n",
              "Clearsky DHI       -0.027271 -5.282618e-02  ...    0.315655   0.000740\n",
              "Clearsky DNI        0.010488 -2.009111e-02  ...    0.381162   0.006318\n",
              "Clearsky GHI        0.001011 -3.990135e-02  ...    0.349180  -0.030297\n",
              "Cloud Type          0.059987 -1.739447e-02  ...    0.072632   0.090161\n",
              "Dew Point           0.059990  1.468194e-01  ...   -0.140699   0.036851\n",
              "Temperature         0.041339  2.006604e-01  ...   -0.046694   0.015734\n",
              "Pressure            0.170655 -4.622793e-02  ...   -0.122674   0.052521\n",
              "Relative Humidity   0.006729 -1.093972e-01  ...   -0.172248   0.023674\n",
              "Solar Zenith Angle -0.000043  3.942729e-02  ...   -0.295927  -0.029150\n",
              "Precipitable Water  0.057450  1.807739e-01  ...   -0.106892   0.044106\n",
              "Wind Direction     -0.032013 -1.325817e-01  ...    0.035634  -0.017124\n",
              "Wind Speed         -0.025577 -9.752170e-02  ...    1.000000   0.000447\n",
              "Fill Flag           0.132889  5.899776e-03  ...    0.000447   1.000000\n",
              "\n",
              "[18 rows x 18 columns]"
            ]
          },
          "metadata": {},
          "execution_count": 213
        }
      ]
    },
    {
      "cell_type": "code",
      "source": [
        "cols = ['Year','Month','Day','Hour','Minute','Cloud Type','Dew Point','Temperature','Pressure','Relative Humidity','Solar Zenith Angle','Precipitable Water','Wind Direction','Wind Speed','Fill Flag'] # one or more\n",
        "\n",
        "Q1 = df_raw_train[cols].quantile(0.25)\n",
        "Q3 = df_raw_train[cols].quantile(0.75)\n",
        "IQR = Q3 - Q1\n",
        "\n",
        "df_new_train = df_raw_train[~((df_raw_train[cols] < (Q1 - 1.5 * IQR)) |(df_raw_train[cols] > (Q3 + 1.5 * IQR))).any(axis=1)]"
      ],
      "metadata": {
        "id": "mGdIH6NBBOAx"
      },
      "execution_count": 107,
      "outputs": []
    },
    {
      "cell_type": "code",
      "source": [
        "df_raw_train.shape"
      ],
      "metadata": {
        "colab": {
          "base_uri": "https://localhost:8080/"
        },
        "id": "_l-jJeumFWBx",
        "outputId": "a918fa2b-7971-4797-e92c-bb3666731e97"
      },
      "execution_count": 108,
      "outputs": [
        {
          "output_type": "execute_result",
          "data": {
            "text/plain": [
              "(175296, 18)"
            ]
          },
          "metadata": {},
          "execution_count": 108
        }
      ]
    },
    {
      "cell_type": "code",
      "source": [
        "df_new_train.shape"
      ],
      "metadata": {
        "colab": {
          "base_uri": "https://localhost:8080/"
        },
        "id": "lIWpJNGvFc9J",
        "outputId": "1fd9e037-bf61-4766-e258-76083bfcbf40"
      },
      "execution_count": 109,
      "outputs": [
        {
          "output_type": "execute_result",
          "data": {
            "text/plain": [
              "(160587, 18)"
            ]
          },
          "metadata": {},
          "execution_count": 109
        }
      ]
    },
    {
      "cell_type": "code",
      "source": [
        "cols = ['Year','Month','Day','Hour','Minute','Cloud Type','Dew Point','Temperature','Pressure','Relative Humidity','Solar Zenith Angle','Precipitable Water','Wind Direction','Wind Speed','Fill Flag'] # one or more\n",
        "\n",
        "Q1 = df_raw_test[cols].quantile(0.25)\n",
        "Q3 = df_raw_test[cols].quantile(0.75)\n",
        "IQR = Q3 - Q1\n",
        "\n",
        "df_new_test = df_raw_test[~((df_raw_test[cols] < (Q1 - 1.5 * IQR)) |(df_raw_test[cols] > (Q3 + 1.5 * IQR))).any(axis=1)]"
      ],
      "metadata": {
        "id": "XXzg6NW3Fjbl"
      },
      "execution_count": 110,
      "outputs": []
    },
    {
      "cell_type": "code",
      "source": [
        "df_raw_test.shape"
      ],
      "metadata": {
        "colab": {
          "base_uri": "https://localhost:8080/"
        },
        "id": "zo2Sfp2fFV-S",
        "outputId": "5192e420-22ca-4a50-c1b6-e6b5c853bcc8"
      },
      "execution_count": 111,
      "outputs": [
        {
          "output_type": "execute_result",
          "data": {
            "text/plain": [
              "(17520, 15)"
            ]
          },
          "metadata": {},
          "execution_count": 111
        }
      ]
    },
    {
      "cell_type": "code",
      "source": [
        "df_new_test.shape"
      ],
      "metadata": {
        "colab": {
          "base_uri": "https://localhost:8080/"
        },
        "id": "S9asF7MhGCKw",
        "outputId": "f5d478fd-59f8-4961-d19a-e6ed157b9ba2"
      },
      "execution_count": 112,
      "outputs": [
        {
          "output_type": "execute_result",
          "data": {
            "text/plain": [
              "(15379, 15)"
            ]
          },
          "metadata": {},
          "execution_count": 112
        }
      ]
    },
    {
      "cell_type": "code",
      "source": [
        "df_new_train.info()"
      ],
      "metadata": {
        "colab": {
          "base_uri": "https://localhost:8080/"
        },
        "id": "GcYMq7QfVwSb",
        "outputId": "14b54c61-5008-4fd7-d858-a72d20710b8f"
      },
      "execution_count": null,
      "outputs": [
        {
          "output_type": "stream",
          "name": "stdout",
          "text": [
            "<class 'pandas.core.frame.DataFrame'>\n",
            "Int64Index: 160587 entries, 0 to 175295\n",
            "Data columns (total 18 columns):\n",
            " #   Column              Non-Null Count   Dtype  \n",
            "---  ------              --------------   -----  \n",
            " 0   Year                160587 non-null  int64  \n",
            " 1   Month               160587 non-null  int64  \n",
            " 2   Day                 160587 non-null  int64  \n",
            " 3   Hour                160587 non-null  int64  \n",
            " 4   Minute              160587 non-null  int64  \n",
            " 5   Clearsky DHI        160587 non-null  int64  \n",
            " 6   Clearsky DNI        160587 non-null  int64  \n",
            " 7   Clearsky GHI        160587 non-null  int64  \n",
            " 8   Cloud Type          160587 non-null  int64  \n",
            " 9   Dew Point           160587 non-null  float64\n",
            " 10  Temperature         160587 non-null  float64\n",
            " 11  Pressure            160587 non-null  int64  \n",
            " 12  Relative Humidity   160587 non-null  float64\n",
            " 13  Solar Zenith Angle  160587 non-null  float64\n",
            " 14  Precipitable Water  160587 non-null  float64\n",
            " 15  Wind Direction      160587 non-null  float64\n",
            " 16  Wind Speed          160587 non-null  float64\n",
            " 17  Fill Flag           160587 non-null  int64  \n",
            "dtypes: float64(7), int64(11)\n",
            "memory usage: 23.3 MB\n"
          ]
        }
      ]
    },
    {
      "cell_type": "code",
      "source": [
        "df_new_test.info()"
      ],
      "metadata": {
        "colab": {
          "base_uri": "https://localhost:8080/"
        },
        "id": "wbSaIXyNghPV",
        "outputId": "389ae29f-0f08-4ea0-9b49-5d2907f62adc"
      },
      "execution_count": null,
      "outputs": [
        {
          "output_type": "stream",
          "name": "stdout",
          "text": [
            "<class 'pandas.core.frame.DataFrame'>\n",
            "Int64Index: 15379 entries, 0 to 17519\n",
            "Data columns (total 15 columns):\n",
            " #   Column              Non-Null Count  Dtype  \n",
            "---  ------              --------------  -----  \n",
            " 0   Year                15379 non-null  int64  \n",
            " 1   Month               15379 non-null  int64  \n",
            " 2   Day                 15379 non-null  int64  \n",
            " 3   Hour                15379 non-null  int64  \n",
            " 4   Minute              15379 non-null  int64  \n",
            " 5   Cloud Type          15379 non-null  int64  \n",
            " 6   Dew Point           15379 non-null  float64\n",
            " 7   Temperature         15379 non-null  float64\n",
            " 8   Pressure            15379 non-null  int64  \n",
            " 9   Relative Humidity   15379 non-null  float64\n",
            " 10  Solar Zenith Angle  15379 non-null  float64\n",
            " 11  Precipitable Water  15379 non-null  float64\n",
            " 12  Wind Direction      15379 non-null  int64  \n",
            " 13  Wind Speed          15379 non-null  float64\n",
            " 14  Fill Flag           15379 non-null  int64  \n",
            "dtypes: float64(6), int64(9)\n",
            "memory usage: 1.9 MB\n"
          ]
        }
      ]
    },
    {
      "cell_type": "markdown",
      "source": [
        "**Splitting X and Y**"
      ],
      "metadata": {
        "id": "zvV8PVggZRXy"
      }
    },
    {
      "cell_type": "code",
      "source": [
        "x_train_data = df_new_train[df_new_train.columns[[0,1,2,3,4,8,9,10,11,12,13,14,16,17]]]"
      ],
      "metadata": {
        "id": "9vr0x8zFGhMQ"
      },
      "execution_count": 118,
      "outputs": []
    },
    {
      "cell_type": "code",
      "source": [
        "y = df_new_train[['Clearsky DHI','Clearsky DNI','Clearsky GHI']]"
      ],
      "metadata": {
        "id": "PsC7CXLKATsI"
      },
      "execution_count": 119,
      "outputs": []
    },
    {
      "cell_type": "code",
      "source": [
        "x_test_data = df_new_test.iloc[:,0:14]"
      ],
      "metadata": {
        "id": "zoncNF3sgWzZ"
      },
      "execution_count": 120,
      "outputs": []
    },
    {
      "cell_type": "markdown",
      "source": [
        "**Multicolinearity**"
      ],
      "metadata": {
        "id": "egHleX9oRFa6"
      }
    },
    {
      "cell_type": "code",
      "source": [
        "VIF = []"
      ],
      "metadata": {
        "id": "Bke758usRD1J"
      },
      "execution_count": null,
      "outputs": []
    },
    {
      "cell_type": "code",
      "source": [
        "from statsmodels.stats.outliers_influence import variance_inflation_factor"
      ],
      "metadata": {
        "id": "3ba3GRXURPwE"
      },
      "execution_count": null,
      "outputs": []
    },
    {
      "cell_type": "code",
      "source": [
        "for j in range(x_train.shape[1]):\n",
        "    VIF.append(variance_inflation_factor(x_train.values,j))\n",
        "print(VIF)"
      ],
      "metadata": {
        "colab": {
          "base_uri": "https://localhost:8080/"
        },
        "id": "VXgG6wv_Ra64",
        "outputId": "7bcd0079-219c-4335-871c-50a878c851b9"
      },
      "execution_count": null,
      "outputs": [
        {
          "output_type": "stream",
          "name": "stdout",
          "text": [
            "[8.686313972488671, 18.038299967719915, 57.62032667483062, 18.748623473337737, 11.83207682131678, 4.612058043640489, nan]\n"
          ]
        },
        {
          "output_type": "stream",
          "name": "stderr",
          "text": [
            "/usr/local/lib/python3.7/dist-packages/statsmodels/regression/linear_model.py:1638: RuntimeWarning: invalid value encountered in double_scalars\n",
            "  return 1 - self.ssr/self.uncentered_tss\n"
          ]
        }
      ]
    },
    {
      "cell_type": "code",
      "source": [
        "import numpy as np\n",
        "np.transpose(VIF)\n",
        "pd.DataFrame(x_train.columns)\n",
        "pd.DataFrame(np.transpose(VIF))\n",
        "pd.concat([pd.DataFrame(x_train.columns),pd.DataFrame(np.transpose(VIF))], axis =1)"
      ],
      "metadata": {
        "colab": {
          "base_uri": "https://localhost:8080/",
          "height": 269
        },
        "id": "vxSVxVrmThbF",
        "outputId": "2a92dfbf-87b0-44da-86cd-184cb13d9e8b"
      },
      "execution_count": null,
      "outputs": [
        {
          "output_type": "execute_result",
          "data": {
            "text/html": [
              "\n",
              "  <div id=\"df-d7f4da3d-7b8a-42c3-924e-5d9ec092c24d\">\n",
              "    <div class=\"colab-df-container\">\n",
              "      <div>\n",
              "<style scoped>\n",
              "    .dataframe tbody tr th:only-of-type {\n",
              "        vertical-align: middle;\n",
              "    }\n",
              "\n",
              "    .dataframe tbody tr th {\n",
              "        vertical-align: top;\n",
              "    }\n",
              "\n",
              "    .dataframe thead th {\n",
              "        text-align: right;\n",
              "    }\n",
              "</style>\n",
              "<table border=\"1\" class=\"dataframe\">\n",
              "  <thead>\n",
              "    <tr style=\"text-align: right;\">\n",
              "      <th></th>\n",
              "      <th>0</th>\n",
              "      <th>0</th>\n",
              "    </tr>\n",
              "  </thead>\n",
              "  <tbody>\n",
              "    <tr>\n",
              "      <th>0</th>\n",
              "      <td>Hour</td>\n",
              "      <td>8.686314</td>\n",
              "    </tr>\n",
              "    <tr>\n",
              "      <th>1</th>\n",
              "      <td>Temperature</td>\n",
              "      <td>18.038300</td>\n",
              "    </tr>\n",
              "    <tr>\n",
              "      <th>2</th>\n",
              "      <td>Pressure</td>\n",
              "      <td>57.620327</td>\n",
              "    </tr>\n",
              "    <tr>\n",
              "      <th>3</th>\n",
              "      <td>Solar Zenith Angle</td>\n",
              "      <td>18.748623</td>\n",
              "    </tr>\n",
              "    <tr>\n",
              "      <th>4</th>\n",
              "      <td>Precipitable Water</td>\n",
              "      <td>11.832077</td>\n",
              "    </tr>\n",
              "    <tr>\n",
              "      <th>5</th>\n",
              "      <td>Wind Direction</td>\n",
              "      <td>4.612058</td>\n",
              "    </tr>\n",
              "    <tr>\n",
              "      <th>6</th>\n",
              "      <td>Fill Flag</td>\n",
              "      <td>NaN</td>\n",
              "    </tr>\n",
              "  </tbody>\n",
              "</table>\n",
              "</div>\n",
              "      <button class=\"colab-df-convert\" onclick=\"convertToInteractive('df-d7f4da3d-7b8a-42c3-924e-5d9ec092c24d')\"\n",
              "              title=\"Convert this dataframe to an interactive table.\"\n",
              "              style=\"display:none;\">\n",
              "        \n",
              "  <svg xmlns=\"http://www.w3.org/2000/svg\" height=\"24px\"viewBox=\"0 0 24 24\"\n",
              "       width=\"24px\">\n",
              "    <path d=\"M0 0h24v24H0V0z\" fill=\"none\"/>\n",
              "    <path d=\"M18.56 5.44l.94 2.06.94-2.06 2.06-.94-2.06-.94-.94-2.06-.94 2.06-2.06.94zm-11 1L8.5 8.5l.94-2.06 2.06-.94-2.06-.94L8.5 2.5l-.94 2.06-2.06.94zm10 10l.94 2.06.94-2.06 2.06-.94-2.06-.94-.94-2.06-.94 2.06-2.06.94z\"/><path d=\"M17.41 7.96l-1.37-1.37c-.4-.4-.92-.59-1.43-.59-.52 0-1.04.2-1.43.59L10.3 9.45l-7.72 7.72c-.78.78-.78 2.05 0 2.83L4 21.41c.39.39.9.59 1.41.59.51 0 1.02-.2 1.41-.59l7.78-7.78 2.81-2.81c.8-.78.8-2.07 0-2.86zM5.41 20L4 18.59l7.72-7.72 1.47 1.35L5.41 20z\"/>\n",
              "  </svg>\n",
              "      </button>\n",
              "      \n",
              "  <style>\n",
              "    .colab-df-container {\n",
              "      display:flex;\n",
              "      flex-wrap:wrap;\n",
              "      gap: 12px;\n",
              "    }\n",
              "\n",
              "    .colab-df-convert {\n",
              "      background-color: #E8F0FE;\n",
              "      border: none;\n",
              "      border-radius: 50%;\n",
              "      cursor: pointer;\n",
              "      display: none;\n",
              "      fill: #1967D2;\n",
              "      height: 32px;\n",
              "      padding: 0 0 0 0;\n",
              "      width: 32px;\n",
              "    }\n",
              "\n",
              "    .colab-df-convert:hover {\n",
              "      background-color: #E2EBFA;\n",
              "      box-shadow: 0px 1px 2px rgba(60, 64, 67, 0.3), 0px 1px 3px 1px rgba(60, 64, 67, 0.15);\n",
              "      fill: #174EA6;\n",
              "    }\n",
              "\n",
              "    [theme=dark] .colab-df-convert {\n",
              "      background-color: #3B4455;\n",
              "      fill: #D2E3FC;\n",
              "    }\n",
              "\n",
              "    [theme=dark] .colab-df-convert:hover {\n",
              "      background-color: #434B5C;\n",
              "      box-shadow: 0px 1px 3px 1px rgba(0, 0, 0, 0.15);\n",
              "      filter: drop-shadow(0px 1px 2px rgba(0, 0, 0, 0.3));\n",
              "      fill: #FFFFFF;\n",
              "    }\n",
              "  </style>\n",
              "\n",
              "      <script>\n",
              "        const buttonEl =\n",
              "          document.querySelector('#df-d7f4da3d-7b8a-42c3-924e-5d9ec092c24d button.colab-df-convert');\n",
              "        buttonEl.style.display =\n",
              "          google.colab.kernel.accessAllowed ? 'block' : 'none';\n",
              "\n",
              "        async function convertToInteractive(key) {\n",
              "          const element = document.querySelector('#df-d7f4da3d-7b8a-42c3-924e-5d9ec092c24d');\n",
              "          const dataTable =\n",
              "            await google.colab.kernel.invokeFunction('convertToInteractive',\n",
              "                                                     [key], {});\n",
              "          if (!dataTable) return;\n",
              "\n",
              "          const docLinkHtml = 'Like what you see? Visit the ' +\n",
              "            '<a target=\"_blank\" href=https://colab.research.google.com/notebooks/data_table.ipynb>data table notebook</a>'\n",
              "            + ' to learn more about interactive tables.';\n",
              "          element.innerHTML = '';\n",
              "          dataTable['output_type'] = 'display_data';\n",
              "          await google.colab.output.renderOutput(dataTable, element);\n",
              "          const docLink = document.createElement('div');\n",
              "          docLink.innerHTML = docLinkHtml;\n",
              "          element.appendChild(docLink);\n",
              "        }\n",
              "      </script>\n",
              "    </div>\n",
              "  </div>\n",
              "  "
            ],
            "text/plain": [
              "                    0          0\n",
              "0                Hour   8.686314\n",
              "1         Temperature  18.038300\n",
              "2            Pressure  57.620327\n",
              "3  Solar Zenith Angle  18.748623\n",
              "4  Precipitable Water  11.832077\n",
              "5      Wind Direction   4.612058\n",
              "6           Fill Flag        NaN"
            ]
          },
          "metadata": {},
          "execution_count": 220
        }
      ]
    },
    {
      "cell_type": "markdown",
      "source": [
        "**Standardization**"
      ],
      "metadata": {
        "id": "Hriv3p83Zeko"
      }
    },
    {
      "cell_type": "code",
      "source": [
        "from sklearn.preprocessing import StandardScaler\n",
        "x_scale_train = StandardScaler().fit_transform(x_train)"
      ],
      "metadata": {
        "id": "kzXvSGeCpowU"
      },
      "execution_count": null,
      "outputs": []
    },
    {
      "cell_type": "code",
      "source": [
        "from sklearn.preprocessing import StandardScaler\n",
        "x_scale_test = StandardScaler().fit_transform(x_test_data)"
      ],
      "metadata": {
        "id": "6SOleMZG8SXe"
      },
      "execution_count": null,
      "outputs": []
    },
    {
      "cell_type": "markdown",
      "source": [
        "**Splitting Train and Test**"
      ],
      "metadata": {
        "id": "qKecbWFwZjm9"
      }
    },
    {
      "cell_type": "code",
      "source": [
        "from sklearn.model_selection import train_test_split\n",
        "x_train,x_test,y_train,y_test = train_test_split(x_scale_train,y,test_size=0.25, random_state=20)"
      ],
      "metadata": {
        "id": "__Px7Jxd8uHU"
      },
      "execution_count": null,
      "outputs": []
    },
    {
      "cell_type": "code",
      "source": [
        "from sklearn.model_selection import train_test_split\n",
        "x_train,x_test,y_train,y_test = train_test_split(x_train_data,y,test_size=0.25, random_state=20)"
      ],
      "metadata": {
        "id": "d4kpjEC6bclK"
      },
      "execution_count": 121,
      "outputs": []
    },
    {
      "cell_type": "code",
      "source": [
        "from sklearn.linear_model import Ridge\n",
        "RR = Ridge(alpha=0.99)  # alpha=1.0\n",
        "RR.fit(x_train,y_train)\n",
        "RR.coef_"
      ],
      "metadata": {
        "colab": {
          "base_uri": "https://localhost:8080/"
        },
        "id": "gTArCqTg_7-3",
        "outputId": "f1c38220-84cf-44d8-b986-fb3f9966765a"
      },
      "execution_count": 122,
      "outputs": [
        {
          "output_type": "execute_result",
          "data": {
            "text/plain": [
              "array([[-7.15079933e-01, -9.56934996e-01, -3.26498891e-02,\n",
              "         1.29765715e+00,  1.54034545e-02,  9.50435572e-01,\n",
              "         2.49995324e-01,  6.88429850e-02,  2.23006234e-01,\n",
              "        -3.76967173e-01, -1.04156669e+00,  3.66631599e+00,\n",
              "         4.07703920e+00,  0.00000000e+00],\n",
              "       [ 1.62480177e+00,  9.78030287e-01,  1.03726189e-01,\n",
              "         8.96443915e+00,  1.12404281e-01,  2.89533954e+00,\n",
              "         7.52545132e+00, -4.97327863e+00,  2.49325562e+00,\n",
              "        -4.68733883e+00, -5.77141925e+00, -2.54924415e+01,\n",
              "         3.84364741e+01,  0.00000000e+00],\n",
              "       [ 1.37743397e+00, -2.65271110e+00, -4.85978864e-03,\n",
              "        -1.74965246e-01,  8.25277008e-02,  3.49134901e+00,\n",
              "        -9.54802615e+00,  1.13502137e+01,  1.40930276e+00,\n",
              "        -8.00055117e-01, -5.95886489e+00, -2.45037868e+00,\n",
              "         2.82998968e+01,  0.00000000e+00]])"
            ]
          },
          "metadata": {},
          "execution_count": 122
        }
      ]
    },
    {
      "cell_type": "code",
      "source": [
        "import numpy as np"
      ],
      "metadata": {
        "id": "NEfrCSIZcGQF"
      },
      "execution_count": null,
      "outputs": []
    },
    {
      "cell_type": "code",
      "source": [
        "co_eff = pd.concat([pd.DataFrame(x_train.columns),pd.DataFrame(np.transpose(RR.coef_))], axis =1)\n",
        "print(co_eff)"
      ],
      "metadata": {
        "colab": {
          "base_uri": "https://localhost:8080/"
        },
        "id": "r7WhAQYQbxOJ",
        "outputId": "fc3fddac-9f15-445b-b459-a38ec4ab8041"
      },
      "execution_count": 123,
      "outputs": [
        {
          "output_type": "stream",
          "name": "stdout",
          "text": [
            "                     0         0          1          2\n",
            "0                 Year -0.715080   1.624802   1.377434\n",
            "1                Month -0.956935   0.978030  -2.652711\n",
            "2                  Day -0.032650   0.103726  -0.004860\n",
            "3                 Hour  1.297657   8.964439  -0.174965\n",
            "4               Minute  0.015403   0.112404   0.082528\n",
            "5           Cloud Type  0.950436   2.895340   3.491349\n",
            "6            Dew Point  0.249995   7.525451  -9.548026\n",
            "7          Temperature  0.068843  -4.973279  11.350214\n",
            "8             Pressure  0.223006   2.493256   1.409303\n",
            "9    Relative Humidity -0.376967  -4.687339  -0.800055\n",
            "10  Solar Zenith Angle -1.041567  -5.771419  -5.958865\n",
            "11  Precipitable Water  3.666316 -25.492442  -2.450379\n",
            "12          Wind Speed  4.077039  38.436474  28.299897\n",
            "13           Fill Flag  0.000000   0.000000   0.000000\n"
          ]
        }
      ]
    },
    {
      "cell_type": "code",
      "source": [
        "from sklearn.metrics import mean_squared_error"
      ],
      "metadata": {
        "id": "3bkpe12XeXxn"
      },
      "execution_count": 124,
      "outputs": []
    },
    {
      "cell_type": "code",
      "source": [
        "y_pred_train_rr = RR.predict(x_train)\n",
        "y_pred_test_rr = RR.predict(x_test)\n",
        "MSE_train_rr = mean_squared_error(y_train,y_pred_train_rr).round(3)\n",
        "MSE_test_rr = mean_squared_error(y_test,y_pred_test_rr).round(3)\n",
        "print(MSE_train_rr)\n",
        "print(MSE_test_rr)"
      ],
      "metadata": {
        "colab": {
          "base_uri": "https://localhost:8080/"
        },
        "id": "GWHaaW7IAOVJ",
        "outputId": "c62bcf9f-b15b-48ad-cc6e-4bbbd1eaed57"
      },
      "execution_count": 125,
      "outputs": [
        {
          "output_type": "stream",
          "name": "stdout",
          "text": [
            "12882.975\n",
            "12855.64\n"
          ]
        }
      ]
    },
    {
      "cell_type": "code",
      "source": [
        "list(np.arange(0.99,2,0.01))"
      ],
      "metadata": {
        "colab": {
          "base_uri": "https://localhost:8080/"
        },
        "id": "NsgnGUYhh0di",
        "outputId": "16b47272-d447-41ab-e3ef-e85c8edd66e7"
      },
      "execution_count": null,
      "outputs": [
        {
          "output_type": "execute_result",
          "data": {
            "text/plain": [
              "[0.99,\n",
              " 1.0,\n",
              " 1.01,\n",
              " 1.02,\n",
              " 1.03,\n",
              " 1.04,\n",
              " 1.05,\n",
              " 1.06,\n",
              " 1.07,\n",
              " 1.08,\n",
              " 1.09,\n",
              " 1.1,\n",
              " 1.11,\n",
              " 1.12,\n",
              " 1.1300000000000001,\n",
              " 1.1400000000000001,\n",
              " 1.1500000000000001,\n",
              " 1.1600000000000001,\n",
              " 1.1700000000000002,\n",
              " 1.1800000000000002,\n",
              " 1.1900000000000002,\n",
              " 1.2000000000000002,\n",
              " 1.2100000000000002,\n",
              " 1.2200000000000002,\n",
              " 1.2300000000000002,\n",
              " 1.2400000000000002,\n",
              " 1.2500000000000002,\n",
              " 1.2600000000000002,\n",
              " 1.2700000000000002,\n",
              " 1.2800000000000002,\n",
              " 1.2900000000000003,\n",
              " 1.3000000000000003,\n",
              " 1.3100000000000003,\n",
              " 1.3200000000000003,\n",
              " 1.3300000000000003,\n",
              " 1.3400000000000003,\n",
              " 1.3500000000000003,\n",
              " 1.3600000000000003,\n",
              " 1.3700000000000003,\n",
              " 1.3800000000000003,\n",
              " 1.3900000000000003,\n",
              " 1.4000000000000004,\n",
              " 1.4100000000000004,\n",
              " 1.4200000000000004,\n",
              " 1.4300000000000004,\n",
              " 1.4400000000000004,\n",
              " 1.4500000000000004,\n",
              " 1.4600000000000004,\n",
              " 1.4700000000000004,\n",
              " 1.4800000000000004,\n",
              " 1.4900000000000004,\n",
              " 1.5000000000000004,\n",
              " 1.5100000000000005,\n",
              " 1.5200000000000005,\n",
              " 1.5300000000000005,\n",
              " 1.5400000000000005,\n",
              " 1.5500000000000005,\n",
              " 1.5600000000000005,\n",
              " 1.5700000000000005,\n",
              " 1.5800000000000005,\n",
              " 1.5900000000000005,\n",
              " 1.6000000000000005,\n",
              " 1.6100000000000005,\n",
              " 1.6200000000000006,\n",
              " 1.6300000000000006,\n",
              " 1.6400000000000006,\n",
              " 1.6500000000000006,\n",
              " 1.6600000000000006,\n",
              " 1.6700000000000006,\n",
              " 1.6800000000000006,\n",
              " 1.6900000000000006,\n",
              " 1.7000000000000006,\n",
              " 1.7100000000000006,\n",
              " 1.7200000000000006,\n",
              " 1.7300000000000006,\n",
              " 1.7400000000000007,\n",
              " 1.7500000000000007,\n",
              " 1.7600000000000007,\n",
              " 1.7700000000000007,\n",
              " 1.7800000000000007,\n",
              " 1.7900000000000007,\n",
              " 1.8000000000000007,\n",
              " 1.8100000000000007,\n",
              " 1.8200000000000007,\n",
              " 1.8300000000000007,\n",
              " 1.8400000000000007,\n",
              " 1.8500000000000008,\n",
              " 1.8600000000000008,\n",
              " 1.8700000000000008,\n",
              " 1.8800000000000008,\n",
              " 1.8900000000000008,\n",
              " 1.9000000000000008,\n",
              " 1.9100000000000008,\n",
              " 1.9200000000000008,\n",
              " 1.9300000000000008,\n",
              " 1.9400000000000008,\n",
              " 1.9500000000000008,\n",
              " 1.9600000000000009,\n",
              " 1.9700000000000009,\n",
              " 1.9800000000000009,\n",
              " 1.9900000000000009]"
            ]
          },
          "metadata": {},
          "execution_count": 81
        }
      ]
    },
    {
      "cell_type": "code",
      "source": [
        "from sklearn.model_selection import GridSearchCV\n",
        "import numpy as np\n",
        "list(np.arange(0.99,3,0.01))\n",
        "alpha_values = {'alpha': list(np.arange(0.99,2,0.01))}\n",
        "RR_cv = GridSearchCV(Ridge(),alpha_values,scoring=\"neg_mean_squared_error\",cv =100)\n"
      ],
      "metadata": {
        "id": "_01d7eU3A2ns"
      },
      "execution_count": 126,
      "outputs": []
    },
    {
      "cell_type": "code",
      "source": [
        "RR_cv.fit(x_train,y_train)\n",
        "print(RR_cv.best_score_)\n",
        "print(RR_cv.best_params_)"
      ],
      "metadata": {
        "colab": {
          "base_uri": "https://localhost:8080/"
        },
        "id": "8_34iWG9twY4",
        "outputId": "73e6dcb0-4f78-4aa9-93c9-f489ee6ef290"
      },
      "execution_count": 127,
      "outputs": [
        {
          "output_type": "stream",
          "name": "stdout",
          "text": [
            "-12886.386198500311\n",
            "{'alpha': 1.9900000000000009}\n"
          ]
        }
      ]
    },
    {
      "cell_type": "code",
      "source": [
        "import matplotlib.pylab as plt\n",
        "plt.plot(range(0,10),RR.coef_)\n",
        "plt.axhline(0, color = 'r', linestyle = 'solid')\n",
        "plt.xticks(range(len(x_train.columns)),x_train.columns)\n",
        "plt.ylabel(\"Ridge coeffcients\")\n",
        "plt.xlabel(\"Variable names\")\n",
        "plt.show()"
      ],
      "metadata": {
        "colab": {
          "base_uri": "https://localhost:8080/",
          "height": 633
        },
        "id": "K8veSQI6BsL4",
        "outputId": "acd61fb5-2c35-4f4d-eea7-587cbbb83b2d"
      },
      "execution_count": null,
      "outputs": [
        {
          "output_type": "error",
          "ename": "ValueError",
          "evalue": "ignored",
          "traceback": [
            "\u001b[0;31m---------------------------------------------------------------------------\u001b[0m",
            "\u001b[0;31mValueError\u001b[0m                                Traceback (most recent call last)",
            "\u001b[0;32m<ipython-input-39-d56400db9670>\u001b[0m in \u001b[0;36m<module>\u001b[0;34m()\u001b[0m\n\u001b[1;32m      1\u001b[0m \u001b[0;32mimport\u001b[0m \u001b[0mmatplotlib\u001b[0m\u001b[0;34m.\u001b[0m\u001b[0mpylab\u001b[0m \u001b[0;32mas\u001b[0m \u001b[0mplt\u001b[0m\u001b[0;34m\u001b[0m\u001b[0;34m\u001b[0m\u001b[0m\n\u001b[0;32m----> 2\u001b[0;31m \u001b[0mplt\u001b[0m\u001b[0;34m.\u001b[0m\u001b[0mplot\u001b[0m\u001b[0;34m(\u001b[0m\u001b[0mrange\u001b[0m\u001b[0;34m(\u001b[0m\u001b[0;36m0\u001b[0m\u001b[0;34m,\u001b[0m\u001b[0;36m10\u001b[0m\u001b[0;34m)\u001b[0m\u001b[0;34m,\u001b[0m\u001b[0mRR\u001b[0m\u001b[0;34m.\u001b[0m\u001b[0mcoef_\u001b[0m\u001b[0;34m)\u001b[0m\u001b[0;34m\u001b[0m\u001b[0;34m\u001b[0m\u001b[0m\n\u001b[0m\u001b[1;32m      3\u001b[0m \u001b[0mplt\u001b[0m\u001b[0;34m.\u001b[0m\u001b[0maxhline\u001b[0m\u001b[0;34m(\u001b[0m\u001b[0;36m0\u001b[0m\u001b[0;34m,\u001b[0m \u001b[0mcolor\u001b[0m \u001b[0;34m=\u001b[0m \u001b[0;34m'r'\u001b[0m\u001b[0;34m,\u001b[0m \u001b[0mlinestyle\u001b[0m \u001b[0;34m=\u001b[0m \u001b[0;34m'solid'\u001b[0m\u001b[0;34m)\u001b[0m\u001b[0;34m\u001b[0m\u001b[0;34m\u001b[0m\u001b[0m\n\u001b[1;32m      4\u001b[0m \u001b[0mplt\u001b[0m\u001b[0;34m.\u001b[0m\u001b[0mxticks\u001b[0m\u001b[0;34m(\u001b[0m\u001b[0mrange\u001b[0m\u001b[0;34m(\u001b[0m\u001b[0mlen\u001b[0m\u001b[0;34m(\u001b[0m\u001b[0mx_train\u001b[0m\u001b[0;34m.\u001b[0m\u001b[0mcolumns\u001b[0m\u001b[0;34m)\u001b[0m\u001b[0;34m)\u001b[0m\u001b[0;34m,\u001b[0m\u001b[0mx_train\u001b[0m\u001b[0;34m.\u001b[0m\u001b[0mcolumns\u001b[0m\u001b[0;34m)\u001b[0m\u001b[0;34m\u001b[0m\u001b[0;34m\u001b[0m\u001b[0m\n\u001b[1;32m      5\u001b[0m \u001b[0mplt\u001b[0m\u001b[0;34m.\u001b[0m\u001b[0mylabel\u001b[0m\u001b[0;34m(\u001b[0m\u001b[0;34m\"Ridge coeffcients\"\u001b[0m\u001b[0;34m)\u001b[0m\u001b[0;34m\u001b[0m\u001b[0;34m\u001b[0m\u001b[0m\n",
            "\u001b[0;32m/usr/local/lib/python3.7/dist-packages/matplotlib/pyplot.py\u001b[0m in \u001b[0;36mplot\u001b[0;34m(scalex, scaley, data, *args, **kwargs)\u001b[0m\n\u001b[1;32m   2761\u001b[0m     return gca().plot(\n\u001b[1;32m   2762\u001b[0m         *args, scalex=scalex, scaley=scaley, **({\"data\": data} if data\n\u001b[0;32m-> 2763\u001b[0;31m         is not None else {}), **kwargs)\n\u001b[0m\u001b[1;32m   2764\u001b[0m \u001b[0;34m\u001b[0m\u001b[0m\n\u001b[1;32m   2765\u001b[0m \u001b[0;34m\u001b[0m\u001b[0m\n",
            "\u001b[0;32m/usr/local/lib/python3.7/dist-packages/matplotlib/axes/_axes.py\u001b[0m in \u001b[0;36mplot\u001b[0;34m(self, scalex, scaley, data, *args, **kwargs)\u001b[0m\n\u001b[1;32m   1645\u001b[0m         \"\"\"\n\u001b[1;32m   1646\u001b[0m         \u001b[0mkwargs\u001b[0m \u001b[0;34m=\u001b[0m \u001b[0mcbook\u001b[0m\u001b[0;34m.\u001b[0m\u001b[0mnormalize_kwargs\u001b[0m\u001b[0;34m(\u001b[0m\u001b[0mkwargs\u001b[0m\u001b[0;34m,\u001b[0m \u001b[0mmlines\u001b[0m\u001b[0;34m.\u001b[0m\u001b[0mLine2D\u001b[0m\u001b[0;34m)\u001b[0m\u001b[0;34m\u001b[0m\u001b[0;34m\u001b[0m\u001b[0m\n\u001b[0;32m-> 1647\u001b[0;31m         \u001b[0mlines\u001b[0m \u001b[0;34m=\u001b[0m \u001b[0;34m[\u001b[0m\u001b[0;34m*\u001b[0m\u001b[0mself\u001b[0m\u001b[0;34m.\u001b[0m\u001b[0m_get_lines\u001b[0m\u001b[0;34m(\u001b[0m\u001b[0;34m*\u001b[0m\u001b[0margs\u001b[0m\u001b[0;34m,\u001b[0m \u001b[0mdata\u001b[0m\u001b[0;34m=\u001b[0m\u001b[0mdata\u001b[0m\u001b[0;34m,\u001b[0m \u001b[0;34m**\u001b[0m\u001b[0mkwargs\u001b[0m\u001b[0;34m)\u001b[0m\u001b[0;34m]\u001b[0m\u001b[0;34m\u001b[0m\u001b[0;34m\u001b[0m\u001b[0m\n\u001b[0m\u001b[1;32m   1648\u001b[0m         \u001b[0;32mfor\u001b[0m \u001b[0mline\u001b[0m \u001b[0;32min\u001b[0m \u001b[0mlines\u001b[0m\u001b[0;34m:\u001b[0m\u001b[0;34m\u001b[0m\u001b[0;34m\u001b[0m\u001b[0m\n\u001b[1;32m   1649\u001b[0m             \u001b[0mself\u001b[0m\u001b[0;34m.\u001b[0m\u001b[0madd_line\u001b[0m\u001b[0;34m(\u001b[0m\u001b[0mline\u001b[0m\u001b[0;34m)\u001b[0m\u001b[0;34m\u001b[0m\u001b[0;34m\u001b[0m\u001b[0m\n",
            "\u001b[0;32m/usr/local/lib/python3.7/dist-packages/matplotlib/axes/_base.py\u001b[0m in \u001b[0;36m__call__\u001b[0;34m(self, *args, **kwargs)\u001b[0m\n\u001b[1;32m    214\u001b[0m                 \u001b[0mthis\u001b[0m \u001b[0;34m+=\u001b[0m \u001b[0margs\u001b[0m\u001b[0;34m[\u001b[0m\u001b[0;36m0\u001b[0m\u001b[0;34m]\u001b[0m\u001b[0;34m,\u001b[0m\u001b[0;34m\u001b[0m\u001b[0;34m\u001b[0m\u001b[0m\n\u001b[1;32m    215\u001b[0m                 \u001b[0margs\u001b[0m \u001b[0;34m=\u001b[0m \u001b[0margs\u001b[0m\u001b[0;34m[\u001b[0m\u001b[0;36m1\u001b[0m\u001b[0;34m:\u001b[0m\u001b[0;34m]\u001b[0m\u001b[0;34m\u001b[0m\u001b[0;34m\u001b[0m\u001b[0m\n\u001b[0;32m--> 216\u001b[0;31m             \u001b[0;32myield\u001b[0m \u001b[0;32mfrom\u001b[0m \u001b[0mself\u001b[0m\u001b[0;34m.\u001b[0m\u001b[0m_plot_args\u001b[0m\u001b[0;34m(\u001b[0m\u001b[0mthis\u001b[0m\u001b[0;34m,\u001b[0m \u001b[0mkwargs\u001b[0m\u001b[0;34m)\u001b[0m\u001b[0;34m\u001b[0m\u001b[0;34m\u001b[0m\u001b[0m\n\u001b[0m\u001b[1;32m    217\u001b[0m \u001b[0;34m\u001b[0m\u001b[0m\n\u001b[1;32m    218\u001b[0m     \u001b[0;32mdef\u001b[0m \u001b[0mget_next_color\u001b[0m\u001b[0;34m(\u001b[0m\u001b[0mself\u001b[0m\u001b[0;34m)\u001b[0m\u001b[0;34m:\u001b[0m\u001b[0;34m\u001b[0m\u001b[0;34m\u001b[0m\u001b[0m\n",
            "\u001b[0;32m/usr/local/lib/python3.7/dist-packages/matplotlib/axes/_base.py\u001b[0m in \u001b[0;36m_plot_args\u001b[0;34m(self, tup, kwargs)\u001b[0m\n\u001b[1;32m    340\u001b[0m \u001b[0;34m\u001b[0m\u001b[0m\n\u001b[1;32m    341\u001b[0m         \u001b[0;32mif\u001b[0m \u001b[0mx\u001b[0m\u001b[0;34m.\u001b[0m\u001b[0mshape\u001b[0m\u001b[0;34m[\u001b[0m\u001b[0;36m0\u001b[0m\u001b[0;34m]\u001b[0m \u001b[0;34m!=\u001b[0m \u001b[0my\u001b[0m\u001b[0;34m.\u001b[0m\u001b[0mshape\u001b[0m\u001b[0;34m[\u001b[0m\u001b[0;36m0\u001b[0m\u001b[0;34m]\u001b[0m\u001b[0;34m:\u001b[0m\u001b[0;34m\u001b[0m\u001b[0;34m\u001b[0m\u001b[0m\n\u001b[0;32m--> 342\u001b[0;31m             raise ValueError(f\"x and y must have same first dimension, but \"\n\u001b[0m\u001b[1;32m    343\u001b[0m                              f\"have shapes {x.shape} and {y.shape}\")\n\u001b[1;32m    344\u001b[0m         \u001b[0;32mif\u001b[0m \u001b[0mx\u001b[0m\u001b[0;34m.\u001b[0m\u001b[0mndim\u001b[0m \u001b[0;34m>\u001b[0m \u001b[0;36m2\u001b[0m \u001b[0;32mor\u001b[0m \u001b[0my\u001b[0m\u001b[0;34m.\u001b[0m\u001b[0mndim\u001b[0m \u001b[0;34m>\u001b[0m \u001b[0;36m2\u001b[0m\u001b[0;34m:\u001b[0m\u001b[0;34m\u001b[0m\u001b[0;34m\u001b[0m\u001b[0m\n",
            "\u001b[0;31mValueError\u001b[0m: x and y must have same first dimension, but have shapes (10,) and (3, 14)"
          ]
        },
        {
          "output_type": "display_data",
          "data": {
            "image/png": "[encoded data removed]",
            "text/plain": [
              "<Figure size 432x288 with 1 Axes>"
            ]
          },
          "metadata": {
            "needs_background": "light"
          }
        }
      ]
    },
    {
      "cell_type": "markdown",
      "source": [
        "**Train Linear Regression Model with train data Data Set**"
      ],
      "metadata": {
        "id": "HzDiaNgLZqgY"
      }
    },
    {
      "cell_type": "code",
      "source": [
        "from sklearn.linear_model import LinearRegression\n",
        "LR = LinearRegression()\n",
        "LR.fit(x_train,y_train)\n",
        "y_pred_lr = LR.predict(x_test)"
      ],
      "metadata": {
        "id": "hEuALNe5gBbn"
      },
      "execution_count": null,
      "outputs": []
    },
    {
      "cell_type": "code",
      "source": [
        "y_pred_lr"
      ],
      "metadata": {
        "colab": {
          "base_uri": "https://localhost:8080/"
        },
        "id": "pVIYVBjR4ges",
        "outputId": "55d9e76c-7a10-42df-a5c1-278ee3a5dc07"
      },
      "execution_count": null,
      "outputs": [
        {
          "output_type": "execute_result",
          "data": {
            "text/plain": [
              "array([[  19.67426384,   54.90813485,   49.64861346],\n",
              "       [   3.51251007,  -56.84130279,  -78.74740202],\n",
              "       [  95.43178751,  495.40079842,  445.92645817],\n",
              "       ...,\n",
              "       [  20.79375635,  109.2731824 ,   68.20028441],\n",
              "       [  66.63089117,  592.99384984,  387.29981895],\n",
              "       [ -31.78564645, -221.49070288, -236.44699615]])"
            ]
          },
          "metadata": {},
          "execution_count": 67
        }
      ]
    },
    {
      "cell_type": "code",
      "source": [
        "from sklearn.metrics import mean_squared_error\n",
        "lr_mse = mean_squared_error(y_test,y_pred_lr)\n",
        "print(lr_mse)"
      ],
      "metadata": {
        "id": "zA60zrbhhLXB",
        "colab": {
          "base_uri": "https://localhost:8080/"
        },
        "outputId": "9dadc3ee-665f-42f1-8416-dc48354e7c1f"
      },
      "execution_count": null,
      "outputs": [
        {
          "output_type": "stream",
          "name": "stdout",
          "text": [
            "12855.640091798094\n"
          ]
        }
      ]
    },
    {
      "cell_type": "code",
      "source": [
        "sub =pd.DataFrame(y_pred_knn_test)"
      ],
      "metadata": {
        "id": "g04caWlxMHS1"
      },
      "execution_count": null,
      "outputs": []
    },
    {
      "cell_type": "markdown",
      "source": [
        "**Export the Submission**"
      ],
      "metadata": {
        "id": "WOcQYtCKSKXg"
      }
    },
    {
      "cell_type": "code",
      "source": [
        "sub.to_excel(r'/content/drive/MyDrive/Hackathon/submission/Final_sub.xlsx', index = False)"
      ],
      "metadata": {
        "id": "eCf3BpzhJVPg"
      },
      "execution_count": null,
      "outputs": []
    },
    {
      "cell_type": "code",
      "source": [
        "from sklearn.tree import DecisionTreeRegressor\n",
        "DT = DecisionTreeRegressor(criterion = \"mse\", max_depth=None)\n"
      ],
      "metadata": {
        "id": "GFeaPfqPCl7x"
      },
      "execution_count": null,
      "outputs": []
    },
    {
      "cell_type": "code",
      "source": [
        "DT"
      ],
      "metadata": {
        "colab": {
          "base_uri": "https://localhost:8080/"
        },
        "id": "IDU7LEGekE5m",
        "outputId": "a8176dd0-f948-4bd3-8787-ea54baa37d63"
      },
      "execution_count": null,
      "outputs": [
        {
          "output_type": "execute_result",
          "data": {
            "text/plain": [
              "DecisionTreeRegressor()"
            ]
          },
          "metadata": {},
          "execution_count": 229
        }
      ]
    },
    {
      "cell_type": "code",
      "source": [
        "DT.fit(x_train,y_train)\n",
        "y_pred_dt = DT.predict(x_test)"
      ],
      "metadata": {
        "id": "-BZdKA3Kj5tN",
        "colab": {
          "base_uri": "https://localhost:8080/"
        },
        "outputId": "2a4d49b7-4e2d-48a6-8167-34412c85d6b1"
      },
      "execution_count": null,
      "outputs": [
        {
          "output_type": "stream",
          "name": "stderr",
          "text": [
            "/usr/local/lib/python3.7/dist-packages/sklearn/tree/_classes.py:363: FutureWarning: Criterion 'mse' was deprecated in v1.0 and will be removed in version 1.2. Use `criterion='squared_error'` which is equivalent.\n",
            "  FutureWarning,\n"
          ]
        }
      ]
    },
    {
      "cell_type": "code",
      "source": [
        "y_pred_dt"
      ],
      "metadata": {
        "colab": {
          "base_uri": "https://localhost:8080/"
        },
        "id": "JUDVUsBdN1Zh",
        "outputId": "15a75410-dec6-4714-e7f6-9cfee79f2952"
      },
      "execution_count": null,
      "outputs": [
        {
          "output_type": "execute_result",
          "data": {
            "text/plain": [
              "array([[  0.,   0.,   0.],\n",
              "       [  0.,   0.,   0.],\n",
              "       [136., 610., 468.],\n",
              "       ...,\n",
              "       [  0.,   0.,   0.],\n",
              "       [ 53., 724., 247.],\n",
              "       [  0.,   0.,   0.]])"
            ]
          },
          "metadata": {},
          "execution_count": 220
        }
      ]
    },
    {
      "cell_type": "code",
      "source": [
        "from sklearn.metrics import mean_squared_error\n",
        "DT_mse = mean_squared_error(y_test,y_pred_dt)\n",
        "print(DT_mse)"
      ],
      "metadata": {
        "id": "Pcr3XqNLOb8O",
        "colab": {
          "base_uri": "https://localhost:8080/"
        },
        "outputId": "5c0b82cb-2ece-4813-c10c-147db395b8fb"
      },
      "execution_count": null,
      "outputs": [
        {
          "output_type": "stream",
          "name": "stdout",
          "text": [
            "917.5899901196435\n"
          ]
        }
      ]
    },
    {
      "cell_type": "code",
      "source": [
        "dt_score = []\n",
        "md = range(1,30)\n",
        "for i in md:\n",
        "    dt = DecisionTreeRegressor(criterion = \"mse\", max_depth=i)\n",
        "    dt.fit(x_train,y_train)\n",
        "    dt_pred = dt.predict(x_test)\n",
        "    dt_score.append(mean_squared_error(y_test,dt_pred))\n",
        "print(dt_score)"
      ],
      "metadata": {
        "colab": {
          "base_uri": "https://localhost:8080/"
        },
        "id": "JFs-tlzOc6LE",
        "outputId": "236d2554-5bd0-43f7-fe15-ebcd6e71d236"
      },
      "execution_count": null,
      "outputs": [
        {
          "output_type": "stream",
          "name": "stderr",
          "text": [
            "/usr/local/lib/python3.7/dist-packages/sklearn/tree/_classes.py:363: FutureWarning: Criterion 'mse' was deprecated in v1.0 and will be removed in version 1.2. Use `criterion='squared_error'` which is equivalent.\n",
            "  FutureWarning,\n",
            "/usr/local/lib/python3.7/dist-packages/sklearn/tree/_classes.py:363: FutureWarning: Criterion 'mse' was deprecated in v1.0 and will be removed in version 1.2. Use `criterion='squared_error'` which is equivalent.\n",
            "  FutureWarning,\n",
            "/usr/local/lib/python3.7/dist-packages/sklearn/tree/_classes.py:363: FutureWarning: Criterion 'mse' was deprecated in v1.0 and will be removed in version 1.2. Use `criterion='squared_error'` which is equivalent.\n",
            "  FutureWarning,\n",
            "/usr/local/lib/python3.7/dist-packages/sklearn/tree/_classes.py:363: FutureWarning: Criterion 'mse' was deprecated in v1.0 and will be removed in version 1.2. Use `criterion='squared_error'` which is equivalent.\n",
            "  FutureWarning,\n",
            "/usr/local/lib/python3.7/dist-packages/sklearn/tree/_classes.py:363: FutureWarning: Criterion 'mse' was deprecated in v1.0 and will be removed in version 1.2. Use `criterion='squared_error'` which is equivalent.\n",
            "  FutureWarning,\n",
            "/usr/local/lib/python3.7/dist-packages/sklearn/tree/_classes.py:363: FutureWarning: Criterion 'mse' was deprecated in v1.0 and will be removed in version 1.2. Use `criterion='squared_error'` which is equivalent.\n",
            "  FutureWarning,\n",
            "/usr/local/lib/python3.7/dist-packages/sklearn/tree/_classes.py:363: FutureWarning: Criterion 'mse' was deprecated in v1.0 and will be removed in version 1.2. Use `criterion='squared_error'` which is equivalent.\n",
            "  FutureWarning,\n",
            "/usr/local/lib/python3.7/dist-packages/sklearn/tree/_classes.py:363: FutureWarning: Criterion 'mse' was deprecated in v1.0 and will be removed in version 1.2. Use `criterion='squared_error'` which is equivalent.\n",
            "  FutureWarning,\n",
            "/usr/local/lib/python3.7/dist-packages/sklearn/tree/_classes.py:363: FutureWarning: Criterion 'mse' was deprecated in v1.0 and will be removed in version 1.2. Use `criterion='squared_error'` which is equivalent.\n",
            "  FutureWarning,\n",
            "/usr/local/lib/python3.7/dist-packages/sklearn/tree/_classes.py:363: FutureWarning: Criterion 'mse' was deprecated in v1.0 and will be removed in version 1.2. Use `criterion='squared_error'` which is equivalent.\n",
            "  FutureWarning,\n",
            "/usr/local/lib/python3.7/dist-packages/sklearn/tree/_classes.py:363: FutureWarning: Criterion 'mse' was deprecated in v1.0 and will be removed in version 1.2. Use `criterion='squared_error'` which is equivalent.\n",
            "  FutureWarning,\n",
            "/usr/local/lib/python3.7/dist-packages/sklearn/tree/_classes.py:363: FutureWarning: Criterion 'mse' was deprecated in v1.0 and will be removed in version 1.2. Use `criterion='squared_error'` which is equivalent.\n",
            "  FutureWarning,\n",
            "/usr/local/lib/python3.7/dist-packages/sklearn/tree/_classes.py:363: FutureWarning: Criterion 'mse' was deprecated in v1.0 and will be removed in version 1.2. Use `criterion='squared_error'` which is equivalent.\n",
            "  FutureWarning,\n",
            "/usr/local/lib/python3.7/dist-packages/sklearn/tree/_classes.py:363: FutureWarning: Criterion 'mse' was deprecated in v1.0 and will be removed in version 1.2. Use `criterion='squared_error'` which is equivalent.\n",
            "  FutureWarning,\n",
            "/usr/local/lib/python3.7/dist-packages/sklearn/tree/_classes.py:363: FutureWarning: Criterion 'mse' was deprecated in v1.0 and will be removed in version 1.2. Use `criterion='squared_error'` which is equivalent.\n",
            "  FutureWarning,\n",
            "/usr/local/lib/python3.7/dist-packages/sklearn/tree/_classes.py:363: FutureWarning: Criterion 'mse' was deprecated in v1.0 and will be removed in version 1.2. Use `criterion='squared_error'` which is equivalent.\n",
            "  FutureWarning,\n",
            "/usr/local/lib/python3.7/dist-packages/sklearn/tree/_classes.py:363: FutureWarning: Criterion 'mse' was deprecated in v1.0 and will be removed in version 1.2. Use `criterion='squared_error'` which is equivalent.\n",
            "  FutureWarning,\n",
            "/usr/local/lib/python3.7/dist-packages/sklearn/tree/_classes.py:363: FutureWarning: Criterion 'mse' was deprecated in v1.0 and will be removed in version 1.2. Use `criterion='squared_error'` which is equivalent.\n",
            "  FutureWarning,\n",
            "/usr/local/lib/python3.7/dist-packages/sklearn/tree/_classes.py:363: FutureWarning: Criterion 'mse' was deprecated in v1.0 and will be removed in version 1.2. Use `criterion='squared_error'` which is equivalent.\n",
            "  FutureWarning,\n",
            "/usr/local/lib/python3.7/dist-packages/sklearn/tree/_classes.py:363: FutureWarning: Criterion 'mse' was deprecated in v1.0 and will be removed in version 1.2. Use `criterion='squared_error'` which is equivalent.\n",
            "  FutureWarning,\n",
            "/usr/local/lib/python3.7/dist-packages/sklearn/tree/_classes.py:363: FutureWarning: Criterion 'mse' was deprecated in v1.0 and will be removed in version 1.2. Use `criterion='squared_error'` which is equivalent.\n",
            "  FutureWarning,\n",
            "/usr/local/lib/python3.7/dist-packages/sklearn/tree/_classes.py:363: FutureWarning: Criterion 'mse' was deprecated in v1.0 and will be removed in version 1.2. Use `criterion='squared_error'` which is equivalent.\n",
            "  FutureWarning,\n",
            "/usr/local/lib/python3.7/dist-packages/sklearn/tree/_classes.py:363: FutureWarning: Criterion 'mse' was deprecated in v1.0 and will be removed in version 1.2. Use `criterion='squared_error'` which is equivalent.\n",
            "  FutureWarning,\n",
            "/usr/local/lib/python3.7/dist-packages/sklearn/tree/_classes.py:363: FutureWarning: Criterion 'mse' was deprecated in v1.0 and will be removed in version 1.2. Use `criterion='squared_error'` which is equivalent.\n",
            "  FutureWarning,\n",
            "/usr/local/lib/python3.7/dist-packages/sklearn/tree/_classes.py:363: FutureWarning: Criterion 'mse' was deprecated in v1.0 and will be removed in version 1.2. Use `criterion='squared_error'` which is equivalent.\n",
            "  FutureWarning,\n",
            "/usr/local/lib/python3.7/dist-packages/sklearn/tree/_classes.py:363: FutureWarning: Criterion 'mse' was deprecated in v1.0 and will be removed in version 1.2. Use `criterion='squared_error'` which is equivalent.\n",
            "  FutureWarning,\n",
            "/usr/local/lib/python3.7/dist-packages/sklearn/tree/_classes.py:363: FutureWarning: Criterion 'mse' was deprecated in v1.0 and will be removed in version 1.2. Use `criterion='squared_error'` which is equivalent.\n",
            "  FutureWarning,\n",
            "/usr/local/lib/python3.7/dist-packages/sklearn/tree/_classes.py:363: FutureWarning: Criterion 'mse' was deprecated in v1.0 and will be removed in version 1.2. Use `criterion='squared_error'` which is equivalent.\n",
            "  FutureWarning,\n",
            "/usr/local/lib/python3.7/dist-packages/sklearn/tree/_classes.py:363: FutureWarning: Criterion 'mse' was deprecated in v1.0 and will be removed in version 1.2. Use `criterion='squared_error'` which is equivalent.\n",
            "  FutureWarning,\n"
          ]
        },
        {
          "output_type": "stream",
          "name": "stdout",
          "text": [
            "[12470.22227077259, 4607.433910686421, 2638.4336690324376, 1785.2410403258418, 1301.4838478819304, 1033.0594550179437, 886.4586416808069, 776.4744217680944, 714.8176533346483, 684.3466613183705, 666.9171137488789, 672.9906230050414, 689.8983983649897, 726.1745387385819, 765.9644664312915, 793.215127424037, 815.0492825892661, 836.8501843373815, 860.8288585591117, 878.7237562380288, 879.3187465225816, 892.4422360728446, 908.5937824984159, 915.9789053841195, 914.7407378688376, 912.9866223235248, 920.4199862536706, 914.2723422772425, 912.6226156918918]\n"
          ]
        }
      ]
    },
    {
      "cell_type": "code",
      "source": [
        "DT.tree_.node_count"
      ],
      "metadata": {
        "colab": {
          "base_uri": "https://localhost:8080/"
        },
        "id": "ul3V8VNPadth",
        "outputId": "d0d73363-c56d-4969-9397-01919ce52437"
      },
      "execution_count": null,
      "outputs": [
        {
          "output_type": "execute_result",
          "data": {
            "text/plain": [
              "112183"
            ]
          },
          "metadata": {},
          "execution_count": 233
        }
      ]
    },
    {
      "cell_type": "code",
      "source": [
        "DT.tree_.max_depth"
      ],
      "metadata": {
        "colab": {
          "base_uri": "https://localhost:8080/"
        },
        "id": "PUg3BJa3aqcp",
        "outputId": "ea7ed57b-62a1-4b7d-8571-f89409bb1b21"
      },
      "execution_count": null,
      "outputs": [
        {
          "output_type": "execute_result",
          "data": {
            "text/plain": [
              "38"
            ]
          },
          "metadata": {},
          "execution_count": 234
        }
      ]
    },
    {
      "cell_type": "markdown",
      "source": [
        "**Model fitting with Ensemble Methods**"
      ],
      "metadata": {
        "id": "NhbjIHPXbMGb"
      }
    },
    {
      "cell_type": "markdown",
      "source": [
        "**Ada Bosst**"
      ],
      "metadata": {
        "id": "Y3wRkc2Ibq2l"
      }
    },
    {
      "cell_type": "code",
      "source": [
        "from sklearn.ensemble import AdaBoostRegressor\n",
        "ADBR = AdaBoostRegressor(base_estimator=DT, n_estimators=1000)\n"
      ],
      "metadata": {
        "id": "uikal7aBJL1c"
      },
      "execution_count": null,
      "outputs": []
    },
    {
      "cell_type": "code",
      "source": [
        "ADBR.fit(x_train,y_train)\n",
        "y_pred_adab = ADBR.predict(x_test)"
      ],
      "metadata": {
        "colab": {
          "base_uri": "https://localhost:8080/",
          "height": 329
        },
        "id": "2ZOLH93RpMiW",
        "outputId": "cb37e0b4-41d3-4a01-f34a-b9ced3117051"
      },
      "execution_count": null,
      "outputs": [
        {
          "output_type": "error",
          "ename": "ValueError",
          "evalue": "ignored",
          "traceback": [
            "\u001b[0;31m---------------------------------------------------------------------------\u001b[0m",
            "\u001b[0;31mValueError\u001b[0m                                Traceback (most recent call last)",
            "\u001b[0;32m<ipython-input-133-0519577fa762>\u001b[0m in \u001b[0;36m<module>\u001b[0;34m()\u001b[0m\n\u001b[0;32m----> 1\u001b[0;31m \u001b[0mADBR\u001b[0m\u001b[0;34m.\u001b[0m\u001b[0mfit\u001b[0m\u001b[0;34m(\u001b[0m\u001b[0mx_train\u001b[0m\u001b[0;34m,\u001b[0m\u001b[0my_train\u001b[0m\u001b[0;34m)\u001b[0m\u001b[0;34m\u001b[0m\u001b[0;34m\u001b[0m\u001b[0m\n\u001b[0m\u001b[1;32m      2\u001b[0m \u001b[0my_pred_adab\u001b[0m \u001b[0;34m=\u001b[0m \u001b[0mADBR\u001b[0m\u001b[0;34m.\u001b[0m\u001b[0mpredict\u001b[0m\u001b[0;34m(\u001b[0m\u001b[0mx_test\u001b[0m\u001b[0;34m)\u001b[0m\u001b[0;34m\u001b[0m\u001b[0;34m\u001b[0m\u001b[0m\n",
            "\u001b[0;32m/usr/local/lib/python3.7/dist-packages/sklearn/ensemble/_weight_boosting.py\u001b[0m in \u001b[0;36mfit\u001b[0;34m(self, X, y, sample_weight)\u001b[0m\n\u001b[1;32m   1063\u001b[0m \u001b[0;34m\u001b[0m\u001b[0m\n\u001b[1;32m   1064\u001b[0m         \u001b[0;31m# Fit\u001b[0m\u001b[0;34m\u001b[0m\u001b[0;34m\u001b[0m\u001b[0;34m\u001b[0m\u001b[0m\n\u001b[0;32m-> 1065\u001b[0;31m         \u001b[0;32mreturn\u001b[0m \u001b[0msuper\u001b[0m\u001b[0;34m(\u001b[0m\u001b[0;34m)\u001b[0m\u001b[0;34m.\u001b[0m\u001b[0mfit\u001b[0m\u001b[0;34m(\u001b[0m\u001b[0mX\u001b[0m\u001b[0;34m,\u001b[0m \u001b[0my\u001b[0m\u001b[0;34m,\u001b[0m \u001b[0msample_weight\u001b[0m\u001b[0;34m)\u001b[0m\u001b[0;34m\u001b[0m\u001b[0;34m\u001b[0m\u001b[0m\n\u001b[0m\u001b[1;32m   1066\u001b[0m \u001b[0;34m\u001b[0m\u001b[0m\n\u001b[1;32m   1067\u001b[0m     \u001b[0;32mdef\u001b[0m \u001b[0m_validate_estimator\u001b[0m\u001b[0;34m(\u001b[0m\u001b[0mself\u001b[0m\u001b[0;34m)\u001b[0m\u001b[0;34m:\u001b[0m\u001b[0;34m\u001b[0m\u001b[0;34m\u001b[0m\u001b[0m\n",
            "\u001b[0;32m/usr/local/lib/python3.7/dist-packages/sklearn/ensemble/_weight_boosting.py\u001b[0m in \u001b[0;36mfit\u001b[0;34m(self, X, y, sample_weight)\u001b[0m\n\u001b[1;32m    121\u001b[0m             \u001b[0mallow_nd\u001b[0m\u001b[0;34m=\u001b[0m\u001b[0;32mTrue\u001b[0m\u001b[0;34m,\u001b[0m\u001b[0;34m\u001b[0m\u001b[0;34m\u001b[0m\u001b[0m\n\u001b[1;32m    122\u001b[0m             \u001b[0mdtype\u001b[0m\u001b[0;34m=\u001b[0m\u001b[0;32mNone\u001b[0m\u001b[0;34m,\u001b[0m\u001b[0;34m\u001b[0m\u001b[0;34m\u001b[0m\u001b[0m\n\u001b[0;32m--> 123\u001b[0;31m             \u001b[0my_numeric\u001b[0m\u001b[0;34m=\u001b[0m\u001b[0mis_regressor\u001b[0m\u001b[0;34m(\u001b[0m\u001b[0mself\u001b[0m\u001b[0;34m)\u001b[0m\u001b[0;34m,\u001b[0m\u001b[0;34m\u001b[0m\u001b[0;34m\u001b[0m\u001b[0m\n\u001b[0m\u001b[1;32m    124\u001b[0m         )\n\u001b[1;32m    125\u001b[0m \u001b[0;34m\u001b[0m\u001b[0m\n",
            "\u001b[0;32m/usr/local/lib/python3.7/dist-packages/sklearn/base.py\u001b[0m in \u001b[0;36m_validate_data\u001b[0;34m(self, X, y, reset, validate_separately, **check_params)\u001b[0m\n\u001b[1;32m    579\u001b[0m                 \u001b[0my\u001b[0m \u001b[0;34m=\u001b[0m \u001b[0mcheck_array\u001b[0m\u001b[0;34m(\u001b[0m\u001b[0my\u001b[0m\u001b[0;34m,\u001b[0m \u001b[0;34m**\u001b[0m\u001b[0mcheck_y_params\u001b[0m\u001b[0;34m)\u001b[0m\u001b[0;34m\u001b[0m\u001b[0;34m\u001b[0m\u001b[0m\n\u001b[1;32m    580\u001b[0m             \u001b[0;32melse\u001b[0m\u001b[0;34m:\u001b[0m\u001b[0;34m\u001b[0m\u001b[0;34m\u001b[0m\u001b[0m\n\u001b[0;32m--> 581\u001b[0;31m                 \u001b[0mX\u001b[0m\u001b[0;34m,\u001b[0m \u001b[0my\u001b[0m \u001b[0;34m=\u001b[0m \u001b[0mcheck_X_y\u001b[0m\u001b[0;34m(\u001b[0m\u001b[0mX\u001b[0m\u001b[0;34m,\u001b[0m \u001b[0my\u001b[0m\u001b[0;34m,\u001b[0m \u001b[0;34m**\u001b[0m\u001b[0mcheck_params\u001b[0m\u001b[0;34m)\u001b[0m\u001b[0;34m\u001b[0m\u001b[0;34m\u001b[0m\u001b[0m\n\u001b[0m\u001b[1;32m    582\u001b[0m             \u001b[0mout\u001b[0m \u001b[0;34m=\u001b[0m \u001b[0mX\u001b[0m\u001b[0;34m,\u001b[0m \u001b[0my\u001b[0m\u001b[0;34m\u001b[0m\u001b[0;34m\u001b[0m\u001b[0m\n\u001b[1;32m    583\u001b[0m \u001b[0;34m\u001b[0m\u001b[0m\n",
            "\u001b[0;32m/usr/local/lib/python3.7/dist-packages/sklearn/utils/validation.py\u001b[0m in \u001b[0;36mcheck_X_y\u001b[0;34m(X, y, accept_sparse, accept_large_sparse, dtype, order, copy, force_all_finite, ensure_2d, allow_nd, multi_output, ensure_min_samples, ensure_min_features, y_numeric, estimator)\u001b[0m\n\u001b[1;32m    977\u001b[0m     )\n\u001b[1;32m    978\u001b[0m \u001b[0;34m\u001b[0m\u001b[0m\n\u001b[0;32m--> 979\u001b[0;31m     \u001b[0my\u001b[0m \u001b[0;34m=\u001b[0m \u001b[0m_check_y\u001b[0m\u001b[0;34m(\u001b[0m\u001b[0my\u001b[0m\u001b[0;34m,\u001b[0m \u001b[0mmulti_output\u001b[0m\u001b[0;34m=\u001b[0m\u001b[0mmulti_output\u001b[0m\u001b[0;34m,\u001b[0m \u001b[0my_numeric\u001b[0m\u001b[0;34m=\u001b[0m\u001b[0my_numeric\u001b[0m\u001b[0;34m)\u001b[0m\u001b[0;34m\u001b[0m\u001b[0;34m\u001b[0m\u001b[0m\n\u001b[0m\u001b[1;32m    980\u001b[0m \u001b[0;34m\u001b[0m\u001b[0m\n\u001b[1;32m    981\u001b[0m     \u001b[0mcheck_consistent_length\u001b[0m\u001b[0;34m(\u001b[0m\u001b[0mX\u001b[0m\u001b[0;34m,\u001b[0m \u001b[0my\u001b[0m\u001b[0;34m)\u001b[0m\u001b[0;34m\u001b[0m\u001b[0;34m\u001b[0m\u001b[0m\n",
            "\u001b[0;32m/usr/local/lib/python3.7/dist-packages/sklearn/utils/validation.py\u001b[0m in \u001b[0;36m_check_y\u001b[0;34m(y, multi_output, y_numeric)\u001b[0m\n\u001b[1;32m    991\u001b[0m         )\n\u001b[1;32m    992\u001b[0m     \u001b[0;32melse\u001b[0m\u001b[0;34m:\u001b[0m\u001b[0;34m\u001b[0m\u001b[0;34m\u001b[0m\u001b[0m\n\u001b[0;32m--> 993\u001b[0;31m         \u001b[0my\u001b[0m \u001b[0;34m=\u001b[0m \u001b[0mcolumn_or_1d\u001b[0m\u001b[0;34m(\u001b[0m\u001b[0my\u001b[0m\u001b[0;34m,\u001b[0m \u001b[0mwarn\u001b[0m\u001b[0;34m=\u001b[0m\u001b[0;32mTrue\u001b[0m\u001b[0;34m)\u001b[0m\u001b[0;34m\u001b[0m\u001b[0;34m\u001b[0m\u001b[0m\n\u001b[0m\u001b[1;32m    994\u001b[0m         \u001b[0m_assert_all_finite\u001b[0m\u001b[0;34m(\u001b[0m\u001b[0my\u001b[0m\u001b[0;34m)\u001b[0m\u001b[0;34m\u001b[0m\u001b[0;34m\u001b[0m\u001b[0m\n\u001b[1;32m    995\u001b[0m         \u001b[0m_ensure_no_complex_data\u001b[0m\u001b[0;34m(\u001b[0m\u001b[0my\u001b[0m\u001b[0;34m)\u001b[0m\u001b[0;34m\u001b[0m\u001b[0;34m\u001b[0m\u001b[0m\n",
            "\u001b[0;32m/usr/local/lib/python3.7/dist-packages/sklearn/utils/validation.py\u001b[0m in \u001b[0;36mcolumn_or_1d\u001b[0;34m(y, warn)\u001b[0m\n\u001b[1;32m   1037\u001b[0m \u001b[0;34m\u001b[0m\u001b[0m\n\u001b[1;32m   1038\u001b[0m     raise ValueError(\n\u001b[0;32m-> 1039\u001b[0;31m         \u001b[0;34m\"y should be a 1d array, got an array of shape {} instead.\"\u001b[0m\u001b[0;34m.\u001b[0m\u001b[0mformat\u001b[0m\u001b[0;34m(\u001b[0m\u001b[0mshape\u001b[0m\u001b[0;34m)\u001b[0m\u001b[0;34m\u001b[0m\u001b[0;34m\u001b[0m\u001b[0m\n\u001b[0m\u001b[1;32m   1040\u001b[0m     )\n\u001b[1;32m   1041\u001b[0m \u001b[0;34m\u001b[0m\u001b[0m\n",
            "\u001b[0;31mValueError\u001b[0m: y should be a 1d array, got an array of shape (120440, 3) instead."
          ]
        }
      ]
    },
    {
      "cell_type": "code",
      "source": [
        "adab_acc = accuracy_score(y_test,y_pred_adab)\n",
        "print(adab_acc)\n",
        "adab_cm = confusion_matrix(y_test,y_pred_adab)\n",
        "print(adab_cm)\n",
        "adab_cr = classification_report(y_test,y_pred_adab)\n",
        "print(adab_cr)"
      ],
      "metadata": {
        "id": "EBAtfcGxKmXk",
        "colab": {
          "base_uri": "https://localhost:8080/"
        },
        "outputId": "bb044c59-376a-4736-a707-96a432db2459"
      },
      "execution_count": null,
      "outputs": [
        {
          "output_type": "stream",
          "name": "stdout",
          "text": [
            "0.5206603096483133\n",
            "[[2816   85 1689  279]\n",
            " [ 103  160  122   44]\n",
            " [1659   92 1831   88]\n",
            " [ 371   32  111  271]]\n",
            "              precision    recall  f1-score   support\n",
            "\n",
            "           a       0.57      0.58      0.57      4869\n",
            "           s       0.43      0.37      0.40       429\n",
            "           u       0.49      0.50      0.49      3670\n",
            "           w       0.40      0.35      0.37       785\n",
            "\n",
            "    accuracy                           0.52      9753\n",
            "   macro avg       0.47      0.45      0.46      9753\n",
            "weighted avg       0.52      0.52      0.52      9753\n",
            "\n"
          ]
        }
      ]
    },
    {
      "cell_type": "markdown",
      "source": [
        "**Gradient Boosting**"
      ],
      "metadata": {
        "id": "qYavOWhibxO2"
      }
    },
    {
      "cell_type": "code",
      "source": [
        "from sklearn.ensemble import GradientBoostingRegressor\n",
        "GRB = GradientBoostingRegressor(loss=\"squared_error\", learning_rate=0.1, n_estimators=100, subsample=1, criterion=\"friedman_mse\", min_samples_split=2, min_samples_leaf=1, min_weight_fraction_leaf=0, max_depth=3, min_impurity_decrease=0, init=None, random_state=None, max_features=None, alpha=0.9, verbose=0, max_leaf_nodes=None, warm_start=False, validation_fraction=0.1, n_iter_no_change=None, tol=0.0001, ccp_alpha=0)\n"
      ],
      "metadata": {
        "id": "p4gF9DRhK2Ht"
      },
      "execution_count": null,
      "outputs": []
    },
    {
      "cell_type": "code",
      "source": [
        "GradientBoostingRegressor()"
      ],
      "metadata": {
        "colab": {
          "base_uri": "https://localhost:8080/"
        },
        "id": "5Bua9hPVxi2H",
        "outputId": "92f873b0-777c-467d-8886-2f41bf953dbb"
      },
      "execution_count": null,
      "outputs": [
        {
          "output_type": "execute_result",
          "data": {
            "text/plain": [
              "GradientBoostingRegressor()"
            ]
          },
          "metadata": {},
          "execution_count": 158
        }
      ]
    },
    {
      "cell_type": "code",
      "source": [
        "GRB.fit(x_train,y_train)\n",
        "y_pred_grb= GRB.predict(x_test)"
      ],
      "metadata": {
        "colab": {
          "base_uri": "https://localhost:8080/",
          "height": 329
        },
        "id": "rDMXx8Wnxg3s",
        "outputId": "ceb64f75-32a0-4f85-9cd3-3c6693021299"
      },
      "execution_count": null,
      "outputs": [
        {
          "output_type": "error",
          "ename": "ValueError",
          "evalue": "ignored",
          "traceback": [
            "\u001b[0;31m---------------------------------------------------------------------------\u001b[0m",
            "\u001b[0;31mValueError\u001b[0m                                Traceback (most recent call last)",
            "\u001b[0;32m<ipython-input-160-0ac712031e2c>\u001b[0m in \u001b[0;36m<module>\u001b[0;34m()\u001b[0m\n\u001b[0;32m----> 1\u001b[0;31m \u001b[0mGRB\u001b[0m\u001b[0;34m.\u001b[0m\u001b[0mfit\u001b[0m\u001b[0;34m(\u001b[0m\u001b[0mx_train\u001b[0m\u001b[0;34m,\u001b[0m\u001b[0my_train\u001b[0m\u001b[0;34m)\u001b[0m\u001b[0;34m\u001b[0m\u001b[0;34m\u001b[0m\u001b[0m\n\u001b[0m\u001b[1;32m      2\u001b[0m \u001b[0my_pred_grb\u001b[0m\u001b[0;34m=\u001b[0m \u001b[0mGRB\u001b[0m\u001b[0;34m.\u001b[0m\u001b[0mpredict\u001b[0m\u001b[0;34m(\u001b[0m\u001b[0mx_test\u001b[0m\u001b[0;34m)\u001b[0m\u001b[0;34m\u001b[0m\u001b[0;34m\u001b[0m\u001b[0m\n",
            "\u001b[0;32m/usr/local/lib/python3.7/dist-packages/sklearn/ensemble/_gb.py\u001b[0m in \u001b[0;36mfit\u001b[0;34m(self, X, y, sample_weight, monitor)\u001b[0m\n\u001b[1;32m    492\u001b[0m         \u001b[0msample_weight\u001b[0m \u001b[0;34m=\u001b[0m \u001b[0m_check_sample_weight\u001b[0m\u001b[0;34m(\u001b[0m\u001b[0msample_weight\u001b[0m\u001b[0;34m,\u001b[0m \u001b[0mX\u001b[0m\u001b[0;34m)\u001b[0m\u001b[0;34m\u001b[0m\u001b[0;34m\u001b[0m\u001b[0m\n\u001b[1;32m    493\u001b[0m \u001b[0;34m\u001b[0m\u001b[0m\n\u001b[0;32m--> 494\u001b[0;31m         \u001b[0my\u001b[0m \u001b[0;34m=\u001b[0m \u001b[0mcolumn_or_1d\u001b[0m\u001b[0;34m(\u001b[0m\u001b[0my\u001b[0m\u001b[0;34m,\u001b[0m \u001b[0mwarn\u001b[0m\u001b[0;34m=\u001b[0m\u001b[0;32mTrue\u001b[0m\u001b[0;34m)\u001b[0m\u001b[0;34m\u001b[0m\u001b[0;34m\u001b[0m\u001b[0m\n\u001b[0m\u001b[1;32m    495\u001b[0m \u001b[0;34m\u001b[0m\u001b[0m\n\u001b[1;32m    496\u001b[0m         \u001b[0;32mif\u001b[0m \u001b[0mis_classifier\u001b[0m\u001b[0;34m(\u001b[0m\u001b[0mself\u001b[0m\u001b[0;34m)\u001b[0m\u001b[0;34m:\u001b[0m\u001b[0;34m\u001b[0m\u001b[0;34m\u001b[0m\u001b[0m\n",
            "\u001b[0;32m/usr/local/lib/python3.7/dist-packages/sklearn/utils/validation.py\u001b[0m in \u001b[0;36mcolumn_or_1d\u001b[0;34m(y, warn)\u001b[0m\n\u001b[1;32m   1037\u001b[0m \u001b[0;34m\u001b[0m\u001b[0m\n\u001b[1;32m   1038\u001b[0m     raise ValueError(\n\u001b[0;32m-> 1039\u001b[0;31m         \u001b[0;34m\"y should be a 1d array, got an array of shape {} instead.\"\u001b[0m\u001b[0;34m.\u001b[0m\u001b[0mformat\u001b[0m\u001b[0;34m(\u001b[0m\u001b[0mshape\u001b[0m\u001b[0;34m)\u001b[0m\u001b[0;34m\u001b[0m\u001b[0;34m\u001b[0m\u001b[0m\n\u001b[0m\u001b[1;32m   1040\u001b[0m     )\n\u001b[1;32m   1041\u001b[0m \u001b[0;34m\u001b[0m\u001b[0m\n",
            "\u001b[0;31mValueError\u001b[0m: y should be a 1d array, got an array of shape (120440, 3) instead."
          ]
        }
      ]
    },
    {
      "cell_type": "code",
      "source": [
        "grb_acc = accuracy_score(y_test,y_pred_grb)\n",
        "print(grb_acc)\n",
        "grb_cm = confusion_matrix(y_test,y_pred_grb)\n",
        "print(grb_cm)\n",
        "grb_cr = classification_report(y_test,y_pred_grb)\n",
        "print(grb_cr)"
      ],
      "metadata": {
        "id": "g2QbKkTNLbPM",
        "colab": {
          "base_uri": "https://localhost:8080/"
        },
        "outputId": "b45e1ca8-f78f-4150-fc5f-89b800414160"
      },
      "execution_count": null,
      "outputs": [
        {
          "output_type": "stream",
          "name": "stdout",
          "text": [
            "0.5166615400389624\n",
            "[[3623   19 1089  138]\n",
            " [ 156  110  148   15]\n",
            " [2393   44 1192   41]\n",
            " [ 560    9  102  114]]\n",
            "              precision    recall  f1-score   support\n",
            "\n",
            "           a       0.54      0.74      0.62      4869\n",
            "           s       0.60      0.26      0.36       429\n",
            "           u       0.47      0.32      0.38      3670\n",
            "           w       0.37      0.15      0.21       785\n",
            "\n",
            "    accuracy                           0.52      9753\n",
            "   macro avg       0.50      0.37      0.39      9753\n",
            "weighted avg       0.50      0.52      0.49      9753\n",
            "\n"
          ]
        }
      ]
    },
    {
      "cell_type": "code",
      "source": [
        "import numpy as np\n",
        "np.arange(0.01,0.2,0.01)\n",
        "range(1,100)"
      ],
      "metadata": {
        "colab": {
          "base_uri": "https://localhost:8080/"
        },
        "id": "G9OS5JVpm7yJ",
        "outputId": "c13e9276-0617-456a-c6a0-6bdb2885f83b"
      },
      "execution_count": null,
      "outputs": [
        {
          "output_type": "execute_result",
          "data": {
            "text/plain": [
              "range(1, 100)"
            ]
          },
          "metadata": {},
          "execution_count": 232
        }
      ]
    },
    {
      "cell_type": "code",
      "source": [
        "np.arange(0.01,0.2,0.01)\n"
      ],
      "metadata": {
        "colab": {
          "base_uri": "https://localhost:8080/"
        },
        "id": "jbff5P_3pwFa",
        "outputId": "176fadd0-5dd1-4601-b54d-f86df57bc003"
      },
      "execution_count": null,
      "outputs": [
        {
          "output_type": "execute_result",
          "data": {
            "text/plain": [
              "array([0.01, 0.02, 0.03, 0.04, 0.05, 0.06, 0.07, 0.08, 0.09, 0.1 , 0.11,\n",
              "       0.12, 0.13, 0.14, 0.15, 0.16, 0.17, 0.18, 0.19])"
            ]
          },
          "metadata": {},
          "execution_count": 233
        }
      ]
    },
    {
      "cell_type": "code",
      "source": [
        "y_test"
      ],
      "metadata": {
        "colab": {
          "base_uri": "https://localhost:8080/"
        },
        "id": "32vC9_D7oo9w",
        "outputId": "998d98ca-3a85-4714-d0b7-874776a030cb"
      },
      "execution_count": null,
      "outputs": [
        {
          "output_type": "execute_result",
          "data": {
            "text/plain": [
              "19893    a\n",
              "32235    a\n",
              "13939    a\n",
              "17470    a\n",
              "22714    u\n",
              "        ..\n",
              "37601    a\n",
              "39691    u\n",
              "640      a\n",
              "32256    u\n",
              "38284    u\n",
              "Name: season, Length: 9753, dtype: object"
            ]
          },
          "metadata": {},
          "execution_count": 226
        }
      ]
    },
    {
      "cell_type": "code",
      "source": [
        "y_pred_grb"
      ],
      "metadata": {
        "colab": {
          "base_uri": "https://localhost:8080/"
        },
        "id": "1H7-paI7ovQB",
        "outputId": "d09bcfd7-3ec3-4147-f5ec-08ca516be8a0"
      },
      "execution_count": null,
      "outputs": [
        {
          "output_type": "execute_result",
          "data": {
            "text/plain": [
              "array(['a', 'a', 'a', ..., 'a', 'a', 'a'], dtype=object)"
            ]
          },
          "metadata": {},
          "execution_count": 227
        }
      ]
    },
    {
      "cell_type": "markdown",
      "source": [
        "**XG Boosting**"
      ],
      "metadata": {
        "id": "lxgS3hdhcEOg"
      }
    },
    {
      "cell_type": "code",
      "source": [
        "from xgboost import XGBClassifier\n",
        "XGB = XGBClassifier()\n",
        "XGB.fit(x_train,y_train)\n",
        "y_pred_xgb= XGB.predict(x_scale_test)"
      ],
      "metadata": {
        "id": "tZtcm_2XMF-_"
      },
      "execution_count": null,
      "outputs": []
    },
    {
      "cell_type": "code",
      "source": [
        "acc_score_xgb = accuracy_score(y_test,y_pred_xgb).round(3)"
      ],
      "metadata": {
        "id": "4yAZ5oXyMphg"
      },
      "execution_count": null,
      "outputs": []
    },
    {
      "cell_type": "code",
      "source": [
        "acc_score_xgb"
      ],
      "metadata": {
        "colab": {
          "base_uri": "https://localhost:8080/"
        },
        "id": "eBiDIUcnM0Ys",
        "outputId": "e1487368-1796-40ae-d913-ff3899072c67"
      },
      "execution_count": null,
      "outputs": [
        {
          "output_type": "execute_result",
          "data": {
            "text/plain": [
              "0.518"
            ]
          },
          "metadata": {},
          "execution_count": 61
        }
      ]
    },
    {
      "cell_type": "markdown",
      "source": [
        "**Model fitting With Bagging**"
      ],
      "metadata": {
        "id": "_quWpRIacYou"
      }
    },
    {
      "cell_type": "code",
      "source": [
        "from sklearn.ensemble import BaggingRegressor\n",
        "Bag= BaggingRegressor(base_estimator=DecisionTreeRegressor(), max_samples=0.9,\n",
        "                  n_estimators=500)"
      ],
      "metadata": {
        "id": "koSENNCBAH9P"
      },
      "execution_count": null,
      "outputs": []
    },
    {
      "cell_type": "code",
      "source": [
        "Bag.fit(x_train,y_train)"
      ],
      "metadata": {
        "colab": {
          "base_uri": "https://localhost:8080/"
        },
        "id": "lNFuZAr-AP09",
        "outputId": "24837d8c-2351-4629-e466-0ef1f30df447"
      },
      "execution_count": null,
      "outputs": [
        {
          "output_type": "execute_result",
          "data": {
            "text/plain": [
              "BaggingRegressor(base_estimator=DecisionTreeRegressor(), max_samples=0.9,\n",
              "                 n_estimators=500)"
            ]
          },
          "metadata": {},
          "execution_count": 76
        }
      ]
    },
    {
      "cell_type": "code",
      "source": [
        "y_pred_bag= Bag.predict(x_test)"
      ],
      "metadata": {
        "id": "8o7uemiEAlUt"
      },
      "execution_count": null,
      "outputs": []
    },
    {
      "cell_type": "code",
      "source": [
        "y_pred_bag"
      ],
      "metadata": {
        "colab": {
          "base_uri": "https://localhost:8080/"
        },
        "id": "iJFzVyqWr9aC",
        "outputId": "cf95d102-75bb-4887-f988-3f1c7eed904b"
      },
      "execution_count": null,
      "outputs": [
        {
          "output_type": "execute_result",
          "data": {
            "text/plain": [
              "array([[  0.   ,   0.   ,   0.   ],\n",
              "       [  0.   ,   0.   ,   0.   ],\n",
              "       [132.094, 628.874, 478.808],\n",
              "       ...,\n",
              "       [  0.   ,   0.   ,   0.   ],\n",
              "       [ 53.764, 736.844, 245.888],\n",
              "       [  0.   ,   0.   ,   0.   ]])"
            ]
          },
          "metadata": {},
          "execution_count": 78
        }
      ]
    },
    {
      "cell_type": "code",
      "source": [
        "bag_mse = mean_squared_error(y_test,y_pred_bag)\n",
        "print(bag_mse)"
      ],
      "metadata": {
        "id": "7mjvO2dkA-rz",
        "colab": {
          "base_uri": "https://localhost:8080/"
        },
        "outputId": "a3f20046-3e91-4842-e5f6-d8ff6bede02c"
      },
      "execution_count": null,
      "outputs": [
        {
          "output_type": "stream",
          "name": "stdout",
          "text": [
            "457.44987285306553\n"
          ]
        }
      ]
    },
    {
      "cell_type": "code",
      "source": [
        "import numpy as np\n",
        "mse_bag=[]\n",
        "settings = np.arange(0.1,1,0.1)"
      ],
      "metadata": {
        "id": "EKBGIowmBOV3"
      },
      "execution_count": null,
      "outputs": []
    },
    {
      "cell_type": "markdown",
      "source": [
        "No need to code Random State incase of Bagging. Bagging Will take care of Sample by default."
      ],
      "metadata": {
        "id": "I2PAcbYJj_AO"
      }
    },
    {
      "cell_type": "code",
      "source": [
        "for i in settings:\n",
        "    bag =BaggingRegressor(base_estimator=DT, max_samples=i, n_estimators=10)\n",
        "    bag.fit(x_train,y_train)\n",
        "    y_pred_bg = bag.predict(x_test)\n",
        "    mse_bag.append(mean_squared_error(y_test,y_pred_bag))\n",
        "print(mse_bag)"
      ],
      "metadata": {
        "id": "5Nf4UyidBhSk",
        "colab": {
          "base_uri": "https://localhost:8080/"
        },
        "outputId": "b20459c4-4d79-4f3e-f9f6-94736ecdf93b"
      },
      "execution_count": null,
      "outputs": [
        {
          "output_type": "stream",
          "name": "stdout",
          "text": [
            "[457.44987285306553, 457.44987285306553, 457.44987285306553, 457.44987285306553, 457.44987285306553, 457.44987285306553, 457.44987285306553, 457.44987285306553, 457.44987285306553]\n"
          ]
        }
      ]
    },
    {
      "cell_type": "code",
      "source": [
        "import matplotlib.pyplot as plt\n",
        "plt.plot(settings,mse_bag)\n",
        "plt.legend()\n",
        "plt.show()"
      ],
      "metadata": {
        "colab": {
          "base_uri": "https://localhost:8080/",
          "height": 283
        },
        "id": "DSggoZcctNM6",
        "outputId": "cb4095e3-6477-4d61-d223-50ec11396517"
      },
      "execution_count": null,
      "outputs": [
        {
          "output_type": "stream",
          "name": "stderr",
          "text": [
            "No handles with labels found to put in legend.\n"
          ]
        },
        {
          "output_type": "display_data",
          "data": {
            "image/png": "[encoded data removed]",
            "text/plain": [
              "<Figure size 432x288 with 1 Axes>"
            ]
          },
          "metadata": {
            "needs_background": "light"
          }
        }
      ]
    },
    {
      "cell_type": "markdown",
      "source": [
        "**Random Forest**"
      ],
      "metadata": {
        "id": "13bZw9p1sYN3"
      }
    },
    {
      "cell_type": "code",
      "source": [
        "from sklearn.ensemble import RandomForestRegressor\n",
        "RF = RandomForestRegressor(max_features=0.6, n_estimators=100)\n",
        "RF.fit(x_train,y_train)\n",
        "y_RF_pred = RF.predict(x_test)"
      ],
      "metadata": {
        "id": "Fn0MyjscsXLX"
      },
      "execution_count": null,
      "outputs": []
    },
    {
      "cell_type": "code",
      "source": [
        "rf_mse = mean_squared_error(y_test,y_RF_pred)"
      ],
      "metadata": {
        "id": "bQ0ifFB2t8mY"
      },
      "execution_count": null,
      "outputs": []
    },
    {
      "cell_type": "code",
      "source": [
        "rf_mse"
      ],
      "metadata": {
        "colab": {
          "base_uri": "https://localhost:8080/"
        },
        "id": "ZCPsi8YquPDi",
        "outputId": "e52de576-4ef6-40c4-bc16-cfd47b940b02"
      },
      "execution_count": null,
      "outputs": [
        {
          "output_type": "execute_result",
          "data": {
            "text/plain": [
              "446.882583877581"
            ]
          },
          "metadata": {},
          "execution_count": 84
        }
      ]
    },
    {
      "cell_type": "code",
      "source": [
        "RF_MSE = []\n",
        "setting = np.arange(0.1,1,0.1)\n",
        "for i in setting:\n",
        "    RF = RandomForestRegressor(max_features=i, n_estimators=100)\n",
        "    RF.fit(x_train,y_train)\n",
        "    RF_pred = RF.predict(x_test)\n",
        "    RF_MSE.append(mean_squared_error(y_test,y_RF_pred))\n",
        "print(RF_MSE)"
      ],
      "metadata": {
        "colab": {
          "base_uri": "https://localhost:8080/"
        },
        "id": "UkhNB62-ste7",
        "outputId": "4d008713-ad9b-48fd-91e4-343ae5f27dab"
      },
      "execution_count": null,
      "outputs": [
        {
          "output_type": "stream",
          "name": "stdout",
          "text": [
            "[446.882583877581, 446.882583877581, 446.882583877581, 446.882583877581, 446.882583877581, 446.882583877581, 446.882583877581, 446.882583877581, 446.882583877581]\n"
          ]
        }
      ]
    },
    {
      "cell_type": "code",
      "source": [
        "import matplotlib.pyplot as plt\n",
        "plt.plot(settings,RF_MSE)\n",
        "plt.legend()\n",
        "plt.show()"
      ],
      "metadata": {
        "colab": {
          "base_uri": "https://localhost:8080/",
          "height": 283
        },
        "id": "q6T1jJxX0iyU",
        "outputId": "d3140452-4d18-4990-c200-ad8f066b25ad"
      },
      "execution_count": null,
      "outputs": [
        {
          "output_type": "stream",
          "name": "stderr",
          "text": [
            "No handles with labels found to put in legend.\n"
          ]
        },
        {
          "output_type": "display_data",
          "data": {
            "image/png": "[encoded data removed]",
            "text/plain": [
              "<Figure size 432x288 with 1 Axes>"
            ]
          },
          "metadata": {
            "needs_background": "light"
          }
        }
      ]
    },
    {
      "cell_type": "code",
      "source": [
        "from tensorflow.keras.models import Sequential\n",
        "from tensorflow.keras.layers import Dense"
      ],
      "metadata": {
        "id": "MLIpWLpK2ESG"
      },
      "execution_count": null,
      "outputs": []
    },
    {
      "cell_type": "code",
      "source": [
        "model= Sequential()\n",
        "model.add(Dense(15,activation='leakyrelu',name='input'))\n",
        "model.add(Dense(23,activation='leakyrelu',name='hidden'))\n",
        "model.add(Dense(3,name='output'))"
      ],
      "metadata": {
        "id": "iXCuHr-H2hvp"
      },
      "execution_count": null,
      "outputs": []
    },
    {
      "cell_type": "code",
      "source": [
        "model.compile(loss='mse', optimizer='srd')"
      ],
      "metadata": {
        "id": "sfByZ9zR3D6W"
      },
      "execution_count": null,
      "outputs": []
    },
    {
      "cell_type": "code",
      "source": [
        "model.fit(x =x_train, y= y_train, validation_data=(x_test,y_test), batch_size=2000, epochs=5000)"
      ],
      "metadata": {
        "colab": {
          "base_uri": "https://localhost:8080/"
        },
        "id": "3J7gjTSm3U1-",
        "outputId": "d46b6eed-692c-4afa-989b-68f94a89a52b"
      },
      "execution_count": null,
      "outputs": [
        {
          "output_type": "stream",
          "name": "stdout",
          "text": [
            "Epoch 1/500\n",
            "603/603 [==============================] - 2s 2ms/step - loss: 76937.2734 - val_loss: 17875.3574\n",
            "Epoch 2/500\n",
            "603/603 [==============================] - 1s 2ms/step - loss: 14775.9473 - val_loss: 12206.7402\n",
            "Epoch 3/500\n",
            "603/603 [==============================] - 1s 2ms/step - loss: 10006.8613 - val_loss: 7938.7578\n",
            "Epoch 4/500\n",
            "603/603 [==============================] - 1s 2ms/step - loss: 6468.6782 - val_loss: 5379.2847\n",
            "Epoch 5/500\n",
            "603/603 [==============================] - 1s 2ms/step - loss: 4783.7173 - val_loss: 4307.5635\n",
            "Epoch 6/500\n",
            "603/603 [==============================] - 1s 2ms/step - loss: 3948.3721 - val_loss: 3617.9819\n",
            "Epoch 7/500\n",
            "603/603 [==============================] - 1s 2ms/step - loss: 3297.7971 - val_loss: 2993.3984\n",
            "Epoch 8/500\n",
            "603/603 [==============================] - 1s 2ms/step - loss: 2672.3369 - val_loss: 2388.6470\n",
            "Epoch 9/500\n",
            "603/603 [==============================] - 1s 2ms/step - loss: 2117.1169 - val_loss: 1906.6305\n",
            "Epoch 10/500\n",
            "603/603 [==============================] - 1s 2ms/step - loss: 1711.7977 - val_loss: 1568.0968\n",
            "Epoch 11/500\n",
            "603/603 [==============================] - 1s 2ms/step - loss: 1425.0890 - val_loss: 1321.3967\n",
            "Epoch 12/500\n",
            "603/603 [==============================] - 1s 2ms/step - loss: 1211.2985 - val_loss: 1136.8015\n",
            "Epoch 13/500\n",
            "603/603 [==============================] - 1s 2ms/step - loss: 1063.0265 - val_loss: 1019.6818\n",
            "Epoch 14/500\n",
            "603/603 [==============================] - 1s 2ms/step - loss: 966.0046 - val_loss: 940.9384\n",
            "Epoch 15/500\n",
            "603/603 [==============================] - 1s 2ms/step - loss: 901.8907 - val_loss: 895.5917\n",
            "Epoch 16/500\n",
            "603/603 [==============================] - 1s 2ms/step - loss: 858.9641 - val_loss: 851.1111\n",
            "Epoch 17/500\n",
            "603/603 [==============================] - 1s 2ms/step - loss: 825.7186 - val_loss: 823.7367\n",
            "Epoch 18/500\n",
            "603/603 [==============================] - 1s 2ms/step - loss: 801.5484 - val_loss: 811.6282\n",
            "Epoch 19/500\n",
            "603/603 [==============================] - 1s 2ms/step - loss: 782.7509 - val_loss: 786.6186\n",
            "Epoch 20/500\n",
            "603/603 [==============================] - 1s 2ms/step - loss: 765.2575 - val_loss: 769.2151\n",
            "Epoch 21/500\n",
            "603/603 [==============================] - 1s 2ms/step - loss: 750.4397 - val_loss: 751.6329\n",
            "Epoch 22/500\n",
            "603/603 [==============================] - 1s 2ms/step - loss: 735.0993 - val_loss: 737.0903\n",
            "Epoch 23/500\n",
            "603/603 [==============================] - 1s 2ms/step - loss: 721.2439 - val_loss: 725.5172\n",
            "Epoch 24/500\n",
            "603/603 [==============================] - 1s 2ms/step - loss: 707.8177 - val_loss: 711.4310\n",
            "Epoch 25/500\n",
            "603/603 [==============================] - 1s 2ms/step - loss: 695.2966 - val_loss: 697.5239\n",
            "Epoch 26/500\n",
            "603/603 [==============================] - 1s 2ms/step - loss: 684.9038 - val_loss: 689.2397\n",
            "Epoch 27/500\n",
            "603/603 [==============================] - 1s 2ms/step - loss: 677.2112 - val_loss: 681.4383\n",
            "Epoch 28/500\n",
            "603/603 [==============================] - 1s 2ms/step - loss: 671.1512 - val_loss: 675.2643\n",
            "Epoch 29/500\n",
            "603/603 [==============================] - 1s 2ms/step - loss: 665.3599 - val_loss: 674.5159\n",
            "Epoch 30/500\n",
            "603/603 [==============================] - 1s 2ms/step - loss: 660.9453 - val_loss: 663.2513\n",
            "Epoch 31/500\n",
            "603/603 [==============================] - 1s 2ms/step - loss: 656.7228 - val_loss: 660.9461\n",
            "Epoch 32/500\n",
            "603/603 [==============================] - 1s 2ms/step - loss: 653.7110 - val_loss: 659.5092\n",
            "Epoch 33/500\n",
            "603/603 [==============================] - 1s 2ms/step - loss: 650.4715 - val_loss: 654.6046\n",
            "Epoch 34/500\n",
            "603/603 [==============================] - 1s 2ms/step - loss: 647.9050 - val_loss: 653.4826\n",
            "Epoch 35/500\n",
            "603/603 [==============================] - 1s 2ms/step - loss: 644.8113 - val_loss: 649.9353\n",
            "Epoch 36/500\n",
            "603/603 [==============================] - 1s 2ms/step - loss: 643.2852 - val_loss: 647.5692\n",
            "Epoch 37/500\n",
            "603/603 [==============================] - 1s 2ms/step - loss: 640.6210 - val_loss: 643.3624\n",
            "Epoch 38/500\n",
            "603/603 [==============================] - 1s 2ms/step - loss: 639.1210 - val_loss: 642.4597\n",
            "Epoch 39/500\n",
            "603/603 [==============================] - 1s 2ms/step - loss: 637.0668 - val_loss: 645.0195\n",
            "Epoch 40/500\n",
            "603/603 [==============================] - 1s 2ms/step - loss: 635.2845 - val_loss: 640.0590\n",
            "Epoch 41/500\n",
            "603/603 [==============================] - 1s 2ms/step - loss: 633.4246 - val_loss: 637.3387\n",
            "Epoch 42/500\n",
            "603/603 [==============================] - 1s 2ms/step - loss: 631.9309 - val_loss: 639.5088\n",
            "Epoch 43/500\n",
            "603/603 [==============================] - 1s 2ms/step - loss: 630.8065 - val_loss: 633.0206\n",
            "Epoch 44/500\n",
            "603/603 [==============================] - 1s 2ms/step - loss: 628.9262 - val_loss: 633.8608\n",
            "Epoch 45/500\n",
            "603/603 [==============================] - 1s 2ms/step - loss: 627.9064 - val_loss: 634.5491\n",
            "Epoch 46/500\n",
            "603/603 [==============================] - 1s 2ms/step - loss: 626.6463 - val_loss: 629.4560\n",
            "Epoch 47/500\n",
            "603/603 [==============================] - 1s 2ms/step - loss: 624.9504 - val_loss: 628.9390\n",
            "Epoch 48/500\n",
            "603/603 [==============================] - 1s 2ms/step - loss: 623.2752 - val_loss: 630.2403\n",
            "Epoch 49/500\n",
            "603/603 [==============================] - 1s 2ms/step - loss: 621.9871 - val_loss: 625.6318\n",
            "Epoch 50/500\n",
            "603/603 [==============================] - 1s 2ms/step - loss: 619.9962 - val_loss: 623.2350\n",
            "Epoch 51/500\n",
            "603/603 [==============================] - 2s 4ms/step - loss: 619.0376 - val_loss: 619.7021\n",
            "Epoch 52/500\n",
            "603/603 [==============================] - 1s 2ms/step - loss: 617.1978 - val_loss: 622.4546\n",
            "Epoch 53/500\n",
            "603/603 [==============================] - 1s 2ms/step - loss: 615.2635 - val_loss: 621.3360\n",
            "Epoch 54/500\n",
            "603/603 [==============================] - 1s 2ms/step - loss: 613.5521 - val_loss: 617.0165\n",
            "Epoch 55/500\n",
            "603/603 [==============================] - 1s 2ms/step - loss: 612.7468 - val_loss: 615.8741\n",
            "Epoch 56/500\n",
            "603/603 [==============================] - 3s 4ms/step - loss: 611.5356 - val_loss: 614.7165\n",
            "Epoch 57/500\n",
            "603/603 [==============================] - 1s 2ms/step - loss: 609.8275 - val_loss: 613.9579\n",
            "Epoch 58/500\n",
            "603/603 [==============================] - 1s 2ms/step - loss: 608.9598 - val_loss: 613.5240\n",
            "Epoch 59/500\n",
            "603/603 [==============================] - 1s 2ms/step - loss: 608.1813 - val_loss: 614.5983\n",
            "Epoch 60/500\n",
            "603/603 [==============================] - 1s 2ms/step - loss: 607.2867 - val_loss: 612.0452\n",
            "Epoch 61/500\n",
            "603/603 [==============================] - 1s 2ms/step - loss: 605.8718 - val_loss: 610.1148\n",
            "Epoch 62/500\n",
            "603/603 [==============================] - 1s 2ms/step - loss: 604.3743 - val_loss: 619.9926\n",
            "Epoch 63/500\n",
            "603/603 [==============================] - 1s 2ms/step - loss: 604.3074 - val_loss: 609.3260\n",
            "Epoch 64/500\n",
            "603/603 [==============================] - 1s 2ms/step - loss: 602.7581 - val_loss: 611.4695\n",
            "Epoch 65/500\n",
            "603/603 [==============================] - 1s 2ms/step - loss: 601.5577 - val_loss: 606.0840\n",
            "Epoch 66/500\n",
            "603/603 [==============================] - 1s 2ms/step - loss: 600.8557 - val_loss: 605.5301\n",
            "Epoch 67/500\n",
            "603/603 [==============================] - 1s 2ms/step - loss: 600.2661 - val_loss: 605.2572\n",
            "Epoch 68/500\n",
            "603/603 [==============================] - 1s 2ms/step - loss: 598.1277 - val_loss: 605.2775\n",
            "Epoch 69/500\n",
            "603/603 [==============================] - 1s 2ms/step - loss: 597.4454 - val_loss: 604.4230\n",
            "Epoch 70/500\n",
            "603/603 [==============================] - 1s 2ms/step - loss: 597.5638 - val_loss: 605.5234\n",
            "Epoch 71/500\n",
            "603/603 [==============================] - 1s 2ms/step - loss: 596.0889 - val_loss: 602.6281\n",
            "Epoch 72/500\n",
            "603/603 [==============================] - 1s 2ms/step - loss: 595.6375 - val_loss: 601.6808\n",
            "Epoch 73/500\n",
            "603/603 [==============================] - 1s 2ms/step - loss: 595.1540 - val_loss: 603.2560\n",
            "Epoch 74/500\n",
            "603/603 [==============================] - 1s 2ms/step - loss: 594.1157 - val_loss: 602.6906\n",
            "Epoch 75/500\n",
            "603/603 [==============================] - 1s 2ms/step - loss: 593.4830 - val_loss: 600.4193\n",
            "Epoch 76/500\n",
            "603/603 [==============================] - 1s 2ms/step - loss: 592.6877 - val_loss: 600.9939\n",
            "Epoch 77/500\n",
            "603/603 [==============================] - 1s 2ms/step - loss: 592.4989 - val_loss: 599.7814\n",
            "Epoch 78/500\n",
            "603/603 [==============================] - 1s 2ms/step - loss: 591.8652 - val_loss: 598.2560\n",
            "Epoch 79/500\n",
            "603/603 [==============================] - 1s 2ms/step - loss: 591.3398 - val_loss: 596.7814\n",
            "Epoch 80/500\n",
            "603/603 [==============================] - 1s 2ms/step - loss: 590.4982 - val_loss: 598.5037\n",
            "Epoch 81/500\n",
            "603/603 [==============================] - 1s 2ms/step - loss: 590.0658 - val_loss: 600.1897\n",
            "Epoch 82/500\n",
            "603/603 [==============================] - 4s 6ms/step - loss: 589.6789 - val_loss: 598.1589\n",
            "Epoch 83/500\n",
            "603/603 [==============================] - 1s 2ms/step - loss: 589.0717 - val_loss: 599.0427\n",
            "Epoch 84/500\n",
            "603/603 [==============================] - 1s 2ms/step - loss: 588.4133 - val_loss: 596.0263\n",
            "Epoch 85/500\n",
            "603/603 [==============================] - 1s 2ms/step - loss: 588.3876 - val_loss: 597.4623\n",
            "Epoch 86/500\n",
            "603/603 [==============================] - 1s 2ms/step - loss: 588.1783 - val_loss: 595.8806\n",
            "Epoch 87/500\n",
            "603/603 [==============================] - 1s 2ms/step - loss: 587.2891 - val_loss: 595.7549\n",
            "Epoch 88/500\n",
            "603/603 [==============================] - 1s 2ms/step - loss: 586.6405 - val_loss: 594.3057\n",
            "Epoch 89/500\n",
            "603/603 [==============================] - 1s 2ms/step - loss: 585.5203 - val_loss: 593.7784\n",
            "Epoch 90/500\n",
            "603/603 [==============================] - 1s 2ms/step - loss: 584.9855 - val_loss: 594.4321\n",
            "Epoch 91/500\n",
            "603/603 [==============================] - 1s 2ms/step - loss: 584.1876 - val_loss: 591.9657\n",
            "Epoch 92/500\n",
            "603/603 [==============================] - 1s 2ms/step - loss: 584.2310 - val_loss: 591.8629\n",
            "Epoch 93/500\n",
            "603/603 [==============================] - 1s 2ms/step - loss: 583.1403 - val_loss: 599.3068\n",
            "Epoch 94/500\n",
            "603/603 [==============================] - 1s 2ms/step - loss: 583.1807 - val_loss: 591.4510\n",
            "Epoch 95/500\n",
            "603/603 [==============================] - 1s 2ms/step - loss: 582.2290 - val_loss: 590.9622\n",
            "Epoch 96/500\n",
            "603/603 [==============================] - 1s 2ms/step - loss: 582.0014 - val_loss: 592.9310\n",
            "Epoch 97/500\n",
            "603/603 [==============================] - 1s 2ms/step - loss: 581.1804 - val_loss: 588.1050\n",
            "Epoch 98/500\n",
            "603/603 [==============================] - 1s 2ms/step - loss: 580.9712 - val_loss: 590.3385\n",
            "Epoch 99/500\n",
            "603/603 [==============================] - 1s 2ms/step - loss: 580.7449 - val_loss: 592.9193\n",
            "Epoch 100/500\n",
            "603/603 [==============================] - 1s 2ms/step - loss: 580.3857 - val_loss: 587.2662\n",
            "Epoch 101/500\n",
            "603/603 [==============================] - 1s 2ms/step - loss: 579.7642 - val_loss: 588.3658\n",
            "Epoch 102/500\n",
            "603/603 [==============================] - 1s 2ms/step - loss: 579.3176 - val_loss: 588.0961\n",
            "Epoch 103/500\n",
            "603/603 [==============================] - 1s 2ms/step - loss: 578.7486 - val_loss: 587.3690\n",
            "Epoch 104/500\n",
            "603/603 [==============================] - 1s 2ms/step - loss: 578.1846 - val_loss: 586.7059\n",
            "Epoch 105/500\n",
            "603/603 [==============================] - 1s 2ms/step - loss: 577.9821 - val_loss: 587.2301\n",
            "Epoch 106/500\n",
            "603/603 [==============================] - 1s 2ms/step - loss: 578.1071 - val_loss: 586.8204\n",
            "Epoch 107/500\n",
            "603/603 [==============================] - 1s 2ms/step - loss: 577.7136 - val_loss: 585.7194\n",
            "Epoch 108/500\n",
            "603/603 [==============================] - 1s 2ms/step - loss: 577.6617 - val_loss: 590.1530\n",
            "Epoch 109/500\n",
            "603/603 [==============================] - 1s 2ms/step - loss: 577.3904 - val_loss: 590.6057\n",
            "Epoch 110/500\n",
            "603/603 [==============================] - 1s 2ms/step - loss: 577.5883 - val_loss: 585.7061\n",
            "Epoch 111/500\n",
            "603/603 [==============================] - 1s 2ms/step - loss: 577.2855 - val_loss: 584.3395\n",
            "Epoch 112/500\n",
            "603/603 [==============================] - 1s 2ms/step - loss: 576.6965 - val_loss: 587.0152\n",
            "Epoch 113/500\n",
            "603/603 [==============================] - 1s 2ms/step - loss: 576.3624 - val_loss: 587.8795\n",
            "Epoch 114/500\n",
            "603/603 [==============================] - 1s 2ms/step - loss: 576.1683 - val_loss: 584.7702\n",
            "Epoch 115/500\n",
            "603/603 [==============================] - 1s 2ms/step - loss: 575.8726 - val_loss: 584.0346\n",
            "Epoch 116/500\n",
            "603/603 [==============================] - 1s 2ms/step - loss: 575.8135 - val_loss: 583.9711\n",
            "Epoch 117/500\n",
            "603/603 [==============================] - 1s 2ms/step - loss: 576.1093 - val_loss: 585.5238\n",
            "Epoch 118/500\n",
            "603/603 [==============================] - 1s 2ms/step - loss: 575.2357 - val_loss: 589.1882\n",
            "Epoch 119/500\n",
            "603/603 [==============================] - 1s 2ms/step - loss: 575.1533 - val_loss: 584.0135\n",
            "Epoch 120/500\n",
            "603/603 [==============================] - 1s 2ms/step - loss: 575.1448 - val_loss: 586.6311\n",
            "Epoch 121/500\n",
            "603/603 [==============================] - 1s 2ms/step - loss: 574.9971 - val_loss: 582.6459\n",
            "Epoch 122/500\n",
            "603/603 [==============================] - 1s 2ms/step - loss: 574.9585 - val_loss: 584.0677\n",
            "Epoch 123/500\n",
            "603/603 [==============================] - 1s 2ms/step - loss: 574.5678 - val_loss: 581.6937\n",
            "Epoch 124/500\n",
            "603/603 [==============================] - 1s 2ms/step - loss: 573.9109 - val_loss: 581.7237\n",
            "Epoch 125/500\n",
            "603/603 [==============================] - 1s 2ms/step - loss: 574.4697 - val_loss: 585.0527\n",
            "Epoch 126/500\n",
            "603/603 [==============================] - 1s 2ms/step - loss: 574.1699 - val_loss: 580.7175\n",
            "Epoch 127/500\n",
            "603/603 [==============================] - 1s 2ms/step - loss: 574.2164 - val_loss: 583.8568\n",
            "Epoch 128/500\n",
            "603/603 [==============================] - 1s 2ms/step - loss: 573.8275 - val_loss: 581.8885\n",
            "Epoch 129/500\n",
            "603/603 [==============================] - 1s 2ms/step - loss: 573.6306 - val_loss: 583.2817\n",
            "Epoch 130/500\n",
            "603/603 [==============================] - 1s 2ms/step - loss: 572.8184 - val_loss: 580.6579\n",
            "Epoch 131/500\n",
            "603/603 [==============================] - 1s 2ms/step - loss: 573.4000 - val_loss: 583.2310\n",
            "Epoch 132/500\n",
            "603/603 [==============================] - 1s 2ms/step - loss: 573.3765 - val_loss: 582.1484\n",
            "Epoch 133/500\n",
            "603/603 [==============================] - 1s 2ms/step - loss: 573.1783 - val_loss: 581.5943\n",
            "Epoch 134/500\n",
            "603/603 [==============================] - 1s 2ms/step - loss: 573.0664 - val_loss: 585.4136\n",
            "Epoch 135/500\n",
            "603/603 [==============================] - 1s 2ms/step - loss: 573.4742 - val_loss: 579.6169\n",
            "Epoch 136/500\n",
            "603/603 [==============================] - 2s 4ms/step - loss: 572.5115 - val_loss: 580.3884\n",
            "Epoch 137/500\n",
            "603/603 [==============================] - 1s 2ms/step - loss: 571.8444 - val_loss: 580.7322\n",
            "Epoch 138/500\n",
            "603/603 [==============================] - 1s 2ms/step - loss: 572.6259 - val_loss: 581.3609\n",
            "Epoch 139/500\n",
            "603/603 [==============================] - 1s 2ms/step - loss: 572.3922 - val_loss: 579.9875\n",
            "Epoch 140/500\n",
            "603/603 [==============================] - 1s 2ms/step - loss: 571.9097 - val_loss: 580.8051\n",
            "Epoch 141/500\n",
            "603/603 [==============================] - 1s 2ms/step - loss: 572.0251 - val_loss: 579.2820\n",
            "Epoch 142/500\n",
            "603/603 [==============================] - 1s 2ms/step - loss: 572.2540 - val_loss: 579.5854\n",
            "Epoch 143/500\n",
            "603/603 [==============================] - 1s 2ms/step - loss: 571.7756 - val_loss: 582.6536\n",
            "Epoch 144/500\n",
            "603/603 [==============================] - 1s 2ms/step - loss: 571.4709 - val_loss: 579.2770\n",
            "Epoch 145/500\n",
            "603/603 [==============================] - 1s 2ms/step - loss: 571.6187 - val_loss: 579.0016\n",
            "Epoch 146/500\n",
            "603/603 [==============================] - 1s 2ms/step - loss: 571.8167 - val_loss: 579.0838\n",
            "Epoch 147/500\n",
            "603/603 [==============================] - 1s 2ms/step - loss: 571.2196 - val_loss: 577.9438\n",
            "Epoch 148/500\n",
            "603/603 [==============================] - 1s 2ms/step - loss: 571.2328 - val_loss: 579.1807\n",
            "Epoch 149/500\n",
            "603/603 [==============================] - 1s 2ms/step - loss: 570.9837 - val_loss: 578.7446\n",
            "Epoch 150/500\n",
            "603/603 [==============================] - 1s 2ms/step - loss: 570.8945 - val_loss: 580.8634\n",
            "Epoch 151/500\n",
            "603/603 [==============================] - 1s 2ms/step - loss: 570.7833 - val_loss: 580.7027\n",
            "Epoch 152/500\n",
            "603/603 [==============================] - 1s 2ms/step - loss: 570.4319 - val_loss: 579.0836\n",
            "Epoch 153/500\n",
            "603/603 [==============================] - 1s 2ms/step - loss: 570.3370 - val_loss: 579.9639\n",
            "Epoch 154/500\n",
            "603/603 [==============================] - 1s 2ms/step - loss: 569.7393 - val_loss: 579.0760\n",
            "Epoch 155/500\n",
            "603/603 [==============================] - 1s 2ms/step - loss: 569.9868 - val_loss: 586.5771\n",
            "Epoch 156/500\n",
            "603/603 [==============================] - 1s 2ms/step - loss: 570.3394 - val_loss: 582.1425\n",
            "Epoch 157/500\n",
            "603/603 [==============================] - 1s 2ms/step - loss: 569.9586 - val_loss: 577.3351\n",
            "Epoch 158/500\n",
            "603/603 [==============================] - 1s 2ms/step - loss: 569.8563 - val_loss: 578.7843\n",
            "Epoch 159/500\n",
            "603/603 [==============================] - 1s 2ms/step - loss: 570.0912 - val_loss: 578.8374\n",
            "Epoch 160/500\n",
            "603/603 [==============================] - 1s 2ms/step - loss: 569.6052 - val_loss: 578.0988\n",
            "Epoch 161/500\n",
            "603/603 [==============================] - 1s 2ms/step - loss: 569.2745 - val_loss: 578.3580\n",
            "Epoch 162/500\n",
            "603/603 [==============================] - 1s 2ms/step - loss: 569.3521 - val_loss: 580.0127\n",
            "Epoch 163/500\n",
            "603/603 [==============================] - 1s 2ms/step - loss: 569.0129 - val_loss: 577.5607\n",
            "Epoch 164/500\n",
            "603/603 [==============================] - 1s 2ms/step - loss: 569.1638 - val_loss: 577.3676\n",
            "Epoch 165/500\n",
            "603/603 [==============================] - 1s 2ms/step - loss: 568.7534 - val_loss: 580.4935\n",
            "Epoch 166/500\n",
            "603/603 [==============================] - 1s 2ms/step - loss: 569.0138 - val_loss: 577.6193\n",
            "Epoch 167/500\n",
            "603/603 [==============================] - 1s 2ms/step - loss: 568.6619 - val_loss: 576.7386\n",
            "Epoch 168/500\n",
            "603/603 [==============================] - 1s 2ms/step - loss: 568.9396 - val_loss: 577.4963\n",
            "Epoch 169/500\n",
            "603/603 [==============================] - 1s 2ms/step - loss: 568.3594 - val_loss: 578.6418\n",
            "Epoch 170/500\n",
            "603/603 [==============================] - 1s 2ms/step - loss: 568.3109 - val_loss: 579.1342\n",
            "Epoch 171/500\n",
            "603/603 [==============================] - 1s 2ms/step - loss: 567.8812 - val_loss: 575.1133\n",
            "Epoch 172/500\n",
            "603/603 [==============================] - 1s 2ms/step - loss: 568.6790 - val_loss: 577.2523\n",
            "Epoch 173/500\n",
            "603/603 [==============================] - 1s 2ms/step - loss: 568.4791 - val_loss: 575.8447\n",
            "Epoch 174/500\n",
            "603/603 [==============================] - 1s 2ms/step - loss: 568.2342 - val_loss: 576.0836\n",
            "Epoch 175/500\n",
            "603/603 [==============================] - 1s 2ms/step - loss: 567.5755 - val_loss: 576.6761\n",
            "Epoch 176/500\n",
            "603/603 [==============================] - 1s 2ms/step - loss: 567.9829 - val_loss: 575.7925\n",
            "Epoch 177/500\n",
            "603/603 [==============================] - 1s 2ms/step - loss: 567.6830 - val_loss: 576.6359\n",
            "Epoch 178/500\n",
            "603/603 [==============================] - 1s 2ms/step - loss: 567.4657 - val_loss: 584.0673\n",
            "Epoch 179/500\n",
            "603/603 [==============================] - 1s 2ms/step - loss: 567.4863 - val_loss: 576.5681\n",
            "Epoch 180/500\n",
            "603/603 [==============================] - 1s 2ms/step - loss: 567.2665 - val_loss: 577.5556\n",
            "Epoch 181/500\n",
            "603/603 [==============================] - 1s 2ms/step - loss: 567.5468 - val_loss: 575.9886\n",
            "Epoch 182/500\n",
            "603/603 [==============================] - 1s 2ms/step - loss: 567.2734 - val_loss: 575.4760\n",
            "Epoch 183/500\n",
            "603/603 [==============================] - 1s 2ms/step - loss: 566.6468 - val_loss: 576.1688\n",
            "Epoch 184/500\n",
            "603/603 [==============================] - 1s 2ms/step - loss: 566.8157 - val_loss: 575.8027\n",
            "Epoch 185/500\n",
            "603/603 [==============================] - 1s 2ms/step - loss: 568.0195 - val_loss: 576.4753\n",
            "Epoch 186/500\n",
            "603/603 [==============================] - 1s 2ms/step - loss: 566.8907 - val_loss: 576.0146\n",
            "Epoch 187/500\n",
            "603/603 [==============================] - 1s 2ms/step - loss: 567.2012 - val_loss: 576.6742\n",
            "Epoch 188/500\n",
            "603/603 [==============================] - 1s 2ms/step - loss: 567.2435 - val_loss: 573.6898\n",
            "Epoch 189/500\n",
            "603/603 [==============================] - 1s 2ms/step - loss: 566.4094 - val_loss: 574.7091\n",
            "Epoch 190/500\n",
            "603/603 [==============================] - 1s 2ms/step - loss: 566.6322 - val_loss: 573.5610\n",
            "Epoch 191/500\n",
            "603/603 [==============================] - 1s 2ms/step - loss: 566.2089 - val_loss: 574.2462\n",
            "Epoch 192/500\n",
            "603/603 [==============================] - 1s 2ms/step - loss: 565.5453 - val_loss: 575.9285\n",
            "Epoch 193/500\n",
            "603/603 [==============================] - 1s 2ms/step - loss: 566.0125 - val_loss: 574.4448\n",
            "Epoch 194/500\n",
            "603/603 [==============================] - 1s 2ms/step - loss: 566.1833 - val_loss: 574.4770\n",
            "Epoch 195/500\n",
            "603/603 [==============================] - 1s 2ms/step - loss: 566.0217 - val_loss: 574.2823\n",
            "Epoch 196/500\n",
            "603/603 [==============================] - 1s 2ms/step - loss: 565.3541 - val_loss: 572.5858\n",
            "Epoch 197/500\n",
            "603/603 [==============================] - 1s 2ms/step - loss: 565.8184 - val_loss: 576.3943\n",
            "Epoch 198/500\n",
            "603/603 [==============================] - 1s 2ms/step - loss: 565.7155 - val_loss: 573.0016\n",
            "Epoch 199/500\n",
            "603/603 [==============================] - 1s 2ms/step - loss: 565.4359 - val_loss: 574.6826\n",
            "Epoch 200/500\n",
            "603/603 [==============================] - 1s 2ms/step - loss: 565.9398 - val_loss: 576.5214\n",
            "Epoch 201/500\n",
            "603/603 [==============================] - 1s 2ms/step - loss: 565.6293 - val_loss: 573.4559\n",
            "Epoch 202/500\n",
            "603/603 [==============================] - 1s 2ms/step - loss: 565.1443 - val_loss: 573.0220\n",
            "Epoch 203/500\n",
            "603/603 [==============================] - 1s 2ms/step - loss: 565.6240 - val_loss: 574.8755\n",
            "Epoch 204/500\n",
            "603/603 [==============================] - 1s 2ms/step - loss: 565.0566 - val_loss: 574.3505\n",
            "Epoch 205/500\n",
            "603/603 [==============================] - 1s 2ms/step - loss: 565.2220 - val_loss: 578.2811\n",
            "Epoch 206/500\n",
            "603/603 [==============================] - 1s 2ms/step - loss: 565.1244 - val_loss: 573.9302\n",
            "Epoch 207/500\n",
            "603/603 [==============================] - 1s 2ms/step - loss: 564.9010 - val_loss: 572.9034\n",
            "Epoch 208/500\n",
            "603/603 [==============================] - 1s 2ms/step - loss: 565.1473 - val_loss: 573.8792\n",
            "Epoch 209/500\n",
            "603/603 [==============================] - 1s 2ms/step - loss: 564.8562 - val_loss: 572.2679\n",
            "Epoch 210/500\n",
            "603/603 [==============================] - 1s 2ms/step - loss: 564.5264 - val_loss: 573.2720\n",
            "Epoch 211/500\n",
            "603/603 [==============================] - 1s 2ms/step - loss: 564.8264 - val_loss: 571.4302\n",
            "Epoch 212/500\n",
            "603/603 [==============================] - 1s 2ms/step - loss: 564.4069 - val_loss: 572.1885\n",
            "Epoch 213/500\n",
            "603/603 [==============================] - 1s 2ms/step - loss: 563.9348 - val_loss: 572.8057\n",
            "Epoch 214/500\n",
            "603/603 [==============================] - 1s 2ms/step - loss: 564.3685 - val_loss: 573.5405\n",
            "Epoch 215/500\n",
            "603/603 [==============================] - 1s 2ms/step - loss: 563.6040 - val_loss: 583.4304\n",
            "Epoch 216/500\n",
            "603/603 [==============================] - 2s 4ms/step - loss: 564.4546 - val_loss: 571.3508\n",
            "Epoch 217/500\n",
            "603/603 [==============================] - 1s 2ms/step - loss: 564.2753 - val_loss: 572.7765\n",
            "Epoch 218/500\n",
            "603/603 [==============================] - 1s 2ms/step - loss: 564.1378 - val_loss: 573.6209\n",
            "Epoch 219/500\n",
            "603/603 [==============================] - 1s 2ms/step - loss: 563.8733 - val_loss: 572.8253\n",
            "Epoch 220/500\n",
            "603/603 [==============================] - 1s 2ms/step - loss: 564.2467 - val_loss: 572.8470\n",
            "Epoch 221/500\n",
            "603/603 [==============================] - 1s 2ms/step - loss: 563.4825 - val_loss: 571.2892\n",
            "Epoch 222/500\n",
            "603/603 [==============================] - 1s 2ms/step - loss: 563.7862 - val_loss: 571.2165\n",
            "Epoch 223/500\n",
            "603/603 [==============================] - 1s 2ms/step - loss: 563.3394 - val_loss: 571.6192\n",
            "Epoch 224/500\n",
            "603/603 [==============================] - 1s 2ms/step - loss: 563.8385 - val_loss: 573.0355\n",
            "Epoch 225/500\n",
            "603/603 [==============================] - 1s 2ms/step - loss: 563.2147 - val_loss: 572.0789\n",
            "Epoch 226/500\n",
            "603/603 [==============================] - 1s 2ms/step - loss: 563.2316 - val_loss: 571.4097\n",
            "Epoch 227/500\n",
            "603/603 [==============================] - 1s 2ms/step - loss: 562.8180 - val_loss: 570.3602\n",
            "Epoch 228/500\n",
            "603/603 [==============================] - 1s 2ms/step - loss: 562.8306 - val_loss: 572.7657\n",
            "Epoch 229/500\n",
            "603/603 [==============================] - 1s 2ms/step - loss: 563.3507 - val_loss: 571.5699\n",
            "Epoch 230/500\n",
            "603/603 [==============================] - 1s 2ms/step - loss: 562.6381 - val_loss: 573.7119\n",
            "Epoch 231/500\n",
            "603/603 [==============================] - 1s 2ms/step - loss: 562.3388 - val_loss: 571.4301\n",
            "Epoch 232/500\n",
            "603/603 [==============================] - 1s 2ms/step - loss: 562.1116 - val_loss: 570.9684\n",
            "Epoch 233/500\n",
            "603/603 [==============================] - 1s 2ms/step - loss: 562.1805 - val_loss: 570.7103\n",
            "Epoch 234/500\n",
            "603/603 [==============================] - 1s 2ms/step - loss: 561.5781 - val_loss: 570.9778\n",
            "Epoch 235/500\n",
            "603/603 [==============================] - 1s 2ms/step - loss: 561.4370 - val_loss: 569.9968\n",
            "Epoch 236/500\n",
            "603/603 [==============================] - 1s 2ms/step - loss: 561.6085 - val_loss: 570.7650\n",
            "Epoch 237/500\n",
            "603/603 [==============================] - 1s 2ms/step - loss: 561.1362 - val_loss: 571.7519\n",
            "Epoch 238/500\n",
            "603/603 [==============================] - 1s 2ms/step - loss: 561.4969 - val_loss: 571.1766\n",
            "Epoch 239/500\n",
            "603/603 [==============================] - 1s 2ms/step - loss: 561.1020 - val_loss: 573.8494\n",
            "Epoch 240/500\n",
            "603/603 [==============================] - 1s 2ms/step - loss: 560.6011 - val_loss: 572.7206\n",
            "Epoch 241/500\n",
            "603/603 [==============================] - 1s 2ms/step - loss: 561.3869 - val_loss: 575.1716\n",
            "Epoch 242/500\n",
            "603/603 [==============================] - 1s 2ms/step - loss: 560.9209 - val_loss: 569.1008\n",
            "Epoch 243/500\n",
            "603/603 [==============================] - 1s 2ms/step - loss: 560.5033 - val_loss: 568.8284\n",
            "Epoch 244/500\n",
            "603/603 [==============================] - 1s 2ms/step - loss: 561.0333 - val_loss: 569.7384\n",
            "Epoch 245/500\n",
            "603/603 [==============================] - 1s 2ms/step - loss: 560.3238 - val_loss: 568.0170\n",
            "Epoch 246/500\n",
            "603/603 [==============================] - 1s 2ms/step - loss: 560.1286 - val_loss: 570.7330\n",
            "Epoch 247/500\n",
            "603/603 [==============================] - 1s 2ms/step - loss: 560.3033 - val_loss: 571.7244\n",
            "Epoch 248/500\n",
            "603/603 [==============================] - 1s 2ms/step - loss: 559.9480 - val_loss: 569.2745\n",
            "Epoch 249/500\n",
            "603/603 [==============================] - 1s 2ms/step - loss: 559.8828 - val_loss: 570.2609\n",
            "Epoch 250/500\n",
            "603/603 [==============================] - 1s 2ms/step - loss: 559.4893 - val_loss: 569.0128\n",
            "Epoch 251/500\n",
            "603/603 [==============================] - 1s 2ms/step - loss: 559.6992 - val_loss: 567.5154\n",
            "Epoch 252/500\n",
            "603/603 [==============================] - 1s 2ms/step - loss: 559.5076 - val_loss: 568.6580\n",
            "Epoch 253/500\n",
            "603/603 [==============================] - 1s 2ms/step - loss: 559.3538 - val_loss: 567.8240\n",
            "Epoch 254/500\n",
            "603/603 [==============================] - 1s 2ms/step - loss: 559.4922 - val_loss: 569.6852\n",
            "Epoch 255/500\n",
            "603/603 [==============================] - 1s 2ms/step - loss: 559.4113 - val_loss: 575.5406\n",
            "Epoch 256/500\n",
            "603/603 [==============================] - 1s 2ms/step - loss: 559.2971 - val_loss: 566.7079\n",
            "Epoch 257/500\n",
            "603/603 [==============================] - 1s 2ms/step - loss: 559.4199 - val_loss: 567.2271\n",
            "Epoch 258/500\n",
            "603/603 [==============================] - 1s 2ms/step - loss: 559.0912 - val_loss: 567.6119\n",
            "Epoch 259/500\n",
            "603/603 [==============================] - 1s 2ms/step - loss: 559.0521 - val_loss: 567.8919\n",
            "Epoch 260/500\n",
            "603/603 [==============================] - 1s 2ms/step - loss: 558.9036 - val_loss: 569.1832\n",
            "Epoch 261/500\n",
            "603/603 [==============================] - 1s 2ms/step - loss: 558.7252 - val_loss: 569.6277\n",
            "Epoch 262/500\n",
            "603/603 [==============================] - 3s 5ms/step - loss: 558.7291 - val_loss: 571.5413\n",
            "Epoch 263/500\n",
            "603/603 [==============================] - 2s 3ms/step - loss: 558.2881 - val_loss: 570.7208\n",
            "Epoch 264/500\n",
            "603/603 [==============================] - 3s 4ms/step - loss: 558.4036 - val_loss: 567.9540\n",
            "Epoch 265/500\n",
            "603/603 [==============================] - 2s 3ms/step - loss: 558.4239 - val_loss: 569.5610\n",
            "Epoch 266/500\n",
            "603/603 [==============================] - 1s 2ms/step - loss: 558.0813 - val_loss: 569.2721\n",
            "Epoch 267/500\n",
            "603/603 [==============================] - 1s 2ms/step - loss: 558.2258 - val_loss: 566.2477\n",
            "Epoch 268/500\n",
            "603/603 [==============================] - 1s 2ms/step - loss: 558.2823 - val_loss: 569.3710\n",
            "Epoch 269/500\n",
            "603/603 [==============================] - 1s 2ms/step - loss: 557.7293 - val_loss: 566.6135\n",
            "Epoch 270/500\n",
            "603/603 [==============================] - 1s 2ms/step - loss: 557.8583 - val_loss: 567.0815\n",
            "Epoch 271/500\n",
            "603/603 [==============================] - 1s 2ms/step - loss: 557.9700 - val_loss: 571.4204\n",
            "Epoch 272/500\n",
            "603/603 [==============================] - 1s 2ms/step - loss: 558.0223 - val_loss: 568.1347\n",
            "Epoch 273/500\n",
            "603/603 [==============================] - 1s 2ms/step - loss: 557.5095 - val_loss: 568.1190\n",
            "Epoch 274/500\n",
            "603/603 [==============================] - 1s 2ms/step - loss: 557.4078 - val_loss: 570.1614\n",
            "Epoch 275/500\n",
            "603/603 [==============================] - 1s 2ms/step - loss: 557.4801 - val_loss: 568.1206\n",
            "Epoch 276/500\n",
            "603/603 [==============================] - 1s 2ms/step - loss: 557.5010 - val_loss: 565.4913\n",
            "Epoch 277/500\n",
            "603/603 [==============================] - 1s 2ms/step - loss: 557.2578 - val_loss: 567.0707\n",
            "Epoch 278/500\n",
            "603/603 [==============================] - 1s 2ms/step - loss: 557.5244 - val_loss: 565.1648\n",
            "Epoch 279/500\n",
            "603/603 [==============================] - 1s 2ms/step - loss: 556.9502 - val_loss: 567.9424\n",
            "Epoch 280/500\n",
            "603/603 [==============================] - 1s 2ms/step - loss: 558.1562 - val_loss: 567.9811\n",
            "Epoch 281/500\n",
            "603/603 [==============================] - 1s 2ms/step - loss: 556.8387 - val_loss: 566.9545\n",
            "Epoch 282/500\n",
            "603/603 [==============================] - 1s 2ms/step - loss: 556.9982 - val_loss: 568.6901\n",
            "Epoch 283/500\n",
            "603/603 [==============================] - 1s 2ms/step - loss: 556.8372 - val_loss: 566.1831\n",
            "Epoch 284/500\n",
            "603/603 [==============================] - 1s 2ms/step - loss: 556.8073 - val_loss: 567.2743\n",
            "Epoch 285/500\n",
            "603/603 [==============================] - 1s 2ms/step - loss: 557.0286 - val_loss: 567.1516\n",
            "Epoch 286/500\n",
            "603/603 [==============================] - 1s 2ms/step - loss: 556.7675 - val_loss: 567.3398\n",
            "Epoch 287/500\n",
            "603/603 [==============================] - 1s 2ms/step - loss: 556.3089 - val_loss: 566.4773\n",
            "Epoch 288/500\n",
            "603/603 [==============================] - 1s 2ms/step - loss: 556.2428 - val_loss: 565.8129\n",
            "Epoch 289/500\n",
            "603/603 [==============================] - 1s 2ms/step - loss: 556.2775 - val_loss: 564.2581\n",
            "Epoch 290/500\n",
            "603/603 [==============================] - 1s 2ms/step - loss: 556.0585 - val_loss: 567.6447\n",
            "Epoch 291/500\n",
            "603/603 [==============================] - 1s 2ms/step - loss: 556.1781 - val_loss: 564.7510\n",
            "Epoch 292/500\n",
            "603/603 [==============================] - 1s 2ms/step - loss: 555.8184 - val_loss: 566.2740\n",
            "Epoch 293/500\n",
            "603/603 [==============================] - 1s 2ms/step - loss: 556.4161 - val_loss: 564.3965\n",
            "Epoch 294/500\n",
            "603/603 [==============================] - 1s 2ms/step - loss: 555.9040 - val_loss: 567.0333\n",
            "Epoch 295/500\n",
            "603/603 [==============================] - 1s 2ms/step - loss: 556.4645 - val_loss: 565.8842\n",
            "Epoch 296/500\n",
            "603/603 [==============================] - 1s 2ms/step - loss: 556.1990 - val_loss: 566.5189\n",
            "Epoch 297/500\n",
            "603/603 [==============================] - 1s 2ms/step - loss: 555.5215 - val_loss: 566.1373\n",
            "Epoch 298/500\n",
            "603/603 [==============================] - 1s 2ms/step - loss: 555.7665 - val_loss: 564.8324\n",
            "Epoch 299/500\n",
            "603/603 [==============================] - 1s 2ms/step - loss: 555.3470 - val_loss: 564.2501\n",
            "Epoch 300/500\n",
            "603/603 [==============================] - 1s 2ms/step - loss: 555.3293 - val_loss: 565.1264\n",
            "Epoch 301/500\n",
            "603/603 [==============================] - 1s 2ms/step - loss: 555.5048 - val_loss: 565.6210\n",
            "Epoch 302/500\n",
            "603/603 [==============================] - 1s 2ms/step - loss: 555.4669 - val_loss: 566.7235\n",
            "Epoch 303/500\n",
            "603/603 [==============================] - 1s 2ms/step - loss: 555.0475 - val_loss: 563.9442\n",
            "Epoch 304/500\n",
            "603/603 [==============================] - 1s 2ms/step - loss: 555.3906 - val_loss: 569.6266\n",
            "Epoch 305/500\n",
            "603/603 [==============================] - 1s 2ms/step - loss: 555.8079 - val_loss: 563.9444\n",
            "Epoch 306/500\n",
            "603/603 [==============================] - 1s 2ms/step - loss: 555.0509 - val_loss: 562.5843\n",
            "Epoch 307/500\n",
            "603/603 [==============================] - 1s 2ms/step - loss: 554.8004 - val_loss: 564.5559\n",
            "Epoch 308/500\n",
            "603/603 [==============================] - 1s 2ms/step - loss: 555.1323 - val_loss: 564.1895\n",
            "Epoch 309/500\n",
            "603/603 [==============================] - 1s 2ms/step - loss: 554.6620 - val_loss: 563.2120\n",
            "Epoch 310/500\n",
            "603/603 [==============================] - 1s 2ms/step - loss: 554.7459 - val_loss: 564.2842\n",
            "Epoch 311/500\n",
            "603/603 [==============================] - 1s 2ms/step - loss: 554.9786 - val_loss: 563.6190\n",
            "Epoch 312/500\n",
            "603/603 [==============================] - 1s 2ms/step - loss: 555.0674 - val_loss: 563.5522\n",
            "Epoch 313/500\n",
            "603/603 [==============================] - 1s 2ms/step - loss: 554.4254 - val_loss: 564.9648\n",
            "Epoch 314/500\n",
            "603/603 [==============================] - 1s 2ms/step - loss: 554.2870 - val_loss: 564.7189\n",
            "Epoch 315/500\n",
            "603/603 [==============================] - 1s 2ms/step - loss: 554.6954 - val_loss: 565.5074\n",
            "Epoch 316/500\n",
            "603/603 [==============================] - 1s 2ms/step - loss: 554.6190 - val_loss: 563.5729\n",
            "Epoch 317/500\n",
            "603/603 [==============================] - 1s 2ms/step - loss: 554.3342 - val_loss: 562.9279\n",
            "Epoch 318/500\n",
            "603/603 [==============================] - 1s 2ms/step - loss: 554.2311 - val_loss: 562.9341\n",
            "Epoch 319/500\n",
            "603/603 [==============================] - 1s 2ms/step - loss: 553.8228 - val_loss: 563.4263\n",
            "Epoch 320/500\n",
            "603/603 [==============================] - 1s 2ms/step - loss: 554.3218 - val_loss: 563.2721\n",
            "Epoch 321/500\n",
            "603/603 [==============================] - 1s 2ms/step - loss: 554.1372 - val_loss: 563.2712\n",
            "Epoch 322/500\n",
            "603/603 [==============================] - 1s 2ms/step - loss: 554.0086 - val_loss: 563.8367\n",
            "Epoch 323/500\n",
            "603/603 [==============================] - 1s 2ms/step - loss: 554.0234 - val_loss: 562.6944\n",
            "Epoch 324/500\n",
            "603/603 [==============================] - 1s 2ms/step - loss: 554.0497 - val_loss: 563.1469\n",
            "Epoch 325/500\n",
            "603/603 [==============================] - 1s 2ms/step - loss: 553.4850 - val_loss: 563.2289\n",
            "Epoch 326/500\n",
            "603/603 [==============================] - 1s 2ms/step - loss: 553.5886 - val_loss: 561.5411\n",
            "Epoch 327/500\n",
            "603/603 [==============================] - 1s 2ms/step - loss: 553.4321 - val_loss: 565.3477\n",
            "Epoch 328/500\n",
            "603/603 [==============================] - 1s 2ms/step - loss: 553.6461 - val_loss: 562.7711\n",
            "Epoch 329/500\n",
            "603/603 [==============================] - 1s 2ms/step - loss: 553.0533 - val_loss: 563.3251\n",
            "Epoch 330/500\n",
            "603/603 [==============================] - 1s 2ms/step - loss: 553.5502 - val_loss: 564.6179\n",
            "Epoch 331/500\n",
            "603/603 [==============================] - 1s 2ms/step - loss: 553.2785 - val_loss: 563.6630\n",
            "Epoch 332/500\n",
            "603/603 [==============================] - 1s 2ms/step - loss: 553.3361 - val_loss: 561.4461\n",
            "Epoch 333/500\n",
            "603/603 [==============================] - 1s 2ms/step - loss: 552.7128 - val_loss: 563.8812\n",
            "Epoch 334/500\n",
            "603/603 [==============================] - 1s 2ms/step - loss: 552.0015 - val_loss: 563.1778\n",
            "Epoch 335/500\n",
            "603/603 [==============================] - 1s 2ms/step - loss: 552.6620 - val_loss: 563.6915\n",
            "Epoch 336/500\n",
            "603/603 [==============================] - 1s 2ms/step - loss: 552.8445 - val_loss: 561.8610\n",
            "Epoch 337/500\n",
            "603/603 [==============================] - 1s 2ms/step - loss: 552.7336 - val_loss: 561.2101\n",
            "Epoch 338/500\n",
            "603/603 [==============================] - 1s 2ms/step - loss: 552.7232 - val_loss: 563.5639\n",
            "Epoch 339/500\n",
            "603/603 [==============================] - 1s 2ms/step - loss: 552.4904 - val_loss: 561.3513\n",
            "Epoch 340/500\n",
            "603/603 [==============================] - 1s 2ms/step - loss: 552.3859 - val_loss: 563.0853\n",
            "Epoch 341/500\n",
            "603/603 [==============================] - 1s 2ms/step - loss: 552.8135 - val_loss: 561.8178\n",
            "Epoch 342/500\n",
            "603/603 [==============================] - 1s 2ms/step - loss: 552.2031 - val_loss: 562.2654\n",
            "Epoch 343/500\n",
            "603/603 [==============================] - 1s 2ms/step - loss: 552.6871 - val_loss: 561.7619\n",
            "Epoch 344/500\n",
            "603/603 [==============================] - 1s 2ms/step - loss: 552.0366 - val_loss: 561.8923\n",
            "Epoch 345/500\n",
            "603/603 [==============================] - 1s 2ms/step - loss: 551.5726 - val_loss: 561.1149\n",
            "Epoch 346/500\n",
            "603/603 [==============================] - 1s 2ms/step - loss: 552.2949 - val_loss: 564.0425\n",
            "Epoch 347/500\n",
            "603/603 [==============================] - 1s 2ms/step - loss: 552.1667 - val_loss: 561.8652\n",
            "Epoch 348/500\n",
            "603/603 [==============================] - 1s 2ms/step - loss: 551.7032 - val_loss: 562.6531\n",
            "Epoch 349/500\n",
            "603/603 [==============================] - 1s 2ms/step - loss: 551.5379 - val_loss: 562.5056\n",
            "Epoch 350/500\n",
            "603/603 [==============================] - 1s 2ms/step - loss: 551.4847 - val_loss: 562.3664\n",
            "Epoch 351/500\n",
            "603/603 [==============================] - 1s 2ms/step - loss: 551.4760 - val_loss: 561.5564\n",
            "Epoch 352/500\n",
            "603/603 [==============================] - 1s 2ms/step - loss: 551.4118 - val_loss: 560.7629\n",
            "Epoch 353/500\n",
            "603/603 [==============================] - 1s 2ms/step - loss: 550.9398 - val_loss: 562.8007\n",
            "Epoch 354/500\n",
            "603/603 [==============================] - 1s 2ms/step - loss: 551.1495 - val_loss: 560.5056\n",
            "Epoch 355/500\n",
            "603/603 [==============================] - 1s 2ms/step - loss: 551.3242 - val_loss: 561.7662\n",
            "Epoch 356/500\n",
            "603/603 [==============================] - 1s 2ms/step - loss: 551.1057 - val_loss: 560.8469\n",
            "Epoch 357/500\n",
            "603/603 [==============================] - 1s 2ms/step - loss: 550.8303 - val_loss: 560.6757\n",
            "Epoch 358/500\n",
            "603/603 [==============================] - 1s 2ms/step - loss: 550.8108 - val_loss: 560.3845\n",
            "Epoch 359/500\n",
            "603/603 [==============================] - 1s 2ms/step - loss: 550.7150 - val_loss: 559.4697\n",
            "Epoch 360/500\n",
            "603/603 [==============================] - 1s 2ms/step - loss: 551.1130 - val_loss: 560.2231\n",
            "Epoch 361/500\n",
            "603/603 [==============================] - 1s 2ms/step - loss: 550.5965 - val_loss: 561.0805\n",
            "Epoch 362/500\n",
            "603/603 [==============================] - 1s 2ms/step - loss: 550.6970 - val_loss: 560.3243\n",
            "Epoch 363/500\n",
            "603/603 [==============================] - 1s 2ms/step - loss: 550.5037 - val_loss: 560.0923\n",
            "Epoch 364/500\n",
            "603/603 [==============================] - 1s 2ms/step - loss: 550.1883 - val_loss: 562.2061\n",
            "Epoch 365/500\n",
            "603/603 [==============================] - 1s 2ms/step - loss: 550.5228 - val_loss: 560.2825\n",
            "Epoch 366/500\n",
            "603/603 [==============================] - 1s 2ms/step - loss: 550.6776 - val_loss: 562.0291\n",
            "Epoch 367/500\n",
            "603/603 [==============================] - 1s 2ms/step - loss: 550.2252 - val_loss: 560.0431\n",
            "Epoch 368/500\n",
            "603/603 [==============================] - 1s 2ms/step - loss: 550.0493 - val_loss: 558.8890\n",
            "Epoch 369/500\n",
            "603/603 [==============================] - 1s 2ms/step - loss: 550.0345 - val_loss: 560.5306\n",
            "Epoch 370/500\n",
            "603/603 [==============================] - 1s 2ms/step - loss: 550.1090 - val_loss: 559.2813\n",
            "Epoch 371/500\n",
            "603/603 [==============================] - 1s 2ms/step - loss: 549.9563 - val_loss: 562.7227\n",
            "Epoch 372/500\n",
            "603/603 [==============================] - 2s 3ms/step - loss: 549.7637 - val_loss: 559.7665\n",
            "Epoch 373/500\n",
            "603/603 [==============================] - 1s 2ms/step - loss: 549.3425 - val_loss: 558.2587\n",
            "Epoch 374/500\n",
            "603/603 [==============================] - 1s 2ms/step - loss: 550.0603 - val_loss: 561.9703\n",
            "Epoch 375/500\n",
            "603/603 [==============================] - 1s 2ms/step - loss: 549.3176 - val_loss: 567.2430\n",
            "Epoch 376/500\n",
            "603/603 [==============================] - 2s 3ms/step - loss: 549.3707 - val_loss: 560.3741\n",
            "Epoch 377/500\n",
            "603/603 [==============================] - 1s 2ms/step - loss: 549.6739 - val_loss: 558.4368\n",
            "Epoch 378/500\n",
            "603/603 [==============================] - 1s 2ms/step - loss: 549.8083 - val_loss: 558.3985\n",
            "Epoch 379/500\n",
            "603/603 [==============================] - 1s 2ms/step - loss: 549.3934 - val_loss: 560.0060\n",
            "Epoch 380/500\n",
            "603/603 [==============================] - 1s 2ms/step - loss: 549.3844 - val_loss: 559.7471\n",
            "Epoch 381/500\n",
            "603/603 [==============================] - 1s 2ms/step - loss: 548.9562 - val_loss: 559.3315\n",
            "Epoch 382/500\n",
            "603/603 [==============================] - 1s 2ms/step - loss: 549.5392 - val_loss: 561.1833\n",
            "Epoch 383/500\n",
            "603/603 [==============================] - 1s 2ms/step - loss: 548.9623 - val_loss: 559.1234\n",
            "Epoch 384/500\n",
            "603/603 [==============================] - 1s 2ms/step - loss: 548.5040 - val_loss: 559.7649\n",
            "Epoch 385/500\n",
            "603/603 [==============================] - 1s 2ms/step - loss: 548.8549 - val_loss: 560.5468\n",
            "Epoch 386/500\n",
            "603/603 [==============================] - 1s 2ms/step - loss: 548.5870 - val_loss: 559.5214\n",
            "Epoch 387/500\n",
            "603/603 [==============================] - 1s 2ms/step - loss: 548.6703 - val_loss: 560.1267\n",
            "Epoch 388/500\n",
            "603/603 [==============================] - 1s 2ms/step - loss: 548.4340 - val_loss: 557.1064\n",
            "Epoch 389/500\n",
            "603/603 [==============================] - 1s 2ms/step - loss: 547.8425 - val_loss: 560.3044\n",
            "Epoch 390/500\n",
            "603/603 [==============================] - 1s 2ms/step - loss: 548.9276 - val_loss: 559.4800\n",
            "Epoch 391/500\n",
            "603/603 [==============================] - 1s 2ms/step - loss: 548.1639 - val_loss: 558.5739\n",
            "Epoch 392/500\n",
            "603/603 [==============================] - 1s 2ms/step - loss: 548.1332 - val_loss: 559.9316\n",
            "Epoch 393/500\n",
            "603/603 [==============================] - 1s 2ms/step - loss: 548.3414 - val_loss: 559.8579\n",
            "Epoch 394/500\n",
            "603/603 [==============================] - 1s 2ms/step - loss: 547.7691 - val_loss: 559.9787\n",
            "Epoch 395/500\n",
            "603/603 [==============================] - 1s 2ms/step - loss: 548.0945 - val_loss: 558.6821\n",
            "Epoch 396/500\n",
            "603/603 [==============================] - 1s 2ms/step - loss: 547.8567 - val_loss: 558.5921\n",
            "Epoch 397/500\n",
            "603/603 [==============================] - 1s 2ms/step - loss: 547.6425 - val_loss: 558.7526\n",
            "Epoch 398/500\n",
            "603/603 [==============================] - 1s 2ms/step - loss: 547.9756 - val_loss: 557.7271\n",
            "Epoch 399/500\n",
            "603/603 [==============================] - 1s 2ms/step - loss: 547.8627 - val_loss: 558.9851\n",
            "Epoch 400/500\n",
            "603/603 [==============================] - 1s 2ms/step - loss: 547.5105 - val_loss: 568.1682\n",
            "Epoch 401/500\n",
            "603/603 [==============================] - 1s 2ms/step - loss: 547.5397 - val_loss: 560.1427\n",
            "Epoch 402/500\n",
            "603/603 [==============================] - 1s 2ms/step - loss: 547.2321 - val_loss: 558.4736\n",
            "Epoch 403/500\n",
            "603/603 [==============================] - 1s 2ms/step - loss: 547.4641 - val_loss: 561.2543\n",
            "Epoch 404/500\n",
            "603/603 [==============================] - 1s 2ms/step - loss: 547.5860 - val_loss: 561.7903\n",
            "Epoch 405/500\n",
            "603/603 [==============================] - 1s 2ms/step - loss: 547.2751 - val_loss: 556.3512\n",
            "Epoch 406/500\n",
            "603/603 [==============================] - 1s 2ms/step - loss: 547.0131 - val_loss: 560.5770\n",
            "Epoch 407/500\n",
            "603/603 [==============================] - 1s 2ms/step - loss: 546.8986 - val_loss: 556.1970\n",
            "Epoch 408/500\n",
            "603/603 [==============================] - 2s 3ms/step - loss: 546.6000 - val_loss: 556.5244\n",
            "Epoch 409/500\n",
            "603/603 [==============================] - 1s 2ms/step - loss: 546.6667 - val_loss: 558.4048\n",
            "Epoch 410/500\n",
            "603/603 [==============================] - 1s 2ms/step - loss: 546.2712 - val_loss: 560.8472\n",
            "Epoch 411/500\n",
            "603/603 [==============================] - 1s 2ms/step - loss: 546.7279 - val_loss: 557.9689\n",
            "Epoch 412/500\n",
            "603/603 [==============================] - 1s 2ms/step - loss: 546.4784 - val_loss: 559.2427\n",
            "Epoch 413/500\n",
            "603/603 [==============================] - 2s 3ms/step - loss: 546.4287 - val_loss: 556.4604\n",
            "Epoch 414/500\n",
            "603/603 [==============================] - 1s 2ms/step - loss: 546.4664 - val_loss: 558.1527\n",
            "Epoch 415/500\n",
            "603/603 [==============================] - 2s 3ms/step - loss: 546.5360 - val_loss: 555.9125\n",
            "Epoch 416/500\n",
            "603/603 [==============================] - 1s 2ms/step - loss: 546.1301 - val_loss: 557.3966\n",
            "Epoch 417/500\n",
            "603/603 [==============================] - 1s 2ms/step - loss: 546.1724 - val_loss: 555.7585\n",
            "Epoch 418/500\n",
            "603/603 [==============================] - 1s 2ms/step - loss: 546.3942 - val_loss: 556.9797\n",
            "Epoch 419/500\n",
            "603/603 [==============================] - 2s 2ms/step - loss: 546.4114 - val_loss: 556.0081\n",
            "Epoch 420/500\n",
            "603/603 [==============================] - 1s 2ms/step - loss: 545.5988 - val_loss: 556.4933\n",
            "Epoch 421/500\n",
            "603/603 [==============================] - 1s 2ms/step - loss: 546.6784 - val_loss: 555.7018\n",
            "Epoch 422/500\n",
            "603/603 [==============================] - 1s 2ms/step - loss: 545.9275 - val_loss: 555.8440\n",
            "Epoch 423/500\n",
            "603/603 [==============================] - 1s 2ms/step - loss: 546.1520 - val_loss: 556.3406\n",
            "Epoch 424/500\n",
            "603/603 [==============================] - 1s 2ms/step - loss: 545.5472 - val_loss: 557.6986\n",
            "Epoch 425/500\n",
            "603/603 [==============================] - 1s 2ms/step - loss: 546.1852 - val_loss: 559.5764\n",
            "Epoch 426/500\n",
            "603/603 [==============================] - 1s 2ms/step - loss: 545.9788 - val_loss: 556.0333\n",
            "Epoch 427/500\n",
            "603/603 [==============================] - 1s 2ms/step - loss: 545.9930 - val_loss: 554.8647\n",
            "Epoch 428/500\n",
            "603/603 [==============================] - 1s 2ms/step - loss: 545.9569 - val_loss: 556.1091\n",
            "Epoch 429/500\n",
            "603/603 [==============================] - 1s 2ms/step - loss: 545.7369 - val_loss: 559.6101\n",
            "Epoch 430/500\n",
            "603/603 [==============================] - 2s 3ms/step - loss: 545.6813 - val_loss: 554.5027\n",
            "Epoch 431/500\n",
            "603/603 [==============================] - 1s 2ms/step - loss: 545.8036 - val_loss: 554.7582\n",
            "Epoch 432/500\n",
            "603/603 [==============================] - 2s 3ms/step - loss: 545.3723 - val_loss: 557.3511\n",
            "Epoch 433/500\n",
            "603/603 [==============================] - 1s 2ms/step - loss: 545.4832 - val_loss: 555.5539\n",
            "Epoch 434/500\n",
            "603/603 [==============================] - 1s 2ms/step - loss: 545.1702 - val_loss: 559.4573\n",
            "Epoch 435/500\n",
            "603/603 [==============================] - 1s 2ms/step - loss: 545.8011 - val_loss: 554.2072\n",
            "Epoch 436/500\n",
            "603/603 [==============================] - 2s 3ms/step - loss: 545.2631 - val_loss: 555.7315\n",
            "Epoch 437/500\n",
            "603/603 [==============================] - 1s 2ms/step - loss: 545.0377 - val_loss: 555.0828\n",
            "Epoch 438/500\n",
            "603/603 [==============================] - 1s 2ms/step - loss: 545.8154 - val_loss: 558.4336\n",
            "Epoch 439/500\n",
            "603/603 [==============================] - 1s 2ms/step - loss: 545.1818 - val_loss: 554.9266\n",
            "Epoch 440/500\n",
            "603/603 [==============================] - 1s 2ms/step - loss: 545.3719 - val_loss: 554.2346\n",
            "Epoch 441/500\n",
            "603/603 [==============================] - 1s 2ms/step - loss: 545.2158 - val_loss: 555.7808\n",
            "Epoch 442/500\n",
            "603/603 [==============================] - 1s 2ms/step - loss: 544.6380 - val_loss: 553.6791\n",
            "Epoch 443/500\n",
            "603/603 [==============================] - 1s 2ms/step - loss: 545.1191 - val_loss: 553.7463\n",
            "Epoch 444/500\n",
            "603/603 [==============================] - 1s 2ms/step - loss: 545.1111 - val_loss: 554.8658\n",
            "Epoch 445/500\n",
            "603/603 [==============================] - 1s 2ms/step - loss: 544.9655 - val_loss: 555.8862\n",
            "Epoch 446/500\n",
            "603/603 [==============================] - 1s 2ms/step - loss: 545.2216 - val_loss: 554.5590\n",
            "Epoch 447/500\n",
            "603/603 [==============================] - 1s 2ms/step - loss: 545.0862 - val_loss: 557.4852\n",
            "Epoch 448/500\n",
            "603/603 [==============================] - 2s 3ms/step - loss: 544.7966 - val_loss: 555.0205\n",
            "Epoch 449/500\n",
            "603/603 [==============================] - 2s 3ms/step - loss: 544.9615 - val_loss: 557.3892\n",
            "Epoch 450/500\n",
            "603/603 [==============================] - 2s 3ms/step - loss: 544.5894 - val_loss: 557.4423\n",
            "Epoch 451/500\n",
            "603/603 [==============================] - 2s 2ms/step - loss: 544.6335 - val_loss: 553.7853\n",
            "Epoch 452/500\n",
            "603/603 [==============================] - 2s 3ms/step - loss: 544.5074 - val_loss: 554.5485\n",
            "Epoch 453/500\n",
            "603/603 [==============================] - 2s 3ms/step - loss: 544.7889 - val_loss: 553.4348\n",
            "Epoch 454/500\n",
            "603/603 [==============================] - 1s 2ms/step - loss: 544.8079 - val_loss: 553.7853\n",
            "Epoch 455/500\n",
            "603/603 [==============================] - 1s 2ms/step - loss: 544.2463 - val_loss: 556.7729\n",
            "Epoch 456/500\n",
            "603/603 [==============================] - 2s 3ms/step - loss: 544.1265 - val_loss: 553.8476\n",
            "Epoch 457/500\n",
            "603/603 [==============================] - 2s 3ms/step - loss: 544.3738 - val_loss: 554.8607\n",
            "Epoch 458/500\n",
            "603/603 [==============================] - 2s 3ms/step - loss: 544.1359 - val_loss: 553.8251\n",
            "Epoch 459/500\n",
            "603/603 [==============================] - 1s 2ms/step - loss: 544.7120 - val_loss: 554.6290\n",
            "Epoch 460/500\n",
            "603/603 [==============================] - 1s 2ms/step - loss: 544.4476 - val_loss: 553.0836\n",
            "Epoch 461/500\n",
            "603/603 [==============================] - 1s 2ms/step - loss: 543.7884 - val_loss: 553.8759\n",
            "Epoch 462/500\n",
            "603/603 [==============================] - 2s 2ms/step - loss: 544.0182 - val_loss: 554.3321\n",
            "Epoch 463/500\n",
            "603/603 [==============================] - 1s 2ms/step - loss: 544.0865 - val_loss: 552.9736\n",
            "Epoch 464/500\n",
            "603/603 [==============================] - 1s 2ms/step - loss: 544.0840 - val_loss: 553.0333\n",
            "Epoch 465/500\n",
            "603/603 [==============================] - 2s 2ms/step - loss: 543.9303 - val_loss: 552.7867\n",
            "Epoch 466/500\n",
            "603/603 [==============================] - 1s 2ms/step - loss: 543.7482 - val_loss: 554.0132\n",
            "Epoch 467/500\n",
            "603/603 [==============================] - 1s 2ms/step - loss: 543.5938 - val_loss: 559.5456\n",
            "Epoch 468/500\n",
            "603/603 [==============================] - 1s 2ms/step - loss: 543.6201 - val_loss: 559.3478\n",
            "Epoch 469/500\n",
            "603/603 [==============================] - 1s 2ms/step - loss: 543.9240 - val_loss: 554.8362\n",
            "Epoch 470/500\n",
            "603/603 [==============================] - 1s 2ms/step - loss: 543.3066 - val_loss: 553.4651\n",
            "Epoch 471/500\n",
            "603/603 [==============================] - 2s 3ms/step - loss: 543.2298 - val_loss: 552.2518\n",
            "Epoch 472/500\n",
            "603/603 [==============================] - 1s 2ms/step - loss: 543.9932 - val_loss: 551.4810\n",
            "Epoch 473/500\n",
            "603/603 [==============================] - 1s 2ms/step - loss: 543.0795 - val_loss: 551.4941\n",
            "Epoch 474/500\n",
            "603/603 [==============================] - 1s 2ms/step - loss: 542.9941 - val_loss: 551.2350\n",
            "Epoch 475/500\n",
            "603/603 [==============================] - 2s 3ms/step - loss: 543.1677 - val_loss: 551.5845\n",
            "Epoch 476/500\n",
            "603/603 [==============================] - 1s 2ms/step - loss: 543.2225 - val_loss: 551.1040\n",
            "Epoch 477/500\n",
            "603/603 [==============================] - 1s 2ms/step - loss: 542.5147 - val_loss: 554.5119\n",
            "Epoch 478/500\n",
            "603/603 [==============================] - 1s 2ms/step - loss: 542.8673 - val_loss: 551.9903\n",
            "Epoch 479/500\n",
            "603/603 [==============================] - 1s 2ms/step - loss: 542.6403 - val_loss: 551.5945\n",
            "Epoch 480/500\n",
            "603/603 [==============================] - 2s 2ms/step - loss: 542.3805 - val_loss: 553.4230\n",
            "Epoch 481/500\n",
            "603/603 [==============================] - 1s 2ms/step - loss: 542.2118 - val_loss: 551.5020\n",
            "Epoch 482/500\n",
            "603/603 [==============================] - 2s 2ms/step - loss: 542.3724 - val_loss: 552.0575\n",
            "Epoch 483/500\n",
            "603/603 [==============================] - 1s 2ms/step - loss: 542.2143 - val_loss: 551.5392\n",
            "Epoch 484/500\n",
            "603/603 [==============================] - 1s 2ms/step - loss: 541.8452 - val_loss: 552.2761\n",
            "Epoch 485/500\n",
            "603/603 [==============================] - 2s 3ms/step - loss: 541.5201 - val_loss: 550.6331\n",
            "Epoch 486/500\n",
            "603/603 [==============================] - 1s 2ms/step - loss: 542.1506 - val_loss: 550.1088\n",
            "Epoch 487/500\n",
            "603/603 [==============================] - 2s 3ms/step - loss: 541.4497 - val_loss: 552.4728\n",
            "Epoch 488/500\n",
            "603/603 [==============================] - 1s 2ms/step - loss: 541.3348 - val_loss: 551.9232\n",
            "Epoch 489/500\n",
            "603/603 [==============================] - 2s 3ms/step - loss: 541.5311 - val_loss: 550.3926\n",
            "Epoch 490/500\n",
            "603/603 [==============================] - 2s 3ms/step - loss: 540.9365 - val_loss: 551.1547\n",
            "Epoch 491/500\n",
            "603/603 [==============================] - 1s 2ms/step - loss: 540.9384 - val_loss: 552.4592\n",
            "Epoch 492/500\n",
            "603/603 [==============================] - 1s 2ms/step - loss: 540.1285 - val_loss: 550.5999\n",
            "Epoch 493/500\n",
            "603/603 [==============================] - 1s 2ms/step - loss: 540.5113 - val_loss: 552.9665\n",
            "Epoch 494/500\n",
            "603/603 [==============================] - 2s 3ms/step - loss: 540.1866 - val_loss: 551.0274\n",
            "Epoch 495/500\n",
            "603/603 [==============================] - 1s 2ms/step - loss: 540.1626 - val_loss: 556.2761\n",
            "Epoch 496/500\n",
            "603/603 [==============================] - 2s 3ms/step - loss: 539.5917 - val_loss: 548.9434\n",
            "Epoch 497/500\n",
            "603/603 [==============================] - 2s 3ms/step - loss: 539.2416 - val_loss: 550.9575\n",
            "Epoch 498/500\n",
            "603/603 [==============================] - 1s 2ms/step - loss: 538.8591 - val_loss: 548.4284\n",
            "Epoch 499/500\n",
            "603/603 [==============================] - 1s 2ms/step - loss: 539.0964 - val_loss: 548.3712\n",
            "Epoch 500/500\n",
            "603/603 [==============================] - 1s 2ms/step - loss: 538.8620 - val_loss: 549.9011\n"
          ]
        },
        {
          "output_type": "execute_result",
          "data": {
            "text/plain": [
              "<keras.callbacks.History at 0x7fe224756590>"
            ]
          },
          "metadata": {},
          "execution_count": 90
        }
      ]
    },
    {
      "cell_type": "code",
      "source": [
        "losses = pd.DataFrame(model.history.history)"
      ],
      "metadata": {
        "id": "lRDs4MgH6yGU"
      },
      "execution_count": null,
      "outputs": []
    },
    {
      "cell_type": "code",
      "source": [
        "losses"
      ],
      "metadata": {
        "colab": {
          "base_uri": "https://localhost:8080/",
          "height": 423
        },
        "id": "74KYrcdJ7HyB",
        "outputId": "050be34c-5a4f-41d5-ce6b-740c1bdc05e4"
      },
      "execution_count": null,
      "outputs": [
        {
          "output_type": "execute_result",
          "data": {
            "text/html": [
              "\n",
              "  <div id=\"df-82d3f670-3a39-4106-8d8f-c9a3e56026ac\">\n",
              "    <div class=\"colab-df-container\">\n",
              "      <div>\n",
              "<style scoped>\n",
              "    .dataframe tbody tr th:only-of-type {\n",
              "        vertical-align: middle;\n",
              "    }\n",
              "\n",
              "    .dataframe tbody tr th {\n",
              "        vertical-align: top;\n",
              "    }\n",
              "\n",
              "    .dataframe thead th {\n",
              "        text-align: right;\n",
              "    }\n",
              "</style>\n",
              "<table border=\"1\" class=\"dataframe\">\n",
              "  <thead>\n",
              "    <tr style=\"text-align: right;\">\n",
              "      <th></th>\n",
              "      <th>loss</th>\n",
              "      <th>val_loss</th>\n",
              "    </tr>\n",
              "  </thead>\n",
              "  <tbody>\n",
              "    <tr>\n",
              "      <th>0</th>\n",
              "      <td>76937.273438</td>\n",
              "      <td>17875.357422</td>\n",
              "    </tr>\n",
              "    <tr>\n",
              "      <th>1</th>\n",
              "      <td>14775.947266</td>\n",
              "      <td>12206.740234</td>\n",
              "    </tr>\n",
              "    <tr>\n",
              "      <th>2</th>\n",
              "      <td>10006.861328</td>\n",
              "      <td>7938.757812</td>\n",
              "    </tr>\n",
              "    <tr>\n",
              "      <th>3</th>\n",
              "      <td>6468.678223</td>\n",
              "      <td>5379.284668</td>\n",
              "    </tr>\n",
              "    <tr>\n",
              "      <th>4</th>\n",
              "      <td>4783.717285</td>\n",
              "      <td>4307.563477</td>\n",
              "    </tr>\n",
              "    <tr>\n",
              "      <th>...</th>\n",
              "      <td>...</td>\n",
              "      <td>...</td>\n",
              "    </tr>\n",
              "    <tr>\n",
              "      <th>495</th>\n",
              "      <td>539.591736</td>\n",
              "      <td>548.943359</td>\n",
              "    </tr>\n",
              "    <tr>\n",
              "      <th>496</th>\n",
              "      <td>539.241638</td>\n",
              "      <td>550.957458</td>\n",
              "    </tr>\n",
              "    <tr>\n",
              "      <th>497</th>\n",
              "      <td>538.859070</td>\n",
              "      <td>548.428406</td>\n",
              "    </tr>\n",
              "    <tr>\n",
              "      <th>498</th>\n",
              "      <td>539.096436</td>\n",
              "      <td>548.371216</td>\n",
              "    </tr>\n",
              "    <tr>\n",
              "      <th>499</th>\n",
              "      <td>538.862000</td>\n",
              "      <td>549.901062</td>\n",
              "    </tr>\n",
              "  </tbody>\n",
              "</table>\n",
              "<p>500 rows × 2 columns</p>\n",
              "</div>\n",
              "      <button class=\"colab-df-convert\" onclick=\"convertToInteractive('df-82d3f670-3a39-4106-8d8f-c9a3e56026ac')\"\n",
              "              title=\"Convert this dataframe to an interactive table.\"\n",
              "              style=\"display:none;\">\n",
              "        \n",
              "  <svg xmlns=\"http://www.w3.org/2000/svg\" height=\"24px\"viewBox=\"0 0 24 24\"\n",
              "       width=\"24px\">\n",
              "    <path d=\"M0 0h24v24H0V0z\" fill=\"none\"/>\n",
              "    <path d=\"M18.56 5.44l.94 2.06.94-2.06 2.06-.94-2.06-.94-.94-2.06-.94 2.06-2.06.94zm-11 1L8.5 8.5l.94-2.06 2.06-.94-2.06-.94L8.5 2.5l-.94 2.06-2.06.94zm10 10l.94 2.06.94-2.06 2.06-.94-2.06-.94-.94-2.06-.94 2.06-2.06.94z\"/><path d=\"M17.41 7.96l-1.37-1.37c-.4-.4-.92-.59-1.43-.59-.52 0-1.04.2-1.43.59L10.3 9.45l-7.72 7.72c-.78.78-.78 2.05 0 2.83L4 21.41c.39.39.9.59 1.41.59.51 0 1.02-.2 1.41-.59l7.78-7.78 2.81-2.81c.8-.78.8-2.07 0-2.86zM5.41 20L4 18.59l7.72-7.72 1.47 1.35L5.41 20z\"/>\n",
              "  </svg>\n",
              "      </button>\n",
              "      \n",
              "  <style>\n",
              "    .colab-df-container {\n",
              "      display:flex;\n",
              "      flex-wrap:wrap;\n",
              "      gap: 12px;\n",
              "    }\n",
              "\n",
              "    .colab-df-convert {\n",
              "      background-color: #E8F0FE;\n",
              "      border: none;\n",
              "      border-radius: 50%;\n",
              "      cursor: pointer;\n",
              "      display: none;\n",
              "      fill: #1967D2;\n",
              "      height: 32px;\n",
              "      padding: 0 0 0 0;\n",
              "      width: 32px;\n",
              "    }\n",
              "\n",
              "    .colab-df-convert:hover {\n",
              "      background-color: #E2EBFA;\n",
              "      box-shadow: 0px 1px 2px rgba(60, 64, 67, 0.3), 0px 1px 3px 1px rgba(60, 64, 67, 0.15);\n",
              "      fill: #174EA6;\n",
              "    }\n",
              "\n",
              "    [theme=dark] .colab-df-convert {\n",
              "      background-color: #3B4455;\n",
              "      fill: #D2E3FC;\n",
              "    }\n",
              "\n",
              "    [theme=dark] .colab-df-convert:hover {\n",
              "      background-color: #434B5C;\n",
              "      box-shadow: 0px 1px 3px 1px rgba(0, 0, 0, 0.15);\n",
              "      filter: drop-shadow(0px 1px 2px rgba(0, 0, 0, 0.3));\n",
              "      fill: #FFFFFF;\n",
              "    }\n",
              "  </style>\n",
              "\n",
              "      <script>\n",
              "        const buttonEl =\n",
              "          document.querySelector('#df-82d3f670-3a39-4106-8d8f-c9a3e56026ac button.colab-df-convert');\n",
              "        buttonEl.style.display =\n",
              "          google.colab.kernel.accessAllowed ? 'block' : 'none';\n",
              "\n",
              "        async function convertToInteractive(key) {\n",
              "          const element = document.querySelector('#df-82d3f670-3a39-4106-8d8f-c9a3e56026ac');\n",
              "          const dataTable =\n",
              "            await google.colab.kernel.invokeFunction('convertToInteractive',\n",
              "                                                     [key], {});\n",
              "          if (!dataTable) return;\n",
              "\n",
              "          const docLinkHtml = 'Like what you see? Visit the ' +\n",
              "            '<a target=\"_blank\" href=https://colab.research.google.com/notebooks/data_table.ipynb>data table notebook</a>'\n",
              "            + ' to learn more about interactive tables.';\n",
              "          element.innerHTML = '';\n",
              "          dataTable['output_type'] = 'display_data';\n",
              "          await google.colab.output.renderOutput(dataTable, element);\n",
              "          const docLink = document.createElement('div');\n",
              "          docLink.innerHTML = docLinkHtml;\n",
              "          element.appendChild(docLink);\n",
              "        }\n",
              "      </script>\n",
              "    </div>\n",
              "  </div>\n",
              "  "
            ],
            "text/plain": [
              "             loss      val_loss\n",
              "0    76937.273438  17875.357422\n",
              "1    14775.947266  12206.740234\n",
              "2    10006.861328   7938.757812\n",
              "3     6468.678223   5379.284668\n",
              "4     4783.717285   4307.563477\n",
              "..            ...           ...\n",
              "495    539.591736    548.943359\n",
              "496    539.241638    550.957458\n",
              "497    538.859070    548.428406\n",
              "498    539.096436    548.371216\n",
              "499    538.862000    549.901062\n",
              "\n",
              "[500 rows x 2 columns]"
            ]
          },
          "metadata": {},
          "execution_count": 92
        }
      ]
    },
    {
      "cell_type": "code",
      "source": [
        "losses[['loss','val_loss']].plot()"
      ],
      "metadata": {
        "colab": {
          "base_uri": "https://localhost:8080/",
          "height": 285
        },
        "id": "CM1AEmh-7MNH",
        "outputId": "4f47a9ab-fdcf-4a46-d28b-bb176b4fc416"
      },
      "execution_count": null,
      "outputs": [
        {
          "output_type": "execute_result",
          "data": {
            "text/plain": [
              "<matplotlib.axes._subplots.AxesSubplot at 0x7fe224069110>"
            ]
          },
          "metadata": {},
          "execution_count": 93
        },
        {
          "output_type": "display_data",
          "data": {
            "image/png": "[encoded data removed]",
            "text/plain": [
              "<Figure size 432x288 with 1 Axes>"
            ]
          },
          "metadata": {
            "needs_background": "light"
          }
        }
      ]
    },
    {
      "cell_type": "code",
      "source": [
        "y_pred_ann = model.predict(x_test)"
      ],
      "metadata": {
        "id": "LQK0hogt8kS3"
      },
      "execution_count": null,
      "outputs": []
    },
    {
      "cell_type": "code",
      "source": [
        "mse_ann = mean_squared_error(y_test,y_pred_ann)"
      ],
      "metadata": {
        "id": "3APfq0Cl8UiT"
      },
      "execution_count": null,
      "outputs": []
    },
    {
      "cell_type": "code",
      "source": [
        "mse_ann"
      ],
      "metadata": {
        "colab": {
          "base_uri": "https://localhost:8080/"
        },
        "id": "aDQGbNxh8xHb",
        "outputId": "8b88aa06-fc12-4d21-f28c-6f37fa28d0ea"
      },
      "execution_count": null,
      "outputs": [
        {
          "output_type": "execute_result",
          "data": {
            "text/plain": [
              "549.9012096678352"
            ]
          },
          "metadata": {},
          "execution_count": 96
        }
      ]
    },
    {
      "cell_type": "code",
      "source": [
        ""
      ],
      "metadata": {
        "id": "pgStvQcP8xAI"
      },
      "execution_count": null,
      "outputs": []
    }
  ]
}