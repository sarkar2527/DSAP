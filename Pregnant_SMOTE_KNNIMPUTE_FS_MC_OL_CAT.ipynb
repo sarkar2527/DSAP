{
  "nbformat": 4,
  "nbformat_minor": 0,
  "metadata": {
    "colab": {
      "name": "Pregnant_SMOTE_KNNIMPUTE_FS_MC_OL_CAT.ipynb",
      "provenance": [],
      "collapsed_sections": [],
      "authorship_tag": "ABX9TyM3WVevLJ41XXTN1dj62Xmn",
      "include_colab_link": true
    },
    "kernelspec": {
      "name": "python3",
      "display_name": "Python 3"
    },
    "language_info": {
      "name": "python"
    }
  },
  "cells": [
    {
      "cell_type": "markdown",
      "metadata": {
        "id": "view-in-github",
        "colab_type": "text"
      },
      "source": [
        "<a href=\"https://colab.research.google.com/github/sarkar2527/DSAP/blob/main/Pregnant_SMOTE_KNNIMPUTE_FS_MC_OL_CAT.ipynb\" target=\"_parent\"><img src=\"https://colab.research.google.com/assets/colab-badge.svg\" alt=\"Open In Colab\"/></a>"
      ]
    },
    {
      "cell_type": "code",
      "source": [
        "from google.colab import drive\n",
        "drive.mount('/content/drive')"
      ],
      "metadata": {
        "colab": {
          "base_uri": "https://localhost:8080/"
        },
        "id": "r9cDXaj5NOlA",
        "outputId": "c08b2fdc-bee1-4119-ebd0-894a15fc87bb"
      },
      "execution_count": 90,
      "outputs": [
        {
          "output_type": "stream",
          "name": "stdout",
          "text": [
            "Drive already mounted at /content/drive; to attempt to forcibly remount, call drive.mount(\"/content/drive\", force_remount=True).\n"
          ]
        }
      ]
    },
    {
      "cell_type": "code",
      "source": [
        "#Importing the neccessary Libraries\n",
        "import numpy as np\n",
        "import pandas as pd\n",
        "import matplotlib.pyplot as plt\n",
        "import seaborn as sns\n",
        "sns.set()\n",
        "%matplotlib inline"
      ],
      "metadata": {
        "id": "qjurcZJdNTJg"
      },
      "execution_count": 91,
      "outputs": []
    },
    {
      "cell_type": "code",
      "source": [
        "# Read the Training Data\n",
        "train_data = pd.read_csv(\"/content/drive/MyDrive/GeekLurn_ML_Session/Proj2_Train.csv\")\n",
        "\n",
        "# Read the test Data\n",
        "test_data = pd.read_csv(\"/content/drive/MyDrive/GeekLurn_ML_Session/Proj2_Test.csv\")\n",
        "\n",
        "train_data.shape,test_data.shape"
      ],
      "metadata": {
        "colab": {
          "base_uri": "https://localhost:8080/"
        },
        "id": "vGNS8xWONZWz",
        "outputId": "abf77784-91a1-433d-b80d-48a5646a2b0c"
      },
      "execution_count": 92,
      "outputs": [
        {
          "output_type": "execute_result",
          "data": {
            "text/plain": [
              "((1000, 16), (100, 15))"
            ]
          },
          "metadata": {},
          "execution_count": 92
        }
      ]
    },
    {
      "cell_type": "code",
      "source": [
        "df = pd.concat([train_data,test_data],axis = 0)\n",
        "\n",
        "df.shape"
      ],
      "metadata": {
        "colab": {
          "base_uri": "https://localhost:8080/"
        },
        "id": "MKF4iOidNgNY",
        "outputId": "9b94edff-b120-4d6d-b4bb-5ff355b36a6d"
      },
      "execution_count": 93,
      "outputs": [
        {
          "output_type": "execute_result",
          "data": {
            "text/plain": [
              "(1100, 16)"
            ]
          },
          "metadata": {},
          "execution_count": 93
        }
      ]
    },
    {
      "cell_type": "code",
      "source": [
        "\n",
        "#Removing Unnecessary Features\n",
        "df.drop(['Sl No','Sample ID','Unnamed: 15','Consistency_Score'], axis = 1, inplace = True)"
      ],
      "metadata": {
        "id": "MJhXt37dNl_x"
      },
      "execution_count": 94,
      "outputs": []
    },
    {
      "cell_type": "code",
      "source": [
        "df.isnull().sum()"
      ],
      "metadata": {
        "colab": {
          "base_uri": "https://localhost:8080/"
        },
        "id": "Arzbrl-qNqRx",
        "outputId": "4311ba7a-680e-4c2f-e0b8-c28ccd6672f3"
      },
      "execution_count": 95,
      "outputs": [
        {
          "output_type": "execute_result",
          "data": {
            "text/plain": [
              "Age                     0\n",
              "Ob_Score                0\n",
              "BMI                     0\n",
              "Position_Score          0\n",
              "Effacement_Score        0\n",
              "Dialation_Score         0\n",
              "Station_Score           0\n",
              "Total_Bishop_Score      0\n",
              "Cerv_Len_cms          660\n",
              "Cerv_Wid_cms          660\n",
              "Induction               0\n",
              "Del_mode                0\n",
              "dtype: int64"
            ]
          },
          "metadata": {},
          "execution_count": 95
        }
      ]
    },
    {
      "cell_type": "code",
      "source": [
        "from sklearn.preprocessing import LabelEncoder\n",
        "le = LabelEncoder()\n",
        "df['Ob_Score'] = le.fit_transform(df['Ob_Score'])"
      ],
      "metadata": {
        "id": "OjpKVIanNwhv"
      },
      "execution_count": 96,
      "outputs": []
    },
    {
      "cell_type": "code",
      "source": [
        "from sklearn.impute import KNNImputer\n",
        "imputer = KNNImputer(n_neighbors=5)\n",
        "df = pd.DataFrame(imputer.fit_transform(df),columns = df.columns)"
      ],
      "metadata": {
        "id": "HbbMZ5SNOAnA"
      },
      "execution_count": 97,
      "outputs": []
    },
    {
      "cell_type": "code",
      "source": [
        "df.isnull().sum()"
      ],
      "metadata": {
        "colab": {
          "base_uri": "https://localhost:8080/"
        },
        "id": "G5d0p9ADOEhf",
        "outputId": "746df005-6073-4b8c-fc45-ab711aacb6f3"
      },
      "execution_count": 98,
      "outputs": [
        {
          "output_type": "execute_result",
          "data": {
            "text/plain": [
              "Age                   0\n",
              "Ob_Score              0\n",
              "BMI                   0\n",
              "Position_Score        0\n",
              "Effacement_Score      0\n",
              "Dialation_Score       0\n",
              "Station_Score         0\n",
              "Total_Bishop_Score    0\n",
              "Cerv_Len_cms          0\n",
              "Cerv_Wid_cms          0\n",
              "Induction             0\n",
              "Del_mode              0\n",
              "dtype: int64"
            ]
          },
          "metadata": {},
          "execution_count": 98
        }
      ]
    },
    {
      "cell_type": "code",
      "source": [
        "sns.countplot(df['Del_mode'])"
      ],
      "metadata": {
        "colab": {
          "base_uri": "https://localhost:8080/",
          "height": 357
        },
        "id": "0xGm7fbwOJ9B",
        "outputId": "50c174c9-f860-41ef-8edd-e0cd7f619d96"
      },
      "execution_count": 99,
      "outputs": [
        {
          "output_type": "stream",
          "name": "stderr",
          "text": [
            "/usr/local/lib/python3.7/dist-packages/seaborn/_decorators.py:43: FutureWarning: Pass the following variable as a keyword arg: x. From version 0.12, the only valid positional argument will be `data`, and passing other arguments without an explicit keyword will result in an error or misinterpretation.\n",
            "  FutureWarning\n"
          ]
        },
        {
          "output_type": "execute_result",
          "data": {
            "text/plain": [
              "<matplotlib.axes._subplots.AxesSubplot at 0x7f0522ad3510>"
            ]
          },
          "metadata": {},
          "execution_count": 99
        },
        {
          "output_type": "display_data",
          "data": {
            "text/plain": [
              "<Figure size 432x288 with 1 Axes>"
            ],
            "image/png": "[encoded data removed]"
          },
          "metadata": {
            "needs_background": "light"
          }
        }
      ]
    },
    {
      "cell_type": "code",
      "source": [
        "fig = plt.figure(figsize =(16, 10))\n",
        "sns.boxplot(data= df, linewidth=1)\n",
        "plt.xticks(rotation='vertical')\n",
        "plt.show()"
      ],
      "metadata": {
        "colab": {
          "base_uri": "https://localhost:8080/",
          "height": 689
        },
        "id": "mT7iMUlIOReq",
        "outputId": "9b022938-1178-406f-dde2-e4f5daeb1630"
      },
      "execution_count": 100,
      "outputs": [
        {
          "output_type": "display_data",
          "data": {
            "text/plain": [
              "<Figure size 1152x720 with 1 Axes>"
            ],
            "image/png": "[encoded data removed]"
          },
          "metadata": {
            "needs_background": "light"
          }
        }
      ]
    },
    {
      "cell_type": "code",
      "source": [
        "def outliers (df , ft) :\n",
        "    Q1= df[ft].quantile(0.25)\n",
        "    Q3= df[ft].quantile(0.75)\n",
        "    \n",
        "    IQR = Q3-Q1\n",
        "    \n",
        "    lower_bound = Q1 - 1.5*IQR\n",
        "    upper_bound = Q3 + 1.5*IQR\n",
        "    \n",
        "    ls = df.index[(df[ft] < lower_bound )| (df[ft] > upper_bound )]\n",
        "    \n",
        "    return ls"
      ],
      "metadata": {
        "id": "wSp2kGZoOaJF"
      },
      "execution_count": 101,
      "outputs": []
    },
    {
      "cell_type": "code",
      "source": [
        "def remove (df, ls ):\n",
        "    ls = sorted(set(ls))\n",
        "    df = df.drop(ls)\n",
        "    \n",
        "    return df"
      ],
      "metadata": {
        "id": "YsXAp3zKOdtF"
      },
      "execution_count": 102,
      "outputs": []
    },
    {
      "cell_type": "code",
      "source": [
        "index_list = []\n",
        "for feature in [\n",
        " 'Age',\n",
        " 'Ob_Score',\n",
        " 'BMI',\n",
        " 'Position_Score',\n",
        " 'Dialation_Score',\n",
        " 'Station_Score',\n",
        " 'Total_Bishop_Score',\n",
        " 'Cerv_Len_cms',\n",
        " 'Cerv_Wid_cms',\n",
        " 'Induction',\n",
        " 'Del_mode']:\n",
        "    index_list.extend(outliers(df , feature))"
      ],
      "metadata": {
        "id": "hElr1pAHOiDf"
      },
      "execution_count": 103,
      "outputs": []
    },
    {
      "cell_type": "code",
      "source": [
        "df1 = remove(df,index_list)"
      ],
      "metadata": {
        "id": "PHlY9A5fOjQ9"
      },
      "execution_count": 104,
      "outputs": []
    },
    {
      "cell_type": "code",
      "source": [
        "df1.shape"
      ],
      "metadata": {
        "colab": {
          "base_uri": "https://localhost:8080/"
        },
        "id": "E5A5ZYLhOnZU",
        "outputId": "18030ad6-5ab7-4061-c780-9133f747e80c"
      },
      "execution_count": 105,
      "outputs": [
        {
          "output_type": "execute_result",
          "data": {
            "text/plain": [
              "(732, 12)"
            ]
          },
          "metadata": {},
          "execution_count": 105
        }
      ]
    },
    {
      "cell_type": "code",
      "source": [
        "sns.countplot(df1['Del_mode'])"
      ],
      "metadata": {
        "colab": {
          "base_uri": "https://localhost:8080/",
          "height": 357
        },
        "id": "6URXU0dfOwRF",
        "outputId": "48c05e98-1370-497d-e5c7-3c1052406eec"
      },
      "execution_count": 106,
      "outputs": [
        {
          "output_type": "stream",
          "name": "stderr",
          "text": [
            "/usr/local/lib/python3.7/dist-packages/seaborn/_decorators.py:43: FutureWarning: Pass the following variable as a keyword arg: x. From version 0.12, the only valid positional argument will be `data`, and passing other arguments without an explicit keyword will result in an error or misinterpretation.\n",
            "  FutureWarning\n"
          ]
        },
        {
          "output_type": "execute_result",
          "data": {
            "text/plain": [
              "<matplotlib.axes._subplots.AxesSubplot at 0x7f0521ba6110>"
            ]
          },
          "metadata": {},
          "execution_count": 106
        },
        {
          "output_type": "display_data",
          "data": {
            "text/plain": [
              "<Figure size 432x288 with 1 Axes>"
            ],
            "image/png": "[encoded data removed]"
          },
          "metadata": {
            "needs_background": "light"
          }
        }
      ]
    },
    {
      "cell_type": "code",
      "source": [
        "fig = plt.figure(figsize =(16, 10))\n",
        "sns.boxplot(data= df1, linewidth=1)\n",
        "plt.xticks(rotation='vertical')\n",
        "plt.show()"
      ],
      "metadata": {
        "colab": {
          "base_uri": "https://localhost:8080/",
          "height": 689
        },
        "id": "rCxnSncMO1g3",
        "outputId": "72f7f102-cdfd-466a-f766-5d5d3571b1e4"
      },
      "execution_count": 107,
      "outputs": [
        {
          "output_type": "display_data",
          "data": {
            "text/plain": [
              "<Figure size 1152x720 with 1 Axes>"
            ],
            "image/png": "[encoded data removed]"
          },
          "metadata": {
            "needs_background": "light"
          }
        }
      ]
    },
    {
      "cell_type": "code",
      "source": [
        "def draw_histograms(dataframe, features, rows, cols):\n",
        "    fig=plt.figure(figsize=(20,20))\n",
        "    for i, feature in enumerate(features):\n",
        "        ax=fig.add_subplot(rows,cols,i+1)\n",
        "        dataframe[feature].hist(bins=20,ax=ax,facecolor='midnightblue')\n",
        "        ax.set_title(feature+\" Distribution\",color='DarkRed')\n",
        "        ax.set_yscale('log')\n",
        "    fig.tight_layout()  \n",
        "    plt.show()\n",
        "\n",
        "draw_histograms(df1,df1.columns,8,4)"
      ],
      "metadata": {
        "colab": {
          "base_uri": "https://localhost:8080/",
          "height": 459
        },
        "id": "JzvgRs2Uo2CY",
        "outputId": "9bafacb3-a58e-44c5-a788-bdd07117e827"
      },
      "execution_count": 108,
      "outputs": [
        {
          "output_type": "display_data",
          "data": {
            "text/plain": [
              "<Figure size 1440x1440 with 12 Axes>"
            ],
            "image/png": "[encoded data removed]"
          },
          "metadata": {
            "needs_background": "light"
          }
        }
      ]
    },
    {
      "cell_type": "code",
      "source": [
        "df1.describe().T"
      ],
      "metadata": {
        "colab": {
          "base_uri": "https://localhost:8080/",
          "height": 426
        },
        "id": "bUWlAQF8O4nb",
        "outputId": "9d278521-ffac-4454-a82b-44d69cac4050"
      },
      "execution_count": 109,
      "outputs": [
        {
          "output_type": "execute_result",
          "data": {
            "text/plain": [
              "                    count       mean       std        min        25%  \\\n",
              "Age                 732.0  22.965847  2.206862  18.000000  21.000000   \n",
              "Ob_Score            732.0   0.000000  0.000000   0.000000   0.000000   \n",
              "BMI                 732.0  26.605294  2.350415  21.300000  24.769010   \n",
              "Position_Score      732.0   0.517760  0.500026   0.000000   0.000000   \n",
              "Effacement_Score    732.0   0.383880  0.486662   0.000000   0.000000   \n",
              "Dialation_Score     732.0   0.478142  0.499864   0.000000   0.000000   \n",
              "Station_Score       732.0   0.000000  0.000000   0.000000   0.000000   \n",
              "Total_Bishop_Score  732.0   3.438525  0.954673   2.000000   3.000000   \n",
              "Cerv_Len_cms        732.0   2.466463  0.264258   1.870000   2.257082   \n",
              "Cerv_Wid_cms        732.0   1.525365  0.352153   0.493955   1.285786   \n",
              "Induction           732.0   1.000000  0.000000   1.000000   1.000000   \n",
              "Del_mode            732.0   0.288251  0.453258   0.000000   0.000000   \n",
              "\n",
              "                          50%        75%        max  \n",
              "Age                 23.000000  24.000000  30.000000  \n",
              "Ob_Score             0.000000   0.000000   0.000000  \n",
              "BMI                 26.584167  28.602236  31.415765  \n",
              "Position_Score       1.000000   1.000000   1.000000  \n",
              "Effacement_Score     0.000000   1.000000   1.000000  \n",
              "Dialation_Score      0.000000   1.000000   1.000000  \n",
              "Station_Score        0.000000   0.000000   0.000000  \n",
              "Total_Bishop_Score   3.000000   4.000000   5.000000  \n",
              "Cerv_Len_cms         2.462970   2.620523   3.239984  \n",
              "Cerv_Wid_cms         1.565271   1.717773   2.350850  \n",
              "Induction            1.000000   1.000000   1.000000  \n",
              "Del_mode             0.000000   1.000000   1.000000  "
            ],
            "text/html": [
              "\n",
              "  <div id=\"df-657d38cf-dfa2-415f-a299-b2cf62d80d1e\">\n",
              "    <div class=\"colab-df-container\">\n",
              "      <div>\n",
              "<style scoped>\n",
              "    .dataframe tbody tr th:only-of-type {\n",
              "        vertical-align: middle;\n",
              "    }\n",
              "\n",
              "    .dataframe tbody tr th {\n",
              "        vertical-align: top;\n",
              "    }\n",
              "\n",
              "    .dataframe thead th {\n",
              "        text-align: right;\n",
              "    }\n",
              "</style>\n",
              "<table border=\"1\" class=\"dataframe\">\n",
              "  <thead>\n",
              "    <tr style=\"text-align: right;\">\n",
              "      <th></th>\n",
              "      <th>count</th>\n",
              "      <th>mean</th>\n",
              "      <th>std</th>\n",
              "      <th>min</th>\n",
              "      <th>25%</th>\n",
              "      <th>50%</th>\n",
              "      <th>75%</th>\n",
              "      <th>max</th>\n",
              "    </tr>\n",
              "  </thead>\n",
              "  <tbody>\n",
              "    <tr>\n",
              "      <th>Age</th>\n",
              "      <td>732.0</td>\n",
              "      <td>22.965847</td>\n",
              "      <td>2.206862</td>\n",
              "      <td>18.000000</td>\n",
              "      <td>21.000000</td>\n",
              "      <td>23.000000</td>\n",
              "      <td>24.000000</td>\n",
              "      <td>30.000000</td>\n",
              "    </tr>\n",
              "    <tr>\n",
              "      <th>Ob_Score</th>\n",
              "      <td>732.0</td>\n",
              "      <td>0.000000</td>\n",
              "      <td>0.000000</td>\n",
              "      <td>0.000000</td>\n",
              "      <td>0.000000</td>\n",
              "      <td>0.000000</td>\n",
              "      <td>0.000000</td>\n",
              "      <td>0.000000</td>\n",
              "    </tr>\n",
              "    <tr>\n",
              "      <th>BMI</th>\n",
              "      <td>732.0</td>\n",
              "      <td>26.605294</td>\n",
              "      <td>2.350415</td>\n",
              "      <td>21.300000</td>\n",
              "      <td>24.769010</td>\n",
              "      <td>26.584167</td>\n",
              "      <td>28.602236</td>\n",
              "      <td>31.415765</td>\n",
              "    </tr>\n",
              "    <tr>\n",
              "      <th>Position_Score</th>\n",
              "      <td>732.0</td>\n",
              "      <td>0.517760</td>\n",
              "      <td>0.500026</td>\n",
              "      <td>0.000000</td>\n",
              "      <td>0.000000</td>\n",
              "      <td>1.000000</td>\n",
              "      <td>1.000000</td>\n",
              "      <td>1.000000</td>\n",
              "    </tr>\n",
              "    <tr>\n",
              "      <th>Effacement_Score</th>\n",
              "      <td>732.0</td>\n",
              "      <td>0.383880</td>\n",
              "      <td>0.486662</td>\n",
              "      <td>0.000000</td>\n",
              "      <td>0.000000</td>\n",
              "      <td>0.000000</td>\n",
              "      <td>1.000000</td>\n",
              "      <td>1.000000</td>\n",
              "    </tr>\n",
              "    <tr>\n",
              "      <th>Dialation_Score</th>\n",
              "      <td>732.0</td>\n",
              "      <td>0.478142</td>\n",
              "      <td>0.499864</td>\n",
              "      <td>0.000000</td>\n",
              "      <td>0.000000</td>\n",
              "      <td>0.000000</td>\n",
              "      <td>1.000000</td>\n",
              "      <td>1.000000</td>\n",
              "    </tr>\n",
              "    <tr>\n",
              "      <th>Station_Score</th>\n",
              "      <td>732.0</td>\n",
              "      <td>0.000000</td>\n",
              "      <td>0.000000</td>\n",
              "      <td>0.000000</td>\n",
              "      <td>0.000000</td>\n",
              "      <td>0.000000</td>\n",
              "      <td>0.000000</td>\n",
              "      <td>0.000000</td>\n",
              "    </tr>\n",
              "    <tr>\n",
              "      <th>Total_Bishop_Score</th>\n",
              "      <td>732.0</td>\n",
              "      <td>3.438525</td>\n",
              "      <td>0.954673</td>\n",
              "      <td>2.000000</td>\n",
              "      <td>3.000000</td>\n",
              "      <td>3.000000</td>\n",
              "      <td>4.000000</td>\n",
              "      <td>5.000000</td>\n",
              "    </tr>\n",
              "    <tr>\n",
              "      <th>Cerv_Len_cms</th>\n",
              "      <td>732.0</td>\n",
              "      <td>2.466463</td>\n",
              "      <td>0.264258</td>\n",
              "      <td>1.870000</td>\n",
              "      <td>2.257082</td>\n",
              "      <td>2.462970</td>\n",
              "      <td>2.620523</td>\n",
              "      <td>3.239984</td>\n",
              "    </tr>\n",
              "    <tr>\n",
              "      <th>Cerv_Wid_cms</th>\n",
              "      <td>732.0</td>\n",
              "      <td>1.525365</td>\n",
              "      <td>0.352153</td>\n",
              "      <td>0.493955</td>\n",
              "      <td>1.285786</td>\n",
              "      <td>1.565271</td>\n",
              "      <td>1.717773</td>\n",
              "      <td>2.350850</td>\n",
              "    </tr>\n",
              "    <tr>\n",
              "      <th>Induction</th>\n",
              "      <td>732.0</td>\n",
              "      <td>1.000000</td>\n",
              "      <td>0.000000</td>\n",
              "      <td>1.000000</td>\n",
              "      <td>1.000000</td>\n",
              "      <td>1.000000</td>\n",
              "      <td>1.000000</td>\n",
              "      <td>1.000000</td>\n",
              "    </tr>\n",
              "    <tr>\n",
              "      <th>Del_mode</th>\n",
              "      <td>732.0</td>\n",
              "      <td>0.288251</td>\n",
              "      <td>0.453258</td>\n",
              "      <td>0.000000</td>\n",
              "      <td>0.000000</td>\n",
              "      <td>0.000000</td>\n",
              "      <td>1.000000</td>\n",
              "      <td>1.000000</td>\n",
              "    </tr>\n",
              "  </tbody>\n",
              "</table>\n",
              "</div>\n",
              "      <button class=\"colab-df-convert\" onclick=\"convertToInteractive('df-657d38cf-dfa2-415f-a299-b2cf62d80d1e')\"\n",
              "              title=\"Convert this dataframe to an interactive table.\"\n",
              "              style=\"display:none;\">\n",
              "        \n",
              "  <svg xmlns=\"http://www.w3.org/2000/svg\" height=\"24px\"viewBox=\"0 0 24 24\"\n",
              "       width=\"24px\">\n",
              "    <path d=\"M0 0h24v24H0V0z\" fill=\"none\"/>\n",
              "    <path d=\"M18.56 5.44l.94 2.06.94-2.06 2.06-.94-2.06-.94-.94-2.06-.94 2.06-2.06.94zm-11 1L8.5 8.5l.94-2.06 2.06-.94-2.06-.94L8.5 2.5l-.94 2.06-2.06.94zm10 10l.94 2.06.94-2.06 2.06-.94-2.06-.94-.94-2.06-.94 2.06-2.06.94z\"/><path d=\"M17.41 7.96l-1.37-1.37c-.4-.4-.92-.59-1.43-.59-.52 0-1.04.2-1.43.59L10.3 9.45l-7.72 7.72c-.78.78-.78 2.05 0 2.83L4 21.41c.39.39.9.59 1.41.59.51 0 1.02-.2 1.41-.59l7.78-7.78 2.81-2.81c.8-.78.8-2.07 0-2.86zM5.41 20L4 18.59l7.72-7.72 1.47 1.35L5.41 20z\"/>\n",
              "  </svg>\n",
              "      </button>\n",
              "      \n",
              "  <style>\n",
              "    .colab-df-container {\n",
              "      display:flex;\n",
              "      flex-wrap:wrap;\n",
              "      gap: 12px;\n",
              "    }\n",
              "\n",
              "    .colab-df-convert {\n",
              "      background-color: #E8F0FE;\n",
              "      border: none;\n",
              "      border-radius: 50%;\n",
              "      cursor: pointer;\n",
              "      display: none;\n",
              "      fill: #1967D2;\n",
              "      height: 32px;\n",
              "      padding: 0 0 0 0;\n",
              "      width: 32px;\n",
              "    }\n",
              "\n",
              "    .colab-df-convert:hover {\n",
              "      background-color: #E2EBFA;\n",
              "      box-shadow: 0px 1px 2px rgba(60, 64, 67, 0.3), 0px 1px 3px 1px rgba(60, 64, 67, 0.15);\n",
              "      fill: #174EA6;\n",
              "    }\n",
              "\n",
              "    [theme=dark] .colab-df-convert {\n",
              "      background-color: #3B4455;\n",
              "      fill: #D2E3FC;\n",
              "    }\n",
              "\n",
              "    [theme=dark] .colab-df-convert:hover {\n",
              "      background-color: #434B5C;\n",
              "      box-shadow: 0px 1px 3px 1px rgba(0, 0, 0, 0.15);\n",
              "      filter: drop-shadow(0px 1px 2px rgba(0, 0, 0, 0.3));\n",
              "      fill: #FFFFFF;\n",
              "    }\n",
              "  </style>\n",
              "\n",
              "      <script>\n",
              "        const buttonEl =\n",
              "          document.querySelector('#df-657d38cf-dfa2-415f-a299-b2cf62d80d1e button.colab-df-convert');\n",
              "        buttonEl.style.display =\n",
              "          google.colab.kernel.accessAllowed ? 'block' : 'none';\n",
              "\n",
              "        async function convertToInteractive(key) {\n",
              "          const element = document.querySelector('#df-657d38cf-dfa2-415f-a299-b2cf62d80d1e');\n",
              "          const dataTable =\n",
              "            await google.colab.kernel.invokeFunction('convertToInteractive',\n",
              "                                                     [key], {});\n",
              "          if (!dataTable) return;\n",
              "\n",
              "          const docLinkHtml = 'Like what you see? Visit the ' +\n",
              "            '<a target=\"_blank\" href=https://colab.research.google.com/notebooks/data_table.ipynb>data table notebook</a>'\n",
              "            + ' to learn more about interactive tables.';\n",
              "          element.innerHTML = '';\n",
              "          dataTable['output_type'] = 'display_data';\n",
              "          await google.colab.output.renderOutput(dataTable, element);\n",
              "          const docLink = document.createElement('div');\n",
              "          docLink.innerHTML = docLinkHtml;\n",
              "          element.appendChild(docLink);\n",
              "        }\n",
              "      </script>\n",
              "    </div>\n",
              "  </div>\n",
              "  "
            ]
          },
          "metadata": {},
          "execution_count": 109
        }
      ]
    },
    {
      "cell_type": "code",
      "source": [
        "df1['Del_mode'].value_counts()"
      ],
      "metadata": {
        "colab": {
          "base_uri": "https://localhost:8080/"
        },
        "id": "iSqrToVeO_LT",
        "outputId": "65c60306-dfb6-4aab-c44a-6836cd7e357c"
      },
      "execution_count": 110,
      "outputs": [
        {
          "output_type": "execute_result",
          "data": {
            "text/plain": [
              "0.0    521\n",
              "1.0    211\n",
              "Name: Del_mode, dtype: int64"
            ]
          },
          "metadata": {},
          "execution_count": 110
        }
      ]
    },
    {
      "cell_type": "code",
      "source": [
        "#### Independent and Dependent Features\n",
        "#X=df1.drop(\"Del_mode\",axis=1)\n",
        "#=df1['Del_mode']"
      ],
      "metadata": {
        "id": "SXPNPfkDPBB_"
      },
      "execution_count": 111,
      "outputs": []
    },
    {
      "cell_type": "markdown",
      "source": [
        "**Feature Selection**"
      ],
      "metadata": {
        "id": "yNz0DyiVyEAA"
      }
    },
    {
      "cell_type": "code",
      "source": [
        "#Select K best\n",
        "\n",
        "X=df1.drop(\"Del_mode\",axis=1)\n",
        "Y=df1['Del_mode']\n",
        "\n",
        "from sklearn.feature_selection import SelectKBest\n",
        "from sklearn.feature_selection import chi2\n",
        "\n",
        "Select_KBest_rank_features=SelectKBest(score_func=chi2,k=5)\n",
        "KBest_features=Select_KBest_rank_features.fit(X,Y)\n",
        "\n",
        "df_Kscores=pd.DataFrame(KBest_features.scores_,columns=[\"Score\"])\n",
        "dfcolumns=pd.DataFrame(X.columns)\n",
        "\n",
        "kbest_features_rank=pd.concat([dfcolumns,df_Kscores],axis=1)\n",
        "\n",
        "kbest_features_rank.columns=['Features','K_score']\n",
        "kbest_features_rank\n",
        "\n",
        "print(kbest_features_rank.nlargest(6,'K_score'))"
      ],
      "metadata": {
        "colab": {
          "base_uri": "https://localhost:8080/"
        },
        "id": "z_4RH428yCiD",
        "outputId": "a3fce401-acc5-41ec-c5c6-318b1b8c4281"
      },
      "execution_count": 112,
      "outputs": [
        {
          "output_type": "stream",
          "name": "stdout",
          "text": [
            "             Features    K_score\n",
            "3      Position_Score  24.053602\n",
            "0                 Age  18.382231\n",
            "4    Effacement_Score   6.260953\n",
            "5     Dialation_Score   6.207169\n",
            "7  Total_Bishop_Score   4.944186\n",
            "9        Cerv_Wid_cms   3.990352\n"
          ]
        }
      ]
    },
    {
      "cell_type": "code",
      "source": [
        "from sklearn.ensemble import ExtraTreesClassifier\n",
        "ET_model=ExtraTreesClassifier()\n",
        "ET_model.fit(X,Y)\n",
        "\n",
        "print(ET_model.feature_importances_)\n",
        "\n",
        "import matplotlib.pyplot as plt\n",
        "ET_ranked_features=pd.Series(ET_model.feature_importances_,index=X.columns)\n",
        "ET_ranked_features.nlargest(10).plot(kind='barh')\n",
        "plt.show()\n",
        "\n",
        "\n",
        "df_ET_rank =pd.DataFrame(ET_model.feature_importances_)\n",
        "\n",
        "dfcolumns=pd.DataFrame(X.columns)\n",
        "\n",
        "ET_features_rank=pd.concat([dfcolumns,df_ET_rank],axis=1)\n",
        "\n",
        "ET_features_rank.columns=['Features','Score']\n",
        "ET_features_rank\n",
        "ET_features_rank.nlargest(6,'Score')"
      ],
      "metadata": {
        "colab": {
          "base_uri": "https://localhost:8080/",
          "height": 523
        },
        "id": "KsQgaEGHyynL",
        "outputId": "cbcbbad8-6be7-4658-b155-71840063bb0a"
      },
      "execution_count": 113,
      "outputs": [
        {
          "output_type": "stream",
          "name": "stdout",
          "text": [
            "[0.17749626 0.         0.24288862 0.07090313 0.03884946 0.0556555\n",
            " 0.         0.07671846 0.15387887 0.18360969 0.        ]\n"
          ]
        },
        {
          "output_type": "display_data",
          "data": {
            "text/plain": [
              "<Figure size 432x288 with 1 Axes>"
            ],
            "image/png": "[encoded data removed]"
          },
          "metadata": {
            "needs_background": "light"
          }
        },
        {
          "output_type": "execute_result",
          "data": {
            "text/plain": [
              "             Features     Score\n",
              "2                 BMI  0.242889\n",
              "9        Cerv_Wid_cms  0.183610\n",
              "0                 Age  0.177496\n",
              "8        Cerv_Len_cms  0.153879\n",
              "7  Total_Bishop_Score  0.076718\n",
              "3      Position_Score  0.070903"
            ],
            "text/html": [
              "\n",
              "  <div id=\"df-3c7fb3bf-2b4e-48e0-a4dd-73705f251da8\">\n",
              "    <div class=\"colab-df-container\">\n",
              "      <div>\n",
              "<style scoped>\n",
              "    .dataframe tbody tr th:only-of-type {\n",
              "        vertical-align: middle;\n",
              "    }\n",
              "\n",
              "    .dataframe tbody tr th {\n",
              "        vertical-align: top;\n",
              "    }\n",
              "\n",
              "    .dataframe thead th {\n",
              "        text-align: right;\n",
              "    }\n",
              "</style>\n",
              "<table border=\"1\" class=\"dataframe\">\n",
              "  <thead>\n",
              "    <tr style=\"text-align: right;\">\n",
              "      <th></th>\n",
              "      <th>Features</th>\n",
              "      <th>Score</th>\n",
              "    </tr>\n",
              "  </thead>\n",
              "  <tbody>\n",
              "    <tr>\n",
              "      <th>2</th>\n",
              "      <td>BMI</td>\n",
              "      <td>0.242889</td>\n",
              "    </tr>\n",
              "    <tr>\n",
              "      <th>9</th>\n",
              "      <td>Cerv_Wid_cms</td>\n",
              "      <td>0.183610</td>\n",
              "    </tr>\n",
              "    <tr>\n",
              "      <th>0</th>\n",
              "      <td>Age</td>\n",
              "      <td>0.177496</td>\n",
              "    </tr>\n",
              "    <tr>\n",
              "      <th>8</th>\n",
              "      <td>Cerv_Len_cms</td>\n",
              "      <td>0.153879</td>\n",
              "    </tr>\n",
              "    <tr>\n",
              "      <th>7</th>\n",
              "      <td>Total_Bishop_Score</td>\n",
              "      <td>0.076718</td>\n",
              "    </tr>\n",
              "    <tr>\n",
              "      <th>3</th>\n",
              "      <td>Position_Score</td>\n",
              "      <td>0.070903</td>\n",
              "    </tr>\n",
              "  </tbody>\n",
              "</table>\n",
              "</div>\n",
              "      <button class=\"colab-df-convert\" onclick=\"convertToInteractive('df-3c7fb3bf-2b4e-48e0-a4dd-73705f251da8')\"\n",
              "              title=\"Convert this dataframe to an interactive table.\"\n",
              "              style=\"display:none;\">\n",
              "        \n",
              "  <svg xmlns=\"http://www.w3.org/2000/svg\" height=\"24px\"viewBox=\"0 0 24 24\"\n",
              "       width=\"24px\">\n",
              "    <path d=\"M0 0h24v24H0V0z\" fill=\"none\"/>\n",
              "    <path d=\"M18.56 5.44l.94 2.06.94-2.06 2.06-.94-2.06-.94-.94-2.06-.94 2.06-2.06.94zm-11 1L8.5 8.5l.94-2.06 2.06-.94-2.06-.94L8.5 2.5l-.94 2.06-2.06.94zm10 10l.94 2.06.94-2.06 2.06-.94-2.06-.94-.94-2.06-.94 2.06-2.06.94z\"/><path d=\"M17.41 7.96l-1.37-1.37c-.4-.4-.92-.59-1.43-.59-.52 0-1.04.2-1.43.59L10.3 9.45l-7.72 7.72c-.78.78-.78 2.05 0 2.83L4 21.41c.39.39.9.59 1.41.59.51 0 1.02-.2 1.41-.59l7.78-7.78 2.81-2.81c.8-.78.8-2.07 0-2.86zM5.41 20L4 18.59l7.72-7.72 1.47 1.35L5.41 20z\"/>\n",
              "  </svg>\n",
              "      </button>\n",
              "      \n",
              "  <style>\n",
              "    .colab-df-container {\n",
              "      display:flex;\n",
              "      flex-wrap:wrap;\n",
              "      gap: 12px;\n",
              "    }\n",
              "\n",
              "    .colab-df-convert {\n",
              "      background-color: #E8F0FE;\n",
              "      border: none;\n",
              "      border-radius: 50%;\n",
              "      cursor: pointer;\n",
              "      display: none;\n",
              "      fill: #1967D2;\n",
              "      height: 32px;\n",
              "      padding: 0 0 0 0;\n",
              "      width: 32px;\n",
              "    }\n",
              "\n",
              "    .colab-df-convert:hover {\n",
              "      background-color: #E2EBFA;\n",
              "      box-shadow: 0px 1px 2px rgba(60, 64, 67, 0.3), 0px 1px 3px 1px rgba(60, 64, 67, 0.15);\n",
              "      fill: #174EA6;\n",
              "    }\n",
              "\n",
              "    [theme=dark] .colab-df-convert {\n",
              "      background-color: #3B4455;\n",
              "      fill: #D2E3FC;\n",
              "    }\n",
              "\n",
              "    [theme=dark] .colab-df-convert:hover {\n",
              "      background-color: #434B5C;\n",
              "      box-shadow: 0px 1px 3px 1px rgba(0, 0, 0, 0.15);\n",
              "      filter: drop-shadow(0px 1px 2px rgba(0, 0, 0, 0.3));\n",
              "      fill: #FFFFFF;\n",
              "    }\n",
              "  </style>\n",
              "\n",
              "      <script>\n",
              "        const buttonEl =\n",
              "          document.querySelector('#df-3c7fb3bf-2b4e-48e0-a4dd-73705f251da8 button.colab-df-convert');\n",
              "        buttonEl.style.display =\n",
              "          google.colab.kernel.accessAllowed ? 'block' : 'none';\n",
              "\n",
              "        async function convertToInteractive(key) {\n",
              "          const element = document.querySelector('#df-3c7fb3bf-2b4e-48e0-a4dd-73705f251da8');\n",
              "          const dataTable =\n",
              "            await google.colab.kernel.invokeFunction('convertToInteractive',\n",
              "                                                     [key], {});\n",
              "          if (!dataTable) return;\n",
              "\n",
              "          const docLinkHtml = 'Like what you see? Visit the ' +\n",
              "            '<a target=\"_blank\" href=https://colab.research.google.com/notebooks/data_table.ipynb>data table notebook</a>'\n",
              "            + ' to learn more about interactive tables.';\n",
              "          element.innerHTML = '';\n",
              "          dataTable['output_type'] = 'display_data';\n",
              "          await google.colab.output.renderOutput(dataTable, element);\n",
              "          const docLink = document.createElement('div');\n",
              "          docLink.innerHTML = docLinkHtml;\n",
              "          element.appendChild(docLink);\n",
              "        }\n",
              "      </script>\n",
              "    </div>\n",
              "  </div>\n",
              "  "
            ]
          },
          "metadata": {},
          "execution_count": 113
        }
      ]
    },
    {
      "cell_type": "code",
      "source": [
        "from sklearn.feature_selection import mutual_info_classif\n",
        "mutual_info=mutual_info_classif(X,Y)\n",
        "\n",
        "mutual_data=pd.Series(mutual_info,index=X.columns)\n",
        "mutual_data.sort_values(ascending=False)\n",
        "\n",
        "print(mutual_data.nlargest(6))\n",
        "\n",
        "mutual_data.nlargest(6).plot(kind='barh')\n",
        "plt.show()"
      ],
      "metadata": {
        "colab": {
          "base_uri": "https://localhost:8080/",
          "height": 389
        },
        "id": "E-PfjP5SzFXl",
        "outputId": "b40447ae-7f3e-4097-9a00-12d9b84f98a6"
      },
      "execution_count": 114,
      "outputs": [
        {
          "output_type": "stream",
          "name": "stdout",
          "text": [
            "Cerv_Wid_cms      0.205556\n",
            "Cerv_Len_cms      0.192950\n",
            "BMI               0.155830\n",
            "Age               0.062758\n",
            "Ob_Score          0.042225\n",
            "Position_Score    0.030657\n",
            "dtype: float64\n"
          ]
        },
        {
          "output_type": "display_data",
          "data": {
            "text/plain": [
              "<Figure size 432x288 with 1 Axes>"
            ],
            "image/png": "[encoded data removed]"
          },
          "metadata": {
            "needs_background": "light"
          }
        }
      ]
    },
    {
      "cell_type": "code",
      "source": [
        "X.corr()"
      ],
      "metadata": {
        "colab": {
          "base_uri": "https://localhost:8080/",
          "height": 458
        },
        "id": "R6BEksa71jwF",
        "outputId": "de501169-a9ba-42f0-f343-155310fed40b"
      },
      "execution_count": 115,
      "outputs": [
        {
          "output_type": "execute_result",
          "data": {
            "text/plain": [
              "                         Age  Ob_Score       BMI  Position_Score  \\\n",
              "Age                 1.000000       NaN  0.123797        0.169769   \n",
              "Ob_Score                 NaN       NaN       NaN             NaN   \n",
              "BMI                 0.123797       NaN  1.000000       -0.272309   \n",
              "Position_Score      0.169769       NaN -0.272309        1.000000   \n",
              "Effacement_Score    0.101386       NaN -0.091017        0.306433   \n",
              "Dialation_Score    -0.121587       NaN -0.040565        0.069970   \n",
              "Station_Score            NaN       NaN       NaN             NaN   \n",
              "Total_Bishop_Score  0.116852       NaN -0.143398        0.604094   \n",
              "Cerv_Len_cms        0.349887       NaN  0.003799       -0.055794   \n",
              "Cerv_Wid_cms       -0.067838       NaN  0.089321        0.066978   \n",
              "Induction                NaN       NaN       NaN             NaN   \n",
              "\n",
              "                    Effacement_Score  Dialation_Score  Station_Score  \\\n",
              "Age                         0.101386        -0.121587            NaN   \n",
              "Ob_Score                         NaN              NaN            NaN   \n",
              "BMI                        -0.091017        -0.040565            NaN   \n",
              "Position_Score              0.306433         0.069970            NaN   \n",
              "Effacement_Score            1.000000         0.211679            NaN   \n",
              "Dialation_Score             0.211679         1.000000            NaN   \n",
              "Station_Score                    NaN              NaN            NaN   \n",
              "Total_Bishop_Score          0.667721         0.560480            NaN   \n",
              "Cerv_Len_cms               -0.454967        -0.248567            NaN   \n",
              "Cerv_Wid_cms                0.224209         0.157385            NaN   \n",
              "Induction                        NaN              NaN            NaN   \n",
              "\n",
              "                    Total_Bishop_Score  Cerv_Len_cms  Cerv_Wid_cms  Induction  \n",
              "Age                           0.116852      0.349887     -0.067838        NaN  \n",
              "Ob_Score                           NaN           NaN           NaN        NaN  \n",
              "BMI                          -0.143398      0.003799      0.089321        NaN  \n",
              "Position_Score                0.604094     -0.055794      0.066978        NaN  \n",
              "Effacement_Score              0.667721     -0.454967      0.224209        NaN  \n",
              "Dialation_Score               0.560480     -0.248567      0.157385        NaN  \n",
              "Station_Score                      NaN           NaN           NaN        NaN  \n",
              "Total_Bishop_Score            1.000000     -0.398518      0.200704        NaN  \n",
              "Cerv_Len_cms                 -0.398518      1.000000     -0.123929        NaN  \n",
              "Cerv_Wid_cms                  0.200704     -0.123929      1.000000        NaN  \n",
              "Induction                          NaN           NaN           NaN        NaN  "
            ],
            "text/html": [
              "\n",
              "  <div id=\"df-ddda52c6-dcec-43e3-b44e-30f4e71f6639\">\n",
              "    <div class=\"colab-df-container\">\n",
              "      <div>\n",
              "<style scoped>\n",
              "    .dataframe tbody tr th:only-of-type {\n",
              "        vertical-align: middle;\n",
              "    }\n",
              "\n",
              "    .dataframe tbody tr th {\n",
              "        vertical-align: top;\n",
              "    }\n",
              "\n",
              "    .dataframe thead th {\n",
              "        text-align: right;\n",
              "    }\n",
              "</style>\n",
              "<table border=\"1\" class=\"dataframe\">\n",
              "  <thead>\n",
              "    <tr style=\"text-align: right;\">\n",
              "      <th></th>\n",
              "      <th>Age</th>\n",
              "      <th>Ob_Score</th>\n",
              "      <th>BMI</th>\n",
              "      <th>Position_Score</th>\n",
              "      <th>Effacement_Score</th>\n",
              "      <th>Dialation_Score</th>\n",
              "      <th>Station_Score</th>\n",
              "      <th>Total_Bishop_Score</th>\n",
              "      <th>Cerv_Len_cms</th>\n",
              "      <th>Cerv_Wid_cms</th>\n",
              "      <th>Induction</th>\n",
              "    </tr>\n",
              "  </thead>\n",
              "  <tbody>\n",
              "    <tr>\n",
              "      <th>Age</th>\n",
              "      <td>1.000000</td>\n",
              "      <td>NaN</td>\n",
              "      <td>0.123797</td>\n",
              "      <td>0.169769</td>\n",
              "      <td>0.101386</td>\n",
              "      <td>-0.121587</td>\n",
              "      <td>NaN</td>\n",
              "      <td>0.116852</td>\n",
              "      <td>0.349887</td>\n",
              "      <td>-0.067838</td>\n",
              "      <td>NaN</td>\n",
              "    </tr>\n",
              "    <tr>\n",
              "      <th>Ob_Score</th>\n",
              "      <td>NaN</td>\n",
              "      <td>NaN</td>\n",
              "      <td>NaN</td>\n",
              "      <td>NaN</td>\n",
              "      <td>NaN</td>\n",
              "      <td>NaN</td>\n",
              "      <td>NaN</td>\n",
              "      <td>NaN</td>\n",
              "      <td>NaN</td>\n",
              "      <td>NaN</td>\n",
              "      <td>NaN</td>\n",
              "    </tr>\n",
              "    <tr>\n",
              "      <th>BMI</th>\n",
              "      <td>0.123797</td>\n",
              "      <td>NaN</td>\n",
              "      <td>1.000000</td>\n",
              "      <td>-0.272309</td>\n",
              "      <td>-0.091017</td>\n",
              "      <td>-0.040565</td>\n",
              "      <td>NaN</td>\n",
              "      <td>-0.143398</td>\n",
              "      <td>0.003799</td>\n",
              "      <td>0.089321</td>\n",
              "      <td>NaN</td>\n",
              "    </tr>\n",
              "    <tr>\n",
              "      <th>Position_Score</th>\n",
              "      <td>0.169769</td>\n",
              "      <td>NaN</td>\n",
              "      <td>-0.272309</td>\n",
              "      <td>1.000000</td>\n",
              "      <td>0.306433</td>\n",
              "      <td>0.069970</td>\n",
              "      <td>NaN</td>\n",
              "      <td>0.604094</td>\n",
              "      <td>-0.055794</td>\n",
              "      <td>0.066978</td>\n",
              "      <td>NaN</td>\n",
              "    </tr>\n",
              "    <tr>\n",
              "      <th>Effacement_Score</th>\n",
              "      <td>0.101386</td>\n",
              "      <td>NaN</td>\n",
              "      <td>-0.091017</td>\n",
              "      <td>0.306433</td>\n",
              "      <td>1.000000</td>\n",
              "      <td>0.211679</td>\n",
              "      <td>NaN</td>\n",
              "      <td>0.667721</td>\n",
              "      <td>-0.454967</td>\n",
              "      <td>0.224209</td>\n",
              "      <td>NaN</td>\n",
              "    </tr>\n",
              "    <tr>\n",
              "      <th>Dialation_Score</th>\n",
              "      <td>-0.121587</td>\n",
              "      <td>NaN</td>\n",
              "      <td>-0.040565</td>\n",
              "      <td>0.069970</td>\n",
              "      <td>0.211679</td>\n",
              "      <td>1.000000</td>\n",
              "      <td>NaN</td>\n",
              "      <td>0.560480</td>\n",
              "      <td>-0.248567</td>\n",
              "      <td>0.157385</td>\n",
              "      <td>NaN</td>\n",
              "    </tr>\n",
              "    <tr>\n",
              "      <th>Station_Score</th>\n",
              "      <td>NaN</td>\n",
              "      <td>NaN</td>\n",
              "      <td>NaN</td>\n",
              "      <td>NaN</td>\n",
              "      <td>NaN</td>\n",
              "      <td>NaN</td>\n",
              "      <td>NaN</td>\n",
              "      <td>NaN</td>\n",
              "      <td>NaN</td>\n",
              "      <td>NaN</td>\n",
              "      <td>NaN</td>\n",
              "    </tr>\n",
              "    <tr>\n",
              "      <th>Total_Bishop_Score</th>\n",
              "      <td>0.116852</td>\n",
              "      <td>NaN</td>\n",
              "      <td>-0.143398</td>\n",
              "      <td>0.604094</td>\n",
              "      <td>0.667721</td>\n",
              "      <td>0.560480</td>\n",
              "      <td>NaN</td>\n",
              "      <td>1.000000</td>\n",
              "      <td>-0.398518</td>\n",
              "      <td>0.200704</td>\n",
              "      <td>NaN</td>\n",
              "    </tr>\n",
              "    <tr>\n",
              "      <th>Cerv_Len_cms</th>\n",
              "      <td>0.349887</td>\n",
              "      <td>NaN</td>\n",
              "      <td>0.003799</td>\n",
              "      <td>-0.055794</td>\n",
              "      <td>-0.454967</td>\n",
              "      <td>-0.248567</td>\n",
              "      <td>NaN</td>\n",
              "      <td>-0.398518</td>\n",
              "      <td>1.000000</td>\n",
              "      <td>-0.123929</td>\n",
              "      <td>NaN</td>\n",
              "    </tr>\n",
              "    <tr>\n",
              "      <th>Cerv_Wid_cms</th>\n",
              "      <td>-0.067838</td>\n",
              "      <td>NaN</td>\n",
              "      <td>0.089321</td>\n",
              "      <td>0.066978</td>\n",
              "      <td>0.224209</td>\n",
              "      <td>0.157385</td>\n",
              "      <td>NaN</td>\n",
              "      <td>0.200704</td>\n",
              "      <td>-0.123929</td>\n",
              "      <td>1.000000</td>\n",
              "      <td>NaN</td>\n",
              "    </tr>\n",
              "    <tr>\n",
              "      <th>Induction</th>\n",
              "      <td>NaN</td>\n",
              "      <td>NaN</td>\n",
              "      <td>NaN</td>\n",
              "      <td>NaN</td>\n",
              "      <td>NaN</td>\n",
              "      <td>NaN</td>\n",
              "      <td>NaN</td>\n",
              "      <td>NaN</td>\n",
              "      <td>NaN</td>\n",
              "      <td>NaN</td>\n",
              "      <td>NaN</td>\n",
              "    </tr>\n",
              "  </tbody>\n",
              "</table>\n",
              "</div>\n",
              "      <button class=\"colab-df-convert\" onclick=\"convertToInteractive('df-ddda52c6-dcec-43e3-b44e-30f4e71f6639')\"\n",
              "              title=\"Convert this dataframe to an interactive table.\"\n",
              "              style=\"display:none;\">\n",
              "        \n",
              "  <svg xmlns=\"http://www.w3.org/2000/svg\" height=\"24px\"viewBox=\"0 0 24 24\"\n",
              "       width=\"24px\">\n",
              "    <path d=\"M0 0h24v24H0V0z\" fill=\"none\"/>\n",
              "    <path d=\"M18.56 5.44l.94 2.06.94-2.06 2.06-.94-2.06-.94-.94-2.06-.94 2.06-2.06.94zm-11 1L8.5 8.5l.94-2.06 2.06-.94-2.06-.94L8.5 2.5l-.94 2.06-2.06.94zm10 10l.94 2.06.94-2.06 2.06-.94-2.06-.94-.94-2.06-.94 2.06-2.06.94z\"/><path d=\"M17.41 7.96l-1.37-1.37c-.4-.4-.92-.59-1.43-.59-.52 0-1.04.2-1.43.59L10.3 9.45l-7.72 7.72c-.78.78-.78 2.05 0 2.83L4 21.41c.39.39.9.59 1.41.59.51 0 1.02-.2 1.41-.59l7.78-7.78 2.81-2.81c.8-.78.8-2.07 0-2.86zM5.41 20L4 18.59l7.72-7.72 1.47 1.35L5.41 20z\"/>\n",
              "  </svg>\n",
              "      </button>\n",
              "      \n",
              "  <style>\n",
              "    .colab-df-container {\n",
              "      display:flex;\n",
              "      flex-wrap:wrap;\n",
              "      gap: 12px;\n",
              "    }\n",
              "\n",
              "    .colab-df-convert {\n",
              "      background-color: #E8F0FE;\n",
              "      border: none;\n",
              "      border-radius: 50%;\n",
              "      cursor: pointer;\n",
              "      display: none;\n",
              "      fill: #1967D2;\n",
              "      height: 32px;\n",
              "      padding: 0 0 0 0;\n",
              "      width: 32px;\n",
              "    }\n",
              "\n",
              "    .colab-df-convert:hover {\n",
              "      background-color: #E2EBFA;\n",
              "      box-shadow: 0px 1px 2px rgba(60, 64, 67, 0.3), 0px 1px 3px 1px rgba(60, 64, 67, 0.15);\n",
              "      fill: #174EA6;\n",
              "    }\n",
              "\n",
              "    [theme=dark] .colab-df-convert {\n",
              "      background-color: #3B4455;\n",
              "      fill: #D2E3FC;\n",
              "    }\n",
              "\n",
              "    [theme=dark] .colab-df-convert:hover {\n",
              "      background-color: #434B5C;\n",
              "      box-shadow: 0px 1px 3px 1px rgba(0, 0, 0, 0.15);\n",
              "      filter: drop-shadow(0px 1px 2px rgba(0, 0, 0, 0.3));\n",
              "      fill: #FFFFFF;\n",
              "    }\n",
              "  </style>\n",
              "\n",
              "      <script>\n",
              "        const buttonEl =\n",
              "          document.querySelector('#df-ddda52c6-dcec-43e3-b44e-30f4e71f6639 button.colab-df-convert');\n",
              "        buttonEl.style.display =\n",
              "          google.colab.kernel.accessAllowed ? 'block' : 'none';\n",
              "\n",
              "        async function convertToInteractive(key) {\n",
              "          const element = document.querySelector('#df-ddda52c6-dcec-43e3-b44e-30f4e71f6639');\n",
              "          const dataTable =\n",
              "            await google.colab.kernel.invokeFunction('convertToInteractive',\n",
              "                                                     [key], {});\n",
              "          if (!dataTable) return;\n",
              "\n",
              "          const docLinkHtml = 'Like what you see? Visit the ' +\n",
              "            '<a target=\"_blank\" href=https://colab.research.google.com/notebooks/data_table.ipynb>data table notebook</a>'\n",
              "            + ' to learn more about interactive tables.';\n",
              "          element.innerHTML = '';\n",
              "          dataTable['output_type'] = 'display_data';\n",
              "          await google.colab.output.renderOutput(dataTable, element);\n",
              "          const docLink = document.createElement('div');\n",
              "          docLink.innerHTML = docLinkHtml;\n",
              "          element.appendChild(docLink);\n",
              "        }\n",
              "      </script>\n",
              "    </div>\n",
              "  </div>\n",
              "  "
            ]
          },
          "metadata": {},
          "execution_count": 115
        }
      ]
    },
    {
      "cell_type": "code",
      "source": [
        "threshold=0.2\n",
        "\n",
        "# find and remove correlated features\n",
        "def correlation(df1, threshold):\n",
        "    col_corr = set()  # Set of all the names of correlated columns\n",
        "    corr_matrix = df1.corr()\n",
        "    for i in range(len(corr_matrix.columns)):\n",
        "        for j in range(i):\n",
        "            if abs(corr_matrix.iloc[i, j]) > threshold: # we are interested in absolute coeff value\n",
        "                colname = corr_matrix.columns[i]  # getting the name of column\n",
        "                col_corr.add(colname)\n",
        "    return col_corr"
      ],
      "metadata": {
        "id": "ll2eZlfn1F6h"
      },
      "execution_count": 116,
      "outputs": []
    },
    {
      "cell_type": "code",
      "source": [
        "correlation(df1.iloc[:,:-1],threshold)"
      ],
      "metadata": {
        "colab": {
          "base_uri": "https://localhost:8080/"
        },
        "id": "jMQ2I-8S2dsC",
        "outputId": "2730b8d8-dac5-4f33-bbe6-bcc5bc1ac79a"
      },
      "execution_count": 117,
      "outputs": [
        {
          "output_type": "execute_result",
          "data": {
            "text/plain": [
              "{'Cerv_Len_cms',\n",
              " 'Cerv_Wid_cms',\n",
              " 'Dialation_Score',\n",
              " 'Effacement_Score',\n",
              " 'Position_Score',\n",
              " 'Total_Bishop_Score'}"
            ]
          },
          "metadata": {},
          "execution_count": 117
        }
      ]
    },
    {
      "cell_type": "markdown",
      "source": [
        "**Multicolinearity**"
      ],
      "metadata": {
        "id": "1_Sk6O9436yU"
      }
    },
    {
      "cell_type": "code",
      "source": [
        "VIF = []\n",
        "from statsmodels.stats.outliers_influence import variance_inflation_factor\n",
        "for j in range(X.shape[1]):\n",
        "    VIF.append(variance_inflation_factor(X.values,j))\n",
        "print(VIF)\n",
        "\n",
        "import numpy as np\n",
        "np.transpose(VIF)\n",
        "pd.DataFrame(X.columns)\n",
        "pd.DataFrame(np.transpose(VIF))\n",
        "pd.concat([pd.DataFrame(X.columns),pd.DataFrame(np.transpose(VIF))], axis =1)"
      ],
      "metadata": {
        "colab": {
          "base_uri": "https://localhost:8080/",
          "height": 466
        },
        "id": "3m_4LZbW3wTo",
        "outputId": "abd677ae-d96e-472c-92a9-b02eb84c5482"
      },
      "execution_count": 118,
      "outputs": [
        {
          "output_type": "stream",
          "name": "stdout",
          "text": [
            "[1.4215549581314992, nan, 1.1538938669386343, 2.2903059654707376, 2.354597744569187, 2.1172292927418987, nan, 5.504588225292283, 1.7243162197534139, 1.097047737744582, 339.15059230837716]\n"
          ]
        },
        {
          "output_type": "stream",
          "name": "stderr",
          "text": [
            "/usr/local/lib/python3.7/dist-packages/statsmodels/regression/linear_model.py:1636: RuntimeWarning: invalid value encountered in double_scalars\n",
            "  return 1 - self.ssr/self.centered_tss\n"
          ]
        },
        {
          "output_type": "execute_result",
          "data": {
            "text/plain": [
              "                     0           0\n",
              "0                  Age    1.421555\n",
              "1             Ob_Score         NaN\n",
              "2                  BMI    1.153894\n",
              "3       Position_Score    2.290306\n",
              "4     Effacement_Score    2.354598\n",
              "5      Dialation_Score    2.117229\n",
              "6        Station_Score         NaN\n",
              "7   Total_Bishop_Score    5.504588\n",
              "8         Cerv_Len_cms    1.724316\n",
              "9         Cerv_Wid_cms    1.097048\n",
              "10           Induction  339.150592"
            ],
            "text/html": [
              "\n",
              "  <div id=\"df-e2e7cdad-4dd8-4e43-a4bf-aa773e1e582f\">\n",
              "    <div class=\"colab-df-container\">\n",
              "      <div>\n",
              "<style scoped>\n",
              "    .dataframe tbody tr th:only-of-type {\n",
              "        vertical-align: middle;\n",
              "    }\n",
              "\n",
              "    .dataframe tbody tr th {\n",
              "        vertical-align: top;\n",
              "    }\n",
              "\n",
              "    .dataframe thead th {\n",
              "        text-align: right;\n",
              "    }\n",
              "</style>\n",
              "<table border=\"1\" class=\"dataframe\">\n",
              "  <thead>\n",
              "    <tr style=\"text-align: right;\">\n",
              "      <th></th>\n",
              "      <th>0</th>\n",
              "      <th>0</th>\n",
              "    </tr>\n",
              "  </thead>\n",
              "  <tbody>\n",
              "    <tr>\n",
              "      <th>0</th>\n",
              "      <td>Age</td>\n",
              "      <td>1.421555</td>\n",
              "    </tr>\n",
              "    <tr>\n",
              "      <th>1</th>\n",
              "      <td>Ob_Score</td>\n",
              "      <td>NaN</td>\n",
              "    </tr>\n",
              "    <tr>\n",
              "      <th>2</th>\n",
              "      <td>BMI</td>\n",
              "      <td>1.153894</td>\n",
              "    </tr>\n",
              "    <tr>\n",
              "      <th>3</th>\n",
              "      <td>Position_Score</td>\n",
              "      <td>2.290306</td>\n",
              "    </tr>\n",
              "    <tr>\n",
              "      <th>4</th>\n",
              "      <td>Effacement_Score</td>\n",
              "      <td>2.354598</td>\n",
              "    </tr>\n",
              "    <tr>\n",
              "      <th>5</th>\n",
              "      <td>Dialation_Score</td>\n",
              "      <td>2.117229</td>\n",
              "    </tr>\n",
              "    <tr>\n",
              "      <th>6</th>\n",
              "      <td>Station_Score</td>\n",
              "      <td>NaN</td>\n",
              "    </tr>\n",
              "    <tr>\n",
              "      <th>7</th>\n",
              "      <td>Total_Bishop_Score</td>\n",
              "      <td>5.504588</td>\n",
              "    </tr>\n",
              "    <tr>\n",
              "      <th>8</th>\n",
              "      <td>Cerv_Len_cms</td>\n",
              "      <td>1.724316</td>\n",
              "    </tr>\n",
              "    <tr>\n",
              "      <th>9</th>\n",
              "      <td>Cerv_Wid_cms</td>\n",
              "      <td>1.097048</td>\n",
              "    </tr>\n",
              "    <tr>\n",
              "      <th>10</th>\n",
              "      <td>Induction</td>\n",
              "      <td>339.150592</td>\n",
              "    </tr>\n",
              "  </tbody>\n",
              "</table>\n",
              "</div>\n",
              "      <button class=\"colab-df-convert\" onclick=\"convertToInteractive('df-e2e7cdad-4dd8-4e43-a4bf-aa773e1e582f')\"\n",
              "              title=\"Convert this dataframe to an interactive table.\"\n",
              "              style=\"display:none;\">\n",
              "        \n",
              "  <svg xmlns=\"http://www.w3.org/2000/svg\" height=\"24px\"viewBox=\"0 0 24 24\"\n",
              "       width=\"24px\">\n",
              "    <path d=\"M0 0h24v24H0V0z\" fill=\"none\"/>\n",
              "    <path d=\"M18.56 5.44l.94 2.06.94-2.06 2.06-.94-2.06-.94-.94-2.06-.94 2.06-2.06.94zm-11 1L8.5 8.5l.94-2.06 2.06-.94-2.06-.94L8.5 2.5l-.94 2.06-2.06.94zm10 10l.94 2.06.94-2.06 2.06-.94-2.06-.94-.94-2.06-.94 2.06-2.06.94z\"/><path d=\"M17.41 7.96l-1.37-1.37c-.4-.4-.92-.59-1.43-.59-.52 0-1.04.2-1.43.59L10.3 9.45l-7.72 7.72c-.78.78-.78 2.05 0 2.83L4 21.41c.39.39.9.59 1.41.59.51 0 1.02-.2 1.41-.59l7.78-7.78 2.81-2.81c.8-.78.8-2.07 0-2.86zM5.41 20L4 18.59l7.72-7.72 1.47 1.35L5.41 20z\"/>\n",
              "  </svg>\n",
              "      </button>\n",
              "      \n",
              "  <style>\n",
              "    .colab-df-container {\n",
              "      display:flex;\n",
              "      flex-wrap:wrap;\n",
              "      gap: 12px;\n",
              "    }\n",
              "\n",
              "    .colab-df-convert {\n",
              "      background-color: #E8F0FE;\n",
              "      border: none;\n",
              "      border-radius: 50%;\n",
              "      cursor: pointer;\n",
              "      display: none;\n",
              "      fill: #1967D2;\n",
              "      height: 32px;\n",
              "      padding: 0 0 0 0;\n",
              "      width: 32px;\n",
              "    }\n",
              "\n",
              "    .colab-df-convert:hover {\n",
              "      background-color: #E2EBFA;\n",
              "      box-shadow: 0px 1px 2px rgba(60, 64, 67, 0.3), 0px 1px 3px 1px rgba(60, 64, 67, 0.15);\n",
              "      fill: #174EA6;\n",
              "    }\n",
              "\n",
              "    [theme=dark] .colab-df-convert {\n",
              "      background-color: #3B4455;\n",
              "      fill: #D2E3FC;\n",
              "    }\n",
              "\n",
              "    [theme=dark] .colab-df-convert:hover {\n",
              "      background-color: #434B5C;\n",
              "      box-shadow: 0px 1px 3px 1px rgba(0, 0, 0, 0.15);\n",
              "      filter: drop-shadow(0px 1px 2px rgba(0, 0, 0, 0.3));\n",
              "      fill: #FFFFFF;\n",
              "    }\n",
              "  </style>\n",
              "\n",
              "      <script>\n",
              "        const buttonEl =\n",
              "          document.querySelector('#df-e2e7cdad-4dd8-4e43-a4bf-aa773e1e582f button.colab-df-convert');\n",
              "        buttonEl.style.display =\n",
              "          google.colab.kernel.accessAllowed ? 'block' : 'none';\n",
              "\n",
              "        async function convertToInteractive(key) {\n",
              "          const element = document.querySelector('#df-e2e7cdad-4dd8-4e43-a4bf-aa773e1e582f');\n",
              "          const dataTable =\n",
              "            await google.colab.kernel.invokeFunction('convertToInteractive',\n",
              "                                                     [key], {});\n",
              "          if (!dataTable) return;\n",
              "\n",
              "          const docLinkHtml = 'Like what you see? Visit the ' +\n",
              "            '<a target=\"_blank\" href=https://colab.research.google.com/notebooks/data_table.ipynb>data table notebook</a>'\n",
              "            + ' to learn more about interactive tables.';\n",
              "          element.innerHTML = '';\n",
              "          dataTable['output_type'] = 'display_data';\n",
              "          await google.colab.output.renderOutput(dataTable, element);\n",
              "          const docLink = document.createElement('div');\n",
              "          docLink.innerHTML = docLinkHtml;\n",
              "          element.appendChild(docLink);\n",
              "        }\n",
              "      </script>\n",
              "    </div>\n",
              "  </div>\n",
              "  "
            ]
          },
          "metadata": {},
          "execution_count": 118
        }
      ]
    },
    {
      "cell_type": "markdown",
      "source": [
        "After applying Multiple feature selection techniques and Multicolinearity, we can use the below features for our analysis:\n",
        "\n",
        "Age, BMI, Cerv_Len_cms, Cerv_Wid_cms, Position_Score"
      ],
      "metadata": {
        "id": "SVPirdUifz-a"
      }
    },
    {
      "cell_type": "code",
      "source": [
        "X=df1[['Age', 'BMI', 'Cerv_Len_cms', 'Cerv_Wid_cms', 'Position_Score','Total_Bishop_Score']]\n",
        "Y=df1['Del_mode']"
      ],
      "metadata": {
        "id": "vzbVl10flhP-"
      },
      "execution_count": 119,
      "outputs": []
    },
    {
      "cell_type": "code",
      "source": [
        "# Scaling the data\n",
        "\n",
        "#from sklearn.preprocessing import StandardScaler\n",
        "#sc = StandardScaler()\n",
        "#x_scale = sc.fit_transform(X)"
      ],
      "metadata": {
        "id": "iPJg_sHVPFSH"
      },
      "execution_count": 120,
      "outputs": []
    },
    {
      "cell_type": "code",
      "source": [
        "from sklearn import preprocessing\n",
        "scaler = preprocessing.RobustScaler()\n",
        "x_scale = scaler.fit_transform(X)"
      ],
      "metadata": {
        "id": "xr8Y94stga9v"
      },
      "execution_count": 121,
      "outputs": []
    },
    {
      "cell_type": "code",
      "source": [
        "# Train and Test Split\n",
        "from sklearn.model_selection import train_test_split\n",
        "X_train,X_test,Y_train,Y_test = train_test_split(x_scale,Y,test_size = 0.3, random_state=0,stratify=Y)"
      ],
      "metadata": {
        "id": "AOmzkNNiPIPm"
      },
      "execution_count": 122,
      "outputs": []
    },
    {
      "cell_type": "code",
      "source": [
        "X_train.shape ,X_test.shape ,Y_train.shape,Y_test.shape"
      ],
      "metadata": {
        "colab": {
          "base_uri": "https://localhost:8080/"
        },
        "id": "wez9HmrwPMmx",
        "outputId": "bd2deb18-2ab6-425f-909f-0b2762e4884e"
      },
      "execution_count": 123,
      "outputs": [
        {
          "output_type": "execute_result",
          "data": {
            "text/plain": [
              "((512, 6), (220, 6), (512,), (220,))"
            ]
          },
          "metadata": {},
          "execution_count": 123
        }
      ]
    },
    {
      "cell_type": "code",
      "source": [
        "\"\"\"**SMOTE Sampling**\"\"\"\n",
        "from collections import Counter\n",
        "from imblearn.over_sampling import SMOTE\n",
        "sm = SMOTE(random_state=42)\n",
        "X_train_SM, Y_train_SM = sm.fit_resample(X_train, Y_train)\n",
        "\n",
        "print(\"The number of classes before fit {}\".format(Counter(Y_train)))\n",
        "print(\"The number of classes after fit {}\".format(Counter(Y_train_SM)))"
      ],
      "metadata": {
        "colab": {
          "base_uri": "https://localhost:8080/"
        },
        "id": "K45L2yLtPRtE",
        "outputId": "fc1db043-99e0-4c44-99b7-2605e65eba83"
      },
      "execution_count": 124,
      "outputs": [
        {
          "output_type": "stream",
          "name": "stdout",
          "text": [
            "The number of classes before fit Counter({0.0: 364, 1.0: 148})\n",
            "The number of classes after fit Counter({1.0: 364, 0.0: 364})\n"
          ]
        }
      ]
    },
    {
      "cell_type": "code",
      "source": [
        "\"\"\"**Logistic Regression with SMOTE Sampling**\"\"\"\n",
        "\n",
        "from sklearn.linear_model import LogisticRegression\n",
        "from sklearn.metrics import confusion_matrix,accuracy_score,classification_report\n",
        "logreg = LogisticRegression()\n",
        "logreg.fit(X_train_SM,Y_train_SM)\n",
        "y_pred_lr_SM = logreg.predict(X_test)\n",
        "\n",
        "print(confusion_matrix(Y_test,y_pred_lr_SM))\n",
        "print(accuracy_score(Y_test,y_pred_lr_SM))\n",
        "print(classification_report(Y_test,y_pred_lr_SM))"
      ],
      "metadata": {
        "colab": {
          "base_uri": "https://localhost:8080/"
        },
        "id": "9gZZDaSuPr2a",
        "outputId": "48ee04a4-7dab-4bf4-d183-11094bb52f1a"
      },
      "execution_count": 125,
      "outputs": [
        {
          "output_type": "stream",
          "name": "stdout",
          "text": [
            "[[123  34]\n",
            " [ 14  49]]\n",
            "0.7818181818181819\n",
            "              precision    recall  f1-score   support\n",
            "\n",
            "         0.0       0.90      0.78      0.84       157\n",
            "         1.0       0.59      0.78      0.67        63\n",
            "\n",
            "    accuracy                           0.78       220\n",
            "   macro avg       0.74      0.78      0.75       220\n",
            "weighted avg       0.81      0.78      0.79       220\n",
            "\n"
          ]
        }
      ]
    },
    {
      "cell_type": "code",
      "source": [
        "\"\"\"**KNN with SMOTE sampling**\"\"\"\n",
        "\n",
        "from sklearn.neighbors import KNeighborsClassifier\n",
        "knn_clf = KNeighborsClassifier(n_neighbors=1, p=2) \n",
        "knn_clf.fit(X_train_SM,Y_train_SM)\n",
        "Y_pred_knn_SM = knn_clf.predict(X_test)\n",
        "\n",
        "print(confusion_matrix(Y_test,Y_pred_knn_SM))\n",
        "print(accuracy_score(Y_test,Y_pred_knn_SM))\n",
        "print(classification_report(Y_test,Y_pred_knn_SM))\n"
      ],
      "metadata": {
        "colab": {
          "base_uri": "https://localhost:8080/"
        },
        "id": "MSLFT2ozPyjs",
        "outputId": "702b89bb-843b-4b42-9c76-c0688457f38b"
      },
      "execution_count": 126,
      "outputs": [
        {
          "output_type": "stream",
          "name": "stdout",
          "text": [
            "[[147  10]\n",
            " [ 12  51]]\n",
            "0.9\n",
            "              precision    recall  f1-score   support\n",
            "\n",
            "         0.0       0.92      0.94      0.93       157\n",
            "         1.0       0.84      0.81      0.82        63\n",
            "\n",
            "    accuracy                           0.90       220\n",
            "   macro avg       0.88      0.87      0.88       220\n",
            "weighted avg       0.90      0.90      0.90       220\n",
            "\n"
          ]
        }
      ]
    },
    {
      "cell_type": "code",
      "source": [
        "kn_score1 = []\n",
        "neighbors = range(1,20)\n",
        "\n",
        "for i in neighbors:\n",
        "        knn_clf = KNeighborsClassifier(n_neighbors=i, p=2)\n",
        "        knn_clf.fit(X_train_SM,Y_train_SM)\n",
        "        Y_pred_knn_SM = knn_clf.predict(X_test)\n",
        "        kn_score1.append(accuracy_score(Y_test,Y_pred_knn_SM))\n",
        "\n",
        "print(kn_score1)"
      ],
      "metadata": {
        "colab": {
          "base_uri": "https://localhost:8080/"
        },
        "id": "X_F3A4SMP5gV",
        "outputId": "4dc0c7af-ab90-42d9-c33b-d62db2f4beb5"
      },
      "execution_count": 127,
      "outputs": [
        {
          "output_type": "stream",
          "name": "stdout",
          "text": [
            "[0.9, 0.9045454545454545, 0.8863636363636364, 0.8909090909090909, 0.8590909090909091, 0.8818181818181818, 0.8545454545454545, 0.8772727272727273, 0.8727272727272727, 0.8636363636363636, 0.8318181818181818, 0.8363636363636363, 0.8409090909090909, 0.8454545454545455, 0.8181818181818182, 0.8227272727272728, 0.7818181818181819, 0.8, 0.7681818181818182]\n"
          ]
        }
      ]
    },
    {
      "cell_type": "code",
      "source": [
        "plt.plot(neighbors,kn_score1, label = \"test error\")\n",
        "plt.ylabel(\"accuracy\")\n",
        "plt.xlabel(\"neighbors\")\n",
        "plt.legend()"
      ],
      "metadata": {
        "colab": {
          "base_uri": "https://localhost:8080/",
          "height": 302
        },
        "id": "8cW6Up0xP95Y",
        "outputId": "9dcb7ebf-067d-43b4-c0a3-cb32ae253fa1"
      },
      "execution_count": 128,
      "outputs": [
        {
          "output_type": "execute_result",
          "data": {
            "text/plain": [
              "<matplotlib.legend.Legend at 0x7f0521c2a510>"
            ]
          },
          "metadata": {},
          "execution_count": 128
        },
        {
          "output_type": "display_data",
          "data": {
            "text/plain": [
              "<Figure size 432x288 with 1 Axes>"
            ],
            "image/png": "[encoded data removed]"
          },
          "metadata": {
            "needs_background": "light"
          }
        }
      ]
    },
    {
      "cell_type": "code",
      "source": [
        "\n",
        "\"\"\"**Support vector machine**\"\"\"\n",
        "# Manual Hyper parameter Tunning\n",
        "\n",
        "from sklearn.svm import SVC\n",
        "\n",
        "svm = SVC(kernel = \"linear\", gamma = \"auto\")\n",
        "svm.fit(X_train_SM,Y_train_SM)\n",
        "Y_pred_svm_linear_SM = svm.predict(X_test)\n",
        "\n",
        "print(confusion_matrix(Y_test,Y_pred_svm_linear_SM))\n",
        "print(accuracy_score(Y_test,Y_pred_svm_linear_SM))\n",
        "print(classification_report(Y_test,Y_pred_svm_linear_SM))\n",
        "\n",
        "svm = SVC(kernel = \"rbf\", gamma = \"auto\")\n",
        "svm.fit(X_train_SM,Y_train_SM)\n",
        "Y_pred_svm_rbf_SM = svm.predict(X_test)\n",
        "\n",
        "print(confusion_matrix(Y_test,Y_pred_svm_rbf_SM))\n",
        "print(accuracy_score(Y_test,Y_pred_svm_rbf_SM))\n",
        "print(classification_report(Y_test,Y_pred_svm_rbf_SM))\n",
        "\n",
        "svm = SVC(kernel = \"poly\", gamma = \"auto\")\n",
        "svm.fit(X_train_SM,Y_train_SM)\n",
        "Y_pred_svm_poly_SM = svm.predict(X_test)\n",
        "\n",
        "print(confusion_matrix(Y_test,Y_pred_svm_poly_SM))\n",
        "print(accuracy_score(Y_test,Y_pred_svm_poly_SM))\n",
        "print(classification_report(Y_test,Y_pred_svm_poly_SM))\n"
      ],
      "metadata": {
        "colab": {
          "base_uri": "https://localhost:8080/"
        },
        "id": "k1cX_aRzQCtt",
        "outputId": "db4d5237-961f-4722-a255-55aed8ff2938"
      },
      "execution_count": 129,
      "outputs": [
        {
          "output_type": "stream",
          "name": "stdout",
          "text": [
            "[[117  40]\n",
            " [ 13  50]]\n",
            "0.759090909090909\n",
            "              precision    recall  f1-score   support\n",
            "\n",
            "         0.0       0.90      0.75      0.82       157\n",
            "         1.0       0.56      0.79      0.65        63\n",
            "\n",
            "    accuracy                           0.76       220\n",
            "   macro avg       0.73      0.77      0.73       220\n",
            "weighted avg       0.80      0.76      0.77       220\n",
            "\n",
            "[[128  29]\n",
            " [  7  56]]\n",
            "0.8363636363636363\n",
            "              precision    recall  f1-score   support\n",
            "\n",
            "         0.0       0.95      0.82      0.88       157\n",
            "         1.0       0.66      0.89      0.76        63\n",
            "\n",
            "    accuracy                           0.84       220\n",
            "   macro avg       0.80      0.85      0.82       220\n",
            "weighted avg       0.87      0.84      0.84       220\n",
            "\n",
            "[[137  20]\n",
            " [ 18  45]]\n",
            "0.8272727272727273\n",
            "              precision    recall  f1-score   support\n",
            "\n",
            "         0.0       0.88      0.87      0.88       157\n",
            "         1.0       0.69      0.71      0.70        63\n",
            "\n",
            "    accuracy                           0.83       220\n",
            "   macro avg       0.79      0.79      0.79       220\n",
            "weighted avg       0.83      0.83      0.83       220\n",
            "\n"
          ]
        }
      ]
    },
    {
      "cell_type": "code",
      "source": [
        "from sklearn.model_selection import GridSearchCV\n",
        "from sklearn.metrics import classification_report\n",
        "from sklearn import svm\n",
        "from sklearn.svm import SVC\n",
        "clf = GridSearchCV(svm.SVC(gamma='auto'), {\n",
        "    'C': [1,10,20],\n",
        "    'kernel': ['rbf','linear','poly']\n",
        "}, cv=5, return_train_score=False)\n",
        "clf.fit(X_train_SM,Y_train_SM)\n",
        "clf.cv_results_\n",
        "\n",
        "pd.DataFrame(clf.cv_results_)[['param_C','param_kernel','mean_test_score']]"
      ],
      "metadata": {
        "colab": {
          "base_uri": "https://localhost:8080/",
          "height": 332
        },
        "id": "VL9xFVokqVpr",
        "outputId": "30c0e413-b8a8-404e-8d4f-49e56b326450"
      },
      "execution_count": 130,
      "outputs": [
        {
          "output_type": "execute_result",
          "data": {
            "text/plain": [
              "  param_C param_kernel  mean_test_score\n",
              "0       1          rbf         0.848852\n",
              "1       1       linear         0.745791\n",
              "2       1         poly         0.784336\n",
              "3      10          rbf         0.902447\n",
              "4      10       linear         0.747152\n",
              "5      10         poly         0.857109\n",
              "6      20          rbf         0.912083\n",
              "7      20       linear         0.747152\n",
              "8      20         poly         0.862607"
            ],
            "text/html": [
              "\n",
              "  <div id=\"df-99357938-8a38-48f4-9772-eafa6381d995\">\n",
              "    <div class=\"colab-df-container\">\n",
              "      <div>\n",
              "<style scoped>\n",
              "    .dataframe tbody tr th:only-of-type {\n",
              "        vertical-align: middle;\n",
              "    }\n",
              "\n",
              "    .dataframe tbody tr th {\n",
              "        vertical-align: top;\n",
              "    }\n",
              "\n",
              "    .dataframe thead th {\n",
              "        text-align: right;\n",
              "    }\n",
              "</style>\n",
              "<table border=\"1\" class=\"dataframe\">\n",
              "  <thead>\n",
              "    <tr style=\"text-align: right;\">\n",
              "      <th></th>\n",
              "      <th>param_C</th>\n",
              "      <th>param_kernel</th>\n",
              "      <th>mean_test_score</th>\n",
              "    </tr>\n",
              "  </thead>\n",
              "  <tbody>\n",
              "    <tr>\n",
              "      <th>0</th>\n",
              "      <td>1</td>\n",
              "      <td>rbf</td>\n",
              "      <td>0.848852</td>\n",
              "    </tr>\n",
              "    <tr>\n",
              "      <th>1</th>\n",
              "      <td>1</td>\n",
              "      <td>linear</td>\n",
              "      <td>0.745791</td>\n",
              "    </tr>\n",
              "    <tr>\n",
              "      <th>2</th>\n",
              "      <td>1</td>\n",
              "      <td>poly</td>\n",
              "      <td>0.784336</td>\n",
              "    </tr>\n",
              "    <tr>\n",
              "      <th>3</th>\n",
              "      <td>10</td>\n",
              "      <td>rbf</td>\n",
              "      <td>0.902447</td>\n",
              "    </tr>\n",
              "    <tr>\n",
              "      <th>4</th>\n",
              "      <td>10</td>\n",
              "      <td>linear</td>\n",
              "      <td>0.747152</td>\n",
              "    </tr>\n",
              "    <tr>\n",
              "      <th>5</th>\n",
              "      <td>10</td>\n",
              "      <td>poly</td>\n",
              "      <td>0.857109</td>\n",
              "    </tr>\n",
              "    <tr>\n",
              "      <th>6</th>\n",
              "      <td>20</td>\n",
              "      <td>rbf</td>\n",
              "      <td>0.912083</td>\n",
              "    </tr>\n",
              "    <tr>\n",
              "      <th>7</th>\n",
              "      <td>20</td>\n",
              "      <td>linear</td>\n",
              "      <td>0.747152</td>\n",
              "    </tr>\n",
              "    <tr>\n",
              "      <th>8</th>\n",
              "      <td>20</td>\n",
              "      <td>poly</td>\n",
              "      <td>0.862607</td>\n",
              "    </tr>\n",
              "  </tbody>\n",
              "</table>\n",
              "</div>\n",
              "      <button class=\"colab-df-convert\" onclick=\"convertToInteractive('df-99357938-8a38-48f4-9772-eafa6381d995')\"\n",
              "              title=\"Convert this dataframe to an interactive table.\"\n",
              "              style=\"display:none;\">\n",
              "        \n",
              "  <svg xmlns=\"http://www.w3.org/2000/svg\" height=\"24px\"viewBox=\"0 0 24 24\"\n",
              "       width=\"24px\">\n",
              "    <path d=\"M0 0h24v24H0V0z\" fill=\"none\"/>\n",
              "    <path d=\"M18.56 5.44l.94 2.06.94-2.06 2.06-.94-2.06-.94-.94-2.06-.94 2.06-2.06.94zm-11 1L8.5 8.5l.94-2.06 2.06-.94-2.06-.94L8.5 2.5l-.94 2.06-2.06.94zm10 10l.94 2.06.94-2.06 2.06-.94-2.06-.94-.94-2.06-.94 2.06-2.06.94z\"/><path d=\"M17.41 7.96l-1.37-1.37c-.4-.4-.92-.59-1.43-.59-.52 0-1.04.2-1.43.59L10.3 9.45l-7.72 7.72c-.78.78-.78 2.05 0 2.83L4 21.41c.39.39.9.59 1.41.59.51 0 1.02-.2 1.41-.59l7.78-7.78 2.81-2.81c.8-.78.8-2.07 0-2.86zM5.41 20L4 18.59l7.72-7.72 1.47 1.35L5.41 20z\"/>\n",
              "  </svg>\n",
              "      </button>\n",
              "      \n",
              "  <style>\n",
              "    .colab-df-container {\n",
              "      display:flex;\n",
              "      flex-wrap:wrap;\n",
              "      gap: 12px;\n",
              "    }\n",
              "\n",
              "    .colab-df-convert {\n",
              "      background-color: #E8F0FE;\n",
              "      border: none;\n",
              "      border-radius: 50%;\n",
              "      cursor: pointer;\n",
              "      display: none;\n",
              "      fill: #1967D2;\n",
              "      height: 32px;\n",
              "      padding: 0 0 0 0;\n",
              "      width: 32px;\n",
              "    }\n",
              "\n",
              "    .colab-df-convert:hover {\n",
              "      background-color: #E2EBFA;\n",
              "      box-shadow: 0px 1px 2px rgba(60, 64, 67, 0.3), 0px 1px 3px 1px rgba(60, 64, 67, 0.15);\n",
              "      fill: #174EA6;\n",
              "    }\n",
              "\n",
              "    [theme=dark] .colab-df-convert {\n",
              "      background-color: #3B4455;\n",
              "      fill: #D2E3FC;\n",
              "    }\n",
              "\n",
              "    [theme=dark] .colab-df-convert:hover {\n",
              "      background-color: #434B5C;\n",
              "      box-shadow: 0px 1px 3px 1px rgba(0, 0, 0, 0.15);\n",
              "      filter: drop-shadow(0px 1px 2px rgba(0, 0, 0, 0.3));\n",
              "      fill: #FFFFFF;\n",
              "    }\n",
              "  </style>\n",
              "\n",
              "      <script>\n",
              "        const buttonEl =\n",
              "          document.querySelector('#df-99357938-8a38-48f4-9772-eafa6381d995 button.colab-df-convert');\n",
              "        buttonEl.style.display =\n",
              "          google.colab.kernel.accessAllowed ? 'block' : 'none';\n",
              "\n",
              "        async function convertToInteractive(key) {\n",
              "          const element = document.querySelector('#df-99357938-8a38-48f4-9772-eafa6381d995');\n",
              "          const dataTable =\n",
              "            await google.colab.kernel.invokeFunction('convertToInteractive',\n",
              "                                                     [key], {});\n",
              "          if (!dataTable) return;\n",
              "\n",
              "          const docLinkHtml = 'Like what you see? Visit the ' +\n",
              "            '<a target=\"_blank\" href=https://colab.research.google.com/notebooks/data_table.ipynb>data table notebook</a>'\n",
              "            + ' to learn more about interactive tables.';\n",
              "          element.innerHTML = '';\n",
              "          dataTable['output_type'] = 'display_data';\n",
              "          await google.colab.output.renderOutput(dataTable, element);\n",
              "          const docLink = document.createElement('div');\n",
              "          docLink.innerHTML = docLinkHtml;\n",
              "          element.appendChild(docLink);\n",
              "        }\n",
              "      </script>\n",
              "    </div>\n",
              "  </div>\n",
              "  "
            ]
          },
          "metadata": {},
          "execution_count": 130
        }
      ]
    },
    {
      "cell_type": "code",
      "source": [
        "from sklearn.model_selection import RandomizedSearchCV\n",
        "rs = RandomizedSearchCV(svm.SVC(gamma='auto'), {\n",
        "        'C': [1,10,20],\n",
        "        'kernel': ['rbf','linear','poly']\n",
        "    }, \n",
        "    cv=5, \n",
        "    return_train_score=False, \n",
        "    n_iter=5\n",
        ")\n",
        "rs.fit(X_train_SM,Y_train_SM)\n",
        "pd.DataFrame(rs.cv_results_)[['param_C','param_kernel','mean_test_score']]"
      ],
      "metadata": {
        "colab": {
          "base_uri": "https://localhost:8080/",
          "height": 206
        },
        "id": "qSKBHDcIqqZv",
        "outputId": "204002d5-891f-49ae-e3d8-3dbd4ea23856"
      },
      "execution_count": 131,
      "outputs": [
        {
          "output_type": "execute_result",
          "data": {
            "text/plain": [
              "  param_C param_kernel  mean_test_score\n",
              "0       1         poly         0.784336\n",
              "1      10       linear         0.747152\n",
              "2       1          rbf         0.848852\n",
              "3      20         poly         0.862607\n",
              "4      10         poly         0.857109"
            ],
            "text/html": [
              "\n",
              "  <div id=\"df-f393b3ce-df4b-47ff-8aca-ac948f333a0e\">\n",
              "    <div class=\"colab-df-container\">\n",
              "      <div>\n",
              "<style scoped>\n",
              "    .dataframe tbody tr th:only-of-type {\n",
              "        vertical-align: middle;\n",
              "    }\n",
              "\n",
              "    .dataframe tbody tr th {\n",
              "        vertical-align: top;\n",
              "    }\n",
              "\n",
              "    .dataframe thead th {\n",
              "        text-align: right;\n",
              "    }\n",
              "</style>\n",
              "<table border=\"1\" class=\"dataframe\">\n",
              "  <thead>\n",
              "    <tr style=\"text-align: right;\">\n",
              "      <th></th>\n",
              "      <th>param_C</th>\n",
              "      <th>param_kernel</th>\n",
              "      <th>mean_test_score</th>\n",
              "    </tr>\n",
              "  </thead>\n",
              "  <tbody>\n",
              "    <tr>\n",
              "      <th>0</th>\n",
              "      <td>1</td>\n",
              "      <td>poly</td>\n",
              "      <td>0.784336</td>\n",
              "    </tr>\n",
              "    <tr>\n",
              "      <th>1</th>\n",
              "      <td>10</td>\n",
              "      <td>linear</td>\n",
              "      <td>0.747152</td>\n",
              "    </tr>\n",
              "    <tr>\n",
              "      <th>2</th>\n",
              "      <td>1</td>\n",
              "      <td>rbf</td>\n",
              "      <td>0.848852</td>\n",
              "    </tr>\n",
              "    <tr>\n",
              "      <th>3</th>\n",
              "      <td>20</td>\n",
              "      <td>poly</td>\n",
              "      <td>0.862607</td>\n",
              "    </tr>\n",
              "    <tr>\n",
              "      <th>4</th>\n",
              "      <td>10</td>\n",
              "      <td>poly</td>\n",
              "      <td>0.857109</td>\n",
              "    </tr>\n",
              "  </tbody>\n",
              "</table>\n",
              "</div>\n",
              "      <button class=\"colab-df-convert\" onclick=\"convertToInteractive('df-f393b3ce-df4b-47ff-8aca-ac948f333a0e')\"\n",
              "              title=\"Convert this dataframe to an interactive table.\"\n",
              "              style=\"display:none;\">\n",
              "        \n",
              "  <svg xmlns=\"http://www.w3.org/2000/svg\" height=\"24px\"viewBox=\"0 0 24 24\"\n",
              "       width=\"24px\">\n",
              "    <path d=\"M0 0h24v24H0V0z\" fill=\"none\"/>\n",
              "    <path d=\"M18.56 5.44l.94 2.06.94-2.06 2.06-.94-2.06-.94-.94-2.06-.94 2.06-2.06.94zm-11 1L8.5 8.5l.94-2.06 2.06-.94-2.06-.94L8.5 2.5l-.94 2.06-2.06.94zm10 10l.94 2.06.94-2.06 2.06-.94-2.06-.94-.94-2.06-.94 2.06-2.06.94z\"/><path d=\"M17.41 7.96l-1.37-1.37c-.4-.4-.92-.59-1.43-.59-.52 0-1.04.2-1.43.59L10.3 9.45l-7.72 7.72c-.78.78-.78 2.05 0 2.83L4 21.41c.39.39.9.59 1.41.59.51 0 1.02-.2 1.41-.59l7.78-7.78 2.81-2.81c.8-.78.8-2.07 0-2.86zM5.41 20L4 18.59l7.72-7.72 1.47 1.35L5.41 20z\"/>\n",
              "  </svg>\n",
              "      </button>\n",
              "      \n",
              "  <style>\n",
              "    .colab-df-container {\n",
              "      display:flex;\n",
              "      flex-wrap:wrap;\n",
              "      gap: 12px;\n",
              "    }\n",
              "\n",
              "    .colab-df-convert {\n",
              "      background-color: #E8F0FE;\n",
              "      border: none;\n",
              "      border-radius: 50%;\n",
              "      cursor: pointer;\n",
              "      display: none;\n",
              "      fill: #1967D2;\n",
              "      height: 32px;\n",
              "      padding: 0 0 0 0;\n",
              "      width: 32px;\n",
              "    }\n",
              "\n",
              "    .colab-df-convert:hover {\n",
              "      background-color: #E2EBFA;\n",
              "      box-shadow: 0px 1px 2px rgba(60, 64, 67, 0.3), 0px 1px 3px 1px rgba(60, 64, 67, 0.15);\n",
              "      fill: #174EA6;\n",
              "    }\n",
              "\n",
              "    [theme=dark] .colab-df-convert {\n",
              "      background-color: #3B4455;\n",
              "      fill: #D2E3FC;\n",
              "    }\n",
              "\n",
              "    [theme=dark] .colab-df-convert:hover {\n",
              "      background-color: #434B5C;\n",
              "      box-shadow: 0px 1px 3px 1px rgba(0, 0, 0, 0.15);\n",
              "      filter: drop-shadow(0px 1px 2px rgba(0, 0, 0, 0.3));\n",
              "      fill: #FFFFFF;\n",
              "    }\n",
              "  </style>\n",
              "\n",
              "      <script>\n",
              "        const buttonEl =\n",
              "          document.querySelector('#df-f393b3ce-df4b-47ff-8aca-ac948f333a0e button.colab-df-convert');\n",
              "        buttonEl.style.display =\n",
              "          google.colab.kernel.accessAllowed ? 'block' : 'none';\n",
              "\n",
              "        async function convertToInteractive(key) {\n",
              "          const element = document.querySelector('#df-f393b3ce-df4b-47ff-8aca-ac948f333a0e');\n",
              "          const dataTable =\n",
              "            await google.colab.kernel.invokeFunction('convertToInteractive',\n",
              "                                                     [key], {});\n",
              "          if (!dataTable) return;\n",
              "\n",
              "          const docLinkHtml = 'Like what you see? Visit the ' +\n",
              "            '<a target=\"_blank\" href=https://colab.research.google.com/notebooks/data_table.ipynb>data table notebook</a>'\n",
              "            + ' to learn more about interactive tables.';\n",
              "          element.innerHTML = '';\n",
              "          dataTable['output_type'] = 'display_data';\n",
              "          await google.colab.output.renderOutput(dataTable, element);\n",
              "          const docLink = document.createElement('div');\n",
              "          docLink.innerHTML = docLinkHtml;\n",
              "          element.appendChild(docLink);\n",
              "        }\n",
              "      </script>\n",
              "    </div>\n",
              "  </div>\n",
              "  "
            ]
          },
          "metadata": {},
          "execution_count": 131
        }
      ]
    },
    {
      "cell_type": "code",
      "source": [
        "best_svm =rs.best_estimator_"
      ],
      "metadata": {
        "id": "8c8wRETZ0slA"
      },
      "execution_count": 132,
      "outputs": []
    },
    {
      "cell_type": "code",
      "source": [
        "best_svm.fit(X_train_SM,Y_train_SM)\n",
        "Y_pred_SVM = best_svm.predict(X_test)"
      ],
      "metadata": {
        "id": "lb-7TVg-1Du0"
      },
      "execution_count": 133,
      "outputs": []
    },
    {
      "cell_type": "code",
      "source": [
        "print(confusion_matrix(Y_test,Y_pred_SVM))\n",
        "print(accuracy_score(Y_test,Y_pred_SVM))\n",
        "print(classification_report(Y_test,Y_pred_SVM))"
      ],
      "metadata": {
        "colab": {
          "base_uri": "https://localhost:8080/"
        },
        "id": "XFoE4Qz21Xgc",
        "outputId": "dda95ff1-83d8-465c-f968-e9f3ad4c579c"
      },
      "execution_count": 134,
      "outputs": [
        {
          "output_type": "stream",
          "name": "stdout",
          "text": [
            "[[141  16]\n",
            " [ 11  52]]\n",
            "0.8772727272727273\n",
            "              precision    recall  f1-score   support\n",
            "\n",
            "         0.0       0.93      0.90      0.91       157\n",
            "         1.0       0.76      0.83      0.79        63\n",
            "\n",
            "    accuracy                           0.88       220\n",
            "   macro avg       0.85      0.86      0.85       220\n",
            "weighted avg       0.88      0.88      0.88       220\n",
            "\n"
          ]
        }
      ]
    },
    {
      "cell_type": "code",
      "source": [
        "###\"\"\"** Stocastic Gradient Classifier \"\"\"**\n",
        "\n",
        "from sklearn.linear_model import SGDClassifier\n",
        "\n",
        "sgd = SGDClassifier(eta0 = 0.1011, max_iter = 50)\n",
        "sgd.fit(X_train_SM,Y_train_SM)\n",
        "Y_pred_sgd_SM = sgd.predict(X_test)\n",
        "\n",
        "print(confusion_matrix(Y_test,Y_pred_sgd_SM))\n",
        "print(accuracy_score(Y_test,Y_pred_sgd_SM))\n",
        "print(classification_report(Y_test,Y_pred_sgd_SM))"
      ],
      "metadata": {
        "colab": {
          "base_uri": "https://localhost:8080/"
        },
        "id": "zer7s5sdQQq7",
        "outputId": "898b5a1b-4df8-4330-c5a5-f5b1d98efbee"
      },
      "execution_count": 135,
      "outputs": [
        {
          "output_type": "stream",
          "name": "stdout",
          "text": [
            "[[110  47]\n",
            " [ 11  52]]\n",
            "0.7363636363636363\n",
            "              precision    recall  f1-score   support\n",
            "\n",
            "         0.0       0.91      0.70      0.79       157\n",
            "         1.0       0.53      0.83      0.64        63\n",
            "\n",
            "    accuracy                           0.74       220\n",
            "   macro avg       0.72      0.76      0.72       220\n",
            "weighted avg       0.80      0.74      0.75       220\n",
            "\n"
          ]
        },
        {
          "output_type": "stream",
          "name": "stderr",
          "text": [
            "/usr/local/lib/python3.7/dist-packages/sklearn/linear_model/_stochastic_gradient.py:700: ConvergenceWarning: Maximum number of iteration reached before convergence. Consider increasing max_iter to improve the fit.\n",
            "  ConvergenceWarning,\n"
          ]
        }
      ]
    },
    {
      "cell_type": "code",
      "source": [
        "sgd_score = []\n",
        "setting = np.arange(0.101,0.102,0.0001)\n",
        "\n",
        "for i in setting:\n",
        "    sgd = SGDClassifier(eta0 = i, max_iter = 50)\n",
        "    sgd.fit(X_train_SM,Y_train_SM)\n",
        "    Y_pred_sgd_SM = sgd.predict(X_test)\n",
        "    sgd_score.append(accuracy_score(Y_test,Y_pred_sgd_SM))\n",
        "    \n",
        "print(sgd_score)"
      ],
      "metadata": {
        "colab": {
          "base_uri": "https://localhost:8080/"
        },
        "id": "BTHPxcxPQnbH",
        "outputId": "5d42c9f7-d177-4754-fbd3-bbc29596fa71"
      },
      "execution_count": 136,
      "outputs": [
        {
          "output_type": "stream",
          "name": "stdout",
          "text": [
            "[0.7363636363636363, 0.740909090909091, 0.6636363636363637, 0.7545454545454545, 0.7636363636363637, 0.6454545454545455, 0.740909090909091, 0.5545454545454546, 0.7727272727272727, 0.6954545454545454]\n"
          ]
        },
        {
          "output_type": "stream",
          "name": "stderr",
          "text": [
            "/usr/local/lib/python3.7/dist-packages/sklearn/linear_model/_stochastic_gradient.py:700: ConvergenceWarning: Maximum number of iteration reached before convergence. Consider increasing max_iter to improve the fit.\n",
            "  ConvergenceWarning,\n",
            "/usr/local/lib/python3.7/dist-packages/sklearn/linear_model/_stochastic_gradient.py:700: ConvergenceWarning: Maximum number of iteration reached before convergence. Consider increasing max_iter to improve the fit.\n",
            "  ConvergenceWarning,\n",
            "/usr/local/lib/python3.7/dist-packages/sklearn/linear_model/_stochastic_gradient.py:700: ConvergenceWarning: Maximum number of iteration reached before convergence. Consider increasing max_iter to improve the fit.\n",
            "  ConvergenceWarning,\n",
            "/usr/local/lib/python3.7/dist-packages/sklearn/linear_model/_stochastic_gradient.py:700: ConvergenceWarning: Maximum number of iteration reached before convergence. Consider increasing max_iter to improve the fit.\n",
            "  ConvergenceWarning,\n",
            "/usr/local/lib/python3.7/dist-packages/sklearn/linear_model/_stochastic_gradient.py:700: ConvergenceWarning: Maximum number of iteration reached before convergence. Consider increasing max_iter to improve the fit.\n",
            "  ConvergenceWarning,\n"
          ]
        }
      ]
    },
    {
      "cell_type": "code",
      "source": [
        "plt.plot(setting,sgd_score, label = \"test accuracy\")\n",
        "plt.ylabel(\"accuracy\")\n",
        "plt.xlabel(\"learning rate\")\n",
        "plt.legend()"
      ],
      "metadata": {
        "colab": {
          "base_uri": "https://localhost:8080/",
          "height": 302
        },
        "id": "QZJjbXRRQv8f",
        "outputId": "47af1648-7a92-4929-d0fd-8b12a56e4c3a"
      },
      "execution_count": 137,
      "outputs": [
        {
          "output_type": "execute_result",
          "data": {
            "text/plain": [
              "<matplotlib.legend.Legend at 0x7f0521d02b90>"
            ]
          },
          "metadata": {},
          "execution_count": 137
        },
        {
          "output_type": "display_data",
          "data": {
            "text/plain": [
              "<Figure size 432x288 with 1 Axes>"
            ],
            "image/png": "[encoded data removed]"
          },
          "metadata": {
            "needs_background": "light"
          }
        }
      ]
    },
    {
      "cell_type": "code",
      "source": [
        "\"\"\"**Decision Tree classifier**\"\"\"\n",
        "\n",
        "from sklearn.tree import DecisionTreeClassifier\n",
        "dt = DecisionTreeClassifier(criterion = \"gini\", max_depth = 12)\n",
        "dt.fit(X_train_SM,Y_train_SM)\n",
        "Y_pred_dt_SM = dt.predict(X_test)\n",
        "\n",
        "dt.tree_.node_count, dt.tree_.max_depth\n",
        "\n",
        "print(confusion_matrix(Y_test,Y_pred_dt_SM))\n",
        "print(accuracy_score(Y_test,Y_pred_dt_SM))\n",
        "print(classification_report(Y_test,Y_pred_dt_SM))"
      ],
      "metadata": {
        "colab": {
          "base_uri": "https://localhost:8080/"
        },
        "id": "OjLV4zpiQ2wV",
        "outputId": "ac618d9d-7b5b-49c5-9595-3e36da63d696"
      },
      "execution_count": 138,
      "outputs": [
        {
          "output_type": "stream",
          "name": "stdout",
          "text": [
            "[[140  17]\n",
            " [ 10  53]]\n",
            "0.8772727272727273\n",
            "              precision    recall  f1-score   support\n",
            "\n",
            "         0.0       0.93      0.89      0.91       157\n",
            "         1.0       0.76      0.84      0.80        63\n",
            "\n",
            "    accuracy                           0.88       220\n",
            "   macro avg       0.85      0.87      0.85       220\n",
            "weighted avg       0.88      0.88      0.88       220\n",
            "\n"
          ]
        }
      ]
    },
    {
      "cell_type": "code",
      "source": [
        "dt_score = []\n",
        "md = range(1,14)\n",
        "for i in md:\n",
        "    dt = DecisionTreeClassifier(criterion = \"gini\", max_depth = i)\n",
        "    dt.fit(X_train_SM,Y_train_SM)\n",
        "    Y_pred_dt_SM = dt.predict(X_test)\n",
        "    dt_score.append(accuracy_score(Y_test,Y_pred_dt_SM))\n",
        "\n",
        "print(dt_score)"
      ],
      "metadata": {
        "colab": {
          "base_uri": "https://localhost:8080/"
        },
        "id": "1QLj5__wQ5sD",
        "outputId": "54f4ed5d-d75c-4d63-a523-b6eac2b46aac"
      },
      "execution_count": 139,
      "outputs": [
        {
          "output_type": "stream",
          "name": "stdout",
          "text": [
            "[0.7, 0.7454545454545455, 0.7090909090909091, 0.7636363636363637, 0.8181818181818182, 0.8454545454545455, 0.8409090909090909, 0.8545454545454545, 0.8681818181818182, 0.8727272727272727, 0.8863636363636364, 0.8772727272727273, 0.8772727272727273]\n"
          ]
        }
      ]
    },
    {
      "cell_type": "code",
      "source": [
        "plt.plot(md,dt_score,label = \"test_accuracy\")\n",
        "plt.ylabel(\"accuracy\")\n",
        "plt.xlabel(\"max depth\")\n",
        "plt.legend()"
      ],
      "metadata": {
        "colab": {
          "base_uri": "https://localhost:8080/",
          "height": 302
        },
        "id": "BdJ9NqCgQ5l-",
        "outputId": "3b6d67e7-01ad-4976-f170-910c8b128f53"
      },
      "execution_count": 140,
      "outputs": [
        {
          "output_type": "execute_result",
          "data": {
            "text/plain": [
              "<matplotlib.legend.Legend at 0x7f0521926590>"
            ]
          },
          "metadata": {},
          "execution_count": 140
        },
        {
          "output_type": "display_data",
          "data": {
            "text/plain": [
              "<Figure size 432x288 with 1 Axes>"
            ],
            "image/png": "[encoded data removed]"
          },
          "metadata": {
            "needs_background": "light"
          }
        }
      ]
    },
    {
      "cell_type": "code",
      "source": [
        "\"\"\"**BaggingClassifier**\"\"\"\n",
        "\n",
        "from sklearn.ensemble import BaggingClassifier\n",
        "\n",
        "bag = BaggingClassifier(base_estimator = dt, max_samples = 0.4)\n",
        "bag.fit(X_train_SM,Y_train_SM)\n",
        "Y_pred_bag_SM = bag.predict(X_test)\n",
        "\n",
        "\n",
        "print(confusion_matrix(Y_test,Y_pred_bag_SM))\n",
        "print(accuracy_score(Y_test,Y_pred_bag_SM))\n",
        "print(classification_report(Y_test,Y_pred_bag_SM))"
      ],
      "metadata": {
        "colab": {
          "base_uri": "https://localhost:8080/"
        },
        "id": "UWPzaLPfRET1",
        "outputId": "10cbeed4-f407-4f6c-b9ec-6d172a91c518"
      },
      "execution_count": 178,
      "outputs": [
        {
          "output_type": "stream",
          "name": "stdout",
          "text": [
            "[[148   9]\n",
            " [ 11  52]]\n",
            "0.9090909090909091\n",
            "              precision    recall  f1-score   support\n",
            "\n",
            "         0.0       0.93      0.94      0.94       157\n",
            "         1.0       0.85      0.83      0.84        63\n",
            "\n",
            "    accuracy                           0.91       220\n",
            "   macro avg       0.89      0.88      0.89       220\n",
            "weighted avg       0.91      0.91      0.91       220\n",
            "\n"
          ]
        }
      ]
    },
    {
      "cell_type": "code",
      "source": [
        "bag_score = []\n",
        "ms = np.arange(0.1,1,0.1)\n",
        "for i in ms:\n",
        "    bag = BaggingClassifier(base_estimator = dt, max_samples = i)\n",
        "    bag.fit(X_train_SM,Y_train_SM)\n",
        "    Y_pred_bag_SM = bag.predict(X_test)\n",
        "    bag_score.append(accuracy_score(Y_test,Y_pred_bag_SM))\n",
        "    \n",
        "print(bag_score)"
      ],
      "metadata": {
        "colab": {
          "base_uri": "https://localhost:8080/"
        },
        "id": "PJ2WSPIvRMOM",
        "outputId": "6b110947-1422-42db-9a4c-7dfaf01bc244"
      },
      "execution_count": 142,
      "outputs": [
        {
          "output_type": "stream",
          "name": "stdout",
          "text": [
            "[0.8409090909090909, 0.9090909090909091, 0.8909090909090909, 0.9272727272727272, 0.8909090909090909, 0.9045454545454545, 0.9045454545454545, 0.9181818181818182, 0.8954545454545455]\n"
          ]
        }
      ]
    },
    {
      "cell_type": "code",
      "source": [
        "plt.plot(ms,bag_score,label = \"accuracy\")\n",
        "plt.legend()"
      ],
      "metadata": {
        "colab": {
          "base_uri": "https://localhost:8080/",
          "height": 285
        },
        "id": "wmYeyppVRSsP",
        "outputId": "a1a7de2e-fade-4401-ec13-813d9ff09776"
      },
      "execution_count": 143,
      "outputs": [
        {
          "output_type": "execute_result",
          "data": {
            "text/plain": [
              "<matplotlib.legend.Legend at 0x7f0522669c90>"
            ]
          },
          "metadata": {},
          "execution_count": 143
        },
        {
          "output_type": "display_data",
          "data": {
            "text/plain": [
              "<Figure size 432x288 with 1 Axes>"
            ],
            "image/png": "[encoded data removed]"
          },
          "metadata": {
            "needs_background": "light"
          }
        }
      ]
    },
    {
      "cell_type": "code",
      "source": [
        "###Random Forest Classifier**\n",
        "\n",
        "from sklearn.ensemble import RandomForestClassifier\n",
        "RF = RandomForestClassifier(max_features = 0.2, n_estimators = 34)\n",
        "RF.fit(X_train_SM,Y_train_SM)\n",
        "Y_pred_rf_SM = RF.predict(X_test)\n",
        "\n",
        "print(confusion_matrix(Y_test,Y_pred_rf_SM))\n",
        "print(accuracy_score(Y_test,Y_pred_rf_SM))\n",
        "print(classification_report(Y_test,Y_pred_rf_SM))"
      ],
      "metadata": {
        "colab": {
          "base_uri": "https://localhost:8080/"
        },
        "id": "5E5SyB1MRXbD",
        "outputId": "39b8a683-d318-4561-f99a-3428ea5c9d1b"
      },
      "execution_count": 144,
      "outputs": [
        {
          "output_type": "stream",
          "name": "stdout",
          "text": [
            "[[147  10]\n",
            " [  8  55]]\n",
            "0.9181818181818182\n",
            "              precision    recall  f1-score   support\n",
            "\n",
            "         0.0       0.95      0.94      0.94       157\n",
            "         1.0       0.85      0.87      0.86        63\n",
            "\n",
            "    accuracy                           0.92       220\n",
            "   macro avg       0.90      0.90      0.90       220\n",
            "weighted avg       0.92      0.92      0.92       220\n",
            "\n"
          ]
        }
      ]
    },
    {
      "cell_type": "code",
      "source": [
        "rf_score = []\n",
        "mf = np.arange(0.1,1,0.1)\n",
        "for i in mf:\n",
        "    RF = RandomForestClassifier(max_features = i, n_estimators = 38)\n",
        "    RF.fit(X_train_SM,Y_train_SM)\n",
        "    Y_pred_rf_SM = RF.predict(X_test)\n",
        "    rf_score.append(accuracy_score(Y_test,Y_pred_rf_SM))\n",
        "    \n",
        "print(rf_score)"
      ],
      "metadata": {
        "colab": {
          "base_uri": "https://localhost:8080/"
        },
        "id": "KssKmRGfRdhX",
        "outputId": "bdcbe847-8ce3-4853-dc83-3249d78266fd"
      },
      "execution_count": 145,
      "outputs": [
        {
          "output_type": "stream",
          "name": "stdout",
          "text": [
            "[0.9181818181818182, 0.9181818181818182, 0.9227272727272727, 0.9227272727272727, 0.9045454545454545, 0.9181818181818182, 0.9227272727272727, 0.9181818181818182, 0.9136363636363637]\n"
          ]
        }
      ]
    },
    {
      "cell_type": "code",
      "source": [
        "plt.plot(mf,rf_score,label = \"test_accuracy\")\n",
        "plt.ylabel(\"accuracy\")\n",
        "plt.xlabel(\"max features\")\n",
        "plt.legend()"
      ],
      "metadata": {
        "colab": {
          "base_uri": "https://localhost:8080/",
          "height": 302
        },
        "id": "aLVfHZkIRg-A",
        "outputId": "c71155e2-c969-48cc-96cb-a655353ecc82"
      },
      "execution_count": 146,
      "outputs": [
        {
          "output_type": "execute_result",
          "data": {
            "text/plain": [
              "<matplotlib.legend.Legend at 0x7f0521c8e510>"
            ]
          },
          "metadata": {},
          "execution_count": 146
        },
        {
          "output_type": "display_data",
          "data": {
            "text/plain": [
              "<Figure size 432x288 with 1 Axes>"
            ],
            "image/png": "[encoded data removed]"
          },
          "metadata": {
            "needs_background": "light"
          }
        }
      ]
    },
    {
      "cell_type": "code",
      "source": [
        "rf_score1 = []\n",
        "est = range(30,40,1)\n",
        "for i in est:\n",
        "    \n",
        "    RF = RandomForestClassifier(max_features = 0.1, n_estimators = i)\n",
        "    RF.fit(X_train_SM,Y_train_SM)\n",
        "    Y_pred_rf_SM = RF.predict(X_test)\n",
        "    rf_score1.append(accuracy_score(Y_test,Y_pred_rf_SM))\n",
        "    \n",
        "print(rf_score1)"
      ],
      "metadata": {
        "colab": {
          "base_uri": "https://localhost:8080/"
        },
        "id": "-8FgXrISRlTp",
        "outputId": "4411f56d-11c2-4de2-f4eb-7bd8cd6878cd"
      },
      "execution_count": 147,
      "outputs": [
        {
          "output_type": "stream",
          "name": "stdout",
          "text": [
            "[0.9318181818181818, 0.9181818181818182, 0.9181818181818182, 0.9136363636363637, 0.9181818181818182, 0.9181818181818182, 0.9181818181818182, 0.9227272727272727, 0.9318181818181818, 0.9136363636363637]\n"
          ]
        }
      ]
    },
    {
      "cell_type": "code",
      "source": [
        "plt.plot(est,rf_score1,label = \"test_accuracy\")\n",
        "plt.ylabel(\"accuracy\")\n",
        "plt.xlabel(\"n_estimators\")\n",
        "plt.legend()\n"
      ],
      "metadata": {
        "colab": {
          "base_uri": "https://localhost:8080/",
          "height": 303
        },
        "id": "KwArg5MwRpxd",
        "outputId": "bb992a4f-a436-4eac-d51c-6c4bfec9c2fe"
      },
      "execution_count": 148,
      "outputs": [
        {
          "output_type": "execute_result",
          "data": {
            "text/plain": [
              "<matplotlib.legend.Legend at 0x7f0520e32910>"
            ]
          },
          "metadata": {},
          "execution_count": 148
        },
        {
          "output_type": "display_data",
          "data": {
            "text/plain": [
              "<Figure size 432x288 with 1 Axes>"
            ],
            "image/png": "[encoded data removed]"
          },
          "metadata": {
            "needs_background": "light"
          }
        }
      ]
    },
    {
      "cell_type": "markdown",
      "source": [
        "**Hyperparameter Tuning for Random Forest Using Randomized SearchCV**"
      ],
      "metadata": {
        "id": "yESkarQKx2Tn"
      }
    },
    {
      "cell_type": "code",
      "source": [
        "import numpy as np\n",
        "from sklearn.model_selection import RandomizedSearchCV\n",
        "# Number of trees in random forest\n",
        "n_estimators = [int(x) for x in np.linspace(start = 200, stop = 2000, num = 10)]\n",
        "# Number of features to consider at every split\n",
        "max_features = ['auto', 'sqrt','log2']\n",
        "# Maximum number of levels in tree\n",
        "max_depth = [int(x) for x in np.linspace(10, 1000,10)]\n",
        "# Minimum number of samples required to split a node\n",
        "min_samples_split = [2, 5, 10,14]\n",
        "# Minimum number of samples required at each leaf node\n",
        "min_samples_leaf = [1, 2, 4,6,8]\n",
        "# Create the random grid\n",
        "random_grid = {'n_estimators': n_estimators,\n",
        "               'max_features': max_features,\n",
        "               'max_depth': max_depth,\n",
        "               'min_samples_split': min_samples_split,\n",
        "               'min_samples_leaf': min_samples_leaf,\n",
        "              'criterion':['entropy','gini']}\n",
        "print(random_grid)"
      ],
      "metadata": {
        "colab": {
          "base_uri": "https://localhost:8080/"
        },
        "id": "rKGH35OcsOG_",
        "outputId": "c85dc73d-6830-485d-f871-fd3cabf88dca"
      },
      "execution_count": 149,
      "outputs": [
        {
          "output_type": "stream",
          "name": "stdout",
          "text": [
            "{'n_estimators': [200, 400, 600, 800, 1000, 1200, 1400, 1600, 1800, 2000], 'max_features': ['auto', 'sqrt', 'log2'], 'max_depth': [10, 120, 230, 340, 450, 560, 670, 780, 890, 1000], 'min_samples_split': [2, 5, 10, 14], 'min_samples_leaf': [1, 2, 4, 6, 8], 'criterion': ['entropy', 'gini']}\n"
          ]
        }
      ]
    },
    {
      "cell_type": "code",
      "source": [
        "rf=RandomForestClassifier()\n",
        "rf_randomcv=RandomizedSearchCV(estimator=rf,param_distributions=random_grid,n_iter=100,cv=3,verbose=2,\n",
        "                               random_state=100,n_jobs=-1)\n",
        "### fit the randomized model\n",
        "rf_randomcv.fit(X_train_SM,Y_train_SM)"
      ],
      "metadata": {
        "colab": {
          "base_uri": "https://localhost:8080/"
        },
        "id": "sBWjGNdrsxbn",
        "outputId": "68adfa41-46f5-4bbd-9114-c739d7394b08"
      },
      "execution_count": 150,
      "outputs": [
        {
          "output_type": "stream",
          "name": "stdout",
          "text": [
            "Fitting 3 folds for each of 100 candidates, totalling 300 fits\n"
          ]
        },
        {
          "output_type": "execute_result",
          "data": {
            "text/plain": [
              "RandomizedSearchCV(cv=3, estimator=RandomForestClassifier(), n_iter=100,\n",
              "                   n_jobs=-1,\n",
              "                   param_distributions={'criterion': ['entropy', 'gini'],\n",
              "                                        'max_depth': [10, 120, 230, 340, 450,\n",
              "                                                      560, 670, 780, 890,\n",
              "                                                      1000],\n",
              "                                        'max_features': ['auto', 'sqrt',\n",
              "                                                         'log2'],\n",
              "                                        'min_samples_leaf': [1, 2, 4, 6, 8],\n",
              "                                        'min_samples_split': [2, 5, 10, 14],\n",
              "                                        'n_estimators': [200, 400, 600, 800,\n",
              "                                                         1000, 1200, 1400, 1600,\n",
              "                                                         1800, 2000]},\n",
              "                   random_state=100, verbose=2)"
            ]
          },
          "metadata": {},
          "execution_count": 150
        }
      ]
    },
    {
      "cell_type": "code",
      "source": [
        "rf_randomcv.best_estimator_"
      ],
      "metadata": {
        "colab": {
          "base_uri": "https://localhost:8080/"
        },
        "id": "hhf5NMyqtQPA",
        "outputId": "e1e6f886-990f-4470-c7cf-ad039d2c6209"
      },
      "execution_count": 179,
      "outputs": [
        {
          "output_type": "execute_result",
          "data": {
            "text/plain": [
              "RandomForestClassifier(criterion='entropy', max_depth=120, max_features='sqrt',\n",
              "                       n_estimators=600)"
            ]
          },
          "metadata": {},
          "execution_count": 179
        }
      ]
    },
    {
      "cell_type": "code",
      "source": [
        "rf_randomcv.best_params_"
      ],
      "metadata": {
        "colab": {
          "base_uri": "https://localhost:8080/"
        },
        "id": "90K57cYYwRod",
        "outputId": "d7bd9048-bb8b-4bd6-e469-5d8c2c7c0bd4"
      },
      "execution_count": 152,
      "outputs": [
        {
          "output_type": "execute_result",
          "data": {
            "text/plain": [
              "{'criterion': 'entropy',\n",
              " 'max_depth': 120,\n",
              " 'max_features': 'sqrt',\n",
              " 'min_samples_leaf': 1,\n",
              " 'min_samples_split': 2,\n",
              " 'n_estimators': 600}"
            ]
          },
          "metadata": {},
          "execution_count": 152
        }
      ]
    },
    {
      "cell_type": "code",
      "source": [
        "best_random_grid=rf_randomcv.best_estimator_"
      ],
      "metadata": {
        "id": "mb8ofHJYuRhF"
      },
      "execution_count": 153,
      "outputs": []
    },
    {
      "cell_type": "code",
      "source": [
        "from sklearn.metrics import accuracy_score\n",
        "y_pred_rf_rs=best_random_grid.predict(X_test)\n",
        "print(confusion_matrix(Y_test,y_pred_rf_rs))\n",
        "print(\"Accuracy Score {}\".format(accuracy_score(Y_test,y_pred_rf_rs)))\n",
        "print((classification_report(Y_test,y_pred_rf_rs)))"
      ],
      "metadata": {
        "colab": {
          "base_uri": "https://localhost:8080/"
        },
        "id": "qyygUGULuZ2O",
        "outputId": "d9e0c3f0-729b-40b6-c916-c41cb05c55bc"
      },
      "execution_count": 154,
      "outputs": [
        {
          "output_type": "stream",
          "name": "stdout",
          "text": [
            "[[149   8]\n",
            " [  9  54]]\n",
            "Accuracy Score 0.9227272727272727\n",
            "              precision    recall  f1-score   support\n",
            "\n",
            "         0.0       0.94      0.95      0.95       157\n",
            "         1.0       0.87      0.86      0.86        63\n",
            "\n",
            "    accuracy                           0.92       220\n",
            "   macro avg       0.91      0.90      0.91       220\n",
            "weighted avg       0.92      0.92      0.92       220\n",
            "\n"
          ]
        }
      ]
    },
    {
      "cell_type": "code",
      "source": [
        "\"\"\"**Ada Boost Classifier**\"\"\"\n",
        "\n",
        "from sklearn.ensemble import AdaBoostClassifier\n",
        "\n",
        "adb = AdaBoostClassifier(base_estimator = dt, n_estimators = 40)\n",
        "adb.fit(X_train_SM,Y_train_SM)\n",
        "Y_pred_adb_SM = adb.predict(X_test)\n",
        "\n",
        "print(confusion_matrix(Y_test,Y_pred_adb_SM))\n",
        "print(accuracy_score(Y_test,Y_pred_adb_SM))\n",
        "print(classification_report(Y_test,Y_pred_adb_SM))\n"
      ],
      "metadata": {
        "colab": {
          "base_uri": "https://localhost:8080/"
        },
        "id": "XMff7khURuwf",
        "outputId": "be2537de-438d-46f3-a986-5107862f1a1a"
      },
      "execution_count": 155,
      "outputs": [
        {
          "output_type": "stream",
          "name": "stdout",
          "text": [
            "[[150   7]\n",
            " [ 13  50]]\n",
            "0.9090909090909091\n",
            "              precision    recall  f1-score   support\n",
            "\n",
            "         0.0       0.92      0.96      0.94       157\n",
            "         1.0       0.88      0.79      0.83        63\n",
            "\n",
            "    accuracy                           0.91       220\n",
            "   macro avg       0.90      0.87      0.89       220\n",
            "weighted avg       0.91      0.91      0.91       220\n",
            "\n"
          ]
        }
      ]
    },
    {
      "cell_type": "code",
      "source": [
        "adb_score = []\n",
        "est = range(1,100,10)\n",
        "for i in est:\n",
        "    adb = AdaBoostClassifier(base_estimator = dt, n_estimators = i)\n",
        "    adb.fit(X_train_SM,Y_train_SM)\n",
        "    Y_pred_adb_SM = adb.predict(X_test)\n",
        "    adb_score.append(accuracy_score(Y_test,Y_pred_adb_SM))\n",
        "\n",
        "print(adb_score)\n"
      ],
      "metadata": {
        "colab": {
          "base_uri": "https://localhost:8080/"
        },
        "id": "qztdRSPPR2GW",
        "outputId": "9edcc856-3b15-463d-c17f-c2407a649d5c"
      },
      "execution_count": 156,
      "outputs": [
        {
          "output_type": "stream",
          "name": "stdout",
          "text": [
            "[0.8818181818181818, 0.9181818181818182, 0.9136363636363637, 0.9045454545454545, 0.9136363636363637, 0.9090909090909091, 0.9136363636363637, 0.9045454545454545, 0.9181818181818182, 0.9090909090909091]\n"
          ]
        }
      ]
    },
    {
      "cell_type": "code",
      "source": [
        "plt.plot(est,adb_score,label = \"test_accuracy\")\n",
        "plt.ylabel(\"accuracy\")\n",
        "plt.xlabel(\"n_estimators\")\n",
        "plt.legend()\n"
      ],
      "metadata": {
        "colab": {
          "base_uri": "https://localhost:8080/",
          "height": 306
        },
        "id": "c6VNBY4-R57c",
        "outputId": "77f6efc8-ee61-4e29-b427-af2382c992e5"
      },
      "execution_count": 157,
      "outputs": [
        {
          "output_type": "execute_result",
          "data": {
            "text/plain": [
              "<matplotlib.legend.Legend at 0x7f051fc50610>"
            ]
          },
          "metadata": {},
          "execution_count": 157
        },
        {
          "output_type": "display_data",
          "data": {
            "text/plain": [
              "<Figure size 432x288 with 1 Axes>"
            ],
            "image/png": "[encoded data removed]"
          },
          "metadata": {
            "needs_background": "light"
          }
        }
      ]
    },
    {
      "cell_type": "code",
      "source": [
        "##**Gradinet Boosting**\n",
        "\n",
        "from sklearn.ensemble import GradientBoostingClassifier\n",
        "gbr = GradientBoostingClassifier(n_estimators = 100, learning_rate = 0.195)\n",
        "gbr.fit(X_train_SM,Y_train_SM)\n",
        "Y_pred_gbr_SM = gbr.predict(X_test)\n",
        "\n",
        "print(confusion_matrix(Y_test,Y_pred_gbr_SM))\n",
        "print(accuracy_score(Y_test,Y_pred_gbr_SM))\n",
        "print(classification_report(Y_test,Y_pred_gbr_SM))"
      ],
      "metadata": {
        "colab": {
          "base_uri": "https://localhost:8080/"
        },
        "id": "CA99ukAXR_RD",
        "outputId": "8abae223-c29e-417e-f542-720bfef4e8f6"
      },
      "execution_count": 158,
      "outputs": [
        {
          "output_type": "stream",
          "name": "stdout",
          "text": [
            "[[146  11]\n",
            " [ 10  53]]\n",
            "0.9045454545454545\n",
            "              precision    recall  f1-score   support\n",
            "\n",
            "         0.0       0.94      0.93      0.93       157\n",
            "         1.0       0.83      0.84      0.83        63\n",
            "\n",
            "    accuracy                           0.90       220\n",
            "   macro avg       0.88      0.89      0.88       220\n",
            "weighted avg       0.91      0.90      0.90       220\n",
            "\n"
          ]
        }
      ]
    },
    {
      "cell_type": "code",
      "source": [
        "gbr_score = []\n",
        "setting = np.arange(0.01,0.2,0.01)\n",
        "for i in setting:\n",
        "    gbr = GradientBoostingClassifier(n_estimators = 100, learning_rate = i)\n",
        "    gbr.fit(X_train_SM,Y_train_SM)\n",
        "    Y_pred_gbr_SM = gbr.predict(X_test)\n",
        "    gbr_score.append(accuracy_score(Y_test,Y_pred_gbr_SM))\n",
        "\n",
        "print(gbr_score)"
      ],
      "metadata": {
        "colab": {
          "base_uri": "https://localhost:8080/"
        },
        "id": "f05ROajzSF58",
        "outputId": "b5c365c6-e227-4cdc-8284-5b7b393e0013"
      },
      "execution_count": 159,
      "outputs": [
        {
          "output_type": "stream",
          "name": "stdout",
          "text": [
            "[0.8136363636363636, 0.85, 0.8590909090909091, 0.8727272727272727, 0.8727272727272727, 0.8681818181818182, 0.8727272727272727, 0.8954545454545455, 0.8909090909090909, 0.9, 0.9136363636363637, 0.9090909090909091, 0.9, 0.9181818181818182, 0.9090909090909091, 0.9090909090909091, 0.9, 0.9045454545454545, 0.9045454545454545]\n"
          ]
        }
      ]
    },
    {
      "cell_type": "code",
      "source": [
        "plt.plot(setting,gbr_score,label = \"test_accuracy\")\n",
        "plt.ylabel(\"accuracy\")\n",
        "plt.xlabel(\"learning rate\")\n",
        "plt.legend()"
      ],
      "metadata": {
        "colab": {
          "base_uri": "https://localhost:8080/",
          "height": 302
        },
        "id": "Se2qt_iUSJ0v",
        "outputId": "ed15f627-3bdb-404a-f6a5-9753f6822d5e"
      },
      "execution_count": 160,
      "outputs": [
        {
          "output_type": "execute_result",
          "data": {
            "text/plain": [
              "<matplotlib.legend.Legend at 0x7f0521cc5490>"
            ]
          },
          "metadata": {},
          "execution_count": 160
        },
        {
          "output_type": "display_data",
          "data": {
            "text/plain": [
              "<Figure size 432x288 with 1 Axes>"
            ],
            "image/png": "[encoded data removed]"
          },
          "metadata": {
            "needs_background": "light"
          }
        }
      ]
    },
    {
      "cell_type": "code",
      "source": [
        "##**XG Boost**\n",
        "\n",
        "\n",
        "from xgboost import XGBClassifier\n",
        "XG = XGBClassifier(learning_rate = 0.14, gamma = 0, reg_lambda = 1, n_estimators = 100)\n",
        "XG.fit(X_train_SM,Y_train_SM)\n",
        "Y_pred_XG_SM = XG.predict(X_test)\n",
        "\n",
        "print(confusion_matrix(Y_test,Y_pred_XG_SM))\n",
        "print(accuracy_score(Y_test,Y_pred_XG_SM))\n",
        "print(classification_report(Y_test,Y_pred_XG_SM))\n"
      ],
      "metadata": {
        "colab": {
          "base_uri": "https://localhost:8080/"
        },
        "id": "-f6dh0w0SMZ-",
        "outputId": "5e6e08b5-85f1-48bd-c23d-351d473b4d53"
      },
      "execution_count": 161,
      "outputs": [
        {
          "output_type": "stream",
          "name": "stdout",
          "text": [
            "[[146  11]\n",
            " [ 10  53]]\n",
            "0.9045454545454545\n",
            "              precision    recall  f1-score   support\n",
            "\n",
            "         0.0       0.94      0.93      0.93       157\n",
            "         1.0       0.83      0.84      0.83        63\n",
            "\n",
            "    accuracy                           0.90       220\n",
            "   macro avg       0.88      0.89      0.88       220\n",
            "weighted avg       0.91      0.90      0.90       220\n",
            "\n"
          ]
        }
      ]
    },
    {
      "cell_type": "code",
      "source": [
        "XG_score = []\n",
        "est = range(1,100,10)\n",
        "for i in est:\n",
        "    XG = XGBClassifier(learning_rate = 0.14, gamma = 0, reg_lambda = 1, n_estimators = i)\n",
        "    XG.fit(X_train_SM,Y_train_SM)\n",
        "    Y_pred_XG_SM = XG.predict(X_test)\n",
        "    XG_score.append(accuracy_score(Y_test,Y_pred_XG_SM))\n",
        "\n",
        "print(XG_score)"
      ],
      "metadata": {
        "colab": {
          "base_uri": "https://localhost:8080/"
        },
        "id": "JFHrydF4SUSS",
        "outputId": "651fff54-fabe-448c-f52e-5ec2e6ab3ea9"
      },
      "execution_count": 162,
      "outputs": [
        {
          "output_type": "stream",
          "name": "stdout",
          "text": [
            "[0.7, 0.8545454545454545, 0.85, 0.8545454545454545, 0.8681818181818182, 0.9, 0.9, 0.9090909090909091, 0.9136363636363637, 0.9090909090909091]\n"
          ]
        }
      ]
    },
    {
      "cell_type": "code",
      "source": [
        "plt.plot(est,XG_score,label = \"test_accuracy\")\n",
        "plt.ylabel(\"accuracy\")\n",
        "plt.xlabel(\"estimators\")\n",
        "plt.legend()"
      ],
      "metadata": {
        "colab": {
          "base_uri": "https://localhost:8080/",
          "height": 302
        },
        "id": "r6ItnNtKSXuL",
        "outputId": "484ed2c0-e87a-4c79-8b1f-c6c525a0d46b"
      },
      "execution_count": 163,
      "outputs": [
        {
          "output_type": "execute_result",
          "data": {
            "text/plain": [
              "<matplotlib.legend.Legend at 0x7f0525972890>"
            ]
          },
          "metadata": {},
          "execution_count": 163
        },
        {
          "output_type": "display_data",
          "data": {
            "text/plain": [
              "<Figure size 432x288 with 1 Axes>"
            ],
            "image/png": "[encoded data removed]"
          },
          "metadata": {
            "needs_background": "light"
          }
        }
      ]
    },
    {
      "cell_type": "code",
      "source": [
        "## Hyper Parameter Optimization\n",
        "\n",
        "params={\n",
        " \"learning_rate\"    : [0.05, 0.10, 0.15, 0.20, 0.25, 0.30 ] ,\n",
        " \"max_depth\"        : [ 3, 4, 5, 6, 8, 10, 12, 15],\n",
        " \"min_child_weight\" : [ 1, 3, 5, 7 ],\n",
        " \"gamma\"            : [ 0.0, 0.1, 0.2 , 0.3, 0.4 ],\n",
        " \"colsample_bytree\" : [ 0.3, 0.4, 0.5 , 0.7 ],\n",
        " \"n_estimators\"    :  [ 10,20,30,40,50,60,70,80,90,100 ]\n",
        "    \n",
        "}"
      ],
      "metadata": {
        "id": "SF3A5Qisushw"
      },
      "execution_count": 186,
      "outputs": []
    },
    {
      "cell_type": "code",
      "source": [
        "## Hyperparameter optimization using RandomizedSearchCV\n",
        "from sklearn.model_selection import RandomizedSearchCV,GridSearchCV\n",
        "import xgboost\n"
      ],
      "metadata": {
        "id": "UptOLFw1uxBB"
      },
      "execution_count": 187,
      "outputs": []
    },
    {
      "cell_type": "code",
      "source": [
        "XG_classifier=xgboost.XGBClassifier()"
      ],
      "metadata": {
        "id": "_G0amEfSu6Iw"
      },
      "execution_count": 188,
      "outputs": []
    },
    {
      "cell_type": "code",
      "source": [
        "XG_search=RandomizedSearchCV(XG_classifier,param_distributions=params,n_iter=5,scoring='roc_auc',n_jobs=-1,cv=5,verbose=3)"
      ],
      "metadata": {
        "id": "c3r3OP0Yu_3h"
      },
      "execution_count": 189,
      "outputs": []
    },
    {
      "cell_type": "code",
      "source": [
        "XG_search.fit(X_train_SM,Y_train_SM)\n",
        "Y_pred_XG_SM_RS = XG_search.predict(X_test)"
      ],
      "metadata": {
        "colab": {
          "base_uri": "https://localhost:8080/"
        },
        "id": "-5Utt8ALvHtz",
        "outputId": "edc569e1-edc7-4105-e9f4-bb27088f983b"
      },
      "execution_count": 190,
      "outputs": [
        {
          "output_type": "stream",
          "name": "stdout",
          "text": [
            "Fitting 5 folds for each of 5 candidates, totalling 25 fits\n"
          ]
        }
      ]
    },
    {
      "cell_type": "code",
      "source": [
        "best_xg = XG_search.best_estimator_"
      ],
      "metadata": {
        "id": "uoPR8K-R3R7r"
      },
      "execution_count": 191,
      "outputs": []
    },
    {
      "cell_type": "code",
      "source": [
        "best_xg"
      ],
      "metadata": {
        "colab": {
          "base_uri": "https://localhost:8080/"
        },
        "id": "AfJafi603aIm",
        "outputId": "4c3aff1a-50b4-43ca-f065-9fdcdfa30cc4"
      },
      "execution_count": 192,
      "outputs": [
        {
          "output_type": "execute_result",
          "data": {
            "text/plain": [
              "XGBClassifier(colsample_bytree=0.7, gamma=0.3, learning_rate=0.2, max_depth=8,\n",
              "              n_estimators=20)"
            ]
          },
          "metadata": {},
          "execution_count": 192
        }
      ]
    },
    {
      "cell_type": "code",
      "source": [
        "best_xg.fit(X_train_SM,Y_train_SM)\n",
        "Y_pred_XG_SM_RS = best_xg.predict(X_test)"
      ],
      "metadata": {
        "id": "0fO5JmXi3eev"
      },
      "execution_count": 193,
      "outputs": []
    },
    {
      "cell_type": "code",
      "source": [
        "print(confusion_matrix(Y_test,Y_pred_XG_SM_RS))\n",
        "print(accuracy_score(Y_test,Y_pred_XG_SM_RS))\n",
        "print(classification_report(Y_test,Y_pred_XG_SM_RS))"
      ],
      "metadata": {
        "colab": {
          "base_uri": "https://localhost:8080/"
        },
        "id": "rPnWAGPZ3nXo",
        "outputId": "0adb0ae1-1d21-4c7b-9267-790c775a7967"
      },
      "execution_count": 194,
      "outputs": [
        {
          "output_type": "stream",
          "name": "stdout",
          "text": [
            "[[148   9]\n",
            " [  9  54]]\n",
            "0.9181818181818182\n",
            "              precision    recall  f1-score   support\n",
            "\n",
            "         0.0       0.94      0.94      0.94       157\n",
            "         1.0       0.86      0.86      0.86        63\n",
            "\n",
            "    accuracy                           0.92       220\n",
            "   macro avg       0.90      0.90      0.90       220\n",
            "weighted avg       0.92      0.92      0.92       220\n",
            "\n"
          ]
        }
      ]
    },
    {
      "cell_type": "code",
      "source": [
        "pip install catboost\n"
      ],
      "metadata": {
        "colab": {
          "base_uri": "https://localhost:8080/"
        },
        "id": "A-zeh-rysT2e",
        "outputId": "0b674712-9a8e-4324-8f1e-524aa35261ac"
      },
      "execution_count": 173,
      "outputs": [
        {
          "output_type": "stream",
          "name": "stdout",
          "text": [
            "Requirement already satisfied: catboost in /usr/local/lib/python3.7/dist-packages (1.0.5)\n",
            "Requirement already satisfied: six in /usr/local/lib/python3.7/dist-packages (from catboost) (1.15.0)\n",
            "Requirement already satisfied: graphviz in /usr/local/lib/python3.7/dist-packages (from catboost) (0.10.1)\n",
            "Requirement already satisfied: plotly in /usr/local/lib/python3.7/dist-packages (from catboost) (5.5.0)\n",
            "Requirement already satisfied: scipy in /usr/local/lib/python3.7/dist-packages (from catboost) (1.4.1)\n",
            "Requirement already satisfied: matplotlib in /usr/local/lib/python3.7/dist-packages (from catboost) (3.2.2)\n",
            "Requirement already satisfied: pandas>=0.24.0 in /usr/local/lib/python3.7/dist-packages (from catboost) (1.3.5)\n",
            "Requirement already satisfied: numpy>=1.16.0 in /usr/local/lib/python3.7/dist-packages (from catboost) (1.21.6)\n",
            "Requirement already satisfied: python-dateutil>=2.7.3 in /usr/local/lib/python3.7/dist-packages (from pandas>=0.24.0->catboost) (2.8.2)\n",
            "Requirement already satisfied: pytz>=2017.3 in /usr/local/lib/python3.7/dist-packages (from pandas>=0.24.0->catboost) (2022.1)\n",
            "Requirement already satisfied: cycler>=0.10 in /usr/local/lib/python3.7/dist-packages (from matplotlib->catboost) (0.11.0)\n",
            "Requirement already satisfied: pyparsing!=2.0.4,!=2.1.2,!=2.1.6,>=2.0.1 in /usr/local/lib/python3.7/dist-packages (from matplotlib->catboost) (3.0.8)\n",
            "Requirement already satisfied: kiwisolver>=1.0.1 in /usr/local/lib/python3.7/dist-packages (from matplotlib->catboost) (1.4.2)\n",
            "Requirement already satisfied: typing-extensions in /usr/local/lib/python3.7/dist-packages (from kiwisolver>=1.0.1->matplotlib->catboost) (4.2.0)\n",
            "Requirement already satisfied: tenacity>=6.2.0 in /usr/local/lib/python3.7/dist-packages (from plotly->catboost) (8.0.1)\n"
          ]
        }
      ]
    },
    {
      "cell_type": "code",
      "source": [
        "SEED = 1234\n",
        "\n",
        "params = {'iterations':5000,\n",
        "        'learning_rate':0.01,\n",
        "        'depth':3,\n",
        "        'eval_metric':'AUC',\n",
        "        'verbose':200,\n",
        "        'od_type':\"Iter\", # overfit detector\n",
        "        'od_wait':500, # most recent best iteration to wait before stopping\n",
        "        'random_seed': SEED\n",
        "          }\n",
        "\n",
        "from catboost import CatBoostClassifier \n",
        "cat_model = CatBoostClassifier(**params)\n",
        "cat_model.fit(X_train_SM, Y_train_SM)\n",
        "Y_pred_CAT_SM = cat_model.predict(X_test)"
      ],
      "metadata": {
        "colab": {
          "base_uri": "https://localhost:8080/"
        },
        "id": "19NlSOsfqwYl",
        "outputId": "d3a5f218-d8bd-4423-da3a-268efd568b14"
      },
      "execution_count": 174,
      "outputs": [
        {
          "output_type": "stream",
          "name": "stdout",
          "text": [
            "0:\ttotal: 913us\tremaining: 4.57s\n",
            "200:\ttotal: 137ms\tremaining: 3.26s\n",
            "400:\ttotal: 264ms\tremaining: 3.02s\n",
            "600:\ttotal: 392ms\tremaining: 2.87s\n",
            "800:\ttotal: 521ms\tremaining: 2.73s\n",
            "1000:\ttotal: 658ms\tremaining: 2.63s\n",
            "1200:\ttotal: 787ms\tremaining: 2.49s\n",
            "1400:\ttotal: 911ms\tremaining: 2.34s\n",
            "1600:\ttotal: 1.19s\tremaining: 2.52s\n",
            "1800:\ttotal: 1.38s\tremaining: 2.46s\n",
            "2000:\ttotal: 1.51s\tremaining: 2.26s\n",
            "2200:\ttotal: 1.63s\tremaining: 2.08s\n",
            "2400:\ttotal: 1.77s\tremaining: 1.92s\n",
            "2600:\ttotal: 1.9s\tremaining: 1.75s\n",
            "2800:\ttotal: 2.04s\tremaining: 1.6s\n",
            "3000:\ttotal: 2.16s\tremaining: 1.44s\n",
            "3200:\ttotal: 2.29s\tremaining: 1.29s\n",
            "3400:\ttotal: 2.42s\tremaining: 1.14s\n",
            "3600:\ttotal: 2.57s\tremaining: 999ms\n",
            "3800:\ttotal: 2.7s\tremaining: 851ms\n",
            "4000:\ttotal: 2.82s\tremaining: 705ms\n",
            "4200:\ttotal: 2.95s\tremaining: 561ms\n",
            "4400:\ttotal: 3.12s\tremaining: 425ms\n",
            "4600:\ttotal: 3.34s\tremaining: 290ms\n",
            "4800:\ttotal: 3.49s\tremaining: 145ms\n",
            "4999:\ttotal: 3.62s\tremaining: 0us\n"
          ]
        }
      ]
    },
    {
      "cell_type": "code",
      "source": [
        "print(confusion_matrix(Y_test,Y_pred_CAT_SM))\n",
        "print(accuracy_score(Y_test,Y_pred_CAT_SM))\n",
        "print(classification_report(Y_test,Y_pred_CAT_SM))"
      ],
      "metadata": {
        "colab": {
          "base_uri": "https://localhost:8080/"
        },
        "id": "VhGdJsRrtkPJ",
        "outputId": "7e4f24e3-a7e0-4f59-88df-d8b8c81e340c"
      },
      "execution_count": 175,
      "outputs": [
        {
          "output_type": "stream",
          "name": "stdout",
          "text": [
            "[[148   9]\n",
            " [  7  56]]\n",
            "0.9272727272727272\n",
            "              precision    recall  f1-score   support\n",
            "\n",
            "         0.0       0.95      0.94      0.95       157\n",
            "         1.0       0.86      0.89      0.88        63\n",
            "\n",
            "    accuracy                           0.93       220\n",
            "   macro avg       0.91      0.92      0.91       220\n",
            "weighted avg       0.93      0.93      0.93       220\n",
            "\n"
          ]
        }
      ]
    },
    {
      "cell_type": "code",
      "source": [
        "print('Acc_XG_SM:', accuracy_score(Y_test,Y_pred_XG_SM))\n",
        "print('Acc_GRB_SM:', accuracy_score(Y_test,Y_pred_gbr_SM))\n",
        "print('Acc_ADB_SM:', accuracy_score(Y_test,Y_pred_adb_SM))\n",
        "print('Acc_RF_SM:', accuracy_score(Y_test,Y_pred_rf_SM))\n",
        "print('Acc_BAG_SM:', accuracy_score(Y_test,Y_pred_bag_SM))\n",
        "print('Acc_DT_SM:', accuracy_score(Y_test,Y_pred_dt_SM))\n",
        "print('Acc_SGD_SM:', accuracy_score(Y_test,Y_pred_sgd_SM))\n",
        "print('Acc_SVM_POLY_SM:', accuracy_score(Y_test,Y_pred_svm_poly_SM))\n",
        "print('Acc_SVM_RBF_SM:', accuracy_score(Y_test,Y_pred_svm_rbf_SM))\n",
        "print('Acc_SVM_LINEAR_SM:', accuracy_score(Y_test,Y_pred_svm_linear_SM))\n",
        "print('Acc_KNN_SM:', accuracy_score(Y_test,Y_pred_knn_SM))\n",
        "print('Acc_LR_SM:', accuracy_score(Y_test,y_pred_lr_SM))\n",
        "print('Acc_LR_CAT:', accuracy_score(Y_test,Y_pred_CAT_SM))"
      ],
      "metadata": {
        "colab": {
          "base_uri": "https://localhost:8080/"
        },
        "id": "ydmctA9-SfLB",
        "outputId": "df635504-8e9f-4d77-a70e-c4db8d04b0db"
      },
      "execution_count": 176,
      "outputs": [
        {
          "output_type": "stream",
          "name": "stdout",
          "text": [
            "Acc_XG_SM: 0.9090909090909091\n",
            "Acc_GRB_SM: 0.9045454545454545\n",
            "Acc_ADB_SM: 0.9090909090909091\n",
            "Acc_RF_SM: 0.9136363636363637\n",
            "Acc_BAG_SM: 0.8954545454545455\n",
            "Acc_DT_SM: 0.8772727272727273\n",
            "Acc_SGD_SM: 0.6954545454545454\n",
            "Acc_SVM_POLY_SM: 0.8272727272727273\n",
            "Acc_SVM_RBF_SM: 0.8363636363636363\n",
            "Acc_SVM_LINEAR_SM: 0.759090909090909\n",
            "Acc_KNN_SM: 0.7681818181818182\n",
            "Acc_LR_SM: 0.7818181818181819\n",
            "Acc_LR_CAT: 0.9272727272727272\n"
          ]
        }
      ]
    },
    {
      "cell_type": "code",
      "source": [
        "#'''''**** Accuracy Score including all feature ****''''''''\n",
        "Acc_XG_SM: 0.8909090909090909                       \n",
        "Acc_GRB_SM: 0.9136363636363637\n",
        "Acc_ADB_SM: 0.8681818181818182\n",
        "Acc_RF_SM: 0.9272727272727272\n",
        "Acc_BAG_SM: 0.9318181818181818\n",
        "Acc_DT_SM: 0.8681818181818182\n",
        "Acc_SGD_SM: 0.7136363636363636\n",
        "Acc_SVM_POLY_SM: 0.7954545454545454\n",
        "Acc_SVM_RBF_SM: 0.8681818181818182\n",
        "Acc_SVM_LINEAR_SM: 0.7727272727272727\n",
        "Acc_KNN_SM: 0.7772727272727272\n",
        "Acc_LR_SM: 0.8090909090909091 ##********'''''''''''''''''''\n",
        "\n",
        "#'''''**** Accuracy Score after feature selection****''''''''\n",
        "\n",
        "Acc_XG_SM: 0.8818181818181818\n",
        "Acc_GRB_SM: 0.8909090909090909\n",
        "Acc_ADB_SM: 0.8727272727272727\n",
        "Acc_RF_SM: 0.9181818181818182\n",
        "Acc_BAG_SM: 0.9090909090909091\n",
        "Acc_DT_SM: 0.8772727272727273\n",
        "Acc_SGD_SM: 0.7227272727272728\n",
        "Acc_SVM_POLY_SM: 0.8363636363636363\n",
        "Acc_SVM_RBF_SM: 0.8090909090909091\n",
        "Acc_SVM_LINEAR_SM: 0.7636363636363637\n",
        "Acc_KNN_SM: 0.7772727272727272\n",
        "Acc_LR_SM: 0.75 ##********'''''''''''''''''''\n"
      ],
      "metadata": {
        "id": "TvemNxOfj4ah"
      },
      "execution_count": 177,
      "outputs": []
    }
  ]
}