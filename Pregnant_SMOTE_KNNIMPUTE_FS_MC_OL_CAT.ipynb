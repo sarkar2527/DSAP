{
  "nbformat": 4,
  "nbformat_minor": 0,
  "metadata": {
    "colab": {
      "name": "Pregnant_SMOTE_KNNIMPUTE_FS_MC_OL_CAT.ipynb",
      "provenance": [],
      "collapsed_sections": [],
      "authorship_tag": "ABX9TyNN1D8+M3spBFQ56TlTC+zA",
      "include_colab_link": true
    },
    "kernelspec": {
      "name": "python3",
      "display_name": "Python 3"
    },
    "language_info": {
      "name": "python"
    }
  },
  "cells": [
    {
      "cell_type": "markdown",
      "metadata": {
        "id": "view-in-github",
        "colab_type": "text"
      },
      "source": [
        "<a href=\"https://colab.research.google.com/github/sarkar2527/DSAP/blob/main/Pregnant_SMOTE_KNNIMPUTE_FS_MC_OL_CAT.ipynb\" target=\"_parent\"><img src=\"https://colab.research.google.com/assets/colab-badge.svg\" alt=\"Open In Colab\"/></a>"
      ]
    },
    {
      "cell_type": "code",
      "source": [
        "from google.colab import drive\n",
        "drive.mount('/content/drive')"
      ],
      "metadata": {
        "colab": {
          "base_uri": "https://localhost:8080/"
        },
        "id": "r9cDXaj5NOlA",
        "outputId": "79a545b9-09a1-4136-e802-11157f184465"
      },
      "execution_count": 2,
      "outputs": [
        {
          "output_type": "stream",
          "name": "stdout",
          "text": [
            "Mounted at /content/drive\n"
          ]
        }
      ]
    },
    {
      "cell_type": "code",
      "source": [
        "#Importing the neccessary Libraries\n",
        "import numpy as np\n",
        "import pandas as pd\n",
        "import matplotlib.pyplot as plt\n",
        "import seaborn as sns\n",
        "sns.set()\n",
        "%matplotlib inline"
      ],
      "metadata": {
        "id": "qjurcZJdNTJg"
      },
      "execution_count": 3,
      "outputs": []
    },
    {
      "cell_type": "code",
      "source": [
        "# Read the Training Data\n",
        "train_data = pd.read_csv(\"/content/drive/MyDrive/GeekLurn_ML_Session/Proj2_Train.csv\")\n",
        "\n",
        "# Read the test Data\n",
        "test_data = pd.read_csv(\"/content/drive/MyDrive/GeekLurn_ML_Session/Proj2_Test.csv\")\n",
        "\n",
        "train_data.shape,test_data.shape"
      ],
      "metadata": {
        "colab": {
          "base_uri": "https://localhost:8080/"
        },
        "id": "vGNS8xWONZWz",
        "outputId": "dd23b9c6-0419-47c3-b884-288f6772b19c"
      },
      "execution_count": 4,
      "outputs": [
        {
          "output_type": "execute_result",
          "data": {
            "text/plain": [
              "((1000, 16), (100, 15))"
            ]
          },
          "metadata": {},
          "execution_count": 4
        }
      ]
    },
    {
      "cell_type": "code",
      "source": [
        "df = pd.concat([train_data,test_data],axis = 0)\n",
        "\n",
        "df.shape"
      ],
      "metadata": {
        "colab": {
          "base_uri": "https://localhost:8080/"
        },
        "id": "MKF4iOidNgNY",
        "outputId": "5bca9a80-999b-41f7-e1f3-6e78b3612c15"
      },
      "execution_count": 5,
      "outputs": [
        {
          "output_type": "execute_result",
          "data": {
            "text/plain": [
              "(1100, 16)"
            ]
          },
          "metadata": {},
          "execution_count": 5
        }
      ]
    },
    {
      "cell_type": "code",
      "source": [
        "\n",
        "#Removing Unnecessary Features\n",
        "df.drop(['Sl No','Sample ID','Unnamed: 15','Consistency_Score'], axis = 1, inplace = True)"
      ],
      "metadata": {
        "id": "MJhXt37dNl_x"
      },
      "execution_count": 6,
      "outputs": []
    },
    {
      "cell_type": "code",
      "source": [
        "df.isnull().sum()"
      ],
      "metadata": {
        "colab": {
          "base_uri": "https://localhost:8080/"
        },
        "id": "Arzbrl-qNqRx",
        "outputId": "cf824aef-0bb8-459e-a5e3-0dfc58229386"
      },
      "execution_count": 7,
      "outputs": [
        {
          "output_type": "execute_result",
          "data": {
            "text/plain": [
              "Age                     0\n",
              "Ob_Score                0\n",
              "BMI                     0\n",
              "Position_Score          0\n",
              "Effacement_Score        0\n",
              "Dialation_Score         0\n",
              "Station_Score           0\n",
              "Total_Bishop_Score      0\n",
              "Cerv_Len_cms          660\n",
              "Cerv_Wid_cms          660\n",
              "Induction               0\n",
              "Del_mode                0\n",
              "dtype: int64"
            ]
          },
          "metadata": {},
          "execution_count": 7
        }
      ]
    },
    {
      "cell_type": "code",
      "source": [
        "from sklearn.preprocessing import LabelEncoder\n",
        "le = LabelEncoder()\n",
        "df['Ob_Score'] = le.fit_transform(df['Ob_Score'])"
      ],
      "metadata": {
        "id": "OjpKVIanNwhv"
      },
      "execution_count": 8,
      "outputs": []
    },
    {
      "cell_type": "code",
      "source": [
        "from sklearn.impute import KNNImputer\n",
        "imputer = KNNImputer(n_neighbors=5)\n",
        "df = pd.DataFrame(imputer.fit_transform(df),columns = df.columns)"
      ],
      "metadata": {
        "id": "HbbMZ5SNOAnA"
      },
      "execution_count": 9,
      "outputs": []
    },
    {
      "cell_type": "code",
      "source": [
        "df.isnull().sum()"
      ],
      "metadata": {
        "colab": {
          "base_uri": "https://localhost:8080/"
        },
        "id": "G5d0p9ADOEhf",
        "outputId": "ddceb03e-c084-46f4-b28b-07366f2eb79c"
      },
      "execution_count": 10,
      "outputs": [
        {
          "output_type": "execute_result",
          "data": {
            "text/plain": [
              "Age                   0\n",
              "Ob_Score              0\n",
              "BMI                   0\n",
              "Position_Score        0\n",
              "Effacement_Score      0\n",
              "Dialation_Score       0\n",
              "Station_Score         0\n",
              "Total_Bishop_Score    0\n",
              "Cerv_Len_cms          0\n",
              "Cerv_Wid_cms          0\n",
              "Induction             0\n",
              "Del_mode              0\n",
              "dtype: int64"
            ]
          },
          "metadata": {},
          "execution_count": 10
        }
      ]
    },
    {
      "cell_type": "code",
      "source": [
        "sns.countplot(df['Del_mode'])"
      ],
      "metadata": {
        "colab": {
          "base_uri": "https://localhost:8080/",
          "height": 357
        },
        "id": "0xGm7fbwOJ9B",
        "outputId": "cf4ec4be-6806-448e-8d0f-081905f684b1"
      },
      "execution_count": 11,
      "outputs": [
        {
          "output_type": "stream",
          "name": "stderr",
          "text": [
            "/usr/local/lib/python3.7/dist-packages/seaborn/_decorators.py:43: FutureWarning: Pass the following variable as a keyword arg: x. From version 0.12, the only valid positional argument will be `data`, and passing other arguments without an explicit keyword will result in an error or misinterpretation.\n",
            "  FutureWarning\n"
          ]
        },
        {
          "output_type": "execute_result",
          "data": {
            "text/plain": [
              "<matplotlib.axes._subplots.AxesSubplot at 0x7f31115f85d0>"
            ]
          },
          "metadata": {},
          "execution_count": 11
        },
        {
          "output_type": "display_data",
          "data": {
            "text/plain": [
              "<Figure size 432x288 with 1 Axes>"
            ],
            "image/png": "[encoded data removed]"
          },
          "metadata": {
            "needs_background": "light"
          }
        }
      ]
    },
    {
      "cell_type": "code",
      "source": [
        "fig = plt.figure(figsize =(16, 10))\n",
        "sns.boxplot(data= df, linewidth=1)\n",
        "plt.xticks(rotation='vertical')\n",
        "plt.show()"
      ],
      "metadata": {
        "colab": {
          "base_uri": "https://localhost:8080/",
          "height": 689
        },
        "id": "mT7iMUlIOReq",
        "outputId": "ff1e48af-3f32-4150-cd2c-252fcbb54633"
      },
      "execution_count": 12,
      "outputs": [
        {
          "output_type": "display_data",
          "data": {
            "text/plain": [
              "<Figure size 1152x720 with 1 Axes>"
            ],
            "image/png": "[encoded data removed]"
          },
          "metadata": {
            "needs_background": "light"
          }
        }
      ]
    },
    {
      "cell_type": "code",
      "source": [
        "def outliers (df , ft) :\n",
        "    Q1= df[ft].quantile(0.25)\n",
        "    Q3= df[ft].quantile(0.75)\n",
        "    \n",
        "    IQR = Q3-Q1\n",
        "    \n",
        "    lower_bound = Q1 - 1.5*IQR\n",
        "    upper_bound = Q3 + 1.5*IQR\n",
        "    \n",
        "    ls = df.index[(df[ft] < lower_bound )| (df[ft] > upper_bound )]\n",
        "    \n",
        "    return ls"
      ],
      "metadata": {
        "id": "wSp2kGZoOaJF"
      },
      "execution_count": 13,
      "outputs": []
    },
    {
      "cell_type": "code",
      "source": [
        "def remove (df, ls ):\n",
        "    ls = sorted(set(ls))\n",
        "    df = df.drop(ls)\n",
        "    \n",
        "    return df"
      ],
      "metadata": {
        "id": "YsXAp3zKOdtF"
      },
      "execution_count": 14,
      "outputs": []
    },
    {
      "cell_type": "code",
      "source": [
        "index_list = []\n",
        "for feature in [\n",
        " 'Age',\n",
        " 'Ob_Score',\n",
        " 'BMI',\n",
        " 'Position_Score',\n",
        " 'Dialation_Score',\n",
        " 'Station_Score',\n",
        " 'Total_Bishop_Score',\n",
        " 'Cerv_Len_cms',\n",
        " 'Cerv_Wid_cms',\n",
        " 'Induction',\n",
        " 'Del_mode']:\n",
        "    index_list.extend(outliers(df , feature))"
      ],
      "metadata": {
        "id": "hElr1pAHOiDf"
      },
      "execution_count": 15,
      "outputs": []
    },
    {
      "cell_type": "code",
      "source": [
        "df1 = remove(df,index_list)"
      ],
      "metadata": {
        "id": "PHlY9A5fOjQ9"
      },
      "execution_count": 16,
      "outputs": []
    },
    {
      "cell_type": "code",
      "source": [
        "df1.shape"
      ],
      "metadata": {
        "colab": {
          "base_uri": "https://localhost:8080/"
        },
        "id": "E5A5ZYLhOnZU",
        "outputId": "70b5ff6b-b189-4685-d9ef-232f38e20726"
      },
      "execution_count": 17,
      "outputs": [
        {
          "output_type": "execute_result",
          "data": {
            "text/plain": [
              "(732, 12)"
            ]
          },
          "metadata": {},
          "execution_count": 17
        }
      ]
    },
    {
      "cell_type": "code",
      "source": [
        "sns.countplot(df1['Del_mode'])"
      ],
      "metadata": {
        "colab": {
          "base_uri": "https://localhost:8080/",
          "height": 357
        },
        "id": "6URXU0dfOwRF",
        "outputId": "12f8fcf8-1633-4575-8a9a-e84322126b30"
      },
      "execution_count": 18,
      "outputs": [
        {
          "output_type": "stream",
          "name": "stderr",
          "text": [
            "/usr/local/lib/python3.7/dist-packages/seaborn/_decorators.py:43: FutureWarning: Pass the following variable as a keyword arg: x. From version 0.12, the only valid positional argument will be `data`, and passing other arguments without an explicit keyword will result in an error or misinterpretation.\n",
            "  FutureWarning\n"
          ]
        },
        {
          "output_type": "execute_result",
          "data": {
            "text/plain": [
              "<matplotlib.axes._subplots.AxesSubplot at 0x7f310e6ebf90>"
            ]
          },
          "metadata": {},
          "execution_count": 18
        },
        {
          "output_type": "display_data",
          "data": {
            "text/plain": [
              "<Figure size 432x288 with 1 Axes>"
            ],
            "image/png": "[encoded data removed]"
          },
          "metadata": {
            "needs_background": "light"
          }
        }
      ]
    },
    {
      "cell_type": "code",
      "source": [
        "fig = plt.figure(figsize =(16, 10))\n",
        "sns.boxplot(data= df1, linewidth=1)\n",
        "plt.xticks(rotation='vertical')\n",
        "plt.show()"
      ],
      "metadata": {
        "colab": {
          "base_uri": "https://localhost:8080/",
          "height": 689
        },
        "id": "rCxnSncMO1g3",
        "outputId": "76f5632b-8b09-4a69-a094-4f81451721eb"
      },
      "execution_count": 19,
      "outputs": [
        {
          "output_type": "display_data",
          "data": {
            "text/plain": [
              "<Figure size 1152x720 with 1 Axes>"
            ],
            "image/png": "[encoded data removed]"
          },
          "metadata": {
            "needs_background": "light"
          }
        }
      ]
    },
    {
      "cell_type": "code",
      "source": [
        "def draw_histograms(dataframe, features, rows, cols):\n",
        "    fig=plt.figure(figsize=(20,20))\n",
        "    for i, feature in enumerate(features):\n",
        "        ax=fig.add_subplot(rows,cols,i+1)\n",
        "        dataframe[feature].hist(bins=20,ax=ax,facecolor='midnightblue')\n",
        "        ax.set_title(feature+\" Distribution\",color='DarkRed')\n",
        "        ax.set_yscale('log')\n",
        "    fig.tight_layout()  \n",
        "    plt.show()\n",
        "\n",
        "draw_histograms(df1,df1.columns,8,4)"
      ],
      "metadata": {
        "colab": {
          "base_uri": "https://localhost:8080/",
          "height": 459
        },
        "id": "JzvgRs2Uo2CY",
        "outputId": "408da681-b384-40d5-fe5a-13dea708fa12"
      },
      "execution_count": 20,
      "outputs": [
        {
          "output_type": "display_data",
          "data": {
            "text/plain": [
              "<Figure size 1440x1440 with 12 Axes>"
            ],
            "image/png": "[encoded data removed]"
          },
          "metadata": {
            "needs_background": "light"
          }
        }
      ]
    },
    {
      "cell_type": "code",
      "source": [
        "df1.describe().T"
      ],
      "metadata": {
        "colab": {
          "base_uri": "https://localhost:8080/",
          "height": 425
        },
        "id": "bUWlAQF8O4nb",
        "outputId": "b2b13e87-ae1c-4693-98c9-b8127c07c543"
      },
      "execution_count": 21,
      "outputs": [
        {
          "output_type": "execute_result",
          "data": {
            "text/plain": [
              "                    count       mean       std        min        25%  \\\n",
              "Age                 732.0  22.965847  2.206862  18.000000  21.000000   \n",
              "Ob_Score            732.0   0.000000  0.000000   0.000000   0.000000   \n",
              "BMI                 732.0  26.605294  2.350415  21.300000  24.769010   \n",
              "Position_Score      732.0   0.517760  0.500026   0.000000   0.000000   \n",
              "Effacement_Score    732.0   0.383880  0.486662   0.000000   0.000000   \n",
              "Dialation_Score     732.0   0.478142  0.499864   0.000000   0.000000   \n",
              "Station_Score       732.0   0.000000  0.000000   0.000000   0.000000   \n",
              "Total_Bishop_Score  732.0   3.438525  0.954673   2.000000   3.000000   \n",
              "Cerv_Len_cms        732.0   2.466463  0.264258   1.870000   2.257082   \n",
              "Cerv_Wid_cms        732.0   1.525365  0.352153   0.493955   1.285786   \n",
              "Induction           732.0   1.000000  0.000000   1.000000   1.000000   \n",
              "Del_mode            732.0   0.288251  0.453258   0.000000   0.000000   \n",
              "\n",
              "                          50%        75%        max  \n",
              "Age                 23.000000  24.000000  30.000000  \n",
              "Ob_Score             0.000000   0.000000   0.000000  \n",
              "BMI                 26.584167  28.602236  31.415765  \n",
              "Position_Score       1.000000   1.000000   1.000000  \n",
              "Effacement_Score     0.000000   1.000000   1.000000  \n",
              "Dialation_Score      0.000000   1.000000   1.000000  \n",
              "Station_Score        0.000000   0.000000   0.000000  \n",
              "Total_Bishop_Score   3.000000   4.000000   5.000000  \n",
              "Cerv_Len_cms         2.462970   2.620523   3.239984  \n",
              "Cerv_Wid_cms         1.565271   1.717773   2.350850  \n",
              "Induction            1.000000   1.000000   1.000000  \n",
              "Del_mode             0.000000   1.000000   1.000000  "
            ],
            "text/html": [
              "\n",
              "  <div id=\"df-7edcbf36-96cb-4653-9d44-f4c341b86274\">\n",
              "    <div class=\"colab-df-container\">\n",
              "      <div>\n",
              "<style scoped>\n",
              "    .dataframe tbody tr th:only-of-type {\n",
              "        vertical-align: middle;\n",
              "    }\n",
              "\n",
              "    .dataframe tbody tr th {\n",
              "        vertical-align: top;\n",
              "    }\n",
              "\n",
              "    .dataframe thead th {\n",
              "        text-align: right;\n",
              "    }\n",
              "</style>\n",
              "<table border=\"1\" class=\"dataframe\">\n",
              "  <thead>\n",
              "    <tr style=\"text-align: right;\">\n",
              "      <th></th>\n",
              "      <th>count</th>\n",
              "      <th>mean</th>\n",
              "      <th>std</th>\n",
              "      <th>min</th>\n",
              "      <th>25%</th>\n",
              "      <th>50%</th>\n",
              "      <th>75%</th>\n",
              "      <th>max</th>\n",
              "    </tr>\n",
              "  </thead>\n",
              "  <tbody>\n",
              "    <tr>\n",
              "      <th>Age</th>\n",
              "      <td>732.0</td>\n",
              "      <td>22.965847</td>\n",
              "      <td>2.206862</td>\n",
              "      <td>18.000000</td>\n",
              "      <td>21.000000</td>\n",
              "      <td>23.000000</td>\n",
              "      <td>24.000000</td>\n",
              "      <td>30.000000</td>\n",
              "    </tr>\n",
              "    <tr>\n",
              "      <th>Ob_Score</th>\n",
              "      <td>732.0</td>\n",
              "      <td>0.000000</td>\n",
              "      <td>0.000000</td>\n",
              "      <td>0.000000</td>\n",
              "      <td>0.000000</td>\n",
              "      <td>0.000000</td>\n",
              "      <td>0.000000</td>\n",
              "      <td>0.000000</td>\n",
              "    </tr>\n",
              "    <tr>\n",
              "      <th>BMI</th>\n",
              "      <td>732.0</td>\n",
              "      <td>26.605294</td>\n",
              "      <td>2.350415</td>\n",
              "      <td>21.300000</td>\n",
              "      <td>24.769010</td>\n",
              "      <td>26.584167</td>\n",
              "      <td>28.602236</td>\n",
              "      <td>31.415765</td>\n",
              "    </tr>\n",
              "    <tr>\n",
              "      <th>Position_Score</th>\n",
              "      <td>732.0</td>\n",
              "      <td>0.517760</td>\n",
              "      <td>0.500026</td>\n",
              "      <td>0.000000</td>\n",
              "      <td>0.000000</td>\n",
              "      <td>1.000000</td>\n",
              "      <td>1.000000</td>\n",
              "      <td>1.000000</td>\n",
              "    </tr>\n",
              "    <tr>\n",
              "      <th>Effacement_Score</th>\n",
              "      <td>732.0</td>\n",
              "      <td>0.383880</td>\n",
              "      <td>0.486662</td>\n",
              "      <td>0.000000</td>\n",
              "      <td>0.000000</td>\n",
              "      <td>0.000000</td>\n",
              "      <td>1.000000</td>\n",
              "      <td>1.000000</td>\n",
              "    </tr>\n",
              "    <tr>\n",
              "      <th>Dialation_Score</th>\n",
              "      <td>732.0</td>\n",
              "      <td>0.478142</td>\n",
              "      <td>0.499864</td>\n",
              "      <td>0.000000</td>\n",
              "      <td>0.000000</td>\n",
              "      <td>0.000000</td>\n",
              "      <td>1.000000</td>\n",
              "      <td>1.000000</td>\n",
              "    </tr>\n",
              "    <tr>\n",
              "      <th>Station_Score</th>\n",
              "      <td>732.0</td>\n",
              "      <td>0.000000</td>\n",
              "      <td>0.000000</td>\n",
              "      <td>0.000000</td>\n",
              "      <td>0.000000</td>\n",
              "      <td>0.000000</td>\n",
              "      <td>0.000000</td>\n",
              "      <td>0.000000</td>\n",
              "    </tr>\n",
              "    <tr>\n",
              "      <th>Total_Bishop_Score</th>\n",
              "      <td>732.0</td>\n",
              "      <td>3.438525</td>\n",
              "      <td>0.954673</td>\n",
              "      <td>2.000000</td>\n",
              "      <td>3.000000</td>\n",
              "      <td>3.000000</td>\n",
              "      <td>4.000000</td>\n",
              "      <td>5.000000</td>\n",
              "    </tr>\n",
              "    <tr>\n",
              "      <th>Cerv_Len_cms</th>\n",
              "      <td>732.0</td>\n",
              "      <td>2.466463</td>\n",
              "      <td>0.264258</td>\n",
              "      <td>1.870000</td>\n",
              "      <td>2.257082</td>\n",
              "      <td>2.462970</td>\n",
              "      <td>2.620523</td>\n",
              "      <td>3.239984</td>\n",
              "    </tr>\n",
              "    <tr>\n",
              "      <th>Cerv_Wid_cms</th>\n",
              "      <td>732.0</td>\n",
              "      <td>1.525365</td>\n",
              "      <td>0.352153</td>\n",
              "      <td>0.493955</td>\n",
              "      <td>1.285786</td>\n",
              "      <td>1.565271</td>\n",
              "      <td>1.717773</td>\n",
              "      <td>2.350850</td>\n",
              "    </tr>\n",
              "    <tr>\n",
              "      <th>Induction</th>\n",
              "      <td>732.0</td>\n",
              "      <td>1.000000</td>\n",
              "      <td>0.000000</td>\n",
              "      <td>1.000000</td>\n",
              "      <td>1.000000</td>\n",
              "      <td>1.000000</td>\n",
              "      <td>1.000000</td>\n",
              "      <td>1.000000</td>\n",
              "    </tr>\n",
              "    <tr>\n",
              "      <th>Del_mode</th>\n",
              "      <td>732.0</td>\n",
              "      <td>0.288251</td>\n",
              "      <td>0.453258</td>\n",
              "      <td>0.000000</td>\n",
              "      <td>0.000000</td>\n",
              "      <td>0.000000</td>\n",
              "      <td>1.000000</td>\n",
              "      <td>1.000000</td>\n",
              "    </tr>\n",
              "  </tbody>\n",
              "</table>\n",
              "</div>\n",
              "      <button class=\"colab-df-convert\" onclick=\"convertToInteractive('df-7edcbf36-96cb-4653-9d44-f4c341b86274')\"\n",
              "              title=\"Convert this dataframe to an interactive table.\"\n",
              "              style=\"display:none;\">\n",
              "        \n",
              "  <svg xmlns=\"http://www.w3.org/2000/svg\" height=\"24px\"viewBox=\"0 0 24 24\"\n",
              "       width=\"24px\">\n",
              "    <path d=\"M0 0h24v24H0V0z\" fill=\"none\"/>\n",
              "    <path d=\"M18.56 5.44l.94 2.06.94-2.06 2.06-.94-2.06-.94-.94-2.06-.94 2.06-2.06.94zm-11 1L8.5 8.5l.94-2.06 2.06-.94-2.06-.94L8.5 2.5l-.94 2.06-2.06.94zm10 10l.94 2.06.94-2.06 2.06-.94-2.06-.94-.94-2.06-.94 2.06-2.06.94z\"/><path d=\"M17.41 7.96l-1.37-1.37c-.4-.4-.92-.59-1.43-.59-.52 0-1.04.2-1.43.59L10.3 9.45l-7.72 7.72c-.78.78-.78 2.05 0 2.83L4 21.41c.39.39.9.59 1.41.59.51 0 1.02-.2 1.41-.59l7.78-7.78 2.81-2.81c.8-.78.8-2.07 0-2.86zM5.41 20L4 18.59l7.72-7.72 1.47 1.35L5.41 20z\"/>\n",
              "  </svg>\n",
              "      </button>\n",
              "      \n",
              "  <style>\n",
              "    .colab-df-container {\n",
              "      display:flex;\n",
              "      flex-wrap:wrap;\n",
              "      gap: 12px;\n",
              "    }\n",
              "\n",
              "    .colab-df-convert {\n",
              "      background-color: #E8F0FE;\n",
              "      border: none;\n",
              "      border-radius: 50%;\n",
              "      cursor: pointer;\n",
              "      display: none;\n",
              "      fill: #1967D2;\n",
              "      height: 32px;\n",
              "      padding: 0 0 0 0;\n",
              "      width: 32px;\n",
              "    }\n",
              "\n",
              "    .colab-df-convert:hover {\n",
              "      background-color: #E2EBFA;\n",
              "      box-shadow: 0px 1px 2px rgba(60, 64, 67, 0.3), 0px 1px 3px 1px rgba(60, 64, 67, 0.15);\n",
              "      fill: #174EA6;\n",
              "    }\n",
              "\n",
              "    [theme=dark] .colab-df-convert {\n",
              "      background-color: #3B4455;\n",
              "      fill: #D2E3FC;\n",
              "    }\n",
              "\n",
              "    [theme=dark] .colab-df-convert:hover {\n",
              "      background-color: #434B5C;\n",
              "      box-shadow: 0px 1px 3px 1px rgba(0, 0, 0, 0.15);\n",
              "      filter: drop-shadow(0px 1px 2px rgba(0, 0, 0, 0.3));\n",
              "      fill: #FFFFFF;\n",
              "    }\n",
              "  </style>\n",
              "\n",
              "      <script>\n",
              "        const buttonEl =\n",
              "          document.querySelector('#df-7edcbf36-96cb-4653-9d44-f4c341b86274 button.colab-df-convert');\n",
              "        buttonEl.style.display =\n",
              "          google.colab.kernel.accessAllowed ? 'block' : 'none';\n",
              "\n",
              "        async function convertToInteractive(key) {\n",
              "          const element = document.querySelector('#df-7edcbf36-96cb-4653-9d44-f4c341b86274');\n",
              "          const dataTable =\n",
              "            await google.colab.kernel.invokeFunction('convertToInteractive',\n",
              "                                                     [key], {});\n",
              "          if (!dataTable) return;\n",
              "\n",
              "          const docLinkHtml = 'Like what you see? Visit the ' +\n",
              "            '<a target=\"_blank\" href=https://colab.research.google.com/notebooks/data_table.ipynb>data table notebook</a>'\n",
              "            + ' to learn more about interactive tables.';\n",
              "          element.innerHTML = '';\n",
              "          dataTable['output_type'] = 'display_data';\n",
              "          await google.colab.output.renderOutput(dataTable, element);\n",
              "          const docLink = document.createElement('div');\n",
              "          docLink.innerHTML = docLinkHtml;\n",
              "          element.appendChild(docLink);\n",
              "        }\n",
              "      </script>\n",
              "    </div>\n",
              "  </div>\n",
              "  "
            ]
          },
          "metadata": {},
          "execution_count": 21
        }
      ]
    },
    {
      "cell_type": "code",
      "source": [
        "df1['Del_mode'].value_counts()"
      ],
      "metadata": {
        "colab": {
          "base_uri": "https://localhost:8080/"
        },
        "id": "iSqrToVeO_LT",
        "outputId": "7ae616ae-c6f9-475a-c492-78baf9f4ccf0"
      },
      "execution_count": 22,
      "outputs": [
        {
          "output_type": "execute_result",
          "data": {
            "text/plain": [
              "0.0    521\n",
              "1.0    211\n",
              "Name: Del_mode, dtype: int64"
            ]
          },
          "metadata": {},
          "execution_count": 22
        }
      ]
    },
    {
      "cell_type": "code",
      "source": [
        "#### Independent and Dependent Features\n",
        "#X=df1.drop(\"Del_mode\",axis=1)\n",
        "#=df1['Del_mode']"
      ],
      "metadata": {
        "id": "SXPNPfkDPBB_"
      },
      "execution_count": 23,
      "outputs": []
    },
    {
      "cell_type": "markdown",
      "source": [
        "**Feature Selection**"
      ],
      "metadata": {
        "id": "yNz0DyiVyEAA"
      }
    },
    {
      "cell_type": "code",
      "source": [
        "#Select K best\n",
        "\n",
        "X=df1.drop(\"Del_mode\",axis=1)\n",
        "Y=df1['Del_mode']\n",
        "\n",
        "from sklearn.feature_selection import SelectKBest\n",
        "from sklearn.feature_selection import chi2\n",
        "\n",
        "Select_KBest_rank_features=SelectKBest(score_func=chi2,k=5)\n",
        "KBest_features=Select_KBest_rank_features.fit(X,Y)\n",
        "\n",
        "df_Kscores=pd.DataFrame(KBest_features.scores_,columns=[\"Score\"])\n",
        "dfcolumns=pd.DataFrame(X.columns)\n",
        "\n",
        "kbest_features_rank=pd.concat([dfcolumns,df_Kscores],axis=1)\n",
        "\n",
        "kbest_features_rank.columns=['Features','K_score']\n",
        "kbest_features_rank\n",
        "\n",
        "print(kbest_features_rank.nlargest(6,'K_score'))"
      ],
      "metadata": {
        "colab": {
          "base_uri": "https://localhost:8080/"
        },
        "id": "z_4RH428yCiD",
        "outputId": "80f1e597-5124-4168-9b41-45b1943ff7a7"
      },
      "execution_count": 24,
      "outputs": [
        {
          "output_type": "stream",
          "name": "stdout",
          "text": [
            "             Features    K_score\n",
            "3      Position_Score  24.053602\n",
            "0                 Age  18.382231\n",
            "4    Effacement_Score   6.260953\n",
            "5     Dialation_Score   6.207169\n",
            "7  Total_Bishop_Score   4.944186\n",
            "9        Cerv_Wid_cms   3.990352\n"
          ]
        }
      ]
    },
    {
      "cell_type": "code",
      "source": [
        "from sklearn.ensemble import ExtraTreesClassifier\n",
        "ET_model=ExtraTreesClassifier()\n",
        "ET_model.fit(X,Y)\n",
        "\n",
        "print(ET_model.feature_importances_)\n",
        "\n",
        "import matplotlib.pyplot as plt\n",
        "ET_ranked_features=pd.Series(ET_model.feature_importances_,index=X.columns)\n",
        "ET_ranked_features.nlargest(10).plot(kind='barh')\n",
        "plt.show()\n",
        "\n",
        "\n",
        "df_ET_rank =pd.DataFrame(ET_model.feature_importances_)\n",
        "\n",
        "dfcolumns=pd.DataFrame(X.columns)\n",
        "\n",
        "ET_features_rank=pd.concat([dfcolumns,df_ET_rank],axis=1)\n",
        "\n",
        "ET_features_rank.columns=['Features','Score']\n",
        "ET_features_rank\n",
        "ET_features_rank.nlargest(6,'Score')"
      ],
      "metadata": {
        "colab": {
          "base_uri": "https://localhost:8080/",
          "height": 523
        },
        "id": "KsQgaEGHyynL",
        "outputId": "23c0109a-4674-4ef4-f99e-a2412f919530"
      },
      "execution_count": 25,
      "outputs": [
        {
          "output_type": "stream",
          "name": "stdout",
          "text": [
            "[0.18519355 0.         0.2342404  0.06488788 0.03829096 0.05429935\n",
            " 0.         0.07988119 0.16074116 0.18246551 0.        ]\n"
          ]
        },
        {
          "output_type": "display_data",
          "data": {
            "text/plain": [
              "<Figure size 432x288 with 1 Axes>"
            ],
            "image/png": "[encoded data removed]"
          },
          "metadata": {
            "needs_background": "light"
          }
        },
        {
          "output_type": "execute_result",
          "data": {
            "text/plain": [
              "             Features     Score\n",
              "2                 BMI  0.234240\n",
              "0                 Age  0.185194\n",
              "9        Cerv_Wid_cms  0.182466\n",
              "8        Cerv_Len_cms  0.160741\n",
              "7  Total_Bishop_Score  0.079881\n",
              "3      Position_Score  0.064888"
            ],
            "text/html": [
              "\n",
              "  <div id=\"df-8643235d-8298-48fa-a8da-88d773d3ec0d\">\n",
              "    <div class=\"colab-df-container\">\n",
              "      <div>\n",
              "<style scoped>\n",
              "    .dataframe tbody tr th:only-of-type {\n",
              "        vertical-align: middle;\n",
              "    }\n",
              "\n",
              "    .dataframe tbody tr th {\n",
              "        vertical-align: top;\n",
              "    }\n",
              "\n",
              "    .dataframe thead th {\n",
              "        text-align: right;\n",
              "    }\n",
              "</style>\n",
              "<table border=\"1\" class=\"dataframe\">\n",
              "  <thead>\n",
              "    <tr style=\"text-align: right;\">\n",
              "      <th></th>\n",
              "      <th>Features</th>\n",
              "      <th>Score</th>\n",
              "    </tr>\n",
              "  </thead>\n",
              "  <tbody>\n",
              "    <tr>\n",
              "      <th>2</th>\n",
              "      <td>BMI</td>\n",
              "      <td>0.234240</td>\n",
              "    </tr>\n",
              "    <tr>\n",
              "      <th>0</th>\n",
              "      <td>Age</td>\n",
              "      <td>0.185194</td>\n",
              "    </tr>\n",
              "    <tr>\n",
              "      <th>9</th>\n",
              "      <td>Cerv_Wid_cms</td>\n",
              "      <td>0.182466</td>\n",
              "    </tr>\n",
              "    <tr>\n",
              "      <th>8</th>\n",
              "      <td>Cerv_Len_cms</td>\n",
              "      <td>0.160741</td>\n",
              "    </tr>\n",
              "    <tr>\n",
              "      <th>7</th>\n",
              "      <td>Total_Bishop_Score</td>\n",
              "      <td>0.079881</td>\n",
              "    </tr>\n",
              "    <tr>\n",
              "      <th>3</th>\n",
              "      <td>Position_Score</td>\n",
              "      <td>0.064888</td>\n",
              "    </tr>\n",
              "  </tbody>\n",
              "</table>\n",
              "</div>\n",
              "      <button class=\"colab-df-convert\" onclick=\"convertToInteractive('df-8643235d-8298-48fa-a8da-88d773d3ec0d')\"\n",
              "              title=\"Convert this dataframe to an interactive table.\"\n",
              "              style=\"display:none;\">\n",
              "        \n",
              "  <svg xmlns=\"http://www.w3.org/2000/svg\" height=\"24px\"viewBox=\"0 0 24 24\"\n",
              "       width=\"24px\">\n",
              "    <path d=\"M0 0h24v24H0V0z\" fill=\"none\"/>\n",
              "    <path d=\"M18.56 5.44l.94 2.06.94-2.06 2.06-.94-2.06-.94-.94-2.06-.94 2.06-2.06.94zm-11 1L8.5 8.5l.94-2.06 2.06-.94-2.06-.94L8.5 2.5l-.94 2.06-2.06.94zm10 10l.94 2.06.94-2.06 2.06-.94-2.06-.94-.94-2.06-.94 2.06-2.06.94z\"/><path d=\"M17.41 7.96l-1.37-1.37c-.4-.4-.92-.59-1.43-.59-.52 0-1.04.2-1.43.59L10.3 9.45l-7.72 7.72c-.78.78-.78 2.05 0 2.83L4 21.41c.39.39.9.59 1.41.59.51 0 1.02-.2 1.41-.59l7.78-7.78 2.81-2.81c.8-.78.8-2.07 0-2.86zM5.41 20L4 18.59l7.72-7.72 1.47 1.35L5.41 20z\"/>\n",
              "  </svg>\n",
              "      </button>\n",
              "      \n",
              "  <style>\n",
              "    .colab-df-container {\n",
              "      display:flex;\n",
              "      flex-wrap:wrap;\n",
              "      gap: 12px;\n",
              "    }\n",
              "\n",
              "    .colab-df-convert {\n",
              "      background-color: #E8F0FE;\n",
              "      border: none;\n",
              "      border-radius: 50%;\n",
              "      cursor: pointer;\n",
              "      display: none;\n",
              "      fill: #1967D2;\n",
              "      height: 32px;\n",
              "      padding: 0 0 0 0;\n",
              "      width: 32px;\n",
              "    }\n",
              "\n",
              "    .colab-df-convert:hover {\n",
              "      background-color: #E2EBFA;\n",
              "      box-shadow: 0px 1px 2px rgba(60, 64, 67, 0.3), 0px 1px 3px 1px rgba(60, 64, 67, 0.15);\n",
              "      fill: #174EA6;\n",
              "    }\n",
              "\n",
              "    [theme=dark] .colab-df-convert {\n",
              "      background-color: #3B4455;\n",
              "      fill: #D2E3FC;\n",
              "    }\n",
              "\n",
              "    [theme=dark] .colab-df-convert:hover {\n",
              "      background-color: #434B5C;\n",
              "      box-shadow: 0px 1px 3px 1px rgba(0, 0, 0, 0.15);\n",
              "      filter: drop-shadow(0px 1px 2px rgba(0, 0, 0, 0.3));\n",
              "      fill: #FFFFFF;\n",
              "    }\n",
              "  </style>\n",
              "\n",
              "      <script>\n",
              "        const buttonEl =\n",
              "          document.querySelector('#df-8643235d-8298-48fa-a8da-88d773d3ec0d button.colab-df-convert');\n",
              "        buttonEl.style.display =\n",
              "          google.colab.kernel.accessAllowed ? 'block' : 'none';\n",
              "\n",
              "        async function convertToInteractive(key) {\n",
              "          const element = document.querySelector('#df-8643235d-8298-48fa-a8da-88d773d3ec0d');\n",
              "          const dataTable =\n",
              "            await google.colab.kernel.invokeFunction('convertToInteractive',\n",
              "                                                     [key], {});\n",
              "          if (!dataTable) return;\n",
              "\n",
              "          const docLinkHtml = 'Like what you see? Visit the ' +\n",
              "            '<a target=\"_blank\" href=https://colab.research.google.com/notebooks/data_table.ipynb>data table notebook</a>'\n",
              "            + ' to learn more about interactive tables.';\n",
              "          element.innerHTML = '';\n",
              "          dataTable['output_type'] = 'display_data';\n",
              "          await google.colab.output.renderOutput(dataTable, element);\n",
              "          const docLink = document.createElement('div');\n",
              "          docLink.innerHTML = docLinkHtml;\n",
              "          element.appendChild(docLink);\n",
              "        }\n",
              "      </script>\n",
              "    </div>\n",
              "  </div>\n",
              "  "
            ]
          },
          "metadata": {},
          "execution_count": 25
        }
      ]
    },
    {
      "cell_type": "code",
      "source": [
        "from sklearn.feature_selection import mutual_info_classif\n",
        "mutual_info=mutual_info_classif(X,Y)\n",
        "\n",
        "mutual_data=pd.Series(mutual_info,index=X.columns)\n",
        "mutual_data.sort_values(ascending=False)\n",
        "\n",
        "print(mutual_data.nlargest(6))\n",
        "\n",
        "mutual_data.nlargest(6).plot(kind='barh')\n",
        "plt.show()"
      ],
      "metadata": {
        "colab": {
          "base_uri": "https://localhost:8080/",
          "height": 389
        },
        "id": "E-PfjP5SzFXl",
        "outputId": "c352c175-844e-4085-831a-8af15bb9459b"
      },
      "execution_count": 26,
      "outputs": [
        {
          "output_type": "stream",
          "name": "stdout",
          "text": [
            "Cerv_Wid_cms          0.202686\n",
            "Cerv_Len_cms          0.192660\n",
            "BMI                   0.157632\n",
            "Age                   0.053333\n",
            "Total_Bishop_Score    0.045699\n",
            "Position_Score        0.029403\n",
            "dtype: float64\n"
          ]
        },
        {
          "output_type": "display_data",
          "data": {
            "text/plain": [
              "<Figure size 432x288 with 1 Axes>"
            ],
            "image/png": "[encoded data removed]"
          },
          "metadata": {
            "needs_background": "light"
          }
        }
      ]
    },
    {
      "cell_type": "code",
      "source": [
        "X.corr()"
      ],
      "metadata": {
        "colab": {
          "base_uri": "https://localhost:8080/",
          "height": 458
        },
        "id": "R6BEksa71jwF",
        "outputId": "09298d72-664b-4fa2-8a43-6854ff0e54d0"
      },
      "execution_count": 27,
      "outputs": [
        {
          "output_type": "execute_result",
          "data": {
            "text/plain": [
              "                         Age  Ob_Score       BMI  Position_Score  \\\n",
              "Age                 1.000000       NaN  0.123797        0.169769   \n",
              "Ob_Score                 NaN       NaN       NaN             NaN   \n",
              "BMI                 0.123797       NaN  1.000000       -0.272309   \n",
              "Position_Score      0.169769       NaN -0.272309        1.000000   \n",
              "Effacement_Score    0.101386       NaN -0.091017        0.306433   \n",
              "Dialation_Score    -0.121587       NaN -0.040565        0.069970   \n",
              "Station_Score            NaN       NaN       NaN             NaN   \n",
              "Total_Bishop_Score  0.116852       NaN -0.143398        0.604094   \n",
              "Cerv_Len_cms        0.349887       NaN  0.003799       -0.055794   \n",
              "Cerv_Wid_cms       -0.067838       NaN  0.089321        0.066978   \n",
              "Induction                NaN       NaN       NaN             NaN   \n",
              "\n",
              "                    Effacement_Score  Dialation_Score  Station_Score  \\\n",
              "Age                         0.101386        -0.121587            NaN   \n",
              "Ob_Score                         NaN              NaN            NaN   \n",
              "BMI                        -0.091017        -0.040565            NaN   \n",
              "Position_Score              0.306433         0.069970            NaN   \n",
              "Effacement_Score            1.000000         0.211679            NaN   \n",
              "Dialation_Score             0.211679         1.000000            NaN   \n",
              "Station_Score                    NaN              NaN            NaN   \n",
              "Total_Bishop_Score          0.667721         0.560480            NaN   \n",
              "Cerv_Len_cms               -0.454967        -0.248567            NaN   \n",
              "Cerv_Wid_cms                0.224209         0.157385            NaN   \n",
              "Induction                        NaN              NaN            NaN   \n",
              "\n",
              "                    Total_Bishop_Score  Cerv_Len_cms  Cerv_Wid_cms  Induction  \n",
              "Age                           0.116852      0.349887     -0.067838        NaN  \n",
              "Ob_Score                           NaN           NaN           NaN        NaN  \n",
              "BMI                          -0.143398      0.003799      0.089321        NaN  \n",
              "Position_Score                0.604094     -0.055794      0.066978        NaN  \n",
              "Effacement_Score              0.667721     -0.454967      0.224209        NaN  \n",
              "Dialation_Score               0.560480     -0.248567      0.157385        NaN  \n",
              "Station_Score                      NaN           NaN           NaN        NaN  \n",
              "Total_Bishop_Score            1.000000     -0.398518      0.200704        NaN  \n",
              "Cerv_Len_cms                 -0.398518      1.000000     -0.123929        NaN  \n",
              "Cerv_Wid_cms                  0.200704     -0.123929      1.000000        NaN  \n",
              "Induction                          NaN           NaN           NaN        NaN  "
            ],
            "text/html": [
              "\n",
              "  <div id=\"df-35346b05-7133-4a66-ae10-deb44c68a0a6\">\n",
              "    <div class=\"colab-df-container\">\n",
              "      <div>\n",
              "<style scoped>\n",
              "    .dataframe tbody tr th:only-of-type {\n",
              "        vertical-align: middle;\n",
              "    }\n",
              "\n",
              "    .dataframe tbody tr th {\n",
              "        vertical-align: top;\n",
              "    }\n",
              "\n",
              "    .dataframe thead th {\n",
              "        text-align: right;\n",
              "    }\n",
              "</style>\n",
              "<table border=\"1\" class=\"dataframe\">\n",
              "  <thead>\n",
              "    <tr style=\"text-align: right;\">\n",
              "      <th></th>\n",
              "      <th>Age</th>\n",
              "      <th>Ob_Score</th>\n",
              "      <th>BMI</th>\n",
              "      <th>Position_Score</th>\n",
              "      <th>Effacement_Score</th>\n",
              "      <th>Dialation_Score</th>\n",
              "      <th>Station_Score</th>\n",
              "      <th>Total_Bishop_Score</th>\n",
              "      <th>Cerv_Len_cms</th>\n",
              "      <th>Cerv_Wid_cms</th>\n",
              "      <th>Induction</th>\n",
              "    </tr>\n",
              "  </thead>\n",
              "  <tbody>\n",
              "    <tr>\n",
              "      <th>Age</th>\n",
              "      <td>1.000000</td>\n",
              "      <td>NaN</td>\n",
              "      <td>0.123797</td>\n",
              "      <td>0.169769</td>\n",
              "      <td>0.101386</td>\n",
              "      <td>-0.121587</td>\n",
              "      <td>NaN</td>\n",
              "      <td>0.116852</td>\n",
              "      <td>0.349887</td>\n",
              "      <td>-0.067838</td>\n",
              "      <td>NaN</td>\n",
              "    </tr>\n",
              "    <tr>\n",
              "      <th>Ob_Score</th>\n",
              "      <td>NaN</td>\n",
              "      <td>NaN</td>\n",
              "      <td>NaN</td>\n",
              "      <td>NaN</td>\n",
              "      <td>NaN</td>\n",
              "      <td>NaN</td>\n",
              "      <td>NaN</td>\n",
              "      <td>NaN</td>\n",
              "      <td>NaN</td>\n",
              "      <td>NaN</td>\n",
              "      <td>NaN</td>\n",
              "    </tr>\n",
              "    <tr>\n",
              "      <th>BMI</th>\n",
              "      <td>0.123797</td>\n",
              "      <td>NaN</td>\n",
              "      <td>1.000000</td>\n",
              "      <td>-0.272309</td>\n",
              "      <td>-0.091017</td>\n",
              "      <td>-0.040565</td>\n",
              "      <td>NaN</td>\n",
              "      <td>-0.143398</td>\n",
              "      <td>0.003799</td>\n",
              "      <td>0.089321</td>\n",
              "      <td>NaN</td>\n",
              "    </tr>\n",
              "    <tr>\n",
              "      <th>Position_Score</th>\n",
              "      <td>0.169769</td>\n",
              "      <td>NaN</td>\n",
              "      <td>-0.272309</td>\n",
              "      <td>1.000000</td>\n",
              "      <td>0.306433</td>\n",
              "      <td>0.069970</td>\n",
              "      <td>NaN</td>\n",
              "      <td>0.604094</td>\n",
              "      <td>-0.055794</td>\n",
              "      <td>0.066978</td>\n",
              "      <td>NaN</td>\n",
              "    </tr>\n",
              "    <tr>\n",
              "      <th>Effacement_Score</th>\n",
              "      <td>0.101386</td>\n",
              "      <td>NaN</td>\n",
              "      <td>-0.091017</td>\n",
              "      <td>0.306433</td>\n",
              "      <td>1.000000</td>\n",
              "      <td>0.211679</td>\n",
              "      <td>NaN</td>\n",
              "      <td>0.667721</td>\n",
              "      <td>-0.454967</td>\n",
              "      <td>0.224209</td>\n",
              "      <td>NaN</td>\n",
              "    </tr>\n",
              "    <tr>\n",
              "      <th>Dialation_Score</th>\n",
              "      <td>-0.121587</td>\n",
              "      <td>NaN</td>\n",
              "      <td>-0.040565</td>\n",
              "      <td>0.069970</td>\n",
              "      <td>0.211679</td>\n",
              "      <td>1.000000</td>\n",
              "      <td>NaN</td>\n",
              "      <td>0.560480</td>\n",
              "      <td>-0.248567</td>\n",
              "      <td>0.157385</td>\n",
              "      <td>NaN</td>\n",
              "    </tr>\n",
              "    <tr>\n",
              "      <th>Station_Score</th>\n",
              "      <td>NaN</td>\n",
              "      <td>NaN</td>\n",
              "      <td>NaN</td>\n",
              "      <td>NaN</td>\n",
              "      <td>NaN</td>\n",
              "      <td>NaN</td>\n",
              "      <td>NaN</td>\n",
              "      <td>NaN</td>\n",
              "      <td>NaN</td>\n",
              "      <td>NaN</td>\n",
              "      <td>NaN</td>\n",
              "    </tr>\n",
              "    <tr>\n",
              "      <th>Total_Bishop_Score</th>\n",
              "      <td>0.116852</td>\n",
              "      <td>NaN</td>\n",
              "      <td>-0.143398</td>\n",
              "      <td>0.604094</td>\n",
              "      <td>0.667721</td>\n",
              "      <td>0.560480</td>\n",
              "      <td>NaN</td>\n",
              "      <td>1.000000</td>\n",
              "      <td>-0.398518</td>\n",
              "      <td>0.200704</td>\n",
              "      <td>NaN</td>\n",
              "    </tr>\n",
              "    <tr>\n",
              "      <th>Cerv_Len_cms</th>\n",
              "      <td>0.349887</td>\n",
              "      <td>NaN</td>\n",
              "      <td>0.003799</td>\n",
              "      <td>-0.055794</td>\n",
              "      <td>-0.454967</td>\n",
              "      <td>-0.248567</td>\n",
              "      <td>NaN</td>\n",
              "      <td>-0.398518</td>\n",
              "      <td>1.000000</td>\n",
              "      <td>-0.123929</td>\n",
              "      <td>NaN</td>\n",
              "    </tr>\n",
              "    <tr>\n",
              "      <th>Cerv_Wid_cms</th>\n",
              "      <td>-0.067838</td>\n",
              "      <td>NaN</td>\n",
              "      <td>0.089321</td>\n",
              "      <td>0.066978</td>\n",
              "      <td>0.224209</td>\n",
              "      <td>0.157385</td>\n",
              "      <td>NaN</td>\n",
              "      <td>0.200704</td>\n",
              "      <td>-0.123929</td>\n",
              "      <td>1.000000</td>\n",
              "      <td>NaN</td>\n",
              "    </tr>\n",
              "    <tr>\n",
              "      <th>Induction</th>\n",
              "      <td>NaN</td>\n",
              "      <td>NaN</td>\n",
              "      <td>NaN</td>\n",
              "      <td>NaN</td>\n",
              "      <td>NaN</td>\n",
              "      <td>NaN</td>\n",
              "      <td>NaN</td>\n",
              "      <td>NaN</td>\n",
              "      <td>NaN</td>\n",
              "      <td>NaN</td>\n",
              "      <td>NaN</td>\n",
              "    </tr>\n",
              "  </tbody>\n",
              "</table>\n",
              "</div>\n",
              "      <button class=\"colab-df-convert\" onclick=\"convertToInteractive('df-35346b05-7133-4a66-ae10-deb44c68a0a6')\"\n",
              "              title=\"Convert this dataframe to an interactive table.\"\n",
              "              style=\"display:none;\">\n",
              "        \n",
              "  <svg xmlns=\"http://www.w3.org/2000/svg\" height=\"24px\"viewBox=\"0 0 24 24\"\n",
              "       width=\"24px\">\n",
              "    <path d=\"M0 0h24v24H0V0z\" fill=\"none\"/>\n",
              "    <path d=\"M18.56 5.44l.94 2.06.94-2.06 2.06-.94-2.06-.94-.94-2.06-.94 2.06-2.06.94zm-11 1L8.5 8.5l.94-2.06 2.06-.94-2.06-.94L8.5 2.5l-.94 2.06-2.06.94zm10 10l.94 2.06.94-2.06 2.06-.94-2.06-.94-.94-2.06-.94 2.06-2.06.94z\"/><path d=\"M17.41 7.96l-1.37-1.37c-.4-.4-.92-.59-1.43-.59-.52 0-1.04.2-1.43.59L10.3 9.45l-7.72 7.72c-.78.78-.78 2.05 0 2.83L4 21.41c.39.39.9.59 1.41.59.51 0 1.02-.2 1.41-.59l7.78-7.78 2.81-2.81c.8-.78.8-2.07 0-2.86zM5.41 20L4 18.59l7.72-7.72 1.47 1.35L5.41 20z\"/>\n",
              "  </svg>\n",
              "      </button>\n",
              "      \n",
              "  <style>\n",
              "    .colab-df-container {\n",
              "      display:flex;\n",
              "      flex-wrap:wrap;\n",
              "      gap: 12px;\n",
              "    }\n",
              "\n",
              "    .colab-df-convert {\n",
              "      background-color: #E8F0FE;\n",
              "      border: none;\n",
              "      border-radius: 50%;\n",
              "      cursor: pointer;\n",
              "      display: none;\n",
              "      fill: #1967D2;\n",
              "      height: 32px;\n",
              "      padding: 0 0 0 0;\n",
              "      width: 32px;\n",
              "    }\n",
              "\n",
              "    .colab-df-convert:hover {\n",
              "      background-color: #E2EBFA;\n",
              "      box-shadow: 0px 1px 2px rgba(60, 64, 67, 0.3), 0px 1px 3px 1px rgba(60, 64, 67, 0.15);\n",
              "      fill: #174EA6;\n",
              "    }\n",
              "\n",
              "    [theme=dark] .colab-df-convert {\n",
              "      background-color: #3B4455;\n",
              "      fill: #D2E3FC;\n",
              "    }\n",
              "\n",
              "    [theme=dark] .colab-df-convert:hover {\n",
              "      background-color: #434B5C;\n",
              "      box-shadow: 0px 1px 3px 1px rgba(0, 0, 0, 0.15);\n",
              "      filter: drop-shadow(0px 1px 2px rgba(0, 0, 0, 0.3));\n",
              "      fill: #FFFFFF;\n",
              "    }\n",
              "  </style>\n",
              "\n",
              "      <script>\n",
              "        const buttonEl =\n",
              "          document.querySelector('#df-35346b05-7133-4a66-ae10-deb44c68a0a6 button.colab-df-convert');\n",
              "        buttonEl.style.display =\n",
              "          google.colab.kernel.accessAllowed ? 'block' : 'none';\n",
              "\n",
              "        async function convertToInteractive(key) {\n",
              "          const element = document.querySelector('#df-35346b05-7133-4a66-ae10-deb44c68a0a6');\n",
              "          const dataTable =\n",
              "            await google.colab.kernel.invokeFunction('convertToInteractive',\n",
              "                                                     [key], {});\n",
              "          if (!dataTable) return;\n",
              "\n",
              "          const docLinkHtml = 'Like what you see? Visit the ' +\n",
              "            '<a target=\"_blank\" href=https://colab.research.google.com/notebooks/data_table.ipynb>data table notebook</a>'\n",
              "            + ' to learn more about interactive tables.';\n",
              "          element.innerHTML = '';\n",
              "          dataTable['output_type'] = 'display_data';\n",
              "          await google.colab.output.renderOutput(dataTable, element);\n",
              "          const docLink = document.createElement('div');\n",
              "          docLink.innerHTML = docLinkHtml;\n",
              "          element.appendChild(docLink);\n",
              "        }\n",
              "      </script>\n",
              "    </div>\n",
              "  </div>\n",
              "  "
            ]
          },
          "metadata": {},
          "execution_count": 27
        }
      ]
    },
    {
      "cell_type": "code",
      "source": [
        "threshold=0.2\n",
        "\n",
        "# find and remove correlated features\n",
        "def correlation(df1, threshold):\n",
        "    col_corr = set()  # Set of all the names of correlated columns\n",
        "    corr_matrix = df1.corr()\n",
        "    for i in range(len(corr_matrix.columns)):\n",
        "        for j in range(i):\n",
        "            if abs(corr_matrix.iloc[i, j]) > threshold: # we are interested in absolute coeff value\n",
        "                colname = corr_matrix.columns[i]  # getting the name of column\n",
        "                col_corr.add(colname)\n",
        "    return col_corr"
      ],
      "metadata": {
        "id": "ll2eZlfn1F6h"
      },
      "execution_count": 28,
      "outputs": []
    },
    {
      "cell_type": "code",
      "source": [
        "correlation(df1.iloc[:,:-1],threshold)"
      ],
      "metadata": {
        "colab": {
          "base_uri": "https://localhost:8080/"
        },
        "id": "jMQ2I-8S2dsC",
        "outputId": "79034efc-c262-4d4d-a3ce-a7321063d43f"
      },
      "execution_count": 29,
      "outputs": [
        {
          "output_type": "execute_result",
          "data": {
            "text/plain": [
              "{'Cerv_Len_cms',\n",
              " 'Cerv_Wid_cms',\n",
              " 'Dialation_Score',\n",
              " 'Effacement_Score',\n",
              " 'Position_Score',\n",
              " 'Total_Bishop_Score'}"
            ]
          },
          "metadata": {},
          "execution_count": 29
        }
      ]
    },
    {
      "cell_type": "markdown",
      "source": [
        "**Multicolinearity**"
      ],
      "metadata": {
        "id": "1_Sk6O9436yU"
      }
    },
    {
      "cell_type": "code",
      "source": [
        "VIF = []\n",
        "from statsmodels.stats.outliers_influence import variance_inflation_factor\n",
        "for j in range(X.shape[1]):\n",
        "    VIF.append(variance_inflation_factor(X.values,j))\n",
        "print(VIF)\n",
        "\n",
        "import numpy as np\n",
        "np.transpose(VIF)\n",
        "pd.DataFrame(X.columns)\n",
        "pd.DataFrame(np.transpose(VIF))\n",
        "pd.concat([pd.DataFrame(X.columns),pd.DataFrame(np.transpose(VIF))], axis =1)"
      ],
      "metadata": {
        "colab": {
          "base_uri": "https://localhost:8080/",
          "height": 501
        },
        "id": "3m_4LZbW3wTo",
        "outputId": "d75726ff-07ee-44b8-d865-34f81a55fea1"
      },
      "execution_count": 30,
      "outputs": [
        {
          "output_type": "stream",
          "name": "stdout",
          "text": [
            "[1.4215549581314992, nan, 1.1538938669386343, 2.2903059654707376, 2.354597744569187, 2.1172292927418987, nan, 5.504588225292283, 1.7243162197534139, 1.097047737744582, 339.15059230837716]\n"
          ]
        },
        {
          "output_type": "stream",
          "name": "stderr",
          "text": [
            "/usr/local/lib/python3.7/dist-packages/statsmodels/tools/_testing.py:19: FutureWarning: pandas.util.testing is deprecated. Use the functions in the public API at pandas.testing instead.\n",
            "  import pandas.util.testing as tm\n",
            "/usr/local/lib/python3.7/dist-packages/statsmodels/regression/linear_model.py:1636: RuntimeWarning: invalid value encountered in double_scalars\n",
            "  return 1 - self.ssr/self.centered_tss\n"
          ]
        },
        {
          "output_type": "execute_result",
          "data": {
            "text/plain": [
              "                     0           0\n",
              "0                  Age    1.421555\n",
              "1             Ob_Score         NaN\n",
              "2                  BMI    1.153894\n",
              "3       Position_Score    2.290306\n",
              "4     Effacement_Score    2.354598\n",
              "5      Dialation_Score    2.117229\n",
              "6        Station_Score         NaN\n",
              "7   Total_Bishop_Score    5.504588\n",
              "8         Cerv_Len_cms    1.724316\n",
              "9         Cerv_Wid_cms    1.097048\n",
              "10           Induction  339.150592"
            ],
            "text/html": [
              "\n",
              "  <div id=\"df-017567dc-f375-45c5-bbc9-34d3964dd944\">\n",
              "    <div class=\"colab-df-container\">\n",
              "      <div>\n",
              "<style scoped>\n",
              "    .dataframe tbody tr th:only-of-type {\n",
              "        vertical-align: middle;\n",
              "    }\n",
              "\n",
              "    .dataframe tbody tr th {\n",
              "        vertical-align: top;\n",
              "    }\n",
              "\n",
              "    .dataframe thead th {\n",
              "        text-align: right;\n",
              "    }\n",
              "</style>\n",
              "<table border=\"1\" class=\"dataframe\">\n",
              "  <thead>\n",
              "    <tr style=\"text-align: right;\">\n",
              "      <th></th>\n",
              "      <th>0</th>\n",
              "      <th>0</th>\n",
              "    </tr>\n",
              "  </thead>\n",
              "  <tbody>\n",
              "    <tr>\n",
              "      <th>0</th>\n",
              "      <td>Age</td>\n",
              "      <td>1.421555</td>\n",
              "    </tr>\n",
              "    <tr>\n",
              "      <th>1</th>\n",
              "      <td>Ob_Score</td>\n",
              "      <td>NaN</td>\n",
              "    </tr>\n",
              "    <tr>\n",
              "      <th>2</th>\n",
              "      <td>BMI</td>\n",
              "      <td>1.153894</td>\n",
              "    </tr>\n",
              "    <tr>\n",
              "      <th>3</th>\n",
              "      <td>Position_Score</td>\n",
              "      <td>2.290306</td>\n",
              "    </tr>\n",
              "    <tr>\n",
              "      <th>4</th>\n",
              "      <td>Effacement_Score</td>\n",
              "      <td>2.354598</td>\n",
              "    </tr>\n",
              "    <tr>\n",
              "      <th>5</th>\n",
              "      <td>Dialation_Score</td>\n",
              "      <td>2.117229</td>\n",
              "    </tr>\n",
              "    <tr>\n",
              "      <th>6</th>\n",
              "      <td>Station_Score</td>\n",
              "      <td>NaN</td>\n",
              "    </tr>\n",
              "    <tr>\n",
              "      <th>7</th>\n",
              "      <td>Total_Bishop_Score</td>\n",
              "      <td>5.504588</td>\n",
              "    </tr>\n",
              "    <tr>\n",
              "      <th>8</th>\n",
              "      <td>Cerv_Len_cms</td>\n",
              "      <td>1.724316</td>\n",
              "    </tr>\n",
              "    <tr>\n",
              "      <th>9</th>\n",
              "      <td>Cerv_Wid_cms</td>\n",
              "      <td>1.097048</td>\n",
              "    </tr>\n",
              "    <tr>\n",
              "      <th>10</th>\n",
              "      <td>Induction</td>\n",
              "      <td>339.150592</td>\n",
              "    </tr>\n",
              "  </tbody>\n",
              "</table>\n",
              "</div>\n",
              "      <button class=\"colab-df-convert\" onclick=\"convertToInteractive('df-017567dc-f375-45c5-bbc9-34d3964dd944')\"\n",
              "              title=\"Convert this dataframe to an interactive table.\"\n",
              "              style=\"display:none;\">\n",
              "        \n",
              "  <svg xmlns=\"http://www.w3.org/2000/svg\" height=\"24px\"viewBox=\"0 0 24 24\"\n",
              "       width=\"24px\">\n",
              "    <path d=\"M0 0h24v24H0V0z\" fill=\"none\"/>\n",
              "    <path d=\"M18.56 5.44l.94 2.06.94-2.06 2.06-.94-2.06-.94-.94-2.06-.94 2.06-2.06.94zm-11 1L8.5 8.5l.94-2.06 2.06-.94-2.06-.94L8.5 2.5l-.94 2.06-2.06.94zm10 10l.94 2.06.94-2.06 2.06-.94-2.06-.94-.94-2.06-.94 2.06-2.06.94z\"/><path d=\"M17.41 7.96l-1.37-1.37c-.4-.4-.92-.59-1.43-.59-.52 0-1.04.2-1.43.59L10.3 9.45l-7.72 7.72c-.78.78-.78 2.05 0 2.83L4 21.41c.39.39.9.59 1.41.59.51 0 1.02-.2 1.41-.59l7.78-7.78 2.81-2.81c.8-.78.8-2.07 0-2.86zM5.41 20L4 18.59l7.72-7.72 1.47 1.35L5.41 20z\"/>\n",
              "  </svg>\n",
              "      </button>\n",
              "      \n",
              "  <style>\n",
              "    .colab-df-container {\n",
              "      display:flex;\n",
              "      flex-wrap:wrap;\n",
              "      gap: 12px;\n",
              "    }\n",
              "\n",
              "    .colab-df-convert {\n",
              "      background-color: #E8F0FE;\n",
              "      border: none;\n",
              "      border-radius: 50%;\n",
              "      cursor: pointer;\n",
              "      display: none;\n",
              "      fill: #1967D2;\n",
              "      height: 32px;\n",
              "      padding: 0 0 0 0;\n",
              "      width: 32px;\n",
              "    }\n",
              "\n",
              "    .colab-df-convert:hover {\n",
              "      background-color: #E2EBFA;\n",
              "      box-shadow: 0px 1px 2px rgba(60, 64, 67, 0.3), 0px 1px 3px 1px rgba(60, 64, 67, 0.15);\n",
              "      fill: #174EA6;\n",
              "    }\n",
              "\n",
              "    [theme=dark] .colab-df-convert {\n",
              "      background-color: #3B4455;\n",
              "      fill: #D2E3FC;\n",
              "    }\n",
              "\n",
              "    [theme=dark] .colab-df-convert:hover {\n",
              "      background-color: #434B5C;\n",
              "      box-shadow: 0px 1px 3px 1px rgba(0, 0, 0, 0.15);\n",
              "      filter: drop-shadow(0px 1px 2px rgba(0, 0, 0, 0.3));\n",
              "      fill: #FFFFFF;\n",
              "    }\n",
              "  </style>\n",
              "\n",
              "      <script>\n",
              "        const buttonEl =\n",
              "          document.querySelector('#df-017567dc-f375-45c5-bbc9-34d3964dd944 button.colab-df-convert');\n",
              "        buttonEl.style.display =\n",
              "          google.colab.kernel.accessAllowed ? 'block' : 'none';\n",
              "\n",
              "        async function convertToInteractive(key) {\n",
              "          const element = document.querySelector('#df-017567dc-f375-45c5-bbc9-34d3964dd944');\n",
              "          const dataTable =\n",
              "            await google.colab.kernel.invokeFunction('convertToInteractive',\n",
              "                                                     [key], {});\n",
              "          if (!dataTable) return;\n",
              "\n",
              "          const docLinkHtml = 'Like what you see? Visit the ' +\n",
              "            '<a target=\"_blank\" href=https://colab.research.google.com/notebooks/data_table.ipynb>data table notebook</a>'\n",
              "            + ' to learn more about interactive tables.';\n",
              "          element.innerHTML = '';\n",
              "          dataTable['output_type'] = 'display_data';\n",
              "          await google.colab.output.renderOutput(dataTable, element);\n",
              "          const docLink = document.createElement('div');\n",
              "          docLink.innerHTML = docLinkHtml;\n",
              "          element.appendChild(docLink);\n",
              "        }\n",
              "      </script>\n",
              "    </div>\n",
              "  </div>\n",
              "  "
            ]
          },
          "metadata": {},
          "execution_count": 30
        }
      ]
    },
    {
      "cell_type": "markdown",
      "source": [
        "After applying Multiple feature selection techniques and Multicolinearity, we can use the below features for our analysis:\n",
        "\n",
        "Age, BMI, Cerv_Len_cms, Cerv_Wid_cms, Position_Score"
      ],
      "metadata": {
        "id": "SVPirdUifz-a"
      }
    },
    {
      "cell_type": "code",
      "source": [
        "X=df1[['Age', 'BMI', 'Cerv_Len_cms', 'Cerv_Wid_cms', 'Position_Score']]\n",
        "Y=df1['Del_mode']"
      ],
      "metadata": {
        "id": "vzbVl10flhP-"
      },
      "execution_count": 31,
      "outputs": []
    },
    {
      "cell_type": "code",
      "source": [
        "# Scaling the data\n",
        "\n",
        "from sklearn.preprocessing import StandardScaler\n",
        "sc = StandardScaler()\n",
        "x_scale = sc.fit_transform(X)"
      ],
      "metadata": {
        "id": "iPJg_sHVPFSH"
      },
      "execution_count": 32,
      "outputs": []
    },
    {
      "cell_type": "code",
      "source": [
        "# Train and Test Split\n",
        "from sklearn.model_selection import train_test_split\n",
        "X_train,X_test,Y_train,Y_test = train_test_split(x_scale,Y,test_size = 0.3, random_state=0,stratify=Y)"
      ],
      "metadata": {
        "id": "AOmzkNNiPIPm"
      },
      "execution_count": 33,
      "outputs": []
    },
    {
      "cell_type": "code",
      "source": [
        "X_train.shape ,X_test.shape ,Y_train.shape,Y_test.shape"
      ],
      "metadata": {
        "colab": {
          "base_uri": "https://localhost:8080/"
        },
        "id": "wez9HmrwPMmx",
        "outputId": "62b51253-95c6-4606-d467-b93ebddf655a"
      },
      "execution_count": 34,
      "outputs": [
        {
          "output_type": "execute_result",
          "data": {
            "text/plain": [
              "((512, 5), (220, 5), (512,), (220,))"
            ]
          },
          "metadata": {},
          "execution_count": 34
        }
      ]
    },
    {
      "cell_type": "code",
      "source": [
        "\"\"\"**SMOTE Sampling**\"\"\"\n",
        "from collections import Counter\n",
        "from imblearn.over_sampling import SMOTE\n",
        "sm = SMOTE(random_state=42)\n",
        "X_train_SM, Y_train_SM = sm.fit_resample(X_train, Y_train)\n",
        "\n",
        "print(\"The number of classes before fit {}\".format(Counter(Y_train)))\n",
        "print(\"The number of classes after fit {}\".format(Counter(Y_train_SM)))"
      ],
      "metadata": {
        "colab": {
          "base_uri": "https://localhost:8080/"
        },
        "id": "K45L2yLtPRtE",
        "outputId": "8db3ee4e-f3f6-4c55-8355-5070055cccbb"
      },
      "execution_count": 35,
      "outputs": [
        {
          "output_type": "stream",
          "name": "stdout",
          "text": [
            "The number of classes before fit Counter({0.0: 364, 1.0: 148})\n",
            "The number of classes after fit Counter({1.0: 364, 0.0: 364})\n"
          ]
        }
      ]
    },
    {
      "cell_type": "code",
      "source": [
        "\"\"\"**Logistic Regression with SMOTE Sampling**\"\"\"\n",
        "\n",
        "from sklearn.linear_model import LogisticRegression\n",
        "from sklearn.metrics import confusion_matrix,accuracy_score,classification_report\n",
        "logreg = LogisticRegression()\n",
        "logreg.fit(X_train_SM,Y_train_SM)\n",
        "y_pred_lr_SM = logreg.predict(X_test)\n",
        "\n",
        "print(confusion_matrix(Y_test,y_pred_lr_SM))\n",
        "print(accuracy_score(Y_test,y_pred_lr_SM))\n",
        "print(classification_report(Y_test,y_pred_lr_SM))"
      ],
      "metadata": {
        "colab": {
          "base_uri": "https://localhost:8080/"
        },
        "id": "9gZZDaSuPr2a",
        "outputId": "abc89bea-34a7-461a-cb8c-555cf268e852"
      },
      "execution_count": 36,
      "outputs": [
        {
          "output_type": "stream",
          "name": "stdout",
          "text": [
            "[[116  41]\n",
            " [ 14  49]]\n",
            "0.75\n",
            "              precision    recall  f1-score   support\n",
            "\n",
            "         0.0       0.89      0.74      0.81       157\n",
            "         1.0       0.54      0.78      0.64        63\n",
            "\n",
            "    accuracy                           0.75       220\n",
            "   macro avg       0.72      0.76      0.72       220\n",
            "weighted avg       0.79      0.75      0.76       220\n",
            "\n"
          ]
        }
      ]
    },
    {
      "cell_type": "code",
      "source": [
        "\"\"\"**KNN with SMOTE sampling**\"\"\"\n",
        "\n",
        "from sklearn.neighbors import KNeighborsClassifier\n",
        "knn_clf = KNeighborsClassifier(n_neighbors=1, p=2) \n",
        "knn_clf.fit(X_train_SM,Y_train_SM)\n",
        "Y_pred_knn_SM = knn_clf.predict(X_test)\n",
        "\n",
        "print(confusion_matrix(Y_test,Y_pred_knn_SM))\n",
        "print(accuracy_score(Y_test,Y_pred_knn_SM))\n",
        "print(classification_report(Y_test,Y_pred_knn_SM))\n"
      ],
      "metadata": {
        "colab": {
          "base_uri": "https://localhost:8080/"
        },
        "id": "MSLFT2ozPyjs",
        "outputId": "4f8cc8c8-5d6e-4b1e-c7a3-9b29649f9616"
      },
      "execution_count": 37,
      "outputs": [
        {
          "output_type": "stream",
          "name": "stdout",
          "text": [
            "[[144  13]\n",
            " [ 14  49]]\n",
            "0.8772727272727273\n",
            "              precision    recall  f1-score   support\n",
            "\n",
            "         0.0       0.91      0.92      0.91       157\n",
            "         1.0       0.79      0.78      0.78        63\n",
            "\n",
            "    accuracy                           0.88       220\n",
            "   macro avg       0.85      0.85      0.85       220\n",
            "weighted avg       0.88      0.88      0.88       220\n",
            "\n"
          ]
        }
      ]
    },
    {
      "cell_type": "code",
      "source": [
        "kn_score1 = []\n",
        "neighbors = range(1,20)\n",
        "\n",
        "for i in neighbors:\n",
        "        knn_clf = KNeighborsClassifier(n_neighbors=i, p=2)\n",
        "        knn_clf.fit(X_train_SM,Y_train_SM)\n",
        "        Y_pred_knn_SM = knn_clf.predict(X_test)\n",
        "        kn_score1.append(accuracy_score(Y_test,Y_pred_knn_SM))\n",
        "\n",
        "print(kn_score1)"
      ],
      "metadata": {
        "colab": {
          "base_uri": "https://localhost:8080/"
        },
        "id": "X_F3A4SMP5gV",
        "outputId": "a1665ff1-cfcf-4e79-9c35-122c3ac09d0e"
      },
      "execution_count": 38,
      "outputs": [
        {
          "output_type": "stream",
          "name": "stdout",
          "text": [
            "[0.8772727272727273, 0.8818181818181818, 0.8863636363636364, 0.8772727272727273, 0.8636363636363636, 0.8636363636363636, 0.8454545454545455, 0.85, 0.8409090909090909, 0.8318181818181818, 0.8227272727272728, 0.8272727272727273, 0.8090909090909091, 0.8090909090909091, 0.8, 0.8090909090909091, 0.7772727272727272, 0.7954545454545454, 0.7772727272727272]\n"
          ]
        }
      ]
    },
    {
      "cell_type": "code",
      "source": [
        "plt.plot(neighbors,kn_score1, label = \"test error\")\n",
        "plt.ylabel(\"accuracy\")\n",
        "plt.xlabel(\"neighbors\")\n",
        "plt.legend()"
      ],
      "metadata": {
        "colab": {
          "base_uri": "https://localhost:8080/",
          "height": 303
        },
        "id": "8cW6Up0xP95Y",
        "outputId": "5c65e9e4-0707-4635-8b04-d95a8de2e795"
      },
      "execution_count": 39,
      "outputs": [
        {
          "output_type": "execute_result",
          "data": {
            "text/plain": [
              "<matplotlib.legend.Legend at 0x7f310c999390>"
            ]
          },
          "metadata": {},
          "execution_count": 39
        },
        {
          "output_type": "display_data",
          "data": {
            "text/plain": [
              "<Figure size 432x288 with 1 Axes>"
            ],
            "image/png": "[encoded data removed]"
          },
          "metadata": {
            "needs_background": "light"
          }
        }
      ]
    },
    {
      "cell_type": "code",
      "source": [
        "\n",
        "\"\"\"**Support vector machine**\"\"\"\n",
        "\n",
        "from sklearn.svm import SVC\n",
        "\n",
        "svm = SVC(kernel = \"linear\", gamma = \"auto\")\n",
        "svm.fit(X_train_SM,Y_train_SM)\n",
        "Y_pred_svm_linear_SM = svm.predict(X_test)\n",
        "\n",
        "print(confusion_matrix(Y_test,Y_pred_svm_linear_SM))\n",
        "print(accuracy_score(Y_test,Y_pred_svm_linear_SM))\n",
        "print(classification_report(Y_test,Y_pred_svm_linear_SM))\n",
        "\n",
        "svm = SVC(kernel = \"rbf\", gamma = \"auto\")\n",
        "svm.fit(X_train_SM,Y_train_SM)\n",
        "Y_pred_svm_rbf_SM = svm.predict(X_test)\n",
        "\n",
        "print(confusion_matrix(Y_test,Y_pred_svm_rbf_SM))\n",
        "print(accuracy_score(Y_test,Y_pred_svm_rbf_SM))\n",
        "print(classification_report(Y_test,Y_pred_svm_rbf_SM))\n",
        "\n",
        "svm = SVC(kernel = \"poly\", gamma = \"auto\")\n",
        "svm.fit(X_train_SM,Y_train_SM)\n",
        "Y_pred_svm_poly_SM = svm.predict(X_test)\n",
        "\n",
        "print(confusion_matrix(Y_test,Y_pred_svm_poly_SM))\n",
        "print(accuracy_score(Y_test,Y_pred_svm_poly_SM))\n",
        "print(classification_report(Y_test,Y_pred_svm_poly_SM))\n"
      ],
      "metadata": {
        "colab": {
          "base_uri": "https://localhost:8080/"
        },
        "id": "k1cX_aRzQCtt",
        "outputId": "35ab66ae-705f-4c72-a63a-9c13b76da11d"
      },
      "execution_count": 40,
      "outputs": [
        {
          "output_type": "stream",
          "name": "stdout",
          "text": [
            "[[117  40]\n",
            " [ 12  51]]\n",
            "0.7636363636363637\n",
            "              precision    recall  f1-score   support\n",
            "\n",
            "         0.0       0.91      0.75      0.82       157\n",
            "         1.0       0.56      0.81      0.66        63\n",
            "\n",
            "    accuracy                           0.76       220\n",
            "   macro avg       0.73      0.78      0.74       220\n",
            "weighted avg       0.81      0.76      0.77       220\n",
            "\n",
            "[[124  33]\n",
            " [  9  54]]\n",
            "0.8090909090909091\n",
            "              precision    recall  f1-score   support\n",
            "\n",
            "         0.0       0.93      0.79      0.86       157\n",
            "         1.0       0.62      0.86      0.72        63\n",
            "\n",
            "    accuracy                           0.81       220\n",
            "   macro avg       0.78      0.82      0.79       220\n",
            "weighted avg       0.84      0.81      0.82       220\n",
            "\n",
            "[[131  26]\n",
            " [ 10  53]]\n",
            "0.8363636363636363\n",
            "              precision    recall  f1-score   support\n",
            "\n",
            "         0.0       0.93      0.83      0.88       157\n",
            "         1.0       0.67      0.84      0.75        63\n",
            "\n",
            "    accuracy                           0.84       220\n",
            "   macro avg       0.80      0.84      0.81       220\n",
            "weighted avg       0.86      0.84      0.84       220\n",
            "\n"
          ]
        }
      ]
    },
    {
      "cell_type": "code",
      "source": [
        "###\"\"\"** Stocastic Gradient Classifier \"\"\"**\n",
        "\n",
        "from sklearn.linear_model import SGDClassifier\n",
        "\n",
        "sgd = SGDClassifier(eta0 = 0.1011, max_iter = 50)\n",
        "sgd.fit(X_train_SM,Y_train_SM)\n",
        "Y_pred_sgd_SM = sgd.predict(X_test)\n",
        "\n",
        "print(confusion_matrix(Y_test,Y_pred_sgd_SM))\n",
        "print(accuracy_score(Y_test,Y_pred_sgd_SM))\n",
        "print(classification_report(Y_test,Y_pred_sgd_SM))"
      ],
      "metadata": {
        "colab": {
          "base_uri": "https://localhost:8080/"
        },
        "id": "zer7s5sdQQq7",
        "outputId": "5c88adfa-5df3-4b3d-a698-06e32ce1a7ee"
      },
      "execution_count": 41,
      "outputs": [
        {
          "output_type": "stream",
          "name": "stdout",
          "text": [
            "[[129  28]\n",
            " [ 18  45]]\n",
            "0.7909090909090909\n",
            "              precision    recall  f1-score   support\n",
            "\n",
            "         0.0       0.88      0.82      0.85       157\n",
            "         1.0       0.62      0.71      0.66        63\n",
            "\n",
            "    accuracy                           0.79       220\n",
            "   macro avg       0.75      0.77      0.76       220\n",
            "weighted avg       0.80      0.79      0.80       220\n",
            "\n"
          ]
        },
        {
          "output_type": "stream",
          "name": "stderr",
          "text": [
            "/usr/local/lib/python3.7/dist-packages/sklearn/linear_model/_stochastic_gradient.py:700: ConvergenceWarning: Maximum number of iteration reached before convergence. Consider increasing max_iter to improve the fit.\n",
            "  ConvergenceWarning,\n"
          ]
        }
      ]
    },
    {
      "cell_type": "code",
      "source": [
        "sgd_score = []\n",
        "setting = np.arange(0.101,0.102,0.0001)\n",
        "\n",
        "for i in setting:\n",
        "    sgd = SGDClassifier(eta0 = i, max_iter = 50)\n",
        "    sgd.fit(X_train_SM,Y_train_SM)\n",
        "    Y_pred_sgd_SM = sgd.predict(X_test)\n",
        "    sgd_score.append(accuracy_score(Y_test,Y_pred_sgd_SM))\n",
        "    \n",
        "print(sgd_score)"
      ],
      "metadata": {
        "colab": {
          "base_uri": "https://localhost:8080/"
        },
        "id": "BTHPxcxPQnbH",
        "outputId": "cd16b49a-a29b-4a84-9fe3-4aa9cae6d088"
      },
      "execution_count": 42,
      "outputs": [
        {
          "output_type": "stream",
          "name": "stdout",
          "text": [
            "[0.759090909090909, 0.6772727272727272, 0.6636363636363637, 0.7, 0.6318181818181818, 0.7181818181818181, 0.7363636363636363, 0.6772727272727272, 0.6727272727272727, 0.7454545454545455]\n"
          ]
        },
        {
          "output_type": "stream",
          "name": "stderr",
          "text": [
            "/usr/local/lib/python3.7/dist-packages/sklearn/linear_model/_stochastic_gradient.py:700: ConvergenceWarning: Maximum number of iteration reached before convergence. Consider increasing max_iter to improve the fit.\n",
            "  ConvergenceWarning,\n",
            "/usr/local/lib/python3.7/dist-packages/sklearn/linear_model/_stochastic_gradient.py:700: ConvergenceWarning: Maximum number of iteration reached before convergence. Consider increasing max_iter to improve the fit.\n",
            "  ConvergenceWarning,\n",
            "/usr/local/lib/python3.7/dist-packages/sklearn/linear_model/_stochastic_gradient.py:700: ConvergenceWarning: Maximum number of iteration reached before convergence. Consider increasing max_iter to improve the fit.\n",
            "  ConvergenceWarning,\n",
            "/usr/local/lib/python3.7/dist-packages/sklearn/linear_model/_stochastic_gradient.py:700: ConvergenceWarning: Maximum number of iteration reached before convergence. Consider increasing max_iter to improve the fit.\n",
            "  ConvergenceWarning,\n",
            "/usr/local/lib/python3.7/dist-packages/sklearn/linear_model/_stochastic_gradient.py:700: ConvergenceWarning: Maximum number of iteration reached before convergence. Consider increasing max_iter to improve the fit.\n",
            "  ConvergenceWarning,\n"
          ]
        }
      ]
    },
    {
      "cell_type": "code",
      "source": [
        "plt.plot(setting,sgd_score, label = \"test accuracy\")\n",
        "plt.ylabel(\"accuracy\")\n",
        "plt.xlabel(\"learning rate\")\n",
        "plt.legend()"
      ],
      "metadata": {
        "colab": {
          "base_uri": "https://localhost:8080/",
          "height": 303
        },
        "id": "QZJjbXRRQv8f",
        "outputId": "11558cc1-ef5b-4cd8-b9b1-548f335601e2"
      },
      "execution_count": 43,
      "outputs": [
        {
          "output_type": "execute_result",
          "data": {
            "text/plain": [
              "<matplotlib.legend.Legend at 0x7f310c926710>"
            ]
          },
          "metadata": {},
          "execution_count": 43
        },
        {
          "output_type": "display_data",
          "data": {
            "text/plain": [
              "<Figure size 432x288 with 1 Axes>"
            ],
            "image/png": "[encoded data removed]"
          },
          "metadata": {
            "needs_background": "light"
          }
        }
      ]
    },
    {
      "cell_type": "code",
      "source": [
        "\"\"\"**Decision Tree classifier**\"\"\"\n",
        "\n",
        "from sklearn.tree import DecisionTreeClassifier\n",
        "dt = DecisionTreeClassifier(criterion = \"gini\", max_depth = 8)\n",
        "dt.fit(X_train_SM,Y_train_SM)\n",
        "Y_pred_dt_SM = dt.predict(X_test)\n",
        "\n",
        "dt.tree_.node_count, dt.tree_.max_depth\n",
        "\n",
        "print(confusion_matrix(Y_test,Y_pred_dt_SM))\n",
        "print(accuracy_score(Y_test,Y_pred_dt_SM))\n",
        "print(classification_report(Y_test,Y_pred_dt_SM))"
      ],
      "metadata": {
        "colab": {
          "base_uri": "https://localhost:8080/"
        },
        "id": "OjLV4zpiQ2wV",
        "outputId": "402be0c5-6d81-49af-98da-e44f611e2025"
      },
      "execution_count": 44,
      "outputs": [
        {
          "output_type": "stream",
          "name": "stdout",
          "text": [
            "[[137  20]\n",
            " [ 12  51]]\n",
            "0.8545454545454545\n",
            "              precision    recall  f1-score   support\n",
            "\n",
            "         0.0       0.92      0.87      0.90       157\n",
            "         1.0       0.72      0.81      0.76        63\n",
            "\n",
            "    accuracy                           0.85       220\n",
            "   macro avg       0.82      0.84      0.83       220\n",
            "weighted avg       0.86      0.85      0.86       220\n",
            "\n"
          ]
        }
      ]
    },
    {
      "cell_type": "code",
      "source": [
        "dt_score = []\n",
        "md = range(1,14)\n",
        "for i in md:\n",
        "    dt = DecisionTreeClassifier(criterion = \"gini\", max_depth = i)\n",
        "    dt.fit(X_train_SM,Y_train_SM)\n",
        "    Y_pred_dt_SM = dt.predict(X_test)\n",
        "    dt_score.append(accuracy_score(Y_test,Y_pred_dt_SM))\n",
        "\n",
        "print(dt_score)"
      ],
      "metadata": {
        "colab": {
          "base_uri": "https://localhost:8080/"
        },
        "id": "1QLj5__wQ5sD",
        "outputId": "300c1b5f-b97c-45bc-a08c-c31fb5e3902d"
      },
      "execution_count": 45,
      "outputs": [
        {
          "output_type": "stream",
          "name": "stdout",
          "text": [
            "[0.7, 0.7454545454545455, 0.7090909090909091, 0.7636363636363637, 0.8090909090909091, 0.8545454545454545, 0.8454545454545455, 0.8545454545454545, 0.8636363636363636, 0.8590909090909091, 0.8636363636363636, 0.8727272727272727, 0.8727272727272727]\n"
          ]
        }
      ]
    },
    {
      "cell_type": "code",
      "source": [
        "plt.plot(md,dt_score,label = \"test_accuracy\")\n",
        "plt.ylabel(\"accuracy\")\n",
        "plt.xlabel(\"max depth\")\n",
        "plt.legend()"
      ],
      "metadata": {
        "colab": {
          "base_uri": "https://localhost:8080/",
          "height": 303
        },
        "id": "BdJ9NqCgQ5l-",
        "outputId": "d405b6cb-014e-498b-e6b3-cf497a4c81bb"
      },
      "execution_count": 46,
      "outputs": [
        {
          "output_type": "execute_result",
          "data": {
            "text/plain": [
              "<matplotlib.legend.Legend at 0x7f310c87fd90>"
            ]
          },
          "metadata": {},
          "execution_count": 46
        },
        {
          "output_type": "display_data",
          "data": {
            "text/plain": [
              "<Figure size 432x288 with 1 Axes>"
            ],
            "image/png": "[encoded data removed]"
          },
          "metadata": {
            "needs_background": "light"
          }
        }
      ]
    },
    {
      "cell_type": "code",
      "source": [
        "\"\"\"**BaggingClassifier**\"\"\"\n",
        "\n",
        "from sklearn.ensemble import BaggingClassifier\n",
        "\n",
        "bag = BaggingClassifier(base_estimator = dt, max_samples = 0.6)\n",
        "bag.fit(X_train_SM,Y_train_SM)\n",
        "Y_pred_bag_SM = bag.predict(X_test)\n",
        "\n",
        "\n",
        "print(confusion_matrix(Y_test,Y_pred_bag_SM))\n",
        "print(accuracy_score(Y_test,Y_pred_bag_SM))\n",
        "print(classification_report(Y_test,Y_pred_bag_SM))"
      ],
      "metadata": {
        "colab": {
          "base_uri": "https://localhost:8080/"
        },
        "id": "UWPzaLPfRET1",
        "outputId": "45ac0cf4-85ec-4fa5-8c61-5d2271e5042e"
      },
      "execution_count": 47,
      "outputs": [
        {
          "output_type": "stream",
          "name": "stdout",
          "text": [
            "[[147  10]\n",
            " [ 12  51]]\n",
            "0.9\n",
            "              precision    recall  f1-score   support\n",
            "\n",
            "         0.0       0.92      0.94      0.93       157\n",
            "         1.0       0.84      0.81      0.82        63\n",
            "\n",
            "    accuracy                           0.90       220\n",
            "   macro avg       0.88      0.87      0.88       220\n",
            "weighted avg       0.90      0.90      0.90       220\n",
            "\n"
          ]
        }
      ]
    },
    {
      "cell_type": "code",
      "source": [
        "bag_score = []\n",
        "ms = np.arange(0.1,1,0.1)\n",
        "for i in ms:\n",
        "    bag = BaggingClassifier(base_estimator = dt, max_samples = i)\n",
        "    bag.fit(X_train_SM,Y_train_SM)\n",
        "    Y_pred_bag_SM = bag.predict(X_test)\n",
        "    bag_score.append(accuracy_score(Y_test,Y_pred_bag_SM))\n",
        "    \n",
        "print(bag_score)"
      ],
      "metadata": {
        "colab": {
          "base_uri": "https://localhost:8080/"
        },
        "id": "PJ2WSPIvRMOM",
        "outputId": "fcccae95-21fa-4713-f1a1-310d3db84390"
      },
      "execution_count": 48,
      "outputs": [
        {
          "output_type": "stream",
          "name": "stdout",
          "text": [
            "[0.8590909090909091, 0.9, 0.8863636363636364, 0.9090909090909091, 0.9, 0.9136363636363637, 0.9136363636363637, 0.9090909090909091, 0.9]\n"
          ]
        }
      ]
    },
    {
      "cell_type": "code",
      "source": [
        "plt.plot(ms,bag_score,label = \"accuracy\")\n",
        "plt.legend()"
      ],
      "metadata": {
        "colab": {
          "base_uri": "https://localhost:8080/",
          "height": 285
        },
        "id": "wmYeyppVRSsP",
        "outputId": "44250577-9818-465b-ad1f-9105467217ce"
      },
      "execution_count": 49,
      "outputs": [
        {
          "output_type": "execute_result",
          "data": {
            "text/plain": [
              "<matplotlib.legend.Legend at 0x7f310c844890>"
            ]
          },
          "metadata": {},
          "execution_count": 49
        },
        {
          "output_type": "display_data",
          "data": {
            "text/plain": [
              "<Figure size 432x288 with 1 Axes>"
            ],
            "image/png": "[encoded data removed]"
          },
          "metadata": {
            "needs_background": "light"
          }
        }
      ]
    },
    {
      "cell_type": "code",
      "source": [
        "###Random Forest Classifier**\n",
        "\n",
        "from sklearn.ensemble import RandomForestClassifier\n",
        "RF = RandomForestClassifier(max_features = 0.2, n_estimators = 38)\n",
        "RF.fit(X_train_SM,Y_train_SM)\n",
        "Y_pred_rf_SM = RF.predict(X_test)\n",
        "\n",
        "print(confusion_matrix(Y_test,Y_pred_rf_SM))\n",
        "print(accuracy_score(Y_test,Y_pred_rf_SM))\n",
        "print(classification_report(Y_test,Y_pred_rf_SM))"
      ],
      "metadata": {
        "colab": {
          "base_uri": "https://localhost:8080/"
        },
        "id": "5E5SyB1MRXbD",
        "outputId": "65d8b13d-fa94-4377-fa15-31715e379b7b"
      },
      "execution_count": 50,
      "outputs": [
        {
          "output_type": "stream",
          "name": "stdout",
          "text": [
            "[[147  10]\n",
            " [  9  54]]\n",
            "0.9136363636363637\n",
            "              precision    recall  f1-score   support\n",
            "\n",
            "         0.0       0.94      0.94      0.94       157\n",
            "         1.0       0.84      0.86      0.85        63\n",
            "\n",
            "    accuracy                           0.91       220\n",
            "   macro avg       0.89      0.90      0.89       220\n",
            "weighted avg       0.91      0.91      0.91       220\n",
            "\n"
          ]
        }
      ]
    },
    {
      "cell_type": "code",
      "source": [
        "rf_score = []\n",
        "mf = np.arange(0.1,1,0.1)\n",
        "for i in mf:\n",
        "    RF = RandomForestClassifier(max_features = i, n_estimators = 38)\n",
        "    RF.fit(X_train_SM,Y_train_SM)\n",
        "    Y_pred_rf_SM = RF.predict(X_test)\n",
        "    rf_score.append(accuracy_score(Y_test,Y_pred_rf_SM))\n",
        "    \n",
        "print(rf_score)"
      ],
      "metadata": {
        "colab": {
          "base_uri": "https://localhost:8080/"
        },
        "id": "KssKmRGfRdhX",
        "outputId": "fbf0e035-76cd-4c33-bc90-65a4c017e520"
      },
      "execution_count": 51,
      "outputs": [
        {
          "output_type": "stream",
          "name": "stdout",
          "text": [
            "[0.9181818181818182, 0.8954545454545455, 0.9136363636363637, 0.9136363636363637, 0.9181818181818182, 0.9136363636363637, 0.9181818181818182, 0.9136363636363637, 0.9181818181818182]\n"
          ]
        }
      ]
    },
    {
      "cell_type": "code",
      "source": [
        "plt.plot(mf,rf_score,label = \"test_accuracy\")\n",
        "plt.ylabel(\"accuracy\")\n",
        "plt.xlabel(\"max features\")\n",
        "plt.legend()"
      ],
      "metadata": {
        "colab": {
          "base_uri": "https://localhost:8080/",
          "height": 303
        },
        "id": "aLVfHZkIRg-A",
        "outputId": "d7daefa1-8f9b-4bc3-9beb-0cb41414714a"
      },
      "execution_count": 52,
      "outputs": [
        {
          "output_type": "execute_result",
          "data": {
            "text/plain": [
              "<matplotlib.legend.Legend at 0x7f310c768cd0>"
            ]
          },
          "metadata": {},
          "execution_count": 52
        },
        {
          "output_type": "display_data",
          "data": {
            "text/plain": [
              "<Figure size 432x288 with 1 Axes>"
            ],
            "image/png": "[encoded data removed]"
          },
          "metadata": {
            "needs_background": "light"
          }
        }
      ]
    },
    {
      "cell_type": "code",
      "source": [
        "rf_score1 = []\n",
        "est = range(30,40,1)\n",
        "for i in est:\n",
        "    \n",
        "    RF = RandomForestClassifier(max_features = 0.1, n_estimators = i)\n",
        "    RF.fit(X_train_SM,Y_train_SM)\n",
        "    Y_pred_rf_SM = RF.predict(X_test)\n",
        "    rf_score1.append(accuracy_score(Y_test,Y_pred_rf_SM))\n",
        "    \n",
        "print(rf_score1)"
      ],
      "metadata": {
        "colab": {
          "base_uri": "https://localhost:8080/"
        },
        "id": "-8FgXrISRlTp",
        "outputId": "b46c8eff-3423-4426-b9bd-509484628116"
      },
      "execution_count": 53,
      "outputs": [
        {
          "output_type": "stream",
          "name": "stdout",
          "text": [
            "[0.9272727272727272, 0.9090909090909091, 0.9136363636363637, 0.9045454545454545, 0.9045454545454545, 0.9136363636363637, 0.9090909090909091, 0.9090909090909091, 0.9181818181818182, 0.9227272727272727]\n"
          ]
        }
      ]
    },
    {
      "cell_type": "code",
      "source": [
        "plt.plot(est,rf_score1,label = \"test_accuracy\")\n",
        "plt.ylabel(\"accuracy\")\n",
        "plt.xlabel(\"n_estimators\")\n",
        "plt.legend()\n"
      ],
      "metadata": {
        "colab": {
          "base_uri": "https://localhost:8080/",
          "height": 303
        },
        "id": "KwArg5MwRpxd",
        "outputId": "14d4acad-4034-4dad-e6a5-b8f62195298c"
      },
      "execution_count": 54,
      "outputs": [
        {
          "output_type": "execute_result",
          "data": {
            "text/plain": [
              "<matplotlib.legend.Legend at 0x7f310c784110>"
            ]
          },
          "metadata": {},
          "execution_count": 54
        },
        {
          "output_type": "display_data",
          "data": {
            "text/plain": [
              "<Figure size 432x288 with 1 Axes>"
            ],
            "image/png": "[encoded data removed]"
          },
          "metadata": {
            "needs_background": "light"
          }
        }
      ]
    },
    {
      "cell_type": "code",
      "source": [
        "\"\"\"**Ada Boost Classifier**\"\"\"\n",
        "\n",
        "from sklearn.ensemble import AdaBoostClassifier\n",
        "\n",
        "adb = AdaBoostClassifier(base_estimator = dt, n_estimators = 40)\n",
        "adb.fit(X_train_SM,Y_train_SM)\n",
        "Y_pred_adb_SM = adb.predict(X_test)\n",
        "\n",
        "print(confusion_matrix(Y_test,Y_pred_adb_SM))\n",
        "print(accuracy_score(Y_test,Y_pred_adb_SM))\n",
        "print(classification_report(Y_test,Y_pred_adb_SM))\n"
      ],
      "metadata": {
        "colab": {
          "base_uri": "https://localhost:8080/"
        },
        "id": "XMff7khURuwf",
        "outputId": "e0d38820-f6bf-46b3-d5a4-0449145bbefe"
      },
      "execution_count": 55,
      "outputs": [
        {
          "output_type": "stream",
          "name": "stdout",
          "text": [
            "[[142  15]\n",
            " [ 13  50]]\n",
            "0.8727272727272727\n",
            "              precision    recall  f1-score   support\n",
            "\n",
            "         0.0       0.92      0.90      0.91       157\n",
            "         1.0       0.77      0.79      0.78        63\n",
            "\n",
            "    accuracy                           0.87       220\n",
            "   macro avg       0.84      0.85      0.85       220\n",
            "weighted avg       0.87      0.87      0.87       220\n",
            "\n"
          ]
        }
      ]
    },
    {
      "cell_type": "code",
      "source": [
        "adb_score = []\n",
        "est = range(1,100,10)\n",
        "for i in est:\n",
        "    adb = AdaBoostClassifier(base_estimator = dt, n_estimators = i)\n",
        "    adb.fit(X_train_SM,Y_train_SM)\n",
        "    Y_pred_adb_SM = adb.predict(X_test)\n",
        "    adb_score.append(accuracy_score(Y_test,Y_pred_adb_SM))\n",
        "\n",
        "print(adb_score)\n"
      ],
      "metadata": {
        "colab": {
          "base_uri": "https://localhost:8080/"
        },
        "id": "qztdRSPPR2GW",
        "outputId": "65f7a53f-573d-4d19-905f-54cbbdf874c2"
      },
      "execution_count": 56,
      "outputs": [
        {
          "output_type": "stream",
          "name": "stdout",
          "text": [
            "[0.8772727272727273, 0.8818181818181818, 0.8772727272727273, 0.8727272727272727, 0.8772727272727273, 0.8772727272727273, 0.8772727272727273, 0.8727272727272727, 0.8772727272727273, 0.8772727272727273]\n"
          ]
        }
      ]
    },
    {
      "cell_type": "code",
      "source": [
        "plt.plot(est,adb_score,label = \"test_accuracy\")\n",
        "plt.ylabel(\"accuracy\")\n",
        "plt.xlabel(\"n_estimators\")\n",
        "plt.legend()\n"
      ],
      "metadata": {
        "colab": {
          "base_uri": "https://localhost:8080/",
          "height": 303
        },
        "id": "c6VNBY4-R57c",
        "outputId": "2982abeb-0a05-4149-ae69-be9f2d8cd1d2"
      },
      "execution_count": 57,
      "outputs": [
        {
          "output_type": "execute_result",
          "data": {
            "text/plain": [
              "<matplotlib.legend.Legend at 0x7f310c856750>"
            ]
          },
          "metadata": {},
          "execution_count": 57
        },
        {
          "output_type": "display_data",
          "data": {
            "text/plain": [
              "<Figure size 432x288 with 1 Axes>"
            ],
            "image/png": "[encoded data removed]"
          },
          "metadata": {
            "needs_background": "light"
          }
        }
      ]
    },
    {
      "cell_type": "code",
      "source": [
        "##**Gradinet Boosting**\n",
        "\n",
        "from sklearn.ensemble import GradientBoostingClassifier\n",
        "gbr = GradientBoostingClassifier(n_estimators = 100, learning_rate = 0.195)\n",
        "gbr.fit(X_train_SM,Y_train_SM)\n",
        "Y_pred_gbr_SM = gbr.predict(X_test)\n",
        "\n",
        "print(confusion_matrix(Y_test,Y_pred_gbr_SM))\n",
        "print(accuracy_score(Y_test,Y_pred_gbr_SM))\n",
        "print(classification_report(Y_test,Y_pred_gbr_SM))"
      ],
      "metadata": {
        "colab": {
          "base_uri": "https://localhost:8080/"
        },
        "id": "CA99ukAXR_RD",
        "outputId": "400dd92f-4857-4f56-ac3d-cdf4110b5cb3"
      },
      "execution_count": 58,
      "outputs": [
        {
          "output_type": "stream",
          "name": "stdout",
          "text": [
            "[[143  14]\n",
            " [ 10  53]]\n",
            "0.8909090909090909\n",
            "              precision    recall  f1-score   support\n",
            "\n",
            "         0.0       0.93      0.91      0.92       157\n",
            "         1.0       0.79      0.84      0.82        63\n",
            "\n",
            "    accuracy                           0.89       220\n",
            "   macro avg       0.86      0.88      0.87       220\n",
            "weighted avg       0.89      0.89      0.89       220\n",
            "\n"
          ]
        }
      ]
    },
    {
      "cell_type": "code",
      "source": [
        "gbr_score = []\n",
        "setting = np.arange(0.01,0.2,0.01)\n",
        "for i in setting:\n",
        "    gbr = GradientBoostingClassifier(n_estimators = 100, learning_rate = i)\n",
        "    gbr.fit(X_train_SM,Y_train_SM)\n",
        "    Y_pred_gbr_SM = gbr.predict(X_test)\n",
        "    gbr_score.append(accuracy_score(Y_test,Y_pred_gbr_SM))\n",
        "\n",
        "print(gbr_score)"
      ],
      "metadata": {
        "colab": {
          "base_uri": "https://localhost:8080/"
        },
        "id": "f05ROajzSF58",
        "outputId": "02d7622e-360b-4ce5-e6df-7b619f0e81eb"
      },
      "execution_count": 59,
      "outputs": [
        {
          "output_type": "stream",
          "name": "stdout",
          "text": [
            "[0.8409090909090909, 0.8545454545454545, 0.8590909090909091, 0.85, 0.8590909090909091, 0.8590909090909091, 0.8636363636363636, 0.8681818181818182, 0.8863636363636364, 0.8818181818181818, 0.8818181818181818, 0.8727272727272727, 0.8818181818181818, 0.8818181818181818, 0.8863636363636364, 0.8818181818181818, 0.8863636363636364, 0.8909090909090909, 0.8954545454545455]\n"
          ]
        }
      ]
    },
    {
      "cell_type": "code",
      "source": [
        "plt.plot(setting,gbr_score,label = \"test_accuracy\")\n",
        "plt.ylabel(\"accuracy\")\n",
        "plt.xlabel(\"learning rate\")\n",
        "plt.legend()"
      ],
      "metadata": {
        "colab": {
          "base_uri": "https://localhost:8080/",
          "height": 303
        },
        "id": "Se2qt_iUSJ0v",
        "outputId": "4c699bb8-2320-45c4-c5ff-7259a01e1ab6"
      },
      "execution_count": 60,
      "outputs": [
        {
          "output_type": "execute_result",
          "data": {
            "text/plain": [
              "<matplotlib.legend.Legend at 0x7f310c888b50>"
            ]
          },
          "metadata": {},
          "execution_count": 60
        },
        {
          "output_type": "display_data",
          "data": {
            "text/plain": [
              "<Figure size 432x288 with 1 Axes>"
            ],
            "image/png": "[encoded data removed]"
          },
          "metadata": {
            "needs_background": "light"
          }
        }
      ]
    },
    {
      "cell_type": "code",
      "source": [
        "##**XG Boost**\n",
        "\n",
        "\n",
        "from xgboost import XGBClassifier\n",
        "XG = XGBClassifier(learning_rate = 0.14, gamma = 0, reg_lambda = 1, n_estimators = 100)\n",
        "XG.fit(X_train_SM,Y_train_SM)\n",
        "Y_pred_XG_SM = XG.predict(X_test)\n",
        "\n",
        "print(confusion_matrix(Y_test,Y_pred_XG_SM))\n",
        "print(accuracy_score(Y_test,Y_pred_XG_SM))\n",
        "print(classification_report(Y_test,Y_pred_XG_SM))\n"
      ],
      "metadata": {
        "colab": {
          "base_uri": "https://localhost:8080/"
        },
        "id": "-f6dh0w0SMZ-",
        "outputId": "d8d077ef-d54e-4ecb-bb43-2e979260f593"
      },
      "execution_count": 61,
      "outputs": [
        {
          "output_type": "stream",
          "name": "stdout",
          "text": [
            "[[143  14]\n",
            " [ 11  52]]\n",
            "0.8863636363636364\n",
            "              precision    recall  f1-score   support\n",
            "\n",
            "         0.0       0.93      0.91      0.92       157\n",
            "         1.0       0.79      0.83      0.81        63\n",
            "\n",
            "    accuracy                           0.89       220\n",
            "   macro avg       0.86      0.87      0.86       220\n",
            "weighted avg       0.89      0.89      0.89       220\n",
            "\n"
          ]
        }
      ]
    },
    {
      "cell_type": "code",
      "source": [
        "XG_score = []\n",
        "est = range(1,100,10)\n",
        "for i in est:\n",
        "    XG = XGBClassifier(learning_rate = 0.14, gamma = 0, reg_lambda = 1, n_estimators = i)\n",
        "    XG.fit(X_train_SM,Y_train_SM)\n",
        "    Y_pred_XG_SM = XG.predict(X_test)\n",
        "    XG_score.append(accuracy_score(Y_test,Y_pred_XG_SM))\n",
        "\n",
        "print(XG_score)"
      ],
      "metadata": {
        "colab": {
          "base_uri": "https://localhost:8080/"
        },
        "id": "JFHrydF4SUSS",
        "outputId": "a53e9edb-f3e4-49e4-802d-358567615d4a"
      },
      "execution_count": 62,
      "outputs": [
        {
          "output_type": "stream",
          "name": "stdout",
          "text": [
            "[0.7045454545454546, 0.8409090909090909, 0.8545454545454545, 0.8590909090909091, 0.8590909090909091, 0.8636363636363636, 0.8636363636363636, 0.8772727272727273, 0.8818181818181818, 0.8818181818181818]\n"
          ]
        }
      ]
    },
    {
      "cell_type": "code",
      "source": [
        "plt.plot(est,XG_score,label = \"test_accuracy\")\n",
        "plt.ylabel(\"accuracy\")\n",
        "plt.xlabel(\"estimators\")\n",
        "plt.legend()"
      ],
      "metadata": {
        "colab": {
          "base_uri": "https://localhost:8080/",
          "height": 303
        },
        "id": "r6ItnNtKSXuL",
        "outputId": "1e9165f0-0872-4d5b-d95c-e974a1295761"
      },
      "execution_count": 63,
      "outputs": [
        {
          "output_type": "execute_result",
          "data": {
            "text/plain": [
              "<matplotlib.legend.Legend at 0x7f310e83ae50>"
            ]
          },
          "metadata": {},
          "execution_count": 63
        },
        {
          "output_type": "display_data",
          "data": {
            "text/plain": [
              "<Figure size 432x288 with 1 Axes>"
            ],
            "image/png": "[encoded data removed]"
          },
          "metadata": {
            "needs_background": "light"
          }
        }
      ]
    },
    {
      "cell_type": "code",
      "source": [
        "pip install catboost\n"
      ],
      "metadata": {
        "colab": {
          "base_uri": "https://localhost:8080/"
        },
        "id": "A-zeh-rysT2e",
        "outputId": "3703ed8c-4ae3-43bc-80aa-b154757175f6"
      },
      "execution_count": 67,
      "outputs": [
        {
          "output_type": "stream",
          "name": "stdout",
          "text": [
            "Collecting catboost\n",
            "  Downloading catboost-1.0.5-cp37-none-manylinux1_x86_64.whl (76.6 MB)\n",
            "\u001b[K     |████████████████████████████████| 76.6 MB 59 kB/s \n",
            "\u001b[?25hRequirement already satisfied: six in /usr/local/lib/python3.7/dist-packages (from catboost) (1.15.0)\n",
            "Requirement already satisfied: pandas>=0.24.0 in /usr/local/lib/python3.7/dist-packages (from catboost) (1.3.5)\n",
            "Requirement already satisfied: plotly in /usr/local/lib/python3.7/dist-packages (from catboost) (5.5.0)\n",
            "Requirement already satisfied: matplotlib in /usr/local/lib/python3.7/dist-packages (from catboost) (3.2.2)\n",
            "Requirement already satisfied: graphviz in /usr/local/lib/python3.7/dist-packages (from catboost) (0.10.1)\n",
            "Requirement already satisfied: numpy>=1.16.0 in /usr/local/lib/python3.7/dist-packages (from catboost) (1.21.6)\n",
            "Requirement already satisfied: scipy in /usr/local/lib/python3.7/dist-packages (from catboost) (1.4.1)\n",
            "Requirement already satisfied: python-dateutil>=2.7.3 in /usr/local/lib/python3.7/dist-packages (from pandas>=0.24.0->catboost) (2.8.2)\n",
            "Requirement already satisfied: pytz>=2017.3 in /usr/local/lib/python3.7/dist-packages (from pandas>=0.24.0->catboost) (2022.1)\n",
            "Requirement already satisfied: cycler>=0.10 in /usr/local/lib/python3.7/dist-packages (from matplotlib->catboost) (0.11.0)\n",
            "Requirement already satisfied: pyparsing!=2.0.4,!=2.1.2,!=2.1.6,>=2.0.1 in /usr/local/lib/python3.7/dist-packages (from matplotlib->catboost) (3.0.8)\n",
            "Requirement already satisfied: kiwisolver>=1.0.1 in /usr/local/lib/python3.7/dist-packages (from matplotlib->catboost) (1.4.2)\n",
            "Requirement already satisfied: typing-extensions in /usr/local/lib/python3.7/dist-packages (from kiwisolver>=1.0.1->matplotlib->catboost) (4.2.0)\n",
            "Requirement already satisfied: tenacity>=6.2.0 in /usr/local/lib/python3.7/dist-packages (from plotly->catboost) (8.0.1)\n",
            "Installing collected packages: catboost\n",
            "Successfully installed catboost-1.0.5\n"
          ]
        }
      ]
    },
    {
      "cell_type": "code",
      "source": [
        "SEED = 1234\n",
        "\n",
        "params = {'iterations':5000,\n",
        "        'learning_rate':0.01,\n",
        "        'depth':3,\n",
        "        'eval_metric':'AUC',\n",
        "        'verbose':200,\n",
        "        'od_type':\"Iter\", # overfit detector\n",
        "        'od_wait':500, # most recent best iteration to wait before stopping\n",
        "        'random_seed': SEED\n",
        "          }\n",
        "\n",
        "from catboost import CatBoostClassifier \n",
        "cat_model = CatBoostClassifier(**params)\n",
        "cat_model.fit(X_train_SM, Y_train_SM)\n",
        "Y_pred_CAT_SM = cat_model.predict(X_test)"
      ],
      "metadata": {
        "colab": {
          "base_uri": "https://localhost:8080/"
        },
        "id": "19NlSOsfqwYl",
        "outputId": "a1fd6df3-de30-455e-b210-9499c0f1f205"
      },
      "execution_count": 75,
      "outputs": [
        {
          "output_type": "stream",
          "name": "stdout",
          "text": [
            "0:\ttotal: 2.41ms\tremaining: 12.1s\n",
            "200:\ttotal: 287ms\tremaining: 6.84s\n",
            "400:\ttotal: 447ms\tremaining: 5.12s\n",
            "600:\ttotal: 760ms\tremaining: 5.57s\n",
            "800:\ttotal: 991ms\tremaining: 5.2s\n",
            "1000:\ttotal: 1.27s\tremaining: 5.06s\n",
            "1200:\ttotal: 1.56s\tremaining: 4.93s\n",
            "1400:\ttotal: 1.73s\tremaining: 4.44s\n",
            "1600:\ttotal: 2.07s\tremaining: 4.39s\n",
            "1800:\ttotal: 2.24s\tremaining: 3.98s\n",
            "2000:\ttotal: 2.4s\tremaining: 3.6s\n",
            "2200:\ttotal: 2.66s\tremaining: 3.39s\n",
            "2400:\ttotal: 2.96s\tremaining: 3.2s\n",
            "2600:\ttotal: 3.26s\tremaining: 3.01s\n",
            "2800:\ttotal: 3.5s\tremaining: 2.75s\n",
            "3000:\ttotal: 3.71s\tremaining: 2.47s\n",
            "3200:\ttotal: 4.04s\tremaining: 2.27s\n",
            "3400:\ttotal: 4.21s\tremaining: 1.98s\n",
            "3600:\ttotal: 4.4s\tremaining: 1.71s\n",
            "3800:\ttotal: 4.54s\tremaining: 1.43s\n",
            "4000:\ttotal: 4.7s\tremaining: 1.17s\n",
            "4200:\ttotal: 4.94s\tremaining: 940ms\n",
            "4400:\ttotal: 5.2s\tremaining: 707ms\n",
            "4600:\ttotal: 5.38s\tremaining: 466ms\n",
            "4800:\ttotal: 5.65s\tremaining: 234ms\n",
            "4999:\ttotal: 5.94s\tremaining: 0us\n"
          ]
        }
      ]
    },
    {
      "cell_type": "code",
      "source": [
        "print(confusion_matrix(Y_test,Y_pred_CAT_SM))\n",
        "print(accuracy_score(Y_test,Y_pred_CAT_SM))\n",
        "print(classification_report(Y_test,Y_pred_CAT_SM))"
      ],
      "metadata": {
        "colab": {
          "base_uri": "https://localhost:8080/"
        },
        "id": "VhGdJsRrtkPJ",
        "outputId": "b8c52b41-c389-48a0-a794-212160957e47"
      },
      "execution_count": 76,
      "outputs": [
        {
          "output_type": "stream",
          "name": "stdout",
          "text": [
            "[[148   9]\n",
            " [  9  54]]\n",
            "0.9181818181818182\n",
            "              precision    recall  f1-score   support\n",
            "\n",
            "         0.0       0.94      0.94      0.94       157\n",
            "         1.0       0.86      0.86      0.86        63\n",
            "\n",
            "    accuracy                           0.92       220\n",
            "   macro avg       0.90      0.90      0.90       220\n",
            "weighted avg       0.92      0.92      0.92       220\n",
            "\n"
          ]
        }
      ]
    },
    {
      "cell_type": "code",
      "source": [
        "print('Acc_XG_SM:', accuracy_score(Y_test,Y_pred_XG_SM))\n",
        "print('Acc_GRB_SM:', accuracy_score(Y_test,Y_pred_gbr_SM))\n",
        "print('Acc_ADB_SM:', accuracy_score(Y_test,Y_pred_adb_SM))\n",
        "print('Acc_RF_SM:', accuracy_score(Y_test,Y_pred_rf_SM))\n",
        "print('Acc_BAG_SM:', accuracy_score(Y_test,Y_pred_bag_SM))\n",
        "print('Acc_DT_SM:', accuracy_score(Y_test,Y_pred_dt_SM))\n",
        "print('Acc_SGD_SM:', accuracy_score(Y_test,Y_pred_sgd_SM))\n",
        "print('Acc_SVM_POLY_SM:', accuracy_score(Y_test,Y_pred_svm_poly_SM))\n",
        "print('Acc_SVM_RBF_SM:', accuracy_score(Y_test,Y_pred_svm_rbf_SM))\n",
        "print('Acc_SVM_LINEAR_SM:', accuracy_score(Y_test,Y_pred_svm_linear_SM))\n",
        "print('Acc_KNN_SM:', accuracy_score(Y_test,Y_pred_knn_SM))\n",
        "print('Acc_LR_SM:', accuracy_score(Y_test,y_pred_lr_SM))\n",
        "print('Acc_LR_CAT:', accuracy_score(Y_test,Y_pred_CAT_SM))"
      ],
      "metadata": {
        "colab": {
          "base_uri": "https://localhost:8080/"
        },
        "id": "ydmctA9-SfLB",
        "outputId": "0ed8123f-3461-49aa-9e54-c4df9e9e69f0"
      },
      "execution_count": 74,
      "outputs": [
        {
          "output_type": "stream",
          "name": "stdout",
          "text": [
            "Acc_XG_SM: 0.8818181818181818\n",
            "Acc_GRB_SM: 0.8954545454545455\n",
            "Acc_ADB_SM: 0.8772727272727273\n",
            "Acc_RF_SM: 0.9227272727272727\n",
            "Acc_BAG_SM: 0.9\n",
            "Acc_DT_SM: 0.8727272727272727\n",
            "Acc_SGD_SM: 0.7454545454545455\n",
            "Acc_SVM_POLY_SM: 0.8363636363636363\n",
            "Acc_SVM_RBF_SM: 0.8090909090909091\n",
            "Acc_SVM_LINEAR_SM: 0.7636363636363637\n",
            "Acc_KNN_SM: 0.7772727272727272\n",
            "Acc_LR_SM: 0.75\n",
            "Acc_LR_CAT: 0.9181818181818182\n"
          ]
        }
      ]
    },
    {
      "cell_type": "code",
      "source": [
        "#'''''**** Accuracy Score including all feature ****''''''''\n",
        "Acc_XG_SM: 0.8909090909090909                       \n",
        "Acc_GRB_SM: 0.9136363636363637\n",
        "Acc_ADB_SM: 0.8681818181818182\n",
        "Acc_RF_SM: 0.9272727272727272\n",
        "Acc_BAG_SM: 0.9318181818181818\n",
        "Acc_DT_SM: 0.8681818181818182\n",
        "Acc_SGD_SM: 0.7136363636363636\n",
        "Acc_SVM_POLY_SM: 0.7954545454545454\n",
        "Acc_SVM_RBF_SM: 0.8681818181818182\n",
        "Acc_SVM_LINEAR_SM: 0.7727272727272727\n",
        "Acc_KNN_SM: 0.7772727272727272\n",
        "Acc_LR_SM: 0.8090909090909091 ##********'''''''''''''''''''\n",
        "\n",
        "#'''''**** Accuracy Score after feature selection****''''''''\n",
        "\n",
        "Acc_XG_SM: 0.8818181818181818\n",
        "Acc_GRB_SM: 0.8909090909090909\n",
        "Acc_ADB_SM: 0.8727272727272727\n",
        "Acc_RF_SM: 0.9181818181818182\n",
        "Acc_BAG_SM: 0.9090909090909091\n",
        "Acc_DT_SM: 0.8772727272727273\n",
        "Acc_SGD_SM: 0.7227272727272728\n",
        "Acc_SVM_POLY_SM: 0.8363636363636363\n",
        "Acc_SVM_RBF_SM: 0.8090909090909091\n",
        "Acc_SVM_LINEAR_SM: 0.7636363636363637\n",
        "Acc_KNN_SM: 0.7772727272727272\n",
        "Acc_LR_SM: 0.75 ##********'''''''''''''''''''\n"
      ],
      "metadata": {
        "id": "TvemNxOfj4ah"
      },
      "execution_count": 77,
      "outputs": []
    }
  ]
}