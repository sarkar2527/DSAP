{
  "nbformat": 4,
  "nbformat_minor": 0,
  "metadata": {
    "colab": {
      "provenance": [],
      "collapsed_sections": [],
      "mount_file_id": "1u96xq6se2Vm6ik1msSYkZmIfb1EJsIjP",
      "authorship_tag": "ABX9TyMn29VQOy1UsskAOf3X3peL",
      "include_colab_link": true
    },
    "kernelspec": {
      "name": "python3",
      "display_name": "Python 3"
    },
    "language_info": {
      "name": "python"
    }
  },
  "cells": [
    {
      "cell_type": "markdown",
      "metadata": {
        "id": "view-in-github",
        "colab_type": "text"
      },
      "source": [
        "<a href=\"https://colab.research.google.com/github/sarkar2527/DSAP/blob/main/Stock_3_sandy.ipynb\" target=\"_parent\"><img src=\"https://colab.research.google.com/assets/colab-badge.svg\" alt=\"Open In Colab\"/></a>"
      ]
    },
    {
      "cell_type": "code",
      "execution_count": 64,
      "metadata": {
        "colab": {
          "base_uri": "https://localhost:8080/"
        },
        "id": "w2NjmXRlu6ag",
        "outputId": "53966e1a-a914-4f9d-ddfe-fd586416c086"
      },
      "outputs": [
        {
          "output_type": "stream",
          "name": "stdout",
          "text": [
            "Drive already mounted at /content/drive; to attempt to forcibly remount, call drive.mount(\"/content/drive\", force_remount=True).\n"
          ]
        }
      ],
      "source": [
        "from google.colab import drive\n",
        "drive.mount('/content/drive')"
      ]
    },
    {
      "cell_type": "code",
      "source": [
        "#Importing the neccessary Libraries\n",
        "import numpy as np\n",
        "import pandas as pd\n",
        "import matplotlib.pyplot as plt\n",
        "import seaborn as sns\n",
        "sns.set()\n",
        "%matplotlib inline"
      ],
      "metadata": {
        "id": "TVSN0MDavy7h"
      },
      "execution_count": 65,
      "outputs": []
    },
    {
      "cell_type": "code",
      "source": [
        "df = pd.read_csv(\"/content/drive/MyDrive/GL_Project_Sandy/Banknifty_5m_data_1_oct.csv\")"
      ],
      "metadata": {
        "id": "JImu79g5v046"
      },
      "execution_count": 66,
      "outputs": []
    },
    {
      "cell_type": "code",
      "source": [
        "df.shape"
      ],
      "metadata": {
        "colab": {
          "base_uri": "https://localhost:8080/"
        },
        "id": "TbjlzNfbxDtn",
        "outputId": "b13ed487-0546-42ea-d334-5e986185aa48"
      },
      "execution_count": 67,
      "outputs": [
        {
          "output_type": "execute_result",
          "data": {
            "text/plain": [
              "(4499, 7)"
            ]
          },
          "metadata": {},
          "execution_count": 67
        }
      ]
    },
    {
      "cell_type": "code",
      "source": [
        "df.head()"
      ],
      "metadata": {
        "colab": {
          "base_uri": "https://localhost:8080/",
          "height": 206
        },
        "id": "yi6k6BDcU3Ru",
        "outputId": "37e9b68a-ea7f-4174-8c90-91ce4dbe07b7"
      },
      "execution_count": 68,
      "outputs": [
        {
          "output_type": "execute_result",
          "data": {
            "text/plain": [
              "                    Datetime          Open          High           Low  \\\n",
              "0  2022-07-06 09:15:00+05:30  33929.398438  34091.250000  33916.101562   \n",
              "1  2022-07-06 09:20:00+05:30  34022.050781  34132.898438  34022.050781   \n",
              "2  2022-07-06 09:25:00+05:30  34127.601562  34158.000000  34107.148438   \n",
              "3  2022-07-06 09:30:00+05:30  34137.601562  34155.101562  34096.250000   \n",
              "4  2022-07-06 09:35:00+05:30  34119.750000  34135.699219  34092.000000   \n",
              "\n",
              "          Close     Adj Close  Volume  \n",
              "0  34023.648438  34023.648438       0  \n",
              "1  34129.148438  34129.148438       0  \n",
              "2  34143.449219  34143.449219       0  \n",
              "3  34120.199219  34120.199219       0  \n",
              "4  34092.000000  34092.000000       0  "
            ],
            "text/html": [
              "\n",
              "  <div id=\"df-5e5b44c6-1f50-4af1-be02-fe82feb638e6\">\n",
              "    <div class=\"colab-df-container\">\n",
              "      <div>\n",
              "<style scoped>\n",
              "    .dataframe tbody tr th:only-of-type {\n",
              "        vertical-align: middle;\n",
              "    }\n",
              "\n",
              "    .dataframe tbody tr th {\n",
              "        vertical-align: top;\n",
              "    }\n",
              "\n",
              "    .dataframe thead th {\n",
              "        text-align: right;\n",
              "    }\n",
              "</style>\n",
              "<table border=\"1\" class=\"dataframe\">\n",
              "  <thead>\n",
              "    <tr style=\"text-align: right;\">\n",
              "      <th></th>\n",
              "      <th>Datetime</th>\n",
              "      <th>Open</th>\n",
              "      <th>High</th>\n",
              "      <th>Low</th>\n",
              "      <th>Close</th>\n",
              "      <th>Adj Close</th>\n",
              "      <th>Volume</th>\n",
              "    </tr>\n",
              "  </thead>\n",
              "  <tbody>\n",
              "    <tr>\n",
              "      <th>0</th>\n",
              "      <td>2022-07-06 09:15:00+05:30</td>\n",
              "      <td>33929.398438</td>\n",
              "      <td>34091.250000</td>\n",
              "      <td>33916.101562</td>\n",
              "      <td>34023.648438</td>\n",
              "      <td>34023.648438</td>\n",
              "      <td>0</td>\n",
              "    </tr>\n",
              "    <tr>\n",
              "      <th>1</th>\n",
              "      <td>2022-07-06 09:20:00+05:30</td>\n",
              "      <td>34022.050781</td>\n",
              "      <td>34132.898438</td>\n",
              "      <td>34022.050781</td>\n",
              "      <td>34129.148438</td>\n",
              "      <td>34129.148438</td>\n",
              "      <td>0</td>\n",
              "    </tr>\n",
              "    <tr>\n",
              "      <th>2</th>\n",
              "      <td>2022-07-06 09:25:00+05:30</td>\n",
              "      <td>34127.601562</td>\n",
              "      <td>34158.000000</td>\n",
              "      <td>34107.148438</td>\n",
              "      <td>34143.449219</td>\n",
              "      <td>34143.449219</td>\n",
              "      <td>0</td>\n",
              "    </tr>\n",
              "    <tr>\n",
              "      <th>3</th>\n",
              "      <td>2022-07-06 09:30:00+05:30</td>\n",
              "      <td>34137.601562</td>\n",
              "      <td>34155.101562</td>\n",
              "      <td>34096.250000</td>\n",
              "      <td>34120.199219</td>\n",
              "      <td>34120.199219</td>\n",
              "      <td>0</td>\n",
              "    </tr>\n",
              "    <tr>\n",
              "      <th>4</th>\n",
              "      <td>2022-07-06 09:35:00+05:30</td>\n",
              "      <td>34119.750000</td>\n",
              "      <td>34135.699219</td>\n",
              "      <td>34092.000000</td>\n",
              "      <td>34092.000000</td>\n",
              "      <td>34092.000000</td>\n",
              "      <td>0</td>\n",
              "    </tr>\n",
              "  </tbody>\n",
              "</table>\n",
              "</div>\n",
              "      <button class=\"colab-df-convert\" onclick=\"convertToInteractive('df-5e5b44c6-1f50-4af1-be02-fe82feb638e6')\"\n",
              "              title=\"Convert this dataframe to an interactive table.\"\n",
              "              style=\"display:none;\">\n",
              "        \n",
              "  <svg xmlns=\"http://www.w3.org/2000/svg\" height=\"24px\"viewBox=\"0 0 24 24\"\n",
              "       width=\"24px\">\n",
              "    <path d=\"M0 0h24v24H0V0z\" fill=\"none\"/>\n",
              "    <path d=\"M18.56 5.44l.94 2.06.94-2.06 2.06-.94-2.06-.94-.94-2.06-.94 2.06-2.06.94zm-11 1L8.5 8.5l.94-2.06 2.06-.94-2.06-.94L8.5 2.5l-.94 2.06-2.06.94zm10 10l.94 2.06.94-2.06 2.06-.94-2.06-.94-.94-2.06-.94 2.06-2.06.94z\"/><path d=\"M17.41 7.96l-1.37-1.37c-.4-.4-.92-.59-1.43-.59-.52 0-1.04.2-1.43.59L10.3 9.45l-7.72 7.72c-.78.78-.78 2.05 0 2.83L4 21.41c.39.39.9.59 1.41.59.51 0 1.02-.2 1.41-.59l7.78-7.78 2.81-2.81c.8-.78.8-2.07 0-2.86zM5.41 20L4 18.59l7.72-7.72 1.47 1.35L5.41 20z\"/>\n",
              "  </svg>\n",
              "      </button>\n",
              "      \n",
              "  <style>\n",
              "    .colab-df-container {\n",
              "      display:flex;\n",
              "      flex-wrap:wrap;\n",
              "      gap: 12px;\n",
              "    }\n",
              "\n",
              "    .colab-df-convert {\n",
              "      background-color: #E8F0FE;\n",
              "      border: none;\n",
              "      border-radius: 50%;\n",
              "      cursor: pointer;\n",
              "      display: none;\n",
              "      fill: #1967D2;\n",
              "      height: 32px;\n",
              "      padding: 0 0 0 0;\n",
              "      width: 32px;\n",
              "    }\n",
              "\n",
              "    .colab-df-convert:hover {\n",
              "      background-color: #E2EBFA;\n",
              "      box-shadow: 0px 1px 2px rgba(60, 64, 67, 0.3), 0px 1px 3px 1px rgba(60, 64, 67, 0.15);\n",
              "      fill: #174EA6;\n",
              "    }\n",
              "\n",
              "    [theme=dark] .colab-df-convert {\n",
              "      background-color: #3B4455;\n",
              "      fill: #D2E3FC;\n",
              "    }\n",
              "\n",
              "    [theme=dark] .colab-df-convert:hover {\n",
              "      background-color: #434B5C;\n",
              "      box-shadow: 0px 1px 3px 1px rgba(0, 0, 0, 0.15);\n",
              "      filter: drop-shadow(0px 1px 2px rgba(0, 0, 0, 0.3));\n",
              "      fill: #FFFFFF;\n",
              "    }\n",
              "  </style>\n",
              "\n",
              "      <script>\n",
              "        const buttonEl =\n",
              "          document.querySelector('#df-5e5b44c6-1f50-4af1-be02-fe82feb638e6 button.colab-df-convert');\n",
              "        buttonEl.style.display =\n",
              "          google.colab.kernel.accessAllowed ? 'block' : 'none';\n",
              "\n",
              "        async function convertToInteractive(key) {\n",
              "          const element = document.querySelector('#df-5e5b44c6-1f50-4af1-be02-fe82feb638e6');\n",
              "          const dataTable =\n",
              "            await google.colab.kernel.invokeFunction('convertToInteractive',\n",
              "                                                     [key], {});\n",
              "          if (!dataTable) return;\n",
              "\n",
              "          const docLinkHtml = 'Like what you see? Visit the ' +\n",
              "            '<a target=\"_blank\" href=https://colab.research.google.com/notebooks/data_table.ipynb>data table notebook</a>'\n",
              "            + ' to learn more about interactive tables.';\n",
              "          element.innerHTML = '';\n",
              "          dataTable['output_type'] = 'display_data';\n",
              "          await google.colab.output.renderOutput(dataTable, element);\n",
              "          const docLink = document.createElement('div');\n",
              "          docLink.innerHTML = docLinkHtml;\n",
              "          element.appendChild(docLink);\n",
              "        }\n",
              "      </script>\n",
              "    </div>\n",
              "  </div>\n",
              "  "
            ]
          },
          "metadata": {},
          "execution_count": 68
        }
      ]
    },
    {
      "cell_type": "markdown",
      "source": [
        "Removing Time string. Take date/month/year alone for analysis"
      ],
      "metadata": {
        "id": "C0Pq7KpUP44h"
      }
    },
    {
      "cell_type": "code",
      "source": [
        "df['Datetime'] = pd.to_datetime(df['Datetime']).dt.date"
      ],
      "metadata": {
        "id": "a_jOl3JOOQZm"
      },
      "execution_count": 69,
      "outputs": []
    },
    {
      "cell_type": "code",
      "source": [
        "df.head()"
      ],
      "metadata": {
        "colab": {
          "base_uri": "https://localhost:8080/",
          "height": 206
        },
        "id": "L6xeqhkCOfFd",
        "outputId": "c121a499-0d18-45d0-fddb-cff3e7ce34fd"
      },
      "execution_count": 70,
      "outputs": [
        {
          "output_type": "execute_result",
          "data": {
            "text/plain": [
              "     Datetime          Open          High           Low         Close  \\\n",
              "0  2022-07-06  33929.398438  34091.250000  33916.101562  34023.648438   \n",
              "1  2022-07-06  34022.050781  34132.898438  34022.050781  34129.148438   \n",
              "2  2022-07-06  34127.601562  34158.000000  34107.148438  34143.449219   \n",
              "3  2022-07-06  34137.601562  34155.101562  34096.250000  34120.199219   \n",
              "4  2022-07-06  34119.750000  34135.699219  34092.000000  34092.000000   \n",
              "\n",
              "      Adj Close  Volume  \n",
              "0  34023.648438       0  \n",
              "1  34129.148438       0  \n",
              "2  34143.449219       0  \n",
              "3  34120.199219       0  \n",
              "4  34092.000000       0  "
            ],
            "text/html": [
              "\n",
              "  <div id=\"df-911f41ec-3d9e-4b80-9ead-c9f9732b27e2\">\n",
              "    <div class=\"colab-df-container\">\n",
              "      <div>\n",
              "<style scoped>\n",
              "    .dataframe tbody tr th:only-of-type {\n",
              "        vertical-align: middle;\n",
              "    }\n",
              "\n",
              "    .dataframe tbody tr th {\n",
              "        vertical-align: top;\n",
              "    }\n",
              "\n",
              "    .dataframe thead th {\n",
              "        text-align: right;\n",
              "    }\n",
              "</style>\n",
              "<table border=\"1\" class=\"dataframe\">\n",
              "  <thead>\n",
              "    <tr style=\"text-align: right;\">\n",
              "      <th></th>\n",
              "      <th>Datetime</th>\n",
              "      <th>Open</th>\n",
              "      <th>High</th>\n",
              "      <th>Low</th>\n",
              "      <th>Close</th>\n",
              "      <th>Adj Close</th>\n",
              "      <th>Volume</th>\n",
              "    </tr>\n",
              "  </thead>\n",
              "  <tbody>\n",
              "    <tr>\n",
              "      <th>0</th>\n",
              "      <td>2022-07-06</td>\n",
              "      <td>33929.398438</td>\n",
              "      <td>34091.250000</td>\n",
              "      <td>33916.101562</td>\n",
              "      <td>34023.648438</td>\n",
              "      <td>34023.648438</td>\n",
              "      <td>0</td>\n",
              "    </tr>\n",
              "    <tr>\n",
              "      <th>1</th>\n",
              "      <td>2022-07-06</td>\n",
              "      <td>34022.050781</td>\n",
              "      <td>34132.898438</td>\n",
              "      <td>34022.050781</td>\n",
              "      <td>34129.148438</td>\n",
              "      <td>34129.148438</td>\n",
              "      <td>0</td>\n",
              "    </tr>\n",
              "    <tr>\n",
              "      <th>2</th>\n",
              "      <td>2022-07-06</td>\n",
              "      <td>34127.601562</td>\n",
              "      <td>34158.000000</td>\n",
              "      <td>34107.148438</td>\n",
              "      <td>34143.449219</td>\n",
              "      <td>34143.449219</td>\n",
              "      <td>0</td>\n",
              "    </tr>\n",
              "    <tr>\n",
              "      <th>3</th>\n",
              "      <td>2022-07-06</td>\n",
              "      <td>34137.601562</td>\n",
              "      <td>34155.101562</td>\n",
              "      <td>34096.250000</td>\n",
              "      <td>34120.199219</td>\n",
              "      <td>34120.199219</td>\n",
              "      <td>0</td>\n",
              "    </tr>\n",
              "    <tr>\n",
              "      <th>4</th>\n",
              "      <td>2022-07-06</td>\n",
              "      <td>34119.750000</td>\n",
              "      <td>34135.699219</td>\n",
              "      <td>34092.000000</td>\n",
              "      <td>34092.000000</td>\n",
              "      <td>34092.000000</td>\n",
              "      <td>0</td>\n",
              "    </tr>\n",
              "  </tbody>\n",
              "</table>\n",
              "</div>\n",
              "      <button class=\"colab-df-convert\" onclick=\"convertToInteractive('df-911f41ec-3d9e-4b80-9ead-c9f9732b27e2')\"\n",
              "              title=\"Convert this dataframe to an interactive table.\"\n",
              "              style=\"display:none;\">\n",
              "        \n",
              "  <svg xmlns=\"http://www.w3.org/2000/svg\" height=\"24px\"viewBox=\"0 0 24 24\"\n",
              "       width=\"24px\">\n",
              "    <path d=\"M0 0h24v24H0V0z\" fill=\"none\"/>\n",
              "    <path d=\"M18.56 5.44l.94 2.06.94-2.06 2.06-.94-2.06-.94-.94-2.06-.94 2.06-2.06.94zm-11 1L8.5 8.5l.94-2.06 2.06-.94-2.06-.94L8.5 2.5l-.94 2.06-2.06.94zm10 10l.94 2.06.94-2.06 2.06-.94-2.06-.94-.94-2.06-.94 2.06-2.06.94z\"/><path d=\"M17.41 7.96l-1.37-1.37c-.4-.4-.92-.59-1.43-.59-.52 0-1.04.2-1.43.59L10.3 9.45l-7.72 7.72c-.78.78-.78 2.05 0 2.83L4 21.41c.39.39.9.59 1.41.59.51 0 1.02-.2 1.41-.59l7.78-7.78 2.81-2.81c.8-.78.8-2.07 0-2.86zM5.41 20L4 18.59l7.72-7.72 1.47 1.35L5.41 20z\"/>\n",
              "  </svg>\n",
              "      </button>\n",
              "      \n",
              "  <style>\n",
              "    .colab-df-container {\n",
              "      display:flex;\n",
              "      flex-wrap:wrap;\n",
              "      gap: 12px;\n",
              "    }\n",
              "\n",
              "    .colab-df-convert {\n",
              "      background-color: #E8F0FE;\n",
              "      border: none;\n",
              "      border-radius: 50%;\n",
              "      cursor: pointer;\n",
              "      display: none;\n",
              "      fill: #1967D2;\n",
              "      height: 32px;\n",
              "      padding: 0 0 0 0;\n",
              "      width: 32px;\n",
              "    }\n",
              "\n",
              "    .colab-df-convert:hover {\n",
              "      background-color: #E2EBFA;\n",
              "      box-shadow: 0px 1px 2px rgba(60, 64, 67, 0.3), 0px 1px 3px 1px rgba(60, 64, 67, 0.15);\n",
              "      fill: #174EA6;\n",
              "    }\n",
              "\n",
              "    [theme=dark] .colab-df-convert {\n",
              "      background-color: #3B4455;\n",
              "      fill: #D2E3FC;\n",
              "    }\n",
              "\n",
              "    [theme=dark] .colab-df-convert:hover {\n",
              "      background-color: #434B5C;\n",
              "      box-shadow: 0px 1px 3px 1px rgba(0, 0, 0, 0.15);\n",
              "      filter: drop-shadow(0px 1px 2px rgba(0, 0, 0, 0.3));\n",
              "      fill: #FFFFFF;\n",
              "    }\n",
              "  </style>\n",
              "\n",
              "      <script>\n",
              "        const buttonEl =\n",
              "          document.querySelector('#df-911f41ec-3d9e-4b80-9ead-c9f9732b27e2 button.colab-df-convert');\n",
              "        buttonEl.style.display =\n",
              "          google.colab.kernel.accessAllowed ? 'block' : 'none';\n",
              "\n",
              "        async function convertToInteractive(key) {\n",
              "          const element = document.querySelector('#df-911f41ec-3d9e-4b80-9ead-c9f9732b27e2');\n",
              "          const dataTable =\n",
              "            await google.colab.kernel.invokeFunction('convertToInteractive',\n",
              "                                                     [key], {});\n",
              "          if (!dataTable) return;\n",
              "\n",
              "          const docLinkHtml = 'Like what you see? Visit the ' +\n",
              "            '<a target=\"_blank\" href=https://colab.research.google.com/notebooks/data_table.ipynb>data table notebook</a>'\n",
              "            + ' to learn more about interactive tables.';\n",
              "          element.innerHTML = '';\n",
              "          dataTable['output_type'] = 'display_data';\n",
              "          await google.colab.output.renderOutput(dataTable, element);\n",
              "          const docLink = document.createElement('div');\n",
              "          docLink.innerHTML = docLinkHtml;\n",
              "          element.appendChild(docLink);\n",
              "        }\n",
              "      </script>\n",
              "    </div>\n",
              "  </div>\n",
              "  "
            ]
          },
          "metadata": {},
          "execution_count": 70
        }
      ]
    },
    {
      "cell_type": "code",
      "source": [
        "df.info()"
      ],
      "metadata": {
        "id": "v7rFi8qvVZMW",
        "outputId": "eb94d833-379f-4f25-cbce-76321aecc694",
        "colab": {
          "base_uri": "https://localhost:8080/"
        }
      },
      "execution_count": 71,
      "outputs": [
        {
          "output_type": "stream",
          "name": "stdout",
          "text": [
            "<class 'pandas.core.frame.DataFrame'>\n",
            "RangeIndex: 4499 entries, 0 to 4498\n",
            "Data columns (total 7 columns):\n",
            " #   Column     Non-Null Count  Dtype  \n",
            "---  ------     --------------  -----  \n",
            " 0   Datetime   4499 non-null   object \n",
            " 1   Open       4499 non-null   float64\n",
            " 2   High       4499 non-null   float64\n",
            " 3   Low        4499 non-null   float64\n",
            " 4   Close      4499 non-null   float64\n",
            " 5   Adj Close  4499 non-null   float64\n",
            " 6   Volume     4499 non-null   int64  \n",
            "dtypes: float64(5), int64(1), object(1)\n",
            "memory usage: 246.2+ KB\n"
          ]
        }
      ]
    },
    {
      "cell_type": "code",
      "source": [
        "df.isnull().sum()"
      ],
      "metadata": {
        "colab": {
          "base_uri": "https://localhost:8080/"
        },
        "id": "siT8pzStxK50",
        "outputId": "97eb503b-480c-42f6-9811-3b580dd14c05"
      },
      "execution_count": 72,
      "outputs": [
        {
          "output_type": "execute_result",
          "data": {
            "text/plain": [
              "Datetime     0\n",
              "Open         0\n",
              "High         0\n",
              "Low          0\n",
              "Close        0\n",
              "Adj Close    0\n",
              "Volume       0\n",
              "dtype: int64"
            ]
          },
          "metadata": {},
          "execution_count": 72
        }
      ]
    },
    {
      "cell_type": "markdown",
      "source": [
        "Converting the data type from \"object\" to \"datetime\" for the \"Datetime\""
      ],
      "metadata": {
        "id": "9l0g3bGIQMfT"
      }
    },
    {
      "cell_type": "code",
      "source": [
        "df['Datetime'] = pd.to_datetime(df['Datetime'])"
      ],
      "metadata": {
        "id": "xEUCAXOUy1Gp"
      },
      "execution_count": 73,
      "outputs": []
    },
    {
      "cell_type": "code",
      "source": [
        "df.info()"
      ],
      "metadata": {
        "colab": {
          "base_uri": "https://localhost:8080/"
        },
        "id": "BGCeSDtbzUn1",
        "outputId": "6eafcaae-e044-4b42-d041-a4974bb3a332"
      },
      "execution_count": 74,
      "outputs": [
        {
          "output_type": "stream",
          "name": "stdout",
          "text": [
            "<class 'pandas.core.frame.DataFrame'>\n",
            "RangeIndex: 4499 entries, 0 to 4498\n",
            "Data columns (total 7 columns):\n",
            " #   Column     Non-Null Count  Dtype         \n",
            "---  ------     --------------  -----         \n",
            " 0   Datetime   4499 non-null   datetime64[ns]\n",
            " 1   Open       4499 non-null   float64       \n",
            " 2   High       4499 non-null   float64       \n",
            " 3   Low        4499 non-null   float64       \n",
            " 4   Close      4499 non-null   float64       \n",
            " 5   Adj Close  4499 non-null   float64       \n",
            " 6   Volume     4499 non-null   int64         \n",
            "dtypes: datetime64[ns](1), float64(5), int64(1)\n",
            "memory usage: 246.2 KB\n"
          ]
        }
      ]
    },
    {
      "cell_type": "code",
      "source": [
        "print(f'DataFrame contains stock between {df.Datetime.min()} {df.Datetime.max()}')\n",
        "print(f'Total numner of days = {(df.Datetime.max()- df.Datetime.min()).days} days')"
      ],
      "metadata": {
        "colab": {
          "base_uri": "https://localhost:8080/"
        },
        "id": "RVHtUCJIyVO-",
        "outputId": "18c2f47e-cf95-458b-b997-17ffad203cbb"
      },
      "execution_count": 75,
      "outputs": [
        {
          "output_type": "stream",
          "name": "stdout",
          "text": [
            "DataFrame contains stock between 2022-07-06 00:00:00 2022-09-30 00:00:00\n",
            "Total numner of days = 86 days\n"
          ]
        }
      ]
    },
    {
      "cell_type": "code",
      "source": [
        "df.describe()"
      ],
      "metadata": {
        "colab": {
          "base_uri": "https://localhost:8080/",
          "height": 300
        },
        "id": "L2CU1VLw1mPc",
        "outputId": "f7fc8bf2-53c4-4cde-f5df-49652af7e035"
      },
      "execution_count": 76,
      "outputs": [
        {
          "output_type": "execute_result",
          "data": {
            "text/plain": [
              "               Open          High           Low         Close     Adj Close  \\\n",
              "count   4499.000000   4499.000000   4499.000000   4499.000000   4499.000000   \n",
              "mean   38232.863543  38259.840769  38205.939855  38233.823223  38233.823223   \n",
              "std     1964.348261   1965.959555   1962.130293   1963.918792   1963.918792   \n",
              "min    33929.398438  34074.750000  33916.101562  33992.148438  33992.148438   \n",
              "25%    36712.449219  36728.974609  36674.500000  36711.701172  36711.701172   \n",
              "50%    38413.000000  38450.750000  38387.199219  38414.699219  38414.699219   \n",
              "75%    39513.699219  39542.724609  39492.875000  39516.650391  39516.650391   \n",
              "max    41795.851562  41830.351562  41766.300781  41788.199219  41788.199219   \n",
              "\n",
              "       Volume  \n",
              "count  4499.0  \n",
              "mean      0.0  \n",
              "std       0.0  \n",
              "min       0.0  \n",
              "25%       0.0  \n",
              "50%       0.0  \n",
              "75%       0.0  \n",
              "max       0.0  "
            ],
            "text/html": [
              "\n",
              "  <div id=\"df-0a5f6e64-42d9-46f7-a1d3-e85f493b5baf\">\n",
              "    <div class=\"colab-df-container\">\n",
              "      <div>\n",
              "<style scoped>\n",
              "    .dataframe tbody tr th:only-of-type {\n",
              "        vertical-align: middle;\n",
              "    }\n",
              "\n",
              "    .dataframe tbody tr th {\n",
              "        vertical-align: top;\n",
              "    }\n",
              "\n",
              "    .dataframe thead th {\n",
              "        text-align: right;\n",
              "    }\n",
              "</style>\n",
              "<table border=\"1\" class=\"dataframe\">\n",
              "  <thead>\n",
              "    <tr style=\"text-align: right;\">\n",
              "      <th></th>\n",
              "      <th>Open</th>\n",
              "      <th>High</th>\n",
              "      <th>Low</th>\n",
              "      <th>Close</th>\n",
              "      <th>Adj Close</th>\n",
              "      <th>Volume</th>\n",
              "    </tr>\n",
              "  </thead>\n",
              "  <tbody>\n",
              "    <tr>\n",
              "      <th>count</th>\n",
              "      <td>4499.000000</td>\n",
              "      <td>4499.000000</td>\n",
              "      <td>4499.000000</td>\n",
              "      <td>4499.000000</td>\n",
              "      <td>4499.000000</td>\n",
              "      <td>4499.0</td>\n",
              "    </tr>\n",
              "    <tr>\n",
              "      <th>mean</th>\n",
              "      <td>38232.863543</td>\n",
              "      <td>38259.840769</td>\n",
              "      <td>38205.939855</td>\n",
              "      <td>38233.823223</td>\n",
              "      <td>38233.823223</td>\n",
              "      <td>0.0</td>\n",
              "    </tr>\n",
              "    <tr>\n",
              "      <th>std</th>\n",
              "      <td>1964.348261</td>\n",
              "      <td>1965.959555</td>\n",
              "      <td>1962.130293</td>\n",
              "      <td>1963.918792</td>\n",
              "      <td>1963.918792</td>\n",
              "      <td>0.0</td>\n",
              "    </tr>\n",
              "    <tr>\n",
              "      <th>min</th>\n",
              "      <td>33929.398438</td>\n",
              "      <td>34074.750000</td>\n",
              "      <td>33916.101562</td>\n",
              "      <td>33992.148438</td>\n",
              "      <td>33992.148438</td>\n",
              "      <td>0.0</td>\n",
              "    </tr>\n",
              "    <tr>\n",
              "      <th>25%</th>\n",
              "      <td>36712.449219</td>\n",
              "      <td>36728.974609</td>\n",
              "      <td>36674.500000</td>\n",
              "      <td>36711.701172</td>\n",
              "      <td>36711.701172</td>\n",
              "      <td>0.0</td>\n",
              "    </tr>\n",
              "    <tr>\n",
              "      <th>50%</th>\n",
              "      <td>38413.000000</td>\n",
              "      <td>38450.750000</td>\n",
              "      <td>38387.199219</td>\n",
              "      <td>38414.699219</td>\n",
              "      <td>38414.699219</td>\n",
              "      <td>0.0</td>\n",
              "    </tr>\n",
              "    <tr>\n",
              "      <th>75%</th>\n",
              "      <td>39513.699219</td>\n",
              "      <td>39542.724609</td>\n",
              "      <td>39492.875000</td>\n",
              "      <td>39516.650391</td>\n",
              "      <td>39516.650391</td>\n",
              "      <td>0.0</td>\n",
              "    </tr>\n",
              "    <tr>\n",
              "      <th>max</th>\n",
              "      <td>41795.851562</td>\n",
              "      <td>41830.351562</td>\n",
              "      <td>41766.300781</td>\n",
              "      <td>41788.199219</td>\n",
              "      <td>41788.199219</td>\n",
              "      <td>0.0</td>\n",
              "    </tr>\n",
              "  </tbody>\n",
              "</table>\n",
              "</div>\n",
              "      <button class=\"colab-df-convert\" onclick=\"convertToInteractive('df-0a5f6e64-42d9-46f7-a1d3-e85f493b5baf')\"\n",
              "              title=\"Convert this dataframe to an interactive table.\"\n",
              "              style=\"display:none;\">\n",
              "        \n",
              "  <svg xmlns=\"http://www.w3.org/2000/svg\" height=\"24px\"viewBox=\"0 0 24 24\"\n",
              "       width=\"24px\">\n",
              "    <path d=\"M0 0h24v24H0V0z\" fill=\"none\"/>\n",
              "    <path d=\"M18.56 5.44l.94 2.06.94-2.06 2.06-.94-2.06-.94-.94-2.06-.94 2.06-2.06.94zm-11 1L8.5 8.5l.94-2.06 2.06-.94-2.06-.94L8.5 2.5l-.94 2.06-2.06.94zm10 10l.94 2.06.94-2.06 2.06-.94-2.06-.94-.94-2.06-.94 2.06-2.06.94z\"/><path d=\"M17.41 7.96l-1.37-1.37c-.4-.4-.92-.59-1.43-.59-.52 0-1.04.2-1.43.59L10.3 9.45l-7.72 7.72c-.78.78-.78 2.05 0 2.83L4 21.41c.39.39.9.59 1.41.59.51 0 1.02-.2 1.41-.59l7.78-7.78 2.81-2.81c.8-.78.8-2.07 0-2.86zM5.41 20L4 18.59l7.72-7.72 1.47 1.35L5.41 20z\"/>\n",
              "  </svg>\n",
              "      </button>\n",
              "      \n",
              "  <style>\n",
              "    .colab-df-container {\n",
              "      display:flex;\n",
              "      flex-wrap:wrap;\n",
              "      gap: 12px;\n",
              "    }\n",
              "\n",
              "    .colab-df-convert {\n",
              "      background-color: #E8F0FE;\n",
              "      border: none;\n",
              "      border-radius: 50%;\n",
              "      cursor: pointer;\n",
              "      display: none;\n",
              "      fill: #1967D2;\n",
              "      height: 32px;\n",
              "      padding: 0 0 0 0;\n",
              "      width: 32px;\n",
              "    }\n",
              "\n",
              "    .colab-df-convert:hover {\n",
              "      background-color: #E2EBFA;\n",
              "      box-shadow: 0px 1px 2px rgba(60, 64, 67, 0.3), 0px 1px 3px 1px rgba(60, 64, 67, 0.15);\n",
              "      fill: #174EA6;\n",
              "    }\n",
              "\n",
              "    [theme=dark] .colab-df-convert {\n",
              "      background-color: #3B4455;\n",
              "      fill: #D2E3FC;\n",
              "    }\n",
              "\n",
              "    [theme=dark] .colab-df-convert:hover {\n",
              "      background-color: #434B5C;\n",
              "      box-shadow: 0px 1px 3px 1px rgba(0, 0, 0, 0.15);\n",
              "      filter: drop-shadow(0px 1px 2px rgba(0, 0, 0, 0.3));\n",
              "      fill: #FFFFFF;\n",
              "    }\n",
              "  </style>\n",
              "\n",
              "      <script>\n",
              "        const buttonEl =\n",
              "          document.querySelector('#df-0a5f6e64-42d9-46f7-a1d3-e85f493b5baf button.colab-df-convert');\n",
              "        buttonEl.style.display =\n",
              "          google.colab.kernel.accessAllowed ? 'block' : 'none';\n",
              "\n",
              "        async function convertToInteractive(key) {\n",
              "          const element = document.querySelector('#df-0a5f6e64-42d9-46f7-a1d3-e85f493b5baf');\n",
              "          const dataTable =\n",
              "            await google.colab.kernel.invokeFunction('convertToInteractive',\n",
              "                                                     [key], {});\n",
              "          if (!dataTable) return;\n",
              "\n",
              "          const docLinkHtml = 'Like what you see? Visit the ' +\n",
              "            '<a target=\"_blank\" href=https://colab.research.google.com/notebooks/data_table.ipynb>data table notebook</a>'\n",
              "            + ' to learn more about interactive tables.';\n",
              "          element.innerHTML = '';\n",
              "          dataTable['output_type'] = 'display_data';\n",
              "          await google.colab.output.renderOutput(dataTable, element);\n",
              "          const docLink = document.createElement('div');\n",
              "          docLink.innerHTML = docLinkHtml;\n",
              "          element.appendChild(docLink);\n",
              "        }\n",
              "      </script>\n",
              "    </div>\n",
              "  </div>\n",
              "  "
            ]
          },
          "metadata": {},
          "execution_count": 76
        }
      ]
    },
    {
      "cell_type": "code",
      "source": [
        "df[['Low','High','Open','Close']].plot(kind= 'box', figsize=(12,4))"
      ],
      "metadata": {
        "colab": {
          "base_uri": "https://localhost:8080/",
          "height": 285
        },
        "id": "zQ6JYDAHMzqr",
        "outputId": "13ea3f60-4829-498a-a84d-b5939c6e3949"
      },
      "execution_count": 77,
      "outputs": [
        {
          "output_type": "execute_result",
          "data": {
            "text/plain": [
              "<matplotlib.axes._subplots.AxesSubplot at 0x7f59a2717f50>"
            ]
          },
          "metadata": {},
          "execution_count": 77
        },
        {
          "output_type": "display_data",
          "data": {
            "text/plain": [
              "<Figure size 864x288 with 1 Axes>"
            ],
            "image/png": "[encoded data removed]"
          },
          "metadata": {
            "needs_background": "light"
          }
        }
      ]
    },
    {
      "cell_type": "code",
      "source": [
        "df.set_index('Datetime', inplace = True)"
      ],
      "metadata": {
        "id": "ah4HdqOMPv6X"
      },
      "execution_count": 78,
      "outputs": []
    },
    {
      "cell_type": "code",
      "source": [
        "df.drop([\"Volume\"], axis = 1, inplace = True)"
      ],
      "metadata": {
        "id": "x8CYOWiiQ2gR"
      },
      "execution_count": 79,
      "outputs": []
    },
    {
      "cell_type": "code",
      "source": [
        "df.head()"
      ],
      "metadata": {
        "colab": {
          "base_uri": "https://localhost:8080/",
          "height": 237
        },
        "id": "432uRXGpRCjf",
        "outputId": "41ab5d6c-f5eb-4021-c920-1c48291ed098"
      },
      "execution_count": 80,
      "outputs": [
        {
          "output_type": "execute_result",
          "data": {
            "text/plain": [
              "                    Open          High           Low         Close  \\\n",
              "Datetime                                                             \n",
              "2022-07-06  33929.398438  34091.250000  33916.101562  34023.648438   \n",
              "2022-07-06  34022.050781  34132.898438  34022.050781  34129.148438   \n",
              "2022-07-06  34127.601562  34158.000000  34107.148438  34143.449219   \n",
              "2022-07-06  34137.601562  34155.101562  34096.250000  34120.199219   \n",
              "2022-07-06  34119.750000  34135.699219  34092.000000  34092.000000   \n",
              "\n",
              "               Adj Close  \n",
              "Datetime                  \n",
              "2022-07-06  34023.648438  \n",
              "2022-07-06  34129.148438  \n",
              "2022-07-06  34143.449219  \n",
              "2022-07-06  34120.199219  \n",
              "2022-07-06  34092.000000  "
            ],
            "text/html": [
              "\n",
              "  <div id=\"df-0634c5b5-3d04-47c2-a6a7-3ff3d658c4e8\">\n",
              "    <div class=\"colab-df-container\">\n",
              "      <div>\n",
              "<style scoped>\n",
              "    .dataframe tbody tr th:only-of-type {\n",
              "        vertical-align: middle;\n",
              "    }\n",
              "\n",
              "    .dataframe tbody tr th {\n",
              "        vertical-align: top;\n",
              "    }\n",
              "\n",
              "    .dataframe thead th {\n",
              "        text-align: right;\n",
              "    }\n",
              "</style>\n",
              "<table border=\"1\" class=\"dataframe\">\n",
              "  <thead>\n",
              "    <tr style=\"text-align: right;\">\n",
              "      <th></th>\n",
              "      <th>Open</th>\n",
              "      <th>High</th>\n",
              "      <th>Low</th>\n",
              "      <th>Close</th>\n",
              "      <th>Adj Close</th>\n",
              "    </tr>\n",
              "    <tr>\n",
              "      <th>Datetime</th>\n",
              "      <th></th>\n",
              "      <th></th>\n",
              "      <th></th>\n",
              "      <th></th>\n",
              "      <th></th>\n",
              "    </tr>\n",
              "  </thead>\n",
              "  <tbody>\n",
              "    <tr>\n",
              "      <th>2022-07-06</th>\n",
              "      <td>33929.398438</td>\n",
              "      <td>34091.250000</td>\n",
              "      <td>33916.101562</td>\n",
              "      <td>34023.648438</td>\n",
              "      <td>34023.648438</td>\n",
              "    </tr>\n",
              "    <tr>\n",
              "      <th>2022-07-06</th>\n",
              "      <td>34022.050781</td>\n",
              "      <td>34132.898438</td>\n",
              "      <td>34022.050781</td>\n",
              "      <td>34129.148438</td>\n",
              "      <td>34129.148438</td>\n",
              "    </tr>\n",
              "    <tr>\n",
              "      <th>2022-07-06</th>\n",
              "      <td>34127.601562</td>\n",
              "      <td>34158.000000</td>\n",
              "      <td>34107.148438</td>\n",
              "      <td>34143.449219</td>\n",
              "      <td>34143.449219</td>\n",
              "    </tr>\n",
              "    <tr>\n",
              "      <th>2022-07-06</th>\n",
              "      <td>34137.601562</td>\n",
              "      <td>34155.101562</td>\n",
              "      <td>34096.250000</td>\n",
              "      <td>34120.199219</td>\n",
              "      <td>34120.199219</td>\n",
              "    </tr>\n",
              "    <tr>\n",
              "      <th>2022-07-06</th>\n",
              "      <td>34119.750000</td>\n",
              "      <td>34135.699219</td>\n",
              "      <td>34092.000000</td>\n",
              "      <td>34092.000000</td>\n",
              "      <td>34092.000000</td>\n",
              "    </tr>\n",
              "  </tbody>\n",
              "</table>\n",
              "</div>\n",
              "      <button class=\"colab-df-convert\" onclick=\"convertToInteractive('df-0634c5b5-3d04-47c2-a6a7-3ff3d658c4e8')\"\n",
              "              title=\"Convert this dataframe to an interactive table.\"\n",
              "              style=\"display:none;\">\n",
              "        \n",
              "  <svg xmlns=\"http://www.w3.org/2000/svg\" height=\"24px\"viewBox=\"0 0 24 24\"\n",
              "       width=\"24px\">\n",
              "    <path d=\"M0 0h24v24H0V0z\" fill=\"none\"/>\n",
              "    <path d=\"M18.56 5.44l.94 2.06.94-2.06 2.06-.94-2.06-.94-.94-2.06-.94 2.06-2.06.94zm-11 1L8.5 8.5l.94-2.06 2.06-.94-2.06-.94L8.5 2.5l-.94 2.06-2.06.94zm10 10l.94 2.06.94-2.06 2.06-.94-2.06-.94-.94-2.06-.94 2.06-2.06.94z\"/><path d=\"M17.41 7.96l-1.37-1.37c-.4-.4-.92-.59-1.43-.59-.52 0-1.04.2-1.43.59L10.3 9.45l-7.72 7.72c-.78.78-.78 2.05 0 2.83L4 21.41c.39.39.9.59 1.41.59.51 0 1.02-.2 1.41-.59l7.78-7.78 2.81-2.81c.8-.78.8-2.07 0-2.86zM5.41 20L4 18.59l7.72-7.72 1.47 1.35L5.41 20z\"/>\n",
              "  </svg>\n",
              "      </button>\n",
              "      \n",
              "  <style>\n",
              "    .colab-df-container {\n",
              "      display:flex;\n",
              "      flex-wrap:wrap;\n",
              "      gap: 12px;\n",
              "    }\n",
              "\n",
              "    .colab-df-convert {\n",
              "      background-color: #E8F0FE;\n",
              "      border: none;\n",
              "      border-radius: 50%;\n",
              "      cursor: pointer;\n",
              "      display: none;\n",
              "      fill: #1967D2;\n",
              "      height: 32px;\n",
              "      padding: 0 0 0 0;\n",
              "      width: 32px;\n",
              "    }\n",
              "\n",
              "    .colab-df-convert:hover {\n",
              "      background-color: #E2EBFA;\n",
              "      box-shadow: 0px 1px 2px rgba(60, 64, 67, 0.3), 0px 1px 3px 1px rgba(60, 64, 67, 0.15);\n",
              "      fill: #174EA6;\n",
              "    }\n",
              "\n",
              "    [theme=dark] .colab-df-convert {\n",
              "      background-color: #3B4455;\n",
              "      fill: #D2E3FC;\n",
              "    }\n",
              "\n",
              "    [theme=dark] .colab-df-convert:hover {\n",
              "      background-color: #434B5C;\n",
              "      box-shadow: 0px 1px 3px 1px rgba(0, 0, 0, 0.15);\n",
              "      filter: drop-shadow(0px 1px 2px rgba(0, 0, 0, 0.3));\n",
              "      fill: #FFFFFF;\n",
              "    }\n",
              "  </style>\n",
              "\n",
              "      <script>\n",
              "        const buttonEl =\n",
              "          document.querySelector('#df-0634c5b5-3d04-47c2-a6a7-3ff3d658c4e8 button.colab-df-convert');\n",
              "        buttonEl.style.display =\n",
              "          google.colab.kernel.accessAllowed ? 'block' : 'none';\n",
              "\n",
              "        async function convertToInteractive(key) {\n",
              "          const element = document.querySelector('#df-0634c5b5-3d04-47c2-a6a7-3ff3d658c4e8');\n",
              "          const dataTable =\n",
              "            await google.colab.kernel.invokeFunction('convertToInteractive',\n",
              "                                                     [key], {});\n",
              "          if (!dataTable) return;\n",
              "\n",
              "          const docLinkHtml = 'Like what you see? Visit the ' +\n",
              "            '<a target=\"_blank\" href=https://colab.research.google.com/notebooks/data_table.ipynb>data table notebook</a>'\n",
              "            + ' to learn more about interactive tables.';\n",
              "          element.innerHTML = '';\n",
              "          dataTable['output_type'] = 'display_data';\n",
              "          await google.colab.output.renderOutput(dataTable, element);\n",
              "          const docLink = document.createElement('div');\n",
              "          docLink.innerHTML = docLinkHtml;\n",
              "          element.appendChild(docLink);\n",
              "        }\n",
              "      </script>\n",
              "    </div>\n",
              "  </div>\n",
              "  "
            ]
          },
          "metadata": {},
          "execution_count": 80
        }
      ]
    },
    {
      "cell_type": "code",
      "source": [
        "df.plot()"
      ],
      "metadata": {
        "colab": {
          "base_uri": "https://localhost:8080/",
          "height": 311
        },
        "id": "jQ9HLIRkOuf5",
        "outputId": "1a00e2c4-d331-4e88-ac67-520d0b88f6af"
      },
      "execution_count": 81,
      "outputs": [
        {
          "output_type": "execute_result",
          "data": {
            "text/plain": [
              "<matplotlib.axes._subplots.AxesSubplot at 0x7f59a2607810>"
            ]
          },
          "metadata": {},
          "execution_count": 81
        },
        {
          "output_type": "display_data",
          "data": {
            "text/plain": [
              "<Figure size 432x288 with 1 Axes>"
            ],
            "image/png": "[encoded data removed]"
          },
          "metadata": {
            "needs_background": "light"
          }
        }
      ]
    },
    {
      "cell_type": "code",
      "source": [
        "df['High'].plot(figsize=(12,4))"
      ],
      "metadata": {
        "colab": {
          "base_uri": "https://localhost:8080/",
          "height": 311
        },
        "id": "vMV2o0WQRlEE",
        "outputId": "85af91e7-41db-40cd-bf8c-42deceebabbd"
      },
      "execution_count": 63,
      "outputs": [
        {
          "output_type": "execute_result",
          "data": {
            "text/plain": [
              "<matplotlib.axes._subplots.AxesSubplot at 0x7f59a2824550>"
            ]
          },
          "metadata": {},
          "execution_count": 63
        },
        {
          "output_type": "display_data",
          "data": {
            "text/plain": [
              "<Figure size 864x288 with 1 Axes>"
            ],
            "image/png": "[encoded data removed]"
          },
          "metadata": {
            "needs_background": "light"
          }
        }
      ]
    },
    {
      "cell_type": "code",
      "source": [
        "df['High'].plot(xlim=['2022-07-06', '2022-09-30'], figsize=(20,4),ls='--',c='green')"
      ],
      "metadata": {
        "colab": {
          "base_uri": "https://localhost:8080/",
          "height": 237
        },
        "id": "EUQpDosTSveu",
        "outputId": "54e90bde-0631-4f92-b94c-b495242ec2cb"
      },
      "execution_count": 87,
      "outputs": [
        {
          "output_type": "execute_result",
          "data": {
            "text/plain": [
              "<matplotlib.axes._subplots.AxesSubplot at 0x7f59a2261590>"
            ]
          },
          "metadata": {},
          "execution_count": 87
        },
        {
          "output_type": "display_data",
          "data": {
            "text/plain": [
              "<Figure size 1440x288 with 1 Axes>"
            ],
            "image/png": "[encoded data removed]"
          },
          "metadata": {
            "needs_background": "light"
          }
        }
      ]
    },
    {
      "cell_type": "code",
      "source": [
        "df[['Low','High','Open','Close']].plot(figsize=(12,4))"
      ],
      "metadata": {
        "colab": {
          "base_uri": "https://localhost:8080/",
          "height": 311
        },
        "id": "GdBxeZa42ViU",
        "outputId": "518ffb07-bb8a-4a98-c986-ba9c29e8f0de"
      },
      "execution_count": 62,
      "outputs": [
        {
          "output_type": "execute_result",
          "data": {
            "text/plain": [
              "<matplotlib.axes._subplots.AxesSubplot at 0x7f59a2e1ec90>"
            ]
          },
          "metadata": {},
          "execution_count": 62
        },
        {
          "output_type": "display_data",
          "data": {
            "text/plain": [
              "<Figure size 864x288 with 1 Axes>"
            ],
            "image/png": "[encoded data removed]"
          },
          "metadata": {
            "needs_background": "light"
          }
        }
      ]
    },
    {
      "cell_type": "markdown",
      "source": [
        "Checking the details of last day or end of the year. Since we have only one year of data, displyed only one record of last day of the year. Suppose If we have 5 years of data, will get the details of end of the year data seperately for 5 years. "
      ],
      "metadata": {
        "id": "NYB_LpukV9Uk"
      }
    },
    {
      "cell_type": "code",
      "source": [
        "df.resample(rule='A').min()"
      ],
      "metadata": {
        "colab": {
          "base_uri": "https://localhost:8080/",
          "height": 112
        },
        "id": "kjMGji7iVZWb",
        "outputId": "fe0e6d1c-682a-4fbd-b8b5-2e302972a5ab"
      },
      "execution_count": 88,
      "outputs": [
        {
          "output_type": "execute_result",
          "data": {
            "text/plain": [
              "                    Open      High           Low         Close     Adj Close\n",
              "Datetime                                                                    \n",
              "2022-12-31  33929.398438  34074.75  33916.101562  33992.148438  33992.148438"
            ],
            "text/html": [
              "\n",
              "  <div id=\"df-4d945e6a-87f3-4c1a-bff2-f26879a061b4\">\n",
              "    <div class=\"colab-df-container\">\n",
              "      <div>\n",
              "<style scoped>\n",
              "    .dataframe tbody tr th:only-of-type {\n",
              "        vertical-align: middle;\n",
              "    }\n",
              "\n",
              "    .dataframe tbody tr th {\n",
              "        vertical-align: top;\n",
              "    }\n",
              "\n",
              "    .dataframe thead th {\n",
              "        text-align: right;\n",
              "    }\n",
              "</style>\n",
              "<table border=\"1\" class=\"dataframe\">\n",
              "  <thead>\n",
              "    <tr style=\"text-align: right;\">\n",
              "      <th></th>\n",
              "      <th>Open</th>\n",
              "      <th>High</th>\n",
              "      <th>Low</th>\n",
              "      <th>Close</th>\n",
              "      <th>Adj Close</th>\n",
              "    </tr>\n",
              "    <tr>\n",
              "      <th>Datetime</th>\n",
              "      <th></th>\n",
              "      <th></th>\n",
              "      <th></th>\n",
              "      <th></th>\n",
              "      <th></th>\n",
              "    </tr>\n",
              "  </thead>\n",
              "  <tbody>\n",
              "    <tr>\n",
              "      <th>2022-12-31</th>\n",
              "      <td>33929.398438</td>\n",
              "      <td>34074.75</td>\n",
              "      <td>33916.101562</td>\n",
              "      <td>33992.148438</td>\n",
              "      <td>33992.148438</td>\n",
              "    </tr>\n",
              "  </tbody>\n",
              "</table>\n",
              "</div>\n",
              "      <button class=\"colab-df-convert\" onclick=\"convertToInteractive('df-4d945e6a-87f3-4c1a-bff2-f26879a061b4')\"\n",
              "              title=\"Convert this dataframe to an interactive table.\"\n",
              "              style=\"display:none;\">\n",
              "        \n",
              "  <svg xmlns=\"http://www.w3.org/2000/svg\" height=\"24px\"viewBox=\"0 0 24 24\"\n",
              "       width=\"24px\">\n",
              "    <path d=\"M0 0h24v24H0V0z\" fill=\"none\"/>\n",
              "    <path d=\"M18.56 5.44l.94 2.06.94-2.06 2.06-.94-2.06-.94-.94-2.06-.94 2.06-2.06.94zm-11 1L8.5 8.5l.94-2.06 2.06-.94-2.06-.94L8.5 2.5l-.94 2.06-2.06.94zm10 10l.94 2.06.94-2.06 2.06-.94-2.06-.94-.94-2.06-.94 2.06-2.06.94z\"/><path d=\"M17.41 7.96l-1.37-1.37c-.4-.4-.92-.59-1.43-.59-.52 0-1.04.2-1.43.59L10.3 9.45l-7.72 7.72c-.78.78-.78 2.05 0 2.83L4 21.41c.39.39.9.59 1.41.59.51 0 1.02-.2 1.41-.59l7.78-7.78 2.81-2.81c.8-.78.8-2.07 0-2.86zM5.41 20L4 18.59l7.72-7.72 1.47 1.35L5.41 20z\"/>\n",
              "  </svg>\n",
              "      </button>\n",
              "      \n",
              "  <style>\n",
              "    .colab-df-container {\n",
              "      display:flex;\n",
              "      flex-wrap:wrap;\n",
              "      gap: 12px;\n",
              "    }\n",
              "\n",
              "    .colab-df-convert {\n",
              "      background-color: #E8F0FE;\n",
              "      border: none;\n",
              "      border-radius: 50%;\n",
              "      cursor: pointer;\n",
              "      display: none;\n",
              "      fill: #1967D2;\n",
              "      height: 32px;\n",
              "      padding: 0 0 0 0;\n",
              "      width: 32px;\n",
              "    }\n",
              "\n",
              "    .colab-df-convert:hover {\n",
              "      background-color: #E2EBFA;\n",
              "      box-shadow: 0px 1px 2px rgba(60, 64, 67, 0.3), 0px 1px 3px 1px rgba(60, 64, 67, 0.15);\n",
              "      fill: #174EA6;\n",
              "    }\n",
              "\n",
              "    [theme=dark] .colab-df-convert {\n",
              "      background-color: #3B4455;\n",
              "      fill: #D2E3FC;\n",
              "    }\n",
              "\n",
              "    [theme=dark] .colab-df-convert:hover {\n",
              "      background-color: #434B5C;\n",
              "      box-shadow: 0px 1px 3px 1px rgba(0, 0, 0, 0.15);\n",
              "      filter: drop-shadow(0px 1px 2px rgba(0, 0, 0, 0.3));\n",
              "      fill: #FFFFFF;\n",
              "    }\n",
              "  </style>\n",
              "\n",
              "      <script>\n",
              "        const buttonEl =\n",
              "          document.querySelector('#df-4d945e6a-87f3-4c1a-bff2-f26879a061b4 button.colab-df-convert');\n",
              "        buttonEl.style.display =\n",
              "          google.colab.kernel.accessAllowed ? 'block' : 'none';\n",
              "\n",
              "        async function convertToInteractive(key) {\n",
              "          const element = document.querySelector('#df-4d945e6a-87f3-4c1a-bff2-f26879a061b4');\n",
              "          const dataTable =\n",
              "            await google.colab.kernel.invokeFunction('convertToInteractive',\n",
              "                                                     [key], {});\n",
              "          if (!dataTable) return;\n",
              "\n",
              "          const docLinkHtml = 'Like what you see? Visit the ' +\n",
              "            '<a target=\"_blank\" href=https://colab.research.google.com/notebooks/data_table.ipynb>data table notebook</a>'\n",
              "            + ' to learn more about interactive tables.';\n",
              "          element.innerHTML = '';\n",
              "          dataTable['output_type'] = 'display_data';\n",
              "          await google.colab.output.renderOutput(dataTable, element);\n",
              "          const docLink = document.createElement('div');\n",
              "          docLink.innerHTML = docLinkHtml;\n",
              "          element.appendChild(docLink);\n",
              "        }\n",
              "      </script>\n",
              "    </div>\n",
              "  </div>\n",
              "  "
            ]
          },
          "metadata": {},
          "execution_count": 88
        }
      ]
    },
    {
      "cell_type": "code",
      "source": [
        "df.resample(rule='A').max()"
      ],
      "metadata": {
        "colab": {
          "base_uri": "https://localhost:8080/",
          "height": 112
        },
        "id": "f74RDyyjXLCa",
        "outputId": "b2160ed3-457c-4739-cf00-f873f44acf95"
      },
      "execution_count": 89,
      "outputs": [
        {
          "output_type": "execute_result",
          "data": {
            "text/plain": [
              "                    Open          High           Low         Close  \\\n",
              "Datetime                                                             \n",
              "2022-12-31  41795.851562  41830.351562  41766.300781  41788.199219   \n",
              "\n",
              "               Adj Close  \n",
              "Datetime                  \n",
              "2022-12-31  41788.199219  "
            ],
            "text/html": [
              "\n",
              "  <div id=\"df-8e244545-5367-42b8-9756-0c9179e3b6fa\">\n",
              "    <div class=\"colab-df-container\">\n",
              "      <div>\n",
              "<style scoped>\n",
              "    .dataframe tbody tr th:only-of-type {\n",
              "        vertical-align: middle;\n",
              "    }\n",
              "\n",
              "    .dataframe tbody tr th {\n",
              "        vertical-align: top;\n",
              "    }\n",
              "\n",
              "    .dataframe thead th {\n",
              "        text-align: right;\n",
              "    }\n",
              "</style>\n",
              "<table border=\"1\" class=\"dataframe\">\n",
              "  <thead>\n",
              "    <tr style=\"text-align: right;\">\n",
              "      <th></th>\n",
              "      <th>Open</th>\n",
              "      <th>High</th>\n",
              "      <th>Low</th>\n",
              "      <th>Close</th>\n",
              "      <th>Adj Close</th>\n",
              "    </tr>\n",
              "    <tr>\n",
              "      <th>Datetime</th>\n",
              "      <th></th>\n",
              "      <th></th>\n",
              "      <th></th>\n",
              "      <th></th>\n",
              "      <th></th>\n",
              "    </tr>\n",
              "  </thead>\n",
              "  <tbody>\n",
              "    <tr>\n",
              "      <th>2022-12-31</th>\n",
              "      <td>41795.851562</td>\n",
              "      <td>41830.351562</td>\n",
              "      <td>41766.300781</td>\n",
              "      <td>41788.199219</td>\n",
              "      <td>41788.199219</td>\n",
              "    </tr>\n",
              "  </tbody>\n",
              "</table>\n",
              "</div>\n",
              "      <button class=\"colab-df-convert\" onclick=\"convertToInteractive('df-8e244545-5367-42b8-9756-0c9179e3b6fa')\"\n",
              "              title=\"Convert this dataframe to an interactive table.\"\n",
              "              style=\"display:none;\">\n",
              "        \n",
              "  <svg xmlns=\"http://www.w3.org/2000/svg\" height=\"24px\"viewBox=\"0 0 24 24\"\n",
              "       width=\"24px\">\n",
              "    <path d=\"M0 0h24v24H0V0z\" fill=\"none\"/>\n",
              "    <path d=\"M18.56 5.44l.94 2.06.94-2.06 2.06-.94-2.06-.94-.94-2.06-.94 2.06-2.06.94zm-11 1L8.5 8.5l.94-2.06 2.06-.94-2.06-.94L8.5 2.5l-.94 2.06-2.06.94zm10 10l.94 2.06.94-2.06 2.06-.94-2.06-.94-.94-2.06-.94 2.06-2.06.94z\"/><path d=\"M17.41 7.96l-1.37-1.37c-.4-.4-.92-.59-1.43-.59-.52 0-1.04.2-1.43.59L10.3 9.45l-7.72 7.72c-.78.78-.78 2.05 0 2.83L4 21.41c.39.39.9.59 1.41.59.51 0 1.02-.2 1.41-.59l7.78-7.78 2.81-2.81c.8-.78.8-2.07 0-2.86zM5.41 20L4 18.59l7.72-7.72 1.47 1.35L5.41 20z\"/>\n",
              "  </svg>\n",
              "      </button>\n",
              "      \n",
              "  <style>\n",
              "    .colab-df-container {\n",
              "      display:flex;\n",
              "      flex-wrap:wrap;\n",
              "      gap: 12px;\n",
              "    }\n",
              "\n",
              "    .colab-df-convert {\n",
              "      background-color: #E8F0FE;\n",
              "      border: none;\n",
              "      border-radius: 50%;\n",
              "      cursor: pointer;\n",
              "      display: none;\n",
              "      fill: #1967D2;\n",
              "      height: 32px;\n",
              "      padding: 0 0 0 0;\n",
              "      width: 32px;\n",
              "    }\n",
              "\n",
              "    .colab-df-convert:hover {\n",
              "      background-color: #E2EBFA;\n",
              "      box-shadow: 0px 1px 2px rgba(60, 64, 67, 0.3), 0px 1px 3px 1px rgba(60, 64, 67, 0.15);\n",
              "      fill: #174EA6;\n",
              "    }\n",
              "\n",
              "    [theme=dark] .colab-df-convert {\n",
              "      background-color: #3B4455;\n",
              "      fill: #D2E3FC;\n",
              "    }\n",
              "\n",
              "    [theme=dark] .colab-df-convert:hover {\n",
              "      background-color: #434B5C;\n",
              "      box-shadow: 0px 1px 3px 1px rgba(0, 0, 0, 0.15);\n",
              "      filter: drop-shadow(0px 1px 2px rgba(0, 0, 0, 0.3));\n",
              "      fill: #FFFFFF;\n",
              "    }\n",
              "  </style>\n",
              "\n",
              "      <script>\n",
              "        const buttonEl =\n",
              "          document.querySelector('#df-8e244545-5367-42b8-9756-0c9179e3b6fa button.colab-df-convert');\n",
              "        buttonEl.style.display =\n",
              "          google.colab.kernel.accessAllowed ? 'block' : 'none';\n",
              "\n",
              "        async function convertToInteractive(key) {\n",
              "          const element = document.querySelector('#df-8e244545-5367-42b8-9756-0c9179e3b6fa');\n",
              "          const dataTable =\n",
              "            await google.colab.kernel.invokeFunction('convertToInteractive',\n",
              "                                                     [key], {});\n",
              "          if (!dataTable) return;\n",
              "\n",
              "          const docLinkHtml = 'Like what you see? Visit the ' +\n",
              "            '<a target=\"_blank\" href=https://colab.research.google.com/notebooks/data_table.ipynb>data table notebook</a>'\n",
              "            + ' to learn more about interactive tables.';\n",
              "          element.innerHTML = '';\n",
              "          dataTable['output_type'] = 'display_data';\n",
              "          await google.colab.output.renderOutput(dataTable, element);\n",
              "          const docLink = document.createElement('div');\n",
              "          docLink.innerHTML = docLinkHtml;\n",
              "          element.appendChild(docLink);\n",
              "        }\n",
              "      </script>\n",
              "    </div>\n",
              "  </div>\n",
              "  "
            ]
          },
          "metadata": {},
          "execution_count": 89
        }
      ]
    },
    {
      "cell_type": "markdown",
      "source": [
        "Checked what is the minimum and maximum prize at the year end."
      ],
      "metadata": {
        "id": "FClNgTagXP4S"
      }
    },
    {
      "cell_type": "markdown",
      "source": [
        "We can check how quartley the price is varying. Since we have only 3 months of data, only one record."
      ],
      "metadata": {
        "id": "QknrGpnbYf8V"
      }
    },
    {
      "cell_type": "code",
      "source": [
        "df.resample(rule='QS').min()['High']"
      ],
      "metadata": {
        "colab": {
          "base_uri": "https://localhost:8080/"
        },
        "id": "T2TqjECAXY5B",
        "outputId": "ead1ac90-a4f2-4d67-ab51-8a4002ce3600"
      },
      "execution_count": 91,
      "outputs": [
        {
          "output_type": "execute_result",
          "data": {
            "text/plain": [
              "Datetime\n",
              "2022-07-01    34074.75\n",
              "Freq: QS-JAN, Name: High, dtype: float64"
            ]
          },
          "metadata": {},
          "execution_count": 91
        }
      ]
    },
    {
      "cell_type": "code",
      "source": [
        "df.resample(rule='QS').min()['High'].plot()"
      ],
      "metadata": {
        "colab": {
          "base_uri": "https://localhost:8080/",
          "height": 357
        },
        "id": "kHfZp5zqY3_X",
        "outputId": "e3a96371-cb1d-47d4-b617-eee30e6a80b2"
      },
      "execution_count": 92,
      "outputs": [
        {
          "output_type": "stream",
          "name": "stderr",
          "text": [
            "/usr/local/lib/python3.7/dist-packages/pandas/plotting/_matplotlib/core.py:1200: UserWarning: Attempting to set identical left == right == 210.0 results in singular transformations; automatically expanding.\n",
            "  ax.set_xlim(left, right)\n"
          ]
        },
        {
          "output_type": "execute_result",
          "data": {
            "text/plain": [
              "<matplotlib.axes._subplots.AxesSubplot at 0x7f59a1ea0650>"
            ]
          },
          "metadata": {},
          "execution_count": 92
        },
        {
          "output_type": "display_data",
          "data": {
            "text/plain": [
              "<Figure size 432x288 with 1 Axes>"
            ],
            "image/png": "[encoded data removed]"
          },
          "metadata": {
            "needs_background": "light"
          }
        }
      ]
    },
    {
      "cell_type": "code",
      "source": [
        "df.resample(rule='QS').max()['High']"
      ],
      "metadata": {
        "colab": {
          "base_uri": "https://localhost:8080/"
        },
        "id": "bwA_i-H0Y_Xj",
        "outputId": "16dc8e5d-f45c-478f-b2e7-97017b3dfd18"
      },
      "execution_count": 93,
      "outputs": [
        {
          "output_type": "execute_result",
          "data": {
            "text/plain": [
              "Datetime\n",
              "2022-07-01    41830.351562\n",
              "Freq: QS-JAN, Name: High, dtype: float64"
            ]
          },
          "metadata": {},
          "execution_count": 93
        }
      ]
    },
    {
      "cell_type": "markdown",
      "source": [
        "Business End Frequency"
      ],
      "metadata": {
        "id": "WSv5epUgZF0O"
      }
    },
    {
      "cell_type": "code",
      "source": [
        "df.resample(rule='BA').max()['High']"
      ],
      "metadata": {
        "colab": {
          "base_uri": "https://localhost:8080/"
        },
        "id": "HcUD-_YAboAS",
        "outputId": "e0a94883-11e2-405b-e0df-493564510a3c"
      },
      "execution_count": 99,
      "outputs": [
        {
          "output_type": "execute_result",
          "data": {
            "text/plain": [
              "Datetime\n",
              "2022-12-30    41830.351562\n",
              "Freq: BA-DEC, Name: High, dtype: float64"
            ]
          },
          "metadata": {},
          "execution_count": 99
        }
      ]
    },
    {
      "cell_type": "markdown",
      "source": [
        "Business End Frequency quartley"
      ],
      "metadata": {
        "id": "lkzjxRfKdFAe"
      }
    },
    {
      "cell_type": "code",
      "source": [
        "df.resample(rule='BQS').max()['High']"
      ],
      "metadata": {
        "colab": {
          "base_uri": "https://localhost:8080/"
        },
        "id": "IjxRKqklZDde",
        "outputId": "2c539974-0d2e-4328-ff3d-751fb204db33"
      },
      "execution_count": 95,
      "outputs": [
        {
          "output_type": "execute_result",
          "data": {
            "text/plain": [
              "Datetime\n",
              "2022-07-01    41830.351562\n",
              "Freq: BQS-JAN, Name: High, dtype: float64"
            ]
          },
          "metadata": {},
          "execution_count": 95
        }
      ]
    },
    {
      "cell_type": "markdown",
      "source": [
        "**Fetching Monthly Maximum details **"
      ],
      "metadata": {
        "id": "T20LLjnGb-z3"
      }
    },
    {
      "cell_type": "code",
      "source": [
        "df['Open'].resample(rule='M').max()"
      ],
      "metadata": {
        "colab": {
          "base_uri": "https://localhost:8080/"
        },
        "id": "F_IXNzgyabXb",
        "outputId": "4ae81737-8080-4d6d-9211-9c5fa54988fd"
      },
      "execution_count": 97,
      "outputs": [
        {
          "output_type": "execute_result",
          "data": {
            "text/plain": [
              "Datetime\n",
              "2022-07-31    37717.300781\n",
              "2022-08-31    39732.648438\n",
              "2022-09-30    41795.851562\n",
              "Freq: M, Name: Open, dtype: float64"
            ]
          },
          "metadata": {},
          "execution_count": 97
        }
      ]
    },
    {
      "cell_type": "code",
      "source": [
        "df.resample(rule='M').max().plot(kind='bar',figsize=(15,6))"
      ],
      "metadata": {
        "colab": {
          "base_uri": "https://localhost:8080/",
          "height": 498
        },
        "id": "3WGUwLVwdlG6",
        "outputId": "e1d8694f-fefb-49d8-fd09-dc2a6eea7eca"
      },
      "execution_count": 104,
      "outputs": [
        {
          "output_type": "execute_result",
          "data": {
            "text/plain": [
              "<matplotlib.axes._subplots.AxesSubplot at 0x7f59a1bd65d0>"
            ]
          },
          "metadata": {},
          "execution_count": 104
        },
        {
          "output_type": "display_data",
          "data": {
            "text/plain": [
              "<Figure size 1080x432 with 1 Axes>"
            ],
            "image/png": "[encoded data removed]"
          },
          "metadata": {
            "needs_background": "light"
          }
        }
      ]
    },
    {
      "cell_type": "code",
      "source": [
        "df['Open'].resample(rule='M').max().plot(kind='bar',figsize=(15,6))"
      ],
      "metadata": {
        "colab": {
          "base_uri": "https://localhost:8080/",
          "height": 498
        },
        "id": "JlPiukuLcSC_",
        "outputId": "f7464c22-ad6d-48fe-b8c0-260c14b1c32f"
      },
      "execution_count": 100,
      "outputs": [
        {
          "output_type": "execute_result",
          "data": {
            "text/plain": [
              "<matplotlib.axes._subplots.AxesSubplot at 0x7f59a1e45490>"
            ]
          },
          "metadata": {},
          "execution_count": 100
        },
        {
          "output_type": "display_data",
          "data": {
            "text/plain": [
              "<Figure size 1080x432 with 1 Axes>"
            ],
            "image/png": "[encoded data removed]"
          },
          "metadata": {
            "needs_background": "light"
          }
        }
      ]
    },
    {
      "cell_type": "markdown",
      "source": [
        "**Fetching Monthly Minimum details **"
      ],
      "metadata": {
        "id": "K0P2paCOdK93"
      }
    },
    {
      "cell_type": "code",
      "source": [
        "df['Open'].resample(rule='M').min()"
      ],
      "metadata": {
        "colab": {
          "base_uri": "https://localhost:8080/"
        },
        "id": "LR-_pBmTc0M2",
        "outputId": "1e6b1c4d-94a1-4d1d-9b95-a7eaaf123a31"
      },
      "execution_count": 101,
      "outputs": [
        {
          "output_type": "execute_result",
          "data": {
            "text/plain": [
              "Datetime\n",
              "2022-07-31    33929.398438\n",
              "2022-08-31    37349.550781\n",
              "2022-09-30    37428.148438\n",
              "Freq: M, Name: Open, dtype: float64"
            ]
          },
          "metadata": {},
          "execution_count": 101
        }
      ]
    },
    {
      "cell_type": "code",
      "source": [
        "df.resample(rule='M').max().plot(kind='bar',figsize=(15,6))"
      ],
      "metadata": {
        "colab": {
          "base_uri": "https://localhost:8080/",
          "height": 498
        },
        "id": "HgkZ0wsxc4L0",
        "outputId": "d6842b03-15e1-4832-e5d0-1c2bda1ae761"
      },
      "execution_count": 103,
      "outputs": [
        {
          "output_type": "execute_result",
          "data": {
            "text/plain": [
              "<matplotlib.axes._subplots.AxesSubplot at 0x7f59a1c9a9d0>"
            ]
          },
          "metadata": {},
          "execution_count": 103
        },
        {
          "output_type": "display_data",
          "data": {
            "text/plain": [
              "<Figure size 1080x432 with 1 Axes>"
            ],
            "image/png": "[encoded data removed]"
          },
          "metadata": {
            "needs_background": "light"
          }
        }
      ]
    },
    {
      "cell_type": "markdown",
      "source": [
        "**Simple Moving Average**"
      ],
      "metadata": {
        "id": "ug2h_PeuQHFs"
      }
    },
    {
      "cell_type": "code",
      "source": [
        "df['Open:30 days rolling']=train_data['Open'].rolling(30).mean()"
      ],
      "metadata": {
        "id": "cq1fxaIsM2X_"
      },
      "execution_count": null,
      "outputs": []
    },
    {
      "cell_type": "code",
      "source": [
        "df.head(32)"
      ],
      "metadata": {
        "colab": {
          "base_uri": "https://localhost:8080/",
          "height": 1000
        },
        "id": "Zu6KmfFBNE2R",
        "outputId": "ede3b64d-650f-42ee-af4b-ed43261b0c65"
      },
      "execution_count": null,
      "outputs": [
        {
          "output_type": "execute_result",
          "data": {
            "text/plain": [
              "                     Datetime          Open          High           Low  \\\n",
              "0   2022-07-06 09:15:00+05:30  33929.398438  34091.250000  33916.101562   \n",
              "1   2022-07-06 09:20:00+05:30  34022.050781  34132.898438  34022.050781   \n",
              "2   2022-07-06 09:25:00+05:30  34127.601562  34158.000000  34107.148438   \n",
              "3   2022-07-06 09:30:00+05:30  34137.601562  34155.101562  34096.250000   \n",
              "4   2022-07-06 09:35:00+05:30  34119.750000  34135.699219  34092.000000   \n",
              "5   2022-07-06 09:40:00+05:30  34093.550781  34102.050781  33988.800781   \n",
              "6   2022-07-06 09:45:00+05:30  33997.500000  34107.148438  33962.851562   \n",
              "7   2022-07-06 09:50:00+05:30  34108.699219  34138.800781  34098.250000   \n",
              "8   2022-07-06 09:55:00+05:30  34118.300781  34122.648438  34051.000000   \n",
              "9   2022-07-06 10:00:00+05:30  34060.000000  34074.750000  34044.101562   \n",
              "10  2022-07-06 10:05:00+05:30  34065.898438  34101.949219  34037.750000   \n",
              "11  2022-07-06 10:10:00+05:30  34086.949219  34098.601562  34063.250000   \n",
              "12  2022-07-06 10:15:00+05:30  34098.199219  34098.199219  34068.648438   \n",
              "13  2022-07-06 10:20:00+05:30  34079.101562  34088.550781  34061.148438   \n",
              "14  2022-07-06 10:25:00+05:30  34083.148438  34125.601562  34083.148438   \n",
              "15  2022-07-06 10:30:00+05:30  34113.949219  34145.199219  34090.250000   \n",
              "16  2022-07-06 10:35:00+05:30  34107.699219  34141.101562  34095.000000   \n",
              "17  2022-07-06 10:40:00+05:30  34132.101562  34159.648438  34119.250000   \n",
              "18  2022-07-06 10:45:00+05:30  34155.550781  34219.648438  34149.851562   \n",
              "19  2022-07-06 10:50:00+05:30  34218.101562  34253.148438  34203.750000   \n",
              "20  2022-07-06 10:55:00+05:30  34226.101562  34232.000000  34190.550781   \n",
              "21  2022-07-06 11:00:00+05:30  34206.800781  34215.148438  34182.699219   \n",
              "22  2022-07-06 11:05:00+05:30  34203.351562  34211.000000  34158.601562   \n",
              "23  2022-07-06 11:10:00+05:30  34159.449219  34190.300781  34149.601562   \n",
              "24  2022-07-06 11:15:00+05:30  34178.550781  34218.101562  34178.550781   \n",
              "25  2022-07-06 11:20:00+05:30  34196.250000  34211.300781  34172.250000   \n",
              "26  2022-07-06 11:25:00+05:30  34179.148438  34188.699219  34150.351562   \n",
              "27  2022-07-06 11:30:00+05:30  34152.000000  34152.898438  34081.550781   \n",
              "28  2022-07-06 11:35:00+05:30  34082.500000  34110.601562  34069.898438   \n",
              "29  2022-07-06 11:40:00+05:30  34082.851562  34131.648438  34079.500000   \n",
              "30  2022-07-06 11:45:00+05:30  34109.750000  34133.949219  34101.898438   \n",
              "31  2022-07-06 11:50:00+05:30  34129.148438  34142.648438  34101.148438   \n",
              "\n",
              "           Close     Adj Close  Volume  Open:30 days rolling  \n",
              "0   34023.648438  34023.648438       0                   NaN  \n",
              "1   34129.148438  34129.148438       0                   NaN  \n",
              "2   34143.449219  34143.449219       0                   NaN  \n",
              "3   34120.199219  34120.199219       0                   NaN  \n",
              "4   34092.000000  34092.000000       0                   NaN  \n",
              "5   33992.148438  33992.148438       0                   NaN  \n",
              "6   34107.148438  34107.148438       0                   NaN  \n",
              "7   34117.101562  34117.101562       0                   NaN  \n",
              "8   34060.300781  34060.300781       0                   NaN  \n",
              "9   34066.101562  34066.101562       0                   NaN  \n",
              "10  34086.148438  34086.148438       0                   NaN  \n",
              "11  34096.449219  34096.449219       0                   NaN  \n",
              "12  34079.101562  34079.101562       0                   NaN  \n",
              "13  34082.351562  34082.351562       0                   NaN  \n",
              "14  34113.300781  34113.300781       0                   NaN  \n",
              "15  34106.449219  34106.449219       0                   NaN  \n",
              "16  34130.148438  34130.148438       0                   NaN  \n",
              "17  34154.949219  34154.949219       0                   NaN  \n",
              "18  34218.550781  34218.550781       0                   NaN  \n",
              "19  34225.148438  34225.148438       0                   NaN  \n",
              "20  34205.500000  34205.500000       0                   NaN  \n",
              "21  34203.050781  34203.050781       0                   NaN  \n",
              "22  34163.050781  34163.050781       0                   NaN  \n",
              "23  34177.050781  34177.050781       0                   NaN  \n",
              "24  34194.949219  34194.949219       0                   NaN  \n",
              "25  34177.949219  34177.949219       0                   NaN  \n",
              "26  34153.351562  34153.351562       0                   NaN  \n",
              "27  34081.550781  34081.550781       0                   NaN  \n",
              "28  34082.300781  34082.300781       0                   NaN  \n",
              "29  34113.101562  34113.101562       0          34117.405208  \n",
              "30  34131.449219  34131.449219       0          34123.416927  \n",
              "31  34127.800781  34127.800781       0          34126.986849  "
            ],
            "text/html": [
              "\n",
              "  <div id=\"df-d97ef40e-26c1-470e-a58f-17c9c6805774\">\n",
              "    <div class=\"colab-df-container\">\n",
              "      <div>\n",
              "<style scoped>\n",
              "    .dataframe tbody tr th:only-of-type {\n",
              "        vertical-align: middle;\n",
              "    }\n",
              "\n",
              "    .dataframe tbody tr th {\n",
              "        vertical-align: top;\n",
              "    }\n",
              "\n",
              "    .dataframe thead th {\n",
              "        text-align: right;\n",
              "    }\n",
              "</style>\n",
              "<table border=\"1\" class=\"dataframe\">\n",
              "  <thead>\n",
              "    <tr style=\"text-align: right;\">\n",
              "      <th></th>\n",
              "      <th>Datetime</th>\n",
              "      <th>Open</th>\n",
              "      <th>High</th>\n",
              "      <th>Low</th>\n",
              "      <th>Close</th>\n",
              "      <th>Adj Close</th>\n",
              "      <th>Volume</th>\n",
              "      <th>Open:30 days rolling</th>\n",
              "    </tr>\n",
              "  </thead>\n",
              "  <tbody>\n",
              "    <tr>\n",
              "      <th>0</th>\n",
              "      <td>2022-07-06 09:15:00+05:30</td>\n",
              "      <td>33929.398438</td>\n",
              "      <td>34091.250000</td>\n",
              "      <td>33916.101562</td>\n",
              "      <td>34023.648438</td>\n",
              "      <td>34023.648438</td>\n",
              "      <td>0</td>\n",
              "      <td>NaN</td>\n",
              "    </tr>\n",
              "    <tr>\n",
              "      <th>1</th>\n",
              "      <td>2022-07-06 09:20:00+05:30</td>\n",
              "      <td>34022.050781</td>\n",
              "      <td>34132.898438</td>\n",
              "      <td>34022.050781</td>\n",
              "      <td>34129.148438</td>\n",
              "      <td>34129.148438</td>\n",
              "      <td>0</td>\n",
              "      <td>NaN</td>\n",
              "    </tr>\n",
              "    <tr>\n",
              "      <th>2</th>\n",
              "      <td>2022-07-06 09:25:00+05:30</td>\n",
              "      <td>34127.601562</td>\n",
              "      <td>34158.000000</td>\n",
              "      <td>34107.148438</td>\n",
              "      <td>34143.449219</td>\n",
              "      <td>34143.449219</td>\n",
              "      <td>0</td>\n",
              "      <td>NaN</td>\n",
              "    </tr>\n",
              "    <tr>\n",
              "      <th>3</th>\n",
              "      <td>2022-07-06 09:30:00+05:30</td>\n",
              "      <td>34137.601562</td>\n",
              "      <td>34155.101562</td>\n",
              "      <td>34096.250000</td>\n",
              "      <td>34120.199219</td>\n",
              "      <td>34120.199219</td>\n",
              "      <td>0</td>\n",
              "      <td>NaN</td>\n",
              "    </tr>\n",
              "    <tr>\n",
              "      <th>4</th>\n",
              "      <td>2022-07-06 09:35:00+05:30</td>\n",
              "      <td>34119.750000</td>\n",
              "      <td>34135.699219</td>\n",
              "      <td>34092.000000</td>\n",
              "      <td>34092.000000</td>\n",
              "      <td>34092.000000</td>\n",
              "      <td>0</td>\n",
              "      <td>NaN</td>\n",
              "    </tr>\n",
              "    <tr>\n",
              "      <th>5</th>\n",
              "      <td>2022-07-06 09:40:00+05:30</td>\n",
              "      <td>34093.550781</td>\n",
              "      <td>34102.050781</td>\n",
              "      <td>33988.800781</td>\n",
              "      <td>33992.148438</td>\n",
              "      <td>33992.148438</td>\n",
              "      <td>0</td>\n",
              "      <td>NaN</td>\n",
              "    </tr>\n",
              "    <tr>\n",
              "      <th>6</th>\n",
              "      <td>2022-07-06 09:45:00+05:30</td>\n",
              "      <td>33997.500000</td>\n",
              "      <td>34107.148438</td>\n",
              "      <td>33962.851562</td>\n",
              "      <td>34107.148438</td>\n",
              "      <td>34107.148438</td>\n",
              "      <td>0</td>\n",
              "      <td>NaN</td>\n",
              "    </tr>\n",
              "    <tr>\n",
              "      <th>7</th>\n",
              "      <td>2022-07-06 09:50:00+05:30</td>\n",
              "      <td>34108.699219</td>\n",
              "      <td>34138.800781</td>\n",
              "      <td>34098.250000</td>\n",
              "      <td>34117.101562</td>\n",
              "      <td>34117.101562</td>\n",
              "      <td>0</td>\n",
              "      <td>NaN</td>\n",
              "    </tr>\n",
              "    <tr>\n",
              "      <th>8</th>\n",
              "      <td>2022-07-06 09:55:00+05:30</td>\n",
              "      <td>34118.300781</td>\n",
              "      <td>34122.648438</td>\n",
              "      <td>34051.000000</td>\n",
              "      <td>34060.300781</td>\n",
              "      <td>34060.300781</td>\n",
              "      <td>0</td>\n",
              "      <td>NaN</td>\n",
              "    </tr>\n",
              "    <tr>\n",
              "      <th>9</th>\n",
              "      <td>2022-07-06 10:00:00+05:30</td>\n",
              "      <td>34060.000000</td>\n",
              "      <td>34074.750000</td>\n",
              "      <td>34044.101562</td>\n",
              "      <td>34066.101562</td>\n",
              "      <td>34066.101562</td>\n",
              "      <td>0</td>\n",
              "      <td>NaN</td>\n",
              "    </tr>\n",
              "    <tr>\n",
              "      <th>10</th>\n",
              "      <td>2022-07-06 10:05:00+05:30</td>\n",
              "      <td>34065.898438</td>\n",
              "      <td>34101.949219</td>\n",
              "      <td>34037.750000</td>\n",
              "      <td>34086.148438</td>\n",
              "      <td>34086.148438</td>\n",
              "      <td>0</td>\n",
              "      <td>NaN</td>\n",
              "    </tr>\n",
              "    <tr>\n",
              "      <th>11</th>\n",
              "      <td>2022-07-06 10:10:00+05:30</td>\n",
              "      <td>34086.949219</td>\n",
              "      <td>34098.601562</td>\n",
              "      <td>34063.250000</td>\n",
              "      <td>34096.449219</td>\n",
              "      <td>34096.449219</td>\n",
              "      <td>0</td>\n",
              "      <td>NaN</td>\n",
              "    </tr>\n",
              "    <tr>\n",
              "      <th>12</th>\n",
              "      <td>2022-07-06 10:15:00+05:30</td>\n",
              "      <td>34098.199219</td>\n",
              "      <td>34098.199219</td>\n",
              "      <td>34068.648438</td>\n",
              "      <td>34079.101562</td>\n",
              "      <td>34079.101562</td>\n",
              "      <td>0</td>\n",
              "      <td>NaN</td>\n",
              "    </tr>\n",
              "    <tr>\n",
              "      <th>13</th>\n",
              "      <td>2022-07-06 10:20:00+05:30</td>\n",
              "      <td>34079.101562</td>\n",
              "      <td>34088.550781</td>\n",
              "      <td>34061.148438</td>\n",
              "      <td>34082.351562</td>\n",
              "      <td>34082.351562</td>\n",
              "      <td>0</td>\n",
              "      <td>NaN</td>\n",
              "    </tr>\n",
              "    <tr>\n",
              "      <th>14</th>\n",
              "      <td>2022-07-06 10:25:00+05:30</td>\n",
              "      <td>34083.148438</td>\n",
              "      <td>34125.601562</td>\n",
              "      <td>34083.148438</td>\n",
              "      <td>34113.300781</td>\n",
              "      <td>34113.300781</td>\n",
              "      <td>0</td>\n",
              "      <td>NaN</td>\n",
              "    </tr>\n",
              "    <tr>\n",
              "      <th>15</th>\n",
              "      <td>2022-07-06 10:30:00+05:30</td>\n",
              "      <td>34113.949219</td>\n",
              "      <td>34145.199219</td>\n",
              "      <td>34090.250000</td>\n",
              "      <td>34106.449219</td>\n",
              "      <td>34106.449219</td>\n",
              "      <td>0</td>\n",
              "      <td>NaN</td>\n",
              "    </tr>\n",
              "    <tr>\n",
              "      <th>16</th>\n",
              "      <td>2022-07-06 10:35:00+05:30</td>\n",
              "      <td>34107.699219</td>\n",
              "      <td>34141.101562</td>\n",
              "      <td>34095.000000</td>\n",
              "      <td>34130.148438</td>\n",
              "      <td>34130.148438</td>\n",
              "      <td>0</td>\n",
              "      <td>NaN</td>\n",
              "    </tr>\n",
              "    <tr>\n",
              "      <th>17</th>\n",
              "      <td>2022-07-06 10:40:00+05:30</td>\n",
              "      <td>34132.101562</td>\n",
              "      <td>34159.648438</td>\n",
              "      <td>34119.250000</td>\n",
              "      <td>34154.949219</td>\n",
              "      <td>34154.949219</td>\n",
              "      <td>0</td>\n",
              "      <td>NaN</td>\n",
              "    </tr>\n",
              "    <tr>\n",
              "      <th>18</th>\n",
              "      <td>2022-07-06 10:45:00+05:30</td>\n",
              "      <td>34155.550781</td>\n",
              "      <td>34219.648438</td>\n",
              "      <td>34149.851562</td>\n",
              "      <td>34218.550781</td>\n",
              "      <td>34218.550781</td>\n",
              "      <td>0</td>\n",
              "      <td>NaN</td>\n",
              "    </tr>\n",
              "    <tr>\n",
              "      <th>19</th>\n",
              "      <td>2022-07-06 10:50:00+05:30</td>\n",
              "      <td>34218.101562</td>\n",
              "      <td>34253.148438</td>\n",
              "      <td>34203.750000</td>\n",
              "      <td>34225.148438</td>\n",
              "      <td>34225.148438</td>\n",
              "      <td>0</td>\n",
              "      <td>NaN</td>\n",
              "    </tr>\n",
              "    <tr>\n",
              "      <th>20</th>\n",
              "      <td>2022-07-06 10:55:00+05:30</td>\n",
              "      <td>34226.101562</td>\n",
              "      <td>34232.000000</td>\n",
              "      <td>34190.550781</td>\n",
              "      <td>34205.500000</td>\n",
              "      <td>34205.500000</td>\n",
              "      <td>0</td>\n",
              "      <td>NaN</td>\n",
              "    </tr>\n",
              "    <tr>\n",
              "      <th>21</th>\n",
              "      <td>2022-07-06 11:00:00+05:30</td>\n",
              "      <td>34206.800781</td>\n",
              "      <td>34215.148438</td>\n",
              "      <td>34182.699219</td>\n",
              "      <td>34203.050781</td>\n",
              "      <td>34203.050781</td>\n",
              "      <td>0</td>\n",
              "      <td>NaN</td>\n",
              "    </tr>\n",
              "    <tr>\n",
              "      <th>22</th>\n",
              "      <td>2022-07-06 11:05:00+05:30</td>\n",
              "      <td>34203.351562</td>\n",
              "      <td>34211.000000</td>\n",
              "      <td>34158.601562</td>\n",
              "      <td>34163.050781</td>\n",
              "      <td>34163.050781</td>\n",
              "      <td>0</td>\n",
              "      <td>NaN</td>\n",
              "    </tr>\n",
              "    <tr>\n",
              "      <th>23</th>\n",
              "      <td>2022-07-06 11:10:00+05:30</td>\n",
              "      <td>34159.449219</td>\n",
              "      <td>34190.300781</td>\n",
              "      <td>34149.601562</td>\n",
              "      <td>34177.050781</td>\n",
              "      <td>34177.050781</td>\n",
              "      <td>0</td>\n",
              "      <td>NaN</td>\n",
              "    </tr>\n",
              "    <tr>\n",
              "      <th>24</th>\n",
              "      <td>2022-07-06 11:15:00+05:30</td>\n",
              "      <td>34178.550781</td>\n",
              "      <td>34218.101562</td>\n",
              "      <td>34178.550781</td>\n",
              "      <td>34194.949219</td>\n",
              "      <td>34194.949219</td>\n",
              "      <td>0</td>\n",
              "      <td>NaN</td>\n",
              "    </tr>\n",
              "    <tr>\n",
              "      <th>25</th>\n",
              "      <td>2022-07-06 11:20:00+05:30</td>\n",
              "      <td>34196.250000</td>\n",
              "      <td>34211.300781</td>\n",
              "      <td>34172.250000</td>\n",
              "      <td>34177.949219</td>\n",
              "      <td>34177.949219</td>\n",
              "      <td>0</td>\n",
              "      <td>NaN</td>\n",
              "    </tr>\n",
              "    <tr>\n",
              "      <th>26</th>\n",
              "      <td>2022-07-06 11:25:00+05:30</td>\n",
              "      <td>34179.148438</td>\n",
              "      <td>34188.699219</td>\n",
              "      <td>34150.351562</td>\n",
              "      <td>34153.351562</td>\n",
              "      <td>34153.351562</td>\n",
              "      <td>0</td>\n",
              "      <td>NaN</td>\n",
              "    </tr>\n",
              "    <tr>\n",
              "      <th>27</th>\n",
              "      <td>2022-07-06 11:30:00+05:30</td>\n",
              "      <td>34152.000000</td>\n",
              "      <td>34152.898438</td>\n",
              "      <td>34081.550781</td>\n",
              "      <td>34081.550781</td>\n",
              "      <td>34081.550781</td>\n",
              "      <td>0</td>\n",
              "      <td>NaN</td>\n",
              "    </tr>\n",
              "    <tr>\n",
              "      <th>28</th>\n",
              "      <td>2022-07-06 11:35:00+05:30</td>\n",
              "      <td>34082.500000</td>\n",
              "      <td>34110.601562</td>\n",
              "      <td>34069.898438</td>\n",
              "      <td>34082.300781</td>\n",
              "      <td>34082.300781</td>\n",
              "      <td>0</td>\n",
              "      <td>NaN</td>\n",
              "    </tr>\n",
              "    <tr>\n",
              "      <th>29</th>\n",
              "      <td>2022-07-06 11:40:00+05:30</td>\n",
              "      <td>34082.851562</td>\n",
              "      <td>34131.648438</td>\n",
              "      <td>34079.500000</td>\n",
              "      <td>34113.101562</td>\n",
              "      <td>34113.101562</td>\n",
              "      <td>0</td>\n",
              "      <td>34117.405208</td>\n",
              "    </tr>\n",
              "    <tr>\n",
              "      <th>30</th>\n",
              "      <td>2022-07-06 11:45:00+05:30</td>\n",
              "      <td>34109.750000</td>\n",
              "      <td>34133.949219</td>\n",
              "      <td>34101.898438</td>\n",
              "      <td>34131.449219</td>\n",
              "      <td>34131.449219</td>\n",
              "      <td>0</td>\n",
              "      <td>34123.416927</td>\n",
              "    </tr>\n",
              "    <tr>\n",
              "      <th>31</th>\n",
              "      <td>2022-07-06 11:50:00+05:30</td>\n",
              "      <td>34129.148438</td>\n",
              "      <td>34142.648438</td>\n",
              "      <td>34101.148438</td>\n",
              "      <td>34127.800781</td>\n",
              "      <td>34127.800781</td>\n",
              "      <td>0</td>\n",
              "      <td>34126.986849</td>\n",
              "    </tr>\n",
              "  </tbody>\n",
              "</table>\n",
              "</div>\n",
              "      <button class=\"colab-df-convert\" onclick=\"convertToInteractive('df-d97ef40e-26c1-470e-a58f-17c9c6805774')\"\n",
              "              title=\"Convert this dataframe to an interactive table.\"\n",
              "              style=\"display:none;\">\n",
              "        \n",
              "  <svg xmlns=\"http://www.w3.org/2000/svg\" height=\"24px\"viewBox=\"0 0 24 24\"\n",
              "       width=\"24px\">\n",
              "    <path d=\"M0 0h24v24H0V0z\" fill=\"none\"/>\n",
              "    <path d=\"M18.56 5.44l.94 2.06.94-2.06 2.06-.94-2.06-.94-.94-2.06-.94 2.06-2.06.94zm-11 1L8.5 8.5l.94-2.06 2.06-.94-2.06-.94L8.5 2.5l-.94 2.06-2.06.94zm10 10l.94 2.06.94-2.06 2.06-.94-2.06-.94-.94-2.06-.94 2.06-2.06.94z\"/><path d=\"M17.41 7.96l-1.37-1.37c-.4-.4-.92-.59-1.43-.59-.52 0-1.04.2-1.43.59L10.3 9.45l-7.72 7.72c-.78.78-.78 2.05 0 2.83L4 21.41c.39.39.9.59 1.41.59.51 0 1.02-.2 1.41-.59l7.78-7.78 2.81-2.81c.8-.78.8-2.07 0-2.86zM5.41 20L4 18.59l7.72-7.72 1.47 1.35L5.41 20z\"/>\n",
              "  </svg>\n",
              "      </button>\n",
              "      \n",
              "  <style>\n",
              "    .colab-df-container {\n",
              "      display:flex;\n",
              "      flex-wrap:wrap;\n",
              "      gap: 12px;\n",
              "    }\n",
              "\n",
              "    .colab-df-convert {\n",
              "      background-color: #E8F0FE;\n",
              "      border: none;\n",
              "      border-radius: 50%;\n",
              "      cursor: pointer;\n",
              "      display: none;\n",
              "      fill: #1967D2;\n",
              "      height: 32px;\n",
              "      padding: 0 0 0 0;\n",
              "      width: 32px;\n",
              "    }\n",
              "\n",
              "    .colab-df-convert:hover {\n",
              "      background-color: #E2EBFA;\n",
              "      box-shadow: 0px 1px 2px rgba(60, 64, 67, 0.3), 0px 1px 3px 1px rgba(60, 64, 67, 0.15);\n",
              "      fill: #174EA6;\n",
              "    }\n",
              "\n",
              "    [theme=dark] .colab-df-convert {\n",
              "      background-color: #3B4455;\n",
              "      fill: #D2E3FC;\n",
              "    }\n",
              "\n",
              "    [theme=dark] .colab-df-convert:hover {\n",
              "      background-color: #434B5C;\n",
              "      box-shadow: 0px 1px 3px 1px rgba(0, 0, 0, 0.15);\n",
              "      filter: drop-shadow(0px 1px 2px rgba(0, 0, 0, 0.3));\n",
              "      fill: #FFFFFF;\n",
              "    }\n",
              "  </style>\n",
              "\n",
              "      <script>\n",
              "        const buttonEl =\n",
              "          document.querySelector('#df-d97ef40e-26c1-470e-a58f-17c9c6805774 button.colab-df-convert');\n",
              "        buttonEl.style.display =\n",
              "          google.colab.kernel.accessAllowed ? 'block' : 'none';\n",
              "\n",
              "        async function convertToInteractive(key) {\n",
              "          const element = document.querySelector('#df-d97ef40e-26c1-470e-a58f-17c9c6805774');\n",
              "          const dataTable =\n",
              "            await google.colab.kernel.invokeFunction('convertToInteractive',\n",
              "                                                     [key], {});\n",
              "          if (!dataTable) return;\n",
              "\n",
              "          const docLinkHtml = 'Like what you see? Visit the ' +\n",
              "            '<a target=\"_blank\" href=https://colab.research.google.com/notebooks/data_table.ipynb>data table notebook</a>'\n",
              "            + ' to learn more about interactive tables.';\n",
              "          element.innerHTML = '';\n",
              "          dataTable['output_type'] = 'display_data';\n",
              "          await google.colab.output.renderOutput(dataTable, element);\n",
              "          const docLink = document.createElement('div');\n",
              "          docLink.innerHTML = docLinkHtml;\n",
              "          element.appendChild(docLink);\n",
              "        }\n",
              "      </script>\n",
              "    </div>\n",
              "  </div>\n",
              "  "
            ]
          },
          "metadata": {},
          "execution_count": 23
        }
      ]
    },
    {
      "cell_type": "code",
      "source": [
        "df[['Open','Open:30 days rolling']].plot(figsize=(12,5))"
      ],
      "metadata": {
        "colab": {
          "base_uri": "https://localhost:8080/",
          "height": 339
        },
        "id": "AtqnoKOVNMRY",
        "outputId": "71bab865-335e-49e1-ee31-e468172b5b41"
      },
      "execution_count": null,
      "outputs": [
        {
          "output_type": "execute_result",
          "data": {
            "text/plain": [
              "<matplotlib.axes._subplots.AxesSubplot at 0x7fb25615f050>"
            ]
          },
          "metadata": {},
          "execution_count": 24
        },
        {
          "output_type": "display_data",
          "data": {
            "text/plain": [
              "<Figure size 864x360 with 1 Axes>"
            ],
            "image/png": "[encoded data removed]"
          },
          "metadata": {
            "needs_background": "light"
          }
        }
      ]
    },
    {
      "cell_type": "code",
      "source": [
        "##quaterly start frequency\n",
        "##https://towardsdatascience.com/resample-function-of-pandas-79b17ec82a78\n",
        "df.resample(rule='QS').max()['High'].plot()"
      ],
      "metadata": {
        "colab": {
          "base_uri": "https://localhost:8080/",
          "height": 357
        },
        "id": "cDG6uWPOOvsX",
        "outputId": "e4728c1f-21e1-4579-8caa-a54c5a842430"
      },
      "execution_count": 30,
      "outputs": [
        {
          "output_type": "stream",
          "name": "stderr",
          "text": [
            "/usr/local/lib/python3.7/dist-packages/pandas/plotting/_matplotlib/core.py:1200: UserWarning: Attempting to set identical left == right == 210.0 results in singular transformations; automatically expanding.\n",
            "  ax.set_xlim(left, right)\n"
          ]
        },
        {
          "output_type": "execute_result",
          "data": {
            "text/plain": [
              "<matplotlib.axes._subplots.AxesSubplot at 0x7f59a303e490>"
            ]
          },
          "metadata": {},
          "execution_count": 30
        },
        {
          "output_type": "display_data",
          "data": {
            "text/plain": [
              "<Figure size 432x288 with 1 Axes>"
            ],
            "image/png": "[encoded data removed]"
          },
          "metadata": {
            "needs_background": "light"
          }
        }
      ]
    },
    {
      "cell_type": "code",
      "source": [
        "df.resample(rule='QS').max()['High'].plot(kind ='bar')"
      ],
      "metadata": {
        "colab": {
          "base_uri": "https://localhost:8080/",
          "height": 449
        },
        "id": "HdhpA_quO8C4",
        "outputId": "e858ebc7-ec37-4509-b223-61759ca1aaf6"
      },
      "execution_count": 31,
      "outputs": [
        {
          "output_type": "execute_result",
          "data": {
            "text/plain": [
              "<matplotlib.axes._subplots.AxesSubplot at 0x7f59a2f6fbd0>"
            ]
          },
          "metadata": {},
          "execution_count": 31
        },
        {
          "output_type": "display_data",
          "data": {
            "text/plain": [
              "<Figure size 432x288 with 1 Axes>"
            ],
            "image/png": "[encoded data removed]"
          },
          "metadata": {
            "needs_background": "light"
          }
        }
      ]
    },
    {
      "cell_type": "code",
      "source": [
        "df.resample(rule='M').max()['High']"
      ],
      "metadata": {
        "colab": {
          "base_uri": "https://localhost:8080/"
        },
        "id": "DDqztV4tPB7t",
        "outputId": "0edfcc6d-a01b-41ee-ff70-c449b5484e1a"
      },
      "execution_count": 32,
      "outputs": [
        {
          "output_type": "execute_result",
          "data": {
            "text/plain": [
              "Datetime\n",
              "2022-07-31 00:00:00+05:30    37737.898438\n",
              "2022-08-31 00:00:00+05:30    39750.898438\n",
              "2022-09-30 00:00:00+05:30    41830.351562\n",
              "Freq: M, Name: High, dtype: float64"
            ]
          },
          "metadata": {},
          "execution_count": 32
        }
      ]
    },
    {
      "cell_type": "code",
      "source": [
        "df.resample(rule='M').max()['High'].plot(kind='bar', figsize=(15,10))"
      ],
      "metadata": {
        "colab": {
          "base_uri": "https://localhost:8080/",
          "height": 746
        },
        "id": "Yy24JCenPK9k",
        "outputId": "a081e5d3-db24-4fa8-cbe1-31ef62d1dec3"
      },
      "execution_count": 33,
      "outputs": [
        {
          "output_type": "execute_result",
          "data": {
            "text/plain": [
              "<matplotlib.axes._subplots.AxesSubplot at 0x7f59a2f3c790>"
            ]
          },
          "metadata": {},
          "execution_count": 33
        },
        {
          "output_type": "display_data",
          "data": {
            "text/plain": [
              "<Figure size 1080x720 with 1 Axes>"
            ],
            "image/png": "[encoded data removed]"
          },
          "metadata": {
            "needs_background": "light"
          }
        }
      ]
    },
    {
      "cell_type": "code",
      "source": [
        "df.resample(rule='MS').max()['High'].plot(kind = 'bar', figsize=(12,4))"
      ],
      "metadata": {
        "colab": {
          "base_uri": "https://localhost:8080/",
          "height": 449
        },
        "id": "n8g8f04rPZgO",
        "outputId": "5c76908b-6f83-4760-95d7-c8fa7791181d"
      },
      "execution_count": 35,
      "outputs": [
        {
          "output_type": "execute_result",
          "data": {
            "text/plain": [
              "<matplotlib.axes._subplots.AxesSubplot at 0x7f59a2e13210>"
            ]
          },
          "metadata": {},
          "execution_count": 35
        },
        {
          "output_type": "display_data",
          "data": {
            "text/plain": [
              "<Figure size 864x288 with 1 Axes>"
            ],
            "image/png": "[encoded data removed]"
          },
          "metadata": {
            "needs_background": "light"
          }
        }
      ]
    },
    {
      "cell_type": "code",
      "source": [
        "df['Open'].resample(rule='A').mean().plot(kind='bar')"
      ],
      "metadata": {
        "colab": {
          "base_uri": "https://localhost:8080/",
          "height": 452
        },
        "id": "3jdkuxndPr1Z",
        "outputId": "62deccdb-a059-4e8d-a9ad-93712b9b7c0c"
      },
      "execution_count": 36,
      "outputs": [
        {
          "output_type": "execute_result",
          "data": {
            "text/plain": [
              "<matplotlib.axes._subplots.AxesSubplot at 0x7f59a2dac810>"
            ]
          },
          "metadata": {},
          "execution_count": 36
        },
        {
          "output_type": "display_data",
          "data": {
            "text/plain": [
              "<Figure size 432x288 with 1 Axes>"
            ],
            "image/png": "[encoded data removed]"
          },
          "metadata": {
            "needs_background": "light"
          }
        }
      ]
    },
    {
      "cell_type": "code",
      "source": [
        "df['Open'].resample(rule='M').max().plot(kind='bar',figsize=(15,6))"
      ],
      "metadata": {
        "colab": {
          "base_uri": "https://localhost:8080/",
          "height": 537
        },
        "id": "Svwu7fqgPy76",
        "outputId": "27c4130d-189d-4883-9318-f47a39f5b6ae"
      },
      "execution_count": 37,
      "outputs": [
        {
          "output_type": "execute_result",
          "data": {
            "text/plain": [
              "<matplotlib.axes._subplots.AxesSubplot at 0x7f59a2d85f50>"
            ]
          },
          "metadata": {},
          "execution_count": 37
        },
        {
          "output_type": "display_data",
          "data": {
            "text/plain": [
              "<Figure size 1080x432 with 1 Axes>"
            ],
            "image/png": "[encoded data removed]"
          },
          "metadata": {
            "needs_background": "light"
          }
        }
      ]
    },
    {
      "cell_type": "code",
      "source": [],
      "metadata": {
        "id": "w46bSzkvP3gZ"
      },
      "execution_count": null,
      "outputs": []
    }
  ]
}