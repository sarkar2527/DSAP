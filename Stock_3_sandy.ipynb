{
  "nbformat": 4,
  "nbformat_minor": 0,
  "metadata": {
    "colab": {
      "provenance": [],
      "collapsed_sections": [],
      "mount_file_id": "1u96xq6se2Vm6ik1msSYkZmIfb1EJsIjP",
      "authorship_tag": "ABX9TyNEYd0q2bft4xzlkgd2Dd9/",
      "include_colab_link": true
    },
    "kernelspec": {
      "name": "python3",
      "display_name": "Python 3"
    },
    "language_info": {
      "name": "python"
    }
  },
  "cells": [
    {
      "cell_type": "markdown",
      "metadata": {
        "id": "view-in-github",
        "colab_type": "text"
      },
      "source": [
        "<a href=\"https://colab.research.google.com/github/sarkar2527/DSAP/blob/main/Stock_3_sandy.ipynb\" target=\"_parent\"><img src=\"https://colab.research.google.com/assets/colab-badge.svg\" alt=\"Open In Colab\"/></a>"
      ]
    },
    {
      "cell_type": "code",
      "execution_count": 1,
      "metadata": {
        "colab": {
          "base_uri": "https://localhost:8080/"
        },
        "id": "w2NjmXRlu6ag",
        "outputId": "5c6e8cc8-5253-4eb1-bb24-38824f8fc783"
      },
      "outputs": [
        {
          "output_type": "stream",
          "name": "stdout",
          "text": [
            "Drive already mounted at /content/drive; to attempt to forcibly remount, call drive.mount(\"/content/drive\", force_remount=True).\n"
          ]
        }
      ],
      "source": [
        "from google.colab import drive\n",
        "drive.mount('/content/drive')"
      ]
    },
    {
      "cell_type": "code",
      "source": [
        "#Importing the neccessary Libraries\n",
        "import numpy as np\n",
        "import pandas as pd\n",
        "import matplotlib.pyplot as plt\n",
        "import seaborn as sns\n",
        "sns.set()\n",
        "%matplotlib inline"
      ],
      "metadata": {
        "id": "TVSN0MDavy7h"
      },
      "execution_count": 2,
      "outputs": []
    },
    {
      "cell_type": "code",
      "source": [
        "df = pd.read_csv(\"/content/drive/MyDrive/GL_Project_Sandy/Banknifty_5m_data_1_oct.csv\")"
      ],
      "metadata": {
        "id": "JImu79g5v046"
      },
      "execution_count": 3,
      "outputs": []
    },
    {
      "cell_type": "code",
      "source": [
        "df.shape"
      ],
      "metadata": {
        "colab": {
          "base_uri": "https://localhost:8080/"
        },
        "id": "TbjlzNfbxDtn",
        "outputId": "35c74539-3200-451a-8d57-d5674d1ecee5"
      },
      "execution_count": 4,
      "outputs": [
        {
          "output_type": "execute_result",
          "data": {
            "text/plain": [
              "(4499, 7)"
            ]
          },
          "metadata": {},
          "execution_count": 4
        }
      ]
    },
    {
      "cell_type": "code",
      "source": [
        "df.head()"
      ],
      "metadata": {
        "colab": {
          "base_uri": "https://localhost:8080/",
          "height": 206
        },
        "id": "yi6k6BDcU3Ru",
        "outputId": "999a1032-55e5-4b2e-e745-958bbb78b988"
      },
      "execution_count": 5,
      "outputs": [
        {
          "output_type": "execute_result",
          "data": {
            "text/plain": [
              "                    Datetime          Open          High           Low  \\\n",
              "0  2022-07-06 09:15:00+05:30  33929.398438  34091.250000  33916.101562   \n",
              "1  2022-07-06 09:20:00+05:30  34022.050781  34132.898438  34022.050781   \n",
              "2  2022-07-06 09:25:00+05:30  34127.601562  34158.000000  34107.148438   \n",
              "3  2022-07-06 09:30:00+05:30  34137.601562  34155.101562  34096.250000   \n",
              "4  2022-07-06 09:35:00+05:30  34119.750000  34135.699219  34092.000000   \n",
              "\n",
              "          Close     Adj Close  Volume  \n",
              "0  34023.648438  34023.648438       0  \n",
              "1  34129.148438  34129.148438       0  \n",
              "2  34143.449219  34143.449219       0  \n",
              "3  34120.199219  34120.199219       0  \n",
              "4  34092.000000  34092.000000       0  "
            ],
            "text/html": [
              "\n",
              "  <div id=\"df-7ea81646-d736-48ea-98d4-75eca0bdcf35\">\n",
              "    <div class=\"colab-df-container\">\n",
              "      <div>\n",
              "<style scoped>\n",
              "    .dataframe tbody tr th:only-of-type {\n",
              "        vertical-align: middle;\n",
              "    }\n",
              "\n",
              "    .dataframe tbody tr th {\n",
              "        vertical-align: top;\n",
              "    }\n",
              "\n",
              "    .dataframe thead th {\n",
              "        text-align: right;\n",
              "    }\n",
              "</style>\n",
              "<table border=\"1\" class=\"dataframe\">\n",
              "  <thead>\n",
              "    <tr style=\"text-align: right;\">\n",
              "      <th></th>\n",
              "      <th>Datetime</th>\n",
              "      <th>Open</th>\n",
              "      <th>High</th>\n",
              "      <th>Low</th>\n",
              "      <th>Close</th>\n",
              "      <th>Adj Close</th>\n",
              "      <th>Volume</th>\n",
              "    </tr>\n",
              "  </thead>\n",
              "  <tbody>\n",
              "    <tr>\n",
              "      <th>0</th>\n",
              "      <td>2022-07-06 09:15:00+05:30</td>\n",
              "      <td>33929.398438</td>\n",
              "      <td>34091.250000</td>\n",
              "      <td>33916.101562</td>\n",
              "      <td>34023.648438</td>\n",
              "      <td>34023.648438</td>\n",
              "      <td>0</td>\n",
              "    </tr>\n",
              "    <tr>\n",
              "      <th>1</th>\n",
              "      <td>2022-07-06 09:20:00+05:30</td>\n",
              "      <td>34022.050781</td>\n",
              "      <td>34132.898438</td>\n",
              "      <td>34022.050781</td>\n",
              "      <td>34129.148438</td>\n",
              "      <td>34129.148438</td>\n",
              "      <td>0</td>\n",
              "    </tr>\n",
              "    <tr>\n",
              "      <th>2</th>\n",
              "      <td>2022-07-06 09:25:00+05:30</td>\n",
              "      <td>34127.601562</td>\n",
              "      <td>34158.000000</td>\n",
              "      <td>34107.148438</td>\n",
              "      <td>34143.449219</td>\n",
              "      <td>34143.449219</td>\n",
              "      <td>0</td>\n",
              "    </tr>\n",
              "    <tr>\n",
              "      <th>3</th>\n",
              "      <td>2022-07-06 09:30:00+05:30</td>\n",
              "      <td>34137.601562</td>\n",
              "      <td>34155.101562</td>\n",
              "      <td>34096.250000</td>\n",
              "      <td>34120.199219</td>\n",
              "      <td>34120.199219</td>\n",
              "      <td>0</td>\n",
              "    </tr>\n",
              "    <tr>\n",
              "      <th>4</th>\n",
              "      <td>2022-07-06 09:35:00+05:30</td>\n",
              "      <td>34119.750000</td>\n",
              "      <td>34135.699219</td>\n",
              "      <td>34092.000000</td>\n",
              "      <td>34092.000000</td>\n",
              "      <td>34092.000000</td>\n",
              "      <td>0</td>\n",
              "    </tr>\n",
              "  </tbody>\n",
              "</table>\n",
              "</div>\n",
              "      <button class=\"colab-df-convert\" onclick=\"convertToInteractive('df-7ea81646-d736-48ea-98d4-75eca0bdcf35')\"\n",
              "              title=\"Convert this dataframe to an interactive table.\"\n",
              "              style=\"display:none;\">\n",
              "        \n",
              "  <svg xmlns=\"http://www.w3.org/2000/svg\" height=\"24px\"viewBox=\"0 0 24 24\"\n",
              "       width=\"24px\">\n",
              "    <path d=\"M0 0h24v24H0V0z\" fill=\"none\"/>\n",
              "    <path d=\"M18.56 5.44l.94 2.06.94-2.06 2.06-.94-2.06-.94-.94-2.06-.94 2.06-2.06.94zm-11 1L8.5 8.5l.94-2.06 2.06-.94-2.06-.94L8.5 2.5l-.94 2.06-2.06.94zm10 10l.94 2.06.94-2.06 2.06-.94-2.06-.94-.94-2.06-.94 2.06-2.06.94z\"/><path d=\"M17.41 7.96l-1.37-1.37c-.4-.4-.92-.59-1.43-.59-.52 0-1.04.2-1.43.59L10.3 9.45l-7.72 7.72c-.78.78-.78 2.05 0 2.83L4 21.41c.39.39.9.59 1.41.59.51 0 1.02-.2 1.41-.59l7.78-7.78 2.81-2.81c.8-.78.8-2.07 0-2.86zM5.41 20L4 18.59l7.72-7.72 1.47 1.35L5.41 20z\"/>\n",
              "  </svg>\n",
              "      </button>\n",
              "      \n",
              "  <style>\n",
              "    .colab-df-container {\n",
              "      display:flex;\n",
              "      flex-wrap:wrap;\n",
              "      gap: 12px;\n",
              "    }\n",
              "\n",
              "    .colab-df-convert {\n",
              "      background-color: #E8F0FE;\n",
              "      border: none;\n",
              "      border-radius: 50%;\n",
              "      cursor: pointer;\n",
              "      display: none;\n",
              "      fill: #1967D2;\n",
              "      height: 32px;\n",
              "      padding: 0 0 0 0;\n",
              "      width: 32px;\n",
              "    }\n",
              "\n",
              "    .colab-df-convert:hover {\n",
              "      background-color: #E2EBFA;\n",
              "      box-shadow: 0px 1px 2px rgba(60, 64, 67, 0.3), 0px 1px 3px 1px rgba(60, 64, 67, 0.15);\n",
              "      fill: #174EA6;\n",
              "    }\n",
              "\n",
              "    [theme=dark] .colab-df-convert {\n",
              "      background-color: #3B4455;\n",
              "      fill: #D2E3FC;\n",
              "    }\n",
              "\n",
              "    [theme=dark] .colab-df-convert:hover {\n",
              "      background-color: #434B5C;\n",
              "      box-shadow: 0px 1px 3px 1px rgba(0, 0, 0, 0.15);\n",
              "      filter: drop-shadow(0px 1px 2px rgba(0, 0, 0, 0.3));\n",
              "      fill: #FFFFFF;\n",
              "    }\n",
              "  </style>\n",
              "\n",
              "      <script>\n",
              "        const buttonEl =\n",
              "          document.querySelector('#df-7ea81646-d736-48ea-98d4-75eca0bdcf35 button.colab-df-convert');\n",
              "        buttonEl.style.display =\n",
              "          google.colab.kernel.accessAllowed ? 'block' : 'none';\n",
              "\n",
              "        async function convertToInteractive(key) {\n",
              "          const element = document.querySelector('#df-7ea81646-d736-48ea-98d4-75eca0bdcf35');\n",
              "          const dataTable =\n",
              "            await google.colab.kernel.invokeFunction('convertToInteractive',\n",
              "                                                     [key], {});\n",
              "          if (!dataTable) return;\n",
              "\n",
              "          const docLinkHtml = 'Like what you see? Visit the ' +\n",
              "            '<a target=\"_blank\" href=https://colab.research.google.com/notebooks/data_table.ipynb>data table notebook</a>'\n",
              "            + ' to learn more about interactive tables.';\n",
              "          element.innerHTML = '';\n",
              "          dataTable['output_type'] = 'display_data';\n",
              "          await google.colab.output.renderOutput(dataTable, element);\n",
              "          const docLink = document.createElement('div');\n",
              "          docLink.innerHTML = docLinkHtml;\n",
              "          element.appendChild(docLink);\n",
              "        }\n",
              "      </script>\n",
              "    </div>\n",
              "  </div>\n",
              "  "
            ]
          },
          "metadata": {},
          "execution_count": 5
        }
      ]
    },
    {
      "cell_type": "markdown",
      "source": [
        "Removing Time string. Take date/month/year alone for analysis"
      ],
      "metadata": {
        "id": "C0Pq7KpUP44h"
      }
    },
    {
      "cell_type": "code",
      "source": [
        "df['Datetime'] = pd.to_datetime(df['Datetime']).dt.date"
      ],
      "metadata": {
        "id": "a_jOl3JOOQZm"
      },
      "execution_count": 6,
      "outputs": []
    },
    {
      "cell_type": "code",
      "source": [
        "df.head()"
      ],
      "metadata": {
        "colab": {
          "base_uri": "https://localhost:8080/",
          "height": 206
        },
        "id": "L6xeqhkCOfFd",
        "outputId": "5f82bf6b-104e-47cd-ec1c-61e2d5565cf1"
      },
      "execution_count": 7,
      "outputs": [
        {
          "output_type": "execute_result",
          "data": {
            "text/plain": [
              "     Datetime          Open          High           Low         Close  \\\n",
              "0  2022-07-06  33929.398438  34091.250000  33916.101562  34023.648438   \n",
              "1  2022-07-06  34022.050781  34132.898438  34022.050781  34129.148438   \n",
              "2  2022-07-06  34127.601562  34158.000000  34107.148438  34143.449219   \n",
              "3  2022-07-06  34137.601562  34155.101562  34096.250000  34120.199219   \n",
              "4  2022-07-06  34119.750000  34135.699219  34092.000000  34092.000000   \n",
              "\n",
              "      Adj Close  Volume  \n",
              "0  34023.648438       0  \n",
              "1  34129.148438       0  \n",
              "2  34143.449219       0  \n",
              "3  34120.199219       0  \n",
              "4  34092.000000       0  "
            ],
            "text/html": [
              "\n",
              "  <div id=\"df-474983cc-0f90-4bb8-a3f1-7486d5cb1832\">\n",
              "    <div class=\"colab-df-container\">\n",
              "      <div>\n",
              "<style scoped>\n",
              "    .dataframe tbody tr th:only-of-type {\n",
              "        vertical-align: middle;\n",
              "    }\n",
              "\n",
              "    .dataframe tbody tr th {\n",
              "        vertical-align: top;\n",
              "    }\n",
              "\n",
              "    .dataframe thead th {\n",
              "        text-align: right;\n",
              "    }\n",
              "</style>\n",
              "<table border=\"1\" class=\"dataframe\">\n",
              "  <thead>\n",
              "    <tr style=\"text-align: right;\">\n",
              "      <th></th>\n",
              "      <th>Datetime</th>\n",
              "      <th>Open</th>\n",
              "      <th>High</th>\n",
              "      <th>Low</th>\n",
              "      <th>Close</th>\n",
              "      <th>Adj Close</th>\n",
              "      <th>Volume</th>\n",
              "    </tr>\n",
              "  </thead>\n",
              "  <tbody>\n",
              "    <tr>\n",
              "      <th>0</th>\n",
              "      <td>2022-07-06</td>\n",
              "      <td>33929.398438</td>\n",
              "      <td>34091.250000</td>\n",
              "      <td>33916.101562</td>\n",
              "      <td>34023.648438</td>\n",
              "      <td>34023.648438</td>\n",
              "      <td>0</td>\n",
              "    </tr>\n",
              "    <tr>\n",
              "      <th>1</th>\n",
              "      <td>2022-07-06</td>\n",
              "      <td>34022.050781</td>\n",
              "      <td>34132.898438</td>\n",
              "      <td>34022.050781</td>\n",
              "      <td>34129.148438</td>\n",
              "      <td>34129.148438</td>\n",
              "      <td>0</td>\n",
              "    </tr>\n",
              "    <tr>\n",
              "      <th>2</th>\n",
              "      <td>2022-07-06</td>\n",
              "      <td>34127.601562</td>\n",
              "      <td>34158.000000</td>\n",
              "      <td>34107.148438</td>\n",
              "      <td>34143.449219</td>\n",
              "      <td>34143.449219</td>\n",
              "      <td>0</td>\n",
              "    </tr>\n",
              "    <tr>\n",
              "      <th>3</th>\n",
              "      <td>2022-07-06</td>\n",
              "      <td>34137.601562</td>\n",
              "      <td>34155.101562</td>\n",
              "      <td>34096.250000</td>\n",
              "      <td>34120.199219</td>\n",
              "      <td>34120.199219</td>\n",
              "      <td>0</td>\n",
              "    </tr>\n",
              "    <tr>\n",
              "      <th>4</th>\n",
              "      <td>2022-07-06</td>\n",
              "      <td>34119.750000</td>\n",
              "      <td>34135.699219</td>\n",
              "      <td>34092.000000</td>\n",
              "      <td>34092.000000</td>\n",
              "      <td>34092.000000</td>\n",
              "      <td>0</td>\n",
              "    </tr>\n",
              "  </tbody>\n",
              "</table>\n",
              "</div>\n",
              "      <button class=\"colab-df-convert\" onclick=\"convertToInteractive('df-474983cc-0f90-4bb8-a3f1-7486d5cb1832')\"\n",
              "              title=\"Convert this dataframe to an interactive table.\"\n",
              "              style=\"display:none;\">\n",
              "        \n",
              "  <svg xmlns=\"http://www.w3.org/2000/svg\" height=\"24px\"viewBox=\"0 0 24 24\"\n",
              "       width=\"24px\">\n",
              "    <path d=\"M0 0h24v24H0V0z\" fill=\"none\"/>\n",
              "    <path d=\"M18.56 5.44l.94 2.06.94-2.06 2.06-.94-2.06-.94-.94-2.06-.94 2.06-2.06.94zm-11 1L8.5 8.5l.94-2.06 2.06-.94-2.06-.94L8.5 2.5l-.94 2.06-2.06.94zm10 10l.94 2.06.94-2.06 2.06-.94-2.06-.94-.94-2.06-.94 2.06-2.06.94z\"/><path d=\"M17.41 7.96l-1.37-1.37c-.4-.4-.92-.59-1.43-.59-.52 0-1.04.2-1.43.59L10.3 9.45l-7.72 7.72c-.78.78-.78 2.05 0 2.83L4 21.41c.39.39.9.59 1.41.59.51 0 1.02-.2 1.41-.59l7.78-7.78 2.81-2.81c.8-.78.8-2.07 0-2.86zM5.41 20L4 18.59l7.72-7.72 1.47 1.35L5.41 20z\"/>\n",
              "  </svg>\n",
              "      </button>\n",
              "      \n",
              "  <style>\n",
              "    .colab-df-container {\n",
              "      display:flex;\n",
              "      flex-wrap:wrap;\n",
              "      gap: 12px;\n",
              "    }\n",
              "\n",
              "    .colab-df-convert {\n",
              "      background-color: #E8F0FE;\n",
              "      border: none;\n",
              "      border-radius: 50%;\n",
              "      cursor: pointer;\n",
              "      display: none;\n",
              "      fill: #1967D2;\n",
              "      height: 32px;\n",
              "      padding: 0 0 0 0;\n",
              "      width: 32px;\n",
              "    }\n",
              "\n",
              "    .colab-df-convert:hover {\n",
              "      background-color: #E2EBFA;\n",
              "      box-shadow: 0px 1px 2px rgba(60, 64, 67, 0.3), 0px 1px 3px 1px rgba(60, 64, 67, 0.15);\n",
              "      fill: #174EA6;\n",
              "    }\n",
              "\n",
              "    [theme=dark] .colab-df-convert {\n",
              "      background-color: #3B4455;\n",
              "      fill: #D2E3FC;\n",
              "    }\n",
              "\n",
              "    [theme=dark] .colab-df-convert:hover {\n",
              "      background-color: #434B5C;\n",
              "      box-shadow: 0px 1px 3px 1px rgba(0, 0, 0, 0.15);\n",
              "      filter: drop-shadow(0px 1px 2px rgba(0, 0, 0, 0.3));\n",
              "      fill: #FFFFFF;\n",
              "    }\n",
              "  </style>\n",
              "\n",
              "      <script>\n",
              "        const buttonEl =\n",
              "          document.querySelector('#df-474983cc-0f90-4bb8-a3f1-7486d5cb1832 button.colab-df-convert');\n",
              "        buttonEl.style.display =\n",
              "          google.colab.kernel.accessAllowed ? 'block' : 'none';\n",
              "\n",
              "        async function convertToInteractive(key) {\n",
              "          const element = document.querySelector('#df-474983cc-0f90-4bb8-a3f1-7486d5cb1832');\n",
              "          const dataTable =\n",
              "            await google.colab.kernel.invokeFunction('convertToInteractive',\n",
              "                                                     [key], {});\n",
              "          if (!dataTable) return;\n",
              "\n",
              "          const docLinkHtml = 'Like what you see? Visit the ' +\n",
              "            '<a target=\"_blank\" href=https://colab.research.google.com/notebooks/data_table.ipynb>data table notebook</a>'\n",
              "            + ' to learn more about interactive tables.';\n",
              "          element.innerHTML = '';\n",
              "          dataTable['output_type'] = 'display_data';\n",
              "          await google.colab.output.renderOutput(dataTable, element);\n",
              "          const docLink = document.createElement('div');\n",
              "          docLink.innerHTML = docLinkHtml;\n",
              "          element.appendChild(docLink);\n",
              "        }\n",
              "      </script>\n",
              "    </div>\n",
              "  </div>\n",
              "  "
            ]
          },
          "metadata": {},
          "execution_count": 7
        }
      ]
    },
    {
      "cell_type": "code",
      "source": [
        "df.info()"
      ],
      "metadata": {
        "id": "v7rFi8qvVZMW",
        "outputId": "9bb64e19-8984-49e3-8252-64d83e62f6b3",
        "colab": {
          "base_uri": "https://localhost:8080/"
        }
      },
      "execution_count": 8,
      "outputs": [
        {
          "output_type": "stream",
          "name": "stdout",
          "text": [
            "<class 'pandas.core.frame.DataFrame'>\n",
            "RangeIndex: 4499 entries, 0 to 4498\n",
            "Data columns (total 7 columns):\n",
            " #   Column     Non-Null Count  Dtype  \n",
            "---  ------     --------------  -----  \n",
            " 0   Datetime   4499 non-null   object \n",
            " 1   Open       4499 non-null   float64\n",
            " 2   High       4499 non-null   float64\n",
            " 3   Low        4499 non-null   float64\n",
            " 4   Close      4499 non-null   float64\n",
            " 5   Adj Close  4499 non-null   float64\n",
            " 6   Volume     4499 non-null   int64  \n",
            "dtypes: float64(5), int64(1), object(1)\n",
            "memory usage: 246.2+ KB\n"
          ]
        }
      ]
    },
    {
      "cell_type": "code",
      "source": [
        "df.isnull().sum()"
      ],
      "metadata": {
        "colab": {
          "base_uri": "https://localhost:8080/"
        },
        "id": "siT8pzStxK50",
        "outputId": "94b4f46d-378d-4fb1-e820-478f5fe8e3b9"
      },
      "execution_count": 9,
      "outputs": [
        {
          "output_type": "execute_result",
          "data": {
            "text/plain": [
              "Datetime     0\n",
              "Open         0\n",
              "High         0\n",
              "Low          0\n",
              "Close        0\n",
              "Adj Close    0\n",
              "Volume       0\n",
              "dtype: int64"
            ]
          },
          "metadata": {},
          "execution_count": 9
        }
      ]
    },
    {
      "cell_type": "markdown",
      "source": [
        "Converting the data type from \"object\" to \"datetime\" for the \"Datetime\""
      ],
      "metadata": {
        "id": "9l0g3bGIQMfT"
      }
    },
    {
      "cell_type": "code",
      "source": [
        "df['Datetime'] = pd.to_datetime(df['Datetime'])"
      ],
      "metadata": {
        "id": "xEUCAXOUy1Gp"
      },
      "execution_count": 10,
      "outputs": []
    },
    {
      "cell_type": "code",
      "source": [
        "df.info()"
      ],
      "metadata": {
        "colab": {
          "base_uri": "https://localhost:8080/"
        },
        "id": "BGCeSDtbzUn1",
        "outputId": "f25d6baf-854d-4790-f2aa-d239523179d3"
      },
      "execution_count": 11,
      "outputs": [
        {
          "output_type": "stream",
          "name": "stdout",
          "text": [
            "<class 'pandas.core.frame.DataFrame'>\n",
            "RangeIndex: 4499 entries, 0 to 4498\n",
            "Data columns (total 7 columns):\n",
            " #   Column     Non-Null Count  Dtype         \n",
            "---  ------     --------------  -----         \n",
            " 0   Datetime   4499 non-null   datetime64[ns]\n",
            " 1   Open       4499 non-null   float64       \n",
            " 2   High       4499 non-null   float64       \n",
            " 3   Low        4499 non-null   float64       \n",
            " 4   Close      4499 non-null   float64       \n",
            " 5   Adj Close  4499 non-null   float64       \n",
            " 6   Volume     4499 non-null   int64         \n",
            "dtypes: datetime64[ns](1), float64(5), int64(1)\n",
            "memory usage: 246.2 KB\n"
          ]
        }
      ]
    },
    {
      "cell_type": "code",
      "source": [
        "print(f'DataFrame contains stock between {df.Datetime.min()} {df.Datetime.max()}')\n",
        "print(f'Total numner of days = {(df.Datetime.max()- df.Datetime.min()).days} days')"
      ],
      "metadata": {
        "colab": {
          "base_uri": "https://localhost:8080/"
        },
        "id": "RVHtUCJIyVO-",
        "outputId": "e7a36962-bf6d-4801-a9e7-bed5e65d14a4"
      },
      "execution_count": 12,
      "outputs": [
        {
          "output_type": "stream",
          "name": "stdout",
          "text": [
            "DataFrame contains stock between 2022-07-06 00:00:00 2022-09-30 00:00:00\n",
            "Total numner of days = 86 days\n"
          ]
        }
      ]
    },
    {
      "cell_type": "code",
      "source": [
        "df.describe()"
      ],
      "metadata": {
        "colab": {
          "base_uri": "https://localhost:8080/",
          "height": 300
        },
        "id": "L2CU1VLw1mPc",
        "outputId": "6afc60b3-de4e-4470-acbf-9ff44a0d08da"
      },
      "execution_count": 13,
      "outputs": [
        {
          "output_type": "execute_result",
          "data": {
            "text/plain": [
              "               Open          High           Low         Close     Adj Close  \\\n",
              "count   4499.000000   4499.000000   4499.000000   4499.000000   4499.000000   \n",
              "mean   38232.863543  38259.840769  38205.939855  38233.823223  38233.823223   \n",
              "std     1964.348261   1965.959555   1962.130293   1963.918792   1963.918792   \n",
              "min    33929.398438  34074.750000  33916.101562  33992.148438  33992.148438   \n",
              "25%    36712.449219  36728.974609  36674.500000  36711.701172  36711.701172   \n",
              "50%    38413.000000  38450.750000  38387.199219  38414.699219  38414.699219   \n",
              "75%    39513.699219  39542.724609  39492.875000  39516.650391  39516.650391   \n",
              "max    41795.851562  41830.351562  41766.300781  41788.199219  41788.199219   \n",
              "\n",
              "       Volume  \n",
              "count  4499.0  \n",
              "mean      0.0  \n",
              "std       0.0  \n",
              "min       0.0  \n",
              "25%       0.0  \n",
              "50%       0.0  \n",
              "75%       0.0  \n",
              "max       0.0  "
            ],
            "text/html": [
              "\n",
              "  <div id=\"df-a588cd1d-87ac-42c1-844a-39fc9fe035c1\">\n",
              "    <div class=\"colab-df-container\">\n",
              "      <div>\n",
              "<style scoped>\n",
              "    .dataframe tbody tr th:only-of-type {\n",
              "        vertical-align: middle;\n",
              "    }\n",
              "\n",
              "    .dataframe tbody tr th {\n",
              "        vertical-align: top;\n",
              "    }\n",
              "\n",
              "    .dataframe thead th {\n",
              "        text-align: right;\n",
              "    }\n",
              "</style>\n",
              "<table border=\"1\" class=\"dataframe\">\n",
              "  <thead>\n",
              "    <tr style=\"text-align: right;\">\n",
              "      <th></th>\n",
              "      <th>Open</th>\n",
              "      <th>High</th>\n",
              "      <th>Low</th>\n",
              "      <th>Close</th>\n",
              "      <th>Adj Close</th>\n",
              "      <th>Volume</th>\n",
              "    </tr>\n",
              "  </thead>\n",
              "  <tbody>\n",
              "    <tr>\n",
              "      <th>count</th>\n",
              "      <td>4499.000000</td>\n",
              "      <td>4499.000000</td>\n",
              "      <td>4499.000000</td>\n",
              "      <td>4499.000000</td>\n",
              "      <td>4499.000000</td>\n",
              "      <td>4499.0</td>\n",
              "    </tr>\n",
              "    <tr>\n",
              "      <th>mean</th>\n",
              "      <td>38232.863543</td>\n",
              "      <td>38259.840769</td>\n",
              "      <td>38205.939855</td>\n",
              "      <td>38233.823223</td>\n",
              "      <td>38233.823223</td>\n",
              "      <td>0.0</td>\n",
              "    </tr>\n",
              "    <tr>\n",
              "      <th>std</th>\n",
              "      <td>1964.348261</td>\n",
              "      <td>1965.959555</td>\n",
              "      <td>1962.130293</td>\n",
              "      <td>1963.918792</td>\n",
              "      <td>1963.918792</td>\n",
              "      <td>0.0</td>\n",
              "    </tr>\n",
              "    <tr>\n",
              "      <th>min</th>\n",
              "      <td>33929.398438</td>\n",
              "      <td>34074.750000</td>\n",
              "      <td>33916.101562</td>\n",
              "      <td>33992.148438</td>\n",
              "      <td>33992.148438</td>\n",
              "      <td>0.0</td>\n",
              "    </tr>\n",
              "    <tr>\n",
              "      <th>25%</th>\n",
              "      <td>36712.449219</td>\n",
              "      <td>36728.974609</td>\n",
              "      <td>36674.500000</td>\n",
              "      <td>36711.701172</td>\n",
              "      <td>36711.701172</td>\n",
              "      <td>0.0</td>\n",
              "    </tr>\n",
              "    <tr>\n",
              "      <th>50%</th>\n",
              "      <td>38413.000000</td>\n",
              "      <td>38450.750000</td>\n",
              "      <td>38387.199219</td>\n",
              "      <td>38414.699219</td>\n",
              "      <td>38414.699219</td>\n",
              "      <td>0.0</td>\n",
              "    </tr>\n",
              "    <tr>\n",
              "      <th>75%</th>\n",
              "      <td>39513.699219</td>\n",
              "      <td>39542.724609</td>\n",
              "      <td>39492.875000</td>\n",
              "      <td>39516.650391</td>\n",
              "      <td>39516.650391</td>\n",
              "      <td>0.0</td>\n",
              "    </tr>\n",
              "    <tr>\n",
              "      <th>max</th>\n",
              "      <td>41795.851562</td>\n",
              "      <td>41830.351562</td>\n",
              "      <td>41766.300781</td>\n",
              "      <td>41788.199219</td>\n",
              "      <td>41788.199219</td>\n",
              "      <td>0.0</td>\n",
              "    </tr>\n",
              "  </tbody>\n",
              "</table>\n",
              "</div>\n",
              "      <button class=\"colab-df-convert\" onclick=\"convertToInteractive('df-a588cd1d-87ac-42c1-844a-39fc9fe035c1')\"\n",
              "              title=\"Convert this dataframe to an interactive table.\"\n",
              "              style=\"display:none;\">\n",
              "        \n",
              "  <svg xmlns=\"http://www.w3.org/2000/svg\" height=\"24px\"viewBox=\"0 0 24 24\"\n",
              "       width=\"24px\">\n",
              "    <path d=\"M0 0h24v24H0V0z\" fill=\"none\"/>\n",
              "    <path d=\"M18.56 5.44l.94 2.06.94-2.06 2.06-.94-2.06-.94-.94-2.06-.94 2.06-2.06.94zm-11 1L8.5 8.5l.94-2.06 2.06-.94-2.06-.94L8.5 2.5l-.94 2.06-2.06.94zm10 10l.94 2.06.94-2.06 2.06-.94-2.06-.94-.94-2.06-.94 2.06-2.06.94z\"/><path d=\"M17.41 7.96l-1.37-1.37c-.4-.4-.92-.59-1.43-.59-.52 0-1.04.2-1.43.59L10.3 9.45l-7.72 7.72c-.78.78-.78 2.05 0 2.83L4 21.41c.39.39.9.59 1.41.59.51 0 1.02-.2 1.41-.59l7.78-7.78 2.81-2.81c.8-.78.8-2.07 0-2.86zM5.41 20L4 18.59l7.72-7.72 1.47 1.35L5.41 20z\"/>\n",
              "  </svg>\n",
              "      </button>\n",
              "      \n",
              "  <style>\n",
              "    .colab-df-container {\n",
              "      display:flex;\n",
              "      flex-wrap:wrap;\n",
              "      gap: 12px;\n",
              "    }\n",
              "\n",
              "    .colab-df-convert {\n",
              "      background-color: #E8F0FE;\n",
              "      border: none;\n",
              "      border-radius: 50%;\n",
              "      cursor: pointer;\n",
              "      display: none;\n",
              "      fill: #1967D2;\n",
              "      height: 32px;\n",
              "      padding: 0 0 0 0;\n",
              "      width: 32px;\n",
              "    }\n",
              "\n",
              "    .colab-df-convert:hover {\n",
              "      background-color: #E2EBFA;\n",
              "      box-shadow: 0px 1px 2px rgba(60, 64, 67, 0.3), 0px 1px 3px 1px rgba(60, 64, 67, 0.15);\n",
              "      fill: #174EA6;\n",
              "    }\n",
              "\n",
              "    [theme=dark] .colab-df-convert {\n",
              "      background-color: #3B4455;\n",
              "      fill: #D2E3FC;\n",
              "    }\n",
              "\n",
              "    [theme=dark] .colab-df-convert:hover {\n",
              "      background-color: #434B5C;\n",
              "      box-shadow: 0px 1px 3px 1px rgba(0, 0, 0, 0.15);\n",
              "      filter: drop-shadow(0px 1px 2px rgba(0, 0, 0, 0.3));\n",
              "      fill: #FFFFFF;\n",
              "    }\n",
              "  </style>\n",
              "\n",
              "      <script>\n",
              "        const buttonEl =\n",
              "          document.querySelector('#df-a588cd1d-87ac-42c1-844a-39fc9fe035c1 button.colab-df-convert');\n",
              "        buttonEl.style.display =\n",
              "          google.colab.kernel.accessAllowed ? 'block' : 'none';\n",
              "\n",
              "        async function convertToInteractive(key) {\n",
              "          const element = document.querySelector('#df-a588cd1d-87ac-42c1-844a-39fc9fe035c1');\n",
              "          const dataTable =\n",
              "            await google.colab.kernel.invokeFunction('convertToInteractive',\n",
              "                                                     [key], {});\n",
              "          if (!dataTable) return;\n",
              "\n",
              "          const docLinkHtml = 'Like what you see? Visit the ' +\n",
              "            '<a target=\"_blank\" href=https://colab.research.google.com/notebooks/data_table.ipynb>data table notebook</a>'\n",
              "            + ' to learn more about interactive tables.';\n",
              "          element.innerHTML = '';\n",
              "          dataTable['output_type'] = 'display_data';\n",
              "          await google.colab.output.renderOutput(dataTable, element);\n",
              "          const docLink = document.createElement('div');\n",
              "          docLink.innerHTML = docLinkHtml;\n",
              "          element.appendChild(docLink);\n",
              "        }\n",
              "      </script>\n",
              "    </div>\n",
              "  </div>\n",
              "  "
            ]
          },
          "metadata": {},
          "execution_count": 13
        }
      ]
    },
    {
      "cell_type": "code",
      "source": [
        "df[['Low','High','Open','Close']].plot(kind= 'box', figsize=(12,4))"
      ],
      "metadata": {
        "colab": {
          "base_uri": "https://localhost:8080/",
          "height": 285
        },
        "id": "zQ6JYDAHMzqr",
        "outputId": "be27d0b3-a773-4e59-f1ee-9d2a66b63e7a"
      },
      "execution_count": 14,
      "outputs": [
        {
          "output_type": "execute_result",
          "data": {
            "text/plain": [
              "<matplotlib.axes._subplots.AxesSubplot at 0x7fb18c5f2ed0>"
            ]
          },
          "metadata": {},
          "execution_count": 14
        },
        {
          "output_type": "display_data",
          "data": {
            "text/plain": [
              "<Figure size 864x288 with 1 Axes>"
            ],
            "image/png": "[encoded data removed]"
          },
          "metadata": {
            "needs_background": "light"
          }
        }
      ]
    },
    {
      "cell_type": "code",
      "source": [
        "df.set_index('Datetime', inplace = True)"
      ],
      "metadata": {
        "id": "ah4HdqOMPv6X"
      },
      "execution_count": 15,
      "outputs": []
    },
    {
      "cell_type": "code",
      "source": [
        "df.drop([\"Volume\"], axis = 1, inplace = True)"
      ],
      "metadata": {
        "id": "x8CYOWiiQ2gR"
      },
      "execution_count": 16,
      "outputs": []
    },
    {
      "cell_type": "code",
      "source": [
        "df.head()"
      ],
      "metadata": {
        "colab": {
          "base_uri": "https://localhost:8080/",
          "height": 237
        },
        "id": "432uRXGpRCjf",
        "outputId": "3505e94f-2b07-4028-cef0-c51fd609835c"
      },
      "execution_count": 17,
      "outputs": [
        {
          "output_type": "execute_result",
          "data": {
            "text/plain": [
              "                    Open          High           Low         Close  \\\n",
              "Datetime                                                             \n",
              "2022-07-06  33929.398438  34091.250000  33916.101562  34023.648438   \n",
              "2022-07-06  34022.050781  34132.898438  34022.050781  34129.148438   \n",
              "2022-07-06  34127.601562  34158.000000  34107.148438  34143.449219   \n",
              "2022-07-06  34137.601562  34155.101562  34096.250000  34120.199219   \n",
              "2022-07-06  34119.750000  34135.699219  34092.000000  34092.000000   \n",
              "\n",
              "               Adj Close  \n",
              "Datetime                  \n",
              "2022-07-06  34023.648438  \n",
              "2022-07-06  34129.148438  \n",
              "2022-07-06  34143.449219  \n",
              "2022-07-06  34120.199219  \n",
              "2022-07-06  34092.000000  "
            ],
            "text/html": [
              "\n",
              "  <div id=\"df-a869dc57-a381-419d-968c-d4d6a1f5ec5a\">\n",
              "    <div class=\"colab-df-container\">\n",
              "      <div>\n",
              "<style scoped>\n",
              "    .dataframe tbody tr th:only-of-type {\n",
              "        vertical-align: middle;\n",
              "    }\n",
              "\n",
              "    .dataframe tbody tr th {\n",
              "        vertical-align: top;\n",
              "    }\n",
              "\n",
              "    .dataframe thead th {\n",
              "        text-align: right;\n",
              "    }\n",
              "</style>\n",
              "<table border=\"1\" class=\"dataframe\">\n",
              "  <thead>\n",
              "    <tr style=\"text-align: right;\">\n",
              "      <th></th>\n",
              "      <th>Open</th>\n",
              "      <th>High</th>\n",
              "      <th>Low</th>\n",
              "      <th>Close</th>\n",
              "      <th>Adj Close</th>\n",
              "    </tr>\n",
              "    <tr>\n",
              "      <th>Datetime</th>\n",
              "      <th></th>\n",
              "      <th></th>\n",
              "      <th></th>\n",
              "      <th></th>\n",
              "      <th></th>\n",
              "    </tr>\n",
              "  </thead>\n",
              "  <tbody>\n",
              "    <tr>\n",
              "      <th>2022-07-06</th>\n",
              "      <td>33929.398438</td>\n",
              "      <td>34091.250000</td>\n",
              "      <td>33916.101562</td>\n",
              "      <td>34023.648438</td>\n",
              "      <td>34023.648438</td>\n",
              "    </tr>\n",
              "    <tr>\n",
              "      <th>2022-07-06</th>\n",
              "      <td>34022.050781</td>\n",
              "      <td>34132.898438</td>\n",
              "      <td>34022.050781</td>\n",
              "      <td>34129.148438</td>\n",
              "      <td>34129.148438</td>\n",
              "    </tr>\n",
              "    <tr>\n",
              "      <th>2022-07-06</th>\n",
              "      <td>34127.601562</td>\n",
              "      <td>34158.000000</td>\n",
              "      <td>34107.148438</td>\n",
              "      <td>34143.449219</td>\n",
              "      <td>34143.449219</td>\n",
              "    </tr>\n",
              "    <tr>\n",
              "      <th>2022-07-06</th>\n",
              "      <td>34137.601562</td>\n",
              "      <td>34155.101562</td>\n",
              "      <td>34096.250000</td>\n",
              "      <td>34120.199219</td>\n",
              "      <td>34120.199219</td>\n",
              "    </tr>\n",
              "    <tr>\n",
              "      <th>2022-07-06</th>\n",
              "      <td>34119.750000</td>\n",
              "      <td>34135.699219</td>\n",
              "      <td>34092.000000</td>\n",
              "      <td>34092.000000</td>\n",
              "      <td>34092.000000</td>\n",
              "    </tr>\n",
              "  </tbody>\n",
              "</table>\n",
              "</div>\n",
              "      <button class=\"colab-df-convert\" onclick=\"convertToInteractive('df-a869dc57-a381-419d-968c-d4d6a1f5ec5a')\"\n",
              "              title=\"Convert this dataframe to an interactive table.\"\n",
              "              style=\"display:none;\">\n",
              "        \n",
              "  <svg xmlns=\"http://www.w3.org/2000/svg\" height=\"24px\"viewBox=\"0 0 24 24\"\n",
              "       width=\"24px\">\n",
              "    <path d=\"M0 0h24v24H0V0z\" fill=\"none\"/>\n",
              "    <path d=\"M18.56 5.44l.94 2.06.94-2.06 2.06-.94-2.06-.94-.94-2.06-.94 2.06-2.06.94zm-11 1L8.5 8.5l.94-2.06 2.06-.94-2.06-.94L8.5 2.5l-.94 2.06-2.06.94zm10 10l.94 2.06.94-2.06 2.06-.94-2.06-.94-.94-2.06-.94 2.06-2.06.94z\"/><path d=\"M17.41 7.96l-1.37-1.37c-.4-.4-.92-.59-1.43-.59-.52 0-1.04.2-1.43.59L10.3 9.45l-7.72 7.72c-.78.78-.78 2.05 0 2.83L4 21.41c.39.39.9.59 1.41.59.51 0 1.02-.2 1.41-.59l7.78-7.78 2.81-2.81c.8-.78.8-2.07 0-2.86zM5.41 20L4 18.59l7.72-7.72 1.47 1.35L5.41 20z\"/>\n",
              "  </svg>\n",
              "      </button>\n",
              "      \n",
              "  <style>\n",
              "    .colab-df-container {\n",
              "      display:flex;\n",
              "      flex-wrap:wrap;\n",
              "      gap: 12px;\n",
              "    }\n",
              "\n",
              "    .colab-df-convert {\n",
              "      background-color: #E8F0FE;\n",
              "      border: none;\n",
              "      border-radius: 50%;\n",
              "      cursor: pointer;\n",
              "      display: none;\n",
              "      fill: #1967D2;\n",
              "      height: 32px;\n",
              "      padding: 0 0 0 0;\n",
              "      width: 32px;\n",
              "    }\n",
              "\n",
              "    .colab-df-convert:hover {\n",
              "      background-color: #E2EBFA;\n",
              "      box-shadow: 0px 1px 2px rgba(60, 64, 67, 0.3), 0px 1px 3px 1px rgba(60, 64, 67, 0.15);\n",
              "      fill: #174EA6;\n",
              "    }\n",
              "\n",
              "    [theme=dark] .colab-df-convert {\n",
              "      background-color: #3B4455;\n",
              "      fill: #D2E3FC;\n",
              "    }\n",
              "\n",
              "    [theme=dark] .colab-df-convert:hover {\n",
              "      background-color: #434B5C;\n",
              "      box-shadow: 0px 1px 3px 1px rgba(0, 0, 0, 0.15);\n",
              "      filter: drop-shadow(0px 1px 2px rgba(0, 0, 0, 0.3));\n",
              "      fill: #FFFFFF;\n",
              "    }\n",
              "  </style>\n",
              "\n",
              "      <script>\n",
              "        const buttonEl =\n",
              "          document.querySelector('#df-a869dc57-a381-419d-968c-d4d6a1f5ec5a button.colab-df-convert');\n",
              "        buttonEl.style.display =\n",
              "          google.colab.kernel.accessAllowed ? 'block' : 'none';\n",
              "\n",
              "        async function convertToInteractive(key) {\n",
              "          const element = document.querySelector('#df-a869dc57-a381-419d-968c-d4d6a1f5ec5a');\n",
              "          const dataTable =\n",
              "            await google.colab.kernel.invokeFunction('convertToInteractive',\n",
              "                                                     [key], {});\n",
              "          if (!dataTable) return;\n",
              "\n",
              "          const docLinkHtml = 'Like what you see? Visit the ' +\n",
              "            '<a target=\"_blank\" href=https://colab.research.google.com/notebooks/data_table.ipynb>data table notebook</a>'\n",
              "            + ' to learn more about interactive tables.';\n",
              "          element.innerHTML = '';\n",
              "          dataTable['output_type'] = 'display_data';\n",
              "          await google.colab.output.renderOutput(dataTable, element);\n",
              "          const docLink = document.createElement('div');\n",
              "          docLink.innerHTML = docLinkHtml;\n",
              "          element.appendChild(docLink);\n",
              "        }\n",
              "      </script>\n",
              "    </div>\n",
              "  </div>\n",
              "  "
            ]
          },
          "metadata": {},
          "execution_count": 17
        }
      ]
    },
    {
      "cell_type": "code",
      "source": [
        "df.plot()"
      ],
      "metadata": {
        "colab": {
          "base_uri": "https://localhost:8080/",
          "height": 311
        },
        "id": "jQ9HLIRkOuf5",
        "outputId": "705ae024-8797-4d07-e8ed-ad93500efdde"
      },
      "execution_count": 18,
      "outputs": [
        {
          "output_type": "execute_result",
          "data": {
            "text/plain": [
              "<matplotlib.axes._subplots.AxesSubplot at 0x7fb18c4ac7d0>"
            ]
          },
          "metadata": {},
          "execution_count": 18
        },
        {
          "output_type": "display_data",
          "data": {
            "text/plain": [
              "<Figure size 432x288 with 1 Axes>"
            ],
            "image/png": "[encoded data removed]"
          },
          "metadata": {
            "needs_background": "light"
          }
        }
      ]
    },
    {
      "cell_type": "code",
      "source": [
        "df['High'].plot(figsize=(12,4))"
      ],
      "metadata": {
        "colab": {
          "base_uri": "https://localhost:8080/",
          "height": 311
        },
        "id": "vMV2o0WQRlEE",
        "outputId": "fbc3816e-48bc-45cd-85d9-560437e27d29"
      },
      "execution_count": 19,
      "outputs": [
        {
          "output_type": "execute_result",
          "data": {
            "text/plain": [
              "<matplotlib.axes._subplots.AxesSubplot at 0x7fb18bf33410>"
            ]
          },
          "metadata": {},
          "execution_count": 19
        },
        {
          "output_type": "display_data",
          "data": {
            "text/plain": [
              "<Figure size 864x288 with 1 Axes>"
            ],
            "image/png": "[encoded data removed]"
          },
          "metadata": {
            "needs_background": "light"
          }
        }
      ]
    },
    {
      "cell_type": "markdown",
      "source": [
        "Adding some other parameter for better visualization"
      ],
      "metadata": {
        "id": "nSLVYb-2yv-S"
      }
    },
    {
      "cell_type": "code",
      "source": [
        "df['High'].plot(xlim=['2022-07-06', '2022-09-30'], figsize=(20,4),ls='--',c='green')"
      ],
      "metadata": {
        "colab": {
          "base_uri": "https://localhost:8080/",
          "height": 237
        },
        "id": "EUQpDosTSveu",
        "outputId": "9e30f6e7-39f0-4314-9a7b-fe50e938760c"
      },
      "execution_count": 20,
      "outputs": [
        {
          "output_type": "execute_result",
          "data": {
            "text/plain": [
              "<matplotlib.axes._subplots.AxesSubplot at 0x7fb18bf3dd50>"
            ]
          },
          "metadata": {},
          "execution_count": 20
        },
        {
          "output_type": "display_data",
          "data": {
            "text/plain": [
              "<Figure size 1440x288 with 1 Axes>"
            ],
            "image/png": "[encoded data removed]"
          },
          "metadata": {
            "needs_background": "light"
          }
        }
      ]
    },
    {
      "cell_type": "code",
      "source": [
        "df[['Low','High','Open','Close']].plot(figsize=(12,4))"
      ],
      "metadata": {
        "colab": {
          "base_uri": "https://localhost:8080/",
          "height": 311
        },
        "id": "GdBxeZa42ViU",
        "outputId": "230f0e69-3abd-4081-bcf0-05c2542c1212"
      },
      "execution_count": 21,
      "outputs": [
        {
          "output_type": "execute_result",
          "data": {
            "text/plain": [
              "<matplotlib.axes._subplots.AxesSubplot at 0x7fb18bd25190>"
            ]
          },
          "metadata": {},
          "execution_count": 21
        },
        {
          "output_type": "display_data",
          "data": {
            "text/plain": [
              "<Figure size 864x288 with 1 Axes>"
            ],
            "image/png": "[encoded data removed]"
          },
          "metadata": {
            "needs_background": "light"
          }
        }
      ]
    },
    {
      "cell_type": "markdown",
      "source": [
        "Checking the details of last day or end of the year. Since we have only 3 monts of data, displyed only one record of last day of the year. Suppose If we have 5 years of data, will get the details of end of the year data seperately for 5 years. "
      ],
      "metadata": {
        "id": "NYB_LpukV9Uk"
      }
    },
    {
      "cell_type": "code",
      "source": [
        "df.resample(rule='A').min()"
      ],
      "metadata": {
        "colab": {
          "base_uri": "https://localhost:8080/",
          "height": 112
        },
        "id": "kjMGji7iVZWb",
        "outputId": "25b85287-af94-483a-bcc5-5ff80a6458ba"
      },
      "execution_count": 22,
      "outputs": [
        {
          "output_type": "execute_result",
          "data": {
            "text/plain": [
              "                    Open      High           Low         Close     Adj Close\n",
              "Datetime                                                                    \n",
              "2022-12-31  33929.398438  34074.75  33916.101562  33992.148438  33992.148438"
            ],
            "text/html": [
              "\n",
              "  <div id=\"df-1f1be70d-b26d-4ead-8f3f-dc0948eb6c92\">\n",
              "    <div class=\"colab-df-container\">\n",
              "      <div>\n",
              "<style scoped>\n",
              "    .dataframe tbody tr th:only-of-type {\n",
              "        vertical-align: middle;\n",
              "    }\n",
              "\n",
              "    .dataframe tbody tr th {\n",
              "        vertical-align: top;\n",
              "    }\n",
              "\n",
              "    .dataframe thead th {\n",
              "        text-align: right;\n",
              "    }\n",
              "</style>\n",
              "<table border=\"1\" class=\"dataframe\">\n",
              "  <thead>\n",
              "    <tr style=\"text-align: right;\">\n",
              "      <th></th>\n",
              "      <th>Open</th>\n",
              "      <th>High</th>\n",
              "      <th>Low</th>\n",
              "      <th>Close</th>\n",
              "      <th>Adj Close</th>\n",
              "    </tr>\n",
              "    <tr>\n",
              "      <th>Datetime</th>\n",
              "      <th></th>\n",
              "      <th></th>\n",
              "      <th></th>\n",
              "      <th></th>\n",
              "      <th></th>\n",
              "    </tr>\n",
              "  </thead>\n",
              "  <tbody>\n",
              "    <tr>\n",
              "      <th>2022-12-31</th>\n",
              "      <td>33929.398438</td>\n",
              "      <td>34074.75</td>\n",
              "      <td>33916.101562</td>\n",
              "      <td>33992.148438</td>\n",
              "      <td>33992.148438</td>\n",
              "    </tr>\n",
              "  </tbody>\n",
              "</table>\n",
              "</div>\n",
              "      <button class=\"colab-df-convert\" onclick=\"convertToInteractive('df-1f1be70d-b26d-4ead-8f3f-dc0948eb6c92')\"\n",
              "              title=\"Convert this dataframe to an interactive table.\"\n",
              "              style=\"display:none;\">\n",
              "        \n",
              "  <svg xmlns=\"http://www.w3.org/2000/svg\" height=\"24px\"viewBox=\"0 0 24 24\"\n",
              "       width=\"24px\">\n",
              "    <path d=\"M0 0h24v24H0V0z\" fill=\"none\"/>\n",
              "    <path d=\"M18.56 5.44l.94 2.06.94-2.06 2.06-.94-2.06-.94-.94-2.06-.94 2.06-2.06.94zm-11 1L8.5 8.5l.94-2.06 2.06-.94-2.06-.94L8.5 2.5l-.94 2.06-2.06.94zm10 10l.94 2.06.94-2.06 2.06-.94-2.06-.94-.94-2.06-.94 2.06-2.06.94z\"/><path d=\"M17.41 7.96l-1.37-1.37c-.4-.4-.92-.59-1.43-.59-.52 0-1.04.2-1.43.59L10.3 9.45l-7.72 7.72c-.78.78-.78 2.05 0 2.83L4 21.41c.39.39.9.59 1.41.59.51 0 1.02-.2 1.41-.59l7.78-7.78 2.81-2.81c.8-.78.8-2.07 0-2.86zM5.41 20L4 18.59l7.72-7.72 1.47 1.35L5.41 20z\"/>\n",
              "  </svg>\n",
              "      </button>\n",
              "      \n",
              "  <style>\n",
              "    .colab-df-container {\n",
              "      display:flex;\n",
              "      flex-wrap:wrap;\n",
              "      gap: 12px;\n",
              "    }\n",
              "\n",
              "    .colab-df-convert {\n",
              "      background-color: #E8F0FE;\n",
              "      border: none;\n",
              "      border-radius: 50%;\n",
              "      cursor: pointer;\n",
              "      display: none;\n",
              "      fill: #1967D2;\n",
              "      height: 32px;\n",
              "      padding: 0 0 0 0;\n",
              "      width: 32px;\n",
              "    }\n",
              "\n",
              "    .colab-df-convert:hover {\n",
              "      background-color: #E2EBFA;\n",
              "      box-shadow: 0px 1px 2px rgba(60, 64, 67, 0.3), 0px 1px 3px 1px rgba(60, 64, 67, 0.15);\n",
              "      fill: #174EA6;\n",
              "    }\n",
              "\n",
              "    [theme=dark] .colab-df-convert {\n",
              "      background-color: #3B4455;\n",
              "      fill: #D2E3FC;\n",
              "    }\n",
              "\n",
              "    [theme=dark] .colab-df-convert:hover {\n",
              "      background-color: #434B5C;\n",
              "      box-shadow: 0px 1px 3px 1px rgba(0, 0, 0, 0.15);\n",
              "      filter: drop-shadow(0px 1px 2px rgba(0, 0, 0, 0.3));\n",
              "      fill: #FFFFFF;\n",
              "    }\n",
              "  </style>\n",
              "\n",
              "      <script>\n",
              "        const buttonEl =\n",
              "          document.querySelector('#df-1f1be70d-b26d-4ead-8f3f-dc0948eb6c92 button.colab-df-convert');\n",
              "        buttonEl.style.display =\n",
              "          google.colab.kernel.accessAllowed ? 'block' : 'none';\n",
              "\n",
              "        async function convertToInteractive(key) {\n",
              "          const element = document.querySelector('#df-1f1be70d-b26d-4ead-8f3f-dc0948eb6c92');\n",
              "          const dataTable =\n",
              "            await google.colab.kernel.invokeFunction('convertToInteractive',\n",
              "                                                     [key], {});\n",
              "          if (!dataTable) return;\n",
              "\n",
              "          const docLinkHtml = 'Like what you see? Visit the ' +\n",
              "            '<a target=\"_blank\" href=https://colab.research.google.com/notebooks/data_table.ipynb>data table notebook</a>'\n",
              "            + ' to learn more about interactive tables.';\n",
              "          element.innerHTML = '';\n",
              "          dataTable['output_type'] = 'display_data';\n",
              "          await google.colab.output.renderOutput(dataTable, element);\n",
              "          const docLink = document.createElement('div');\n",
              "          docLink.innerHTML = docLinkHtml;\n",
              "          element.appendChild(docLink);\n",
              "        }\n",
              "      </script>\n",
              "    </div>\n",
              "  </div>\n",
              "  "
            ]
          },
          "metadata": {},
          "execution_count": 22
        }
      ]
    },
    {
      "cell_type": "code",
      "source": [
        "df.resample(rule='A').max()"
      ],
      "metadata": {
        "colab": {
          "base_uri": "https://localhost:8080/",
          "height": 112
        },
        "id": "f74RDyyjXLCa",
        "outputId": "0ed4381b-7662-478b-c2e3-3b5eb3e3dd98"
      },
      "execution_count": 23,
      "outputs": [
        {
          "output_type": "execute_result",
          "data": {
            "text/plain": [
              "                    Open          High           Low         Close  \\\n",
              "Datetime                                                             \n",
              "2022-12-31  41795.851562  41830.351562  41766.300781  41788.199219   \n",
              "\n",
              "               Adj Close  \n",
              "Datetime                  \n",
              "2022-12-31  41788.199219  "
            ],
            "text/html": [
              "\n",
              "  <div id=\"df-15241895-634c-48c3-90ce-2c6d7daeb23a\">\n",
              "    <div class=\"colab-df-container\">\n",
              "      <div>\n",
              "<style scoped>\n",
              "    .dataframe tbody tr th:only-of-type {\n",
              "        vertical-align: middle;\n",
              "    }\n",
              "\n",
              "    .dataframe tbody tr th {\n",
              "        vertical-align: top;\n",
              "    }\n",
              "\n",
              "    .dataframe thead th {\n",
              "        text-align: right;\n",
              "    }\n",
              "</style>\n",
              "<table border=\"1\" class=\"dataframe\">\n",
              "  <thead>\n",
              "    <tr style=\"text-align: right;\">\n",
              "      <th></th>\n",
              "      <th>Open</th>\n",
              "      <th>High</th>\n",
              "      <th>Low</th>\n",
              "      <th>Close</th>\n",
              "      <th>Adj Close</th>\n",
              "    </tr>\n",
              "    <tr>\n",
              "      <th>Datetime</th>\n",
              "      <th></th>\n",
              "      <th></th>\n",
              "      <th></th>\n",
              "      <th></th>\n",
              "      <th></th>\n",
              "    </tr>\n",
              "  </thead>\n",
              "  <tbody>\n",
              "    <tr>\n",
              "      <th>2022-12-31</th>\n",
              "      <td>41795.851562</td>\n",
              "      <td>41830.351562</td>\n",
              "      <td>41766.300781</td>\n",
              "      <td>41788.199219</td>\n",
              "      <td>41788.199219</td>\n",
              "    </tr>\n",
              "  </tbody>\n",
              "</table>\n",
              "</div>\n",
              "      <button class=\"colab-df-convert\" onclick=\"convertToInteractive('df-15241895-634c-48c3-90ce-2c6d7daeb23a')\"\n",
              "              title=\"Convert this dataframe to an interactive table.\"\n",
              "              style=\"display:none;\">\n",
              "        \n",
              "  <svg xmlns=\"http://www.w3.org/2000/svg\" height=\"24px\"viewBox=\"0 0 24 24\"\n",
              "       width=\"24px\">\n",
              "    <path d=\"M0 0h24v24H0V0z\" fill=\"none\"/>\n",
              "    <path d=\"M18.56 5.44l.94 2.06.94-2.06 2.06-.94-2.06-.94-.94-2.06-.94 2.06-2.06.94zm-11 1L8.5 8.5l.94-2.06 2.06-.94-2.06-.94L8.5 2.5l-.94 2.06-2.06.94zm10 10l.94 2.06.94-2.06 2.06-.94-2.06-.94-.94-2.06-.94 2.06-2.06.94z\"/><path d=\"M17.41 7.96l-1.37-1.37c-.4-.4-.92-.59-1.43-.59-.52 0-1.04.2-1.43.59L10.3 9.45l-7.72 7.72c-.78.78-.78 2.05 0 2.83L4 21.41c.39.39.9.59 1.41.59.51 0 1.02-.2 1.41-.59l7.78-7.78 2.81-2.81c.8-.78.8-2.07 0-2.86zM5.41 20L4 18.59l7.72-7.72 1.47 1.35L5.41 20z\"/>\n",
              "  </svg>\n",
              "      </button>\n",
              "      \n",
              "  <style>\n",
              "    .colab-df-container {\n",
              "      display:flex;\n",
              "      flex-wrap:wrap;\n",
              "      gap: 12px;\n",
              "    }\n",
              "\n",
              "    .colab-df-convert {\n",
              "      background-color: #E8F0FE;\n",
              "      border: none;\n",
              "      border-radius: 50%;\n",
              "      cursor: pointer;\n",
              "      display: none;\n",
              "      fill: #1967D2;\n",
              "      height: 32px;\n",
              "      padding: 0 0 0 0;\n",
              "      width: 32px;\n",
              "    }\n",
              "\n",
              "    .colab-df-convert:hover {\n",
              "      background-color: #E2EBFA;\n",
              "      box-shadow: 0px 1px 2px rgba(60, 64, 67, 0.3), 0px 1px 3px 1px rgba(60, 64, 67, 0.15);\n",
              "      fill: #174EA6;\n",
              "    }\n",
              "\n",
              "    [theme=dark] .colab-df-convert {\n",
              "      background-color: #3B4455;\n",
              "      fill: #D2E3FC;\n",
              "    }\n",
              "\n",
              "    [theme=dark] .colab-df-convert:hover {\n",
              "      background-color: #434B5C;\n",
              "      box-shadow: 0px 1px 3px 1px rgba(0, 0, 0, 0.15);\n",
              "      filter: drop-shadow(0px 1px 2px rgba(0, 0, 0, 0.3));\n",
              "      fill: #FFFFFF;\n",
              "    }\n",
              "  </style>\n",
              "\n",
              "      <script>\n",
              "        const buttonEl =\n",
              "          document.querySelector('#df-15241895-634c-48c3-90ce-2c6d7daeb23a button.colab-df-convert');\n",
              "        buttonEl.style.display =\n",
              "          google.colab.kernel.accessAllowed ? 'block' : 'none';\n",
              "\n",
              "        async function convertToInteractive(key) {\n",
              "          const element = document.querySelector('#df-15241895-634c-48c3-90ce-2c6d7daeb23a');\n",
              "          const dataTable =\n",
              "            await google.colab.kernel.invokeFunction('convertToInteractive',\n",
              "                                                     [key], {});\n",
              "          if (!dataTable) return;\n",
              "\n",
              "          const docLinkHtml = 'Like what you see? Visit the ' +\n",
              "            '<a target=\"_blank\" href=https://colab.research.google.com/notebooks/data_table.ipynb>data table notebook</a>'\n",
              "            + ' to learn more about interactive tables.';\n",
              "          element.innerHTML = '';\n",
              "          dataTable['output_type'] = 'display_data';\n",
              "          await google.colab.output.renderOutput(dataTable, element);\n",
              "          const docLink = document.createElement('div');\n",
              "          docLink.innerHTML = docLinkHtml;\n",
              "          element.appendChild(docLink);\n",
              "        }\n",
              "      </script>\n",
              "    </div>\n",
              "  </div>\n",
              "  "
            ]
          },
          "metadata": {},
          "execution_count": 23
        }
      ]
    },
    {
      "cell_type": "markdown",
      "source": [
        "Checked what is the minimum and maximum prize at the year end."
      ],
      "metadata": {
        "id": "FClNgTagXP4S"
      }
    },
    {
      "cell_type": "markdown",
      "source": [
        "We can check how quartley the price is varying. Since we have only 3 months of data, only one record."
      ],
      "metadata": {
        "id": "QknrGpnbYf8V"
      }
    },
    {
      "cell_type": "code",
      "source": [
        "df.resample(rule='QS').min()['High']"
      ],
      "metadata": {
        "colab": {
          "base_uri": "https://localhost:8080/"
        },
        "id": "T2TqjECAXY5B",
        "outputId": "18547317-77c9-42c7-948c-27b59b96d0d0"
      },
      "execution_count": 24,
      "outputs": [
        {
          "output_type": "execute_result",
          "data": {
            "text/plain": [
              "Datetime\n",
              "2022-07-01    34074.75\n",
              "Freq: QS-JAN, Name: High, dtype: float64"
            ]
          },
          "metadata": {},
          "execution_count": 24
        }
      ]
    },
    {
      "cell_type": "code",
      "source": [
        "df.resample(rule='QS').min()['High'].plot()"
      ],
      "metadata": {
        "colab": {
          "base_uri": "https://localhost:8080/",
          "height": 357
        },
        "id": "kHfZp5zqY3_X",
        "outputId": "2a719578-47a0-4a9a-ee38-6b5e231fd74c"
      },
      "execution_count": 25,
      "outputs": [
        {
          "output_type": "stream",
          "name": "stderr",
          "text": [
            "/usr/local/lib/python3.7/dist-packages/pandas/plotting/_matplotlib/core.py:1200: UserWarning: Attempting to set identical left == right == 210.0 results in singular transformations; automatically expanding.\n",
            "  ax.set_xlim(left, right)\n"
          ]
        },
        {
          "output_type": "execute_result",
          "data": {
            "text/plain": [
              "<matplotlib.axes._subplots.AxesSubplot at 0x7fb18bbf86d0>"
            ]
          },
          "metadata": {},
          "execution_count": 25
        },
        {
          "output_type": "display_data",
          "data": {
            "text/plain": [
              "<Figure size 432x288 with 1 Axes>"
            ],
            "image/png": "[encoded data removed]"
          },
          "metadata": {
            "needs_background": "light"
          }
        }
      ]
    },
    {
      "cell_type": "code",
      "source": [
        "df.resample(rule='QS').max()['High']"
      ],
      "metadata": {
        "colab": {
          "base_uri": "https://localhost:8080/"
        },
        "id": "bwA_i-H0Y_Xj",
        "outputId": "bba4e012-eef2-40dc-c130-5cd821e5275a"
      },
      "execution_count": 26,
      "outputs": [
        {
          "output_type": "execute_result",
          "data": {
            "text/plain": [
              "Datetime\n",
              "2022-07-01    41830.351562\n",
              "Freq: QS-JAN, Name: High, dtype: float64"
            ]
          },
          "metadata": {},
          "execution_count": 26
        }
      ]
    },
    {
      "cell_type": "markdown",
      "source": [
        "Business End Frequency"
      ],
      "metadata": {
        "id": "WSv5epUgZF0O"
      }
    },
    {
      "cell_type": "code",
      "source": [
        "df.resample(rule='BA').max()['High']"
      ],
      "metadata": {
        "colab": {
          "base_uri": "https://localhost:8080/"
        },
        "id": "HcUD-_YAboAS",
        "outputId": "d2a2bae6-6a4c-442f-c49b-865b6abed34c"
      },
      "execution_count": 27,
      "outputs": [
        {
          "output_type": "execute_result",
          "data": {
            "text/plain": [
              "Datetime\n",
              "2022-12-30    41830.351562\n",
              "Freq: BA-DEC, Name: High, dtype: float64"
            ]
          },
          "metadata": {},
          "execution_count": 27
        }
      ]
    },
    {
      "cell_type": "markdown",
      "source": [
        "Business End Frequency quartley"
      ],
      "metadata": {
        "id": "lkzjxRfKdFAe"
      }
    },
    {
      "cell_type": "code",
      "source": [
        "df.resample(rule='BQS').max()['High']"
      ],
      "metadata": {
        "colab": {
          "base_uri": "https://localhost:8080/"
        },
        "id": "IjxRKqklZDde",
        "outputId": "2737cb93-c854-4f68-d649-73371edfa638"
      },
      "execution_count": 28,
      "outputs": [
        {
          "output_type": "execute_result",
          "data": {
            "text/plain": [
              "Datetime\n",
              "2022-07-01    41830.351562\n",
              "Freq: BQS-JAN, Name: High, dtype: float64"
            ]
          },
          "metadata": {},
          "execution_count": 28
        }
      ]
    },
    {
      "cell_type": "markdown",
      "source": [
        "**Fetching the maximum price from lastday of Month**"
      ],
      "metadata": {
        "id": "T20LLjnGb-z3"
      }
    },
    {
      "cell_type": "code",
      "source": [
        "df['Open'].resample(rule='M').max()"
      ],
      "metadata": {
        "colab": {
          "base_uri": "https://localhost:8080/"
        },
        "id": "F_IXNzgyabXb",
        "outputId": "1c80ac2e-585f-460a-cf14-ee1a21ba0ad1"
      },
      "execution_count": 29,
      "outputs": [
        {
          "output_type": "execute_result",
          "data": {
            "text/plain": [
              "Datetime\n",
              "2022-07-31    37717.300781\n",
              "2022-08-31    39732.648438\n",
              "2022-09-30    41795.851562\n",
              "Freq: M, Name: Open, dtype: float64"
            ]
          },
          "metadata": {},
          "execution_count": 29
        }
      ]
    },
    {
      "cell_type": "code",
      "source": [
        "df.resample(rule='M').max().plot(kind='bar',figsize=(15,6))"
      ],
      "metadata": {
        "colab": {
          "base_uri": "https://localhost:8080/",
          "height": 497
        },
        "id": "3WGUwLVwdlG6",
        "outputId": "b2372819-b085-4d74-b2ca-87644f55c574"
      },
      "execution_count": 30,
      "outputs": [
        {
          "output_type": "execute_result",
          "data": {
            "text/plain": [
              "<matplotlib.axes._subplots.AxesSubplot at 0x7fb18bb3b3d0>"
            ]
          },
          "metadata": {},
          "execution_count": 30
        },
        {
          "output_type": "display_data",
          "data": {
            "text/plain": [
              "<Figure size 1080x432 with 1 Axes>"
            ],
            "image/png": "[encoded data removed]"
          },
          "metadata": {
            "needs_background": "light"
          }
        }
      ]
    },
    {
      "cell_type": "code",
      "source": [
        "df['Open'].resample(rule='M').max().plot(kind='bar',figsize=(15,6))"
      ],
      "metadata": {
        "colab": {
          "base_uri": "https://localhost:8080/",
          "height": 497
        },
        "id": "JlPiukuLcSC_",
        "outputId": "1ed0f6a8-1ed8-45f8-df46-828c03388348"
      },
      "execution_count": 31,
      "outputs": [
        {
          "output_type": "execute_result",
          "data": {
            "text/plain": [
              "<matplotlib.axes._subplots.AxesSubplot at 0x7fb18ba6de90>"
            ]
          },
          "metadata": {},
          "execution_count": 31
        },
        {
          "output_type": "display_data",
          "data": {
            "text/plain": [
              "<Figure size 1080x432 with 1 Axes>"
            ],
            "image/png": "[encoded data removed]"
          },
          "metadata": {
            "needs_background": "light"
          }
        }
      ]
    },
    {
      "cell_type": "markdown",
      "source": [
        "**Fetching the minimum price from lastday of Month**"
      ],
      "metadata": {
        "id": "K0P2paCOdK93"
      }
    },
    {
      "cell_type": "code",
      "source": [
        "df['Open'].resample(rule='M').min()"
      ],
      "metadata": {
        "colab": {
          "base_uri": "https://localhost:8080/"
        },
        "id": "LR-_pBmTc0M2",
        "outputId": "0226c20f-867e-4089-e420-2ff02d93870f"
      },
      "execution_count": 32,
      "outputs": [
        {
          "output_type": "execute_result",
          "data": {
            "text/plain": [
              "Datetime\n",
              "2022-07-31    33929.398438\n",
              "2022-08-31    37349.550781\n",
              "2022-09-30    37428.148438\n",
              "Freq: M, Name: Open, dtype: float64"
            ]
          },
          "metadata": {},
          "execution_count": 32
        }
      ]
    },
    {
      "cell_type": "code",
      "source": [
        "df.resample(rule='M').max().plot(kind='bar',figsize=(15,6))"
      ],
      "metadata": {
        "colab": {
          "base_uri": "https://localhost:8080/",
          "height": 497
        },
        "id": "HgkZ0wsxc4L0",
        "outputId": "483de603-c8ab-40b9-8a43-0f0c4286f620"
      },
      "execution_count": 33,
      "outputs": [
        {
          "output_type": "execute_result",
          "data": {
            "text/plain": [
              "<matplotlib.axes._subplots.AxesSubplot at 0x7fb18ccc2790>"
            ]
          },
          "metadata": {},
          "execution_count": 33
        },
        {
          "output_type": "display_data",
          "data": {
            "text/plain": [
              "<Figure size 1080x432 with 1 Axes>"
            ],
            "image/png": "[encoded data removed]"
          },
          "metadata": {
            "needs_background": "light"
          }
        }
      ]
    },
    {
      "cell_type": "markdown",
      "source": [
        "**Fetching the maximum price from begining of Month**"
      ],
      "metadata": {
        "id": "Suo5AmRHyF-W"
      }
    },
    {
      "cell_type": "code",
      "source": [
        "df.resample(rule='MS').max()"
      ],
      "metadata": {
        "colab": {
          "base_uri": "https://localhost:8080/",
          "height": 175
        },
        "id": "0znkEiokz0kV",
        "outputId": "3ba96a77-40f0-4f35-a989-1d7330062433"
      },
      "execution_count": 34,
      "outputs": [
        {
          "output_type": "execute_result",
          "data": {
            "text/plain": [
              "                    Open          High           Low         Close  \\\n",
              "Datetime                                                             \n",
              "2022-07-01  37717.300781  37737.898438  37665.550781  37696.898438   \n",
              "2022-08-01  39732.648438  39750.898438  39663.398438  39680.199219   \n",
              "2022-09-01  41795.851562  41830.351562  41766.300781  41788.199219   \n",
              "\n",
              "               Adj Close  \n",
              "Datetime                  \n",
              "2022-07-01  37696.898438  \n",
              "2022-08-01  39680.199219  \n",
              "2022-09-01  41788.199219  "
            ],
            "text/html": [
              "\n",
              "  <div id=\"df-8402bde3-18b2-4066-8539-279d3ebcb2de\">\n",
              "    <div class=\"colab-df-container\">\n",
              "      <div>\n",
              "<style scoped>\n",
              "    .dataframe tbody tr th:only-of-type {\n",
              "        vertical-align: middle;\n",
              "    }\n",
              "\n",
              "    .dataframe tbody tr th {\n",
              "        vertical-align: top;\n",
              "    }\n",
              "\n",
              "    .dataframe thead th {\n",
              "        text-align: right;\n",
              "    }\n",
              "</style>\n",
              "<table border=\"1\" class=\"dataframe\">\n",
              "  <thead>\n",
              "    <tr style=\"text-align: right;\">\n",
              "      <th></th>\n",
              "      <th>Open</th>\n",
              "      <th>High</th>\n",
              "      <th>Low</th>\n",
              "      <th>Close</th>\n",
              "      <th>Adj Close</th>\n",
              "    </tr>\n",
              "    <tr>\n",
              "      <th>Datetime</th>\n",
              "      <th></th>\n",
              "      <th></th>\n",
              "      <th></th>\n",
              "      <th></th>\n",
              "      <th></th>\n",
              "    </tr>\n",
              "  </thead>\n",
              "  <tbody>\n",
              "    <tr>\n",
              "      <th>2022-07-01</th>\n",
              "      <td>37717.300781</td>\n",
              "      <td>37737.898438</td>\n",
              "      <td>37665.550781</td>\n",
              "      <td>37696.898438</td>\n",
              "      <td>37696.898438</td>\n",
              "    </tr>\n",
              "    <tr>\n",
              "      <th>2022-08-01</th>\n",
              "      <td>39732.648438</td>\n",
              "      <td>39750.898438</td>\n",
              "      <td>39663.398438</td>\n",
              "      <td>39680.199219</td>\n",
              "      <td>39680.199219</td>\n",
              "    </tr>\n",
              "    <tr>\n",
              "      <th>2022-09-01</th>\n",
              "      <td>41795.851562</td>\n",
              "      <td>41830.351562</td>\n",
              "      <td>41766.300781</td>\n",
              "      <td>41788.199219</td>\n",
              "      <td>41788.199219</td>\n",
              "    </tr>\n",
              "  </tbody>\n",
              "</table>\n",
              "</div>\n",
              "      <button class=\"colab-df-convert\" onclick=\"convertToInteractive('df-8402bde3-18b2-4066-8539-279d3ebcb2de')\"\n",
              "              title=\"Convert this dataframe to an interactive table.\"\n",
              "              style=\"display:none;\">\n",
              "        \n",
              "  <svg xmlns=\"http://www.w3.org/2000/svg\" height=\"24px\"viewBox=\"0 0 24 24\"\n",
              "       width=\"24px\">\n",
              "    <path d=\"M0 0h24v24H0V0z\" fill=\"none\"/>\n",
              "    <path d=\"M18.56 5.44l.94 2.06.94-2.06 2.06-.94-2.06-.94-.94-2.06-.94 2.06-2.06.94zm-11 1L8.5 8.5l.94-2.06 2.06-.94-2.06-.94L8.5 2.5l-.94 2.06-2.06.94zm10 10l.94 2.06.94-2.06 2.06-.94-2.06-.94-.94-2.06-.94 2.06-2.06.94z\"/><path d=\"M17.41 7.96l-1.37-1.37c-.4-.4-.92-.59-1.43-.59-.52 0-1.04.2-1.43.59L10.3 9.45l-7.72 7.72c-.78.78-.78 2.05 0 2.83L4 21.41c.39.39.9.59 1.41.59.51 0 1.02-.2 1.41-.59l7.78-7.78 2.81-2.81c.8-.78.8-2.07 0-2.86zM5.41 20L4 18.59l7.72-7.72 1.47 1.35L5.41 20z\"/>\n",
              "  </svg>\n",
              "      </button>\n",
              "      \n",
              "  <style>\n",
              "    .colab-df-container {\n",
              "      display:flex;\n",
              "      flex-wrap:wrap;\n",
              "      gap: 12px;\n",
              "    }\n",
              "\n",
              "    .colab-df-convert {\n",
              "      background-color: #E8F0FE;\n",
              "      border: none;\n",
              "      border-radius: 50%;\n",
              "      cursor: pointer;\n",
              "      display: none;\n",
              "      fill: #1967D2;\n",
              "      height: 32px;\n",
              "      padding: 0 0 0 0;\n",
              "      width: 32px;\n",
              "    }\n",
              "\n",
              "    .colab-df-convert:hover {\n",
              "      background-color: #E2EBFA;\n",
              "      box-shadow: 0px 1px 2px rgba(60, 64, 67, 0.3), 0px 1px 3px 1px rgba(60, 64, 67, 0.15);\n",
              "      fill: #174EA6;\n",
              "    }\n",
              "\n",
              "    [theme=dark] .colab-df-convert {\n",
              "      background-color: #3B4455;\n",
              "      fill: #D2E3FC;\n",
              "    }\n",
              "\n",
              "    [theme=dark] .colab-df-convert:hover {\n",
              "      background-color: #434B5C;\n",
              "      box-shadow: 0px 1px 3px 1px rgba(0, 0, 0, 0.15);\n",
              "      filter: drop-shadow(0px 1px 2px rgba(0, 0, 0, 0.3));\n",
              "      fill: #FFFFFF;\n",
              "    }\n",
              "  </style>\n",
              "\n",
              "      <script>\n",
              "        const buttonEl =\n",
              "          document.querySelector('#df-8402bde3-18b2-4066-8539-279d3ebcb2de button.colab-df-convert');\n",
              "        buttonEl.style.display =\n",
              "          google.colab.kernel.accessAllowed ? 'block' : 'none';\n",
              "\n",
              "        async function convertToInteractive(key) {\n",
              "          const element = document.querySelector('#df-8402bde3-18b2-4066-8539-279d3ebcb2de');\n",
              "          const dataTable =\n",
              "            await google.colab.kernel.invokeFunction('convertToInteractive',\n",
              "                                                     [key], {});\n",
              "          if (!dataTable) return;\n",
              "\n",
              "          const docLinkHtml = 'Like what you see? Visit the ' +\n",
              "            '<a target=\"_blank\" href=https://colab.research.google.com/notebooks/data_table.ipynb>data table notebook</a>'\n",
              "            + ' to learn more about interactive tables.';\n",
              "          element.innerHTML = '';\n",
              "          dataTable['output_type'] = 'display_data';\n",
              "          await google.colab.output.renderOutput(dataTable, element);\n",
              "          const docLink = document.createElement('div');\n",
              "          docLink.innerHTML = docLinkHtml;\n",
              "          element.appendChild(docLink);\n",
              "        }\n",
              "      </script>\n",
              "    </div>\n",
              "  </div>\n",
              "  "
            ]
          },
          "metadata": {},
          "execution_count": 34
        }
      ]
    },
    {
      "cell_type": "code",
      "source": [
        "df.resample(rule='MS').max().plot(kind='bar',figsize=(15,6))"
      ],
      "metadata": {
        "colab": {
          "base_uri": "https://localhost:8080/",
          "height": 497
        },
        "id": "nEfwzgzTyFNV",
        "outputId": "8b87f48d-2599-457f-ece0-3f48cd008732"
      },
      "execution_count": 35,
      "outputs": [
        {
          "output_type": "execute_result",
          "data": {
            "text/plain": [
              "<matplotlib.axes._subplots.AxesSubplot at 0x7fb18bf19190>"
            ]
          },
          "metadata": {},
          "execution_count": 35
        },
        {
          "output_type": "display_data",
          "data": {
            "text/plain": [
              "<Figure size 1080x432 with 1 Axes>"
            ],
            "image/png": "[encoded data removed]"
          },
          "metadata": {
            "needs_background": "light"
          }
        }
      ]
    },
    {
      "cell_type": "markdown",
      "source": [
        "Reference: https://towardsdatascience.com/resample-function-of-pandas-79b17ec82a78\n"
      ],
      "metadata": {
        "id": "UYdxi-hy0LqS"
      }
    },
    {
      "cell_type": "markdown",
      "source": [
        "**Simple Moving Average**"
      ],
      "metadata": {
        "id": "ug2h_PeuQHFs"
      }
    },
    {
      "cell_type": "code",
      "source": [
        "df['Open:10 days rolling']=df['Open'].rolling(10).mean()"
      ],
      "metadata": {
        "id": "cq1fxaIsM2X_"
      },
      "execution_count": 36,
      "outputs": []
    },
    {
      "cell_type": "code",
      "source": [
        "df.head(20)"
      ],
      "metadata": {
        "colab": {
          "base_uri": "https://localhost:8080/",
          "height": 708
        },
        "id": "Zu6KmfFBNE2R",
        "outputId": "102bae88-f9e9-4e83-8062-b97fd364f21d"
      },
      "execution_count": 37,
      "outputs": [
        {
          "output_type": "execute_result",
          "data": {
            "text/plain": [
              "                    Open          High           Low         Close  \\\n",
              "Datetime                                                             \n",
              "2022-07-06  33929.398438  34091.250000  33916.101562  34023.648438   \n",
              "2022-07-06  34022.050781  34132.898438  34022.050781  34129.148438   \n",
              "2022-07-06  34127.601562  34158.000000  34107.148438  34143.449219   \n",
              "2022-07-06  34137.601562  34155.101562  34096.250000  34120.199219   \n",
              "2022-07-06  34119.750000  34135.699219  34092.000000  34092.000000   \n",
              "2022-07-06  34093.550781  34102.050781  33988.800781  33992.148438   \n",
              "2022-07-06  33997.500000  34107.148438  33962.851562  34107.148438   \n",
              "2022-07-06  34108.699219  34138.800781  34098.250000  34117.101562   \n",
              "2022-07-06  34118.300781  34122.648438  34051.000000  34060.300781   \n",
              "2022-07-06  34060.000000  34074.750000  34044.101562  34066.101562   \n",
              "2022-07-06  34065.898438  34101.949219  34037.750000  34086.148438   \n",
              "2022-07-06  34086.949219  34098.601562  34063.250000  34096.449219   \n",
              "2022-07-06  34098.199219  34098.199219  34068.648438  34079.101562   \n",
              "2022-07-06  34079.101562  34088.550781  34061.148438  34082.351562   \n",
              "2022-07-06  34083.148438  34125.601562  34083.148438  34113.300781   \n",
              "2022-07-06  34113.949219  34145.199219  34090.250000  34106.449219   \n",
              "2022-07-06  34107.699219  34141.101562  34095.000000  34130.148438   \n",
              "2022-07-06  34132.101562  34159.648438  34119.250000  34154.949219   \n",
              "2022-07-06  34155.550781  34219.648438  34149.851562  34218.550781   \n",
              "2022-07-06  34218.101562  34253.148438  34203.750000  34225.148438   \n",
              "\n",
              "               Adj Close  Open:10 days rolling  \n",
              "Datetime                                        \n",
              "2022-07-06  34023.648438                   NaN  \n",
              "2022-07-06  34129.148438                   NaN  \n",
              "2022-07-06  34143.449219                   NaN  \n",
              "2022-07-06  34120.199219                   NaN  \n",
              "2022-07-06  34092.000000                   NaN  \n",
              "2022-07-06  33992.148438                   NaN  \n",
              "2022-07-06  34107.148438                   NaN  \n",
              "2022-07-06  34117.101562                   NaN  \n",
              "2022-07-06  34060.300781                   NaN  \n",
              "2022-07-06  34066.101562          34071.445312  \n",
              "2022-07-06  34086.148438          34085.095313  \n",
              "2022-07-06  34096.449219          34091.585156  \n",
              "2022-07-06  34079.101562          34088.644922  \n",
              "2022-07-06  34082.351562          34082.794922  \n",
              "2022-07-06  34113.300781          34079.134766  \n",
              "2022-07-06  34106.449219          34081.174609  \n",
              "2022-07-06  34130.148438          34092.194531  \n",
              "2022-07-06  34154.949219          34094.534766  \n",
              "2022-07-06  34218.550781          34098.259766  \n",
              "2022-07-06  34225.148438          34114.069922  "
            ],
            "text/html": [
              "\n",
              "  <div id=\"df-38a6bfe0-e10f-46c4-966d-b1cd89b36e90\">\n",
              "    <div class=\"colab-df-container\">\n",
              "      <div>\n",
              "<style scoped>\n",
              "    .dataframe tbody tr th:only-of-type {\n",
              "        vertical-align: middle;\n",
              "    }\n",
              "\n",
              "    .dataframe tbody tr th {\n",
              "        vertical-align: top;\n",
              "    }\n",
              "\n",
              "    .dataframe thead th {\n",
              "        text-align: right;\n",
              "    }\n",
              "</style>\n",
              "<table border=\"1\" class=\"dataframe\">\n",
              "  <thead>\n",
              "    <tr style=\"text-align: right;\">\n",
              "      <th></th>\n",
              "      <th>Open</th>\n",
              "      <th>High</th>\n",
              "      <th>Low</th>\n",
              "      <th>Close</th>\n",
              "      <th>Adj Close</th>\n",
              "      <th>Open:10 days rolling</th>\n",
              "    </tr>\n",
              "    <tr>\n",
              "      <th>Datetime</th>\n",
              "      <th></th>\n",
              "      <th></th>\n",
              "      <th></th>\n",
              "      <th></th>\n",
              "      <th></th>\n",
              "      <th></th>\n",
              "    </tr>\n",
              "  </thead>\n",
              "  <tbody>\n",
              "    <tr>\n",
              "      <th>2022-07-06</th>\n",
              "      <td>33929.398438</td>\n",
              "      <td>34091.250000</td>\n",
              "      <td>33916.101562</td>\n",
              "      <td>34023.648438</td>\n",
              "      <td>34023.648438</td>\n",
              "      <td>NaN</td>\n",
              "    </tr>\n",
              "    <tr>\n",
              "      <th>2022-07-06</th>\n",
              "      <td>34022.050781</td>\n",
              "      <td>34132.898438</td>\n",
              "      <td>34022.050781</td>\n",
              "      <td>34129.148438</td>\n",
              "      <td>34129.148438</td>\n",
              "      <td>NaN</td>\n",
              "    </tr>\n",
              "    <tr>\n",
              "      <th>2022-07-06</th>\n",
              "      <td>34127.601562</td>\n",
              "      <td>34158.000000</td>\n",
              "      <td>34107.148438</td>\n",
              "      <td>34143.449219</td>\n",
              "      <td>34143.449219</td>\n",
              "      <td>NaN</td>\n",
              "    </tr>\n",
              "    <tr>\n",
              "      <th>2022-07-06</th>\n",
              "      <td>34137.601562</td>\n",
              "      <td>34155.101562</td>\n",
              "      <td>34096.250000</td>\n",
              "      <td>34120.199219</td>\n",
              "      <td>34120.199219</td>\n",
              "      <td>NaN</td>\n",
              "    </tr>\n",
              "    <tr>\n",
              "      <th>2022-07-06</th>\n",
              "      <td>34119.750000</td>\n",
              "      <td>34135.699219</td>\n",
              "      <td>34092.000000</td>\n",
              "      <td>34092.000000</td>\n",
              "      <td>34092.000000</td>\n",
              "      <td>NaN</td>\n",
              "    </tr>\n",
              "    <tr>\n",
              "      <th>2022-07-06</th>\n",
              "      <td>34093.550781</td>\n",
              "      <td>34102.050781</td>\n",
              "      <td>33988.800781</td>\n",
              "      <td>33992.148438</td>\n",
              "      <td>33992.148438</td>\n",
              "      <td>NaN</td>\n",
              "    </tr>\n",
              "    <tr>\n",
              "      <th>2022-07-06</th>\n",
              "      <td>33997.500000</td>\n",
              "      <td>34107.148438</td>\n",
              "      <td>33962.851562</td>\n",
              "      <td>34107.148438</td>\n",
              "      <td>34107.148438</td>\n",
              "      <td>NaN</td>\n",
              "    </tr>\n",
              "    <tr>\n",
              "      <th>2022-07-06</th>\n",
              "      <td>34108.699219</td>\n",
              "      <td>34138.800781</td>\n",
              "      <td>34098.250000</td>\n",
              "      <td>34117.101562</td>\n",
              "      <td>34117.101562</td>\n",
              "      <td>NaN</td>\n",
              "    </tr>\n",
              "    <tr>\n",
              "      <th>2022-07-06</th>\n",
              "      <td>34118.300781</td>\n",
              "      <td>34122.648438</td>\n",
              "      <td>34051.000000</td>\n",
              "      <td>34060.300781</td>\n",
              "      <td>34060.300781</td>\n",
              "      <td>NaN</td>\n",
              "    </tr>\n",
              "    <tr>\n",
              "      <th>2022-07-06</th>\n",
              "      <td>34060.000000</td>\n",
              "      <td>34074.750000</td>\n",
              "      <td>34044.101562</td>\n",
              "      <td>34066.101562</td>\n",
              "      <td>34066.101562</td>\n",
              "      <td>34071.445312</td>\n",
              "    </tr>\n",
              "    <tr>\n",
              "      <th>2022-07-06</th>\n",
              "      <td>34065.898438</td>\n",
              "      <td>34101.949219</td>\n",
              "      <td>34037.750000</td>\n",
              "      <td>34086.148438</td>\n",
              "      <td>34086.148438</td>\n",
              "      <td>34085.095313</td>\n",
              "    </tr>\n",
              "    <tr>\n",
              "      <th>2022-07-06</th>\n",
              "      <td>34086.949219</td>\n",
              "      <td>34098.601562</td>\n",
              "      <td>34063.250000</td>\n",
              "      <td>34096.449219</td>\n",
              "      <td>34096.449219</td>\n",
              "      <td>34091.585156</td>\n",
              "    </tr>\n",
              "    <tr>\n",
              "      <th>2022-07-06</th>\n",
              "      <td>34098.199219</td>\n",
              "      <td>34098.199219</td>\n",
              "      <td>34068.648438</td>\n",
              "      <td>34079.101562</td>\n",
              "      <td>34079.101562</td>\n",
              "      <td>34088.644922</td>\n",
              "    </tr>\n",
              "    <tr>\n",
              "      <th>2022-07-06</th>\n",
              "      <td>34079.101562</td>\n",
              "      <td>34088.550781</td>\n",
              "      <td>34061.148438</td>\n",
              "      <td>34082.351562</td>\n",
              "      <td>34082.351562</td>\n",
              "      <td>34082.794922</td>\n",
              "    </tr>\n",
              "    <tr>\n",
              "      <th>2022-07-06</th>\n",
              "      <td>34083.148438</td>\n",
              "      <td>34125.601562</td>\n",
              "      <td>34083.148438</td>\n",
              "      <td>34113.300781</td>\n",
              "      <td>34113.300781</td>\n",
              "      <td>34079.134766</td>\n",
              "    </tr>\n",
              "    <tr>\n",
              "      <th>2022-07-06</th>\n",
              "      <td>34113.949219</td>\n",
              "      <td>34145.199219</td>\n",
              "      <td>34090.250000</td>\n",
              "      <td>34106.449219</td>\n",
              "      <td>34106.449219</td>\n",
              "      <td>34081.174609</td>\n",
              "    </tr>\n",
              "    <tr>\n",
              "      <th>2022-07-06</th>\n",
              "      <td>34107.699219</td>\n",
              "      <td>34141.101562</td>\n",
              "      <td>34095.000000</td>\n",
              "      <td>34130.148438</td>\n",
              "      <td>34130.148438</td>\n",
              "      <td>34092.194531</td>\n",
              "    </tr>\n",
              "    <tr>\n",
              "      <th>2022-07-06</th>\n",
              "      <td>34132.101562</td>\n",
              "      <td>34159.648438</td>\n",
              "      <td>34119.250000</td>\n",
              "      <td>34154.949219</td>\n",
              "      <td>34154.949219</td>\n",
              "      <td>34094.534766</td>\n",
              "    </tr>\n",
              "    <tr>\n",
              "      <th>2022-07-06</th>\n",
              "      <td>34155.550781</td>\n",
              "      <td>34219.648438</td>\n",
              "      <td>34149.851562</td>\n",
              "      <td>34218.550781</td>\n",
              "      <td>34218.550781</td>\n",
              "      <td>34098.259766</td>\n",
              "    </tr>\n",
              "    <tr>\n",
              "      <th>2022-07-06</th>\n",
              "      <td>34218.101562</td>\n",
              "      <td>34253.148438</td>\n",
              "      <td>34203.750000</td>\n",
              "      <td>34225.148438</td>\n",
              "      <td>34225.148438</td>\n",
              "      <td>34114.069922</td>\n",
              "    </tr>\n",
              "  </tbody>\n",
              "</table>\n",
              "</div>\n",
              "      <button class=\"colab-df-convert\" onclick=\"convertToInteractive('df-38a6bfe0-e10f-46c4-966d-b1cd89b36e90')\"\n",
              "              title=\"Convert this dataframe to an interactive table.\"\n",
              "              style=\"display:none;\">\n",
              "        \n",
              "  <svg xmlns=\"http://www.w3.org/2000/svg\" height=\"24px\"viewBox=\"0 0 24 24\"\n",
              "       width=\"24px\">\n",
              "    <path d=\"M0 0h24v24H0V0z\" fill=\"none\"/>\n",
              "    <path d=\"M18.56 5.44l.94 2.06.94-2.06 2.06-.94-2.06-.94-.94-2.06-.94 2.06-2.06.94zm-11 1L8.5 8.5l.94-2.06 2.06-.94-2.06-.94L8.5 2.5l-.94 2.06-2.06.94zm10 10l.94 2.06.94-2.06 2.06-.94-2.06-.94-.94-2.06-.94 2.06-2.06.94z\"/><path d=\"M17.41 7.96l-1.37-1.37c-.4-.4-.92-.59-1.43-.59-.52 0-1.04.2-1.43.59L10.3 9.45l-7.72 7.72c-.78.78-.78 2.05 0 2.83L4 21.41c.39.39.9.59 1.41.59.51 0 1.02-.2 1.41-.59l7.78-7.78 2.81-2.81c.8-.78.8-2.07 0-2.86zM5.41 20L4 18.59l7.72-7.72 1.47 1.35L5.41 20z\"/>\n",
              "  </svg>\n",
              "      </button>\n",
              "      \n",
              "  <style>\n",
              "    .colab-df-container {\n",
              "      display:flex;\n",
              "      flex-wrap:wrap;\n",
              "      gap: 12px;\n",
              "    }\n",
              "\n",
              "    .colab-df-convert {\n",
              "      background-color: #E8F0FE;\n",
              "      border: none;\n",
              "      border-radius: 50%;\n",
              "      cursor: pointer;\n",
              "      display: none;\n",
              "      fill: #1967D2;\n",
              "      height: 32px;\n",
              "      padding: 0 0 0 0;\n",
              "      width: 32px;\n",
              "    }\n",
              "\n",
              "    .colab-df-convert:hover {\n",
              "      background-color: #E2EBFA;\n",
              "      box-shadow: 0px 1px 2px rgba(60, 64, 67, 0.3), 0px 1px 3px 1px rgba(60, 64, 67, 0.15);\n",
              "      fill: #174EA6;\n",
              "    }\n",
              "\n",
              "    [theme=dark] .colab-df-convert {\n",
              "      background-color: #3B4455;\n",
              "      fill: #D2E3FC;\n",
              "    }\n",
              "\n",
              "    [theme=dark] .colab-df-convert:hover {\n",
              "      background-color: #434B5C;\n",
              "      box-shadow: 0px 1px 3px 1px rgba(0, 0, 0, 0.15);\n",
              "      filter: drop-shadow(0px 1px 2px rgba(0, 0, 0, 0.3));\n",
              "      fill: #FFFFFF;\n",
              "    }\n",
              "  </style>\n",
              "\n",
              "      <script>\n",
              "        const buttonEl =\n",
              "          document.querySelector('#df-38a6bfe0-e10f-46c4-966d-b1cd89b36e90 button.colab-df-convert');\n",
              "        buttonEl.style.display =\n",
              "          google.colab.kernel.accessAllowed ? 'block' : 'none';\n",
              "\n",
              "        async function convertToInteractive(key) {\n",
              "          const element = document.querySelector('#df-38a6bfe0-e10f-46c4-966d-b1cd89b36e90');\n",
              "          const dataTable =\n",
              "            await google.colab.kernel.invokeFunction('convertToInteractive',\n",
              "                                                     [key], {});\n",
              "          if (!dataTable) return;\n",
              "\n",
              "          const docLinkHtml = 'Like what you see? Visit the ' +\n",
              "            '<a target=\"_blank\" href=https://colab.research.google.com/notebooks/data_table.ipynb>data table notebook</a>'\n",
              "            + ' to learn more about interactive tables.';\n",
              "          element.innerHTML = '';\n",
              "          dataTable['output_type'] = 'display_data';\n",
              "          await google.colab.output.renderOutput(dataTable, element);\n",
              "          const docLink = document.createElement('div');\n",
              "          docLink.innerHTML = docLinkHtml;\n",
              "          element.appendChild(docLink);\n",
              "        }\n",
              "      </script>\n",
              "    </div>\n",
              "  </div>\n",
              "  "
            ]
          },
          "metadata": {},
          "execution_count": 37
        }
      ]
    },
    {
      "cell_type": "code",
      "source": [
        "df[['Open','Open:10 days rolling']].plot(figsize=(12,5))"
      ],
      "metadata": {
        "colab": {
          "base_uri": "https://localhost:8080/",
          "height": 360
        },
        "id": "AtqnoKOVNMRY",
        "outputId": "1f39cc8e-6494-4208-c4e2-fdfaeeb3136a"
      },
      "execution_count": 38,
      "outputs": [
        {
          "output_type": "execute_result",
          "data": {
            "text/plain": [
              "<matplotlib.axes._subplots.AxesSubplot at 0x7fb18b8fb210>"
            ]
          },
          "metadata": {},
          "execution_count": 38
        },
        {
          "output_type": "display_data",
          "data": {
            "text/plain": [
              "<Figure size 864x360 with 1 Axes>"
            ],
            "image/png": "[encoded data removed]"
          },
          "metadata": {
            "needs_background": "light"
          }
        }
      ]
    },
    {
      "cell_type": "code",
      "source": [
        "df['Open:30 days rolling']=df['Open'].rolling(30).mean()"
      ],
      "metadata": {
        "id": "SLdCJf61cv7c"
      },
      "execution_count": 41,
      "outputs": []
    },
    {
      "cell_type": "code",
      "source": [
        "df.head(33)"
      ],
      "metadata": {
        "colab": {
          "base_uri": "https://localhost:8080/",
          "height": 1000
        },
        "id": "YsY46NCTc2P_",
        "outputId": "f90c29a3-26ff-4e67-d504-56a71b55b9db"
      },
      "execution_count": 42,
      "outputs": [
        {
          "output_type": "execute_result",
          "data": {
            "text/plain": [
              "                    Open          High           Low         Close  \\\n",
              "Datetime                                                             \n",
              "2022-07-06  33929.398438  34091.250000  33916.101562  34023.648438   \n",
              "2022-07-06  34022.050781  34132.898438  34022.050781  34129.148438   \n",
              "2022-07-06  34127.601562  34158.000000  34107.148438  34143.449219   \n",
              "2022-07-06  34137.601562  34155.101562  34096.250000  34120.199219   \n",
              "2022-07-06  34119.750000  34135.699219  34092.000000  34092.000000   \n",
              "2022-07-06  34093.550781  34102.050781  33988.800781  33992.148438   \n",
              "2022-07-06  33997.500000  34107.148438  33962.851562  34107.148438   \n",
              "2022-07-06  34108.699219  34138.800781  34098.250000  34117.101562   \n",
              "2022-07-06  34118.300781  34122.648438  34051.000000  34060.300781   \n",
              "2022-07-06  34060.000000  34074.750000  34044.101562  34066.101562   \n",
              "2022-07-06  34065.898438  34101.949219  34037.750000  34086.148438   \n",
              "2022-07-06  34086.949219  34098.601562  34063.250000  34096.449219   \n",
              "2022-07-06  34098.199219  34098.199219  34068.648438  34079.101562   \n",
              "2022-07-06  34079.101562  34088.550781  34061.148438  34082.351562   \n",
              "2022-07-06  34083.148438  34125.601562  34083.148438  34113.300781   \n",
              "2022-07-06  34113.949219  34145.199219  34090.250000  34106.449219   \n",
              "2022-07-06  34107.699219  34141.101562  34095.000000  34130.148438   \n",
              "2022-07-06  34132.101562  34159.648438  34119.250000  34154.949219   \n",
              "2022-07-06  34155.550781  34219.648438  34149.851562  34218.550781   \n",
              "2022-07-06  34218.101562  34253.148438  34203.750000  34225.148438   \n",
              "2022-07-06  34226.101562  34232.000000  34190.550781  34205.500000   \n",
              "2022-07-06  34206.800781  34215.148438  34182.699219  34203.050781   \n",
              "2022-07-06  34203.351562  34211.000000  34158.601562  34163.050781   \n",
              "2022-07-06  34159.449219  34190.300781  34149.601562  34177.050781   \n",
              "2022-07-06  34178.550781  34218.101562  34178.550781  34194.949219   \n",
              "2022-07-06  34196.250000  34211.300781  34172.250000  34177.949219   \n",
              "2022-07-06  34179.148438  34188.699219  34150.351562  34153.351562   \n",
              "2022-07-06  34152.000000  34152.898438  34081.550781  34081.550781   \n",
              "2022-07-06  34082.500000  34110.601562  34069.898438  34082.300781   \n",
              "2022-07-06  34082.851562  34131.648438  34079.500000  34113.101562   \n",
              "2022-07-06  34109.750000  34133.949219  34101.898438  34131.449219   \n",
              "2022-07-06  34129.148438  34142.648438  34101.148438  34127.800781   \n",
              "2022-07-06  34125.148438  34139.699219  34115.300781  34137.199219   \n",
              "\n",
              "               Adj Close  Open:10 days rolling  Open:30 days rolling  \n",
              "Datetime                                                              \n",
              "2022-07-06  34023.648438                   NaN                   NaN  \n",
              "2022-07-06  34129.148438                   NaN                   NaN  \n",
              "2022-07-06  34143.449219                   NaN                   NaN  \n",
              "2022-07-06  34120.199219                   NaN                   NaN  \n",
              "2022-07-06  34092.000000                   NaN                   NaN  \n",
              "2022-07-06  33992.148438                   NaN                   NaN  \n",
              "2022-07-06  34107.148438                   NaN                   NaN  \n",
              "2022-07-06  34117.101562                   NaN                   NaN  \n",
              "2022-07-06  34060.300781                   NaN                   NaN  \n",
              "2022-07-06  34066.101562          34071.445312                   NaN  \n",
              "2022-07-06  34086.148438          34085.095313                   NaN  \n",
              "2022-07-06  34096.449219          34091.585156                   NaN  \n",
              "2022-07-06  34079.101562          34088.644922                   NaN  \n",
              "2022-07-06  34082.351562          34082.794922                   NaN  \n",
              "2022-07-06  34113.300781          34079.134766                   NaN  \n",
              "2022-07-06  34106.449219          34081.174609                   NaN  \n",
              "2022-07-06  34130.148438          34092.194531                   NaN  \n",
              "2022-07-06  34154.949219          34094.534766                   NaN  \n",
              "2022-07-06  34218.550781          34098.259766                   NaN  \n",
              "2022-07-06  34225.148438          34114.069922                   NaN  \n",
              "2022-07-06  34205.500000          34130.090234                   NaN  \n",
              "2022-07-06  34203.050781          34142.075391                   NaN  \n",
              "2022-07-06  34163.050781          34152.590625                   NaN  \n",
              "2022-07-06  34177.050781          34160.625391                   NaN  \n",
              "2022-07-06  34194.949219          34170.165625                   NaN  \n",
              "2022-07-06  34177.949219          34178.395703                   NaN  \n",
              "2022-07-06  34153.351562          34185.540625                   NaN  \n",
              "2022-07-06  34081.550781          34187.530469                   NaN  \n",
              "2022-07-06  34082.300781          34180.225391                   NaN  \n",
              "2022-07-06  34113.101562          34166.700391          34117.405208  \n",
              "2022-07-06  34131.449219          34155.065234          34123.416927  \n",
              "2022-07-06  34127.800781          34147.300000          34126.986849  \n",
              "2022-07-06  34137.199219          34139.479688          34126.905078  "
            ],
            "text/html": [
              "\n",
              "  <div id=\"df-95c96512-ea61-4088-96f0-ea4b4884aae8\">\n",
              "    <div class=\"colab-df-container\">\n",
              "      <div>\n",
              "<style scoped>\n",
              "    .dataframe tbody tr th:only-of-type {\n",
              "        vertical-align: middle;\n",
              "    }\n",
              "\n",
              "    .dataframe tbody tr th {\n",
              "        vertical-align: top;\n",
              "    }\n",
              "\n",
              "    .dataframe thead th {\n",
              "        text-align: right;\n",
              "    }\n",
              "</style>\n",
              "<table border=\"1\" class=\"dataframe\">\n",
              "  <thead>\n",
              "    <tr style=\"text-align: right;\">\n",
              "      <th></th>\n",
              "      <th>Open</th>\n",
              "      <th>High</th>\n",
              "      <th>Low</th>\n",
              "      <th>Close</th>\n",
              "      <th>Adj Close</th>\n",
              "      <th>Open:10 days rolling</th>\n",
              "      <th>Open:30 days rolling</th>\n",
              "    </tr>\n",
              "    <tr>\n",
              "      <th>Datetime</th>\n",
              "      <th></th>\n",
              "      <th></th>\n",
              "      <th></th>\n",
              "      <th></th>\n",
              "      <th></th>\n",
              "      <th></th>\n",
              "      <th></th>\n",
              "    </tr>\n",
              "  </thead>\n",
              "  <tbody>\n",
              "    <tr>\n",
              "      <th>2022-07-06</th>\n",
              "      <td>33929.398438</td>\n",
              "      <td>34091.250000</td>\n",
              "      <td>33916.101562</td>\n",
              "      <td>34023.648438</td>\n",
              "      <td>34023.648438</td>\n",
              "      <td>NaN</td>\n",
              "      <td>NaN</td>\n",
              "    </tr>\n",
              "    <tr>\n",
              "      <th>2022-07-06</th>\n",
              "      <td>34022.050781</td>\n",
              "      <td>34132.898438</td>\n",
              "      <td>34022.050781</td>\n",
              "      <td>34129.148438</td>\n",
              "      <td>34129.148438</td>\n",
              "      <td>NaN</td>\n",
              "      <td>NaN</td>\n",
              "    </tr>\n",
              "    <tr>\n",
              "      <th>2022-07-06</th>\n",
              "      <td>34127.601562</td>\n",
              "      <td>34158.000000</td>\n",
              "      <td>34107.148438</td>\n",
              "      <td>34143.449219</td>\n",
              "      <td>34143.449219</td>\n",
              "      <td>NaN</td>\n",
              "      <td>NaN</td>\n",
              "    </tr>\n",
              "    <tr>\n",
              "      <th>2022-07-06</th>\n",
              "      <td>34137.601562</td>\n",
              "      <td>34155.101562</td>\n",
              "      <td>34096.250000</td>\n",
              "      <td>34120.199219</td>\n",
              "      <td>34120.199219</td>\n",
              "      <td>NaN</td>\n",
              "      <td>NaN</td>\n",
              "    </tr>\n",
              "    <tr>\n",
              "      <th>2022-07-06</th>\n",
              "      <td>34119.750000</td>\n",
              "      <td>34135.699219</td>\n",
              "      <td>34092.000000</td>\n",
              "      <td>34092.000000</td>\n",
              "      <td>34092.000000</td>\n",
              "      <td>NaN</td>\n",
              "      <td>NaN</td>\n",
              "    </tr>\n",
              "    <tr>\n",
              "      <th>2022-07-06</th>\n",
              "      <td>34093.550781</td>\n",
              "      <td>34102.050781</td>\n",
              "      <td>33988.800781</td>\n",
              "      <td>33992.148438</td>\n",
              "      <td>33992.148438</td>\n",
              "      <td>NaN</td>\n",
              "      <td>NaN</td>\n",
              "    </tr>\n",
              "    <tr>\n",
              "      <th>2022-07-06</th>\n",
              "      <td>33997.500000</td>\n",
              "      <td>34107.148438</td>\n",
              "      <td>33962.851562</td>\n",
              "      <td>34107.148438</td>\n",
              "      <td>34107.148438</td>\n",
              "      <td>NaN</td>\n",
              "      <td>NaN</td>\n",
              "    </tr>\n",
              "    <tr>\n",
              "      <th>2022-07-06</th>\n",
              "      <td>34108.699219</td>\n",
              "      <td>34138.800781</td>\n",
              "      <td>34098.250000</td>\n",
              "      <td>34117.101562</td>\n",
              "      <td>34117.101562</td>\n",
              "      <td>NaN</td>\n",
              "      <td>NaN</td>\n",
              "    </tr>\n",
              "    <tr>\n",
              "      <th>2022-07-06</th>\n",
              "      <td>34118.300781</td>\n",
              "      <td>34122.648438</td>\n",
              "      <td>34051.000000</td>\n",
              "      <td>34060.300781</td>\n",
              "      <td>34060.300781</td>\n",
              "      <td>NaN</td>\n",
              "      <td>NaN</td>\n",
              "    </tr>\n",
              "    <tr>\n",
              "      <th>2022-07-06</th>\n",
              "      <td>34060.000000</td>\n",
              "      <td>34074.750000</td>\n",
              "      <td>34044.101562</td>\n",
              "      <td>34066.101562</td>\n",
              "      <td>34066.101562</td>\n",
              "      <td>34071.445312</td>\n",
              "      <td>NaN</td>\n",
              "    </tr>\n",
              "    <tr>\n",
              "      <th>2022-07-06</th>\n",
              "      <td>34065.898438</td>\n",
              "      <td>34101.949219</td>\n",
              "      <td>34037.750000</td>\n",
              "      <td>34086.148438</td>\n",
              "      <td>34086.148438</td>\n",
              "      <td>34085.095313</td>\n",
              "      <td>NaN</td>\n",
              "    </tr>\n",
              "    <tr>\n",
              "      <th>2022-07-06</th>\n",
              "      <td>34086.949219</td>\n",
              "      <td>34098.601562</td>\n",
              "      <td>34063.250000</td>\n",
              "      <td>34096.449219</td>\n",
              "      <td>34096.449219</td>\n",
              "      <td>34091.585156</td>\n",
              "      <td>NaN</td>\n",
              "    </tr>\n",
              "    <tr>\n",
              "      <th>2022-07-06</th>\n",
              "      <td>34098.199219</td>\n",
              "      <td>34098.199219</td>\n",
              "      <td>34068.648438</td>\n",
              "      <td>34079.101562</td>\n",
              "      <td>34079.101562</td>\n",
              "      <td>34088.644922</td>\n",
              "      <td>NaN</td>\n",
              "    </tr>\n",
              "    <tr>\n",
              "      <th>2022-07-06</th>\n",
              "      <td>34079.101562</td>\n",
              "      <td>34088.550781</td>\n",
              "      <td>34061.148438</td>\n",
              "      <td>34082.351562</td>\n",
              "      <td>34082.351562</td>\n",
              "      <td>34082.794922</td>\n",
              "      <td>NaN</td>\n",
              "    </tr>\n",
              "    <tr>\n",
              "      <th>2022-07-06</th>\n",
              "      <td>34083.148438</td>\n",
              "      <td>34125.601562</td>\n",
              "      <td>34083.148438</td>\n",
              "      <td>34113.300781</td>\n",
              "      <td>34113.300781</td>\n",
              "      <td>34079.134766</td>\n",
              "      <td>NaN</td>\n",
              "    </tr>\n",
              "    <tr>\n",
              "      <th>2022-07-06</th>\n",
              "      <td>34113.949219</td>\n",
              "      <td>34145.199219</td>\n",
              "      <td>34090.250000</td>\n",
              "      <td>34106.449219</td>\n",
              "      <td>34106.449219</td>\n",
              "      <td>34081.174609</td>\n",
              "      <td>NaN</td>\n",
              "    </tr>\n",
              "    <tr>\n",
              "      <th>2022-07-06</th>\n",
              "      <td>34107.699219</td>\n",
              "      <td>34141.101562</td>\n",
              "      <td>34095.000000</td>\n",
              "      <td>34130.148438</td>\n",
              "      <td>34130.148438</td>\n",
              "      <td>34092.194531</td>\n",
              "      <td>NaN</td>\n",
              "    </tr>\n",
              "    <tr>\n",
              "      <th>2022-07-06</th>\n",
              "      <td>34132.101562</td>\n",
              "      <td>34159.648438</td>\n",
              "      <td>34119.250000</td>\n",
              "      <td>34154.949219</td>\n",
              "      <td>34154.949219</td>\n",
              "      <td>34094.534766</td>\n",
              "      <td>NaN</td>\n",
              "    </tr>\n",
              "    <tr>\n",
              "      <th>2022-07-06</th>\n",
              "      <td>34155.550781</td>\n",
              "      <td>34219.648438</td>\n",
              "      <td>34149.851562</td>\n",
              "      <td>34218.550781</td>\n",
              "      <td>34218.550781</td>\n",
              "      <td>34098.259766</td>\n",
              "      <td>NaN</td>\n",
              "    </tr>\n",
              "    <tr>\n",
              "      <th>2022-07-06</th>\n",
              "      <td>34218.101562</td>\n",
              "      <td>34253.148438</td>\n",
              "      <td>34203.750000</td>\n",
              "      <td>34225.148438</td>\n",
              "      <td>34225.148438</td>\n",
              "      <td>34114.069922</td>\n",
              "      <td>NaN</td>\n",
              "    </tr>\n",
              "    <tr>\n",
              "      <th>2022-07-06</th>\n",
              "      <td>34226.101562</td>\n",
              "      <td>34232.000000</td>\n",
              "      <td>34190.550781</td>\n",
              "      <td>34205.500000</td>\n",
              "      <td>34205.500000</td>\n",
              "      <td>34130.090234</td>\n",
              "      <td>NaN</td>\n",
              "    </tr>\n",
              "    <tr>\n",
              "      <th>2022-07-06</th>\n",
              "      <td>34206.800781</td>\n",
              "      <td>34215.148438</td>\n",
              "      <td>34182.699219</td>\n",
              "      <td>34203.050781</td>\n",
              "      <td>34203.050781</td>\n",
              "      <td>34142.075391</td>\n",
              "      <td>NaN</td>\n",
              "    </tr>\n",
              "    <tr>\n",
              "      <th>2022-07-06</th>\n",
              "      <td>34203.351562</td>\n",
              "      <td>34211.000000</td>\n",
              "      <td>34158.601562</td>\n",
              "      <td>34163.050781</td>\n",
              "      <td>34163.050781</td>\n",
              "      <td>34152.590625</td>\n",
              "      <td>NaN</td>\n",
              "    </tr>\n",
              "    <tr>\n",
              "      <th>2022-07-06</th>\n",
              "      <td>34159.449219</td>\n",
              "      <td>34190.300781</td>\n",
              "      <td>34149.601562</td>\n",
              "      <td>34177.050781</td>\n",
              "      <td>34177.050781</td>\n",
              "      <td>34160.625391</td>\n",
              "      <td>NaN</td>\n",
              "    </tr>\n",
              "    <tr>\n",
              "      <th>2022-07-06</th>\n",
              "      <td>34178.550781</td>\n",
              "      <td>34218.101562</td>\n",
              "      <td>34178.550781</td>\n",
              "      <td>34194.949219</td>\n",
              "      <td>34194.949219</td>\n",
              "      <td>34170.165625</td>\n",
              "      <td>NaN</td>\n",
              "    </tr>\n",
              "    <tr>\n",
              "      <th>2022-07-06</th>\n",
              "      <td>34196.250000</td>\n",
              "      <td>34211.300781</td>\n",
              "      <td>34172.250000</td>\n",
              "      <td>34177.949219</td>\n",
              "      <td>34177.949219</td>\n",
              "      <td>34178.395703</td>\n",
              "      <td>NaN</td>\n",
              "    </tr>\n",
              "    <tr>\n",
              "      <th>2022-07-06</th>\n",
              "      <td>34179.148438</td>\n",
              "      <td>34188.699219</td>\n",
              "      <td>34150.351562</td>\n",
              "      <td>34153.351562</td>\n",
              "      <td>34153.351562</td>\n",
              "      <td>34185.540625</td>\n",
              "      <td>NaN</td>\n",
              "    </tr>\n",
              "    <tr>\n",
              "      <th>2022-07-06</th>\n",
              "      <td>34152.000000</td>\n",
              "      <td>34152.898438</td>\n",
              "      <td>34081.550781</td>\n",
              "      <td>34081.550781</td>\n",
              "      <td>34081.550781</td>\n",
              "      <td>34187.530469</td>\n",
              "      <td>NaN</td>\n",
              "    </tr>\n",
              "    <tr>\n",
              "      <th>2022-07-06</th>\n",
              "      <td>34082.500000</td>\n",
              "      <td>34110.601562</td>\n",
              "      <td>34069.898438</td>\n",
              "      <td>34082.300781</td>\n",
              "      <td>34082.300781</td>\n",
              "      <td>34180.225391</td>\n",
              "      <td>NaN</td>\n",
              "    </tr>\n",
              "    <tr>\n",
              "      <th>2022-07-06</th>\n",
              "      <td>34082.851562</td>\n",
              "      <td>34131.648438</td>\n",
              "      <td>34079.500000</td>\n",
              "      <td>34113.101562</td>\n",
              "      <td>34113.101562</td>\n",
              "      <td>34166.700391</td>\n",
              "      <td>34117.405208</td>\n",
              "    </tr>\n",
              "    <tr>\n",
              "      <th>2022-07-06</th>\n",
              "      <td>34109.750000</td>\n",
              "      <td>34133.949219</td>\n",
              "      <td>34101.898438</td>\n",
              "      <td>34131.449219</td>\n",
              "      <td>34131.449219</td>\n",
              "      <td>34155.065234</td>\n",
              "      <td>34123.416927</td>\n",
              "    </tr>\n",
              "    <tr>\n",
              "      <th>2022-07-06</th>\n",
              "      <td>34129.148438</td>\n",
              "      <td>34142.648438</td>\n",
              "      <td>34101.148438</td>\n",
              "      <td>34127.800781</td>\n",
              "      <td>34127.800781</td>\n",
              "      <td>34147.300000</td>\n",
              "      <td>34126.986849</td>\n",
              "    </tr>\n",
              "    <tr>\n",
              "      <th>2022-07-06</th>\n",
              "      <td>34125.148438</td>\n",
              "      <td>34139.699219</td>\n",
              "      <td>34115.300781</td>\n",
              "      <td>34137.199219</td>\n",
              "      <td>34137.199219</td>\n",
              "      <td>34139.479688</td>\n",
              "      <td>34126.905078</td>\n",
              "    </tr>\n",
              "  </tbody>\n",
              "</table>\n",
              "</div>\n",
              "      <button class=\"colab-df-convert\" onclick=\"convertToInteractive('df-95c96512-ea61-4088-96f0-ea4b4884aae8')\"\n",
              "              title=\"Convert this dataframe to an interactive table.\"\n",
              "              style=\"display:none;\">\n",
              "        \n",
              "  <svg xmlns=\"http://www.w3.org/2000/svg\" height=\"24px\"viewBox=\"0 0 24 24\"\n",
              "       width=\"24px\">\n",
              "    <path d=\"M0 0h24v24H0V0z\" fill=\"none\"/>\n",
              "    <path d=\"M18.56 5.44l.94 2.06.94-2.06 2.06-.94-2.06-.94-.94-2.06-.94 2.06-2.06.94zm-11 1L8.5 8.5l.94-2.06 2.06-.94-2.06-.94L8.5 2.5l-.94 2.06-2.06.94zm10 10l.94 2.06.94-2.06 2.06-.94-2.06-.94-.94-2.06-.94 2.06-2.06.94z\"/><path d=\"M17.41 7.96l-1.37-1.37c-.4-.4-.92-.59-1.43-.59-.52 0-1.04.2-1.43.59L10.3 9.45l-7.72 7.72c-.78.78-.78 2.05 0 2.83L4 21.41c.39.39.9.59 1.41.59.51 0 1.02-.2 1.41-.59l7.78-7.78 2.81-2.81c.8-.78.8-2.07 0-2.86zM5.41 20L4 18.59l7.72-7.72 1.47 1.35L5.41 20z\"/>\n",
              "  </svg>\n",
              "      </button>\n",
              "      \n",
              "  <style>\n",
              "    .colab-df-container {\n",
              "      display:flex;\n",
              "      flex-wrap:wrap;\n",
              "      gap: 12px;\n",
              "    }\n",
              "\n",
              "    .colab-df-convert {\n",
              "      background-color: #E8F0FE;\n",
              "      border: none;\n",
              "      border-radius: 50%;\n",
              "      cursor: pointer;\n",
              "      display: none;\n",
              "      fill: #1967D2;\n",
              "      height: 32px;\n",
              "      padding: 0 0 0 0;\n",
              "      width: 32px;\n",
              "    }\n",
              "\n",
              "    .colab-df-convert:hover {\n",
              "      background-color: #E2EBFA;\n",
              "      box-shadow: 0px 1px 2px rgba(60, 64, 67, 0.3), 0px 1px 3px 1px rgba(60, 64, 67, 0.15);\n",
              "      fill: #174EA6;\n",
              "    }\n",
              "\n",
              "    [theme=dark] .colab-df-convert {\n",
              "      background-color: #3B4455;\n",
              "      fill: #D2E3FC;\n",
              "    }\n",
              "\n",
              "    [theme=dark] .colab-df-convert:hover {\n",
              "      background-color: #434B5C;\n",
              "      box-shadow: 0px 1px 3px 1px rgba(0, 0, 0, 0.15);\n",
              "      filter: drop-shadow(0px 1px 2px rgba(0, 0, 0, 0.3));\n",
              "      fill: #FFFFFF;\n",
              "    }\n",
              "  </style>\n",
              "\n",
              "      <script>\n",
              "        const buttonEl =\n",
              "          document.querySelector('#df-95c96512-ea61-4088-96f0-ea4b4884aae8 button.colab-df-convert');\n",
              "        buttonEl.style.display =\n",
              "          google.colab.kernel.accessAllowed ? 'block' : 'none';\n",
              "\n",
              "        async function convertToInteractive(key) {\n",
              "          const element = document.querySelector('#df-95c96512-ea61-4088-96f0-ea4b4884aae8');\n",
              "          const dataTable =\n",
              "            await google.colab.kernel.invokeFunction('convertToInteractive',\n",
              "                                                     [key], {});\n",
              "          if (!dataTable) return;\n",
              "\n",
              "          const docLinkHtml = 'Like what you see? Visit the ' +\n",
              "            '<a target=\"_blank\" href=https://colab.research.google.com/notebooks/data_table.ipynb>data table notebook</a>'\n",
              "            + ' to learn more about interactive tables.';\n",
              "          element.innerHTML = '';\n",
              "          dataTable['output_type'] = 'display_data';\n",
              "          await google.colab.output.renderOutput(dataTable, element);\n",
              "          const docLink = document.createElement('div');\n",
              "          docLink.innerHTML = docLinkHtml;\n",
              "          element.appendChild(docLink);\n",
              "        }\n",
              "      </script>\n",
              "    </div>\n",
              "  </div>\n",
              "  "
            ]
          },
          "metadata": {},
          "execution_count": 42
        }
      ]
    },
    {
      "cell_type": "code",
      "source": [
        "df[['Open','Open:30 days rolling']].plot(figsize=(12,5))"
      ],
      "metadata": {
        "colab": {
          "base_uri": "https://localhost:8080/",
          "height": 360
        },
        "id": "jC25FBlFcn0Q",
        "outputId": "24b55e0d-e7fb-424c-beac-f7c1081225bb"
      },
      "execution_count": 43,
      "outputs": [
        {
          "output_type": "execute_result",
          "data": {
            "text/plain": [
              "<matplotlib.axes._subplots.AxesSubplot at 0x7fb18aa227d0>"
            ]
          },
          "metadata": {},
          "execution_count": 43
        },
        {
          "output_type": "display_data",
          "data": {
            "text/plain": [
              "<Figure size 864x360 with 1 Axes>"
            ],
            "image/png": "[encoded data removed]"
          },
          "metadata": {
            "needs_background": "light"
          }
        }
      ]
    },
    {
      "cell_type": "code",
      "source": [
        "df[['Open','Open:10 days rolling','Open:30 days rolling']].plot(figsize=(12,5))"
      ],
      "metadata": {
        "colab": {
          "base_uri": "https://localhost:8080/",
          "height": 360
        },
        "id": "HJZu28emcQtO",
        "outputId": "c8b108ee-6af2-43ba-84ba-35283b20c999"
      },
      "execution_count": 44,
      "outputs": [
        {
          "output_type": "execute_result",
          "data": {
            "text/plain": [
              "<matplotlib.axes._subplots.AxesSubplot at 0x7fb18a919410>"
            ]
          },
          "metadata": {},
          "execution_count": 44
        },
        {
          "output_type": "display_data",
          "data": {
            "text/plain": [
              "<Figure size 864x360 with 1 Axes>"
            ],
            "image/png": "[encoded data removed]"
          },
          "metadata": {
            "needs_background": "light"
          }
        }
      ]
    },
    {
      "cell_type": "markdown",
      "source": [
        "MITO is one of the widely use Auto EDA tool which will be specificall used for Finacial Data and stock market data.\n",
        "\n",
        "Exception: The mitosheet currently only works in JupyterLab.\n",
        "\n",
        "\n",
        "!pip install mitoinstaller\n",
        "!pip install mitosheet\n",
        "import mitosheet"
      ],
      "metadata": {
        "id": "3f2hoXeH36FG"
      }
    }
  ]
}