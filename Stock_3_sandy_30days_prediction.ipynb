{
  "nbformat": 4,
  "nbformat_minor": 0,
  "metadata": {
    "colab": {
      "provenance": [],
      "collapsed_sections": [],
      "include_colab_link": true
    },
    "kernelspec": {
      "name": "python3",
      "display_name": "Python 3"
    },
    "language_info": {
      "name": "python"
    }
  },
  "cells": [
    {
      "cell_type": "markdown",
      "metadata": {
        "id": "view-in-github",
        "colab_type": "text"
      },
      "source": [
        "<a href=\"https://colab.research.google.com/github/sarkar2527/DSAP/blob/main/Stock_3_sandy_30days_prediction.ipynb\" target=\"_parent\"><img src=\"https://colab.research.google.com/assets/colab-badge.svg\" alt=\"Open In Colab\"/></a>"
      ]
    },
    {
      "cell_type": "code",
      "execution_count": 1,
      "metadata": {
        "colab": {
          "base_uri": "https://localhost:8080/"
        },
        "id": "w2NjmXRlu6ag",
        "outputId": "679bfebe-0e29-47ae-eb37-7b2a0584cdf2"
      },
      "outputs": [
        {
          "output_type": "stream",
          "name": "stdout",
          "text": [
            "Mounted at /content/drive\n"
          ]
        }
      ],
      "source": [
        "from google.colab import drive\n",
        "drive.mount('/content/drive')"
      ]
    },
    {
      "cell_type": "code",
      "source": [
        "#Importing the neccessary Libraries\n",
        "import numpy as np\n",
        "import pandas as pd\n",
        "import matplotlib.pyplot as plt\n",
        "import seaborn as sns\n",
        "sns.set()\n",
        "%matplotlib inline"
      ],
      "metadata": {
        "id": "TVSN0MDavy7h"
      },
      "execution_count": 2,
      "outputs": []
    },
    {
      "cell_type": "code",
      "source": [
        "df = pd.read_csv(\"/content/drive/MyDrive/GL_Project_Sandy/Banknifty_5m_data_1_oct.csv\")"
      ],
      "metadata": {
        "id": "JImu79g5v046"
      },
      "execution_count": 3,
      "outputs": []
    },
    {
      "cell_type": "code",
      "source": [
        "df.shape"
      ],
      "metadata": {
        "colab": {
          "base_uri": "https://localhost:8080/"
        },
        "id": "TbjlzNfbxDtn",
        "outputId": "fbd09d00-851c-422f-9e13-79bc77013272"
      },
      "execution_count": 4,
      "outputs": [
        {
          "output_type": "execute_result",
          "data": {
            "text/plain": [
              "(4499, 7)"
            ]
          },
          "metadata": {},
          "execution_count": 4
        }
      ]
    },
    {
      "cell_type": "code",
      "source": [
        "df.head()"
      ],
      "metadata": {
        "colab": {
          "base_uri": "https://localhost:8080/",
          "height": 206
        },
        "id": "yi6k6BDcU3Ru",
        "outputId": "b0f955a9-33e6-4aa3-8706-6986f8b9018d"
      },
      "execution_count": 5,
      "outputs": [
        {
          "output_type": "execute_result",
          "data": {
            "text/plain": [
              "                    Datetime          Open          High           Low  \\\n",
              "0  2022-07-06 09:15:00+05:30  33929.398438  34091.250000  33916.101562   \n",
              "1  2022-07-06 09:20:00+05:30  34022.050781  34132.898438  34022.050781   \n",
              "2  2022-07-06 09:25:00+05:30  34127.601562  34158.000000  34107.148438   \n",
              "3  2022-07-06 09:30:00+05:30  34137.601562  34155.101562  34096.250000   \n",
              "4  2022-07-06 09:35:00+05:30  34119.750000  34135.699219  34092.000000   \n",
              "\n",
              "          Close     Adj Close  Volume  \n",
              "0  34023.648438  34023.648438       0  \n",
              "1  34129.148438  34129.148438       0  \n",
              "2  34143.449219  34143.449219       0  \n",
              "3  34120.199219  34120.199219       0  \n",
              "4  34092.000000  34092.000000       0  "
            ],
            "text/html": [
              "\n",
              "  <div id=\"df-f7355653-8b54-49bf-a9ce-477a2d49fa41\">\n",
              "    <div class=\"colab-df-container\">\n",
              "      <div>\n",
              "<style scoped>\n",
              "    .dataframe tbody tr th:only-of-type {\n",
              "        vertical-align: middle;\n",
              "    }\n",
              "\n",
              "    .dataframe tbody tr th {\n",
              "        vertical-align: top;\n",
              "    }\n",
              "\n",
              "    .dataframe thead th {\n",
              "        text-align: right;\n",
              "    }\n",
              "</style>\n",
              "<table border=\"1\" class=\"dataframe\">\n",
              "  <thead>\n",
              "    <tr style=\"text-align: right;\">\n",
              "      <th></th>\n",
              "      <th>Datetime</th>\n",
              "      <th>Open</th>\n",
              "      <th>High</th>\n",
              "      <th>Low</th>\n",
              "      <th>Close</th>\n",
              "      <th>Adj Close</th>\n",
              "      <th>Volume</th>\n",
              "    </tr>\n",
              "  </thead>\n",
              "  <tbody>\n",
              "    <tr>\n",
              "      <th>0</th>\n",
              "      <td>2022-07-06 09:15:00+05:30</td>\n",
              "      <td>33929.398438</td>\n",
              "      <td>34091.250000</td>\n",
              "      <td>33916.101562</td>\n",
              "      <td>34023.648438</td>\n",
              "      <td>34023.648438</td>\n",
              "      <td>0</td>\n",
              "    </tr>\n",
              "    <tr>\n",
              "      <th>1</th>\n",
              "      <td>2022-07-06 09:20:00+05:30</td>\n",
              "      <td>34022.050781</td>\n",
              "      <td>34132.898438</td>\n",
              "      <td>34022.050781</td>\n",
              "      <td>34129.148438</td>\n",
              "      <td>34129.148438</td>\n",
              "      <td>0</td>\n",
              "    </tr>\n",
              "    <tr>\n",
              "      <th>2</th>\n",
              "      <td>2022-07-06 09:25:00+05:30</td>\n",
              "      <td>34127.601562</td>\n",
              "      <td>34158.000000</td>\n",
              "      <td>34107.148438</td>\n",
              "      <td>34143.449219</td>\n",
              "      <td>34143.449219</td>\n",
              "      <td>0</td>\n",
              "    </tr>\n",
              "    <tr>\n",
              "      <th>3</th>\n",
              "      <td>2022-07-06 09:30:00+05:30</td>\n",
              "      <td>34137.601562</td>\n",
              "      <td>34155.101562</td>\n",
              "      <td>34096.250000</td>\n",
              "      <td>34120.199219</td>\n",
              "      <td>34120.199219</td>\n",
              "      <td>0</td>\n",
              "    </tr>\n",
              "    <tr>\n",
              "      <th>4</th>\n",
              "      <td>2022-07-06 09:35:00+05:30</td>\n",
              "      <td>34119.750000</td>\n",
              "      <td>34135.699219</td>\n",
              "      <td>34092.000000</td>\n",
              "      <td>34092.000000</td>\n",
              "      <td>34092.000000</td>\n",
              "      <td>0</td>\n",
              "    </tr>\n",
              "  </tbody>\n",
              "</table>\n",
              "</div>\n",
              "      <button class=\"colab-df-convert\" onclick=\"convertToInteractive('df-f7355653-8b54-49bf-a9ce-477a2d49fa41')\"\n",
              "              title=\"Convert this dataframe to an interactive table.\"\n",
              "              style=\"display:none;\">\n",
              "        \n",
              "  <svg xmlns=\"http://www.w3.org/2000/svg\" height=\"24px\"viewBox=\"0 0 24 24\"\n",
              "       width=\"24px\">\n",
              "    <path d=\"M0 0h24v24H0V0z\" fill=\"none\"/>\n",
              "    <path d=\"M18.56 5.44l.94 2.06.94-2.06 2.06-.94-2.06-.94-.94-2.06-.94 2.06-2.06.94zm-11 1L8.5 8.5l.94-2.06 2.06-.94-2.06-.94L8.5 2.5l-.94 2.06-2.06.94zm10 10l.94 2.06.94-2.06 2.06-.94-2.06-.94-.94-2.06-.94 2.06-2.06.94z\"/><path d=\"M17.41 7.96l-1.37-1.37c-.4-.4-.92-.59-1.43-.59-.52 0-1.04.2-1.43.59L10.3 9.45l-7.72 7.72c-.78.78-.78 2.05 0 2.83L4 21.41c.39.39.9.59 1.41.59.51 0 1.02-.2 1.41-.59l7.78-7.78 2.81-2.81c.8-.78.8-2.07 0-2.86zM5.41 20L4 18.59l7.72-7.72 1.47 1.35L5.41 20z\"/>\n",
              "  </svg>\n",
              "      </button>\n",
              "      \n",
              "  <style>\n",
              "    .colab-df-container {\n",
              "      display:flex;\n",
              "      flex-wrap:wrap;\n",
              "      gap: 12px;\n",
              "    }\n",
              "\n",
              "    .colab-df-convert {\n",
              "      background-color: #E8F0FE;\n",
              "      border: none;\n",
              "      border-radius: 50%;\n",
              "      cursor: pointer;\n",
              "      display: none;\n",
              "      fill: #1967D2;\n",
              "      height: 32px;\n",
              "      padding: 0 0 0 0;\n",
              "      width: 32px;\n",
              "    }\n",
              "\n",
              "    .colab-df-convert:hover {\n",
              "      background-color: #E2EBFA;\n",
              "      box-shadow: 0px 1px 2px rgba(60, 64, 67, 0.3), 0px 1px 3px 1px rgba(60, 64, 67, 0.15);\n",
              "      fill: #174EA6;\n",
              "    }\n",
              "\n",
              "    [theme=dark] .colab-df-convert {\n",
              "      background-color: #3B4455;\n",
              "      fill: #D2E3FC;\n",
              "    }\n",
              "\n",
              "    [theme=dark] .colab-df-convert:hover {\n",
              "      background-color: #434B5C;\n",
              "      box-shadow: 0px 1px 3px 1px rgba(0, 0, 0, 0.15);\n",
              "      filter: drop-shadow(0px 1px 2px rgba(0, 0, 0, 0.3));\n",
              "      fill: #FFFFFF;\n",
              "    }\n",
              "  </style>\n",
              "\n",
              "      <script>\n",
              "        const buttonEl =\n",
              "          document.querySelector('#df-f7355653-8b54-49bf-a9ce-477a2d49fa41 button.colab-df-convert');\n",
              "        buttonEl.style.display =\n",
              "          google.colab.kernel.accessAllowed ? 'block' : 'none';\n",
              "\n",
              "        async function convertToInteractive(key) {\n",
              "          const element = document.querySelector('#df-f7355653-8b54-49bf-a9ce-477a2d49fa41');\n",
              "          const dataTable =\n",
              "            await google.colab.kernel.invokeFunction('convertToInteractive',\n",
              "                                                     [key], {});\n",
              "          if (!dataTable) return;\n",
              "\n",
              "          const docLinkHtml = 'Like what you see? Visit the ' +\n",
              "            '<a target=\"_blank\" href=https://colab.research.google.com/notebooks/data_table.ipynb>data table notebook</a>'\n",
              "            + ' to learn more about interactive tables.';\n",
              "          element.innerHTML = '';\n",
              "          dataTable['output_type'] = 'display_data';\n",
              "          await google.colab.output.renderOutput(dataTable, element);\n",
              "          const docLink = document.createElement('div');\n",
              "          docLink.innerHTML = docLinkHtml;\n",
              "          element.appendChild(docLink);\n",
              "        }\n",
              "      </script>\n",
              "    </div>\n",
              "  </div>\n",
              "  "
            ]
          },
          "metadata": {},
          "execution_count": 5
        }
      ]
    },
    {
      "cell_type": "code",
      "source": [
        "#df['Date'] = pd.to_datetime(df['Datetime'], errors='coerce')"
      ],
      "metadata": {
        "id": "zEr1ACPjWJG7"
      },
      "execution_count": 9,
      "outputs": []
    },
    {
      "cell_type": "code",
      "source": [
        "#df['Date'] = pd.to_datetime(df['Datetime'])"
      ],
      "metadata": {
        "id": "EBhOpFkiW7Vw"
      },
      "execution_count": 12,
      "outputs": []
    },
    {
      "cell_type": "code",
      "source": [
        "df.head()"
      ],
      "metadata": {
        "colab": {
          "base_uri": "https://localhost:8080/",
          "height": 337
        },
        "id": "rQ8SKT-rWQBK",
        "outputId": "f8ed049f-d0c4-48f2-c1c2-b11a3d1b5b7e"
      },
      "execution_count": 13,
      "outputs": [
        {
          "output_type": "execute_result",
          "data": {
            "text/plain": [
              "                    Datetime          Open          High           Low  \\\n",
              "0  2022-07-06 09:15:00+05:30  33929.398438  34091.250000  33916.101562   \n",
              "1  2022-07-06 09:20:00+05:30  34022.050781  34132.898438  34022.050781   \n",
              "2  2022-07-06 09:25:00+05:30  34127.601562  34158.000000  34107.148438   \n",
              "3  2022-07-06 09:30:00+05:30  34137.601562  34155.101562  34096.250000   \n",
              "4  2022-07-06 09:35:00+05:30  34119.750000  34135.699219  34092.000000   \n",
              "\n",
              "          Close     Adj Close  Volume                      Date  \n",
              "0  34023.648438  34023.648438       0 2022-07-06 09:15:00+05:30  \n",
              "1  34129.148438  34129.148438       0 2022-07-06 09:20:00+05:30  \n",
              "2  34143.449219  34143.449219       0 2022-07-06 09:25:00+05:30  \n",
              "3  34120.199219  34120.199219       0 2022-07-06 09:30:00+05:30  \n",
              "4  34092.000000  34092.000000       0 2022-07-06 09:35:00+05:30  "
            ],
            "text/html": [
              "\n",
              "  <div id=\"df-fdd9b0ce-2bba-4f74-900e-79011f9400cd\">\n",
              "    <div class=\"colab-df-container\">\n",
              "      <div>\n",
              "<style scoped>\n",
              "    .dataframe tbody tr th:only-of-type {\n",
              "        vertical-align: middle;\n",
              "    }\n",
              "\n",
              "    .dataframe tbody tr th {\n",
              "        vertical-align: top;\n",
              "    }\n",
              "\n",
              "    .dataframe thead th {\n",
              "        text-align: right;\n",
              "    }\n",
              "</style>\n",
              "<table border=\"1\" class=\"dataframe\">\n",
              "  <thead>\n",
              "    <tr style=\"text-align: right;\">\n",
              "      <th></th>\n",
              "      <th>Datetime</th>\n",
              "      <th>Open</th>\n",
              "      <th>High</th>\n",
              "      <th>Low</th>\n",
              "      <th>Close</th>\n",
              "      <th>Adj Close</th>\n",
              "      <th>Volume</th>\n",
              "      <th>Date</th>\n",
              "    </tr>\n",
              "  </thead>\n",
              "  <tbody>\n",
              "    <tr>\n",
              "      <th>0</th>\n",
              "      <td>2022-07-06 09:15:00+05:30</td>\n",
              "      <td>33929.398438</td>\n",
              "      <td>34091.250000</td>\n",
              "      <td>33916.101562</td>\n",
              "      <td>34023.648438</td>\n",
              "      <td>34023.648438</td>\n",
              "      <td>0</td>\n",
              "      <td>2022-07-06 09:15:00+05:30</td>\n",
              "    </tr>\n",
              "    <tr>\n",
              "      <th>1</th>\n",
              "      <td>2022-07-06 09:20:00+05:30</td>\n",
              "      <td>34022.050781</td>\n",
              "      <td>34132.898438</td>\n",
              "      <td>34022.050781</td>\n",
              "      <td>34129.148438</td>\n",
              "      <td>34129.148438</td>\n",
              "      <td>0</td>\n",
              "      <td>2022-07-06 09:20:00+05:30</td>\n",
              "    </tr>\n",
              "    <tr>\n",
              "      <th>2</th>\n",
              "      <td>2022-07-06 09:25:00+05:30</td>\n",
              "      <td>34127.601562</td>\n",
              "      <td>34158.000000</td>\n",
              "      <td>34107.148438</td>\n",
              "      <td>34143.449219</td>\n",
              "      <td>34143.449219</td>\n",
              "      <td>0</td>\n",
              "      <td>2022-07-06 09:25:00+05:30</td>\n",
              "    </tr>\n",
              "    <tr>\n",
              "      <th>3</th>\n",
              "      <td>2022-07-06 09:30:00+05:30</td>\n",
              "      <td>34137.601562</td>\n",
              "      <td>34155.101562</td>\n",
              "      <td>34096.250000</td>\n",
              "      <td>34120.199219</td>\n",
              "      <td>34120.199219</td>\n",
              "      <td>0</td>\n",
              "      <td>2022-07-06 09:30:00+05:30</td>\n",
              "    </tr>\n",
              "    <tr>\n",
              "      <th>4</th>\n",
              "      <td>2022-07-06 09:35:00+05:30</td>\n",
              "      <td>34119.750000</td>\n",
              "      <td>34135.699219</td>\n",
              "      <td>34092.000000</td>\n",
              "      <td>34092.000000</td>\n",
              "      <td>34092.000000</td>\n",
              "      <td>0</td>\n",
              "      <td>2022-07-06 09:35:00+05:30</td>\n",
              "    </tr>\n",
              "  </tbody>\n",
              "</table>\n",
              "</div>\n",
              "      <button class=\"colab-df-convert\" onclick=\"convertToInteractive('df-fdd9b0ce-2bba-4f74-900e-79011f9400cd')\"\n",
              "              title=\"Convert this dataframe to an interactive table.\"\n",
              "              style=\"display:none;\">\n",
              "        \n",
              "  <svg xmlns=\"http://www.w3.org/2000/svg\" height=\"24px\"viewBox=\"0 0 24 24\"\n",
              "       width=\"24px\">\n",
              "    <path d=\"M0 0h24v24H0V0z\" fill=\"none\"/>\n",
              "    <path d=\"M18.56 5.44l.94 2.06.94-2.06 2.06-.94-2.06-.94-.94-2.06-.94 2.06-2.06.94zm-11 1L8.5 8.5l.94-2.06 2.06-.94-2.06-.94L8.5 2.5l-.94 2.06-2.06.94zm10 10l.94 2.06.94-2.06 2.06-.94-2.06-.94-.94-2.06-.94 2.06-2.06.94z\"/><path d=\"M17.41 7.96l-1.37-1.37c-.4-.4-.92-.59-1.43-.59-.52 0-1.04.2-1.43.59L10.3 9.45l-7.72 7.72c-.78.78-.78 2.05 0 2.83L4 21.41c.39.39.9.59 1.41.59.51 0 1.02-.2 1.41-.59l7.78-7.78 2.81-2.81c.8-.78.8-2.07 0-2.86zM5.41 20L4 18.59l7.72-7.72 1.47 1.35L5.41 20z\"/>\n",
              "  </svg>\n",
              "      </button>\n",
              "      \n",
              "  <style>\n",
              "    .colab-df-container {\n",
              "      display:flex;\n",
              "      flex-wrap:wrap;\n",
              "      gap: 12px;\n",
              "    }\n",
              "\n",
              "    .colab-df-convert {\n",
              "      background-color: #E8F0FE;\n",
              "      border: none;\n",
              "      border-radius: 50%;\n",
              "      cursor: pointer;\n",
              "      display: none;\n",
              "      fill: #1967D2;\n",
              "      height: 32px;\n",
              "      padding: 0 0 0 0;\n",
              "      width: 32px;\n",
              "    }\n",
              "\n",
              "    .colab-df-convert:hover {\n",
              "      background-color: #E2EBFA;\n",
              "      box-shadow: 0px 1px 2px rgba(60, 64, 67, 0.3), 0px 1px 3px 1px rgba(60, 64, 67, 0.15);\n",
              "      fill: #174EA6;\n",
              "    }\n",
              "\n",
              "    [theme=dark] .colab-df-convert {\n",
              "      background-color: #3B4455;\n",
              "      fill: #D2E3FC;\n",
              "    }\n",
              "\n",
              "    [theme=dark] .colab-df-convert:hover {\n",
              "      background-color: #434B5C;\n",
              "      box-shadow: 0px 1px 3px 1px rgba(0, 0, 0, 0.15);\n",
              "      filter: drop-shadow(0px 1px 2px rgba(0, 0, 0, 0.3));\n",
              "      fill: #FFFFFF;\n",
              "    }\n",
              "  </style>\n",
              "\n",
              "      <script>\n",
              "        const buttonEl =\n",
              "          document.querySelector('#df-fdd9b0ce-2bba-4f74-900e-79011f9400cd button.colab-df-convert');\n",
              "        buttonEl.style.display =\n",
              "          google.colab.kernel.accessAllowed ? 'block' : 'none';\n",
              "\n",
              "        async function convertToInteractive(key) {\n",
              "          const element = document.querySelector('#df-fdd9b0ce-2bba-4f74-900e-79011f9400cd');\n",
              "          const dataTable =\n",
              "            await google.colab.kernel.invokeFunction('convertToInteractive',\n",
              "                                                     [key], {});\n",
              "          if (!dataTable) return;\n",
              "\n",
              "          const docLinkHtml = 'Like what you see? Visit the ' +\n",
              "            '<a target=\"_blank\" href=https://colab.research.google.com/notebooks/data_table.ipynb>data table notebook</a>'\n",
              "            + ' to learn more about interactive tables.';\n",
              "          element.innerHTML = '';\n",
              "          dataTable['output_type'] = 'display_data';\n",
              "          await google.colab.output.renderOutput(dataTable, element);\n",
              "          const docLink = document.createElement('div');\n",
              "          docLink.innerHTML = docLinkHtml;\n",
              "          element.appendChild(docLink);\n",
              "        }\n",
              "      </script>\n",
              "    </div>\n",
              "  </div>\n",
              "  "
            ]
          },
          "metadata": {},
          "execution_count": 13
        }
      ]
    },
    {
      "cell_type": "code",
      "source": [
        "#df['year'] = df['Date'].dt.year\n",
        "#df['month'] = df['Date'].dt.month\n",
        "#df['day'] = df['Date'].dt.day\n",
        "#df['hour'] = df['Date'].dt.hour\n",
        "#df['minute'] = df['Date'].dt.minute"
      ],
      "metadata": {
        "id": "Ko_6fX7j8Mqk"
      },
      "execution_count": 14,
      "outputs": []
    },
    {
      "cell_type": "code",
      "source": [
        "df.head()"
      ],
      "metadata": {
        "colab": {
          "base_uri": "https://localhost:8080/",
          "height": 357
        },
        "id": "wBXP4GrRXUg6",
        "outputId": "7e1a9d6c-54ce-4461-b377-aa45367f15c4"
      },
      "execution_count": 15,
      "outputs": [
        {
          "output_type": "execute_result",
          "data": {
            "text/plain": [
              "                    Datetime          Open          High           Low  \\\n",
              "0  2022-07-06 09:15:00+05:30  33929.398438  34091.250000  33916.101562   \n",
              "1  2022-07-06 09:20:00+05:30  34022.050781  34132.898438  34022.050781   \n",
              "2  2022-07-06 09:25:00+05:30  34127.601562  34158.000000  34107.148438   \n",
              "3  2022-07-06 09:30:00+05:30  34137.601562  34155.101562  34096.250000   \n",
              "4  2022-07-06 09:35:00+05:30  34119.750000  34135.699219  34092.000000   \n",
              "\n",
              "          Close     Adj Close  Volume                      Date  year  month  \\\n",
              "0  34023.648438  34023.648438       0 2022-07-06 09:15:00+05:30  2022      7   \n",
              "1  34129.148438  34129.148438       0 2022-07-06 09:20:00+05:30  2022      7   \n",
              "2  34143.449219  34143.449219       0 2022-07-06 09:25:00+05:30  2022      7   \n",
              "3  34120.199219  34120.199219       0 2022-07-06 09:30:00+05:30  2022      7   \n",
              "4  34092.000000  34092.000000       0 2022-07-06 09:35:00+05:30  2022      7   \n",
              "\n",
              "   day  hour  minute  \n",
              "0    6     9      15  \n",
              "1    6     9      20  \n",
              "2    6     9      25  \n",
              "3    6     9      30  \n",
              "4    6     9      35  "
            ],
            "text/html": [
              "\n",
              "  <div id=\"df-b5a3a8b9-0b88-46b1-b9b0-a85193f525d4\">\n",
              "    <div class=\"colab-df-container\">\n",
              "      <div>\n",
              "<style scoped>\n",
              "    .dataframe tbody tr th:only-of-type {\n",
              "        vertical-align: middle;\n",
              "    }\n",
              "\n",
              "    .dataframe tbody tr th {\n",
              "        vertical-align: top;\n",
              "    }\n",
              "\n",
              "    .dataframe thead th {\n",
              "        text-align: right;\n",
              "    }\n",
              "</style>\n",
              "<table border=\"1\" class=\"dataframe\">\n",
              "  <thead>\n",
              "    <tr style=\"text-align: right;\">\n",
              "      <th></th>\n",
              "      <th>Datetime</th>\n",
              "      <th>Open</th>\n",
              "      <th>High</th>\n",
              "      <th>Low</th>\n",
              "      <th>Close</th>\n",
              "      <th>Adj Close</th>\n",
              "      <th>Volume</th>\n",
              "      <th>Date</th>\n",
              "      <th>year</th>\n",
              "      <th>month</th>\n",
              "      <th>day</th>\n",
              "      <th>hour</th>\n",
              "      <th>minute</th>\n",
              "    </tr>\n",
              "  </thead>\n",
              "  <tbody>\n",
              "    <tr>\n",
              "      <th>0</th>\n",
              "      <td>2022-07-06 09:15:00+05:30</td>\n",
              "      <td>33929.398438</td>\n",
              "      <td>34091.250000</td>\n",
              "      <td>33916.101562</td>\n",
              "      <td>34023.648438</td>\n",
              "      <td>34023.648438</td>\n",
              "      <td>0</td>\n",
              "      <td>2022-07-06 09:15:00+05:30</td>\n",
              "      <td>2022</td>\n",
              "      <td>7</td>\n",
              "      <td>6</td>\n",
              "      <td>9</td>\n",
              "      <td>15</td>\n",
              "    </tr>\n",
              "    <tr>\n",
              "      <th>1</th>\n",
              "      <td>2022-07-06 09:20:00+05:30</td>\n",
              "      <td>34022.050781</td>\n",
              "      <td>34132.898438</td>\n",
              "      <td>34022.050781</td>\n",
              "      <td>34129.148438</td>\n",
              "      <td>34129.148438</td>\n",
              "      <td>0</td>\n",
              "      <td>2022-07-06 09:20:00+05:30</td>\n",
              "      <td>2022</td>\n",
              "      <td>7</td>\n",
              "      <td>6</td>\n",
              "      <td>9</td>\n",
              "      <td>20</td>\n",
              "    </tr>\n",
              "    <tr>\n",
              "      <th>2</th>\n",
              "      <td>2022-07-06 09:25:00+05:30</td>\n",
              "      <td>34127.601562</td>\n",
              "      <td>34158.000000</td>\n",
              "      <td>34107.148438</td>\n",
              "      <td>34143.449219</td>\n",
              "      <td>34143.449219</td>\n",
              "      <td>0</td>\n",
              "      <td>2022-07-06 09:25:00+05:30</td>\n",
              "      <td>2022</td>\n",
              "      <td>7</td>\n",
              "      <td>6</td>\n",
              "      <td>9</td>\n",
              "      <td>25</td>\n",
              "    </tr>\n",
              "    <tr>\n",
              "      <th>3</th>\n",
              "      <td>2022-07-06 09:30:00+05:30</td>\n",
              "      <td>34137.601562</td>\n",
              "      <td>34155.101562</td>\n",
              "      <td>34096.250000</td>\n",
              "      <td>34120.199219</td>\n",
              "      <td>34120.199219</td>\n",
              "      <td>0</td>\n",
              "      <td>2022-07-06 09:30:00+05:30</td>\n",
              "      <td>2022</td>\n",
              "      <td>7</td>\n",
              "      <td>6</td>\n",
              "      <td>9</td>\n",
              "      <td>30</td>\n",
              "    </tr>\n",
              "    <tr>\n",
              "      <th>4</th>\n",
              "      <td>2022-07-06 09:35:00+05:30</td>\n",
              "      <td>34119.750000</td>\n",
              "      <td>34135.699219</td>\n",
              "      <td>34092.000000</td>\n",
              "      <td>34092.000000</td>\n",
              "      <td>34092.000000</td>\n",
              "      <td>0</td>\n",
              "      <td>2022-07-06 09:35:00+05:30</td>\n",
              "      <td>2022</td>\n",
              "      <td>7</td>\n",
              "      <td>6</td>\n",
              "      <td>9</td>\n",
              "      <td>35</td>\n",
              "    </tr>\n",
              "  </tbody>\n",
              "</table>\n",
              "</div>\n",
              "      <button class=\"colab-df-convert\" onclick=\"convertToInteractive('df-b5a3a8b9-0b88-46b1-b9b0-a85193f525d4')\"\n",
              "              title=\"Convert this dataframe to an interactive table.\"\n",
              "              style=\"display:none;\">\n",
              "        \n",
              "  <svg xmlns=\"http://www.w3.org/2000/svg\" height=\"24px\"viewBox=\"0 0 24 24\"\n",
              "       width=\"24px\">\n",
              "    <path d=\"M0 0h24v24H0V0z\" fill=\"none\"/>\n",
              "    <path d=\"M18.56 5.44l.94 2.06.94-2.06 2.06-.94-2.06-.94-.94-2.06-.94 2.06-2.06.94zm-11 1L8.5 8.5l.94-2.06 2.06-.94-2.06-.94L8.5 2.5l-.94 2.06-2.06.94zm10 10l.94 2.06.94-2.06 2.06-.94-2.06-.94-.94-2.06-.94 2.06-2.06.94z\"/><path d=\"M17.41 7.96l-1.37-1.37c-.4-.4-.92-.59-1.43-.59-.52 0-1.04.2-1.43.59L10.3 9.45l-7.72 7.72c-.78.78-.78 2.05 0 2.83L4 21.41c.39.39.9.59 1.41.59.51 0 1.02-.2 1.41-.59l7.78-7.78 2.81-2.81c.8-.78.8-2.07 0-2.86zM5.41 20L4 18.59l7.72-7.72 1.47 1.35L5.41 20z\"/>\n",
              "  </svg>\n",
              "      </button>\n",
              "      \n",
              "  <style>\n",
              "    .colab-df-container {\n",
              "      display:flex;\n",
              "      flex-wrap:wrap;\n",
              "      gap: 12px;\n",
              "    }\n",
              "\n",
              "    .colab-df-convert {\n",
              "      background-color: #E8F0FE;\n",
              "      border: none;\n",
              "      border-radius: 50%;\n",
              "      cursor: pointer;\n",
              "      display: none;\n",
              "      fill: #1967D2;\n",
              "      height: 32px;\n",
              "      padding: 0 0 0 0;\n",
              "      width: 32px;\n",
              "    }\n",
              "\n",
              "    .colab-df-convert:hover {\n",
              "      background-color: #E2EBFA;\n",
              "      box-shadow: 0px 1px 2px rgba(60, 64, 67, 0.3), 0px 1px 3px 1px rgba(60, 64, 67, 0.15);\n",
              "      fill: #174EA6;\n",
              "    }\n",
              "\n",
              "    [theme=dark] .colab-df-convert {\n",
              "      background-color: #3B4455;\n",
              "      fill: #D2E3FC;\n",
              "    }\n",
              "\n",
              "    [theme=dark] .colab-df-convert:hover {\n",
              "      background-color: #434B5C;\n",
              "      box-shadow: 0px 1px 3px 1px rgba(0, 0, 0, 0.15);\n",
              "      filter: drop-shadow(0px 1px 2px rgba(0, 0, 0, 0.3));\n",
              "      fill: #FFFFFF;\n",
              "    }\n",
              "  </style>\n",
              "\n",
              "      <script>\n",
              "        const buttonEl =\n",
              "          document.querySelector('#df-b5a3a8b9-0b88-46b1-b9b0-a85193f525d4 button.colab-df-convert');\n",
              "        buttonEl.style.display =\n",
              "          google.colab.kernel.accessAllowed ? 'block' : 'none';\n",
              "\n",
              "        async function convertToInteractive(key) {\n",
              "          const element = document.querySelector('#df-b5a3a8b9-0b88-46b1-b9b0-a85193f525d4');\n",
              "          const dataTable =\n",
              "            await google.colab.kernel.invokeFunction('convertToInteractive',\n",
              "                                                     [key], {});\n",
              "          if (!dataTable) return;\n",
              "\n",
              "          const docLinkHtml = 'Like what you see? Visit the ' +\n",
              "            '<a target=\"_blank\" href=https://colab.research.google.com/notebooks/data_table.ipynb>data table notebook</a>'\n",
              "            + ' to learn more about interactive tables.';\n",
              "          element.innerHTML = '';\n",
              "          dataTable['output_type'] = 'display_data';\n",
              "          await google.colab.output.renderOutput(dataTable, element);\n",
              "          const docLink = document.createElement('div');\n",
              "          docLink.innerHTML = docLinkHtml;\n",
              "          element.appendChild(docLink);\n",
              "        }\n",
              "      </script>\n",
              "    </div>\n",
              "  </div>\n",
              "  "
            ]
          },
          "metadata": {},
          "execution_count": 15
        }
      ]
    },
    {
      "cell_type": "markdown",
      "source": [
        "Removing Time string. Take date/month/year alone for analysis"
      ],
      "metadata": {
        "id": "C0Pq7KpUP44h"
      }
    },
    {
      "cell_type": "code",
      "source": [
        "df['Datetime'] = pd.to_datetime(df['Datetime']).dt.date"
      ],
      "metadata": {
        "id": "a_jOl3JOOQZm"
      },
      "execution_count": 5,
      "outputs": []
    },
    {
      "cell_type": "code",
      "source": [
        "df.head()"
      ],
      "metadata": {
        "colab": {
          "base_uri": "https://localhost:8080/",
          "height": 206
        },
        "id": "L6xeqhkCOfFd",
        "outputId": "21a30215-3144-4824-adcf-a42ac54b7b9b"
      },
      "execution_count": null,
      "outputs": [
        {
          "output_type": "execute_result",
          "data": {
            "text/plain": [
              "     Datetime          Open          High           Low         Close  \\\n",
              "0  2022-07-06  33929.398438  34091.250000  33916.101562  34023.648438   \n",
              "1  2022-07-06  34022.050781  34132.898438  34022.050781  34129.148438   \n",
              "2  2022-07-06  34127.601562  34158.000000  34107.148438  34143.449219   \n",
              "3  2022-07-06  34137.601562  34155.101562  34096.250000  34120.199219   \n",
              "4  2022-07-06  34119.750000  34135.699219  34092.000000  34092.000000   \n",
              "\n",
              "      Adj Close  Volume  \n",
              "0  34023.648438       0  \n",
              "1  34129.148438       0  \n",
              "2  34143.449219       0  \n",
              "3  34120.199219       0  \n",
              "4  34092.000000       0  "
            ],
            "text/html": [
              "\n",
              "  <div id=\"df-a0581440-ceb9-44fb-9d18-b2b5a2dcfa89\">\n",
              "    <div class=\"colab-df-container\">\n",
              "      <div>\n",
              "<style scoped>\n",
              "    .dataframe tbody tr th:only-of-type {\n",
              "        vertical-align: middle;\n",
              "    }\n",
              "\n",
              "    .dataframe tbody tr th {\n",
              "        vertical-align: top;\n",
              "    }\n",
              "\n",
              "    .dataframe thead th {\n",
              "        text-align: right;\n",
              "    }\n",
              "</style>\n",
              "<table border=\"1\" class=\"dataframe\">\n",
              "  <thead>\n",
              "    <tr style=\"text-align: right;\">\n",
              "      <th></th>\n",
              "      <th>Datetime</th>\n",
              "      <th>Open</th>\n",
              "      <th>High</th>\n",
              "      <th>Low</th>\n",
              "      <th>Close</th>\n",
              "      <th>Adj Close</th>\n",
              "      <th>Volume</th>\n",
              "    </tr>\n",
              "  </thead>\n",
              "  <tbody>\n",
              "    <tr>\n",
              "      <th>0</th>\n",
              "      <td>2022-07-06</td>\n",
              "      <td>33929.398438</td>\n",
              "      <td>34091.250000</td>\n",
              "      <td>33916.101562</td>\n",
              "      <td>34023.648438</td>\n",
              "      <td>34023.648438</td>\n",
              "      <td>0</td>\n",
              "    </tr>\n",
              "    <tr>\n",
              "      <th>1</th>\n",
              "      <td>2022-07-06</td>\n",
              "      <td>34022.050781</td>\n",
              "      <td>34132.898438</td>\n",
              "      <td>34022.050781</td>\n",
              "      <td>34129.148438</td>\n",
              "      <td>34129.148438</td>\n",
              "      <td>0</td>\n",
              "    </tr>\n",
              "    <tr>\n",
              "      <th>2</th>\n",
              "      <td>2022-07-06</td>\n",
              "      <td>34127.601562</td>\n",
              "      <td>34158.000000</td>\n",
              "      <td>34107.148438</td>\n",
              "      <td>34143.449219</td>\n",
              "      <td>34143.449219</td>\n",
              "      <td>0</td>\n",
              "    </tr>\n",
              "    <tr>\n",
              "      <th>3</th>\n",
              "      <td>2022-07-06</td>\n",
              "      <td>34137.601562</td>\n",
              "      <td>34155.101562</td>\n",
              "      <td>34096.250000</td>\n",
              "      <td>34120.199219</td>\n",
              "      <td>34120.199219</td>\n",
              "      <td>0</td>\n",
              "    </tr>\n",
              "    <tr>\n",
              "      <th>4</th>\n",
              "      <td>2022-07-06</td>\n",
              "      <td>34119.750000</td>\n",
              "      <td>34135.699219</td>\n",
              "      <td>34092.000000</td>\n",
              "      <td>34092.000000</td>\n",
              "      <td>34092.000000</td>\n",
              "      <td>0</td>\n",
              "    </tr>\n",
              "  </tbody>\n",
              "</table>\n",
              "</div>\n",
              "      <button class=\"colab-df-convert\" onclick=\"convertToInteractive('df-a0581440-ceb9-44fb-9d18-b2b5a2dcfa89')\"\n",
              "              title=\"Convert this dataframe to an interactive table.\"\n",
              "              style=\"display:none;\">\n",
              "        \n",
              "  <svg xmlns=\"http://www.w3.org/2000/svg\" height=\"24px\"viewBox=\"0 0 24 24\"\n",
              "       width=\"24px\">\n",
              "    <path d=\"M0 0h24v24H0V0z\" fill=\"none\"/>\n",
              "    <path d=\"M18.56 5.44l.94 2.06.94-2.06 2.06-.94-2.06-.94-.94-2.06-.94 2.06-2.06.94zm-11 1L8.5 8.5l.94-2.06 2.06-.94-2.06-.94L8.5 2.5l-.94 2.06-2.06.94zm10 10l.94 2.06.94-2.06 2.06-.94-2.06-.94-.94-2.06-.94 2.06-2.06.94z\"/><path d=\"M17.41 7.96l-1.37-1.37c-.4-.4-.92-.59-1.43-.59-.52 0-1.04.2-1.43.59L10.3 9.45l-7.72 7.72c-.78.78-.78 2.05 0 2.83L4 21.41c.39.39.9.59 1.41.59.51 0 1.02-.2 1.41-.59l7.78-7.78 2.81-2.81c.8-.78.8-2.07 0-2.86zM5.41 20L4 18.59l7.72-7.72 1.47 1.35L5.41 20z\"/>\n",
              "  </svg>\n",
              "      </button>\n",
              "      \n",
              "  <style>\n",
              "    .colab-df-container {\n",
              "      display:flex;\n",
              "      flex-wrap:wrap;\n",
              "      gap: 12px;\n",
              "    }\n",
              "\n",
              "    .colab-df-convert {\n",
              "      background-color: #E8F0FE;\n",
              "      border: none;\n",
              "      border-radius: 50%;\n",
              "      cursor: pointer;\n",
              "      display: none;\n",
              "      fill: #1967D2;\n",
              "      height: 32px;\n",
              "      padding: 0 0 0 0;\n",
              "      width: 32px;\n",
              "    }\n",
              "\n",
              "    .colab-df-convert:hover {\n",
              "      background-color: #E2EBFA;\n",
              "      box-shadow: 0px 1px 2px rgba(60, 64, 67, 0.3), 0px 1px 3px 1px rgba(60, 64, 67, 0.15);\n",
              "      fill: #174EA6;\n",
              "    }\n",
              "\n",
              "    [theme=dark] .colab-df-convert {\n",
              "      background-color: #3B4455;\n",
              "      fill: #D2E3FC;\n",
              "    }\n",
              "\n",
              "    [theme=dark] .colab-df-convert:hover {\n",
              "      background-color: #434B5C;\n",
              "      box-shadow: 0px 1px 3px 1px rgba(0, 0, 0, 0.15);\n",
              "      filter: drop-shadow(0px 1px 2px rgba(0, 0, 0, 0.3));\n",
              "      fill: #FFFFFF;\n",
              "    }\n",
              "  </style>\n",
              "\n",
              "      <script>\n",
              "        const buttonEl =\n",
              "          document.querySelector('#df-a0581440-ceb9-44fb-9d18-b2b5a2dcfa89 button.colab-df-convert');\n",
              "        buttonEl.style.display =\n",
              "          google.colab.kernel.accessAllowed ? 'block' : 'none';\n",
              "\n",
              "        async function convertToInteractive(key) {\n",
              "          const element = document.querySelector('#df-a0581440-ceb9-44fb-9d18-b2b5a2dcfa89');\n",
              "          const dataTable =\n",
              "            await google.colab.kernel.invokeFunction('convertToInteractive',\n",
              "                                                     [key], {});\n",
              "          if (!dataTable) return;\n",
              "\n",
              "          const docLinkHtml = 'Like what you see? Visit the ' +\n",
              "            '<a target=\"_blank\" href=https://colab.research.google.com/notebooks/data_table.ipynb>data table notebook</a>'\n",
              "            + ' to learn more about interactive tables.';\n",
              "          element.innerHTML = '';\n",
              "          dataTable['output_type'] = 'display_data';\n",
              "          await google.colab.output.renderOutput(dataTable, element);\n",
              "          const docLink = document.createElement('div');\n",
              "          docLink.innerHTML = docLinkHtml;\n",
              "          element.appendChild(docLink);\n",
              "        }\n",
              "      </script>\n",
              "    </div>\n",
              "  </div>\n",
              "  "
            ]
          },
          "metadata": {},
          "execution_count": 7
        }
      ]
    },
    {
      "cell_type": "code",
      "source": [
        "df.info()"
      ],
      "metadata": {
        "id": "v7rFi8qvVZMW",
        "outputId": "4c92d641-a454-42aa-9dfe-53540b40af59",
        "colab": {
          "base_uri": "https://localhost:8080/"
        }
      },
      "execution_count": null,
      "outputs": [
        {
          "output_type": "stream",
          "name": "stdout",
          "text": [
            "<class 'pandas.core.frame.DataFrame'>\n",
            "RangeIndex: 4499 entries, 0 to 4498\n",
            "Data columns (total 7 columns):\n",
            " #   Column     Non-Null Count  Dtype  \n",
            "---  ------     --------------  -----  \n",
            " 0   Datetime   4499 non-null   object \n",
            " 1   Open       4499 non-null   float64\n",
            " 2   High       4499 non-null   float64\n",
            " 3   Low        4499 non-null   float64\n",
            " 4   Close      4499 non-null   float64\n",
            " 5   Adj Close  4499 non-null   float64\n",
            " 6   Volume     4499 non-null   int64  \n",
            "dtypes: float64(5), int64(1), object(1)\n",
            "memory usage: 246.2+ KB\n"
          ]
        }
      ]
    },
    {
      "cell_type": "code",
      "source": [
        "df.isnull().sum()"
      ],
      "metadata": {
        "colab": {
          "base_uri": "https://localhost:8080/"
        },
        "id": "siT8pzStxK50",
        "outputId": "f6b3d48f-36f5-4225-bc2c-d5a223331ff9"
      },
      "execution_count": null,
      "outputs": [
        {
          "output_type": "execute_result",
          "data": {
            "text/plain": [
              "Datetime     0\n",
              "Open         0\n",
              "High         0\n",
              "Low          0\n",
              "Close        0\n",
              "Adj Close    0\n",
              "Volume       0\n",
              "dtype: int64"
            ]
          },
          "metadata": {},
          "execution_count": 9
        }
      ]
    },
    {
      "cell_type": "markdown",
      "source": [
        "Converting the data type from \"object\" to \"datetime\" for the \"Datetime\""
      ],
      "metadata": {
        "id": "9l0g3bGIQMfT"
      }
    },
    {
      "cell_type": "code",
      "source": [
        "df['Datetime'] = pd.to_datetime(df['Datetime'])"
      ],
      "metadata": {
        "id": "xEUCAXOUy1Gp"
      },
      "execution_count": null,
      "outputs": []
    },
    {
      "cell_type": "code",
      "source": [
        "df.info()"
      ],
      "metadata": {
        "colab": {
          "base_uri": "https://localhost:8080/"
        },
        "id": "BGCeSDtbzUn1",
        "outputId": "7b3159a1-6168-4219-dd00-e329dc2c9278"
      },
      "execution_count": null,
      "outputs": [
        {
          "output_type": "stream",
          "name": "stdout",
          "text": [
            "<class 'pandas.core.frame.DataFrame'>\n",
            "RangeIndex: 4499 entries, 0 to 4498\n",
            "Data columns (total 7 columns):\n",
            " #   Column     Non-Null Count  Dtype         \n",
            "---  ------     --------------  -----         \n",
            " 0   Datetime   4499 non-null   datetime64[ns]\n",
            " 1   Open       4499 non-null   float64       \n",
            " 2   High       4499 non-null   float64       \n",
            " 3   Low        4499 non-null   float64       \n",
            " 4   Close      4499 non-null   float64       \n",
            " 5   Adj Close  4499 non-null   float64       \n",
            " 6   Volume     4499 non-null   int64         \n",
            "dtypes: datetime64[ns](1), float64(5), int64(1)\n",
            "memory usage: 246.2 KB\n"
          ]
        }
      ]
    },
    {
      "cell_type": "code",
      "source": [
        "print(f'DataFrame contains stock between {df.Datetime.min()} {df.Datetime.max()}')\n",
        "print(f'Total numner of days = {(df.Datetime.max()- df.Datetime.min()).days} days')"
      ],
      "metadata": {
        "colab": {
          "base_uri": "https://localhost:8080/"
        },
        "id": "RVHtUCJIyVO-",
        "outputId": "71ca7584-cdbb-440e-ff22-94fea8ee0110"
      },
      "execution_count": null,
      "outputs": [
        {
          "output_type": "stream",
          "name": "stdout",
          "text": [
            "DataFrame contains stock between 2022-07-06 00:00:00 2022-09-30 00:00:00\n",
            "Total numner of days = 86 days\n"
          ]
        }
      ]
    },
    {
      "cell_type": "code",
      "source": [
        "df.describe()"
      ],
      "metadata": {
        "colab": {
          "base_uri": "https://localhost:8080/",
          "height": 300
        },
        "id": "L2CU1VLw1mPc",
        "outputId": "aa55cff4-21b1-46b5-de05-21c348c38838"
      },
      "execution_count": null,
      "outputs": [
        {
          "output_type": "execute_result",
          "data": {
            "text/plain": [
              "               Open          High           Low         Close     Adj Close  \\\n",
              "count   4499.000000   4499.000000   4499.000000   4499.000000   4499.000000   \n",
              "mean   38232.863543  38259.840769  38205.939855  38233.823223  38233.823223   \n",
              "std     1964.348261   1965.959555   1962.130293   1963.918792   1963.918792   \n",
              "min    33929.398438  34074.750000  33916.101562  33992.148438  33992.148438   \n",
              "25%    36712.449219  36728.974609  36674.500000  36711.701172  36711.701172   \n",
              "50%    38413.000000  38450.750000  38387.199219  38414.699219  38414.699219   \n",
              "75%    39513.699219  39542.724609  39492.875000  39516.650391  39516.650391   \n",
              "max    41795.851562  41830.351562  41766.300781  41788.199219  41788.199219   \n",
              "\n",
              "       Volume  \n",
              "count  4499.0  \n",
              "mean      0.0  \n",
              "std       0.0  \n",
              "min       0.0  \n",
              "25%       0.0  \n",
              "50%       0.0  \n",
              "75%       0.0  \n",
              "max       0.0  "
            ],
            "text/html": [
              "\n",
              "  <div id=\"df-de9e70a6-860d-4212-a1d2-049ceb58a28c\">\n",
              "    <div class=\"colab-df-container\">\n",
              "      <div>\n",
              "<style scoped>\n",
              "    .dataframe tbody tr th:only-of-type {\n",
              "        vertical-align: middle;\n",
              "    }\n",
              "\n",
              "    .dataframe tbody tr th {\n",
              "        vertical-align: top;\n",
              "    }\n",
              "\n",
              "    .dataframe thead th {\n",
              "        text-align: right;\n",
              "    }\n",
              "</style>\n",
              "<table border=\"1\" class=\"dataframe\">\n",
              "  <thead>\n",
              "    <tr style=\"text-align: right;\">\n",
              "      <th></th>\n",
              "      <th>Open</th>\n",
              "      <th>High</th>\n",
              "      <th>Low</th>\n",
              "      <th>Close</th>\n",
              "      <th>Adj Close</th>\n",
              "      <th>Volume</th>\n",
              "    </tr>\n",
              "  </thead>\n",
              "  <tbody>\n",
              "    <tr>\n",
              "      <th>count</th>\n",
              "      <td>4499.000000</td>\n",
              "      <td>4499.000000</td>\n",
              "      <td>4499.000000</td>\n",
              "      <td>4499.000000</td>\n",
              "      <td>4499.000000</td>\n",
              "      <td>4499.0</td>\n",
              "    </tr>\n",
              "    <tr>\n",
              "      <th>mean</th>\n",
              "      <td>38232.863543</td>\n",
              "      <td>38259.840769</td>\n",
              "      <td>38205.939855</td>\n",
              "      <td>38233.823223</td>\n",
              "      <td>38233.823223</td>\n",
              "      <td>0.0</td>\n",
              "    </tr>\n",
              "    <tr>\n",
              "      <th>std</th>\n",
              "      <td>1964.348261</td>\n",
              "      <td>1965.959555</td>\n",
              "      <td>1962.130293</td>\n",
              "      <td>1963.918792</td>\n",
              "      <td>1963.918792</td>\n",
              "      <td>0.0</td>\n",
              "    </tr>\n",
              "    <tr>\n",
              "      <th>min</th>\n",
              "      <td>33929.398438</td>\n",
              "      <td>34074.750000</td>\n",
              "      <td>33916.101562</td>\n",
              "      <td>33992.148438</td>\n",
              "      <td>33992.148438</td>\n",
              "      <td>0.0</td>\n",
              "    </tr>\n",
              "    <tr>\n",
              "      <th>25%</th>\n",
              "      <td>36712.449219</td>\n",
              "      <td>36728.974609</td>\n",
              "      <td>36674.500000</td>\n",
              "      <td>36711.701172</td>\n",
              "      <td>36711.701172</td>\n",
              "      <td>0.0</td>\n",
              "    </tr>\n",
              "    <tr>\n",
              "      <th>50%</th>\n",
              "      <td>38413.000000</td>\n",
              "      <td>38450.750000</td>\n",
              "      <td>38387.199219</td>\n",
              "      <td>38414.699219</td>\n",
              "      <td>38414.699219</td>\n",
              "      <td>0.0</td>\n",
              "    </tr>\n",
              "    <tr>\n",
              "      <th>75%</th>\n",
              "      <td>39513.699219</td>\n",
              "      <td>39542.724609</td>\n",
              "      <td>39492.875000</td>\n",
              "      <td>39516.650391</td>\n",
              "      <td>39516.650391</td>\n",
              "      <td>0.0</td>\n",
              "    </tr>\n",
              "    <tr>\n",
              "      <th>max</th>\n",
              "      <td>41795.851562</td>\n",
              "      <td>41830.351562</td>\n",
              "      <td>41766.300781</td>\n",
              "      <td>41788.199219</td>\n",
              "      <td>41788.199219</td>\n",
              "      <td>0.0</td>\n",
              "    </tr>\n",
              "  </tbody>\n",
              "</table>\n",
              "</div>\n",
              "      <button class=\"colab-df-convert\" onclick=\"convertToInteractive('df-de9e70a6-860d-4212-a1d2-049ceb58a28c')\"\n",
              "              title=\"Convert this dataframe to an interactive table.\"\n",
              "              style=\"display:none;\">\n",
              "        \n",
              "  <svg xmlns=\"http://www.w3.org/2000/svg\" height=\"24px\"viewBox=\"0 0 24 24\"\n",
              "       width=\"24px\">\n",
              "    <path d=\"M0 0h24v24H0V0z\" fill=\"none\"/>\n",
              "    <path d=\"M18.56 5.44l.94 2.06.94-2.06 2.06-.94-2.06-.94-.94-2.06-.94 2.06-2.06.94zm-11 1L8.5 8.5l.94-2.06 2.06-.94-2.06-.94L8.5 2.5l-.94 2.06-2.06.94zm10 10l.94 2.06.94-2.06 2.06-.94-2.06-.94-.94-2.06-.94 2.06-2.06.94z\"/><path d=\"M17.41 7.96l-1.37-1.37c-.4-.4-.92-.59-1.43-.59-.52 0-1.04.2-1.43.59L10.3 9.45l-7.72 7.72c-.78.78-.78 2.05 0 2.83L4 21.41c.39.39.9.59 1.41.59.51 0 1.02-.2 1.41-.59l7.78-7.78 2.81-2.81c.8-.78.8-2.07 0-2.86zM5.41 20L4 18.59l7.72-7.72 1.47 1.35L5.41 20z\"/>\n",
              "  </svg>\n",
              "      </button>\n",
              "      \n",
              "  <style>\n",
              "    .colab-df-container {\n",
              "      display:flex;\n",
              "      flex-wrap:wrap;\n",
              "      gap: 12px;\n",
              "    }\n",
              "\n",
              "    .colab-df-convert {\n",
              "      background-color: #E8F0FE;\n",
              "      border: none;\n",
              "      border-radius: 50%;\n",
              "      cursor: pointer;\n",
              "      display: none;\n",
              "      fill: #1967D2;\n",
              "      height: 32px;\n",
              "      padding: 0 0 0 0;\n",
              "      width: 32px;\n",
              "    }\n",
              "\n",
              "    .colab-df-convert:hover {\n",
              "      background-color: #E2EBFA;\n",
              "      box-shadow: 0px 1px 2px rgba(60, 64, 67, 0.3), 0px 1px 3px 1px rgba(60, 64, 67, 0.15);\n",
              "      fill: #174EA6;\n",
              "    }\n",
              "\n",
              "    [theme=dark] .colab-df-convert {\n",
              "      background-color: #3B4455;\n",
              "      fill: #D2E3FC;\n",
              "    }\n",
              "\n",
              "    [theme=dark] .colab-df-convert:hover {\n",
              "      background-color: #434B5C;\n",
              "      box-shadow: 0px 1px 3px 1px rgba(0, 0, 0, 0.15);\n",
              "      filter: drop-shadow(0px 1px 2px rgba(0, 0, 0, 0.3));\n",
              "      fill: #FFFFFF;\n",
              "    }\n",
              "  </style>\n",
              "\n",
              "      <script>\n",
              "        const buttonEl =\n",
              "          document.querySelector('#df-de9e70a6-860d-4212-a1d2-049ceb58a28c button.colab-df-convert');\n",
              "        buttonEl.style.display =\n",
              "          google.colab.kernel.accessAllowed ? 'block' : 'none';\n",
              "\n",
              "        async function convertToInteractive(key) {\n",
              "          const element = document.querySelector('#df-de9e70a6-860d-4212-a1d2-049ceb58a28c');\n",
              "          const dataTable =\n",
              "            await google.colab.kernel.invokeFunction('convertToInteractive',\n",
              "                                                     [key], {});\n",
              "          if (!dataTable) return;\n",
              "\n",
              "          const docLinkHtml = 'Like what you see? Visit the ' +\n",
              "            '<a target=\"_blank\" href=https://colab.research.google.com/notebooks/data_table.ipynb>data table notebook</a>'\n",
              "            + ' to learn more about interactive tables.';\n",
              "          element.innerHTML = '';\n",
              "          dataTable['output_type'] = 'display_data';\n",
              "          await google.colab.output.renderOutput(dataTable, element);\n",
              "          const docLink = document.createElement('div');\n",
              "          docLink.innerHTML = docLinkHtml;\n",
              "          element.appendChild(docLink);\n",
              "        }\n",
              "      </script>\n",
              "    </div>\n",
              "  </div>\n",
              "  "
            ]
          },
          "metadata": {},
          "execution_count": 13
        }
      ]
    },
    {
      "cell_type": "code",
      "source": [
        "df[['Low','High','Open','Close']].plot(kind= 'box', figsize=(12,4))"
      ],
      "metadata": {
        "colab": {
          "base_uri": "https://localhost:8080/",
          "height": 285
        },
        "id": "zQ6JYDAHMzqr",
        "outputId": "c889c0b2-d740-4cc5-f456-00d9a7d4d5a6"
      },
      "execution_count": null,
      "outputs": [
        {
          "output_type": "execute_result",
          "data": {
            "text/plain": [
              "<matplotlib.axes._subplots.AxesSubplot at 0x7f6730513790>"
            ]
          },
          "metadata": {},
          "execution_count": 14
        },
        {
          "output_type": "display_data",
          "data": {
            "text/plain": [
              "<Figure size 864x288 with 1 Axes>"
            ],
            "image/png": "[encoded data removed]"
          },
          "metadata": {
            "needs_background": "light"
          }
        }
      ]
    },
    {
      "cell_type": "code",
      "source": [
        "df.set_index('Datetime', inplace = True)"
      ],
      "metadata": {
        "id": "ah4HdqOMPv6X"
      },
      "execution_count": null,
      "outputs": []
    },
    {
      "cell_type": "code",
      "source": [
        "df.drop([\"Volume\"], axis = 1, inplace = True)"
      ],
      "metadata": {
        "id": "x8CYOWiiQ2gR"
      },
      "execution_count": null,
      "outputs": []
    },
    {
      "cell_type": "code",
      "source": [
        "df.head()"
      ],
      "metadata": {
        "colab": {
          "base_uri": "https://localhost:8080/",
          "height": 237
        },
        "id": "432uRXGpRCjf",
        "outputId": "9715ccc6-c127-437c-8603-3bd5c11b70ab"
      },
      "execution_count": null,
      "outputs": [
        {
          "output_type": "execute_result",
          "data": {
            "text/plain": [
              "                    Open          High           Low         Close  \\\n",
              "Datetime                                                             \n",
              "2022-07-06  33929.398438  34091.250000  33916.101562  34023.648438   \n",
              "2022-07-06  34022.050781  34132.898438  34022.050781  34129.148438   \n",
              "2022-07-06  34127.601562  34158.000000  34107.148438  34143.449219   \n",
              "2022-07-06  34137.601562  34155.101562  34096.250000  34120.199219   \n",
              "2022-07-06  34119.750000  34135.699219  34092.000000  34092.000000   \n",
              "\n",
              "               Adj Close  \n",
              "Datetime                  \n",
              "2022-07-06  34023.648438  \n",
              "2022-07-06  34129.148438  \n",
              "2022-07-06  34143.449219  \n",
              "2022-07-06  34120.199219  \n",
              "2022-07-06  34092.000000  "
            ],
            "text/html": [
              "\n",
              "  <div id=\"df-a1e120d6-1d4e-44bd-a2f9-eb6209ccbec0\">\n",
              "    <div class=\"colab-df-container\">\n",
              "      <div>\n",
              "<style scoped>\n",
              "    .dataframe tbody tr th:only-of-type {\n",
              "        vertical-align: middle;\n",
              "    }\n",
              "\n",
              "    .dataframe tbody tr th {\n",
              "        vertical-align: top;\n",
              "    }\n",
              "\n",
              "    .dataframe thead th {\n",
              "        text-align: right;\n",
              "    }\n",
              "</style>\n",
              "<table border=\"1\" class=\"dataframe\">\n",
              "  <thead>\n",
              "    <tr style=\"text-align: right;\">\n",
              "      <th></th>\n",
              "      <th>Open</th>\n",
              "      <th>High</th>\n",
              "      <th>Low</th>\n",
              "      <th>Close</th>\n",
              "      <th>Adj Close</th>\n",
              "    </tr>\n",
              "    <tr>\n",
              "      <th>Datetime</th>\n",
              "      <th></th>\n",
              "      <th></th>\n",
              "      <th></th>\n",
              "      <th></th>\n",
              "      <th></th>\n",
              "    </tr>\n",
              "  </thead>\n",
              "  <tbody>\n",
              "    <tr>\n",
              "      <th>2022-07-06</th>\n",
              "      <td>33929.398438</td>\n",
              "      <td>34091.250000</td>\n",
              "      <td>33916.101562</td>\n",
              "      <td>34023.648438</td>\n",
              "      <td>34023.648438</td>\n",
              "    </tr>\n",
              "    <tr>\n",
              "      <th>2022-07-06</th>\n",
              "      <td>34022.050781</td>\n",
              "      <td>34132.898438</td>\n",
              "      <td>34022.050781</td>\n",
              "      <td>34129.148438</td>\n",
              "      <td>34129.148438</td>\n",
              "    </tr>\n",
              "    <tr>\n",
              "      <th>2022-07-06</th>\n",
              "      <td>34127.601562</td>\n",
              "      <td>34158.000000</td>\n",
              "      <td>34107.148438</td>\n",
              "      <td>34143.449219</td>\n",
              "      <td>34143.449219</td>\n",
              "    </tr>\n",
              "    <tr>\n",
              "      <th>2022-07-06</th>\n",
              "      <td>34137.601562</td>\n",
              "      <td>34155.101562</td>\n",
              "      <td>34096.250000</td>\n",
              "      <td>34120.199219</td>\n",
              "      <td>34120.199219</td>\n",
              "    </tr>\n",
              "    <tr>\n",
              "      <th>2022-07-06</th>\n",
              "      <td>34119.750000</td>\n",
              "      <td>34135.699219</td>\n",
              "      <td>34092.000000</td>\n",
              "      <td>34092.000000</td>\n",
              "      <td>34092.000000</td>\n",
              "    </tr>\n",
              "  </tbody>\n",
              "</table>\n",
              "</div>\n",
              "      <button class=\"colab-df-convert\" onclick=\"convertToInteractive('df-a1e120d6-1d4e-44bd-a2f9-eb6209ccbec0')\"\n",
              "              title=\"Convert this dataframe to an interactive table.\"\n",
              "              style=\"display:none;\">\n",
              "        \n",
              "  <svg xmlns=\"http://www.w3.org/2000/svg\" height=\"24px\"viewBox=\"0 0 24 24\"\n",
              "       width=\"24px\">\n",
              "    <path d=\"M0 0h24v24H0V0z\" fill=\"none\"/>\n",
              "    <path d=\"M18.56 5.44l.94 2.06.94-2.06 2.06-.94-2.06-.94-.94-2.06-.94 2.06-2.06.94zm-11 1L8.5 8.5l.94-2.06 2.06-.94-2.06-.94L8.5 2.5l-.94 2.06-2.06.94zm10 10l.94 2.06.94-2.06 2.06-.94-2.06-.94-.94-2.06-.94 2.06-2.06.94z\"/><path d=\"M17.41 7.96l-1.37-1.37c-.4-.4-.92-.59-1.43-.59-.52 0-1.04.2-1.43.59L10.3 9.45l-7.72 7.72c-.78.78-.78 2.05 0 2.83L4 21.41c.39.39.9.59 1.41.59.51 0 1.02-.2 1.41-.59l7.78-7.78 2.81-2.81c.8-.78.8-2.07 0-2.86zM5.41 20L4 18.59l7.72-7.72 1.47 1.35L5.41 20z\"/>\n",
              "  </svg>\n",
              "      </button>\n",
              "      \n",
              "  <style>\n",
              "    .colab-df-container {\n",
              "      display:flex;\n",
              "      flex-wrap:wrap;\n",
              "      gap: 12px;\n",
              "    }\n",
              "\n",
              "    .colab-df-convert {\n",
              "      background-color: #E8F0FE;\n",
              "      border: none;\n",
              "      border-radius: 50%;\n",
              "      cursor: pointer;\n",
              "      display: none;\n",
              "      fill: #1967D2;\n",
              "      height: 32px;\n",
              "      padding: 0 0 0 0;\n",
              "      width: 32px;\n",
              "    }\n",
              "\n",
              "    .colab-df-convert:hover {\n",
              "      background-color: #E2EBFA;\n",
              "      box-shadow: 0px 1px 2px rgba(60, 64, 67, 0.3), 0px 1px 3px 1px rgba(60, 64, 67, 0.15);\n",
              "      fill: #174EA6;\n",
              "    }\n",
              "\n",
              "    [theme=dark] .colab-df-convert {\n",
              "      background-color: #3B4455;\n",
              "      fill: #D2E3FC;\n",
              "    }\n",
              "\n",
              "    [theme=dark] .colab-df-convert:hover {\n",
              "      background-color: #434B5C;\n",
              "      box-shadow: 0px 1px 3px 1px rgba(0, 0, 0, 0.15);\n",
              "      filter: drop-shadow(0px 1px 2px rgba(0, 0, 0, 0.3));\n",
              "      fill: #FFFFFF;\n",
              "    }\n",
              "  </style>\n",
              "\n",
              "      <script>\n",
              "        const buttonEl =\n",
              "          document.querySelector('#df-a1e120d6-1d4e-44bd-a2f9-eb6209ccbec0 button.colab-df-convert');\n",
              "        buttonEl.style.display =\n",
              "          google.colab.kernel.accessAllowed ? 'block' : 'none';\n",
              "\n",
              "        async function convertToInteractive(key) {\n",
              "          const element = document.querySelector('#df-a1e120d6-1d4e-44bd-a2f9-eb6209ccbec0');\n",
              "          const dataTable =\n",
              "            await google.colab.kernel.invokeFunction('convertToInteractive',\n",
              "                                                     [key], {});\n",
              "          if (!dataTable) return;\n",
              "\n",
              "          const docLinkHtml = 'Like what you see? Visit the ' +\n",
              "            '<a target=\"_blank\" href=https://colab.research.google.com/notebooks/data_table.ipynb>data table notebook</a>'\n",
              "            + ' to learn more about interactive tables.';\n",
              "          element.innerHTML = '';\n",
              "          dataTable['output_type'] = 'display_data';\n",
              "          await google.colab.output.renderOutput(dataTable, element);\n",
              "          const docLink = document.createElement('div');\n",
              "          docLink.innerHTML = docLinkHtml;\n",
              "          element.appendChild(docLink);\n",
              "        }\n",
              "      </script>\n",
              "    </div>\n",
              "  </div>\n",
              "  "
            ]
          },
          "metadata": {},
          "execution_count": 17
        }
      ]
    },
    {
      "cell_type": "code",
      "source": [
        "df.plot()"
      ],
      "metadata": {
        "colab": {
          "base_uri": "https://localhost:8080/",
          "height": 311
        },
        "id": "jQ9HLIRkOuf5",
        "outputId": "0ea3c303-e366-4112-aa73-4b0c7c9e10ec"
      },
      "execution_count": null,
      "outputs": [
        {
          "output_type": "execute_result",
          "data": {
            "text/plain": [
              "<matplotlib.axes._subplots.AxesSubplot at 0x7f672fa7b190>"
            ]
          },
          "metadata": {},
          "execution_count": 18
        },
        {
          "output_type": "display_data",
          "data": {
            "text/plain": [
              "<Figure size 432x288 with 1 Axes>"
            ],
            "image/png": "[encoded data removed]"
          },
          "metadata": {
            "needs_background": "light"
          }
        }
      ]
    },
    {
      "cell_type": "code",
      "source": [
        "df['High'].plot(figsize=(12,4))"
      ],
      "metadata": {
        "colab": {
          "base_uri": "https://localhost:8080/",
          "height": 311
        },
        "id": "vMV2o0WQRlEE",
        "outputId": "19b4f8de-df51-4fc2-aa8b-2ff86741698a"
      },
      "execution_count": null,
      "outputs": [
        {
          "output_type": "execute_result",
          "data": {
            "text/plain": [
              "<matplotlib.axes._subplots.AxesSubplot at 0x7f672f47cd10>"
            ]
          },
          "metadata": {},
          "execution_count": 19
        },
        {
          "output_type": "display_data",
          "data": {
            "text/plain": [
              "<Figure size 864x288 with 1 Axes>"
            ],
            "image/png": "[encoded data removed]"
          },
          "metadata": {
            "needs_background": "light"
          }
        }
      ]
    },
    {
      "cell_type": "markdown",
      "source": [
        "Adding some other parameter for better visualization"
      ],
      "metadata": {
        "id": "nSLVYb-2yv-S"
      }
    },
    {
      "cell_type": "code",
      "source": [
        "df['High'].plot(xlim=['2022-07-06', '2022-09-30'], figsize=(20,4),ls='--',c='green')"
      ],
      "metadata": {
        "colab": {
          "base_uri": "https://localhost:8080/",
          "height": 237
        },
        "id": "EUQpDosTSveu",
        "outputId": "815af060-ef8b-4d18-ed58-d588eb82b6a9"
      },
      "execution_count": null,
      "outputs": [
        {
          "output_type": "execute_result",
          "data": {
            "text/plain": [
              "<matplotlib.axes._subplots.AxesSubplot at 0x7f672f3f0d10>"
            ]
          },
          "metadata": {},
          "execution_count": 20
        },
        {
          "output_type": "display_data",
          "data": {
            "text/plain": [
              "<Figure size 1440x288 with 1 Axes>"
            ],
            "image/png": "[encoded data removed]"
          },
          "metadata": {
            "needs_background": "light"
          }
        }
      ]
    },
    {
      "cell_type": "code",
      "source": [
        "df[['Low','High','Open','Close']].plot(figsize=(12,4))"
      ],
      "metadata": {
        "colab": {
          "base_uri": "https://localhost:8080/",
          "height": 311
        },
        "id": "GdBxeZa42ViU",
        "outputId": "ebfa7d7f-0505-4651-b910-531f05e788ce"
      },
      "execution_count": null,
      "outputs": [
        {
          "output_type": "execute_result",
          "data": {
            "text/plain": [
              "<matplotlib.axes._subplots.AxesSubplot at 0x7f672f2e1710>"
            ]
          },
          "metadata": {},
          "execution_count": 21
        },
        {
          "output_type": "display_data",
          "data": {
            "text/plain": [
              "<Figure size 864x288 with 1 Axes>"
            ],
            "image/png": "[encoded data removed]"
          },
          "metadata": {
            "needs_background": "light"
          }
        }
      ]
    },
    {
      "cell_type": "markdown",
      "source": [
        "Checking the details of last day or end of the year. Since we have only 3 monts of data, displyed only one record of last day of the year. Suppose If we have 5 years of data, will get the details of end of the year data seperately for 5 years. "
      ],
      "metadata": {
        "id": "NYB_LpukV9Uk"
      }
    },
    {
      "cell_type": "code",
      "source": [
        "df.resample(rule='A').min()"
      ],
      "metadata": {
        "colab": {
          "base_uri": "https://localhost:8080/",
          "height": 112
        },
        "id": "kjMGji7iVZWb",
        "outputId": "ed845129-d9c1-41e7-92d5-9e98cd57ef90"
      },
      "execution_count": null,
      "outputs": [
        {
          "output_type": "execute_result",
          "data": {
            "text/plain": [
              "                    Open      High           Low         Close     Adj Close\n",
              "Datetime                                                                    \n",
              "2022-12-31  33929.398438  34074.75  33916.101562  33992.148438  33992.148438"
            ],
            "text/html": [
              "\n",
              "  <div id=\"df-66e9154e-e953-481b-81d7-ad51e7d487b4\">\n",
              "    <div class=\"colab-df-container\">\n",
              "      <div>\n",
              "<style scoped>\n",
              "    .dataframe tbody tr th:only-of-type {\n",
              "        vertical-align: middle;\n",
              "    }\n",
              "\n",
              "    .dataframe tbody tr th {\n",
              "        vertical-align: top;\n",
              "    }\n",
              "\n",
              "    .dataframe thead th {\n",
              "        text-align: right;\n",
              "    }\n",
              "</style>\n",
              "<table border=\"1\" class=\"dataframe\">\n",
              "  <thead>\n",
              "    <tr style=\"text-align: right;\">\n",
              "      <th></th>\n",
              "      <th>Open</th>\n",
              "      <th>High</th>\n",
              "      <th>Low</th>\n",
              "      <th>Close</th>\n",
              "      <th>Adj Close</th>\n",
              "    </tr>\n",
              "    <tr>\n",
              "      <th>Datetime</th>\n",
              "      <th></th>\n",
              "      <th></th>\n",
              "      <th></th>\n",
              "      <th></th>\n",
              "      <th></th>\n",
              "    </tr>\n",
              "  </thead>\n",
              "  <tbody>\n",
              "    <tr>\n",
              "      <th>2022-12-31</th>\n",
              "      <td>33929.398438</td>\n",
              "      <td>34074.75</td>\n",
              "      <td>33916.101562</td>\n",
              "      <td>33992.148438</td>\n",
              "      <td>33992.148438</td>\n",
              "    </tr>\n",
              "  </tbody>\n",
              "</table>\n",
              "</div>\n",
              "      <button class=\"colab-df-convert\" onclick=\"convertToInteractive('df-66e9154e-e953-481b-81d7-ad51e7d487b4')\"\n",
              "              title=\"Convert this dataframe to an interactive table.\"\n",
              "              style=\"display:none;\">\n",
              "        \n",
              "  <svg xmlns=\"http://www.w3.org/2000/svg\" height=\"24px\"viewBox=\"0 0 24 24\"\n",
              "       width=\"24px\">\n",
              "    <path d=\"M0 0h24v24H0V0z\" fill=\"none\"/>\n",
              "    <path d=\"M18.56 5.44l.94 2.06.94-2.06 2.06-.94-2.06-.94-.94-2.06-.94 2.06-2.06.94zm-11 1L8.5 8.5l.94-2.06 2.06-.94-2.06-.94L8.5 2.5l-.94 2.06-2.06.94zm10 10l.94 2.06.94-2.06 2.06-.94-2.06-.94-.94-2.06-.94 2.06-2.06.94z\"/><path d=\"M17.41 7.96l-1.37-1.37c-.4-.4-.92-.59-1.43-.59-.52 0-1.04.2-1.43.59L10.3 9.45l-7.72 7.72c-.78.78-.78 2.05 0 2.83L4 21.41c.39.39.9.59 1.41.59.51 0 1.02-.2 1.41-.59l7.78-7.78 2.81-2.81c.8-.78.8-2.07 0-2.86zM5.41 20L4 18.59l7.72-7.72 1.47 1.35L5.41 20z\"/>\n",
              "  </svg>\n",
              "      </button>\n",
              "      \n",
              "  <style>\n",
              "    .colab-df-container {\n",
              "      display:flex;\n",
              "      flex-wrap:wrap;\n",
              "      gap: 12px;\n",
              "    }\n",
              "\n",
              "    .colab-df-convert {\n",
              "      background-color: #E8F0FE;\n",
              "      border: none;\n",
              "      border-radius: 50%;\n",
              "      cursor: pointer;\n",
              "      display: none;\n",
              "      fill: #1967D2;\n",
              "      height: 32px;\n",
              "      padding: 0 0 0 0;\n",
              "      width: 32px;\n",
              "    }\n",
              "\n",
              "    .colab-df-convert:hover {\n",
              "      background-color: #E2EBFA;\n",
              "      box-shadow: 0px 1px 2px rgba(60, 64, 67, 0.3), 0px 1px 3px 1px rgba(60, 64, 67, 0.15);\n",
              "      fill: #174EA6;\n",
              "    }\n",
              "\n",
              "    [theme=dark] .colab-df-convert {\n",
              "      background-color: #3B4455;\n",
              "      fill: #D2E3FC;\n",
              "    }\n",
              "\n",
              "    [theme=dark] .colab-df-convert:hover {\n",
              "      background-color: #434B5C;\n",
              "      box-shadow: 0px 1px 3px 1px rgba(0, 0, 0, 0.15);\n",
              "      filter: drop-shadow(0px 1px 2px rgba(0, 0, 0, 0.3));\n",
              "      fill: #FFFFFF;\n",
              "    }\n",
              "  </style>\n",
              "\n",
              "      <script>\n",
              "        const buttonEl =\n",
              "          document.querySelector('#df-66e9154e-e953-481b-81d7-ad51e7d487b4 button.colab-df-convert');\n",
              "        buttonEl.style.display =\n",
              "          google.colab.kernel.accessAllowed ? 'block' : 'none';\n",
              "\n",
              "        async function convertToInteractive(key) {\n",
              "          const element = document.querySelector('#df-66e9154e-e953-481b-81d7-ad51e7d487b4');\n",
              "          const dataTable =\n",
              "            await google.colab.kernel.invokeFunction('convertToInteractive',\n",
              "                                                     [key], {});\n",
              "          if (!dataTable) return;\n",
              "\n",
              "          const docLinkHtml = 'Like what you see? Visit the ' +\n",
              "            '<a target=\"_blank\" href=https://colab.research.google.com/notebooks/data_table.ipynb>data table notebook</a>'\n",
              "            + ' to learn more about interactive tables.';\n",
              "          element.innerHTML = '';\n",
              "          dataTable['output_type'] = 'display_data';\n",
              "          await google.colab.output.renderOutput(dataTable, element);\n",
              "          const docLink = document.createElement('div');\n",
              "          docLink.innerHTML = docLinkHtml;\n",
              "          element.appendChild(docLink);\n",
              "        }\n",
              "      </script>\n",
              "    </div>\n",
              "  </div>\n",
              "  "
            ]
          },
          "metadata": {},
          "execution_count": 22
        }
      ]
    },
    {
      "cell_type": "code",
      "source": [
        "df.resample(rule='A').max()"
      ],
      "metadata": {
        "colab": {
          "base_uri": "https://localhost:8080/",
          "height": 112
        },
        "id": "f74RDyyjXLCa",
        "outputId": "56440a60-fd1a-4ac1-e0e0-9d6277461e4f"
      },
      "execution_count": null,
      "outputs": [
        {
          "output_type": "execute_result",
          "data": {
            "text/plain": [
              "                    Open          High           Low         Close  \\\n",
              "Datetime                                                             \n",
              "2022-12-31  41795.851562  41830.351562  41766.300781  41788.199219   \n",
              "\n",
              "               Adj Close  \n",
              "Datetime                  \n",
              "2022-12-31  41788.199219  "
            ],
            "text/html": [
              "\n",
              "  <div id=\"df-76be8121-987d-4bd2-9018-aa8e9e5d61f0\">\n",
              "    <div class=\"colab-df-container\">\n",
              "      <div>\n",
              "<style scoped>\n",
              "    .dataframe tbody tr th:only-of-type {\n",
              "        vertical-align: middle;\n",
              "    }\n",
              "\n",
              "    .dataframe tbody tr th {\n",
              "        vertical-align: top;\n",
              "    }\n",
              "\n",
              "    .dataframe thead th {\n",
              "        text-align: right;\n",
              "    }\n",
              "</style>\n",
              "<table border=\"1\" class=\"dataframe\">\n",
              "  <thead>\n",
              "    <tr style=\"text-align: right;\">\n",
              "      <th></th>\n",
              "      <th>Open</th>\n",
              "      <th>High</th>\n",
              "      <th>Low</th>\n",
              "      <th>Close</th>\n",
              "      <th>Adj Close</th>\n",
              "    </tr>\n",
              "    <tr>\n",
              "      <th>Datetime</th>\n",
              "      <th></th>\n",
              "      <th></th>\n",
              "      <th></th>\n",
              "      <th></th>\n",
              "      <th></th>\n",
              "    </tr>\n",
              "  </thead>\n",
              "  <tbody>\n",
              "    <tr>\n",
              "      <th>2022-12-31</th>\n",
              "      <td>41795.851562</td>\n",
              "      <td>41830.351562</td>\n",
              "      <td>41766.300781</td>\n",
              "      <td>41788.199219</td>\n",
              "      <td>41788.199219</td>\n",
              "    </tr>\n",
              "  </tbody>\n",
              "</table>\n",
              "</div>\n",
              "      <button class=\"colab-df-convert\" onclick=\"convertToInteractive('df-76be8121-987d-4bd2-9018-aa8e9e5d61f0')\"\n",
              "              title=\"Convert this dataframe to an interactive table.\"\n",
              "              style=\"display:none;\">\n",
              "        \n",
              "  <svg xmlns=\"http://www.w3.org/2000/svg\" height=\"24px\"viewBox=\"0 0 24 24\"\n",
              "       width=\"24px\">\n",
              "    <path d=\"M0 0h24v24H0V0z\" fill=\"none\"/>\n",
              "    <path d=\"M18.56 5.44l.94 2.06.94-2.06 2.06-.94-2.06-.94-.94-2.06-.94 2.06-2.06.94zm-11 1L8.5 8.5l.94-2.06 2.06-.94-2.06-.94L8.5 2.5l-.94 2.06-2.06.94zm10 10l.94 2.06.94-2.06 2.06-.94-2.06-.94-.94-2.06-.94 2.06-2.06.94z\"/><path d=\"M17.41 7.96l-1.37-1.37c-.4-.4-.92-.59-1.43-.59-.52 0-1.04.2-1.43.59L10.3 9.45l-7.72 7.72c-.78.78-.78 2.05 0 2.83L4 21.41c.39.39.9.59 1.41.59.51 0 1.02-.2 1.41-.59l7.78-7.78 2.81-2.81c.8-.78.8-2.07 0-2.86zM5.41 20L4 18.59l7.72-7.72 1.47 1.35L5.41 20z\"/>\n",
              "  </svg>\n",
              "      </button>\n",
              "      \n",
              "  <style>\n",
              "    .colab-df-container {\n",
              "      display:flex;\n",
              "      flex-wrap:wrap;\n",
              "      gap: 12px;\n",
              "    }\n",
              "\n",
              "    .colab-df-convert {\n",
              "      background-color: #E8F0FE;\n",
              "      border: none;\n",
              "      border-radius: 50%;\n",
              "      cursor: pointer;\n",
              "      display: none;\n",
              "      fill: #1967D2;\n",
              "      height: 32px;\n",
              "      padding: 0 0 0 0;\n",
              "      width: 32px;\n",
              "    }\n",
              "\n",
              "    .colab-df-convert:hover {\n",
              "      background-color: #E2EBFA;\n",
              "      box-shadow: 0px 1px 2px rgba(60, 64, 67, 0.3), 0px 1px 3px 1px rgba(60, 64, 67, 0.15);\n",
              "      fill: #174EA6;\n",
              "    }\n",
              "\n",
              "    [theme=dark] .colab-df-convert {\n",
              "      background-color: #3B4455;\n",
              "      fill: #D2E3FC;\n",
              "    }\n",
              "\n",
              "    [theme=dark] .colab-df-convert:hover {\n",
              "      background-color: #434B5C;\n",
              "      box-shadow: 0px 1px 3px 1px rgba(0, 0, 0, 0.15);\n",
              "      filter: drop-shadow(0px 1px 2px rgba(0, 0, 0, 0.3));\n",
              "      fill: #FFFFFF;\n",
              "    }\n",
              "  </style>\n",
              "\n",
              "      <script>\n",
              "        const buttonEl =\n",
              "          document.querySelector('#df-76be8121-987d-4bd2-9018-aa8e9e5d61f0 button.colab-df-convert');\n",
              "        buttonEl.style.display =\n",
              "          google.colab.kernel.accessAllowed ? 'block' : 'none';\n",
              "\n",
              "        async function convertToInteractive(key) {\n",
              "          const element = document.querySelector('#df-76be8121-987d-4bd2-9018-aa8e9e5d61f0');\n",
              "          const dataTable =\n",
              "            await google.colab.kernel.invokeFunction('convertToInteractive',\n",
              "                                                     [key], {});\n",
              "          if (!dataTable) return;\n",
              "\n",
              "          const docLinkHtml = 'Like what you see? Visit the ' +\n",
              "            '<a target=\"_blank\" href=https://colab.research.google.com/notebooks/data_table.ipynb>data table notebook</a>'\n",
              "            + ' to learn more about interactive tables.';\n",
              "          element.innerHTML = '';\n",
              "          dataTable['output_type'] = 'display_data';\n",
              "          await google.colab.output.renderOutput(dataTable, element);\n",
              "          const docLink = document.createElement('div');\n",
              "          docLink.innerHTML = docLinkHtml;\n",
              "          element.appendChild(docLink);\n",
              "        }\n",
              "      </script>\n",
              "    </div>\n",
              "  </div>\n",
              "  "
            ]
          },
          "metadata": {},
          "execution_count": 23
        }
      ]
    },
    {
      "cell_type": "markdown",
      "source": [
        "Checked what is the minimum and maximum prize at the year end."
      ],
      "metadata": {
        "id": "FClNgTagXP4S"
      }
    },
    {
      "cell_type": "markdown",
      "source": [
        "We can check how quartley the price is varying. Since we have only 3 months of data, only one record."
      ],
      "metadata": {
        "id": "QknrGpnbYf8V"
      }
    },
    {
      "cell_type": "code",
      "source": [
        "df.resample(rule='QS').min()['High']"
      ],
      "metadata": {
        "colab": {
          "base_uri": "https://localhost:8080/"
        },
        "id": "T2TqjECAXY5B",
        "outputId": "e2921cf5-9725-426b-cb80-93d81c46f57a"
      },
      "execution_count": null,
      "outputs": [
        {
          "output_type": "execute_result",
          "data": {
            "text/plain": [
              "Datetime\n",
              "2022-07-01    34074.75\n",
              "Freq: QS-JAN, Name: High, dtype: float64"
            ]
          },
          "metadata": {},
          "execution_count": 24
        }
      ]
    },
    {
      "cell_type": "code",
      "source": [
        "df.resample(rule='QS').min()['High'].plot()"
      ],
      "metadata": {
        "colab": {
          "base_uri": "https://localhost:8080/",
          "height": 357
        },
        "id": "kHfZp5zqY3_X",
        "outputId": "d46dbb8c-6ea1-4a21-c2ec-37766338dad0"
      },
      "execution_count": null,
      "outputs": [
        {
          "output_type": "stream",
          "name": "stderr",
          "text": [
            "/usr/local/lib/python3.7/dist-packages/pandas/plotting/_matplotlib/core.py:1200: UserWarning: Attempting to set identical left == right == 210.0 results in singular transformations; automatically expanding.\n",
            "  ax.set_xlim(left, right)\n"
          ]
        },
        {
          "output_type": "execute_result",
          "data": {
            "text/plain": [
              "<matplotlib.axes._subplots.AxesSubplot at 0x7f672f180910>"
            ]
          },
          "metadata": {},
          "execution_count": 25
        },
        {
          "output_type": "display_data",
          "data": {
            "text/plain": [
              "<Figure size 432x288 with 1 Axes>"
            ],
            "image/png": "[encoded data removed]"
          },
          "metadata": {
            "needs_background": "light"
          }
        }
      ]
    },
    {
      "cell_type": "code",
      "source": [
        "df.resample(rule='QS').max()['High']"
      ],
      "metadata": {
        "colab": {
          "base_uri": "https://localhost:8080/"
        },
        "id": "bwA_i-H0Y_Xj",
        "outputId": "5af190ef-8594-4a6b-bb1b-5cb42b8bfbc8"
      },
      "execution_count": null,
      "outputs": [
        {
          "output_type": "execute_result",
          "data": {
            "text/plain": [
              "Datetime\n",
              "2022-07-01    41830.351562\n",
              "Freq: QS-JAN, Name: High, dtype: float64"
            ]
          },
          "metadata": {},
          "execution_count": 26
        }
      ]
    },
    {
      "cell_type": "markdown",
      "source": [
        "Business End Frequency"
      ],
      "metadata": {
        "id": "WSv5epUgZF0O"
      }
    },
    {
      "cell_type": "code",
      "source": [
        "df.resample(rule='BA').max()['High']"
      ],
      "metadata": {
        "colab": {
          "base_uri": "https://localhost:8080/"
        },
        "id": "HcUD-_YAboAS",
        "outputId": "bd15f97c-c635-4bd2-f305-20f7f7328d16"
      },
      "execution_count": null,
      "outputs": [
        {
          "output_type": "execute_result",
          "data": {
            "text/plain": [
              "Datetime\n",
              "2022-12-30    41830.351562\n",
              "Freq: BA-DEC, Name: High, dtype: float64"
            ]
          },
          "metadata": {},
          "execution_count": 27
        }
      ]
    },
    {
      "cell_type": "markdown",
      "source": [
        "Business End Frequency quartley"
      ],
      "metadata": {
        "id": "lkzjxRfKdFAe"
      }
    },
    {
      "cell_type": "code",
      "source": [
        "df.resample(rule='BQS').max()['High']"
      ],
      "metadata": {
        "colab": {
          "base_uri": "https://localhost:8080/"
        },
        "id": "IjxRKqklZDde",
        "outputId": "34ad6667-ee3c-4fbd-d9f0-6aa5da74b70e"
      },
      "execution_count": null,
      "outputs": [
        {
          "output_type": "execute_result",
          "data": {
            "text/plain": [
              "Datetime\n",
              "2022-07-01    41830.351562\n",
              "Freq: BQS-JAN, Name: High, dtype: float64"
            ]
          },
          "metadata": {},
          "execution_count": 28
        }
      ]
    },
    {
      "cell_type": "markdown",
      "source": [
        "**Fetching the maximum price from lastday of Month**"
      ],
      "metadata": {
        "id": "T20LLjnGb-z3"
      }
    },
    {
      "cell_type": "code",
      "source": [
        "df['Open'].resample(rule='M').max()"
      ],
      "metadata": {
        "colab": {
          "base_uri": "https://localhost:8080/"
        },
        "id": "F_IXNzgyabXb",
        "outputId": "a0b567e7-4250-455b-f051-6619bc4bd4b8"
      },
      "execution_count": null,
      "outputs": [
        {
          "output_type": "execute_result",
          "data": {
            "text/plain": [
              "Datetime\n",
              "2022-07-31    37717.300781\n",
              "2022-08-31    39732.648438\n",
              "2022-09-30    41795.851562\n",
              "Freq: M, Name: Open, dtype: float64"
            ]
          },
          "metadata": {},
          "execution_count": 29
        }
      ]
    },
    {
      "cell_type": "code",
      "source": [
        "df.resample(rule='M').max().plot(kind='bar',figsize=(15,6))"
      ],
      "metadata": {
        "colab": {
          "base_uri": "https://localhost:8080/",
          "height": 497
        },
        "id": "3WGUwLVwdlG6",
        "outputId": "f593c742-a591-4b03-aff3-f4c728889468"
      },
      "execution_count": null,
      "outputs": [
        {
          "output_type": "execute_result",
          "data": {
            "text/plain": [
              "<matplotlib.axes._subplots.AxesSubplot at 0x7f672f0eba10>"
            ]
          },
          "metadata": {},
          "execution_count": 30
        },
        {
          "output_type": "display_data",
          "data": {
            "text/plain": [
              "<Figure size 1080x432 with 1 Axes>"
            ],
            "image/png": "[encoded data removed]"
          },
          "metadata": {
            "needs_background": "light"
          }
        }
      ]
    },
    {
      "cell_type": "code",
      "source": [
        "df['Open'].resample(rule='M').max().plot(kind='bar',figsize=(15,6))"
      ],
      "metadata": {
        "colab": {
          "base_uri": "https://localhost:8080/",
          "height": 497
        },
        "id": "JlPiukuLcSC_",
        "outputId": "c2ddbdf2-b4a5-4a7b-efb6-8c654453a89a"
      },
      "execution_count": null,
      "outputs": [
        {
          "output_type": "execute_result",
          "data": {
            "text/plain": [
              "<matplotlib.axes._subplots.AxesSubplot at 0x7f672f19a8d0>"
            ]
          },
          "metadata": {},
          "execution_count": 31
        },
        {
          "output_type": "display_data",
          "data": {
            "text/plain": [
              "<Figure size 1080x432 with 1 Axes>"
            ],
            "image/png": "[encoded data removed]"
          },
          "metadata": {
            "needs_background": "light"
          }
        }
      ]
    },
    {
      "cell_type": "markdown",
      "source": [
        "**Fetching the minimum price from lastday of Month**"
      ],
      "metadata": {
        "id": "K0P2paCOdK93"
      }
    },
    {
      "cell_type": "code",
      "source": [
        "df['Open'].resample(rule='M').min()"
      ],
      "metadata": {
        "colab": {
          "base_uri": "https://localhost:8080/"
        },
        "id": "LR-_pBmTc0M2",
        "outputId": "a1b4a3f1-a844-45fe-c553-4968e27bd513"
      },
      "execution_count": null,
      "outputs": [
        {
          "output_type": "execute_result",
          "data": {
            "text/plain": [
              "Datetime\n",
              "2022-07-31    33929.398438\n",
              "2022-08-31    37349.550781\n",
              "2022-09-30    37428.148438\n",
              "Freq: M, Name: Open, dtype: float64"
            ]
          },
          "metadata": {},
          "execution_count": 32
        }
      ]
    },
    {
      "cell_type": "code",
      "source": [
        "df.resample(rule='M').max().plot(kind='bar',figsize=(15,6))"
      ],
      "metadata": {
        "colab": {
          "base_uri": "https://localhost:8080/",
          "height": 497
        },
        "id": "HgkZ0wsxc4L0",
        "outputId": "2683bd80-0ff5-4f55-c6d7-cca8dd254650"
      },
      "execution_count": null,
      "outputs": [
        {
          "output_type": "execute_result",
          "data": {
            "text/plain": [
              "<matplotlib.axes._subplots.AxesSubplot at 0x7f672fa74690>"
            ]
          },
          "metadata": {},
          "execution_count": 33
        },
        {
          "output_type": "display_data",
          "data": {
            "text/plain": [
              "<Figure size 1080x432 with 1 Axes>"
            ],
            "image/png": "[encoded data removed]"
          },
          "metadata": {
            "needs_background": "light"
          }
        }
      ]
    },
    {
      "cell_type": "markdown",
      "source": [
        "**Fetching the maximum price from begining of Month**"
      ],
      "metadata": {
        "id": "Suo5AmRHyF-W"
      }
    },
    {
      "cell_type": "code",
      "source": [
        "df.resample(rule='MS').max()"
      ],
      "metadata": {
        "colab": {
          "base_uri": "https://localhost:8080/",
          "height": 175
        },
        "id": "0znkEiokz0kV",
        "outputId": "4085c3cf-0a57-455b-cf5b-f56693417b85"
      },
      "execution_count": null,
      "outputs": [
        {
          "output_type": "execute_result",
          "data": {
            "text/plain": [
              "                    Open          High           Low         Close  \\\n",
              "Datetime                                                             \n",
              "2022-07-01  37717.300781  37737.898438  37665.550781  37696.898438   \n",
              "2022-08-01  39732.648438  39750.898438  39663.398438  39680.199219   \n",
              "2022-09-01  41795.851562  41830.351562  41766.300781  41788.199219   \n",
              "\n",
              "               Adj Close  \n",
              "Datetime                  \n",
              "2022-07-01  37696.898438  \n",
              "2022-08-01  39680.199219  \n",
              "2022-09-01  41788.199219  "
            ],
            "text/html": [
              "\n",
              "  <div id=\"df-8f045cdd-3160-49fd-a4d4-4f0d83cab1f6\">\n",
              "    <div class=\"colab-df-container\">\n",
              "      <div>\n",
              "<style scoped>\n",
              "    .dataframe tbody tr th:only-of-type {\n",
              "        vertical-align: middle;\n",
              "    }\n",
              "\n",
              "    .dataframe tbody tr th {\n",
              "        vertical-align: top;\n",
              "    }\n",
              "\n",
              "    .dataframe thead th {\n",
              "        text-align: right;\n",
              "    }\n",
              "</style>\n",
              "<table border=\"1\" class=\"dataframe\">\n",
              "  <thead>\n",
              "    <tr style=\"text-align: right;\">\n",
              "      <th></th>\n",
              "      <th>Open</th>\n",
              "      <th>High</th>\n",
              "      <th>Low</th>\n",
              "      <th>Close</th>\n",
              "      <th>Adj Close</th>\n",
              "    </tr>\n",
              "    <tr>\n",
              "      <th>Datetime</th>\n",
              "      <th></th>\n",
              "      <th></th>\n",
              "      <th></th>\n",
              "      <th></th>\n",
              "      <th></th>\n",
              "    </tr>\n",
              "  </thead>\n",
              "  <tbody>\n",
              "    <tr>\n",
              "      <th>2022-07-01</th>\n",
              "      <td>37717.300781</td>\n",
              "      <td>37737.898438</td>\n",
              "      <td>37665.550781</td>\n",
              "      <td>37696.898438</td>\n",
              "      <td>37696.898438</td>\n",
              "    </tr>\n",
              "    <tr>\n",
              "      <th>2022-08-01</th>\n",
              "      <td>39732.648438</td>\n",
              "      <td>39750.898438</td>\n",
              "      <td>39663.398438</td>\n",
              "      <td>39680.199219</td>\n",
              "      <td>39680.199219</td>\n",
              "    </tr>\n",
              "    <tr>\n",
              "      <th>2022-09-01</th>\n",
              "      <td>41795.851562</td>\n",
              "      <td>41830.351562</td>\n",
              "      <td>41766.300781</td>\n",
              "      <td>41788.199219</td>\n",
              "      <td>41788.199219</td>\n",
              "    </tr>\n",
              "  </tbody>\n",
              "</table>\n",
              "</div>\n",
              "      <button class=\"colab-df-convert\" onclick=\"convertToInteractive('df-8f045cdd-3160-49fd-a4d4-4f0d83cab1f6')\"\n",
              "              title=\"Convert this dataframe to an interactive table.\"\n",
              "              style=\"display:none;\">\n",
              "        \n",
              "  <svg xmlns=\"http://www.w3.org/2000/svg\" height=\"24px\"viewBox=\"0 0 24 24\"\n",
              "       width=\"24px\">\n",
              "    <path d=\"M0 0h24v24H0V0z\" fill=\"none\"/>\n",
              "    <path d=\"M18.56 5.44l.94 2.06.94-2.06 2.06-.94-2.06-.94-.94-2.06-.94 2.06-2.06.94zm-11 1L8.5 8.5l.94-2.06 2.06-.94-2.06-.94L8.5 2.5l-.94 2.06-2.06.94zm10 10l.94 2.06.94-2.06 2.06-.94-2.06-.94-.94-2.06-.94 2.06-2.06.94z\"/><path d=\"M17.41 7.96l-1.37-1.37c-.4-.4-.92-.59-1.43-.59-.52 0-1.04.2-1.43.59L10.3 9.45l-7.72 7.72c-.78.78-.78 2.05 0 2.83L4 21.41c.39.39.9.59 1.41.59.51 0 1.02-.2 1.41-.59l7.78-7.78 2.81-2.81c.8-.78.8-2.07 0-2.86zM5.41 20L4 18.59l7.72-7.72 1.47 1.35L5.41 20z\"/>\n",
              "  </svg>\n",
              "      </button>\n",
              "      \n",
              "  <style>\n",
              "    .colab-df-container {\n",
              "      display:flex;\n",
              "      flex-wrap:wrap;\n",
              "      gap: 12px;\n",
              "    }\n",
              "\n",
              "    .colab-df-convert {\n",
              "      background-color: #E8F0FE;\n",
              "      border: none;\n",
              "      border-radius: 50%;\n",
              "      cursor: pointer;\n",
              "      display: none;\n",
              "      fill: #1967D2;\n",
              "      height: 32px;\n",
              "      padding: 0 0 0 0;\n",
              "      width: 32px;\n",
              "    }\n",
              "\n",
              "    .colab-df-convert:hover {\n",
              "      background-color: #E2EBFA;\n",
              "      box-shadow: 0px 1px 2px rgba(60, 64, 67, 0.3), 0px 1px 3px 1px rgba(60, 64, 67, 0.15);\n",
              "      fill: #174EA6;\n",
              "    }\n",
              "\n",
              "    [theme=dark] .colab-df-convert {\n",
              "      background-color: #3B4455;\n",
              "      fill: #D2E3FC;\n",
              "    }\n",
              "\n",
              "    [theme=dark] .colab-df-convert:hover {\n",
              "      background-color: #434B5C;\n",
              "      box-shadow: 0px 1px 3px 1px rgba(0, 0, 0, 0.15);\n",
              "      filter: drop-shadow(0px 1px 2px rgba(0, 0, 0, 0.3));\n",
              "      fill: #FFFFFF;\n",
              "    }\n",
              "  </style>\n",
              "\n",
              "      <script>\n",
              "        const buttonEl =\n",
              "          document.querySelector('#df-8f045cdd-3160-49fd-a4d4-4f0d83cab1f6 button.colab-df-convert');\n",
              "        buttonEl.style.display =\n",
              "          google.colab.kernel.accessAllowed ? 'block' : 'none';\n",
              "\n",
              "        async function convertToInteractive(key) {\n",
              "          const element = document.querySelector('#df-8f045cdd-3160-49fd-a4d4-4f0d83cab1f6');\n",
              "          const dataTable =\n",
              "            await google.colab.kernel.invokeFunction('convertToInteractive',\n",
              "                                                     [key], {});\n",
              "          if (!dataTable) return;\n",
              "\n",
              "          const docLinkHtml = 'Like what you see? Visit the ' +\n",
              "            '<a target=\"_blank\" href=https://colab.research.google.com/notebooks/data_table.ipynb>data table notebook</a>'\n",
              "            + ' to learn more about interactive tables.';\n",
              "          element.innerHTML = '';\n",
              "          dataTable['output_type'] = 'display_data';\n",
              "          await google.colab.output.renderOutput(dataTable, element);\n",
              "          const docLink = document.createElement('div');\n",
              "          docLink.innerHTML = docLinkHtml;\n",
              "          element.appendChild(docLink);\n",
              "        }\n",
              "      </script>\n",
              "    </div>\n",
              "  </div>\n",
              "  "
            ]
          },
          "metadata": {},
          "execution_count": 34
        }
      ]
    },
    {
      "cell_type": "code",
      "source": [
        "df.resample(rule='MS').max().plot(kind='bar',figsize=(15,6))"
      ],
      "metadata": {
        "colab": {
          "base_uri": "https://localhost:8080/",
          "height": 497
        },
        "id": "nEfwzgzTyFNV",
        "outputId": "6b89573c-731f-4bfc-f7e7-dc9c5548e58e"
      },
      "execution_count": null,
      "outputs": [
        {
          "output_type": "execute_result",
          "data": {
            "text/plain": [
              "<matplotlib.axes._subplots.AxesSubplot at 0x7f672fbcbed0>"
            ]
          },
          "metadata": {},
          "execution_count": 35
        },
        {
          "output_type": "display_data",
          "data": {
            "text/plain": [
              "<Figure size 1080x432 with 1 Axes>"
            ],
            "image/png": "[encoded data removed]"
          },
          "metadata": {
            "needs_background": "light"
          }
        }
      ]
    },
    {
      "cell_type": "markdown",
      "source": [
        "Reference: https://towardsdatascience.com/resample-function-of-pandas-79b17ec82a78\n"
      ],
      "metadata": {
        "id": "UYdxi-hy0LqS"
      }
    },
    {
      "cell_type": "markdown",
      "source": [
        "**Simple Moving Average**"
      ],
      "metadata": {
        "id": "ug2h_PeuQHFs"
      }
    },
    {
      "cell_type": "code",
      "source": [
        "df['Open:10 days rolling']=df['Open'].rolling(10).mean()"
      ],
      "metadata": {
        "id": "cq1fxaIsM2X_"
      },
      "execution_count": null,
      "outputs": []
    },
    {
      "cell_type": "code",
      "source": [
        "df.head(20)"
      ],
      "metadata": {
        "colab": {
          "base_uri": "https://localhost:8080/",
          "height": 708
        },
        "id": "Zu6KmfFBNE2R",
        "outputId": "cfea38ad-0e36-45d6-8b23-de475e14d51e"
      },
      "execution_count": null,
      "outputs": [
        {
          "output_type": "execute_result",
          "data": {
            "text/plain": [
              "                    Open          High           Low         Close  \\\n",
              "Datetime                                                             \n",
              "2022-07-06  33929.398438  34091.250000  33916.101562  34023.648438   \n",
              "2022-07-06  34022.050781  34132.898438  34022.050781  34129.148438   \n",
              "2022-07-06  34127.601562  34158.000000  34107.148438  34143.449219   \n",
              "2022-07-06  34137.601562  34155.101562  34096.250000  34120.199219   \n",
              "2022-07-06  34119.750000  34135.699219  34092.000000  34092.000000   \n",
              "2022-07-06  34093.550781  34102.050781  33988.800781  33992.148438   \n",
              "2022-07-06  33997.500000  34107.148438  33962.851562  34107.148438   \n",
              "2022-07-06  34108.699219  34138.800781  34098.250000  34117.101562   \n",
              "2022-07-06  34118.300781  34122.648438  34051.000000  34060.300781   \n",
              "2022-07-06  34060.000000  34074.750000  34044.101562  34066.101562   \n",
              "2022-07-06  34065.898438  34101.949219  34037.750000  34086.148438   \n",
              "2022-07-06  34086.949219  34098.601562  34063.250000  34096.449219   \n",
              "2022-07-06  34098.199219  34098.199219  34068.648438  34079.101562   \n",
              "2022-07-06  34079.101562  34088.550781  34061.148438  34082.351562   \n",
              "2022-07-06  34083.148438  34125.601562  34083.148438  34113.300781   \n",
              "2022-07-06  34113.949219  34145.199219  34090.250000  34106.449219   \n",
              "2022-07-06  34107.699219  34141.101562  34095.000000  34130.148438   \n",
              "2022-07-06  34132.101562  34159.648438  34119.250000  34154.949219   \n",
              "2022-07-06  34155.550781  34219.648438  34149.851562  34218.550781   \n",
              "2022-07-06  34218.101562  34253.148438  34203.750000  34225.148438   \n",
              "\n",
              "               Adj Close  Open:10 days rolling  \n",
              "Datetime                                        \n",
              "2022-07-06  34023.648438                   NaN  \n",
              "2022-07-06  34129.148438                   NaN  \n",
              "2022-07-06  34143.449219                   NaN  \n",
              "2022-07-06  34120.199219                   NaN  \n",
              "2022-07-06  34092.000000                   NaN  \n",
              "2022-07-06  33992.148438                   NaN  \n",
              "2022-07-06  34107.148438                   NaN  \n",
              "2022-07-06  34117.101562                   NaN  \n",
              "2022-07-06  34060.300781                   NaN  \n",
              "2022-07-06  34066.101562          34071.445312  \n",
              "2022-07-06  34086.148438          34085.095313  \n",
              "2022-07-06  34096.449219          34091.585156  \n",
              "2022-07-06  34079.101562          34088.644922  \n",
              "2022-07-06  34082.351562          34082.794922  \n",
              "2022-07-06  34113.300781          34079.134766  \n",
              "2022-07-06  34106.449219          34081.174609  \n",
              "2022-07-06  34130.148438          34092.194531  \n",
              "2022-07-06  34154.949219          34094.534766  \n",
              "2022-07-06  34218.550781          34098.259766  \n",
              "2022-07-06  34225.148438          34114.069922  "
            ],
            "text/html": [
              "\n",
              "  <div id=\"df-736a82dc-ae71-49b9-83f8-6c7befced558\">\n",
              "    <div class=\"colab-df-container\">\n",
              "      <div>\n",
              "<style scoped>\n",
              "    .dataframe tbody tr th:only-of-type {\n",
              "        vertical-align: middle;\n",
              "    }\n",
              "\n",
              "    .dataframe tbody tr th {\n",
              "        vertical-align: top;\n",
              "    }\n",
              "\n",
              "    .dataframe thead th {\n",
              "        text-align: right;\n",
              "    }\n",
              "</style>\n",
              "<table border=\"1\" class=\"dataframe\">\n",
              "  <thead>\n",
              "    <tr style=\"text-align: right;\">\n",
              "      <th></th>\n",
              "      <th>Open</th>\n",
              "      <th>High</th>\n",
              "      <th>Low</th>\n",
              "      <th>Close</th>\n",
              "      <th>Adj Close</th>\n",
              "      <th>Open:10 days rolling</th>\n",
              "    </tr>\n",
              "    <tr>\n",
              "      <th>Datetime</th>\n",
              "      <th></th>\n",
              "      <th></th>\n",
              "      <th></th>\n",
              "      <th></th>\n",
              "      <th></th>\n",
              "      <th></th>\n",
              "    </tr>\n",
              "  </thead>\n",
              "  <tbody>\n",
              "    <tr>\n",
              "      <th>2022-07-06</th>\n",
              "      <td>33929.398438</td>\n",
              "      <td>34091.250000</td>\n",
              "      <td>33916.101562</td>\n",
              "      <td>34023.648438</td>\n",
              "      <td>34023.648438</td>\n",
              "      <td>NaN</td>\n",
              "    </tr>\n",
              "    <tr>\n",
              "      <th>2022-07-06</th>\n",
              "      <td>34022.050781</td>\n",
              "      <td>34132.898438</td>\n",
              "      <td>34022.050781</td>\n",
              "      <td>34129.148438</td>\n",
              "      <td>34129.148438</td>\n",
              "      <td>NaN</td>\n",
              "    </tr>\n",
              "    <tr>\n",
              "      <th>2022-07-06</th>\n",
              "      <td>34127.601562</td>\n",
              "      <td>34158.000000</td>\n",
              "      <td>34107.148438</td>\n",
              "      <td>34143.449219</td>\n",
              "      <td>34143.449219</td>\n",
              "      <td>NaN</td>\n",
              "    </tr>\n",
              "    <tr>\n",
              "      <th>2022-07-06</th>\n",
              "      <td>34137.601562</td>\n",
              "      <td>34155.101562</td>\n",
              "      <td>34096.250000</td>\n",
              "      <td>34120.199219</td>\n",
              "      <td>34120.199219</td>\n",
              "      <td>NaN</td>\n",
              "    </tr>\n",
              "    <tr>\n",
              "      <th>2022-07-06</th>\n",
              "      <td>34119.750000</td>\n",
              "      <td>34135.699219</td>\n",
              "      <td>34092.000000</td>\n",
              "      <td>34092.000000</td>\n",
              "      <td>34092.000000</td>\n",
              "      <td>NaN</td>\n",
              "    </tr>\n",
              "    <tr>\n",
              "      <th>2022-07-06</th>\n",
              "      <td>34093.550781</td>\n",
              "      <td>34102.050781</td>\n",
              "      <td>33988.800781</td>\n",
              "      <td>33992.148438</td>\n",
              "      <td>33992.148438</td>\n",
              "      <td>NaN</td>\n",
              "    </tr>\n",
              "    <tr>\n",
              "      <th>2022-07-06</th>\n",
              "      <td>33997.500000</td>\n",
              "      <td>34107.148438</td>\n",
              "      <td>33962.851562</td>\n",
              "      <td>34107.148438</td>\n",
              "      <td>34107.148438</td>\n",
              "      <td>NaN</td>\n",
              "    </tr>\n",
              "    <tr>\n",
              "      <th>2022-07-06</th>\n",
              "      <td>34108.699219</td>\n",
              "      <td>34138.800781</td>\n",
              "      <td>34098.250000</td>\n",
              "      <td>34117.101562</td>\n",
              "      <td>34117.101562</td>\n",
              "      <td>NaN</td>\n",
              "    </tr>\n",
              "    <tr>\n",
              "      <th>2022-07-06</th>\n",
              "      <td>34118.300781</td>\n",
              "      <td>34122.648438</td>\n",
              "      <td>34051.000000</td>\n",
              "      <td>34060.300781</td>\n",
              "      <td>34060.300781</td>\n",
              "      <td>NaN</td>\n",
              "    </tr>\n",
              "    <tr>\n",
              "      <th>2022-07-06</th>\n",
              "      <td>34060.000000</td>\n",
              "      <td>34074.750000</td>\n",
              "      <td>34044.101562</td>\n",
              "      <td>34066.101562</td>\n",
              "      <td>34066.101562</td>\n",
              "      <td>34071.445312</td>\n",
              "    </tr>\n",
              "    <tr>\n",
              "      <th>2022-07-06</th>\n",
              "      <td>34065.898438</td>\n",
              "      <td>34101.949219</td>\n",
              "      <td>34037.750000</td>\n",
              "      <td>34086.148438</td>\n",
              "      <td>34086.148438</td>\n",
              "      <td>34085.095313</td>\n",
              "    </tr>\n",
              "    <tr>\n",
              "      <th>2022-07-06</th>\n",
              "      <td>34086.949219</td>\n",
              "      <td>34098.601562</td>\n",
              "      <td>34063.250000</td>\n",
              "      <td>34096.449219</td>\n",
              "      <td>34096.449219</td>\n",
              "      <td>34091.585156</td>\n",
              "    </tr>\n",
              "    <tr>\n",
              "      <th>2022-07-06</th>\n",
              "      <td>34098.199219</td>\n",
              "      <td>34098.199219</td>\n",
              "      <td>34068.648438</td>\n",
              "      <td>34079.101562</td>\n",
              "      <td>34079.101562</td>\n",
              "      <td>34088.644922</td>\n",
              "    </tr>\n",
              "    <tr>\n",
              "      <th>2022-07-06</th>\n",
              "      <td>34079.101562</td>\n",
              "      <td>34088.550781</td>\n",
              "      <td>34061.148438</td>\n",
              "      <td>34082.351562</td>\n",
              "      <td>34082.351562</td>\n",
              "      <td>34082.794922</td>\n",
              "    </tr>\n",
              "    <tr>\n",
              "      <th>2022-07-06</th>\n",
              "      <td>34083.148438</td>\n",
              "      <td>34125.601562</td>\n",
              "      <td>34083.148438</td>\n",
              "      <td>34113.300781</td>\n",
              "      <td>34113.300781</td>\n",
              "      <td>34079.134766</td>\n",
              "    </tr>\n",
              "    <tr>\n",
              "      <th>2022-07-06</th>\n",
              "      <td>34113.949219</td>\n",
              "      <td>34145.199219</td>\n",
              "      <td>34090.250000</td>\n",
              "      <td>34106.449219</td>\n",
              "      <td>34106.449219</td>\n",
              "      <td>34081.174609</td>\n",
              "    </tr>\n",
              "    <tr>\n",
              "      <th>2022-07-06</th>\n",
              "      <td>34107.699219</td>\n",
              "      <td>34141.101562</td>\n",
              "      <td>34095.000000</td>\n",
              "      <td>34130.148438</td>\n",
              "      <td>34130.148438</td>\n",
              "      <td>34092.194531</td>\n",
              "    </tr>\n",
              "    <tr>\n",
              "      <th>2022-07-06</th>\n",
              "      <td>34132.101562</td>\n",
              "      <td>34159.648438</td>\n",
              "      <td>34119.250000</td>\n",
              "      <td>34154.949219</td>\n",
              "      <td>34154.949219</td>\n",
              "      <td>34094.534766</td>\n",
              "    </tr>\n",
              "    <tr>\n",
              "      <th>2022-07-06</th>\n",
              "      <td>34155.550781</td>\n",
              "      <td>34219.648438</td>\n",
              "      <td>34149.851562</td>\n",
              "      <td>34218.550781</td>\n",
              "      <td>34218.550781</td>\n",
              "      <td>34098.259766</td>\n",
              "    </tr>\n",
              "    <tr>\n",
              "      <th>2022-07-06</th>\n",
              "      <td>34218.101562</td>\n",
              "      <td>34253.148438</td>\n",
              "      <td>34203.750000</td>\n",
              "      <td>34225.148438</td>\n",
              "      <td>34225.148438</td>\n",
              "      <td>34114.069922</td>\n",
              "    </tr>\n",
              "  </tbody>\n",
              "</table>\n",
              "</div>\n",
              "      <button class=\"colab-df-convert\" onclick=\"convertToInteractive('df-736a82dc-ae71-49b9-83f8-6c7befced558')\"\n",
              "              title=\"Convert this dataframe to an interactive table.\"\n",
              "              style=\"display:none;\">\n",
              "        \n",
              "  <svg xmlns=\"http://www.w3.org/2000/svg\" height=\"24px\"viewBox=\"0 0 24 24\"\n",
              "       width=\"24px\">\n",
              "    <path d=\"M0 0h24v24H0V0z\" fill=\"none\"/>\n",
              "    <path d=\"M18.56 5.44l.94 2.06.94-2.06 2.06-.94-2.06-.94-.94-2.06-.94 2.06-2.06.94zm-11 1L8.5 8.5l.94-2.06 2.06-.94-2.06-.94L8.5 2.5l-.94 2.06-2.06.94zm10 10l.94 2.06.94-2.06 2.06-.94-2.06-.94-.94-2.06-.94 2.06-2.06.94z\"/><path d=\"M17.41 7.96l-1.37-1.37c-.4-.4-.92-.59-1.43-.59-.52 0-1.04.2-1.43.59L10.3 9.45l-7.72 7.72c-.78.78-.78 2.05 0 2.83L4 21.41c.39.39.9.59 1.41.59.51 0 1.02-.2 1.41-.59l7.78-7.78 2.81-2.81c.8-.78.8-2.07 0-2.86zM5.41 20L4 18.59l7.72-7.72 1.47 1.35L5.41 20z\"/>\n",
              "  </svg>\n",
              "      </button>\n",
              "      \n",
              "  <style>\n",
              "    .colab-df-container {\n",
              "      display:flex;\n",
              "      flex-wrap:wrap;\n",
              "      gap: 12px;\n",
              "    }\n",
              "\n",
              "    .colab-df-convert {\n",
              "      background-color: #E8F0FE;\n",
              "      border: none;\n",
              "      border-radius: 50%;\n",
              "      cursor: pointer;\n",
              "      display: none;\n",
              "      fill: #1967D2;\n",
              "      height: 32px;\n",
              "      padding: 0 0 0 0;\n",
              "      width: 32px;\n",
              "    }\n",
              "\n",
              "    .colab-df-convert:hover {\n",
              "      background-color: #E2EBFA;\n",
              "      box-shadow: 0px 1px 2px rgba(60, 64, 67, 0.3), 0px 1px 3px 1px rgba(60, 64, 67, 0.15);\n",
              "      fill: #174EA6;\n",
              "    }\n",
              "\n",
              "    [theme=dark] .colab-df-convert {\n",
              "      background-color: #3B4455;\n",
              "      fill: #D2E3FC;\n",
              "    }\n",
              "\n",
              "    [theme=dark] .colab-df-convert:hover {\n",
              "      background-color: #434B5C;\n",
              "      box-shadow: 0px 1px 3px 1px rgba(0, 0, 0, 0.15);\n",
              "      filter: drop-shadow(0px 1px 2px rgba(0, 0, 0, 0.3));\n",
              "      fill: #FFFFFF;\n",
              "    }\n",
              "  </style>\n",
              "\n",
              "      <script>\n",
              "        const buttonEl =\n",
              "          document.querySelector('#df-736a82dc-ae71-49b9-83f8-6c7befced558 button.colab-df-convert');\n",
              "        buttonEl.style.display =\n",
              "          google.colab.kernel.accessAllowed ? 'block' : 'none';\n",
              "\n",
              "        async function convertToInteractive(key) {\n",
              "          const element = document.querySelector('#df-736a82dc-ae71-49b9-83f8-6c7befced558');\n",
              "          const dataTable =\n",
              "            await google.colab.kernel.invokeFunction('convertToInteractive',\n",
              "                                                     [key], {});\n",
              "          if (!dataTable) return;\n",
              "\n",
              "          const docLinkHtml = 'Like what you see? Visit the ' +\n",
              "            '<a target=\"_blank\" href=https://colab.research.google.com/notebooks/data_table.ipynb>data table notebook</a>'\n",
              "            + ' to learn more about interactive tables.';\n",
              "          element.innerHTML = '';\n",
              "          dataTable['output_type'] = 'display_data';\n",
              "          await google.colab.output.renderOutput(dataTable, element);\n",
              "          const docLink = document.createElement('div');\n",
              "          docLink.innerHTML = docLinkHtml;\n",
              "          element.appendChild(docLink);\n",
              "        }\n",
              "      </script>\n",
              "    </div>\n",
              "  </div>\n",
              "  "
            ]
          },
          "metadata": {},
          "execution_count": 37
        }
      ]
    },
    {
      "cell_type": "code",
      "source": [
        "df[['Open','Open:10 days rolling']].plot(figsize=(12,5))"
      ],
      "metadata": {
        "colab": {
          "base_uri": "https://localhost:8080/",
          "height": 360
        },
        "id": "AtqnoKOVNMRY",
        "outputId": "258084d9-4f99-4270-9e6e-b066189edd11"
      },
      "execution_count": null,
      "outputs": [
        {
          "output_type": "execute_result",
          "data": {
            "text/plain": [
              "<matplotlib.axes._subplots.AxesSubplot at 0x7f672ee3c0d0>"
            ]
          },
          "metadata": {},
          "execution_count": 38
        },
        {
          "output_type": "display_data",
          "data": {
            "text/plain": [
              "<Figure size 864x360 with 1 Axes>"
            ],
            "image/png": "[encoded data removed]"
          },
          "metadata": {
            "needs_background": "light"
          }
        }
      ]
    },
    {
      "cell_type": "code",
      "source": [
        "df['Open:30 days rolling']=df['Open'].rolling(30).mean()"
      ],
      "metadata": {
        "id": "SLdCJf61cv7c"
      },
      "execution_count": null,
      "outputs": []
    },
    {
      "cell_type": "code",
      "source": [
        "df.head(33)"
      ],
      "metadata": {
        "colab": {
          "base_uri": "https://localhost:8080/",
          "height": 1000
        },
        "id": "YsY46NCTc2P_",
        "outputId": "a1fb11df-fadc-4cd1-95ba-e42bc10114a9"
      },
      "execution_count": null,
      "outputs": [
        {
          "output_type": "execute_result",
          "data": {
            "text/plain": [
              "                    Open          High           Low         Close  \\\n",
              "Datetime                                                             \n",
              "2022-07-06  33929.398438  34091.250000  33916.101562  34023.648438   \n",
              "2022-07-06  34022.050781  34132.898438  34022.050781  34129.148438   \n",
              "2022-07-06  34127.601562  34158.000000  34107.148438  34143.449219   \n",
              "2022-07-06  34137.601562  34155.101562  34096.250000  34120.199219   \n",
              "2022-07-06  34119.750000  34135.699219  34092.000000  34092.000000   \n",
              "2022-07-06  34093.550781  34102.050781  33988.800781  33992.148438   \n",
              "2022-07-06  33997.500000  34107.148438  33962.851562  34107.148438   \n",
              "2022-07-06  34108.699219  34138.800781  34098.250000  34117.101562   \n",
              "2022-07-06  34118.300781  34122.648438  34051.000000  34060.300781   \n",
              "2022-07-06  34060.000000  34074.750000  34044.101562  34066.101562   \n",
              "2022-07-06  34065.898438  34101.949219  34037.750000  34086.148438   \n",
              "2022-07-06  34086.949219  34098.601562  34063.250000  34096.449219   \n",
              "2022-07-06  34098.199219  34098.199219  34068.648438  34079.101562   \n",
              "2022-07-06  34079.101562  34088.550781  34061.148438  34082.351562   \n",
              "2022-07-06  34083.148438  34125.601562  34083.148438  34113.300781   \n",
              "2022-07-06  34113.949219  34145.199219  34090.250000  34106.449219   \n",
              "2022-07-06  34107.699219  34141.101562  34095.000000  34130.148438   \n",
              "2022-07-06  34132.101562  34159.648438  34119.250000  34154.949219   \n",
              "2022-07-06  34155.550781  34219.648438  34149.851562  34218.550781   \n",
              "2022-07-06  34218.101562  34253.148438  34203.750000  34225.148438   \n",
              "2022-07-06  34226.101562  34232.000000  34190.550781  34205.500000   \n",
              "2022-07-06  34206.800781  34215.148438  34182.699219  34203.050781   \n",
              "2022-07-06  34203.351562  34211.000000  34158.601562  34163.050781   \n",
              "2022-07-06  34159.449219  34190.300781  34149.601562  34177.050781   \n",
              "2022-07-06  34178.550781  34218.101562  34178.550781  34194.949219   \n",
              "2022-07-06  34196.250000  34211.300781  34172.250000  34177.949219   \n",
              "2022-07-06  34179.148438  34188.699219  34150.351562  34153.351562   \n",
              "2022-07-06  34152.000000  34152.898438  34081.550781  34081.550781   \n",
              "2022-07-06  34082.500000  34110.601562  34069.898438  34082.300781   \n",
              "2022-07-06  34082.851562  34131.648438  34079.500000  34113.101562   \n",
              "2022-07-06  34109.750000  34133.949219  34101.898438  34131.449219   \n",
              "2022-07-06  34129.148438  34142.648438  34101.148438  34127.800781   \n",
              "2022-07-06  34125.148438  34139.699219  34115.300781  34137.199219   \n",
              "\n",
              "               Adj Close  Open:10 days rolling  Open:30 days rolling  \n",
              "Datetime                                                              \n",
              "2022-07-06  34023.648438                   NaN                   NaN  \n",
              "2022-07-06  34129.148438                   NaN                   NaN  \n",
              "2022-07-06  34143.449219                   NaN                   NaN  \n",
              "2022-07-06  34120.199219                   NaN                   NaN  \n",
              "2022-07-06  34092.000000                   NaN                   NaN  \n",
              "2022-07-06  33992.148438                   NaN                   NaN  \n",
              "2022-07-06  34107.148438                   NaN                   NaN  \n",
              "2022-07-06  34117.101562                   NaN                   NaN  \n",
              "2022-07-06  34060.300781                   NaN                   NaN  \n",
              "2022-07-06  34066.101562          34071.445312                   NaN  \n",
              "2022-07-06  34086.148438          34085.095313                   NaN  \n",
              "2022-07-06  34096.449219          34091.585156                   NaN  \n",
              "2022-07-06  34079.101562          34088.644922                   NaN  \n",
              "2022-07-06  34082.351562          34082.794922                   NaN  \n",
              "2022-07-06  34113.300781          34079.134766                   NaN  \n",
              "2022-07-06  34106.449219          34081.174609                   NaN  \n",
              "2022-07-06  34130.148438          34092.194531                   NaN  \n",
              "2022-07-06  34154.949219          34094.534766                   NaN  \n",
              "2022-07-06  34218.550781          34098.259766                   NaN  \n",
              "2022-07-06  34225.148438          34114.069922                   NaN  \n",
              "2022-07-06  34205.500000          34130.090234                   NaN  \n",
              "2022-07-06  34203.050781          34142.075391                   NaN  \n",
              "2022-07-06  34163.050781          34152.590625                   NaN  \n",
              "2022-07-06  34177.050781          34160.625391                   NaN  \n",
              "2022-07-06  34194.949219          34170.165625                   NaN  \n",
              "2022-07-06  34177.949219          34178.395703                   NaN  \n",
              "2022-07-06  34153.351562          34185.540625                   NaN  \n",
              "2022-07-06  34081.550781          34187.530469                   NaN  \n",
              "2022-07-06  34082.300781          34180.225391                   NaN  \n",
              "2022-07-06  34113.101562          34166.700391          34117.405208  \n",
              "2022-07-06  34131.449219          34155.065234          34123.416927  \n",
              "2022-07-06  34127.800781          34147.300000          34126.986849  \n",
              "2022-07-06  34137.199219          34139.479688          34126.905078  "
            ],
            "text/html": [
              "\n",
              "  <div id=\"df-644ebce9-ce3e-4cb8-a4d1-780485386825\">\n",
              "    <div class=\"colab-df-container\">\n",
              "      <div>\n",
              "<style scoped>\n",
              "    .dataframe tbody tr th:only-of-type {\n",
              "        vertical-align: middle;\n",
              "    }\n",
              "\n",
              "    .dataframe tbody tr th {\n",
              "        vertical-align: top;\n",
              "    }\n",
              "\n",
              "    .dataframe thead th {\n",
              "        text-align: right;\n",
              "    }\n",
              "</style>\n",
              "<table border=\"1\" class=\"dataframe\">\n",
              "  <thead>\n",
              "    <tr style=\"text-align: right;\">\n",
              "      <th></th>\n",
              "      <th>Open</th>\n",
              "      <th>High</th>\n",
              "      <th>Low</th>\n",
              "      <th>Close</th>\n",
              "      <th>Adj Close</th>\n",
              "      <th>Open:10 days rolling</th>\n",
              "      <th>Open:30 days rolling</th>\n",
              "    </tr>\n",
              "    <tr>\n",
              "      <th>Datetime</th>\n",
              "      <th></th>\n",
              "      <th></th>\n",
              "      <th></th>\n",
              "      <th></th>\n",
              "      <th></th>\n",
              "      <th></th>\n",
              "      <th></th>\n",
              "    </tr>\n",
              "  </thead>\n",
              "  <tbody>\n",
              "    <tr>\n",
              "      <th>2022-07-06</th>\n",
              "      <td>33929.398438</td>\n",
              "      <td>34091.250000</td>\n",
              "      <td>33916.101562</td>\n",
              "      <td>34023.648438</td>\n",
              "      <td>34023.648438</td>\n",
              "      <td>NaN</td>\n",
              "      <td>NaN</td>\n",
              "    </tr>\n",
              "    <tr>\n",
              "      <th>2022-07-06</th>\n",
              "      <td>34022.050781</td>\n",
              "      <td>34132.898438</td>\n",
              "      <td>34022.050781</td>\n",
              "      <td>34129.148438</td>\n",
              "      <td>34129.148438</td>\n",
              "      <td>NaN</td>\n",
              "      <td>NaN</td>\n",
              "    </tr>\n",
              "    <tr>\n",
              "      <th>2022-07-06</th>\n",
              "      <td>34127.601562</td>\n",
              "      <td>34158.000000</td>\n",
              "      <td>34107.148438</td>\n",
              "      <td>34143.449219</td>\n",
              "      <td>34143.449219</td>\n",
              "      <td>NaN</td>\n",
              "      <td>NaN</td>\n",
              "    </tr>\n",
              "    <tr>\n",
              "      <th>2022-07-06</th>\n",
              "      <td>34137.601562</td>\n",
              "      <td>34155.101562</td>\n",
              "      <td>34096.250000</td>\n",
              "      <td>34120.199219</td>\n",
              "      <td>34120.199219</td>\n",
              "      <td>NaN</td>\n",
              "      <td>NaN</td>\n",
              "    </tr>\n",
              "    <tr>\n",
              "      <th>2022-07-06</th>\n",
              "      <td>34119.750000</td>\n",
              "      <td>34135.699219</td>\n",
              "      <td>34092.000000</td>\n",
              "      <td>34092.000000</td>\n",
              "      <td>34092.000000</td>\n",
              "      <td>NaN</td>\n",
              "      <td>NaN</td>\n",
              "    </tr>\n",
              "    <tr>\n",
              "      <th>2022-07-06</th>\n",
              "      <td>34093.550781</td>\n",
              "      <td>34102.050781</td>\n",
              "      <td>33988.800781</td>\n",
              "      <td>33992.148438</td>\n",
              "      <td>33992.148438</td>\n",
              "      <td>NaN</td>\n",
              "      <td>NaN</td>\n",
              "    </tr>\n",
              "    <tr>\n",
              "      <th>2022-07-06</th>\n",
              "      <td>33997.500000</td>\n",
              "      <td>34107.148438</td>\n",
              "      <td>33962.851562</td>\n",
              "      <td>34107.148438</td>\n",
              "      <td>34107.148438</td>\n",
              "      <td>NaN</td>\n",
              "      <td>NaN</td>\n",
              "    </tr>\n",
              "    <tr>\n",
              "      <th>2022-07-06</th>\n",
              "      <td>34108.699219</td>\n",
              "      <td>34138.800781</td>\n",
              "      <td>34098.250000</td>\n",
              "      <td>34117.101562</td>\n",
              "      <td>34117.101562</td>\n",
              "      <td>NaN</td>\n",
              "      <td>NaN</td>\n",
              "    </tr>\n",
              "    <tr>\n",
              "      <th>2022-07-06</th>\n",
              "      <td>34118.300781</td>\n",
              "      <td>34122.648438</td>\n",
              "      <td>34051.000000</td>\n",
              "      <td>34060.300781</td>\n",
              "      <td>34060.300781</td>\n",
              "      <td>NaN</td>\n",
              "      <td>NaN</td>\n",
              "    </tr>\n",
              "    <tr>\n",
              "      <th>2022-07-06</th>\n",
              "      <td>34060.000000</td>\n",
              "      <td>34074.750000</td>\n",
              "      <td>34044.101562</td>\n",
              "      <td>34066.101562</td>\n",
              "      <td>34066.101562</td>\n",
              "      <td>34071.445312</td>\n",
              "      <td>NaN</td>\n",
              "    </tr>\n",
              "    <tr>\n",
              "      <th>2022-07-06</th>\n",
              "      <td>34065.898438</td>\n",
              "      <td>34101.949219</td>\n",
              "      <td>34037.750000</td>\n",
              "      <td>34086.148438</td>\n",
              "      <td>34086.148438</td>\n",
              "      <td>34085.095313</td>\n",
              "      <td>NaN</td>\n",
              "    </tr>\n",
              "    <tr>\n",
              "      <th>2022-07-06</th>\n",
              "      <td>34086.949219</td>\n",
              "      <td>34098.601562</td>\n",
              "      <td>34063.250000</td>\n",
              "      <td>34096.449219</td>\n",
              "      <td>34096.449219</td>\n",
              "      <td>34091.585156</td>\n",
              "      <td>NaN</td>\n",
              "    </tr>\n",
              "    <tr>\n",
              "      <th>2022-07-06</th>\n",
              "      <td>34098.199219</td>\n",
              "      <td>34098.199219</td>\n",
              "      <td>34068.648438</td>\n",
              "      <td>34079.101562</td>\n",
              "      <td>34079.101562</td>\n",
              "      <td>34088.644922</td>\n",
              "      <td>NaN</td>\n",
              "    </tr>\n",
              "    <tr>\n",
              "      <th>2022-07-06</th>\n",
              "      <td>34079.101562</td>\n",
              "      <td>34088.550781</td>\n",
              "      <td>34061.148438</td>\n",
              "      <td>34082.351562</td>\n",
              "      <td>34082.351562</td>\n",
              "      <td>34082.794922</td>\n",
              "      <td>NaN</td>\n",
              "    </tr>\n",
              "    <tr>\n",
              "      <th>2022-07-06</th>\n",
              "      <td>34083.148438</td>\n",
              "      <td>34125.601562</td>\n",
              "      <td>34083.148438</td>\n",
              "      <td>34113.300781</td>\n",
              "      <td>34113.300781</td>\n",
              "      <td>34079.134766</td>\n",
              "      <td>NaN</td>\n",
              "    </tr>\n",
              "    <tr>\n",
              "      <th>2022-07-06</th>\n",
              "      <td>34113.949219</td>\n",
              "      <td>34145.199219</td>\n",
              "      <td>34090.250000</td>\n",
              "      <td>34106.449219</td>\n",
              "      <td>34106.449219</td>\n",
              "      <td>34081.174609</td>\n",
              "      <td>NaN</td>\n",
              "    </tr>\n",
              "    <tr>\n",
              "      <th>2022-07-06</th>\n",
              "      <td>34107.699219</td>\n",
              "      <td>34141.101562</td>\n",
              "      <td>34095.000000</td>\n",
              "      <td>34130.148438</td>\n",
              "      <td>34130.148438</td>\n",
              "      <td>34092.194531</td>\n",
              "      <td>NaN</td>\n",
              "    </tr>\n",
              "    <tr>\n",
              "      <th>2022-07-06</th>\n",
              "      <td>34132.101562</td>\n",
              "      <td>34159.648438</td>\n",
              "      <td>34119.250000</td>\n",
              "      <td>34154.949219</td>\n",
              "      <td>34154.949219</td>\n",
              "      <td>34094.534766</td>\n",
              "      <td>NaN</td>\n",
              "    </tr>\n",
              "    <tr>\n",
              "      <th>2022-07-06</th>\n",
              "      <td>34155.550781</td>\n",
              "      <td>34219.648438</td>\n",
              "      <td>34149.851562</td>\n",
              "      <td>34218.550781</td>\n",
              "      <td>34218.550781</td>\n",
              "      <td>34098.259766</td>\n",
              "      <td>NaN</td>\n",
              "    </tr>\n",
              "    <tr>\n",
              "      <th>2022-07-06</th>\n",
              "      <td>34218.101562</td>\n",
              "      <td>34253.148438</td>\n",
              "      <td>34203.750000</td>\n",
              "      <td>34225.148438</td>\n",
              "      <td>34225.148438</td>\n",
              "      <td>34114.069922</td>\n",
              "      <td>NaN</td>\n",
              "    </tr>\n",
              "    <tr>\n",
              "      <th>2022-07-06</th>\n",
              "      <td>34226.101562</td>\n",
              "      <td>34232.000000</td>\n",
              "      <td>34190.550781</td>\n",
              "      <td>34205.500000</td>\n",
              "      <td>34205.500000</td>\n",
              "      <td>34130.090234</td>\n",
              "      <td>NaN</td>\n",
              "    </tr>\n",
              "    <tr>\n",
              "      <th>2022-07-06</th>\n",
              "      <td>34206.800781</td>\n",
              "      <td>34215.148438</td>\n",
              "      <td>34182.699219</td>\n",
              "      <td>34203.050781</td>\n",
              "      <td>34203.050781</td>\n",
              "      <td>34142.075391</td>\n",
              "      <td>NaN</td>\n",
              "    </tr>\n",
              "    <tr>\n",
              "      <th>2022-07-06</th>\n",
              "      <td>34203.351562</td>\n",
              "      <td>34211.000000</td>\n",
              "      <td>34158.601562</td>\n",
              "      <td>34163.050781</td>\n",
              "      <td>34163.050781</td>\n",
              "      <td>34152.590625</td>\n",
              "      <td>NaN</td>\n",
              "    </tr>\n",
              "    <tr>\n",
              "      <th>2022-07-06</th>\n",
              "      <td>34159.449219</td>\n",
              "      <td>34190.300781</td>\n",
              "      <td>34149.601562</td>\n",
              "      <td>34177.050781</td>\n",
              "      <td>34177.050781</td>\n",
              "      <td>34160.625391</td>\n",
              "      <td>NaN</td>\n",
              "    </tr>\n",
              "    <tr>\n",
              "      <th>2022-07-06</th>\n",
              "      <td>34178.550781</td>\n",
              "      <td>34218.101562</td>\n",
              "      <td>34178.550781</td>\n",
              "      <td>34194.949219</td>\n",
              "      <td>34194.949219</td>\n",
              "      <td>34170.165625</td>\n",
              "      <td>NaN</td>\n",
              "    </tr>\n",
              "    <tr>\n",
              "      <th>2022-07-06</th>\n",
              "      <td>34196.250000</td>\n",
              "      <td>34211.300781</td>\n",
              "      <td>34172.250000</td>\n",
              "      <td>34177.949219</td>\n",
              "      <td>34177.949219</td>\n",
              "      <td>34178.395703</td>\n",
              "      <td>NaN</td>\n",
              "    </tr>\n",
              "    <tr>\n",
              "      <th>2022-07-06</th>\n",
              "      <td>34179.148438</td>\n",
              "      <td>34188.699219</td>\n",
              "      <td>34150.351562</td>\n",
              "      <td>34153.351562</td>\n",
              "      <td>34153.351562</td>\n",
              "      <td>34185.540625</td>\n",
              "      <td>NaN</td>\n",
              "    </tr>\n",
              "    <tr>\n",
              "      <th>2022-07-06</th>\n",
              "      <td>34152.000000</td>\n",
              "      <td>34152.898438</td>\n",
              "      <td>34081.550781</td>\n",
              "      <td>34081.550781</td>\n",
              "      <td>34081.550781</td>\n",
              "      <td>34187.530469</td>\n",
              "      <td>NaN</td>\n",
              "    </tr>\n",
              "    <tr>\n",
              "      <th>2022-07-06</th>\n",
              "      <td>34082.500000</td>\n",
              "      <td>34110.601562</td>\n",
              "      <td>34069.898438</td>\n",
              "      <td>34082.300781</td>\n",
              "      <td>34082.300781</td>\n",
              "      <td>34180.225391</td>\n",
              "      <td>NaN</td>\n",
              "    </tr>\n",
              "    <tr>\n",
              "      <th>2022-07-06</th>\n",
              "      <td>34082.851562</td>\n",
              "      <td>34131.648438</td>\n",
              "      <td>34079.500000</td>\n",
              "      <td>34113.101562</td>\n",
              "      <td>34113.101562</td>\n",
              "      <td>34166.700391</td>\n",
              "      <td>34117.405208</td>\n",
              "    </tr>\n",
              "    <tr>\n",
              "      <th>2022-07-06</th>\n",
              "      <td>34109.750000</td>\n",
              "      <td>34133.949219</td>\n",
              "      <td>34101.898438</td>\n",
              "      <td>34131.449219</td>\n",
              "      <td>34131.449219</td>\n",
              "      <td>34155.065234</td>\n",
              "      <td>34123.416927</td>\n",
              "    </tr>\n",
              "    <tr>\n",
              "      <th>2022-07-06</th>\n",
              "      <td>34129.148438</td>\n",
              "      <td>34142.648438</td>\n",
              "      <td>34101.148438</td>\n",
              "      <td>34127.800781</td>\n",
              "      <td>34127.800781</td>\n",
              "      <td>34147.300000</td>\n",
              "      <td>34126.986849</td>\n",
              "    </tr>\n",
              "    <tr>\n",
              "      <th>2022-07-06</th>\n",
              "      <td>34125.148438</td>\n",
              "      <td>34139.699219</td>\n",
              "      <td>34115.300781</td>\n",
              "      <td>34137.199219</td>\n",
              "      <td>34137.199219</td>\n",
              "      <td>34139.479688</td>\n",
              "      <td>34126.905078</td>\n",
              "    </tr>\n",
              "  </tbody>\n",
              "</table>\n",
              "</div>\n",
              "      <button class=\"colab-df-convert\" onclick=\"convertToInteractive('df-644ebce9-ce3e-4cb8-a4d1-780485386825')\"\n",
              "              title=\"Convert this dataframe to an interactive table.\"\n",
              "              style=\"display:none;\">\n",
              "        \n",
              "  <svg xmlns=\"http://www.w3.org/2000/svg\" height=\"24px\"viewBox=\"0 0 24 24\"\n",
              "       width=\"24px\">\n",
              "    <path d=\"M0 0h24v24H0V0z\" fill=\"none\"/>\n",
              "    <path d=\"M18.56 5.44l.94 2.06.94-2.06 2.06-.94-2.06-.94-.94-2.06-.94 2.06-2.06.94zm-11 1L8.5 8.5l.94-2.06 2.06-.94-2.06-.94L8.5 2.5l-.94 2.06-2.06.94zm10 10l.94 2.06.94-2.06 2.06-.94-2.06-.94-.94-2.06-.94 2.06-2.06.94z\"/><path d=\"M17.41 7.96l-1.37-1.37c-.4-.4-.92-.59-1.43-.59-.52 0-1.04.2-1.43.59L10.3 9.45l-7.72 7.72c-.78.78-.78 2.05 0 2.83L4 21.41c.39.39.9.59 1.41.59.51 0 1.02-.2 1.41-.59l7.78-7.78 2.81-2.81c.8-.78.8-2.07 0-2.86zM5.41 20L4 18.59l7.72-7.72 1.47 1.35L5.41 20z\"/>\n",
              "  </svg>\n",
              "      </button>\n",
              "      \n",
              "  <style>\n",
              "    .colab-df-container {\n",
              "      display:flex;\n",
              "      flex-wrap:wrap;\n",
              "      gap: 12px;\n",
              "    }\n",
              "\n",
              "    .colab-df-convert {\n",
              "      background-color: #E8F0FE;\n",
              "      border: none;\n",
              "      border-radius: 50%;\n",
              "      cursor: pointer;\n",
              "      display: none;\n",
              "      fill: #1967D2;\n",
              "      height: 32px;\n",
              "      padding: 0 0 0 0;\n",
              "      width: 32px;\n",
              "    }\n",
              "\n",
              "    .colab-df-convert:hover {\n",
              "      background-color: #E2EBFA;\n",
              "      box-shadow: 0px 1px 2px rgba(60, 64, 67, 0.3), 0px 1px 3px 1px rgba(60, 64, 67, 0.15);\n",
              "      fill: #174EA6;\n",
              "    }\n",
              "\n",
              "    [theme=dark] .colab-df-convert {\n",
              "      background-color: #3B4455;\n",
              "      fill: #D2E3FC;\n",
              "    }\n",
              "\n",
              "    [theme=dark] .colab-df-convert:hover {\n",
              "      background-color: #434B5C;\n",
              "      box-shadow: 0px 1px 3px 1px rgba(0, 0, 0, 0.15);\n",
              "      filter: drop-shadow(0px 1px 2px rgba(0, 0, 0, 0.3));\n",
              "      fill: #FFFFFF;\n",
              "    }\n",
              "  </style>\n",
              "\n",
              "      <script>\n",
              "        const buttonEl =\n",
              "          document.querySelector('#df-644ebce9-ce3e-4cb8-a4d1-780485386825 button.colab-df-convert');\n",
              "        buttonEl.style.display =\n",
              "          google.colab.kernel.accessAllowed ? 'block' : 'none';\n",
              "\n",
              "        async function convertToInteractive(key) {\n",
              "          const element = document.querySelector('#df-644ebce9-ce3e-4cb8-a4d1-780485386825');\n",
              "          const dataTable =\n",
              "            await google.colab.kernel.invokeFunction('convertToInteractive',\n",
              "                                                     [key], {});\n",
              "          if (!dataTable) return;\n",
              "\n",
              "          const docLinkHtml = 'Like what you see? Visit the ' +\n",
              "            '<a target=\"_blank\" href=https://colab.research.google.com/notebooks/data_table.ipynb>data table notebook</a>'\n",
              "            + ' to learn more about interactive tables.';\n",
              "          element.innerHTML = '';\n",
              "          dataTable['output_type'] = 'display_data';\n",
              "          await google.colab.output.renderOutput(dataTable, element);\n",
              "          const docLink = document.createElement('div');\n",
              "          docLink.innerHTML = docLinkHtml;\n",
              "          element.appendChild(docLink);\n",
              "        }\n",
              "      </script>\n",
              "    </div>\n",
              "  </div>\n",
              "  "
            ]
          },
          "metadata": {},
          "execution_count": 40
        }
      ]
    },
    {
      "cell_type": "code",
      "source": [
        "df[['Open','Open:30 days rolling']].plot(figsize=(12,5))"
      ],
      "metadata": {
        "colab": {
          "base_uri": "https://localhost:8080/",
          "height": 360
        },
        "id": "jC25FBlFcn0Q",
        "outputId": "becf49d8-c526-49da-d45a-8f2b032723b0"
      },
      "execution_count": null,
      "outputs": [
        {
          "output_type": "execute_result",
          "data": {
            "text/plain": [
              "<matplotlib.axes._subplots.AxesSubplot at 0x7f672ed67a50>"
            ]
          },
          "metadata": {},
          "execution_count": 41
        },
        {
          "output_type": "display_data",
          "data": {
            "text/plain": [
              "<Figure size 864x360 with 1 Axes>"
            ],
            "image/png": "[encoded data removed]"
          },
          "metadata": {
            "needs_background": "light"
          }
        }
      ]
    },
    {
      "cell_type": "code",
      "source": [
        "df[['Open','Open:10 days rolling','Open:30 days rolling']].plot(figsize=(12,5))"
      ],
      "metadata": {
        "colab": {
          "base_uri": "https://localhost:8080/",
          "height": 360
        },
        "id": "HJZu28emcQtO",
        "outputId": "2bc23efe-a082-4ce2-8303-0c411805c59f"
      },
      "execution_count": null,
      "outputs": [
        {
          "output_type": "execute_result",
          "data": {
            "text/plain": [
              "<matplotlib.axes._subplots.AxesSubplot at 0x7f672ec523d0>"
            ]
          },
          "metadata": {},
          "execution_count": 42
        },
        {
          "output_type": "display_data",
          "data": {
            "text/plain": [
              "<Figure size 864x360 with 1 Axes>"
            ],
            "image/png": "[encoded data removed]"
          },
          "metadata": {
            "needs_background": "light"
          }
        }
      ]
    },
    {
      "cell_type": "markdown",
      "source": [
        "MITO is one of the widely use Auto EDA tool which will be specificall used for Finacial Data and stock market data.\n",
        "\n",
        "Exception: The mitosheet currently only works in JupyterLab.\n",
        "\n",
        "\n",
        "!pip install mitoinstaller\n",
        "!pip install mitosheet\n",
        "import mitosheet"
      ],
      "metadata": {
        "id": "3f2hoXeH36FG"
      }
    },
    {
      "cell_type": "markdown",
      "source": [
        "Splitting X and Y"
      ],
      "metadata": {
        "id": "dNHCuJopi6mP"
      }
    },
    {
      "cell_type": "code",
      "source": [
        "df.columns"
      ],
      "metadata": {
        "colab": {
          "base_uri": "https://localhost:8080/"
        },
        "id": "5ONzFMe3mTkt",
        "outputId": "8fca551e-0edd-4a0b-d683-fbd44f40160a"
      },
      "execution_count": null,
      "outputs": [
        {
          "output_type": "execute_result",
          "data": {
            "text/plain": [
              "Index(['Open', 'High', 'Low', 'Close', 'Adj Close', 'Open:10 days rolling',\n",
              "       'Open:30 days rolling'],\n",
              "      dtype='object')"
            ]
          },
          "metadata": {},
          "execution_count": 43
        }
      ]
    },
    {
      "cell_type": "code",
      "source": [
        "X = df.loc[:, ['Open', 'High', 'Low', 'Close']]\n",
        "Y = df['Adj Close']"
      ],
      "metadata": {
        "id": "Zcb3KHY4i9Sk"
      },
      "execution_count": null,
      "outputs": []
    },
    {
      "cell_type": "code",
      "source": [
        "from sklearn.preprocessing import MinMaxScaler\n",
        "scaler = MinMaxScaler()\n",
        "X_scale = scaler.fit_transform(X)"
      ],
      "metadata": {
        "id": "w3GF01c5rCJ-"
      },
      "execution_count": null,
      "outputs": []
    },
    {
      "cell_type": "code",
      "source": [
        "from sklearn.model_selection import train_test_split\n",
        "X_train, X_test, Y_train, Y_test = train_test_split(X_scale, Y, test_size = 0.25, random_state = 42)"
      ],
      "metadata": {
        "id": "lJ0iERcynfbk"
      },
      "execution_count": null,
      "outputs": []
    },
    {
      "cell_type": "code",
      "source": [
        "print(X_train.shape) \n",
        "print(X_test.shape) \n",
        "print(Y_train.shape) \n",
        "print(Y_test.shape)"
      ],
      "metadata": {
        "colab": {
          "base_uri": "https://localhost:8080/"
        },
        "id": "KeKBQkz-nnSi",
        "outputId": "e2b03939-1b3c-4069-cfb1-6856b8a60e2a"
      },
      "execution_count": null,
      "outputs": [
        {
          "output_type": "stream",
          "name": "stdout",
          "text": [
            "(3374, 4)\n",
            "(1125, 4)\n",
            "(3374,)\n",
            "(1125,)\n"
          ]
        }
      ]
    },
    {
      "cell_type": "code",
      "source": [
        "#Try with Linear Regression\n",
        "\n",
        "from sklearn.linear_model import LinearRegression\n",
        "Linear_Reg = LinearRegression()\n",
        "Linear_Reg.fit(X_train, Y_train)"
      ],
      "metadata": {
        "colab": {
          "base_uri": "https://localhost:8080/"
        },
        "id": "QKTqNyqpnuD5",
        "outputId": "e265ae11-6262-4dc5-a304-7f17494c6f92"
      },
      "execution_count": null,
      "outputs": [
        {
          "output_type": "execute_result",
          "data": {
            "text/plain": [
              "LinearRegression()"
            ]
          },
          "metadata": {},
          "execution_count": 48
        }
      ]
    },
    {
      "cell_type": "code",
      "source": [
        "print(Linear_Reg.intercept_)\n",
        "print(Linear_Reg.coef_)"
      ],
      "metadata": {
        "colab": {
          "base_uri": "https://localhost:8080/"
        },
        "id": "chrf5OidryPK",
        "outputId": "c9ceb12d-3c73-41c5-b59d-882c92e32b20"
      },
      "execution_count": null,
      "outputs": [
        {
          "output_type": "stream",
          "name": "stdout",
          "text": [
            "33992.1484375\n",
            "[ 4.68322843e-13 -3.63797881e-12  2.72848411e-12  7.79605078e+03]\n"
          ]
        }
      ]
    },
    {
      "cell_type": "code",
      "source": [
        "y_pred_lr = Linear_Reg.predict(X_test)"
      ],
      "metadata": {
        "id": "esX7ja-fn3f9"
      },
      "execution_count": null,
      "outputs": []
    },
    {
      "cell_type": "code",
      "source": [
        "from sklearn import metrics"
      ],
      "metadata": {
        "id": "3sN_v3_cn9fg"
      },
      "execution_count": null,
      "outputs": []
    },
    {
      "cell_type": "code",
      "source": [
        "print('MAE:', metrics.mean_absolute_error(Y_test, y_pred_lr))\n",
        "print('MSE:', metrics.mean_squared_error(Y_test, y_pred_lr))\n",
        "print('RMSE:', np.sqrt(metrics.mean_squared_error(Y_test, y_pred_lr)))"
      ],
      "metadata": {
        "colab": {
          "base_uri": "https://localhost:8080/"
        },
        "id": "4uMC7oS7oBS2",
        "outputId": "8e92df58-a6e7-4dc4-af35-2742d609e7a7"
      },
      "execution_count": null,
      "outputs": [
        {
          "output_type": "stream",
          "name": "stdout",
          "text": [
            "MAE: 2.8457078668806287e-13\n",
            "MSE: 2.0705249821771786e-24\n",
            "RMSE: 1.4389318893461145e-12\n"
          ]
        }
      ]
    },
    {
      "cell_type": "code",
      "source": [
        "from sklearn.metrics import mean_squared_error\n",
        "MSE=mean_squared_error(Y_test, y_pred_lr)\n",
        "MSE"
      ],
      "metadata": {
        "colab": {
          "base_uri": "https://localhost:8080/"
        },
        "id": "UwMSeIo6uIvc",
        "outputId": "0b6e23c0-1fdd-4e7a-d2d3-6c9aa6bab670"
      },
      "execution_count": null,
      "outputs": [
        {
          "output_type": "execute_result",
          "data": {
            "text/plain": [
              "2.0705249821771786e-24"
            ]
          },
          "metadata": {},
          "execution_count": 53
        }
      ]
    },
    {
      "cell_type": "code",
      "source": [
        "Lr_results = pd.DataFrame({'Actual_prize':Y_test, 'Predicted_Prize':y_pred_lr})"
      ],
      "metadata": {
        "id": "EwpkUP_-vbu3"
      },
      "execution_count": null,
      "outputs": []
    },
    {
      "cell_type": "code",
      "source": [
        "print(Lr_results)"
      ],
      "metadata": {
        "colab": {
          "base_uri": "https://localhost:8080/"
        },
        "id": "T4QDkuNrvbop",
        "outputId": "8046bedd-c3ae-4d1a-b4e9-7753b4369172"
      },
      "execution_count": null,
      "outputs": [
        {
          "output_type": "stream",
          "name": "stdout",
          "text": [
            "            Actual_prize  Predicted_Prize\n",
            "Datetime                                 \n",
            "2022-08-04  37625.000000     37625.000000\n",
            "2022-09-16  40869.000000     40869.000000\n",
            "2022-09-02  39481.898438     39481.898438\n",
            "2022-09-02  39389.550781     39389.550781\n",
            "2022-07-14  34886.750000     34886.750000\n",
            "...                  ...              ...\n",
            "2022-07-26  36457.050781     36457.050781\n",
            "2022-07-06  34225.398438     34225.398437\n",
            "2022-08-23  38544.351562     38544.351562\n",
            "2022-08-29  38321.449219     38321.449219\n",
            "2022-08-19  39579.949219     39579.949219\n",
            "\n",
            "[1125 rows x 2 columns]\n"
          ]
        }
      ]
    },
    {
      "cell_type": "code",
      "source": [
        "graph = Lr_results.head(20)"
      ],
      "metadata": {
        "id": "X6l8i-YowjNy"
      },
      "execution_count": null,
      "outputs": []
    },
    {
      "cell_type": "code",
      "source": [
        "graph.plot(kind='bar', figsize =(12,5))"
      ],
      "metadata": {
        "colab": {
          "base_uri": "https://localhost:8080/",
          "height": 463
        },
        "id": "Wl5rMNnhw10V",
        "outputId": "547d7827-ad62-4269-f0b1-8c8ca26038aa"
      },
      "execution_count": null,
      "outputs": [
        {
          "output_type": "execute_result",
          "data": {
            "text/plain": [
              "<matplotlib.axes._subplots.AxesSubplot at 0x7f672b5eced0>"
            ]
          },
          "metadata": {},
          "execution_count": 57
        },
        {
          "output_type": "display_data",
          "data": {
            "text/plain": [
              "<Figure size 864x360 with 1 Axes>"
            ],
            "image/png": "[encoded data removed]"
          },
          "metadata": {
            "needs_background": "light"
          }
        }
      ]
    },
    {
      "cell_type": "markdown",
      "source": [
        "**LSTM**"
      ],
      "metadata": {
        "id": "xVYyf9h03jEO"
      }
    },
    {
      "cell_type": "code",
      "source": [
        "df.head()"
      ],
      "metadata": {
        "colab": {
          "base_uri": "https://localhost:8080/",
          "height": 386
        },
        "id": "D2VquvxN45h7",
        "outputId": "9a92a25d-8ce3-4cae-8cc0-363a690839be"
      },
      "execution_count": null,
      "outputs": [
        {
          "output_type": "execute_result",
          "data": {
            "text/plain": [
              "                    Open          High           Low         Close  \\\n",
              "Datetime                                                             \n",
              "2022-07-06  33929.398438  34091.250000  33916.101562  34023.648438   \n",
              "2022-07-06  34022.050781  34132.898438  34022.050781  34129.148438   \n",
              "2022-07-06  34127.601562  34158.000000  34107.148438  34143.449219   \n",
              "2022-07-06  34137.601562  34155.101562  34096.250000  34120.199219   \n",
              "2022-07-06  34119.750000  34135.699219  34092.000000  34092.000000   \n",
              "\n",
              "               Adj Close  Open:10 days rolling  Open:30 days rolling  \n",
              "Datetime                                                              \n",
              "2022-07-06  34023.648438                   NaN                   NaN  \n",
              "2022-07-06  34129.148438                   NaN                   NaN  \n",
              "2022-07-06  34143.449219                   NaN                   NaN  \n",
              "2022-07-06  34120.199219                   NaN                   NaN  \n",
              "2022-07-06  34092.000000                   NaN                   NaN  "
            ],
            "text/html": [
              "\n",
              "  <div id=\"df-d3e420f5-fbbf-461a-a2d6-9fb594feedf1\">\n",
              "    <div class=\"colab-df-container\">\n",
              "      <div>\n",
              "<style scoped>\n",
              "    .dataframe tbody tr th:only-of-type {\n",
              "        vertical-align: middle;\n",
              "    }\n",
              "\n",
              "    .dataframe tbody tr th {\n",
              "        vertical-align: top;\n",
              "    }\n",
              "\n",
              "    .dataframe thead th {\n",
              "        text-align: right;\n",
              "    }\n",
              "</style>\n",
              "<table border=\"1\" class=\"dataframe\">\n",
              "  <thead>\n",
              "    <tr style=\"text-align: right;\">\n",
              "      <th></th>\n",
              "      <th>Open</th>\n",
              "      <th>High</th>\n",
              "      <th>Low</th>\n",
              "      <th>Close</th>\n",
              "      <th>Adj Close</th>\n",
              "      <th>Open:10 days rolling</th>\n",
              "      <th>Open:30 days rolling</th>\n",
              "    </tr>\n",
              "    <tr>\n",
              "      <th>Datetime</th>\n",
              "      <th></th>\n",
              "      <th></th>\n",
              "      <th></th>\n",
              "      <th></th>\n",
              "      <th></th>\n",
              "      <th></th>\n",
              "      <th></th>\n",
              "    </tr>\n",
              "  </thead>\n",
              "  <tbody>\n",
              "    <tr>\n",
              "      <th>2022-07-06</th>\n",
              "      <td>33929.398438</td>\n",
              "      <td>34091.250000</td>\n",
              "      <td>33916.101562</td>\n",
              "      <td>34023.648438</td>\n",
              "      <td>34023.648438</td>\n",
              "      <td>NaN</td>\n",
              "      <td>NaN</td>\n",
              "    </tr>\n",
              "    <tr>\n",
              "      <th>2022-07-06</th>\n",
              "      <td>34022.050781</td>\n",
              "      <td>34132.898438</td>\n",
              "      <td>34022.050781</td>\n",
              "      <td>34129.148438</td>\n",
              "      <td>34129.148438</td>\n",
              "      <td>NaN</td>\n",
              "      <td>NaN</td>\n",
              "    </tr>\n",
              "    <tr>\n",
              "      <th>2022-07-06</th>\n",
              "      <td>34127.601562</td>\n",
              "      <td>34158.000000</td>\n",
              "      <td>34107.148438</td>\n",
              "      <td>34143.449219</td>\n",
              "      <td>34143.449219</td>\n",
              "      <td>NaN</td>\n",
              "      <td>NaN</td>\n",
              "    </tr>\n",
              "    <tr>\n",
              "      <th>2022-07-06</th>\n",
              "      <td>34137.601562</td>\n",
              "      <td>34155.101562</td>\n",
              "      <td>34096.250000</td>\n",
              "      <td>34120.199219</td>\n",
              "      <td>34120.199219</td>\n",
              "      <td>NaN</td>\n",
              "      <td>NaN</td>\n",
              "    </tr>\n",
              "    <tr>\n",
              "      <th>2022-07-06</th>\n",
              "      <td>34119.750000</td>\n",
              "      <td>34135.699219</td>\n",
              "      <td>34092.000000</td>\n",
              "      <td>34092.000000</td>\n",
              "      <td>34092.000000</td>\n",
              "      <td>NaN</td>\n",
              "      <td>NaN</td>\n",
              "    </tr>\n",
              "  </tbody>\n",
              "</table>\n",
              "</div>\n",
              "      <button class=\"colab-df-convert\" onclick=\"convertToInteractive('df-d3e420f5-fbbf-461a-a2d6-9fb594feedf1')\"\n",
              "              title=\"Convert this dataframe to an interactive table.\"\n",
              "              style=\"display:none;\">\n",
              "        \n",
              "  <svg xmlns=\"http://www.w3.org/2000/svg\" height=\"24px\"viewBox=\"0 0 24 24\"\n",
              "       width=\"24px\">\n",
              "    <path d=\"M0 0h24v24H0V0z\" fill=\"none\"/>\n",
              "    <path d=\"M18.56 5.44l.94 2.06.94-2.06 2.06-.94-2.06-.94-.94-2.06-.94 2.06-2.06.94zm-11 1L8.5 8.5l.94-2.06 2.06-.94-2.06-.94L8.5 2.5l-.94 2.06-2.06.94zm10 10l.94 2.06.94-2.06 2.06-.94-2.06-.94-.94-2.06-.94 2.06-2.06.94z\"/><path d=\"M17.41 7.96l-1.37-1.37c-.4-.4-.92-.59-1.43-.59-.52 0-1.04.2-1.43.59L10.3 9.45l-7.72 7.72c-.78.78-.78 2.05 0 2.83L4 21.41c.39.39.9.59 1.41.59.51 0 1.02-.2 1.41-.59l7.78-7.78 2.81-2.81c.8-.78.8-2.07 0-2.86zM5.41 20L4 18.59l7.72-7.72 1.47 1.35L5.41 20z\"/>\n",
              "  </svg>\n",
              "      </button>\n",
              "      \n",
              "  <style>\n",
              "    .colab-df-container {\n",
              "      display:flex;\n",
              "      flex-wrap:wrap;\n",
              "      gap: 12px;\n",
              "    }\n",
              "\n",
              "    .colab-df-convert {\n",
              "      background-color: #E8F0FE;\n",
              "      border: none;\n",
              "      border-radius: 50%;\n",
              "      cursor: pointer;\n",
              "      display: none;\n",
              "      fill: #1967D2;\n",
              "      height: 32px;\n",
              "      padding: 0 0 0 0;\n",
              "      width: 32px;\n",
              "    }\n",
              "\n",
              "    .colab-df-convert:hover {\n",
              "      background-color: #E2EBFA;\n",
              "      box-shadow: 0px 1px 2px rgba(60, 64, 67, 0.3), 0px 1px 3px 1px rgba(60, 64, 67, 0.15);\n",
              "      fill: #174EA6;\n",
              "    }\n",
              "\n",
              "    [theme=dark] .colab-df-convert {\n",
              "      background-color: #3B4455;\n",
              "      fill: #D2E3FC;\n",
              "    }\n",
              "\n",
              "    [theme=dark] .colab-df-convert:hover {\n",
              "      background-color: #434B5C;\n",
              "      box-shadow: 0px 1px 3px 1px rgba(0, 0, 0, 0.15);\n",
              "      filter: drop-shadow(0px 1px 2px rgba(0, 0, 0, 0.3));\n",
              "      fill: #FFFFFF;\n",
              "    }\n",
              "  </style>\n",
              "\n",
              "      <script>\n",
              "        const buttonEl =\n",
              "          document.querySelector('#df-d3e420f5-fbbf-461a-a2d6-9fb594feedf1 button.colab-df-convert');\n",
              "        buttonEl.style.display =\n",
              "          google.colab.kernel.accessAllowed ? 'block' : 'none';\n",
              "\n",
              "        async function convertToInteractive(key) {\n",
              "          const element = document.querySelector('#df-d3e420f5-fbbf-461a-a2d6-9fb594feedf1');\n",
              "          const dataTable =\n",
              "            await google.colab.kernel.invokeFunction('convertToInteractive',\n",
              "                                                     [key], {});\n",
              "          if (!dataTable) return;\n",
              "\n",
              "          const docLinkHtml = 'Like what you see? Visit the ' +\n",
              "            '<a target=\"_blank\" href=https://colab.research.google.com/notebooks/data_table.ipynb>data table notebook</a>'\n",
              "            + ' to learn more about interactive tables.';\n",
              "          element.innerHTML = '';\n",
              "          dataTable['output_type'] = 'display_data';\n",
              "          await google.colab.output.renderOutput(dataTable, element);\n",
              "          const docLink = document.createElement('div');\n",
              "          docLink.innerHTML = docLinkHtml;\n",
              "          element.appendChild(docLink);\n",
              "        }\n",
              "      </script>\n",
              "    </div>\n",
              "  </div>\n",
              "  "
            ]
          },
          "metadata": {},
          "execution_count": 58
        }
      ]
    },
    {
      "cell_type": "code",
      "source": [
        "Adj_close = df[['Adj Close']]"
      ],
      "metadata": {
        "id": "WWRHTUESWr9y"
      },
      "execution_count": null,
      "outputs": []
    },
    {
      "cell_type": "code",
      "source": [
        "Adj_close.plot()"
      ],
      "metadata": {
        "colab": {
          "base_uri": "https://localhost:8080/",
          "height": 311
        },
        "id": "YEhOvLcnXiZe",
        "outputId": "c84b8b77-d41b-4748-dd22-20d4d261278a"
      },
      "execution_count": null,
      "outputs": [
        {
          "output_type": "execute_result",
          "data": {
            "text/plain": [
              "<matplotlib.axes._subplots.AxesSubplot at 0x7f672b5273d0>"
            ]
          },
          "metadata": {},
          "execution_count": 60
        },
        {
          "output_type": "display_data",
          "data": {
            "text/plain": [
              "<Figure size 432x288 with 1 Axes>"
            ],
            "image/png": "[encoded data removed]"
          },
          "metadata": {
            "needs_background": "light"
          }
        }
      ]
    },
    {
      "cell_type": "code",
      "source": [
        "normalizer = MinMaxScaler(feature_range=(0,1))\n",
        "Adj_close_scaled = normalizer.fit_transform(np.array(Adj_close).reshape(-1,1))"
      ],
      "metadata": {
        "id": "XqfHDhyeXoWF"
      },
      "execution_count": null,
      "outputs": []
    },
    {
      "cell_type": "code",
      "source": [
        "#Defining test and train data sizes\n",
        "train_size = int(len(Adj_close_scaled)*0.70)\n",
        "test_size = len(Adj_close_scaled) - train_size"
      ],
      "metadata": {
        "id": "1dS-PavFYV2N"
      },
      "execution_count": null,
      "outputs": []
    },
    {
      "cell_type": "code",
      "source": [
        "train_size,test_size"
      ],
      "metadata": {
        "colab": {
          "base_uri": "https://localhost:8080/"
        },
        "id": "EO0VIjKZYhx6",
        "outputId": "382ae8f5-f490-4bd8-dd5e-bbc276ca0373"
      },
      "execution_count": null,
      "outputs": [
        {
          "output_type": "execute_result",
          "data": {
            "text/plain": [
              "(3149, 1350)"
            ]
          },
          "metadata": {},
          "execution_count": 63
        }
      ]
    },
    {
      "cell_type": "code",
      "source": [
        "ds_train, ds_test = Adj_close_scaled[0:train_size,:], Adj_close_scaled[train_size:len(Adj_close_scaled),:1]"
      ],
      "metadata": {
        "id": "nX3zLxLfyCt9"
      },
      "execution_count": null,
      "outputs": []
    },
    {
      "cell_type": "code",
      "source": [
        "len(ds_train),len(ds_test)"
      ],
      "metadata": {
        "colab": {
          "base_uri": "https://localhost:8080/"
        },
        "id": "4YHLg5w8ybxr",
        "outputId": "81209002-4ab4-459c-a84c-5c7c02525209"
      },
      "execution_count": null,
      "outputs": [
        {
          "output_type": "execute_result",
          "data": {
            "text/plain": [
              "(3149, 1350)"
            ]
          },
          "metadata": {},
          "execution_count": 66
        }
      ]
    },
    {
      "cell_type": "code",
      "source": [
        "def create_ds(dataset,step):\n",
        "    Xtrain, Ytrain = [], []\n",
        "    for i in range(len(dataset)-step-1):\n",
        "        a = dataset[i:(i+step), 0]\n",
        "        Xtrain.append(a)\n",
        "        Ytrain.append(dataset[i + step, 0])\n",
        "    return np.array(Xtrain), np.array(Ytrain)"
      ],
      "metadata": {
        "id": "vl2Uvgzryn1p"
      },
      "execution_count": null,
      "outputs": []
    },
    {
      "cell_type": "code",
      "source": [
        "#Taking 100 days price as one record for training\n",
        "time_stamp = 100\n",
        "X_train, y_train = create_ds(ds_train,time_stamp)\n",
        "X_test, y_test = create_ds(ds_test,time_stamp)"
      ],
      "metadata": {
        "id": "YAUnnvZUyw6x"
      },
      "execution_count": null,
      "outputs": []
    },
    {
      "cell_type": "code",
      "source": [
        "X_train.shape,y_train.shape, X_test.shape, y_test.shape\n"
      ],
      "metadata": {
        "colab": {
          "base_uri": "https://localhost:8080/"
        },
        "id": "xN50ArQJy0Vf",
        "outputId": "8adc9d89-138b-4d75-a223-3c468548e97f"
      },
      "execution_count": null,
      "outputs": [
        {
          "output_type": "execute_result",
          "data": {
            "text/plain": [
              "((3048, 100), (3048,), (1249, 100), (1249,))"
            ]
          },
          "metadata": {},
          "execution_count": 70
        }
      ]
    },
    {
      "cell_type": "code",
      "source": [
        "#Reshaping data to fit into LSTM model\n",
        "X_train = X_train.reshape(X_train.shape[0],X_train.shape[1] , 1)\n",
        "X_test = X_test.reshape(X_test.shape[0],X_test.shape[1] , 1)"
      ],
      "metadata": {
        "id": "xk6DI1KGy7MG"
      },
      "execution_count": null,
      "outputs": []
    },
    {
      "cell_type": "code",
      "source": [
        "from keras.models import Sequential\n",
        "from keras.layers import Dense, LSTM"
      ],
      "metadata": {
        "id": "PTkaZ10YzLZ_"
      },
      "execution_count": null,
      "outputs": []
    },
    {
      "cell_type": "code",
      "source": [
        "#Creating LSTM model using keras\n",
        "model = Sequential()\n",
        "model.add(LSTM(units=50,return_sequences=True,input_shape=(X_train.shape[1],1)))\n",
        "model.add(LSTM(units=50,return_sequences=True))\n",
        "model.add(LSTM(units=50))\n",
        "model.add(Dense(units=1,activation='linear'))\n",
        "model.summary()"
      ],
      "metadata": {
        "colab": {
          "base_uri": "https://localhost:8080/"
        },
        "id": "Q491YGcqzCfL",
        "outputId": "7166306f-1db1-4bd1-e08e-e148a261c4b6"
      },
      "execution_count": null,
      "outputs": [
        {
          "output_type": "stream",
          "name": "stdout",
          "text": [
            "Model: \"sequential\"\n",
            "_________________________________________________________________\n",
            " Layer (type)                Output Shape              Param #   \n",
            "=================================================================\n",
            " lstm (LSTM)                 (None, 100, 50)           10400     \n",
            "                                                                 \n",
            " lstm_1 (LSTM)               (None, 100, 50)           20200     \n",
            "                                                                 \n",
            " lstm_2 (LSTM)               (None, 50)                20200     \n",
            "                                                                 \n",
            " dense (Dense)               (None, 1)                 51        \n",
            "                                                                 \n",
            "=================================================================\n",
            "Total params: 50,851\n",
            "Trainable params: 50,851\n",
            "Non-trainable params: 0\n",
            "_________________________________________________________________\n"
          ]
        }
      ]
    },
    {
      "cell_type": "code",
      "source": [
        "#Training model with adam optimizer and mean squared error loss function\n",
        "model.compile(loss='mean_squared_error',optimizer='adam')\n",
        "model.fit(X_train,y_train,validation_data=(X_test,y_test),epochs=100,batch_size=100)"
      ],
      "metadata": {
        "colab": {
          "base_uri": "https://localhost:8080/"
        },
        "id": "GfMMeJ8ozT1e",
        "outputId": "d069b153-a506-4ed7-9f22-91fad884adde"
      },
      "execution_count": null,
      "outputs": [
        {
          "output_type": "stream",
          "name": "stdout",
          "text": [
            "Epoch 1/100\n",
            "48/48 [==============================] - 18s 237ms/step - loss: 0.0177 - val_loss: 0.0035\n",
            "Epoch 2/100\n",
            "48/48 [==============================] - 10s 208ms/step - loss: 3.2651e-04 - val_loss: 7.3411e-04\n",
            "Epoch 3/100\n",
            "48/48 [==============================] - 10s 204ms/step - loss: 2.5759e-04 - val_loss: 8.1896e-04\n",
            "Epoch 4/100\n",
            "48/48 [==============================] - 10s 203ms/step - loss: 2.5445e-04 - val_loss: 6.7890e-04\n",
            "Epoch 5/100\n",
            "48/48 [==============================] - 16s 338ms/step - loss: 2.5478e-04 - val_loss: 7.3819e-04\n",
            "Epoch 6/100\n",
            "48/48 [==============================] - 14s 297ms/step - loss: 2.4907e-04 - val_loss: 6.7153e-04\n",
            "Epoch 7/100\n",
            "48/48 [==============================] - 10s 208ms/step - loss: 2.5621e-04 - val_loss: 5.9903e-04\n",
            "Epoch 8/100\n",
            "48/48 [==============================] - 10s 206ms/step - loss: 2.5067e-04 - val_loss: 6.8590e-04\n",
            "Epoch 9/100\n",
            "48/48 [==============================] - 12s 257ms/step - loss: 2.3674e-04 - val_loss: 7.2139e-04\n",
            "Epoch 10/100\n",
            "48/48 [==============================] - 10s 205ms/step - loss: 2.3869e-04 - val_loss: 6.5593e-04\n",
            "Epoch 11/100\n",
            "48/48 [==============================] - 12s 244ms/step - loss: 2.3043e-04 - val_loss: 5.9250e-04\n",
            "Epoch 12/100\n",
            "48/48 [==============================] - 10s 214ms/step - loss: 2.3848e-04 - val_loss: 6.0329e-04\n",
            "Epoch 13/100\n",
            "48/48 [==============================] - 11s 232ms/step - loss: 2.2389e-04 - val_loss: 5.3947e-04\n",
            "Epoch 14/100\n",
            "48/48 [==============================] - 12s 249ms/step - loss: 2.4279e-04 - val_loss: 7.0189e-04\n",
            "Epoch 15/100\n",
            "48/48 [==============================] - 16s 331ms/step - loss: 2.2943e-04 - val_loss: 8.7468e-04\n",
            "Epoch 16/100\n",
            "48/48 [==============================] - 10s 207ms/step - loss: 2.1935e-04 - val_loss: 7.8470e-04\n",
            "Epoch 17/100\n",
            "48/48 [==============================] - 12s 243ms/step - loss: 2.0783e-04 - val_loss: 5.4707e-04\n",
            "Epoch 18/100\n",
            "48/48 [==============================] - 14s 280ms/step - loss: 2.0965e-04 - val_loss: 8.1678e-04\n",
            "Epoch 19/100\n",
            "48/48 [==============================] - 13s 278ms/step - loss: 2.0936e-04 - val_loss: 6.0479e-04\n",
            "Epoch 20/100\n",
            "48/48 [==============================] - 10s 205ms/step - loss: 2.1271e-04 - val_loss: 6.2092e-04\n",
            "Epoch 21/100\n",
            "48/48 [==============================] - 10s 211ms/step - loss: 2.3986e-04 - val_loss: 5.1588e-04\n",
            "Epoch 22/100\n",
            "48/48 [==============================] - 10s 208ms/step - loss: 1.9681e-04 - val_loss: 4.7274e-04\n",
            "Epoch 23/100\n",
            "48/48 [==============================] - 13s 266ms/step - loss: 2.1007e-04 - val_loss: 4.2826e-04\n",
            "Epoch 24/100\n",
            "48/48 [==============================] - 11s 240ms/step - loss: 1.9255e-04 - val_loss: 4.4080e-04\n",
            "Epoch 25/100\n",
            "48/48 [==============================] - 12s 246ms/step - loss: 1.8809e-04 - val_loss: 4.6507e-04\n",
            "Epoch 26/100\n",
            "48/48 [==============================] - 14s 299ms/step - loss: 1.9310e-04 - val_loss: 6.3719e-04\n",
            "Epoch 27/100\n",
            "48/48 [==============================] - 13s 281ms/step - loss: 2.1119e-04 - val_loss: 8.0972e-04\n",
            "Epoch 28/100\n",
            "48/48 [==============================] - 14s 289ms/step - loss: 2.0419e-04 - val_loss: 3.8362e-04\n",
            "Epoch 29/100\n",
            "48/48 [==============================] - 10s 205ms/step - loss: 1.8492e-04 - val_loss: 5.6883e-04\n",
            "Epoch 30/100\n",
            "48/48 [==============================] - 10s 207ms/step - loss: 1.9325e-04 - val_loss: 3.8528e-04\n",
            "Epoch 31/100\n",
            "48/48 [==============================] - 10s 205ms/step - loss: 1.6958e-04 - val_loss: 3.0836e-04\n",
            "Epoch 32/100\n",
            "48/48 [==============================] - 10s 205ms/step - loss: 1.6500e-04 - val_loss: 3.3083e-04\n",
            "Epoch 33/100\n",
            "48/48 [==============================] - 10s 212ms/step - loss: 1.6795e-04 - val_loss: 3.5723e-04\n",
            "Epoch 34/100\n",
            "48/48 [==============================] - 10s 205ms/step - loss: 1.6870e-04 - val_loss: 3.5133e-04\n",
            "Epoch 35/100\n",
            "48/48 [==============================] - 12s 246ms/step - loss: 1.5845e-04 - val_loss: 5.7666e-04\n",
            "Epoch 36/100\n",
            "48/48 [==============================] - 10s 206ms/step - loss: 1.6852e-04 - val_loss: 4.2708e-04\n",
            "Epoch 37/100\n",
            "48/48 [==============================] - 10s 211ms/step - loss: 1.6436e-04 - val_loss: 4.4540e-04\n",
            "Epoch 38/100\n",
            "48/48 [==============================] - 13s 277ms/step - loss: 1.5764e-04 - val_loss: 2.8245e-04\n",
            "Epoch 39/100\n",
            "48/48 [==============================] - 10s 210ms/step - loss: 1.5710e-04 - val_loss: 2.5811e-04\n",
            "Epoch 40/100\n",
            "48/48 [==============================] - 10s 208ms/step - loss: 1.5274e-04 - val_loss: 4.1899e-04\n",
            "Epoch 41/100\n",
            "48/48 [==============================] - 10s 207ms/step - loss: 1.4418e-04 - val_loss: 2.6176e-04\n",
            "Epoch 42/100\n",
            "48/48 [==============================] - 12s 248ms/step - loss: 1.5243e-04 - val_loss: 3.3861e-04\n",
            "Epoch 43/100\n",
            "48/48 [==============================] - 12s 242ms/step - loss: 1.5542e-04 - val_loss: 2.5047e-04\n",
            "Epoch 44/100\n",
            "48/48 [==============================] - 10s 207ms/step - loss: 1.6098e-04 - val_loss: 2.4565e-04\n",
            "Epoch 45/100\n",
            "48/48 [==============================] - 12s 258ms/step - loss: 1.6077e-04 - val_loss: 3.3611e-04\n",
            "Epoch 46/100\n",
            "48/48 [==============================] - 12s 242ms/step - loss: 1.4660e-04 - val_loss: 2.2588e-04\n",
            "Epoch 47/100\n",
            "48/48 [==============================] - 10s 205ms/step - loss: 1.5413e-04 - val_loss: 2.2538e-04\n",
            "Epoch 48/100\n",
            "48/48 [==============================] - 10s 219ms/step - loss: 1.6544e-04 - val_loss: 4.7466e-04\n",
            "Epoch 49/100\n",
            "48/48 [==============================] - 13s 261ms/step - loss: 1.6161e-04 - val_loss: 4.9157e-04\n",
            "Epoch 50/100\n",
            "48/48 [==============================] - 11s 237ms/step - loss: 1.6807e-04 - val_loss: 2.3206e-04\n",
            "Epoch 51/100\n",
            "48/48 [==============================] - 10s 213ms/step - loss: 1.3632e-04 - val_loss: 4.3970e-04\n",
            "Epoch 52/100\n",
            "48/48 [==============================] - 10s 204ms/step - loss: 1.4490e-04 - val_loss: 2.7593e-04\n",
            "Epoch 53/100\n",
            "48/48 [==============================] - 10s 205ms/step - loss: 1.4743e-04 - val_loss: 2.7864e-04\n",
            "Epoch 54/100\n",
            "48/48 [==============================] - 10s 205ms/step - loss: 1.3625e-04 - val_loss: 2.1560e-04\n",
            "Epoch 55/100\n",
            "48/48 [==============================] - 10s 205ms/step - loss: 1.3045e-04 - val_loss: 2.8173e-04\n",
            "Epoch 56/100\n",
            "48/48 [==============================] - 10s 206ms/step - loss: 1.2943e-04 - val_loss: 1.9674e-04\n",
            "Epoch 57/100\n",
            "48/48 [==============================] - 10s 205ms/step - loss: 1.2187e-04 - val_loss: 1.9266e-04\n",
            "Epoch 58/100\n",
            "48/48 [==============================] - 10s 204ms/step - loss: 1.2829e-04 - val_loss: 2.6542e-04\n",
            "Epoch 59/100\n",
            "48/48 [==============================] - 10s 205ms/step - loss: 1.1799e-04 - val_loss: 3.2946e-04\n",
            "Epoch 60/100\n",
            "48/48 [==============================] - 10s 204ms/step - loss: 1.3705e-04 - val_loss: 2.0765e-04\n",
            "Epoch 61/100\n",
            "48/48 [==============================] - 10s 205ms/step - loss: 1.1402e-04 - val_loss: 1.9221e-04\n",
            "Epoch 62/100\n",
            "48/48 [==============================] - 10s 206ms/step - loss: 1.1510e-04 - val_loss: 3.2447e-04\n",
            "Epoch 63/100\n",
            "48/48 [==============================] - 10s 206ms/step - loss: 1.2671e-04 - val_loss: 2.9341e-04\n",
            "Epoch 64/100\n",
            "48/48 [==============================] - 10s 206ms/step - loss: 1.0982e-04 - val_loss: 2.0391e-04\n",
            "Epoch 65/100\n",
            "48/48 [==============================] - 10s 207ms/step - loss: 1.1325e-04 - val_loss: 4.0973e-04\n",
            "Epoch 66/100\n",
            "48/48 [==============================] - 10s 207ms/step - loss: 1.0879e-04 - val_loss: 2.4208e-04\n",
            "Epoch 67/100\n",
            "48/48 [==============================] - 10s 207ms/step - loss: 1.1625e-04 - val_loss: 1.7649e-04\n",
            "Epoch 68/100\n",
            "48/48 [==============================] - 10s 206ms/step - loss: 9.6714e-05 - val_loss: 1.5098e-04\n",
            "Epoch 69/100\n",
            "48/48 [==============================] - 10s 206ms/step - loss: 9.9541e-05 - val_loss: 2.0974e-04\n",
            "Epoch 70/100\n",
            "48/48 [==============================] - 10s 205ms/step - loss: 1.0179e-04 - val_loss: 1.5253e-04\n",
            "Epoch 71/100\n",
            "48/48 [==============================] - 10s 206ms/step - loss: 9.8267e-05 - val_loss: 1.6092e-04\n",
            "Epoch 72/100\n",
            "48/48 [==============================] - 10s 207ms/step - loss: 1.5190e-04 - val_loss: 2.3761e-04\n",
            "Epoch 73/100\n",
            "48/48 [==============================] - 10s 207ms/step - loss: 1.0510e-04 - val_loss: 1.4930e-04\n",
            "Epoch 74/100\n",
            "48/48 [==============================] - 10s 204ms/step - loss: 9.5598e-05 - val_loss: 1.5712e-04\n",
            "Epoch 75/100\n",
            "48/48 [==============================] - 10s 205ms/step - loss: 9.5818e-05 - val_loss: 2.3800e-04\n",
            "Epoch 76/100\n",
            "48/48 [==============================] - 10s 205ms/step - loss: 1.0604e-04 - val_loss: 1.9908e-04\n",
            "Epoch 77/100\n",
            "48/48 [==============================] - 10s 210ms/step - loss: 9.6101e-05 - val_loss: 2.6672e-04\n",
            "Epoch 78/100\n",
            "48/48 [==============================] - 10s 210ms/step - loss: 9.0511e-05 - val_loss: 1.8840e-04\n",
            "Epoch 79/100\n",
            "48/48 [==============================] - 10s 211ms/step - loss: 8.1279e-05 - val_loss: 1.2478e-04\n",
            "Epoch 80/100\n",
            "48/48 [==============================] - 10s 208ms/step - loss: 8.1732e-05 - val_loss: 1.2027e-04\n",
            "Epoch 81/100\n",
            "48/48 [==============================] - 10s 207ms/step - loss: 7.8488e-05 - val_loss: 1.3194e-04\n",
            "Epoch 82/100\n",
            "48/48 [==============================] - 10s 208ms/step - loss: 8.5392e-05 - val_loss: 1.4502e-04\n",
            "Epoch 83/100\n",
            "48/48 [==============================] - 10s 205ms/step - loss: 7.8240e-05 - val_loss: 1.3794e-04\n",
            "Epoch 84/100\n",
            "48/48 [==============================] - 10s 204ms/step - loss: 7.4618e-05 - val_loss: 1.0875e-04\n",
            "Epoch 85/100\n",
            "48/48 [==============================] - 10s 206ms/step - loss: 1.0266e-04 - val_loss: 3.8733e-04\n",
            "Epoch 86/100\n",
            "48/48 [==============================] - 10s 207ms/step - loss: 7.5566e-05 - val_loss: 2.4545e-04\n",
            "Epoch 87/100\n",
            "48/48 [==============================] - 10s 206ms/step - loss: 1.1255e-04 - val_loss: 1.2187e-04\n",
            "Epoch 88/100\n",
            "48/48 [==============================] - 10s 205ms/step - loss: 6.7003e-05 - val_loss: 1.1512e-04\n",
            "Epoch 89/100\n",
            "48/48 [==============================] - 10s 205ms/step - loss: 6.7929e-05 - val_loss: 1.0506e-04\n",
            "Epoch 90/100\n",
            "48/48 [==============================] - 10s 208ms/step - loss: 6.8256e-05 - val_loss: 1.9343e-04\n",
            "Epoch 91/100\n",
            "48/48 [==============================] - 10s 208ms/step - loss: 7.5445e-05 - val_loss: 1.2994e-04\n",
            "Epoch 92/100\n",
            "48/48 [==============================] - 10s 209ms/step - loss: 8.5681e-05 - val_loss: 1.1239e-04\n",
            "Epoch 93/100\n",
            "48/48 [==============================] - 10s 207ms/step - loss: 7.3138e-05 - val_loss: 1.0550e-04\n",
            "Epoch 94/100\n",
            "48/48 [==============================] - 10s 204ms/step - loss: 6.7658e-05 - val_loss: 2.2324e-04\n",
            "Epoch 95/100\n",
            "48/48 [==============================] - 10s 206ms/step - loss: 9.3099e-05 - val_loss: 1.5147e-04\n",
            "Epoch 96/100\n",
            "48/48 [==============================] - 10s 206ms/step - loss: 6.7793e-05 - val_loss: 2.0653e-04\n",
            "Epoch 97/100\n",
            "48/48 [==============================] - 10s 207ms/step - loss: 6.8996e-05 - val_loss: 1.4044e-04\n",
            "Epoch 98/100\n",
            "48/48 [==============================] - 10s 206ms/step - loss: 8.0149e-05 - val_loss: 1.1983e-04\n",
            "Epoch 99/100\n",
            "48/48 [==============================] - 10s 205ms/step - loss: 6.5082e-05 - val_loss: 8.8112e-05\n",
            "Epoch 100/100\n",
            "48/48 [==============================] - 10s 204ms/step - loss: 5.7617e-05 - val_loss: 8.5561e-05\n"
          ]
        },
        {
          "output_type": "execute_result",
          "data": {
            "text/plain": [
              "<keras.callbacks.History at 0x7f66c72e0f90>"
            ]
          },
          "metadata": {},
          "execution_count": 75
        }
      ]
    },
    {
      "cell_type": "code",
      "source": [
        "#PLotting loss, it shows that loss has decreased significantly and model trained well\n",
        "loss = model.history.history['loss']\n",
        "plt.plot(loss)"
      ],
      "metadata": {
        "colab": {
          "base_uri": "https://localhost:8080/",
          "height": 285
        },
        "id": "lt_qpoujzgp6",
        "outputId": "5a5f1c79-3236-460d-f893-f0f7f130f341"
      },
      "execution_count": null,
      "outputs": [
        {
          "output_type": "execute_result",
          "data": {
            "text/plain": [
              "[<matplotlib.lines.Line2D at 0x7f66c2179ad0>]"
            ]
          },
          "metadata": {},
          "execution_count": 77
        },
        {
          "output_type": "display_data",
          "data": {
            "text/plain": [
              "<Figure size 432x288 with 1 Axes>"
            ],
            "image/png": "[encoded data removed]"
          },
          "metadata": {
            "needs_background": "light"
          }
        }
      ]
    },
    {
      "cell_type": "code",
      "source": [
        "#Predicitng on train and test data\n",
        "train_predict = model.predict(X_train)\n",
        "test_predict = model.predict(X_test)"
      ],
      "metadata": {
        "id": "QbtC0-Vozy7n"
      },
      "execution_count": null,
      "outputs": []
    },
    {
      "cell_type": "code",
      "source": [
        "#Inverse transform to get actual value\n",
        "train_predict = normalizer.inverse_transform(train_predict)\n",
        "test_predict = normalizer.inverse_transform(test_predict)"
      ],
      "metadata": {
        "id": "FFhy6f9Sz3J3"
      },
      "execution_count": null,
      "outputs": []
    },
    {
      "cell_type": "code",
      "source": [
        "#Comparing using visuals\n",
        "plt.plot(normalizer.inverse_transform(Adj_close_scaled))\n",
        "plt.plot(train_predict)\n",
        "plt.plot(test_predict)"
      ],
      "metadata": {
        "colab": {
          "base_uri": "https://localhost:8080/",
          "height": 285
        },
        "id": "flyEJjcHz8ph",
        "outputId": "e44d0306-1bfe-4a30-b907-0c2f297c67cc"
      },
      "execution_count": null,
      "outputs": [
        {
          "output_type": "execute_result",
          "data": {
            "text/plain": [
              "[<matplotlib.lines.Line2D at 0x7f66c6eb9310>]"
            ]
          },
          "metadata": {},
          "execution_count": 81
        },
        {
          "output_type": "display_data",
          "data": {
            "text/plain": [
              "<Figure size 432x288 with 1 Axes>"
            ],
            "image/png": "[encoded data removed]"
          },
          "metadata": {
            "needs_background": "light"
          }
        }
      ]
    },
    {
      "cell_type": "code",
      "source": [
        "type(train_predict)"
      ],
      "metadata": {
        "colab": {
          "base_uri": "https://localhost:8080/"
        },
        "id": "Ime4EImJ0FPx",
        "outputId": "206f1e11-cedc-4274-9794-3e7487ec9509"
      },
      "execution_count": null,
      "outputs": [
        {
          "output_type": "execute_result",
          "data": {
            "text/plain": [
              "numpy.ndarray"
            ]
          },
          "metadata": {},
          "execution_count": 83
        }
      ]
    },
    {
      "cell_type": "code",
      "source": [
        "test = np.vstack((train_predict,test_predict))"
      ],
      "metadata": {
        "id": "C2tcgwCa0IwW"
      },
      "execution_count": null,
      "outputs": []
    },
    {
      "cell_type": "code",
      "source": [
        "#Combining the predited data to create uniform data visualization\n",
        "plt.plot(normalizer.inverse_transform(Adj_close_scaled))\n",
        "plt.plot(test)"
      ],
      "metadata": {
        "colab": {
          "base_uri": "https://localhost:8080/",
          "height": 285
        },
        "id": "a0xzm_Z80LsB",
        "outputId": "e2b64af8-7d66-48e1-f55b-c8c536983c5f"
      },
      "execution_count": null,
      "outputs": [
        {
          "output_type": "execute_result",
          "data": {
            "text/plain": [
              "[<matplotlib.lines.Line2D at 0x7f66c6f74290>]"
            ]
          },
          "metadata": {},
          "execution_count": 86
        },
        {
          "output_type": "display_data",
          "data": {
            "text/plain": [
              "<Figure size 432x288 with 1 Axes>"
            ],
            "image/png": "[encoded data removed]"
          },
          "metadata": {
            "needs_background": "light"
          }
        }
      ]
    },
    {
      "cell_type": "code",
      "source": [
        "len(ds_test)"
      ],
      "metadata": {
        "colab": {
          "base_uri": "https://localhost:8080/"
        },
        "id": "BBA1pGKC0Uft",
        "outputId": "f4e8cfd3-21ef-43a0-bcee-332f64bf0fb3"
      },
      "execution_count": null,
      "outputs": [
        {
          "output_type": "execute_result",
          "data": {
            "text/plain": [
              "1350"
            ]
          },
          "metadata": {},
          "execution_count": 88
        }
      ]
    },
    {
      "cell_type": "code",
      "source": [
        "#Getting the last 100 days records\n",
        "fut_inp = ds_test[1250:]"
      ],
      "metadata": {
        "id": "dWyIyEP80UYT"
      },
      "execution_count": null,
      "outputs": []
    },
    {
      "cell_type": "code",
      "source": [
        "tmp_inp = list(fut_inp)"
      ],
      "metadata": {
        "id": "TUVRy6jN0dvU"
      },
      "execution_count": null,
      "outputs": []
    },
    {
      "cell_type": "code",
      "source": [
        "fut_inp.shape"
      ],
      "metadata": {
        "colab": {
          "base_uri": "https://localhost:8080/"
        },
        "id": "8vQcz-1n0hoj",
        "outputId": "55fd2ce7-99c0-4def-e9ff-0a2c9e1568f5"
      },
      "execution_count": null,
      "outputs": [
        {
          "output_type": "execute_result",
          "data": {
            "text/plain": [
              "(100, 1)"
            ]
          },
          "metadata": {},
          "execution_count": 94
        }
      ]
    },
    {
      "cell_type": "code",
      "source": [
        "#Creating list of the last 100 data\n",
        "tmp_inp = tmp_inp[0].tolist()"
      ],
      "metadata": {
        "id": "9_k8cWeG0lwb"
      },
      "execution_count": null,
      "outputs": []
    },
    {
      "cell_type": "code",
      "source": [
        "#Predicting next 30 days price suing the current data\n",
        "#It will predict in sliding window manner (algorithm) with stride 1\n",
        "lst_output=[]\n",
        "n_steps=100\n",
        "i=0\n",
        "while(i<30):\n",
        "    \n",
        "    if(len(tmp_inp)>100):\n",
        "        fut_inp = np.array(tmp_inp[1:])\n",
        "        fut_inp=fut_inp.reshape(1,-1)\n",
        "        fut_inp = fut_inp.reshape((1, n_steps, 1))\n",
        "        yhat = model.predict(fut_inp, verbose=0)\n",
        "        tmp_inp.extend(yhat[0].tolist())\n",
        "        tmp_inp = tmp_inp[1:]\n",
        "        lst_output.extend(yhat.tolist())\n",
        "        i=i+1\n",
        "    else:\n",
        "        fut_inp = fut_inp.reshape((1, n_steps,1))\n",
        "        yhat = model.predict(fut_inp, verbose=0)\n",
        "        tmp_inp.extend(yhat[0].tolist())\n",
        "        lst_output.extend(yhat.tolist())\n",
        "        i=i+1\n",
        "    \n",
        "\n",
        "print(lst_output)"
      ],
      "metadata": {
        "colab": {
          "base_uri": "https://localhost:8080/"
        },
        "id": "kz9amZX803Ad",
        "outputId": "fae88c4e-ae05-4724-eae2-54b956ab111e"
      },
      "execution_count": null,
      "outputs": [
        {
          "output_type": "stream",
          "name": "stdout",
          "text": [
            "[[0.6034433245658875], [0.6034433245658875], [0.6034433245658875], [0.6034433245658875], [0.6034433245658875], [0.6034433245658875], [0.6034433245658875], [0.6034433245658875], [0.6034433245658875], [0.6034433245658875], [0.6034433245658875], [0.6034433245658875], [0.6034433245658875], [0.6034433245658875], [0.6034433245658875], [0.6034433245658875], [0.6034433245658875], [0.6034433245658875], [0.6034433245658875], [0.6034433245658875], [0.6034433245658875], [0.6034433245658875], [0.6034433245658875], [0.6034433245658875], [0.6034433245658875], [0.6034433245658875], [0.6034433245658875], [0.6034433245658875], [0.6034433245658875], [0.6034433245658875]]\n"
          ]
        }
      ]
    },
    {
      "cell_type": "code",
      "source": [
        "len(Adj_close_scaled)"
      ],
      "metadata": {
        "colab": {
          "base_uri": "https://localhost:8080/"
        },
        "id": "BKiotOpS09aB",
        "outputId": "a29e79a3-4fd2-4480-cb4f-b26817b37536"
      },
      "execution_count": null,
      "outputs": [
        {
          "output_type": "execute_result",
          "data": {
            "text/plain": [
              "4499"
            ]
          },
          "metadata": {},
          "execution_count": 98
        }
      ]
    },
    {
      "cell_type": "code",
      "source": [
        "ds_new = Adj_close_scaled.tolist()"
      ],
      "metadata": {
        "id": "IhcipuSK1RCr"
      },
      "execution_count": null,
      "outputs": []
    },
    {
      "cell_type": "code",
      "source": [
        "#Entends helps us to fill the missing value with approx value\n",
        "ds_new.extend(lst_output)\n",
        "plt.plot(ds_new[1200:])"
      ],
      "metadata": {
        "colab": {
          "base_uri": "https://localhost:8080/",
          "height": 285
        },
        "id": "C9LEI0yo1Uvs",
        "outputId": "e02dd30b-572f-4feb-f514-3bfd07464699"
      },
      "execution_count": null,
      "outputs": [
        {
          "output_type": "execute_result",
          "data": {
            "text/plain": [
              "[<matplotlib.lines.Line2D at 0x7f66c4f477d0>]"
            ]
          },
          "metadata": {},
          "execution_count": 103
        },
        {
          "output_type": "display_data",
          "data": {
            "text/plain": [
              "<Figure size 432x288 with 1 Axes>"
            ],
            "image/png": "[encoded data removed]"
          },
          "metadata": {
            "needs_background": "light"
          }
        }
      ]
    },
    {
      "cell_type": "code",
      "source": [
        "#Creating final data for plotting\n",
        "final_graph = normalizer.inverse_transform(ds_new).tolist()"
      ],
      "metadata": {
        "id": "wvrdsCZi1ag-"
      },
      "execution_count": null,
      "outputs": []
    },
    {
      "cell_type": "code",
      "source": [
        "#Plotting final results with predicted value after 30 Days\n",
        "plt.plot(final_graph,)\n",
        "plt.ylabel(\"Price\")\n",
        "plt.xlabel(\"Time\")\n",
        "plt.axhline(y=final_graph[len(final_graph)-1], color = 'red', linestyle = ':', label = 'NEXT 30D: {0}'.format(round(float(*final_graph[len(final_graph)-1]),2)))\n",
        "plt.legend()"
      ],
      "metadata": {
        "colab": {
          "base_uri": "https://localhost:8080/",
          "height": 302
        },
        "id": "834lNs4g1f1y",
        "outputId": "ae500ec5-bedd-4bdb-8648-ff4d873f74c0"
      },
      "execution_count": null,
      "outputs": [
        {
          "output_type": "execute_result",
          "data": {
            "text/plain": [
              "<matplotlib.legend.Legend at 0x7f66c6d9c910>"
            ]
          },
          "metadata": {},
          "execution_count": 106
        },
        {
          "output_type": "display_data",
          "data": {
            "text/plain": [
              "<Figure size 432x288 with 1 Axes>"
            ],
            "image/png": "[encoded data removed]"
          },
          "metadata": {
            "needs_background": "light"
          }
        }
      ]
    }
  ]
}