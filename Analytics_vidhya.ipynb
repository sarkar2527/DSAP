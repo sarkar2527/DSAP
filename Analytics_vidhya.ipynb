{
  "nbformat": 4,
  "nbformat_minor": 0,
  "metadata": {
    "colab": {
      "name": "Analytics_vidhya.ipynb",
      "provenance": [],
      "collapsed_sections": [],
      "mount_file_id": "13NPWGJrA6zyPeIpL5-F3_SCbRm2GXM-x",
      "authorship_tag": "ABX9TyO1WXEIFL1a0wtq6wrmY5Jk",
      "include_colab_link": true
    },
    "kernelspec": {
      "name": "python3",
      "display_name": "Python 3"
    },
    "language_info": {
      "name": "python"
    }
  },
  "cells": [
    {
      "cell_type": "markdown",
      "metadata": {
        "id": "view-in-github",
        "colab_type": "text"
      },
      "source": [
        "<a href=\"https://colab.research.google.com/github/sarkar2527/DSAP/blob/main/Analytics_vidhya.ipynb\" target=\"_parent\"><img src=\"https://colab.research.google.com/assets/colab-badge.svg\" alt=\"Open In Colab\"/></a>"
      ]
    },
    {
      "cell_type": "code",
      "execution_count": 50,
      "metadata": {
        "colab": {
          "base_uri": "https://localhost:8080/"
        },
        "id": "wTyX6mVx8o3h",
        "outputId": "c48a71a5-ca06-470b-a30b-8f141e687ee2"
      },
      "outputs": [
        {
          "output_type": "stream",
          "name": "stdout",
          "text": [
            "Drive already mounted at /content/drive; to attempt to forcibly remount, call drive.mount(\"/content/drive\", force_remount=True).\n"
          ]
        }
      ],
      "source": [
        "from google.colab import drive\n",
        "drive.mount('/content/drive')"
      ]
    },
    {
      "cell_type": "markdown",
      "source": [
        "**Importing the neccessary Library**"
      ],
      "metadata": {
        "id": "i3vLNfFUEHQD"
      }
    },
    {
      "cell_type": "code",
      "source": [
        "import pandas as pd\n",
        "import numpy as np\n",
        "import matplotlib.pyplot as plt"
      ],
      "metadata": {
        "id": "igsf9mm2ThzL"
      },
      "execution_count": 51,
      "outputs": []
    },
    {
      "cell_type": "markdown",
      "source": [
        "**Reading Training DataSet**"
      ],
      "metadata": {
        "id": "svObUTcREYEa"
      }
    },
    {
      "cell_type": "code",
      "source": [
        "df_raw_train=pd.read_csv(\"/content/drive/MyDrive/Analytics_vidya_hack/train_0OECtn8.csv\")"
      ],
      "metadata": {
        "id": "lD41f5beToNP"
      },
      "execution_count": 52,
      "outputs": []
    },
    {
      "cell_type": "markdown",
      "source": [
        "**Reading Test DataSet**"
      ],
      "metadata": {
        "id": "18za9XKcEkv5"
      }
    },
    {
      "cell_type": "code",
      "source": [
        "df_raw_test=pd.read_csv(\"/content/drive/MyDrive/Analytics_vidya_hack/test_1zqHu22.csv\")"
      ],
      "metadata": {
        "id": "i4fcE13nUAAd"
      },
      "execution_count": 53,
      "outputs": []
    },
    {
      "cell_type": "markdown",
      "source": [
        "**EDA**"
      ],
      "metadata": {
        "id": "uazo-pvRE4dk"
      }
    },
    {
      "cell_type": "code",
      "source": [
        "df_raw_train.shape"
      ],
      "metadata": {
        "colab": {
          "base_uri": "https://localhost:8080/"
        },
        "id": "b6MwwxbHUI3U",
        "outputId": "c5d9accf-f7a5-4fcc-a305-c3b2bb7a5297"
      },
      "execution_count": null,
      "outputs": [
        {
          "output_type": "execute_result",
          "data": {
            "text/plain": [
              "(89197, 10)"
            ]
          },
          "metadata": {},
          "execution_count": 73
        }
      ]
    },
    {
      "cell_type": "code",
      "source": [
        "df_raw_train.isna().sum()"
      ],
      "metadata": {
        "colab": {
          "base_uri": "https://localhost:8080/"
        },
        "id": "T4UIUauuUMdx",
        "outputId": "24a7f00f-9be3-47a6-cea5-c182ab5eedeb"
      },
      "execution_count": 54,
      "outputs": [
        {
          "output_type": "execute_result",
          "data": {
            "text/plain": [
              "row_id              0\n",
              "user_id             0\n",
              "category_id         0\n",
              "video_id            0\n",
              "age                 0\n",
              "gender              0\n",
              "profession          0\n",
              "followers           0\n",
              "views               0\n",
              "engagement_score    0\n",
              "dtype: int64"
            ]
          },
          "metadata": {},
          "execution_count": 54
        }
      ]
    },
    {
      "cell_type": "code",
      "source": [
        "df_raw_train.drop(df_raw_train.columns[[0, 1]], axis = 1, inplace = True)"
      ],
      "metadata": {
        "id": "XIbteWhoWEW9"
      },
      "execution_count": 55,
      "outputs": []
    },
    {
      "cell_type": "code",
      "source": [
        "df_raw_train.head()"
      ],
      "metadata": {
        "colab": {
          "base_uri": "https://localhost:8080/",
          "height": 206
        },
        "id": "6tiaclqJWkYm",
        "outputId": "9ced5478-f285-4ee4-c85c-8a94c2860144"
      },
      "execution_count": 56,
      "outputs": [
        {
          "output_type": "execute_result",
          "data": {
            "text/html": [
              "\n",
              "  <div id=\"df-00a82218-3ca4-4549-8d47-59b3aed5bc7e\">\n",
              "    <div class=\"colab-df-container\">\n",
              "      <div>\n",
              "<style scoped>\n",
              "    .dataframe tbody tr th:only-of-type {\n",
              "        vertical-align: middle;\n",
              "    }\n",
              "\n",
              "    .dataframe tbody tr th {\n",
              "        vertical-align: top;\n",
              "    }\n",
              "\n",
              "    .dataframe thead th {\n",
              "        text-align: right;\n",
              "    }\n",
              "</style>\n",
              "<table border=\"1\" class=\"dataframe\">\n",
              "  <thead>\n",
              "    <tr style=\"text-align: right;\">\n",
              "      <th></th>\n",
              "      <th>category_id</th>\n",
              "      <th>video_id</th>\n",
              "      <th>age</th>\n",
              "      <th>gender</th>\n",
              "      <th>profession</th>\n",
              "      <th>followers</th>\n",
              "      <th>views</th>\n",
              "      <th>engagement_score</th>\n",
              "    </tr>\n",
              "  </thead>\n",
              "  <tbody>\n",
              "    <tr>\n",
              "      <th>0</th>\n",
              "      <td>37</td>\n",
              "      <td>128</td>\n",
              "      <td>24</td>\n",
              "      <td>Male</td>\n",
              "      <td>Student</td>\n",
              "      <td>180</td>\n",
              "      <td>1000</td>\n",
              "      <td>4.33</td>\n",
              "    </tr>\n",
              "    <tr>\n",
              "      <th>1</th>\n",
              "      <td>32</td>\n",
              "      <td>132</td>\n",
              "      <td>14</td>\n",
              "      <td>Female</td>\n",
              "      <td>Student</td>\n",
              "      <td>330</td>\n",
              "      <td>714</td>\n",
              "      <td>1.79</td>\n",
              "    </tr>\n",
              "    <tr>\n",
              "      <th>2</th>\n",
              "      <td>12</td>\n",
              "      <td>24</td>\n",
              "      <td>19</td>\n",
              "      <td>Male</td>\n",
              "      <td>Student</td>\n",
              "      <td>180</td>\n",
              "      <td>138</td>\n",
              "      <td>4.35</td>\n",
              "    </tr>\n",
              "    <tr>\n",
              "      <th>3</th>\n",
              "      <td>23</td>\n",
              "      <td>112</td>\n",
              "      <td>19</td>\n",
              "      <td>Male</td>\n",
              "      <td>Student</td>\n",
              "      <td>220</td>\n",
              "      <td>613</td>\n",
              "      <td>3.77</td>\n",
              "    </tr>\n",
              "    <tr>\n",
              "      <th>4</th>\n",
              "      <td>23</td>\n",
              "      <td>112</td>\n",
              "      <td>27</td>\n",
              "      <td>Male</td>\n",
              "      <td>Working Professional</td>\n",
              "      <td>220</td>\n",
              "      <td>613</td>\n",
              "      <td>3.13</td>\n",
              "    </tr>\n",
              "  </tbody>\n",
              "</table>\n",
              "</div>\n",
              "      <button class=\"colab-df-convert\" onclick=\"convertToInteractive('df-00a82218-3ca4-4549-8d47-59b3aed5bc7e')\"\n",
              "              title=\"Convert this dataframe to an interactive table.\"\n",
              "              style=\"display:none;\">\n",
              "        \n",
              "  <svg xmlns=\"http://www.w3.org/2000/svg\" height=\"24px\"viewBox=\"0 0 24 24\"\n",
              "       width=\"24px\">\n",
              "    <path d=\"M0 0h24v24H0V0z\" fill=\"none\"/>\n",
              "    <path d=\"M18.56 5.44l.94 2.06.94-2.06 2.06-.94-2.06-.94-.94-2.06-.94 2.06-2.06.94zm-11 1L8.5 8.5l.94-2.06 2.06-.94-2.06-.94L8.5 2.5l-.94 2.06-2.06.94zm10 10l.94 2.06.94-2.06 2.06-.94-2.06-.94-.94-2.06-.94 2.06-2.06.94z\"/><path d=\"M17.41 7.96l-1.37-1.37c-.4-.4-.92-.59-1.43-.59-.52 0-1.04.2-1.43.59L10.3 9.45l-7.72 7.72c-.78.78-.78 2.05 0 2.83L4 21.41c.39.39.9.59 1.41.59.51 0 1.02-.2 1.41-.59l7.78-7.78 2.81-2.81c.8-.78.8-2.07 0-2.86zM5.41 20L4 18.59l7.72-7.72 1.47 1.35L5.41 20z\"/>\n",
              "  </svg>\n",
              "      </button>\n",
              "      \n",
              "  <style>\n",
              "    .colab-df-container {\n",
              "      display:flex;\n",
              "      flex-wrap:wrap;\n",
              "      gap: 12px;\n",
              "    }\n",
              "\n",
              "    .colab-df-convert {\n",
              "      background-color: #E8F0FE;\n",
              "      border: none;\n",
              "      border-radius: 50%;\n",
              "      cursor: pointer;\n",
              "      display: none;\n",
              "      fill: #1967D2;\n",
              "      height: 32px;\n",
              "      padding: 0 0 0 0;\n",
              "      width: 32px;\n",
              "    }\n",
              "\n",
              "    .colab-df-convert:hover {\n",
              "      background-color: #E2EBFA;\n",
              "      box-shadow: 0px 1px 2px rgba(60, 64, 67, 0.3), 0px 1px 3px 1px rgba(60, 64, 67, 0.15);\n",
              "      fill: #174EA6;\n",
              "    }\n",
              "\n",
              "    [theme=dark] .colab-df-convert {\n",
              "      background-color: #3B4455;\n",
              "      fill: #D2E3FC;\n",
              "    }\n",
              "\n",
              "    [theme=dark] .colab-df-convert:hover {\n",
              "      background-color: #434B5C;\n",
              "      box-shadow: 0px 1px 3px 1px rgba(0, 0, 0, 0.15);\n",
              "      filter: drop-shadow(0px 1px 2px rgba(0, 0, 0, 0.3));\n",
              "      fill: #FFFFFF;\n",
              "    }\n",
              "  </style>\n",
              "\n",
              "      <script>\n",
              "        const buttonEl =\n",
              "          document.querySelector('#df-00a82218-3ca4-4549-8d47-59b3aed5bc7e button.colab-df-convert');\n",
              "        buttonEl.style.display =\n",
              "          google.colab.kernel.accessAllowed ? 'block' : 'none';\n",
              "\n",
              "        async function convertToInteractive(key) {\n",
              "          const element = document.querySelector('#df-00a82218-3ca4-4549-8d47-59b3aed5bc7e');\n",
              "          const dataTable =\n",
              "            await google.colab.kernel.invokeFunction('convertToInteractive',\n",
              "                                                     [key], {});\n",
              "          if (!dataTable) return;\n",
              "\n",
              "          const docLinkHtml = 'Like what you see? Visit the ' +\n",
              "            '<a target=\"_blank\" href=https://colab.research.google.com/notebooks/data_table.ipynb>data table notebook</a>'\n",
              "            + ' to learn more about interactive tables.';\n",
              "          element.innerHTML = '';\n",
              "          dataTable['output_type'] = 'display_data';\n",
              "          await google.colab.output.renderOutput(dataTable, element);\n",
              "          const docLink = document.createElement('div');\n",
              "          docLink.innerHTML = docLinkHtml;\n",
              "          element.appendChild(docLink);\n",
              "        }\n",
              "      </script>\n",
              "    </div>\n",
              "  </div>\n",
              "  "
            ],
            "text/plain": [
              "   category_id  video_id  age  ... followers views  engagement_score\n",
              "0           37       128   24  ...       180  1000              4.33\n",
              "1           32       132   14  ...       330   714              1.79\n",
              "2           12        24   19  ...       180   138              4.35\n",
              "3           23       112   19  ...       220   613              3.77\n",
              "4           23       112   27  ...       220   613              3.13\n",
              "\n",
              "[5 rows x 8 columns]"
            ]
          },
          "metadata": {},
          "execution_count": 56
        }
      ]
    },
    {
      "cell_type": "code",
      "source": [
        "df_raw_train['profession'].value_counts()"
      ],
      "metadata": {
        "colab": {
          "base_uri": "https://localhost:8080/"
        },
        "id": "VnXQ6-Q0Wsxc",
        "outputId": "4c12b546-92a3-49b7-bc38-980b44c2e838"
      },
      "execution_count": null,
      "outputs": [
        {
          "output_type": "execute_result",
          "data": {
            "text/plain": [
              "Student                 44638\n",
              "Other                   26840\n",
              "Working Professional    17719\n",
              "Name: profession, dtype: int64"
            ]
          },
          "metadata": {},
          "execution_count": 77
        }
      ]
    },
    {
      "cell_type": "code",
      "source": [
        "df_raw_train['gender'].value_counts()"
      ],
      "metadata": {
        "colab": {
          "base_uri": "https://localhost:8080/"
        },
        "id": "Vs2otE5ZXghD",
        "outputId": "9a325c05-338b-40ec-d013-874ffd296904"
      },
      "execution_count": null,
      "outputs": [
        {
          "output_type": "execute_result",
          "data": {
            "text/plain": [
              "Male      52397\n",
              "Female    36800\n",
              "Name: gender, dtype: int64"
            ]
          },
          "metadata": {},
          "execution_count": 78
        }
      ]
    },
    {
      "cell_type": "code",
      "source": [
        "plt.suptitle('Histogram of Numerical Columns', fontsize = 15)\n",
        "for i in range(1, df_raw_train.shape[1]+ 1):\n",
        "    plt.subplot(3, 3, i)\n",
        "    f = plt.gca()\n",
        "    f.set_title(df_raw_train.columns.values[i - 1])\n",
        "    \n",
        "    vals = np.size(df_raw_train.iloc[:, i - 1].unique())\n",
        "    \n",
        "    plt.hist(df_raw_train.iloc[:, i - 1], bins = vals, color = 'blue')"
      ],
      "metadata": {
        "colab": {
          "base_uri": "https://localhost:8080/",
          "height": 294
        },
        "id": "_n6GzJMZXye4",
        "outputId": "c6d03e42-1f38-4684-e3f0-99c33f3c72e1"
      },
      "execution_count": null,
      "outputs": [
        {
          "output_type": "display_data",
          "data": {
            "image/png": "[encoded data removed]",
            "text/plain": [
              "<Figure size 432x288 with 8 Axes>"
            ]
          },
          "metadata": {
            "needs_background": "light"
          }
        }
      ]
    },
    {
      "cell_type": "code",
      "source": [
        "df_raw_train.corrwith(df_raw_train.engagement_score).plot.bar(figsize = (20, 10),\n",
        "                  title = 'Correlation with Response Variable',\n",
        "                  fontsize = 15, rot = 45,\n",
        "                  grid = True)"
      ],
      "metadata": {
        "colab": {
          "base_uri": "https://localhost:8080/",
          "height": 541
        },
        "id": "v1xABhruZDpD",
        "outputId": "bdf816fb-6b84-4538-deb1-91b3647233b9"
      },
      "execution_count": null,
      "outputs": [
        {
          "output_type": "execute_result",
          "data": {
            "text/plain": [
              "<matplotlib.axes._subplots.AxesSubplot at 0x7f95b05868d0>"
            ]
          },
          "metadata": {},
          "execution_count": 80
        },
        {
          "output_type": "display_data",
          "data": {
            "image/png": "[encoded data removed]",
            "text/plain": [
              "<Figure size 1440x720 with 1 Axes>"
            ]
          },
          "metadata": {
            "needs_background": "light"
          }
        }
      ]
    },
    {
      "cell_type": "code",
      "source": [
        "df_raw_train.dtypes"
      ],
      "metadata": {
        "colab": {
          "base_uri": "https://localhost:8080/"
        },
        "id": "F6jaoGMCbz7y",
        "outputId": "34c0ecd1-42f1-48e8-cee3-4562e8a7c730"
      },
      "execution_count": 57,
      "outputs": [
        {
          "output_type": "execute_result",
          "data": {
            "text/plain": [
              "category_id           int64\n",
              "video_id              int64\n",
              "age                   int64\n",
              "gender               object\n",
              "profession           object\n",
              "followers             int64\n",
              "views                 int64\n",
              "engagement_score    float64\n",
              "dtype: object"
            ]
          },
          "metadata": {},
          "execution_count": 57
        }
      ]
    },
    {
      "cell_type": "markdown",
      "source": [
        "**Removing Outliers**"
      ],
      "metadata": {
        "id": "TpRuzrYaFDjU"
      }
    },
    {
      "cell_type": "code",
      "source": [
        "cols = ['category_id','video_id','age','followers','views'] # one or more\n",
        "\n",
        "Q1 = df_raw_train[cols].quantile(0.25)\n",
        "Q3 = df_raw_train[cols].quantile(0.75)\n",
        "IQR = Q3 - Q1\n",
        "\n",
        "df_new_train = df_raw_train[~((df_raw_train[cols] < (Q1 - 1.5 * IQR)) |(df_raw_train[cols] > (Q3 + 1.5 * IQR))).any(axis=1)]"
      ],
      "metadata": {
        "id": "Yiyl11WVbd9k"
      },
      "execution_count": 58,
      "outputs": []
    },
    {
      "cell_type": "code",
      "source": [
        "df_raw_train.shape"
      ],
      "metadata": {
        "colab": {
          "base_uri": "https://localhost:8080/"
        },
        "id": "3B0p9oILcRBq",
        "outputId": "51345f2e-0565-4680-d38a-2023f48aed48"
      },
      "execution_count": 59,
      "outputs": [
        {
          "output_type": "execute_result",
          "data": {
            "text/plain": [
              "(89197, 8)"
            ]
          },
          "metadata": {},
          "execution_count": 59
        }
      ]
    },
    {
      "cell_type": "code",
      "source": [
        "df_new_train.shape"
      ],
      "metadata": {
        "colab": {
          "base_uri": "https://localhost:8080/"
        },
        "id": "_zGRCZxBcffv",
        "outputId": "c6c9d38f-ce31-49b9-9467-469ab8c7958f"
      },
      "execution_count": 60,
      "outputs": [
        {
          "output_type": "execute_result",
          "data": {
            "text/plain": [
              "(87176, 8)"
            ]
          },
          "metadata": {},
          "execution_count": 60
        }
      ]
    },
    {
      "cell_type": "code",
      "source": [
        "df_new_train.head()"
      ],
      "metadata": {
        "colab": {
          "base_uri": "https://localhost:8080/",
          "height": 206
        },
        "id": "ISsdmwb1MkPJ",
        "outputId": "7cb09ae2-01ad-4416-8024-78651bd1da5e"
      },
      "execution_count": 61,
      "outputs": [
        {
          "output_type": "execute_result",
          "data": {
            "text/html": [
              "\n",
              "  <div id=\"df-907fcd78-bfca-4d6a-a008-81435e5ed65b\">\n",
              "    <div class=\"colab-df-container\">\n",
              "      <div>\n",
              "<style scoped>\n",
              "    .dataframe tbody tr th:only-of-type {\n",
              "        vertical-align: middle;\n",
              "    }\n",
              "\n",
              "    .dataframe tbody tr th {\n",
              "        vertical-align: top;\n",
              "    }\n",
              "\n",
              "    .dataframe thead th {\n",
              "        text-align: right;\n",
              "    }\n",
              "</style>\n",
              "<table border=\"1\" class=\"dataframe\">\n",
              "  <thead>\n",
              "    <tr style=\"text-align: right;\">\n",
              "      <th></th>\n",
              "      <th>category_id</th>\n",
              "      <th>video_id</th>\n",
              "      <th>age</th>\n",
              "      <th>gender</th>\n",
              "      <th>profession</th>\n",
              "      <th>followers</th>\n",
              "      <th>views</th>\n",
              "      <th>engagement_score</th>\n",
              "    </tr>\n",
              "  </thead>\n",
              "  <tbody>\n",
              "    <tr>\n",
              "      <th>0</th>\n",
              "      <td>37</td>\n",
              "      <td>128</td>\n",
              "      <td>24</td>\n",
              "      <td>Male</td>\n",
              "      <td>Student</td>\n",
              "      <td>180</td>\n",
              "      <td>1000</td>\n",
              "      <td>4.33</td>\n",
              "    </tr>\n",
              "    <tr>\n",
              "      <th>1</th>\n",
              "      <td>32</td>\n",
              "      <td>132</td>\n",
              "      <td>14</td>\n",
              "      <td>Female</td>\n",
              "      <td>Student</td>\n",
              "      <td>330</td>\n",
              "      <td>714</td>\n",
              "      <td>1.79</td>\n",
              "    </tr>\n",
              "    <tr>\n",
              "      <th>2</th>\n",
              "      <td>12</td>\n",
              "      <td>24</td>\n",
              "      <td>19</td>\n",
              "      <td>Male</td>\n",
              "      <td>Student</td>\n",
              "      <td>180</td>\n",
              "      <td>138</td>\n",
              "      <td>4.35</td>\n",
              "    </tr>\n",
              "    <tr>\n",
              "      <th>3</th>\n",
              "      <td>23</td>\n",
              "      <td>112</td>\n",
              "      <td>19</td>\n",
              "      <td>Male</td>\n",
              "      <td>Student</td>\n",
              "      <td>220</td>\n",
              "      <td>613</td>\n",
              "      <td>3.77</td>\n",
              "    </tr>\n",
              "    <tr>\n",
              "      <th>4</th>\n",
              "      <td>23</td>\n",
              "      <td>112</td>\n",
              "      <td>27</td>\n",
              "      <td>Male</td>\n",
              "      <td>Working Professional</td>\n",
              "      <td>220</td>\n",
              "      <td>613</td>\n",
              "      <td>3.13</td>\n",
              "    </tr>\n",
              "  </tbody>\n",
              "</table>\n",
              "</div>\n",
              "      <button class=\"colab-df-convert\" onclick=\"convertToInteractive('df-907fcd78-bfca-4d6a-a008-81435e5ed65b')\"\n",
              "              title=\"Convert this dataframe to an interactive table.\"\n",
              "              style=\"display:none;\">\n",
              "        \n",
              "  <svg xmlns=\"http://www.w3.org/2000/svg\" height=\"24px\"viewBox=\"0 0 24 24\"\n",
              "       width=\"24px\">\n",
              "    <path d=\"M0 0h24v24H0V0z\" fill=\"none\"/>\n",
              "    <path d=\"M18.56 5.44l.94 2.06.94-2.06 2.06-.94-2.06-.94-.94-2.06-.94 2.06-2.06.94zm-11 1L8.5 8.5l.94-2.06 2.06-.94-2.06-.94L8.5 2.5l-.94 2.06-2.06.94zm10 10l.94 2.06.94-2.06 2.06-.94-2.06-.94-.94-2.06-.94 2.06-2.06.94z\"/><path d=\"M17.41 7.96l-1.37-1.37c-.4-.4-.92-.59-1.43-.59-.52 0-1.04.2-1.43.59L10.3 9.45l-7.72 7.72c-.78.78-.78 2.05 0 2.83L4 21.41c.39.39.9.59 1.41.59.51 0 1.02-.2 1.41-.59l7.78-7.78 2.81-2.81c.8-.78.8-2.07 0-2.86zM5.41 20L4 18.59l7.72-7.72 1.47 1.35L5.41 20z\"/>\n",
              "  </svg>\n",
              "      </button>\n",
              "      \n",
              "  <style>\n",
              "    .colab-df-container {\n",
              "      display:flex;\n",
              "      flex-wrap:wrap;\n",
              "      gap: 12px;\n",
              "    }\n",
              "\n",
              "    .colab-df-convert {\n",
              "      background-color: #E8F0FE;\n",
              "      border: none;\n",
              "      border-radius: 50%;\n",
              "      cursor: pointer;\n",
              "      display: none;\n",
              "      fill: #1967D2;\n",
              "      height: 32px;\n",
              "      padding: 0 0 0 0;\n",
              "      width: 32px;\n",
              "    }\n",
              "\n",
              "    .colab-df-convert:hover {\n",
              "      background-color: #E2EBFA;\n",
              "      box-shadow: 0px 1px 2px rgba(60, 64, 67, 0.3), 0px 1px 3px 1px rgba(60, 64, 67, 0.15);\n",
              "      fill: #174EA6;\n",
              "    }\n",
              "\n",
              "    [theme=dark] .colab-df-convert {\n",
              "      background-color: #3B4455;\n",
              "      fill: #D2E3FC;\n",
              "    }\n",
              "\n",
              "    [theme=dark] .colab-df-convert:hover {\n",
              "      background-color: #434B5C;\n",
              "      box-shadow: 0px 1px 3px 1px rgba(0, 0, 0, 0.15);\n",
              "      filter: drop-shadow(0px 1px 2px rgba(0, 0, 0, 0.3));\n",
              "      fill: #FFFFFF;\n",
              "    }\n",
              "  </style>\n",
              "\n",
              "      <script>\n",
              "        const buttonEl =\n",
              "          document.querySelector('#df-907fcd78-bfca-4d6a-a008-81435e5ed65b button.colab-df-convert');\n",
              "        buttonEl.style.display =\n",
              "          google.colab.kernel.accessAllowed ? 'block' : 'none';\n",
              "\n",
              "        async function convertToInteractive(key) {\n",
              "          const element = document.querySelector('#df-907fcd78-bfca-4d6a-a008-81435e5ed65b');\n",
              "          const dataTable =\n",
              "            await google.colab.kernel.invokeFunction('convertToInteractive',\n",
              "                                                     [key], {});\n",
              "          if (!dataTable) return;\n",
              "\n",
              "          const docLinkHtml = 'Like what you see? Visit the ' +\n",
              "            '<a target=\"_blank\" href=https://colab.research.google.com/notebooks/data_table.ipynb>data table notebook</a>'\n",
              "            + ' to learn more about interactive tables.';\n",
              "          element.innerHTML = '';\n",
              "          dataTable['output_type'] = 'display_data';\n",
              "          await google.colab.output.renderOutput(dataTable, element);\n",
              "          const docLink = document.createElement('div');\n",
              "          docLink.innerHTML = docLinkHtml;\n",
              "          element.appendChild(docLink);\n",
              "        }\n",
              "      </script>\n",
              "    </div>\n",
              "  </div>\n",
              "  "
            ],
            "text/plain": [
              "   category_id  video_id  age  ... followers views  engagement_score\n",
              "0           37       128   24  ...       180  1000              4.33\n",
              "1           32       132   14  ...       330   714              1.79\n",
              "2           12        24   19  ...       180   138              4.35\n",
              "3           23       112   19  ...       220   613              3.77\n",
              "4           23       112   27  ...       220   613              3.13\n",
              "\n",
              "[5 rows x 8 columns]"
            ]
          },
          "metadata": {},
          "execution_count": 61
        }
      ]
    },
    {
      "cell_type": "markdown",
      "source": [
        "**Multicolinearity**"
      ],
      "metadata": {
        "id": "uLUwlf98FL1U"
      }
    },
    {
      "cell_type": "code",
      "source": [
        "VIF = []\n",
        "from statsmodels.stats.outliers_influence import variance_inflation_factor\n",
        "for j in range(x_train.shape[1]):\n",
        "    VIF.append(variance_inflation_factor(x_train.values,j))\n",
        "print(VIF)"
      ],
      "metadata": {
        "colab": {
          "base_uri": "https://localhost:8080/"
        },
        "id": "OFqk_MmxlHzs",
        "outputId": "b7deaba1-ee2d-4e0c-e2e6-6f4252992b7a"
      },
      "execution_count": null,
      "outputs": [
        {
          "output_type": "stream",
          "name": "stderr",
          "text": [
            "/usr/local/lib/python3.7/dist-packages/statsmodels/tools/_testing.py:19: FutureWarning: pandas.util.testing is deprecated. Use the functions in the public API at pandas.testing instead.\n",
            "  import pandas.util.testing as tm\n"
          ]
        },
        {
          "output_type": "stream",
          "name": "stdout",
          "text": [
            "[5.166702457618238, 5.390482818733854, 7.236991135810488, 13.873815748223164, 5.101635418963957]\n"
          ]
        }
      ]
    },
    {
      "cell_type": "code",
      "source": [
        "np.transpose(VIF)\n",
        "pd.DataFrame(x_train.columns)\n",
        "pd.DataFrame(np.transpose(VIF))\n",
        "pd.concat([pd.DataFrame(x_train.columns),pd.DataFrame(np.transpose(VIF))], axis =1)"
      ],
      "metadata": {
        "colab": {
          "base_uri": "https://localhost:8080/",
          "height": 206
        },
        "id": "Sgmi1d8Tm8nD",
        "outputId": "985f3af1-6051-42c8-f345-73eb31c88538"
      },
      "execution_count": null,
      "outputs": [
        {
          "output_type": "execute_result",
          "data": {
            "text/html": [
              "\n",
              "  <div id=\"df-248b87e5-f806-4db3-8811-2f9979a8ff58\">\n",
              "    <div class=\"colab-df-container\">\n",
              "      <div>\n",
              "<style scoped>\n",
              "    .dataframe tbody tr th:only-of-type {\n",
              "        vertical-align: middle;\n",
              "    }\n",
              "\n",
              "    .dataframe tbody tr th {\n",
              "        vertical-align: top;\n",
              "    }\n",
              "\n",
              "    .dataframe thead th {\n",
              "        text-align: right;\n",
              "    }\n",
              "</style>\n",
              "<table border=\"1\" class=\"dataframe\">\n",
              "  <thead>\n",
              "    <tr style=\"text-align: right;\">\n",
              "      <th></th>\n",
              "      <th>0</th>\n",
              "      <th>0</th>\n",
              "    </tr>\n",
              "  </thead>\n",
              "  <tbody>\n",
              "    <tr>\n",
              "      <th>0</th>\n",
              "      <td>category_id</td>\n",
              "      <td>5.166702</td>\n",
              "    </tr>\n",
              "    <tr>\n",
              "      <th>1</th>\n",
              "      <td>video_id</td>\n",
              "      <td>5.390483</td>\n",
              "    </tr>\n",
              "    <tr>\n",
              "      <th>2</th>\n",
              "      <td>age</td>\n",
              "      <td>7.236991</td>\n",
              "    </tr>\n",
              "    <tr>\n",
              "      <th>3</th>\n",
              "      <td>followers</td>\n",
              "      <td>13.873816</td>\n",
              "    </tr>\n",
              "    <tr>\n",
              "      <th>4</th>\n",
              "      <td>views</td>\n",
              "      <td>5.101635</td>\n",
              "    </tr>\n",
              "  </tbody>\n",
              "</table>\n",
              "</div>\n",
              "      <button class=\"colab-df-convert\" onclick=\"convertToInteractive('df-248b87e5-f806-4db3-8811-2f9979a8ff58')\"\n",
              "              title=\"Convert this dataframe to an interactive table.\"\n",
              "              style=\"display:none;\">\n",
              "        \n",
              "  <svg xmlns=\"http://www.w3.org/2000/svg\" height=\"24px\"viewBox=\"0 0 24 24\"\n",
              "       width=\"24px\">\n",
              "    <path d=\"M0 0h24v24H0V0z\" fill=\"none\"/>\n",
              "    <path d=\"M18.56 5.44l.94 2.06.94-2.06 2.06-.94-2.06-.94-.94-2.06-.94 2.06-2.06.94zm-11 1L8.5 8.5l.94-2.06 2.06-.94-2.06-.94L8.5 2.5l-.94 2.06-2.06.94zm10 10l.94 2.06.94-2.06 2.06-.94-2.06-.94-.94-2.06-.94 2.06-2.06.94z\"/><path d=\"M17.41 7.96l-1.37-1.37c-.4-.4-.92-.59-1.43-.59-.52 0-1.04.2-1.43.59L10.3 9.45l-7.72 7.72c-.78.78-.78 2.05 0 2.83L4 21.41c.39.39.9.59 1.41.59.51 0 1.02-.2 1.41-.59l7.78-7.78 2.81-2.81c.8-.78.8-2.07 0-2.86zM5.41 20L4 18.59l7.72-7.72 1.47 1.35L5.41 20z\"/>\n",
              "  </svg>\n",
              "      </button>\n",
              "      \n",
              "  <style>\n",
              "    .colab-df-container {\n",
              "      display:flex;\n",
              "      flex-wrap:wrap;\n",
              "      gap: 12px;\n",
              "    }\n",
              "\n",
              "    .colab-df-convert {\n",
              "      background-color: #E8F0FE;\n",
              "      border: none;\n",
              "      border-radius: 50%;\n",
              "      cursor: pointer;\n",
              "      display: none;\n",
              "      fill: #1967D2;\n",
              "      height: 32px;\n",
              "      padding: 0 0 0 0;\n",
              "      width: 32px;\n",
              "    }\n",
              "\n",
              "    .colab-df-convert:hover {\n",
              "      background-color: #E2EBFA;\n",
              "      box-shadow: 0px 1px 2px rgba(60, 64, 67, 0.3), 0px 1px 3px 1px rgba(60, 64, 67, 0.15);\n",
              "      fill: #174EA6;\n",
              "    }\n",
              "\n",
              "    [theme=dark] .colab-df-convert {\n",
              "      background-color: #3B4455;\n",
              "      fill: #D2E3FC;\n",
              "    }\n",
              "\n",
              "    [theme=dark] .colab-df-convert:hover {\n",
              "      background-color: #434B5C;\n",
              "      box-shadow: 0px 1px 3px 1px rgba(0, 0, 0, 0.15);\n",
              "      filter: drop-shadow(0px 1px 2px rgba(0, 0, 0, 0.3));\n",
              "      fill: #FFFFFF;\n",
              "    }\n",
              "  </style>\n",
              "\n",
              "      <script>\n",
              "        const buttonEl =\n",
              "          document.querySelector('#df-248b87e5-f806-4db3-8811-2f9979a8ff58 button.colab-df-convert');\n",
              "        buttonEl.style.display =\n",
              "          google.colab.kernel.accessAllowed ? 'block' : 'none';\n",
              "\n",
              "        async function convertToInteractive(key) {\n",
              "          const element = document.querySelector('#df-248b87e5-f806-4db3-8811-2f9979a8ff58');\n",
              "          const dataTable =\n",
              "            await google.colab.kernel.invokeFunction('convertToInteractive',\n",
              "                                                     [key], {});\n",
              "          if (!dataTable) return;\n",
              "\n",
              "          const docLinkHtml = 'Like what you see? Visit the ' +\n",
              "            '<a target=\"_blank\" href=https://colab.research.google.com/notebooks/data_table.ipynb>data table notebook</a>'\n",
              "            + ' to learn more about interactive tables.';\n",
              "          element.innerHTML = '';\n",
              "          dataTable['output_type'] = 'display_data';\n",
              "          await google.colab.output.renderOutput(dataTable, element);\n",
              "          const docLink = document.createElement('div');\n",
              "          docLink.innerHTML = docLinkHtml;\n",
              "          element.appendChild(docLink);\n",
              "        }\n",
              "      </script>\n",
              "    </div>\n",
              "  </div>\n",
              "  "
            ],
            "text/plain": [
              "             0          0\n",
              "0  category_id   5.166702\n",
              "1     video_id   5.390483\n",
              "2          age   7.236991\n",
              "3    followers  13.873816\n",
              "4        views   5.101635"
            ]
          },
          "metadata": {},
          "execution_count": 19
        }
      ]
    },
    {
      "cell_type": "code",
      "source": [
        "from sklearn.preprocessing import LabelEncoder\n",
        "LE = LabelEncoder()\n",
        "df_new_train['gender'] = LE.fit_transform(df_new_train['gender'])\n",
        "df_new_train['profession'] = LE.fit_transform(df_new_train['profession'])"
      ],
      "metadata": {
        "colab": {
          "base_uri": "https://localhost:8080/"
        },
        "id": "xycTIGMPXPMW",
        "outputId": "4075b00e-5565-4d35-84d6-a362f8da1c48"
      },
      "execution_count": 62,
      "outputs": [
        {
          "output_type": "stream",
          "name": "stderr",
          "text": [
            "/usr/local/lib/python3.7/dist-packages/ipykernel_launcher.py:3: SettingWithCopyWarning: \n",
            "A value is trying to be set on a copy of a slice from a DataFrame.\n",
            "Try using .loc[row_indexer,col_indexer] = value instead\n",
            "\n",
            "See the caveats in the documentation: https://pandas.pydata.org/pandas-docs/stable/user_guide/indexing.html#returning-a-view-versus-a-copy\n",
            "  This is separate from the ipykernel package so we can avoid doing imports until\n",
            "/usr/local/lib/python3.7/dist-packages/ipykernel_launcher.py:4: SettingWithCopyWarning: \n",
            "A value is trying to be set on a copy of a slice from a DataFrame.\n",
            "Try using .loc[row_indexer,col_indexer] = value instead\n",
            "\n",
            "See the caveats in the documentation: https://pandas.pydata.org/pandas-docs/stable/user_guide/indexing.html#returning-a-view-versus-a-copy\n",
            "  after removing the cwd from sys.path.\n"
          ]
        }
      ]
    },
    {
      "cell_type": "code",
      "source": [
        "df_new_train.head()"
      ],
      "metadata": {
        "colab": {
          "base_uri": "https://localhost:8080/",
          "height": 206
        },
        "id": "aVIq2n3ANAzZ",
        "outputId": "9e526c6d-9d52-4fc3-b192-8a33d01eddb2"
      },
      "execution_count": 64,
      "outputs": [
        {
          "output_type": "execute_result",
          "data": {
            "text/html": [
              "\n",
              "  <div id=\"df-de040be5-81c9-42ca-8cb1-b32fa54098ec\">\n",
              "    <div class=\"colab-df-container\">\n",
              "      <div>\n",
              "<style scoped>\n",
              "    .dataframe tbody tr th:only-of-type {\n",
              "        vertical-align: middle;\n",
              "    }\n",
              "\n",
              "    .dataframe tbody tr th {\n",
              "        vertical-align: top;\n",
              "    }\n",
              "\n",
              "    .dataframe thead th {\n",
              "        text-align: right;\n",
              "    }\n",
              "</style>\n",
              "<table border=\"1\" class=\"dataframe\">\n",
              "  <thead>\n",
              "    <tr style=\"text-align: right;\">\n",
              "      <th></th>\n",
              "      <th>category_id</th>\n",
              "      <th>video_id</th>\n",
              "      <th>age</th>\n",
              "      <th>gender</th>\n",
              "      <th>profession</th>\n",
              "      <th>followers</th>\n",
              "      <th>views</th>\n",
              "      <th>engagement_score</th>\n",
              "    </tr>\n",
              "  </thead>\n",
              "  <tbody>\n",
              "    <tr>\n",
              "      <th>0</th>\n",
              "      <td>37</td>\n",
              "      <td>128</td>\n",
              "      <td>24</td>\n",
              "      <td>1</td>\n",
              "      <td>1</td>\n",
              "      <td>180</td>\n",
              "      <td>1000</td>\n",
              "      <td>4.33</td>\n",
              "    </tr>\n",
              "    <tr>\n",
              "      <th>1</th>\n",
              "      <td>32</td>\n",
              "      <td>132</td>\n",
              "      <td>14</td>\n",
              "      <td>0</td>\n",
              "      <td>1</td>\n",
              "      <td>330</td>\n",
              "      <td>714</td>\n",
              "      <td>1.79</td>\n",
              "    </tr>\n",
              "    <tr>\n",
              "      <th>2</th>\n",
              "      <td>12</td>\n",
              "      <td>24</td>\n",
              "      <td>19</td>\n",
              "      <td>1</td>\n",
              "      <td>1</td>\n",
              "      <td>180</td>\n",
              "      <td>138</td>\n",
              "      <td>4.35</td>\n",
              "    </tr>\n",
              "    <tr>\n",
              "      <th>3</th>\n",
              "      <td>23</td>\n",
              "      <td>112</td>\n",
              "      <td>19</td>\n",
              "      <td>1</td>\n",
              "      <td>1</td>\n",
              "      <td>220</td>\n",
              "      <td>613</td>\n",
              "      <td>3.77</td>\n",
              "    </tr>\n",
              "    <tr>\n",
              "      <th>4</th>\n",
              "      <td>23</td>\n",
              "      <td>112</td>\n",
              "      <td>27</td>\n",
              "      <td>1</td>\n",
              "      <td>2</td>\n",
              "      <td>220</td>\n",
              "      <td>613</td>\n",
              "      <td>3.13</td>\n",
              "    </tr>\n",
              "  </tbody>\n",
              "</table>\n",
              "</div>\n",
              "      <button class=\"colab-df-convert\" onclick=\"convertToInteractive('df-de040be5-81c9-42ca-8cb1-b32fa54098ec')\"\n",
              "              title=\"Convert this dataframe to an interactive table.\"\n",
              "              style=\"display:none;\">\n",
              "        \n",
              "  <svg xmlns=\"http://www.w3.org/2000/svg\" height=\"24px\"viewBox=\"0 0 24 24\"\n",
              "       width=\"24px\">\n",
              "    <path d=\"M0 0h24v24H0V0z\" fill=\"none\"/>\n",
              "    <path d=\"M18.56 5.44l.94 2.06.94-2.06 2.06-.94-2.06-.94-.94-2.06-.94 2.06-2.06.94zm-11 1L8.5 8.5l.94-2.06 2.06-.94-2.06-.94L8.5 2.5l-.94 2.06-2.06.94zm10 10l.94 2.06.94-2.06 2.06-.94-2.06-.94-.94-2.06-.94 2.06-2.06.94z\"/><path d=\"M17.41 7.96l-1.37-1.37c-.4-.4-.92-.59-1.43-.59-.52 0-1.04.2-1.43.59L10.3 9.45l-7.72 7.72c-.78.78-.78 2.05 0 2.83L4 21.41c.39.39.9.59 1.41.59.51 0 1.02-.2 1.41-.59l7.78-7.78 2.81-2.81c.8-.78.8-2.07 0-2.86zM5.41 20L4 18.59l7.72-7.72 1.47 1.35L5.41 20z\"/>\n",
              "  </svg>\n",
              "      </button>\n",
              "      \n",
              "  <style>\n",
              "    .colab-df-container {\n",
              "      display:flex;\n",
              "      flex-wrap:wrap;\n",
              "      gap: 12px;\n",
              "    }\n",
              "\n",
              "    .colab-df-convert {\n",
              "      background-color: #E8F0FE;\n",
              "      border: none;\n",
              "      border-radius: 50%;\n",
              "      cursor: pointer;\n",
              "      display: none;\n",
              "      fill: #1967D2;\n",
              "      height: 32px;\n",
              "      padding: 0 0 0 0;\n",
              "      width: 32px;\n",
              "    }\n",
              "\n",
              "    .colab-df-convert:hover {\n",
              "      background-color: #E2EBFA;\n",
              "      box-shadow: 0px 1px 2px rgba(60, 64, 67, 0.3), 0px 1px 3px 1px rgba(60, 64, 67, 0.15);\n",
              "      fill: #174EA6;\n",
              "    }\n",
              "\n",
              "    [theme=dark] .colab-df-convert {\n",
              "      background-color: #3B4455;\n",
              "      fill: #D2E3FC;\n",
              "    }\n",
              "\n",
              "    [theme=dark] .colab-df-convert:hover {\n",
              "      background-color: #434B5C;\n",
              "      box-shadow: 0px 1px 3px 1px rgba(0, 0, 0, 0.15);\n",
              "      filter: drop-shadow(0px 1px 2px rgba(0, 0, 0, 0.3));\n",
              "      fill: #FFFFFF;\n",
              "    }\n",
              "  </style>\n",
              "\n",
              "      <script>\n",
              "        const buttonEl =\n",
              "          document.querySelector('#df-de040be5-81c9-42ca-8cb1-b32fa54098ec button.colab-df-convert');\n",
              "        buttonEl.style.display =\n",
              "          google.colab.kernel.accessAllowed ? 'block' : 'none';\n",
              "\n",
              "        async function convertToInteractive(key) {\n",
              "          const element = document.querySelector('#df-de040be5-81c9-42ca-8cb1-b32fa54098ec');\n",
              "          const dataTable =\n",
              "            await google.colab.kernel.invokeFunction('convertToInteractive',\n",
              "                                                     [key], {});\n",
              "          if (!dataTable) return;\n",
              "\n",
              "          const docLinkHtml = 'Like what you see? Visit the ' +\n",
              "            '<a target=\"_blank\" href=https://colab.research.google.com/notebooks/data_table.ipynb>data table notebook</a>'\n",
              "            + ' to learn more about interactive tables.';\n",
              "          element.innerHTML = '';\n",
              "          dataTable['output_type'] = 'display_data';\n",
              "          await google.colab.output.renderOutput(dataTable, element);\n",
              "          const docLink = document.createElement('div');\n",
              "          docLink.innerHTML = docLinkHtml;\n",
              "          element.appendChild(docLink);\n",
              "        }\n",
              "      </script>\n",
              "    </div>\n",
              "  </div>\n",
              "  "
            ],
            "text/plain": [
              "   category_id  video_id  age  ...  followers  views  engagement_score\n",
              "0           37       128   24  ...        180   1000              4.33\n",
              "1           32       132   14  ...        330    714              1.79\n",
              "2           12        24   19  ...        180    138              4.35\n",
              "3           23       112   19  ...        220    613              3.77\n",
              "4           23       112   27  ...        220    613              3.13\n",
              "\n",
              "[5 rows x 8 columns]"
            ]
          },
          "metadata": {},
          "execution_count": 64
        }
      ]
    },
    {
      "cell_type": "code",
      "source": [
        "x= df_new_train[df_new_train.columns[[0,1,2,3,4,5,6]]]"
      ],
      "metadata": {
        "id": "d1Bv_nGyM_ej"
      },
      "execution_count": 68,
      "outputs": []
    },
    {
      "cell_type": "code",
      "source": [
        "y= df_new_train['engagement_score']"
      ],
      "metadata": {
        "id": "zltqSsxDNFJi"
      },
      "execution_count": 67,
      "outputs": []
    },
    {
      "cell_type": "markdown",
      "source": [
        "**Scaling the Data**"
      ],
      "metadata": {
        "id": "cvIKOf5RFVK0"
      }
    },
    {
      "cell_type": "code",
      "source": [
        "from sklearn.preprocessing import StandardScaler\n",
        "x_scale_train = StandardScaler().fit_transform(x)"
      ],
      "metadata": {
        "id": "d9kNIGzZo0Bi"
      },
      "execution_count": 70,
      "outputs": []
    },
    {
      "cell_type": "code",
      "source": [
        "df_raw_test.head()"
      ],
      "metadata": {
        "colab": {
          "base_uri": "https://localhost:8080/",
          "height": 206
        },
        "id": "AFG47FyKPdrF",
        "outputId": "6921d695-6067-4ad5-c1ac-7725e542ee5c"
      },
      "execution_count": 71,
      "outputs": [
        {
          "output_type": "execute_result",
          "data": {
            "text/html": [
              "\n",
              "  <div id=\"df-25f37ebd-3872-4242-a8a5-b1100947caa0\">\n",
              "    <div class=\"colab-df-container\">\n",
              "      <div>\n",
              "<style scoped>\n",
              "    .dataframe tbody tr th:only-of-type {\n",
              "        vertical-align: middle;\n",
              "    }\n",
              "\n",
              "    .dataframe tbody tr th {\n",
              "        vertical-align: top;\n",
              "    }\n",
              "\n",
              "    .dataframe thead th {\n",
              "        text-align: right;\n",
              "    }\n",
              "</style>\n",
              "<table border=\"1\" class=\"dataframe\">\n",
              "  <thead>\n",
              "    <tr style=\"text-align: right;\">\n",
              "      <th></th>\n",
              "      <th>row_id</th>\n",
              "      <th>user_id</th>\n",
              "      <th>category_id</th>\n",
              "      <th>video_id</th>\n",
              "      <th>age</th>\n",
              "      <th>gender</th>\n",
              "      <th>profession</th>\n",
              "      <th>followers</th>\n",
              "      <th>views</th>\n",
              "    </tr>\n",
              "  </thead>\n",
              "  <tbody>\n",
              "    <tr>\n",
              "      <th>0</th>\n",
              "      <td>89198</td>\n",
              "      <td>7986</td>\n",
              "      <td>12</td>\n",
              "      <td>42</td>\n",
              "      <td>14</td>\n",
              "      <td>Male</td>\n",
              "      <td>Student</td>\n",
              "      <td>180</td>\n",
              "      <td>138</td>\n",
              "    </tr>\n",
              "    <tr>\n",
              "      <th>1</th>\n",
              "      <td>89199</td>\n",
              "      <td>11278</td>\n",
              "      <td>34</td>\n",
              "      <td>115</td>\n",
              "      <td>14</td>\n",
              "      <td>Male</td>\n",
              "      <td>Student</td>\n",
              "      <td>230</td>\n",
              "      <td>840</td>\n",
              "    </tr>\n",
              "    <tr>\n",
              "      <th>2</th>\n",
              "      <td>89200</td>\n",
              "      <td>17245</td>\n",
              "      <td>8</td>\n",
              "      <td>110</td>\n",
              "      <td>44</td>\n",
              "      <td>Female</td>\n",
              "      <td>Working Professional</td>\n",
              "      <td>280</td>\n",
              "      <td>628</td>\n",
              "    </tr>\n",
              "    <tr>\n",
              "      <th>3</th>\n",
              "      <td>89201</td>\n",
              "      <td>9851</td>\n",
              "      <td>16</td>\n",
              "      <td>137</td>\n",
              "      <td>18</td>\n",
              "      <td>Male</td>\n",
              "      <td>Student</td>\n",
              "      <td>270</td>\n",
              "      <td>462</td>\n",
              "    </tr>\n",
              "    <tr>\n",
              "      <th>4</th>\n",
              "      <td>89202</td>\n",
              "      <td>16008</td>\n",
              "      <td>34</td>\n",
              "      <td>96</td>\n",
              "      <td>47</td>\n",
              "      <td>Female</td>\n",
              "      <td>Other</td>\n",
              "      <td>230</td>\n",
              "      <td>840</td>\n",
              "    </tr>\n",
              "  </tbody>\n",
              "</table>\n",
              "</div>\n",
              "      <button class=\"colab-df-convert\" onclick=\"convertToInteractive('df-25f37ebd-3872-4242-a8a5-b1100947caa0')\"\n",
              "              title=\"Convert this dataframe to an interactive table.\"\n",
              "              style=\"display:none;\">\n",
              "        \n",
              "  <svg xmlns=\"http://www.w3.org/2000/svg\" height=\"24px\"viewBox=\"0 0 24 24\"\n",
              "       width=\"24px\">\n",
              "    <path d=\"M0 0h24v24H0V0z\" fill=\"none\"/>\n",
              "    <path d=\"M18.56 5.44l.94 2.06.94-2.06 2.06-.94-2.06-.94-.94-2.06-.94 2.06-2.06.94zm-11 1L8.5 8.5l.94-2.06 2.06-.94-2.06-.94L8.5 2.5l-.94 2.06-2.06.94zm10 10l.94 2.06.94-2.06 2.06-.94-2.06-.94-.94-2.06-.94 2.06-2.06.94z\"/><path d=\"M17.41 7.96l-1.37-1.37c-.4-.4-.92-.59-1.43-.59-.52 0-1.04.2-1.43.59L10.3 9.45l-7.72 7.72c-.78.78-.78 2.05 0 2.83L4 21.41c.39.39.9.59 1.41.59.51 0 1.02-.2 1.41-.59l7.78-7.78 2.81-2.81c.8-.78.8-2.07 0-2.86zM5.41 20L4 18.59l7.72-7.72 1.47 1.35L5.41 20z\"/>\n",
              "  </svg>\n",
              "      </button>\n",
              "      \n",
              "  <style>\n",
              "    .colab-df-container {\n",
              "      display:flex;\n",
              "      flex-wrap:wrap;\n",
              "      gap: 12px;\n",
              "    }\n",
              "\n",
              "    .colab-df-convert {\n",
              "      background-color: #E8F0FE;\n",
              "      border: none;\n",
              "      border-radius: 50%;\n",
              "      cursor: pointer;\n",
              "      display: none;\n",
              "      fill: #1967D2;\n",
              "      height: 32px;\n",
              "      padding: 0 0 0 0;\n",
              "      width: 32px;\n",
              "    }\n",
              "\n",
              "    .colab-df-convert:hover {\n",
              "      background-color: #E2EBFA;\n",
              "      box-shadow: 0px 1px 2px rgba(60, 64, 67, 0.3), 0px 1px 3px 1px rgba(60, 64, 67, 0.15);\n",
              "      fill: #174EA6;\n",
              "    }\n",
              "\n",
              "    [theme=dark] .colab-df-convert {\n",
              "      background-color: #3B4455;\n",
              "      fill: #D2E3FC;\n",
              "    }\n",
              "\n",
              "    [theme=dark] .colab-df-convert:hover {\n",
              "      background-color: #434B5C;\n",
              "      box-shadow: 0px 1px 3px 1px rgba(0, 0, 0, 0.15);\n",
              "      filter: drop-shadow(0px 1px 2px rgba(0, 0, 0, 0.3));\n",
              "      fill: #FFFFFF;\n",
              "    }\n",
              "  </style>\n",
              "\n",
              "      <script>\n",
              "        const buttonEl =\n",
              "          document.querySelector('#df-25f37ebd-3872-4242-a8a5-b1100947caa0 button.colab-df-convert');\n",
              "        buttonEl.style.display =\n",
              "          google.colab.kernel.accessAllowed ? 'block' : 'none';\n",
              "\n",
              "        async function convertToInteractive(key) {\n",
              "          const element = document.querySelector('#df-25f37ebd-3872-4242-a8a5-b1100947caa0');\n",
              "          const dataTable =\n",
              "            await google.colab.kernel.invokeFunction('convertToInteractive',\n",
              "                                                     [key], {});\n",
              "          if (!dataTable) return;\n",
              "\n",
              "          const docLinkHtml = 'Like what you see? Visit the ' +\n",
              "            '<a target=\"_blank\" href=https://colab.research.google.com/notebooks/data_table.ipynb>data table notebook</a>'\n",
              "            + ' to learn more about interactive tables.';\n",
              "          element.innerHTML = '';\n",
              "          dataTable['output_type'] = 'display_data';\n",
              "          await google.colab.output.renderOutput(dataTable, element);\n",
              "          const docLink = document.createElement('div');\n",
              "          docLink.innerHTML = docLinkHtml;\n",
              "          element.appendChild(docLink);\n",
              "        }\n",
              "      </script>\n",
              "    </div>\n",
              "  </div>\n",
              "  "
            ],
            "text/plain": [
              "   row_id  user_id  category_id  ...            profession  followers views\n",
              "0   89198     7986           12  ...               Student        180   138\n",
              "1   89199    11278           34  ...               Student        230   840\n",
              "2   89200    17245            8  ...  Working Professional        280   628\n",
              "3   89201     9851           16  ...               Student        270   462\n",
              "4   89202    16008           34  ...                 Other        230   840\n",
              "\n",
              "[5 rows x 9 columns]"
            ]
          },
          "metadata": {},
          "execution_count": 71
        }
      ]
    },
    {
      "cell_type": "code",
      "source": [
        "x_test_dat= df_raw_test[df_raw_test.columns[[2,3,4,5,6,7,8]]]"
      ],
      "metadata": {
        "id": "FDQ53CJGP2_W"
      },
      "execution_count": 74,
      "outputs": []
    },
    {
      "cell_type": "code",
      "source": [
        "x_test_dat.head()"
      ],
      "metadata": {
        "colab": {
          "base_uri": "https://localhost:8080/",
          "height": 206
        },
        "id": "RtVT8ixBQ1Gf",
        "outputId": "c8d5a349-4fbe-476e-ba05-67ed8c8b2cfb"
      },
      "execution_count": 75,
      "outputs": [
        {
          "output_type": "execute_result",
          "data": {
            "text/html": [
              "\n",
              "  <div id=\"df-85b31921-e946-459c-a1b7-446697fa09a7\">\n",
              "    <div class=\"colab-df-container\">\n",
              "      <div>\n",
              "<style scoped>\n",
              "    .dataframe tbody tr th:only-of-type {\n",
              "        vertical-align: middle;\n",
              "    }\n",
              "\n",
              "    .dataframe tbody tr th {\n",
              "        vertical-align: top;\n",
              "    }\n",
              "\n",
              "    .dataframe thead th {\n",
              "        text-align: right;\n",
              "    }\n",
              "</style>\n",
              "<table border=\"1\" class=\"dataframe\">\n",
              "  <thead>\n",
              "    <tr style=\"text-align: right;\">\n",
              "      <th></th>\n",
              "      <th>category_id</th>\n",
              "      <th>video_id</th>\n",
              "      <th>age</th>\n",
              "      <th>gender</th>\n",
              "      <th>profession</th>\n",
              "      <th>followers</th>\n",
              "      <th>views</th>\n",
              "    </tr>\n",
              "  </thead>\n",
              "  <tbody>\n",
              "    <tr>\n",
              "      <th>0</th>\n",
              "      <td>12</td>\n",
              "      <td>42</td>\n",
              "      <td>14</td>\n",
              "      <td>Male</td>\n",
              "      <td>Student</td>\n",
              "      <td>180</td>\n",
              "      <td>138</td>\n",
              "    </tr>\n",
              "    <tr>\n",
              "      <th>1</th>\n",
              "      <td>34</td>\n",
              "      <td>115</td>\n",
              "      <td>14</td>\n",
              "      <td>Male</td>\n",
              "      <td>Student</td>\n",
              "      <td>230</td>\n",
              "      <td>840</td>\n",
              "    </tr>\n",
              "    <tr>\n",
              "      <th>2</th>\n",
              "      <td>8</td>\n",
              "      <td>110</td>\n",
              "      <td>44</td>\n",
              "      <td>Female</td>\n",
              "      <td>Working Professional</td>\n",
              "      <td>280</td>\n",
              "      <td>628</td>\n",
              "    </tr>\n",
              "    <tr>\n",
              "      <th>3</th>\n",
              "      <td>16</td>\n",
              "      <td>137</td>\n",
              "      <td>18</td>\n",
              "      <td>Male</td>\n",
              "      <td>Student</td>\n",
              "      <td>270</td>\n",
              "      <td>462</td>\n",
              "    </tr>\n",
              "    <tr>\n",
              "      <th>4</th>\n",
              "      <td>34</td>\n",
              "      <td>96</td>\n",
              "      <td>47</td>\n",
              "      <td>Female</td>\n",
              "      <td>Other</td>\n",
              "      <td>230</td>\n",
              "      <td>840</td>\n",
              "    </tr>\n",
              "  </tbody>\n",
              "</table>\n",
              "</div>\n",
              "      <button class=\"colab-df-convert\" onclick=\"convertToInteractive('df-85b31921-e946-459c-a1b7-446697fa09a7')\"\n",
              "              title=\"Convert this dataframe to an interactive table.\"\n",
              "              style=\"display:none;\">\n",
              "        \n",
              "  <svg xmlns=\"http://www.w3.org/2000/svg\" height=\"24px\"viewBox=\"0 0 24 24\"\n",
              "       width=\"24px\">\n",
              "    <path d=\"M0 0h24v24H0V0z\" fill=\"none\"/>\n",
              "    <path d=\"M18.56 5.44l.94 2.06.94-2.06 2.06-.94-2.06-.94-.94-2.06-.94 2.06-2.06.94zm-11 1L8.5 8.5l.94-2.06 2.06-.94-2.06-.94L8.5 2.5l-.94 2.06-2.06.94zm10 10l.94 2.06.94-2.06 2.06-.94-2.06-.94-.94-2.06-.94 2.06-2.06.94z\"/><path d=\"M17.41 7.96l-1.37-1.37c-.4-.4-.92-.59-1.43-.59-.52 0-1.04.2-1.43.59L10.3 9.45l-7.72 7.72c-.78.78-.78 2.05 0 2.83L4 21.41c.39.39.9.59 1.41.59.51 0 1.02-.2 1.41-.59l7.78-7.78 2.81-2.81c.8-.78.8-2.07 0-2.86zM5.41 20L4 18.59l7.72-7.72 1.47 1.35L5.41 20z\"/>\n",
              "  </svg>\n",
              "      </button>\n",
              "      \n",
              "  <style>\n",
              "    .colab-df-container {\n",
              "      display:flex;\n",
              "      flex-wrap:wrap;\n",
              "      gap: 12px;\n",
              "    }\n",
              "\n",
              "    .colab-df-convert {\n",
              "      background-color: #E8F0FE;\n",
              "      border: none;\n",
              "      border-radius: 50%;\n",
              "      cursor: pointer;\n",
              "      display: none;\n",
              "      fill: #1967D2;\n",
              "      height: 32px;\n",
              "      padding: 0 0 0 0;\n",
              "      width: 32px;\n",
              "    }\n",
              "\n",
              "    .colab-df-convert:hover {\n",
              "      background-color: #E2EBFA;\n",
              "      box-shadow: 0px 1px 2px rgba(60, 64, 67, 0.3), 0px 1px 3px 1px rgba(60, 64, 67, 0.15);\n",
              "      fill: #174EA6;\n",
              "    }\n",
              "\n",
              "    [theme=dark] .colab-df-convert {\n",
              "      background-color: #3B4455;\n",
              "      fill: #D2E3FC;\n",
              "    }\n",
              "\n",
              "    [theme=dark] .colab-df-convert:hover {\n",
              "      background-color: #434B5C;\n",
              "      box-shadow: 0px 1px 3px 1px rgba(0, 0, 0, 0.15);\n",
              "      filter: drop-shadow(0px 1px 2px rgba(0, 0, 0, 0.3));\n",
              "      fill: #FFFFFF;\n",
              "    }\n",
              "  </style>\n",
              "\n",
              "      <script>\n",
              "        const buttonEl =\n",
              "          document.querySelector('#df-85b31921-e946-459c-a1b7-446697fa09a7 button.colab-df-convert');\n",
              "        buttonEl.style.display =\n",
              "          google.colab.kernel.accessAllowed ? 'block' : 'none';\n",
              "\n",
              "        async function convertToInteractive(key) {\n",
              "          const element = document.querySelector('#df-85b31921-e946-459c-a1b7-446697fa09a7');\n",
              "          const dataTable =\n",
              "            await google.colab.kernel.invokeFunction('convertToInteractive',\n",
              "                                                     [key], {});\n",
              "          if (!dataTable) return;\n",
              "\n",
              "          const docLinkHtml = 'Like what you see? Visit the ' +\n",
              "            '<a target=\"_blank\" href=https://colab.research.google.com/notebooks/data_table.ipynb>data table notebook</a>'\n",
              "            + ' to learn more about interactive tables.';\n",
              "          element.innerHTML = '';\n",
              "          dataTable['output_type'] = 'display_data';\n",
              "          await google.colab.output.renderOutput(dataTable, element);\n",
              "          const docLink = document.createElement('div');\n",
              "          docLink.innerHTML = docLinkHtml;\n",
              "          element.appendChild(docLink);\n",
              "        }\n",
              "      </script>\n",
              "    </div>\n",
              "  </div>\n",
              "  "
            ],
            "text/plain": [
              "   category_id  video_id  age  gender            profession  followers  views\n",
              "0           12        42   14    Male               Student        180    138\n",
              "1           34       115   14    Male               Student        230    840\n",
              "2            8       110   44  Female  Working Professional        280    628\n",
              "3           16       137   18    Male               Student        270    462\n",
              "4           34        96   47  Female                 Other        230    840"
            ]
          },
          "metadata": {},
          "execution_count": 75
        }
      ]
    },
    {
      "cell_type": "code",
      "source": [
        "from sklearn.preprocessing import StandardScaler\n",
        "x_scale_train = StandardScaler().fit_transform(x)"
      ],
      "metadata": {
        "id": "riu_o4vuILyn"
      },
      "execution_count": null,
      "outputs": []
    },
    {
      "cell_type": "code",
      "source": [
        "from sklearn.preprocessing import LabelEncoder\n",
        "LE = LabelEncoder()\n",
        "x_test_dat['gender'] = LE.fit_transform(x_test_dat['gender'])\n",
        "x_test_dat['profession'] = LE.fit_transform(x_test_dat['profession'])"
      ],
      "metadata": {
        "colab": {
          "base_uri": "https://localhost:8080/"
        },
        "id": "bkzBnLyoRYLi",
        "outputId": "1c455ada-f5fd-4d8e-b1c8-a086fac1b238"
      },
      "execution_count": 77,
      "outputs": [
        {
          "output_type": "stream",
          "name": "stderr",
          "text": [
            "/usr/local/lib/python3.7/dist-packages/ipykernel_launcher.py:3: SettingWithCopyWarning: \n",
            "A value is trying to be set on a copy of a slice from a DataFrame.\n",
            "Try using .loc[row_indexer,col_indexer] = value instead\n",
            "\n",
            "See the caveats in the documentation: https://pandas.pydata.org/pandas-docs/stable/user_guide/indexing.html#returning-a-view-versus-a-copy\n",
            "  This is separate from the ipykernel package so we can avoid doing imports until\n",
            "/usr/local/lib/python3.7/dist-packages/ipykernel_launcher.py:4: SettingWithCopyWarning: \n",
            "A value is trying to be set on a copy of a slice from a DataFrame.\n",
            "Try using .loc[row_indexer,col_indexer] = value instead\n",
            "\n",
            "See the caveats in the documentation: https://pandas.pydata.org/pandas-docs/stable/user_guide/indexing.html#returning-a-view-versus-a-copy\n",
            "  after removing the cwd from sys.path.\n"
          ]
        }
      ]
    },
    {
      "cell_type": "code",
      "source": [
        "from sklearn.preprocessing import StandardScaler\n",
        "x_scale_test = StandardScaler().fit_transform(x_test_dat)"
      ],
      "metadata": {
        "id": "CIJz_qusRH_B"
      },
      "execution_count": 78,
      "outputs": []
    },
    {
      "cell_type": "markdown",
      "source": [
        "**Train and test split of Training Data**"
      ],
      "metadata": {
        "id": "YGqonepAFZY8"
      }
    },
    {
      "cell_type": "code",
      "source": [
        "from sklearn.model_selection import train_test_split\n",
        "x_train,x_test,y_train,y_test = train_test_split(x_scale_train,y, test_size=0.25, random_state=20)"
      ],
      "metadata": {
        "id": "27qEODdInWAp"
      },
      "execution_count": 23,
      "outputs": []
    },
    {
      "cell_type": "code",
      "source": [
        "print(x_train.shape)\n",
        "print(y_train.shape)\n",
        "print(x_test.shape)\n",
        "print(y_test.shape)"
      ],
      "metadata": {
        "colab": {
          "base_uri": "https://localhost:8080/"
        },
        "id": "AFy-VDi4n6fG",
        "outputId": "f03a9754-b790-49b2-f4f8-41e1e8b3400e"
      },
      "execution_count": null,
      "outputs": [
        {
          "output_type": "stream",
          "name": "stdout",
          "text": [
            "(65382, 7)\n",
            "(65382,)\n",
            "(21794, 7)\n",
            "(21794,)\n"
          ]
        }
      ]
    },
    {
      "cell_type": "markdown",
      "source": [
        "**Linear Regression**"
      ],
      "metadata": {
        "id": "FTVx3ou_Fhxy"
      }
    },
    {
      "cell_type": "code",
      "source": [
        "from sklearn.linear_model import LinearRegression\n",
        "LR = LinearRegression()\n",
        "LR.fit(x_train,y_train)\n",
        "y_pred_lr = LR.predict(x_test)"
      ],
      "metadata": {
        "id": "kYBZF2VRoLag"
      },
      "execution_count": 27,
      "outputs": []
    },
    {
      "cell_type": "code",
      "source": [
        "from sklearn.metrics import mean_squared_error,r2_score\n",
        "mse_lr = mean_squared_error(y_test, y_pred_lr)\n",
        "r2_score_lr = r2_score(y_test, y_pred_lr)*100\n",
        "print(mse_lr)\n",
        "print(r2_score_lr)"
      ],
      "metadata": {
        "colab": {
          "base_uri": "https://localhost:8080/"
        },
        "id": "R9nV8SkYsbEZ",
        "outputId": "ff9f5e8f-59ca-4f1b-c3d8-2755e5b09f7a"
      },
      "execution_count": 28,
      "outputs": [
        {
          "output_type": "stream",
          "name": "stdout",
          "text": [
            "0.5755592139645712\n",
            "22.82406315134857\n"
          ]
        }
      ]
    },
    {
      "cell_type": "markdown",
      "source": [
        "**Decision Tree**"
      ],
      "metadata": {
        "id": "Jz58s6sBFoo3"
      }
    },
    {
      "cell_type": "code",
      "source": [
        "from sklearn.tree import DecisionTreeRegressor\n",
        "DT = DecisionTreeRegressor(criterion = \"mse\", max_depth=9)"
      ],
      "metadata": {
        "id": "f9wAtIZktTpD"
      },
      "execution_count": 29,
      "outputs": []
    },
    {
      "cell_type": "code",
      "source": [
        "DT.fit(x_train,y_train)\n",
        "y_pred_dt = DT.predict(x_test)"
      ],
      "metadata": {
        "colab": {
          "base_uri": "https://localhost:8080/"
        },
        "id": "it5oxu9stZEY",
        "outputId": "4751a06b-0ce0-44ef-bf6b-07d2457a6ebb"
      },
      "execution_count": 30,
      "outputs": [
        {
          "output_type": "stream",
          "name": "stderr",
          "text": [
            "/usr/local/lib/python3.7/dist-packages/sklearn/tree/_classes.py:363: FutureWarning: Criterion 'mse' was deprecated in v1.0 and will be removed in version 1.2. Use `criterion='squared_error'` which is equivalent.\n",
            "  FutureWarning,\n"
          ]
        }
      ]
    },
    {
      "cell_type": "code",
      "source": [
        "mse_dt = mean_squared_error(y_test, y_pred_dt)\n",
        "r2_score_dt = r2_score(y_test, y_pred_dt)*100\n",
        "print(mse_dt)\n",
        "print(r2_score_dt)"
      ],
      "metadata": {
        "colab": {
          "base_uri": "https://localhost:8080/"
        },
        "id": "smCB_itWteBz",
        "outputId": "873c4ac1-997c-4742-c42e-f5680acb2bee"
      },
      "execution_count": 31,
      "outputs": [
        {
          "output_type": "stream",
          "name": "stdout",
          "text": [
            "0.5188600259043119\n",
            "30.426778651230634\n"
          ]
        }
      ]
    },
    {
      "cell_type": "code",
      "source": [
        "dt_mse_score = []\n",
        "dt_r2_score = []\n",
        "md = range(1,10)\n",
        "for i in md:\n",
        "    dt = DecisionTreeRegressor(criterion = \"mse\", max_depth=i)\n",
        "    dt.fit(x_train,y_train)\n",
        "    dt_pred = dt.predict(x_test)\n",
        "    dt_r2_score.append(r2_score(y_test, y_pred_dt)*100)\n",
        "    dt_mse_score.append(mean_squared_error(y_test,dt_pred))\n",
        "print(dt_mse_score)\n",
        "print(dt_r2_score)\n"
      ],
      "metadata": {
        "colab": {
          "base_uri": "https://localhost:8080/"
        },
        "id": "1CCtcIo9tnOg",
        "outputId": "5c8abcd2-a39b-4dec-f367-20310c7ed4d4"
      },
      "execution_count": null,
      "outputs": [
        {
          "output_type": "stream",
          "name": "stderr",
          "text": [
            "/usr/local/lib/python3.7/dist-packages/sklearn/tree/_classes.py:363: FutureWarning: Criterion 'mse' was deprecated in v1.0 and will be removed in version 1.2. Use `criterion='squared_error'` which is equivalent.\n",
            "  FutureWarning,\n",
            "/usr/local/lib/python3.7/dist-packages/sklearn/tree/_classes.py:363: FutureWarning: Criterion 'mse' was deprecated in v1.0 and will be removed in version 1.2. Use `criterion='squared_error'` which is equivalent.\n",
            "  FutureWarning,\n",
            "/usr/local/lib/python3.7/dist-packages/sklearn/tree/_classes.py:363: FutureWarning: Criterion 'mse' was deprecated in v1.0 and will be removed in version 1.2. Use `criterion='squared_error'` which is equivalent.\n",
            "  FutureWarning,\n",
            "/usr/local/lib/python3.7/dist-packages/sklearn/tree/_classes.py:363: FutureWarning: Criterion 'mse' was deprecated in v1.0 and will be removed in version 1.2. Use `criterion='squared_error'` which is equivalent.\n",
            "  FutureWarning,\n",
            "/usr/local/lib/python3.7/dist-packages/sklearn/tree/_classes.py:363: FutureWarning: Criterion 'mse' was deprecated in v1.0 and will be removed in version 1.2. Use `criterion='squared_error'` which is equivalent.\n",
            "  FutureWarning,\n",
            "/usr/local/lib/python3.7/dist-packages/sklearn/tree/_classes.py:363: FutureWarning: Criterion 'mse' was deprecated in v1.0 and will be removed in version 1.2. Use `criterion='squared_error'` which is equivalent.\n",
            "  FutureWarning,\n",
            "/usr/local/lib/python3.7/dist-packages/sklearn/tree/_classes.py:363: FutureWarning: Criterion 'mse' was deprecated in v1.0 and will be removed in version 1.2. Use `criterion='squared_error'` which is equivalent.\n",
            "  FutureWarning,\n",
            "/usr/local/lib/python3.7/dist-packages/sklearn/tree/_classes.py:363: FutureWarning: Criterion 'mse' was deprecated in v1.0 and will be removed in version 1.2. Use `criterion='squared_error'` which is equivalent.\n",
            "  FutureWarning,\n",
            "/usr/local/lib/python3.7/dist-packages/sklearn/tree/_classes.py:363: FutureWarning: Criterion 'mse' was deprecated in v1.0 and will be removed in version 1.2. Use `criterion='squared_error'` which is equivalent.\n",
            "  FutureWarning,\n"
          ]
        },
        {
          "output_type": "stream",
          "name": "stdout",
          "text": [
            "[0.6226069262980123, 0.5858880660952874, 0.5595018728410336, 0.5462542406948617, 0.5342413881054077, 0.5247331139275238, 0.5188812803514556, 0.5124050645901812, 0.5098357575220442]\n",
            "[31.648415530622742, 31.648415530622742, 31.648415530622742, 31.648415530622742, 31.648415530622742, 31.648415530622742, 31.648415530622742, 31.648415530622742, 31.648415530622742]\n"
          ]
        }
      ]
    },
    {
      "cell_type": "code",
      "source": [
        "import matplotlib.pyplot as plt\n",
        "plt.plot(md, dt_mse_score)\n",
        "plt.legend()\n",
        "plt.show()"
      ],
      "metadata": {
        "colab": {
          "base_uri": "https://localhost:8080/",
          "height": 283
        },
        "id": "uH78403itxgz",
        "outputId": "2409548b-686d-428c-8abc-b8165cdbc846"
      },
      "execution_count": null,
      "outputs": [
        {
          "output_type": "stream",
          "name": "stderr",
          "text": [
            "No handles with labels found to put in legend.\n"
          ]
        },
        {
          "output_type": "display_data",
          "data": {
            "image/png": "[encoded data removed]",
            "text/plain": [
              "<Figure size 432x288 with 1 Axes>"
            ]
          },
          "metadata": {
            "needs_background": "light"
          }
        }
      ]
    },
    {
      "cell_type": "code",
      "source": [
        "import matplotlib.pyplot as plt\n",
        "plt.plot(md, dt_r2_score)\n",
        "plt.legend()\n",
        "plt.show()"
      ],
      "metadata": {
        "colab": {
          "base_uri": "https://localhost:8080/",
          "height": 283
        },
        "id": "kQDNRLS5txdV",
        "outputId": "a68c86f6-c701-4f5a-fa10-0b5e772b4762"
      },
      "execution_count": null,
      "outputs": [
        {
          "output_type": "stream",
          "name": "stderr",
          "text": [
            "No handles with labels found to put in legend.\n"
          ]
        },
        {
          "output_type": "display_data",
          "data": {
            "image/png": "[encoded data removed]",
            "text/plain": [
              "<Figure size 432x288 with 1 Axes>"
            ]
          },
          "metadata": {
            "needs_background": "light"
          }
        }
      ]
    },
    {
      "cell_type": "markdown",
      "source": [
        "**Bagging**"
      ],
      "metadata": {
        "id": "UZINNgNrFxGU"
      }
    },
    {
      "cell_type": "code",
      "source": [
        "from sklearn.ensemble import BaggingRegressor\n",
        "Bag= BaggingRegressor(base_estimator=DT, max_samples=0.9,\n",
        "                  n_estimators=500)"
      ],
      "metadata": {
        "id": "JldkKodyzFpW"
      },
      "execution_count": 33,
      "outputs": []
    },
    {
      "cell_type": "code",
      "source": [
        "Bag.fit(x_train,y_train)"
      ],
      "metadata": {
        "colab": {
          "base_uri": "https://localhost:8080/"
        },
        "id": "bjq8Ty_AzrYU",
        "outputId": "fb964b20-96c4-40fd-bb15-52141b3da0eb"
      },
      "execution_count": 34,
      "outputs": [
        {
          "output_type": "execute_result",
          "data": {
            "text/plain": [
              "BaggingRegressor(base_estimator=DecisionTreeRegressor(criterion='mse',\n",
              "                                                      max_depth=9),\n",
              "                 max_samples=0.9, n_estimators=500)"
            ]
          },
          "metadata": {},
          "execution_count": 34
        }
      ]
    },
    {
      "cell_type": "code",
      "source": [
        "y_pred_bag= Bag.predict(x_test)"
      ],
      "metadata": {
        "id": "CeUlKcbRzv4o"
      },
      "execution_count": 35,
      "outputs": []
    },
    {
      "cell_type": "code",
      "source": [
        "bag_mse = mean_squared_error(y_test,y_pred_bag)\n",
        "bag_r2_score = r2_score(y_test,y_pred_bag)*100\n",
        "print(bag_mse)\n",
        "print(bag_r2_score)"
      ],
      "metadata": {
        "colab": {
          "base_uri": "https://localhost:8080/"
        },
        "id": "WLji5Pirz3VR",
        "outputId": "b2ba2f55-c683-4a93-b429-41cb7955ecb2"
      },
      "execution_count": 36,
      "outputs": [
        {
          "output_type": "stream",
          "name": "stdout",
          "text": [
            "0.4996428048188105\n",
            "33.00358917726719\n"
          ]
        }
      ]
    },
    {
      "cell_type": "code",
      "source": [
        "import numpy as np\n",
        "mse_bag=[]\n",
        "r2_bag = []\n",
        "settings = np.arange(0.1,1,0.1)"
      ],
      "metadata": {
        "id": "xUXHpl-F0H8b"
      },
      "execution_count": 37,
      "outputs": []
    },
    {
      "cell_type": "code",
      "source": [
        "for i in settings:\n",
        "    bag =BaggingRegressor(base_estimator=DT, max_samples=i, n_estimators=10)\n",
        "    bag.fit(x_train,y_train)\n",
        "    y_pred_bg = bag.predict(x_test)\n",
        "    mse_bag.append(mean_squared_error(y_test,y_pred_bag))\n",
        "    r2_bag.append(r2_score(y_test,y_pred_bag)*100)\n",
        "print(mse_bag)\n",
        "print(r2_bag)"
      ],
      "metadata": {
        "colab": {
          "base_uri": "https://localhost:8080/"
        },
        "id": "8c3OXKny0QEm",
        "outputId": "8cbaf3fc-008e-475f-f58d-2d2afd6ec0ac"
      },
      "execution_count": 38,
      "outputs": [
        {
          "output_type": "stream",
          "name": "stdout",
          "text": [
            "[0.4996428048188105, 0.4996428048188105, 0.4996428048188105, 0.4996428048188105, 0.4996428048188105, 0.4996428048188105, 0.4996428048188105, 0.4996428048188105, 0.4996428048188105]\n",
            "[33.00358917726719, 33.00358917726719, 33.00358917726719, 33.00358917726719, 33.00358917726719, 33.00358917726719, 33.00358917726719, 33.00358917726719, 33.00358917726719]\n"
          ]
        }
      ]
    },
    {
      "cell_type": "markdown",
      "source": [
        "**Random Forest**"
      ],
      "metadata": {
        "id": "k3E4oAgLF3Up"
      }
    },
    {
      "cell_type": "code",
      "source": [
        "from sklearn.ensemble import RandomForestRegressor\n",
        "RF = RandomForestRegressor(max_features=0.9, n_estimators=1000)\n",
        "RF.fit(x_train,y_train)\n",
        "y_RF_pred = RF.predict(x_test)"
      ],
      "metadata": {
        "id": "cd8q7A3Q0zI1"
      },
      "execution_count": 47,
      "outputs": []
    },
    {
      "cell_type": "code",
      "source": [
        "rf_mse = mean_squared_error(y_test,y_RF_pred)\n",
        "rf_r2_score = r2_score(y_test,y_RF_pred)*100\n",
        "print(rf_mse)\n",
        "print(rf_r2_score)"
      ],
      "metadata": {
        "colab": {
          "base_uri": "https://localhost:8080/"
        },
        "id": "KtsE1IcD040H",
        "outputId": "7faa490b-a265-483b-e8f7-271aedc19bf5"
      },
      "execution_count": 48,
      "outputs": [
        {
          "output_type": "stream",
          "name": "stdout",
          "text": [
            "0.49583070793894657\n",
            "33.514747961495125\n"
          ]
        }
      ]
    },
    {
      "cell_type": "code",
      "source": [
        "df_raw_test.head()"
      ],
      "metadata": {
        "colab": {
          "base_uri": "https://localhost:8080/",
          "height": 206
        },
        "id": "gkVaF-LwIfEb",
        "outputId": "f6a4a74e-aa98-4833-89b0-7ca3faeb71ca"
      },
      "execution_count": 46,
      "outputs": [
        {
          "output_type": "execute_result",
          "data": {
            "text/html": [
              "\n",
              "  <div id=\"df-1f63beb2-8417-47f9-bc8f-3d16282c9d39\">\n",
              "    <div class=\"colab-df-container\">\n",
              "      <div>\n",
              "<style scoped>\n",
              "    .dataframe tbody tr th:only-of-type {\n",
              "        vertical-align: middle;\n",
              "    }\n",
              "\n",
              "    .dataframe tbody tr th {\n",
              "        vertical-align: top;\n",
              "    }\n",
              "\n",
              "    .dataframe thead th {\n",
              "        text-align: right;\n",
              "    }\n",
              "</style>\n",
              "<table border=\"1\" class=\"dataframe\">\n",
              "  <thead>\n",
              "    <tr style=\"text-align: right;\">\n",
              "      <th></th>\n",
              "      <th>row_id</th>\n",
              "      <th>user_id</th>\n",
              "      <th>category_id</th>\n",
              "      <th>video_id</th>\n",
              "      <th>age</th>\n",
              "      <th>gender</th>\n",
              "      <th>profession</th>\n",
              "      <th>followers</th>\n",
              "      <th>views</th>\n",
              "    </tr>\n",
              "  </thead>\n",
              "  <tbody>\n",
              "    <tr>\n",
              "      <th>0</th>\n",
              "      <td>89198</td>\n",
              "      <td>7986</td>\n",
              "      <td>12</td>\n",
              "      <td>42</td>\n",
              "      <td>14</td>\n",
              "      <td>1</td>\n",
              "      <td>1</td>\n",
              "      <td>180</td>\n",
              "      <td>138</td>\n",
              "    </tr>\n",
              "    <tr>\n",
              "      <th>1</th>\n",
              "      <td>89199</td>\n",
              "      <td>11278</td>\n",
              "      <td>34</td>\n",
              "      <td>115</td>\n",
              "      <td>14</td>\n",
              "      <td>1</td>\n",
              "      <td>1</td>\n",
              "      <td>230</td>\n",
              "      <td>840</td>\n",
              "    </tr>\n",
              "    <tr>\n",
              "      <th>2</th>\n",
              "      <td>89200</td>\n",
              "      <td>17245</td>\n",
              "      <td>8</td>\n",
              "      <td>110</td>\n",
              "      <td>44</td>\n",
              "      <td>0</td>\n",
              "      <td>2</td>\n",
              "      <td>280</td>\n",
              "      <td>628</td>\n",
              "    </tr>\n",
              "    <tr>\n",
              "      <th>3</th>\n",
              "      <td>89201</td>\n",
              "      <td>9851</td>\n",
              "      <td>16</td>\n",
              "      <td>137</td>\n",
              "      <td>18</td>\n",
              "      <td>1</td>\n",
              "      <td>1</td>\n",
              "      <td>270</td>\n",
              "      <td>462</td>\n",
              "    </tr>\n",
              "    <tr>\n",
              "      <th>4</th>\n",
              "      <td>89202</td>\n",
              "      <td>16008</td>\n",
              "      <td>34</td>\n",
              "      <td>96</td>\n",
              "      <td>47</td>\n",
              "      <td>0</td>\n",
              "      <td>0</td>\n",
              "      <td>230</td>\n",
              "      <td>840</td>\n",
              "    </tr>\n",
              "  </tbody>\n",
              "</table>\n",
              "</div>\n",
              "      <button class=\"colab-df-convert\" onclick=\"convertToInteractive('df-1f63beb2-8417-47f9-bc8f-3d16282c9d39')\"\n",
              "              title=\"Convert this dataframe to an interactive table.\"\n",
              "              style=\"display:none;\">\n",
              "        \n",
              "  <svg xmlns=\"http://www.w3.org/2000/svg\" height=\"24px\"viewBox=\"0 0 24 24\"\n",
              "       width=\"24px\">\n",
              "    <path d=\"M0 0h24v24H0V0z\" fill=\"none\"/>\n",
              "    <path d=\"M18.56 5.44l.94 2.06.94-2.06 2.06-.94-2.06-.94-.94-2.06-.94 2.06-2.06.94zm-11 1L8.5 8.5l.94-2.06 2.06-.94-2.06-.94L8.5 2.5l-.94 2.06-2.06.94zm10 10l.94 2.06.94-2.06 2.06-.94-2.06-.94-.94-2.06-.94 2.06-2.06.94z\"/><path d=\"M17.41 7.96l-1.37-1.37c-.4-.4-.92-.59-1.43-.59-.52 0-1.04.2-1.43.59L10.3 9.45l-7.72 7.72c-.78.78-.78 2.05 0 2.83L4 21.41c.39.39.9.59 1.41.59.51 0 1.02-.2 1.41-.59l7.78-7.78 2.81-2.81c.8-.78.8-2.07 0-2.86zM5.41 20L4 18.59l7.72-7.72 1.47 1.35L5.41 20z\"/>\n",
              "  </svg>\n",
              "      </button>\n",
              "      \n",
              "  <style>\n",
              "    .colab-df-container {\n",
              "      display:flex;\n",
              "      flex-wrap:wrap;\n",
              "      gap: 12px;\n",
              "    }\n",
              "\n",
              "    .colab-df-convert {\n",
              "      background-color: #E8F0FE;\n",
              "      border: none;\n",
              "      border-radius: 50%;\n",
              "      cursor: pointer;\n",
              "      display: none;\n",
              "      fill: #1967D2;\n",
              "      height: 32px;\n",
              "      padding: 0 0 0 0;\n",
              "      width: 32px;\n",
              "    }\n",
              "\n",
              "    .colab-df-convert:hover {\n",
              "      background-color: #E2EBFA;\n",
              "      box-shadow: 0px 1px 2px rgba(60, 64, 67, 0.3), 0px 1px 3px 1px rgba(60, 64, 67, 0.15);\n",
              "      fill: #174EA6;\n",
              "    }\n",
              "\n",
              "    [theme=dark] .colab-df-convert {\n",
              "      background-color: #3B4455;\n",
              "      fill: #D2E3FC;\n",
              "    }\n",
              "\n",
              "    [theme=dark] .colab-df-convert:hover {\n",
              "      background-color: #434B5C;\n",
              "      box-shadow: 0px 1px 3px 1px rgba(0, 0, 0, 0.15);\n",
              "      filter: drop-shadow(0px 1px 2px rgba(0, 0, 0, 0.3));\n",
              "      fill: #FFFFFF;\n",
              "    }\n",
              "  </style>\n",
              "\n",
              "      <script>\n",
              "        const buttonEl =\n",
              "          document.querySelector('#df-1f63beb2-8417-47f9-bc8f-3d16282c9d39 button.colab-df-convert');\n",
              "        buttonEl.style.display =\n",
              "          google.colab.kernel.accessAllowed ? 'block' : 'none';\n",
              "\n",
              "        async function convertToInteractive(key) {\n",
              "          const element = document.querySelector('#df-1f63beb2-8417-47f9-bc8f-3d16282c9d39');\n",
              "          const dataTable =\n",
              "            await google.colab.kernel.invokeFunction('convertToInteractive',\n",
              "                                                     [key], {});\n",
              "          if (!dataTable) return;\n",
              "\n",
              "          const docLinkHtml = 'Like what you see? Visit the ' +\n",
              "            '<a target=\"_blank\" href=https://colab.research.google.com/notebooks/data_table.ipynb>data table notebook</a>'\n",
              "            + ' to learn more about interactive tables.';\n",
              "          element.innerHTML = '';\n",
              "          dataTable['output_type'] = 'display_data';\n",
              "          await google.colab.output.renderOutput(dataTable, element);\n",
              "          const docLink = document.createElement('div');\n",
              "          docLink.innerHTML = docLinkHtml;\n",
              "          element.appendChild(docLink);\n",
              "        }\n",
              "      </script>\n",
              "    </div>\n",
              "  </div>\n",
              "  "
            ],
            "text/plain": [
              "   row_id  user_id  category_id  video_id  ...  gender  profession  followers  views\n",
              "0   89198     7986           12        42  ...       1           1        180    138\n",
              "1   89199    11278           34       115  ...       1           1        230    840\n",
              "2   89200    17245            8       110  ...       0           2        280    628\n",
              "3   89201     9851           16       137  ...       1           1        270    462\n",
              "4   89202    16008           34        96  ...       0           0        230    840\n",
              "\n",
              "[5 rows x 9 columns]"
            ]
          },
          "metadata": {},
          "execution_count": 46
        }
      ]
    },
    {
      "cell_type": "code",
      "source": [
        ""
      ],
      "metadata": {
        "id": "rGk0ze_pLCY3"
      },
      "execution_count": null,
      "outputs": []
    },
    {
      "cell_type": "code",
      "source": [
        "df_raw_test.head()"
      ],
      "metadata": {
        "colab": {
          "base_uri": "https://localhost:8080/",
          "height": 206
        },
        "id": "JtFwT8nChvdb",
        "outputId": "868da5cc-e0ed-4fd9-8377-9de70fcac38b"
      },
      "execution_count": 81,
      "outputs": [
        {
          "output_type": "execute_result",
          "data": {
            "text/html": [
              "\n",
              "  <div id=\"df-6e85a792-ec94-43c6-af78-29710ab165e2\">\n",
              "    <div class=\"colab-df-container\">\n",
              "      <div>\n",
              "<style scoped>\n",
              "    .dataframe tbody tr th:only-of-type {\n",
              "        vertical-align: middle;\n",
              "    }\n",
              "\n",
              "    .dataframe tbody tr th {\n",
              "        vertical-align: top;\n",
              "    }\n",
              "\n",
              "    .dataframe thead th {\n",
              "        text-align: right;\n",
              "    }\n",
              "</style>\n",
              "<table border=\"1\" class=\"dataframe\">\n",
              "  <thead>\n",
              "    <tr style=\"text-align: right;\">\n",
              "      <th></th>\n",
              "      <th>row_id</th>\n",
              "      <th>user_id</th>\n",
              "      <th>category_id</th>\n",
              "      <th>video_id</th>\n",
              "      <th>age</th>\n",
              "      <th>gender</th>\n",
              "      <th>profession</th>\n",
              "      <th>followers</th>\n",
              "      <th>views</th>\n",
              "    </tr>\n",
              "  </thead>\n",
              "  <tbody>\n",
              "    <tr>\n",
              "      <th>0</th>\n",
              "      <td>89198</td>\n",
              "      <td>7986</td>\n",
              "      <td>12</td>\n",
              "      <td>42</td>\n",
              "      <td>14</td>\n",
              "      <td>Male</td>\n",
              "      <td>Student</td>\n",
              "      <td>180</td>\n",
              "      <td>138</td>\n",
              "    </tr>\n",
              "    <tr>\n",
              "      <th>1</th>\n",
              "      <td>89199</td>\n",
              "      <td>11278</td>\n",
              "      <td>34</td>\n",
              "      <td>115</td>\n",
              "      <td>14</td>\n",
              "      <td>Male</td>\n",
              "      <td>Student</td>\n",
              "      <td>230</td>\n",
              "      <td>840</td>\n",
              "    </tr>\n",
              "    <tr>\n",
              "      <th>2</th>\n",
              "      <td>89200</td>\n",
              "      <td>17245</td>\n",
              "      <td>8</td>\n",
              "      <td>110</td>\n",
              "      <td>44</td>\n",
              "      <td>Female</td>\n",
              "      <td>Working Professional</td>\n",
              "      <td>280</td>\n",
              "      <td>628</td>\n",
              "    </tr>\n",
              "    <tr>\n",
              "      <th>3</th>\n",
              "      <td>89201</td>\n",
              "      <td>9851</td>\n",
              "      <td>16</td>\n",
              "      <td>137</td>\n",
              "      <td>18</td>\n",
              "      <td>Male</td>\n",
              "      <td>Student</td>\n",
              "      <td>270</td>\n",
              "      <td>462</td>\n",
              "    </tr>\n",
              "    <tr>\n",
              "      <th>4</th>\n",
              "      <td>89202</td>\n",
              "      <td>16008</td>\n",
              "      <td>34</td>\n",
              "      <td>96</td>\n",
              "      <td>47</td>\n",
              "      <td>Female</td>\n",
              "      <td>Other</td>\n",
              "      <td>230</td>\n",
              "      <td>840</td>\n",
              "    </tr>\n",
              "  </tbody>\n",
              "</table>\n",
              "</div>\n",
              "      <button class=\"colab-df-convert\" onclick=\"convertToInteractive('df-6e85a792-ec94-43c6-af78-29710ab165e2')\"\n",
              "              title=\"Convert this dataframe to an interactive table.\"\n",
              "              style=\"display:none;\">\n",
              "        \n",
              "  <svg xmlns=\"http://www.w3.org/2000/svg\" height=\"24px\"viewBox=\"0 0 24 24\"\n",
              "       width=\"24px\">\n",
              "    <path d=\"M0 0h24v24H0V0z\" fill=\"none\"/>\n",
              "    <path d=\"M18.56 5.44l.94 2.06.94-2.06 2.06-.94-2.06-.94-.94-2.06-.94 2.06-2.06.94zm-11 1L8.5 8.5l.94-2.06 2.06-.94-2.06-.94L8.5 2.5l-.94 2.06-2.06.94zm10 10l.94 2.06.94-2.06 2.06-.94-2.06-.94-.94-2.06-.94 2.06-2.06.94z\"/><path d=\"M17.41 7.96l-1.37-1.37c-.4-.4-.92-.59-1.43-.59-.52 0-1.04.2-1.43.59L10.3 9.45l-7.72 7.72c-.78.78-.78 2.05 0 2.83L4 21.41c.39.39.9.59 1.41.59.51 0 1.02-.2 1.41-.59l7.78-7.78 2.81-2.81c.8-.78.8-2.07 0-2.86zM5.41 20L4 18.59l7.72-7.72 1.47 1.35L5.41 20z\"/>\n",
              "  </svg>\n",
              "      </button>\n",
              "      \n",
              "  <style>\n",
              "    .colab-df-container {\n",
              "      display:flex;\n",
              "      flex-wrap:wrap;\n",
              "      gap: 12px;\n",
              "    }\n",
              "\n",
              "    .colab-df-convert {\n",
              "      background-color: #E8F0FE;\n",
              "      border: none;\n",
              "      border-radius: 50%;\n",
              "      cursor: pointer;\n",
              "      display: none;\n",
              "      fill: #1967D2;\n",
              "      height: 32px;\n",
              "      padding: 0 0 0 0;\n",
              "      width: 32px;\n",
              "    }\n",
              "\n",
              "    .colab-df-convert:hover {\n",
              "      background-color: #E2EBFA;\n",
              "      box-shadow: 0px 1px 2px rgba(60, 64, 67, 0.3), 0px 1px 3px 1px rgba(60, 64, 67, 0.15);\n",
              "      fill: #174EA6;\n",
              "    }\n",
              "\n",
              "    [theme=dark] .colab-df-convert {\n",
              "      background-color: #3B4455;\n",
              "      fill: #D2E3FC;\n",
              "    }\n",
              "\n",
              "    [theme=dark] .colab-df-convert:hover {\n",
              "      background-color: #434B5C;\n",
              "      box-shadow: 0px 1px 3px 1px rgba(0, 0, 0, 0.15);\n",
              "      filter: drop-shadow(0px 1px 2px rgba(0, 0, 0, 0.3));\n",
              "      fill: #FFFFFF;\n",
              "    }\n",
              "  </style>\n",
              "\n",
              "      <script>\n",
              "        const buttonEl =\n",
              "          document.querySelector('#df-6e85a792-ec94-43c6-af78-29710ab165e2 button.colab-df-convert');\n",
              "        buttonEl.style.display =\n",
              "          google.colab.kernel.accessAllowed ? 'block' : 'none';\n",
              "\n",
              "        async function convertToInteractive(key) {\n",
              "          const element = document.querySelector('#df-6e85a792-ec94-43c6-af78-29710ab165e2');\n",
              "          const dataTable =\n",
              "            await google.colab.kernel.invokeFunction('convertToInteractive',\n",
              "                                                     [key], {});\n",
              "          if (!dataTable) return;\n",
              "\n",
              "          const docLinkHtml = 'Like what you see? Visit the ' +\n",
              "            '<a target=\"_blank\" href=https://colab.research.google.com/notebooks/data_table.ipynb>data table notebook</a>'\n",
              "            + ' to learn more about interactive tables.';\n",
              "          element.innerHTML = '';\n",
              "          dataTable['output_type'] = 'display_data';\n",
              "          await google.colab.output.renderOutput(dataTable, element);\n",
              "          const docLink = document.createElement('div');\n",
              "          docLink.innerHTML = docLinkHtml;\n",
              "          element.appendChild(docLink);\n",
              "        }\n",
              "      </script>\n",
              "    </div>\n",
              "  </div>\n",
              "  "
            ],
            "text/plain": [
              "   row_id  user_id  category_id  ...            profession  followers views\n",
              "0   89198     7986           12  ...               Student        180   138\n",
              "1   89199    11278           34  ...               Student        230   840\n",
              "2   89200    17245            8  ...  Working Professional        280   628\n",
              "3   89201     9851           16  ...               Student        270   462\n",
              "4   89202    16008           34  ...                 Other        230   840\n",
              "\n",
              "[5 rows x 9 columns]"
            ]
          },
          "metadata": {},
          "execution_count": 81
        }
      ]
    },
    {
      "cell_type": "code",
      "source": [
        "roll_id = df_raw_test['row_id']"
      ],
      "metadata": {
        "id": "8vKzpXUjiGbL"
      },
      "execution_count": 84,
      "outputs": []
    },
    {
      "cell_type": "code",
      "source": [
        "enagement_score = RF.predict(x_scale_test)\n",
        "print(enagement_score)"
      ],
      "metadata": {
        "colab": {
          "base_uri": "https://localhost:8080/"
        },
        "id": "DxvprIdjHOaZ",
        "outputId": "628ac33b-45f6-46ef-9ff2-085ec17fb950"
      },
      "execution_count": 80,
      "outputs": [
        {
          "output_type": "stream",
          "name": "stdout",
          "text": [
            "[3.24589 2.82341 3.94846 ... 3.71484 3.75765 3.98698]\n"
          ]
        }
      ]
    },
    {
      "cell_type": "code",
      "source": [
        "enagement_score.to_excel(r'/content/drive/MyDrive/Analytics_vidya_hack/enagement_score.xlsx', index = False)"
      ],
      "metadata": {
        "id": "RMbpj188kSIn"
      },
      "execution_count": 95,
      "outputs": []
    },
    {
      "cell_type": "code",
      "source": [
        "RF_MSE = []\n",
        "RF_r2 = []\n",
        "setting = np.arange(0.1,1,0.1)\n",
        "for i in setting:\n",
        "    RF = RandomForestRegressor(max_features=i, n_estimators=100)\n",
        "    RF.fit(x_train,y_train)\n",
        "    RF_pred = RF.predict(x_test)\n",
        "    RF_MSE.append(mean_squared_error(y_test,y_RF_pred))\n",
        "    RF_r2.append(r2_score(y_test,y_RF_pred)*100)\n",
        "\n",
        "print(RF_MSE)\n",
        "print(RF_r2)\n"
      ],
      "metadata": {
        "colab": {
          "base_uri": "https://localhost:8080/"
        },
        "id": "w6ygj-am2CAT",
        "outputId": "3f9207d6-3a51-48a9-b50a-ead9a06b4931"
      },
      "execution_count": 42,
      "outputs": [
        {
          "output_type": "stream",
          "name": "stdout",
          "text": [
            "[0.49588831275838313, 0.49588831275838313, 0.49588831275838313, 0.49588831275838313, 0.49588831275838313, 0.49588831275838313, 0.49588831275838313, 0.49588831275838313, 0.49588831275838313]\n",
            "[33.50702381113987, 33.50702381113987, 33.50702381113987, 33.50702381113987, 33.50702381113987, 33.50702381113987, 33.50702381113987, 33.50702381113987, 33.50702381113987]\n"
          ]
        }
      ]
    },
    {
      "cell_type": "code",
      "source": [
        ""
      ],
      "metadata": {
        "id": "vu8PqGFzHHbn"
      },
      "execution_count": null,
      "outputs": []
    },
    {
      "cell_type": "markdown",
      "source": [
        "**Ada Boost**"
      ],
      "metadata": {
        "id": "bXNjpOiZF9u_"
      }
    },
    {
      "cell_type": "code",
      "source": [
        "from sklearn.ensemble import AdaBoostRegressor\n",
        "ADBR = AdaBoostRegressor(base_estimator=DT, n_estimators=1000)\n",
        "ADBR.fit(x_train,y_train)\n",
        "y_pred_adab = ADBR.predict(x_test)"
      ],
      "metadata": {
        "id": "v0EfOyBI_R44"
      },
      "execution_count": null,
      "outputs": []
    },
    {
      "cell_type": "code",
      "source": [
        "mse_adab = mean_squared_error(y_test,y_pred_adab)\n",
        "r2_adab = r2_score(y_test,y_pred_adab)*100\n",
        "print(mse_adab)\n",
        "print(r2_adab)"
      ],
      "metadata": {
        "colab": {
          "base_uri": "https://localhost:8080/"
        },
        "id": "59chDILb_7Qi",
        "outputId": "bc544b65-c1c1-468d-a9a3-cb3a8bfafa04"
      },
      "execution_count": null,
      "outputs": [
        {
          "output_type": "stream",
          "name": "stdout",
          "text": [
            "1.5222559625983485\n",
            "-104.1171910492686\n"
          ]
        }
      ]
    },
    {
      "cell_type": "markdown",
      "source": [
        "**Gradient Boost**"
      ],
      "metadata": {
        "id": "FL_drNieGdiA"
      }
    },
    {
      "cell_type": "code",
      "source": [
        "from sklearn.ensemble import GradientBoostingRegressor\n",
        "GRB = GradientBoostingRegressor()\n",
        "GRB.fit(x_train,y_train)\n",
        "y_pred_grb= GRB.predict(x_test)"
      ],
      "metadata": {
        "id": "zpO8u07XAjsf"
      },
      "execution_count": null,
      "outputs": []
    },
    {
      "cell_type": "code",
      "source": [
        "mse_grb = mean_squared_error(y_test,y_pred_grb)\n",
        "r2_grb = r2_score(y_test,y_pred_grb)*100\n",
        "print(mse_grb)\n",
        "print(r2_grb)"
      ],
      "metadata": {
        "colab": {
          "base_uri": "https://localhost:8080/"
        },
        "id": "DlmMshyOAv_9",
        "outputId": "2a4eae6e-306f-435b-c408-ef4c9d9013f1"
      },
      "execution_count": null,
      "outputs": [
        {
          "output_type": "stream",
          "name": "stdout",
          "text": [
            "0.495603800426904\n",
            "33.545173675122854\n"
          ]
        }
      ]
    },
    {
      "cell_type": "markdown",
      "source": [
        "**XG boost**"
      ],
      "metadata": {
        "id": "Gew9hsZyGhfX"
      }
    },
    {
      "cell_type": "code",
      "source": [
        "from xgboost import XGBRegressor\n",
        "XGB = XGBRegressor()\n",
        "XGB.fit(x_train,y_train)\n",
        "y_pred_xgb= XGB.predict(x_test)"
      ],
      "metadata": {
        "colab": {
          "base_uri": "https://localhost:8080/"
        },
        "id": "S2agIRV1Df-C",
        "outputId": "0323854b-c330-4b33-b9fa-ee5855d475e3"
      },
      "execution_count": null,
      "outputs": [
        {
          "output_type": "stream",
          "name": "stdout",
          "text": [
            "[18:32:05] WARNING: /workspace/src/objective/regression_obj.cu:152: reg:linear is now deprecated in favor of reg:squarederror.\n"
          ]
        }
      ]
    },
    {
      "cell_type": "code",
      "source": [
        "mse_xgb = mean_squared_error(y_test,y_pred_xgb)\n",
        "r2_xgbb = r2_score(y_test,y_pred_xgb)*100\n",
        "print(mse_xgb)\n",
        "print(r2_xgbb)"
      ],
      "metadata": {
        "colab": {
          "base_uri": "https://localhost:8080/"
        },
        "id": "vJBdmKuKDrkw",
        "outputId": "c6e7086a-1019-40d5-a7bc-58bf78a2be8a"
      },
      "execution_count": null,
      "outputs": [
        {
          "output_type": "stream",
          "name": "stdout",
          "text": [
            "0.49595811683527175\n",
            "33.49766387927009\n"
          ]
        }
      ]
    },
    {
      "cell_type": "markdown",
      "source": [
        "**ANN**"
      ],
      "metadata": {
        "id": "spsCZTs4Gm--"
      }
    },
    {
      "cell_type": "code",
      "source": [
        "from tensorflow.keras.models import Sequential\n",
        "from tensorflow.keras.layers import Dense"
      ],
      "metadata": {
        "id": "3dkGdO2C2jZo"
      },
      "execution_count": null,
      "outputs": []
    },
    {
      "cell_type": "code",
      "source": [
        "model= Sequential()\n",
        "model.add(Dense(8,activation='relu',name='input'))\n",
        "model.add(Dense(12,activation='relu',name='hidden'))\n",
        "model.add(Dense(1,name='output'))"
      ],
      "metadata": {
        "id": "wYIrOxMI2kSS"
      },
      "execution_count": null,
      "outputs": []
    },
    {
      "cell_type": "code",
      "source": [
        "model.compile(loss='mse', optimizer='adam')"
      ],
      "metadata": {
        "id": "KbY-jwNO2__j"
      },
      "execution_count": null,
      "outputs": []
    },
    {
      "cell_type": "code",
      "source": [
        "model.fit(x =x_train, y= y_train, validation_data=(x_test,y_test), batch_size=2000, epochs=1000, verbose=0)"
      ],
      "metadata": {
        "colab": {
          "base_uri": "https://localhost:8080/"
        },
        "id": "fps8cDzw3ERh",
        "outputId": "ef87669b-6628-4888-8c73-7011757b2d29"
      },
      "execution_count": null,
      "outputs": [
        {
          "output_type": "execute_result",
          "data": {
            "text/plain": [
              "<keras.callbacks.History at 0x7f20ec2feed0>"
            ]
          },
          "metadata": {},
          "execution_count": 195
        }
      ]
    },
    {
      "cell_type": "code",
      "source": [
        "losses = pd.DataFrame(model.history.history)\n",
        "print(losses)"
      ],
      "metadata": {
        "colab": {
          "base_uri": "https://localhost:8080/"
        },
        "id": "MBTEFQdw3LHU",
        "outputId": "c81e6a50-859c-4e39-f1aa-444bebb6bedb"
      },
      "execution_count": null,
      "outputs": [
        {
          "output_type": "stream",
          "name": "stdout",
          "text": [
            "           loss   val_loss\n",
            "0    409.877472  73.164917\n",
            "1     50.237396  39.050827\n",
            "2     33.717842  27.933149\n",
            "3     24.811796  20.962681\n",
            "4     18.831455  16.125164\n",
            "..          ...        ...\n",
            "495    0.583123   0.568176\n",
            "496    0.586622   0.585477\n",
            "497    0.575762   0.592359\n",
            "498    0.572742   0.589008\n",
            "499    0.569181   0.569665\n",
            "\n",
            "[500 rows x 2 columns]\n"
          ]
        }
      ]
    },
    {
      "cell_type": "code",
      "source": [
        "losses[['loss','val_loss']].plot()"
      ],
      "metadata": {
        "colab": {
          "base_uri": "https://localhost:8080/",
          "height": 283
        },
        "id": "8KBqv4AO3RvK",
        "outputId": "2a426b5a-09b8-41ab-b665-edcf0766436a"
      },
      "execution_count": null,
      "outputs": [
        {
          "output_type": "execute_result",
          "data": {
            "text/plain": [
              "<matplotlib.axes._subplots.AxesSubplot at 0x7f20e7ba83d0>"
            ]
          },
          "metadata": {},
          "execution_count": 191
        },
        {
          "output_type": "display_data",
          "data": {
            "image/png": "[encoded data removed]",
            "text/plain": [
              "<Figure size 432x288 with 1 Axes>"
            ]
          },
          "metadata": {
            "needs_background": "light"
          }
        }
      ]
    },
    {
      "cell_type": "code",
      "source": [
        "y_pred_ann = model.predict(x_test)"
      ],
      "metadata": {
        "id": "n6lI_ei23eaC"
      },
      "execution_count": null,
      "outputs": []
    },
    {
      "cell_type": "code",
      "source": [
        "mse_ann = mean_squared_error(y_test,y_pred_ann)\n",
        "r2_ann = r2_score(y_test,y_pred_ann)*100\n",
        "print(mse_ann)\n",
        "print(r2_ann)"
      ],
      "metadata": {
        "colab": {
          "base_uri": "https://localhost:8080/"
        },
        "id": "UpPzZ2Tn3h5X",
        "outputId": "cfddc96a-8e61-4251-e8dd-2febd4de448c"
      },
      "execution_count": null,
      "outputs": [
        {
          "output_type": "stream",
          "name": "stdout",
          "text": [
            "0.5696653844238635\n",
            "23.614358581243945\n"
          ]
        }
      ]
    },
    {
      "cell_type": "markdown",
      "source": [
        "**Gradient Descent**"
      ],
      "metadata": {
        "id": "QnNCjql_Gt_O"
      }
    },
    {
      "cell_type": "code",
      "source": [
        "from sklearn.linear_model import SGDRegressor\n",
        "sgdr = SGDRegressor()\n",
        "sgdr.fit(x_train,y_train)\n",
        "y_pred_sgdr = sgdr.predict(x_test)"
      ],
      "metadata": {
        "id": "U9Qq7EMtJSRH"
      },
      "execution_count": null,
      "outputs": []
    },
    {
      "cell_type": "code",
      "source": [
        "mse_sgdr = mean_squared_error(y_test,y_pred_sgdr)\n",
        "r2_sgdr = r2_score(y_test,y_pred_sgdr)*100\n",
        "print(mse_sgdr)\n",
        "print(r2_sgdr)"
      ],
      "metadata": {
        "colab": {
          "base_uri": "https://localhost:8080/"
        },
        "id": "WX6tUSzsKlyo",
        "outputId": "05d97bc2-e632-4552-bf37-c17a76e64b10"
      },
      "execution_count": null,
      "outputs": [
        {
          "output_type": "stream",
          "name": "stdout",
          "text": [
            "0.5739139216479251\n",
            "23.04467811649249\n"
          ]
        }
      ]
    },
    {
      "cell_type": "code",
      "source": [
        "sgdr = SGDRegressor()\n"
      ],
      "metadata": {
        "id": "qAKSzkwzMFYc"
      },
      "execution_count": null,
      "outputs": []
    },
    {
      "cell_type": "code",
      "source": [
        "setting = np.arange(0.1,2,0.001)\n",
        "sgdr_test_error = []\n",
        "sgdr_r2_score =[]"
      ],
      "metadata": {
        "id": "tcQkREdkKzX9"
      },
      "execution_count": null,
      "outputs": []
    },
    {
      "cell_type": "code",
      "source": [
        "setting"
      ],
      "metadata": {
        "colab": {
          "base_uri": "https://localhost:8080/"
        },
        "id": "n-9FtOhSOYIF",
        "outputId": "16cbf529-0cd4-4bd4-ec0d-de258324ad6e"
      },
      "execution_count": null,
      "outputs": [
        {
          "output_type": "execute_result",
          "data": {
            "text/plain": [
              "array([0.1  , 0.101, 0.102, ..., 1.997, 1.998, 1.999])"
            ]
          },
          "metadata": {},
          "execution_count": 125
        }
      ]
    },
    {
      "cell_type": "code",
      "source": [
        "for i in setting:\n",
        "    sgd = SGDRegressor(eta0=i, max_iter =1000 )\n",
        "    sgd.fit(x_train,y_train)\n",
        "    y_pred_sgd = sgd.predict(x_test)\n",
        "    sgdr_test_error.append(mean_squared_error(y_test,y_pred_sgd))\n",
        "    sgdr_r2_score.append(r2_score(y_test,y_pred_sgd)*100)"
      ],
      "metadata": {
        "id": "PsrvzvU3K-Ck"
      },
      "execution_count": null,
      "outputs": []
    },
    {
      "cell_type": "code",
      "source": [
        "print(sgdr_test_error)\n",
        "print(sgdr_r2_score)"
      ],
      "metadata": {
        "colab": {
          "base_uri": "https://localhost:8080/"
        },
        "id": "WOnOzHX4NC8e",
        "outputId": "4a1b355b-a618-4520-c612-d901ab38eed6"
      },
      "execution_count": null,
      "outputs": [
        {
          "output_type": "stream",
          "name": "stdout",
          "text": [
            "[0.5928975892889226, 0.5774142834941361, 0.5780550753455352, 0.5755828708278653, 0.582615946685115, 0.5846857939238425, 0.5850360580226632, 0.5785487288943086, 0.5794322540156384, 0.5774181216251635, 0.5857500128299084, 0.580060003500214, 0.5908090656434913, 0.5872469299957572, 0.5836019118896912, 0.5821804259966147, 0.5890591501448624, 0.5897220622186375, 0.5816260861658011, 0.5887531432952425, 0.582291539843106, 0.591109872650017, 0.5796637394461774, 0.5759180123960642, 0.5922137387629988, 0.5820778390289657, 0.5777026808800951, 0.5804057644551461, 0.5894854248216682, 0.5871436220900845, 0.5828160722949294, 0.5787587430938064, 0.593875761806388, 0.5838233655631584, 0.587761832979464, 0.5947784989099794, 0.5866798703607605, 0.5817226966307862, 0.5843772462236116, 0.579502178076713, 0.5764375066201536, 0.5866294381567252, 0.5758925705263647, 0.5836234890031333, 0.5901636569577735, 0.5794209004457579, 0.5808452224117274, 0.5766460472146694, 0.5900518113009656, 0.5793461704009357, 0.574521178608767, 0.5902240044810633, 0.5867108540602769, 0.5944108365294181, 0.5828771978136044, 0.5744280006611004, 0.5837325457544389, 0.5810003050871395, 0.5954302651376907, 0.5812474195674924, 0.583980517558115, 0.5825074123988082, 0.5798420679735485, 0.6042591012371741, 0.5891452937748795, 0.6089340945915679, 0.5820312760219283, 0.583182989076341, 0.5875469710903022, 0.5825161446018051, 0.5822254523625447, 0.5850621553118383, 0.5947445879708854, 0.590146448933482, 0.5853931032136207, 0.5835539389546797, 0.586845093859618, 0.5763242060724515, 0.5777842170991856, 0.5795037598365366, 0.5919883390531518, 0.5814453523758625, 0.5926840221984443, 0.5896700591733383, 0.5847497303635443, 0.5762580909764156, 0.5788229957098204, 0.5897968207843061, 0.581813284353559, 0.5809041555857238, 0.6030248744522195, 0.5787266016083876, 0.5825530943945463, 0.5815337176257471, 0.5875363370532848, 0.5933110279555227, 0.5883605897893713, 0.582684006426905, 0.5873273460174432, 0.5931820696954218, 0.5889096596942454, 0.581903409154154, 0.601002645846664, 0.5901885114023592, 0.5859156980699289, 0.5984359952611771, 0.5904874084916466, 0.5852327675709781, 0.5839444482414987, 0.5796654064929361, 0.5908817569312501, 0.5894611004396109, 0.6010766939321057, 0.5894741541167907, 0.5791077232955804, 0.5913740191559506, 0.5915612164112789, 0.5787678580234213, 0.5882138911342302, 0.5962889015722455, 0.6053056771097808, 0.602288956874067, 0.5813005929171673, 0.6134957937189924, 0.6013940768961963, 0.6011010324412897, 0.596288784317172, 0.5899886044576564, 0.5791134229939634, 0.5991299542268301, 0.611032399193791, 0.5847083992566232, 0.5890623438777367, 0.5795492085194568, 0.5954445467192528, 0.590841666297329, 0.6018903586174431, 0.6061245424870184, 0.6142635565563597, 0.5844965212327253, 0.5866864764506478, 0.6014224139466955, 0.5910110162705987, 0.5997071318463393, 0.5864733969717288, 0.6165962925904342, 0.5768987130995604, 0.6046334849434758, 0.5763601726336992, 0.590925111131202, 0.5868624526579471, 0.5875434591943253, 0.5834023834461511, 0.5994684396517829, 0.5930268113274774, 0.6022828323579085, 0.5937072575840222, 0.5930802462730811, 0.6105346712277192, 0.6008388972813844, 0.5923178291160756, 0.5853781191863795, 0.591549495268592, 0.5860047986235126, 0.5963632957260214, 0.6072092031410239, 0.5927419957937895, 0.590404766236322, 0.5940582574505052, 0.5841871896548388, 0.5943720209957246, 0.5797505274366402, 0.5960980948705207, 0.5941392404733272, 0.5804185686221274, 0.6001299334239042, 0.5908516743517763, 0.5869166705035653, 0.5868556868869699, 0.5919662116531451, 0.6030901278231845, 0.6349122975943587, 0.5877828764222279, 0.5933348763216156, 0.6005783381582684, 0.5828442501989798, 0.6371050791120504, 0.600574613268866, 0.5983086228977619, 0.6524838574418842, 0.6003298581445368, 0.5788710924324625, 0.5905014190800267, 0.6010223174026649, 0.5849979634656123, 0.5904934194768684, 0.591880687845826, 0.5848833317270854, 0.5836277329583327, 0.6227068554583503, 0.5949386059031412, 0.6024915243000086, 0.6044859605483518, 0.5945103025246556, 0.5825826315895426, 0.5812417761633459, 0.6025841404653188, 0.6349044282581432, 0.6102060685904069, 0.600728575621604, 0.5959737122412799, 0.5870072789064179, 0.5825225414696396, 0.6171947340547748, 0.6105331508010204, 0.585852223810064, 0.61938584370418, 0.5970723021739889, 0.6083705993625704, 0.5914480707993804, 0.5873303467220176, 0.5920927715195178, 0.5867718822029884, 0.6024043409906732, 0.6018714337104358, 0.5774345639082532, 0.6135699479582228, 0.5893769501627063, 0.6045698974993812, 0.580434921660626, 0.6046800470382051, 0.6247150103070636, 0.5938475042617651, 0.5985185280922197, 0.6136999843551971, 0.5990932211418627, 0.6020834157057353, 0.6016461741041983, 0.6020663267874603, 0.5825293254374186, 0.5856573120744021, 0.5993903904931579, 0.5863396284913476, 0.6157540869523741, 0.6128111734436333, 0.598027236119411, 0.5828597455735097, 0.5969621693445915, 0.6102220063874914, 0.6041779984419964, 0.5965914304125971, 0.5877268311756882, 0.6033186211378645, 0.5832191972743351, 0.611938198145054, 0.6215486161999615, 0.6080035932348986, 0.5945188382384943, 0.6112483536083847, 0.5925066444460023, 0.6110396761595651, 0.6107767336238646, 0.5838099604798453, 0.6283992574136824, 0.5910319302255161, 0.6663230252620025, 0.6244191446148789, 0.5917591148197875, 0.6001993579779753, 0.6160968425994464, 0.6103864109238638, 0.5827636864653415, 0.6353602600578735, 0.6006204754530318, 0.5990288056026059, 0.5924208777858505, 0.6049139823023083, 0.5893695955014825, 0.5912119688686119, 0.627472401380656, 0.6024564322043665, 0.6278972294854765, 0.5959914915531327, 0.5909209018397358, 0.6022346217645198, 0.6193824232454407, 0.630220460923588, 0.5826526491460823, 0.5829420630376065, 0.6003320461957976, 0.5822014009312979, 0.6197636173352212, 0.5788257515713963, 0.6069125807541292, 0.5869624278992172, 0.59944282955547, 0.608090412790917, 0.6324834729397966, 0.5794415814776729, 0.588509994158681, 0.5889472870644907, 0.6001523930386038, 0.5969848105891068, 0.632985494572956, 0.6138604454134795, 0.5793727260906706, 0.592633799460608, 0.5867772347400716, 0.6061514287241065, 0.5873501452180726, 0.6062094219873405, 0.591215650439756, 0.6039198921459278, 0.5837884199873539, 0.6005233795412392, 0.5995353008721682, 0.5913721993317632, 0.5896260830955327, 0.5944994305091215, 0.6055493021187374, 0.60239352711706, 0.6045215003764273, 0.6105140359556432, 0.5948541605964832, 0.6219278083297072, 0.5992433913077805, 0.6034418947701286, 0.6327862143601231, 0.6003272370625389, 0.5773550222913122, 0.6029978913428528, 0.5984639028752932, 0.6027346752872045, 0.5818917737344487, 0.5993644207723343, 0.6905917809057207, 0.5992913484597123, 0.5910416115456271, 0.5960374267525793, 0.5991692153820419, 0.6190792217763833, 0.6110877326015772, 0.607451736790985, 0.5958379021004001, 0.6250813100372997, 0.6164290763554708, 0.590193102558963, 0.6630671676464982, 0.5958643395288575, 0.6252623901893348, 0.621180782154842, 0.58752700436026, 0.5881134057386954, 0.6497860399100838, 0.6560751454572296, 0.6148928230612096, 0.5874099339700393, 0.5914456715892893, 0.6072746813777963, 0.5921598638246774, 0.5758157225668366, 0.5916780045731896, 0.626267448954592, 0.5846377790321036, 0.617088314648834, 0.6181292676243216, 0.5838227119341826, 0.6221333578693778, 0.5948722886757872, 0.597194709126565, 0.6115674448325272, 0.6044078034667726, 0.5806721111446578, 0.6424858996218248, 0.6141291632752435, 0.6295702836197633, 0.6023972730463967, 0.593249784753321, 0.6068434194877382, 0.6131271356253812, 0.606211061074368, 0.6464454810653159, 0.5987363144258417, 0.5883919949665023, 0.602967177551047, 0.597904454716987, 0.6279464373950364, 0.608860159611517, 0.6044627538750007, 0.5989647575325305, 0.6242320818003638, 0.6214707486303639, 0.6036388136301181, 0.6052446546146988, 0.5837056926976443, 0.620933037217527, 0.6038752266676649, 0.582287142798959, 0.5931550257739812, 0.5733103216241322, 0.5982592496728583, 0.5995610339405824, 0.6138996310398058, 0.6039506661591558, 0.5907370087552066, 0.6778120110152444, 0.6537258386295077, 0.6240597096252459, 0.6100150250818674, 0.625246794169832, 0.6344214720033758, 0.6039577638099256, 0.6099923514986411, 0.6311962844965991, 0.6193875357332133, 0.5800756931692446, 0.6174150551685195, 0.6258783174175971, 0.5968364095868506, 0.5891145277116179, 0.6002837177945074, 0.6497237568383495, 0.6510408720317129, 0.6417617426062483, 0.6157571124342175, 0.6269161761638092, 0.5949076161722413, 0.6235443770994037, 0.654529513387065, 0.6392383434274083, 0.6194962289559381, 0.6712408660205698, 0.6320236829646334, 0.6151316200838899, 0.6092884132665563, 0.5982009321499813, 0.5885374819359864, 0.596319415425718, 0.6248980908404943, 0.6236838099589322, 0.6029452765626883, 0.589969140353655, 0.5841485358480117, 0.6057971692159324, 0.5788753192364685, 0.6089930457923485, 0.6966656806166948, 0.5911930916349583, 0.6818593100931575, 0.5974542275723386, 0.5948769306068407, 0.6500843452511111, 0.6210262475211703, 0.6080558669334667, 0.6168413477076539, 0.6530408061646569, 0.5928961566237968, 0.6276003957304347, 0.6062149692799687, 0.6215418032479278, 0.6230196199969206, 0.6124220419828934, 0.586500855668257, 0.5949037642963291, 0.6042703451446827, 0.6087069851062689, 0.710035533065722, 0.6342445624573452, 0.5944409524452356, 0.6208049005211475, 0.6350128298131319, 0.6093251470581772, 0.622509203857042, 0.61894250278942, 0.6347426737081848, 0.7151728561216076, 0.6014164869514308, 0.6064381356727454, 0.6031541470138265, 0.6199063399328897, 0.6079645520686582, 0.5997531026506311, 0.6697588277699686, 0.5907928036811562, 0.602490386591547, 0.6112899607949198, 0.6454487407399297, 0.6362417771462796, 0.6155363436810123, 0.6644610976887834, 0.5913878499354572, 0.6275051164229603, 0.6459263456956993, 0.5931744511925343, 0.6066530252849208, 0.613367908240213, 0.6291193692491214, 0.6030039755142579, 0.7089539145720509, 0.6766405875911773, 0.6065676673804311, 0.6094575182976483, 0.6062432633299482, 0.6074905326601786, 0.6049959572051853, 0.6125924570631631, 0.6284160996017462, 0.6272904865662383, 0.59040438026123, 0.6322632937025743, 0.6090799169065311, 0.6001597013382393, 0.580827580382227, 0.6289133524838407, 0.6155530388939034, 0.6134995980674182, 0.604835265254257, 0.5872314112897907, 0.615675552312905, 0.6314887988311952, 0.644311830838837, 0.5987990253330582, 0.60775266426237, 0.6097755524043149, 0.6295905369283341, 0.6118477380867783, 0.6703208034838252, 0.5946248891094564, 0.5804601780907823, 0.5989262729402095, 0.6534859211704056, 0.6040485221718653, 0.62814081933927, 0.6338366353576242, 0.6219864851547222, 0.6412132733443929, 0.5898521207581662, 0.6613023001977986, 0.6358698907503704, 0.6303760172355282, 0.6269743768319761, 0.6059691352569013, 0.6114875448239057, 0.6038872168992675, 0.6468746186736164, 0.6097507287896611, 0.6133967113684405, 0.62144749410472, 0.599723654102148, 0.6334190391633391, 0.6129560881986912, 0.6592422238389125, 0.6069183478984548, 0.6248488703796168, 0.634771565229026, 0.5923791471217013, 0.6043557968330933, 0.6126193659596273, 0.6115074054815992, 0.5858829978478266, 0.6413397445648127, 0.6599287776825136, 0.6353466234417549, 0.5918024938176443, 0.5957904658708182, 0.663299515066269, 0.6252865693400691, 0.5885098686007728, 0.6210875326897504, 0.6013069256744494, 0.5894393888039794, 0.6028038468342988, 0.6233220557301371, 0.6207807053094535, 0.6377029891184516, 0.6148613644952406, 0.6172792655870555, 0.6354896658803431, 0.6698883176669763, 0.6267994784058983, 0.6043998450383794, 0.6095351460777633, 0.6117697943991148, 0.6025763421583799, 0.6206473373937255, 0.7440859063717675, 0.6466659759340168, 0.6216797889005421, 0.6038288962409293, 0.5927569774281802, 0.649791952792562, 0.589174996707579, 0.6206426843829066, 0.6199808807263224, 0.6293364183359447, 0.600769364839658, 0.6058493083642443, 0.5924351335369339, 0.6297327790950683, 0.628386753485773, 0.6380372430985579, 0.6412655467058651, 0.6165166089097539, 0.6597242868933497, 0.5977882810362882, 0.6299837464770242, 0.6319606504534037, 0.6330311872560533, 0.6297412580618661, 0.6024646306637916, 0.59674841748135, 0.6419347621513287, 0.7569131712056476, 0.6807867107102783, 0.6695406701305503, 0.6182927923525608, 0.6026463174306247, 0.5855874450184649, 0.608295223901531, 0.6097023212927645, 0.6462429891056412, 0.6605698571871881, 0.6437967730522683, 0.6263701648679246, 0.5939029005318307, 0.6025672967492183, 0.5908078152841464, 0.6370860791269584, 0.6303417186568049, 0.5913379174458484, 0.6595106558246271, 0.6054851432227658, 0.6726732514418985, 0.6294760636672747, 0.6170275468227838, 0.5940036101468451, 0.5919055353435418, 0.5918180031330817, 0.5968145747817964, 0.6500990194593345, 0.596065811613432, 0.6237935314296871, 0.6472569403432015, 0.6087028359677653, 0.6359461398773713, 0.6951402122322508, 0.6333841398058749, 0.6201714311762633, 0.61849022802824, 0.6404340176775974, 0.5865497186223378, 0.5972717230735144, 0.6763481307075341, 0.6124157965702759, 0.6111677386393833, 0.6052049213040472, 0.648865016595149, 0.6484835215330461, 0.7308618453862128, 0.5918406373756355, 0.6110336286684218, 0.6532957109918763, 0.6170690133355988, 0.6502870715923399, 0.6088556393423633, 0.6437808039593463, 0.6661491915574923, 0.6226471097325011, 0.753619481326333, 0.6060029795346762, 0.6013062937601823, 0.602621749883301, 0.6291782294417296, 0.6174223783877403, 0.6605778413976499, 0.6487923407586156, 0.5900505952277411, 0.6346591150835322, 0.5999138763421011, 0.5887915258129424, 0.688294428626975, 0.6118422098311255, 0.6520942418046902, 0.6960605224840721, 0.618892053352546, 0.660991497370664, 0.6432552320985203, 0.660637736104612, 0.6172881915568084, 0.5957770198449289, 0.6742081200658461, 0.6356368708813418, 0.6090891681428756, 0.6104714046019649, 0.6571893711488951, 0.642550226169359, 0.6324153174128522, 0.645868268873455, 0.6418651565778032, 0.630328941177738, 0.6234251345246621, 0.6768903477308316, 0.7475056891656774, 0.6457620601974304, 0.6708416265073464, 0.6622419576678427, 0.6436719899873136, 0.6300499068300573, 0.5942889380667438, 0.6548527274822014, 0.6016110814787761, 0.607408200558712, 0.6393761959892207, 0.6208464074623135, 0.5901833282388697, 0.5943158737887664, 0.6268581928376817, 0.5972350328021031, 0.6503527395343821, 0.6338862330659436, 0.697527108121761, 0.6241557380412764, 0.6172478956174602, 0.6281991872526977, 0.6268657675984295, 0.624724652045509, 0.6151277211102888, 0.6465501102884427, 0.6487523744262339, 0.6151290561091776, 0.6133872007102744, 0.644698637283302, 0.7074011855333526, 0.6332294861063507, 0.6760700053318689, 0.6099112112279713, 0.6152875900893846, 0.613076320179672, 0.697188228708335, 0.6332837076690767, 0.6114265025471443, 0.5983533059055118, 0.6700499125799011, 0.6186043669679526, 0.6419606497152982, 0.6282685371491308, 0.7065475220513175, 0.6240177865407249, 0.6658488777860757, 0.6357791299343672, 0.6722424691383756, 0.6229884824325138, 0.6564692229010223, 0.6314901348677728, 0.6079562075967011, 0.5900285667055014, 0.6653422636377494, 0.6078254826811861, 0.6434121145611048, 0.8830073909310264, 0.5983377840127448, 0.6100983683378843, 0.668194077088083, 0.6118079748099099, 0.6295103412961734, 0.6235709815895403, 0.623245609316858, 0.6833507141205665, 0.7199542037472464, 0.721073380382451, 0.5928889379355405, 0.6453016747591944, 0.6557172362835824, 0.6272740649771309, 0.6102185630762734, 0.6577700064494457, 0.6287083481670654, 0.5990100457345722, 0.628490927402428, 0.6723548251598342, 0.6176460864416814, 0.6379030889907872, 0.6359532449513922, 0.6511955446200761, 0.5871406988612431, 0.5950654879925933, 0.6369778716939799, 0.5998839205252492, 0.5903391854442391, 0.6126606235666429, 0.7216741573286699, 0.6483140208628402, 0.6415182071274071, 0.6994932154921485, 0.6086736065662959, 0.6508675143996306, 0.690822551338578, 0.6445482573185913, 0.6025834842343577, 0.5967173993541697, 0.6426038025101292, 0.588932744614996, 0.634078963182624, 0.6575622294728147, 0.6716404413494523, 0.6283201034321815, 0.639657398843136, 0.6533500549155847, 0.6234458206037284, 0.6008277666443004, 0.5921098737478395, 0.5855989817188678, 0.641907674994449, 0.645348621672591, 0.7308846171129962, 0.6496986390787395, 0.6367301342515803, 0.6109085766154636, 0.6153898807461895, 0.657811210509773, 0.6275115672792614, 0.6157094223274892, 0.7085431397169681, 0.5960412501570125, 0.6190143832118817, 0.6653489984025368, 0.6145286508855284, 0.6315660931295224, 0.623043043539404, 0.6237014049239994, 0.6249957646775389, 0.6223197675747192, 0.6247855602564524, 0.6744338873063316, 0.6675999128337613, 0.6567715270585157, 0.6294996039411229, 0.6599444593787959, 0.7015495079106949, 0.6146609727433642, 0.6633725419056895, 0.5999662577713121, 0.604777575211501, 0.6245684568852493, 0.5875060178715648, 0.6221619449034765, 0.6104017129282111, 0.627841957242909, 0.6981815222032646, 0.6723066844922548, 0.6119848948198796, 0.6760630364334805, 0.6836211073300325, 0.7079793159937247, 0.7092286041513428, 0.6351697153486053, 0.6663647686488785, 0.6439103043728227, 0.6772363299926525, 0.6775112835654129, 0.6743419237059897, 0.6486306070817965, 0.6558555343230547, 0.6345765775473063, 0.6753544229632841, 0.6284326230401083, 0.5984187705416495, 0.6670790066624446, 0.6608404635909823, 0.633296804155212, 0.6763443395526155, 0.6453046358164827, 0.6330959370386691, 0.6804461288316942, 0.599994561734628, 0.6586233527359362, 0.6206491710670086, 0.6895367550422625, 0.6016734258385137, 0.6958338042892352, 0.6117820423430095, 0.6231896089978072, 0.654366778427982, 0.648535722685713, 0.5997313467085165, 0.6827932156123409, 0.6466482051232146, 0.6204173852514465, 0.6826791450552107, 0.5832286594810906, 0.7289920296203324, 0.6478858501389692, 0.6145063843794337, 0.6248255954770909, 0.6600066130366572, 0.6339313837036056, 0.5930355788725005, 0.6042263539117686, 0.6017604031049494, 0.6624301648348637, 0.6418571673735212, 0.601454122594112, 0.5838284999475583, 0.6873988748100959, 0.6244193825093148, 0.7445775534254148, 0.6214731951201775, 0.6349781147154004, 0.5984535847440136, 0.6453893623710987, 0.6602782345223557, 0.7535901882462828, 0.6425422454064298, 0.724357917177423, 0.6713366557271586, 0.6263542538007928, 0.671578116184034, 0.68298072129733, 0.6148935136991592, 0.664153562852658, 0.6104730165390482, 0.692853727516395, 0.665047282353112, 0.6937255402761515, 0.6703945242282724, 0.6480629522246852, 0.6538199431589531, 0.7608776035972292, 0.6098206835095406, 0.6170140514991622, 0.703011477295086, 0.5894386554248207, 0.6431847826959755, 0.669389908956507, 0.7987619659967472, 0.7007371967492564, 0.6113107275512308, 0.6576076783816241, 0.613448557165072, 0.6996990195465508, 0.6282405575629403, 0.654114032786818, 0.8363722103015256, 0.6610308967767154, 0.5988946856000099, 0.6952392549000188, 0.7180033361678922, 0.6173278661008842, 0.618288482362522, 0.6238374650975542, 0.6017813039271123, 0.6024739011933684, 0.6295086460183978, 0.616034917331351, 0.6641686931048082, 0.6823270032801947, 0.6470279464667955, 0.6574389802185827, 0.6360080401933282, 0.6584092609850987, 0.6696569216581373, 0.664093713351556, 0.6335979145704604, 0.6167225665906318, 0.6001528491356464, 0.5926783662293861, 0.6418401295856884, 0.6043013614196675, 0.5849820677781608, 0.7115132861223138, 0.6184669518604653, 0.6806259420020149, 0.7389682850771487, 0.6314066461435113, 0.6674241598497636, 0.6253752203580988, 0.6301516002352373, 0.6673682941574288, 0.6604406876658244, 0.6189137080892552, 0.6661539219304343, 0.6457036986214311, 0.6778675594320143, 0.6445309734734685, 0.6480328246090988, 0.6086561232837902, 0.6795989865891933, 0.605903070827517, 0.7020202706806599, 0.6304021798813721, 0.6069840868825741, 0.6050852575580427, 0.6321202194682901, 0.6630077822330259, 0.6155037032314508, 0.626391915687791, 0.6644619018806537, 0.6011444757605489, 0.6720398118126711, 0.646514905011021, 0.7273223413689106, 0.6331345103479104, 0.636818735429241, 0.7073634298625932, 0.7011079102345151, 0.6288952757817345, 0.6421224766128256, 0.5856953100988729, 0.9416097877148768, 0.6793453826245925, 0.6053157863531575, 0.5914616986233727, 0.6177017756750937, 0.6519678082072783, 0.6463728482335684, 0.6379111734298586, 0.6215221128462677, 0.6129961356553754, 0.6351147434579295, 0.5839632739586539, 0.6109472217605134, 0.6111914490262789, 0.5941723764738878, 0.6394196496013344, 0.6276522560167342, 0.6719321592778795, 0.6983796924924839, 0.6151434768305595, 0.6258275184135316, 0.6043812562358494, 0.8114354667165755, 0.8014748265211423, 0.5898185430803415, 0.663267380009364, 0.6345352095885389, 0.6259105263489021, 0.6877700780100245, 0.6033501993343905, 0.6073766355506804, 0.7292087820715117, 0.6297541966275679, 0.6828426476328834, 0.6300697748177306, 0.882262418906863, 0.6528012808118338, 0.7602220404691292, 0.6376897054429751, 0.6485343126696704, 0.6297923401630557, 0.6399296643948948, 0.6325289990426555, 0.6634375511108231, 0.6963878826901724, 0.6677218709036515, 0.5998940446448895, 0.6224196259908464, 0.7347293857191535, 0.6245720231935065, 0.5944614174738365, 0.7337409885317262, 0.6509690258284664, 0.7185886006622462, 0.7281430104986817, 0.6463657795872062, 0.6492520858283469, 0.6077384195157113, 0.6651339513238478, 0.6971891417280982, 0.6067166234755857, 0.6688727541522402, 0.6613816783743635, 0.6379948998258099, 0.637666180190064, 0.5992731917294082, 0.6686568619861826, 0.6100559862238123, 0.6079720751945935, 0.7290928898648177, 0.7826301315308848, 0.7308061720656173, 0.6994392034474508, 0.6015613342417403, 0.6529056146483365, 0.6871321106256486, 0.6855015057205295, 0.6729775634992156, 0.6769628302254103, 0.689277977189489, 0.7024471647630645, 0.5854959352395012, 0.5929419004816455, 0.6006373260980119, 0.6460050304001017, 0.7857782598965828, 0.6109145489201097, 0.6446708425156649, 0.661940191911379, 0.6398081144200775, 0.6346301254733528, 0.6848558811657046, 0.6027640301825594, 0.685318472208484, 0.6781785084289499, 0.6777605488191472, 0.6304634486098473, 0.6275292993466773, 0.6941599990635895, 0.7084410942206578, 0.6237614932310037, 0.6081235369019354, 0.652539485098264, 0.6403697466422985, 0.7292171058522766, 0.6294801324165846, 0.628769099811354, 0.6880700039378236, 0.6482015637840756, 0.6935488893399715, 0.738623248165895, 0.6320327804377321, 0.727277754958945, 0.7230923283278708, 0.6805755378667518, 0.6879101518923115, 0.7275281626250003, 0.6795846347738765, 0.6239674087439944, 0.6124178476231467, 0.6345785406941292, 0.6728347859436198, 0.6245313310159065, 0.6400887023635723, 0.7098685179897978, 0.6322858932205762, 0.6653464906434078, 0.6024373965811596, 0.6526109958750692, 0.6298863347069026, 0.6475818657471001, 0.7140514958533882, 0.6608525700146538, 0.6226624995977935, 0.6189606860249657, 0.6602393197769796, 0.6873954519913394, 0.6352024942398693, 0.6346042387168919, 0.6318054062241678, 0.6565359952359553, 0.6397609223565623, 0.6523885211632519, 0.6140636850274056, 0.6653764358727144, 0.6265094141719119, 0.6271421551055631, 0.7133275277410748, 0.6163708597705541, 0.6500842138964312, 0.7097614384192321, 0.6370533251758353, 0.6114717255664704, 0.6271103417904268, 0.6650695961502578, 0.7537600015175543, 0.6230968631402654, 0.5971855881955404, 0.6130990179095549, 0.7200555573345816, 0.6579853769099494, 0.6519014174853427, 0.7200807299413934, 0.7176065754835411, 0.6624849635187113, 0.7662166290435156, 0.6292561366554976, 0.592302688929943, 0.6113392387105312, 0.6251213716270405, 0.5968691216878951, 0.6479723212590082, 0.6074998909066357, 0.6620151718605513, 0.6235382096233657, 0.6683719505262591, 0.7312106392696323, 0.6027964241551479, 0.7713152676672856, 0.6128517564501281, 0.7457791463708148, 0.6657817543392085, 0.624158353444453, 0.6461159341481248, 0.600095415870668, 0.7014839211202166, 0.6463561010831296, 0.60440566158057, 0.6856590287251092, 0.6410926673731343, 0.6247617053367581, 0.6256086301937864, 0.6298903582602099, 0.6713944539498865, 0.7569196575364513, 0.6330294526590861, 0.7033634590648129, 0.6031337836244454, 0.6375274992336111, 0.6269715508907927, 0.6406243248589286, 0.6553886087598104, 0.6258626363256872, 0.6263054072019543, 0.6755793973125556, 0.6947248936906739, 0.7375145107770318, 0.6484272293884784, 0.6747321621387613, 0.699415042568843, 0.6346906296972503, 0.7591048234177231, 0.5970602490339025, 0.6046031184699009, 0.862274741354433, 0.7489058197930893, 0.6517296825448358, 0.7337151878705177, 0.6814282605405992, 0.6324946247670151, 0.6439759616909285, 0.6487375565210913, 0.6477155296476999, 0.6279774073023209, 0.7343585001772752, 0.6651601175181441, 0.6264855500226945, 0.658234246110093, 0.8157668420639627, 0.6660692631444262, 0.6834892220448098, 0.7036802224790561, 0.743613536247127, 0.6312596120194689, 0.6702763131866459, 0.6031070727726218, 0.6411669904613166, 0.6607204654236513, 0.6373162273371518, 0.5954889959258208, 0.6061048898640542, 0.6822914797366465, 0.6717004898645027, 0.7689963606760389, 0.6465296222024391, 0.6241311230834569, 0.7727974346463058, 0.6838666308214187, 0.723762510707165, 0.5875265078048143, 0.594244951188427, 0.6380210787187751, 0.6354176431677818, 0.6247082511920912, 0.7130447636494761, 0.6741478830293245, 0.5960168779882813, 0.6476259221418073, 0.6819413288303732, 0.6237349975498525, 0.6977385873882626, 0.757063443629696, 0.6475809944619811, 0.6691250636609836, 0.6205632633096477, 0.6861007152403107, 0.6493585933868382, 0.7653860963388514, 0.6424825607867445, 0.6328195858196922, 0.6467466116462005, 0.6906406838249161, 0.6222946316943755, 0.7235644623280003, 0.6110749700830548, 0.7172255648577194, 0.7288310966552677, 0.687100856524987, 0.6470904494121105, 0.6270047084990347, 0.6393998919879583, 0.7726538155787464, 0.6891430111742654, 0.595406533592433, 0.6273286923981642, 0.5999903399130602, 0.7566283561399668, 0.6261007560635428, 0.6375146666070148, 0.7014464986732303, 0.7108194857828285, 0.7019148962634555, 0.6741775510734686, 0.5898313454010465, 0.6684412456779042, 0.7212113875485664, 0.7194429525074578, 0.662783292408172, 0.7178256338782671, 0.6015248945974464, 0.7045225840819175, 0.6152646445627846, 0.7123913875014037, 0.7476380584668557, 0.6156820822298963, 0.6454412500368935, 0.6344672014352555, 0.689452896842713, 0.6206503584906021, 0.6466564758757273, 0.6140727760423375, 0.6989251047397078, 0.623746294401992, 0.6846795575801954, 0.6015920166883921, 0.6174050944351993, 0.6815628503347191, 0.6981454939420463, 0.5886460366981382, 0.6968823964481379, 0.6132680320284701, 0.6205840012442535, 0.7299695584432128, 0.5933090316826352, 0.7143094079764453, 0.6870265944331042, 0.6698048287826737, 0.6071940867174752, 0.8018386188820081, 0.7364638369431339, 0.666708548642751, 0.667353846407596, 0.6764176170263645, 0.7217160002103593, 0.6470752394295388, 0.66398327142039, 0.6069937541779584, 0.681389129575696, 0.659099228552457, 0.6327820500222664, 0.7938187155999296, 0.6745711275003776, 0.6839767426762461, 0.6876482132078326, 0.6331689751607004, 0.7916837535653314, 0.7123172769318997, 0.6118848666063851, 0.8747019830494591, 0.6059202210032762, 0.7314021771513054, 0.6891467248071498, 0.5946111364363824, 0.6254327039739819, 0.6831311650560136, 0.6394377671775796, 0.6634596571763896, 0.7154660865759215, 0.633417633517968, 0.6843131432448686, 0.6920413980594797, 0.6300129368881225, 0.6826254984881311, 0.736554273398864, 0.6280126348669054, 0.6336178402549724, 0.7713778090732129, 0.7068170615612649, 0.7458743063899402, 0.6681841002102646, 0.7210597400514176, 0.654724445320117, 0.6507281137997142, 0.681503239885113, 0.6753415664842656, 0.6565720953255377, 0.6409049334795824, 0.7000162207456152, 0.6919749389816295, 0.6336947168746573, 0.6879571305431601, 0.6986961572909854, 0.6176070048145607, 0.6181752190578247, 0.7195471461876073, 0.7206566186758233, 0.6920850638897045, 0.7164680527877949, 0.6279549405722129, 0.6404931102744503, 0.6736034189816786, 0.6728174458377378, 0.654289569749778, 0.7485043478531415, 0.7162216477260299, 0.6289997388778381, 0.6883873353903017, 0.6474055191123829, 0.6976255113836032, 0.6155910900907955, 0.6690910215466425, 0.7276922315171417, 0.6977704177598842, 0.7151868252233659, 0.6958374374264616, 0.7149980489803471, 0.6619058579665644, 0.6490097166203571, 0.7018843396267259, 0.6189550629821201, 0.848195852577544, 0.6564468544769781, 0.6905576874584972, 0.6294803537177924, 0.6299039332188853, 0.7390776612337754, 0.6539787948810186, 0.7528888325319293, 0.6191362350531101, 0.695833984734444, 0.6541443785311148, 0.7017958585508866, 0.7758295338676269, 0.705220370488445, 0.6818559758732599, 0.7055584558750474, 0.653607213833246, 0.6585745762040953, 0.6845056723920301, 0.6449179071797259, 0.6231917386859253, 0.626583849051913, 0.6412704449597446, 0.8094907428771333, 0.6762905866654983, 0.6532752917994391, 0.6447183801467388, 0.6982503868458764, 0.6505733621538802, 0.7013419982367912, 0.6396694770817234, 0.6553455223300365, 0.6864467033274676, 0.7491700697556608, 0.6283698728841529, 0.6119274336392919, 0.6623771639983691, 0.7303644526252446, 0.6960033395840586, 0.7361149375157816, 0.7443084892709838, 0.7202181972981143, 0.6379609708616012, 0.7027335927392332, 0.7170772512394905, 0.6818240097613296, 0.7221306734362676, 0.6753330685868802, 0.752029819882074, 0.5972637762629173, 0.6812153439047093, 0.8350525371237255, 0.8633410977087379, 0.5795431892206379, 0.678563077720753, 0.7231842756423772, 0.7134368896242819, 0.6775434303318216, 0.6399597773194792, 0.6618464636737612, 0.6476168150873867, 0.7613577406636745, 0.6384325475393414, 0.606134998326155, 0.8436493889453324, 0.7584110014814971, 0.6374988174295374, 0.8287178437966625, 0.6711947882346065, 0.679426096696001, 0.6303820795014051, 0.7023303165064638, 0.7119842784192064, 0.6187709136765419, 0.6403166552355742, 0.5780843292690014, 0.6632163738251345, 0.8084906264696226, 0.694816619190563, 0.6951575364034904, 0.6675467313059076, 0.6662558589236939, 0.7459360440985077, 0.7975859344182472, 0.733965270800251, 0.6717065137135924, 0.6083529778195278, 0.6545533105889692, 0.6469134193656751, 0.6731339223262858, 0.6524961692089463, 0.7103137979639133, 0.8025168141637105, 0.6082566870035137, 0.6896435579915017, 0.7210326876105436, 0.6147191707934412, 0.7758979608087943, 0.7149145173860985, 0.63791609220392, 0.7417368495111337, 0.7462811248628206, 0.6540629534766215, 0.6098767049896375, 0.6967219159523892, 0.6843464685563933, 0.6940119544990453, 0.6368266444090525, 0.6623419661743376, 0.791699776903457, 0.6676822704912617, 0.6738498680571426, 0.6213955713573682, 0.6432421170444121, 0.7442246104252503, 0.7090764976239905, 0.6776891860620022, 0.6792202031377834, 0.7185521046126565, 0.6698672202864736, 0.7333959312777322, 0.8578570288416967, 0.7371929600366687, 0.6092768398654317, 0.700214306478722, 0.6150867846394703, 0.7128179598424079, 0.6375184558428756, 0.6227850998060729, 0.8038757135750544, 0.6189627763471678, 0.6987837392241519, 0.5958822135275526, 0.6927907638499071, 0.5984892162931702, 0.7393997924729451, 0.6647848404417027, 0.6699720481387593, 0.7171288033796798, 0.6758740553776001, 0.7435109340866425, 0.629209561015587, 0.6289373756867374, 0.7973878372278148, 0.6846939512591628, 0.6498707344203405, 0.6474728905023608, 0.6321490193204243, 0.7942627701078969, 0.665656251850441, 0.6538692175244656, 0.6035300560938152, 0.6257714699269697, 0.8131327588465154, 0.6940526748695456, 0.6361313859554252, 0.7154973096946102, 0.6469214323901744, 0.6957129398541315, 0.6380644497801236, 0.6681677653019861, 0.7574300435240188, 0.620876563325243, 0.7561515464227416, 0.5966624125044233, 0.6749629040988582, 0.6518471305834322, 0.655677662264185, 0.7711128107796994, 0.6475388965276262, 0.6592029559744995, 0.685893826804468, 0.775387686732434, 0.814247112760414, 0.7281892031393191, 0.8587234531763759, 0.6035394654717076, 0.6792094653898291, 0.7258679191511515, 0.8325448711820127, 0.7923586064932879, 0.7998925822999119, 0.6400108127213853, 0.7502698984815799, 0.6804598859374208, 0.6632600607214083, 0.6476158910207634, 0.6670073629737263, 0.6139448398557387, 0.7303303331490396, 0.7340911061833384, 0.6287039659594137, 0.7310064943858515, 0.8759948301219749, 0.8716996548072887, 0.7401265493207524, 0.7465968568248842, 0.6219239042791975, 0.6721991941128473, 0.6697040802969884, 0.7283593870534384, 0.6352869179687919, 0.5958276347070959, 0.7662625556424378, 0.6872694141745419, 0.7391672562127817, 0.7889554975562603, 0.6556773950827198, 0.5921632173721028, 0.8004638310455872, 0.6802407193282606, 0.6096860726842074, 0.83710378826991, 0.8597781010432841, 0.6476407244866849, 0.6266776563629574, 0.7305362596182904, 0.982603117674585, 0.699654648204416, 0.700128596724819, 0.7299977285044467, 0.8479247394094671, 0.6460074716611243, 0.6605070923901495, 0.7487478897814309, 0.6398723124156478, 0.7315659690599757, 0.7270663735369487, 0.7405527437814625, 0.6240080426518597, 0.6453470832184868, 0.6985986796678617, 0.6688538336239893, 0.727949720285133, 0.7564946025883341, 0.6036017799116915, 0.8182751537896217, 0.7030520364056421, 0.8358584985361956, 0.6103867695451022, 0.624873432164172, 0.6779120328437183, 0.7229285581021901, 0.6911284588513212, 0.6042098831844184, 0.7520463007510739, 0.6420952819508061, 0.7336490873635451, 0.5965484528975733, 0.6944193701667241, 0.6266179064342687, 0.6317688299801653, 0.6603820350737786, 0.7170912299579145, 0.6361813069785965, 0.6722064539374902, 0.7572681629124762, 0.7039134520974101, 0.6448758209650175, 0.8310422981291212, 0.7374461342193713, 0.6517974552309617, 0.6603615556603653, 0.6131287142275317, 0.9863243721174715, 0.7439517813175082, 0.6603699864718773, 0.6628552697398112, 0.6692430750063539, 0.6952923375800736, 0.7404251591104426, 0.6974133088711835, 0.7434155159729053, 0.7075221710835894, 0.7110516760614071, 0.6375136670970252, 0.5992521066686496, 0.9176446838827481, 0.640151373824953, 0.6693099025365763, 0.5967905045740789, 0.6526310890940777, 0.6778039952418736, 0.7424485679834948, 0.7333319091026193, 0.6856890757003751, 0.8418430114362675, 0.6574060472658917, 0.7611485569595132, 0.6528545445202405, 0.6637681604093025, 0.7283912296421149, 0.7135154872941919, 0.778978189490007, 0.7405872167047386, 0.6889306141027173, 0.6405974333093939, 0.5857620600590743, 0.627947575694802, 0.652613863700299, 0.6871946036191463, 0.6230304738489472, 0.6601936422462147, 0.6486290948438126, 0.6345100060620632, 0.7336468881619415, 0.6435615082304937, 0.8327377986202101, 0.7296431835438658, 0.6634112254750638, 0.6105461364577721, 0.6798100438351851, 0.6568153773451304, 0.7154812191159791, 0.6596680539440557, 0.6014984487430909, 0.6885366504958533, 0.7409003041032446, 0.680990612599494, 0.6415510911452255, 0.6965606630940386, 0.627041324462377, 0.6794392971197797, 0.5859207513910527, 0.620732717267202, 0.6218050217077868, 0.7086106453492427, 0.7212640363409698, 0.661010471979122, 0.7273436103343561, 0.6175521294562513, 0.6092741932674501, 0.7168953655147471, 0.6721812825066257, 0.6091232681473338, 0.639706049738118, 0.639755357581415, 0.6418376729266053, 0.6195952521514811, 0.631575325423933, 0.803647581004506, 0.7759363105548073, 0.6797336648396872, 0.6154936576308907, 0.755436687831302, 0.7239703207472182, 0.8977313468814655, 0.677849415048568, 0.7518064935859817, 0.7847368118186394, 0.6228838701494239, 0.6483114128350659, 0.614359791628472, 0.6286247219457874, 0.8551066000043249, 0.6762443450312008, 0.6653201185800223, 0.6323272269476113, 0.6574820513424285, 0.7996947165384145, 0.6990882172681904, 0.7333065518621508, 0.7541273188696537, 0.6175674542180294, 0.8467759885274968, 0.9079959132155151, 0.814260235323038, 0.6381917794638728, 0.6788664061191728, 0.6634403660466904, 0.6906106693142011, 0.7197028368893725, 0.7738591383039597, 0.629319287722203, 0.7753988946755834, 0.6894517547668182, 0.7742979648188376, 0.7143998473511604, 0.6613251115269079, 0.6989998455475896, 0.6383091554012956, 0.6837733827849674, 0.6232475220019928, 0.6685382511073834, 0.6037437298149584, 0.8632442043588523, 0.8771199224446461, 0.7459862682334938, 0.6684055625266098, 0.6525762387251929, 0.6239891202276758, 0.8176968179863741, 0.620884439139048, 0.7583257102293339, 0.8630956486357149, 0.6474611079004179, 0.6824811064778614, 0.7205160000385438, 0.7008009851899236, 0.6807007452110188, 0.6533815993401723, 0.648276704486597, 0.7344218978695439, 0.7310034856246977, 0.6643702051627098, 0.7001304780725298, 0.6730723691060188, 0.6158120790028813, 0.7419413765842066, 0.7558714492141008, 0.7642297826047345, 0.6693543250755714, 0.6202768709658635, 0.7727878166172643, 0.6243088137939914, 0.8340288566173276, 0.6137250243383333, 0.7327591778449097, 0.6671203600947775, 0.7060584443305271, 0.7249520080625129, 0.6941545258096683, 0.7039245526027962, 0.7402922975362971, 0.7817822174932351, 0.6538406689455544, 0.6869359779700179, 0.7320488659777838, 0.8001916160007148, 0.6713656961216133, 0.6829206846986148, 0.7240502865854653, 0.6808600181421398, 0.6685331249843266, 0.6931617616148513, 0.6953288053304053, 0.6534192914714403, 0.8210283286647051, 0.752223384645188, 0.7799501329696155, 0.7004324176289364, 0.8203400171806678, 0.642535936989112, 1.141289981262176, 0.7073008922341762, 0.6231960575041594, 0.7270053517150737, 0.6606985535264861, 0.6683973798677924, 0.8298804712872684, 0.9104940082383931, 0.710166927208944, 0.6526411340892737, 0.6610240436316087, 0.70691914290775, 0.6589703538962576, 0.9508281522637414, 0.6539047812729417, 0.6790428142892814, 0.61750098836303, 0.7286003353804489, 0.7312133889673559, 0.7440001328664009, 0.6477671443754202, 0.7624788313033918, 0.8022339181247918, 0.6669798618824377, 0.948090754117049, 0.6634230290300822, 0.780893409336461, 0.6315091228610684, 0.7359679114990453, 0.7743816656701968, 0.7470527674758627, 0.753421190841967, 0.7023528504265587, 0.7929699842095583, 0.7795981756178791, 0.6587443724493826, 0.8661201526826181, 0.7141887584790685, 0.739764344441696]\n",
            "[20.49918444795121, 22.57531945063115, 22.489396559889705, 22.82089103535543, 21.877835646715106, 21.600292700817235, 21.553326273532125, 22.423203240104563, 22.30473258180643, 22.574804800964188, 21.457593063499402, 22.220558523945943, 20.77923168732464, 21.25687351656792, 21.745628939712358, 21.936234011881496, 21.01387542985531, 20.924986469170502, 22.010564671069222, 21.05490746396843, 21.921334910291645, 20.73889689296118, 22.273693021435893, 22.775952367230367, 20.59088101664842, 21.949989756111933, 22.536648645080536, 22.174195916980167, 20.95671684957523, 21.270725930378198, 21.851001081217593, 22.39504272732932, 20.368022651556707, 21.715934523736145, 21.187830889520008, 20.24697588519917, 21.33290975665947, 21.997610307793103, 21.64166543406528, 22.295356561423517, 22.706294107126425, 21.33967214096214, 22.779363832257083, 21.742735694492787, 20.865773642977526, 22.30625496624723, 22.11526960899678, 22.6783311879997, 20.88077087199788, 22.31627541432618, 22.963251872721646, 20.85768172726602, 21.328755195357708, 20.296275223955938, 21.84280484518375, 22.97574597451051, 21.728112425943756, 22.094474788110354, 20.15958145555665, 22.061339550123748, 21.694862230661627, 21.892388858656986, 22.249781196496276, 18.9757350662905, 21.00232454996528, 18.348871690407208, 21.956233325154717, 21.801801718816836, 21.216641422279825, 21.89121796966643, 21.930196488913857, 21.549826924216852, 20.25152295599658, 20.868081043091692, 21.505450579006023, 21.752061564042002, 21.310755166819973, 22.72148642044923, 22.525715566532355, 22.295144465442274, 20.621104551170653, 22.034799014331043, 20.527821362951094, 20.931959485399908, 21.59171955228093, 22.730351701992134, 22.38642718314976, 20.914962196770816, 21.98546352566827, 22.10736734142067, 19.141230824331522, 22.399352534537186, 21.886263423197583, 22.022950240513772, 21.218067325556824, 20.443747030479365, 21.107544419200476, 21.868709610319748, 21.24609064373627, 20.46103886474452, 21.033920397073945, 21.97337881613629, 19.412388653742106, 20.86244094496973, 21.435376559427645, 19.756547271469106, 20.82236224876017, 21.526949762983882, 21.699698715307868, 22.273469489447784, 20.769484613353086, 20.959978472233665, 19.402459648650773, 20.95822812276269, 22.348248456018784, 20.70347785428348, 20.678376833910693, 22.393820519057293, 21.12721503843522, 20.044448086753984, 18.835401158862876, 19.239908991858535, 22.05420960940353, 17.73719978030841, 19.359902207124, 19.39919613170551, 20.044463809324185, 20.88924618996564, 22.347484191366597, 19.663495276106403, 18.067512936101203, 21.59726158309242, 21.013447186643084, 22.289050314575064, 20.15766645808984, 20.77486031086021, 19.293356479336477, 18.725600635983696, 17.63425152613446, 21.625672013496832, 21.33202395522744, 19.35610253131873, 20.752152407789126, 19.586102329502587, 21.360595487069524, 17.3214581862273, 22.644451569876946, 18.92553447428592, 22.71666371412784, 20.7636713088026, 21.308427549624177, 21.217112327541265, 21.772383432012276, 19.618108234866284, 20.48185724399897, 19.240730219737113, 20.39061714906194, 20.47469222624342, 18.13425258885174, 19.43434547178351, 20.576923685550774, 21.50745976643983, 20.67994850567939, 21.423429189757048, 20.03447267783963, 18.58015999303205, 20.520047763945648, 20.83344363417321, 20.34355206371131, 21.667149855812696, 20.30147994504179, 22.262055740147236, 20.070033092788687, 20.33269316248364, 22.172479023985726, 19.52940945228342, 20.773518344717978, 21.301157553891372, 21.309334762472144, 20.624071583552585, 19.132481090308396, 14.865490474815635, 21.185009203461615, 20.440549236141493, 19.46928348327397, 21.84722274513894, 14.571463441929545, 19.46978294852849, 19.773626455046912, 12.509344382072518, 19.5026018237377, 22.379977960308416, 20.820483588393333, 19.409750922077308, 21.55843431985979, 20.821556244087468, 20.635539352276577, 21.573805130714263, 21.742166628425363, 16.50210128503967, 20.225507360513117, 19.212747006622678, 18.945315815849895, 20.282937966588165, 21.882302821680977, 22.0620962663598, 19.200328233450914, 14.866545663196051, 18.178314460802035, 19.449138350155838, 20.086711387057033, 21.2890079988033, 21.890360222529313, 17.241214000157502, 18.134456460759342, 21.44388773491055, 16.947411145771476, 19.939402986440356, 18.424429984241243, 20.69354837210644, 21.245688283421103, 20.607101346576485, 21.320572016331784, 19.22443729567075, 19.295894093873134, 22.572600078025886, 17.727256541202774, 20.971262066169103, 18.934060826485233, 22.170286267730866, 18.91929102757326, 16.232830586167402, 20.371811666529283, 19.7454805586063, 17.709820141059364, 19.668420764530392, 19.26746972208766, 19.326098842096673, 19.269761151441234, 21.889450569697424, 21.47002317925325, 19.628573738312294, 21.378532317101527, 17.434388372313258, 17.828999563639957, 19.811357217945258, 21.8451449918563, 19.95417054480849, 18.176177383692583, 18.98661002762726, 20.003882414080532, 21.192524232849863, 19.101842738604113, 21.796946611759203, 17.946055610835376, 16.657407981018547, 18.473641326958123, 20.281793424556383, 18.03855590812131, 20.551605699798948, 18.06653717785184, 18.101794777830584, 21.717731992768208, 15.738815000739304, 20.749348084576503, 10.653669560421442, 16.27250280654321, 20.651840910747733, 19.520100410101936, 17.388428742910822, 18.15413260739701, 21.858025424461413, 14.805423809291096, 19.463633351852692, 19.677058154861648, 20.56310603232252, 18.887922972417403, 20.972248242493595, 20.72520695259086, 15.86309584089809, 19.21745245706368, 15.806131229449461, 20.084327383786004, 20.764235726858114, 19.247194711348968, 16.94786979034053, 15.494612347634595, 21.872914264620825, 21.834107157248596, 19.5023084309784, 21.933421511976636, 16.896756003459533, 22.38605765349272, 18.61993367755218, 21.2950220081621, 19.62154225716628, 18.461999813087903, 15.191168204593886, 22.30348187535699, 21.087510994504978, 21.028874995177173, 19.526397873694012, 19.95113461172897, 15.12385281997779, 17.688304140272304, 22.3127145987155, 20.53455566022161, 21.319854302056896, 18.72199549773681, 21.24303353054048, 18.714219261491436, 20.72471329582154, 19.02121914294038, 21.7206203275353, 19.476652808018013, 19.60914290654404, 20.703721871985124, 20.937856176689408, 20.284395780074473, 18.8027338192568, 19.2258873129875, 18.940550329587815, 18.137019543868625, 20.236830514579076, 16.60656263418242, 19.648284655229673, 19.0853131482025, 15.150574027366414, 19.502953280988045, 22.583265703137844, 19.144848952047923, 19.752805178192933, 19.18014322793715, 21.974938993429262, 19.632055982164232, 7.399505770646309, 19.641854147231307, 20.748049929788316, 20.078167996592455, 19.658230802249133, 16.988525654864382, 18.060093356184304, 18.547638992240255, 20.104921980514046, 16.18371396330307, 17.343879979287845, 20.861825323147464, 11.090242993051492, 20.101377022394075, 16.159433176828063, 16.70673033803788, 21.219318733422487, 21.140688985775224, 12.871090993736056, 12.027793552283061, 17.5498740531291, 21.2350165397008, 20.69387007886049, 18.571380107064638, 20.5981050324173, 22.78966826858194, 20.662716871235077, 16.02466624075145, 21.606730951066268, 17.255483630723887, 17.11590368977346, 21.716022167939098, 16.57900078145206, 20.234399745564158, 19.92298960791623, 17.995769408373075, 18.95579579053519, 22.13848185873757, 13.8499566815811, 17.652272134830582, 15.581793720676584, 19.225385026517383, 20.451959046534096, 18.629207415853767, 17.786632632847265, 18.71399947858491, 13.319021896739347, 19.716277891144273, 21.103333342549835, 19.14896732179906, 19.82782080593022, 15.799533009095224, 18.358785529353515, 18.948427566497895, 19.685646271759914, 16.297585799933767, 16.667849135443703, 19.05890857134206, 18.843583580605983, 21.7317131150911, 16.73995011312426, 19.027208274981167, 21.92192450384376, 20.46466514666757, 23.125614006645666, 19.780246842306337, 19.605692395085505, 17.683049793978533, 19.017092698182235, 20.78889369555046, 9.11312739302279, 12.342808846930964, 16.320698945859668, 18.203931219934134, 16.161524425455553, 14.93130459766232, 19.016140984033115, 18.206971489266554, 15.363765517944582, 16.947184263944813, 22.21845471798315, 17.211671447543907, 16.076844348922215, 19.971033496327685, 21.00644992872346, 19.508788719288404, 12.879442444454392, 12.702832294674614, 13.94705789158115, 17.433982689648442, 15.937679308884455, 20.229662730554733, 16.389799169616836, 12.235045213179262, 14.285416988169397, 16.93260974043903, 9.99424311287912, 15.252820804753675, 17.517854091507658, 18.30136159062643, 19.788066558077578, 21.083825196564543, 20.040356526456684, 16.208281571325045, 16.37110281083999, 19.151903994957074, 20.89185610467952, 21.6723328911673, 18.76949766392151, 22.379411194020726, 18.340967005644615, 6.585064981330701, 20.727738174673625, 8.570430672223084, 19.888191139407454, 20.233777315466362, 12.831091644230098, 16.727451672767312, 18.46663201920724, 17.288599085387425, 12.434663900179855, 20.4993765520312, 15.84593325603133, 18.713475432715587, 16.658321520308927, 16.46016312178634, 17.881177661585834, 21.35691358853016, 20.23017922325424, 18.974227386325047, 18.379324486348803, 4.792320006970119, 14.95502615336175, 20.29223702256696, 16.757131785049317, 14.85201024901256, 18.296436007448257, 16.52860411416741, 17.006858114232404, 14.888235106488212, 4.103463482545589, 19.356897273894557, 18.68355136058225, 19.12389684581327, 16.87761852825752, 18.478876302799307, 19.579938168104714, 10.192967566698252, 20.78141223130302, 19.2128995603726, 18.032976858177218, 13.452673424749173, 14.687222405343059, 17.463585265616523, 10.90333284670214, 20.701623304239135, 15.858709126242799, 13.388632038544667, 20.462060419231808, 18.65473711048199, 17.75434776681385, 15.64225620333427, 19.144033133941374, 4.9373527308612, 9.270201935494448, 18.666182633525676, 18.278686531512268, 18.709681522790365, 18.54243690793994, 18.87693107136864, 17.858326939794132, 15.7365566550976, 15.88748854609452, 20.83349538903805, 15.220691733181335, 18.329318578411645, 19.52541791393062, 22.11763520426755, 15.669880705698757, 17.461346627671904, 17.736689660503668, 18.898478032230404, 21.25895439833052, 17.44491897321242, 15.324542676460363, 13.605120096786539, 19.707869072559436, 18.507288044910865, 18.236041779180432, 15.579077982616418, 17.958185274604844, 10.117613022542294, 20.267573210334213, 22.166899668035366, 19.690806617376055, 12.374979046318469, 19.003971321139, 15.773468603750452, 15.00972453247389, 16.59869474008574, 14.02060137431823, 20.907547099962688, 11.326891621832669, 14.73708813646023, 15.473754017482921, 15.929875261999237, 18.746438975960434, 18.006483089728487, 19.025600521452922, 13.261479429945277, 18.239370343245444, 17.75048559529231, 16.670967302539275, 19.583886883133307, 15.065719427067602, 17.809568145093568, 11.603124404002275, 18.61916036916711, 16.214881474668065, 14.88436108252369, 20.56870163920864, 18.962769287925486, 17.85471876318293, 18.00382000167996, 21.43976128686259, 14.00364302375504, 11.511065351186534, 14.807252324235975, 20.646024281080567, 20.11128263875689, 11.059087849740234, 16.156191028036325, 21.087527830390762, 16.71923402949911, 19.371588193591815, 20.962889755347046, 19.17086811111034, 16.419609933719524, 16.76037608743285, 14.491290518317834, 17.554092288614985, 17.229879284217375, 14.788071962008576, 10.175604445977504, 15.953327149413099, 18.95686292516214, 18.26827753012631, 17.968636635595892, 19.201373897614125, 16.77825920630599, 0.22655266942883667, 13.289456045564641, 16.639819215500328, 19.03342065765383, 20.518038897365855, 12.870298143524195, 20.998341724909874, 16.778883122074173, 16.867623456634938, 15.613152392273111, 19.443668980471074, 18.762506397827885, 20.56119449842878, 15.560004927732152, 15.740491635092969, 14.44647086564924, 14.01359211176807, 17.33214286046906, 11.538485237529638, 19.84339837367225, 15.526353059512576, 15.261272746774669, 15.1177259514652, 15.55886799483236, 19.2163531370085, 19.982832235731962, 13.92385794071469, -1.4934374840454456, 8.714254036055259, 10.222220022039597, 17.0939768857304, 19.191991010396436, 21.47939155589631, 18.43453697528574, 18.245861237375614, 13.346173762808133, 11.425103889416288, 13.674183481135527, 16.01089320637309, 20.3643836574965, 19.202586783984955, 20.779399346275284, 14.574011123582453, 15.478353066340667, 20.708318682527338, 11.567130731283582, 18.81133679664582, 9.802176538081486, 15.594427543447054, 17.26363190424969, 20.35087964487743, 20.632207585764927, 20.64394465848096, 19.973961295058164, 12.829123999998782, 20.07436190996318, 16.356390410981803, 13.21021444745194, 18.379880838576955, 14.72686399675851, 6.789612921570454, 15.070399033513581, 16.84207281104659, 17.067503009770814, 14.125090686052655, 21.350361622777758, 19.912662914568223, 9.309417073460068, 17.88201510030294, 18.04936545752257, 18.848911365131414, 12.994589732814399, 13.045743876656735, 1.9997486686274657, 20.640909664284777, 18.067348077552936, 12.40048406538511, 17.25807171704966, 12.803908350263782, 18.359391645975897, 13.67632475466043, 10.676978680796811, 16.510112506566898, -1.0517911756246612, 18.741900843686878, 19.371672926099592, 19.195285238748237, 15.634363721731315, 17.21068948723401, 11.424033297707503, 13.004334734952561, 20.880933933570176, 14.899439366593658, 19.558380246767058, 21.049760805396712, 7.707554551869544, 17.958926550739072, 12.561587402567687, 6.666209796136169, 17.013622809262497, 11.368566741919938, 13.746797956646272, 11.416002099509425, 17.228682413311212, 20.113085597722215, 9.5963681327624, 14.768333447559934, 18.328078092959277, 18.142735922964693, 11.878388574430653, 13.84133122402652, 15.20030708468778, 13.396419479101862, 13.933191255543797, 15.480066380789681, 16.405788241105313, 9.236711944720955, -0.23200126305176205, 13.410660853186018, 10.047776585565238, 11.200894254736472, 13.690915469273456, 15.517481709521675, 20.312620419774284, 12.191705883376835, 19.330804363575137, 18.553476705252237, 14.26693252932183, 16.75156617686776, 20.863135948174317, 20.309008646161164, 15.945454212677001, 19.917582662181832, 12.795103026979804, 15.00307404454454, 6.4695573617536635, 16.307822628720736, 17.234085639938368, 15.765642131180147, 15.944438523512583, 16.23153773882986, 17.518376899470955, 13.304992309303953, 13.009693765038655, 17.518197891321265, 17.751760866256983, 13.55325375704879, 5.145556014426433, 15.091136333618094, 9.346710519394996, 18.217851475640067, 17.496940289760953, 17.793446405494528, 6.514997232361807, 15.083865839463451, 18.01466816396957, 19.7676349725015, 10.153936408193797, 17.052198277625962, 13.920386713161381, 15.756343099737824, 5.2600225669219185, 16.32632035412661, 10.717247337948487, 14.749258128416297, 9.859939539777162, 16.464338314617898, 11.974952254328453, 15.324363529168405, 18.4799952014724, 20.883887707569425, 10.785178526554684, 18.497523924112137, 13.725761804793734, -18.40123654693184, 19.769716281577765, 18.192755838310383, 10.402782815727562, 17.96351707725874, 15.589831303722235, 16.386231810427986, 16.429860527264704, 8.37045037437969, 3.4623392099169537, 3.3122703669110742, 20.500344495929024, 13.472393298163476, 12.075785097049907, 15.889690494205432, 18.17663909251882, 11.800531992170903, 15.697369450247145, 19.679573639551194, 15.726523099070999, 9.844873876668537, 17.18069278450629, 14.464459403923158, 14.725911287235949, 12.682092461791894, 21.271117902079784, 20.208493917091154, 14.588520508214808, 19.562396980707764, 20.842237271639984, 17.849186587871845, 3.231713019314908, 13.068471986471032, 13.979713226218193, 6.205924750941117, 18.383800168486363, 12.726077579158302, 7.368562083323427, 13.573417997978698, 19.200416226550466, 19.986991413391443, 13.834147246789186, 21.03082497206331, 14.977231130465718, 11.828392518834384, 9.94066461113695, 15.749428648352659, 14.229226428596009, 12.393197164016023, 16.403014473449552, 19.43583796347478, 20.604808132497197, 21.477844615737716, 13.927490020017807, 13.466098251649372, 1.9966952393615678, 12.882810450008652, 14.621739278318358, 18.084116133919238, 17.48322427744069, 11.795006996861002, 15.857844139867062, 17.440377389925786, 4.992432961540716, 20.07765532159408, 16.997219768064063, 10.784275471283722, 17.598705395153512, 15.314178391184885, 16.457022291457136, 16.36874352637382, 16.19518462196411, 16.554005362564915, 16.223370641288405, 9.566095316566503, 10.482453476637321, 11.934416709067875, 15.591271060771017, 11.508962614278495, 5.930199352084298, 17.580962540732546, 11.04929578211169, 19.551356493563677, 18.906213610062373, 16.252481731266755, 21.222132782588798, 16.575167585692597, 18.152080782853997, 15.813542607807019, 6.381807885068014, 9.851328992025588, 17.939794118464224, 9.347644969315827, 8.334193723887884, 5.068035302712659, 4.900519986097407, 14.830973685120608, 10.648072247562535, 13.658960223800987, 9.190319663021352, 9.153451519739452, 9.578426588206613, 13.026021379394415, 12.0572409047207, 14.910506710367965, 9.442661966870759, 15.73434105016136, 19.75885691022433, 10.552301062786961, 11.388818651992661, 15.082109749799011, 9.309925424165733, 13.47199625409793, 15.109043742905481, 8.759922187855562, 19.547561254372916, 11.686107971986115, 16.778013331598295, 7.540972725629247, 19.32244469483344, 6.696610124482305, 17.96699432578378, 16.437369532388256, 12.256866118171384, 13.038744296485138, 19.582855392212995, 8.445204576241338, 13.291838908941568, 16.80909317018, 8.460500139060557, 21.79567783757701, 2.2504696717232098, 13.125884805072774, 17.601691080077874, 16.21800237407148, 11.500628516486922, 14.997019858152715, 20.48068161604514, 18.980126109742034, 19.31078203379205, 11.175657816705309, 13.934262516867014, 19.35185076275834, 21.715246061252035, 7.827638121273206, 16.272470907608184, 0.16062839779266147, 16.667521089017246, 14.856665148326497, 19.754188722107635, 13.46063538788329, 11.464207168138408, -1.0478633071426602, 13.842401353460454, 2.8718513828768, 9.981398803958186, 16.01302669930026, 9.949021706139005, 8.420062198963063, 17.54978144644418, 10.944569766406854, 18.142519780556533, 7.096204486356273, 10.824732157948924, 6.979304322379476, 10.107727910150977, 13.10213743199392, 12.330190501076288, -2.025022725789638, 18.22999021186592, 17.26544147347959, 5.7341659047049465, 20.962988093141444, 13.756244419338405, 10.242435378800296, -7.104884344122775, 6.039121029255979, 18.030192272621605, 11.822298337678017, 17.743533664318733, 6.178328770683339, 15.760094843649652, 12.290756430702176, -12.147989847263263, 11.363283730199303, 19.695042120019945, 6.77633242759601, 3.7239283382834776, 17.223362508714423, 17.094554806317863, 16.350499406382134, 19.307979471532278, 19.215110064553375, 15.590058621168247, 17.3967322162354, 10.94254097187779, 8.507718341342818, 13.2409199187839, 11.844918840419494, 14.718563869231572, 11.714815237966004, 10.206632015916284, 10.952594903013846, 15.04173427178066, 17.30452628065019, 19.526336716274074, 20.528579763998735, 13.936547090210505, 18.970068457023903, 21.560565750546946, 4.594170148873234, 17.07062407882971, 8.735811289201656, 0.9127674120063434, 15.335558416427364, 10.506019950537626, 16.14430393596478, 15.503845781843562, 10.513510903751511, 11.442424051411193, 17.01071915564669, 10.676344391648819, 13.418486475979341, 9.105678982849408, 13.575735564802994, 13.106177202188684, 18.38614447759277, 8.87351431638519, 18.755297463682286, 5.867075425085966, 15.470245904582525, 18.610345519949533, 18.864956910890495, 15.239876358849525, 11.098205900791768, 17.46796197823436, 16.00797666909998, 10.903225013729456, 19.393370877270712, 9.887113579547558, 13.309712936132811, 2.4743558539303434, 15.10387150136051, 14.609858869272774, 5.1506186199612225, 5.989412572101404, 15.672304585616459, 13.898687568884016, 21.464928076845403, -26.25915066530169, 8.90751972031536, 18.8340456244374, 20.691721036085585, 17.173225492424603, 12.578540708313923, 13.328761132425404, 14.463375372699083, 16.660961778962047, 17.80419823716225, 14.838344789709513, 21.69717440100094, 18.078934260010328, 18.046186164623922, 20.328250002119542, 14.26110589473244, 15.838979382158236, 9.901548558651507, 6.355235505797574, 17.51626423678898, 16.083655916932294, 18.95935547191553, -8.804256480774942, -7.468648049802606, 20.91204948421864, 11.063396794957614, 14.916053682592423, 16.07252549798901, 7.777863998957657, 19.09760846202274, 18.55770921340668, 2.2214056361241963, 15.557133080499852, 8.438576305156243, 15.514817638606326, -18.301344281295417, 12.466781522580161, -1.9371191750393146, 14.493071707941441, 13.038933363580963, 15.55201846672153, 14.192718718322606, 15.18506367259449, 11.040578787946275, 6.622314520064176, 10.466100288170066, 19.561039451544726, 16.540615486024222, 1.4811555486621941, 16.252003529938108, 20.289492895261574, 1.6136883568729, 12.712466052435833, 3.6454510338461255, 2.364313468375301, 13.329708957413722, 12.942688156099857, 18.509198103236546, 10.813110835850415, 6.514874806807869, 18.646209317289998, 10.31177994934438, 11.316247912214084, 14.45214861637284, 14.496226176480853, 19.6442887580191, 10.340728630504415, 18.198438797213257, 18.477867537275262, 2.2369454614072803, -4.941789031279908, 2.007213826981613, 6.213167151113885, 19.337474901602715, 12.452791543127573, 7.863408160832764, 8.082053711332659, 9.761371756318004, 9.226992867537387, 7.5756718890496515, 5.809833789568087, 21.49166197525716, 20.493242821567172, 19.461373872234798, 13.378081315646694, -5.363917198196044, 18.083315315871275, 13.556980718897094, 11.241357606549585, 14.209017185887474, 14.903326543221528, 8.16862461257476, 19.176207070726658, 8.106596421142676, 9.063984263056192, 9.1200278875327, 15.46203046574518, 15.85546647153705, 6.92104834605396, 5.006116100630232, 16.36068636861455, 18.457558246976014, 12.501885346769747, 14.133708700048576, 2.220289511904372, 15.593881970494383, 15.689223346511326, 7.737647347218813, 13.083551200213673, 7.002991201442665, 0.9590329329593583, 15.251600937201715, 2.48033438381281, 3.0415524366686597, 8.742569909801567, 7.759081686328062, 2.4467575671221597, 8.875438731398766, 16.333075443029223, 17.88174007746778, 14.910243474732876, 9.780516600752275, 16.257459887602955, 14.171393537647203, 4.8147148268940505, 15.21766139515216, 10.784611733227722, 19.220004917381996, 12.492296565874883, 15.539414868683233, 13.166645650630715, 4.253825125874289, 11.387195318431031, 16.508048900871607, 17.004419949393522, 11.4694251923812, 7.8280970822936835, 14.826578409046864, 14.90679766249714, 15.282089230189289, 11.965998844533242, 14.215345104241017, 12.52212789146756, 17.661052022281755, 10.780596418956279, 15.992221460304235, 15.907378105959047, 4.350901006097763, 17.35168616042798, 12.831109257396978, 4.829072978019521, 14.578403055467293, 18.008604272020744, 15.911643909268836, 10.821740131833103, -1.0706333332003215, 16.449805695811513, 19.924212620908943, 17.790402898370406, 3.4487488479424067, 11.77165326578512, 12.587442948151494, 3.4453734880029008, 3.7771294282436085, 11.1683099371798, -2.7409252440339316, 15.623917251474317, 20.578953812113753, 18.026369250808628, 16.178342160289805, 19.96664717606187, 13.11429001249983, 18.541182073649974, 11.231303649142887, 16.39062615792608, 10.378932013067011, 1.952979380486708, 19.171863407864343, -3.424594626601385, 17.82355784457722, -0.0004915339572031385, 10.726247827856039, 16.30747193293566, 13.363210385869106, 19.534037863129928, 5.938993793867597, 13.331006734603779, 18.956082993085843, 8.060931670092252, 14.036773261754998, 16.226569314389593, 16.113006334776525, 15.538875355999892, 9.9736487204238, -1.4943072271480506, 15.11795854116711, 5.686969157309996, 19.126627344456626, 14.514821713616987, 15.930254188533677, 14.099572660014825, 12.119850305991054, 16.0789470047908, 16.019576472000907, 9.412495468358218, 6.845302408871035, 1.1077019918998454, 13.053292012259154, 9.526100057916098, 6.21640684982151, 14.895213615742831, -1.7873130899075385, 19.94101917527994, 18.92960627261713, -15.62122431603239, -0.41974283726216033, 12.610470648172111, 1.6171479317555026, 8.628229508971309, 15.189672871546856, 13.65015632506591, 13.011680677390626, 13.148722843556582, 15.79538029717471, 1.530887076650267, 10.80960224714297, 15.995421370979379, 11.738282739855133, -9.38504459460805, 10.687696170864802, 8.351878038892602, 5.644494790363086, 0.2898921243866037, 15.355274018221877, 10.123578664794497, 19.13020896553661, 14.026807381927531, 11.404909039843636, 14.5431508692337, 20.1517063256207, 18.728235828943852, 8.51248164403524, 9.93261278902563, -3.113655603869714, 13.307739528344499, 16.311123214280176, -3.623336341435701, 8.301271819405521, 2.9516886107988416, 21.2193853158536, 20.318518559289345, 14.448638324918505, 14.79772938765902, 16.233736906520903, 4.388816451019517, 9.60444523345637, 20.080923351901347, 13.160738189759268, 8.559432893488616, 16.36423913775745, 6.441200400175539, -1.5135873049970883, 13.16676248004407, 10.27794811720506, 16.789532583650956, 8.001706537773924, 12.928406705280226, -2.6295602653996664, 13.850404381346904, 15.146099294630378, 13.278643714738813, 7.392948446027114, 16.55737579790324, 2.9782446433191057, 18.06180466459466, 3.828218614696788, 2.272048949836325, 7.867598979849111, 13.232538985522046, 15.925808130825537, 14.263755165711334, -3.6040786598291907, 7.593769294868025, 20.162763585550724, 15.882365579073177, 19.548127352572376, -1.4552470268532014, 16.047017859352287, 14.516542422721734, 5.944011717888742, 4.68720087427309, 5.881204934561824, 9.600467086559005, 20.910332838788815, 10.369640322277396, 3.2937651773869203, 3.530892179686873, 11.128307430097061, 3.7477561918721647, 19.34236104297371, 5.5315436911732245, 17.50001702360322, 4.476426752650708, -0.24975047908475378, 17.44404338569836, 13.453677842731649, 14.925172801556474, 7.552217155317198, 16.777854111615277, 13.290729895206542, 17.659833020696436, 6.2821019339131094, 16.362724358519888, 8.192267597640457, 19.33336073487979, 17.21300706846185, 8.610182550119038, 6.386638864652882, 21.069269239044996, 6.556005856021329, 17.767740029543955, 16.78675186275782, 2.119394187442991, 20.44401470794255, 4.219242046951011, 7.877556680767361, 10.186799354696152, 18.582186933303134, -7.517428462985132, 1.2485853892741816, 10.601975264918162, 10.515448182491305, 9.30009974932765, 3.226102365334438, 13.234578470992764, 10.967403908409478, 18.60904924571748, 8.633476525790652, 11.622298443665603, 15.151132417654756, -6.442050753424078, 9.547692969263544, 8.286507073488403, 7.794204681288575, 15.099250162407296, -6.15577665484528, 4.486364136143295, 17.953206762898432, -17.287575921546416, 18.7529978203976, 1.9272963315466796, 7.5932713389843975, 20.26941728719529, 16.136596037625928, 8.399889403987792, 14.258676534058113, 11.037614616269886, 4.064144617561494, 15.065907908106135, 8.241399587742448, 7.205128616743051, 15.522438957767948, 8.467693532846333, 1.2364588903373108, 15.790656681891102, 15.03906246437623, -3.4329807169933835, 5.223880387814717, -0.013251408959380484, 10.404120601438882, 3.314099379983726, 12.20890706059652, 12.744769612288497, 8.618175632642433, 9.444385874313731, 11.961158233582637, 14.061946239202971, 6.135795701776859, 7.214040022330426, 15.028754185050664, 7.752782384183021, 6.312801179821381, 17.185933185690793, 17.109742125777792, 3.5169209936053325, 3.3681533662120122, 7.199273526121441, 3.929792357679529, 15.798392829859331, 14.117167041686807, 9.67745166257431, 9.782841711503742, 12.267218922763256, -0.36591002157235764, 3.9628324707114526, 15.65829727392325, 7.695096812812718, 13.19029172633276, 6.456362604833132, 17.45624439544782, 10.282512777109442, 2.42475779689606, 6.436932309785293, 4.101590385062348, 6.6961229621498415, 4.126903129704895, 11.245961397597458, 12.975187107095786, 5.885302231606737, 17.005173935410966, -13.733405643718942, 11.977951605289306, 7.404077313705704, 15.593852296522325, 15.537055108616071, 0.898101314840738, 12.308890293950803, -0.9538194920040821, 16.980880823650757, 6.696585928834498, 12.28668741193112, 5.897166536365672, -4.029906321284771, 5.437978479571337, 8.570877753145457, 5.392645078918856, 12.358715081359772, 11.692648349500223, 8.215583621387735, 13.523852160707984, 16.43708396546184, 15.982240590466823, 14.012935311697971, -8.543491157973415, 9.31713307425791, 12.403222046582862, 13.550606463868808, 6.372573920637659, 12.765520045877853, 5.9580240364957575, 14.22760687433321, 12.125627705609688, 7.955313474963099, -0.4551757482969654, 15.742755131555164, 17.947499008485433, 11.182764625372421, 2.0664433741904853, 6.673877371901082, 1.2953688296545307, 0.19670683713787218, 3.426940680771884, 14.456698104132904, 5.771427059445189, 3.848105782092437, 8.57516404476545, 3.17049940751698, 9.445525345589756, -0.8386356770134773, 19.91372849138101, 8.656779205417454, -11.971036700897608, -15.76421056082049, 22.28985743400649, 9.012417900016523, 3.0292233487736575, 4.336236822835183, 9.149141004410954, 14.188680918023945, 11.253925495954908, 13.161959342057393, -2.089403639203269, 14.39346504136967, 18.72419862701341, -13.123776640045538, -1.6942794686306772, 14.518667616950975, -11.121626457253985, 10.000421619300958, 8.89669688240976, 15.47294113665828, 5.825501810257339, 4.531015444927478, 17.029866260428474, 14.140827653152165, 22.485473941859745, 11.070236143468549, -8.40938693579325, 6.833003063790466, 6.787289947473074, 10.489584513958194, 10.6626758015829, -0.021529732686964564, -6.947191900613547, 1.583614658507948, 9.931805059454712, 18.426792832511307, 12.231854279376497, 13.25627669895364, 9.740405818025433, 12.50769351430041, 4.7550078526531365, -7.608366727827054, 18.439704334500174, 7.526651666273865, 3.3177268042657637, 17.573158844903382, -4.039081594935423, 4.138103765340961, 14.462715821106265, 0.5415344463365446, -0.06780113383584307, 12.297605584572635, 18.22247836928702, 6.577524463151308, 8.236931042933705, 6.9408994364141385, 14.608798365137565, 11.187484252786517, -6.157925202034331, 10.471410252551872, 9.644405647806497, 16.677929551728244, 13.748556536064449, 0.2079540352439846, 4.92091573941763, 9.129596820676555, 8.924304864110011, 3.6503447385250243, 10.178433364472506, 1.6599566055557458, -15.028859371424929, 1.1508182847673742, 18.30291345193391, 6.109234660518292, 17.523866014074706, 4.419228258991037, 14.516034329339867, 16.491609608958214, -7.790579665451913, 17.004139660988173, 6.301057439856583, 20.09898032269567, 7.104647197081293, 19.74941093709297, 0.854907183693232, 10.85992262991069, 10.164377143128645, 3.8411932271039673, 9.372985177030957, 0.30364990580331597, 15.630162514441558, 15.666659467736322, -6.9206293230580584, 8.190337569188022, 12.859734424305136, 13.181257990077322, 15.236014626614802, -6.501593406608586, 10.743076282535357, 12.323583369735536, 19.073491718566316, 16.091171380770596, -9.031844028773106, 6.935439298402379, 14.702024607040688, 4.059957952874916, 13.255202243610519, 6.71281666897764, 14.442822759446738, 10.406310926637662, -1.562744176447528, 16.747522619025933, -1.3913122730822902, 19.994364523821385, 9.495160188466167, 12.594722203546782, 12.081091522431963, -3.397447463300307, 13.172407333682779, 11.608389777487037, 8.029447921235288, -3.970659651654529, -9.181266199766934, 2.358119561249472, -15.145037008955464, 19.07223002813311, 8.925744673842729, 2.6693773122020037, -11.634787252257816, -6.24626674810842, -7.25648711634157, 14.181837651755247, -0.6026502569772996, 8.758077516626251, 11.064378228129634, 13.162083248869472, 10.561907665655923, 17.676987806543043, 2.0710184074399396, 1.5667415664909146, 15.697957054394196, 1.9803528848566843, -17.460931992655347, -16.884997891007014, 0.7574573657946337, -0.11013719479033846, 16.60708612290135, 9.865742227938979, 10.200308579429585, 2.335299836206317, 14.815258148309528, 20.10629872104399, -2.7470834779950826, 7.844997318366187, 0.886087648350864, -5.789948589974836, 12.081127348424115, 20.59765535989356, -7.3330850684748095, 8.787465263321103, 18.248039990764408, -12.246086122534372, -15.286453278905189, 13.158753363861663, 15.969662098215377, 2.043406012744886, -31.75588943244636, 6.184278462418613, 6.1207273625618726, 2.115616902996731, -13.697052454975367, 13.377753970341576, 11.433519934012637, -0.3985662210069796, 14.200408965687473, 1.9053337016501137, 2.508678225556893, 0.700309541579569, 16.327626898672275, 13.466304540826767, 6.325871819129758, 10.314316976739669, 2.390231485066452, -1.4373121985963744, 19.06387437128968, -9.721380635521658, 5.7287273898154805, -12.079106949035578, 18.15408452037246, 16.211588019037894, 9.09971560474715, 3.063512159123205, 7.327543369154322, 18.98233464673179, -0.8408455738829756, 13.902334063402243, 1.6260112570711471, 20.009645209471373, 6.886269634515307, 15.977673883295529, 15.286993688025785, 11.45028869614264, 3.8462313951238447, 14.695330766271198, 9.864768768120113, -1.5410378297323613, 5.613221354267206, 13.529495442875527, -11.433309315276041, 1.116870509695922, 12.601383102672681, 11.453034752287595, 17.786420960274018, -32.25486728027496, 0.24453731195768214, 11.4519042764633, 11.118656089511514, 10.262124139555585, 6.769214644639421, 0.7174171931896733, 6.484816545453453, 0.31644438835405353, 5.129333229770872, 4.656066801806391, 14.516676445630184, 19.647116024576693, -23.045703125856008, 14.162990008299781, 10.253163328700566, 19.97718883583186, 12.489602294002145, 9.114202216958256, 0.4461011033472073, 1.6685412502344232, 8.05690271284626, -12.881561984833723, 11.849334774376352, -2.0613544863960165, 12.45963946578289, 10.996247845582818, 2.3310301076481243, 4.3256977702715975, -4.452105187318245, 0.6956871151025279, 7.622249323652063, 14.103178510600301, 21.45597766724694, 15.799380376058181, 12.491912023166773, 7.855028561996291, 16.458707743819577, 11.475550029138537, 13.026224153288602, 14.919433188506781, 1.6263061449644622, 13.705729814835788, -11.66065662490523, 2.1631573450987984, 11.044108755938408, 18.132715232053265, 8.845213942952002, 11.928536884944718, 4.062115516250087, 11.546025435719908, 19.34590713091068, 7.675075357370764, 0.6537056600081526, 8.686913114489537, 13.975303853870557, 6.599146635311504, 15.92089834707785, 8.89492685589085, 21.434698966605804, 16.76681073747134, 16.623026922042417, 4.983381224921867, 3.2867055738238227, 11.366022462984693, 2.4715039278483175, 17.193291346388563, 18.30326833058711, 3.872494586694808, 9.868143970378473, 18.323505670649386, 14.222702897554084, 14.216091277223619, 13.936876500220198, 16.919331857468258, 15.312940445630174, -7.75998968542797, -4.044223859197138, 8.855455496540376, 17.469308978882804, -1.2954578758802349, 2.9238236507069026, -20.3755513820052, 9.108111938064145, -0.8086901636663146, -5.224270869643899, 16.47836563058722, 13.068821693298627, 17.62134749876808, 15.70858277429037, -14.660058182755598, 9.32333355087569, 10.788147926635839, 15.212119013013215, 11.839143493151527, -7.229955570771041, 6.260230401163803, 1.671941367444918, -1.119886407569104, 17.191236470333216, -13.543018042232525, -21.751912847437627, -9.183025785991594, 14.425749298726165, 8.971745015710486, 11.04020133709943, 7.396973050146515, 3.4960446433083936, -3.7656987125819885, 15.615449412513993, -3.972162509208932, 7.552370294690169, -3.8245403514230114, 4.207115156611508, 11.323832882345819, 6.2720800426304235, 14.410010522047223, 8.313775319302364, 16.429604057967385, 10.356632998759974, 19.04484050560844, -15.751218265900357, -17.611794061990093, -0.028264217299356353, 10.374425026551148, 12.496957103902629, 16.330164180290595, -9.643832389666462, 16.746466562074534, -1.6828428829050335, -15.731298634993252, 13.182837902832423, 8.487054857268994, 3.387008724283125, 6.030567725704983, 8.725781030639046, 12.388967415867047, 13.073475687613312, 1.5223861680101702, 1.9807563254674143, 10.915520499478893, 6.120475095256261, 9.748659403972637, 17.426612298680734, 0.5141096947343882, -1.3537544267980595, -2.474511760300202, 10.2472067720493, 16.82793453587683, -3.6220466732592493, 16.287296913315675, -11.833772801374987, 17.706462564444614, 1.7453379903504818, 10.546756038391969, 5.325602320278334, 2.7921905599455954, 6.921782247082254, 5.611732902893518, 0.7352324174221825, -4.828093413809054, 12.327411409092226, 7.8897073166409815, 1.8405827235944416, -7.2965841305997925, 9.97750481773727, 8.42811242322955, 2.9131011423482955, 8.70442434417541, 10.35732035349206, 7.054900621257943, 6.764324734568794, 12.38391333025456, -10.090550036579703, -0.8645905076751559, -4.582431740664572, 6.079988438849826, -9.998255304195247, 13.843247240390443, -53.03399091324437, 5.159004203832107, 16.4365048611139, 2.51686055703062, 11.407847175748376, 10.37552222792475, -11.277521565205518, -22.086878944843246, 4.774701548515181, 12.488255374526124, 11.364202658923118, 5.210192441624962, 11.639579067599549, -27.49522838417009, 12.318814676020084, 8.94809068881316, 17.20014878465912, 2.3029914091705295, 1.9526106773320673, 0.23805391981776003, 13.14180189629286, -2.2397291284200316, -7.570433590272119, 10.565595248849903, -27.128174462743758, 11.042526033614465, -4.70891436061438, 15.321817455478847, 1.3150833443516197, -3.835763682510329, -0.1712696217498033, -1.0252026795536606, 5.822480268160546, -6.328245538260235, -4.535238267444108, 11.669880606433159, -16.13685018843718, 4.235419770744597, 0.8060249157427646]\n"
          ]
        }
      ]
    },
    {
      "cell_type": "code",
      "source": [
        "plt.plot(setting,sgdr_r2_score, label = \"R2_score\")\n",
        "plt.plot(setting,sgdr_test_error, label = \"sgdr_test_error\")\n",
        "plt.legend()\n",
        "plt.show()"
      ],
      "metadata": {
        "id": "23e87BqdM0Fy"
      },
      "execution_count": null,
      "outputs": []
    }
  ]
}