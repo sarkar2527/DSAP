{
  "nbformat": 4,
  "nbformat_minor": 0,
  "metadata": {
    "colab": {
      "name": "Pregnant_SMOTE_KNNIMPUTE_FS_MC_OL.ipynb",
      "provenance": [],
      "collapsed_sections": [],
      "authorship_tag": "ABX9TyNUKQMd6IyFNKsXuB3TZufi",
      "include_colab_link": true
    },
    "kernelspec": {
      "name": "python3",
      "display_name": "Python 3"
    },
    "language_info": {
      "name": "python"
    }
  },
  "cells": [
    {
      "cell_type": "markdown",
      "metadata": {
        "id": "view-in-github",
        "colab_type": "text"
      },
      "source": [
        "<a href=\"https://colab.research.google.com/github/sarkar2527/DSAP/blob/main/Pregnant_SMOTE_KNNIMPUTE_FS_MC_OL.ipynb\" target=\"_parent\"><img src=\"https://colab.research.google.com/assets/colab-badge.svg\" alt=\"Open In Colab\"/></a>"
      ]
    },
    {
      "cell_type": "code",
      "source": [
        "from google.colab import drive\n",
        "drive.mount('/content/drive')"
      ],
      "metadata": {
        "colab": {
          "base_uri": "https://localhost:8080/"
        },
        "id": "r9cDXaj5NOlA",
        "outputId": "4a2fa173-f73c-4e57-8d7f-1e5afa43ba62"
      },
      "execution_count": 91,
      "outputs": [
        {
          "output_type": "stream",
          "name": "stdout",
          "text": [
            "Drive already mounted at /content/drive; to attempt to forcibly remount, call drive.mount(\"/content/drive\", force_remount=True).\n"
          ]
        }
      ]
    },
    {
      "cell_type": "code",
      "source": [
        "#Importing the neccessary Libraries\n",
        "import numpy as np\n",
        "import pandas as pd\n",
        "import matplotlib.pyplot as plt\n",
        "import seaborn as sns\n",
        "sns.set()\n",
        "%matplotlib inline"
      ],
      "metadata": {
        "id": "qjurcZJdNTJg"
      },
      "execution_count": 92,
      "outputs": []
    },
    {
      "cell_type": "code",
      "source": [
        "# Read the Training Data\n",
        "train_data = pd.read_csv(\"/content/drive/MyDrive/GeekLurn_ML_Session/Proj2_Train.csv\")\n",
        "\n",
        "# Read the test Data\n",
        "test_data = pd.read_csv(\"/content/drive/MyDrive/GeekLurn_ML_Session/Proj2_Test.csv\")\n",
        "\n",
        "train_data.shape,test_data.shape"
      ],
      "metadata": {
        "colab": {
          "base_uri": "https://localhost:8080/"
        },
        "id": "vGNS8xWONZWz",
        "outputId": "8b809c44-3430-4e36-f205-8f85e1a40052"
      },
      "execution_count": 93,
      "outputs": [
        {
          "output_type": "execute_result",
          "data": {
            "text/plain": [
              "((1000, 16), (100, 15))"
            ]
          },
          "metadata": {},
          "execution_count": 93
        }
      ]
    },
    {
      "cell_type": "code",
      "source": [
        "df = pd.concat([train_data,test_data],axis = 0)\n",
        "\n",
        "df.shape"
      ],
      "metadata": {
        "colab": {
          "base_uri": "https://localhost:8080/"
        },
        "id": "MKF4iOidNgNY",
        "outputId": "0ff90ff0-9b40-4c23-b1c1-6ed99c3fa22c"
      },
      "execution_count": 94,
      "outputs": [
        {
          "output_type": "execute_result",
          "data": {
            "text/plain": [
              "(1100, 16)"
            ]
          },
          "metadata": {},
          "execution_count": 94
        }
      ]
    },
    {
      "cell_type": "code",
      "source": [
        "\n",
        "#Removing Unnecessary Features\n",
        "df.drop(['Sl No','Sample ID','Unnamed: 15','Consistency_Score'], axis = 1, inplace = True)"
      ],
      "metadata": {
        "id": "MJhXt37dNl_x"
      },
      "execution_count": 95,
      "outputs": []
    },
    {
      "cell_type": "code",
      "source": [
        "df.isnull().sum()"
      ],
      "metadata": {
        "colab": {
          "base_uri": "https://localhost:8080/"
        },
        "id": "Arzbrl-qNqRx",
        "outputId": "0511490d-9b4b-479e-c23e-baedc25b39ea"
      },
      "execution_count": 96,
      "outputs": [
        {
          "output_type": "execute_result",
          "data": {
            "text/plain": [
              "Age                     0\n",
              "Ob_Score                0\n",
              "BMI                     0\n",
              "Position_Score          0\n",
              "Effacement_Score        0\n",
              "Dialation_Score         0\n",
              "Station_Score           0\n",
              "Total_Bishop_Score      0\n",
              "Cerv_Len_cms          660\n",
              "Cerv_Wid_cms          660\n",
              "Induction               0\n",
              "Del_mode                0\n",
              "dtype: int64"
            ]
          },
          "metadata": {},
          "execution_count": 96
        }
      ]
    },
    {
      "cell_type": "code",
      "source": [
        "from sklearn.preprocessing import LabelEncoder\n",
        "le = LabelEncoder()\n",
        "df['Ob_Score'] = le.fit_transform(df['Ob_Score'])"
      ],
      "metadata": {
        "id": "OjpKVIanNwhv"
      },
      "execution_count": 97,
      "outputs": []
    },
    {
      "cell_type": "code",
      "source": [
        "from sklearn.impute import KNNImputer\n",
        "imputer = KNNImputer(n_neighbors=5)\n",
        "df = pd.DataFrame(imputer.fit_transform(df),columns = df.columns)"
      ],
      "metadata": {
        "id": "HbbMZ5SNOAnA"
      },
      "execution_count": 98,
      "outputs": []
    },
    {
      "cell_type": "code",
      "source": [
        "df.isnull().sum()"
      ],
      "metadata": {
        "colab": {
          "base_uri": "https://localhost:8080/"
        },
        "id": "G5d0p9ADOEhf",
        "outputId": "161fcb99-420d-4e5e-b762-c89b4f1a5bc3"
      },
      "execution_count": 99,
      "outputs": [
        {
          "output_type": "execute_result",
          "data": {
            "text/plain": [
              "Age                   0\n",
              "Ob_Score              0\n",
              "BMI                   0\n",
              "Position_Score        0\n",
              "Effacement_Score      0\n",
              "Dialation_Score       0\n",
              "Station_Score         0\n",
              "Total_Bishop_Score    0\n",
              "Cerv_Len_cms          0\n",
              "Cerv_Wid_cms          0\n",
              "Induction             0\n",
              "Del_mode              0\n",
              "dtype: int64"
            ]
          },
          "metadata": {},
          "execution_count": 99
        }
      ]
    },
    {
      "cell_type": "code",
      "source": [
        "sns.countplot(df['Del_mode'])"
      ],
      "metadata": {
        "colab": {
          "base_uri": "https://localhost:8080/",
          "height": 357
        },
        "id": "0xGm7fbwOJ9B",
        "outputId": "a6e4d18e-6607-46ee-fba3-475ec7abd7be"
      },
      "execution_count": 100,
      "outputs": [
        {
          "output_type": "stream",
          "name": "stderr",
          "text": [
            "/usr/local/lib/python3.7/dist-packages/seaborn/_decorators.py:43: FutureWarning: Pass the following variable as a keyword arg: x. From version 0.12, the only valid positional argument will be `data`, and passing other arguments without an explicit keyword will result in an error or misinterpretation.\n",
            "  FutureWarning\n"
          ]
        },
        {
          "output_type": "execute_result",
          "data": {
            "text/plain": [
              "<matplotlib.axes._subplots.AxesSubplot at 0x7f41ce1ce850>"
            ]
          },
          "metadata": {},
          "execution_count": 100
        },
        {
          "output_type": "display_data",
          "data": {
            "text/plain": [
              "<Figure size 432x288 with 1 Axes>"
            ],
            "image/png": "[encoded data removed]"
          },
          "metadata": {
            "needs_background": "light"
          }
        }
      ]
    },
    {
      "cell_type": "code",
      "source": [
        "fig = plt.figure(figsize =(16, 10))\n",
        "sns.boxplot(data= df, linewidth=1)\n",
        "plt.xticks(rotation='vertical')\n",
        "plt.show()"
      ],
      "metadata": {
        "colab": {
          "base_uri": "https://localhost:8080/",
          "height": 636
        },
        "id": "mT7iMUlIOReq",
        "outputId": "7c94ba64-8530-4db2-c633-46ea3c9b956f"
      },
      "execution_count": 101,
      "outputs": [
        {
          "output_type": "display_data",
          "data": {
            "text/plain": [
              "<Figure size 1152x720 with 1 Axes>"
            ],
            "image/png": "[encoded data removed]"
          },
          "metadata": {
            "needs_background": "light"
          }
        }
      ]
    },
    {
      "cell_type": "code",
      "source": [
        "def outliers (df , ft) :\n",
        "    Q1= df[ft].quantile(0.25)\n",
        "    Q3= df[ft].quantile(0.75)\n",
        "    \n",
        "    IQR = Q3-Q1\n",
        "    \n",
        "    lower_bound = Q1 - 1.5*IQR\n",
        "    upper_bound = Q3 + 1.5*IQR\n",
        "    \n",
        "    ls = df.index[(df[ft] < lower_bound )| (df[ft] > upper_bound )]\n",
        "    \n",
        "    return ls"
      ],
      "metadata": {
        "id": "wSp2kGZoOaJF"
      },
      "execution_count": 102,
      "outputs": []
    },
    {
      "cell_type": "code",
      "source": [
        "def remove (df, ls ):\n",
        "    ls = sorted(set(ls))\n",
        "    df = df.drop(ls)\n",
        "    \n",
        "    return df"
      ],
      "metadata": {
        "id": "YsXAp3zKOdtF"
      },
      "execution_count": 103,
      "outputs": []
    },
    {
      "cell_type": "code",
      "source": [
        "index_list = []\n",
        "for feature in [\n",
        " 'Age',\n",
        " 'Ob_Score',\n",
        " 'BMI',\n",
        " 'Position_Score',\n",
        " 'Dialation_Score',\n",
        " 'Station_Score',\n",
        " 'Total_Bishop_Score',\n",
        " 'Cerv_Len_cms',\n",
        " 'Cerv_Wid_cms',\n",
        " 'Induction',\n",
        " 'Del_mode']:\n",
        "    index_list.extend(outliers(df , feature))"
      ],
      "metadata": {
        "id": "hElr1pAHOiDf"
      },
      "execution_count": 104,
      "outputs": []
    },
    {
      "cell_type": "code",
      "source": [
        "df1 = remove(df,index_list)"
      ],
      "metadata": {
        "id": "PHlY9A5fOjQ9"
      },
      "execution_count": 105,
      "outputs": []
    },
    {
      "cell_type": "code",
      "source": [
        "df1.shape"
      ],
      "metadata": {
        "colab": {
          "base_uri": "https://localhost:8080/"
        },
        "id": "E5A5ZYLhOnZU",
        "outputId": "5d2c8e0e-418c-45d3-c75f-26aabea70d2e"
      },
      "execution_count": 106,
      "outputs": [
        {
          "output_type": "execute_result",
          "data": {
            "text/plain": [
              "(732, 12)"
            ]
          },
          "metadata": {},
          "execution_count": 106
        }
      ]
    },
    {
      "cell_type": "code",
      "source": [
        "sns.countplot(df1['Del_mode'])"
      ],
      "metadata": {
        "colab": {
          "base_uri": "https://localhost:8080/",
          "height": 357
        },
        "id": "6URXU0dfOwRF",
        "outputId": "5b5dbd5d-456c-460e-f917-b291dd9c8692"
      },
      "execution_count": 107,
      "outputs": [
        {
          "output_type": "stream",
          "name": "stderr",
          "text": [
            "/usr/local/lib/python3.7/dist-packages/seaborn/_decorators.py:43: FutureWarning: Pass the following variable as a keyword arg: x. From version 0.12, the only valid positional argument will be `data`, and passing other arguments without an explicit keyword will result in an error or misinterpretation.\n",
            "  FutureWarning\n"
          ]
        },
        {
          "output_type": "execute_result",
          "data": {
            "text/plain": [
              "<matplotlib.axes._subplots.AxesSubplot at 0x7f41cdd559d0>"
            ]
          },
          "metadata": {},
          "execution_count": 107
        },
        {
          "output_type": "display_data",
          "data": {
            "text/plain": [
              "<Figure size 432x288 with 1 Axes>"
            ],
            "image/png": "[encoded data removed]"
          },
          "metadata": {
            "needs_background": "light"
          }
        }
      ]
    },
    {
      "cell_type": "code",
      "source": [
        "fig = plt.figure(figsize =(16, 10))\n",
        "sns.boxplot(data= df1, linewidth=1)\n",
        "plt.xticks(rotation='vertical')\n",
        "plt.show()"
      ],
      "metadata": {
        "colab": {
          "base_uri": "https://localhost:8080/",
          "height": 636
        },
        "id": "rCxnSncMO1g3",
        "outputId": "6643373a-fe1c-485a-83d0-28edfc4689c0"
      },
      "execution_count": 108,
      "outputs": [
        {
          "output_type": "display_data",
          "data": {
            "text/plain": [
              "<Figure size 1152x720 with 1 Axes>"
            ],
            "image/png": "[encoded data removed]"
          },
          "metadata": {
            "needs_background": "light"
          }
        }
      ]
    },
    {
      "cell_type": "code",
      "source": [
        "df1.describe().T"
      ],
      "metadata": {
        "colab": {
          "base_uri": "https://localhost:8080/",
          "height": 425
        },
        "id": "bUWlAQF8O4nb",
        "outputId": "80f5af36-b23c-43ba-c12e-74e0efe55797"
      },
      "execution_count": 109,
      "outputs": [
        {
          "output_type": "execute_result",
          "data": {
            "text/plain": [
              "                    count       mean       std        min        25%  \\\n",
              "Age                 732.0  22.965847  2.206862  18.000000  21.000000   \n",
              "Ob_Score            732.0   0.000000  0.000000   0.000000   0.000000   \n",
              "BMI                 732.0  26.605294  2.350415  21.300000  24.769010   \n",
              "Position_Score      732.0   0.517760  0.500026   0.000000   0.000000   \n",
              "Effacement_Score    732.0   0.383880  0.486662   0.000000   0.000000   \n",
              "Dialation_Score     732.0   0.478142  0.499864   0.000000   0.000000   \n",
              "Station_Score       732.0   0.000000  0.000000   0.000000   0.000000   \n",
              "Total_Bishop_Score  732.0   3.438525  0.954673   2.000000   3.000000   \n",
              "Cerv_Len_cms        732.0   2.466463  0.264258   1.870000   2.257082   \n",
              "Cerv_Wid_cms        732.0   1.525365  0.352153   0.493955   1.285786   \n",
              "Induction           732.0   1.000000  0.000000   1.000000   1.000000   \n",
              "Del_mode            732.0   0.288251  0.453258   0.000000   0.000000   \n",
              "\n",
              "                          50%        75%        max  \n",
              "Age                 23.000000  24.000000  30.000000  \n",
              "Ob_Score             0.000000   0.000000   0.000000  \n",
              "BMI                 26.584167  28.602236  31.415765  \n",
              "Position_Score       1.000000   1.000000   1.000000  \n",
              "Effacement_Score     0.000000   1.000000   1.000000  \n",
              "Dialation_Score      0.000000   1.000000   1.000000  \n",
              "Station_Score        0.000000   0.000000   0.000000  \n",
              "Total_Bishop_Score   3.000000   4.000000   5.000000  \n",
              "Cerv_Len_cms         2.462970   2.620523   3.239984  \n",
              "Cerv_Wid_cms         1.565271   1.717773   2.350850  \n",
              "Induction            1.000000   1.000000   1.000000  \n",
              "Del_mode             0.000000   1.000000   1.000000  "
            ],
            "text/html": [
              "\n",
              "  <div id=\"df-41ce9033-c033-4b7c-8935-68e182bfe90a\">\n",
              "    <div class=\"colab-df-container\">\n",
              "      <div>\n",
              "<style scoped>\n",
              "    .dataframe tbody tr th:only-of-type {\n",
              "        vertical-align: middle;\n",
              "    }\n",
              "\n",
              "    .dataframe tbody tr th {\n",
              "        vertical-align: top;\n",
              "    }\n",
              "\n",
              "    .dataframe thead th {\n",
              "        text-align: right;\n",
              "    }\n",
              "</style>\n",
              "<table border=\"1\" class=\"dataframe\">\n",
              "  <thead>\n",
              "    <tr style=\"text-align: right;\">\n",
              "      <th></th>\n",
              "      <th>count</th>\n",
              "      <th>mean</th>\n",
              "      <th>std</th>\n",
              "      <th>min</th>\n",
              "      <th>25%</th>\n",
              "      <th>50%</th>\n",
              "      <th>75%</th>\n",
              "      <th>max</th>\n",
              "    </tr>\n",
              "  </thead>\n",
              "  <tbody>\n",
              "    <tr>\n",
              "      <th>Age</th>\n",
              "      <td>732.0</td>\n",
              "      <td>22.965847</td>\n",
              "      <td>2.206862</td>\n",
              "      <td>18.000000</td>\n",
              "      <td>21.000000</td>\n",
              "      <td>23.000000</td>\n",
              "      <td>24.000000</td>\n",
              "      <td>30.000000</td>\n",
              "    </tr>\n",
              "    <tr>\n",
              "      <th>Ob_Score</th>\n",
              "      <td>732.0</td>\n",
              "      <td>0.000000</td>\n",
              "      <td>0.000000</td>\n",
              "      <td>0.000000</td>\n",
              "      <td>0.000000</td>\n",
              "      <td>0.000000</td>\n",
              "      <td>0.000000</td>\n",
              "      <td>0.000000</td>\n",
              "    </tr>\n",
              "    <tr>\n",
              "      <th>BMI</th>\n",
              "      <td>732.0</td>\n",
              "      <td>26.605294</td>\n",
              "      <td>2.350415</td>\n",
              "      <td>21.300000</td>\n",
              "      <td>24.769010</td>\n",
              "      <td>26.584167</td>\n",
              "      <td>28.602236</td>\n",
              "      <td>31.415765</td>\n",
              "    </tr>\n",
              "    <tr>\n",
              "      <th>Position_Score</th>\n",
              "      <td>732.0</td>\n",
              "      <td>0.517760</td>\n",
              "      <td>0.500026</td>\n",
              "      <td>0.000000</td>\n",
              "      <td>0.000000</td>\n",
              "      <td>1.000000</td>\n",
              "      <td>1.000000</td>\n",
              "      <td>1.000000</td>\n",
              "    </tr>\n",
              "    <tr>\n",
              "      <th>Effacement_Score</th>\n",
              "      <td>732.0</td>\n",
              "      <td>0.383880</td>\n",
              "      <td>0.486662</td>\n",
              "      <td>0.000000</td>\n",
              "      <td>0.000000</td>\n",
              "      <td>0.000000</td>\n",
              "      <td>1.000000</td>\n",
              "      <td>1.000000</td>\n",
              "    </tr>\n",
              "    <tr>\n",
              "      <th>Dialation_Score</th>\n",
              "      <td>732.0</td>\n",
              "      <td>0.478142</td>\n",
              "      <td>0.499864</td>\n",
              "      <td>0.000000</td>\n",
              "      <td>0.000000</td>\n",
              "      <td>0.000000</td>\n",
              "      <td>1.000000</td>\n",
              "      <td>1.000000</td>\n",
              "    </tr>\n",
              "    <tr>\n",
              "      <th>Station_Score</th>\n",
              "      <td>732.0</td>\n",
              "      <td>0.000000</td>\n",
              "      <td>0.000000</td>\n",
              "      <td>0.000000</td>\n",
              "      <td>0.000000</td>\n",
              "      <td>0.000000</td>\n",
              "      <td>0.000000</td>\n",
              "      <td>0.000000</td>\n",
              "    </tr>\n",
              "    <tr>\n",
              "      <th>Total_Bishop_Score</th>\n",
              "      <td>732.0</td>\n",
              "      <td>3.438525</td>\n",
              "      <td>0.954673</td>\n",
              "      <td>2.000000</td>\n",
              "      <td>3.000000</td>\n",
              "      <td>3.000000</td>\n",
              "      <td>4.000000</td>\n",
              "      <td>5.000000</td>\n",
              "    </tr>\n",
              "    <tr>\n",
              "      <th>Cerv_Len_cms</th>\n",
              "      <td>732.0</td>\n",
              "      <td>2.466463</td>\n",
              "      <td>0.264258</td>\n",
              "      <td>1.870000</td>\n",
              "      <td>2.257082</td>\n",
              "      <td>2.462970</td>\n",
              "      <td>2.620523</td>\n",
              "      <td>3.239984</td>\n",
              "    </tr>\n",
              "    <tr>\n",
              "      <th>Cerv_Wid_cms</th>\n",
              "      <td>732.0</td>\n",
              "      <td>1.525365</td>\n",
              "      <td>0.352153</td>\n",
              "      <td>0.493955</td>\n",
              "      <td>1.285786</td>\n",
              "      <td>1.565271</td>\n",
              "      <td>1.717773</td>\n",
              "      <td>2.350850</td>\n",
              "    </tr>\n",
              "    <tr>\n",
              "      <th>Induction</th>\n",
              "      <td>732.0</td>\n",
              "      <td>1.000000</td>\n",
              "      <td>0.000000</td>\n",
              "      <td>1.000000</td>\n",
              "      <td>1.000000</td>\n",
              "      <td>1.000000</td>\n",
              "      <td>1.000000</td>\n",
              "      <td>1.000000</td>\n",
              "    </tr>\n",
              "    <tr>\n",
              "      <th>Del_mode</th>\n",
              "      <td>732.0</td>\n",
              "      <td>0.288251</td>\n",
              "      <td>0.453258</td>\n",
              "      <td>0.000000</td>\n",
              "      <td>0.000000</td>\n",
              "      <td>0.000000</td>\n",
              "      <td>1.000000</td>\n",
              "      <td>1.000000</td>\n",
              "    </tr>\n",
              "  </tbody>\n",
              "</table>\n",
              "</div>\n",
              "      <button class=\"colab-df-convert\" onclick=\"convertToInteractive('df-41ce9033-c033-4b7c-8935-68e182bfe90a')\"\n",
              "              title=\"Convert this dataframe to an interactive table.\"\n",
              "              style=\"display:none;\">\n",
              "        \n",
              "  <svg xmlns=\"http://www.w3.org/2000/svg\" height=\"24px\"viewBox=\"0 0 24 24\"\n",
              "       width=\"24px\">\n",
              "    <path d=\"M0 0h24v24H0V0z\" fill=\"none\"/>\n",
              "    <path d=\"M18.56 5.44l.94 2.06.94-2.06 2.06-.94-2.06-.94-.94-2.06-.94 2.06-2.06.94zm-11 1L8.5 8.5l.94-2.06 2.06-.94-2.06-.94L8.5 2.5l-.94 2.06-2.06.94zm10 10l.94 2.06.94-2.06 2.06-.94-2.06-.94-.94-2.06-.94 2.06-2.06.94z\"/><path d=\"M17.41 7.96l-1.37-1.37c-.4-.4-.92-.59-1.43-.59-.52 0-1.04.2-1.43.59L10.3 9.45l-7.72 7.72c-.78.78-.78 2.05 0 2.83L4 21.41c.39.39.9.59 1.41.59.51 0 1.02-.2 1.41-.59l7.78-7.78 2.81-2.81c.8-.78.8-2.07 0-2.86zM5.41 20L4 18.59l7.72-7.72 1.47 1.35L5.41 20z\"/>\n",
              "  </svg>\n",
              "      </button>\n",
              "      \n",
              "  <style>\n",
              "    .colab-df-container {\n",
              "      display:flex;\n",
              "      flex-wrap:wrap;\n",
              "      gap: 12px;\n",
              "    }\n",
              "\n",
              "    .colab-df-convert {\n",
              "      background-color: #E8F0FE;\n",
              "      border: none;\n",
              "      border-radius: 50%;\n",
              "      cursor: pointer;\n",
              "      display: none;\n",
              "      fill: #1967D2;\n",
              "      height: 32px;\n",
              "      padding: 0 0 0 0;\n",
              "      width: 32px;\n",
              "    }\n",
              "\n",
              "    .colab-df-convert:hover {\n",
              "      background-color: #E2EBFA;\n",
              "      box-shadow: 0px 1px 2px rgba(60, 64, 67, 0.3), 0px 1px 3px 1px rgba(60, 64, 67, 0.15);\n",
              "      fill: #174EA6;\n",
              "    }\n",
              "\n",
              "    [theme=dark] .colab-df-convert {\n",
              "      background-color: #3B4455;\n",
              "      fill: #D2E3FC;\n",
              "    }\n",
              "\n",
              "    [theme=dark] .colab-df-convert:hover {\n",
              "      background-color: #434B5C;\n",
              "      box-shadow: 0px 1px 3px 1px rgba(0, 0, 0, 0.15);\n",
              "      filter: drop-shadow(0px 1px 2px rgba(0, 0, 0, 0.3));\n",
              "      fill: #FFFFFF;\n",
              "    }\n",
              "  </style>\n",
              "\n",
              "      <script>\n",
              "        const buttonEl =\n",
              "          document.querySelector('#df-41ce9033-c033-4b7c-8935-68e182bfe90a button.colab-df-convert');\n",
              "        buttonEl.style.display =\n",
              "          google.colab.kernel.accessAllowed ? 'block' : 'none';\n",
              "\n",
              "        async function convertToInteractive(key) {\n",
              "          const element = document.querySelector('#df-41ce9033-c033-4b7c-8935-68e182bfe90a');\n",
              "          const dataTable =\n",
              "            await google.colab.kernel.invokeFunction('convertToInteractive',\n",
              "                                                     [key], {});\n",
              "          if (!dataTable) return;\n",
              "\n",
              "          const docLinkHtml = 'Like what you see? Visit the ' +\n",
              "            '<a target=\"_blank\" href=https://colab.research.google.com/notebooks/data_table.ipynb>data table notebook</a>'\n",
              "            + ' to learn more about interactive tables.';\n",
              "          element.innerHTML = '';\n",
              "          dataTable['output_type'] = 'display_data';\n",
              "          await google.colab.output.renderOutput(dataTable, element);\n",
              "          const docLink = document.createElement('div');\n",
              "          docLink.innerHTML = docLinkHtml;\n",
              "          element.appendChild(docLink);\n",
              "        }\n",
              "      </script>\n",
              "    </div>\n",
              "  </div>\n",
              "  "
            ]
          },
          "metadata": {},
          "execution_count": 109
        }
      ]
    },
    {
      "cell_type": "code",
      "source": [
        "df1['Del_mode'].value_counts()"
      ],
      "metadata": {
        "colab": {
          "base_uri": "https://localhost:8080/"
        },
        "id": "iSqrToVeO_LT",
        "outputId": "4fb2d803-20e8-453c-f1b9-878cff9bec73"
      },
      "execution_count": 110,
      "outputs": [
        {
          "output_type": "execute_result",
          "data": {
            "text/plain": [
              "0.0    521\n",
              "1.0    211\n",
              "Name: Del_mode, dtype: int64"
            ]
          },
          "metadata": {},
          "execution_count": 110
        }
      ]
    },
    {
      "cell_type": "code",
      "source": [
        "#### Independent and Dependent Features\n",
        "#X=df1.drop(\"Del_mode\",axis=1)\n",
        "#=df1['Del_mode']"
      ],
      "metadata": {
        "id": "SXPNPfkDPBB_"
      },
      "execution_count": 111,
      "outputs": []
    },
    {
      "cell_type": "markdown",
      "source": [
        "**Feature Selection**"
      ],
      "metadata": {
        "id": "yNz0DyiVyEAA"
      }
    },
    {
      "cell_type": "code",
      "source": [
        "#Select K best\n",
        "\n",
        "X=df1.drop(\"Del_mode\",axis=1)\n",
        "Y=df1['Del_mode']\n",
        "\n",
        "from sklearn.feature_selection import SelectKBest\n",
        "from sklearn.feature_selection import chi2\n",
        "\n",
        "Select_KBest_rank_features=SelectKBest(score_func=chi2,k=5)\n",
        "KBest_features=Select_KBest_rank_features.fit(X,Y)\n",
        "\n",
        "df_Kscores=pd.DataFrame(KBest_features.scores_,columns=[\"Score\"])\n",
        "dfcolumns=pd.DataFrame(X.columns)\n",
        "\n",
        "kbest_features_rank=pd.concat([dfcolumns,df_Kscores],axis=1)\n",
        "\n",
        "kbest_features_rank.columns=['Features','K_score']\n",
        "kbest_features_rank\n",
        "\n",
        "print(kbest_features_rank.nlargest(6,'K_score'))"
      ],
      "metadata": {
        "colab": {
          "base_uri": "https://localhost:8080/"
        },
        "id": "z_4RH428yCiD",
        "outputId": "4d09549b-4f4c-4b25-df47-9de7f2595088"
      },
      "execution_count": 113,
      "outputs": [
        {
          "output_type": "stream",
          "name": "stdout",
          "text": [
            "             Features    K_score\n",
            "3      Position_Score  24.053602\n",
            "0                 Age  18.382231\n",
            "4    Effacement_Score   6.260953\n",
            "5     Dialation_Score   6.207169\n",
            "7  Total_Bishop_Score   4.944186\n",
            "9        Cerv_Wid_cms   3.990352\n"
          ]
        }
      ]
    },
    {
      "cell_type": "code",
      "source": [
        "from sklearn.ensemble import ExtraTreesClassifier\n",
        "ET_model=ExtraTreesClassifier()\n",
        "ET_model.fit(X,Y)\n",
        "\n",
        "print(ET_model.feature_importances_)\n",
        "\n",
        "import matplotlib.pyplot as plt\n",
        "ET_ranked_features=pd.Series(ET_model.feature_importances_,index=X.columns)\n",
        "ET_ranked_features.nlargest(10).plot(kind='barh')\n",
        "plt.show()\n",
        "\n",
        "\n",
        "df_ET_rank =pd.DataFrame(ET_model.feature_importances_)\n",
        "\n",
        "dfcolumns=pd.DataFrame(X.columns)\n",
        "\n",
        "ET_features_rank=pd.concat([dfcolumns,df_ET_rank],axis=1)\n",
        "\n",
        "ET_features_rank.columns=['Features','Score']\n",
        "ET_features_rank\n",
        "ET_features_rank.nlargest(6,'Score')"
      ],
      "metadata": {
        "colab": {
          "base_uri": "https://localhost:8080/",
          "height": 523
        },
        "id": "KsQgaEGHyynL",
        "outputId": "fa7b4231-be07-4b70-c09a-da6c43d075f6"
      },
      "execution_count": 114,
      "outputs": [
        {
          "output_type": "stream",
          "name": "stdout",
          "text": [
            "[0.1913492  0.         0.24319949 0.06928378 0.03807544 0.05505105\n",
            " 0.         0.07417203 0.14819336 0.18067565 0.        ]\n"
          ]
        },
        {
          "output_type": "display_data",
          "data": {
            "text/plain": [
              "<Figure size 432x288 with 1 Axes>"
            ],
            "image/png": "[encoded data removed]"
          },
          "metadata": {
            "needs_background": "light"
          }
        },
        {
          "output_type": "execute_result",
          "data": {
            "text/plain": [
              "             Features     Score\n",
              "2                 BMI  0.243199\n",
              "0                 Age  0.191349\n",
              "9        Cerv_Wid_cms  0.180676\n",
              "8        Cerv_Len_cms  0.148193\n",
              "7  Total_Bishop_Score  0.074172\n",
              "3      Position_Score  0.069284"
            ],
            "text/html": [
              "\n",
              "  <div id=\"df-af7bef39-7b5f-4c23-b73d-45d7e1653c8e\">\n",
              "    <div class=\"colab-df-container\">\n",
              "      <div>\n",
              "<style scoped>\n",
              "    .dataframe tbody tr th:only-of-type {\n",
              "        vertical-align: middle;\n",
              "    }\n",
              "\n",
              "    .dataframe tbody tr th {\n",
              "        vertical-align: top;\n",
              "    }\n",
              "\n",
              "    .dataframe thead th {\n",
              "        text-align: right;\n",
              "    }\n",
              "</style>\n",
              "<table border=\"1\" class=\"dataframe\">\n",
              "  <thead>\n",
              "    <tr style=\"text-align: right;\">\n",
              "      <th></th>\n",
              "      <th>Features</th>\n",
              "      <th>Score</th>\n",
              "    </tr>\n",
              "  </thead>\n",
              "  <tbody>\n",
              "    <tr>\n",
              "      <th>2</th>\n",
              "      <td>BMI</td>\n",
              "      <td>0.243199</td>\n",
              "    </tr>\n",
              "    <tr>\n",
              "      <th>0</th>\n",
              "      <td>Age</td>\n",
              "      <td>0.191349</td>\n",
              "    </tr>\n",
              "    <tr>\n",
              "      <th>9</th>\n",
              "      <td>Cerv_Wid_cms</td>\n",
              "      <td>0.180676</td>\n",
              "    </tr>\n",
              "    <tr>\n",
              "      <th>8</th>\n",
              "      <td>Cerv_Len_cms</td>\n",
              "      <td>0.148193</td>\n",
              "    </tr>\n",
              "    <tr>\n",
              "      <th>7</th>\n",
              "      <td>Total_Bishop_Score</td>\n",
              "      <td>0.074172</td>\n",
              "    </tr>\n",
              "    <tr>\n",
              "      <th>3</th>\n",
              "      <td>Position_Score</td>\n",
              "      <td>0.069284</td>\n",
              "    </tr>\n",
              "  </tbody>\n",
              "</table>\n",
              "</div>\n",
              "      <button class=\"colab-df-convert\" onclick=\"convertToInteractive('df-af7bef39-7b5f-4c23-b73d-45d7e1653c8e')\"\n",
              "              title=\"Convert this dataframe to an interactive table.\"\n",
              "              style=\"display:none;\">\n",
              "        \n",
              "  <svg xmlns=\"http://www.w3.org/2000/svg\" height=\"24px\"viewBox=\"0 0 24 24\"\n",
              "       width=\"24px\">\n",
              "    <path d=\"M0 0h24v24H0V0z\" fill=\"none\"/>\n",
              "    <path d=\"M18.56 5.44l.94 2.06.94-2.06 2.06-.94-2.06-.94-.94-2.06-.94 2.06-2.06.94zm-11 1L8.5 8.5l.94-2.06 2.06-.94-2.06-.94L8.5 2.5l-.94 2.06-2.06.94zm10 10l.94 2.06.94-2.06 2.06-.94-2.06-.94-.94-2.06-.94 2.06-2.06.94z\"/><path d=\"M17.41 7.96l-1.37-1.37c-.4-.4-.92-.59-1.43-.59-.52 0-1.04.2-1.43.59L10.3 9.45l-7.72 7.72c-.78.78-.78 2.05 0 2.83L4 21.41c.39.39.9.59 1.41.59.51 0 1.02-.2 1.41-.59l7.78-7.78 2.81-2.81c.8-.78.8-2.07 0-2.86zM5.41 20L4 18.59l7.72-7.72 1.47 1.35L5.41 20z\"/>\n",
              "  </svg>\n",
              "      </button>\n",
              "      \n",
              "  <style>\n",
              "    .colab-df-container {\n",
              "      display:flex;\n",
              "      flex-wrap:wrap;\n",
              "      gap: 12px;\n",
              "    }\n",
              "\n",
              "    .colab-df-convert {\n",
              "      background-color: #E8F0FE;\n",
              "      border: none;\n",
              "      border-radius: 50%;\n",
              "      cursor: pointer;\n",
              "      display: none;\n",
              "      fill: #1967D2;\n",
              "      height: 32px;\n",
              "      padding: 0 0 0 0;\n",
              "      width: 32px;\n",
              "    }\n",
              "\n",
              "    .colab-df-convert:hover {\n",
              "      background-color: #E2EBFA;\n",
              "      box-shadow: 0px 1px 2px rgba(60, 64, 67, 0.3), 0px 1px 3px 1px rgba(60, 64, 67, 0.15);\n",
              "      fill: #174EA6;\n",
              "    }\n",
              "\n",
              "    [theme=dark] .colab-df-convert {\n",
              "      background-color: #3B4455;\n",
              "      fill: #D2E3FC;\n",
              "    }\n",
              "\n",
              "    [theme=dark] .colab-df-convert:hover {\n",
              "      background-color: #434B5C;\n",
              "      box-shadow: 0px 1px 3px 1px rgba(0, 0, 0, 0.15);\n",
              "      filter: drop-shadow(0px 1px 2px rgba(0, 0, 0, 0.3));\n",
              "      fill: #FFFFFF;\n",
              "    }\n",
              "  </style>\n",
              "\n",
              "      <script>\n",
              "        const buttonEl =\n",
              "          document.querySelector('#df-af7bef39-7b5f-4c23-b73d-45d7e1653c8e button.colab-df-convert');\n",
              "        buttonEl.style.display =\n",
              "          google.colab.kernel.accessAllowed ? 'block' : 'none';\n",
              "\n",
              "        async function convertToInteractive(key) {\n",
              "          const element = document.querySelector('#df-af7bef39-7b5f-4c23-b73d-45d7e1653c8e');\n",
              "          const dataTable =\n",
              "            await google.colab.kernel.invokeFunction('convertToInteractive',\n",
              "                                                     [key], {});\n",
              "          if (!dataTable) return;\n",
              "\n",
              "          const docLinkHtml = 'Like what you see? Visit the ' +\n",
              "            '<a target=\"_blank\" href=https://colab.research.google.com/notebooks/data_table.ipynb>data table notebook</a>'\n",
              "            + ' to learn more about interactive tables.';\n",
              "          element.innerHTML = '';\n",
              "          dataTable['output_type'] = 'display_data';\n",
              "          await google.colab.output.renderOutput(dataTable, element);\n",
              "          const docLink = document.createElement('div');\n",
              "          docLink.innerHTML = docLinkHtml;\n",
              "          element.appendChild(docLink);\n",
              "        }\n",
              "      </script>\n",
              "    </div>\n",
              "  </div>\n",
              "  "
            ]
          },
          "metadata": {},
          "execution_count": 114
        }
      ]
    },
    {
      "cell_type": "code",
      "source": [
        "from sklearn.feature_selection import mutual_info_classif\n",
        "mutual_info=mutual_info_classif(X,Y)\n",
        "\n",
        "mutual_data=pd.Series(mutual_info,index=X.columns)\n",
        "mutual_data.sort_values(ascending=False)\n",
        "\n",
        "print(mutual_data.nlargest(6))\n",
        "\n",
        "mutual_data.nlargest(6).plot(kind='barh')\n",
        "plt.show()"
      ],
      "metadata": {
        "colab": {
          "base_uri": "https://localhost:8080/",
          "height": 389
        },
        "id": "E-PfjP5SzFXl",
        "outputId": "0b96fff4-c130-4626-c60b-28acccd4a0b5"
      },
      "execution_count": 115,
      "outputs": [
        {
          "output_type": "stream",
          "name": "stdout",
          "text": [
            "Cerv_Wid_cms          0.204356\n",
            "Cerv_Len_cms          0.196387\n",
            "BMI                   0.156954\n",
            "Age                   0.062429\n",
            "Total_Bishop_Score    0.025809\n",
            "Induction             0.020365\n",
            "dtype: float64\n"
          ]
        },
        {
          "output_type": "display_data",
          "data": {
            "text/plain": [
              "<Figure size 432x288 with 1 Axes>"
            ],
            "image/png": "[encoded data removed]"
          },
          "metadata": {
            "needs_background": "light"
          }
        }
      ]
    },
    {
      "cell_type": "code",
      "source": [
        "X.corr()"
      ],
      "metadata": {
        "colab": {
          "base_uri": "https://localhost:8080/",
          "height": 458
        },
        "id": "R6BEksa71jwF",
        "outputId": "36a0691b-2301-42f7-ef4c-76834f4c6450"
      },
      "execution_count": 116,
      "outputs": [
        {
          "output_type": "execute_result",
          "data": {
            "text/plain": [
              "                         Age  Ob_Score       BMI  Position_Score  \\\n",
              "Age                 1.000000       NaN  0.123797        0.169769   \n",
              "Ob_Score                 NaN       NaN       NaN             NaN   \n",
              "BMI                 0.123797       NaN  1.000000       -0.272309   \n",
              "Position_Score      0.169769       NaN -0.272309        1.000000   \n",
              "Effacement_Score    0.101386       NaN -0.091017        0.306433   \n",
              "Dialation_Score    -0.121587       NaN -0.040565        0.069970   \n",
              "Station_Score            NaN       NaN       NaN             NaN   \n",
              "Total_Bishop_Score  0.116852       NaN -0.143398        0.604094   \n",
              "Cerv_Len_cms        0.349887       NaN  0.003799       -0.055794   \n",
              "Cerv_Wid_cms       -0.067838       NaN  0.089321        0.066978   \n",
              "Induction                NaN       NaN       NaN             NaN   \n",
              "\n",
              "                    Effacement_Score  Dialation_Score  Station_Score  \\\n",
              "Age                         0.101386        -0.121587            NaN   \n",
              "Ob_Score                         NaN              NaN            NaN   \n",
              "BMI                        -0.091017        -0.040565            NaN   \n",
              "Position_Score              0.306433         0.069970            NaN   \n",
              "Effacement_Score            1.000000         0.211679            NaN   \n",
              "Dialation_Score             0.211679         1.000000            NaN   \n",
              "Station_Score                    NaN              NaN            NaN   \n",
              "Total_Bishop_Score          0.667721         0.560480            NaN   \n",
              "Cerv_Len_cms               -0.454967        -0.248567            NaN   \n",
              "Cerv_Wid_cms                0.224209         0.157385            NaN   \n",
              "Induction                        NaN              NaN            NaN   \n",
              "\n",
              "                    Total_Bishop_Score  Cerv_Len_cms  Cerv_Wid_cms  Induction  \n",
              "Age                           0.116852      0.349887     -0.067838        NaN  \n",
              "Ob_Score                           NaN           NaN           NaN        NaN  \n",
              "BMI                          -0.143398      0.003799      0.089321        NaN  \n",
              "Position_Score                0.604094     -0.055794      0.066978        NaN  \n",
              "Effacement_Score              0.667721     -0.454967      0.224209        NaN  \n",
              "Dialation_Score               0.560480     -0.248567      0.157385        NaN  \n",
              "Station_Score                      NaN           NaN           NaN        NaN  \n",
              "Total_Bishop_Score            1.000000     -0.398518      0.200704        NaN  \n",
              "Cerv_Len_cms                 -0.398518      1.000000     -0.123929        NaN  \n",
              "Cerv_Wid_cms                  0.200704     -0.123929      1.000000        NaN  \n",
              "Induction                          NaN           NaN           NaN        NaN  "
            ],
            "text/html": [
              "\n",
              "  <div id=\"df-a80e7958-37df-4846-93ad-6c4f61a18c9a\">\n",
              "    <div class=\"colab-df-container\">\n",
              "      <div>\n",
              "<style scoped>\n",
              "    .dataframe tbody tr th:only-of-type {\n",
              "        vertical-align: middle;\n",
              "    }\n",
              "\n",
              "    .dataframe tbody tr th {\n",
              "        vertical-align: top;\n",
              "    }\n",
              "\n",
              "    .dataframe thead th {\n",
              "        text-align: right;\n",
              "    }\n",
              "</style>\n",
              "<table border=\"1\" class=\"dataframe\">\n",
              "  <thead>\n",
              "    <tr style=\"text-align: right;\">\n",
              "      <th></th>\n",
              "      <th>Age</th>\n",
              "      <th>Ob_Score</th>\n",
              "      <th>BMI</th>\n",
              "      <th>Position_Score</th>\n",
              "      <th>Effacement_Score</th>\n",
              "      <th>Dialation_Score</th>\n",
              "      <th>Station_Score</th>\n",
              "      <th>Total_Bishop_Score</th>\n",
              "      <th>Cerv_Len_cms</th>\n",
              "      <th>Cerv_Wid_cms</th>\n",
              "      <th>Induction</th>\n",
              "    </tr>\n",
              "  </thead>\n",
              "  <tbody>\n",
              "    <tr>\n",
              "      <th>Age</th>\n",
              "      <td>1.000000</td>\n",
              "      <td>NaN</td>\n",
              "      <td>0.123797</td>\n",
              "      <td>0.169769</td>\n",
              "      <td>0.101386</td>\n",
              "      <td>-0.121587</td>\n",
              "      <td>NaN</td>\n",
              "      <td>0.116852</td>\n",
              "      <td>0.349887</td>\n",
              "      <td>-0.067838</td>\n",
              "      <td>NaN</td>\n",
              "    </tr>\n",
              "    <tr>\n",
              "      <th>Ob_Score</th>\n",
              "      <td>NaN</td>\n",
              "      <td>NaN</td>\n",
              "      <td>NaN</td>\n",
              "      <td>NaN</td>\n",
              "      <td>NaN</td>\n",
              "      <td>NaN</td>\n",
              "      <td>NaN</td>\n",
              "      <td>NaN</td>\n",
              "      <td>NaN</td>\n",
              "      <td>NaN</td>\n",
              "      <td>NaN</td>\n",
              "    </tr>\n",
              "    <tr>\n",
              "      <th>BMI</th>\n",
              "      <td>0.123797</td>\n",
              "      <td>NaN</td>\n",
              "      <td>1.000000</td>\n",
              "      <td>-0.272309</td>\n",
              "      <td>-0.091017</td>\n",
              "      <td>-0.040565</td>\n",
              "      <td>NaN</td>\n",
              "      <td>-0.143398</td>\n",
              "      <td>0.003799</td>\n",
              "      <td>0.089321</td>\n",
              "      <td>NaN</td>\n",
              "    </tr>\n",
              "    <tr>\n",
              "      <th>Position_Score</th>\n",
              "      <td>0.169769</td>\n",
              "      <td>NaN</td>\n",
              "      <td>-0.272309</td>\n",
              "      <td>1.000000</td>\n",
              "      <td>0.306433</td>\n",
              "      <td>0.069970</td>\n",
              "      <td>NaN</td>\n",
              "      <td>0.604094</td>\n",
              "      <td>-0.055794</td>\n",
              "      <td>0.066978</td>\n",
              "      <td>NaN</td>\n",
              "    </tr>\n",
              "    <tr>\n",
              "      <th>Effacement_Score</th>\n",
              "      <td>0.101386</td>\n",
              "      <td>NaN</td>\n",
              "      <td>-0.091017</td>\n",
              "      <td>0.306433</td>\n",
              "      <td>1.000000</td>\n",
              "      <td>0.211679</td>\n",
              "      <td>NaN</td>\n",
              "      <td>0.667721</td>\n",
              "      <td>-0.454967</td>\n",
              "      <td>0.224209</td>\n",
              "      <td>NaN</td>\n",
              "    </tr>\n",
              "    <tr>\n",
              "      <th>Dialation_Score</th>\n",
              "      <td>-0.121587</td>\n",
              "      <td>NaN</td>\n",
              "      <td>-0.040565</td>\n",
              "      <td>0.069970</td>\n",
              "      <td>0.211679</td>\n",
              "      <td>1.000000</td>\n",
              "      <td>NaN</td>\n",
              "      <td>0.560480</td>\n",
              "      <td>-0.248567</td>\n",
              "      <td>0.157385</td>\n",
              "      <td>NaN</td>\n",
              "    </tr>\n",
              "    <tr>\n",
              "      <th>Station_Score</th>\n",
              "      <td>NaN</td>\n",
              "      <td>NaN</td>\n",
              "      <td>NaN</td>\n",
              "      <td>NaN</td>\n",
              "      <td>NaN</td>\n",
              "      <td>NaN</td>\n",
              "      <td>NaN</td>\n",
              "      <td>NaN</td>\n",
              "      <td>NaN</td>\n",
              "      <td>NaN</td>\n",
              "      <td>NaN</td>\n",
              "    </tr>\n",
              "    <tr>\n",
              "      <th>Total_Bishop_Score</th>\n",
              "      <td>0.116852</td>\n",
              "      <td>NaN</td>\n",
              "      <td>-0.143398</td>\n",
              "      <td>0.604094</td>\n",
              "      <td>0.667721</td>\n",
              "      <td>0.560480</td>\n",
              "      <td>NaN</td>\n",
              "      <td>1.000000</td>\n",
              "      <td>-0.398518</td>\n",
              "      <td>0.200704</td>\n",
              "      <td>NaN</td>\n",
              "    </tr>\n",
              "    <tr>\n",
              "      <th>Cerv_Len_cms</th>\n",
              "      <td>0.349887</td>\n",
              "      <td>NaN</td>\n",
              "      <td>0.003799</td>\n",
              "      <td>-0.055794</td>\n",
              "      <td>-0.454967</td>\n",
              "      <td>-0.248567</td>\n",
              "      <td>NaN</td>\n",
              "      <td>-0.398518</td>\n",
              "      <td>1.000000</td>\n",
              "      <td>-0.123929</td>\n",
              "      <td>NaN</td>\n",
              "    </tr>\n",
              "    <tr>\n",
              "      <th>Cerv_Wid_cms</th>\n",
              "      <td>-0.067838</td>\n",
              "      <td>NaN</td>\n",
              "      <td>0.089321</td>\n",
              "      <td>0.066978</td>\n",
              "      <td>0.224209</td>\n",
              "      <td>0.157385</td>\n",
              "      <td>NaN</td>\n",
              "      <td>0.200704</td>\n",
              "      <td>-0.123929</td>\n",
              "      <td>1.000000</td>\n",
              "      <td>NaN</td>\n",
              "    </tr>\n",
              "    <tr>\n",
              "      <th>Induction</th>\n",
              "      <td>NaN</td>\n",
              "      <td>NaN</td>\n",
              "      <td>NaN</td>\n",
              "      <td>NaN</td>\n",
              "      <td>NaN</td>\n",
              "      <td>NaN</td>\n",
              "      <td>NaN</td>\n",
              "      <td>NaN</td>\n",
              "      <td>NaN</td>\n",
              "      <td>NaN</td>\n",
              "      <td>NaN</td>\n",
              "    </tr>\n",
              "  </tbody>\n",
              "</table>\n",
              "</div>\n",
              "      <button class=\"colab-df-convert\" onclick=\"convertToInteractive('df-a80e7958-37df-4846-93ad-6c4f61a18c9a')\"\n",
              "              title=\"Convert this dataframe to an interactive table.\"\n",
              "              style=\"display:none;\">\n",
              "        \n",
              "  <svg xmlns=\"http://www.w3.org/2000/svg\" height=\"24px\"viewBox=\"0 0 24 24\"\n",
              "       width=\"24px\">\n",
              "    <path d=\"M0 0h24v24H0V0z\" fill=\"none\"/>\n",
              "    <path d=\"M18.56 5.44l.94 2.06.94-2.06 2.06-.94-2.06-.94-.94-2.06-.94 2.06-2.06.94zm-11 1L8.5 8.5l.94-2.06 2.06-.94-2.06-.94L8.5 2.5l-.94 2.06-2.06.94zm10 10l.94 2.06.94-2.06 2.06-.94-2.06-.94-.94-2.06-.94 2.06-2.06.94z\"/><path d=\"M17.41 7.96l-1.37-1.37c-.4-.4-.92-.59-1.43-.59-.52 0-1.04.2-1.43.59L10.3 9.45l-7.72 7.72c-.78.78-.78 2.05 0 2.83L4 21.41c.39.39.9.59 1.41.59.51 0 1.02-.2 1.41-.59l7.78-7.78 2.81-2.81c.8-.78.8-2.07 0-2.86zM5.41 20L4 18.59l7.72-7.72 1.47 1.35L5.41 20z\"/>\n",
              "  </svg>\n",
              "      </button>\n",
              "      \n",
              "  <style>\n",
              "    .colab-df-container {\n",
              "      display:flex;\n",
              "      flex-wrap:wrap;\n",
              "      gap: 12px;\n",
              "    }\n",
              "\n",
              "    .colab-df-convert {\n",
              "      background-color: #E8F0FE;\n",
              "      border: none;\n",
              "      border-radius: 50%;\n",
              "      cursor: pointer;\n",
              "      display: none;\n",
              "      fill: #1967D2;\n",
              "      height: 32px;\n",
              "      padding: 0 0 0 0;\n",
              "      width: 32px;\n",
              "    }\n",
              "\n",
              "    .colab-df-convert:hover {\n",
              "      background-color: #E2EBFA;\n",
              "      box-shadow: 0px 1px 2px rgba(60, 64, 67, 0.3), 0px 1px 3px 1px rgba(60, 64, 67, 0.15);\n",
              "      fill: #174EA6;\n",
              "    }\n",
              "\n",
              "    [theme=dark] .colab-df-convert {\n",
              "      background-color: #3B4455;\n",
              "      fill: #D2E3FC;\n",
              "    }\n",
              "\n",
              "    [theme=dark] .colab-df-convert:hover {\n",
              "      background-color: #434B5C;\n",
              "      box-shadow: 0px 1px 3px 1px rgba(0, 0, 0, 0.15);\n",
              "      filter: drop-shadow(0px 1px 2px rgba(0, 0, 0, 0.3));\n",
              "      fill: #FFFFFF;\n",
              "    }\n",
              "  </style>\n",
              "\n",
              "      <script>\n",
              "        const buttonEl =\n",
              "          document.querySelector('#df-a80e7958-37df-4846-93ad-6c4f61a18c9a button.colab-df-convert');\n",
              "        buttonEl.style.display =\n",
              "          google.colab.kernel.accessAllowed ? 'block' : 'none';\n",
              "\n",
              "        async function convertToInteractive(key) {\n",
              "          const element = document.querySelector('#df-a80e7958-37df-4846-93ad-6c4f61a18c9a');\n",
              "          const dataTable =\n",
              "            await google.colab.kernel.invokeFunction('convertToInteractive',\n",
              "                                                     [key], {});\n",
              "          if (!dataTable) return;\n",
              "\n",
              "          const docLinkHtml = 'Like what you see? Visit the ' +\n",
              "            '<a target=\"_blank\" href=https://colab.research.google.com/notebooks/data_table.ipynb>data table notebook</a>'\n",
              "            + ' to learn more about interactive tables.';\n",
              "          element.innerHTML = '';\n",
              "          dataTable['output_type'] = 'display_data';\n",
              "          await google.colab.output.renderOutput(dataTable, element);\n",
              "          const docLink = document.createElement('div');\n",
              "          docLink.innerHTML = docLinkHtml;\n",
              "          element.appendChild(docLink);\n",
              "        }\n",
              "      </script>\n",
              "    </div>\n",
              "  </div>\n",
              "  "
            ]
          },
          "metadata": {},
          "execution_count": 116
        }
      ]
    },
    {
      "cell_type": "code",
      "source": [
        "threshold=0.2\n",
        "\n",
        "# find and remove correlated features\n",
        "def correlation(df1, threshold):\n",
        "    col_corr = set()  # Set of all the names of correlated columns\n",
        "    corr_matrix = df1.corr()\n",
        "    for i in range(len(corr_matrix.columns)):\n",
        "        for j in range(i):\n",
        "            if abs(corr_matrix.iloc[i, j]) > threshold: # we are interested in absolute coeff value\n",
        "                colname = corr_matrix.columns[i]  # getting the name of column\n",
        "                col_corr.add(colname)\n",
        "    return col_corr"
      ],
      "metadata": {
        "id": "ll2eZlfn1F6h"
      },
      "execution_count": 117,
      "outputs": []
    },
    {
      "cell_type": "code",
      "source": [
        "correlation(df1.iloc[:,:-1],threshold)"
      ],
      "metadata": {
        "colab": {
          "base_uri": "https://localhost:8080/"
        },
        "id": "jMQ2I-8S2dsC",
        "outputId": "9515408e-0d0b-40f6-ffdd-5298aedc0b89"
      },
      "execution_count": 118,
      "outputs": [
        {
          "output_type": "execute_result",
          "data": {
            "text/plain": [
              "{'Cerv_Len_cms',\n",
              " 'Cerv_Wid_cms',\n",
              " 'Dialation_Score',\n",
              " 'Effacement_Score',\n",
              " 'Position_Score',\n",
              " 'Total_Bishop_Score'}"
            ]
          },
          "metadata": {},
          "execution_count": 118
        }
      ]
    },
    {
      "cell_type": "markdown",
      "source": [
        "**Multicolinearity**"
      ],
      "metadata": {
        "id": "1_Sk6O9436yU"
      }
    },
    {
      "cell_type": "code",
      "source": [
        "VIF = []\n",
        "from statsmodels.stats.outliers_influence import variance_inflation_factor\n",
        "for j in range(X.shape[1]):\n",
        "    VIF.append(variance_inflation_factor(X.values,j))\n",
        "print(VIF)\n",
        "\n",
        "import numpy as np\n",
        "np.transpose(VIF)\n",
        "pd.DataFrame(X.columns)\n",
        "pd.DataFrame(np.transpose(VIF))\n",
        "pd.concat([pd.DataFrame(X.columns),pd.DataFrame(np.transpose(VIF))], axis =1)"
      ],
      "metadata": {
        "colab": {
          "base_uri": "https://localhost:8080/",
          "height": 466
        },
        "id": "3m_4LZbW3wTo",
        "outputId": "437ea0cb-a7c0-4cd9-9a7f-f734b5b0dab7"
      },
      "execution_count": 119,
      "outputs": [
        {
          "output_type": "stream",
          "name": "stdout",
          "text": [
            "[1.4215549581314992, nan, 1.1538938669386343, 2.2903059654707376, 2.354597744569187, 2.1172292927418987, nan, 5.504588225292283, 1.7243162197534139, 1.097047737744582, 339.15059230837716]\n"
          ]
        },
        {
          "output_type": "stream",
          "name": "stderr",
          "text": [
            "/usr/local/lib/python3.7/dist-packages/statsmodels/regression/linear_model.py:1636: RuntimeWarning: invalid value encountered in double_scalars\n",
            "  return 1 - self.ssr/self.centered_tss\n"
          ]
        },
        {
          "output_type": "execute_result",
          "data": {
            "text/plain": [
              "                     0           0\n",
              "0                  Age    1.421555\n",
              "1             Ob_Score         NaN\n",
              "2                  BMI    1.153894\n",
              "3       Position_Score    2.290306\n",
              "4     Effacement_Score    2.354598\n",
              "5      Dialation_Score    2.117229\n",
              "6        Station_Score         NaN\n",
              "7   Total_Bishop_Score    5.504588\n",
              "8         Cerv_Len_cms    1.724316\n",
              "9         Cerv_Wid_cms    1.097048\n",
              "10           Induction  339.150592"
            ],
            "text/html": [
              "\n",
              "  <div id=\"df-38681e6c-77c7-4b87-9c7d-79f8891cb876\">\n",
              "    <div class=\"colab-df-container\">\n",
              "      <div>\n",
              "<style scoped>\n",
              "    .dataframe tbody tr th:only-of-type {\n",
              "        vertical-align: middle;\n",
              "    }\n",
              "\n",
              "    .dataframe tbody tr th {\n",
              "        vertical-align: top;\n",
              "    }\n",
              "\n",
              "    .dataframe thead th {\n",
              "        text-align: right;\n",
              "    }\n",
              "</style>\n",
              "<table border=\"1\" class=\"dataframe\">\n",
              "  <thead>\n",
              "    <tr style=\"text-align: right;\">\n",
              "      <th></th>\n",
              "      <th>0</th>\n",
              "      <th>0</th>\n",
              "    </tr>\n",
              "  </thead>\n",
              "  <tbody>\n",
              "    <tr>\n",
              "      <th>0</th>\n",
              "      <td>Age</td>\n",
              "      <td>1.421555</td>\n",
              "    </tr>\n",
              "    <tr>\n",
              "      <th>1</th>\n",
              "      <td>Ob_Score</td>\n",
              "      <td>NaN</td>\n",
              "    </tr>\n",
              "    <tr>\n",
              "      <th>2</th>\n",
              "      <td>BMI</td>\n",
              "      <td>1.153894</td>\n",
              "    </tr>\n",
              "    <tr>\n",
              "      <th>3</th>\n",
              "      <td>Position_Score</td>\n",
              "      <td>2.290306</td>\n",
              "    </tr>\n",
              "    <tr>\n",
              "      <th>4</th>\n",
              "      <td>Effacement_Score</td>\n",
              "      <td>2.354598</td>\n",
              "    </tr>\n",
              "    <tr>\n",
              "      <th>5</th>\n",
              "      <td>Dialation_Score</td>\n",
              "      <td>2.117229</td>\n",
              "    </tr>\n",
              "    <tr>\n",
              "      <th>6</th>\n",
              "      <td>Station_Score</td>\n",
              "      <td>NaN</td>\n",
              "    </tr>\n",
              "    <tr>\n",
              "      <th>7</th>\n",
              "      <td>Total_Bishop_Score</td>\n",
              "      <td>5.504588</td>\n",
              "    </tr>\n",
              "    <tr>\n",
              "      <th>8</th>\n",
              "      <td>Cerv_Len_cms</td>\n",
              "      <td>1.724316</td>\n",
              "    </tr>\n",
              "    <tr>\n",
              "      <th>9</th>\n",
              "      <td>Cerv_Wid_cms</td>\n",
              "      <td>1.097048</td>\n",
              "    </tr>\n",
              "    <tr>\n",
              "      <th>10</th>\n",
              "      <td>Induction</td>\n",
              "      <td>339.150592</td>\n",
              "    </tr>\n",
              "  </tbody>\n",
              "</table>\n",
              "</div>\n",
              "      <button class=\"colab-df-convert\" onclick=\"convertToInteractive('df-38681e6c-77c7-4b87-9c7d-79f8891cb876')\"\n",
              "              title=\"Convert this dataframe to an interactive table.\"\n",
              "              style=\"display:none;\">\n",
              "        \n",
              "  <svg xmlns=\"http://www.w3.org/2000/svg\" height=\"24px\"viewBox=\"0 0 24 24\"\n",
              "       width=\"24px\">\n",
              "    <path d=\"M0 0h24v24H0V0z\" fill=\"none\"/>\n",
              "    <path d=\"M18.56 5.44l.94 2.06.94-2.06 2.06-.94-2.06-.94-.94-2.06-.94 2.06-2.06.94zm-11 1L8.5 8.5l.94-2.06 2.06-.94-2.06-.94L8.5 2.5l-.94 2.06-2.06.94zm10 10l.94 2.06.94-2.06 2.06-.94-2.06-.94-.94-2.06-.94 2.06-2.06.94z\"/><path d=\"M17.41 7.96l-1.37-1.37c-.4-.4-.92-.59-1.43-.59-.52 0-1.04.2-1.43.59L10.3 9.45l-7.72 7.72c-.78.78-.78 2.05 0 2.83L4 21.41c.39.39.9.59 1.41.59.51 0 1.02-.2 1.41-.59l7.78-7.78 2.81-2.81c.8-.78.8-2.07 0-2.86zM5.41 20L4 18.59l7.72-7.72 1.47 1.35L5.41 20z\"/>\n",
              "  </svg>\n",
              "      </button>\n",
              "      \n",
              "  <style>\n",
              "    .colab-df-container {\n",
              "      display:flex;\n",
              "      flex-wrap:wrap;\n",
              "      gap: 12px;\n",
              "    }\n",
              "\n",
              "    .colab-df-convert {\n",
              "      background-color: #E8F0FE;\n",
              "      border: none;\n",
              "      border-radius: 50%;\n",
              "      cursor: pointer;\n",
              "      display: none;\n",
              "      fill: #1967D2;\n",
              "      height: 32px;\n",
              "      padding: 0 0 0 0;\n",
              "      width: 32px;\n",
              "    }\n",
              "\n",
              "    .colab-df-convert:hover {\n",
              "      background-color: #E2EBFA;\n",
              "      box-shadow: 0px 1px 2px rgba(60, 64, 67, 0.3), 0px 1px 3px 1px rgba(60, 64, 67, 0.15);\n",
              "      fill: #174EA6;\n",
              "    }\n",
              "\n",
              "    [theme=dark] .colab-df-convert {\n",
              "      background-color: #3B4455;\n",
              "      fill: #D2E3FC;\n",
              "    }\n",
              "\n",
              "    [theme=dark] .colab-df-convert:hover {\n",
              "      background-color: #434B5C;\n",
              "      box-shadow: 0px 1px 3px 1px rgba(0, 0, 0, 0.15);\n",
              "      filter: drop-shadow(0px 1px 2px rgba(0, 0, 0, 0.3));\n",
              "      fill: #FFFFFF;\n",
              "    }\n",
              "  </style>\n",
              "\n",
              "      <script>\n",
              "        const buttonEl =\n",
              "          document.querySelector('#df-38681e6c-77c7-4b87-9c7d-79f8891cb876 button.colab-df-convert');\n",
              "        buttonEl.style.display =\n",
              "          google.colab.kernel.accessAllowed ? 'block' : 'none';\n",
              "\n",
              "        async function convertToInteractive(key) {\n",
              "          const element = document.querySelector('#df-38681e6c-77c7-4b87-9c7d-79f8891cb876');\n",
              "          const dataTable =\n",
              "            await google.colab.kernel.invokeFunction('convertToInteractive',\n",
              "                                                     [key], {});\n",
              "          if (!dataTable) return;\n",
              "\n",
              "          const docLinkHtml = 'Like what you see? Visit the ' +\n",
              "            '<a target=\"_blank\" href=https://colab.research.google.com/notebooks/data_table.ipynb>data table notebook</a>'\n",
              "            + ' to learn more about interactive tables.';\n",
              "          element.innerHTML = '';\n",
              "          dataTable['output_type'] = 'display_data';\n",
              "          await google.colab.output.renderOutput(dataTable, element);\n",
              "          const docLink = document.createElement('div');\n",
              "          docLink.innerHTML = docLinkHtml;\n",
              "          element.appendChild(docLink);\n",
              "        }\n",
              "      </script>\n",
              "    </div>\n",
              "  </div>\n",
              "  "
            ]
          },
          "metadata": {},
          "execution_count": 119
        }
      ]
    },
    {
      "cell_type": "markdown",
      "source": [
        "After applying Multiple feature selection techniques and Multicolinearity, we can use the below features for our analysis:\n",
        "\n",
        "Age, BMI, Cerv_Len_cms, Cerv_Wid_cms, Position_Score"
      ],
      "metadata": {
        "id": "SVPirdUifz-a"
      }
    },
    {
      "cell_type": "code",
      "source": [
        "X=df1[['Age', 'BMI', 'Cerv_Len_cms', 'Cerv_Wid_cms', 'Position_Score']]\n",
        "Y=df1['Del_mode']"
      ],
      "metadata": {
        "id": "vzbVl10flhP-"
      },
      "execution_count": 154,
      "outputs": []
    },
    {
      "cell_type": "code",
      "source": [
        "# Scaling the data\n",
        "\n",
        "from sklearn.preprocessing import StandardScaler\n",
        "sc = StandardScaler()\n",
        "x_scale = sc.fit_transform(X)"
      ],
      "metadata": {
        "id": "iPJg_sHVPFSH"
      },
      "execution_count": 155,
      "outputs": []
    },
    {
      "cell_type": "code",
      "source": [
        "# Train and Test Split\n",
        "from sklearn.model_selection import train_test_split\n",
        "X_train,X_test,Y_train,Y_test = train_test_split(x_scale,Y,test_size = 0.3, random_state=0,stratify=Y)"
      ],
      "metadata": {
        "id": "AOmzkNNiPIPm"
      },
      "execution_count": 156,
      "outputs": []
    },
    {
      "cell_type": "code",
      "source": [
        "X_train.shape ,X_test.shape ,Y_train.shape,Y_test.shape"
      ],
      "metadata": {
        "colab": {
          "base_uri": "https://localhost:8080/"
        },
        "id": "wez9HmrwPMmx",
        "outputId": "e3acbd8f-c4f0-409b-c7c5-07d3c4717de0"
      },
      "execution_count": 157,
      "outputs": [
        {
          "output_type": "execute_result",
          "data": {
            "text/plain": [
              "((512, 5), (220, 5), (512,), (220,))"
            ]
          },
          "metadata": {},
          "execution_count": 157
        }
      ]
    },
    {
      "cell_type": "code",
      "source": [
        "\"\"\"**SMOTE Sampling**\"\"\"\n",
        "from collections import Counter\n",
        "from imblearn.over_sampling import SMOTE\n",
        "sm = SMOTE(random_state=42)\n",
        "X_train_SM, Y_train_SM = sm.fit_resample(X_train, Y_train)\n",
        "\n",
        "print(\"The number of classes before fit {}\".format(Counter(Y_train)))\n",
        "print(\"The number of classes after fit {}\".format(Counter(Y_train_SM)))"
      ],
      "metadata": {
        "colab": {
          "base_uri": "https://localhost:8080/"
        },
        "id": "K45L2yLtPRtE",
        "outputId": "8a63b5f7-a782-4a8a-c22d-56af73407e48"
      },
      "execution_count": 158,
      "outputs": [
        {
          "output_type": "stream",
          "name": "stdout",
          "text": [
            "The number of classes before fit Counter({0.0: 364, 1.0: 148})\n",
            "The number of classes after fit Counter({1.0: 364, 0.0: 364})\n"
          ]
        }
      ]
    },
    {
      "cell_type": "code",
      "source": [
        "\"\"\"**Logistic Regression with SMOTE Sampling**\"\"\"\n",
        "\n",
        "from sklearn.linear_model import LogisticRegression\n",
        "from sklearn.metrics import confusion_matrix,accuracy_score,classification_report\n",
        "logreg = LogisticRegression()\n",
        "logreg.fit(X_train_SM,Y_train_SM)\n",
        "y_pred_lr_SM = logreg.predict(X_test)\n",
        "\n",
        "print(confusion_matrix(Y_test,y_pred_lr_SM))\n",
        "print(accuracy_score(Y_test,y_pred_lr_SM))\n",
        "print(classification_report(Y_test,y_pred_lr_SM))"
      ],
      "metadata": {
        "colab": {
          "base_uri": "https://localhost:8080/"
        },
        "id": "9gZZDaSuPr2a",
        "outputId": "89b68f89-23a7-4d48-85dd-de1a05e93b42"
      },
      "execution_count": 159,
      "outputs": [
        {
          "output_type": "stream",
          "name": "stdout",
          "text": [
            "[[116  41]\n",
            " [ 14  49]]\n",
            "0.75\n",
            "              precision    recall  f1-score   support\n",
            "\n",
            "         0.0       0.89      0.74      0.81       157\n",
            "         1.0       0.54      0.78      0.64        63\n",
            "\n",
            "    accuracy                           0.75       220\n",
            "   macro avg       0.72      0.76      0.72       220\n",
            "weighted avg       0.79      0.75      0.76       220\n",
            "\n"
          ]
        }
      ]
    },
    {
      "cell_type": "code",
      "source": [
        "\"\"\"**KNN with SMOTE sampling**\"\"\"\n",
        "\n",
        "from sklearn.neighbors import KNeighborsClassifier\n",
        "knn_clf = KNeighborsClassifier(n_neighbors=1, p=2) \n",
        "knn_clf.fit(X_train_SM,Y_train_SM)\n",
        "Y_pred_knn_SM = knn_clf.predict(X_test)\n",
        "\n",
        "print(confusion_matrix(Y_test,Y_pred_knn_SM))\n",
        "print(accuracy_score(Y_test,Y_pred_knn_SM))\n",
        "print(classification_report(Y_test,Y_pred_knn_SM))\n"
      ],
      "metadata": {
        "colab": {
          "base_uri": "https://localhost:8080/"
        },
        "id": "MSLFT2ozPyjs",
        "outputId": "8f9087fb-83ea-4b74-e27b-f7efc7199150"
      },
      "execution_count": 160,
      "outputs": [
        {
          "output_type": "stream",
          "name": "stdout",
          "text": [
            "[[144  13]\n",
            " [ 14  49]]\n",
            "0.8772727272727273\n",
            "              precision    recall  f1-score   support\n",
            "\n",
            "         0.0       0.91      0.92      0.91       157\n",
            "         1.0       0.79      0.78      0.78        63\n",
            "\n",
            "    accuracy                           0.88       220\n",
            "   macro avg       0.85      0.85      0.85       220\n",
            "weighted avg       0.88      0.88      0.88       220\n",
            "\n"
          ]
        }
      ]
    },
    {
      "cell_type": "code",
      "source": [
        "kn_score1 = []\n",
        "neighbors = range(1,20)\n",
        "\n",
        "for i in neighbors:\n",
        "        knn_clf = KNeighborsClassifier(n_neighbors=i, p=2)\n",
        "        knn_clf.fit(X_train_SM,Y_train_SM)\n",
        "        Y_pred_knn_SM = knn_clf.predict(X_test)\n",
        "        kn_score1.append(accuracy_score(Y_test,Y_pred_knn_SM))\n",
        "\n",
        "print(kn_score1)"
      ],
      "metadata": {
        "colab": {
          "base_uri": "https://localhost:8080/"
        },
        "id": "X_F3A4SMP5gV",
        "outputId": "fe925201-50d8-4c1a-ade3-89da03578a07"
      },
      "execution_count": 161,
      "outputs": [
        {
          "output_type": "stream",
          "name": "stdout",
          "text": [
            "[0.8772727272727273, 0.8818181818181818, 0.8863636363636364, 0.8772727272727273, 0.8636363636363636, 0.8636363636363636, 0.8454545454545455, 0.85, 0.8409090909090909, 0.8318181818181818, 0.8227272727272728, 0.8272727272727273, 0.8090909090909091, 0.8090909090909091, 0.8, 0.8090909090909091, 0.7772727272727272, 0.7954545454545454, 0.7772727272727272]\n"
          ]
        }
      ]
    },
    {
      "cell_type": "code",
      "source": [
        "plt.plot(neighbors,kn_score1, label = \"test error\")\n",
        "plt.ylabel(\"accuracy\")\n",
        "plt.xlabel(\"neighbors\")\n",
        "plt.legend()"
      ],
      "metadata": {
        "colab": {
          "base_uri": "https://localhost:8080/",
          "height": 303
        },
        "id": "8cW6Up0xP95Y",
        "outputId": "30abade3-0ae8-4c6d-b4ba-caf3787c2215"
      },
      "execution_count": 162,
      "outputs": [
        {
          "output_type": "execute_result",
          "data": {
            "text/plain": [
              "<matplotlib.legend.Legend at 0x7f41ce21da90>"
            ]
          },
          "metadata": {},
          "execution_count": 162
        },
        {
          "output_type": "display_data",
          "data": {
            "text/plain": [
              "<Figure size 432x288 with 1 Axes>"
            ],
            "image/png": "[encoded data removed]"
          },
          "metadata": {
            "needs_background": "light"
          }
        }
      ]
    },
    {
      "cell_type": "code",
      "source": [
        "\n",
        "\"\"\"**Support vector machine**\"\"\"\n",
        "\n",
        "from sklearn.svm import SVC\n",
        "\n",
        "svm = SVC(kernel = \"linear\", gamma = \"auto\")\n",
        "svm.fit(X_train_SM,Y_train_SM)\n",
        "Y_pred_svm_linear_SM = svm.predict(X_test)\n",
        "\n",
        "print(confusion_matrix(Y_test,Y_pred_svm_linear_SM))\n",
        "print(accuracy_score(Y_test,Y_pred_svm_linear_SM))\n",
        "print(classification_report(Y_test,Y_pred_svm_linear_SM))\n",
        "\n",
        "svm = SVC(kernel = \"rbf\", gamma = \"auto\")\n",
        "svm.fit(X_train_SM,Y_train_SM)\n",
        "Y_pred_svm_rbf_SM = svm.predict(X_test)\n",
        "\n",
        "print(confusion_matrix(Y_test,Y_pred_svm_rbf_SM))\n",
        "print(accuracy_score(Y_test,Y_pred_svm_rbf_SM))\n",
        "print(classification_report(Y_test,Y_pred_svm_rbf_SM))\n",
        "\n",
        "svm = SVC(kernel = \"poly\", gamma = \"auto\")\n",
        "svm.fit(X_train_SM,Y_train_SM)\n",
        "Y_pred_svm_poly_SM = svm.predict(X_test)\n",
        "\n",
        "print(confusion_matrix(Y_test,Y_pred_svm_poly_SM))\n",
        "print(accuracy_score(Y_test,Y_pred_svm_poly_SM))\n",
        "print(classification_report(Y_test,Y_pred_svm_poly_SM))\n"
      ],
      "metadata": {
        "colab": {
          "base_uri": "https://localhost:8080/"
        },
        "id": "k1cX_aRzQCtt",
        "outputId": "a3f4a362-6629-44bb-a3f5-7bb9204a7ff1"
      },
      "execution_count": 163,
      "outputs": [
        {
          "output_type": "stream",
          "name": "stdout",
          "text": [
            "[[117  40]\n",
            " [ 12  51]]\n",
            "0.7636363636363637\n",
            "              precision    recall  f1-score   support\n",
            "\n",
            "         0.0       0.91      0.75      0.82       157\n",
            "         1.0       0.56      0.81      0.66        63\n",
            "\n",
            "    accuracy                           0.76       220\n",
            "   macro avg       0.73      0.78      0.74       220\n",
            "weighted avg       0.81      0.76      0.77       220\n",
            "\n",
            "[[124  33]\n",
            " [  9  54]]\n",
            "0.8090909090909091\n",
            "              precision    recall  f1-score   support\n",
            "\n",
            "         0.0       0.93      0.79      0.86       157\n",
            "         1.0       0.62      0.86      0.72        63\n",
            "\n",
            "    accuracy                           0.81       220\n",
            "   macro avg       0.78      0.82      0.79       220\n",
            "weighted avg       0.84      0.81      0.82       220\n",
            "\n",
            "[[131  26]\n",
            " [ 10  53]]\n",
            "0.8363636363636363\n",
            "              precision    recall  f1-score   support\n",
            "\n",
            "         0.0       0.93      0.83      0.88       157\n",
            "         1.0       0.67      0.84      0.75        63\n",
            "\n",
            "    accuracy                           0.84       220\n",
            "   macro avg       0.80      0.84      0.81       220\n",
            "weighted avg       0.86      0.84      0.84       220\n",
            "\n"
          ]
        }
      ]
    },
    {
      "cell_type": "code",
      "source": [
        "###\"\"\"** Stocastic Gradient Classifier \"\"\"**\n",
        "\n",
        "from sklearn.linear_model import SGDClassifier\n",
        "\n",
        "sgd = SGDClassifier(eta0 = 0.1011, max_iter = 50)\n",
        "sgd.fit(X_train_SM,Y_train_SM)\n",
        "Y_pred_sgd_SM = sgd.predict(X_test)\n",
        "\n",
        "print(confusion_matrix(Y_test,Y_pred_sgd_SM))\n",
        "print(accuracy_score(Y_test,Y_pred_sgd_SM))\n",
        "print(classification_report(Y_test,Y_pred_sgd_SM))"
      ],
      "metadata": {
        "colab": {
          "base_uri": "https://localhost:8080/"
        },
        "id": "zer7s5sdQQq7",
        "outputId": "75263278-cb02-476d-84cc-5a68be2bceb1"
      },
      "execution_count": 164,
      "outputs": [
        {
          "output_type": "stream",
          "name": "stdout",
          "text": [
            "[[93 64]\n",
            " [11 52]]\n",
            "0.6590909090909091\n",
            "              precision    recall  f1-score   support\n",
            "\n",
            "         0.0       0.89      0.59      0.71       157\n",
            "         1.0       0.45      0.83      0.58        63\n",
            "\n",
            "    accuracy                           0.66       220\n",
            "   macro avg       0.67      0.71      0.65       220\n",
            "weighted avg       0.77      0.66      0.67       220\n",
            "\n"
          ]
        }
      ]
    },
    {
      "cell_type": "code",
      "source": [
        "sgd_score = []\n",
        "setting = np.arange(0.101,0.102,0.0001)\n",
        "\n",
        "for i in setting:\n",
        "    sgd = SGDClassifier(eta0 = i, max_iter = 50)\n",
        "    sgd.fit(X_train_SM,Y_train_SM)\n",
        "    Y_pred_sgd_SM = sgd.predict(X_test)\n",
        "    sgd_score.append(accuracy_score(Y_test,Y_pred_sgd_SM))\n",
        "    \n",
        "print(sgd_score)"
      ],
      "metadata": {
        "colab": {
          "base_uri": "https://localhost:8080/"
        },
        "id": "BTHPxcxPQnbH",
        "outputId": "d42c2c09-8b3d-4b93-c123-9ec82eb85fb2"
      },
      "execution_count": 165,
      "outputs": [
        {
          "output_type": "stream",
          "name": "stdout",
          "text": [
            "[0.6363636363636364, 0.7863636363636364, 0.7681818181818182, 0.6727272727272727, 0.7, 0.6636363636363637, 0.7227272727272728, 0.7227272727272728, 0.759090909090909, 0.7227272727272728]\n"
          ]
        },
        {
          "output_type": "stream",
          "name": "stderr",
          "text": [
            "/usr/local/lib/python3.7/dist-packages/sklearn/linear_model/_stochastic_gradient.py:700: ConvergenceWarning: Maximum number of iteration reached before convergence. Consider increasing max_iter to improve the fit.\n",
            "  ConvergenceWarning,\n",
            "/usr/local/lib/python3.7/dist-packages/sklearn/linear_model/_stochastic_gradient.py:700: ConvergenceWarning: Maximum number of iteration reached before convergence. Consider increasing max_iter to improve the fit.\n",
            "  ConvergenceWarning,\n",
            "/usr/local/lib/python3.7/dist-packages/sklearn/linear_model/_stochastic_gradient.py:700: ConvergenceWarning: Maximum number of iteration reached before convergence. Consider increasing max_iter to improve the fit.\n",
            "  ConvergenceWarning,\n",
            "/usr/local/lib/python3.7/dist-packages/sklearn/linear_model/_stochastic_gradient.py:700: ConvergenceWarning: Maximum number of iteration reached before convergence. Consider increasing max_iter to improve the fit.\n",
            "  ConvergenceWarning,\n",
            "/usr/local/lib/python3.7/dist-packages/sklearn/linear_model/_stochastic_gradient.py:700: ConvergenceWarning: Maximum number of iteration reached before convergence. Consider increasing max_iter to improve the fit.\n",
            "  ConvergenceWarning,\n",
            "/usr/local/lib/python3.7/dist-packages/sklearn/linear_model/_stochastic_gradient.py:700: ConvergenceWarning: Maximum number of iteration reached before convergence. Consider increasing max_iter to improve the fit.\n",
            "  ConvergenceWarning,\n",
            "/usr/local/lib/python3.7/dist-packages/sklearn/linear_model/_stochastic_gradient.py:700: ConvergenceWarning: Maximum number of iteration reached before convergence. Consider increasing max_iter to improve the fit.\n",
            "  ConvergenceWarning,\n"
          ]
        }
      ]
    },
    {
      "cell_type": "code",
      "source": [
        "plt.plot(setting,sgd_score, label = \"test accuracy\")\n",
        "plt.ylabel(\"accuracy\")\n",
        "plt.xlabel(\"learning rate\")\n",
        "plt.legend()"
      ],
      "metadata": {
        "colab": {
          "base_uri": "https://localhost:8080/",
          "height": 303
        },
        "id": "QZJjbXRRQv8f",
        "outputId": "fcc8d8ae-0e79-40d2-f321-a554bdedf101"
      },
      "execution_count": 166,
      "outputs": [
        {
          "output_type": "execute_result",
          "data": {
            "text/plain": [
              "<matplotlib.legend.Legend at 0x7f41cdfb0c10>"
            ]
          },
          "metadata": {},
          "execution_count": 166
        },
        {
          "output_type": "display_data",
          "data": {
            "text/plain": [
              "<Figure size 432x288 with 1 Axes>"
            ],
            "image/png": "[encoded data removed]"
          },
          "metadata": {
            "needs_background": "light"
          }
        }
      ]
    },
    {
      "cell_type": "code",
      "source": [
        "\"\"\"**Decision Tree classifier**\"\"\"\n",
        "\n",
        "from sklearn.tree import DecisionTreeClassifier\n",
        "dt = DecisionTreeClassifier(criterion = \"gini\", max_depth = 8)\n",
        "dt.fit(X_train_SM,Y_train_SM)\n",
        "Y_pred_dt_SM = dt.predict(X_test)\n",
        "\n",
        "dt.tree_.node_count, dt.tree_.max_depth\n",
        "\n",
        "print(confusion_matrix(Y_test,Y_pred_dt_SM))\n",
        "print(accuracy_score(Y_test,Y_pred_dt_SM))\n",
        "print(classification_report(Y_test,Y_pred_dt_SM))"
      ],
      "metadata": {
        "colab": {
          "base_uri": "https://localhost:8080/"
        },
        "id": "OjLV4zpiQ2wV",
        "outputId": "ac2a65f8-da8e-46bc-b4fa-b53c9d3d0197"
      },
      "execution_count": 167,
      "outputs": [
        {
          "output_type": "stream",
          "name": "stdout",
          "text": [
            "[[138  19]\n",
            " [ 11  52]]\n",
            "0.8636363636363636\n",
            "              precision    recall  f1-score   support\n",
            "\n",
            "         0.0       0.93      0.88      0.90       157\n",
            "         1.0       0.73      0.83      0.78        63\n",
            "\n",
            "    accuracy                           0.86       220\n",
            "   macro avg       0.83      0.85      0.84       220\n",
            "weighted avg       0.87      0.86      0.87       220\n",
            "\n"
          ]
        }
      ]
    },
    {
      "cell_type": "code",
      "source": [
        "dt_score = []\n",
        "md = range(1,14)\n",
        "for i in md:\n",
        "    dt = DecisionTreeClassifier(criterion = \"gini\", max_depth = i)\n",
        "    dt.fit(X_train_SM,Y_train_SM)\n",
        "    Y_pred_dt_SM = dt.predict(X_test)\n",
        "    dt_score.append(accuracy_score(Y_test,Y_pred_dt_SM))\n",
        "\n",
        "print(dt_score)"
      ],
      "metadata": {
        "colab": {
          "base_uri": "https://localhost:8080/"
        },
        "id": "1QLj5__wQ5sD",
        "outputId": "3d4da2a5-6fff-4507-a879-732db75c64f8"
      },
      "execution_count": 168,
      "outputs": [
        {
          "output_type": "stream",
          "name": "stdout",
          "text": [
            "[0.7, 0.7454545454545455, 0.7090909090909091, 0.7636363636363637, 0.8090909090909091, 0.85, 0.8454545454545455, 0.8636363636363636, 0.8590909090909091, 0.8590909090909091, 0.8681818181818182, 0.8727272727272727, 0.8772727272727273]\n"
          ]
        }
      ]
    },
    {
      "cell_type": "code",
      "source": [
        "plt.plot(md,dt_score,label = \"test_accuracy\")\n",
        "plt.ylabel(\"accuracy\")\n",
        "plt.xlabel(\"max depth\")\n",
        "plt.legend()"
      ],
      "metadata": {
        "colab": {
          "base_uri": "https://localhost:8080/",
          "height": 303
        },
        "id": "BdJ9NqCgQ5l-",
        "outputId": "58ac3724-b0c9-40bd-f9a6-9523bee0593a"
      },
      "execution_count": 169,
      "outputs": [
        {
          "output_type": "execute_result",
          "data": {
            "text/plain": [
              "<matplotlib.legend.Legend at 0x7f41d84c8d50>"
            ]
          },
          "metadata": {},
          "execution_count": 169
        },
        {
          "output_type": "display_data",
          "data": {
            "text/plain": [
              "<Figure size 432x288 with 1 Axes>"
            ],
            "image/png": "[encoded data removed]"
          },
          "metadata": {
            "needs_background": "light"
          }
        }
      ]
    },
    {
      "cell_type": "code",
      "source": [
        "\"\"\"**BaggingClassifier**\"\"\"\n",
        "\n",
        "from sklearn.ensemble import BaggingClassifier\n",
        "\n",
        "bag = BaggingClassifier(base_estimator = dt, max_samples = 0.6)\n",
        "bag.fit(X_train_SM,Y_train_SM)\n",
        "Y_pred_bag_SM = bag.predict(X_test)\n",
        "\n",
        "\n",
        "print(confusion_matrix(Y_test,Y_pred_bag_SM))\n",
        "print(accuracy_score(Y_test,Y_pred_bag_SM))\n",
        "print(classification_report(Y_test,Y_pred_bag_SM))"
      ],
      "metadata": {
        "colab": {
          "base_uri": "https://localhost:8080/"
        },
        "id": "UWPzaLPfRET1",
        "outputId": "958092ed-6f99-43a0-a5b4-11a7a73699c2"
      },
      "execution_count": 173,
      "outputs": [
        {
          "output_type": "stream",
          "name": "stdout",
          "text": [
            "[[147  10]\n",
            " [ 10  53]]\n",
            "0.9090909090909091\n",
            "              precision    recall  f1-score   support\n",
            "\n",
            "         0.0       0.94      0.94      0.94       157\n",
            "         1.0       0.84      0.84      0.84        63\n",
            "\n",
            "    accuracy                           0.91       220\n",
            "   macro avg       0.89      0.89      0.89       220\n",
            "weighted avg       0.91      0.91      0.91       220\n",
            "\n"
          ]
        }
      ]
    },
    {
      "cell_type": "code",
      "source": [
        "bag_score = []\n",
        "ms = np.arange(0.1,1,0.1)\n",
        "for i in ms:\n",
        "    bag = BaggingClassifier(base_estimator = dt, max_samples = i)\n",
        "    bag.fit(X_train_SM,Y_train_SM)\n",
        "    Y_pred_bag_SM = bag.predict(X_test)\n",
        "    bag_score.append(accuracy_score(Y_test,Y_pred_bag_SM))\n",
        "    \n",
        "print(bag_score)"
      ],
      "metadata": {
        "colab": {
          "base_uri": "https://localhost:8080/"
        },
        "id": "PJ2WSPIvRMOM",
        "outputId": "802b9de4-3dd4-4827-c741-e08376e91e97"
      },
      "execution_count": 171,
      "outputs": [
        {
          "output_type": "stream",
          "name": "stdout",
          "text": [
            "[0.8363636363636363, 0.8818181818181818, 0.8954545454545455, 0.8909090909090909, 0.8954545454545455, 0.9045454545454545, 0.8954545454545455, 0.9, 0.8954545454545455]\n"
          ]
        }
      ]
    },
    {
      "cell_type": "code",
      "source": [
        "plt.plot(ms,bag_score,label = \"accuracy\")\n",
        "plt.legend()"
      ],
      "metadata": {
        "colab": {
          "base_uri": "https://localhost:8080/",
          "height": 285
        },
        "id": "wmYeyppVRSsP",
        "outputId": "8fdda9d0-2466-4431-ab28-aaadf6964ab1"
      },
      "execution_count": 172,
      "outputs": [
        {
          "output_type": "execute_result",
          "data": {
            "text/plain": [
              "<matplotlib.legend.Legend at 0x7f41d83fb650>"
            ]
          },
          "metadata": {},
          "execution_count": 172
        },
        {
          "output_type": "display_data",
          "data": {
            "text/plain": [
              "<Figure size 432x288 with 1 Axes>"
            ],
            "image/png": "[encoded data removed]"
          },
          "metadata": {
            "needs_background": "light"
          }
        }
      ]
    },
    {
      "cell_type": "code",
      "source": [
        "###Random Forest Classifier**\n",
        "\n",
        "from sklearn.ensemble import RandomForestClassifier\n",
        "RF = RandomForestClassifier(max_features = 0.2, n_estimators = 38)\n",
        "RF.fit(X_train_SM,Y_train_SM)\n",
        "Y_pred_rf_SM = RF.predict(X_test)\n",
        "\n",
        "print(confusion_matrix(Y_test,Y_pred_rf_SM))\n",
        "print(accuracy_score(Y_test,Y_pred_rf_SM))\n",
        "print(classification_report(Y_test,Y_pred_rf_SM))"
      ],
      "metadata": {
        "colab": {
          "base_uri": "https://localhost:8080/"
        },
        "id": "5E5SyB1MRXbD",
        "outputId": "43897cd8-3c52-4ee9-bf8a-f607a1865d0f"
      },
      "execution_count": 187,
      "outputs": [
        {
          "output_type": "stream",
          "name": "stdout",
          "text": [
            "[[147  10]\n",
            " [  8  55]]\n",
            "0.9181818181818182\n",
            "              precision    recall  f1-score   support\n",
            "\n",
            "         0.0       0.95      0.94      0.94       157\n",
            "         1.0       0.85      0.87      0.86        63\n",
            "\n",
            "    accuracy                           0.92       220\n",
            "   macro avg       0.90      0.90      0.90       220\n",
            "weighted avg       0.92      0.92      0.92       220\n",
            "\n"
          ]
        }
      ]
    },
    {
      "cell_type": "code",
      "source": [
        "rf_score = []\n",
        "mf = np.arange(0.1,1,0.1)\n",
        "for i in mf:\n",
        "    RF = RandomForestClassifier(max_features = i, n_estimators = 38)\n",
        "    RF.fit(X_train_SM,Y_train_SM)\n",
        "    Y_pred_rf_SM = RF.predict(X_test)\n",
        "    rf_score.append(accuracy_score(Y_test,Y_pred_rf_SM))\n",
        "    \n",
        "print(rf_score)"
      ],
      "metadata": {
        "colab": {
          "base_uri": "https://localhost:8080/"
        },
        "id": "KssKmRGfRdhX",
        "outputId": "5baa67ca-a379-4431-dbdb-7835bbfe5978"
      },
      "execution_count": 182,
      "outputs": [
        {
          "output_type": "stream",
          "name": "stdout",
          "text": [
            "[0.9136363636363637, 0.9227272727272727, 0.9090909090909091, 0.9045454545454545, 0.9090909090909091, 0.9136363636363637, 0.9181818181818182, 0.9181818181818182, 0.9090909090909091]\n"
          ]
        }
      ]
    },
    {
      "cell_type": "code",
      "source": [
        "plt.plot(mf,rf_score,label = \"test_accuracy\")\n",
        "plt.ylabel(\"accuracy\")\n",
        "plt.xlabel(\"max features\")\n",
        "plt.legend()"
      ],
      "metadata": {
        "colab": {
          "base_uri": "https://localhost:8080/",
          "height": 303
        },
        "id": "aLVfHZkIRg-A",
        "outputId": "efba1cfb-f8d9-485f-c9da-314986900238"
      },
      "execution_count": 184,
      "outputs": [
        {
          "output_type": "execute_result",
          "data": {
            "text/plain": [
              "<matplotlib.legend.Legend at 0x7f41ce0c2a10>"
            ]
          },
          "metadata": {},
          "execution_count": 184
        },
        {
          "output_type": "display_data",
          "data": {
            "text/plain": [
              "<Figure size 432x288 with 1 Axes>"
            ],
            "image/png": "[encoded data removed]"
          },
          "metadata": {
            "needs_background": "light"
          }
        }
      ]
    },
    {
      "cell_type": "code",
      "source": [
        "rf_score1 = []\n",
        "est = range(30,40,1)\n",
        "for i in est:\n",
        "    \n",
        "    RF = RandomForestClassifier(max_features = 0.1, n_estimators = i)\n",
        "    RF.fit(X_train_SM,Y_train_SM)\n",
        "    Y_pred_rf_SM = RF.predict(X_test)\n",
        "    rf_score1.append(accuracy_score(Y_test,Y_pred_rf_SM))\n",
        "    \n",
        "print(rf_score1)"
      ],
      "metadata": {
        "colab": {
          "base_uri": "https://localhost:8080/"
        },
        "id": "-8FgXrISRlTp",
        "outputId": "cfc6e250-cbc2-4253-e264-0e2b43636973"
      },
      "execution_count": 185,
      "outputs": [
        {
          "output_type": "stream",
          "name": "stdout",
          "text": [
            "[0.9090909090909091, 0.9, 0.9090909090909091, 0.9090909090909091, 0.9045454545454545, 0.9181818181818182, 0.9090909090909091, 0.9136363636363637, 0.9272727272727272, 0.9227272727272727]\n"
          ]
        }
      ]
    },
    {
      "cell_type": "code",
      "source": [
        "plt.plot(est,rf_score1,label = \"test_accuracy\")\n",
        "plt.ylabel(\"accuracy\")\n",
        "plt.xlabel(\"n_estimators\")\n",
        "plt.legend()\n"
      ],
      "metadata": {
        "colab": {
          "base_uri": "https://localhost:8080/",
          "height": 303
        },
        "id": "KwArg5MwRpxd",
        "outputId": "9a725d78-64a6-42eb-a356-bde283152af9"
      },
      "execution_count": 186,
      "outputs": [
        {
          "output_type": "execute_result",
          "data": {
            "text/plain": [
              "<matplotlib.legend.Legend at 0x7f41cd64f2d0>"
            ]
          },
          "metadata": {},
          "execution_count": 186
        },
        {
          "output_type": "display_data",
          "data": {
            "text/plain": [
              "<Figure size 432x288 with 1 Axes>"
            ],
            "image/png": "[encoded data removed]"
          },
          "metadata": {
            "needs_background": "light"
          }
        }
      ]
    },
    {
      "cell_type": "code",
      "source": [
        "\"\"\"**Ada Boost Classifier**\"\"\"\n",
        "\n",
        "from sklearn.ensemble import AdaBoostClassifier\n",
        "\n",
        "adb = AdaBoostClassifier(base_estimator = dt, n_estimators = 40)\n",
        "adb.fit(X_train_SM,Y_train_SM)\n",
        "Y_pred_adb_SM = adb.predict(X_test)\n",
        "\n",
        "print(confusion_matrix(Y_test,Y_pred_adb_SM))\n",
        "print(accuracy_score(Y_test,Y_pred_adb_SM))\n",
        "print(classification_report(Y_test,Y_pred_adb_SM))\n"
      ],
      "metadata": {
        "colab": {
          "base_uri": "https://localhost:8080/"
        },
        "id": "XMff7khURuwf",
        "outputId": "b751b718-5770-4f81-d6d5-e3d98e029f30"
      },
      "execution_count": 191,
      "outputs": [
        {
          "output_type": "stream",
          "name": "stdout",
          "text": [
            "[[142  15]\n",
            " [ 13  50]]\n",
            "0.8727272727272727\n",
            "              precision    recall  f1-score   support\n",
            "\n",
            "         0.0       0.92      0.90      0.91       157\n",
            "         1.0       0.77      0.79      0.78        63\n",
            "\n",
            "    accuracy                           0.87       220\n",
            "   macro avg       0.84      0.85      0.85       220\n",
            "weighted avg       0.87      0.87      0.87       220\n",
            "\n"
          ]
        }
      ]
    },
    {
      "cell_type": "code",
      "source": [
        "adb_score = []\n",
        "est = range(1,100,10)\n",
        "for i in est:\n",
        "    adb = AdaBoostClassifier(base_estimator = dt, n_estimators = i)\n",
        "    adb.fit(X_train_SM,Y_train_SM)\n",
        "    Y_pred_adb_SM = adb.predict(X_test)\n",
        "    adb_score.append(accuracy_score(Y_test,Y_pred_adb_SM))\n",
        "\n",
        "print(adb_score)\n"
      ],
      "metadata": {
        "colab": {
          "base_uri": "https://localhost:8080/"
        },
        "id": "qztdRSPPR2GW",
        "outputId": "347e12f4-65e4-4ad0-ef07-2f8021bb733b"
      },
      "execution_count": 189,
      "outputs": [
        {
          "output_type": "stream",
          "name": "stdout",
          "text": [
            "[0.8772727272727273, 0.8727272727272727, 0.8772727272727273, 0.8772727272727273, 0.8818181818181818, 0.8818181818181818, 0.8727272727272727, 0.8772727272727273, 0.8818181818181818, 0.8772727272727273]\n"
          ]
        }
      ]
    },
    {
      "cell_type": "code",
      "source": [
        "plt.plot(est,adb_score,label = \"test_accuracy\")\n",
        "plt.ylabel(\"accuracy\")\n",
        "plt.xlabel(\"n_estimators\")\n",
        "plt.legend()\n"
      ],
      "metadata": {
        "colab": {
          "base_uri": "https://localhost:8080/",
          "height": 303
        },
        "id": "c6VNBY4-R57c",
        "outputId": "87e585ce-aa0e-4ea5-dc8c-062da2896eef"
      },
      "execution_count": 190,
      "outputs": [
        {
          "output_type": "execute_result",
          "data": {
            "text/plain": [
              "<matplotlib.legend.Legend at 0x7f41cd59dd10>"
            ]
          },
          "metadata": {},
          "execution_count": 190
        },
        {
          "output_type": "display_data",
          "data": {
            "text/plain": [
              "<Figure size 432x288 with 1 Axes>"
            ],
            "image/png": "[encoded data removed]"
          },
          "metadata": {
            "needs_background": "light"
          }
        }
      ]
    },
    {
      "cell_type": "code",
      "source": [
        "##**Gradinet Boosting**\n",
        "\n",
        "from sklearn.ensemble import GradientBoostingClassifier\n",
        "gbr = GradientBoostingClassifier(n_estimators = 100, learning_rate = 0.195)\n",
        "gbr.fit(X_train_SM,Y_train_SM)\n",
        "Y_pred_gbr_SM = gbr.predict(X_test)\n",
        "\n",
        "print(confusion_matrix(Y_test,Y_pred_gbr_SM))\n",
        "print(accuracy_score(Y_test,Y_pred_gbr_SM))\n",
        "print(classification_report(Y_test,Y_pred_gbr_SM))"
      ],
      "metadata": {
        "colab": {
          "base_uri": "https://localhost:8080/"
        },
        "id": "CA99ukAXR_RD",
        "outputId": "0e0e8001-d7c4-4e9c-ba59-320329e0a360"
      },
      "execution_count": 197,
      "outputs": [
        {
          "output_type": "stream",
          "name": "stdout",
          "text": [
            "[[143  14]\n",
            " [ 10  53]]\n",
            "0.8909090909090909\n",
            "              precision    recall  f1-score   support\n",
            "\n",
            "         0.0       0.93      0.91      0.92       157\n",
            "         1.0       0.79      0.84      0.82        63\n",
            "\n",
            "    accuracy                           0.89       220\n",
            "   macro avg       0.86      0.88      0.87       220\n",
            "weighted avg       0.89      0.89      0.89       220\n",
            "\n"
          ]
        }
      ]
    },
    {
      "cell_type": "code",
      "source": [
        "gbr_score = []\n",
        "setting = np.arange(0.01,0.2,0.01)\n",
        "for i in setting:\n",
        "    gbr = GradientBoostingClassifier(n_estimators = 100, learning_rate = i)\n",
        "    gbr.fit(X_train_SM,Y_train_SM)\n",
        "    Y_pred_gbr_SM = gbr.predict(X_test)\n",
        "    gbr_score.append(accuracy_score(Y_test,Y_pred_gbr_SM))\n",
        "\n",
        "print(gbr_score)"
      ],
      "metadata": {
        "colab": {
          "base_uri": "https://localhost:8080/"
        },
        "id": "f05ROajzSF58",
        "outputId": "9828b229-252b-4214-b618-4d42ac5ca491"
      },
      "execution_count": 193,
      "outputs": [
        {
          "output_type": "stream",
          "name": "stdout",
          "text": [
            "[0.8409090909090909, 0.8545454545454545, 0.8590909090909091, 0.85, 0.8590909090909091, 0.8590909090909091, 0.8636363636363636, 0.8681818181818182, 0.8863636363636364, 0.8818181818181818, 0.8818181818181818, 0.8727272727272727, 0.8818181818181818, 0.8818181818181818, 0.8909090909090909, 0.8818181818181818, 0.8863636363636364, 0.8909090909090909, 0.8954545454545455]\n"
          ]
        }
      ]
    },
    {
      "cell_type": "code",
      "source": [
        "plt.plot(setting,gbr_score,label = \"test_accuracy\")\n",
        "plt.ylabel(\"accuracy\")\n",
        "plt.xlabel(\"learning rate\")\n",
        "plt.legend()"
      ],
      "metadata": {
        "colab": {
          "base_uri": "https://localhost:8080/",
          "height": 303
        },
        "id": "Se2qt_iUSJ0v",
        "outputId": "1d29e2f6-d6b1-4fbc-f8a5-2919ecab40b0"
      },
      "execution_count": 194,
      "outputs": [
        {
          "output_type": "execute_result",
          "data": {
            "text/plain": [
              "<matplotlib.legend.Legend at 0x7f41cd51bc90>"
            ]
          },
          "metadata": {},
          "execution_count": 194
        },
        {
          "output_type": "display_data",
          "data": {
            "text/plain": [
              "<Figure size 432x288 with 1 Axes>"
            ],
            "image/png": "[encoded data removed]"
          },
          "metadata": {
            "needs_background": "light"
          }
        }
      ]
    },
    {
      "cell_type": "code",
      "source": [
        "##**XG Boost**\n",
        "\n",
        "\n",
        "from xgboost import XGBClassifier\n",
        "XG = XGBClassifier(learning_rate = 0.14, gamma = 0, reg_lambda = 1, n_estimators = 100)\n",
        "XG.fit(X_train_SM,Y_train_SM)\n",
        "Y_pred_XG_SM = XG.predict(X_test)\n",
        "\n",
        "print(confusion_matrix(Y_test,Y_pred_XG_SM))\n",
        "print(accuracy_score(Y_test,Y_pred_XG_SM))\n",
        "print(classification_report(Y_test,Y_pred_XG_SM))\n"
      ],
      "metadata": {
        "colab": {
          "base_uri": "https://localhost:8080/"
        },
        "id": "-f6dh0w0SMZ-",
        "outputId": "a6a2711a-aa43-42b6-d751-0151a1a9ae56"
      },
      "execution_count": 198,
      "outputs": [
        {
          "output_type": "stream",
          "name": "stdout",
          "text": [
            "[[143  14]\n",
            " [ 11  52]]\n",
            "0.8863636363636364\n",
            "              precision    recall  f1-score   support\n",
            "\n",
            "         0.0       0.93      0.91      0.92       157\n",
            "         1.0       0.79      0.83      0.81        63\n",
            "\n",
            "    accuracy                           0.89       220\n",
            "   macro avg       0.86      0.87      0.86       220\n",
            "weighted avg       0.89      0.89      0.89       220\n",
            "\n"
          ]
        }
      ]
    },
    {
      "cell_type": "code",
      "source": [
        "XG_score = []\n",
        "est = range(1,100,10)\n",
        "for i in est:\n",
        "    XG = XGBClassifier(learning_rate = 0.14, gamma = 0, reg_lambda = 1, n_estimators = i)\n",
        "    XG.fit(X_train_SM,Y_train_SM)\n",
        "    Y_pred_XG_SM = XG.predict(X_test)\n",
        "    XG_score.append(accuracy_score(Y_test,Y_pred_XG_SM))\n",
        "\n",
        "print(XG_score)"
      ],
      "metadata": {
        "colab": {
          "base_uri": "https://localhost:8080/"
        },
        "id": "JFHrydF4SUSS",
        "outputId": "48a5648c-557a-4916-d22c-8576f0d7a5e5"
      },
      "execution_count": 199,
      "outputs": [
        {
          "output_type": "stream",
          "name": "stdout",
          "text": [
            "[0.7045454545454546, 0.8409090909090909, 0.8545454545454545, 0.8590909090909091, 0.8590909090909091, 0.8636363636363636, 0.8636363636363636, 0.8772727272727273, 0.8818181818181818, 0.8818181818181818]\n"
          ]
        }
      ]
    },
    {
      "cell_type": "code",
      "source": [
        "plt.plot(est,XG_score,label = \"test_accuracy\")\n",
        "plt.ylabel(\"accuracy\")\n",
        "plt.xlabel(\"estimators\")\n",
        "plt.legend()"
      ],
      "metadata": {
        "colab": {
          "base_uri": "https://localhost:8080/",
          "height": 303
        },
        "id": "r6ItnNtKSXuL",
        "outputId": "11c3ebdf-f86a-46e0-b3a4-ad023b0df032"
      },
      "execution_count": 200,
      "outputs": [
        {
          "output_type": "execute_result",
          "data": {
            "text/plain": [
              "<matplotlib.legend.Legend at 0x7f41cdcda550>"
            ]
          },
          "metadata": {},
          "execution_count": 200
        },
        {
          "output_type": "display_data",
          "data": {
            "text/plain": [
              "<Figure size 432x288 with 1 Axes>"
            ],
            "image/png": "[encoded data removed]"
          },
          "metadata": {
            "needs_background": "light"
          }
        }
      ]
    },
    {
      "cell_type": "code",
      "source": [
        "print('Acc_XG_SM:', accuracy_score(Y_test,Y_pred_XG_SM))\n",
        "print('Acc_GRB_SM:', accuracy_score(Y_test,Y_pred_gbr_SM))\n",
        "print('Acc_ADB_SM:', accuracy_score(Y_test,Y_pred_adb_SM))\n",
        "print('Acc_RF_SM:', accuracy_score(Y_test,Y_pred_rf_SM))\n",
        "print('Acc_BAG_SM:', accuracy_score(Y_test,Y_pred_bag_SM))\n",
        "print('Acc_DT_SM:', accuracy_score(Y_test,Y_pred_dt_SM))\n",
        "print('Acc_SGD_SM:', accuracy_score(Y_test,Y_pred_sgd_SM))\n",
        "print('Acc_SVM_POLY_SM:', accuracy_score(Y_test,Y_pred_svm_poly_SM))\n",
        "print('Acc_SVM_RBF_SM:', accuracy_score(Y_test,Y_pred_svm_rbf_SM))\n",
        "print('Acc_SVM_LINEAR_SM:', accuracy_score(Y_test,Y_pred_svm_linear_SM))\n",
        "print('Acc_KNN_SM:', accuracy_score(Y_test,Y_pred_knn_SM))\n",
        "print('Acc_LR_SM:', accuracy_score(Y_test,y_pred_lr_SM))"
      ],
      "metadata": {
        "colab": {
          "base_uri": "https://localhost:8080/"
        },
        "id": "ydmctA9-SfLB",
        "outputId": "bbabea14-36df-4491-db0b-842a13580572"
      },
      "execution_count": 201,
      "outputs": [
        {
          "output_type": "stream",
          "name": "stdout",
          "text": [
            "Acc_XG_SM: 0.8818181818181818\n",
            "Acc_GRB_SM: 0.8909090909090909\n",
            "Acc_ADB_SM: 0.8727272727272727\n",
            "Acc_RF_SM: 0.9181818181818182\n",
            "Acc_BAG_SM: 0.9090909090909091\n",
            "Acc_DT_SM: 0.8772727272727273\n",
            "Acc_SGD_SM: 0.7227272727272728\n",
            "Acc_SVM_POLY_SM: 0.8363636363636363\n",
            "Acc_SVM_RBF_SM: 0.8090909090909091\n",
            "Acc_SVM_LINEAR_SM: 0.7636363636363637\n",
            "Acc_KNN_SM: 0.7772727272727272\n",
            "Acc_LR_SM: 0.75\n"
          ]
        }
      ]
    },
    {
      "cell_type": "code",
      "source": [
        "#'''''**** Accuracy Score including all feature ****''''''''\n",
        "Acc_XG_SM: 0.8909090909090909                       \n",
        "Acc_GRB_SM: 0.9136363636363637\n",
        "Acc_ADB_SM: 0.8681818181818182\n",
        "Acc_RF_SM: 0.9272727272727272\n",
        "Acc_BAG_SM: 0.9318181818181818\n",
        "Acc_DT_SM: 0.8681818181818182\n",
        "Acc_SGD_SM: 0.7136363636363636\n",
        "Acc_SVM_POLY_SM: 0.7954545454545454\n",
        "Acc_SVM_RBF_SM: 0.8681818181818182\n",
        "Acc_SVM_LINEAR_SM: 0.7727272727272727\n",
        "Acc_KNN_SM: 0.7772727272727272\n",
        "Acc_LR_SM: 0.8090909090909091 ##********'''''''''''''''''''\n",
        "\n",
        "After Feature Selection \n",
        "\n",
        "Acc_XG_SM: 0.8818181818181818\n",
        "Acc_GRB_SM: 0.8909090909090909\n",
        "Acc_ADB_SM: 0.8727272727272727\n",
        "Acc_RF_SM: 0.9181818181818182\n",
        "Acc_BAG_SM: 0.9090909090909091\n",
        "Acc_DT_SM: 0.8772727272727273\n",
        "Acc_SGD_SM: 0.7227272727272728\n",
        "Acc_SVM_POLY_SM: 0.8363636363636363\n",
        "Acc_SVM_RBF_SM: 0.8090909090909091\n",
        "Acc_SVM_LINEAR_SM: 0.7636363636363637\n",
        "Acc_KNN_SM: 0.7772727272727272\n",
        "Acc_LR_SM: 0.75"
      ],
      "metadata": {
        "id": "TvemNxOfj4ah"
      },
      "execution_count": 153,
      "outputs": []
    }
  ]
}