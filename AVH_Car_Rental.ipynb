{
  "nbformat": 4,
  "nbformat_minor": 0,
  "metadata": {
    "colab": {
      "name": "AVH_Car_Rental.ipynb",
      "provenance": [],
      "collapsed_sections": [],
      "mount_file_id": "1hCNO6ESAPpvI98IjLrdZatMsxNDi2RuY",
      "authorship_tag": "ABX9TyMW1iV3rDK1gWyxT04d8vBF",
      "include_colab_link": true
    },
    "kernelspec": {
      "name": "python3",
      "display_name": "Python 3"
    },
    "language_info": {
      "name": "python"
    }
  },
  "cells": [
    {
      "cell_type": "markdown",
      "metadata": {
        "id": "view-in-github",
        "colab_type": "text"
      },
      "source": [
        "<a href=\"https://colab.research.google.com/github/sarkar2527/DSAP/blob/main/AVH_Car_Rental.ipynb\" target=\"_parent\"><img src=\"https://colab.research.google.com/assets/colab-badge.svg\" alt=\"Open In Colab\"/></a>"
      ]
    },
    {
      "cell_type": "code",
      "source": [
        "from google.colab import drive\n",
        "drive.mount('/content/drive')"
      ],
      "metadata": {
        "colab": {
          "base_uri": "https://localhost:8080/"
        },
        "id": "2kkQ_cac8ix2",
        "outputId": "f97635c7-4ed4-4bfb-9301-41f0c2e394f6"
      },
      "execution_count": 273,
      "outputs": [
        {
          "output_type": "stream",
          "name": "stdout",
          "text": [
            "Drive already mounted at /content/drive; to attempt to forcibly remount, call drive.mount(\"/content/drive\", force_remount=True).\n"
          ]
        }
      ]
    },
    {
      "cell_type": "code",
      "execution_count": 274,
      "metadata": {
        "id": "GTR821XA8SGZ"
      },
      "outputs": [],
      "source": [
        "#Importing the neccessary Libraries\n",
        "import numpy as np\n",
        "import pandas as pd\n",
        "import matplotlib.pyplot as plt\n",
        "import seaborn as sns\n",
        "sns.set()\n",
        "%matplotlib inline"
      ]
    },
    {
      "cell_type": "code",
      "source": [
        "# Read the Training Data\n",
        "train_data = pd.read_csv(\"/content/drive/MyDrive/AV_Car_rental/train_E1GspfA.csv\")"
      ],
      "metadata": {
        "id": "QLB4dmyB8sM0"
      },
      "execution_count": 275,
      "outputs": []
    },
    {
      "cell_type": "code",
      "source": [
        "train_data.shape"
      ],
      "metadata": {
        "colab": {
          "base_uri": "https://localhost:8080/"
        },
        "id": "D0ecnJgQ867_",
        "outputId": "991d49e6-9143-4489-879f-bfa8e5645eb1"
      },
      "execution_count": 276,
      "outputs": [
        {
          "output_type": "execute_result",
          "data": {
            "text/plain": [
              "(18247, 3)"
            ]
          },
          "metadata": {},
          "execution_count": 276
        }
      ]
    },
    {
      "cell_type": "code",
      "source": [
        "train_data.head()"
      ],
      "metadata": {
        "colab": {
          "base_uri": "https://localhost:8080/",
          "height": 206
        },
        "id": "UNgd1C9U9FSK",
        "outputId": "81998cdf-9715-447f-b988-0a6e18981676"
      },
      "execution_count": 277,
      "outputs": [
        {
          "output_type": "execute_result",
          "data": {
            "text/plain": [
              "         date  hour  demand\n",
              "0  2018-08-18     9      91\n",
              "1  2018-08-18    10      21\n",
              "2  2018-08-18    13      23\n",
              "3  2018-08-18    14     104\n",
              "4  2018-08-18    15      81"
            ],
            "text/html": [
              "\n",
              "  <div id=\"df-ff4b45d8-5fd8-46ba-91fd-917579dc2e03\">\n",
              "    <div class=\"colab-df-container\">\n",
              "      <div>\n",
              "<style scoped>\n",
              "    .dataframe tbody tr th:only-of-type {\n",
              "        vertical-align: middle;\n",
              "    }\n",
              "\n",
              "    .dataframe tbody tr th {\n",
              "        vertical-align: top;\n",
              "    }\n",
              "\n",
              "    .dataframe thead th {\n",
              "        text-align: right;\n",
              "    }\n",
              "</style>\n",
              "<table border=\"1\" class=\"dataframe\">\n",
              "  <thead>\n",
              "    <tr style=\"text-align: right;\">\n",
              "      <th></th>\n",
              "      <th>date</th>\n",
              "      <th>hour</th>\n",
              "      <th>demand</th>\n",
              "    </tr>\n",
              "  </thead>\n",
              "  <tbody>\n",
              "    <tr>\n",
              "      <th>0</th>\n",
              "      <td>2018-08-18</td>\n",
              "      <td>9</td>\n",
              "      <td>91</td>\n",
              "    </tr>\n",
              "    <tr>\n",
              "      <th>1</th>\n",
              "      <td>2018-08-18</td>\n",
              "      <td>10</td>\n",
              "      <td>21</td>\n",
              "    </tr>\n",
              "    <tr>\n",
              "      <th>2</th>\n",
              "      <td>2018-08-18</td>\n",
              "      <td>13</td>\n",
              "      <td>23</td>\n",
              "    </tr>\n",
              "    <tr>\n",
              "      <th>3</th>\n",
              "      <td>2018-08-18</td>\n",
              "      <td>14</td>\n",
              "      <td>104</td>\n",
              "    </tr>\n",
              "    <tr>\n",
              "      <th>4</th>\n",
              "      <td>2018-08-18</td>\n",
              "      <td>15</td>\n",
              "      <td>81</td>\n",
              "    </tr>\n",
              "  </tbody>\n",
              "</table>\n",
              "</div>\n",
              "      <button class=\"colab-df-convert\" onclick=\"convertToInteractive('df-ff4b45d8-5fd8-46ba-91fd-917579dc2e03')\"\n",
              "              title=\"Convert this dataframe to an interactive table.\"\n",
              "              style=\"display:none;\">\n",
              "        \n",
              "  <svg xmlns=\"http://www.w3.org/2000/svg\" height=\"24px\"viewBox=\"0 0 24 24\"\n",
              "       width=\"24px\">\n",
              "    <path d=\"M0 0h24v24H0V0z\" fill=\"none\"/>\n",
              "    <path d=\"M18.56 5.44l.94 2.06.94-2.06 2.06-.94-2.06-.94-.94-2.06-.94 2.06-2.06.94zm-11 1L8.5 8.5l.94-2.06 2.06-.94-2.06-.94L8.5 2.5l-.94 2.06-2.06.94zm10 10l.94 2.06.94-2.06 2.06-.94-2.06-.94-.94-2.06-.94 2.06-2.06.94z\"/><path d=\"M17.41 7.96l-1.37-1.37c-.4-.4-.92-.59-1.43-.59-.52 0-1.04.2-1.43.59L10.3 9.45l-7.72 7.72c-.78.78-.78 2.05 0 2.83L4 21.41c.39.39.9.59 1.41.59.51 0 1.02-.2 1.41-.59l7.78-7.78 2.81-2.81c.8-.78.8-2.07 0-2.86zM5.41 20L4 18.59l7.72-7.72 1.47 1.35L5.41 20z\"/>\n",
              "  </svg>\n",
              "      </button>\n",
              "      \n",
              "  <style>\n",
              "    .colab-df-container {\n",
              "      display:flex;\n",
              "      flex-wrap:wrap;\n",
              "      gap: 12px;\n",
              "    }\n",
              "\n",
              "    .colab-df-convert {\n",
              "      background-color: #E8F0FE;\n",
              "      border: none;\n",
              "      border-radius: 50%;\n",
              "      cursor: pointer;\n",
              "      display: none;\n",
              "      fill: #1967D2;\n",
              "      height: 32px;\n",
              "      padding: 0 0 0 0;\n",
              "      width: 32px;\n",
              "    }\n",
              "\n",
              "    .colab-df-convert:hover {\n",
              "      background-color: #E2EBFA;\n",
              "      box-shadow: 0px 1px 2px rgba(60, 64, 67, 0.3), 0px 1px 3px 1px rgba(60, 64, 67, 0.15);\n",
              "      fill: #174EA6;\n",
              "    }\n",
              "\n",
              "    [theme=dark] .colab-df-convert {\n",
              "      background-color: #3B4455;\n",
              "      fill: #D2E3FC;\n",
              "    }\n",
              "\n",
              "    [theme=dark] .colab-df-convert:hover {\n",
              "      background-color: #434B5C;\n",
              "      box-shadow: 0px 1px 3px 1px rgba(0, 0, 0, 0.15);\n",
              "      filter: drop-shadow(0px 1px 2px rgba(0, 0, 0, 0.3));\n",
              "      fill: #FFFFFF;\n",
              "    }\n",
              "  </style>\n",
              "\n",
              "      <script>\n",
              "        const buttonEl =\n",
              "          document.querySelector('#df-ff4b45d8-5fd8-46ba-91fd-917579dc2e03 button.colab-df-convert');\n",
              "        buttonEl.style.display =\n",
              "          google.colab.kernel.accessAllowed ? 'block' : 'none';\n",
              "\n",
              "        async function convertToInteractive(key) {\n",
              "          const element = document.querySelector('#df-ff4b45d8-5fd8-46ba-91fd-917579dc2e03');\n",
              "          const dataTable =\n",
              "            await google.colab.kernel.invokeFunction('convertToInteractive',\n",
              "                                                     [key], {});\n",
              "          if (!dataTable) return;\n",
              "\n",
              "          const docLinkHtml = 'Like what you see? Visit the ' +\n",
              "            '<a target=\"_blank\" href=https://colab.research.google.com/notebooks/data_table.ipynb>data table notebook</a>'\n",
              "            + ' to learn more about interactive tables.';\n",
              "          element.innerHTML = '';\n",
              "          dataTable['output_type'] = 'display_data';\n",
              "          await google.colab.output.renderOutput(dataTable, element);\n",
              "          const docLink = document.createElement('div');\n",
              "          docLink.innerHTML = docLinkHtml;\n",
              "          element.appendChild(docLink);\n",
              "        }\n",
              "      </script>\n",
              "    </div>\n",
              "  </div>\n",
              "  "
            ]
          },
          "metadata": {},
          "execution_count": 277
        }
      ]
    },
    {
      "cell_type": "code",
      "source": [
        "train_data.info()"
      ],
      "metadata": {
        "colab": {
          "base_uri": "https://localhost:8080/"
        },
        "id": "mBHc7AyD9hyr",
        "outputId": "579b3fb6-217c-4b7c-de52-620b6faf1660"
      },
      "execution_count": 278,
      "outputs": [
        {
          "output_type": "stream",
          "name": "stdout",
          "text": [
            "<class 'pandas.core.frame.DataFrame'>\n",
            "RangeIndex: 18247 entries, 0 to 18246\n",
            "Data columns (total 3 columns):\n",
            " #   Column  Non-Null Count  Dtype \n",
            "---  ------  --------------  ----- \n",
            " 0   date    18247 non-null  object\n",
            " 1   hour    18247 non-null  int64 \n",
            " 2   demand  18247 non-null  int64 \n",
            "dtypes: int64(2), object(1)\n",
            "memory usage: 427.8+ KB\n"
          ]
        }
      ]
    },
    {
      "cell_type": "code",
      "source": [
        "train_data.isnull().sum()"
      ],
      "metadata": {
        "colab": {
          "base_uri": "https://localhost:8080/"
        },
        "id": "R7JpX28q9hq5",
        "outputId": "5f42490a-e883-4989-d506-13b1b745a196"
      },
      "execution_count": 279,
      "outputs": [
        {
          "output_type": "execute_result",
          "data": {
            "text/plain": [
              "date      0\n",
              "hour      0\n",
              "demand    0\n",
              "dtype: int64"
            ]
          },
          "metadata": {},
          "execution_count": 279
        }
      ]
    },
    {
      "cell_type": "code",
      "source": [
        "train_data.corr()"
      ],
      "metadata": {
        "colab": {
          "base_uri": "https://localhost:8080/",
          "height": 112
        },
        "id": "nf5cP1ah-MhM",
        "outputId": "860aa9cc-18e9-4c2f-c2b3-8cf3971117f3"
      },
      "execution_count": 280,
      "outputs": [
        {
          "output_type": "execute_result",
          "data": {
            "text/plain": [
              "            hour    demand\n",
              "hour    1.000000  0.161498\n",
              "demand  0.161498  1.000000"
            ],
            "text/html": [
              "\n",
              "  <div id=\"df-341aad5c-8674-4d15-8332-e8453d832e0e\">\n",
              "    <div class=\"colab-df-container\">\n",
              "      <div>\n",
              "<style scoped>\n",
              "    .dataframe tbody tr th:only-of-type {\n",
              "        vertical-align: middle;\n",
              "    }\n",
              "\n",
              "    .dataframe tbody tr th {\n",
              "        vertical-align: top;\n",
              "    }\n",
              "\n",
              "    .dataframe thead th {\n",
              "        text-align: right;\n",
              "    }\n",
              "</style>\n",
              "<table border=\"1\" class=\"dataframe\">\n",
              "  <thead>\n",
              "    <tr style=\"text-align: right;\">\n",
              "      <th></th>\n",
              "      <th>hour</th>\n",
              "      <th>demand</th>\n",
              "    </tr>\n",
              "  </thead>\n",
              "  <tbody>\n",
              "    <tr>\n",
              "      <th>hour</th>\n",
              "      <td>1.000000</td>\n",
              "      <td>0.161498</td>\n",
              "    </tr>\n",
              "    <tr>\n",
              "      <th>demand</th>\n",
              "      <td>0.161498</td>\n",
              "      <td>1.000000</td>\n",
              "    </tr>\n",
              "  </tbody>\n",
              "</table>\n",
              "</div>\n",
              "      <button class=\"colab-df-convert\" onclick=\"convertToInteractive('df-341aad5c-8674-4d15-8332-e8453d832e0e')\"\n",
              "              title=\"Convert this dataframe to an interactive table.\"\n",
              "              style=\"display:none;\">\n",
              "        \n",
              "  <svg xmlns=\"http://www.w3.org/2000/svg\" height=\"24px\"viewBox=\"0 0 24 24\"\n",
              "       width=\"24px\">\n",
              "    <path d=\"M0 0h24v24H0V0z\" fill=\"none\"/>\n",
              "    <path d=\"M18.56 5.44l.94 2.06.94-2.06 2.06-.94-2.06-.94-.94-2.06-.94 2.06-2.06.94zm-11 1L8.5 8.5l.94-2.06 2.06-.94-2.06-.94L8.5 2.5l-.94 2.06-2.06.94zm10 10l.94 2.06.94-2.06 2.06-.94-2.06-.94-.94-2.06-.94 2.06-2.06.94z\"/><path d=\"M17.41 7.96l-1.37-1.37c-.4-.4-.92-.59-1.43-.59-.52 0-1.04.2-1.43.59L10.3 9.45l-7.72 7.72c-.78.78-.78 2.05 0 2.83L4 21.41c.39.39.9.59 1.41.59.51 0 1.02-.2 1.41-.59l7.78-7.78 2.81-2.81c.8-.78.8-2.07 0-2.86zM5.41 20L4 18.59l7.72-7.72 1.47 1.35L5.41 20z\"/>\n",
              "  </svg>\n",
              "      </button>\n",
              "      \n",
              "  <style>\n",
              "    .colab-df-container {\n",
              "      display:flex;\n",
              "      flex-wrap:wrap;\n",
              "      gap: 12px;\n",
              "    }\n",
              "\n",
              "    .colab-df-convert {\n",
              "      background-color: #E8F0FE;\n",
              "      border: none;\n",
              "      border-radius: 50%;\n",
              "      cursor: pointer;\n",
              "      display: none;\n",
              "      fill: #1967D2;\n",
              "      height: 32px;\n",
              "      padding: 0 0 0 0;\n",
              "      width: 32px;\n",
              "    }\n",
              "\n",
              "    .colab-df-convert:hover {\n",
              "      background-color: #E2EBFA;\n",
              "      box-shadow: 0px 1px 2px rgba(60, 64, 67, 0.3), 0px 1px 3px 1px rgba(60, 64, 67, 0.15);\n",
              "      fill: #174EA6;\n",
              "    }\n",
              "\n",
              "    [theme=dark] .colab-df-convert {\n",
              "      background-color: #3B4455;\n",
              "      fill: #D2E3FC;\n",
              "    }\n",
              "\n",
              "    [theme=dark] .colab-df-convert:hover {\n",
              "      background-color: #434B5C;\n",
              "      box-shadow: 0px 1px 3px 1px rgba(0, 0, 0, 0.15);\n",
              "      filter: drop-shadow(0px 1px 2px rgba(0, 0, 0, 0.3));\n",
              "      fill: #FFFFFF;\n",
              "    }\n",
              "  </style>\n",
              "\n",
              "      <script>\n",
              "        const buttonEl =\n",
              "          document.querySelector('#df-341aad5c-8674-4d15-8332-e8453d832e0e button.colab-df-convert');\n",
              "        buttonEl.style.display =\n",
              "          google.colab.kernel.accessAllowed ? 'block' : 'none';\n",
              "\n",
              "        async function convertToInteractive(key) {\n",
              "          const element = document.querySelector('#df-341aad5c-8674-4d15-8332-e8453d832e0e');\n",
              "          const dataTable =\n",
              "            await google.colab.kernel.invokeFunction('convertToInteractive',\n",
              "                                                     [key], {});\n",
              "          if (!dataTable) return;\n",
              "\n",
              "          const docLinkHtml = 'Like what you see? Visit the ' +\n",
              "            '<a target=\"_blank\" href=https://colab.research.google.com/notebooks/data_table.ipynb>data table notebook</a>'\n",
              "            + ' to learn more about interactive tables.';\n",
              "          element.innerHTML = '';\n",
              "          dataTable['output_type'] = 'display_data';\n",
              "          await google.colab.output.renderOutput(dataTable, element);\n",
              "          const docLink = document.createElement('div');\n",
              "          docLink.innerHTML = docLinkHtml;\n",
              "          element.appendChild(docLink);\n",
              "        }\n",
              "      </script>\n",
              "    </div>\n",
              "  </div>\n",
              "  "
            ]
          },
          "metadata": {},
          "execution_count": 280
        }
      ]
    },
    {
      "cell_type": "code",
      "source": [
        "# Plotting histogram for the entire dataset\n",
        "fig = plt.figure(figsize = (15,15))\n",
        "ax = fig.gca()\n",
        "g = train_data.hist(ax=ax)"
      ],
      "metadata": {
        "colab": {
          "base_uri": "https://localhost:8080/",
          "height": 907
        },
        "id": "jqVrZYrTJ5wr",
        "outputId": "41544b6d-a72b-43a5-ce41-9c4669eca532"
      },
      "execution_count": 281,
      "outputs": [
        {
          "output_type": "stream",
          "name": "stderr",
          "text": [
            "/usr/local/lib/python3.7/dist-packages/ipykernel_launcher.py:4: UserWarning: To output multiple subplots, the figure containing the passed axes is being cleared\n",
            "  after removing the cwd from sys.path.\n"
          ]
        },
        {
          "output_type": "display_data",
          "data": {
            "text/plain": [
              "<Figure size 1080x1080 with 2 Axes>"
            ],
            "image/png": "[encoded data removed]"
          },
          "metadata": {
            "needs_background": "light"
          }
        }
      ]
    },
    {
      "cell_type": "code",
      "source": [
        "''' Since it is string value, we extract date alone from the existing column\n",
        "by creating the new column '''\n",
        "\n",
        "train_data[\"travel_day\"] = pd.to_datetime(train_data.date, format=\"%Y-%m-%d\").dt.day"
      ],
      "metadata": {
        "id": "pkOh0f5w95rr"
      },
      "execution_count": 282,
      "outputs": []
    },
    {
      "cell_type": "code",
      "source": [
        "''' Since it is string value, we extract month alone from the existing column\n",
        "by creating the new column '''\n",
        "\n",
        "train_data[\"travel_month\"] = pd.to_datetime(train_data.date, format=\"%Y-%m-%d\").dt.month"
      ],
      "metadata": {
        "id": "ph06broLAc-i"
      },
      "execution_count": 283,
      "outputs": []
    },
    {
      "cell_type": "code",
      "source": [
        "''' Since it is string value, we extract year alone from the existing column\n",
        "by creating the new column '''\n",
        "\n",
        "train_data[\"travel_year\"] = pd.to_datetime(train_data.date, format=\"%Y-%m-%d\").dt.year"
      ],
      "metadata": {
        "id": "CuG1PloGCPq0"
      },
      "execution_count": 284,
      "outputs": []
    },
    {
      "cell_type": "code",
      "source": [
        "# Since we have converted date column into integers, Now we can drop as it is of no use.\n",
        "\n",
        "train_data.drop([\"date\"], axis = 1, inplace = True)"
      ],
      "metadata": {
        "id": "OnnwZo4NCcqk"
      },
      "execution_count": 285,
      "outputs": []
    },
    {
      "cell_type": "code",
      "source": [
        "train_data.head()"
      ],
      "metadata": {
        "colab": {
          "base_uri": "https://localhost:8080/",
          "height": 206
        },
        "id": "gend3k39CjeJ",
        "outputId": "c1a4252f-3421-451b-dc8a-199c42eae048"
      },
      "execution_count": 286,
      "outputs": [
        {
          "output_type": "execute_result",
          "data": {
            "text/plain": [
              "   hour  demand  travel_day  travel_month  travel_year\n",
              "0     9      91          18             8         2018\n",
              "1    10      21          18             8         2018\n",
              "2    13      23          18             8         2018\n",
              "3    14     104          18             8         2018\n",
              "4    15      81          18             8         2018"
            ],
            "text/html": [
              "\n",
              "  <div id=\"df-63fa1197-cc69-4d44-a306-88614718155a\">\n",
              "    <div class=\"colab-df-container\">\n",
              "      <div>\n",
              "<style scoped>\n",
              "    .dataframe tbody tr th:only-of-type {\n",
              "        vertical-align: middle;\n",
              "    }\n",
              "\n",
              "    .dataframe tbody tr th {\n",
              "        vertical-align: top;\n",
              "    }\n",
              "\n",
              "    .dataframe thead th {\n",
              "        text-align: right;\n",
              "    }\n",
              "</style>\n",
              "<table border=\"1\" class=\"dataframe\">\n",
              "  <thead>\n",
              "    <tr style=\"text-align: right;\">\n",
              "      <th></th>\n",
              "      <th>hour</th>\n",
              "      <th>demand</th>\n",
              "      <th>travel_day</th>\n",
              "      <th>travel_month</th>\n",
              "      <th>travel_year</th>\n",
              "    </tr>\n",
              "  </thead>\n",
              "  <tbody>\n",
              "    <tr>\n",
              "      <th>0</th>\n",
              "      <td>9</td>\n",
              "      <td>91</td>\n",
              "      <td>18</td>\n",
              "      <td>8</td>\n",
              "      <td>2018</td>\n",
              "    </tr>\n",
              "    <tr>\n",
              "      <th>1</th>\n",
              "      <td>10</td>\n",
              "      <td>21</td>\n",
              "      <td>18</td>\n",
              "      <td>8</td>\n",
              "      <td>2018</td>\n",
              "    </tr>\n",
              "    <tr>\n",
              "      <th>2</th>\n",
              "      <td>13</td>\n",
              "      <td>23</td>\n",
              "      <td>18</td>\n",
              "      <td>8</td>\n",
              "      <td>2018</td>\n",
              "    </tr>\n",
              "    <tr>\n",
              "      <th>3</th>\n",
              "      <td>14</td>\n",
              "      <td>104</td>\n",
              "      <td>18</td>\n",
              "      <td>8</td>\n",
              "      <td>2018</td>\n",
              "    </tr>\n",
              "    <tr>\n",
              "      <th>4</th>\n",
              "      <td>15</td>\n",
              "      <td>81</td>\n",
              "      <td>18</td>\n",
              "      <td>8</td>\n",
              "      <td>2018</td>\n",
              "    </tr>\n",
              "  </tbody>\n",
              "</table>\n",
              "</div>\n",
              "      <button class=\"colab-df-convert\" onclick=\"convertToInteractive('df-63fa1197-cc69-4d44-a306-88614718155a')\"\n",
              "              title=\"Convert this dataframe to an interactive table.\"\n",
              "              style=\"display:none;\">\n",
              "        \n",
              "  <svg xmlns=\"http://www.w3.org/2000/svg\" height=\"24px\"viewBox=\"0 0 24 24\"\n",
              "       width=\"24px\">\n",
              "    <path d=\"M0 0h24v24H0V0z\" fill=\"none\"/>\n",
              "    <path d=\"M18.56 5.44l.94 2.06.94-2.06 2.06-.94-2.06-.94-.94-2.06-.94 2.06-2.06.94zm-11 1L8.5 8.5l.94-2.06 2.06-.94-2.06-.94L8.5 2.5l-.94 2.06-2.06.94zm10 10l.94 2.06.94-2.06 2.06-.94-2.06-.94-.94-2.06-.94 2.06-2.06.94z\"/><path d=\"M17.41 7.96l-1.37-1.37c-.4-.4-.92-.59-1.43-.59-.52 0-1.04.2-1.43.59L10.3 9.45l-7.72 7.72c-.78.78-.78 2.05 0 2.83L4 21.41c.39.39.9.59 1.41.59.51 0 1.02-.2 1.41-.59l7.78-7.78 2.81-2.81c.8-.78.8-2.07 0-2.86zM5.41 20L4 18.59l7.72-7.72 1.47 1.35L5.41 20z\"/>\n",
              "  </svg>\n",
              "      </button>\n",
              "      \n",
              "  <style>\n",
              "    .colab-df-container {\n",
              "      display:flex;\n",
              "      flex-wrap:wrap;\n",
              "      gap: 12px;\n",
              "    }\n",
              "\n",
              "    .colab-df-convert {\n",
              "      background-color: #E8F0FE;\n",
              "      border: none;\n",
              "      border-radius: 50%;\n",
              "      cursor: pointer;\n",
              "      display: none;\n",
              "      fill: #1967D2;\n",
              "      height: 32px;\n",
              "      padding: 0 0 0 0;\n",
              "      width: 32px;\n",
              "    }\n",
              "\n",
              "    .colab-df-convert:hover {\n",
              "      background-color: #E2EBFA;\n",
              "      box-shadow: 0px 1px 2px rgba(60, 64, 67, 0.3), 0px 1px 3px 1px rgba(60, 64, 67, 0.15);\n",
              "      fill: #174EA6;\n",
              "    }\n",
              "\n",
              "    [theme=dark] .colab-df-convert {\n",
              "      background-color: #3B4455;\n",
              "      fill: #D2E3FC;\n",
              "    }\n",
              "\n",
              "    [theme=dark] .colab-df-convert:hover {\n",
              "      background-color: #434B5C;\n",
              "      box-shadow: 0px 1px 3px 1px rgba(0, 0, 0, 0.15);\n",
              "      filter: drop-shadow(0px 1px 2px rgba(0, 0, 0, 0.3));\n",
              "      fill: #FFFFFF;\n",
              "    }\n",
              "  </style>\n",
              "\n",
              "      <script>\n",
              "        const buttonEl =\n",
              "          document.querySelector('#df-63fa1197-cc69-4d44-a306-88614718155a button.colab-df-convert');\n",
              "        buttonEl.style.display =\n",
              "          google.colab.kernel.accessAllowed ? 'block' : 'none';\n",
              "\n",
              "        async function convertToInteractive(key) {\n",
              "          const element = document.querySelector('#df-63fa1197-cc69-4d44-a306-88614718155a');\n",
              "          const dataTable =\n",
              "            await google.colab.kernel.invokeFunction('convertToInteractive',\n",
              "                                                     [key], {});\n",
              "          if (!dataTable) return;\n",
              "\n",
              "          const docLinkHtml = 'Like what you see? Visit the ' +\n",
              "            '<a target=\"_blank\" href=https://colab.research.google.com/notebooks/data_table.ipynb>data table notebook</a>'\n",
              "            + ' to learn more about interactive tables.';\n",
              "          element.innerHTML = '';\n",
              "          dataTable['output_type'] = 'display_data';\n",
              "          await google.colab.output.renderOutput(dataTable, element);\n",
              "          const docLink = document.createElement('div');\n",
              "          docLink.innerHTML = docLinkHtml;\n",
              "          element.appendChild(docLink);\n",
              "        }\n",
              "      </script>\n",
              "    </div>\n",
              "  </div>\n",
              "  "
            ]
          },
          "metadata": {},
          "execution_count": 286
        }
      ]
    },
    {
      "cell_type": "code",
      "source": [
        "###Splitting X and Y\n",
        "X = train_data.loc[:, ['hour','travel_day','travel_month','travel_year']]\n",
        "Y = train_data['demand']"
      ],
      "metadata": {
        "id": "31gkHv47Eu_F"
      },
      "execution_count": 287,
      "outputs": []
    },
    {
      "cell_type": "code",
      "source": [
        "# Finds correlation between Independent and dependent attributes\n",
        "\n",
        "plt.figure(figsize = (18,18))\n",
        "sns.heatmap(train_data.corr(), annot = True, cmap = \"RdYlGn\")\n",
        "plt.show()"
      ],
      "metadata": {
        "colab": {
          "base_uri": "https://localhost:8080/",
          "height": 913
        },
        "id": "QKyP6EaUFild",
        "outputId": "4378ed9c-367a-4b85-881a-65edae5dfe92"
      },
      "execution_count": 288,
      "outputs": [
        {
          "output_type": "display_data",
          "data": {
            "text/plain": [
              "<Figure size 1296x1296 with 2 Axes>"
            ],
            "image/png": "[encoded data removed]"
          },
          "metadata": {
            "needs_background": "light"
          }
        }
      ]
    },
    {
      "cell_type": "code",
      "source": [
        "# Important feature using ExtraTreesRegressor\n",
        "\n",
        "from sklearn.ensemble import ExtraTreesRegressor\n",
        "selection = ExtraTreesRegressor()\n",
        "selection.fit(X, Y)"
      ],
      "metadata": {
        "colab": {
          "base_uri": "https://localhost:8080/"
        },
        "id": "7QzaOo1iGdI6",
        "outputId": "7f0d8e2d-7ff8-46f2-db0a-c028303b32b6"
      },
      "execution_count": 289,
      "outputs": [
        {
          "output_type": "execute_result",
          "data": {
            "text/plain": [
              "ExtraTreesRegressor()"
            ]
          },
          "metadata": {},
          "execution_count": 289
        }
      ]
    },
    {
      "cell_type": "code",
      "source": [
        "print(selection.feature_importances_)"
      ],
      "metadata": {
        "colab": {
          "base_uri": "https://localhost:8080/"
        },
        "id": "Lsfhp02VGjEz",
        "outputId": "3783758f-5b98-4841-c713-5930d2eb7580"
      },
      "execution_count": 290,
      "outputs": [
        {
          "output_type": "stream",
          "name": "stdout",
          "text": [
            "[0.22227195 0.53238943 0.1901523  0.05518632]\n"
          ]
        }
      ]
    },
    {
      "cell_type": "code",
      "source": [
        "#plot graph of feature importances for better visualization\n",
        "\n",
        "plt.figure(figsize = (12,8))\n",
        "feat_importances = pd.Series(selection.feature_importances_, index=X.columns)\n",
        "feat_importances.nlargest(3).plot(kind='barh')\n",
        "plt.show()"
      ],
      "metadata": {
        "colab": {
          "base_uri": "https://localhost:8080/",
          "height": 485
        },
        "id": "k-Uy7968GnDR",
        "outputId": "1d20fe00-9fdb-425b-c35f-447fd289787a"
      },
      "execution_count": 291,
      "outputs": [
        {
          "output_type": "display_data",
          "data": {
            "text/plain": [
              "<Figure size 864x576 with 1 Axes>"
            ],
            "image/png": "[encoded data removed]"
          },
          "metadata": {
            "needs_background": "light"
          }
        }
      ]
    },
    {
      "cell_type": "code",
      "source": [
        "###Splitting X and Y. Ignoring Least Important Column\n",
        "X = train_data.loc[:, ['hour','travel_day','travel_month']]\n",
        "Y = train_data['demand']"
      ],
      "metadata": {
        "id": "rvFYF3BvG8nL"
      },
      "execution_count": 292,
      "outputs": []
    },
    {
      "cell_type": "code",
      "source": [
        "from sklearn.model_selection import train_test_split\n",
        "x_train, x_test, y_train, y_test = train_test_split(X, Y, test_size = 0.25, random_state = 42)"
      ],
      "metadata": {
        "id": "y_7VFO-9GCii"
      },
      "execution_count": 293,
      "outputs": []
    },
    {
      "cell_type": "code",
      "source": [
        "print(x_train.shape) \n",
        "print(x_test.shape) \n",
        "print(y_train.shape) \n",
        "print(y_test.shape)"
      ],
      "metadata": {
        "colab": {
          "base_uri": "https://localhost:8080/"
        },
        "id": "a0rpNQkOHQUj",
        "outputId": "7fb47acf-7729-443d-f175-c2c1a810ca5a"
      },
      "execution_count": 294,
      "outputs": [
        {
          "output_type": "stream",
          "name": "stdout",
          "text": [
            "(13685, 3)\n",
            "(4562, 3)\n",
            "(13685,)\n",
            "(4562,)\n"
          ]
        }
      ]
    },
    {
      "cell_type": "code",
      "source": [
        "#Try with Linear Regression\n",
        "\n",
        "from sklearn.linear_model import LinearRegression\n",
        "Linear_Reg = LinearRegression()\n",
        "Linear_Reg.fit(x_train, y_train)"
      ],
      "metadata": {
        "colab": {
          "base_uri": "https://localhost:8080/"
        },
        "id": "K5pXxOtaH49T",
        "outputId": "8560bf20-37ab-43c6-99f2-04ccb322f32d"
      },
      "execution_count": 295,
      "outputs": [
        {
          "output_type": "execute_result",
          "data": {
            "text/plain": [
              "LinearRegression()"
            ]
          },
          "metadata": {},
          "execution_count": 295
        }
      ]
    },
    {
      "cell_type": "code",
      "source": [
        "y_pred_lr = Linear_Reg.predict(x_test)"
      ],
      "metadata": {
        "id": "eFPUV2hHI36Y"
      },
      "execution_count": 296,
      "outputs": []
    },
    {
      "cell_type": "code",
      "source": [
        "from sklearn import metrics"
      ],
      "metadata": {
        "id": "GC6MKOPrINvJ"
      },
      "execution_count": 297,
      "outputs": []
    },
    {
      "cell_type": "code",
      "source": [
        "print('MAE:', metrics.mean_absolute_error(y_test, y_pred_lr))\n",
        "print('MSE:', metrics.mean_squared_error(y_test, y_pred_lr))\n",
        "print('RMSE:', np.sqrt(metrics.mean_squared_error(y_test, y_pred_lr)))"
      ],
      "metadata": {
        "colab": {
          "base_uri": "https://localhost:8080/"
        },
        "id": "686w7Z56IqZD",
        "outputId": "061f0d0b-a2f5-4691-a965-b56fa505530a"
      },
      "execution_count": 298,
      "outputs": [
        {
          "output_type": "stream",
          "name": "stdout",
          "text": [
            "MAE: 31.334730169640945\n",
            "MSE: 1633.4086199473297\n",
            "RMSE: 40.41545026283055\n"
          ]
        }
      ]
    },
    {
      "cell_type": "code",
      "source": [
        "lr_test_rmse = []\n",
        "random_state = range(1,100,10)\n",
        "\n",
        "for i in random_state:\n",
        "    x_train,x_test,y_train,y_test = train_test_split(X,Y,test_size = 0.3, random_state=i)\n",
        "    Linear_Reg.fit(x_train,y_train)\n",
        "    Y_pred_LR = Linear_Reg.predict(x_test)\n",
        "    lr_test_rmse.append(np.sqrt(metrics.mean_squared_error(y_test, Y_pred_LR)))\n",
        "    \n",
        "print(lr_test_rmse)"
      ],
      "metadata": {
        "colab": {
          "base_uri": "https://localhost:8080/"
        },
        "id": "MWuhKe65varX",
        "outputId": "1f4e00c9-2f87-4b27-8c2c-2a336b6598cd"
      },
      "execution_count": 299,
      "outputs": [
        {
          "output_type": "stream",
          "name": "stdout",
          "text": [
            "[40.315121670334364, 40.90286053700679, 40.768906633153556, 41.15554231336735, 41.09709237987521, 41.094614767651834, 41.49904116258738, 40.404903207866646, 41.432398630278286, 41.050678058237615]\n"
          ]
        }
      ]
    },
    {
      "cell_type": "code",
      "source": [
        "plt.plot(random_state,lr_test_rmse, label = \"LRRMSE\")\n",
        "plt.ylabel(\"LRRMSE\")\n",
        "plt.xlabel(\"random state\")\n",
        "plt.legend()"
      ],
      "metadata": {
        "colab": {
          "base_uri": "https://localhost:8080/",
          "height": 303
        },
        "id": "MVHCZkX6xBga",
        "outputId": "d9994acb-ceda-451e-f8ea-dc13f235dcba"
      },
      "execution_count": 300,
      "outputs": [
        {
          "output_type": "execute_result",
          "data": {
            "text/plain": [
              "<matplotlib.legend.Legend at 0x7fa39334a2d0>"
            ]
          },
          "metadata": {},
          "execution_count": 300
        },
        {
          "output_type": "display_data",
          "data": {
            "text/plain": [
              "<Figure size 432x288 with 1 Axes>"
            ],
            "image/png": "[encoded data removed]"
          },
          "metadata": {
            "needs_background": "light"
          }
        }
      ]
    },
    {
      "cell_type": "code",
      "source": [
        "# Decision Tree\n",
        "\n",
        "from sklearn.tree import DecisionTreeRegressor\n",
        "dt = DecisionTreeRegressor(criterion = \"mse\", max_depth = 8)\n",
        "dt.fit(x_train,y_train)\n",
        "y_pred_dt= dt.predict(x_test)"
      ],
      "metadata": {
        "colab": {
          "base_uri": "https://localhost:8080/"
        },
        "id": "gL0Hq9rATLDX",
        "outputId": "4de7bd6d-eca6-48fc-d16a-45c73732ffa7"
      },
      "execution_count": 301,
      "outputs": [
        {
          "output_type": "stream",
          "name": "stderr",
          "text": [
            "/usr/local/lib/python3.7/dist-packages/sklearn/tree/_classes.py:363: FutureWarning: Criterion 'mse' was deprecated in v1.0 and will be removed in version 1.2. Use `criterion='squared_error'` which is equivalent.\n",
            "  FutureWarning,\n"
          ]
        }
      ]
    },
    {
      "cell_type": "code",
      "source": [
        "print('MAE:', metrics.mean_absolute_error(y_test, y_pred_dt))\n",
        "print('MSE:', metrics.mean_squared_error(y_test, y_pred_dt))\n",
        "print('RMSE:', np.sqrt(metrics.mean_squared_error(y_test, y_pred_dt)))"
      ],
      "metadata": {
        "colab": {
          "base_uri": "https://localhost:8080/"
        },
        "id": "6AaToNzoTeR-",
        "outputId": "693eb8d8-816f-432a-e593-ec0b3ddcebe0"
      },
      "execution_count": 302,
      "outputs": [
        {
          "output_type": "stream",
          "name": "stdout",
          "text": [
            "MAE: 29.470262253053654\n",
            "MSE: 1333.0874290464478\n",
            "RMSE: 36.511469828623\n"
          ]
        }
      ]
    },
    {
      "cell_type": "code",
      "source": [
        "dt_test_rmse =[]\n",
        "for i in range(1, 11):\n",
        "    dt_para = DecisionTreeRegressor(max_depth=i)\n",
        "    dt_para.fit(x_train,y_train)\n",
        "    y_pred_dt_para = dt_para.predict(x_test)\n",
        "    dt_test_rmse.append(np.sqrt(metrics.mean_squared_error(y_test, y_pred_dt_para)))\n",
        "print(dt_test_rmse)"
      ],
      "metadata": {
        "colab": {
          "base_uri": "https://localhost:8080/"
        },
        "id": "pWTnsRDMTreZ",
        "outputId": "bfe734ba-005a-4d14-b6d4-adb02442ed17"
      },
      "execution_count": 303,
      "outputs": [
        {
          "output_type": "stream",
          "name": "stdout",
          "text": [
            "[40.128273331081196, 39.16583533419426, 38.28016443865665, 37.74136304554364, 37.099423698111465, 36.365098473986585, 36.305876402672745, 36.511469828623, 36.84411162780912, 37.75343247665359]\n"
          ]
        }
      ]
    },
    {
      "cell_type": "code",
      "source": [
        "# Plotting the results of decision_scores\n",
        "plt.figure(figsize=(20,15))\n",
        "plt.plot([i for i in range(1, 11)], dt_test_rmse, color = 'red')\n",
        "for i in range(1,11):\n",
        "    plt.text(i, dt_test_rmse[i-1], (i, dt_test_rmse[i-1]))\n",
        "plt.xticks([i for i in range(1, 11)])\n",
        "plt.xlabel('Depth of Decision Tree (N)')\n",
        "plt.ylabel('Scores')\n",
        "plt.title('Decision Tree Regressor scores for different depth values')"
      ],
      "metadata": {
        "colab": {
          "base_uri": "https://localhost:8080/",
          "height": 634
        },
        "id": "y0L1Vf74VAm8",
        "outputId": "5749d8e9-f4bb-4f93-eeb4-4963eb61d6f1"
      },
      "execution_count": 304,
      "outputs": [
        {
          "output_type": "execute_result",
          "data": {
            "text/plain": [
              "Text(0.5, 1.0, 'Decision Tree Regressor scores for different depth values')"
            ]
          },
          "metadata": {},
          "execution_count": 304
        },
        {
          "output_type": "display_data",
          "data": {
            "text/plain": [
              "<Figure size 1440x1080 with 1 Axes>"
            ],
            "image/png": "[encoded data removed]"
          },
          "metadata": {
            "needs_background": "light"
          }
        }
      ]
    },
    {
      "cell_type": "markdown",
      "source": [
        "Decision Tree regressor rmse with max_depth=8 is: 35.93533504\n"
      ],
      "metadata": {
        "id": "1OchjeZOV6vv"
      }
    },
    {
      "cell_type": "code",
      "source": [
        "dt.tree_.node_count"
      ],
      "metadata": {
        "colab": {
          "base_uri": "https://localhost:8080/"
        },
        "id": "_HiHXylhfrm-",
        "outputId": "b2c35c9c-3208-4bd9-bb6b-fc382d6f17b5"
      },
      "execution_count": 305,
      "outputs": [
        {
          "output_type": "execute_result",
          "data": {
            "text/plain": [
              "497"
            ]
          },
          "metadata": {},
          "execution_count": 305
        }
      ]
    },
    {
      "cell_type": "code",
      "source": [
        "dt.tree_.max_depth"
      ],
      "metadata": {
        "colab": {
          "base_uri": "https://localhost:8080/"
        },
        "id": "WeJmgerPfuZJ",
        "outputId": "ed672af2-418b-4b07-bfb9-f8526167361d"
      },
      "execution_count": 306,
      "outputs": [
        {
          "output_type": "execute_result",
          "data": {
            "text/plain": [
              "8"
            ]
          },
          "metadata": {},
          "execution_count": 306
        }
      ]
    },
    {
      "cell_type": "markdown",
      "source": [
        "Bagging"
      ],
      "metadata": {
        "id": "SY8tjUKaZQTA"
      }
    },
    {
      "cell_type": "code",
      "source": [
        "from sklearn.ensemble import BaggingRegressor"
      ],
      "metadata": {
        "id": "Dh8YNCLwZPJ4"
      },
      "execution_count": 307,
      "outputs": []
    },
    {
      "cell_type": "markdown",
      "source": [
        "base_estimator = dt, max_samples = 0.5"
      ],
      "metadata": {
        "id": "FjeC72viZeXk"
      }
    },
    {
      "cell_type": "code",
      "source": [
        "bag = BaggingRegressor(base_estimator = dt, max_samples = 0.6)\n",
        "bag.fit(x_train,y_train)\n",
        "Y_pred_bag = bag.predict(x_test)"
      ],
      "metadata": {
        "id": "TyRXCAubZZSh"
      },
      "execution_count": 308,
      "outputs": []
    },
    {
      "cell_type": "code",
      "source": [
        "print('MAE:', metrics.mean_absolute_error(y_test, Y_pred_bag))\n",
        "print('MSE:', metrics.mean_squared_error(y_test, Y_pred_bag))\n",
        "print('RMSE:', np.sqrt(metrics.mean_squared_error(y_test, Y_pred_bag)))"
      ],
      "metadata": {
        "colab": {
          "base_uri": "https://localhost:8080/"
        },
        "id": "LHLYAPLBZ_Zd",
        "outputId": "e47fa555-1644-405f-a06b-536671d24052"
      },
      "execution_count": 309,
      "outputs": [
        {
          "output_type": "stream",
          "name": "stdout",
          "text": [
            "MAE: 28.807426115156584\n",
            "MSE: 1266.206847347908\n",
            "RMSE: 35.58380034998943\n"
          ]
        }
      ]
    },
    {
      "cell_type": "code",
      "source": [
        "bag_rmse = []\n",
        "ms = np.arange(0.1,1,0.1)\n",
        "for i in ms:\n",
        "    bag = BaggingRegressor(base_estimator = dt, max_samples = i)\n",
        "    bag.fit(x_train,y_train)\n",
        "    Y_pred_bag = bag.predict(x_test)\n",
        "    bag_rmse.append(np.sqrt(metrics.mean_squared_error(y_test, Y_pred_bag)))\n",
        "print(bag_rmse)"
      ],
      "metadata": {
        "colab": {
          "base_uri": "https://localhost:8080/"
        },
        "id": "2n4QrCutaAgq",
        "outputId": "88901792-ba0b-47a3-c100-d003975cc15d"
      },
      "execution_count": 310,
      "outputs": [
        {
          "output_type": "stream",
          "name": "stdout",
          "text": [
            "[36.05126662189162, 35.923546557136376, 35.54102820525268, 35.664881551601965, 35.802608523759865, 35.67948456090358, 35.67192010519252, 35.73503432461656, 35.620470906157045]\n"
          ]
        }
      ]
    },
    {
      "cell_type": "code",
      "source": [
        "# Plotting the results of Random_Forest\n",
        "plt.plot(ms,bag_rmse,label = \"RMSE\")\n",
        "plt.legend()"
      ],
      "metadata": {
        "colab": {
          "base_uri": "https://localhost:8080/",
          "height": 285
        },
        "id": "mev0sWAWaAZ4",
        "outputId": "d62ea0ce-1420-4c23-fed7-5faed4015248"
      },
      "execution_count": 311,
      "outputs": [
        {
          "output_type": "execute_result",
          "data": {
            "text/plain": [
              "<matplotlib.legend.Legend at 0x7fa392ec4a10>"
            ]
          },
          "metadata": {},
          "execution_count": 311
        },
        {
          "output_type": "display_data",
          "data": {
            "text/plain": [
              "<Figure size 432x288 with 1 Axes>"
            ],
            "image/png": "[encoded data removed]"
          },
          "metadata": {
            "needs_background": "light"
          }
        }
      ]
    },
    {
      "cell_type": "code",
      "source": [
        "sns.distplot(y_test-Y_pred_bag)\n",
        "plt.show()"
      ],
      "metadata": {
        "colab": {
          "base_uri": "https://localhost:8080/",
          "height": 340
        },
        "id": "iHtid1dbjlrt",
        "outputId": "4b14bd66-650c-4aa4-c51b-30ae0ec25f71"
      },
      "execution_count": 312,
      "outputs": [
        {
          "output_type": "stream",
          "name": "stderr",
          "text": [
            "/usr/local/lib/python3.7/dist-packages/seaborn/distributions.py:2619: FutureWarning: `distplot` is a deprecated function and will be removed in a future version. Please adapt your code to use either `displot` (a figure-level function with similar flexibility) or `histplot` (an axes-level function for histograms).\n",
            "  warnings.warn(msg, FutureWarning)\n"
          ]
        },
        {
          "output_type": "display_data",
          "data": {
            "text/plain": [
              "<Figure size 432x288 with 1 Axes>"
            ],
            "image/png": "[encoded data removed]"
          },
          "metadata": {
            "needs_background": "light"
          }
        }
      ]
    },
    {
      "cell_type": "code",
      "source": [
        "from sklearn.model_selection import cross_val_score"
      ],
      "metadata": {
        "id": "Rymeb20mW9a9"
      },
      "execution_count": 313,
      "outputs": []
    },
    {
      "cell_type": "code",
      "source": [
        "from sklearn.ensemble import RandomForestRegressor\n",
        "reg_rf = RandomForestRegressor(max_features = 0.4, n_estimators = 31)\n",
        "reg_rf.fit(x_train, y_train)"
      ],
      "metadata": {
        "colab": {
          "base_uri": "https://localhost:8080/"
        },
        "id": "a3kT8_ZKINJs",
        "outputId": "848266b9-1731-4245-eab5-7801dbea6bac"
      },
      "execution_count": 314,
      "outputs": [
        {
          "output_type": "execute_result",
          "data": {
            "text/plain": [
              "RandomForestRegressor(max_features=0.4, n_estimators=31)"
            ]
          },
          "metadata": {},
          "execution_count": 314
        }
      ]
    },
    {
      "cell_type": "code",
      "source": [
        "y_pred_rf = reg_rf.predict(x_test)"
      ],
      "metadata": {
        "id": "1GuX2031Q9qv"
      },
      "execution_count": 315,
      "outputs": []
    },
    {
      "cell_type": "code",
      "source": [
        "print('MAE:', metrics.mean_absolute_error(y_test, y_pred_rf))\n",
        "print('MSE:', metrics.mean_squared_error(y_test, y_pred_rf))\n",
        "print('RMSE:', np.sqrt(metrics.mean_squared_error(y_test, y_pred_rf)))"
      ],
      "metadata": {
        "colab": {
          "base_uri": "https://localhost:8080/"
        },
        "id": "0u5PxkM8RF5r",
        "outputId": "84e06fc1-bfaa-48ec-f7df-343517a8fbe5"
      },
      "execution_count": 316,
      "outputs": [
        {
          "output_type": "stream",
          "name": "stdout",
          "text": [
            "MAE: 32.77097425744089\n",
            "MSE: 1718.1811293380317\n",
            "RMSE: 41.45094847332244\n"
          ]
        }
      ]
    },
    {
      "cell_type": "code",
      "source": [
        "reg_rf.score(x_train, y_train)"
      ],
      "metadata": {
        "colab": {
          "base_uri": "https://localhost:8080/"
        },
        "id": "RqDeVAUlROL9",
        "outputId": "7409a052-64f2-444f-9ce0-d6e317da94e2"
      },
      "execution_count": 317,
      "outputs": [
        {
          "output_type": "execute_result",
          "data": {
            "text/plain": [
              "0.6352861764396187"
            ]
          },
          "metadata": {},
          "execution_count": 317
        }
      ]
    },
    {
      "cell_type": "code",
      "source": [
        "rf_score = []\n",
        "mf = np.arange(0.1,1,0.1)\n",
        "for i in mf:\n",
        "    RF = RandomForestRegressor(max_features = i, n_estimators = 30)\n",
        "    RF.fit(x_train,y_train)\n",
        "    Y_pred_rf = RF.predict(x_test)\n",
        "    rf_score.append(np.sqrt(metrics.mean_squared_error(y_test, Y_pred_rf)))    \n",
        "print(rf_score)"
      ],
      "metadata": {
        "colab": {
          "base_uri": "https://localhost:8080/"
        },
        "id": "8UkMS-TZggMV",
        "outputId": "bc6990ba-55fe-4054-bf97-f00e0dd94943"
      },
      "execution_count": 318,
      "outputs": [
        {
          "output_type": "stream",
          "name": "stdout",
          "text": [
            "[41.57643674177499, 41.3633449174862, 41.54704374006008, 41.37129710944147, 41.4677739032737, 41.59042251322442, 41.51292127500756, 41.590595212307875, 41.62957963604144]\n"
          ]
        }
      ]
    },
    {
      "cell_type": "code",
      "source": [
        "plt.plot(mf,rf_score,label = \"RFRMSE\")\n",
        "plt.ylabel(\"accuracy\")\n",
        "plt.xlabel(\"max features\")\n",
        "plt.legend()"
      ],
      "metadata": {
        "colab": {
          "base_uri": "https://localhost:8080/",
          "height": 303
        },
        "id": "HnNFh3dthNlL",
        "outputId": "94dc346d-fde3-4b72-e575-ba82226abee7"
      },
      "execution_count": 319,
      "outputs": [
        {
          "output_type": "execute_result",
          "data": {
            "text/plain": [
              "<matplotlib.legend.Legend at 0x7fa392c6e750>"
            ]
          },
          "metadata": {},
          "execution_count": 319
        },
        {
          "output_type": "display_data",
          "data": {
            "text/plain": [
              "<Figure size 432x288 with 1 Axes>"
            ],
            "image/png": "[encoded data removed]"
          },
          "metadata": {
            "needs_background": "light"
          }
        }
      ]
    },
    {
      "cell_type": "code",
      "source": [
        "sns.distplot(y_test-y_pred_rf)\n",
        "plt.show()"
      ],
      "metadata": {
        "colab": {
          "base_uri": "https://localhost:8080/",
          "height": 341
        },
        "id": "002eKiEajaOw",
        "outputId": "ed4b401a-f90a-47ef-a78f-f1aaddff63a6"
      },
      "execution_count": 320,
      "outputs": [
        {
          "output_type": "stream",
          "name": "stderr",
          "text": [
            "/usr/local/lib/python3.7/dist-packages/seaborn/distributions.py:2619: FutureWarning: `distplot` is a deprecated function and will be removed in a future version. Please adapt your code to use either `displot` (a figure-level function with similar flexibility) or `histplot` (an axes-level function for histograms).\n",
            "  warnings.warn(msg, FutureWarning)\n"
          ]
        },
        {
          "output_type": "display_data",
          "data": {
            "text/plain": [
              "<Figure size 432x288 with 1 Axes>"
            ],
            "image/png": "[encoded data removed]"
          },
          "metadata": {
            "needs_background": "light"
          }
        }
      ]
    },
    {
      "cell_type": "markdown",
      "source": [
        "**Ada Boost**"
      ],
      "metadata": {
        "id": "NH9-FLIy2igL"
      }
    },
    {
      "cell_type": "code",
      "source": [
        "from sklearn.ensemble import AdaBoostRegressor\n",
        "adb = AdaBoostRegressor(base_estimator = dt, n_estimators = 20)\n",
        "adb.fit(x_train,y_train)\n",
        "Y_pred_adb = adb.predict(x_test)"
      ],
      "metadata": {
        "id": "-8euJI1p0KOs"
      },
      "execution_count": 321,
      "outputs": []
    },
    {
      "cell_type": "code",
      "source": [
        "print('ADB_MAE:', metrics.mean_absolute_error(y_test, Y_pred_adb))\n",
        "print('ADB_MSE:', metrics.mean_squared_error(y_test, Y_pred_adb))\n",
        "print('ADB_RMSE:', np.sqrt(metrics.mean_squared_error(y_test, Y_pred_adb)))"
      ],
      "metadata": {
        "colab": {
          "base_uri": "https://localhost:8080/"
        },
        "id": "cc8F8Jxj0fJk",
        "outputId": "11ce9539-3295-4115-b4cb-2e399fb53a74"
      },
      "execution_count": 322,
      "outputs": [
        {
          "output_type": "stream",
          "name": "stdout",
          "text": [
            "ADB_MAE: 29.375668158470067\n",
            "ADB_MSE: 1321.3339350222113\n",
            "ADB_RMSE: 36.35015729019905\n"
          ]
        }
      ]
    },
    {
      "cell_type": "code",
      "source": [
        "adb_rmsescore = []\n",
        "est = range(1,100,10)\n",
        "for i in est:\n",
        "    adb = AdaBoostRegressor(base_estimator = dt, n_estimators = i)\n",
        "    adb.fit(x_train,y_train)\n",
        "    y_pred_adb = adb.predict(x_test)\n",
        "    adb_rmsescore.append(np.sqrt(metrics.mean_squared_error(y_test, y_pred_adb)))    \n",
        "\n",
        "print(adb_rmsescore)"
      ],
      "metadata": {
        "colab": {
          "base_uri": "https://localhost:8080/"
        },
        "id": "zLOCbbI80foT",
        "outputId": "2fd07883-7f72-4319-e06e-492387555692"
      },
      "execution_count": 323,
      "outputs": [
        {
          "output_type": "stream",
          "name": "stdout",
          "text": [
            "[37.02028596453217, 36.280879939461485, 36.20403520602028, 36.4194449119964, 36.41405378302445, 36.40023782900473, 36.321992599221154, 36.259684900295355, 36.197303923523826, 36.48240289785263]\n"
          ]
        }
      ]
    },
    {
      "cell_type": "code",
      "source": [
        "plt.plot(est,adb_rmsescore,label = \"rmse_score\")\n",
        "plt.ylabel(\"rmse_score\")\n",
        "plt.xlabel(\"n_estimators\")\n",
        "plt.legend()"
      ],
      "metadata": {
        "colab": {
          "base_uri": "https://localhost:8080/",
          "height": 303
        },
        "id": "ARAWmDcl1rrF",
        "outputId": "01e83105-ccb8-42a4-ed32-49a82eef712f"
      },
      "execution_count": 324,
      "outputs": [
        {
          "output_type": "execute_result",
          "data": {
            "text/plain": [
              "<matplotlib.legend.Legend at 0x7fa392d55ed0>"
            ]
          },
          "metadata": {},
          "execution_count": 324
        },
        {
          "output_type": "display_data",
          "data": {
            "text/plain": [
              "<Figure size 432x288 with 1 Axes>"
            ],
            "image/png": "[encoded data removed]"
          },
          "metadata": {
            "needs_background": "light"
          }
        }
      ]
    },
    {
      "cell_type": "markdown",
      "source": [
        "**GradientBoosting**"
      ],
      "metadata": {
        "id": "Mz0vy9Ay3YEo"
      }
    },
    {
      "cell_type": "code",
      "source": [
        "from sklearn.ensemble import GradientBoostingRegressor"
      ],
      "metadata": {
        "id": "-4VTF_cf2rBA"
      },
      "execution_count": 325,
      "outputs": []
    },
    {
      "cell_type": "code",
      "source": [
        "gbr = GradientBoostingRegressor(n_estimators = 100, learning_rate = 0.125)\n",
        "gbr.fit(x_train,y_train)\n",
        "y_pred_gbr = gbr.predict(x_test)"
      ],
      "metadata": {
        "id": "JjvUyNwL3nvR"
      },
      "execution_count": 326,
      "outputs": []
    },
    {
      "cell_type": "code",
      "source": [
        "print('GRB_MAE:', metrics.mean_absolute_error(y_test, y_pred_gbr))\n",
        "print('GRB_MSE:', metrics.mean_squared_error(y_test, y_pred_gbr))\n",
        "print('GRB_RMSE:', np.sqrt(metrics.mean_squared_error(y_test, y_pred_gbr)))"
      ],
      "metadata": {
        "colab": {
          "base_uri": "https://localhost:8080/"
        },
        "id": "aPDuCH1n4DE9",
        "outputId": "065cd7a1-8cf7-4928-d4b1-38a8b6b6972e"
      },
      "execution_count": 327,
      "outputs": [
        {
          "output_type": "stream",
          "name": "stdout",
          "text": [
            "GRB_MAE: 28.93691491441076\n",
            "GRB_MSE: 1296.1688582033255\n",
            "GRB_RMSE: 36.002345176437125\n"
          ]
        }
      ]
    },
    {
      "cell_type": "code",
      "source": [
        "grb_rmsescore = []\n",
        "setting = np.arange(0.01,0.2,0.01)\n",
        "for i in setting:\n",
        "    grb = GradientBoostingRegressor(n_estimators = 100, learning_rate = i)\n",
        "    grb.fit(x_train,y_train)\n",
        "    y_pred_grb = grb.predict(x_test)\n",
        "    grb_rmsescore.append(np.sqrt(metrics.mean_squared_error(y_test, y_pred_grb)))    \n",
        "\n",
        "print(grb_rmsescore)"
      ],
      "metadata": {
        "colab": {
          "base_uri": "https://localhost:8080/"
        },
        "id": "ygUBY2cr4DxO",
        "outputId": "7881dfe2-6670-4158-cbc7-c4933ef8ebab"
      },
      "execution_count": 328,
      "outputs": [
        {
          "output_type": "stream",
          "name": "stdout",
          "text": [
            "[38.580160549840734, 37.670767635526786, 37.08225860465105, 36.794331319631226, 36.55595785718237, 36.38431239616684, 36.2947200193258, 36.24323710208227, 36.1346957324857, 36.10803512443055, 36.04561764111216, 36.026160409131606, 35.97549018392128, 35.90719653042819, 35.87122097237788, 35.88551252121976, 35.85207999595996, 35.84448696757034, 35.82260540567711]\n"
          ]
        }
      ]
    },
    {
      "cell_type": "code",
      "source": [
        "plt.plot(setting,grb_rmsescore,label = \"GRBRMSE\")\n",
        "plt.ylabel(\"GRBRMSE\")\n",
        "plt.xlabel(\"learning rate\")\n",
        "plt.legend()"
      ],
      "metadata": {
        "colab": {
          "base_uri": "https://localhost:8080/",
          "height": 303
        },
        "id": "WPa6q_Fy5J4-",
        "outputId": "0a82d06e-9bff-4036-b839-1f4c5e68a886"
      },
      "execution_count": 329,
      "outputs": [
        {
          "output_type": "execute_result",
          "data": {
            "text/plain": [
              "<matplotlib.legend.Legend at 0x7fa392ed5990>"
            ]
          },
          "metadata": {},
          "execution_count": 329
        },
        {
          "output_type": "display_data",
          "data": {
            "text/plain": [
              "<Figure size 432x288 with 1 Axes>"
            ],
            "image/png": "[encoded data removed]"
          },
          "metadata": {
            "needs_background": "light"
          }
        }
      ]
    },
    {
      "cell_type": "markdown",
      "source": [
        "**XG Boost**"
      ],
      "metadata": {
        "id": "oPkLbyY35iuo"
      }
    },
    {
      "cell_type": "code",
      "source": [
        "from xgboost import XGBRegressor\n",
        "XG = XGBRegressor(learning_rate = 0.14, gamma = 0, reg_lambda = 1, n_estimators = 35)\n",
        "XG.fit(x_train,y_train)\n",
        "y_pred_XG = XG.predict(x_test)"
      ],
      "metadata": {
        "colab": {
          "base_uri": "https://localhost:8080/"
        },
        "id": "xhrkEN6I5mb0",
        "outputId": "9fe4a911-ec67-4ba9-b6ed-226163732579"
      },
      "execution_count": 330,
      "outputs": [
        {
          "output_type": "stream",
          "name": "stdout",
          "text": [
            "[11:14:32] WARNING: /workspace/src/objective/regression_obj.cu:152: reg:linear is now deprecated in favor of reg:squarederror.\n"
          ]
        }
      ]
    },
    {
      "cell_type": "code",
      "source": [
        "print('XG_MAE:', metrics.mean_absolute_error(y_test, y_pred_XG))\n",
        "print('XG_MSE:', metrics.mean_squared_error(y_test, y_pred_XG))\n",
        "print('XG_RMSE:', np.sqrt(metrics.mean_squared_error(y_test, y_pred_XG)))"
      ],
      "metadata": {
        "colab": {
          "base_uri": "https://localhost:8080/"
        },
        "id": "qYXj4At76ECR",
        "outputId": "2f8fba34-5dbc-471f-c987-4bc695a2caf9"
      },
      "execution_count": 331,
      "outputs": [
        {
          "output_type": "stream",
          "name": "stdout",
          "text": [
            "XG_MAE: 29.174369770206816\n",
            "XG_MSE: 1339.787377534176\n",
            "XG_RMSE: 36.60310611866397\n"
          ]
        }
      ]
    },
    {
      "cell_type": "code",
      "source": [
        "XG_rmsescore = []\n",
        "est = range(1,100,10)\n",
        "for i in est:\n",
        "    XG = XGBRegressor(learning_rate = 0.14, gamma = 0, reg_lambda = 1, n_estimators = i)\n",
        "    XG.fit(x_train,y_train)\n",
        "    Y_pred_XG = XG.predict(x_test)\n",
        "    XG_rmsescore.append(np.sqrt(metrics.mean_squared_error(y_test, Y_pred_XG)))    \n",
        "\n",
        "print(XG_rmsescore)"
      ],
      "metadata": {
        "colab": {
          "base_uri": "https://localhost:8080/"
        },
        "id": "hZYinqd76D5_",
        "outputId": "de8a70ea-b6eb-4e28-f03c-1cb2f711af77"
      },
      "execution_count": 332,
      "outputs": [
        {
          "output_type": "stream",
          "name": "stdout",
          "text": [
            "[11:14:33] WARNING: /workspace/src/objective/regression_obj.cu:152: reg:linear is now deprecated in favor of reg:squarederror.\n",
            "[11:14:33] WARNING: /workspace/src/objective/regression_obj.cu:152: reg:linear is now deprecated in favor of reg:squarederror.\n",
            "[11:14:33] WARNING: /workspace/src/objective/regression_obj.cu:152: reg:linear is now deprecated in favor of reg:squarederror.\n",
            "[11:14:33] WARNING: /workspace/src/objective/regression_obj.cu:152: reg:linear is now deprecated in favor of reg:squarederror.\n",
            "[11:14:33] WARNING: /workspace/src/objective/regression_obj.cu:152: reg:linear is now deprecated in favor of reg:squarederror.\n",
            "[11:14:33] WARNING: /workspace/src/objective/regression_obj.cu:152: reg:linear is now deprecated in favor of reg:squarederror.\n",
            "[11:14:33] WARNING: /workspace/src/objective/regression_obj.cu:152: reg:linear is now deprecated in favor of reg:squarederror.\n",
            "[11:14:33] WARNING: /workspace/src/objective/regression_obj.cu:152: reg:linear is now deprecated in favor of reg:squarederror.\n",
            "[11:14:34] WARNING: /workspace/src/objective/regression_obj.cu:152: reg:linear is now deprecated in favor of reg:squarederror.\n",
            "[11:14:34] WARNING: /workspace/src/objective/regression_obj.cu:152: reg:linear is now deprecated in favor of reg:squarederror.\n",
            "[75.14682535630253, 40.50616549971241, 37.19339649302654, 36.67357599329166, 36.5011360676669, 36.37135414054491, 36.22903903559074, 36.1059222660288, 36.063778668395656, 35.97380769568347]\n"
          ]
        }
      ]
    },
    {
      "cell_type": "code",
      "source": [
        "plt.plot(est,XG_rmsescore,label = \"XG_rmsescore\")\n",
        "plt.ylabel(\"XG_rmsescore\")\n",
        "plt.xlabel(\"estimators\")\n",
        "plt.legend()"
      ],
      "metadata": {
        "colab": {
          "base_uri": "https://localhost:8080/",
          "height": 303
        },
        "id": "onbSh1lm6w1g",
        "outputId": "cfbe17af-f5f1-4ad3-f8fc-2f48f0580f17"
      },
      "execution_count": 333,
      "outputs": [
        {
          "output_type": "execute_result",
          "data": {
            "text/plain": [
              "<matplotlib.legend.Legend at 0x7fa39e725c10>"
            ]
          },
          "metadata": {},
          "execution_count": 333
        },
        {
          "output_type": "display_data",
          "data": {
            "text/plain": [
              "<Figure size 432x288 with 1 Axes>"
            ],
            "image/png": "[encoded data removed]"
          },
          "metadata": {
            "needs_background": "light"
          }
        }
      ]
    },
    {
      "cell_type": "code",
      "source": [
        "print('XG_RMSE:', np.sqrt(metrics.mean_squared_error(y_test, y_pred_XG)))\n",
        "print('GRB_RMSE:', np.sqrt(metrics.mean_squared_error(y_test, y_pred_gbr)))\n",
        "print('ADB_RMSE:', np.sqrt(metrics.mean_squared_error(y_test, Y_pred_adb)))\n",
        "print('RF_RMSE:', np.sqrt(metrics.mean_squared_error(y_test, y_pred_rf)))\n",
        "print('BAG_RMSE:', np.sqrt(metrics.mean_squared_error(y_test, Y_pred_bag)))"
      ],
      "metadata": {
        "colab": {
          "base_uri": "https://localhost:8080/"
        },
        "id": "ovKgso1R9RjU",
        "outputId": "cb38d9b3-6be4-471b-e515-d90ac829ad72"
      },
      "execution_count": 334,
      "outputs": [
        {
          "output_type": "stream",
          "name": "stdout",
          "text": [
            "XG_RMSE: 36.60310611866397\n",
            "GRB_RMSE: 36.002345176437125\n",
            "ADB_RMSE: 36.35015729019905\n",
            "RF_RMSE: 41.45094847332244\n",
            "BAG_RMSE: 35.620470906157045\n"
          ]
        }
      ]
    }
  ]
}