{
  "nbformat": 4,
  "nbformat_minor": 0,
  "metadata": {
    "colab": {
      "name": "GL_ML_Pregnant_OS_KNNIMPUTE.ipynb",
      "provenance": [],
      "collapsed_sections": [],
      "authorship_tag": "ABX9TyOebDfoEY+ECu4bvJ6q4N63",
      "include_colab_link": true
    },
    "kernelspec": {
      "name": "python3",
      "display_name": "Python 3"
    },
    "language_info": {
      "name": "python"
    }
  },
  "cells": [
    {
      "cell_type": "markdown",
      "metadata": {
        "id": "view-in-github",
        "colab_type": "text"
      },
      "source": [
        "<a href=\"https://colab.research.google.com/github/sarkar2527/DSAP/blob/main/GL_ML_Pregnant_OS_KNNIMPUTE.ipynb\" target=\"_parent\"><img src=\"https://colab.research.google.com/assets/colab-badge.svg\" alt=\"Open In Colab\"/></a>"
      ]
    },
    {
      "cell_type": "code",
      "execution_count": 333,
      "metadata": {
        "colab": {
          "base_uri": "https://localhost:8080/"
        },
        "id": "TeK9sWRpNVGY",
        "outputId": "6b770830-89b4-49aa-8fe7-56a89d7c6ce0"
      },
      "outputs": [
        {
          "output_type": "stream",
          "name": "stdout",
          "text": [
            "Drive already mounted at /content/drive; to attempt to forcibly remount, call drive.mount(\"/content/drive\", force_remount=True).\n"
          ]
        }
      ],
      "source": [
        "from google.colab import drive\n",
        "drive.mount('/content/drive')"
      ]
    },
    {
      "cell_type": "code",
      "source": [
        "#Importing the neccessary Libraries\n",
        "import numpy as np\n",
        "import pandas as pd\n",
        "import matplotlib.pyplot as plt\n",
        "import seaborn as sns\n",
        "sns.set()\n",
        "%matplotlib inline"
      ],
      "metadata": {
        "id": "0brhnDq_N5NW"
      },
      "execution_count": 334,
      "outputs": []
    },
    {
      "cell_type": "code",
      "source": [
        "# Read the Training Data\n",
        "train_data = pd.read_csv(\"/content/drive/MyDrive/GeekLurn_ML_Session/Proj2_Train.csv\")"
      ],
      "metadata": {
        "id": "vwGXsafBN62e"
      },
      "execution_count": 335,
      "outputs": []
    },
    {
      "cell_type": "code",
      "source": [
        "# Read the test Data\n",
        "test_data = pd.read_csv(\"/content/drive/MyDrive/GeekLurn_ML_Session/Proj2_Test.csv\")"
      ],
      "metadata": {
        "id": "mY1-OxpSOXkx"
      },
      "execution_count": 336,
      "outputs": []
    },
    {
      "cell_type": "code",
      "source": [
        "train_data.shape,test_data.shape"
      ],
      "metadata": {
        "colab": {
          "base_uri": "https://localhost:8080/"
        },
        "id": "u4OOnyWKOHJ2",
        "outputId": "f8b9928c-aa84-49e1-8285-a7fcb8151aa0"
      },
      "execution_count": 337,
      "outputs": [
        {
          "output_type": "execute_result",
          "data": {
            "text/plain": [
              "((1000, 16), (100, 15))"
            ]
          },
          "metadata": {},
          "execution_count": 337
        }
      ]
    },
    {
      "cell_type": "code",
      "source": [
        "df = pd.concat([train_data,test_data],axis = 0)"
      ],
      "metadata": {
        "id": "TesoMBzfPegx"
      },
      "execution_count": 338,
      "outputs": []
    },
    {
      "cell_type": "code",
      "source": [
        "df.shape"
      ],
      "metadata": {
        "colab": {
          "base_uri": "https://localhost:8080/"
        },
        "id": "migRxpJ7OSLd",
        "outputId": "9c303823-8dd9-4e6d-b1bb-63ec930a63ec"
      },
      "execution_count": 339,
      "outputs": [
        {
          "output_type": "execute_result",
          "data": {
            "text/plain": [
              "(1100, 16)"
            ]
          },
          "metadata": {},
          "execution_count": 339
        }
      ]
    },
    {
      "cell_type": "code",
      "source": [
        "df.head()"
      ],
      "metadata": {
        "colab": {
          "base_uri": "https://localhost:8080/",
          "height": 287
        },
        "id": "1g7pzvIgICKe",
        "outputId": "ad1ba386-0f17-4017-ced7-17620612fc05"
      },
      "execution_count": 340,
      "outputs": [
        {
          "output_type": "execute_result",
          "data": {
            "text/plain": [
              "   Sl No Sample ID  Age Ob_Score        BMI  Consistency_Score  \\\n",
              "0      1       DT1   20       G1  28.255713                  2   \n",
              "1      2       DT2   21       G1  29.772191                  2   \n",
              "2      3       DT3   21       G1  28.511248                  2   \n",
              "3      4       DT4   22       G1  28.772695                  2   \n",
              "4      5       DT5   22       G1  27.488918                  2   \n",
              "\n",
              "   Position_Score  Effacement_Score  Dialation_Score  Station_Score  \\\n",
              "0               0                 0                1              0   \n",
              "1               0                 1                1              0   \n",
              "2               0                 1                1              0   \n",
              "3               0                 1                1              0   \n",
              "4               0                 0                1              0   \n",
              "\n",
              "   Total_Bishop_Score  Cerv_Len_cms  Cerv_Wid_cms  Induction  Del_mode  \\\n",
              "0                   3           NaN           NaN          1         1   \n",
              "1                   4           NaN           NaN          1         1   \n",
              "2                   4           NaN           NaN          1         1   \n",
              "3                   4           NaN           NaN          1         1   \n",
              "4                   3           NaN           NaN          1         1   \n",
              "\n",
              "   Unnamed: 15  \n",
              "0          NaN  \n",
              "1          NaN  \n",
              "2          NaN  \n",
              "3          NaN  \n",
              "4          NaN  "
            ],
            "text/html": [
              "\n",
              "  <div id=\"df-8c6cd5f9-279d-4a67-8aa1-f7897a3cd981\">\n",
              "    <div class=\"colab-df-container\">\n",
              "      <div>\n",
              "<style scoped>\n",
              "    .dataframe tbody tr th:only-of-type {\n",
              "        vertical-align: middle;\n",
              "    }\n",
              "\n",
              "    .dataframe tbody tr th {\n",
              "        vertical-align: top;\n",
              "    }\n",
              "\n",
              "    .dataframe thead th {\n",
              "        text-align: right;\n",
              "    }\n",
              "</style>\n",
              "<table border=\"1\" class=\"dataframe\">\n",
              "  <thead>\n",
              "    <tr style=\"text-align: right;\">\n",
              "      <th></th>\n",
              "      <th>Sl No</th>\n",
              "      <th>Sample ID</th>\n",
              "      <th>Age</th>\n",
              "      <th>Ob_Score</th>\n",
              "      <th>BMI</th>\n",
              "      <th>Consistency_Score</th>\n",
              "      <th>Position_Score</th>\n",
              "      <th>Effacement_Score</th>\n",
              "      <th>Dialation_Score</th>\n",
              "      <th>Station_Score</th>\n",
              "      <th>Total_Bishop_Score</th>\n",
              "      <th>Cerv_Len_cms</th>\n",
              "      <th>Cerv_Wid_cms</th>\n",
              "      <th>Induction</th>\n",
              "      <th>Del_mode</th>\n",
              "      <th>Unnamed: 15</th>\n",
              "    </tr>\n",
              "  </thead>\n",
              "  <tbody>\n",
              "    <tr>\n",
              "      <th>0</th>\n",
              "      <td>1</td>\n",
              "      <td>DT1</td>\n",
              "      <td>20</td>\n",
              "      <td>G1</td>\n",
              "      <td>28.255713</td>\n",
              "      <td>2</td>\n",
              "      <td>0</td>\n",
              "      <td>0</td>\n",
              "      <td>1</td>\n",
              "      <td>0</td>\n",
              "      <td>3</td>\n",
              "      <td>NaN</td>\n",
              "      <td>NaN</td>\n",
              "      <td>1</td>\n",
              "      <td>1</td>\n",
              "      <td>NaN</td>\n",
              "    </tr>\n",
              "    <tr>\n",
              "      <th>1</th>\n",
              "      <td>2</td>\n",
              "      <td>DT2</td>\n",
              "      <td>21</td>\n",
              "      <td>G1</td>\n",
              "      <td>29.772191</td>\n",
              "      <td>2</td>\n",
              "      <td>0</td>\n",
              "      <td>1</td>\n",
              "      <td>1</td>\n",
              "      <td>0</td>\n",
              "      <td>4</td>\n",
              "      <td>NaN</td>\n",
              "      <td>NaN</td>\n",
              "      <td>1</td>\n",
              "      <td>1</td>\n",
              "      <td>NaN</td>\n",
              "    </tr>\n",
              "    <tr>\n",
              "      <th>2</th>\n",
              "      <td>3</td>\n",
              "      <td>DT3</td>\n",
              "      <td>21</td>\n",
              "      <td>G1</td>\n",
              "      <td>28.511248</td>\n",
              "      <td>2</td>\n",
              "      <td>0</td>\n",
              "      <td>1</td>\n",
              "      <td>1</td>\n",
              "      <td>0</td>\n",
              "      <td>4</td>\n",
              "      <td>NaN</td>\n",
              "      <td>NaN</td>\n",
              "      <td>1</td>\n",
              "      <td>1</td>\n",
              "      <td>NaN</td>\n",
              "    </tr>\n",
              "    <tr>\n",
              "      <th>3</th>\n",
              "      <td>4</td>\n",
              "      <td>DT4</td>\n",
              "      <td>22</td>\n",
              "      <td>G1</td>\n",
              "      <td>28.772695</td>\n",
              "      <td>2</td>\n",
              "      <td>0</td>\n",
              "      <td>1</td>\n",
              "      <td>1</td>\n",
              "      <td>0</td>\n",
              "      <td>4</td>\n",
              "      <td>NaN</td>\n",
              "      <td>NaN</td>\n",
              "      <td>1</td>\n",
              "      <td>1</td>\n",
              "      <td>NaN</td>\n",
              "    </tr>\n",
              "    <tr>\n",
              "      <th>4</th>\n",
              "      <td>5</td>\n",
              "      <td>DT5</td>\n",
              "      <td>22</td>\n",
              "      <td>G1</td>\n",
              "      <td>27.488918</td>\n",
              "      <td>2</td>\n",
              "      <td>0</td>\n",
              "      <td>0</td>\n",
              "      <td>1</td>\n",
              "      <td>0</td>\n",
              "      <td>3</td>\n",
              "      <td>NaN</td>\n",
              "      <td>NaN</td>\n",
              "      <td>1</td>\n",
              "      <td>1</td>\n",
              "      <td>NaN</td>\n",
              "    </tr>\n",
              "  </tbody>\n",
              "</table>\n",
              "</div>\n",
              "      <button class=\"colab-df-convert\" onclick=\"convertToInteractive('df-8c6cd5f9-279d-4a67-8aa1-f7897a3cd981')\"\n",
              "              title=\"Convert this dataframe to an interactive table.\"\n",
              "              style=\"display:none;\">\n",
              "        \n",
              "  <svg xmlns=\"http://www.w3.org/2000/svg\" height=\"24px\"viewBox=\"0 0 24 24\"\n",
              "       width=\"24px\">\n",
              "    <path d=\"M0 0h24v24H0V0z\" fill=\"none\"/>\n",
              "    <path d=\"M18.56 5.44l.94 2.06.94-2.06 2.06-.94-2.06-.94-.94-2.06-.94 2.06-2.06.94zm-11 1L8.5 8.5l.94-2.06 2.06-.94-2.06-.94L8.5 2.5l-.94 2.06-2.06.94zm10 10l.94 2.06.94-2.06 2.06-.94-2.06-.94-.94-2.06-.94 2.06-2.06.94z\"/><path d=\"M17.41 7.96l-1.37-1.37c-.4-.4-.92-.59-1.43-.59-.52 0-1.04.2-1.43.59L10.3 9.45l-7.72 7.72c-.78.78-.78 2.05 0 2.83L4 21.41c.39.39.9.59 1.41.59.51 0 1.02-.2 1.41-.59l7.78-7.78 2.81-2.81c.8-.78.8-2.07 0-2.86zM5.41 20L4 18.59l7.72-7.72 1.47 1.35L5.41 20z\"/>\n",
              "  </svg>\n",
              "      </button>\n",
              "      \n",
              "  <style>\n",
              "    .colab-df-container {\n",
              "      display:flex;\n",
              "      flex-wrap:wrap;\n",
              "      gap: 12px;\n",
              "    }\n",
              "\n",
              "    .colab-df-convert {\n",
              "      background-color: #E8F0FE;\n",
              "      border: none;\n",
              "      border-radius: 50%;\n",
              "      cursor: pointer;\n",
              "      display: none;\n",
              "      fill: #1967D2;\n",
              "      height: 32px;\n",
              "      padding: 0 0 0 0;\n",
              "      width: 32px;\n",
              "    }\n",
              "\n",
              "    .colab-df-convert:hover {\n",
              "      background-color: #E2EBFA;\n",
              "      box-shadow: 0px 1px 2px rgba(60, 64, 67, 0.3), 0px 1px 3px 1px rgba(60, 64, 67, 0.15);\n",
              "      fill: #174EA6;\n",
              "    }\n",
              "\n",
              "    [theme=dark] .colab-df-convert {\n",
              "      background-color: #3B4455;\n",
              "      fill: #D2E3FC;\n",
              "    }\n",
              "\n",
              "    [theme=dark] .colab-df-convert:hover {\n",
              "      background-color: #434B5C;\n",
              "      box-shadow: 0px 1px 3px 1px rgba(0, 0, 0, 0.15);\n",
              "      filter: drop-shadow(0px 1px 2px rgba(0, 0, 0, 0.3));\n",
              "      fill: #FFFFFF;\n",
              "    }\n",
              "  </style>\n",
              "\n",
              "      <script>\n",
              "        const buttonEl =\n",
              "          document.querySelector('#df-8c6cd5f9-279d-4a67-8aa1-f7897a3cd981 button.colab-df-convert');\n",
              "        buttonEl.style.display =\n",
              "          google.colab.kernel.accessAllowed ? 'block' : 'none';\n",
              "\n",
              "        async function convertToInteractive(key) {\n",
              "          const element = document.querySelector('#df-8c6cd5f9-279d-4a67-8aa1-f7897a3cd981');\n",
              "          const dataTable =\n",
              "            await google.colab.kernel.invokeFunction('convertToInteractive',\n",
              "                                                     [key], {});\n",
              "          if (!dataTable) return;\n",
              "\n",
              "          const docLinkHtml = 'Like what you see? Visit the ' +\n",
              "            '<a target=\"_blank\" href=https://colab.research.google.com/notebooks/data_table.ipynb>data table notebook</a>'\n",
              "            + ' to learn more about interactive tables.';\n",
              "          element.innerHTML = '';\n",
              "          dataTable['output_type'] = 'display_data';\n",
              "          await google.colab.output.renderOutput(dataTable, element);\n",
              "          const docLink = document.createElement('div');\n",
              "          docLink.innerHTML = docLinkHtml;\n",
              "          element.appendChild(docLink);\n",
              "        }\n",
              "      </script>\n",
              "    </div>\n",
              "  </div>\n",
              "  "
            ]
          },
          "metadata": {},
          "execution_count": 340
        }
      ]
    },
    {
      "cell_type": "code",
      "source": [
        "df.isnull().sum()"
      ],
      "metadata": {
        "colab": {
          "base_uri": "https://localhost:8080/"
        },
        "id": "2OGqd4S1O13D",
        "outputId": "143f17f4-3acc-45b6-b5b6-6d4808807048"
      },
      "execution_count": 341,
      "outputs": [
        {
          "output_type": "execute_result",
          "data": {
            "text/plain": [
              "Sl No                    0\n",
              "Sample ID                0\n",
              "Age                      0\n",
              "Ob_Score                 0\n",
              "BMI                      0\n",
              "Consistency_Score        0\n",
              "Position_Score           0\n",
              "Effacement_Score         0\n",
              "Dialation_Score          0\n",
              "Station_Score            0\n",
              "Total_Bishop_Score       0\n",
              "Cerv_Len_cms           660\n",
              "Cerv_Wid_cms           660\n",
              "Induction                0\n",
              "Del_mode                 0\n",
              "Unnamed: 15           1100\n",
              "dtype: int64"
            ]
          },
          "metadata": {},
          "execution_count": 341
        }
      ]
    },
    {
      "cell_type": "code",
      "source": [
        "#Removing Unnecessary Features\n",
        "df.drop(['Sl No','Sample ID','Unnamed: 15','Consistency_Score'], axis = 1, inplace = True)"
      ],
      "metadata": {
        "id": "GgNwhrhaQWvL"
      },
      "execution_count": 342,
      "outputs": []
    },
    {
      "cell_type": "code",
      "source": [
        "df.head()"
      ],
      "metadata": {
        "colab": {
          "base_uri": "https://localhost:8080/",
          "height": 270
        },
        "id": "qYTIWys4QD9w",
        "outputId": "438fd461-1f8a-47da-eaf2-bd996f634620"
      },
      "execution_count": 343,
      "outputs": [
        {
          "output_type": "execute_result",
          "data": {
            "text/plain": [
              "   Age Ob_Score        BMI  Position_Score  Effacement_Score  Dialation_Score  \\\n",
              "0   20       G1  28.255713               0                 0                1   \n",
              "1   21       G1  29.772191               0                 1                1   \n",
              "2   21       G1  28.511248               0                 1                1   \n",
              "3   22       G1  28.772695               0                 1                1   \n",
              "4   22       G1  27.488918               0                 0                1   \n",
              "\n",
              "   Station_Score  Total_Bishop_Score  Cerv_Len_cms  Cerv_Wid_cms  Induction  \\\n",
              "0              0                   3           NaN           NaN          1   \n",
              "1              0                   4           NaN           NaN          1   \n",
              "2              0                   4           NaN           NaN          1   \n",
              "3              0                   4           NaN           NaN          1   \n",
              "4              0                   3           NaN           NaN          1   \n",
              "\n",
              "   Del_mode  \n",
              "0         1  \n",
              "1         1  \n",
              "2         1  \n",
              "3         1  \n",
              "4         1  "
            ],
            "text/html": [
              "\n",
              "  <div id=\"df-2f823520-0cf7-4bfd-8bb3-29317b11a7c9\">\n",
              "    <div class=\"colab-df-container\">\n",
              "      <div>\n",
              "<style scoped>\n",
              "    .dataframe tbody tr th:only-of-type {\n",
              "        vertical-align: middle;\n",
              "    }\n",
              "\n",
              "    .dataframe tbody tr th {\n",
              "        vertical-align: top;\n",
              "    }\n",
              "\n",
              "    .dataframe thead th {\n",
              "        text-align: right;\n",
              "    }\n",
              "</style>\n",
              "<table border=\"1\" class=\"dataframe\">\n",
              "  <thead>\n",
              "    <tr style=\"text-align: right;\">\n",
              "      <th></th>\n",
              "      <th>Age</th>\n",
              "      <th>Ob_Score</th>\n",
              "      <th>BMI</th>\n",
              "      <th>Position_Score</th>\n",
              "      <th>Effacement_Score</th>\n",
              "      <th>Dialation_Score</th>\n",
              "      <th>Station_Score</th>\n",
              "      <th>Total_Bishop_Score</th>\n",
              "      <th>Cerv_Len_cms</th>\n",
              "      <th>Cerv_Wid_cms</th>\n",
              "      <th>Induction</th>\n",
              "      <th>Del_mode</th>\n",
              "    </tr>\n",
              "  </thead>\n",
              "  <tbody>\n",
              "    <tr>\n",
              "      <th>0</th>\n",
              "      <td>20</td>\n",
              "      <td>G1</td>\n",
              "      <td>28.255713</td>\n",
              "      <td>0</td>\n",
              "      <td>0</td>\n",
              "      <td>1</td>\n",
              "      <td>0</td>\n",
              "      <td>3</td>\n",
              "      <td>NaN</td>\n",
              "      <td>NaN</td>\n",
              "      <td>1</td>\n",
              "      <td>1</td>\n",
              "    </tr>\n",
              "    <tr>\n",
              "      <th>1</th>\n",
              "      <td>21</td>\n",
              "      <td>G1</td>\n",
              "      <td>29.772191</td>\n",
              "      <td>0</td>\n",
              "      <td>1</td>\n",
              "      <td>1</td>\n",
              "      <td>0</td>\n",
              "      <td>4</td>\n",
              "      <td>NaN</td>\n",
              "      <td>NaN</td>\n",
              "      <td>1</td>\n",
              "      <td>1</td>\n",
              "    </tr>\n",
              "    <tr>\n",
              "      <th>2</th>\n",
              "      <td>21</td>\n",
              "      <td>G1</td>\n",
              "      <td>28.511248</td>\n",
              "      <td>0</td>\n",
              "      <td>1</td>\n",
              "      <td>1</td>\n",
              "      <td>0</td>\n",
              "      <td>4</td>\n",
              "      <td>NaN</td>\n",
              "      <td>NaN</td>\n",
              "      <td>1</td>\n",
              "      <td>1</td>\n",
              "    </tr>\n",
              "    <tr>\n",
              "      <th>3</th>\n",
              "      <td>22</td>\n",
              "      <td>G1</td>\n",
              "      <td>28.772695</td>\n",
              "      <td>0</td>\n",
              "      <td>1</td>\n",
              "      <td>1</td>\n",
              "      <td>0</td>\n",
              "      <td>4</td>\n",
              "      <td>NaN</td>\n",
              "      <td>NaN</td>\n",
              "      <td>1</td>\n",
              "      <td>1</td>\n",
              "    </tr>\n",
              "    <tr>\n",
              "      <th>4</th>\n",
              "      <td>22</td>\n",
              "      <td>G1</td>\n",
              "      <td>27.488918</td>\n",
              "      <td>0</td>\n",
              "      <td>0</td>\n",
              "      <td>1</td>\n",
              "      <td>0</td>\n",
              "      <td>3</td>\n",
              "      <td>NaN</td>\n",
              "      <td>NaN</td>\n",
              "      <td>1</td>\n",
              "      <td>1</td>\n",
              "    </tr>\n",
              "  </tbody>\n",
              "</table>\n",
              "</div>\n",
              "      <button class=\"colab-df-convert\" onclick=\"convertToInteractive('df-2f823520-0cf7-4bfd-8bb3-29317b11a7c9')\"\n",
              "              title=\"Convert this dataframe to an interactive table.\"\n",
              "              style=\"display:none;\">\n",
              "        \n",
              "  <svg xmlns=\"http://www.w3.org/2000/svg\" height=\"24px\"viewBox=\"0 0 24 24\"\n",
              "       width=\"24px\">\n",
              "    <path d=\"M0 0h24v24H0V0z\" fill=\"none\"/>\n",
              "    <path d=\"M18.56 5.44l.94 2.06.94-2.06 2.06-.94-2.06-.94-.94-2.06-.94 2.06-2.06.94zm-11 1L8.5 8.5l.94-2.06 2.06-.94-2.06-.94L8.5 2.5l-.94 2.06-2.06.94zm10 10l.94 2.06.94-2.06 2.06-.94-2.06-.94-.94-2.06-.94 2.06-2.06.94z\"/><path d=\"M17.41 7.96l-1.37-1.37c-.4-.4-.92-.59-1.43-.59-.52 0-1.04.2-1.43.59L10.3 9.45l-7.72 7.72c-.78.78-.78 2.05 0 2.83L4 21.41c.39.39.9.59 1.41.59.51 0 1.02-.2 1.41-.59l7.78-7.78 2.81-2.81c.8-.78.8-2.07 0-2.86zM5.41 20L4 18.59l7.72-7.72 1.47 1.35L5.41 20z\"/>\n",
              "  </svg>\n",
              "      </button>\n",
              "      \n",
              "  <style>\n",
              "    .colab-df-container {\n",
              "      display:flex;\n",
              "      flex-wrap:wrap;\n",
              "      gap: 12px;\n",
              "    }\n",
              "\n",
              "    .colab-df-convert {\n",
              "      background-color: #E8F0FE;\n",
              "      border: none;\n",
              "      border-radius: 50%;\n",
              "      cursor: pointer;\n",
              "      display: none;\n",
              "      fill: #1967D2;\n",
              "      height: 32px;\n",
              "      padding: 0 0 0 0;\n",
              "      width: 32px;\n",
              "    }\n",
              "\n",
              "    .colab-df-convert:hover {\n",
              "      background-color: #E2EBFA;\n",
              "      box-shadow: 0px 1px 2px rgba(60, 64, 67, 0.3), 0px 1px 3px 1px rgba(60, 64, 67, 0.15);\n",
              "      fill: #174EA6;\n",
              "    }\n",
              "\n",
              "    [theme=dark] .colab-df-convert {\n",
              "      background-color: #3B4455;\n",
              "      fill: #D2E3FC;\n",
              "    }\n",
              "\n",
              "    [theme=dark] .colab-df-convert:hover {\n",
              "      background-color: #434B5C;\n",
              "      box-shadow: 0px 1px 3px 1px rgba(0, 0, 0, 0.15);\n",
              "      filter: drop-shadow(0px 1px 2px rgba(0, 0, 0, 0.3));\n",
              "      fill: #FFFFFF;\n",
              "    }\n",
              "  </style>\n",
              "\n",
              "      <script>\n",
              "        const buttonEl =\n",
              "          document.querySelector('#df-2f823520-0cf7-4bfd-8bb3-29317b11a7c9 button.colab-df-convert');\n",
              "        buttonEl.style.display =\n",
              "          google.colab.kernel.accessAllowed ? 'block' : 'none';\n",
              "\n",
              "        async function convertToInteractive(key) {\n",
              "          const element = document.querySelector('#df-2f823520-0cf7-4bfd-8bb3-29317b11a7c9');\n",
              "          const dataTable =\n",
              "            await google.colab.kernel.invokeFunction('convertToInteractive',\n",
              "                                                     [key], {});\n",
              "          if (!dataTable) return;\n",
              "\n",
              "          const docLinkHtml = 'Like what you see? Visit the ' +\n",
              "            '<a target=\"_blank\" href=https://colab.research.google.com/notebooks/data_table.ipynb>data table notebook</a>'\n",
              "            + ' to learn more about interactive tables.';\n",
              "          element.innerHTML = '';\n",
              "          dataTable['output_type'] = 'display_data';\n",
              "          await google.colab.output.renderOutput(dataTable, element);\n",
              "          const docLink = document.createElement('div');\n",
              "          docLink.innerHTML = docLinkHtml;\n",
              "          element.appendChild(docLink);\n",
              "        }\n",
              "      </script>\n",
              "    </div>\n",
              "  </div>\n",
              "  "
            ]
          },
          "metadata": {},
          "execution_count": 343
        }
      ]
    },
    {
      "cell_type": "code",
      "source": [
        "df.isnull().sum()"
      ],
      "metadata": {
        "colab": {
          "base_uri": "https://localhost:8080/"
        },
        "id": "yq8Z5nvmRaKI",
        "outputId": "a84a4e2c-0057-46b3-cf68-57f565b0bb4b"
      },
      "execution_count": 344,
      "outputs": [
        {
          "output_type": "execute_result",
          "data": {
            "text/plain": [
              "Age                     0\n",
              "Ob_Score                0\n",
              "BMI                     0\n",
              "Position_Score          0\n",
              "Effacement_Score        0\n",
              "Dialation_Score         0\n",
              "Station_Score           0\n",
              "Total_Bishop_Score      0\n",
              "Cerv_Len_cms          660\n",
              "Cerv_Wid_cms          660\n",
              "Induction               0\n",
              "Del_mode                0\n",
              "dtype: int64"
            ]
          },
          "metadata": {},
          "execution_count": 344
        }
      ]
    },
    {
      "cell_type": "code",
      "source": [
        "# Finds correlation between Independent and dependent attributes\n",
        "plt.figure(figsize = (18,18))\n",
        "sns.heatmap(df.corr(), annot = True, cmap = \"RdYlGn\")\n",
        "plt.show()"
      ],
      "metadata": {
        "colab": {
          "base_uri": "https://localhost:8080/",
          "height": 1000
        },
        "id": "fxG8T0eJXCUZ",
        "outputId": "67d7de81-3c09-44d1-b4e5-04364e8a12a0"
      },
      "execution_count": 345,
      "outputs": [
        {
          "output_type": "display_data",
          "data": {
            "text/plain": [
              "<Figure size 1296x1296 with 2 Axes>"
            ],
            "image/png": "[encoded data removed]"
          },
          "metadata": {
            "needs_background": "light"
          }
        }
      ]
    },
    {
      "cell_type": "code",
      "source": [
        "#median=df.Cerv_Len_cms.median()\n",
        "#print(median)\n",
        "\n",
        "#median=df.Cerv_Wid_cms.median()\n",
        "#print(median)"
      ],
      "metadata": {
        "id": "dgCJAzm97l06"
      },
      "execution_count": 346,
      "outputs": []
    },
    {
      "cell_type": "code",
      "source": [
        "#df['Cerv_Len_cms_median']=df['Cerv_Len_cms'].fillna(median)\n",
        "#df['Cerv_Wid_cms_median']=df['Cerv_Wid_cms'].fillna(median)"
      ],
      "metadata": {
        "id": "-uwgAd4qQzaJ"
      },
      "execution_count": 347,
      "outputs": []
    },
    {
      "cell_type": "code",
      "source": [
        "#fig = plt.figure()\n",
        "#ax = fig.add_subplot(111)\n",
        "#df['Cerv_Len_cms'].plot(kind='kde', ax=ax, color = 'blue')\n",
        "#df.Cerv_Len_cms_median.plot(kind='kde', ax=ax, color='red')\n",
        "#lines, labels = ax.get_legend_handles_labels()\n",
        "#ax.legend(lines, labels, loc='best')"
      ],
      "metadata": {
        "id": "w2-IHjxuVjzC"
      },
      "execution_count": 348,
      "outputs": []
    },
    {
      "cell_type": "code",
      "source": [
        "df.isnull().sum()"
      ],
      "metadata": {
        "colab": {
          "base_uri": "https://localhost:8080/"
        },
        "id": "v7mOal2GZmj3",
        "outputId": "783124b7-e688-4b7b-f5cb-317c865310b6"
      },
      "execution_count": 349,
      "outputs": [
        {
          "output_type": "execute_result",
          "data": {
            "text/plain": [
              "Age                     0\n",
              "Ob_Score                0\n",
              "BMI                     0\n",
              "Position_Score          0\n",
              "Effacement_Score        0\n",
              "Dialation_Score         0\n",
              "Station_Score           0\n",
              "Total_Bishop_Score      0\n",
              "Cerv_Len_cms          660\n",
              "Cerv_Wid_cms          660\n",
              "Induction               0\n",
              "Del_mode                0\n",
              "dtype: int64"
            ]
          },
          "metadata": {},
          "execution_count": 349
        }
      ]
    },
    {
      "cell_type": "code",
      "source": [
        "df.info()"
      ],
      "metadata": {
        "colab": {
          "base_uri": "https://localhost:8080/"
        },
        "id": "_ihdFEIbbW2Y",
        "outputId": "52706590-0bc9-4936-e838-2e2a1c76121e"
      },
      "execution_count": 350,
      "outputs": [
        {
          "output_type": "stream",
          "name": "stdout",
          "text": [
            "<class 'pandas.core.frame.DataFrame'>\n",
            "Int64Index: 1100 entries, 0 to 99\n",
            "Data columns (total 12 columns):\n",
            " #   Column              Non-Null Count  Dtype  \n",
            "---  ------              --------------  -----  \n",
            " 0   Age                 1100 non-null   int64  \n",
            " 1   Ob_Score            1100 non-null   object \n",
            " 2   BMI                 1100 non-null   float64\n",
            " 3   Position_Score      1100 non-null   int64  \n",
            " 4   Effacement_Score    1100 non-null   int64  \n",
            " 5   Dialation_Score     1100 non-null   int64  \n",
            " 6   Station_Score       1100 non-null   int64  \n",
            " 7   Total_Bishop_Score  1100 non-null   int64  \n",
            " 8   Cerv_Len_cms        440 non-null    float64\n",
            " 9   Cerv_Wid_cms        440 non-null    float64\n",
            " 10  Induction           1100 non-null   int64  \n",
            " 11  Del_mode            1100 non-null   int64  \n",
            "dtypes: float64(3), int64(8), object(1)\n",
            "memory usage: 111.7+ KB\n"
          ]
        }
      ]
    },
    {
      "cell_type": "code",
      "source": [
        "from sklearn.preprocessing import LabelEncoder\n",
        "le = LabelEncoder()\n",
        "df['Ob_Score'] = le.fit_transform(df['Ob_Score'])"
      ],
      "metadata": {
        "id": "Xsl5CW7sbcQ-"
      },
      "execution_count": 351,
      "outputs": []
    },
    {
      "cell_type": "code",
      "source": [
        "df['Ob_Score'].value_counts()"
      ],
      "metadata": {
        "colab": {
          "base_uri": "https://localhost:8080/"
        },
        "id": "SexKcN44cFTg",
        "outputId": "e75d3ab8-9513-44eb-9ea5-7cd245d0ea2f"
      },
      "execution_count": 352,
      "outputs": [
        {
          "output_type": "execute_result",
          "data": {
            "text/plain": [
              "0    1034\n",
              "1      44\n",
              "2      22\n",
              "Name: Ob_Score, dtype: int64"
            ]
          },
          "metadata": {},
          "execution_count": 352
        }
      ]
    },
    {
      "cell_type": "code",
      "source": [
        "from sklearn.impute import KNNImputer\n",
        "imputer = KNNImputer(n_neighbors=5)\n",
        "df = pd.DataFrame(imputer.fit_transform(df),columns = df.columns)"
      ],
      "metadata": {
        "id": "9oi5u5C1cSiB"
      },
      "execution_count": 353,
      "outputs": []
    },
    {
      "cell_type": "code",
      "source": [
        "df.isnull().sum()"
      ],
      "metadata": {
        "colab": {
          "base_uri": "https://localhost:8080/"
        },
        "id": "uXO7edWwccdb",
        "outputId": "b82af79a-89e8-4394-f505-f28f0910b27d"
      },
      "execution_count": 354,
      "outputs": [
        {
          "output_type": "execute_result",
          "data": {
            "text/plain": [
              "Age                   0\n",
              "Ob_Score              0\n",
              "BMI                   0\n",
              "Position_Score        0\n",
              "Effacement_Score      0\n",
              "Dialation_Score       0\n",
              "Station_Score         0\n",
              "Total_Bishop_Score    0\n",
              "Cerv_Len_cms          0\n",
              "Cerv_Wid_cms          0\n",
              "Induction             0\n",
              "Del_mode              0\n",
              "dtype: int64"
            ]
          },
          "metadata": {},
          "execution_count": 354
        }
      ]
    },
    {
      "cell_type": "code",
      "source": [
        "fig = plt.figure()\n",
        "ax = fig.add_subplot(111)\n",
        "df['Cerv_Wid_cms'].plot(kind='kde', ax=ax, color = 'blue')\n",
        "df['Cerv_Len_cms'].plot(kind='kde', ax=ax, color = 'red')\n",
        "lines, labels = ax.get_legend_handles_labels()\n",
        "ax.legend(lines, labels, loc='best')"
      ],
      "metadata": {
        "colab": {
          "base_uri": "https://localhost:8080/",
          "height": 285
        },
        "id": "FJn-e6EXdcaA",
        "outputId": "48fda132-7d6f-423a-a07a-b45416ea4ce0"
      },
      "execution_count": 355,
      "outputs": [
        {
          "output_type": "execute_result",
          "data": {
            "text/plain": [
              "<matplotlib.legend.Legend at 0x7f689d2bdfd0>"
            ]
          },
          "metadata": {},
          "execution_count": 355
        },
        {
          "output_type": "display_data",
          "data": {
            "text/plain": [
              "<Figure size 432x288 with 1 Axes>"
            ],
            "image/png": "[encoded data removed]"
          },
          "metadata": {
            "needs_background": "light"
          }
        }
      ]
    },
    {
      "cell_type": "code",
      "source": [
        "sns.countplot(df['Del_mode'])"
      ],
      "metadata": {
        "colab": {
          "base_uri": "https://localhost:8080/",
          "height": 357
        },
        "id": "RIb_pquxlNVx",
        "outputId": "f76cb37b-c609-4bcf-cd67-5573ba6cf4e1"
      },
      "execution_count": 356,
      "outputs": [
        {
          "output_type": "stream",
          "name": "stderr",
          "text": [
            "/usr/local/lib/python3.7/dist-packages/seaborn/_decorators.py:43: FutureWarning: Pass the following variable as a keyword arg: x. From version 0.12, the only valid positional argument will be `data`, and passing other arguments without an explicit keyword will result in an error or misinterpretation.\n",
            "  FutureWarning\n"
          ]
        },
        {
          "output_type": "execute_result",
          "data": {
            "text/plain": [
              "<matplotlib.axes._subplots.AxesSubplot at 0x7f689d993450>"
            ]
          },
          "metadata": {},
          "execution_count": 356
        },
        {
          "output_type": "display_data",
          "data": {
            "text/plain": [
              "<Figure size 432x288 with 1 Axes>"
            ],
            "image/png": "[encoded data removed]"
          },
          "metadata": {
            "needs_background": "light"
          }
        }
      ]
    },
    {
      "cell_type": "code",
      "source": [
        "fig = plt.figure(figsize =(16, 10))\n",
        "sns.boxplot(data= df, linewidth=1)\n",
        "plt.xticks(rotation='vertical')\n",
        "plt.show()"
      ],
      "metadata": {
        "colab": {
          "base_uri": "https://localhost:8080/",
          "height": 689
        },
        "id": "hBqOsDzVeVM1",
        "outputId": "2db8932a-6100-40f2-f2db-055dede29123"
      },
      "execution_count": 357,
      "outputs": [
        {
          "output_type": "display_data",
          "data": {
            "text/plain": [
              "<Figure size 1152x720 with 1 Axes>"
            ],
            "image/png": "[encoded data removed]"
          },
          "metadata": {
            "needs_background": "light"
          }
        }
      ]
    },
    {
      "cell_type": "code",
      "source": [
        "def outliers (df , ft) :\n",
        "    Q1= df[ft].quantile(0.25)\n",
        "    Q3= df[ft].quantile(0.75)\n",
        "    \n",
        "    IQR = Q3-Q1\n",
        "    \n",
        "    lower_bound = Q1 - 1.5*IQR\n",
        "    upper_bound = Q3 + 1.5*IQR\n",
        "    \n",
        "    ls = df.index[(df[ft] < lower_bound )| (df[ft] > upper_bound )]\n",
        "    \n",
        "    return ls"
      ],
      "metadata": {
        "id": "I0GZI5gnezX_"
      },
      "execution_count": 358,
      "outputs": []
    },
    {
      "cell_type": "code",
      "source": [
        "def remove (df, ls ):\n",
        "    ls = sorted(set(ls))\n",
        "    df = df.drop(ls)\n",
        "    \n",
        "    return df"
      ],
      "metadata": {
        "id": "VY_hDPIYe8_G"
      },
      "execution_count": 359,
      "outputs": []
    },
    {
      "cell_type": "code",
      "source": [
        "index_list = []\n",
        "for feature in [\n",
        " 'Age',\n",
        " 'Ob_Score',\n",
        " 'BMI',\n",
        " 'Position_Score',\n",
        " 'Dialation_Score',\n",
        " 'Station_Score',\n",
        " 'Total_Bishop_Score',\n",
        " 'Cerv_Len_cms',\n",
        " 'Cerv_Wid_cms',\n",
        " 'Induction',\n",
        " 'Del_mode']:\n",
        "    index_list.extend(outliers(df , feature))"
      ],
      "metadata": {
        "id": "ZMIkJKR3e_0s"
      },
      "execution_count": 360,
      "outputs": []
    },
    {
      "cell_type": "code",
      "source": [
        "df1 = remove(df,index_list)"
      ],
      "metadata": {
        "id": "5jvebD4sfN5P"
      },
      "execution_count": 361,
      "outputs": []
    },
    {
      "cell_type": "code",
      "source": [
        "df1.shape"
      ],
      "metadata": {
        "colab": {
          "base_uri": "https://localhost:8080/"
        },
        "id": "H6NLDEty168a",
        "outputId": "df48e04f-046b-46f6-a3b7-e20848359274"
      },
      "execution_count": 362,
      "outputs": [
        {
          "output_type": "execute_result",
          "data": {
            "text/plain": [
              "(732, 12)"
            ]
          },
          "metadata": {},
          "execution_count": 362
        }
      ]
    },
    {
      "cell_type": "code",
      "source": [
        "sns.countplot(df1['Del_mode'])\n"
      ],
      "metadata": {
        "colab": {
          "base_uri": "https://localhost:8080/",
          "height": 357
        },
        "id": "44BLeNKR5Puh",
        "outputId": "9fd2c920-ee80-4bb3-e47d-810974c1b6ca"
      },
      "execution_count": 363,
      "outputs": [
        {
          "output_type": "stream",
          "name": "stderr",
          "text": [
            "/usr/local/lib/python3.7/dist-packages/seaborn/_decorators.py:43: FutureWarning: Pass the following variable as a keyword arg: x. From version 0.12, the only valid positional argument will be `data`, and passing other arguments without an explicit keyword will result in an error or misinterpretation.\n",
            "  FutureWarning\n"
          ]
        },
        {
          "output_type": "execute_result",
          "data": {
            "text/plain": [
              "<matplotlib.axes._subplots.AxesSubplot at 0x7f68a71d34d0>"
            ]
          },
          "metadata": {},
          "execution_count": 363
        },
        {
          "output_type": "display_data",
          "data": {
            "text/plain": [
              "<Figure size 432x288 with 1 Axes>"
            ],
            "image/png": "[encoded data removed]"
          },
          "metadata": {
            "needs_background": "light"
          }
        }
      ]
    },
    {
      "cell_type": "code",
      "source": [
        "fig = plt.figure(figsize =(16, 10))\n",
        "sns.boxplot(data= df1, linewidth=1)\n",
        "plt.xticks(rotation='vertical')\n",
        "plt.show()"
      ],
      "metadata": {
        "colab": {
          "base_uri": "https://localhost:8080/",
          "height": 689
        },
        "id": "2YkK45OKfUjN",
        "outputId": "6316bfcc-20c0-450e-8c9b-519d0b0aec29"
      },
      "execution_count": 364,
      "outputs": [
        {
          "output_type": "display_data",
          "data": {
            "text/plain": [
              "<Figure size 1152x720 with 1 Axes>"
            ],
            "image/png": "[encoded data removed]"
          },
          "metadata": {
            "needs_background": "light"
          }
        }
      ]
    },
    {
      "cell_type": "code",
      "source": [
        "df1.describe().T"
      ],
      "metadata": {
        "colab": {
          "base_uri": "https://localhost:8080/",
          "height": 425
        },
        "id": "S24RsPd7fvvI",
        "outputId": "9791951b-9a62-4d03-e2c9-5ae4c0848acd"
      },
      "execution_count": 365,
      "outputs": [
        {
          "output_type": "execute_result",
          "data": {
            "text/plain": [
              "                    count       mean       std        min        25%  \\\n",
              "Age                 732.0  22.965847  2.206862  18.000000  21.000000   \n",
              "Ob_Score            732.0   0.000000  0.000000   0.000000   0.000000   \n",
              "BMI                 732.0  26.605294  2.350415  21.300000  24.769010   \n",
              "Position_Score      732.0   0.517760  0.500026   0.000000   0.000000   \n",
              "Effacement_Score    732.0   0.383880  0.486662   0.000000   0.000000   \n",
              "Dialation_Score     732.0   0.478142  0.499864   0.000000   0.000000   \n",
              "Station_Score       732.0   0.000000  0.000000   0.000000   0.000000   \n",
              "Total_Bishop_Score  732.0   3.438525  0.954673   2.000000   3.000000   \n",
              "Cerv_Len_cms        732.0   2.466463  0.264258   1.870000   2.257082   \n",
              "Cerv_Wid_cms        732.0   1.525365  0.352153   0.493955   1.285786   \n",
              "Induction           732.0   1.000000  0.000000   1.000000   1.000000   \n",
              "Del_mode            732.0   0.288251  0.453258   0.000000   0.000000   \n",
              "\n",
              "                          50%        75%        max  \n",
              "Age                 23.000000  24.000000  30.000000  \n",
              "Ob_Score             0.000000   0.000000   0.000000  \n",
              "BMI                 26.584167  28.602236  31.415765  \n",
              "Position_Score       1.000000   1.000000   1.000000  \n",
              "Effacement_Score     0.000000   1.000000   1.000000  \n",
              "Dialation_Score      0.000000   1.000000   1.000000  \n",
              "Station_Score        0.000000   0.000000   0.000000  \n",
              "Total_Bishop_Score   3.000000   4.000000   5.000000  \n",
              "Cerv_Len_cms         2.462970   2.620523   3.239984  \n",
              "Cerv_Wid_cms         1.565271   1.717773   2.350850  \n",
              "Induction            1.000000   1.000000   1.000000  \n",
              "Del_mode             0.000000   1.000000   1.000000  "
            ],
            "text/html": [
              "\n",
              "  <div id=\"df-12f35b91-60c5-4426-9026-291acf72020b\">\n",
              "    <div class=\"colab-df-container\">\n",
              "      <div>\n",
              "<style scoped>\n",
              "    .dataframe tbody tr th:only-of-type {\n",
              "        vertical-align: middle;\n",
              "    }\n",
              "\n",
              "    .dataframe tbody tr th {\n",
              "        vertical-align: top;\n",
              "    }\n",
              "\n",
              "    .dataframe thead th {\n",
              "        text-align: right;\n",
              "    }\n",
              "</style>\n",
              "<table border=\"1\" class=\"dataframe\">\n",
              "  <thead>\n",
              "    <tr style=\"text-align: right;\">\n",
              "      <th></th>\n",
              "      <th>count</th>\n",
              "      <th>mean</th>\n",
              "      <th>std</th>\n",
              "      <th>min</th>\n",
              "      <th>25%</th>\n",
              "      <th>50%</th>\n",
              "      <th>75%</th>\n",
              "      <th>max</th>\n",
              "    </tr>\n",
              "  </thead>\n",
              "  <tbody>\n",
              "    <tr>\n",
              "      <th>Age</th>\n",
              "      <td>732.0</td>\n",
              "      <td>22.965847</td>\n",
              "      <td>2.206862</td>\n",
              "      <td>18.000000</td>\n",
              "      <td>21.000000</td>\n",
              "      <td>23.000000</td>\n",
              "      <td>24.000000</td>\n",
              "      <td>30.000000</td>\n",
              "    </tr>\n",
              "    <tr>\n",
              "      <th>Ob_Score</th>\n",
              "      <td>732.0</td>\n",
              "      <td>0.000000</td>\n",
              "      <td>0.000000</td>\n",
              "      <td>0.000000</td>\n",
              "      <td>0.000000</td>\n",
              "      <td>0.000000</td>\n",
              "      <td>0.000000</td>\n",
              "      <td>0.000000</td>\n",
              "    </tr>\n",
              "    <tr>\n",
              "      <th>BMI</th>\n",
              "      <td>732.0</td>\n",
              "      <td>26.605294</td>\n",
              "      <td>2.350415</td>\n",
              "      <td>21.300000</td>\n",
              "      <td>24.769010</td>\n",
              "      <td>26.584167</td>\n",
              "      <td>28.602236</td>\n",
              "      <td>31.415765</td>\n",
              "    </tr>\n",
              "    <tr>\n",
              "      <th>Position_Score</th>\n",
              "      <td>732.0</td>\n",
              "      <td>0.517760</td>\n",
              "      <td>0.500026</td>\n",
              "      <td>0.000000</td>\n",
              "      <td>0.000000</td>\n",
              "      <td>1.000000</td>\n",
              "      <td>1.000000</td>\n",
              "      <td>1.000000</td>\n",
              "    </tr>\n",
              "    <tr>\n",
              "      <th>Effacement_Score</th>\n",
              "      <td>732.0</td>\n",
              "      <td>0.383880</td>\n",
              "      <td>0.486662</td>\n",
              "      <td>0.000000</td>\n",
              "      <td>0.000000</td>\n",
              "      <td>0.000000</td>\n",
              "      <td>1.000000</td>\n",
              "      <td>1.000000</td>\n",
              "    </tr>\n",
              "    <tr>\n",
              "      <th>Dialation_Score</th>\n",
              "      <td>732.0</td>\n",
              "      <td>0.478142</td>\n",
              "      <td>0.499864</td>\n",
              "      <td>0.000000</td>\n",
              "      <td>0.000000</td>\n",
              "      <td>0.000000</td>\n",
              "      <td>1.000000</td>\n",
              "      <td>1.000000</td>\n",
              "    </tr>\n",
              "    <tr>\n",
              "      <th>Station_Score</th>\n",
              "      <td>732.0</td>\n",
              "      <td>0.000000</td>\n",
              "      <td>0.000000</td>\n",
              "      <td>0.000000</td>\n",
              "      <td>0.000000</td>\n",
              "      <td>0.000000</td>\n",
              "      <td>0.000000</td>\n",
              "      <td>0.000000</td>\n",
              "    </tr>\n",
              "    <tr>\n",
              "      <th>Total_Bishop_Score</th>\n",
              "      <td>732.0</td>\n",
              "      <td>3.438525</td>\n",
              "      <td>0.954673</td>\n",
              "      <td>2.000000</td>\n",
              "      <td>3.000000</td>\n",
              "      <td>3.000000</td>\n",
              "      <td>4.000000</td>\n",
              "      <td>5.000000</td>\n",
              "    </tr>\n",
              "    <tr>\n",
              "      <th>Cerv_Len_cms</th>\n",
              "      <td>732.0</td>\n",
              "      <td>2.466463</td>\n",
              "      <td>0.264258</td>\n",
              "      <td>1.870000</td>\n",
              "      <td>2.257082</td>\n",
              "      <td>2.462970</td>\n",
              "      <td>2.620523</td>\n",
              "      <td>3.239984</td>\n",
              "    </tr>\n",
              "    <tr>\n",
              "      <th>Cerv_Wid_cms</th>\n",
              "      <td>732.0</td>\n",
              "      <td>1.525365</td>\n",
              "      <td>0.352153</td>\n",
              "      <td>0.493955</td>\n",
              "      <td>1.285786</td>\n",
              "      <td>1.565271</td>\n",
              "      <td>1.717773</td>\n",
              "      <td>2.350850</td>\n",
              "    </tr>\n",
              "    <tr>\n",
              "      <th>Induction</th>\n",
              "      <td>732.0</td>\n",
              "      <td>1.000000</td>\n",
              "      <td>0.000000</td>\n",
              "      <td>1.000000</td>\n",
              "      <td>1.000000</td>\n",
              "      <td>1.000000</td>\n",
              "      <td>1.000000</td>\n",
              "      <td>1.000000</td>\n",
              "    </tr>\n",
              "    <tr>\n",
              "      <th>Del_mode</th>\n",
              "      <td>732.0</td>\n",
              "      <td>0.288251</td>\n",
              "      <td>0.453258</td>\n",
              "      <td>0.000000</td>\n",
              "      <td>0.000000</td>\n",
              "      <td>0.000000</td>\n",
              "      <td>1.000000</td>\n",
              "      <td>1.000000</td>\n",
              "    </tr>\n",
              "  </tbody>\n",
              "</table>\n",
              "</div>\n",
              "      <button class=\"colab-df-convert\" onclick=\"convertToInteractive('df-12f35b91-60c5-4426-9026-291acf72020b')\"\n",
              "              title=\"Convert this dataframe to an interactive table.\"\n",
              "              style=\"display:none;\">\n",
              "        \n",
              "  <svg xmlns=\"http://www.w3.org/2000/svg\" height=\"24px\"viewBox=\"0 0 24 24\"\n",
              "       width=\"24px\">\n",
              "    <path d=\"M0 0h24v24H0V0z\" fill=\"none\"/>\n",
              "    <path d=\"M18.56 5.44l.94 2.06.94-2.06 2.06-.94-2.06-.94-.94-2.06-.94 2.06-2.06.94zm-11 1L8.5 8.5l.94-2.06 2.06-.94-2.06-.94L8.5 2.5l-.94 2.06-2.06.94zm10 10l.94 2.06.94-2.06 2.06-.94-2.06-.94-.94-2.06-.94 2.06-2.06.94z\"/><path d=\"M17.41 7.96l-1.37-1.37c-.4-.4-.92-.59-1.43-.59-.52 0-1.04.2-1.43.59L10.3 9.45l-7.72 7.72c-.78.78-.78 2.05 0 2.83L4 21.41c.39.39.9.59 1.41.59.51 0 1.02-.2 1.41-.59l7.78-7.78 2.81-2.81c.8-.78.8-2.07 0-2.86zM5.41 20L4 18.59l7.72-7.72 1.47 1.35L5.41 20z\"/>\n",
              "  </svg>\n",
              "      </button>\n",
              "      \n",
              "  <style>\n",
              "    .colab-df-container {\n",
              "      display:flex;\n",
              "      flex-wrap:wrap;\n",
              "      gap: 12px;\n",
              "    }\n",
              "\n",
              "    .colab-df-convert {\n",
              "      background-color: #E8F0FE;\n",
              "      border: none;\n",
              "      border-radius: 50%;\n",
              "      cursor: pointer;\n",
              "      display: none;\n",
              "      fill: #1967D2;\n",
              "      height: 32px;\n",
              "      padding: 0 0 0 0;\n",
              "      width: 32px;\n",
              "    }\n",
              "\n",
              "    .colab-df-convert:hover {\n",
              "      background-color: #E2EBFA;\n",
              "      box-shadow: 0px 1px 2px rgba(60, 64, 67, 0.3), 0px 1px 3px 1px rgba(60, 64, 67, 0.15);\n",
              "      fill: #174EA6;\n",
              "    }\n",
              "\n",
              "    [theme=dark] .colab-df-convert {\n",
              "      background-color: #3B4455;\n",
              "      fill: #D2E3FC;\n",
              "    }\n",
              "\n",
              "    [theme=dark] .colab-df-convert:hover {\n",
              "      background-color: #434B5C;\n",
              "      box-shadow: 0px 1px 3px 1px rgba(0, 0, 0, 0.15);\n",
              "      filter: drop-shadow(0px 1px 2px rgba(0, 0, 0, 0.3));\n",
              "      fill: #FFFFFF;\n",
              "    }\n",
              "  </style>\n",
              "\n",
              "      <script>\n",
              "        const buttonEl =\n",
              "          document.querySelector('#df-12f35b91-60c5-4426-9026-291acf72020b button.colab-df-convert');\n",
              "        buttonEl.style.display =\n",
              "          google.colab.kernel.accessAllowed ? 'block' : 'none';\n",
              "\n",
              "        async function convertToInteractive(key) {\n",
              "          const element = document.querySelector('#df-12f35b91-60c5-4426-9026-291acf72020b');\n",
              "          const dataTable =\n",
              "            await google.colab.kernel.invokeFunction('convertToInteractive',\n",
              "                                                     [key], {});\n",
              "          if (!dataTable) return;\n",
              "\n",
              "          const docLinkHtml = 'Like what you see? Visit the ' +\n",
              "            '<a target=\"_blank\" href=https://colab.research.google.com/notebooks/data_table.ipynb>data table notebook</a>'\n",
              "            + ' to learn more about interactive tables.';\n",
              "          element.innerHTML = '';\n",
              "          dataTable['output_type'] = 'display_data';\n",
              "          await google.colab.output.renderOutput(dataTable, element);\n",
              "          const docLink = document.createElement('div');\n",
              "          docLink.innerHTML = docLinkHtml;\n",
              "          element.appendChild(docLink);\n",
              "        }\n",
              "      </script>\n",
              "    </div>\n",
              "  </div>\n",
              "  "
            ]
          },
          "metadata": {},
          "execution_count": 365
        }
      ]
    },
    {
      "cell_type": "code",
      "source": [
        "df1['Del_mode'].value_counts()"
      ],
      "metadata": {
        "colab": {
          "base_uri": "https://localhost:8080/"
        },
        "id": "3QxctRMSw-e2",
        "outputId": "e1fd8347-b246-4935-d945-de65fd5d0ac5"
      },
      "execution_count": 366,
      "outputs": [
        {
          "output_type": "execute_result",
          "data": {
            "text/plain": [
              "0.0    521\n",
              "1.0    211\n",
              "Name: Del_mode, dtype: int64"
            ]
          },
          "metadata": {},
          "execution_count": 366
        }
      ]
    },
    {
      "cell_type": "code",
      "source": [
        "#### Independent and Dependent Features\n",
        "X=df1.drop(\"Del_mode\",axis=1)\n",
        "Y=df1['Del_mode']"
      ],
      "metadata": {
        "id": "7y96fdsff_W6"
      },
      "execution_count": 367,
      "outputs": []
    },
    {
      "cell_type": "code",
      "source": [
        "# Scaling the data\n",
        "\n",
        "from sklearn.preprocessing import StandardScaler\n",
        "sc = StandardScaler()\n",
        "x_scale = sc.fit_transform(X)"
      ],
      "metadata": {
        "id": "zsNBHuSRln6f"
      },
      "execution_count": 368,
      "outputs": []
    },
    {
      "cell_type": "code",
      "source": [
        "# Train and Test Split\n",
        "from sklearn.model_selection import train_test_split\n",
        "X_train,X_test,Y_train,Y_test = train_test_split(x_scale,Y,test_size = 0.3, random_state=0,stratify=Y)"
      ],
      "metadata": {
        "id": "kcND0q53mMxU"
      },
      "execution_count": 369,
      "outputs": []
    },
    {
      "cell_type": "code",
      "source": [
        "X_train.shape ,X_test.shape ,Y_train.shape,Y_test.shape"
      ],
      "metadata": {
        "colab": {
          "base_uri": "https://localhost:8080/"
        },
        "id": "GE_Yz0Lcvh1R",
        "outputId": "ebcc64e6-ccc8-486a-9d1b-6c4a004f07f9"
      },
      "execution_count": 370,
      "outputs": [
        {
          "output_type": "execute_result",
          "data": {
            "text/plain": [
              "((512, 11), (220, 11), (512,), (220,))"
            ]
          },
          "metadata": {},
          "execution_count": 370
        }
      ]
    },
    {
      "cell_type": "markdown",
      "source": [
        "**Logistic Regression with Hyperparameter tuning**\n",
        "\n"
      ],
      "metadata": {
        "id": "QsIbCTGPtNcQ"
      }
    },
    {
      "cell_type": "code",
      "source": [
        "#10.0 **np.arange(-2,3)"
      ],
      "metadata": {
        "id": "jGLb3ZhC-YM5"
      },
      "execution_count": 371,
      "outputs": []
    },
    {
      "cell_type": "code",
      "source": [
        "#log_class=LogisticRegression()\n",
        "#grid={'C':10.0 **np.arange(-2,3),'penalty':['l1','l2']}\n",
        "#cv=KFold(n_splits=5,random_state=None,shuffle=False)"
      ],
      "metadata": {
        "id": "dO5A3giV-iCG"
      },
      "execution_count": 372,
      "outputs": []
    },
    {
      "cell_type": "code",
      "source": [
        "#clf=GridSearchCV(log_class,grid,cv=cv,n_jobs=-1,scoring='f1_macro')\n",
        "#clf.fit(X_train,Y_train)"
      ],
      "metadata": {
        "id": "N2t4ZYYC-wNy"
      },
      "execution_count": 373,
      "outputs": []
    },
    {
      "cell_type": "code",
      "source": [
        "#y_pred_logreg=clf.predict(X_test)\n",
        "#print(confusion_matrix(Y_test,y_pred_logreg))\n",
        "#print(accuracy_score(Y_test,y_pred_logreg))\n",
        "#print(classification_report(Y_test,y_pred_logreg))"
      ],
      "metadata": {
        "id": "lz9LRYXH-1o6"
      },
      "execution_count": 374,
      "outputs": []
    },
    {
      "cell_type": "markdown",
      "source": [
        "No Improvement in accuracy and other metrics after hyperparameter tuning"
      ],
      "metadata": {
        "id": "9WKxMGnGttUD"
      }
    },
    {
      "cell_type": "code",
      "source": [
        "X_train.shape, Y_train.shape"
      ],
      "metadata": {
        "colab": {
          "base_uri": "https://localhost:8080/"
        },
        "id": "jelcCOTzsuPU",
        "outputId": "1baf0181-cf59-4a6d-ccb9-eb577ef4a10e"
      },
      "execution_count": 375,
      "outputs": [
        {
          "output_type": "execute_result",
          "data": {
            "text/plain": [
              "((512, 11), (512,))"
            ]
          },
          "metadata": {},
          "execution_count": 375
        }
      ]
    },
    {
      "cell_type": "markdown",
      "source": [
        "**Over Sampling**"
      ],
      "metadata": {
        "id": "S5MBC6shseig"
      }
    },
    {
      "cell_type": "code",
      "source": [
        "from imblearn.over_sampling import RandomOverSampler\n",
        "over_sampler = RandomOverSampler(0.9)\n",
        "X_train_os,Y_train_os = over_sampler.fit_resample(X_train,Y_train)\n",
        "print(\"The number of classes before fit {}\".format(Counter(Y_train)))\n",
        "print(\"The number of classes after fit {}\".format(Counter(Y_train_os)))"
      ],
      "metadata": {
        "colab": {
          "base_uri": "https://localhost:8080/"
        },
        "id": "qHWAzjEVsbDZ",
        "outputId": "c43c3bae-697f-4383-c8be-6ae08d4791da"
      },
      "execution_count": 376,
      "outputs": [
        {
          "output_type": "stream",
          "name": "stdout",
          "text": [
            "The number of classes before fit Counter({0.0: 364, 1.0: 148})\n",
            "The number of classes after fit Counter({0.0: 364, 1.0: 327})\n"
          ]
        },
        {
          "output_type": "stream",
          "name": "stderr",
          "text": [
            "/usr/local/lib/python3.7/dist-packages/imblearn/utils/_validation.py:591: FutureWarning: Pass sampling_strategy=0.9 as keyword args. From version 0.9 passing these as positional arguments will result in an error\n",
            "  FutureWarning,\n"
          ]
        }
      ]
    },
    {
      "cell_type": "markdown",
      "source": [
        "**Logistic Regression with OverSampling**"
      ],
      "metadata": {
        "id": "msRBjCPR_t9y"
      }
    },
    {
      "cell_type": "code",
      "source": [
        "from sklearn.linear_model import LogisticRegression\n",
        "from sklearn.metrics import confusion_matrix,accuracy_score,classification_report\n",
        "logreg = LogisticRegression()\n",
        "logreg.fit(X_train_os,Y_train_os)\n",
        "y_pred_lr_os = logreg.predict(X_test)"
      ],
      "metadata": {
        "id": "qOCM4a2HtINu"
      },
      "execution_count": 377,
      "outputs": []
    },
    {
      "cell_type": "code",
      "source": [
        "print(confusion_matrix(Y_test,y_pred_lr_os))\n",
        "print(accuracy_score(Y_test,y_pred_lr_os))\n",
        "print(classification_report(Y_test,y_pred_lr_os))"
      ],
      "metadata": {
        "colab": {
          "base_uri": "https://localhost:8080/"
        },
        "id": "kkvFp5exuE4P",
        "outputId": "de3ca858-d388-4749-a0a2-02e512562037"
      },
      "execution_count": 378,
      "outputs": [
        {
          "output_type": "stream",
          "name": "stdout",
          "text": [
            "[[125  32]\n",
            " [ 17  46]]\n",
            "0.7772727272727272\n",
            "              precision    recall  f1-score   support\n",
            "\n",
            "         0.0       0.88      0.80      0.84       157\n",
            "         1.0       0.59      0.73      0.65        63\n",
            "\n",
            "    accuracy                           0.78       220\n",
            "   macro avg       0.74      0.76      0.74       220\n",
            "weighted avg       0.80      0.78      0.78       220\n",
            "\n"
          ]
        }
      ]
    },
    {
      "cell_type": "markdown",
      "source": [
        "**KNN with Oversampling**"
      ],
      "metadata": {
        "id": "WwXAZnD__37O"
      }
    },
    {
      "cell_type": "code",
      "source": [
        "from sklearn.neighbors import KNeighborsClassifier\n",
        "knn_clf = KNeighborsClassifier(n_neighbors=1, p=2) \n",
        "knn_clf.fit(X_train_os,Y_train_os)\n",
        "Y_pred_knn_os = knn_clf.predict(X_test)"
      ],
      "metadata": {
        "id": "mz3Q-xeC_3Gx"
      },
      "execution_count": 379,
      "outputs": []
    },
    {
      "cell_type": "code",
      "source": [
        "print(confusion_matrix(Y_test,Y_pred_knn_os))\n",
        "print(accuracy_score(Y_test,Y_pred_knn_os))\n",
        "print(classification_report(Y_test,Y_pred_knn_os))"
      ],
      "metadata": {
        "colab": {
          "base_uri": "https://localhost:8080/"
        },
        "id": "pP55FqC2_3AA",
        "outputId": "4bc6f6b6-c5a4-48e8-d14a-ca80f2277097"
      },
      "execution_count": 380,
      "outputs": [
        {
          "output_type": "stream",
          "name": "stdout",
          "text": [
            "[[153   4]\n",
            " [ 12  51]]\n",
            "0.9272727272727272\n",
            "              precision    recall  f1-score   support\n",
            "\n",
            "         0.0       0.93      0.97      0.95       157\n",
            "         1.0       0.93      0.81      0.86        63\n",
            "\n",
            "    accuracy                           0.93       220\n",
            "   macro avg       0.93      0.89      0.91       220\n",
            "weighted avg       0.93      0.93      0.93       220\n",
            "\n"
          ]
        }
      ]
    },
    {
      "cell_type": "markdown",
      "source": [
        "With Default Value Acc_score is 0.8590909090909091\n",
        "\n",
        "With n_neigbour=1, Acc_score is 0.9272727272727272\n",
        "\n",
        "With Undersampling technique, acc_score of KNN is 0.8909090909090909\n"
      ],
      "metadata": {
        "id": "wRf04PUhBpvR"
      }
    },
    {
      "cell_type": "code",
      "source": [
        "kn_score1 = []\n",
        "neighbors = range(1,20)\n",
        "\n",
        "for i in neighbors:\n",
        "        knn_clf = KNeighborsClassifier(n_neighbors=i, p=2)\n",
        "        knn_clf.fit(X_train_os,Y_train_os)\n",
        "        Y_pred_knn_os = knn_clf.predict(X_test)\n",
        "        kn_score1.append(accuracy_score(Y_test,Y_pred_knn_os))\n",
        "\n",
        "print(kn_score1)"
      ],
      "metadata": {
        "colab": {
          "base_uri": "https://localhost:8080/"
        },
        "id": "BLGY8QuF_osz",
        "outputId": "ad601e1c-9039-497c-9d75-dbe2e496a5fd"
      },
      "execution_count": 381,
      "outputs": [
        {
          "output_type": "stream",
          "name": "stdout",
          "text": [
            "[0.9272727272727272, 0.9181818181818182, 0.9, 0.8909090909090909, 0.8772727272727273, 0.8636363636363636, 0.8636363636363636, 0.8818181818181818, 0.8772727272727273, 0.8772727272727273, 0.85, 0.85, 0.85, 0.8681818181818182, 0.8272727272727273, 0.8227272727272728, 0.8, 0.8, 0.7772727272727272]\n"
          ]
        }
      ]
    },
    {
      "cell_type": "code",
      "source": [
        "plt.plot(neighbors,kn_score1, label = \"test error\")\n",
        "plt.ylabel(\"accuracy\")\n",
        "plt.xlabel(\"neighbors\")\n",
        "plt.legend()"
      ],
      "metadata": {
        "colab": {
          "base_uri": "https://localhost:8080/",
          "height": 303
        },
        "id": "ZKpAujz0BRwH",
        "outputId": "d6265bdf-6d5f-46b1-cc2d-9fb6bba668c4"
      },
      "execution_count": 382,
      "outputs": [
        {
          "output_type": "execute_result",
          "data": {
            "text/plain": [
              "<matplotlib.legend.Legend at 0x7f689db008d0>"
            ]
          },
          "metadata": {},
          "execution_count": 382
        },
        {
          "output_type": "display_data",
          "data": {
            "text/plain": [
              "<Figure size 432x288 with 1 Axes>"
            ],
            "image/png": "[encoded data removed]"
          },
          "metadata": {
            "needs_background": "light"
          }
        }
      ]
    },
    {
      "cell_type": "markdown",
      "source": [
        "**Support vector machine**"
      ],
      "metadata": {
        "id": "FVVDwoT1DobX"
      }
    },
    {
      "cell_type": "code",
      "source": [
        "from sklearn.svm import SVC\n"
      ],
      "metadata": {
        "id": "n-Hl7jeQDgex"
      },
      "execution_count": 383,
      "outputs": []
    },
    {
      "cell_type": "code",
      "source": [
        "svm = SVC(kernel = \"linear\", gamma = \"auto\")\n",
        "svm.fit(X_train_os,Y_train_os)\n",
        "Y_pred_svm_linear_os = svm.predict(X_test)"
      ],
      "metadata": {
        "id": "hdhDNGVmD3E_"
      },
      "execution_count": 384,
      "outputs": []
    },
    {
      "cell_type": "code",
      "source": [
        "print(confusion_matrix(Y_test,Y_pred_svm_linear_os))\n",
        "print(accuracy_score(Y_test,Y_pred_svm_linear_os))\n",
        "print(classification_report(Y_test,Y_pred_svm_linear_os))"
      ],
      "metadata": {
        "id": "7HuxfELF5lmn",
        "colab": {
          "base_uri": "https://localhost:8080/"
        },
        "outputId": "03167985-7b9e-4476-9d5a-9f56588579ca"
      },
      "execution_count": 385,
      "outputs": [
        {
          "output_type": "stream",
          "name": "stdout",
          "text": [
            "[[123  34]\n",
            " [ 12  51]]\n",
            "0.7909090909090909\n",
            "              precision    recall  f1-score   support\n",
            "\n",
            "         0.0       0.91      0.78      0.84       157\n",
            "         1.0       0.60      0.81      0.69        63\n",
            "\n",
            "    accuracy                           0.79       220\n",
            "   macro avg       0.76      0.80      0.77       220\n",
            "weighted avg       0.82      0.79      0.80       220\n",
            "\n"
          ]
        }
      ]
    },
    {
      "cell_type": "code",
      "source": [
        "svm = SVC(kernel = \"rbf\", gamma = \"auto\")\n",
        "svm.fit(X_train_os,Y_train_os)\n",
        "Y_pred_svm_rbf_os = svm.predict(X_test)\n"
      ],
      "metadata": {
        "id": "ARj2EXnmEldH"
      },
      "execution_count": 386,
      "outputs": []
    },
    {
      "cell_type": "code",
      "source": [
        "print(confusion_matrix(Y_test,Y_pred_svm_rbf_os))\n",
        "print(accuracy_score(Y_test,Y_pred_svm_rbf_os))\n",
        "print(classification_report(Y_test,Y_pred_svm_rbf_os))"
      ],
      "metadata": {
        "id": "L6o2lj7d5tJ6",
        "colab": {
          "base_uri": "https://localhost:8080/"
        },
        "outputId": "47455b8a-ea6a-49ae-c7ae-125aae4a2639"
      },
      "execution_count": 387,
      "outputs": [
        {
          "output_type": "stream",
          "name": "stdout",
          "text": [
            "[[140  17]\n",
            " [  9  54]]\n",
            "0.8818181818181818\n",
            "              precision    recall  f1-score   support\n",
            "\n",
            "         0.0       0.94      0.89      0.92       157\n",
            "         1.0       0.76      0.86      0.81        63\n",
            "\n",
            "    accuracy                           0.88       220\n",
            "   macro avg       0.85      0.87      0.86       220\n",
            "weighted avg       0.89      0.88      0.88       220\n",
            "\n"
          ]
        }
      ]
    },
    {
      "cell_type": "code",
      "source": [
        "svm = SVC(kernel = \"poly\", gamma = \"auto\")\n",
        "svm.fit(X_train_os,Y_train_os)\n",
        "Y_pred_svm_poly_os = svm.predict(X_test)"
      ],
      "metadata": {
        "id": "_96BgIeUEzZQ"
      },
      "execution_count": 388,
      "outputs": []
    },
    {
      "cell_type": "code",
      "source": [
        "print(confusion_matrix(Y_test,Y_pred_svm_poly_os))\n",
        "print(accuracy_score(Y_test,Y_pred_svm_poly_os))\n",
        "print(classification_report(Y_test,Y_pred_svm_poly_os))"
      ],
      "metadata": {
        "id": "AgzxQgAv542s",
        "colab": {
          "base_uri": "https://localhost:8080/"
        },
        "outputId": "75e7d3aa-a8af-4491-d14c-12a77b90ea1d"
      },
      "execution_count": 389,
      "outputs": [
        {
          "output_type": "stream",
          "name": "stdout",
          "text": [
            "[[136  21]\n",
            " [ 16  47]]\n",
            "0.8318181818181818\n",
            "              precision    recall  f1-score   support\n",
            "\n",
            "         0.0       0.89      0.87      0.88       157\n",
            "         1.0       0.69      0.75      0.72        63\n",
            "\n",
            "    accuracy                           0.83       220\n",
            "   macro avg       0.79      0.81      0.80       220\n",
            "weighted avg       0.84      0.83      0.83       220\n",
            "\n"
          ]
        }
      ]
    },
    {
      "cell_type": "markdown",
      "source": [
        "In the support vector machine, kernel = \"rbf\" gave better accuracy when compared to linear and rbf.\n"
      ],
      "metadata": {
        "id": "QYnt31wpFKbf"
      }
    },
    {
      "cell_type": "markdown",
      "source": [
        "**Stocastic Gradient Classifier**"
      ],
      "metadata": {
        "id": "Wlzin5LPFT-G"
      }
    },
    {
      "cell_type": "code",
      "source": [
        "from sklearn.linear_model import SGDClassifier"
      ],
      "metadata": {
        "id": "ow-tglq2E7AK"
      },
      "execution_count": 390,
      "outputs": []
    },
    {
      "cell_type": "code",
      "source": [
        "sgd = SGDClassifier(eta0 = 0.1011, max_iter = 50)\n",
        "sgd.fit(X_train_os,Y_train_os)\n",
        "Y_pred_sgd_os = sgd.predict(X_test)"
      ],
      "metadata": {
        "id": "RS-Hu8B9FCQu",
        "colab": {
          "base_uri": "https://localhost:8080/"
        },
        "outputId": "10db4636-bc90-4926-8c49-75dc34a68cce"
      },
      "execution_count": 391,
      "outputs": [
        {
          "output_type": "stream",
          "name": "stderr",
          "text": [
            "/usr/local/lib/python3.7/dist-packages/sklearn/linear_model/_stochastic_gradient.py:700: ConvergenceWarning: Maximum number of iteration reached before convergence. Consider increasing max_iter to improve the fit.\n",
            "  ConvergenceWarning,\n"
          ]
        }
      ]
    },
    {
      "cell_type": "code",
      "source": [
        "print(confusion_matrix(Y_test,Y_pred_sgd_os))\n",
        "print(accuracy_score(Y_test,Y_pred_sgd_os))\n",
        "print(classification_report(Y_test,Y_pred_sgd_os))"
      ],
      "metadata": {
        "colab": {
          "base_uri": "https://localhost:8080/"
        },
        "id": "Qlcr2aj-FCJ7",
        "outputId": "472d2f28-8a2f-4f48-edab-8c34f6fdd061"
      },
      "execution_count": 392,
      "outputs": [
        {
          "output_type": "stream",
          "name": "stdout",
          "text": [
            "[[131  26]\n",
            " [ 23  40]]\n",
            "0.7772727272727272\n",
            "              precision    recall  f1-score   support\n",
            "\n",
            "         0.0       0.85      0.83      0.84       157\n",
            "         1.0       0.61      0.63      0.62        63\n",
            "\n",
            "    accuracy                           0.78       220\n",
            "   macro avg       0.73      0.73      0.73       220\n",
            "weighted avg       0.78      0.78      0.78       220\n",
            "\n"
          ]
        }
      ]
    },
    {
      "cell_type": "code",
      "source": [
        "sgd_score = []\n",
        "setting = np.arange(0.101,0.102,0.0001)\n",
        "\n",
        "for i in setting:\n",
        "    sgd = SGDClassifier(eta0 = i, max_iter = 50)\n",
        "    sgd.fit(X_train_os,Y_train_os)\n",
        "    Y_pred_sgd_os = sgd.predict(X_test)\n",
        "    sgd_score.append(accuracy_score(Y_test,Y_pred_sgd_os))\n",
        "    \n",
        "print(sgd_score)"
      ],
      "metadata": {
        "colab": {
          "base_uri": "https://localhost:8080/"
        },
        "id": "rBuzavvNGBHB",
        "outputId": "360cb191-6ab3-4351-cfce-99656c8876e9"
      },
      "execution_count": 393,
      "outputs": [
        {
          "output_type": "stream",
          "name": "stdout",
          "text": [
            "[0.7772727272727272, 0.740909090909091, 0.7045454545454546, 0.6909090909090909, 0.7136363636363636, 0.6045454545454545, 0.7227272727272728, 0.7272727272727273, 0.75, 0.6227272727272727]\n"
          ]
        },
        {
          "output_type": "stream",
          "name": "stderr",
          "text": [
            "/usr/local/lib/python3.7/dist-packages/sklearn/linear_model/_stochastic_gradient.py:700: ConvergenceWarning: Maximum number of iteration reached before convergence. Consider increasing max_iter to improve the fit.\n",
            "  ConvergenceWarning,\n",
            "/usr/local/lib/python3.7/dist-packages/sklearn/linear_model/_stochastic_gradient.py:700: ConvergenceWarning: Maximum number of iteration reached before convergence. Consider increasing max_iter to improve the fit.\n",
            "  ConvergenceWarning,\n",
            "/usr/local/lib/python3.7/dist-packages/sklearn/linear_model/_stochastic_gradient.py:700: ConvergenceWarning: Maximum number of iteration reached before convergence. Consider increasing max_iter to improve the fit.\n",
            "  ConvergenceWarning,\n",
            "/usr/local/lib/python3.7/dist-packages/sklearn/linear_model/_stochastic_gradient.py:700: ConvergenceWarning: Maximum number of iteration reached before convergence. Consider increasing max_iter to improve the fit.\n",
            "  ConvergenceWarning,\n",
            "/usr/local/lib/python3.7/dist-packages/sklearn/linear_model/_stochastic_gradient.py:700: ConvergenceWarning: Maximum number of iteration reached before convergence. Consider increasing max_iter to improve the fit.\n",
            "  ConvergenceWarning,\n"
          ]
        }
      ]
    },
    {
      "cell_type": "code",
      "source": [
        "plt.plot(setting,sgd_score, label = \"test accuracy\")\n",
        "plt.ylabel(\"accuracy\")\n",
        "plt.xlabel(\"learning rate\")\n",
        "plt.legend()"
      ],
      "metadata": {
        "colab": {
          "base_uri": "https://localhost:8080/",
          "height": 303
        },
        "id": "iJ0sVqBKGS1E",
        "outputId": "6141c3ea-4584-4874-fb24-63e8fee291d8"
      },
      "execution_count": 394,
      "outputs": [
        {
          "output_type": "execute_result",
          "data": {
            "text/plain": [
              "<matplotlib.legend.Legend at 0x7f689d1bf090>"
            ]
          },
          "metadata": {},
          "execution_count": 394
        },
        {
          "output_type": "display_data",
          "data": {
            "text/plain": [
              "<Figure size 432x288 with 1 Axes>"
            ],
            "image/png": "[encoded data removed]"
          },
          "metadata": {
            "needs_background": "light"
          }
        }
      ]
    },
    {
      "cell_type": "markdown",
      "source": [
        "**Decision Tree classifier**"
      ],
      "metadata": {
        "id": "FCsJY-VJG8ec"
      }
    },
    {
      "cell_type": "code",
      "source": [
        "from sklearn.tree import DecisionTreeClassifier\n",
        "dt = DecisionTreeClassifier(criterion = \"gini\", max_depth = 8)\n",
        "dt.fit(X_train_os,Y_train_os)\n",
        "Y_pred_dt_os = dt.predict(X_test)"
      ],
      "metadata": {
        "id": "AA8OoXqNG7iY"
      },
      "execution_count": 395,
      "outputs": []
    },
    {
      "cell_type": "code",
      "source": [
        "dt.tree_.node_count, dt.tree_.max_depth"
      ],
      "metadata": {
        "colab": {
          "base_uri": "https://localhost:8080/"
        },
        "id": "p-_QAh-zHmar",
        "outputId": "6b8f07de-c99b-4cf2-93e8-048cc704e32b"
      },
      "execution_count": 396,
      "outputs": [
        {
          "output_type": "execute_result",
          "data": {
            "text/plain": [
              "(89, 8)"
            ]
          },
          "metadata": {},
          "execution_count": 396
        }
      ]
    },
    {
      "cell_type": "code",
      "source": [
        "print(confusion_matrix(Y_test,Y_pred_dt_os))\n",
        "print(accuracy_score(Y_test,Y_pred_dt_os))\n",
        "print(classification_report(Y_test,Y_pred_dt_os))"
      ],
      "metadata": {
        "colab": {
          "base_uri": "https://localhost:8080/"
        },
        "id": "7MBFhV4KH158",
        "outputId": "65533f1d-02bb-463a-f104-3b1436f58bf1"
      },
      "execution_count": 397,
      "outputs": [
        {
          "output_type": "stream",
          "name": "stdout",
          "text": [
            "[[144  13]\n",
            " [ 11  52]]\n",
            "0.8909090909090909\n",
            "              precision    recall  f1-score   support\n",
            "\n",
            "         0.0       0.93      0.92      0.92       157\n",
            "         1.0       0.80      0.83      0.81        63\n",
            "\n",
            "    accuracy                           0.89       220\n",
            "   macro avg       0.86      0.87      0.87       220\n",
            "weighted avg       0.89      0.89      0.89       220\n",
            "\n"
          ]
        }
      ]
    },
    {
      "cell_type": "code",
      "source": [
        "dt_score = []\n",
        "md = range(1,14)\n",
        "for i in md:\n",
        "    dt = DecisionTreeClassifier(criterion = \"gini\", max_depth = i)\n",
        "    dt.fit(X_train_os,Y_train_os)\n",
        "    Y_pred_dt_os = dt.predict(X_test)\n",
        "    dt_score.append(accuracy_score(Y_test,Y_pred_dt_os))\n",
        "\n",
        "print(dt_score)"
      ],
      "metadata": {
        "colab": {
          "base_uri": "https://localhost:8080/"
        },
        "id": "WerBvbBpICzV",
        "outputId": "79db68f0-fe1b-4acb-9440-4e8cc3f8d1f5"
      },
      "execution_count": 398,
      "outputs": [
        {
          "output_type": "stream",
          "name": "stdout",
          "text": [
            "[0.7, 0.6681818181818182, 0.6727272727272727, 0.8136363636363636, 0.8590909090909091, 0.8954545454545455, 0.8818181818181818, 0.8909090909090909, 0.8863636363636364, 0.8863636363636364, 0.8954545454545455, 0.8954545454545455, 0.9045454545454545]\n"
          ]
        }
      ]
    },
    {
      "cell_type": "code",
      "source": [
        "plt.plot(md,dt_score,label = \"test_accuracy\")\n",
        "plt.ylabel(\"accuracy\")\n",
        "plt.xlabel(\"max depth\")\n",
        "plt.legend()"
      ],
      "metadata": {
        "colab": {
          "base_uri": "https://localhost:8080/",
          "height": 303
        },
        "id": "NJezwFp-JwXx",
        "outputId": "e5e0feb4-3c28-4006-992c-fa62f72aa544"
      },
      "execution_count": 399,
      "outputs": [
        {
          "output_type": "execute_result",
          "data": {
            "text/plain": [
              "<matplotlib.legend.Legend at 0x7f689d122dd0>"
            ]
          },
          "metadata": {},
          "execution_count": 399
        },
        {
          "output_type": "display_data",
          "data": {
            "text/plain": [
              "<Figure size 432x288 with 1 Axes>"
            ],
            "image/png": "[encoded data removed]"
          },
          "metadata": {
            "needs_background": "light"
          }
        }
      ]
    },
    {
      "cell_type": "markdown",
      "source": [
        "**BaggingClassifier**"
      ],
      "metadata": {
        "id": "WFUJFfcjKzYN"
      }
    },
    {
      "cell_type": "code",
      "source": [
        "from sklearn.ensemble import BaggingClassifier\n"
      ],
      "metadata": {
        "id": "LiXAGuNvKt-O"
      },
      "execution_count": 400,
      "outputs": []
    },
    {
      "cell_type": "code",
      "source": [
        "bag = BaggingClassifier(base_estimator = dt, max_samples = 0.6)\n",
        "bag.fit(X_train_os,Y_train_os)\n",
        "Y_pred_bag_os = bag.predict(X_test)"
      ],
      "metadata": {
        "id": "L04rxnzkK_Bk"
      },
      "execution_count": 401,
      "outputs": []
    },
    {
      "cell_type": "code",
      "source": [
        "print(confusion_matrix(Y_test,Y_pred_bag_os))\n",
        "print(accuracy_score(Y_test,Y_pred_bag_os))\n",
        "print(classification_report(Y_test,Y_pred_bag_os))"
      ],
      "metadata": {
        "colab": {
          "base_uri": "https://localhost:8080/"
        },
        "id": "aiz-obs3Lh1p",
        "outputId": "b2818f06-8adc-4b07-b350-acc1f4219975"
      },
      "execution_count": 402,
      "outputs": [
        {
          "output_type": "stream",
          "name": "stdout",
          "text": [
            "[[152   5]\n",
            " [ 11  52]]\n",
            "0.9272727272727272\n",
            "              precision    recall  f1-score   support\n",
            "\n",
            "         0.0       0.93      0.97      0.95       157\n",
            "         1.0       0.91      0.83      0.87        63\n",
            "\n",
            "    accuracy                           0.93       220\n",
            "   macro avg       0.92      0.90      0.91       220\n",
            "weighted avg       0.93      0.93      0.93       220\n",
            "\n"
          ]
        }
      ]
    },
    {
      "cell_type": "code",
      "source": [
        "bag_score = []\n",
        "ms = np.arange(0.1,1,0.1)\n",
        "for i in ms:\n",
        "    bag = BaggingClassifier(base_estimator = dt, max_samples = i)\n",
        "    bag.fit(X_train_os,Y_train_os)\n",
        "    Y_pred_bag_os = bag.predict(X_test)\n",
        "    bag_score.append(accuracy_score(Y_test,Y_pred_bag_os))\n",
        "    \n",
        "print(bag_score)"
      ],
      "metadata": {
        "colab": {
          "base_uri": "https://localhost:8080/"
        },
        "id": "T8Wml4PTMBNZ",
        "outputId": "b071d21f-3c67-457d-c387-a24159f15486"
      },
      "execution_count": 403,
      "outputs": [
        {
          "output_type": "stream",
          "name": "stdout",
          "text": [
            "[0.8636363636363636, 0.8909090909090909, 0.9136363636363637, 0.9181818181818182, 0.9272727272727272, 0.9272727272727272, 0.9318181818181818, 0.9181818181818182, 0.9272727272727272]\n"
          ]
        }
      ]
    },
    {
      "cell_type": "code",
      "source": [
        "plt.plot(ms,bag_score,label = \"accuracy\")\n",
        "plt.legend()"
      ],
      "metadata": {
        "colab": {
          "base_uri": "https://localhost:8080/",
          "height": 285
        },
        "id": "b8b8QLyeMJpz",
        "outputId": "7638ef6a-413f-4c50-c497-69819f68b27d"
      },
      "execution_count": 404,
      "outputs": [
        {
          "output_type": "execute_result",
          "data": {
            "text/plain": [
              "<matplotlib.legend.Legend at 0x7f689d0a6ad0>"
            ]
          },
          "metadata": {},
          "execution_count": 404
        },
        {
          "output_type": "display_data",
          "data": {
            "text/plain": [
              "<Figure size 432x288 with 1 Axes>"
            ],
            "image/png": "[encoded data removed]"
          },
          "metadata": {
            "needs_background": "light"
          }
        }
      ]
    },
    {
      "cell_type": "markdown",
      "source": [
        "From the above the graph the best accuracy is attained at 0.6 max_samples .0.9"
      ],
      "metadata": {
        "id": "x19xMI9gVqZ0"
      }
    },
    {
      "cell_type": "markdown",
      "source": [
        "**Random Forest Classifier**"
      ],
      "metadata": {
        "id": "4jbdnU3jWukW"
      }
    },
    {
      "cell_type": "code",
      "source": [
        "from sklearn.ensemble import RandomForestClassifier\n",
        "RF = RandomForestClassifier(max_features = 0.3, n_estimators = 33)\n",
        "RF.fit(X_train_os,Y_train_os)\n",
        "Y_pred_rf_os = RF.predict(X_test)"
      ],
      "metadata": {
        "id": "dt17zn0EVpgX"
      },
      "execution_count": 405,
      "outputs": []
    },
    {
      "cell_type": "code",
      "source": [
        "print(confusion_matrix(Y_test,Y_pred_rf_os))\n",
        "print(accuracy_score(Y_test,Y_pred_rf_os))\n",
        "print(classification_report(Y_test,Y_pred_rf_os))"
      ],
      "metadata": {
        "colab": {
          "base_uri": "https://localhost:8080/"
        },
        "id": "WFBH8k4UXNpE",
        "outputId": "d28103af-1994-41eb-b178-ac25f5fbd7b9"
      },
      "execution_count": 406,
      "outputs": [
        {
          "output_type": "stream",
          "name": "stdout",
          "text": [
            "[[153   4]\n",
            " [  8  55]]\n",
            "0.9454545454545454\n",
            "              precision    recall  f1-score   support\n",
            "\n",
            "         0.0       0.95      0.97      0.96       157\n",
            "         1.0       0.93      0.87      0.90        63\n",
            "\n",
            "    accuracy                           0.95       220\n",
            "   macro avg       0.94      0.92      0.93       220\n",
            "weighted avg       0.95      0.95      0.94       220\n",
            "\n"
          ]
        }
      ]
    },
    {
      "cell_type": "code",
      "source": [
        "rf_score = []\n",
        "mf = np.arange(0.1,1,0.1)\n",
        "for i in mf:\n",
        "    RF = RandomForestClassifier(max_features = i, n_estimators = 33)\n",
        "    RF.fit(X_train_os,Y_train_os)\n",
        "    Y_pred_rf_os = RF.predict(X_test)\n",
        "    rf_score.append(accuracy_score(Y_test,Y_pred_rf_os))\n",
        "    \n",
        "print(rf_score)"
      ],
      "metadata": {
        "colab": {
          "base_uri": "https://localhost:8080/"
        },
        "id": "dB1ExetTXZVe",
        "outputId": "357bd1e8-ef98-4ddc-e654-eb1f8b7f83a4"
      },
      "execution_count": 407,
      "outputs": [
        {
          "output_type": "stream",
          "name": "stdout",
          "text": [
            "[0.9454545454545454, 0.9318181818181818, 0.9363636363636364, 0.9363636363636364, 0.9272727272727272, 0.9363636363636364, 0.9409090909090909, 0.9318181818181818, 0.9272727272727272]\n"
          ]
        }
      ]
    },
    {
      "cell_type": "code",
      "source": [
        "plt.plot(mf,rf_score,label = \"test_accuracy\")\n",
        "plt.ylabel(\"accuracy\")\n",
        "plt.xlabel(\"max features\")\n",
        "plt.legend()"
      ],
      "metadata": {
        "colab": {
          "base_uri": "https://localhost:8080/",
          "height": 303
        },
        "id": "CeVpq-GMXg3F",
        "outputId": "9dfb6945-7229-48a1-cb5b-14d15bc7b752"
      },
      "execution_count": 408,
      "outputs": [
        {
          "output_type": "execute_result",
          "data": {
            "text/plain": [
              "<matplotlib.legend.Legend at 0x7f689d0ce490>"
            ]
          },
          "metadata": {},
          "execution_count": 408
        },
        {
          "output_type": "display_data",
          "data": {
            "text/plain": [
              "<Figure size 432x288 with 1 Axes>"
            ],
            "image/png": "[encoded data removed]"
          },
          "metadata": {
            "needs_background": "light"
          }
        }
      ]
    },
    {
      "cell_type": "code",
      "source": [
        "rf_score1 = []\n",
        "est = range(30,40,1)\n",
        "for i in est:\n",
        "    \n",
        "    RF = RandomForestClassifier(max_features = 0.1, n_estimators = i)\n",
        "    RF.fit(X_train_os,Y_train_os)\n",
        "    Y_pred_rf_os = RF.predict(X_test)\n",
        "    rf_score1.append(accuracy_score(Y_test,Y_pred_rf_os))\n",
        "    \n",
        "print(rf_score1)"
      ],
      "metadata": {
        "colab": {
          "base_uri": "https://localhost:8080/"
        },
        "id": "PjUtQSAxXZPB",
        "outputId": "3b9bad49-a4e6-4e5f-8c79-800639e72c4c"
      },
      "execution_count": 409,
      "outputs": [
        {
          "output_type": "stream",
          "name": "stdout",
          "text": [
            "[0.9409090909090909, 0.9409090909090909, 0.9363636363636364, 0.9318181818181818, 0.9363636363636364, 0.9409090909090909, 0.9454545454545454, 0.9318181818181818, 0.9318181818181818, 0.9363636363636364]\n"
          ]
        }
      ]
    },
    {
      "cell_type": "code",
      "source": [
        "plt.plot(est,rf_score1,label = \"test_accuracy\")\n",
        "plt.ylabel(\"accuracy\")\n",
        "plt.xlabel(\"n_estimators\")\n",
        "plt.legend()"
      ],
      "metadata": {
        "colab": {
          "base_uri": "https://localhost:8080/",
          "height": 305
        },
        "id": "5UuhjZ99X9GM",
        "outputId": "f3dcd723-62de-4559-a0cb-7f778dfae248"
      },
      "execution_count": 410,
      "outputs": [
        {
          "output_type": "execute_result",
          "data": {
            "text/plain": [
              "<matplotlib.legend.Legend at 0x7f689d004390>"
            ]
          },
          "metadata": {},
          "execution_count": 410
        },
        {
          "output_type": "display_data",
          "data": {
            "text/plain": [
              "<Figure size 432x288 with 1 Axes>"
            ],
            "image/png": "[encoded data removed]"
          },
          "metadata": {
            "needs_background": "light"
          }
        }
      ]
    },
    {
      "cell_type": "markdown",
      "source": [
        "**Ada Boost Classifier**"
      ],
      "metadata": {
        "id": "uXsxc0E_YzKE"
      }
    },
    {
      "cell_type": "code",
      "source": [
        "from sklearn.ensemble import AdaBoostClassifier"
      ],
      "metadata": {
        "id": "5EoBf8MLY4Gd"
      },
      "execution_count": 411,
      "outputs": []
    },
    {
      "cell_type": "code",
      "source": [
        "adb = AdaBoostClassifier(base_estimator = dt, n_estimators = 30)\n",
        "adb.fit(X_train_os,Y_train_os)\n",
        "Y_pred_adb_os = adb.predict(X_test)"
      ],
      "metadata": {
        "id": "Aya3D-scY8Yt"
      },
      "execution_count": 412,
      "outputs": []
    },
    {
      "cell_type": "code",
      "source": [
        "print(confusion_matrix(Y_test,Y_pred_adb_os))\n",
        "print(accuracy_score(Y_test,Y_pred_adb_os))\n",
        "print(classification_report(Y_test,Y_pred_adb_os))"
      ],
      "metadata": {
        "colab": {
          "base_uri": "https://localhost:8080/"
        },
        "id": "VOiPXZ4hZK91",
        "outputId": "03fb8a53-ac56-490d-d2bb-2521f78c2026"
      },
      "execution_count": 413,
      "outputs": [
        {
          "output_type": "stream",
          "name": "stdout",
          "text": [
            "[[146  11]\n",
            " [ 11  52]]\n",
            "0.9\n",
            "              precision    recall  f1-score   support\n",
            "\n",
            "         0.0       0.93      0.93      0.93       157\n",
            "         1.0       0.83      0.83      0.83        63\n",
            "\n",
            "    accuracy                           0.90       220\n",
            "   macro avg       0.88      0.88      0.88       220\n",
            "weighted avg       0.90      0.90      0.90       220\n",
            "\n"
          ]
        }
      ]
    },
    {
      "cell_type": "code",
      "source": [
        "adb_score = []\n",
        "est = range(1,100,10)\n",
        "for i in est:\n",
        "    adb = AdaBoostClassifier(base_estimator = dt, n_estimators = i)\n",
        "    adb.fit(X_train_os,Y_train_os)\n",
        "    Y_pred_adb_os = adb.predict(X_test)\n",
        "    adb_score.append(accuracy_score(Y_test,Y_pred_adb_os))\n",
        "\n",
        "print(adb_score)"
      ],
      "metadata": {
        "colab": {
          "base_uri": "https://localhost:8080/"
        },
        "id": "6nKzhQURZYTf",
        "outputId": "c38dc249-0a5d-4bc1-8d68-1ad8d42dfa36"
      },
      "execution_count": 414,
      "outputs": [
        {
          "output_type": "stream",
          "name": "stdout",
          "text": [
            "[0.9, 0.8954545454545455, 0.9, 0.9, 0.9090909090909091, 0.9, 0.8954545454545455, 0.9, 0.9045454545454545, 0.9]\n"
          ]
        }
      ]
    },
    {
      "cell_type": "code",
      "source": [
        "plt.plot(est,adb_score,label = \"test_accuracy\")\n",
        "plt.ylabel(\"accuracy\")\n",
        "plt.xlabel(\"n_estimators\")\n",
        "plt.legend()"
      ],
      "metadata": {
        "colab": {
          "base_uri": "https://localhost:8080/",
          "height": 303
        },
        "id": "JoQPnvYBZnTH",
        "outputId": "a97653ca-22c5-48e0-88ec-1c84834fd873"
      },
      "execution_count": 415,
      "outputs": [
        {
          "output_type": "execute_result",
          "data": {
            "text/plain": [
              "<matplotlib.legend.Legend at 0x7f689d122090>"
            ]
          },
          "metadata": {},
          "execution_count": 415
        },
        {
          "output_type": "display_data",
          "data": {
            "text/plain": [
              "<Figure size 432x288 with 1 Axes>"
            ],
            "image/png": "[encoded data removed]"
          },
          "metadata": {
            "needs_background": "light"
          }
        }
      ]
    },
    {
      "cell_type": "markdown",
      "source": [
        "From the above graph, choosing n_estimators = 30 which gave 90 accuracy the best accuracy of 92 is attained "
      ],
      "metadata": {
        "id": "459lDIe3aDm4"
      }
    },
    {
      "cell_type": "markdown",
      "source": [
        "**Gradinet Boosting**\n",
        "\n"
      ],
      "metadata": {
        "id": "fCfmdUKPaVhO"
      }
    },
    {
      "cell_type": "code",
      "source": [
        "from sklearn.ensemble import GradientBoostingClassifier\n",
        "gbr = GradientBoostingClassifier(n_estimators = 100, learning_rate = 0.165)\n",
        "gbr.fit(X_train_os,Y_train_os)\n",
        "Y_pred_gbr_os = gbr.predict(X_test)"
      ],
      "metadata": {
        "id": "K9PAkCuEaa9g"
      },
      "execution_count": 416,
      "outputs": []
    },
    {
      "cell_type": "code",
      "source": [
        "print(confusion_matrix(Y_test,Y_pred_gbr_os))\n",
        "print(accuracy_score(Y_test,Y_pred_gbr_os))\n",
        "print(classification_report(Y_test,Y_pred_gbr_os))"
      ],
      "metadata": {
        "colab": {
          "base_uri": "https://localhost:8080/"
        },
        "id": "4PsNEWEeauaB",
        "outputId": "39d15fc7-0868-436c-9d03-c7c31eb25a52"
      },
      "execution_count": 417,
      "outputs": [
        {
          "output_type": "stream",
          "name": "stdout",
          "text": [
            "[[148   9]\n",
            " [ 10  53]]\n",
            "0.9136363636363637\n",
            "              precision    recall  f1-score   support\n",
            "\n",
            "         0.0       0.94      0.94      0.94       157\n",
            "         1.0       0.85      0.84      0.85        63\n",
            "\n",
            "    accuracy                           0.91       220\n",
            "   macro avg       0.90      0.89      0.89       220\n",
            "weighted avg       0.91      0.91      0.91       220\n",
            "\n"
          ]
        }
      ]
    },
    {
      "cell_type": "code",
      "source": [
        "gbr_score = []\n",
        "setting = np.arange(0.01,0.2,0.01)\n",
        "for i in setting:\n",
        "    gbr = GradientBoostingClassifier(n_estimators = 100, learning_rate = i)\n",
        "    gbr.fit(X_train_os,Y_train_os)\n",
        "    Y_pred_gbr_os = gbr.predict(X_test)\n",
        "    gbr_score.append(accuracy_score(Y_test,Y_pred_gbr_os))\n",
        "\n",
        "print(gbr_score)"
      ],
      "metadata": {
        "colab": {
          "base_uri": "https://localhost:8080/"
        },
        "id": "DBEm1c6La3iT",
        "outputId": "a7879747-4281-47e1-c304-5157ab970dc1"
      },
      "execution_count": 418,
      "outputs": [
        {
          "output_type": "stream",
          "name": "stdout",
          "text": [
            "[0.8681818181818182, 0.8681818181818182, 0.8727272727272727, 0.8772727272727273, 0.9, 0.8909090909090909, 0.8772727272727273, 0.9090909090909091, 0.9045454545454545, 0.9045454545454545, 0.9045454545454545, 0.9090909090909091, 0.9045454545454545, 0.9136363636363637, 0.9318181818181818, 0.9090909090909091, 0.9, 0.8909090909090909, 0.9045454545454545]\n"
          ]
        }
      ]
    },
    {
      "cell_type": "code",
      "source": [
        "plt.plot(setting,gbr_score,label = \"test_accuracy\")\n",
        "plt.ylabel(\"accuracy\")\n",
        "plt.xlabel(\"learning rate\")\n",
        "plt.legend()"
      ],
      "metadata": {
        "colab": {
          "base_uri": "https://localhost:8080/",
          "height": 303
        },
        "id": "Qliq1Ni-bCWE",
        "outputId": "a6528526-daa8-43ec-f1a9-85df6af46754"
      },
      "execution_count": 419,
      "outputs": [
        {
          "output_type": "execute_result",
          "data": {
            "text/plain": [
              "<matplotlib.legend.Legend at 0x7f689cee3710>"
            ]
          },
          "metadata": {},
          "execution_count": 419
        },
        {
          "output_type": "display_data",
          "data": {
            "text/plain": [
              "<Figure size 432x288 with 1 Axes>"
            ],
            "image/png": "[encoded data removed]"
          },
          "metadata": {
            "needs_background": "light"
          }
        }
      ]
    },
    {
      "cell_type": "markdown",
      "source": [
        "From the above graph, the best accuracy of 0.89 is attained at learning rate = 0.165and f-score is almost similar for both the classes"
      ],
      "metadata": {
        "id": "mJhVw_DMbPot"
      }
    },
    {
      "cell_type": "markdown",
      "source": [
        "**XG Boost**"
      ],
      "metadata": {
        "id": "1_cBtKtib0f8"
      }
    },
    {
      "cell_type": "code",
      "source": [
        "from xgboost import XGBClassifier\n",
        "XG = XGBClassifier(learning_rate = 0.14, gamma = 0, reg_lambda = 1, n_estimators = 100)\n",
        "XG.fit(X_train_os,Y_train_os)\n",
        "Y_pred_XG_os = XG.predict(X_test)"
      ],
      "metadata": {
        "id": "bQaOLNT8b23f"
      },
      "execution_count": 420,
      "outputs": []
    },
    {
      "cell_type": "code",
      "source": [
        "print(confusion_matrix(Y_test,Y_pred_XG_os))\n",
        "print(accuracy_score(Y_test,Y_pred_XG_os))\n",
        "print(classification_report(Y_test,Y_pred_XG_os))"
      ],
      "metadata": {
        "colab": {
          "base_uri": "https://localhost:8080/"
        },
        "id": "Qcgp5Ul3cQ9y",
        "outputId": "dfcdceb4-a28e-4cb1-d32e-4f9736116daf"
      },
      "execution_count": 421,
      "outputs": [
        {
          "output_type": "stream",
          "name": "stdout",
          "text": [
            "[[147  10]\n",
            " [  9  54]]\n",
            "0.9136363636363637\n",
            "              precision    recall  f1-score   support\n",
            "\n",
            "         0.0       0.94      0.94      0.94       157\n",
            "         1.0       0.84      0.86      0.85        63\n",
            "\n",
            "    accuracy                           0.91       220\n",
            "   macro avg       0.89      0.90      0.89       220\n",
            "weighted avg       0.91      0.91      0.91       220\n",
            "\n"
          ]
        }
      ]
    },
    {
      "cell_type": "code",
      "source": [
        "XG_score = []\n",
        "est = range(1,100,10)\n",
        "for i in est:\n",
        "    XG = XGBClassifier(learning_rate = 0.14, gamma = 0, reg_lambda = 1, n_estimators = i)\n",
        "    XG.fit(X_train_os,Y_train_os)\n",
        "    Y_pred_XG_os = XG.predict(X_test)\n",
        "    XG_score.append(accuracy_score(Y_test,Y_pred_XG_os))\n",
        "\n",
        "print(XG_score)"
      ],
      "metadata": {
        "colab": {
          "base_uri": "https://localhost:8080/"
        },
        "id": "SDxUS6W0cZbJ",
        "outputId": "7bdca0e9-1a41-4027-ddaa-44350c6a3856"
      },
      "execution_count": 422,
      "outputs": [
        {
          "output_type": "stream",
          "name": "stdout",
          "text": [
            "[0.6727272727272727, 0.8545454545454545, 0.8727272727272727, 0.8681818181818182, 0.8727272727272727, 0.8863636363636364, 0.8863636363636364, 0.9136363636363637, 0.9181818181818182, 0.9136363636363637]\n"
          ]
        }
      ]
    },
    {
      "cell_type": "code",
      "source": [
        "plt.plot(est,XG_score,label = \"test_accuracy\")\n",
        "plt.ylabel(\"accuracy\")\n",
        "plt.xlabel(\"estimators\")\n",
        "plt.legend()"
      ],
      "metadata": {
        "colab": {
          "base_uri": "https://localhost:8080/",
          "height": 303
        },
        "id": "pmqFrKMkcZUS",
        "outputId": "5af0a29c-6db3-4f68-cf39-a026a8811ea0"
      },
      "execution_count": 423,
      "outputs": [
        {
          "output_type": "execute_result",
          "data": {
            "text/plain": [
              "<matplotlib.legend.Legend at 0x7f689ce6ea90>"
            ]
          },
          "metadata": {},
          "execution_count": 423
        },
        {
          "output_type": "display_data",
          "data": {
            "text/plain": [
              "<Figure size 432x288 with 1 Axes>"
            ],
            "image/png": "[encoded data removed]"
          },
          "metadata": {
            "needs_background": "light"
          }
        }
      ]
    },
    {
      "cell_type": "code",
      "source": [
        "print('Acc_XG_OS:', accuracy_score(Y_test,Y_pred_XG_os))\n",
        "print('Acc_GRB_OS:', accuracy_score(Y_test,Y_pred_gbr_os))\n",
        "print('Acc_ADB_OS:', accuracy_score(Y_test,Y_pred_adb_os))\n",
        "print('Acc_RF_OS:', accuracy_score(Y_test,Y_pred_rf_os))\n",
        "print('Acc_BAG_OS:', accuracy_score(Y_test,Y_pred_bag_os))\n",
        "print('Acc_DT_OS:', accuracy_score(Y_test,Y_pred_dt_os))\n",
        "print('Acc_SGD_OS:', accuracy_score(Y_test,Y_pred_sgd_os))\n",
        "print('Acc_SVM_POLY_OS:', accuracy_score(Y_test,Y_pred_svm_poly_os))\n",
        "print('Acc_SVM_RBF_OS:', accuracy_score(Y_test,Y_pred_svm_rbf_os))\n",
        "print('Acc_SVM_LINEAR_OS:', accuracy_score(Y_test,Y_pred_svm_linear_os))\n",
        "print('Acc_KNN_OS:', accuracy_score(Y_test,Y_pred_knn_os))\n",
        "print('Acc_LR_OS:', accuracy_score(Y_test,y_pred_lr_os))"
      ],
      "metadata": {
        "colab": {
          "base_uri": "https://localhost:8080/"
        },
        "id": "oH_1CwcRlKo2",
        "outputId": "28162e90-6d64-4a67-de2e-b7a7fd13dab8"
      },
      "execution_count": 424,
      "outputs": [
        {
          "output_type": "stream",
          "name": "stdout",
          "text": [
            "Acc_XG_OS: 0.9136363636363637\n",
            "Acc_GRB_OS: 0.9045454545454545\n",
            "Acc_ADB_OS: 0.9\n",
            "Acc_RF_OS: 0.9363636363636364\n",
            "Acc_BAG_OS: 0.9272727272727272\n",
            "Acc_DT_OS: 0.9045454545454545\n",
            "Acc_SGD_OS: 0.6227272727272727\n",
            "Acc_SVM_POLY_OS: 0.8318181818181818\n",
            "Acc_SVM_RBF_OS: 0.8818181818181818\n",
            "Acc_SVM_LINEAR_OS: 0.7909090909090909\n",
            "Acc_KNN_OS: 0.7772727272727272\n",
            "Acc_LR_OS: 0.7772727272727272\n"
          ]
        }
      ]
    }
  ]
}