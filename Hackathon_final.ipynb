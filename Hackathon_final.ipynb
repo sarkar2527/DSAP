{
  "nbformat": 4,
  "nbformat_minor": 0,
  "metadata": {
    "colab": {
      "name": "Hackathon_final.ipynb",
      "provenance": [],
      "collapsed_sections": [],
      "mount_file_id": "1zdvbve-lg5KR03uKf-aQ6bwlPane3W4s",
      "authorship_tag": "ABX9TyP/wdd7MjTBtonTrEDtT/Eb",
      "include_colab_link": true
    },
    "kernelspec": {
      "name": "python3",
      "display_name": "Python 3"
    },
    "language_info": {
      "name": "python"
    }
  },
  "cells": [
    {
      "cell_type": "markdown",
      "metadata": {
        "id": "view-in-github",
        "colab_type": "text"
      },
      "source": [
        "<a href=\"https://colab.research.google.com/github/sarkar2527/DSAP/blob/main/Hackathon_final.ipynb\" target=\"_parent\"><img src=\"https://colab.research.google.com/assets/colab-badge.svg\" alt=\"Open In Colab\"/></a>"
      ]
    },
    {
      "cell_type": "code",
      "execution_count": null,
      "metadata": {
        "colab": {
          "base_uri": "https://localhost:8080/"
        },
        "id": "2EYuzhiBnG5p",
        "outputId": "c7d08cd9-a9e0-4acb-ff44-ec0efd9183fd"
      },
      "outputs": [
        {
          "output_type": "stream",
          "name": "stdout",
          "text": [
            "Drive already mounted at /content/drive; to attempt to forcibly remount, call drive.mount(\"/content/drive\", force_remount=True).\n"
          ]
        }
      ],
      "source": [
        "from google.colab import drive\n",
        "drive.mount('/content/drive')"
      ]
    },
    {
      "cell_type": "markdown",
      "source": [
        "**Reading the DataSet**"
      ],
      "metadata": {
        "id": "2vtLrY0eVyto"
      }
    },
    {
      "cell_type": "code",
      "source": [
        "import pandas as pd\n",
        "df_raw_train=pd.read_csv(\"/content/drive/MyDrive/Hackathon/Participants_Data_THL/train.csv\")"
      ],
      "metadata": {
        "id": "kJ3JqX9Env-9"
      },
      "execution_count": null,
      "outputs": []
    },
    {
      "cell_type": "code",
      "source": [
        "df_raw_test=pd.read_csv(\"/content/drive/MyDrive/Hackathon/Participants_Data_THL/test.csv\")"
      ],
      "metadata": {
        "id": "dHwmVMVE0a0W"
      },
      "execution_count": null,
      "outputs": []
    },
    {
      "cell_type": "code",
      "source": [
        "df_raw_train.shape"
      ],
      "metadata": {
        "colab": {
          "base_uri": "https://localhost:8080/"
        },
        "id": "_u5DAayCn-o0",
        "outputId": "56b6dbb8-d831-437d-944d-77971413c46a"
      },
      "execution_count": null,
      "outputs": [
        {
          "output_type": "execute_result",
          "data": {
            "text/plain": [
              "(42748, 14)"
            ]
          },
          "metadata": {},
          "execution_count": 73
        }
      ]
    },
    {
      "cell_type": "code",
      "source": [
        "df_raw_test.shape"
      ],
      "metadata": {
        "colab": {
          "base_uri": "https://localhost:8080/"
        },
        "id": "xA1sqeg40uj7",
        "outputId": "0c5b9dd0-b890-4c6f-c868-8637527a1fd6"
      },
      "execution_count": null,
      "outputs": [
        {
          "output_type": "execute_result",
          "data": {
            "text/plain": [
              "(18321, 14)"
            ]
          },
          "metadata": {},
          "execution_count": 74
        }
      ]
    },
    {
      "cell_type": "code",
      "source": [
        "df_raw_train.head()"
      ],
      "metadata": {
        "colab": {
          "base_uri": "https://localhost:8080/",
          "height": 322
        },
        "id": "DUrQWa-uoDjh",
        "outputId": "ed9dab19-e0cf-45de-c344-24d8ceb217a7"
      },
      "execution_count": null,
      "outputs": [
        {
          "output_type": "execute_result",
          "data": {
            "text/html": [
              "\n",
              "  <div id=\"df-78ddf22a-9daa-493e-ae6c-74d6eae625a8\">\n",
              "    <div class=\"colab-df-container\">\n",
              "      <div>\n",
              "<style scoped>\n",
              "    .dataframe tbody tr th:only-of-type {\n",
              "        vertical-align: middle;\n",
              "    }\n",
              "\n",
              "    .dataframe tbody tr th {\n",
              "        vertical-align: top;\n",
              "    }\n",
              "\n",
              "    .dataframe thead th {\n",
              "        text-align: right;\n",
              "    }\n",
              "</style>\n",
              "<table border=\"1\" class=\"dataframe\">\n",
              "  <thead>\n",
              "    <tr style=\"text-align: right;\">\n",
              "      <th></th>\n",
              "      <th>edible-poisonous</th>\n",
              "      <th>cap-diameter</th>\n",
              "      <th>cap-shape</th>\n",
              "      <th>cap-color</th>\n",
              "      <th>does-bruise-or-bleed</th>\n",
              "      <th>gill-attachment</th>\n",
              "      <th>gill-color</th>\n",
              "      <th>stem-height</th>\n",
              "      <th>stem-width</th>\n",
              "      <th>stem-color</th>\n",
              "      <th>has-ring</th>\n",
              "      <th>ring-type</th>\n",
              "      <th>habitat</th>\n",
              "      <th>season</th>\n",
              "    </tr>\n",
              "  </thead>\n",
              "  <tbody>\n",
              "    <tr>\n",
              "      <th>0</th>\n",
              "      <td>p</td>\n",
              "      <td>5.75</td>\n",
              "      <td>x</td>\n",
              "      <td>n</td>\n",
              "      <td>t</td>\n",
              "      <td>s</td>\n",
              "      <td>w</td>\n",
              "      <td>6.13</td>\n",
              "      <td>14.93</td>\n",
              "      <td>w</td>\n",
              "      <td>f</td>\n",
              "      <td>f</td>\n",
              "      <td>d</td>\n",
              "      <td>a</td>\n",
              "    </tr>\n",
              "    <tr>\n",
              "      <th>1</th>\n",
              "      <td>p</td>\n",
              "      <td>2.27</td>\n",
              "      <td>o</td>\n",
              "      <td>g</td>\n",
              "      <td>f</td>\n",
              "      <td>f</td>\n",
              "      <td>f</td>\n",
              "      <td>0.00</td>\n",
              "      <td>0.00</td>\n",
              "      <td>f</td>\n",
              "      <td>f</td>\n",
              "      <td>f</td>\n",
              "      <td>d</td>\n",
              "      <td>s</td>\n",
              "    </tr>\n",
              "    <tr>\n",
              "      <th>2</th>\n",
              "      <td>p</td>\n",
              "      <td>5.59</td>\n",
              "      <td>c</td>\n",
              "      <td>y</td>\n",
              "      <td>t</td>\n",
              "      <td>x</td>\n",
              "      <td>p</td>\n",
              "      <td>5.47</td>\n",
              "      <td>11.27</td>\n",
              "      <td>w</td>\n",
              "      <td>f</td>\n",
              "      <td>f</td>\n",
              "      <td>d</td>\n",
              "      <td>a</td>\n",
              "    </tr>\n",
              "    <tr>\n",
              "      <th>3</th>\n",
              "      <td>p</td>\n",
              "      <td>0.74</td>\n",
              "      <td>x</td>\n",
              "      <td>p</td>\n",
              "      <td>f</td>\n",
              "      <td>a</td>\n",
              "      <td>n</td>\n",
              "      <td>4.33</td>\n",
              "      <td>0.98</td>\n",
              "      <td>k</td>\n",
              "      <td>f</td>\n",
              "      <td>f</td>\n",
              "      <td>d</td>\n",
              "      <td>a</td>\n",
              "    </tr>\n",
              "    <tr>\n",
              "      <th>4</th>\n",
              "      <td>p</td>\n",
              "      <td>9.60</td>\n",
              "      <td>x</td>\n",
              "      <td>n</td>\n",
              "      <td>f</td>\n",
              "      <td>a</td>\n",
              "      <td>w</td>\n",
              "      <td>10.84</td>\n",
              "      <td>28.52</td>\n",
              "      <td>w</td>\n",
              "      <td>f</td>\n",
              "      <td>f</td>\n",
              "      <td>d</td>\n",
              "      <td>u</td>\n",
              "    </tr>\n",
              "  </tbody>\n",
              "</table>\n",
              "</div>\n",
              "      <button class=\"colab-df-convert\" onclick=\"convertToInteractive('df-78ddf22a-9daa-493e-ae6c-74d6eae625a8')\"\n",
              "              title=\"Convert this dataframe to an interactive table.\"\n",
              "              style=\"display:none;\">\n",
              "        \n",
              "  <svg xmlns=\"http://www.w3.org/2000/svg\" height=\"24px\"viewBox=\"0 0 24 24\"\n",
              "       width=\"24px\">\n",
              "    <path d=\"M0 0h24v24H0V0z\" fill=\"none\"/>\n",
              "    <path d=\"M18.56 5.44l.94 2.06.94-2.06 2.06-.94-2.06-.94-.94-2.06-.94 2.06-2.06.94zm-11 1L8.5 8.5l.94-2.06 2.06-.94-2.06-.94L8.5 2.5l-.94 2.06-2.06.94zm10 10l.94 2.06.94-2.06 2.06-.94-2.06-.94-.94-2.06-.94 2.06-2.06.94z\"/><path d=\"M17.41 7.96l-1.37-1.37c-.4-.4-.92-.59-1.43-.59-.52 0-1.04.2-1.43.59L10.3 9.45l-7.72 7.72c-.78.78-.78 2.05 0 2.83L4 21.41c.39.39.9.59 1.41.59.51 0 1.02-.2 1.41-.59l7.78-7.78 2.81-2.81c.8-.78.8-2.07 0-2.86zM5.41 20L4 18.59l7.72-7.72 1.47 1.35L5.41 20z\"/>\n",
              "  </svg>\n",
              "      </button>\n",
              "      \n",
              "  <style>\n",
              "    .colab-df-container {\n",
              "      display:flex;\n",
              "      flex-wrap:wrap;\n",
              "      gap: 12px;\n",
              "    }\n",
              "\n",
              "    .colab-df-convert {\n",
              "      background-color: #E8F0FE;\n",
              "      border: none;\n",
              "      border-radius: 50%;\n",
              "      cursor: pointer;\n",
              "      display: none;\n",
              "      fill: #1967D2;\n",
              "      height: 32px;\n",
              "      padding: 0 0 0 0;\n",
              "      width: 32px;\n",
              "    }\n",
              "\n",
              "    .colab-df-convert:hover {\n",
              "      background-color: #E2EBFA;\n",
              "      box-shadow: 0px 1px 2px rgba(60, 64, 67, 0.3), 0px 1px 3px 1px rgba(60, 64, 67, 0.15);\n",
              "      fill: #174EA6;\n",
              "    }\n",
              "\n",
              "    [theme=dark] .colab-df-convert {\n",
              "      background-color: #3B4455;\n",
              "      fill: #D2E3FC;\n",
              "    }\n",
              "\n",
              "    [theme=dark] .colab-df-convert:hover {\n",
              "      background-color: #434B5C;\n",
              "      box-shadow: 0px 1px 3px 1px rgba(0, 0, 0, 0.15);\n",
              "      filter: drop-shadow(0px 1px 2px rgba(0, 0, 0, 0.3));\n",
              "      fill: #FFFFFF;\n",
              "    }\n",
              "  </style>\n",
              "\n",
              "      <script>\n",
              "        const buttonEl =\n",
              "          document.querySelector('#df-78ddf22a-9daa-493e-ae6c-74d6eae625a8 button.colab-df-convert');\n",
              "        buttonEl.style.display =\n",
              "          google.colab.kernel.accessAllowed ? 'block' : 'none';\n",
              "\n",
              "        async function convertToInteractive(key) {\n",
              "          const element = document.querySelector('#df-78ddf22a-9daa-493e-ae6c-74d6eae625a8');\n",
              "          const dataTable =\n",
              "            await google.colab.kernel.invokeFunction('convertToInteractive',\n",
              "                                                     [key], {});\n",
              "          if (!dataTable) return;\n",
              "\n",
              "          const docLinkHtml = 'Like what you see? Visit the ' +\n",
              "            '<a target=\"_blank\" href=https://colab.research.google.com/notebooks/data_table.ipynb>data table notebook</a>'\n",
              "            + ' to learn more about interactive tables.';\n",
              "          element.innerHTML = '';\n",
              "          dataTable['output_type'] = 'display_data';\n",
              "          await google.colab.output.renderOutput(dataTable, element);\n",
              "          const docLink = document.createElement('div');\n",
              "          docLink.innerHTML = docLinkHtml;\n",
              "          element.appendChild(docLink);\n",
              "        }\n",
              "      </script>\n",
              "    </div>\n",
              "  </div>\n",
              "  "
            ],
            "text/plain": [
              "  edible-poisonous  cap-diameter cap-shape  ... ring-type habitat season\n",
              "0                p          5.75         x  ...         f       d      a\n",
              "1                p          2.27         o  ...         f       d      s\n",
              "2                p          5.59         c  ...         f       d      a\n",
              "3                p          0.74         x  ...         f       d      a\n",
              "4                p          9.60         x  ...         f       d      u\n",
              "\n",
              "[5 rows x 14 columns]"
            ]
          },
          "metadata": {},
          "execution_count": 6
        }
      ]
    },
    {
      "cell_type": "code",
      "source": [
        "df_raw_test.head()"
      ],
      "metadata": {
        "colab": {
          "base_uri": "https://localhost:8080/",
          "height": 322
        },
        "id": "G7pVzPCn04pZ",
        "outputId": "4339338d-9aed-4ce6-a915-f2955e4b895c"
      },
      "execution_count": null,
      "outputs": [
        {
          "output_type": "execute_result",
          "data": {
            "text/html": [
              "\n",
              "  <div id=\"df-e06e44f6-9c40-4967-888f-6690b188e2c9\">\n",
              "    <div class=\"colab-df-container\">\n",
              "      <div>\n",
              "<style scoped>\n",
              "    .dataframe tbody tr th:only-of-type {\n",
              "        vertical-align: middle;\n",
              "    }\n",
              "\n",
              "    .dataframe tbody tr th {\n",
              "        vertical-align: top;\n",
              "    }\n",
              "\n",
              "    .dataframe thead th {\n",
              "        text-align: right;\n",
              "    }\n",
              "</style>\n",
              "<table border=\"1\" class=\"dataframe\">\n",
              "  <thead>\n",
              "    <tr style=\"text-align: right;\">\n",
              "      <th></th>\n",
              "      <th>edible-poisonous</th>\n",
              "      <th>cap-diameter</th>\n",
              "      <th>cap-shape</th>\n",
              "      <th>cap-color</th>\n",
              "      <th>does-bruise-or-bleed</th>\n",
              "      <th>gill-attachment</th>\n",
              "      <th>gill-color</th>\n",
              "      <th>stem-height</th>\n",
              "      <th>stem-width</th>\n",
              "      <th>stem-color</th>\n",
              "      <th>has-ring</th>\n",
              "      <th>ring-type</th>\n",
              "      <th>habitat</th>\n",
              "      <th>season</th>\n",
              "    </tr>\n",
              "  </thead>\n",
              "  <tbody>\n",
              "    <tr>\n",
              "      <th>0</th>\n",
              "      <td>e</td>\n",
              "      <td>4.68</td>\n",
              "      <td>x</td>\n",
              "      <td>w</td>\n",
              "      <td>f</td>\n",
              "      <td>x</td>\n",
              "      <td>w</td>\n",
              "      <td>8.22</td>\n",
              "      <td>9.58</td>\n",
              "      <td>n</td>\n",
              "      <td>t</td>\n",
              "      <td>NaN</td>\n",
              "      <td>g</td>\n",
              "      <td>NaN</td>\n",
              "    </tr>\n",
              "    <tr>\n",
              "      <th>1</th>\n",
              "      <td>p</td>\n",
              "      <td>10.33</td>\n",
              "      <td>x</td>\n",
              "      <td>y</td>\n",
              "      <td>f</td>\n",
              "      <td>a</td>\n",
              "      <td>y</td>\n",
              "      <td>11.98</td>\n",
              "      <td>13.29</td>\n",
              "      <td>y</td>\n",
              "      <td>t</td>\n",
              "      <td>NaN</td>\n",
              "      <td>d</td>\n",
              "      <td>NaN</td>\n",
              "    </tr>\n",
              "    <tr>\n",
              "      <th>2</th>\n",
              "      <td>p</td>\n",
              "      <td>9.26</td>\n",
              "      <td>x</td>\n",
              "      <td>w</td>\n",
              "      <td>t</td>\n",
              "      <td>NaN</td>\n",
              "      <td>w</td>\n",
              "      <td>7.41</td>\n",
              "      <td>12.68</td>\n",
              "      <td>w</td>\n",
              "      <td>t</td>\n",
              "      <td>l</td>\n",
              "      <td>g</td>\n",
              "      <td>NaN</td>\n",
              "    </tr>\n",
              "    <tr>\n",
              "      <th>3</th>\n",
              "      <td>p</td>\n",
              "      <td>14.90</td>\n",
              "      <td>s</td>\n",
              "      <td>w</td>\n",
              "      <td>t</td>\n",
              "      <td>d</td>\n",
              "      <td>w</td>\n",
              "      <td>5.33</td>\n",
              "      <td>23.03</td>\n",
              "      <td>w</td>\n",
              "      <td>f</td>\n",
              "      <td>f</td>\n",
              "      <td>d</td>\n",
              "      <td>NaN</td>\n",
              "    </tr>\n",
              "    <tr>\n",
              "      <th>4</th>\n",
              "      <td>p</td>\n",
              "      <td>1.01</td>\n",
              "      <td>x</td>\n",
              "      <td>w</td>\n",
              "      <td>f</td>\n",
              "      <td>a</td>\n",
              "      <td>w</td>\n",
              "      <td>3.17</td>\n",
              "      <td>1.64</td>\n",
              "      <td>e</td>\n",
              "      <td>f</td>\n",
              "      <td>f</td>\n",
              "      <td>l</td>\n",
              "      <td>NaN</td>\n",
              "    </tr>\n",
              "  </tbody>\n",
              "</table>\n",
              "</div>\n",
              "      <button class=\"colab-df-convert\" onclick=\"convertToInteractive('df-e06e44f6-9c40-4967-888f-6690b188e2c9')\"\n",
              "              title=\"Convert this dataframe to an interactive table.\"\n",
              "              style=\"display:none;\">\n",
              "        \n",
              "  <svg xmlns=\"http://www.w3.org/2000/svg\" height=\"24px\"viewBox=\"0 0 24 24\"\n",
              "       width=\"24px\">\n",
              "    <path d=\"M0 0h24v24H0V0z\" fill=\"none\"/>\n",
              "    <path d=\"M18.56 5.44l.94 2.06.94-2.06 2.06-.94-2.06-.94-.94-2.06-.94 2.06-2.06.94zm-11 1L8.5 8.5l.94-2.06 2.06-.94-2.06-.94L8.5 2.5l-.94 2.06-2.06.94zm10 10l.94 2.06.94-2.06 2.06-.94-2.06-.94-.94-2.06-.94 2.06-2.06.94z\"/><path d=\"M17.41 7.96l-1.37-1.37c-.4-.4-.92-.59-1.43-.59-.52 0-1.04.2-1.43.59L10.3 9.45l-7.72 7.72c-.78.78-.78 2.05 0 2.83L4 21.41c.39.39.9.59 1.41.59.51 0 1.02-.2 1.41-.59l7.78-7.78 2.81-2.81c.8-.78.8-2.07 0-2.86zM5.41 20L4 18.59l7.72-7.72 1.47 1.35L5.41 20z\"/>\n",
              "  </svg>\n",
              "      </button>\n",
              "      \n",
              "  <style>\n",
              "    .colab-df-container {\n",
              "      display:flex;\n",
              "      flex-wrap:wrap;\n",
              "      gap: 12px;\n",
              "    }\n",
              "\n",
              "    .colab-df-convert {\n",
              "      background-color: #E8F0FE;\n",
              "      border: none;\n",
              "      border-radius: 50%;\n",
              "      cursor: pointer;\n",
              "      display: none;\n",
              "      fill: #1967D2;\n",
              "      height: 32px;\n",
              "      padding: 0 0 0 0;\n",
              "      width: 32px;\n",
              "    }\n",
              "\n",
              "    .colab-df-convert:hover {\n",
              "      background-color: #E2EBFA;\n",
              "      box-shadow: 0px 1px 2px rgba(60, 64, 67, 0.3), 0px 1px 3px 1px rgba(60, 64, 67, 0.15);\n",
              "      fill: #174EA6;\n",
              "    }\n",
              "\n",
              "    [theme=dark] .colab-df-convert {\n",
              "      background-color: #3B4455;\n",
              "      fill: #D2E3FC;\n",
              "    }\n",
              "\n",
              "    [theme=dark] .colab-df-convert:hover {\n",
              "      background-color: #434B5C;\n",
              "      box-shadow: 0px 1px 3px 1px rgba(0, 0, 0, 0.15);\n",
              "      filter: drop-shadow(0px 1px 2px rgba(0, 0, 0, 0.3));\n",
              "      fill: #FFFFFF;\n",
              "    }\n",
              "  </style>\n",
              "\n",
              "      <script>\n",
              "        const buttonEl =\n",
              "          document.querySelector('#df-e06e44f6-9c40-4967-888f-6690b188e2c9 button.colab-df-convert');\n",
              "        buttonEl.style.display =\n",
              "          google.colab.kernel.accessAllowed ? 'block' : 'none';\n",
              "\n",
              "        async function convertToInteractive(key) {\n",
              "          const element = document.querySelector('#df-e06e44f6-9c40-4967-888f-6690b188e2c9');\n",
              "          const dataTable =\n",
              "            await google.colab.kernel.invokeFunction('convertToInteractive',\n",
              "                                                     [key], {});\n",
              "          if (!dataTable) return;\n",
              "\n",
              "          const docLinkHtml = 'Like what you see? Visit the ' +\n",
              "            '<a target=\"_blank\" href=https://colab.research.google.com/notebooks/data_table.ipynb>data table notebook</a>'\n",
              "            + ' to learn more about interactive tables.';\n",
              "          element.innerHTML = '';\n",
              "          dataTable['output_type'] = 'display_data';\n",
              "          await google.colab.output.renderOutput(dataTable, element);\n",
              "          const docLink = document.createElement('div');\n",
              "          docLink.innerHTML = docLinkHtml;\n",
              "          element.appendChild(docLink);\n",
              "        }\n",
              "      </script>\n",
              "    </div>\n",
              "  </div>\n",
              "  "
            ],
            "text/plain": [
              "  edible-poisonous  cap-diameter cap-shape  ... ring-type habitat season\n",
              "0                e          4.68         x  ...       NaN       g    NaN\n",
              "1                p         10.33         x  ...       NaN       d    NaN\n",
              "2                p          9.26         x  ...         l       g    NaN\n",
              "3                p         14.90         s  ...         f       d    NaN\n",
              "4                p          1.01         x  ...         f       l    NaN\n",
              "\n",
              "[5 rows x 14 columns]"
            ]
          },
          "metadata": {},
          "execution_count": 7
        }
      ]
    },
    {
      "cell_type": "code",
      "source": [
        "df_raw_train.isna().sum()"
      ],
      "metadata": {
        "colab": {
          "base_uri": "https://localhost:8080/"
        },
        "id": "Rsr14lVooLXx",
        "outputId": "28bf2636-197d-41d2-b9f9-52a878f0c2b4"
      },
      "execution_count": null,
      "outputs": [
        {
          "output_type": "execute_result",
          "data": {
            "text/plain": [
              "edible-poisonous           0\n",
              "cap-diameter               0\n",
              "cap-shape                  0\n",
              "cap-color                  0\n",
              "does-bruise-or-bleed       0\n",
              "gill-attachment         6940\n",
              "gill-color                 0\n",
              "stem-height                0\n",
              "stem-width                 0\n",
              "stem-color                 0\n",
              "has-ring                   0\n",
              "ring-type               1719\n",
              "habitat                    0\n",
              "season                     0\n",
              "dtype: int64"
            ]
          },
          "metadata": {},
          "execution_count": 8
        }
      ]
    },
    {
      "cell_type": "code",
      "source": [
        "''' checking null value percentage '''\n",
        "(df[' Rocket'].isnull().sum() / len(df)) * 100"
      ],
      "metadata": {
        "id": "gLLC3Ekqfqvl"
      },
      "execution_count": null,
      "outputs": []
    },
    {
      "cell_type": "code",
      "source": [
        "df_raw_test.isna().sum()"
      ],
      "metadata": {
        "colab": {
          "base_uri": "https://localhost:8080/"
        },
        "id": "Mv92SKy61BF5",
        "outputId": "15327830-1a7c-4444-dc0a-6510a6050bf3"
      },
      "execution_count": null,
      "outputs": [
        {
          "output_type": "execute_result",
          "data": {
            "text/plain": [
              "edible-poisonous            0\n",
              "cap-diameter                0\n",
              "cap-shape                   0\n",
              "cap-color                   0\n",
              "does-bruise-or-bleed        0\n",
              "gill-attachment          2944\n",
              "gill-color                  0\n",
              "stem-height                 0\n",
              "stem-width                  0\n",
              "stem-color                  0\n",
              "has-ring                    0\n",
              "ring-type                 752\n",
              "habitat                     0\n",
              "season                  18321\n",
              "dtype: int64"
            ]
          },
          "metadata": {},
          "execution_count": 9
        }
      ]
    },
    {
      "cell_type": "markdown",
      "source": [
        "**Data Preprocessing**\n",
        "\n",
        "1. Filled Nan Values with Mode values also tried with removing Nan Values.\n",
        "\n",
        "2. Removing Outliers "
      ],
      "metadata": {
        "id": "OLUj5L68V_rb"
      }
    },
    {
      "cell_type": "markdown",
      "source": [
        "Filled Nan Value with Mode"
      ],
      "metadata": {
        "id": "-kgeX8j6WnWQ"
      }
    },
    {
      "cell_type": "code",
      "source": [
        "df_raw_train['gill-attachment'].fillna(df_raw_train['gill-attachment'].mode()[0], inplace=True)"
      ],
      "metadata": {
        "id": "Y8PkGG-ovHYh"
      },
      "execution_count": null,
      "outputs": []
    },
    {
      "cell_type": "code",
      "source": [
        "df_raw_train['gill-attachment'].isna().sum()"
      ],
      "metadata": {
        "colab": {
          "base_uri": "https://localhost:8080/"
        },
        "id": "BDuE36i7ypnG",
        "outputId": "8b531000-d38e-4c3a-cf4c-5ea20a87997f"
      },
      "execution_count": null,
      "outputs": [
        {
          "output_type": "execute_result",
          "data": {
            "text/plain": [
              "0"
            ]
          },
          "metadata": {},
          "execution_count": 11
        }
      ]
    },
    {
      "cell_type": "code",
      "source": [
        "df_raw_test['gill-attachment'].fillna(df_raw_test['gill-attachment'].mode()[0], inplace=True)"
      ],
      "metadata": {
        "id": "LejVYU0W1c4X"
      },
      "execution_count": null,
      "outputs": []
    },
    {
      "cell_type": "code",
      "source": [
        "df_raw_test['gill-attachment'].isna().sum()"
      ],
      "metadata": {
        "colab": {
          "base_uri": "https://localhost:8080/"
        },
        "id": "y74gL7ef1zUn",
        "outputId": "1fb9d504-c017-49f0-c25a-5e68e6986df3"
      },
      "execution_count": null,
      "outputs": [
        {
          "output_type": "execute_result",
          "data": {
            "text/plain": [
              "0"
            ]
          },
          "metadata": {},
          "execution_count": 13
        }
      ]
    },
    {
      "cell_type": "code",
      "source": [
        "df_raw_train['ring-type'].fillna(df_raw_train['ring-type'].mode()[0], inplace =True)"
      ],
      "metadata": {
        "id": "6eLehAnsxCLY"
      },
      "execution_count": null,
      "outputs": []
    },
    {
      "cell_type": "code",
      "source": [
        "df_raw_train['ring-type'].isna().sum()"
      ],
      "metadata": {
        "colab": {
          "base_uri": "https://localhost:8080/"
        },
        "id": "mhnC319O0feN",
        "outputId": "437989d7-d86d-4f2d-9cf1-02fea1238e6f"
      },
      "execution_count": null,
      "outputs": [
        {
          "output_type": "execute_result",
          "data": {
            "text/plain": [
              "0"
            ]
          },
          "metadata": {},
          "execution_count": 15
        }
      ]
    },
    {
      "cell_type": "code",
      "source": [
        "df_raw_test['ring-type'].fillna(df_raw_test['ring-type'].mode()[0], inplace =True)"
      ],
      "metadata": {
        "id": "E17H4oyU2Kvr"
      },
      "execution_count": null,
      "outputs": []
    },
    {
      "cell_type": "code",
      "source": [
        "df_raw_test['ring-type'].isna().sum()"
      ],
      "metadata": {
        "colab": {
          "base_uri": "https://localhost:8080/"
        },
        "id": "d_lqCvFy2RRb",
        "outputId": "b128169c-3da6-4e23-c6d7-94f5a7692915"
      },
      "execution_count": null,
      "outputs": [
        {
          "output_type": "execute_result",
          "data": {
            "text/plain": [
              "0"
            ]
          },
          "metadata": {},
          "execution_count": 17
        }
      ]
    },
    {
      "cell_type": "code",
      "source": [
        "df_raw_train.isna().sum()"
      ],
      "metadata": {
        "colab": {
          "base_uri": "https://localhost:8080/"
        },
        "id": "m9zJZ40Fxyew",
        "outputId": "0596acb9-a7ee-4dbe-ccc9-842d07848ee3"
      },
      "execution_count": null,
      "outputs": [
        {
          "output_type": "execute_result",
          "data": {
            "text/plain": [
              "edible-poisonous        0\n",
              "cap-diameter            0\n",
              "cap-shape               0\n",
              "cap-color               0\n",
              "does-bruise-or-bleed    0\n",
              "gill-attachment         0\n",
              "gill-color              0\n",
              "stem-height             0\n",
              "stem-width              0\n",
              "stem-color              0\n",
              "has-ring                0\n",
              "ring-type               0\n",
              "habitat                 0\n",
              "season                  0\n",
              "dtype: int64"
            ]
          },
          "metadata": {},
          "execution_count": 81
        }
      ]
    },
    {
      "cell_type": "code",
      "source": [
        "df_raw_test.isna().sum()"
      ],
      "metadata": {
        "colab": {
          "base_uri": "https://localhost:8080/"
        },
        "id": "clGwtBlc2Zcz",
        "outputId": "03becbcf-deef-40fa-f9f2-395b46e8f5b4"
      },
      "execution_count": null,
      "outputs": [
        {
          "output_type": "execute_result",
          "data": {
            "text/plain": [
              "edible-poisonous            0\n",
              "cap-diameter                0\n",
              "cap-shape                   0\n",
              "cap-color                   0\n",
              "does-bruise-or-bleed        0\n",
              "gill-attachment             0\n",
              "gill-color                  0\n",
              "stem-height                 0\n",
              "stem-width                  0\n",
              "stem-color                  0\n",
              "has-ring                    0\n",
              "ring-type                   0\n",
              "habitat                     0\n",
              "season                  18321\n",
              "dtype: int64"
            ]
          },
          "metadata": {},
          "execution_count": 82
        }
      ]
    },
    {
      "cell_type": "markdown",
      "source": [
        "**Checking the outliers through Box Plot**"
      ],
      "metadata": {
        "id": "D0ng_cj_YbX3"
      }
    },
    {
      "cell_type": "code",
      "source": [
        "import numpy as np"
      ],
      "metadata": {
        "id": "_kt6vinN1MVz"
      },
      "execution_count": null,
      "outputs": []
    },
    {
      "cell_type": "code",
      "source": [
        "import matplotlib.pyplot as plt"
      ],
      "metadata": {
        "id": "nA015WS6-gk1"
      },
      "execution_count": null,
      "outputs": []
    },
    {
      "cell_type": "code",
      "source": [
        "def plot_boxplot(df,ft):\n",
        "    df.boxplot(column=[ft])\n",
        "    plt.grid(False)\n",
        "    plt.show()"
      ],
      "metadata": {
        "id": "04qvsMnI9X9n"
      },
      "execution_count": null,
      "outputs": []
    },
    {
      "cell_type": "code",
      "source": [
        "plot_boxplot(df_raw_train, 'cap-diameter')"
      ],
      "metadata": {
        "colab": {
          "base_uri": "https://localhost:8080/",
          "height": 265
        },
        "id": "lEBWmdlr-sS-",
        "outputId": "82bdfa5b-5627-4ccc-a00a-c3e520a694d5"
      },
      "execution_count": null,
      "outputs": [
        {
          "output_type": "display_data",
          "data": {
            "image/png": "[encoded data removed]",
            "text/plain": [
              "<Figure size 432x288 with 1 Axes>"
            ]
          },
          "metadata": {
            "needs_background": "light"
          }
        }
      ]
    },
    {
      "cell_type": "code",
      "source": [
        "plot_boxplot(df_raw_test, 'cap-diameter')"
      ],
      "metadata": {
        "colab": {
          "base_uri": "https://localhost:8080/",
          "height": 266
        },
        "id": "Tv6I-hhC2vNv",
        "outputId": "5477e600-0afd-43fe-83dd-8c32c8aeae5a"
      },
      "execution_count": null,
      "outputs": [
        {
          "output_type": "display_data",
          "data": {
            "image/png": "[encoded data removed]",
            "text/plain": [
              "<Figure size 432x288 with 1 Axes>"
            ]
          },
          "metadata": {
            "needs_background": "light"
          }
        }
      ]
    },
    {
      "cell_type": "code",
      "source": [
        "  plot_boxplot(df_raw_train, 'stem-height')"
      ],
      "metadata": {
        "colab": {
          "base_uri": "https://localhost:8080/",
          "height": 266
        },
        "id": "X5pEB4lJ_JVw",
        "outputId": "4aeed700-c371-4d66-ce07-4d612c12b281"
      },
      "execution_count": null,
      "outputs": [
        {
          "output_type": "display_data",
          "data": {
            "image/png": "[encoded data removed]",
            "text/plain": [
              "<Figure size 432x288 with 1 Axes>"
            ]
          },
          "metadata": {
            "needs_background": "light"
          }
        }
      ]
    },
    {
      "cell_type": "code",
      "source": [
        "  plot_boxplot(df_raw_test, 'stem-height')"
      ],
      "metadata": {
        "colab": {
          "base_uri": "https://localhost:8080/",
          "height": 265
        },
        "id": "iJnliLZ026Bs",
        "outputId": "c9fb5af5-23a5-4e03-f40a-5ef5c9b7b94f"
      },
      "execution_count": null,
      "outputs": [
        {
          "output_type": "display_data",
          "data": {
            "image/png": "[encoded data removed]",
            "text/plain": [
              "<Figure size 432x288 with 1 Axes>"
            ]
          },
          "metadata": {
            "needs_background": "light"
          }
        }
      ]
    },
    {
      "cell_type": "code",
      "source": [
        "plot_boxplot(df_raw_train, 'stem-width')"
      ],
      "metadata": {
        "colab": {
          "base_uri": "https://localhost:8080/",
          "height": 265
        },
        "id": "lrPqnKbD_QI5",
        "outputId": "678aef18-b826-4a24-ac41-63f6636c6802"
      },
      "execution_count": null,
      "outputs": [
        {
          "output_type": "display_data",
          "data": {
            "image/png": "[encoded data removed]",
            "text/plain": [
              "<Figure size 432x288 with 1 Axes>"
            ]
          },
          "metadata": {
            "needs_background": "light"
          }
        }
      ]
    },
    {
      "cell_type": "code",
      "source": [
        "plot_boxplot(df_raw_test, 'stem-width')"
      ],
      "metadata": {
        "colab": {
          "base_uri": "https://localhost:8080/",
          "height": 265
        },
        "id": "Glek6Sat3De5",
        "outputId": "328146e4-c42b-4ccb-e28a-25a65f8d120e"
      },
      "execution_count": null,
      "outputs": [
        {
          "output_type": "display_data",
          "data": {
            "image/png": "[encoded data removed]",
            "text/plain": [
              "<Figure size 432x288 with 1 Axes>"
            ]
          },
          "metadata": {
            "needs_background": "light"
          }
        }
      ]
    },
    {
      "cell_type": "code",
      "source": [
        "df_raw_train.shape"
      ],
      "metadata": {
        "colab": {
          "base_uri": "https://localhost:8080/"
        },
        "id": "90TyOqL5AAVW",
        "outputId": "8682833b-46d0-4474-a7d4-6f2d5b4fc69a"
      },
      "execution_count": null,
      "outputs": [
        {
          "output_type": "execute_result",
          "data": {
            "text/plain": [
              "(42748, 14)"
            ]
          },
          "metadata": {},
          "execution_count": 92
        }
      ]
    },
    {
      "cell_type": "code",
      "source": [
        "cols = ['cap-diameter', 'stem-height','stem-width'] # one or more\n",
        "\n",
        "Q1 = df_raw_train[cols].quantile(0.25)\n",
        "Q3 = df_raw_train[cols].quantile(0.75)\n",
        "IQR = Q3 - Q1\n",
        "\n",
        "df_new_train = df_raw_train[~((df_raw_train[cols] < (Q1 - 1.5 * IQR)) |(df_raw_train[cols] > (Q3 + 1.5 * IQR))).any(axis=1)]"
      ],
      "metadata": {
        "id": "XGGQbyC8JZtr"
      },
      "execution_count": null,
      "outputs": []
    },
    {
      "cell_type": "code",
      "source": [
        "df_new_train.shape"
      ],
      "metadata": {
        "colab": {
          "base_uri": "https://localhost:8080/"
        },
        "id": "53ecew4C-X3y",
        "outputId": "c12b4820-efc7-4485-d7dc-9a541a3d0409"
      },
      "execution_count": null,
      "outputs": [
        {
          "output_type": "execute_result",
          "data": {
            "text/plain": [
              "(39011, 14)"
            ]
          },
          "metadata": {},
          "execution_count": 87
        }
      ]
    },
    {
      "cell_type": "code",
      "source": [
        "cols = ['cap-diameter', 'stem-height','stem-width'] # one or more\n",
        "\n",
        "Q1 = df_raw_test[cols].quantile(0.25)\n",
        "Q3 = df_raw_test[cols].quantile(0.75)\n",
        "IQR = Q3 - Q1\n",
        "\n",
        "df_new_test = df_raw_test[~((df_raw_test[cols] < (Q1 - 1.5 * IQR)) |(df_raw_test[cols] > (Q3 + 1.5 * IQR))).any(axis=1)]"
      ],
      "metadata": {
        "id": "INOmLAGr4DT6"
      },
      "execution_count": null,
      "outputs": []
    },
    {
      "cell_type": "code",
      "source": [
        "df_new_test.shape"
      ],
      "metadata": {
        "colab": {
          "base_uri": "https://localhost:8080/"
        },
        "id": "bsrWjeln-rmw",
        "outputId": "1c3083b8-c5bf-4582-cca8-d94ebe43689b"
      },
      "execution_count": null,
      "outputs": [
        {
          "output_type": "execute_result",
          "data": {
            "text/plain": [
              "(16731, 14)"
            ]
          },
          "metadata": {},
          "execution_count": 89
        }
      ]
    },
    {
      "cell_type": "code",
      "source": [
        "  plot_boxplot(df_new_train, 'cap-diameter')"
      ],
      "metadata": {
        "colab": {
          "base_uri": "https://localhost:8080/",
          "height": 265
        },
        "id": "SdZNaRMVIYTY",
        "outputId": "036f7f4b-8708-4976-b75e-de7c4aa850f5"
      },
      "execution_count": null,
      "outputs": [
        {
          "output_type": "display_data",
          "data": {
            "image/png": "[encoded data removed]",
            "text/plain": [
              "<Figure size 432x288 with 1 Axes>"
            ]
          },
          "metadata": {
            "needs_background": "light"
          }
        }
      ]
    },
    {
      "cell_type": "code",
      "source": [
        "  plot_boxplot(df_new_test, 'cap-diameter')"
      ],
      "metadata": {
        "colab": {
          "base_uri": "https://localhost:8080/",
          "height": 265
        },
        "id": "dKov49Gm38Nv",
        "outputId": "5bcb767b-454b-4823-a54f-becaba35135f"
      },
      "execution_count": null,
      "outputs": [
        {
          "output_type": "display_data",
          "data": {
            "image/png": "[encoded data removed]",
            "text/plain": [
              "<Figure size 432x288 with 1 Axes>"
            ]
          },
          "metadata": {
            "needs_background": "light"
          }
        }
      ]
    },
    {
      "cell_type": "code",
      "source": [
        "  plot_boxplot(df_new_train, 'stem-height')"
      ],
      "metadata": {
        "colab": {
          "base_uri": "https://localhost:8080/",
          "height": 265
        },
        "id": "k6O_OBvvIYPr",
        "outputId": "1362f06a-cc25-4b7d-d748-34af04447dae"
      },
      "execution_count": null,
      "outputs": [
        {
          "output_type": "display_data",
          "data": {
            "image/png": "[encoded data removed]",
            "text/plain": [
              "<Figure size 432x288 with 1 Axes>"
            ]
          },
          "metadata": {
            "needs_background": "light"
          }
        }
      ]
    },
    {
      "cell_type": "code",
      "source": [
        "  plot_boxplot(df_new_test, 'stem-height')"
      ],
      "metadata": {
        "colab": {
          "base_uri": "https://localhost:8080/",
          "height": 265
        },
        "id": "-LjlFdIR4lWo",
        "outputId": "9d778dd8-0fc7-4e5f-faa7-b5e23723b847"
      },
      "execution_count": null,
      "outputs": [
        {
          "output_type": "display_data",
          "data": {
            "image/png": "[encoded data removed]",
            "text/plain": [
              "<Figure size 432x288 with 1 Axes>"
            ]
          },
          "metadata": {
            "needs_background": "light"
          }
        }
      ]
    },
    {
      "cell_type": "code",
      "source": [
        "  plot_boxplot(df_new_train, 'stem-width')"
      ],
      "metadata": {
        "colab": {
          "base_uri": "https://localhost:8080/",
          "height": 268
        },
        "id": "UgSwvK4FIjEH",
        "outputId": "c0ed31b0-8162-4b20-f179-2938c129e41a"
      },
      "execution_count": null,
      "outputs": [
        {
          "output_type": "display_data",
          "data": {
            "image/png": "[encoded data removed]",
            "text/plain": [
              "<Figure size 432x288 with 1 Axes>"
            ]
          },
          "metadata": {
            "needs_background": "light"
          }
        }
      ]
    },
    {
      "cell_type": "code",
      "source": [
        "  plot_boxplot(df_new_test, 'stem-width')"
      ],
      "metadata": {
        "colab": {
          "base_uri": "https://localhost:8080/",
          "height": 267
        },
        "id": "WiQqlwb24sap",
        "outputId": "42be4f7f-ec84-465e-cfa4-5dd18b8cef56"
      },
      "execution_count": null,
      "outputs": [
        {
          "output_type": "display_data",
          "data": {
            "image/png": "[encoded data removed]",
            "text/plain": [
              "<Figure size 432x288 with 1 Axes>"
            ]
          },
          "metadata": {
            "needs_background": "light"
          }
        }
      ]
    },
    {
      "cell_type": "code",
      "source": [
        "df_new_test.head()"
      ],
      "metadata": {
        "colab": {
          "base_uri": "https://localhost:8080/",
          "height": 322
        },
        "id": "RszSCbRZANU0",
        "outputId": "1622d47f-0563-4bc2-e025-0cc1344c1d7f"
      },
      "execution_count": null,
      "outputs": [
        {
          "output_type": "execute_result",
          "data": {
            "text/html": [
              "\n",
              "  <div id=\"df-c8ea88a5-28ad-4576-9ae7-c3159290bd6e\">\n",
              "    <div class=\"colab-df-container\">\n",
              "      <div>\n",
              "<style scoped>\n",
              "    .dataframe tbody tr th:only-of-type {\n",
              "        vertical-align: middle;\n",
              "    }\n",
              "\n",
              "    .dataframe tbody tr th {\n",
              "        vertical-align: top;\n",
              "    }\n",
              "\n",
              "    .dataframe thead th {\n",
              "        text-align: right;\n",
              "    }\n",
              "</style>\n",
              "<table border=\"1\" class=\"dataframe\">\n",
              "  <thead>\n",
              "    <tr style=\"text-align: right;\">\n",
              "      <th></th>\n",
              "      <th>edible-poisonous</th>\n",
              "      <th>cap-diameter</th>\n",
              "      <th>cap-shape</th>\n",
              "      <th>cap-color</th>\n",
              "      <th>does-bruise-or-bleed</th>\n",
              "      <th>gill-attachment</th>\n",
              "      <th>gill-color</th>\n",
              "      <th>stem-height</th>\n",
              "      <th>stem-width</th>\n",
              "      <th>stem-color</th>\n",
              "      <th>has-ring</th>\n",
              "      <th>ring-type</th>\n",
              "      <th>habitat</th>\n",
              "      <th>season</th>\n",
              "    </tr>\n",
              "  </thead>\n",
              "  <tbody>\n",
              "    <tr>\n",
              "      <th>0</th>\n",
              "      <td>e</td>\n",
              "      <td>4.68</td>\n",
              "      <td>x</td>\n",
              "      <td>w</td>\n",
              "      <td>f</td>\n",
              "      <td>x</td>\n",
              "      <td>w</td>\n",
              "      <td>8.22</td>\n",
              "      <td>9.58</td>\n",
              "      <td>n</td>\n",
              "      <td>t</td>\n",
              "      <td>f</td>\n",
              "      <td>g</td>\n",
              "      <td>NaN</td>\n",
              "    </tr>\n",
              "    <tr>\n",
              "      <th>1</th>\n",
              "      <td>p</td>\n",
              "      <td>10.33</td>\n",
              "      <td>x</td>\n",
              "      <td>y</td>\n",
              "      <td>f</td>\n",
              "      <td>a</td>\n",
              "      <td>y</td>\n",
              "      <td>11.98</td>\n",
              "      <td>13.29</td>\n",
              "      <td>y</td>\n",
              "      <td>t</td>\n",
              "      <td>f</td>\n",
              "      <td>d</td>\n",
              "      <td>NaN</td>\n",
              "    </tr>\n",
              "    <tr>\n",
              "      <th>2</th>\n",
              "      <td>p</td>\n",
              "      <td>9.26</td>\n",
              "      <td>x</td>\n",
              "      <td>w</td>\n",
              "      <td>t</td>\n",
              "      <td>a</td>\n",
              "      <td>w</td>\n",
              "      <td>7.41</td>\n",
              "      <td>12.68</td>\n",
              "      <td>w</td>\n",
              "      <td>t</td>\n",
              "      <td>l</td>\n",
              "      <td>g</td>\n",
              "      <td>NaN</td>\n",
              "    </tr>\n",
              "    <tr>\n",
              "      <th>3</th>\n",
              "      <td>p</td>\n",
              "      <td>14.90</td>\n",
              "      <td>s</td>\n",
              "      <td>w</td>\n",
              "      <td>t</td>\n",
              "      <td>d</td>\n",
              "      <td>w</td>\n",
              "      <td>5.33</td>\n",
              "      <td>23.03</td>\n",
              "      <td>w</td>\n",
              "      <td>f</td>\n",
              "      <td>f</td>\n",
              "      <td>d</td>\n",
              "      <td>NaN</td>\n",
              "    </tr>\n",
              "    <tr>\n",
              "      <th>4</th>\n",
              "      <td>p</td>\n",
              "      <td>1.01</td>\n",
              "      <td>x</td>\n",
              "      <td>w</td>\n",
              "      <td>f</td>\n",
              "      <td>a</td>\n",
              "      <td>w</td>\n",
              "      <td>3.17</td>\n",
              "      <td>1.64</td>\n",
              "      <td>e</td>\n",
              "      <td>f</td>\n",
              "      <td>f</td>\n",
              "      <td>l</td>\n",
              "      <td>NaN</td>\n",
              "    </tr>\n",
              "  </tbody>\n",
              "</table>\n",
              "</div>\n",
              "      <button class=\"colab-df-convert\" onclick=\"convertToInteractive('df-c8ea88a5-28ad-4576-9ae7-c3159290bd6e')\"\n",
              "              title=\"Convert this dataframe to an interactive table.\"\n",
              "              style=\"display:none;\">\n",
              "        \n",
              "  <svg xmlns=\"http://www.w3.org/2000/svg\" height=\"24px\"viewBox=\"0 0 24 24\"\n",
              "       width=\"24px\">\n",
              "    <path d=\"M0 0h24v24H0V0z\" fill=\"none\"/>\n",
              "    <path d=\"M18.56 5.44l.94 2.06.94-2.06 2.06-.94-2.06-.94-.94-2.06-.94 2.06-2.06.94zm-11 1L8.5 8.5l.94-2.06 2.06-.94-2.06-.94L8.5 2.5l-.94 2.06-2.06.94zm10 10l.94 2.06.94-2.06 2.06-.94-2.06-.94-.94-2.06-.94 2.06-2.06.94z\"/><path d=\"M17.41 7.96l-1.37-1.37c-.4-.4-.92-.59-1.43-.59-.52 0-1.04.2-1.43.59L10.3 9.45l-7.72 7.72c-.78.78-.78 2.05 0 2.83L4 21.41c.39.39.9.59 1.41.59.51 0 1.02-.2 1.41-.59l7.78-7.78 2.81-2.81c.8-.78.8-2.07 0-2.86zM5.41 20L4 18.59l7.72-7.72 1.47 1.35L5.41 20z\"/>\n",
              "  </svg>\n",
              "      </button>\n",
              "      \n",
              "  <style>\n",
              "    .colab-df-container {\n",
              "      display:flex;\n",
              "      flex-wrap:wrap;\n",
              "      gap: 12px;\n",
              "    }\n",
              "\n",
              "    .colab-df-convert {\n",
              "      background-color: #E8F0FE;\n",
              "      border: none;\n",
              "      border-radius: 50%;\n",
              "      cursor: pointer;\n",
              "      display: none;\n",
              "      fill: #1967D2;\n",
              "      height: 32px;\n",
              "      padding: 0 0 0 0;\n",
              "      width: 32px;\n",
              "    }\n",
              "\n",
              "    .colab-df-convert:hover {\n",
              "      background-color: #E2EBFA;\n",
              "      box-shadow: 0px 1px 2px rgba(60, 64, 67, 0.3), 0px 1px 3px 1px rgba(60, 64, 67, 0.15);\n",
              "      fill: #174EA6;\n",
              "    }\n",
              "\n",
              "    [theme=dark] .colab-df-convert {\n",
              "      background-color: #3B4455;\n",
              "      fill: #D2E3FC;\n",
              "    }\n",
              "\n",
              "    [theme=dark] .colab-df-convert:hover {\n",
              "      background-color: #434B5C;\n",
              "      box-shadow: 0px 1px 3px 1px rgba(0, 0, 0, 0.15);\n",
              "      filter: drop-shadow(0px 1px 2px rgba(0, 0, 0, 0.3));\n",
              "      fill: #FFFFFF;\n",
              "    }\n",
              "  </style>\n",
              "\n",
              "      <script>\n",
              "        const buttonEl =\n",
              "          document.querySelector('#df-c8ea88a5-28ad-4576-9ae7-c3159290bd6e button.colab-df-convert');\n",
              "        buttonEl.style.display =\n",
              "          google.colab.kernel.accessAllowed ? 'block' : 'none';\n",
              "\n",
              "        async function convertToInteractive(key) {\n",
              "          const element = document.querySelector('#df-c8ea88a5-28ad-4576-9ae7-c3159290bd6e');\n",
              "          const dataTable =\n",
              "            await google.colab.kernel.invokeFunction('convertToInteractive',\n",
              "                                                     [key], {});\n",
              "          if (!dataTable) return;\n",
              "\n",
              "          const docLinkHtml = 'Like what you see? Visit the ' +\n",
              "            '<a target=\"_blank\" href=https://colab.research.google.com/notebooks/data_table.ipynb>data table notebook</a>'\n",
              "            + ' to learn more about interactive tables.';\n",
              "          element.innerHTML = '';\n",
              "          dataTable['output_type'] = 'display_data';\n",
              "          await google.colab.output.renderOutput(dataTable, element);\n",
              "          const docLink = document.createElement('div');\n",
              "          docLink.innerHTML = docLinkHtml;\n",
              "          element.appendChild(docLink);\n",
              "        }\n",
              "      </script>\n",
              "    </div>\n",
              "  </div>\n",
              "  "
            ],
            "text/plain": [
              "  edible-poisonous  cap-diameter cap-shape  ... ring-type habitat season\n",
              "0                e          4.68         x  ...         f       g    NaN\n",
              "1                p         10.33         x  ...         f       d    NaN\n",
              "2                p          9.26         x  ...         l       g    NaN\n",
              "3                p         14.90         s  ...         f       d    NaN\n",
              "4                p          1.01         x  ...         f       l    NaN\n",
              "\n",
              "[5 rows x 14 columns]"
            ]
          },
          "metadata": {},
          "execution_count": 35
        }
      ]
    },
    {
      "cell_type": "code",
      "source": [
        "df_new_test.head()"
      ],
      "metadata": {
        "colab": {
          "base_uri": "https://localhost:8080/",
          "height": 322
        },
        "id": "JqPib20N5C8r",
        "outputId": "f1bdd478-2f97-453d-e822-a713f54f2f8e"
      },
      "execution_count": null,
      "outputs": [
        {
          "output_type": "execute_result",
          "data": {
            "text/html": [
              "\n",
              "  <div id=\"df-091ae49e-5b8b-486f-8a28-7e5aaa443df8\">\n",
              "    <div class=\"colab-df-container\">\n",
              "      <div>\n",
              "<style scoped>\n",
              "    .dataframe tbody tr th:only-of-type {\n",
              "        vertical-align: middle;\n",
              "    }\n",
              "\n",
              "    .dataframe tbody tr th {\n",
              "        vertical-align: top;\n",
              "    }\n",
              "\n",
              "    .dataframe thead th {\n",
              "        text-align: right;\n",
              "    }\n",
              "</style>\n",
              "<table border=\"1\" class=\"dataframe\">\n",
              "  <thead>\n",
              "    <tr style=\"text-align: right;\">\n",
              "      <th></th>\n",
              "      <th>edible-poisonous</th>\n",
              "      <th>cap-diameter</th>\n",
              "      <th>cap-shape</th>\n",
              "      <th>cap-color</th>\n",
              "      <th>does-bruise-or-bleed</th>\n",
              "      <th>gill-attachment</th>\n",
              "      <th>gill-color</th>\n",
              "      <th>stem-height</th>\n",
              "      <th>stem-width</th>\n",
              "      <th>stem-color</th>\n",
              "      <th>has-ring</th>\n",
              "      <th>ring-type</th>\n",
              "      <th>habitat</th>\n",
              "      <th>season</th>\n",
              "    </tr>\n",
              "  </thead>\n",
              "  <tbody>\n",
              "    <tr>\n",
              "      <th>0</th>\n",
              "      <td>e</td>\n",
              "      <td>4.68</td>\n",
              "      <td>x</td>\n",
              "      <td>w</td>\n",
              "      <td>f</td>\n",
              "      <td>x</td>\n",
              "      <td>w</td>\n",
              "      <td>8.22</td>\n",
              "      <td>9.58</td>\n",
              "      <td>n</td>\n",
              "      <td>t</td>\n",
              "      <td>f</td>\n",
              "      <td>g</td>\n",
              "      <td>NaN</td>\n",
              "    </tr>\n",
              "    <tr>\n",
              "      <th>1</th>\n",
              "      <td>p</td>\n",
              "      <td>10.33</td>\n",
              "      <td>x</td>\n",
              "      <td>y</td>\n",
              "      <td>f</td>\n",
              "      <td>a</td>\n",
              "      <td>y</td>\n",
              "      <td>11.98</td>\n",
              "      <td>13.29</td>\n",
              "      <td>y</td>\n",
              "      <td>t</td>\n",
              "      <td>f</td>\n",
              "      <td>d</td>\n",
              "      <td>NaN</td>\n",
              "    </tr>\n",
              "    <tr>\n",
              "      <th>2</th>\n",
              "      <td>p</td>\n",
              "      <td>9.26</td>\n",
              "      <td>x</td>\n",
              "      <td>w</td>\n",
              "      <td>t</td>\n",
              "      <td>a</td>\n",
              "      <td>w</td>\n",
              "      <td>7.41</td>\n",
              "      <td>12.68</td>\n",
              "      <td>w</td>\n",
              "      <td>t</td>\n",
              "      <td>l</td>\n",
              "      <td>g</td>\n",
              "      <td>NaN</td>\n",
              "    </tr>\n",
              "    <tr>\n",
              "      <th>3</th>\n",
              "      <td>p</td>\n",
              "      <td>14.90</td>\n",
              "      <td>s</td>\n",
              "      <td>w</td>\n",
              "      <td>t</td>\n",
              "      <td>d</td>\n",
              "      <td>w</td>\n",
              "      <td>5.33</td>\n",
              "      <td>23.03</td>\n",
              "      <td>w</td>\n",
              "      <td>f</td>\n",
              "      <td>f</td>\n",
              "      <td>d</td>\n",
              "      <td>NaN</td>\n",
              "    </tr>\n",
              "    <tr>\n",
              "      <th>4</th>\n",
              "      <td>p</td>\n",
              "      <td>1.01</td>\n",
              "      <td>x</td>\n",
              "      <td>w</td>\n",
              "      <td>f</td>\n",
              "      <td>a</td>\n",
              "      <td>w</td>\n",
              "      <td>3.17</td>\n",
              "      <td>1.64</td>\n",
              "      <td>e</td>\n",
              "      <td>f</td>\n",
              "      <td>f</td>\n",
              "      <td>l</td>\n",
              "      <td>NaN</td>\n",
              "    </tr>\n",
              "  </tbody>\n",
              "</table>\n",
              "</div>\n",
              "      <button class=\"colab-df-convert\" onclick=\"convertToInteractive('df-091ae49e-5b8b-486f-8a28-7e5aaa443df8')\"\n",
              "              title=\"Convert this dataframe to an interactive table.\"\n",
              "              style=\"display:none;\">\n",
              "        \n",
              "  <svg xmlns=\"http://www.w3.org/2000/svg\" height=\"24px\"viewBox=\"0 0 24 24\"\n",
              "       width=\"24px\">\n",
              "    <path d=\"M0 0h24v24H0V0z\" fill=\"none\"/>\n",
              "    <path d=\"M18.56 5.44l.94 2.06.94-2.06 2.06-.94-2.06-.94-.94-2.06-.94 2.06-2.06.94zm-11 1L8.5 8.5l.94-2.06 2.06-.94-2.06-.94L8.5 2.5l-.94 2.06-2.06.94zm10 10l.94 2.06.94-2.06 2.06-.94-2.06-.94-.94-2.06-.94 2.06-2.06.94z\"/><path d=\"M17.41 7.96l-1.37-1.37c-.4-.4-.92-.59-1.43-.59-.52 0-1.04.2-1.43.59L10.3 9.45l-7.72 7.72c-.78.78-.78 2.05 0 2.83L4 21.41c.39.39.9.59 1.41.59.51 0 1.02-.2 1.41-.59l7.78-7.78 2.81-2.81c.8-.78.8-2.07 0-2.86zM5.41 20L4 18.59l7.72-7.72 1.47 1.35L5.41 20z\"/>\n",
              "  </svg>\n",
              "      </button>\n",
              "      \n",
              "  <style>\n",
              "    .colab-df-container {\n",
              "      display:flex;\n",
              "      flex-wrap:wrap;\n",
              "      gap: 12px;\n",
              "    }\n",
              "\n",
              "    .colab-df-convert {\n",
              "      background-color: #E8F0FE;\n",
              "      border: none;\n",
              "      border-radius: 50%;\n",
              "      cursor: pointer;\n",
              "      display: none;\n",
              "      fill: #1967D2;\n",
              "      height: 32px;\n",
              "      padding: 0 0 0 0;\n",
              "      width: 32px;\n",
              "    }\n",
              "\n",
              "    .colab-df-convert:hover {\n",
              "      background-color: #E2EBFA;\n",
              "      box-shadow: 0px 1px 2px rgba(60, 64, 67, 0.3), 0px 1px 3px 1px rgba(60, 64, 67, 0.15);\n",
              "      fill: #174EA6;\n",
              "    }\n",
              "\n",
              "    [theme=dark] .colab-df-convert {\n",
              "      background-color: #3B4455;\n",
              "      fill: #D2E3FC;\n",
              "    }\n",
              "\n",
              "    [theme=dark] .colab-df-convert:hover {\n",
              "      background-color: #434B5C;\n",
              "      box-shadow: 0px 1px 3px 1px rgba(0, 0, 0, 0.15);\n",
              "      filter: drop-shadow(0px 1px 2px rgba(0, 0, 0, 0.3));\n",
              "      fill: #FFFFFF;\n",
              "    }\n",
              "  </style>\n",
              "\n",
              "      <script>\n",
              "        const buttonEl =\n",
              "          document.querySelector('#df-091ae49e-5b8b-486f-8a28-7e5aaa443df8 button.colab-df-convert');\n",
              "        buttonEl.style.display =\n",
              "          google.colab.kernel.accessAllowed ? 'block' : 'none';\n",
              "\n",
              "        async function convertToInteractive(key) {\n",
              "          const element = document.querySelector('#df-091ae49e-5b8b-486f-8a28-7e5aaa443df8');\n",
              "          const dataTable =\n",
              "            await google.colab.kernel.invokeFunction('convertToInteractive',\n",
              "                                                     [key], {});\n",
              "          if (!dataTable) return;\n",
              "\n",
              "          const docLinkHtml = 'Like what you see? Visit the ' +\n",
              "            '<a target=\"_blank\" href=https://colab.research.google.com/notebooks/data_table.ipynb>data table notebook</a>'\n",
              "            + ' to learn more about interactive tables.';\n",
              "          element.innerHTML = '';\n",
              "          dataTable['output_type'] = 'display_data';\n",
              "          await google.colab.output.renderOutput(dataTable, element);\n",
              "          const docLink = document.createElement('div');\n",
              "          docLink.innerHTML = docLinkHtml;\n",
              "          element.appendChild(docLink);\n",
              "        }\n",
              "      </script>\n",
              "    </div>\n",
              "  </div>\n",
              "  "
            ],
            "text/plain": [
              "  edible-poisonous  cap-diameter cap-shape  ... ring-type habitat season\n",
              "0                e          4.68         x  ...         f       g    NaN\n",
              "1                p         10.33         x  ...         f       d    NaN\n",
              "2                p          9.26         x  ...         l       g    NaN\n",
              "3                p         14.90         s  ...         f       d    NaN\n",
              "4                p          1.01         x  ...         f       l    NaN\n",
              "\n",
              "[5 rows x 14 columns]"
            ]
          },
          "metadata": {},
          "execution_count": 36
        }
      ]
    },
    {
      "cell_type": "code",
      "source": [
        "from sklearn.preprocessing import LabelEncoder"
      ],
      "metadata": {
        "id": "YuiA813G-mAx"
      },
      "execution_count": null,
      "outputs": []
    },
    {
      "cell_type": "code",
      "source": [
        "LE = LabelEncoder()"
      ],
      "metadata": {
        "id": "tsekXna7_I-w"
      },
      "execution_count": null,
      "outputs": []
    },
    {
      "cell_type": "code",
      "source": [
        "df_new_train['edible-poisonous'] = LE.fit_transform(df_new_train['edible-poisonous'])\n",
        "df_new_train['cap-shape'] = LE.fit_transform(df_new_train['cap-shape'])\n",
        "df_new_train['cap-color'] = LE.fit_transform(df_new_train['cap-color'])\n",
        "df_new_train['does-bruise-or-bleed'] = LE.fit_transform(df_new_train['does-bruise-or-bleed'])\n",
        "df_new_train['gill-attachment'] = LE.fit_transform(df_new_train['gill-attachment'])\n",
        "df_new_train['gill-color'] = LE.fit_transform(df_new_train['gill-color'])\n",
        "df_new_train['stem-color'] = LE.fit_transform(df_new_train['stem-color'])\n",
        "df_new_train['has-ring'] = LE.fit_transform(df_new_train['has-ring'])\n",
        "df_new_train['ring-type'] = LE.fit_transform(df_new_train['ring-type'])\n",
        "df_new_train['habitat'] = LE.fit_transform(df_new_train['habitat'])"
      ],
      "metadata": {
        "id": "SeYmS4Xb_O4-",
        "colab": {
          "base_uri": "https://localhost:8080/"
        },
        "outputId": "ba984b0c-ea24-4158-85e8-9e57e5277a7e"
      },
      "execution_count": null,
      "outputs": [
        {
          "output_type": "stream",
          "name": "stderr",
          "text": [
            "/usr/local/lib/python3.7/dist-packages/ipykernel_launcher.py:1: SettingWithCopyWarning: \n",
            "A value is trying to be set on a copy of a slice from a DataFrame.\n",
            "Try using .loc[row_indexer,col_indexer] = value instead\n",
            "\n",
            "See the caveats in the documentation: https://pandas.pydata.org/pandas-docs/stable/user_guide/indexing.html#returning-a-view-versus-a-copy\n",
            "  \"\"\"Entry point for launching an IPython kernel.\n",
            "/usr/local/lib/python3.7/dist-packages/ipykernel_launcher.py:2: SettingWithCopyWarning: \n",
            "A value is trying to be set on a copy of a slice from a DataFrame.\n",
            "Try using .loc[row_indexer,col_indexer] = value instead\n",
            "\n",
            "See the caveats in the documentation: https://pandas.pydata.org/pandas-docs/stable/user_guide/indexing.html#returning-a-view-versus-a-copy\n",
            "  \n",
            "/usr/local/lib/python3.7/dist-packages/ipykernel_launcher.py:3: SettingWithCopyWarning: \n",
            "A value is trying to be set on a copy of a slice from a DataFrame.\n",
            "Try using .loc[row_indexer,col_indexer] = value instead\n",
            "\n",
            "See the caveats in the documentation: https://pandas.pydata.org/pandas-docs/stable/user_guide/indexing.html#returning-a-view-versus-a-copy\n",
            "  This is separate from the ipykernel package so we can avoid doing imports until\n",
            "/usr/local/lib/python3.7/dist-packages/ipykernel_launcher.py:4: SettingWithCopyWarning: \n",
            "A value is trying to be set on a copy of a slice from a DataFrame.\n",
            "Try using .loc[row_indexer,col_indexer] = value instead\n",
            "\n",
            "See the caveats in the documentation: https://pandas.pydata.org/pandas-docs/stable/user_guide/indexing.html#returning-a-view-versus-a-copy\n",
            "  after removing the cwd from sys.path.\n",
            "/usr/local/lib/python3.7/dist-packages/ipykernel_launcher.py:5: SettingWithCopyWarning: \n",
            "A value is trying to be set on a copy of a slice from a DataFrame.\n",
            "Try using .loc[row_indexer,col_indexer] = value instead\n",
            "\n",
            "See the caveats in the documentation: https://pandas.pydata.org/pandas-docs/stable/user_guide/indexing.html#returning-a-view-versus-a-copy\n",
            "  \"\"\"\n",
            "/usr/local/lib/python3.7/dist-packages/ipykernel_launcher.py:6: SettingWithCopyWarning: \n",
            "A value is trying to be set on a copy of a slice from a DataFrame.\n",
            "Try using .loc[row_indexer,col_indexer] = value instead\n",
            "\n",
            "See the caveats in the documentation: https://pandas.pydata.org/pandas-docs/stable/user_guide/indexing.html#returning-a-view-versus-a-copy\n",
            "  \n",
            "/usr/local/lib/python3.7/dist-packages/ipykernel_launcher.py:7: SettingWithCopyWarning: \n",
            "A value is trying to be set on a copy of a slice from a DataFrame.\n",
            "Try using .loc[row_indexer,col_indexer] = value instead\n",
            "\n",
            "See the caveats in the documentation: https://pandas.pydata.org/pandas-docs/stable/user_guide/indexing.html#returning-a-view-versus-a-copy\n",
            "  import sys\n",
            "/usr/local/lib/python3.7/dist-packages/ipykernel_launcher.py:8: SettingWithCopyWarning: \n",
            "A value is trying to be set on a copy of a slice from a DataFrame.\n",
            "Try using .loc[row_indexer,col_indexer] = value instead\n",
            "\n",
            "See the caveats in the documentation: https://pandas.pydata.org/pandas-docs/stable/user_guide/indexing.html#returning-a-view-versus-a-copy\n",
            "  \n",
            "/usr/local/lib/python3.7/dist-packages/ipykernel_launcher.py:9: SettingWithCopyWarning: \n",
            "A value is trying to be set on a copy of a slice from a DataFrame.\n",
            "Try using .loc[row_indexer,col_indexer] = value instead\n",
            "\n",
            "See the caveats in the documentation: https://pandas.pydata.org/pandas-docs/stable/user_guide/indexing.html#returning-a-view-versus-a-copy\n",
            "  if __name__ == '__main__':\n",
            "/usr/local/lib/python3.7/dist-packages/ipykernel_launcher.py:10: SettingWithCopyWarning: \n",
            "A value is trying to be set on a copy of a slice from a DataFrame.\n",
            "Try using .loc[row_indexer,col_indexer] = value instead\n",
            "\n",
            "See the caveats in the documentation: https://pandas.pydata.org/pandas-docs/stable/user_guide/indexing.html#returning-a-view-versus-a-copy\n",
            "  # Remove the CWD from sys.path while we load stuff.\n"
          ]
        }
      ]
    },
    {
      "cell_type": "code",
      "source": [
        "df_new_test['edible-poisonous'] = LE.fit_transform(df_new_test['edible-poisonous'])\n",
        "df_new_test['cap-shape'] = LE.fit_transform(df_new_test['cap-shape'])\n",
        "df_new_test['cap-color'] = LE.fit_transform(df_new_test['cap-color'])\n",
        "df_new_test['does-bruise-or-bleed'] = LE.fit_transform(df_new_test['does-bruise-or-bleed'])\n",
        "df_new_test['gill-attachment'] = LE.fit_transform(df_new_test['gill-attachment'])\n",
        "df_new_test['gill-color'] = LE.fit_transform(df_new_test['gill-color'])\n",
        "df_new_test['stem-color'] = LE.fit_transform(df_new_test['stem-color'])\n",
        "df_new_test['has-ring'] = LE.fit_transform(df_new_test['has-ring'])\n",
        "df_new_test['ring-type'] = LE.fit_transform(df_new_test['ring-type'])\n",
        "df_new_test['habitat'] = LE.fit_transform(df_new_test['habitat'])"
      ],
      "metadata": {
        "colab": {
          "base_uri": "https://localhost:8080/"
        },
        "id": "EgfoU0075sdd",
        "outputId": "5cfac269-7922-4dd2-9569-f75330350cfe"
      },
      "execution_count": null,
      "outputs": [
        {
          "output_type": "stream",
          "name": "stderr",
          "text": [
            "/usr/local/lib/python3.7/dist-packages/ipykernel_launcher.py:1: SettingWithCopyWarning: \n",
            "A value is trying to be set on a copy of a slice from a DataFrame.\n",
            "Try using .loc[row_indexer,col_indexer] = value instead\n",
            "\n",
            "See the caveats in the documentation: https://pandas.pydata.org/pandas-docs/stable/user_guide/indexing.html#returning-a-view-versus-a-copy\n",
            "  \"\"\"Entry point for launching an IPython kernel.\n",
            "/usr/local/lib/python3.7/dist-packages/ipykernel_launcher.py:2: SettingWithCopyWarning: \n",
            "A value is trying to be set on a copy of a slice from a DataFrame.\n",
            "Try using .loc[row_indexer,col_indexer] = value instead\n",
            "\n",
            "See the caveats in the documentation: https://pandas.pydata.org/pandas-docs/stable/user_guide/indexing.html#returning-a-view-versus-a-copy\n",
            "  \n",
            "/usr/local/lib/python3.7/dist-packages/ipykernel_launcher.py:3: SettingWithCopyWarning: \n",
            "A value is trying to be set on a copy of a slice from a DataFrame.\n",
            "Try using .loc[row_indexer,col_indexer] = value instead\n",
            "\n",
            "See the caveats in the documentation: https://pandas.pydata.org/pandas-docs/stable/user_guide/indexing.html#returning-a-view-versus-a-copy\n",
            "  This is separate from the ipykernel package so we can avoid doing imports until\n",
            "/usr/local/lib/python3.7/dist-packages/ipykernel_launcher.py:4: SettingWithCopyWarning: \n",
            "A value is trying to be set on a copy of a slice from a DataFrame.\n",
            "Try using .loc[row_indexer,col_indexer] = value instead\n",
            "\n",
            "See the caveats in the documentation: https://pandas.pydata.org/pandas-docs/stable/user_guide/indexing.html#returning-a-view-versus-a-copy\n",
            "  after removing the cwd from sys.path.\n",
            "/usr/local/lib/python3.7/dist-packages/ipykernel_launcher.py:5: SettingWithCopyWarning: \n",
            "A value is trying to be set on a copy of a slice from a DataFrame.\n",
            "Try using .loc[row_indexer,col_indexer] = value instead\n",
            "\n",
            "See the caveats in the documentation: https://pandas.pydata.org/pandas-docs/stable/user_guide/indexing.html#returning-a-view-versus-a-copy\n",
            "  \"\"\"\n",
            "/usr/local/lib/python3.7/dist-packages/ipykernel_launcher.py:6: SettingWithCopyWarning: \n",
            "A value is trying to be set on a copy of a slice from a DataFrame.\n",
            "Try using .loc[row_indexer,col_indexer] = value instead\n",
            "\n",
            "See the caveats in the documentation: https://pandas.pydata.org/pandas-docs/stable/user_guide/indexing.html#returning-a-view-versus-a-copy\n",
            "  \n",
            "/usr/local/lib/python3.7/dist-packages/ipykernel_launcher.py:7: SettingWithCopyWarning: \n",
            "A value is trying to be set on a copy of a slice from a DataFrame.\n",
            "Try using .loc[row_indexer,col_indexer] = value instead\n",
            "\n",
            "See the caveats in the documentation: https://pandas.pydata.org/pandas-docs/stable/user_guide/indexing.html#returning-a-view-versus-a-copy\n",
            "  import sys\n",
            "/usr/local/lib/python3.7/dist-packages/ipykernel_launcher.py:8: SettingWithCopyWarning: \n",
            "A value is trying to be set on a copy of a slice from a DataFrame.\n",
            "Try using .loc[row_indexer,col_indexer] = value instead\n",
            "\n",
            "See the caveats in the documentation: https://pandas.pydata.org/pandas-docs/stable/user_guide/indexing.html#returning-a-view-versus-a-copy\n",
            "  \n",
            "/usr/local/lib/python3.7/dist-packages/ipykernel_launcher.py:9: SettingWithCopyWarning: \n",
            "A value is trying to be set on a copy of a slice from a DataFrame.\n",
            "Try using .loc[row_indexer,col_indexer] = value instead\n",
            "\n",
            "See the caveats in the documentation: https://pandas.pydata.org/pandas-docs/stable/user_guide/indexing.html#returning-a-view-versus-a-copy\n",
            "  if __name__ == '__main__':\n",
            "/usr/local/lib/python3.7/dist-packages/ipykernel_launcher.py:10: SettingWithCopyWarning: \n",
            "A value is trying to be set on a copy of a slice from a DataFrame.\n",
            "Try using .loc[row_indexer,col_indexer] = value instead\n",
            "\n",
            "See the caveats in the documentation: https://pandas.pydata.org/pandas-docs/stable/user_guide/indexing.html#returning-a-view-versus-a-copy\n",
            "  # Remove the CWD from sys.path while we load stuff.\n"
          ]
        }
      ]
    },
    {
      "cell_type": "code",
      "source": [
        "df_new_train.head()"
      ],
      "metadata": {
        "colab": {
          "base_uri": "https://localhost:8080/",
          "height": 322
        },
        "id": "tkq-6hmFHUHH",
        "outputId": "d17edc51-9e3d-4363-fb76-8da48e9611af"
      },
      "execution_count": null,
      "outputs": [
        {
          "output_type": "execute_result",
          "data": {
            "text/html": [
              "\n",
              "  <div id=\"df-43c27e72-3ae2-4ba6-90c6-1078cc2f59b5\">\n",
              "    <div class=\"colab-df-container\">\n",
              "      <div>\n",
              "<style scoped>\n",
              "    .dataframe tbody tr th:only-of-type {\n",
              "        vertical-align: middle;\n",
              "    }\n",
              "\n",
              "    .dataframe tbody tr th {\n",
              "        vertical-align: top;\n",
              "    }\n",
              "\n",
              "    .dataframe thead th {\n",
              "        text-align: right;\n",
              "    }\n",
              "</style>\n",
              "<table border=\"1\" class=\"dataframe\">\n",
              "  <thead>\n",
              "    <tr style=\"text-align: right;\">\n",
              "      <th></th>\n",
              "      <th>edible-poisonous</th>\n",
              "      <th>cap-diameter</th>\n",
              "      <th>cap-shape</th>\n",
              "      <th>cap-color</th>\n",
              "      <th>does-bruise-or-bleed</th>\n",
              "      <th>gill-attachment</th>\n",
              "      <th>gill-color</th>\n",
              "      <th>stem-height</th>\n",
              "      <th>stem-width</th>\n",
              "      <th>stem-color</th>\n",
              "      <th>has-ring</th>\n",
              "      <th>ring-type</th>\n",
              "      <th>habitat</th>\n",
              "      <th>season</th>\n",
              "    </tr>\n",
              "  </thead>\n",
              "  <tbody>\n",
              "    <tr>\n",
              "      <th>0</th>\n",
              "      <td>1</td>\n",
              "      <td>5.75</td>\n",
              "      <td>6</td>\n",
              "      <td>5</td>\n",
              "      <td>1</td>\n",
              "      <td>5</td>\n",
              "      <td>10</td>\n",
              "      <td>6.13</td>\n",
              "      <td>14.93</td>\n",
              "      <td>11</td>\n",
              "      <td>0</td>\n",
              "      <td>1</td>\n",
              "      <td>0</td>\n",
              "      <td>a</td>\n",
              "    </tr>\n",
              "    <tr>\n",
              "      <th>1</th>\n",
              "      <td>1</td>\n",
              "      <td>2.27</td>\n",
              "      <td>3</td>\n",
              "      <td>2</td>\n",
              "      <td>0</td>\n",
              "      <td>3</td>\n",
              "      <td>2</td>\n",
              "      <td>0.00</td>\n",
              "      <td>0.00</td>\n",
              "      <td>2</td>\n",
              "      <td>0</td>\n",
              "      <td>1</td>\n",
              "      <td>0</td>\n",
              "      <td>s</td>\n",
              "    </tr>\n",
              "    <tr>\n",
              "      <th>2</th>\n",
              "      <td>1</td>\n",
              "      <td>5.59</td>\n",
              "      <td>1</td>\n",
              "      <td>11</td>\n",
              "      <td>1</td>\n",
              "      <td>6</td>\n",
              "      <td>7</td>\n",
              "      <td>5.47</td>\n",
              "      <td>11.27</td>\n",
              "      <td>11</td>\n",
              "      <td>0</td>\n",
              "      <td>1</td>\n",
              "      <td>0</td>\n",
              "      <td>a</td>\n",
              "    </tr>\n",
              "    <tr>\n",
              "      <th>3</th>\n",
              "      <td>1</td>\n",
              "      <td>0.74</td>\n",
              "      <td>6</td>\n",
              "      <td>7</td>\n",
              "      <td>0</td>\n",
              "      <td>0</td>\n",
              "      <td>5</td>\n",
              "      <td>4.33</td>\n",
              "      <td>0.98</td>\n",
              "      <td>4</td>\n",
              "      <td>0</td>\n",
              "      <td>1</td>\n",
              "      <td>0</td>\n",
              "      <td>a</td>\n",
              "    </tr>\n",
              "    <tr>\n",
              "      <th>4</th>\n",
              "      <td>1</td>\n",
              "      <td>9.60</td>\n",
              "      <td>6</td>\n",
              "      <td>5</td>\n",
              "      <td>0</td>\n",
              "      <td>0</td>\n",
              "      <td>10</td>\n",
              "      <td>10.84</td>\n",
              "      <td>28.52</td>\n",
              "      <td>11</td>\n",
              "      <td>0</td>\n",
              "      <td>1</td>\n",
              "      <td>0</td>\n",
              "      <td>u</td>\n",
              "    </tr>\n",
              "  </tbody>\n",
              "</table>\n",
              "</div>\n",
              "      <button class=\"colab-df-convert\" onclick=\"convertToInteractive('df-43c27e72-3ae2-4ba6-90c6-1078cc2f59b5')\"\n",
              "              title=\"Convert this dataframe to an interactive table.\"\n",
              "              style=\"display:none;\">\n",
              "        \n",
              "  <svg xmlns=\"http://www.w3.org/2000/svg\" height=\"24px\"viewBox=\"0 0 24 24\"\n",
              "       width=\"24px\">\n",
              "    <path d=\"M0 0h24v24H0V0z\" fill=\"none\"/>\n",
              "    <path d=\"M18.56 5.44l.94 2.06.94-2.06 2.06-.94-2.06-.94-.94-2.06-.94 2.06-2.06.94zm-11 1L8.5 8.5l.94-2.06 2.06-.94-2.06-.94L8.5 2.5l-.94 2.06-2.06.94zm10 10l.94 2.06.94-2.06 2.06-.94-2.06-.94-.94-2.06-.94 2.06-2.06.94z\"/><path d=\"M17.41 7.96l-1.37-1.37c-.4-.4-.92-.59-1.43-.59-.52 0-1.04.2-1.43.59L10.3 9.45l-7.72 7.72c-.78.78-.78 2.05 0 2.83L4 21.41c.39.39.9.59 1.41.59.51 0 1.02-.2 1.41-.59l7.78-7.78 2.81-2.81c.8-.78.8-2.07 0-2.86zM5.41 20L4 18.59l7.72-7.72 1.47 1.35L5.41 20z\"/>\n",
              "  </svg>\n",
              "      </button>\n",
              "      \n",
              "  <style>\n",
              "    .colab-df-container {\n",
              "      display:flex;\n",
              "      flex-wrap:wrap;\n",
              "      gap: 12px;\n",
              "    }\n",
              "\n",
              "    .colab-df-convert {\n",
              "      background-color: #E8F0FE;\n",
              "      border: none;\n",
              "      border-radius: 50%;\n",
              "      cursor: pointer;\n",
              "      display: none;\n",
              "      fill: #1967D2;\n",
              "      height: 32px;\n",
              "      padding: 0 0 0 0;\n",
              "      width: 32px;\n",
              "    }\n",
              "\n",
              "    .colab-df-convert:hover {\n",
              "      background-color: #E2EBFA;\n",
              "      box-shadow: 0px 1px 2px rgba(60, 64, 67, 0.3), 0px 1px 3px 1px rgba(60, 64, 67, 0.15);\n",
              "      fill: #174EA6;\n",
              "    }\n",
              "\n",
              "    [theme=dark] .colab-df-convert {\n",
              "      background-color: #3B4455;\n",
              "      fill: #D2E3FC;\n",
              "    }\n",
              "\n",
              "    [theme=dark] .colab-df-convert:hover {\n",
              "      background-color: #434B5C;\n",
              "      box-shadow: 0px 1px 3px 1px rgba(0, 0, 0, 0.15);\n",
              "      filter: drop-shadow(0px 1px 2px rgba(0, 0, 0, 0.3));\n",
              "      fill: #FFFFFF;\n",
              "    }\n",
              "  </style>\n",
              "\n",
              "      <script>\n",
              "        const buttonEl =\n",
              "          document.querySelector('#df-43c27e72-3ae2-4ba6-90c6-1078cc2f59b5 button.colab-df-convert');\n",
              "        buttonEl.style.display =\n",
              "          google.colab.kernel.accessAllowed ? 'block' : 'none';\n",
              "\n",
              "        async function convertToInteractive(key) {\n",
              "          const element = document.querySelector('#df-43c27e72-3ae2-4ba6-90c6-1078cc2f59b5');\n",
              "          const dataTable =\n",
              "            await google.colab.kernel.invokeFunction('convertToInteractive',\n",
              "                                                     [key], {});\n",
              "          if (!dataTable) return;\n",
              "\n",
              "          const docLinkHtml = 'Like what you see? Visit the ' +\n",
              "            '<a target=\"_blank\" href=https://colab.research.google.com/notebooks/data_table.ipynb>data table notebook</a>'\n",
              "            + ' to learn more about interactive tables.';\n",
              "          element.innerHTML = '';\n",
              "          dataTable['output_type'] = 'display_data';\n",
              "          await google.colab.output.renderOutput(dataTable, element);\n",
              "          const docLink = document.createElement('div');\n",
              "          docLink.innerHTML = docLinkHtml;\n",
              "          element.appendChild(docLink);\n",
              "        }\n",
              "      </script>\n",
              "    </div>\n",
              "  </div>\n",
              "  "
            ],
            "text/plain": [
              "   edible-poisonous  cap-diameter  cap-shape  ...  ring-type  habitat  season\n",
              "0                 1          5.75          6  ...          1        0       a\n",
              "1                 1          2.27          3  ...          1        0       s\n",
              "2                 1          5.59          1  ...          1        0       a\n",
              "3                 1          0.74          6  ...          1        0       a\n",
              "4                 1          9.60          6  ...          1        0       u\n",
              "\n",
              "[5 rows x 14 columns]"
            ]
          },
          "metadata": {},
          "execution_count": 42
        }
      ]
    },
    {
      "cell_type": "code",
      "source": [
        "df_new_test.head()"
      ],
      "metadata": {
        "colab": {
          "base_uri": "https://localhost:8080/",
          "height": 322
        },
        "id": "de7_W1XZ6GRj",
        "outputId": "dcd5440c-ffe9-497f-b5b0-e1b8d72d769f"
      },
      "execution_count": null,
      "outputs": [
        {
          "output_type": "execute_result",
          "data": {
            "text/html": [
              "\n",
              "  <div id=\"df-04ef342b-c5c6-4457-af85-c823e0a24a58\">\n",
              "    <div class=\"colab-df-container\">\n",
              "      <div>\n",
              "<style scoped>\n",
              "    .dataframe tbody tr th:only-of-type {\n",
              "        vertical-align: middle;\n",
              "    }\n",
              "\n",
              "    .dataframe tbody tr th {\n",
              "        vertical-align: top;\n",
              "    }\n",
              "\n",
              "    .dataframe thead th {\n",
              "        text-align: right;\n",
              "    }\n",
              "</style>\n",
              "<table border=\"1\" class=\"dataframe\">\n",
              "  <thead>\n",
              "    <tr style=\"text-align: right;\">\n",
              "      <th></th>\n",
              "      <th>edible-poisonous</th>\n",
              "      <th>cap-diameter</th>\n",
              "      <th>cap-shape</th>\n",
              "      <th>cap-color</th>\n",
              "      <th>does-bruise-or-bleed</th>\n",
              "      <th>gill-attachment</th>\n",
              "      <th>gill-color</th>\n",
              "      <th>stem-height</th>\n",
              "      <th>stem-width</th>\n",
              "      <th>stem-color</th>\n",
              "      <th>has-ring</th>\n",
              "      <th>ring-type</th>\n",
              "      <th>habitat</th>\n",
              "      <th>season</th>\n",
              "    </tr>\n",
              "  </thead>\n",
              "  <tbody>\n",
              "    <tr>\n",
              "      <th>0</th>\n",
              "      <td>0</td>\n",
              "      <td>4.68</td>\n",
              "      <td>6</td>\n",
              "      <td>10</td>\n",
              "      <td>0</td>\n",
              "      <td>6</td>\n",
              "      <td>10</td>\n",
              "      <td>8.22</td>\n",
              "      <td>9.58</td>\n",
              "      <td>6</td>\n",
              "      <td>1</td>\n",
              "      <td>1</td>\n",
              "      <td>1</td>\n",
              "      <td>NaN</td>\n",
              "    </tr>\n",
              "    <tr>\n",
              "      <th>1</th>\n",
              "      <td>1</td>\n",
              "      <td>10.33</td>\n",
              "      <td>6</td>\n",
              "      <td>11</td>\n",
              "      <td>0</td>\n",
              "      <td>0</td>\n",
              "      <td>11</td>\n",
              "      <td>11.98</td>\n",
              "      <td>13.29</td>\n",
              "      <td>12</td>\n",
              "      <td>1</td>\n",
              "      <td>1</td>\n",
              "      <td>0</td>\n",
              "      <td>NaN</td>\n",
              "    </tr>\n",
              "    <tr>\n",
              "      <th>2</th>\n",
              "      <td>1</td>\n",
              "      <td>9.26</td>\n",
              "      <td>6</td>\n",
              "      <td>10</td>\n",
              "      <td>1</td>\n",
              "      <td>0</td>\n",
              "      <td>10</td>\n",
              "      <td>7.41</td>\n",
              "      <td>12.68</td>\n",
              "      <td>11</td>\n",
              "      <td>1</td>\n",
              "      <td>3</td>\n",
              "      <td>1</td>\n",
              "      <td>NaN</td>\n",
              "    </tr>\n",
              "    <tr>\n",
              "      <th>3</th>\n",
              "      <td>1</td>\n",
              "      <td>14.90</td>\n",
              "      <td>5</td>\n",
              "      <td>10</td>\n",
              "      <td>1</td>\n",
              "      <td>1</td>\n",
              "      <td>10</td>\n",
              "      <td>5.33</td>\n",
              "      <td>23.03</td>\n",
              "      <td>11</td>\n",
              "      <td>0</td>\n",
              "      <td>1</td>\n",
              "      <td>0</td>\n",
              "      <td>NaN</td>\n",
              "    </tr>\n",
              "    <tr>\n",
              "      <th>4</th>\n",
              "      <td>1</td>\n",
              "      <td>1.01</td>\n",
              "      <td>6</td>\n",
              "      <td>10</td>\n",
              "      <td>0</td>\n",
              "      <td>0</td>\n",
              "      <td>10</td>\n",
              "      <td>3.17</td>\n",
              "      <td>1.64</td>\n",
              "      <td>1</td>\n",
              "      <td>0</td>\n",
              "      <td>1</td>\n",
              "      <td>3</td>\n",
              "      <td>NaN</td>\n",
              "    </tr>\n",
              "  </tbody>\n",
              "</table>\n",
              "</div>\n",
              "      <button class=\"colab-df-convert\" onclick=\"convertToInteractive('df-04ef342b-c5c6-4457-af85-c823e0a24a58')\"\n",
              "              title=\"Convert this dataframe to an interactive table.\"\n",
              "              style=\"display:none;\">\n",
              "        \n",
              "  <svg xmlns=\"http://www.w3.org/2000/svg\" height=\"24px\"viewBox=\"0 0 24 24\"\n",
              "       width=\"24px\">\n",
              "    <path d=\"M0 0h24v24H0V0z\" fill=\"none\"/>\n",
              "    <path d=\"M18.56 5.44l.94 2.06.94-2.06 2.06-.94-2.06-.94-.94-2.06-.94 2.06-2.06.94zm-11 1L8.5 8.5l.94-2.06 2.06-.94-2.06-.94L8.5 2.5l-.94 2.06-2.06.94zm10 10l.94 2.06.94-2.06 2.06-.94-2.06-.94-.94-2.06-.94 2.06-2.06.94z\"/><path d=\"M17.41 7.96l-1.37-1.37c-.4-.4-.92-.59-1.43-.59-.52 0-1.04.2-1.43.59L10.3 9.45l-7.72 7.72c-.78.78-.78 2.05 0 2.83L4 21.41c.39.39.9.59 1.41.59.51 0 1.02-.2 1.41-.59l7.78-7.78 2.81-2.81c.8-.78.8-2.07 0-2.86zM5.41 20L4 18.59l7.72-7.72 1.47 1.35L5.41 20z\"/>\n",
              "  </svg>\n",
              "      </button>\n",
              "      \n",
              "  <style>\n",
              "    .colab-df-container {\n",
              "      display:flex;\n",
              "      flex-wrap:wrap;\n",
              "      gap: 12px;\n",
              "    }\n",
              "\n",
              "    .colab-df-convert {\n",
              "      background-color: #E8F0FE;\n",
              "      border: none;\n",
              "      border-radius: 50%;\n",
              "      cursor: pointer;\n",
              "      display: none;\n",
              "      fill: #1967D2;\n",
              "      height: 32px;\n",
              "      padding: 0 0 0 0;\n",
              "      width: 32px;\n",
              "    }\n",
              "\n",
              "    .colab-df-convert:hover {\n",
              "      background-color: #E2EBFA;\n",
              "      box-shadow: 0px 1px 2px rgba(60, 64, 67, 0.3), 0px 1px 3px 1px rgba(60, 64, 67, 0.15);\n",
              "      fill: #174EA6;\n",
              "    }\n",
              "\n",
              "    [theme=dark] .colab-df-convert {\n",
              "      background-color: #3B4455;\n",
              "      fill: #D2E3FC;\n",
              "    }\n",
              "\n",
              "    [theme=dark] .colab-df-convert:hover {\n",
              "      background-color: #434B5C;\n",
              "      box-shadow: 0px 1px 3px 1px rgba(0, 0, 0, 0.15);\n",
              "      filter: drop-shadow(0px 1px 2px rgba(0, 0, 0, 0.3));\n",
              "      fill: #FFFFFF;\n",
              "    }\n",
              "  </style>\n",
              "\n",
              "      <script>\n",
              "        const buttonEl =\n",
              "          document.querySelector('#df-04ef342b-c5c6-4457-af85-c823e0a24a58 button.colab-df-convert');\n",
              "        buttonEl.style.display =\n",
              "          google.colab.kernel.accessAllowed ? 'block' : 'none';\n",
              "\n",
              "        async function convertToInteractive(key) {\n",
              "          const element = document.querySelector('#df-04ef342b-c5c6-4457-af85-c823e0a24a58');\n",
              "          const dataTable =\n",
              "            await google.colab.kernel.invokeFunction('convertToInteractive',\n",
              "                                                     [key], {});\n",
              "          if (!dataTable) return;\n",
              "\n",
              "          const docLinkHtml = 'Like what you see? Visit the ' +\n",
              "            '<a target=\"_blank\" href=https://colab.research.google.com/notebooks/data_table.ipynb>data table notebook</a>'\n",
              "            + ' to learn more about interactive tables.';\n",
              "          element.innerHTML = '';\n",
              "          dataTable['output_type'] = 'display_data';\n",
              "          await google.colab.output.renderOutput(dataTable, element);\n",
              "          const docLink = document.createElement('div');\n",
              "          docLink.innerHTML = docLinkHtml;\n",
              "          element.appendChild(docLink);\n",
              "        }\n",
              "      </script>\n",
              "    </div>\n",
              "  </div>\n",
              "  "
            ],
            "text/plain": [
              "   edible-poisonous  cap-diameter  cap-shape  ...  ring-type  habitat  season\n",
              "0                 0          4.68          6  ...          1        1     NaN\n",
              "1                 1         10.33          6  ...          1        0     NaN\n",
              "2                 1          9.26          6  ...          3        1     NaN\n",
              "3                 1         14.90          5  ...          1        0     NaN\n",
              "4                 1          1.01          6  ...          1        3     NaN\n",
              "\n",
              "[5 rows x 14 columns]"
            ]
          },
          "metadata": {},
          "execution_count": 43
        }
      ]
    },
    {
      "cell_type": "markdown",
      "source": [
        "**Splitting X and Y**"
      ],
      "metadata": {
        "id": "zvV8PVggZRXy"
      }
    },
    {
      "cell_type": "code",
      "source": [
        "x_train = df_new_train.iloc[:,0:13]"
      ],
      "metadata": {
        "id": "9vr0x8zFGhMQ"
      },
      "execution_count": null,
      "outputs": []
    },
    {
      "cell_type": "code",
      "source": [
        "y=pd.factorize(df_new_train['season'])"
      ],
      "metadata": {
        "id": "PsC7CXLKATsI"
      },
      "execution_count": null,
      "outputs": []
    },
    {
      "cell_type": "code",
      "source": [
        "x_test_data = df_new_test.iloc[:,0:13]"
      ],
      "metadata": {
        "id": "AtTwy5GO7xpO"
      },
      "execution_count": null,
      "outputs": []
    },
    {
      "cell_type": "markdown",
      "source": [
        "**Standardization**"
      ],
      "metadata": {
        "id": "Hriv3p83Zeko"
      }
    },
    {
      "cell_type": "code",
      "source": [
        "from sklearn.preprocessing import StandardScaler\n",
        "x_scale_train = StandardScaler().fit_transform(x_train)"
      ],
      "metadata": {
        "id": "kzXvSGeCpowU"
      },
      "execution_count": null,
      "outputs": []
    },
    {
      "cell_type": "code",
      "source": [
        "from sklearn.preprocessing import StandardScaler\n",
        "x_scale_test = StandardScaler().fit_transform(x_test_data)"
      ],
      "metadata": {
        "id": "6SOleMZG8SXe"
      },
      "execution_count": null,
      "outputs": []
    },
    {
      "cell_type": "markdown",
      "source": [
        "**Splitting Train and Test**"
      ],
      "metadata": {
        "id": "qKecbWFwZjm9"
      }
    },
    {
      "cell_type": "code",
      "source": [
        "from sklearn.model_selection import train_test_split\n",
        "x_train,x_test,y_train,y_test = train_test_split(x_scale_train,y, test_size=0.25, random_state=20, stratify=y)"
      ],
      "metadata": {
        "id": "__Px7Jxd8uHU"
      },
      "execution_count": null,
      "outputs": []
    },
    {
      "cell_type": "markdown",
      "source": [
        "**Train KNN Model with train data Data Set**"
      ],
      "metadata": {
        "id": "HzDiaNgLZqgY"
      }
    },
    {
      "cell_type": "code",
      "source": [
        "from sklearn.neighbors import KNeighborsClassifier\n",
        "KNN_CLF = KNeighborsClassifier()\n",
        "KNN_CLF.fit(x_train,y_train)\n",
        "y_pred_knn = KNN_CLF.predict(x_test)"
      ],
      "metadata": {
        "id": "hEuALNe5gBbn"
      },
      "execution_count": null,
      "outputs": []
    },
    {
      "cell_type": "code",
      "source": [
        "y_pred_knn"
      ],
      "metadata": {
        "colab": {
          "base_uri": "https://localhost:8080/"
        },
        "id": "pVIYVBjR4ges",
        "outputId": "a23f3015-071c-4d16-9626-e7eb5043ed69"
      },
      "execution_count": null,
      "outputs": [
        {
          "output_type": "execute_result",
          "data": {
            "text/plain": [
              "array(['a', 'a', 'a', ..., 'a', 'a', 'u'], dtype=object)"
            ]
          },
          "metadata": {},
          "execution_count": 179
        }
      ]
    },
    {
      "cell_type": "code",
      "source": [
        "from sklearn.metrics import confusion_matrix, accuracy_score,classification_report"
      ],
      "metadata": {
        "id": "zA60zrbhhLXB"
      },
      "execution_count": null,
      "outputs": []
    },
    {
      "cell_type": "code",
      "source": [
        "KNN_acc = accuracy_score(y_test,y_pred_knn)\n",
        "print(KNN_acc)\n",
        "KNN_cm = confusion_matrix(y_test,y_pred_knn)\n",
        "print(KNN_cm)\n",
        "KNN_cr = classification_report(y_test,y_pred_knn)\n",
        "print(KNN_cr)"
      ],
      "metadata": {
        "id": "Z9G7zgbHBZNx",
        "colab": {
          "base_uri": "https://localhost:8080/"
        },
        "outputId": "19982dc8-af69-4ecf-a8d8-2a7d969825a1"
      },
      "execution_count": null,
      "outputs": [
        {
          "output_type": "stream",
          "name": "stdout",
          "text": [
            "0.51973751666154\n",
            "[[2815  109 1696  249]\n",
            " [ 110  191   87   41]\n",
            " [1678  114 1795   83]\n",
            " [ 376   58   83  268]]\n",
            "              precision    recall  f1-score   support\n",
            "\n",
            "           a       0.57      0.58      0.57      4869\n",
            "           s       0.40      0.45      0.42       429\n",
            "           u       0.49      0.49      0.49      3670\n",
            "           w       0.42      0.34      0.38       785\n",
            "\n",
            "    accuracy                           0.52      9753\n",
            "   macro avg       0.47      0.46      0.47      9753\n",
            "weighted avg       0.52      0.52      0.52      9753\n",
            "\n"
          ]
        }
      ]
    },
    {
      "cell_type": "code",
      "source": [
        "acc_score_knn"
      ],
      "metadata": {
        "colab": {
          "base_uri": "https://localhost:8080/"
        },
        "id": "TBpHTI3GhbrF",
        "outputId": "6dd6d1c2-1e41-493d-af42-e0a231a25dae"
      },
      "execution_count": null,
      "outputs": [
        {
          "output_type": "execute_result",
          "data": {
            "text/plain": [
              "0.51973751666154"
            ]
          },
          "metadata": {},
          "execution_count": 133
        }
      ]
    },
    {
      "cell_type": "markdown",
      "source": [
        "**Applying Test Data on Trained KN N model**"
      ],
      "metadata": {
        "id": "m7VpwX575Xy4"
      }
    },
    {
      "cell_type": "code",
      "source": [
        "y_pred_knn_test = KNN_CLF.predict(x_scale_test)"
      ],
      "metadata": {
        "id": "rXzGXE6T45y5"
      },
      "execution_count": null,
      "outputs": []
    },
    {
      "cell_type": "code",
      "source": [
        "y_pred_knn_test"
      ],
      "metadata": {
        "colab": {
          "base_uri": "https://localhost:8080/"
        },
        "id": "_pDJIEFj4-5I",
        "outputId": "561e8942-bb5c-4423-d7c3-ca8d2ef244bc"
      },
      "execution_count": null,
      "outputs": [
        {
          "output_type": "execute_result",
          "data": {
            "text/plain": [
              "array(['a', 'u', 'u', ..., 'u', 'u', 'a'], dtype=object)"
            ]
          },
          "metadata": {},
          "execution_count": 124
        }
      ]
    },
    {
      "cell_type": "code",
      "source": [
        "type(y_pred_knn_test)"
      ],
      "metadata": {
        "colab": {
          "base_uri": "https://localhost:8080/"
        },
        "id": "MsZ8fSZDL-Ir",
        "outputId": "fb74c5bc-399a-432e-b5cf-46d29e8db95c"
      },
      "execution_count": null,
      "outputs": [
        {
          "output_type": "execute_result",
          "data": {
            "text/plain": [
              "numpy.ndarray"
            ]
          },
          "metadata": {},
          "execution_count": 140
        }
      ]
    },
    {
      "cell_type": "code",
      "source": [
        "sub =pd.DataFrame(y_pred_knn_test)"
      ],
      "metadata": {
        "id": "g04caWlxMHS1"
      },
      "execution_count": null,
      "outputs": []
    },
    {
      "cell_type": "markdown",
      "source": [
        "**Export the Submission**"
      ],
      "metadata": {
        "id": "WOcQYtCKSKXg"
      }
    },
    {
      "cell_type": "code",
      "source": [
        "sub.to_excel(r'/content/drive/MyDrive/Hackathon/submission/Final_sub.xlsx', index = False)"
      ],
      "metadata": {
        "id": "eCf3BpzhJVPg"
      },
      "execution_count": null,
      "outputs": []
    },
    {
      "cell_type": "code",
      "source": [
        "test_accuracy =[]\n",
        "k_values = range(1,16)"
      ],
      "metadata": {
        "id": "1QdgrqJ4hjwB"
      },
      "execution_count": null,
      "outputs": []
    },
    {
      "cell_type": "code",
      "source": [
        "for i in k_values:\n",
        "    knn_clf =KNeighborsClassifier(n_neighbors=i, p=2)\n",
        "    KNN_CLF.fit(x_train,y_train)\n",
        "    y_pred_knn = KNN_CLF.predict(x_test)\n",
        "    test_accuracy.append(accuracy_score(y_pred_knn,y_test).round(2))"
      ],
      "metadata": {
        "id": "vjV7T_7Whs9X"
      },
      "execution_count": null,
      "outputs": []
    },
    {
      "cell_type": "code",
      "source": [
        "print(test_accuracy)"
      ],
      "metadata": {
        "colab": {
          "base_uri": "https://localhost:8080/"
        },
        "id": "Q8_Nt4tHipb2",
        "outputId": "fb1eed0a-06c0-4b80-e077-0b145f16696a"
      },
      "execution_count": null,
      "outputs": [
        {
          "output_type": "stream",
          "name": "stdout",
          "text": [
            "[0.52, 0.52, 0.52, 0.52, 0.52, 0.52, 0.52, 0.52, 0.52, 0.52, 0.52, 0.52, 0.52, 0.52, 0.52]\n"
          ]
        }
      ]
    },
    {
      "cell_type": "code",
      "source": [
        "import matplotlib.pyplot as plt\n",
        "plt.plot(k_values,test_accuracy)\n",
        "plt.legend()\n",
        "plt.show()"
      ],
      "metadata": {
        "colab": {
          "base_uri": "https://localhost:8080/",
          "height": 283
        },
        "id": "vd3ZidCCi4Hl",
        "outputId": "8189b077-9902-48c7-db11-6aaf417750c6"
      },
      "execution_count": null,
      "outputs": [
        {
          "output_type": "stream",
          "name": "stderr",
          "text": [
            "No handles with labels found to put in legend.\n"
          ]
        },
        {
          "output_type": "display_data",
          "data": {
            "image/png": "[encoded data removed]",
            "text/plain": [
              "<Figure size 432x288 with 1 Axes>"
            ]
          },
          "metadata": {
            "needs_background": "light"
          }
        }
      ]
    },
    {
      "cell_type": "markdown",
      "source": [
        "**Model fitting of SVM with training data set**"
      ],
      "metadata": {
        "id": "SBpcvehlaID0"
      }
    },
    {
      "cell_type": "code",
      "source": [
        "from sklearn.svm import SVC\n",
        "sv_clf = SVC(kernel = \"rbf\", gamma = 'auto')\n",
        "sv_clf.fit(x_train,y_train)\n",
        "y_pred_sv = sv_clf.predict(x_test)"
      ],
      "metadata": {
        "id": "voLNrbtJjaMl"
      },
      "execution_count": null,
      "outputs": []
    },
    {
      "cell_type": "code",
      "source": [
        "SVM_acc = accuracy_score(y_test,y_pred_sv)\n",
        "print(SVM_acc)\n",
        "SVM_cm = confusion_matrix(y_test,y_pred_sv)\n",
        "print(SVM_cm)\n",
        "SVM_cr = classification_report(y_test,y_pred_sv)\n",
        "print(SVM_cr)"
      ],
      "metadata": {
        "colab": {
          "base_uri": "https://localhost:8080/"
        },
        "id": "oxW2BCFLko87",
        "outputId": "15f0db9e-7a88-4c14-8eb3-9c8f06e17bb7"
      },
      "execution_count": null,
      "outputs": [
        {
          "output_type": "stream",
          "name": "stdout",
          "text": [
            "0.5277350558802419\n",
            "[[3410   24 1289  146]\n",
            " [ 146  103  134   46]\n",
            " [2064   37 1481   88]\n",
            " [ 497   23  112  153]]\n",
            "              precision    recall  f1-score   support\n",
            "\n",
            "           a       0.56      0.70      0.62      4869\n",
            "           s       0.55      0.24      0.33       429\n",
            "           u       0.49      0.40      0.44      3670\n",
            "           w       0.35      0.19      0.25       785\n",
            "\n",
            "    accuracy                           0.53      9753\n",
            "   macro avg       0.49      0.38      0.41      9753\n",
            "weighted avg       0.52      0.53      0.51      9753\n",
            "\n"
          ]
        }
      ]
    },
    {
      "cell_type": "code",
      "source": [
        "y_pred_sv_test = sv_clf.predict(x_scale_test)"
      ],
      "metadata": {
        "id": "BB559Xwl7ZOk"
      },
      "execution_count": null,
      "outputs": []
    },
    {
      "cell_type": "code",
      "source": [
        "y_pred_sv_test"
      ],
      "metadata": {
        "colab": {
          "base_uri": "https://localhost:8080/"
        },
        "id": "NmZAwF3Y7i33",
        "outputId": "8621ab12-d755-4d4c-e684-0718a331ed42"
      },
      "execution_count": null,
      "outputs": [
        {
          "output_type": "execute_result",
          "data": {
            "text/plain": [
              "array(['u', 'a', 'a', ..., 'a', 'u', 'u'], dtype=object)"
            ]
          },
          "metadata": {},
          "execution_count": 186
        }
      ]
    },
    {
      "cell_type": "markdown",
      "source": [
        "**Model fitting with Logistic Regression**"
      ],
      "metadata": {
        "id": "D5qxFxJjay9U"
      }
    },
    {
      "cell_type": "code",
      "source": [
        "from sklearn.linear_model import LogisticRegression\n",
        "log_reg = LogisticRegression()\n",
        "log_reg.fit(x_train,y_train)\n",
        "y_pred_log = log_reg.predict(x_test)"
      ],
      "metadata": {
        "id": "9EFU5d9KBtM0"
      },
      "execution_count": null,
      "outputs": []
    },
    {
      "cell_type": "code",
      "source": [
        "y_pred_log"
      ],
      "metadata": {
        "colab": {
          "base_uri": "https://localhost:8080/"
        },
        "id": "dugtdYWVEizk",
        "outputId": "5ca15fff-e1dc-4011-bf93-8a8e4b25560d"
      },
      "execution_count": null,
      "outputs": [
        {
          "output_type": "execute_result",
          "data": {
            "text/plain": [
              "array(['a', 'a', 'a', ..., 'a', 'a', 'a'], dtype=object)"
            ]
          },
          "metadata": {},
          "execution_count": 193
        }
      ]
    },
    {
      "cell_type": "code",
      "source": [
        "LR_acc = accuracy_score(y_test,y_pred_log)\n",
        "print(LR_acc)\n",
        "LR_cm = confusion_matrix(y_test,y_pred_log)\n",
        "print(LR_cm)\n",
        "LR_cr = classification_report(y_test,y_pred_log)\n",
        "print(LR_cr)"
      ],
      "metadata": {
        "id": "2_zvim6cEsfd",
        "colab": {
          "base_uri": "https://localhost:8080/"
        },
        "outputId": "71294c03-e3f9-4f5e-b4b5-b48a499a27dc"
      },
      "execution_count": null,
      "outputs": [
        {
          "output_type": "stream",
          "name": "stdout",
          "text": [
            "0.4994360709525274\n",
            "[[4407    0  397   65]\n",
            " [ 355   18   56    0]\n",
            " [3238    0  419   13]\n",
            " [ 727    2   29   27]]\n",
            "              precision    recall  f1-score   support\n",
            "\n",
            "           a       0.50      0.91      0.65      4869\n",
            "           s       0.90      0.04      0.08       429\n",
            "           u       0.47      0.11      0.18      3670\n",
            "           w       0.26      0.03      0.06       785\n",
            "\n",
            "    accuracy                           0.50      9753\n",
            "   macro avg       0.53      0.27      0.24      9753\n",
            "weighted avg       0.49      0.50      0.40      9753\n",
            "\n"
          ]
        }
      ]
    },
    {
      "cell_type": "code",
      "source": [
        "y_pred_log_test = log_reg.predict(x_scale_test)"
      ],
      "metadata": {
        "id": "0Ll6E5ofEsa-"
      },
      "execution_count": null,
      "outputs": []
    },
    {
      "cell_type": "code",
      "source": [
        "y_pred_log_test"
      ],
      "metadata": {
        "colab": {
          "base_uri": "https://localhost:8080/"
        },
        "id": "Ys7iF5cze9q2",
        "outputId": "7b772040-bc41-4610-edc1-58afce4de39e"
      },
      "execution_count": null,
      "outputs": [
        {
          "output_type": "execute_result",
          "data": {
            "text/plain": [
              "array(['u', 'a', 'u', ..., 'a', 'a', 'a'], dtype=object)"
            ]
          },
          "metadata": {},
          "execution_count": 196
        }
      ]
    },
    {
      "cell_type": "markdown",
      "source": [
        "**Model fitting of training Data Set with Decision Tree**"
      ],
      "metadata": {
        "id": "-fBIbx-Oa8ny"
      }
    },
    {
      "cell_type": "code",
      "source": [
        "from sklearn.tree import DecisionTreeClassifier\n",
        "DT = DecisionTreeClassifier(criterion = \"entropy\", max_depth=None)\n",
        "DT.fit(x_train,y_train)\n",
        "y_pred_dt = DT.predict(x_test)"
      ],
      "metadata": {
        "id": "GFeaPfqPCl7x"
      },
      "execution_count": null,
      "outputs": []
    },
    {
      "cell_type": "code",
      "source": [
        "y_pred_dt"
      ],
      "metadata": {
        "colab": {
          "base_uri": "https://localhost:8080/"
        },
        "id": "JUDVUsBdN1Zh",
        "outputId": "5d6897f3-b5cb-4e02-d222-f1126ed570a1"
      },
      "execution_count": null,
      "outputs": [
        {
          "output_type": "execute_result",
          "data": {
            "text/plain": [
              "array(['a', 'a', 'a', ..., 'u', 'a', 'u'], dtype=object)"
            ]
          },
          "metadata": {},
          "execution_count": 171
        }
      ]
    },
    {
      "cell_type": "code",
      "source": [
        "DT_acc = accuracy_score(y_test,y_pred_dt)\n",
        "print(DT_acc)\n",
        "DT_cm = confusion_matrix(y_test,y_pred_dt)\n",
        "print(DT_cm)\n",
        "DT_cr = classification_report(y_test,y_pred_dt)\n",
        "print(DT_cr)"
      ],
      "metadata": {
        "id": "Pcr3XqNLOb8O",
        "colab": {
          "base_uri": "https://localhost:8080/"
        },
        "outputId": "556a9506-0ba9-478e-e61a-e5cfc52406cf"
      },
      "execution_count": null,
      "outputs": [
        {
          "output_type": "stream",
          "name": "stdout",
          "text": [
            "0.5100994565774634\n",
            "[[2738   96 1702  333]\n",
            " [  94  174  105   56]\n",
            " [1697  112 1755  106]\n",
            " [ 317   52  108  308]]\n",
            "              precision    recall  f1-score   support\n",
            "\n",
            "           a       0.57      0.56      0.56      4869\n",
            "           s       0.40      0.41      0.40       429\n",
            "           u       0.48      0.48      0.48      3670\n",
            "           w       0.38      0.39      0.39       785\n",
            "\n",
            "    accuracy                           0.51      9753\n",
            "   macro avg       0.46      0.46      0.46      9753\n",
            "weighted avg       0.51      0.51      0.51      9753\n",
            "\n"
          ]
        }
      ]
    },
    {
      "cell_type": "code",
      "source": [
        "dt_score = []\n",
        "md = range(1,57)\n",
        "for i in md:\n",
        "    dt = DecisionTreeClassifier(criterion = \"entropy\", max_depth=i)\n",
        "    dt.fit(x_train,y_train)\n",
        "    dt_pred = dt.predict(x_test)\n",
        "    dt_score.append(accuracy_score(y_test,dt_pred))\n",
        "print(dt_score)"
      ],
      "metadata": {
        "colab": {
          "base_uri": "https://localhost:8080/"
        },
        "id": "sz-_bXE5aNf7",
        "outputId": "e712e9e7-aa06-45fe-ad4d-c8c09d43885a"
      },
      "execution_count": null,
      "outputs": [
        {
          "output_type": "stream",
          "name": "stdout",
          "text": [
            "[0.4992310058443556, 0.49912847329026966, 0.5002563313852149, 0.5071260125089716, 0.5021019173587614, 0.5178919306879934, 0.5124577053214395, 0.515738747052189, 0.5130729006459551, 0.5177893981339076, 0.5148159540654158, 0.5168666051471342, 0.513175433200041, 0.5180969957961653, 0.5183020609043372, 0.5223008305136881, 0.5133804983082129, 0.5113298472264944, 0.5127653029836973, 0.5125602378755255, 0.5169691377012201, 0.513175433200041, 0.5100994565774634, 0.5167640725930482, 0.5176868655798216, 0.5151235517276735, 0.5155336819440173, 0.5161488772685328, 0.5159438121603609, 0.5153286168358454, 0.5143032912949862, 0.5133804983082129, 0.5119450425510099, 0.5140982261868143, 0.5147134215113298, 0.5133804983082129, 0.5148159540654158, 0.5130729006459551, 0.510509586793807, 0.5137906285245566, 0.5173792679175638, 0.5119450425510099, 0.5112273146724085, 0.5148159540654158, 0.5138931610786425, 0.5135855634163847, 0.5123551727673537, 0.5144058238490721, 0.5143032912949862, 0.5122526402132677, 0.5148159540654158, 0.515738747052189, 0.511842509996924, 0.5098943914692915, 0.5135855634163847, 0.5134830308622987]\n"
          ]
        }
      ]
    },
    {
      "cell_type": "code",
      "source": [
        "import matplotlib.pyplot as plt\n",
        "plt.plot(md,dt_score)\n",
        "plt.legend()"
      ],
      "metadata": {
        "colab": {
          "base_uri": "https://localhost:8080/",
          "height": 300
        },
        "id": "73yjiUBDhUuA",
        "outputId": "f8056c34-26af-40e5-c4a8-ed1a1224c049"
      },
      "execution_count": null,
      "outputs": [
        {
          "output_type": "stream",
          "name": "stderr",
          "text": [
            "No handles with labels found to put in legend.\n"
          ]
        },
        {
          "output_type": "execute_result",
          "data": {
            "text/plain": [
              "<matplotlib.legend.Legend at 0x7f8ebd4bce50>"
            ]
          },
          "metadata": {},
          "execution_count": 200
        },
        {
          "output_type": "display_data",
          "data": {
            "image/png": "[encoded data removed]",
            "text/plain": [
              "<Figure size 432x288 with 1 Axes>"
            ]
          },
          "metadata": {
            "needs_background": "light"
          }
        }
      ]
    },
    {
      "cell_type": "code",
      "source": [
        "y_pred_dt_test = DT.predict(x_scale_test)"
      ],
      "metadata": {
        "id": "6lGZdQfSaA-a"
      },
      "execution_count": null,
      "outputs": []
    },
    {
      "cell_type": "code",
      "source": [
        "y_pred_dt_test"
      ],
      "metadata": {
        "colab": {
          "base_uri": "https://localhost:8080/"
        },
        "id": "kyuQd2HAaTrb",
        "outputId": "f1c0774e-3854-4555-cfe6-637f7562ad9b"
      },
      "execution_count": null,
      "outputs": [
        {
          "output_type": "execute_result",
          "data": {
            "text/plain": [
              "array(['u', 'a', 'u', ..., 'u', 'a', 'a'], dtype=object)"
            ]
          },
          "metadata": {},
          "execution_count": 163
        }
      ]
    },
    {
      "cell_type": "code",
      "source": [
        "DT.tree_.node_count"
      ],
      "metadata": {
        "colab": {
          "base_uri": "https://localhost:8080/"
        },
        "id": "ul3V8VNPadth",
        "outputId": "d0041f70-4c62-46c3-895f-4010069ba514"
      },
      "execution_count": null,
      "outputs": [
        {
          "output_type": "execute_result",
          "data": {
            "text/plain": [
              "18745"
            ]
          },
          "metadata": {},
          "execution_count": 164
        }
      ]
    },
    {
      "cell_type": "code",
      "source": [
        "DT.tree_.max_depth"
      ],
      "metadata": {
        "colab": {
          "base_uri": "https://localhost:8080/"
        },
        "id": "PUg3BJa3aqcp",
        "outputId": "854cebad-4770-4512-d17a-a38ef0b48ed2"
      },
      "execution_count": null,
      "outputs": [
        {
          "output_type": "execute_result",
          "data": {
            "text/plain": [
              "50"
            ]
          },
          "metadata": {},
          "execution_count": 165
        }
      ]
    },
    {
      "cell_type": "markdown",
      "source": [
        "**Model fitting with Ensemble Methods**"
      ],
      "metadata": {
        "id": "NhbjIHPXbMGb"
      }
    },
    {
      "cell_type": "markdown",
      "source": [
        "**Ada Bosst**"
      ],
      "metadata": {
        "id": "Y3wRkc2Ibq2l"
      }
    },
    {
      "cell_type": "code",
      "source": [
        "from sklearn.ensemble import AdaBoostClassifier\n",
        "ADB = AdaBoostClassifier(base_estimator=DT, n_estimators=100)\n",
        "ADB.fit(x_train,y_train)\n",
        "y_pred_adab = ADB.predict(x_test)"
      ],
      "metadata": {
        "id": "uikal7aBJL1c"
      },
      "execution_count": null,
      "outputs": []
    },
    {
      "cell_type": "code",
      "source": [
        "adab_acc = accuracy_score(y_test,y_pred_adab)\n",
        "print(adab_acc)\n",
        "adab_cm = confusion_matrix(y_test,y_pred_adab)\n",
        "print(adab_cm)\n",
        "adab_cr = classification_report(y_test,y_pred_adab)\n",
        "print(adab_cr)"
      ],
      "metadata": {
        "id": "EBAtfcGxKmXk",
        "colab": {
          "base_uri": "https://localhost:8080/"
        },
        "outputId": "bb044c59-376a-4736-a707-96a432db2459"
      },
      "execution_count": null,
      "outputs": [
        {
          "output_type": "stream",
          "name": "stdout",
          "text": [
            "0.5206603096483133\n",
            "[[2816   85 1689  279]\n",
            " [ 103  160  122   44]\n",
            " [1659   92 1831   88]\n",
            " [ 371   32  111  271]]\n",
            "              precision    recall  f1-score   support\n",
            "\n",
            "           a       0.57      0.58      0.57      4869\n",
            "           s       0.43      0.37      0.40       429\n",
            "           u       0.49      0.50      0.49      3670\n",
            "           w       0.40      0.35      0.37       785\n",
            "\n",
            "    accuracy                           0.52      9753\n",
            "   macro avg       0.47      0.45      0.46      9753\n",
            "weighted avg       0.52      0.52      0.52      9753\n",
            "\n"
          ]
        }
      ]
    },
    {
      "cell_type": "markdown",
      "source": [
        "**Gradient Boosting**"
      ],
      "metadata": {
        "id": "qYavOWhibxO2"
      }
    },
    {
      "cell_type": "code",
      "source": [
        "from sklearn.ensemble import GradientBoostingClassifier\n",
        "GRB = GradientBoostingClassifier(n_estimators=100)\n",
        "GRB.fit(x_train,y_train)\n",
        "y_pred_grb= GRB.predict(x_test)"
      ],
      "metadata": {
        "id": "p4gF9DRhK2Ht"
      },
      "execution_count": null,
      "outputs": []
    },
    {
      "cell_type": "code",
      "source": [
        "grb_acc = accuracy_score(y_test,y_pred_grb)\n",
        "print(grb_acc)\n",
        "grb_cm = confusion_matrix(y_test,y_pred_grb)\n",
        "print(grb_cm)\n",
        "grb_cr = classification_report(y_test,y_pred_grb)\n",
        "print(grb_cr)"
      ],
      "metadata": {
        "id": "g2QbKkTNLbPM",
        "colab": {
          "base_uri": "https://localhost:8080/"
        },
        "outputId": "b45e1ca8-f78f-4150-fc5f-89b800414160"
      },
      "execution_count": null,
      "outputs": [
        {
          "output_type": "stream",
          "name": "stdout",
          "text": [
            "0.5166615400389624\n",
            "[[3623   19 1089  138]\n",
            " [ 156  110  148   15]\n",
            " [2393   44 1192   41]\n",
            " [ 560    9  102  114]]\n",
            "              precision    recall  f1-score   support\n",
            "\n",
            "           a       0.54      0.74      0.62      4869\n",
            "           s       0.60      0.26      0.36       429\n",
            "           u       0.47      0.32      0.38      3670\n",
            "           w       0.37      0.15      0.21       785\n",
            "\n",
            "    accuracy                           0.52      9753\n",
            "   macro avg       0.50      0.37      0.39      9753\n",
            "weighted avg       0.50      0.52      0.49      9753\n",
            "\n"
          ]
        }
      ]
    },
    {
      "cell_type": "code",
      "source": [
        "import numpy as np\n",
        "np.arange(0.01,0.2,0.01)\n",
        "range(1,100)"
      ],
      "metadata": {
        "colab": {
          "base_uri": "https://localhost:8080/"
        },
        "id": "G9OS5JVpm7yJ",
        "outputId": "c13e9276-0617-456a-c6a0-6bdb2885f83b"
      },
      "execution_count": null,
      "outputs": [
        {
          "output_type": "execute_result",
          "data": {
            "text/plain": [
              "range(1, 100)"
            ]
          },
          "metadata": {},
          "execution_count": 232
        }
      ]
    },
    {
      "cell_type": "code",
      "source": [
        "np.arange(0.01,0.2,0.01)\n"
      ],
      "metadata": {
        "colab": {
          "base_uri": "https://localhost:8080/"
        },
        "id": "jbff5P_3pwFa",
        "outputId": "176fadd0-5dd1-4601-b54d-f86df57bc003"
      },
      "execution_count": null,
      "outputs": [
        {
          "output_type": "execute_result",
          "data": {
            "text/plain": [
              "array([0.01, 0.02, 0.03, 0.04, 0.05, 0.06, 0.07, 0.08, 0.09, 0.1 , 0.11,\n",
              "       0.12, 0.13, 0.14, 0.15, 0.16, 0.17, 0.18, 0.19])"
            ]
          },
          "metadata": {},
          "execution_count": 233
        }
      ]
    },
    {
      "cell_type": "code",
      "source": [
        "y_test"
      ],
      "metadata": {
        "colab": {
          "base_uri": "https://localhost:8080/"
        },
        "id": "32vC9_D7oo9w",
        "outputId": "998d98ca-3a85-4714-d0b7-874776a030cb"
      },
      "execution_count": null,
      "outputs": [
        {
          "output_type": "execute_result",
          "data": {
            "text/plain": [
              "19893    a\n",
              "32235    a\n",
              "13939    a\n",
              "17470    a\n",
              "22714    u\n",
              "        ..\n",
              "37601    a\n",
              "39691    u\n",
              "640      a\n",
              "32256    u\n",
              "38284    u\n",
              "Name: season, Length: 9753, dtype: object"
            ]
          },
          "metadata": {},
          "execution_count": 226
        }
      ]
    },
    {
      "cell_type": "code",
      "source": [
        "y_pred_grb"
      ],
      "metadata": {
        "colab": {
          "base_uri": "https://localhost:8080/"
        },
        "id": "1H7-paI7ovQB",
        "outputId": "d09bcfd7-3ec3-4147-f5ec-08ca516be8a0"
      },
      "execution_count": null,
      "outputs": [
        {
          "output_type": "execute_result",
          "data": {
            "text/plain": [
              "array(['a', 'a', 'a', ..., 'a', 'a', 'a'], dtype=object)"
            ]
          },
          "metadata": {},
          "execution_count": 227
        }
      ]
    },
    {
      "cell_type": "markdown",
      "source": [
        "**XG Boosting**"
      ],
      "metadata": {
        "id": "lxgS3hdhcEOg"
      }
    },
    {
      "cell_type": "code",
      "source": [
        "from xgboost import XGBClassifier\n",
        "XGB = XGBClassifier()\n",
        "XGB.fit(x_train,y_train)\n",
        "y_pred_xgb= XGB.predict(x_scale_test)"
      ],
      "metadata": {
        "id": "tZtcm_2XMF-_"
      },
      "execution_count": null,
      "outputs": []
    },
    {
      "cell_type": "code",
      "source": [
        "acc_score_xgb = accuracy_score(y_test,y_pred_xgb).round(3)"
      ],
      "metadata": {
        "id": "4yAZ5oXyMphg"
      },
      "execution_count": null,
      "outputs": []
    },
    {
      "cell_type": "code",
      "source": [
        "acc_score_xgb"
      ],
      "metadata": {
        "colab": {
          "base_uri": "https://localhost:8080/"
        },
        "id": "eBiDIUcnM0Ys",
        "outputId": "e1487368-1796-40ae-d913-ff3899072c67"
      },
      "execution_count": null,
      "outputs": [
        {
          "output_type": "execute_result",
          "data": {
            "text/plain": [
              "0.518"
            ]
          },
          "metadata": {},
          "execution_count": 61
        }
      ]
    },
    {
      "cell_type": "markdown",
      "source": [
        "**Model fitting With Bagging**"
      ],
      "metadata": {
        "id": "_quWpRIacYou"
      }
    },
    {
      "cell_type": "code",
      "source": [
        "from sklearn.ensemble import BaggingClassifier\n",
        "Bag= BaggingClassifier(base_estimator=DecisionTreeClassifier(), max_samples=0.9,\n",
        "                  n_estimators=500, random_state=10)"
      ],
      "metadata": {
        "id": "koSENNCBAH9P"
      },
      "execution_count": null,
      "outputs": []
    },
    {
      "cell_type": "code",
      "source": [
        "Bag.fit(x_train,y_train)"
      ],
      "metadata": {
        "colab": {
          "base_uri": "https://localhost:8080/"
        },
        "id": "lNFuZAr-AP09",
        "outputId": "472b93b6-af4b-4c7b-8021-db6e1f4a4441"
      },
      "execution_count": null,
      "outputs": [
        {
          "output_type": "execute_result",
          "data": {
            "text/plain": [
              "BaggingClassifier(base_estimator=DecisionTreeClassifier(), max_samples=0.9,\n",
              "                  n_estimators=500, random_state=10)"
            ]
          },
          "metadata": {},
          "execution_count": 205
        }
      ]
    },
    {
      "cell_type": "code",
      "source": [
        "y_pred_bag= Bag.predict(x_test)"
      ],
      "metadata": {
        "id": "8o7uemiEAlUt"
      },
      "execution_count": null,
      "outputs": []
    },
    {
      "cell_type": "code",
      "source": [
        "bag_acc = accuracy_score(y_test,y_pred_bag)\n",
        "print(bag_acc)\n",
        "bag_cm = confusion_matrix(y_test,y_pred_bag)\n",
        "print(bag_cm)\n",
        "bag_cr = classification_report(y_test,y_pred_bag)\n",
        "print(bag_cr)"
      ],
      "metadata": {
        "id": "7mjvO2dkA-rz",
        "colab": {
          "base_uri": "https://localhost:8080/"
        },
        "outputId": "920e87b9-5d28-433c-90f0-858e1ba383c0"
      },
      "execution_count": null,
      "outputs": [
        {
          "output_type": "stream",
          "name": "stdout",
          "text": [
            "0.5200451143237979\n",
            "[[2790   87 1692  300]\n",
            " [  89  188  105   47]\n",
            " [1653  121 1792  104]\n",
            " [ 344   44   95  302]]\n",
            "              precision    recall  f1-score   support\n",
            "\n",
            "           a       0.57      0.57      0.57      4869\n",
            "           s       0.43      0.44      0.43       429\n",
            "           u       0.49      0.49      0.49      3670\n",
            "           w       0.40      0.38      0.39       785\n",
            "\n",
            "    accuracy                           0.52      9753\n",
            "   macro avg       0.47      0.47      0.47      9753\n",
            "weighted avg       0.52      0.52      0.52      9753\n",
            "\n"
          ]
        }
      ]
    },
    {
      "cell_type": "code",
      "source": [
        "acc_score_bagging=[]\n",
        "settings = np.arange(0.1,1,0.1)"
      ],
      "metadata": {
        "id": "EKBGIowmBOV3"
      },
      "execution_count": null,
      "outputs": []
    },
    {
      "cell_type": "markdown",
      "source": [
        "No need to code Random State incase of Bagging. Bagging Will take care of Sample by default."
      ],
      "metadata": {
        "id": "I2PAcbYJj_AO"
      }
    },
    {
      "cell_type": "code",
      "source": [
        "for i in settings:\n",
        "    bag = BaggingClassifier(base_estimator=DT, max_samples=i, n_estimators=10)\n",
        "    bag.fit(x_train,y_train)\n",
        "    y_pred_bg = bag.predict(x_test)\n",
        "    acc_score_bagging.append(accuracy_score(y_pred_bg,y_test))\n",
        "print(acc_score_bagging)"
      ],
      "metadata": {
        "id": "5Nf4UyidBhSk",
        "colab": {
          "base_uri": "https://localhost:8080/"
        },
        "outputId": "9b20011e-0e1c-4b77-d202-2991bda60785"
      },
      "execution_count": null,
      "outputs": [
        {
          "output_type": "stream",
          "name": "stdout",
          "text": [
            "[0.5112273146724085, 0.5162514098226186, 0.5175843330257357, 0.515738747052189, 0.5159438121603609, 0.5162514098226186, 0.5176868655798216, 0.5215831026350867, 0.515841279606275, 0.523838818824977, 0.5201476468778837, 0.5196349841074541, 0.517276735363478, 0.5169691377012201, 0.5192248538911104, 0.5205577770942275, 0.5168666051471342, 0.5135855634163847]\n"
          ]
        }
      ]
    },
    {
      "cell_type": "markdown",
      "source": [
        "**Random Forest**"
      ],
      "metadata": {
        "id": "13bZw9p1sYN3"
      }
    },
    {
      "cell_type": "code",
      "source": [
        "from sklearn.ensemble import RandomForestClassifier\n",
        "RF = RandomForestClassifier(max_features=0.6, n_estimators=100)\n",
        "RF.fit(x_train,y_train)\n",
        "y_RF_pred = RF.predict(x_test)"
      ],
      "metadata": {
        "id": "Fn0MyjscsXLX"
      },
      "execution_count": null,
      "outputs": []
    },
    {
      "cell_type": "code",
      "source": [
        "RF_acc = accuracy_score(y_test,y_RF_pred)\n",
        "print(RF_acc)\n",
        "RF_cm = confusion_matrix(y_test,y_RF_pred)\n",
        "print(RF_cm)\n",
        "RF_cr = classification_report(y_test,y_RF_pred)\n",
        "print(RF_cr)"
      ],
      "metadata": {
        "colab": {
          "base_uri": "https://localhost:8080/"
        },
        "id": "iDTB2D7gsj5f",
        "outputId": "820e321a-8ad1-4e48-d178-ccf0a3c4d478"
      },
      "execution_count": null,
      "outputs": [
        {
          "output_type": "stream",
          "name": "stdout",
          "text": [
            "0.5190197887829385\n",
            "[[2792   86 1692  299]\n",
            " [  96  190   92   51]\n",
            " [1658  112 1791  109]\n",
            " [ 346   45  105  289]]\n",
            "              precision    recall  f1-score   support\n",
            "\n",
            "           a       0.57      0.57      0.57      4869\n",
            "           s       0.44      0.44      0.44       429\n",
            "           u       0.49      0.49      0.49      3670\n",
            "           w       0.39      0.37      0.38       785\n",
            "\n",
            "    accuracy                           0.52      9753\n",
            "   macro avg       0.47      0.47      0.47      9753\n",
            "weighted avg       0.52      0.52      0.52      9753\n",
            "\n"
          ]
        }
      ]
    },
    {
      "cell_type": "code",
      "source": [
        "RF_score = []\n",
        "setting = np.arange(0.1,1,0.1)\n",
        "for i in setting:\n",
        "    RF = RandomForestClassifier(max_features=i, n_estimators=100)\n",
        "    RF.fit(x_train,y_train)\n",
        "    RF_pred = RF.predict(x_test)\n",
        "    RF_score.append(accuracy_score(y_test,y_RF_pred))\n",
        "\n",
        "print(RF_score)"
      ],
      "metadata": {
        "colab": {
          "base_uri": "https://localhost:8080/"
        },
        "id": "UkhNB62-ste7",
        "outputId": "34122b55-5921-46e4-a6fa-fccd8a924efb"
      },
      "execution_count": null,
      "outputs": [
        {
          "output_type": "stream",
          "name": "stdout",
          "text": [
            "[0.5190197887829385, 0.5190197887829385, 0.5190197887829385, 0.5190197887829385, 0.5190197887829385, 0.5190197887829385, 0.5190197887829385, 0.5190197887829385, 0.5190197887829385]\n"
          ]
        }
      ]
    }
  ]
}